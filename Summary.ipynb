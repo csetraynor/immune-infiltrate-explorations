{
 "cells": [
  {
   "cell_type": "markdown",
   "metadata": {
    "cell_style": "center",
    "toc": "true"
   },
   "source": [
    "# Table of Contents\n",
    " <p><div class=\"lev1\"><a href=\"#Overview\"><span class=\"toc-item-num\">1&nbsp;&nbsp;</span>Overview</a></div><div class=\"lev1\"><a href=\"#Examination-of-raw-data:-there-is-a-lot-of-variance-that-current-methods-do-not-capture\"><span class=\"toc-item-num\">2&nbsp;&nbsp;</span>Examination of raw data: there is a lot of variance that current methods do not capture</a></div><div class=\"lev2\"><a href=\"#Among-samples-of-one-cell-type:-how-much-variation-is-there-in-genes-of-interest?-Is-variance-motivated?\"><span class=\"toc-item-num\">2.1&nbsp;&nbsp;</span>Among samples of one cell type: how much variation is there in genes of interest? Is variance motivated?</a></div><div class=\"lev2\"><a href=\"#What-do-selected-vs-unselected-genes-look-like-in-terms-of-their-expressions-across-samples-in-a-cell-type,-across-all-samples-in-all-cell-types-(sort),-across-average-expression-in-all-cell-types?\"><span class=\"toc-item-num\">2.2&nbsp;&nbsp;</span>What do selected vs unselected genes look like in terms of their expressions across samples in a cell type, across all samples in all cell types (sort), across average expression in all cell types?</a></div><div class=\"lev1\"><a href=\"#Examination-of-reference-profile-selection-output\"><span class=\"toc-item-num\">3&nbsp;&nbsp;</span>Examination of reference profile selection output</a></div><div class=\"lev2\"><a href=\"#Raw-vs-processed-reference-samples\"><span class=\"toc-item-num\">3.1&nbsp;&nbsp;</span>Raw vs processed reference samples</a></div><div class=\"lev2\"><a href=\"#Differences-between-methods\"><span class=\"toc-item-num\">3.2&nbsp;&nbsp;</span>Differences between methods</a></div><div class=\"lev3\"><a href=\"#What-is-being-included\"><span class=\"toc-item-num\">3.2.1&nbsp;&nbsp;</span>What is being included</a></div><div class=\"lev3\"><a href=\"#What-is-the-discriminatory-ability?\"><span class=\"toc-item-num\">3.2.2&nbsp;&nbsp;</span>What is the discriminatory ability?</a></div><div class=\"lev1\"><a href=\"#Deconvolution-in-progressively-more-complicated-synthetic-mixtures\"><span class=\"toc-item-num\">4&nbsp;&nbsp;</span>Deconvolution in progressively more complicated synthetic mixtures</a></div><div class=\"lev2\"><a href=\"#Experiment-1:-reproducing-result\"><span class=\"toc-item-num\">4.1&nbsp;&nbsp;</span>Experiment 1: reproducing result</a></div><div class=\"lev2\"><a href=\"#Experiment-2:-simple-deconvolution\"><span class=\"toc-item-num\">4.2&nbsp;&nbsp;</span>Experiment 2: simple deconvolution</a></div><div class=\"lev2\"><a href=\"#Experiment-3:-pathological-case-of-very-similar-cell-types\"><span class=\"toc-item-num\">4.3&nbsp;&nbsp;</span>Experiment 3: pathological case of very similar cell types</a></div><div class=\"lev2\"><a href=\"#Experiment-4:-superclass-classification\"><span class=\"toc-item-num\">4.4&nbsp;&nbsp;</span>Experiment 4: superclass classification</a></div><div class=\"lev1\"><a href=\"#Conclusions\"><span class=\"toc-item-num\">5&nbsp;&nbsp;</span>Conclusions</a></div><div class=\"lev1\"><a href=\"#Next-steps\"><span class=\"toc-item-num\">6&nbsp;&nbsp;</span>Next steps</a></div><div class=\"lev2\"><a href=\"#Does-RNAseq-input-data-behave-differently-from-microarray?-How-does-quantification-method-determine-results?\"><span class=\"toc-item-num\">6.1&nbsp;&nbsp;</span>Does RNAseq input data behave differently from microarray? How does quantification method determine results?</a></div><div class=\"lev2\"><a href=\"#Variance\"><span class=\"toc-item-num\">6.2&nbsp;&nbsp;</span>Variance</a></div><div class=\"lev2\"><a href=\"#Profile-extraction\"><span class=\"toc-item-num\">6.3&nbsp;&nbsp;</span>Profile extraction</a></div><div class=\"lev2\"><a href=\"#Deconvolution\"><span class=\"toc-item-num\">6.4&nbsp;&nbsp;</span>Deconvolution</a></div><div class=\"lev2\"><a href=\"#Build-a-proof-of-concept-multi-level-model,-perhaps-with-variance-incorporated\"><span class=\"toc-item-num\">6.5&nbsp;&nbsp;</span>Build a proof of concept multi-level model, perhaps with variance incorporated</a></div>"
   ]
  },
  {
   "cell_type": "markdown",
   "metadata": {},
   "source": [
    "# Overview\n",
    "\n",
    "1) We explore the performance of four methods for isolating genes or expression profiles that are unique to immune cell types:\n",
    "\n",
    "* Marker genes\n",
    "    * IRIS: _Abbas A, Baldwin D, Ma Y, Ouyang W, Gurney A, Martin F, et al. Immune response in silico (iRIS):\n",
    "Immune-specific genes identified from a compendium of microarray expression data. Genes and immunity.\n",
    "Nature Publishing Group; 2005;6: 319–331._\n",
    "    * Bindea: _Bindea G, Mlecnik B, Tosolini M, Kirilovsky A, Waldner M, Obenauf AC, et al. Spatiotemporal\n",
    "dynamics of intratumoral immune cells reveal the immune landscape in human cancer. Immunity. Elsevier;\n",
    "2013;39: 782–795._\n",
    "* Expression barcodes\n",
    "    * Abbas 2009: _Abbas AR, Wolslegel K, Seshasayee D, Modrusan Z, Clark HF. Deconvolution of blood microarray\n",
    "data identifies cellular activation patterns in systemic lupus erythematosus. PloS one. Public Library of Science;\n",
    "2009;4: e6098._\n",
    "    * Cibersort: _Newman AM, Liu CL, Green MR, Gentles AJ, Feng W, Xu Y, et al. Robust enumeration of cell\n",
    "subsets from tissue expression profiles. Nature methods. Nature Publishing Group; 2015;12: 453–457._\n",
    "\n",
    "\n",
    "2) We also download 390 enriched cell type samples and do EDA to understand how much expression variance exists within and across cell types, especially when comparing genes that were or were not considered to be representative of a particular cell type.\n",
    "\n",
    "3) We compare deconvolution performance in several synthetic mixtures, with and without noise.\n",
    "\n",
    "\n",
    "# Examination of raw data: there is a lot of variance that current methods do not capture\n",
    "\n",
    "\n",
    "## Among samples of one cell type: how much variation is there in genes of interest? Is variance motivated?\n",
    "\n",
    "**We observe a lot of variance in the expressions of marker genes for a particular cell type (CD8 T cell) from samples of that cell type across datasets. The reference expression value chosen by Cibersort does not seem to be the mean of the distributions. This could be due to mixed tumor vs blood origins or varying tissues of origin.** \n",
    "\n",
    "For selected genes for a certain cell type: how much variance in expression is there within this cell type for these gene? Is it worth putting variance into our model?\n",
    "\n",
    "I took many CD8 T cell samples from across papers and normalized them all (log base 2). Then I took selected genes that Bindea had flagged as CD8 T cell-specific. I plotted a histogram of each gene's expressions, and overlayed Cibersort LM22's chosen value for this gene. [(notebook)](Variance within and between cell types.ipynb)\n",
    "\n",
    "<img src=\"allvariance.png?new\" width=\"75%\" />\n",
    "\n",
    "Note that there are sometimes multiple plots per gene, because each plot actually is for a particular probeset (there can be multiple probesets for a single gene). However, Cibersort's matrix has gene-level specificity, not probeset-level.\n",
    "\n",
    "There is a lot of variance in the expression of genes of interest, and the point estimates that Cibersort uses do not seem to be the means of the expression distributions of all samples. Thus, better means could be found, and variance information might improve prediction.\n",
    "\n",
    "## What do selected vs unselected genes look like in terms of their expressions across samples in a cell type, across all samples in all cell types (sort), across average expression in all cell types?\n",
    "\n",
    "Are we going to see that unselected genes are fairly uniform and meaningless? Are they all low expression throughout? Are these methods selecting very high expression genes only? \"Selected\" could mean the ones Cibersort includes in expression profiles, or ones flagged by Bindea (probably better)\n",
    "\n",
    "When looking at CD8 T cell genes (as flagged by Bindea) in samples from other cell types, we see wider expression distributions that seem more Gaussian. This may be due to having much higher sample size in the histogram. [(notebook)](Variance%20within%20and%20between%20cell%20types.ipynb#What-do-those-CD8-T-cell-genes-look-like-in-samples-from-other-cell-types?)\n",
    "\n",
    "When looking at non-CD8 T cell genes in CD8 T cell samples, we see that lots of other genes have high expression. Perhaps they're not unique enough or not high enough to be an outlier. [(notebook)](http://localhost:8888/notebooks/Variance%20within%20and%20between%20cell%20types.ipynb#What-do-non-CD8-T-cell-genes-look-line-in-CD8-T-cell-samples?)\n",
    "\n",
    "\n",
    "# Examination of reference profile selection output\n",
    "\n",
    "## Raw vs processed reference samples\n",
    "\n",
    "**An example of how the processing methods extract reference profile signal.**\n",
    "\n",
    "Here is a pairwise Pearson correlation matrix from the raw data of Abbas 2009's first experiment. Notice the scale -- poor absolute differentiation, though there seems to be signal hidden in the data.\n",
    "\n",
    "![](abbas.corr.png)\n",
    "\n",
    "Here is a similar matrix from the basis matrix Cibersort made out of this. Much better differentiation, in terms of the absolute scale.\n",
    "\n",
    "![](abbas.cib.corr.png)\n",
    "\n",
    "\n",
    "## Differences between methods\n",
    "\n",
    "### What is being included\n",
    "\n",
    "**Biological pathways of individual cell types and connections between similar cell types are recovered -- even when combining the outputs of different methods from different datasets. Some methods seem to be noisier than others. Marker gene lists are different but include the same pathways.**\n",
    "\n",
    "The marker gene lists have mostly different genes but represent many of the same pathways. IRIS has more noise though -- e.g. lots of cell division pathways. [See section 2.1.1 of the writeup for the GO tables.](docs/reference_extraction.pdf)\n",
    "\n",
    "Pairwise Pearson correlation and hierarchical clustering on the basis matrices recover biological similarities between certain cell types. (There is one exception: gamma delta T cells -- however these have been flagged as problematic and may be ignored.) These patterns are generally preserved across methods and across datasets. \n",
    "\n",
    "![Pairwise pearson correlation in combination of _LM22_ and _Abbas_ basis matrices, as well as with raw data from @abbas.](lm22_abbas_abbasbig.corr.png)"
   ]
  },
  {
   "cell_type": "code",
   "execution_count": 1,
   "metadata": {
    "ExecuteTime": {
     "end_time": "2016-07-05T13:27:31.584946",
     "start_time": "2016-07-05T13:27:28.912658"
    },
    "collapsed": true,
    "run_control": {
     "frozen": false,
     "read_only": false
    }
   },
   "outputs": [],
   "source": [
    "!convert -density 300 lm22.pdf -resize 50% -rotate 90 lm22.png"
   ]
  },
  {
   "cell_type": "markdown",
   "metadata": {},
   "source": [
    "![Hierarchical clustering of Cibersort's LM22](lm22.png)\n",
    "\n",
    "\n",
    "### What is the discriminatory ability?\n",
    "\n",
    "**Overall, the condition number of the basis matrices is low, but there are some cell types that are very similar and hard to differentiate.**\n",
    "\n",
    "The condition number of the basis matrices is low: LM22's is 11.38 (0 is best). When one of each of the two pairs of most similar cell types is removed, the condition number decreases to 9.30.\n",
    "\n",
    "The most similar cell types are:\n",
    "\n",
    "* B cells memory, naive\n",
    "* CD4 T cells naive, memory resting"
   ]
  },
  {
   "cell_type": "markdown",
   "metadata": {},
   "source": [
    "# Deconvolution in progressively more complicated synthetic mixtures\n",
    "\n",
    "We expect there to be several pathological cases:\n",
    "\n",
    "* Distinguishing between two very similar immune cell subtypes\n",
    "* Distinguishing between very broad cell types -- Cibersort may fail as-is on superset classification, but will probably do well with a different training set.\n",
    "\n",
    "It will be interesting to see what the diagnostics tell us in both cases.\n",
    "\n",
    "\n",
    "## Experiment 1: reproducing result\n",
    "\n",
    "First, using Cibersort, I reproduced deconvolution of example mixtures that come with Cibersort. I got $R^2 > 0.99$. [(notebook)](Evaluating%20the%20deconvolution%20once%20we%20have%20a%20basis%20matrix.ipynb#Mixtures-that-come-with-Cibersort)"
   ]
  },
  {
   "cell_type": "markdown",
   "metadata": {},
   "source": [
    "## Experiment 2: simple deconvolution\n",
    "\n",
    "Next, I deconvolved weighted sums of two quite different columns: naive B cells and Tregs. I either added no noise, or added one of two types of noise:\n",
    "\n",
    "* \"simple\" noise: Gaussian error added to each gene after the weighted sum\n",
    "* \"complex\" noise: Gaussian error added to each element of the weights matrix (n_genes x n_celltypes) for the weighted sum\n",
    "\n",
    "Results [(notebook)](Evaluating%20the%20deconvolution%20once%20we%20have%20a%20basis%20matrix.ipynb#Simple-mixtures):\n",
    "\n",
    "* Deconvolving reference profiles with no noise, with simple noise, and with complex noise:\n",
    "    * $R^2 = .93, .93, .95$, respectively. <strike>.73, .73, .81 respectively. Why are these so low?</strike> -- these are before we reran  (thus there is a lot of noise in Cibersort's output!)\n",
    "    * Noise does not affect absolute error much. Here is the absolute deconvolution error in the three noise conditions; as you can tell, the deconvolution sucks! \n",
    "```\n",
    "\tB cells naive\tT cells regulatory (Tregs)\n",
    "0\t0.052652\t0.146492\n",
    "1\t0.052567\t0.146207\n",
    "2\t0.089706\t0.098790\n",
    "```\n",
    "<strike>\n",
    "``` \n",
    "B cells naive\tT cells regulatory (Tregs)\n",
    "0\t-0.247348\t0.246492\n",
    "1\t-0.247433\t0.246207\n",
    "2\t-0.210294\t0.198790\n",
    "```\n",
    "</strike>\n",
    "    * However, as expected, noise makes Cibersort less certain that other cell types are _not_ there -- it started hallucinating positive fractions for other cell types. In the no-noise and simple-noise conditions, the highest hallucinated abundance is 0.06%; in the complex-noise condition, the highest hallucinated abundance is 0.4%.\n",
    "* Deconvolving raw samples with with no noise, with simple noise, and with complex noise:\n",
    "    * $R^2 = .93, .93, .95$, respectively.\n",
    "    * The actual cell types have poor deconvolution consistently (5% to 14% off), especially Tregs because there are many similar cell types. Here are the absolute deconvolution errors in the three noise conditions: \n",
    "```\n",
    "\tB cells naive\tT cells regulatory (Tregs)\n",
    "0\t-0.056918\t0.139621\n",
    "1\t-0.055392\t0.139150\n",
    "2\t-0.055109\t0.110350\n",
    "```\n",
    "    * Error in the incorrect columns (i.e. hallucinating the presence of other cell types) is relatively consistent and low (maximum is between 4% and 5%) regardless of noise condition.\n",
    "    * All P values are still 0 -- despite the poor deconvolution."
   ]
  },
  {
   "cell_type": "markdown",
   "metadata": {},
   "source": [
    "## Experiment 3: pathological case of very similar cell types\n",
    "\n",
    "I deconvolved weighted sums of two very similar cell types: naive and memory B cells. Again, I used reference profiles and raw cell lines with three noise conditions, as above.\n",
    "\n",
    "Results [(notebook)](Evaluating%20the%20deconvolution%20once%20we%20have%20a%20basis%20matrix.ipynb#Give-Cibersort-a-hard-time):\n",
    "\n",
    "* Reference profiles:\n",
    "    * $R^2 = 0.99, 0.99, 0.836$. Noise kills.\n",
    "    * Absolute error in the three noise conditions:\n",
    "```\n",
    "\tB cells naive\tB cells memory\n",
    "0\t-0.014456\t0.012664\n",
    "1\t-0.014645\t0.012406\n",
    "2\t-0.205990\t0.177900\n",
    "```\n",
    "    * P values all still 0.\n",
    "* Raw cell lines:\n",
    "    * $R^2 = 0.943, 0.946, 0.932$. As expected, lower than for reference profiles. But why is noise not killing?\n",
    "    * Absolute error in the three noise conditions:\n",
    "```\n",
    "B cells naive\tB cells memory\n",
    "0\t-0.140522\t0.073179\n",
    "1\t-0.137888\t0.069617\n",
    "2\t-0.156374\t0.072649\n",
    "```\n",
    "    * This deconvolution is consistently bad, yet $R^2$ is high and $p=0$ always. In the 50-50 mixture, looks like B cells memory are favored."
   ]
  },
  {
   "cell_type": "markdown",
   "metadata": {},
   "source": [
    "## Experiment 4: superclass classification\n",
    "\n",
    "[(notebook)](http://localhost:8888/notebooks/Evaluating%20the%20deconvolution%20once%20we%20have%20a%20basis%20matrix.ipynb#Superset-classification)\n",
    "\n",
    "I retrained Cibersort on some superclasses from the same input data: B cells, T cells, and myeloblasts. I created a new basis matrix exactly in the way that LM22 was created ([which I had verified earlier](Compare%20my%20LM22%20to%20the%20paper%20version.ipynb)).\n",
    "\n",
    "Then I used the new basis matrix with Cibersort to deconvolve the same mixtures as above:\n",
    "\n",
    "* B cell naive 20%, Treg 60%\n",
    "\t* test_mixtures/reference_profile_mixtures.txt\n",
    "\t* test_mixtures/raw_line_mixtures.txt\n",
    "* B cell naive, B cell memory\n",
    "\t* test_mixtures/hard_reference_profile_mixtures.txt\n",
    "\t* test_mixtures/hard_rawline_mixtures.txt"
   ]
  },
  {
   "cell_type": "markdown",
   "metadata": {
    "cell_style": "center"
   },
   "source": [
    "# Conclusions\n",
    "\n",
    "* Diagnostics ($p, R^2$) are not informative, and are misleading if anything.\n",
    "* Deconvolution can suck in simple cases even without noise; somehow, noise reduces the error (perhaps we're getting lucky?).\n",
    "* The pathological cases are particularly painful always, regardless of how much noise, if any, is applied.\n",
    "* There is clear motivation for hierarchical classification: see the hierarchical clustering plot, and see the pathological case above. \n",
    "* There is a lot of variance in immune cell expression that is not captured by the methods.\n",
    "\n",
    "\n",
    "# Next steps\n",
    "\n",
    "## Does RNAseq input data behave differently from microarray? How does quantification method determine results?\n",
    "\n",
    "## Variance\n",
    "\n",
    "* Investigate influence of tumor vs blood origins, varying tissues of origin.\n",
    "* Merge those histograms by gene to see a more accurate distribution -- right now showing probesets though Cibersort has gene-level specificity.\n",
    "\n",
    "## Profile extraction\n",
    "\n",
    "* How are superset profiles made (e.g. average overall types of T cells)?\n",
    "\n",
    "## Deconvolution\n",
    "\n",
    "* Experiment with superclass classification. Try Cibersort with simple, higher set -- are we still getting failures? What is the level of noise?\n",
    "* Maybe averaging these cell lines is not a biologically relevant state.\n",
    "* Are these results consistent across replications? Maybe the randomness of the noise is playing a role in which experiments noise is killing and which it isn't? \n",
    "* There's something bizarre about the very first experiment. Not sure why the results are so poor.\n",
    "\n",
    "## Build a proof of concept multi-level model, perhaps with variance incorporated"
   ]
  },
  {
   "cell_type": "code",
   "execution_count": null,
   "metadata": {
    "collapsed": true,
    "run_control": {
     "frozen": false,
     "read_only": false
    }
   },
   "outputs": [],
   "source": []
  }
 ],
 "metadata": {
  "_draft": {
   "nbviewer_url": "https://gist.github.com/a4d4b0350e31b1f2f184fc46fa46b3a6"
  },
  "gist": {
   "data": {
    "description": "Summary.ipynb",
    "public": false
   },
   "id": "a4d4b0350e31b1f2f184fc46fa46b3a6"
  },
  "kernelspec": {
   "display_name": "Python 2",
   "language": "python",
   "name": "python2"
  },
  "language_info": {
   "codemirror_mode": {
    "name": "ipython",
    "version": 2
   },
   "file_extension": ".py",
   "mimetype": "text/x-python",
   "name": "python",
   "nbconvert_exporter": "python",
   "pygments_lexer": "ipython2",
   "version": "2.7.11"
  },
  "nav_menu": {},
  "toc": {
   "navigate_menu": true,
   "number_sections": true,
   "sideBar": true,
   "threshold": 6,
   "toc_cell": true,
   "toc_section_display": "none",
   "toc_window_display": false
  }
 },
 "nbformat": 4,
 "nbformat_minor": 0
}
