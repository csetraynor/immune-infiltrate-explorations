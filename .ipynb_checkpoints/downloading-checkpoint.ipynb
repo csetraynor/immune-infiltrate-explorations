{
 "cells": [
  {
   "cell_type": "code",
   "execution_count": 18,
   "metadata": {
    "collapsed": true
   },
   "outputs": [],
   "source": [
    "# %load ~/ipyhead\n",
    "import numpy as np\n",
    "import matplotlib.pyplot as plt\n",
    "import pandas as pd\n",
    "%matplotlib inline\n",
    "import seaborn as sns"
   ]
  },
  {
   "cell_type": "code",
   "execution_count": 5,
   "metadata": {
    "collapsed": false
   },
   "outputs": [],
   "source": [
    "import urllib2\n",
    "from bs4 import BeautifulSoup\n",
    "\n",
    "# http://stackoverflow.com/questions/15517483/how-to-extract-urls-from-a-html-page-in-python\n",
    "def get_all_links(url):\n",
    "    conn = urllib2.urlopen(url)\n",
    "    html = conn.read()\n",
    "\n",
    "    soup = BeautifulSoup(html)\n",
    "    links = soup.find_all('a')\n",
    "    \n",
    "    links = [tag.get('href', None) for tag in links]\n",
    "    return [l for l in links if l is not None]"
   ]
  },
  {
   "cell_type": "code",
   "execution_count": 8,
   "metadata": {
    "collapsed": true
   },
   "outputs": [],
   "source": [
    "to_scan = ['http://linkage.garvan.unsw.edu.au/public/microarrays/Arthritis_Inflammation/human/dentritic/index.html',\n",
    "'http://linkage.garvan.unsw.edu.au/public/microarrays/Arthritis_Inflammation/human/macrophages/index.html',\n",
    "'http://linkage.garvan.unsw.edu.au/public/microarrays/Arthritis_Inflammation/human/Tcells/index.html',\n",
    "'http://linkage.garvan.unsw.edu.au/public/microarrays/Arthritis_Inflammation/human/mastcell/index.html',\n",
    "'http://linkage.garvan.unsw.edu.au/public/microarrays/Arthritis_Inflammation/human/Bcells/index.html',\n",
    "'http://linkage.garvan.unsw.edu.au/public/microarrays/Arthritis_Inflammation/human/eosinophils/index.html',\n",
    "'http://linkage.garvan.unsw.edu.au/public/microarrays/Arthritis_Inflammation/human/neutrophils/index.html',\n",
    "'http://linkage.garvan.unsw.edu.au/public/microarrays/Arthritis_Inflammation/human/basophils/index.html',\n",
    "'http://linkage.garvan.unsw.edu.au/public/microarrays/Arthritis_Inflammation/human/RA/index.html']"
   ]
  },
  {
   "cell_type": "code",
   "execution_count": 20,
   "metadata": {
    "collapsed": true
   },
   "outputs": [],
   "source": [
    "filenames = ['A_TS_RN_CD19+_U133A_130104.CEL',\n",
    "'A_TS_2CD19+_U133A_180204.CEL',\n",
    "'A_LW_imDC_U133A_200503.CEL',\n",
    "'A_SZ_imDC2_U133A_250603.CEL',\n",
    "'A_LW_DC6hLPS_U133A_200503.CEL',\n",
    "'A_SZ_6hLPSDC2_U133A_250603.CEL',\n",
    "'A_SZ_6hLPS_HCDC2_U133A.CEL',\n",
    "'A_LW_DC6hLPS_HC_U133A.CEL',\n",
    "'A_LW_DC48hLPS_U133A_200503.CEL',\n",
    "'A_SZ_48hLPSDC2_U133A_250603.CEL',\n",
    "'A_LW_DC48hLPS_HC_U133A.CEL',\n",
    "'A_SZ_48hLPS_HCDC2_U133A.CEL',\n",
    "'A_MF_ControlEosinophil.CEL',\n",
    "'A_MF_2hrEosinophils.CEL',\n",
    "'A_LW_macroctrl_U133A_130503.CEL',\n",
    "'A_SZ_mac2cont_U133A_240603.CEL',\n",
    "'A_LW_macro_LPS_U133A_130503.CEL',\n",
    "'A_SZ_mac2LPS_U133A_240603.CEL',\n",
    "'A_LW_macro_LPS_HC_U133A.CEL',\n",
    "'A_SZ_mac2LPS_HC_U133A.CEL',\n",
    "'A_MF_ControlMASTCELL_U133A.CEL',\n",
    "'A_LW_mastcellctrl_U133A.CEL',\n",
    "'A_MF_IgEMASTCELL_U133A.CEL',\n",
    "'A_LW_mastcellIgE_U133A.CEL',\n",
    "'A_LW_neutrophil_U133A.CEL',\n",
    "'A_MF_neutrophils_U133A.CEL',\n",
    "'A_TS_MSNeutroLPS_U133A.CEL',\n",
    "'A_TS_RN_gdTcells_U133A.CEL',\n",
    "'A_TS_RN_gdTcellsREP_A.CEL',\n",
    "'A_MF_CCR7+_U133A_190202.CEL',\n",
    "'A_MF_CCR7-_U133A_190202.CEL',\n",
    "'A_MF_TH1human_U133A_290502.CEL',\n",
    "'A_TS_TC_Th1_U133A_141003.CEL',\n",
    "'A_MF_TH2human_U133A_290502.CEL',\n",
    "'A_TS_TC_Th2_U133A_141003.CEL',\n",
    "'A_LW_CD57+_U133A_030603.CEL',\n",
    "'A_LW_CD57+_U133A_121102.CEL',\n",
    "'A_MF_CD57+_U133A_010502.CEL',]"
   ]
  },
  {
   "cell_type": "code",
   "execution_count": 13,
   "metadata": {
    "collapsed": false
   },
   "outputs": [
    {
     "data": {
      "text/plain": [
       "(9, 38)"
      ]
     },
     "execution_count": 13,
     "metadata": {},
     "output_type": "execute_result"
    }
   ],
   "source": [
    "len(to_scan), len(filenames)"
   ]
  },
  {
   "cell_type": "code",
   "execution_count": 21,
   "metadata": {
    "collapsed": false
   },
   "outputs": [
    {
     "name": "stdout",
     "output_type": "stream",
     "text": [
      "['http://linkage.garvan.unsw.edu.au/public/microarrays/Arthritis_Inflammation/human/dentritic/6hrLPS/exp1/A_LW_DC6hLPS_U133A_200503.CEL', 'http://linkage.garvan.unsw.edu.au/public/microarrays/Arthritis_Inflammation/human/dentritic/6hrLPS/exp2/A_SZ_6hLPSDC2_U133A_250603.CEL', 'http://linkage.garvan.unsw.edu.au/public/microarrays/Arthritis_Inflammation/human/dentritic/48hrLPS/exp1/A_LW_DC48hLPS_U133A_200503.CEL', 'http://linkage.garvan.unsw.edu.au/public/microarrays/Arthritis_Inflammation/human/dentritic/48hrLPS/exp2/A_SZ_48hLPSDC2_U133A_250603.CEL', 'http://linkage.garvan.unsw.edu.au/public/microarrays/Arthritis_Inflammation/human/dentritic/6hrLPS%2BHC/exp1/A_LW_DC6hLPS_HC_U133A.CEL', 'http://linkage.garvan.unsw.edu.au/public/microarrays/Arthritis_Inflammation/human/dentritic/6hrLPS%2BHC/exp2/A_SZ_6hLPS_HCDC2_U133A.CEL', 'http://linkage.garvan.unsw.edu.au/public/microarrays/Arthritis_Inflammation/human/dentritic/48hrLPS%2BHC/exp1/A_LW_DC48hLPS_HC_U133A.CEL', 'http://linkage.garvan.unsw.edu.au/public/microarrays/Arthritis_Inflammation/human/dentritic/48hrLPS%2BHC/exp2/A_SZ_48hLPS_HCDC2_U133A.CEL', 'http://linkage.garvan.unsw.edu.au/public/microarrays/Arthritis_Inflammation/human/dentritic/immature%20DCs/exp1/A_LW_imDC_U133A_200503.CEL', 'http://linkage.garvan.unsw.edu.au/public/microarrays/Arthritis_Inflammation/human/dentritic/immature%20DCs/exp2/A_SZ_imDC2_U133A_250603.CEL', 'http://linkage.garvan.unsw.edu.au/public/microarrays/Arthritis_Inflammation/human/macrophages/control/exp1/A_LW_macroctrl_U133A_130503.CEL', 'http://linkage.garvan.unsw.edu.au/public/microarrays/Arthritis_Inflammation/human/macrophages/control/exp2/A_SZ_mac2cont_U133A_240603.CEL', 'http://linkage.garvan.unsw.edu.au/public/microarrays/Arthritis_Inflammation/human/macrophages/LPS/exp1/A_LW_macro_LPS_U133A_130503.CEL', 'http://linkage.garvan.unsw.edu.au/public/microarrays/Arthritis_Inflammation/human/macrophages/LPS/exp2/A_SZ_mac2LPS_U133A_240603.CEL', 'http://linkage.garvan.unsw.edu.au/public/microarrays/Arthritis_Inflammation/human/macrophages/LPS%2BHC/exp1/A_LW_macro_LPS_HC_U133A.CEL', 'http://linkage.garvan.unsw.edu.au/public/microarrays/Arthritis_Inflammation/human/macrophages/LPS%2BHC/exp2/A_SZ_mac2LPS_HC_U133A.CEL', 'http://linkage.garvan.unsw.edu.au/public/microarrays/Arthritis_Inflammation/human/Tcells/Th1/exp1/A_MF_TH1human_U133A_290502.CEL', 'http://linkage.garvan.unsw.edu.au/public/microarrays/Arthritis_Inflammation/human/Tcells/Th1/exp2/A_TS_TC_Th1_U133A_141003.CEL', 'http://linkage.garvan.unsw.edu.au/public/microarrays/Arthritis_Inflammation/human/Tcells/Th2/exp1/A_MF_TH2human_U133A_290502.CEL', 'http://linkage.garvan.unsw.edu.au/public/microarrays/Arthritis_Inflammation/human/Tcells/Th2/exp2/A_TS_TC_Th2_U133A_141003.CEL', 'http://linkage.garvan.unsw.edu.au/public/microarrays/Arthritis_Inflammation/human/Tcells/CCR7_/A_MF_CCR7-_U133A_190202.CEL', 'http://linkage.garvan.unsw.edu.au/public/microarrays/Arthritis_Inflammation/human/Tcells/gamma%20delta/A_TS_RN_gdTcells_U133A.CEL', 'http://linkage.garvan.unsw.edu.au/public/microarrays/Arthritis_Inflammation/human/Tcells/gamma%20delta/A_TS_RN_gdTcellsREP_A.CEL', 'http://linkage.garvan.unsw.edu.au/public/microarrays/Arthritis_Inflammation/human/mastcell/Control/exp1/A_MF_ControlMASTCELL_U133A.CEL', 'http://linkage.garvan.unsw.edu.au/public/microarrays/Arthritis_Inflammation/human/mastcell/Control/exp2/A_LW_mastcellctrl_U133A.CEL', 'http://linkage.garvan.unsw.edu.au/public/microarrays/Arthritis_Inflammation/human/mastcell/IgE/exp1/A_MF_IgEMASTCELL_U133A.CEL', 'http://linkage.garvan.unsw.edu.au/public/microarrays/Arthritis_Inflammation/human/mastcell/IgE/exp2/A_LW_mastcellIgE_U133A.CEL', 'http://linkage.garvan.unsw.edu.au/public/microarrays/Arthritis_Inflammation/human/eosinophils/control/A_MF_ControlEosinophil.CEL', 'http://linkage.garvan.unsw.edu.au/public/microarrays/Arthritis_Inflammation/human/eosinophils/pma/A_MF_2hrEosinophils.CEL', 'http://linkage.garvan.unsw.edu.au/public/microarrays/Arthritis_Inflammation/human/neutrophils/control/exp1/A_MF_neutrophils_U133A.CEL', 'http://linkage.garvan.unsw.edu.au/public/microarrays/Arthritis_Inflammation/human/neutrophils/control/exp2/A_LW_neutrophil_U133A.CEL', 'http://linkage.garvan.unsw.edu.au/public/microarrays/Arthritis_Inflammation/human/neutrophils/LPS/A_TS_MSNeutroLPS_U133A.CEL']\n"
     ]
    }
   ],
   "source": [
    "matches = []\n",
    "for url in to_scan:\n",
    "    for l in get_all_links(url):\n",
    "        for f in filenames:\n",
    "            if f.lower() in l.lower():\n",
    "                matches.append(url.replace('index.html', '') + l)\n",
    "print matches"
   ]
  },
  {
   "cell_type": "code",
   "execution_count": 22,
   "metadata": {
    "collapsed": false
   },
   "outputs": [],
   "source": [
    "pd.Series(matches).to_csv('urls.txt', index=None)"
   ]
  },
  {
   "cell_type": "markdown",
   "metadata": {},
   "source": [
    "Now do: `wget -i urls.txt`\n",
    "\n",
    "Also, per MSK paper, need to remove:\n",
    "\n",
    "* T gamma delta cells: filenames with `gdTcells`\n",
    "* T follicular helper cells: filenames with `CD57+`"
   ]
  },
  {
   "cell_type": "code",
   "execution_count": 23,
   "metadata": {
    "collapsed": false
   },
   "outputs": [
    {
     "name": "stdout",
     "output_type": "stream",
     "text": [
      "A_TS_RN_gdTcells_U133A.CEL\n",
      "A_TS_RN_gdTcellsREP_A.CEL\n",
      "A_LW_CD57+_U133A_030603.CEL\n",
      "A_LW_CD57+_U133A_121102.CEL\n",
      "A_MF_CD57+_U133A_010502.CEL\n"
     ]
    }
   ],
   "source": [
    "for f in filenames:\n",
    "    if 'gdtcells' in f.lower():\n",
    "        print f\n",
    "    if 'cd57+' in f.lower():\n",
    "        print f"
   ]
  },
  {
   "cell_type": "code",
   "execution_count": null,
   "metadata": {
    "collapsed": true
   },
   "outputs": [],
   "source": []
  }
 ],
 "metadata": {
  "kernelspec": {
   "display_name": "Python 2",
   "language": "python",
   "name": "python2"
  },
  "language_info": {
   "codemirror_mode": {
    "name": "ipython",
    "version": 2
   },
   "file_extension": ".py",
   "mimetype": "text/x-python",
   "name": "python",
   "nbconvert_exporter": "python",
   "pygments_lexer": "ipython2",
   "version": "2.7.11"
  }
 },
 "nbformat": 4,
 "nbformat_minor": 0
}
