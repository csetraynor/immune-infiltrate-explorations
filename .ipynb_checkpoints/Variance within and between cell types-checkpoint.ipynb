{
 "cells": [
  {
   "cell_type": "code",
   "execution_count": 1,
   "metadata": {
    "collapsed": false
   },
   "outputs": [],
   "source": [
    "# %load ~/ipyhead\n",
    "import numpy as np\n",
    "import matplotlib.pyplot as plt\n",
    "import pandas as pd\n",
    "%matplotlib inline\n",
    "import seaborn as sns"
   ]
  },
  {
   "cell_type": "code",
   "execution_count": 82,
   "metadata": {
    "collapsed": true
   },
   "outputs": [],
   "source": [
    "sns.set_context('talk')"
   ]
  },
  {
   "cell_type": "markdown",
   "metadata": {},
   "source": [
    "## What do selected vs unselected genes look like in terms of their expressions across samples in a cell type, across all samples in all cell types (sort), across average expression in all cell types?\n",
    "\n",
    "Are we going to see that unselected genes are fairly uniform and meaningless? Are they all low expression throughout? Are these methods selecting very high expression genes only?\n",
    "\n",
    "\"Selected\" could mean the ones Cibersort includes in expression profiles, or ones flagged by Bindea (probably better)\n",
    "\n",
    "## Among samples of one cell type: how much variation is there in genes of interest? Is variance motivated?\n",
    "\n",
    "For selected genes for a certain cell type: how much variance in expression is there within this cell type for these gene?\n",
    "\n",
    "Is it worth putting variance into our model?"
   ]
  },
  {
   "cell_type": "code",
   "execution_count": 2,
   "metadata": {
    "collapsed": true
   },
   "outputs": [],
   "source": [
    "df = pd.read_csv('all_expressions.tsv', sep='\\t')"
   ]
  },
  {
   "cell_type": "code",
   "execution_count": 3,
   "metadata": {
    "collapsed": true
   },
   "outputs": [],
   "source": [
    "del df['Unnamed: 0']"
   ]
  },
  {
   "cell_type": "code",
   "execution_count": 4,
   "metadata": {
    "collapsed": true
   },
   "outputs": [],
   "source": [
    "del df['ACCNUM']"
   ]
  },
  {
   "cell_type": "code",
   "execution_count": 5,
   "metadata": {
    "collapsed": true
   },
   "outputs": [],
   "source": [
    "del df['Relabel']\n",
    "del df['DESC']"
   ]
  },
  {
   "cell_type": "code",
   "execution_count": 6,
   "metadata": {
    "collapsed": false
   },
   "outputs": [
    {
     "data": {
      "text/html": [
       "<div>\n",
       "<table border=\"1\" class=\"dataframe\">\n",
       "  <thead>\n",
       "    <tr style=\"text-align: right;\">\n",
       "      <th></th>\n",
       "      <th>geneid</th>\n",
       "      <th>probeid</th>\n",
       "      <th>PRB12534.Jurkat</th>\n",
       "      <th>PRB12535.Jurkat</th>\n",
       "      <th>PRB12536.Jurkat</th>\n",
       "      <th>PRB12537.IM.9</th>\n",
       "      <th>PRB12538.IM.9</th>\n",
       "      <th>PRB12539.IM.9</th>\n",
       "      <th>PRB12540.Raji</th>\n",
       "      <th>PRB12541.Raji</th>\n",
       "      <th>...</th>\n",
       "      <th>TEM_U133A_1 [TFH_E-MEXP-750|TEM_U133A_1]</th>\n",
       "      <th>TEM_U133A_2 [TFH_E-MEXP-750|TEM_U133A_2]</th>\n",
       "      <th>TEM_U133A_3 [TFH_E-MEXP-750|TEM_U133A_3]</th>\n",
       "      <th>TN_U133A_1 [TFH_E-MEXP-750|TN_U133A_1]</th>\n",
       "      <th>TN_U133A_2 [TFH_E-MEXP-750|TN_U133A_2]</th>\n",
       "      <th>TN_U133A_3 [TFH_E-MEXP-750|TN_U133A_3]</th>\n",
       "      <th>TH_1 [TREGs_GSE4527|GSM101518]</th>\n",
       "      <th>Treg_1 [TREGs_GSE4527|GSM101519]</th>\n",
       "      <th>TH_2 [TREGs_GSE4527|GSM101520]</th>\n",
       "      <th>Treg_2 [TREGs_GSE4527|GSM101521]</th>\n",
       "    </tr>\n",
       "  </thead>\n",
       "  <tbody>\n",
       "    <tr>\n",
       "      <th>0</th>\n",
       "      <td>RFC2</td>\n",
       "      <td>1053_at</td>\n",
       "      <td>2104.464</td>\n",
       "      <td>1913.695</td>\n",
       "      <td>1974.465</td>\n",
       "      <td>2428.428</td>\n",
       "      <td>2232.343</td>\n",
       "      <td>2470.156</td>\n",
       "      <td>831.009</td>\n",
       "      <td>713.614</td>\n",
       "      <td>...</td>\n",
       "      <td>278.508206</td>\n",
       "      <td>315.680926</td>\n",
       "      <td>325.445350</td>\n",
       "      <td>227.014010</td>\n",
       "      <td>298.255643</td>\n",
       "      <td>246.440867</td>\n",
       "      <td>317.871923</td>\n",
       "      <td>182.444126</td>\n",
       "      <td>481.930051</td>\n",
       "      <td>125.805188</td>\n",
       "    </tr>\n",
       "    <tr>\n",
       "      <th>1</th>\n",
       "      <td>RFC2</td>\n",
       "      <td>203696_s_at</td>\n",
       "      <td>2858.885</td>\n",
       "      <td>3889.223</td>\n",
       "      <td>2887.030</td>\n",
       "      <td>4171.271</td>\n",
       "      <td>4308.615</td>\n",
       "      <td>3523.738</td>\n",
       "      <td>1085.860</td>\n",
       "      <td>1109.435</td>\n",
       "      <td>...</td>\n",
       "      <td>278.508206</td>\n",
       "      <td>315.680926</td>\n",
       "      <td>325.445350</td>\n",
       "      <td>227.014010</td>\n",
       "      <td>298.255643</td>\n",
       "      <td>246.440867</td>\n",
       "      <td>317.871923</td>\n",
       "      <td>182.444126</td>\n",
       "      <td>481.930051</td>\n",
       "      <td>125.805188</td>\n",
       "    </tr>\n",
       "    <tr>\n",
       "      <th>2</th>\n",
       "      <td>HSPA6</td>\n",
       "      <td>117_at</td>\n",
       "      <td>189.528</td>\n",
       "      <td>110.972</td>\n",
       "      <td>160.200</td>\n",
       "      <td>432.932</td>\n",
       "      <td>261.238</td>\n",
       "      <td>280.899</td>\n",
       "      <td>184.187</td>\n",
       "      <td>178.548</td>\n",
       "      <td>...</td>\n",
       "      <td>12.987326</td>\n",
       "      <td>74.128591</td>\n",
       "      <td>141.683528</td>\n",
       "      <td>145.506877</td>\n",
       "      <td>21.656093</td>\n",
       "      <td>77.518896</td>\n",
       "      <td>82.051115</td>\n",
       "      <td>703.693696</td>\n",
       "      <td>194.230338</td>\n",
       "      <td>97.987345</td>\n",
       "    </tr>\n",
       "    <tr>\n",
       "      <th>3</th>\n",
       "      <td>HSPA6</td>\n",
       "      <td>213418_at</td>\n",
       "      <td>76.702</td>\n",
       "      <td>85.718</td>\n",
       "      <td>168.155</td>\n",
       "      <td>706.366</td>\n",
       "      <td>463.835</td>\n",
       "      <td>427.057</td>\n",
       "      <td>27.579</td>\n",
       "      <td>119.920</td>\n",
       "      <td>...</td>\n",
       "      <td>12.987326</td>\n",
       "      <td>74.128591</td>\n",
       "      <td>141.683528</td>\n",
       "      <td>145.506877</td>\n",
       "      <td>21.656093</td>\n",
       "      <td>77.518896</td>\n",
       "      <td>82.051115</td>\n",
       "      <td>703.693696</td>\n",
       "      <td>194.230338</td>\n",
       "      <td>97.987345</td>\n",
       "    </tr>\n",
       "    <tr>\n",
       "      <th>4</th>\n",
       "      <td>PAX8</td>\n",
       "      <td>121_at</td>\n",
       "      <td>1753.889</td>\n",
       "      <td>1291.766</td>\n",
       "      <td>1885.517</td>\n",
       "      <td>1561.437</td>\n",
       "      <td>1534.517</td>\n",
       "      <td>1540.394</td>\n",
       "      <td>1666.894</td>\n",
       "      <td>1625.360</td>\n",
       "      <td>...</td>\n",
       "      <td>26.766424</td>\n",
       "      <td>117.425553</td>\n",
       "      <td>58.012974</td>\n",
       "      <td>31.797787</td>\n",
       "      <td>102.044136</td>\n",
       "      <td>99.058819</td>\n",
       "      <td>147.641189</td>\n",
       "      <td>135.526908</td>\n",
       "      <td>38.741434</td>\n",
       "      <td>157.813189</td>\n",
       "    </tr>\n",
       "  </tbody>\n",
       "</table>\n",
       "<p>5 rows × 389 columns</p>\n",
       "</div>"
      ],
      "text/plain": [
       "  geneid      probeid  PRB12534.Jurkat  PRB12535.Jurkat  PRB12536.Jurkat  \\\n",
       "0   RFC2      1053_at         2104.464         1913.695         1974.465   \n",
       "1   RFC2  203696_s_at         2858.885         3889.223         2887.030   \n",
       "2  HSPA6       117_at          189.528          110.972          160.200   \n",
       "3  HSPA6    213418_at           76.702           85.718          168.155   \n",
       "4   PAX8       121_at         1753.889         1291.766         1885.517   \n",
       "\n",
       "   PRB12537.IM.9  PRB12538.IM.9  PRB12539.IM.9  PRB12540.Raji  PRB12541.Raji  \\\n",
       "0       2428.428       2232.343       2470.156        831.009        713.614   \n",
       "1       4171.271       4308.615       3523.738       1085.860       1109.435   \n",
       "2        432.932        261.238        280.899        184.187        178.548   \n",
       "3        706.366        463.835        427.057         27.579        119.920   \n",
       "4       1561.437       1534.517       1540.394       1666.894       1625.360   \n",
       "\n",
       "                 ...                 TEM_U133A_1 [TFH_E-MEXP-750|TEM_U133A_1]  \\\n",
       "0                ...                                               278.508206   \n",
       "1                ...                                               278.508206   \n",
       "2                ...                                                12.987326   \n",
       "3                ...                                                12.987326   \n",
       "4                ...                                                26.766424   \n",
       "\n",
       "   TEM_U133A_2 [TFH_E-MEXP-750|TEM_U133A_2]  \\\n",
       "0                                315.680926   \n",
       "1                                315.680926   \n",
       "2                                 74.128591   \n",
       "3                                 74.128591   \n",
       "4                                117.425553   \n",
       "\n",
       "   TEM_U133A_3 [TFH_E-MEXP-750|TEM_U133A_3]  \\\n",
       "0                                325.445350   \n",
       "1                                325.445350   \n",
       "2                                141.683528   \n",
       "3                                141.683528   \n",
       "4                                 58.012974   \n",
       "\n",
       "   TN_U133A_1 [TFH_E-MEXP-750|TN_U133A_1]  \\\n",
       "0                              227.014010   \n",
       "1                              227.014010   \n",
       "2                              145.506877   \n",
       "3                              145.506877   \n",
       "4                               31.797787   \n",
       "\n",
       "   TN_U133A_2 [TFH_E-MEXP-750|TN_U133A_2]  \\\n",
       "0                              298.255643   \n",
       "1                              298.255643   \n",
       "2                               21.656093   \n",
       "3                               21.656093   \n",
       "4                              102.044136   \n",
       "\n",
       "   TN_U133A_3 [TFH_E-MEXP-750|TN_U133A_3]  TH_1 [TREGs_GSE4527|GSM101518]  \\\n",
       "0                              246.440867                      317.871923   \n",
       "1                              246.440867                      317.871923   \n",
       "2                               77.518896                       82.051115   \n",
       "3                               77.518896                       82.051115   \n",
       "4                               99.058819                      147.641189   \n",
       "\n",
       "   Treg_1 [TREGs_GSE4527|GSM101519]  TH_2 [TREGs_GSE4527|GSM101520]  \\\n",
       "0                        182.444126                      481.930051   \n",
       "1                        182.444126                      481.930051   \n",
       "2                        703.693696                      194.230338   \n",
       "3                        703.693696                      194.230338   \n",
       "4                        135.526908                       38.741434   \n",
       "\n",
       "   Treg_2 [TREGs_GSE4527|GSM101521]  \n",
       "0                        125.805188  \n",
       "1                        125.805188  \n",
       "2                         97.987345  \n",
       "3                         97.987345  \n",
       "4                        157.813189  \n",
       "\n",
       "[5 rows x 389 columns]"
      ]
     },
     "execution_count": 6,
     "metadata": {},
     "output_type": "execute_result"
    }
   ],
   "source": [
    "df.head()"
   ]
  },
  {
   "cell_type": "code",
   "execution_count": 101,
   "metadata": {
    "collapsed": false
   },
   "outputs": [
    {
     "name": "stdout",
     "output_type": "stream",
     "text": [
      "note: some genes have multiple probes\n"
     ]
    },
    {
     "data": {
      "text/plain": [
       "(17918, 10977, 17918)"
      ]
     },
     "execution_count": 101,
     "metadata": {},
     "output_type": "execute_result"
    }
   ],
   "source": [
    "print 'note: some genes have multiple probes'\n",
    "len(df.geneid.dropna()), len(df.geneid.dropna().unique()), len(df)"
   ]
  },
  {
   "cell_type": "code",
   "execution_count": 7,
   "metadata": {
    "collapsed": false
   },
   "outputs": [
    {
     "data": {
      "text/plain": [
       "['PRB12534.Jurkat',\n",
       " 'PRB12535.Jurkat',\n",
       " 'PRB12536.Jurkat',\n",
       " 'PRB12537.IM.9',\n",
       " 'PRB12538.IM.9',\n",
       " 'PRB12539.IM.9',\n",
       " 'PRB12540.Raji',\n",
       " 'PRB12541.Raji',\n",
       " 'PRB12542.Raji',\n",
       " 'PRB12543.THP.1',\n",
       " 'PRB12544.THP.1',\n",
       " 'PRB12545.THP.1',\n",
       " 'GSM155229.CEL.gz',\n",
       " 'GSM155232.CEL.gz',\n",
       " 'GSM155234.CEL.gz',\n",
       " 'GSM155236.CEL.gz',\n",
       " 'GSM155238.CEL.gz',\n",
       " 'GSM21712.CEL.gz',\n",
       " 'GSM21713.CEL.gz',\n",
       " 'GSM21714.CEL.gz',\n",
       " 'A_LW_DC48hLPS_HC_U133A.CEL',\n",
       " 'A_LW_DC48hLPS_U133A_200503.CEL',\n",
       " 'A_LW_DC6hLPS_HC_U133A.CEL',\n",
       " 'A_LW_DC6hLPS_U133A_200503.CEL',\n",
       " 'A_LW_imDC_U133A_200503.CEL',\n",
       " 'A_LW_macro_LPS_HC_U133A.CEL',\n",
       " 'A_LW_macro_LPS_U133A_130503.CEL',\n",
       " 'A_LW_macroctrl_U133A_130503.CEL',\n",
       " 'A_LW_mastcellctrl_U133A.CEL',\n",
       " 'A_LW_mastcellIgE_U133A.CEL',\n",
       " 'A_LW_neutrophil_U133A.CEL',\n",
       " 'A_MF_2hrEosinophils.CEL',\n",
       " 'A_MF_CCR7._U133A_190202.CEL',\n",
       " 'A_MF_CCR7._U133A_190202.CEL.1',\n",
       " 'A_MF_ControlEosinophil.CEL',\n",
       " 'A_MF_ControlMASTCELL_U133A.CEL',\n",
       " 'A_MF_IgEMASTCELL_U133A.CEL',\n",
       " 'A_MF_neutrophils_U133A.CEL',\n",
       " 'A_MF_TH1human_U133A_290502.CEL',\n",
       " 'A_MF_TH2human_U133A_290502.CEL',\n",
       " 'A_SZ_48hLPS_HCDC2_U133A.CEL',\n",
       " 'A_SZ_48hLPSDC2_U133A_250603.CEL',\n",
       " 'A_SZ_6hLPS_HCDC2_U133A.CEL',\n",
       " 'A_SZ_6hLPSDC2_U133A_250603.CEL',\n",
       " 'A_SZ_imDC2_U133A_250603.CEL',\n",
       " 'A_SZ_mac2cont_U133A_240603.CEL',\n",
       " 'A_SZ_mac2LPS_HC_U133A.CEL',\n",
       " 'A_SZ_mac2LPS_U133A_240603.CEL',\n",
       " 'A_TS_2CD19._U133A_180204.CEL',\n",
       " 'A_TS_MSNeutroLPS_U133A.CEL',\n",
       " 'A_TS_RN_CD19._U133A_130104.CEL',\n",
       " 'A_TS_TC_Th1_U133A_141003.CEL',\n",
       " 'A_TS_TC_Th2_U133A_141003.CEL',\n",
       " 'MHH0210HG_U133A.CEL',\n",
       " 'MHH0211HG_U133A.CEL',\n",
       " 'MHH0248HG.U133A.CEL',\n",
       " 'MHH0249HG.U133A.CEL',\n",
       " 'CSS_COLON_N_1.CEL',\n",
       " 'CSS_COLON_N_10.CEL',\n",
       " 'CSS_COLON_N_11.CEL',\n",
       " 'CSS_COLON_N_12.CEL',\n",
       " 'CSS_COLON_N_13.CEL',\n",
       " 'CSS_COLON_N_14.CEL',\n",
       " 'CSS_COLON_N_15.CEL',\n",
       " 'CSS_COLON_N_16.CEL',\n",
       " 'CSS_COLON_N_17.CEL',\n",
       " 'CSS_COLON_N_18.CEL',\n",
       " 'CSS_COLON_N_19.CEL',\n",
       " 'CSS_COLON_N_2.CEL',\n",
       " 'CSS_COLON_N_20.CEL',\n",
       " 'CSS_COLON_N_21.CEL',\n",
       " 'CSS_COLON_N_22.CEL',\n",
       " 'CSS_COLON_N_23.CEL',\n",
       " 'CSS_COLON_N_3.CEL',\n",
       " 'CSS_COLON_N_4.CEL',\n",
       " 'CSS_COLON_N_5.CEL',\n",
       " 'CSS_COLON_N_6.CEL',\n",
       " 'CSS_COLON_N_7.CEL',\n",
       " 'CSS_COLON_N_9.CEL',\n",
       " 'GSM565269.CEL.gz',\n",
       " 'GSM565270.CEL.gz',\n",
       " 'GSM565271.CEL.gz',\n",
       " 'GSM565272.CEL.gz',\n",
       " 'GSM565273.CEL.gz',\n",
       " 'GSM565274.CEL.gz',\n",
       " 'GSM565275.CEL.gz',\n",
       " 'GSM565276.CEL.gz',\n",
       " 'GSM565277.CEL.gz',\n",
       " 'GSM565278.CEL.gz',\n",
       " 'GSM565279.CEL.gz',\n",
       " 'GSM565280.CEL.gz',\n",
       " 'GSM565281.CEL.gz',\n",
       " 'GSM565282.CEL.gz',\n",
       " 'GSM565283.CEL.gz',\n",
       " 'GSM565284.CEL.gz',\n",
       " 'GSM565285.CEL.gz',\n",
       " 'GSM565286.CEL.gz',\n",
       " 'GSM565287.CEL.gz',\n",
       " 'GSM565288.CEL.gz',\n",
       " 'GSM565289.CEL.gz',\n",
       " 'GSM565290.CEL.gz',\n",
       " 'GSM565291.CEL.gz',\n",
       " 'GSM565292.CEL.gz',\n",
       " 'GSM565293.CEL.gz',\n",
       " 'GSM565294.CEL.gz',\n",
       " 'GSM565295.CEL.gz',\n",
       " 'GSM565296.CEL.gz',\n",
       " 'GSM565297.CEL.gz',\n",
       " 'GSM565298.CEL.gz',\n",
       " 'GSM565299.CEL.gz',\n",
       " 'GSM565300.CEL.gz',\n",
       " 'GSM565301.CEL.gz',\n",
       " 'GSM565302.CEL.gz',\n",
       " 'GSM565303.CEL.gz',\n",
       " 'GSM565304.CEL.gz',\n",
       " 'GSM565305.CEL.gz',\n",
       " 'GSM565306.CEL.gz',\n",
       " 'GSM565307.CEL.gz',\n",
       " 'GSM565308.CEL.gz',\n",
       " 'GSM565309.CEL.gz',\n",
       " 'GSM565310.CEL.gz',\n",
       " 'GSM565311.CEL.gz',\n",
       " 'GSM565312.CEL.gz',\n",
       " 'GSM565313.CEL.gz',\n",
       " 'GSM565314.CEL.gz',\n",
       " 'GSM565315.CEL.gz',\n",
       " 'GSM565316.CEL.gz',\n",
       " 'GSM565317.CEL.gz',\n",
       " 'GSM565318.CEL.gz',\n",
       " 'GSM565319.CEL.gz',\n",
       " 'GSM565320.CEL.gz',\n",
       " 'GSM565321.CEL.gz',\n",
       " 'GSM565322.CEL.gz',\n",
       " 'GSM565323.CEL.gz',\n",
       " 'GSM565324.CEL.gz',\n",
       " 'GSM565325.CEL.gz',\n",
       " 'GSM565326.CEL.gz',\n",
       " 'GSM565327.CEL.gz',\n",
       " 'GSM565328.CEL.gz',\n",
       " 'GSM565329.CEL.gz',\n",
       " 'GSM565330.CEL.gz',\n",
       " 'GSM565331.CEL.gz',\n",
       " 'GSM565332.CEL.gz',\n",
       " 'GSM565333.CEL.gz',\n",
       " 'GSM565334.CEL.gz',\n",
       " 'GSM565335.CEL.gz',\n",
       " 'GSM565336.CEL.gz',\n",
       " 'GSM565337.CEL.gz',\n",
       " 'GSM565338.CEL.gz',\n",
       " 'GSM565339.CEL.gz',\n",
       " 'GSM565340.CEL.gz',\n",
       " 'GSM565341.CEL.gz',\n",
       " 'GSM565342.CEL.gz',\n",
       " 'GSM565343.CEL.gz',\n",
       " 'GSM565344.CEL.gz',\n",
       " 'GSM565345.CEL.gz',\n",
       " 'GSM565346.CEL.gz',\n",
       " 'GSM565347.CEL.gz',\n",
       " 'GSM565348.CEL.gz',\n",
       " 'GSM565349.CEL.gz',\n",
       " 'GSM565350.CEL.gz',\n",
       " 'GSM565351.CEL.gz',\n",
       " 'GSM565352.CEL.gz',\n",
       " 'GSM565353.CEL.gz',\n",
       " 'GSM565354.CEL.gz',\n",
       " 'GSM565355.CEL.gz',\n",
       " 'GSM565356.CEL.gz',\n",
       " 'GSM565357.CEL.gz',\n",
       " 'GSM565358.CEL.gz',\n",
       " 'GSM565359.CEL.gz',\n",
       " 'GSM565360.CEL.gz',\n",
       " 'GSM565361.CEL.gz',\n",
       " 'GSM565362.CEL.gz',\n",
       " 'GSM565363.CEL.gz',\n",
       " 'GSM565364.CEL.gz',\n",
       " 'GSM565365.CEL.gz',\n",
       " 'GSM565366.CEL.gz',\n",
       " 'GSM565367.CEL.gz',\n",
       " 'GSM565368.CEL.gz',\n",
       " 'GSM565369.CEL.gz',\n",
       " 'GSM565370.CEL.gz',\n",
       " 'GSM565371.CEL.gz',\n",
       " 'GSM565372.CEL.gz',\n",
       " 'GSM565373.CEL.gz',\n",
       " 'GSM565374.CEL.gz',\n",
       " 'GSM565375.CEL.gz',\n",
       " 'GSM565376.CEL.gz',\n",
       " 'GSM565377.CEL.gz',\n",
       " 'GSM565378.CEL.gz',\n",
       " 'GSM565379.CEL.gz',\n",
       " 'GSM565380.CEL.gz',\n",
       " 'GSM565381.CEL.gz',\n",
       " 'GSM565382.CEL.gz',\n",
       " 'A_LW_+BAFF_U133A_250303 [Chtanova_immune|A_LW_+BAFF_U133A_250303]',\n",
       " 'A_LW_+BAFF_U133A_70303 [Chtanova_immune|A_LW_+BAFF_U133A_70303]',\n",
       " 'A_LW_-BAFF_U133A_250303 [Chtanova_immune|A_LW_-BAFF_U133A_250303]',\n",
       " 'A_LW_-BAFF_U133A_70303 [Chtanova_immune|A_LW_-BAFF_U133A_70303]',\n",
       " 'A_LW_CD57+_U133A_030603 [Chtanova_immune|A_LW_CD57+_U133A_030603]',\n",
       " 'A_LW_CD57+_U133A_121102 [Chtanova_immune|A_LW_CD57+_U133A_121102]',\n",
       " 'A_LW_CD57-_U133A_030603 [Chtanova_immune|A_LW_CD57-_U133A_030603]',\n",
       " 'A_LW_CD57-_U133A_121102 [Chtanova_immune|A_LW_CD57-_U133A_121102]',\n",
       " 'A_LW_DC+BAFF_U133A_250304 [Chtanova_immune|A_LW_DC+BAFF_U133A_250304]',\n",
       " 'A_LW_DC-BAFF_U133A_250304 [Chtanova_immune|A_LW_DC-BAFF_U133A_250304]',\n",
       " 'A_LW_DC48hLPS_HC_U133A [Chtanova_immune|A_LW_DC48hLPS_HC_U133A]',\n",
       " 'A_LW_DC48hLPS_U133A_200503 [Chtanova_immune|A_LW_DC48hLPS_U133A_200503]',\n",
       " 'A_LW_DC6hLPS_HC_U133A [Chtanova_immune|A_LW_DC6hLPS_HC_U133A]',\n",
       " 'A_LW_DC6hLPS_U133A_200503 [Chtanova_immune|A_LW_DC6hLPS_U133A_200503]',\n",
       " 'A_LW_imDC_U133A_200503 [Chtanova_immune|A_LW_imDC_U133A_200503]',\n",
       " 'A_LW_macro_LPS_HC_U133A [Chtanova_immune|A_LW_macro_LPS_HC_U133A]',\n",
       " 'A_LW_macro_LPS_U133A_130503 [Chtanova_immune|A_LW_macro_LPS_U133A_130503]',\n",
       " 'A_LW_macroctrl_U133A_130503 [Chtanova_immune|A_LW_macroctrl_U133A_130503]',\n",
       " 'A_LW_mastcellctrl_U133A [Chtanova_immune|A_LW_mastcellctrl_U133A]',\n",
       " 'A_LW_mastcellIgE_U133A [Chtanova_immune|A_LW_mastcellIgE_U133A]',\n",
       " 'A_LW_neutrophil_U133A [Chtanova_immune|A_LW_neutrophil_U133A]',\n",
       " 'A_MF_2hrEosinophils_U133A [Chtanova_immune|A_MF_2hrEosinophils_U133A]',\n",
       " 'A_MF_CCR7+_U133A_190202 [Chtanova_immune|A_MF_CCR7+_U133A_190202]',\n",
       " 'A_MF_CCR7-_U133A_190202 [Chtanova_immune|A_MF_CCR7-_U133A_190202]',\n",
       " 'A_MF_CD57+_U133A_010502 [Chtanova_immune|A_MF_CD57+_U133A_010502]',\n",
       " 'A_MF_CD57-_U133A_010502 [Chtanova_immune|A_MF_CD57-_U133A_010502]',\n",
       " 'A_MF_ControlEosinophil [Chtanova_immune|A_MF_ControlEosinophil]',\n",
       " 'A_MF_ControlMASTCELL_U133A [Chtanova_immune|A_MF_ControlMASTCELL_U133A]',\n",
       " 'A_MF_IgEMASTCELL_U133A [Chtanova_immune|A_MF_IgEMASTCELL_U133A]',\n",
       " 'A_MF_neutrophils_U133A [Chtanova_immune|A_MF_neutrophils_U133A]',\n",
       " 'A_MF_TH1human_U133A_290502 [Chtanova_immune|A_MF_TH1human_U133A_290502]',\n",
       " 'A_MF_TH2human_U133A_290502 [Chtanova_immune|A_MF_TH2human_U133A_290502]',\n",
       " 'A_SZ_48hLPS_HCDC2_U133A [Chtanova_immune|A_SZ_48hLPS_HCDC2_U133A]',\n",
       " 'A_SZ_48hLPSDC2_U133A_250603 [Chtanova_immune|A_SZ_48hLPSDC2_U133A_250603]',\n",
       " 'A_SZ_6hLPS_HCDC2_U133A [Chtanova_immune|A_SZ_6hLPS_HCDC2_U133A]',\n",
       " 'A_SZ_6hLPSDC2_U133A_250603 [Chtanova_immune|A_SZ_6hLPSDC2_U133A_250603]',\n",
       " 'A_SZ_imDC2_U133A_250603 [Chtanova_immune|A_SZ_imDC2_U133A_250603]',\n",
       " 'A_SZ_mac2cont_U133A_240603 [Chtanova_immune|A_SZ_mac2cont_U133A_240603]',\n",
       " 'A_SZ_mac2LPS_HC_U133A [Chtanova_immune|A_SZ_mac2LPS_HC_U133A]',\n",
       " 'A_SZ_mac2LPS_U133A_240603 [Chtanova_immune|A_SZ_mac2LPS_U133A_240603]',\n",
       " 'A_TS_2CD19+_U133A_180204 [Chtanova_immune|A_TS_2CD19+_U133A_180204]',\n",
       " 'A_TS_MDDC4ws+BAFF_U133A [Chtanova_immune|A_TS_MDDC4ws+BAFF_U133A]',\n",
       " 'A_TS_MDDC4ws-BAFF_U133A [Chtanova_immune|A_TS_MDDC4ws-BAFF_U133A]',\n",
       " 'A_TS_MSNeutroLPS_U133A [Chtanova_immune|A_TS_MSNeutroLPS_U133A]',\n",
       " 'A_TS_RN_CD19+_U133A_130104 [Chtanova_immune|A_TS_RN_CD19+_U133A_130104]',\n",
       " 'A_TS_RN_gdTcells_U133A [Chtanova_immune|A_TS_RN_gdTcells_U133A]',\n",
       " 'A_TS_RN_gdTcellsREP_A [Chtanova_immune|A_TS_RN_gdTcellsREP_A]',\n",
       " 'A_TS_TC_Th1_U133A_141003 [Chtanova_immune|A_TS_TC_Th1_U133A_141003]',\n",
       " 'A_TS_TC_Th2_U133A_141003 [Chtanova_immune|A_TS_TC_Th2_U133A_141003]',\n",
       " 'CD8Tcell-N0-1 [HG-U133A] [IRIS_GSE22886|GSM565269]',\n",
       " 'CD8Tcell-N0-2 [HG-U133A] [IRIS_GSE22886|GSM565270]',\n",
       " 'CD8Tcell-N0-3 [HG-U133A] [IRIS_GSE22886|GSM565271]',\n",
       " 'CD8Tcell-N0-4 [HG-U133A] [IRIS_GSE22886|GSM565272]',\n",
       " 'CD4Tcell-N0-1 [HG-U133A] [IRIS_GSE22886|GSM565273]',\n",
       " 'CD4Tcell-N0-2 [HG-U133A] [IRIS_GSE22886|GSM565274]',\n",
       " 'CD4Tcell-N0-3 [HG-U133A] [IRIS_GSE22886|GSM565275]',\n",
       " 'CD4Tcell-Th1-restimulated12hour-1 [HG-U133A] [IRIS_GSE22886|GSM565276]',\n",
       " 'CD4Tcell-Th1-restimulated12hour-2 [HG-U133A] [IRIS_GSE22886|GSM565277]',\n",
       " 'CD4Tcell-Th1-restimulated48hour-1 [HG-U133A] [IRIS_GSE22886|GSM565278]',\n",
       " 'CD4Tcell-Th1-restimulated48hour-2 [HG-U133A] [IRIS_GSE22886|GSM565279]',\n",
       " 'CD4Tcell-Th1-restimulated48hour-3 [HG-U133A] [IRIS_GSE22886|GSM565280]',\n",
       " 'CD4Tcell-Th2-restimulated12hour-1 [HG-U133A] [IRIS_GSE22886|GSM565281]',\n",
       " 'CD4Tcell-Th2-restimulated12hour-2 [HG-U133A] [IRIS_GSE22886|GSM565282]',\n",
       " 'CD4Tcell-Th2-restimulated12hour-3 [HG-U133A] [IRIS_GSE22886|GSM565283]',\n",
       " 'CD4Tcell-Th2-restimulated48hour-1 [HG-U133A] [IRIS_GSE22886|GSM565284]',\n",
       " 'CD4Tcell-Th2-restimulated48hour-2 [HG-U133A] [IRIS_GSE22886|GSM565285]',\n",
       " 'CD4Tcell-Th2-restimulated48hour-3 [HG-U133A] [IRIS_GSE22886|GSM565286]',\n",
       " 'MemoryTcell-RO-unactivated-1 [HG-U133A] [IRIS_GSE22886|GSM565287]',\n",
       " 'MemoryTcell-RO-unactivated-2 [HG-U133A] [IRIS_GSE22886|GSM565288]',\n",
       " 'MemoryTcell-RO-unactivated-3 [HG-U133A] [IRIS_GSE22886|GSM565289]',\n",
       " 'MemoryTcell-RO-activated-1 [HG-U133A] [IRIS_GSE22886|GSM565290]',\n",
       " 'MemoryTcell-RO-activated-2 [HG-U133A] [IRIS_GSE22886|GSM565291]',\n",
       " 'MemoryTcell-RO-activated-3 [HG-U133A] [IRIS_GSE22886|GSM565292]',\n",
       " 'NKcell-control-1 [HG-U133A] [IRIS_GSE22886|GSM565293]',\n",
       " 'NKcell-control-2 [HG-U133A] [IRIS_GSE22886|GSM565294]',\n",
       " 'NKcell-control-3 [HG-U133A] [IRIS_GSE22886|GSM565295]',\n",
       " 'NKcell-control-4 [HG-U133A] [IRIS_GSE22886|GSM565296]',\n",
       " 'NKcell-IL2stimulated-1 [HG-U133A] [IRIS_GSE22886|GSM565297]',\n",
       " 'NKcell-IL2stimulated-2 [HG-U133A] [IRIS_GSE22886|GSM565298]',\n",
       " 'NKcell-IL2stimulated-3 [HG-U133A] [IRIS_GSE22886|GSM565299]',\n",
       " 'NKcell-IL2stimulated-4 [HG-U133A] [IRIS_GSE22886|GSM565300]',\n",
       " 'NKcell-IL2stimulated-5 [HG-U133A] [IRIS_GSE22886|GSM565301]',\n",
       " 'NKcell-IL15stimulated-1 [HG-U133A] [IRIS_GSE22886|GSM565302]',\n",
       " 'NKcell-IL15stimulated-2 [HG-U133A] [IRIS_GSE22886|GSM565303]',\n",
       " 'NKcell-IL15stimulated-3 [HG-U133A] [IRIS_GSE22886|GSM565304]',\n",
       " 'NKcell-IL15stimulated-4 [HG-U133A] [IRIS_GSE22886|GSM565305]',\n",
       " 'NKcell-IL15stimulated-5 [HG-U133A] [IRIS_GSE22886|GSM565306]',\n",
       " 'NKcell-IL15stimulated-6 [HG-U133A] [IRIS_GSE22886|GSM565307]',\n",
       " 'Bcell-naive-1 [HG-U133A] [IRIS_GSE22886|GSM565308]',\n",
       " 'Bcell-naive-2 [HG-U133A] [IRIS_GSE22886|GSM565309]',\n",
       " 'Bcell-naive-3 [HG-U133A] [IRIS_GSE22886|GSM565310]',\n",
       " 'Bcell-naive-4 [HG-U133A] [IRIS_GSE22886|GSM565311]',\n",
       " 'Bcell-naive-5 [HG-U133A] [IRIS_GSE22886|GSM565312]',\n",
       " 'Bcell-naive-6 [HG-U133A] [IRIS_GSE22886|GSM565313]',\n",
       " 'Bcell-naive-7 [HG-U133A] [IRIS_GSE22886|GSM565314]',\n",
       " 'Bcell-Memory_IgG_IgA-1 [HG-U133A] [IRIS_GSE22886|GSM565315]',\n",
       " 'Bcell-Memory_IgG_IgA-2 [HG-U133A] [IRIS_GSE22886|GSM565316]',\n",
       " 'Bcell-Memory_IgG_IgA-3 [HG-U133A] [IRIS_GSE22886|GSM565317]',\n",
       " 'Bcell-Memory_IgG_IgA-4 [HG-U133A] [IRIS_GSE22886|GSM565318]',\n",
       " 'Bcell-Memory_IgM-1 [HG-U133A] [IRIS_GSE22886|GSM565319]',\n",
       " 'Bcell-Memory_IgM-2 [HG-U133A] [IRIS_GSE22886|GSM565320]',\n",
       " 'Bcell-Memory_IgM-3 [HG-U133A] [IRIS_GSE22886|GSM565321]',\n",
       " 'Bcell-Memory_IgM-4 [HG-U133A] [IRIS_GSE22886|GSM565322]',\n",
       " 'PlasmaCell-FromPBMC-1 [HG-U133A] [IRIS_GSE22886|GSM565323]',\n",
       " 'PlasmaCell-FromPBMC-2 [HG-U133A] [IRIS_GSE22886|GSM565324]',\n",
       " 'PlasmaCell-FromPBMC-3 [HG-U133A] [IRIS_GSE22886|GSM565325]',\n",
       " 'PlasmaCell-FromBoneMarrow-1 [HG-U133A] [IRIS_GSE22886|GSM565326]',\n",
       " 'PlasmaCell-FromBoneMarrow-2 [HG-U133A] [IRIS_GSE22886|GSM565327]',\n",
       " 'PlasmaCell-FromBoneMarrow-3 [HG-U133A] [IRIS_GSE22886|GSM565328]',\n",
       " 'PlasmaCell-FromBoneMarrow-4 [HG-U133A] [IRIS_GSE22886|GSM565329]',\n",
       " 'Monocyte-Day0-1 [HG-U133A] [IRIS_GSE22886|GSM565330]',\n",
       " 'Monocyte-Day0-2 [HG-U133A] [IRIS_GSE22886|GSM565331]',\n",
       " 'Monocyte-Day0-3 [HG-U133A] [IRIS_GSE22886|GSM565332]',\n",
       " 'Monocyte-Day0-4 [HG-U133A] [IRIS_GSE22886|GSM565333]',\n",
       " 'Monocyte-Day0-5 [HG-U133A] [IRIS_GSE22886|GSM565334]',\n",
       " 'Monocyte-Day0-6 [HG-U133A] [IRIS_GSE22886|GSM565335]',\n",
       " 'Monocyte-Day0-7 [HG-U133A] [IRIS_GSE22886|GSM565336]',\n",
       " 'Monocyte-Day0-8 [HG-U133A] [IRIS_GSE22886|GSM565337]',\n",
       " 'Monocyte-Day0-9 [HG-U133A] [IRIS_GSE22886|GSM565338]',\n",
       " 'Monocyte-Day0-10 [HG-U133A] [IRIS_GSE22886|GSM565339]',\n",
       " 'Monocyte-Day0-11 [HG-U133A] [IRIS_GSE22886|GSM565340]',\n",
       " 'Monocyte-Day0-12 [HG-U133A] [IRIS_GSE22886|GSM565341]',\n",
       " 'Monocyte-Day1-1 [HG-U133A] [IRIS_GSE22886|GSM565342]',\n",
       " 'Monocyte-Day1-2 [HG-U133A] [IRIS_GSE22886|GSM565343]',\n",
       " 'Monocyte-Day1-3 [HG-U133A] [IRIS_GSE22886|GSM565344]',\n",
       " 'Monocyte-Day1-4 [HG-U133A] [IRIS_GSE22886|GSM565345]',\n",
       " 'Monocyte-Day1-5 [HG-U133A] [IRIS_GSE22886|GSM565346]',\n",
       " 'Monocyte-Day1-6 [HG-U133A] [IRIS_GSE22886|GSM565347]',\n",
       " 'Monocyte-Day1-7 [HG-U133A] [IRIS_GSE22886|GSM565348]',\n",
       " 'Monocyte-Day1-8 [HG-U133A] [IRIS_GSE22886|GSM565349]',\n",
       " 'Monocyte-Day1-9 [HG-U133A] [IRIS_GSE22886|GSM565350]',\n",
       " 'Monocyte-Day1-10 [HG-U133A] [IRIS_GSE22886|GSM565351]',\n",
       " 'Monocyte-Day1-11 [HG-U133A] [IRIS_GSE22886|GSM565352]',\n",
       " 'Monocyte-Day1-12 [HG-U133A] [IRIS_GSE22886|GSM565353]',\n",
       " 'Monocyte-Day7-1 [HG-U133A] [IRIS_GSE22886|GSM565354]',\n",
       " 'Monocyte-Day7-2 [HG-U133A] [IRIS_GSE22886|GSM565355]',\n",
       " 'Monocyte-Day7-3 [HG-U133A] [IRIS_GSE22886|GSM565356]',\n",
       " 'Monocyte-Day7-4 [HG-U133A] [IRIS_GSE22886|GSM565357]',\n",
       " 'Monocyte-Day7-5 [HG-U133A] [IRIS_GSE22886|GSM565358]',\n",
       " 'Monocyte-Day7-6 [HG-U133A] [IRIS_GSE22886|GSM565359]',\n",
       " 'Monocyte-Day7-7 [HG-U133A] [IRIS_GSE22886|GSM565360]',\n",
       " 'Monocyte-Day7-8 [HG-U133A] [IRIS_GSE22886|GSM565361]',\n",
       " 'Monocyte-Day7-9 [HG-U133A] [IRIS_GSE22886|GSM565362]',\n",
       " 'Monocyte-Day7-10 [HG-U133A] [IRIS_GSE22886|GSM565363]',\n",
       " 'Monocyte-Day7-11 [HG-U133A] [IRIS_GSE22886|GSM565364]',\n",
       " 'Monocyte-Day7-12 [HG-U133A] [IRIS_GSE22886|GSM565365]',\n",
       " 'DendriticCell-Control-1 [HG-U133A] [IRIS_GSE22886|GSM565366]',\n",
       " 'DendriticCell-Control-2 [HG-U133A] [IRIS_GSE22886|GSM565367]',\n",
       " 'DendriticCell-Control-3 [HG-U133A] [IRIS_GSE22886|GSM565368]',\n",
       " 'DendriticCell-Control-4 [HG-U133A] [IRIS_GSE22886|GSM565369]',\n",
       " 'DendriticCell-Control-5 [HG-U133A] [IRIS_GSE22886|GSM565370]',\n",
       " 'DendriticCell-Control-6 [HG-U133A] [IRIS_GSE22886|GSM565371]',\n",
       " 'DendriticCell-LPSstimulated-1 [HG-U133A] [IRIS_GSE22886|GSM565372]',\n",
       " 'DendriticCell-LPSstimulated-2 [HG-U133A] [IRIS_GSE22886|GSM565373]',\n",
       " 'DendriticCell-LPSstimulated-3 [HG-U133A] [IRIS_GSE22886|GSM565374]',\n",
       " 'DendriticCell-LPSstimulated-4 [HG-U133A] [IRIS_GSE22886|GSM565375]',\n",
       " 'DendriticCell-LPSstimulated-5 [HG-U133A] [IRIS_GSE22886|GSM565376]',\n",
       " 'DendriticCell-LPSstimulated-6 [HG-U133A] [IRIS_GSE22886|GSM565377]',\n",
       " 'Neutrophil-Resting-1 [HG-U133A] [IRIS_GSE22886|GSM565378]',\n",
       " 'Neutrophil-Resting-2 [HG-U133A] [IRIS_GSE22886|GSM565379]',\n",
       " 'Neutrophil-Resting-3 [HG-U133A] [IRIS_GSE22886|GSM565380]',\n",
       " 'Neutrophil-Resting-4 [HG-U133A] [IRIS_GSE22886|GSM565381]',\n",
       " 'Neutrophil-Resting-5 [HG-U133A] [IRIS_GSE22886|GSM565382]',\n",
       " 'classical or M1 activated macrophages, biological rep1 HG-U133A [M1_M2_GSE7138|GSM115055]',\n",
       " 'classical or M1 activated macrophages, biological rep2 HG-U133A [M1_M2_GSE7138|GSM115056]',\n",
       " 'classical or M1 activated macrophages, biological rep3 HG-U133A [M1_M2_GSE7138|GSM115057]',\n",
       " 'Alternative or M2 activated macrophages, biological rep1 HG-U133A [M1_M2_GSE7138|GSM115058]',\n",
       " 'Alternative or M2 activated macrophages, biological rep2 HG-U133A [M1_M2_GSE7138|GSM115059]',\n",
       " 'Alternative or M2 activated macrophages, biological rep3 HG-U133A [M1_M2_GSE7138|GSM115060]',\n",
       " 'CXCR5-ICOS-lo_U133A_1 [TFH_E-MEXP-750|CXCR5-ICOS-lo_U133A_1]',\n",
       " 'CXCR5-ICOS-lo_U133A_2 [TFH_E-MEXP-750|CXCR5-ICOS-lo_U133A_2]',\n",
       " 'CXCR5-ICOS-lo_U133A_3 [TFH_E-MEXP-750|CXCR5-ICOS-lo_U133A_3]',\n",
       " 'CXCR5hiICOShi_U133A_1 [TFH_E-MEXP-750|CXCR5hiICOShi_U133A_1]',\n",
       " 'CXCR5hiICOShi_U133A_2 [TFH_E-MEXP-750|CXCR5hiICOShi_U133A_2]',\n",
       " 'CXCR5hiICOShi_U133A_3 [TFH_E-MEXP-750|CXCR5hiICOShi_U133A_3]',\n",
       " 'CXCR5loICOSint_U133A_1 [TFH_E-MEXP-750|CXCR5loICOSint_U133A_1]',\n",
       " 'CXCR5loICOSint_U133A_2 [TFH_E-MEXP-750|CXCR5loICOSint_U133A_2]',\n",
       " 'CXCR5loICOSint_U133A_3 [TFH_E-MEXP-750|CXCR5loICOSint_U133A_3]',\n",
       " 'TCM1_U133A_1 [TFH_E-MEXP-750|TCM1_U133A_1]',\n",
       " 'TCM1_U133A_2 [TFH_E-MEXP-750|TCM1_U133A_2]',\n",
       " 'TCM1_U133A_3 [TFH_E-MEXP-750|TCM1_U133A_3]',\n",
       " 'TCM_U133A_1 [TFH_E-MEXP-750|TCM_U133A_1]',\n",
       " 'TCM_U133A_2 [TFH_E-MEXP-750|TCM_U133A_2]',\n",
       " 'TCM_U133A_3 [TFH_E-MEXP-750|TCM_U133A_3]',\n",
       " 'TEM_U133A_1 [TFH_E-MEXP-750|TEM_U133A_1]',\n",
       " 'TEM_U133A_2 [TFH_E-MEXP-750|TEM_U133A_2]',\n",
       " 'TEM_U133A_3 [TFH_E-MEXP-750|TEM_U133A_3]',\n",
       " 'TN_U133A_1 [TFH_E-MEXP-750|TN_U133A_1]',\n",
       " 'TN_U133A_2 [TFH_E-MEXP-750|TN_U133A_2]',\n",
       " 'TN_U133A_3 [TFH_E-MEXP-750|TN_U133A_3]',\n",
       " 'TH_1 [TREGs_GSE4527|GSM101518]',\n",
       " 'Treg_1 [TREGs_GSE4527|GSM101519]',\n",
       " 'TH_2 [TREGs_GSE4527|GSM101520]',\n",
       " 'Treg_2 [TREGs_GSE4527|GSM101521]']"
      ]
     },
     "execution_count": 7,
     "metadata": {},
     "output_type": "execute_result"
    }
   ],
   "source": [
    "df[df.columns[2:]].head().columns.tolist()"
   ]
  },
  {
   "cell_type": "code",
   "execution_count": 8,
   "metadata": {
    "collapsed": false
   },
   "outputs": [
    {
     "data": {
      "text/plain": [
       "<matplotlib.text.Text at 0x7fb41b2e3750>"
      ]
     },
     "execution_count": 8,
     "metadata": {},
     "output_type": "execute_result"
    },
    {
     "data": {
      "image/png": "[encoded data removed]",
      "text/plain": [
       "<matplotlib.figure.Figure at 0x7fb454b75d50>"
      ]
     },
     "metadata": {},
     "output_type": "display_data"
    }
   ],
   "source": [
    "# are columns normalized?\n",
    "df[df.columns[2:]].apply(lambda x: x.mean(), axis=0).hist()\n",
    "plt.title('mean value per column')"
   ]
  },
  {
   "cell_type": "code",
   "execution_count": 9,
   "metadata": {
    "collapsed": false
   },
   "outputs": [
    {
     "data": {
      "text/plain": [
       "<matplotlib.text.Text at 0x7fb41b543850>"
      ]
     },
     "execution_count": 9,
     "metadata": {},
     "output_type": "execute_result"
    },
    {
     "data": {
      "image/png": "[encoded data removed]",
      "text/plain": [
       "<matplotlib.figure.Figure at 0x7fb41b61fe50>"
      ]
     },
     "metadata": {},
     "output_type": "display_data"
    }
   ],
   "source": [
    "df[df.columns[2:]].apply(lambda x: x.std(), axis=0).hist()\n",
    "plt.title('std value per column')"
   ]
  },
  {
   "cell_type": "code",
   "execution_count": 10,
   "metadata": {
    "collapsed": false
   },
   "outputs": [
    {
     "data": {
      "text/plain": [
       "PRB12534.Jurkat    1294.401286\n",
       "PRB12535.Jurkat    1313.090414\n",
       "PRB12536.Jurkat    1344.007331\n",
       "PRB12537.IM.9      1369.016079\n",
       "PRB12538.IM.9      1388.609107\n",
       "dtype: float64"
      ]
     },
     "execution_count": 10,
     "metadata": {},
     "output_type": "execute_result"
    }
   ],
   "source": [
    "meanvals = df[df.columns[2:]].apply(lambda x: x.mean(), axis=0)\n",
    "meanvals.head()"
   ]
  },
  {
   "cell_type": "code",
   "execution_count": 11,
   "metadata": {
    "collapsed": false
   },
   "outputs": [
    {
     "name": "stderr",
     "output_type": "stream",
     "text": [
      "/home/maxim/anaconda2/lib/python2.7/site-packages/ipykernel/__main__.py:1: FutureWarning: sort is deprecated, use sort_values(inplace=True) for INPLACE sorting\n",
      "  if __name__ == '__main__':\n"
     ]
    }
   ],
   "source": [
    "meanvals.sort()"
   ]
  },
  {
   "cell_type": "code",
   "execution_count": 12,
   "metadata": {
    "collapsed": false
   },
   "outputs": [
    {
     "data": {
      "text/plain": [
       "CD4Tcell-Th1-restimulated12hour-1 [HG-U133A] [IRIS_GSE22886|GSM565276]      643.079902\n",
       "A_TS_TC_Th1_U133A_141003 [Chtanova_immune|A_TS_TC_Th1_U133A_141003]         655.558908\n",
       "Bcell-naive-3 [HG-U133A] [IRIS_GSE22886|GSM565310]                          659.769247\n",
       "NKcell-IL15stimulated-1 [HG-U133A] [IRIS_GSE22886|GSM565302]                661.455178\n",
       "CD4Tcell-Th2-restimulated48hour-2 [HG-U133A] [IRIS_GSE22886|GSM565285]      661.543820\n",
       "DendriticCell-Control-5 [HG-U133A] [IRIS_GSE22886|GSM565370]                668.440631\n",
       "MemoryTcell-RO-activated-1 [HG-U133A] [IRIS_GSE22886|GSM565290]             668.721397\n",
       "Bcell-naive-1 [HG-U133A] [IRIS_GSE22886|GSM565308]                          669.947735\n",
       "MemoryTcell-RO-activated-2 [HG-U133A] [IRIS_GSE22886|GSM565291]             671.585993\n",
       "Monocyte-Day7-11 [HG-U133A] [IRIS_GSE22886|GSM565364]                       671.884865\n",
       "Bcell-naive-4 [HG-U133A] [IRIS_GSE22886|GSM565311]                          671.961806\n",
       "NKcell-IL2stimulated-1 [HG-U133A] [IRIS_GSE22886|GSM565297]                 673.503396\n",
       "DendriticCell-Control-2 [HG-U133A] [IRIS_GSE22886|GSM565367]                673.679969\n",
       "A_LW_DC48hLPS_U133A_200503 [Chtanova_immune|A_LW_DC48hLPS_U133A_200503]     674.052694\n",
       "A_TS_TC_Th2_U133A_141003 [Chtanova_immune|A_TS_TC_Th2_U133A_141003]         674.505982\n",
       "CD4Tcell-Th2-restimulated12hour-1 [HG-U133A] [IRIS_GSE22886|GSM565281]      676.118298\n",
       "A_TS_RN_gdTcells_U133A [Chtanova_immune|A_TS_RN_gdTcells_U133A]             677.259176\n",
       "A_LW_DC48hLPS_HC_U133A [Chtanova_immune|A_LW_DC48hLPS_HC_U133A]             677.461544\n",
       "CD4Tcell-Th1-restimulated48hour-2 [HG-U133A] [IRIS_GSE22886|GSM565279]      680.141345\n",
       "NKcell-IL2stimulated-5 [HG-U133A] [IRIS_GSE22886|GSM565301]                 680.512517\n",
       "CD4Tcell-Th2-restimulated12hour-3 [HG-U133A] [IRIS_GSE22886|GSM565283]      681.675489\n",
       "CD4Tcell-Th2-restimulated12hour-2 [HG-U133A] [IRIS_GSE22886|GSM565282]      682.108286\n",
       "Monocyte-Day7-7 [HG-U133A] [IRIS_GSE22886|GSM565360]                        682.282803\n",
       "CD4Tcell-Th2-restimulated48hour-1 [HG-U133A] [IRIS_GSE22886|GSM565284]      683.473326\n",
       "CD4Tcell-Th1-restimulated12hour-2 [HG-U133A] [IRIS_GSE22886|GSM565277]      683.615854\n",
       "NKcell-IL15stimulated-5 [HG-U133A] [IRIS_GSE22886|GSM565306]                684.432802\n",
       "A_LW_imDC_U133A_200503 [Chtanova_immune|A_LW_imDC_U133A_200503]             685.552698\n",
       "Monocyte-Day7-5 [HG-U133A] [IRIS_GSE22886|GSM565358]                        685.766975\n",
       "CD4Tcell-Th1-restimulated48hour-1 [HG-U133A] [IRIS_GSE22886|GSM565278]      687.776978\n",
       "A_SZ_mac2cont_U133A_240603 [Chtanova_immune|A_SZ_mac2cont_U133A_240603]     688.127877\n",
       "                                                                              ...     \n",
       "PlasmaCell-FromBoneMarrow-3 [HG-U133A] [IRIS_GSE22886|GSM565328]            828.520017\n",
       "Treg_1 [TREGs_GSE4527|GSM101519]                                            828.534520\n",
       "TCM_U133A_1 [TFH_E-MEXP-750|TCM_U133A_1]                                    829.581445\n",
       "TEM_U133A_1 [TFH_E-MEXP-750|TEM_U133A_1]                                    830.444778\n",
       "TEM_U133A_3 [TFH_E-MEXP-750|TEM_U133A_3]                                    839.249574\n",
       "TN_U133A_2 [TFH_E-MEXP-750|TN_U133A_2]                                      840.217431\n",
       "TCM_U133A_2 [TFH_E-MEXP-750|TCM_U133A_2]                                    840.496566\n",
       "TEM_U133A_2 [TFH_E-MEXP-750|TEM_U133A_2]                                    842.380131\n",
       "TN_U133A_1 [TFH_E-MEXP-750|TN_U133A_1]                                      844.966054\n",
       "TCM1_U133A_1 [TFH_E-MEXP-750|TCM1_U133A_1]                                  846.026729\n",
       "TCM1_U133A_2 [TFH_E-MEXP-750|TCM1_U133A_2]                                  859.238031\n",
       "TCM_U133A_3 [TFH_E-MEXP-750|TCM_U133A_3]                                    859.888413\n",
       "PlasmaCell-FromBoneMarrow-4 [HG-U133A] [IRIS_GSE22886|GSM565329]            862.349898\n",
       "TN_U133A_3 [TFH_E-MEXP-750|TN_U133A_3]                                      865.577009\n",
       "A_LW_neutrophil_U133A [Chtanova_immune|A_LW_neutrophil_U133A]               873.024694\n",
       "A_TS_MSNeutroLPS_U133A [Chtanova_immune|A_TS_MSNeutroLPS_U133A]             898.013304\n",
       "A_MF_2hrEosinophils_U133A [Chtanova_immune|A_MF_2hrEosinophils_U133A]       898.766661\n",
       "A_MF_neutrophils_U133A [Chtanova_immune|A_MF_neutrophils_U133A]             905.253504\n",
       "PRB12534.Jurkat                                                            1294.401286\n",
       "PRB12535.Jurkat                                                            1313.090414\n",
       "PRB12536.Jurkat                                                            1344.007331\n",
       "PRB12537.IM.9                                                              1369.016079\n",
       "PRB12544.THP.1                                                             1377.735808\n",
       "PRB12538.IM.9                                                              1388.609107\n",
       "PRB12539.IM.9                                                              1391.203446\n",
       "PRB12545.THP.1                                                             1396.251833\n",
       "PRB12542.Raji                                                              1406.313096\n",
       "PRB12543.THP.1                                                             1429.504273\n",
       "PRB12540.Raji                                                              1438.071154\n",
       "PRB12541.Raji                                                              1487.727769\n",
       "dtype: float64"
      ]
     },
     "execution_count": 12,
     "metadata": {},
     "output_type": "execute_result"
    }
   ],
   "source": [
    "meanvals[meanvals > 8]"
   ]
  },
  {
   "cell_type": "markdown",
   "metadata": {},
   "source": [
    "looks like several datasets might not be lognormalized\n",
    "\n",
    "* we ran RMA ourselves on Bindea and IRIS (see `process.R` in those directories)\n",
    "* abbas, cibersort we took as is\n",
    "\n",
    "matches this:\n"
   ]
  },
  {
   "cell_type": "code",
   "execution_count": 13,
   "metadata": {
    "collapsed": false
   },
   "outputs": [
    {
     "data": {
      "text/plain": [
       "A_TS_TC_Th1_U133A_141003 [Chtanova_immune|A_TS_TC_Th1_U133A_141003]          655.558908\n",
       "A_LW_DC48hLPS_U133A_200503 [Chtanova_immune|A_LW_DC48hLPS_U133A_200503]      674.052694\n",
       "A_TS_TC_Th2_U133A_141003 [Chtanova_immune|A_TS_TC_Th2_U133A_141003]          674.505982\n",
       "A_TS_RN_gdTcells_U133A [Chtanova_immune|A_TS_RN_gdTcells_U133A]              677.259176\n",
       "A_LW_DC48hLPS_HC_U133A [Chtanova_immune|A_LW_DC48hLPS_HC_U133A]              677.461544\n",
       "A_LW_imDC_U133A_200503 [Chtanova_immune|A_LW_imDC_U133A_200503]              685.552698\n",
       "A_SZ_mac2cont_U133A_240603 [Chtanova_immune|A_SZ_mac2cont_U133A_240603]      688.127877\n",
       "A_LW_-BAFF_U133A_70303 [Chtanova_immune|A_LW_-BAFF_U133A_70303]              691.869523\n",
       "A_MF_IgEMASTCELL_U133A [Chtanova_immune|A_MF_IgEMASTCELL_U133A]              692.751444\n",
       "A_LW_macroctrl_U133A_130503 [Chtanova_immune|A_LW_macroctrl_U133A_130503]    696.958173\n",
       "A_LW_+BAFF_U133A_70303 [Chtanova_immune|A_LW_+BAFF_U133A_70303]              698.460943\n",
       "A_TS_RN_gdTcellsREP_A [Chtanova_immune|A_TS_RN_gdTcellsREP_A]                699.932729\n",
       "A_LW_-BAFF_U133A_250303 [Chtanova_immune|A_LW_-BAFF_U133A_250303]            700.071807\n",
       "A_TS_RN_CD19+_U133A_130104 [Chtanova_immune|A_TS_RN_CD19+_U133A_130104]      700.707775\n",
       "A_LW_macro_LPS_HC_U133A [Chtanova_immune|A_LW_macro_LPS_HC_U133A]            702.752242\n",
       "A_MF_TH2human_U133A_290502 [Chtanova_immune|A_MF_TH2human_U133A_290502]      703.876236\n",
       "A_LW_mastcellctrl_U133A [Chtanova_immune|A_LW_mastcellctrl_U133A]            704.096747\n",
       "A_MF_ControlMASTCELL_U133A [Chtanova_immune|A_MF_ControlMASTCELL_U133A]      706.126260\n",
       "A_MF_TH1human_U133A_290502 [Chtanova_immune|A_MF_TH1human_U133A_290502]      709.302504\n",
       "A_LW_CD57-_U133A_030603 [Chtanova_immune|A_LW_CD57-_U133A_030603]            712.117663\n",
       "A_TS_MDDC4ws-BAFF_U133A [Chtanova_immune|A_TS_MDDC4ws-BAFF_U133A]            712.273626\n",
       "A_LW_CD57+_U133A_030603 [Chtanova_immune|A_LW_CD57+_U133A_030603]            714.979503\n",
       "A_LW_DC6hLPS_U133A_200503 [Chtanova_immune|A_LW_DC6hLPS_U133A_200503]        716.192893\n",
       "A_MF_CD57+_U133A_010502 [Chtanova_immune|A_MF_CD57+_U133A_010502]            717.737292\n",
       "A_LW_mastcellIgE_U133A [Chtanova_immune|A_LW_mastcellIgE_U133A]              718.058076\n",
       "A_TS_MDDC4ws+BAFF_U133A [Chtanova_immune|A_TS_MDDC4ws+BAFF_U133A]            718.826946\n",
       "A_LW_macro_LPS_U133A_130503 [Chtanova_immune|A_LW_macro_LPS_U133A_130503]    723.298691\n",
       "A_LW_CD57+_U133A_121102 [Chtanova_immune|A_LW_CD57+_U133A_121102]            725.804320\n",
       "A_MF_CD57-_U133A_010502 [Chtanova_immune|A_MF_CD57-_U133A_010502]            726.338097\n",
       "A_LW_+BAFF_U133A_250303 [Chtanova_immune|A_LW_+BAFF_U133A_250303]            730.334324\n",
       "A_LW_DC6hLPS_HC_U133A [Chtanova_immune|A_LW_DC6hLPS_HC_U133A]                732.296539\n",
       "A_SZ_mac2LPS_U133A_240603 [Chtanova_immune|A_SZ_mac2LPS_U133A_240603]        733.699778\n",
       "A_SZ_mac2LPS_HC_U133A [Chtanova_immune|A_SZ_mac2LPS_HC_U133A]                735.435826\n",
       "A_LW_DC-BAFF_U133A_250304 [Chtanova_immune|A_LW_DC-BAFF_U133A_250304]        746.964814\n",
       "A_SZ_6hLPS_HCDC2_U133A [Chtanova_immune|A_SZ_6hLPS_HCDC2_U133A]              754.924996\n",
       "A_MF_ControlEosinophil [Chtanova_immune|A_MF_ControlEosinophil]              758.454057\n",
       "A_SZ_6hLPSDC2_U133A_250603 [Chtanova_immune|A_SZ_6hLPSDC2_U133A_250603]      761.124463\n",
       "A_TS_2CD19+_U133A_180204 [Chtanova_immune|A_TS_2CD19+_U133A_180204]          764.150954\n",
       "A_LW_DC+BAFF_U133A_250304 [Chtanova_immune|A_LW_DC+BAFF_U133A_250304]        766.873000\n",
       "A_SZ_imDC2_U133A_250603 [Chtanova_immune|A_SZ_imDC2_U133A_250603]            771.036432\n",
       "A_SZ_48hLPS_HCDC2_U133A [Chtanova_immune|A_SZ_48hLPS_HCDC2_U133A]            772.949905\n",
       "A_LW_CD57-_U133A_121102 [Chtanova_immune|A_LW_CD57-_U133A_121102]            780.900878\n",
       "A_MF_CCR7+_U133A_190202 [Chtanova_immune|A_MF_CCR7+_U133A_190202]            781.554896\n",
       "A_SZ_48hLPSDC2_U133A_250603 [Chtanova_immune|A_SZ_48hLPSDC2_U133A_250603]    782.867433\n",
       "A_MF_CCR7-_U133A_190202 [Chtanova_immune|A_MF_CCR7-_U133A_190202]            796.365215\n",
       "A_LW_neutrophil_U133A [Chtanova_immune|A_LW_neutrophil_U133A]                873.024694\n",
       "A_TS_MSNeutroLPS_U133A [Chtanova_immune|A_TS_MSNeutroLPS_U133A]              898.013304\n",
       "A_MF_2hrEosinophils_U133A [Chtanova_immune|A_MF_2hrEosinophils_U133A]        898.766661\n",
       "A_MF_neutrophils_U133A [Chtanova_immune|A_MF_neutrophils_U133A]              905.253504\n",
       "dtype: float64"
      ]
     },
     "execution_count": 13,
     "metadata": {},
     "output_type": "execute_result"
    }
   ],
   "source": [
    "# all from this dataset are high\n",
    "meanvals[meanvals.index.str.contains('Chtanova')]"
   ]
  },
  {
   "cell_type": "code",
   "execution_count": 14,
   "metadata": {
    "collapsed": false
   },
   "outputs": [
    {
     "data": {
      "text/plain": [
       "CD4Tcell-Th1-restimulated12hour-1 [HG-U133A] [IRIS_GSE22886|GSM565276]    643.079902\n",
       "Bcell-naive-3 [HG-U133A] [IRIS_GSE22886|GSM565310]                        659.769247\n",
       "NKcell-IL15stimulated-1 [HG-U133A] [IRIS_GSE22886|GSM565302]              661.455178\n",
       "CD4Tcell-Th2-restimulated48hour-2 [HG-U133A] [IRIS_GSE22886|GSM565285]    661.543820\n",
       "DendriticCell-Control-5 [HG-U133A] [IRIS_GSE22886|GSM565370]              668.440631\n",
       "MemoryTcell-RO-activated-1 [HG-U133A] [IRIS_GSE22886|GSM565290]           668.721397\n",
       "Bcell-naive-1 [HG-U133A] [IRIS_GSE22886|GSM565308]                        669.947735\n",
       "MemoryTcell-RO-activated-2 [HG-U133A] [IRIS_GSE22886|GSM565291]           671.585993\n",
       "Monocyte-Day7-11 [HG-U133A] [IRIS_GSE22886|GSM565364]                     671.884865\n",
       "Bcell-naive-4 [HG-U133A] [IRIS_GSE22886|GSM565311]                        671.961806\n",
       "NKcell-IL2stimulated-1 [HG-U133A] [IRIS_GSE22886|GSM565297]               673.503396\n",
       "DendriticCell-Control-2 [HG-U133A] [IRIS_GSE22886|GSM565367]              673.679969\n",
       "CD4Tcell-Th2-restimulated12hour-1 [HG-U133A] [IRIS_GSE22886|GSM565281]    676.118298\n",
       "CD4Tcell-Th1-restimulated48hour-2 [HG-U133A] [IRIS_GSE22886|GSM565279]    680.141345\n",
       "NKcell-IL2stimulated-5 [HG-U133A] [IRIS_GSE22886|GSM565301]               680.512517\n",
       "CD4Tcell-Th2-restimulated12hour-3 [HG-U133A] [IRIS_GSE22886|GSM565283]    681.675489\n",
       "CD4Tcell-Th2-restimulated12hour-2 [HG-U133A] [IRIS_GSE22886|GSM565282]    682.108286\n",
       "Monocyte-Day7-7 [HG-U133A] [IRIS_GSE22886|GSM565360]                      682.282803\n",
       "CD4Tcell-Th2-restimulated48hour-1 [HG-U133A] [IRIS_GSE22886|GSM565284]    683.473326\n",
       "CD4Tcell-Th1-restimulated12hour-2 [HG-U133A] [IRIS_GSE22886|GSM565277]    683.615854\n",
       "NKcell-IL15stimulated-5 [HG-U133A] [IRIS_GSE22886|GSM565306]              684.432802\n",
       "Monocyte-Day7-5 [HG-U133A] [IRIS_GSE22886|GSM565358]                      685.766975\n",
       "CD4Tcell-Th1-restimulated48hour-1 [HG-U133A] [IRIS_GSE22886|GSM565278]    687.776978\n",
       "CD4Tcell-Th2-restimulated48hour-3 [HG-U133A] [IRIS_GSE22886|GSM565286]    689.000806\n",
       "DendriticCell-Control-4 [HG-U133A] [IRIS_GSE22886|GSM565369]              690.243122\n",
       "Monocyte-Day7-1 [HG-U133A] [IRIS_GSE22886|GSM565354]                      691.195690\n",
       "DendriticCell-Control-6 [HG-U133A] [IRIS_GSE22886|GSM565371]              691.315056\n",
       "DendriticCell-Control-3 [HG-U133A] [IRIS_GSE22886|GSM565368]              692.382987\n",
       "Monocyte-Day7-6 [HG-U133A] [IRIS_GSE22886|GSM565359]                      694.457582\n",
       "DendriticCell-LPSstimulated-4 [HG-U133A] [IRIS_GSE22886|GSM565375]        695.651082\n",
       "                                                                             ...    \n",
       "Monocyte-Day1-5 [HG-U133A] [IRIS_GSE22886|GSM565346]                      750.471435\n",
       "Monocyte-Day0-11 [HG-U133A] [IRIS_GSE22886|GSM565340]                     752.425056\n",
       "Bcell-Memory_IgM-3 [HG-U133A] [IRIS_GSE22886|GSM565321]                   752.753249\n",
       "Monocyte-Day1-4 [HG-U133A] [IRIS_GSE22886|GSM565345]                      754.372360\n",
       "Monocyte-Day1-12 [HG-U133A] [IRIS_GSE22886|GSM565353]                     754.576031\n",
       "Bcell-naive-6 [HG-U133A] [IRIS_GSE22886|GSM565313]                        755.561659\n",
       "MemoryTcell-RO-unactivated-3 [HG-U133A] [IRIS_GSE22886|GSM565289]         755.910964\n",
       "Monocyte-Day1-10 [HG-U133A] [IRIS_GSE22886|GSM565351]                     756.367029\n",
       "Bcell-Memory_IgM-1 [HG-U133A] [IRIS_GSE22886|GSM565319]                   757.614218\n",
       "Bcell-Memory_IgG_IgA-1 [HG-U133A] [IRIS_GSE22886|GSM565315]               758.551343\n",
       "PlasmaCell-FromPBMC-1 [HG-U133A] [IRIS_GSE22886|GSM565323]                758.764860\n",
       "Monocyte-Day0-9 [HG-U133A] [IRIS_GSE22886|GSM565338]                      759.723926\n",
       "CD4Tcell-N0-1 [HG-U133A] [IRIS_GSE22886|GSM565273]                        761.286993\n",
       "CD4Tcell-N0-3 [HG-U133A] [IRIS_GSE22886|GSM565275]                        761.959049\n",
       "PlasmaCell-FromBoneMarrow-1 [HG-U133A] [IRIS_GSE22886|GSM565326]          762.562004\n",
       "MemoryTcell-RO-unactivated-1 [HG-U133A] [IRIS_GSE22886|GSM565287]         764.248277\n",
       "PlasmaCell-FromBoneMarrow-2 [HG-U133A] [IRIS_GSE22886|GSM565327]          765.670324\n",
       "PlasmaCell-FromPBMC-2 [HG-U133A] [IRIS_GSE22886|GSM565324]                769.300833\n",
       "Monocyte-Day0-7 [HG-U133A] [IRIS_GSE22886|GSM565336]                      769.304077\n",
       "Bcell-Memory_IgM-2 [HG-U133A] [IRIS_GSE22886|GSM565320]                   771.437930\n",
       "CD4Tcell-N0-2 [HG-U133A] [IRIS_GSE22886|GSM565274]                        783.792877\n",
       "Neutrophil-Resting-1 [HG-U133A] [IRIS_GSE22886|GSM565378]                 798.556315\n",
       "Neutrophil-Resting-3 [HG-U133A] [IRIS_GSE22886|GSM565380]                 799.073856\n",
       "Monocyte-Day1-7 [HG-U133A] [IRIS_GSE22886|GSM565348]                      799.250722\n",
       "Bcell-Memory_IgM-4 [HG-U133A] [IRIS_GSE22886|GSM565322]                   800.666246\n",
       "Neutrophil-Resting-4 [HG-U133A] [IRIS_GSE22886|GSM565381]                 800.862698\n",
       "Bcell-Memory_IgG_IgA-4 [HG-U133A] [IRIS_GSE22886|GSM565318]               806.125134\n",
       "Neutrophil-Resting-2 [HG-U133A] [IRIS_GSE22886|GSM565379]                 826.644005\n",
       "PlasmaCell-FromBoneMarrow-3 [HG-U133A] [IRIS_GSE22886|GSM565328]          828.520017\n",
       "PlasmaCell-FromBoneMarrow-4 [HG-U133A] [IRIS_GSE22886|GSM565329]          862.349898\n",
       "dtype: float64"
      ]
     },
     "execution_count": 14,
     "metadata": {},
     "output_type": "execute_result"
    }
   ],
   "source": [
    "# all from this dataset are high\n",
    "meanvals[meanvals.index.str.contains('IRIS')]"
   ]
  },
  {
   "cell_type": "code",
   "execution_count": 15,
   "metadata": {
    "collapsed": false
   },
   "outputs": [
    {
     "data": {
      "text/plain": [
       "7.659003808808878"
      ]
     },
     "execution_count": 15,
     "metadata": {},
     "output_type": "execute_result"
    }
   ],
   "source": [
    "df[meanvals[meanvals > 8].index[0]].apply(np.log2).mean()"
   ]
  },
  {
   "cell_type": "code",
   "execution_count": 16,
   "metadata": {
    "collapsed": false
   },
   "outputs": [],
   "source": [
    "for c in meanvals[meanvals > 8].index:\n",
    "    df[c] = df[c].apply(np.log2)"
   ]
  },
  {
   "cell_type": "code",
   "execution_count": 17,
   "metadata": {
    "collapsed": false
   },
   "outputs": [
    {
     "data": {
      "text/plain": [
       "<matplotlib.axes._subplots.AxesSubplot at 0x7fb41b405bd0>"
      ]
     },
     "execution_count": 17,
     "metadata": {},
     "output_type": "execute_result"
    },
    {
     "data": {
      "image/png": "[encoded data removed]",
      "text/plain": [
       "<matplotlib.figure.Figure at 0x7fb41b436610>"
      ]
     },
     "metadata": {},
     "output_type": "display_data"
    }
   ],
   "source": [
    "df[df.columns[2:]].apply(lambda x: x.mean(), axis=0).hist()"
   ]
  },
  {
   "cell_type": "code",
   "execution_count": 18,
   "metadata": {
    "collapsed": false
   },
   "outputs": [
    {
     "data": {
      "text/html": [
       "<div>\n",
       "<table border=\"1\" class=\"dataframe\">\n",
       "  <thead>\n",
       "    <tr style=\"text-align: right;\">\n",
       "      <th></th>\n",
       "      <th>B cells</th>\n",
       "      <th>Blood vessels</th>\n",
       "      <th>CD8 T cells</th>\n",
       "      <th>Cytotoxic cells</th>\n",
       "      <th>DC</th>\n",
       "      <th>Eosinophils</th>\n",
       "      <th>Lymph vessels</th>\n",
       "      <th>Macrophages</th>\n",
       "      <th>Mast cells</th>\n",
       "      <th>NK CD56bright cells</th>\n",
       "      <th>...</th>\n",
       "      <th>TReg</th>\n",
       "      <th>Tcm</th>\n",
       "      <th>Tem</th>\n",
       "      <th>Tgd</th>\n",
       "      <th>Th1 cells</th>\n",
       "      <th>Th17 cells</th>\n",
       "      <th>Th2 cells</th>\n",
       "      <th>aDC</th>\n",
       "      <th>iDC</th>\n",
       "      <th>pDC</th>\n",
       "    </tr>\n",
       "  </thead>\n",
       "  <tbody>\n",
       "    <tr>\n",
       "      <th>0</th>\n",
       "      <td>207819_s_at</td>\n",
       "      <td>204677_at</td>\n",
       "      <td>218405_at</td>\n",
       "      <td>209870_s_at</td>\n",
       "      <td>206407_s_at</td>\n",
       "      <td>205566_at</td>\n",
       "      <td>206742_at</td>\n",
       "      <td>203381_s_at</td>\n",
       "      <td>203196_at</td>\n",
       "      <td>215908_at</td>\n",
       "      <td>...</td>\n",
       "      <td>221333_at</td>\n",
       "      <td>203747_at</td>\n",
       "      <td>212609_s_at</td>\n",
       "      <td>205103_at</td>\n",
       "      <td>213419_at</td>\n",
       "      <td>208402_at</td>\n",
       "      <td>213245_at</td>\n",
       "      <td>207533_at</td>\n",
       "      <td>209735_at</td>\n",
       "      <td>206148_at</td>\n",
       "    </tr>\n",
       "    <tr>\n",
       "      <th>1</th>\n",
       "      <td>221234_s_at</td>\n",
       "      <td>NaN</td>\n",
       "      <td>217729_s_at</td>\n",
       "      <td>221087_s_at</td>\n",
       "      <td>207900_at</td>\n",
       "      <td>49452_at</td>\n",
       "      <td>204879_at</td>\n",
       "      <td>218673_s_at</td>\n",
       "      <td>206281_at</td>\n",
       "      <td>215409_at</td>\n",
       "      <td>...</td>\n",
       "      <td>221334_s_at</td>\n",
       "      <td>216197_at</td>\n",
       "      <td>210109_at</td>\n",
       "      <td>207840_at</td>\n",
       "      <td>40148_at</td>\n",
       "      <td>216876_s_at</td>\n",
       "      <td>220841_s_at</td>\n",
       "      <td>219424_at</td>\n",
       "      <td>202201_at</td>\n",
       "      <td>NaN</td>\n",
       "    </tr>\n",
       "    <tr>\n",
       "      <th>2</th>\n",
       "      <td>219497_s_at</td>\n",
       "      <td>NaN</td>\n",
       "      <td>209871_s_at</td>\n",
       "      <td>214450_at</td>\n",
       "      <td>207861_at</td>\n",
       "      <td>43427_at</td>\n",
       "      <td>209946_at</td>\n",
       "      <td>214452_at</td>\n",
       "      <td>205428_s_at</td>\n",
       "      <td>204014_at</td>\n",
       "      <td>...</td>\n",
       "      <td>NaN</td>\n",
       "      <td>208442_s_at</td>\n",
       "      <td>206978_at</td>\n",
       "      <td>203562_at</td>\n",
       "      <td>201525_at</td>\n",
       "      <td>205707_at</td>\n",
       "      <td>220842_at</td>\n",
       "      <td>210029_at</td>\n",
       "      <td>220162_s_at</td>\n",
       "      <td>NaN</td>\n",
       "    </tr>\n",
       "    <tr>\n",
       "      <th>3</th>\n",
       "      <td>210347_s_at</td>\n",
       "      <td>NaN</td>\n",
       "      <td>219168_s_at</td>\n",
       "      <td>204794_at</td>\n",
       "      <td>207277_at</td>\n",
       "      <td>221928_at</td>\n",
       "      <td>NaN</td>\n",
       "      <td>214390_s_at</td>\n",
       "      <td>206676_at</td>\n",
       "      <td>204015_s_at</td>\n",
       "      <td>...</td>\n",
       "      <td>NaN</td>\n",
       "      <td>210858_x_at</td>\n",
       "      <td>207794_at</td>\n",
       "      <td>211144_x_at</td>\n",
       "      <td>212062_at</td>\n",
       "      <td>206419_at</td>\n",
       "      <td>221569_at</td>\n",
       "      <td>205569_at</td>\n",
       "      <td>210325_at</td>\n",
       "      <td>NaN</td>\n",
       "    </tr>\n",
       "    <tr>\n",
       "      <th>4</th>\n",
       "      <td>206255_at</td>\n",
       "      <td>NaN</td>\n",
       "      <td>64432_at</td>\n",
       "      <td>37145_at</td>\n",
       "      <td>205404_at</td>\n",
       "      <td>222195_s_at</td>\n",
       "      <td>NaN</td>\n",
       "      <td>208075_s_at</td>\n",
       "      <td>214533_at</td>\n",
       "      <td>205906_at</td>\n",
       "      <td>...</td>\n",
       "      <td>NaN</td>\n",
       "      <td>207686_s_at</td>\n",
       "      <td>208719_s_at</td>\n",
       "      <td>216920_s_at</td>\n",
       "      <td>201641_at</td>\n",
       "      <td>NaN</td>\n",
       "      <td>214373_at</td>\n",
       "      <td>218400_at</td>\n",
       "      <td>206749_at</td>\n",
       "      <td>NaN</td>\n",
       "    </tr>\n",
       "  </tbody>\n",
       "</table>\n",
       "<p>5 rows × 28 columns</p>\n",
       "</div>"
      ],
      "text/plain": [
       "       B cells Blood vessels  CD8 T cells Cytotoxic cells           DC  \\\n",
       "0  207819_s_at     204677_at    218405_at     209870_s_at  206407_s_at   \n",
       "1  221234_s_at           NaN  217729_s_at     221087_s_at    207900_at   \n",
       "2  219497_s_at           NaN  209871_s_at       214450_at    207861_at   \n",
       "3  210347_s_at           NaN  219168_s_at       204794_at    207277_at   \n",
       "4    206255_at           NaN     64432_at        37145_at    205404_at   \n",
       "\n",
       "   Eosinophils Lymph vessels  Macrophages   Mast cells NK CD56bright cells  \\\n",
       "0    205566_at     206742_at  203381_s_at    203196_at           215908_at   \n",
       "1     49452_at     204879_at  218673_s_at    206281_at           215409_at   \n",
       "2     43427_at     209946_at    214452_at  205428_s_at           204014_at   \n",
       "3    221928_at           NaN  214390_s_at    206676_at         204015_s_at   \n",
       "4  222195_s_at           NaN  208075_s_at    214533_at           205906_at   \n",
       "\n",
       "     ...             TReg          Tcm          Tem          Tgd  Th1 cells  \\\n",
       "0    ...        221333_at    203747_at  212609_s_at    205103_at  213419_at   \n",
       "1    ...      221334_s_at    216197_at    210109_at    207840_at   40148_at   \n",
       "2    ...              NaN  208442_s_at    206978_at    203562_at  201525_at   \n",
       "3    ...              NaN  210858_x_at    207794_at  211144_x_at  212062_at   \n",
       "4    ...              NaN  207686_s_at  208719_s_at  216920_s_at  201641_at   \n",
       "\n",
       "    Th17 cells    Th2 cells        aDC          iDC        pDC  \n",
       "0    208402_at    213245_at  207533_at    209735_at  206148_at  \n",
       "1  216876_s_at  220841_s_at  219424_at    202201_at        NaN  \n",
       "2    205707_at    220842_at  210029_at  220162_s_at        NaN  \n",
       "3    206419_at    221569_at  205569_at    210325_at        NaN  \n",
       "4          NaN    214373_at  218400_at    206749_at        NaN  \n",
       "\n",
       "[5 rows x 28 columns]"
      ]
     },
     "execution_count": 18,
     "metadata": {},
     "output_type": "execute_result"
    }
   ],
   "source": [
    "bindea = pd.read_csv('bindea_by_category.csv')\n",
    "bindea.head()"
   ]
  },
  {
   "cell_type": "code",
   "execution_count": 19,
   "metadata": {
    "collapsed": false
   },
   "outputs": [
    {
     "name": "stdout",
     "output_type": "stream",
     "text": [
      "(36, 389)\n"
     ]
    }
   ],
   "source": [
    "# matching by probeid alone is bad -- look how few hits we get\n",
    "print df[df['probeid'].isin(bindea['CD8 T cells'].dropna().unique())].shape"
   ]
  },
  {
   "cell_type": "code",
   "execution_count": 20,
   "metadata": {
    "collapsed": false
   },
   "outputs": [
    {
     "data": {
      "text/html": [
       "<div>\n",
       "<table border=\"1\" class=\"dataframe\">\n",
       "  <thead>\n",
       "    <tr style=\"text-align: right;\">\n",
       "      <th></th>\n",
       "      <th>probe</th>\n",
       "      <th>accession</th>\n",
       "      <th>symbol</th>\n",
       "      <th>desc</th>\n",
       "    </tr>\n",
       "  </thead>\n",
       "  <tbody>\n",
       "    <tr>\n",
       "      <th>0</th>\n",
       "      <td>1007_s_at</td>\n",
       "      <td>U48705</td>\n",
       "      <td>NaN</td>\n",
       "      <td>NaN</td>\n",
       "    </tr>\n",
       "    <tr>\n",
       "      <th>1</th>\n",
       "      <td>1053_at</td>\n",
       "      <td>M87338</td>\n",
       "      <td>RFC2</td>\n",
       "      <td>replication factor C (activator 1) 2, 40kDa</td>\n",
       "    </tr>\n",
       "    <tr>\n",
       "      <th>2</th>\n",
       "      <td>117_at</td>\n",
       "      <td>X51757</td>\n",
       "      <td>HSPA6</td>\n",
       "      <td>heat shock 70kDa protein 6 (HSP70B')</td>\n",
       "    </tr>\n",
       "    <tr>\n",
       "      <th>3</th>\n",
       "      <td>121_at</td>\n",
       "      <td>X69699</td>\n",
       "      <td>PAX8</td>\n",
       "      <td>paired box 8</td>\n",
       "    </tr>\n",
       "    <tr>\n",
       "      <th>4</th>\n",
       "      <td>1255_g_at</td>\n",
       "      <td>L36861</td>\n",
       "      <td>GUCA1A</td>\n",
       "      <td>guanylate cyclase activator 1A (retina)</td>\n",
       "    </tr>\n",
       "  </tbody>\n",
       "</table>\n",
       "</div>"
      ],
      "text/plain": [
       "       probe accession  symbol                                         desc\n",
       "0  1007_s_at    U48705     NaN                                          NaN\n",
       "1    1053_at    M87338    RFC2  replication factor C (activator 1) 2, 40kDa\n",
       "2     117_at    X51757   HSPA6         heat shock 70kDa protein 6 (HSP70B')\n",
       "3     121_at    X69699    PAX8                                 paired box 8\n",
       "4  1255_g_at    L36861  GUCA1A      guanylate cyclase activator 1A (retina)"
      ]
     },
     "execution_count": 20,
     "metadata": {},
     "output_type": "execute_result"
    }
   ],
   "source": [
    "# match by gene ids instead\n",
    "# see extractHumanAnnotations.R\n",
    "annotations = pd.read_csv('annot.tsv', sep='\\t')\n",
    "annotations = annotations.reset_index()\n",
    "annotations.columns = ['probe', 'accession', 'symbol', 'desc']\n",
    "annotations.head()"
   ]
  },
  {
   "cell_type": "code",
   "execution_count": 21,
   "metadata": {
    "collapsed": false
   },
   "outputs": [
    {
     "name": "stdout",
     "output_type": "stream",
     "text": [
      "(40, 1)\n"
     ]
    },
    {
     "data": {
      "text/html": [
       "<div>\n",
       "<table border=\"1\" class=\"dataframe\">\n",
       "  <thead>\n",
       "    <tr style=\"text-align: right;\">\n",
       "      <th></th>\n",
       "      <th>probe</th>\n",
       "    </tr>\n",
       "  </thead>\n",
       "  <tbody>\n",
       "    <tr>\n",
       "      <th>0</th>\n",
       "      <td>218405_at</td>\n",
       "    </tr>\n",
       "    <tr>\n",
       "      <th>1</th>\n",
       "      <td>217729_s_at</td>\n",
       "    </tr>\n",
       "    <tr>\n",
       "      <th>2</th>\n",
       "      <td>209871_s_at</td>\n",
       "    </tr>\n",
       "    <tr>\n",
       "      <th>3</th>\n",
       "      <td>219168_s_at</td>\n",
       "    </tr>\n",
       "    <tr>\n",
       "      <th>4</th>\n",
       "      <td>64432_at</td>\n",
       "    </tr>\n",
       "  </tbody>\n",
       "</table>\n",
       "</div>"
      ],
      "text/plain": [
       "         probe\n",
       "0    218405_at\n",
       "1  217729_s_at\n",
       "2  209871_s_at\n",
       "3  219168_s_at\n",
       "4     64432_at"
      ]
     },
     "execution_count": 21,
     "metadata": {},
     "output_type": "execute_result"
    }
   ],
   "source": [
    "cd8_t = pd.DataFrame({'probe': bindea['CD8 T cells'].dropna().unique()})\n",
    "print cd8_t.shape\n",
    "cd8_t.head()\n"
   ]
  },
  {
   "cell_type": "code",
   "execution_count": 22,
   "metadata": {
    "collapsed": false
   },
   "outputs": [
    {
     "name": "stdout",
     "output_type": "stream",
     "text": [
      "(40, 4)\n"
     ]
    },
    {
     "data": {
      "text/html": [
       "<div>\n",
       "<table border=\"1\" class=\"dataframe\">\n",
       "  <thead>\n",
       "    <tr style=\"text-align: right;\">\n",
       "      <th></th>\n",
       "      <th>probe</th>\n",
       "      <th>accession</th>\n",
       "      <th>symbol</th>\n",
       "      <th>desc</th>\n",
       "    </tr>\n",
       "  </thead>\n",
       "  <tbody>\n",
       "    <tr>\n",
       "      <th>0</th>\n",
       "      <td>218405_at</td>\n",
       "      <td>NM_013375</td>\n",
       "      <td>ABT1</td>\n",
       "      <td>activator of basal transcription 1</td>\n",
       "    </tr>\n",
       "    <tr>\n",
       "      <th>1</th>\n",
       "      <td>217729_s_at</td>\n",
       "      <td>NM_001130</td>\n",
       "      <td>AES</td>\n",
       "      <td>amino-terminal enhancer of split</td>\n",
       "    </tr>\n",
       "    <tr>\n",
       "      <th>2</th>\n",
       "      <td>209871_s_at</td>\n",
       "      <td>AB014719</td>\n",
       "      <td>APBA2</td>\n",
       "      <td>amyloid beta (A4) precursor protein-binding, f...</td>\n",
       "    </tr>\n",
       "    <tr>\n",
       "      <th>3</th>\n",
       "      <td>219168_s_at</td>\n",
       "      <td>NM_017701</td>\n",
       "      <td>PRR5</td>\n",
       "      <td>proline rich 5 (renal)</td>\n",
       "    </tr>\n",
       "    <tr>\n",
       "      <th>4</th>\n",
       "      <td>64432_at</td>\n",
       "      <td>W05463</td>\n",
       "      <td>MAPKAPK5-AS1</td>\n",
       "      <td>MAPKAPK5 antisense RNA 1</td>\n",
       "    </tr>\n",
       "  </tbody>\n",
       "</table>\n",
       "</div>"
      ],
      "text/plain": [
       "         probe  accession        symbol  \\\n",
       "0    218405_at  NM_013375          ABT1   \n",
       "1  217729_s_at  NM_001130           AES   \n",
       "2  209871_s_at   AB014719         APBA2   \n",
       "3  219168_s_at  NM_017701          PRR5   \n",
       "4     64432_at     W05463  MAPKAPK5-AS1   \n",
       "\n",
       "                                                desc  \n",
       "0                 activator of basal transcription 1  \n",
       "1                   amino-terminal enhancer of split  \n",
       "2  amyloid beta (A4) precursor protein-binding, f...  \n",
       "3                             proline rich 5 (renal)  \n",
       "4                           MAPKAPK5 antisense RNA 1  "
      ]
     },
     "execution_count": 22,
     "metadata": {},
     "output_type": "execute_result"
    }
   ],
   "source": [
    "cd8_t = pd.merge(cd8_t, annotations, how='left', on='probe')\n",
    "print cd8_t.shape\n",
    "cd8_t.head()"
   ]
  },
  {
   "cell_type": "code",
   "execution_count": 23,
   "metadata": {
    "collapsed": false
   },
   "outputs": [
    {
     "name": "stdout",
     "output_type": "stream",
     "text": [
      "(58, 389)\n"
     ]
    },
    {
     "data": {
      "text/html": [
       "<div>\n",
       "<table border=\"1\" class=\"dataframe\">\n",
       "  <thead>\n",
       "    <tr style=\"text-align: right;\">\n",
       "      <th></th>\n",
       "      <th>PRB12534.Jurkat</th>\n",
       "      <th>PRB12535.Jurkat</th>\n",
       "      <th>PRB12536.Jurkat</th>\n",
       "      <th>PRB12537.IM.9</th>\n",
       "      <th>PRB12538.IM.9</th>\n",
       "      <th>PRB12539.IM.9</th>\n",
       "      <th>PRB12540.Raji</th>\n",
       "      <th>PRB12541.Raji</th>\n",
       "      <th>PRB12542.Raji</th>\n",
       "      <th>PRB12543.THP.1</th>\n",
       "      <th>...</th>\n",
       "      <th>TEM_U133A_1 [TFH_E-MEXP-750|TEM_U133A_1]</th>\n",
       "      <th>TEM_U133A_2 [TFH_E-MEXP-750|TEM_U133A_2]</th>\n",
       "      <th>TEM_U133A_3 [TFH_E-MEXP-750|TEM_U133A_3]</th>\n",
       "      <th>TN_U133A_1 [TFH_E-MEXP-750|TN_U133A_1]</th>\n",
       "      <th>TN_U133A_2 [TFH_E-MEXP-750|TN_U133A_2]</th>\n",
       "      <th>TN_U133A_3 [TFH_E-MEXP-750|TN_U133A_3]</th>\n",
       "      <th>TH_1 [TREGs_GSE4527|GSM101518]</th>\n",
       "      <th>Treg_1 [TREGs_GSE4527|GSM101519]</th>\n",
       "      <th>TH_2 [TREGs_GSE4527|GSM101520]</th>\n",
       "      <th>Treg_2 [TREGs_GSE4527|GSM101521]</th>\n",
       "    </tr>\n",
       "    <tr>\n",
       "      <th>geneid</th>\n",
       "      <th></th>\n",
       "      <th></th>\n",
       "      <th></th>\n",
       "      <th></th>\n",
       "      <th></th>\n",
       "      <th></th>\n",
       "      <th></th>\n",
       "      <th></th>\n",
       "      <th></th>\n",
       "      <th></th>\n",
       "      <th></th>\n",
       "      <th></th>\n",
       "      <th></th>\n",
       "      <th></th>\n",
       "      <th></th>\n",
       "      <th></th>\n",
       "      <th></th>\n",
       "      <th></th>\n",
       "      <th></th>\n",
       "      <th></th>\n",
       "      <th></th>\n",
       "    </tr>\n",
       "  </thead>\n",
       "  <tbody>\n",
       "    <tr>\n",
       "      <th>DNAJB1</th>\n",
       "      <td>11.034424</td>\n",
       "      <td>11.090129</td>\n",
       "      <td>11.376662</td>\n",
       "      <td>9.950614</td>\n",
       "      <td>10.672197</td>\n",
       "      <td>10.600500</td>\n",
       "      <td>10.229173</td>\n",
       "      <td>10.224464</td>\n",
       "      <td>10.523462</td>\n",
       "      <td>11.116644</td>\n",
       "      <td>...</td>\n",
       "      <td>12.064604</td>\n",
       "      <td>11.621663</td>\n",
       "      <td>12.088633</td>\n",
       "      <td>11.953618</td>\n",
       "      <td>12.001804</td>\n",
       "      <td>11.906028</td>\n",
       "      <td>10.498152</td>\n",
       "      <td>11.623152</td>\n",
       "      <td>10.205954</td>\n",
       "      <td>10.630752</td>\n",
       "    </tr>\n",
       "    <tr>\n",
       "      <th>DNAJB1</th>\n",
       "      <td>11.925376</td>\n",
       "      <td>12.195360</td>\n",
       "      <td>12.127385</td>\n",
       "      <td>10.801230</td>\n",
       "      <td>11.545830</td>\n",
       "      <td>11.451978</td>\n",
       "      <td>11.070445</td>\n",
       "      <td>10.934070</td>\n",
       "      <td>11.419696</td>\n",
       "      <td>11.724382</td>\n",
       "      <td>...</td>\n",
       "      <td>12.064604</td>\n",
       "      <td>11.621663</td>\n",
       "      <td>12.088633</td>\n",
       "      <td>11.953618</td>\n",
       "      <td>12.001804</td>\n",
       "      <td>11.906028</td>\n",
       "      <td>10.498152</td>\n",
       "      <td>11.623152</td>\n",
       "      <td>10.205954</td>\n",
       "      <td>10.630752</td>\n",
       "    </tr>\n",
       "    <tr>\n",
       "      <th>SRSF7</th>\n",
       "      <td>10.838427</td>\n",
       "      <td>11.113841</td>\n",
       "      <td>10.967272</td>\n",
       "      <td>11.556311</td>\n",
       "      <td>11.575781</td>\n",
       "      <td>11.495087</td>\n",
       "      <td>11.655224</td>\n",
       "      <td>11.524059</td>\n",
       "      <td>11.720500</td>\n",
       "      <td>11.561961</td>\n",
       "      <td>...</td>\n",
       "      <td>10.465264</td>\n",
       "      <td>10.992775</td>\n",
       "      <td>10.944009</td>\n",
       "      <td>10.125404</td>\n",
       "      <td>10.859161</td>\n",
       "      <td>10.579804</td>\n",
       "      <td>9.993588</td>\n",
       "      <td>9.031038</td>\n",
       "      <td>9.818260</td>\n",
       "      <td>9.881039</td>\n",
       "    </tr>\n",
       "    <tr>\n",
       "      <th>SRSF7</th>\n",
       "      <td>8.443913</td>\n",
       "      <td>8.076548</td>\n",
       "      <td>8.279555</td>\n",
       "      <td>8.565742</td>\n",
       "      <td>8.550681</td>\n",
       "      <td>8.188065</td>\n",
       "      <td>7.660645</td>\n",
       "      <td>8.338202</td>\n",
       "      <td>8.336404</td>\n",
       "      <td>8.222587</td>\n",
       "      <td>...</td>\n",
       "      <td>10.465264</td>\n",
       "      <td>10.992775</td>\n",
       "      <td>10.944009</td>\n",
       "      <td>10.125404</td>\n",
       "      <td>10.859161</td>\n",
       "      <td>10.579804</td>\n",
       "      <td>9.993588</td>\n",
       "      <td>9.031038</td>\n",
       "      <td>9.818260</td>\n",
       "      <td>9.881039</td>\n",
       "    </tr>\n",
       "    <tr>\n",
       "      <th>SRSF7</th>\n",
       "      <td>10.046266</td>\n",
       "      <td>10.109718</td>\n",
       "      <td>9.832681</td>\n",
       "      <td>10.410356</td>\n",
       "      <td>11.008591</td>\n",
       "      <td>10.908534</td>\n",
       "      <td>10.932883</td>\n",
       "      <td>10.296714</td>\n",
       "      <td>10.807213</td>\n",
       "      <td>9.764019</td>\n",
       "      <td>...</td>\n",
       "      <td>10.465264</td>\n",
       "      <td>10.992775</td>\n",
       "      <td>10.944009</td>\n",
       "      <td>10.125404</td>\n",
       "      <td>10.859161</td>\n",
       "      <td>10.579804</td>\n",
       "      <td>9.993588</td>\n",
       "      <td>9.031038</td>\n",
       "      <td>9.818260</td>\n",
       "      <td>9.881039</td>\n",
       "    </tr>\n",
       "  </tbody>\n",
       "</table>\n",
       "<p>5 rows × 387 columns</p>\n",
       "</div>"
      ],
      "text/plain": [
       "        PRB12534.Jurkat  PRB12535.Jurkat  PRB12536.Jurkat  PRB12537.IM.9  \\\n",
       "geneid                                                                     \n",
       "DNAJB1        11.034424        11.090129        11.376662       9.950614   \n",
       "DNAJB1        11.925376        12.195360        12.127385      10.801230   \n",
       "SRSF7         10.838427        11.113841        10.967272      11.556311   \n",
       "SRSF7          8.443913         8.076548         8.279555       8.565742   \n",
       "SRSF7         10.046266        10.109718         9.832681      10.410356   \n",
       "\n",
       "        PRB12538.IM.9  PRB12539.IM.9  PRB12540.Raji  PRB12541.Raji  \\\n",
       "geneid                                                               \n",
       "DNAJB1      10.672197      10.600500      10.229173      10.224464   \n",
       "DNAJB1      11.545830      11.451978      11.070445      10.934070   \n",
       "SRSF7       11.575781      11.495087      11.655224      11.524059   \n",
       "SRSF7        8.550681       8.188065       7.660645       8.338202   \n",
       "SRSF7       11.008591      10.908534      10.932883      10.296714   \n",
       "\n",
       "        PRB12542.Raji  PRB12543.THP.1                ...                 \\\n",
       "geneid                                               ...                  \n",
       "DNAJB1      10.523462       11.116644                ...                  \n",
       "DNAJB1      11.419696       11.724382                ...                  \n",
       "SRSF7       11.720500       11.561961                ...                  \n",
       "SRSF7        8.336404        8.222587                ...                  \n",
       "SRSF7       10.807213        9.764019                ...                  \n",
       "\n",
       "        TEM_U133A_1 [TFH_E-MEXP-750|TEM_U133A_1]  \\\n",
       "geneid                                             \n",
       "DNAJB1                                 12.064604   \n",
       "DNAJB1                                 12.064604   \n",
       "SRSF7                                  10.465264   \n",
       "SRSF7                                  10.465264   \n",
       "SRSF7                                  10.465264   \n",
       "\n",
       "        TEM_U133A_2 [TFH_E-MEXP-750|TEM_U133A_2]  \\\n",
       "geneid                                             \n",
       "DNAJB1                                 11.621663   \n",
       "DNAJB1                                 11.621663   \n",
       "SRSF7                                  10.992775   \n",
       "SRSF7                                  10.992775   \n",
       "SRSF7                                  10.992775   \n",
       "\n",
       "        TEM_U133A_3 [TFH_E-MEXP-750|TEM_U133A_3]  \\\n",
       "geneid                                             \n",
       "DNAJB1                                 12.088633   \n",
       "DNAJB1                                 12.088633   \n",
       "SRSF7                                  10.944009   \n",
       "SRSF7                                  10.944009   \n",
       "SRSF7                                  10.944009   \n",
       "\n",
       "        TN_U133A_1 [TFH_E-MEXP-750|TN_U133A_1]  \\\n",
       "geneid                                           \n",
       "DNAJB1                               11.953618   \n",
       "DNAJB1                               11.953618   \n",
       "SRSF7                                10.125404   \n",
       "SRSF7                                10.125404   \n",
       "SRSF7                                10.125404   \n",
       "\n",
       "        TN_U133A_2 [TFH_E-MEXP-750|TN_U133A_2]  \\\n",
       "geneid                                           \n",
       "DNAJB1                               12.001804   \n",
       "DNAJB1                               12.001804   \n",
       "SRSF7                                10.859161   \n",
       "SRSF7                                10.859161   \n",
       "SRSF7                                10.859161   \n",
       "\n",
       "        TN_U133A_3 [TFH_E-MEXP-750|TN_U133A_3]  \\\n",
       "geneid                                           \n",
       "DNAJB1                               11.906028   \n",
       "DNAJB1                               11.906028   \n",
       "SRSF7                                10.579804   \n",
       "SRSF7                                10.579804   \n",
       "SRSF7                                10.579804   \n",
       "\n",
       "        TH_1 [TREGs_GSE4527|GSM101518]  Treg_1 [TREGs_GSE4527|GSM101519]  \\\n",
       "geneid                                                                     \n",
       "DNAJB1                       10.498152                         11.623152   \n",
       "DNAJB1                       10.498152                         11.623152   \n",
       "SRSF7                         9.993588                          9.031038   \n",
       "SRSF7                         9.993588                          9.031038   \n",
       "SRSF7                         9.993588                          9.031038   \n",
       "\n",
       "        TH_2 [TREGs_GSE4527|GSM101520]  Treg_2 [TREGs_GSE4527|GSM101521]  \n",
       "geneid                                                                    \n",
       "DNAJB1                       10.205954                         10.630752  \n",
       "DNAJB1                       10.205954                         10.630752  \n",
       "SRSF7                         9.818260                          9.881039  \n",
       "SRSF7                         9.818260                          9.881039  \n",
       "SRSF7                         9.818260                          9.881039  \n",
       "\n",
       "[5 rows x 387 columns]"
      ]
     },
     "execution_count": 23,
     "metadata": {},
     "output_type": "execute_result"
    }
   ],
   "source": [
    "matching = df[df['geneid'].isin(cd8_t.symbol.dropna().unique())].copy()\n",
    "print matching.shape\n",
    "del matching['probeid']\n",
    "matching = matching.set_index('geneid')\n",
    "matching.head()"
   ]
  },
  {
   "cell_type": "code",
   "execution_count": 24,
   "metadata": {
    "collapsed": false
   },
   "outputs": [
    {
     "name": "stdout",
     "output_type": "stream",
     "text": [
      "['PRB12534.Jurkat', 'PRB12535.Jurkat', 'PRB12536.Jurkat', 'PRB12537.IM.9', 'PRB12538.IM.9', 'PRB12539.IM.9', 'PRB12540.Raji', 'PRB12541.Raji', 'PRB12542.Raji', 'PRB12543.THP.1', 'PRB12544.THP.1', 'PRB12545.THP.1', 'GSM155229.CEL.gz', 'GSM155232.CEL.gz', 'GSM155234.CEL.gz', 'GSM155236.CEL.gz', 'GSM155238.CEL.gz', 'GSM21712.CEL.gz', 'GSM21713.CEL.gz', 'GSM21714.CEL.gz', 'A_LW_DC48hLPS_HC_U133A.CEL', 'A_LW_DC48hLPS_U133A_200503.CEL', 'A_LW_DC6hLPS_HC_U133A.CEL', 'A_LW_DC6hLPS_U133A_200503.CEL', 'A_LW_imDC_U133A_200503.CEL', 'A_LW_macro_LPS_HC_U133A.CEL', 'A_LW_macro_LPS_U133A_130503.CEL', 'A_LW_macroctrl_U133A_130503.CEL', 'A_LW_mastcellctrl_U133A.CEL', 'A_LW_mastcellIgE_U133A.CEL', 'A_LW_neutrophil_U133A.CEL', 'A_MF_2hrEosinophils.CEL', 'A_MF_CCR7._U133A_190202.CEL', 'A_MF_CCR7._U133A_190202.CEL.1', 'A_MF_ControlEosinophil.CEL', 'A_MF_ControlMASTCELL_U133A.CEL', 'A_MF_IgEMASTCELL_U133A.CEL', 'A_MF_neutrophils_U133A.CEL', 'A_MF_TH1human_U133A_290502.CEL', 'A_MF_TH2human_U133A_290502.CEL', 'A_SZ_48hLPS_HCDC2_U133A.CEL', 'A_SZ_48hLPSDC2_U133A_250603.CEL', 'A_SZ_6hLPS_HCDC2_U133A.CEL', 'A_SZ_6hLPSDC2_U133A_250603.CEL', 'A_SZ_imDC2_U133A_250603.CEL', 'A_SZ_mac2cont_U133A_240603.CEL', 'A_SZ_mac2LPS_HC_U133A.CEL', 'A_SZ_mac2LPS_U133A_240603.CEL', 'A_TS_2CD19._U133A_180204.CEL', 'A_TS_MSNeutroLPS_U133A.CEL', 'A_TS_RN_CD19._U133A_130104.CEL', 'A_TS_TC_Th1_U133A_141003.CEL', 'A_TS_TC_Th2_U133A_141003.CEL', 'MHH0210HG_U133A.CEL', 'MHH0211HG_U133A.CEL', 'MHH0248HG.U133A.CEL', 'MHH0249HG.U133A.CEL', 'CSS_COLON_N_1.CEL', 'CSS_COLON_N_10.CEL', 'CSS_COLON_N_11.CEL', 'CSS_COLON_N_12.CEL', 'CSS_COLON_N_13.CEL', 'CSS_COLON_N_14.CEL', 'CSS_COLON_N_15.CEL', 'CSS_COLON_N_16.CEL', 'CSS_COLON_N_17.CEL', 'CSS_COLON_N_18.CEL', 'CSS_COLON_N_19.CEL', 'CSS_COLON_N_2.CEL', 'CSS_COLON_N_20.CEL', 'CSS_COLON_N_21.CEL', 'CSS_COLON_N_22.CEL', 'CSS_COLON_N_23.CEL', 'CSS_COLON_N_3.CEL', 'CSS_COLON_N_4.CEL', 'CSS_COLON_N_5.CEL', 'CSS_COLON_N_6.CEL', 'CSS_COLON_N_7.CEL', 'CSS_COLON_N_9.CEL', 'GSM565269.CEL.gz', 'GSM565270.CEL.gz', 'GSM565271.CEL.gz', 'GSM565272.CEL.gz', 'GSM565273.CEL.gz', 'GSM565274.CEL.gz', 'GSM565275.CEL.gz', 'GSM565276.CEL.gz', 'GSM565277.CEL.gz', 'GSM565278.CEL.gz', 'GSM565279.CEL.gz', 'GSM565280.CEL.gz', 'GSM565281.CEL.gz', 'GSM565282.CEL.gz', 'GSM565283.CEL.gz', 'GSM565284.CEL.gz', 'GSM565285.CEL.gz', 'GSM565286.CEL.gz', 'GSM565287.CEL.gz', 'GSM565288.CEL.gz', 'GSM565289.CEL.gz', 'GSM565290.CEL.gz', 'GSM565291.CEL.gz', 'GSM565292.CEL.gz', 'GSM565293.CEL.gz', 'GSM565294.CEL.gz', 'GSM565295.CEL.gz', 'GSM565296.CEL.gz', 'GSM565297.CEL.gz', 'GSM565298.CEL.gz', 'GSM565299.CEL.gz', 'GSM565300.CEL.gz', 'GSM565301.CEL.gz', 'GSM565302.CEL.gz', 'GSM565303.CEL.gz', 'GSM565304.CEL.gz', 'GSM565305.CEL.gz', 'GSM565306.CEL.gz', 'GSM565307.CEL.gz', 'GSM565308.CEL.gz', 'GSM565309.CEL.gz', 'GSM565310.CEL.gz', 'GSM565311.CEL.gz', 'GSM565312.CEL.gz', 'GSM565313.CEL.gz', 'GSM565314.CEL.gz', 'GSM565315.CEL.gz', 'GSM565316.CEL.gz', 'GSM565317.CEL.gz', 'GSM565318.CEL.gz', 'GSM565319.CEL.gz', 'GSM565320.CEL.gz', 'GSM565321.CEL.gz', 'GSM565322.CEL.gz', 'GSM565323.CEL.gz', 'GSM565324.CEL.gz', 'GSM565325.CEL.gz', 'GSM565326.CEL.gz', 'GSM565327.CEL.gz', 'GSM565328.CEL.gz', 'GSM565329.CEL.gz', 'GSM565330.CEL.gz', 'GSM565331.CEL.gz', 'GSM565332.CEL.gz', 'GSM565333.CEL.gz', 'GSM565334.CEL.gz', 'GSM565335.CEL.gz', 'GSM565336.CEL.gz', 'GSM565337.CEL.gz', 'GSM565338.CEL.gz', 'GSM565339.CEL.gz', 'GSM565340.CEL.gz', 'GSM565341.CEL.gz', 'GSM565342.CEL.gz', 'GSM565343.CEL.gz', 'GSM565344.CEL.gz', 'GSM565345.CEL.gz', 'GSM565346.CEL.gz', 'GSM565347.CEL.gz', 'GSM565348.CEL.gz', 'GSM565349.CEL.gz', 'GSM565350.CEL.gz', 'GSM565351.CEL.gz', 'GSM565352.CEL.gz', 'GSM565353.CEL.gz', 'GSM565354.CEL.gz', 'GSM565355.CEL.gz', 'GSM565356.CEL.gz', 'GSM565357.CEL.gz', 'GSM565358.CEL.gz', 'GSM565359.CEL.gz', 'GSM565360.CEL.gz', 'GSM565361.CEL.gz', 'GSM565362.CEL.gz', 'GSM565363.CEL.gz', 'GSM565364.CEL.gz', 'GSM565365.CEL.gz', 'GSM565366.CEL.gz', 'GSM565367.CEL.gz', 'GSM565368.CEL.gz', 'GSM565369.CEL.gz', 'GSM565370.CEL.gz', 'GSM565371.CEL.gz', 'GSM565372.CEL.gz', 'GSM565373.CEL.gz', 'GSM565374.CEL.gz', 'GSM565375.CEL.gz', 'GSM565376.CEL.gz', 'GSM565377.CEL.gz', 'GSM565378.CEL.gz', 'GSM565379.CEL.gz', 'GSM565380.CEL.gz', 'GSM565381.CEL.gz', 'GSM565382.CEL.gz', 'A_LW_+BAFF_U133A_250303 [Chtanova_immune|A_LW_+BAFF_U133A_250303]', 'A_LW_+BAFF_U133A_70303 [Chtanova_immune|A_LW_+BAFF_U133A_70303]', 'A_LW_-BAFF_U133A_250303 [Chtanova_immune|A_LW_-BAFF_U133A_250303]', 'A_LW_-BAFF_U133A_70303 [Chtanova_immune|A_LW_-BAFF_U133A_70303]', 'A_LW_CD57+_U133A_030603 [Chtanova_immune|A_LW_CD57+_U133A_030603]', 'A_LW_CD57+_U133A_121102 [Chtanova_immune|A_LW_CD57+_U133A_121102]', 'A_LW_CD57-_U133A_030603 [Chtanova_immune|A_LW_CD57-_U133A_030603]', 'A_LW_CD57-_U133A_121102 [Chtanova_immune|A_LW_CD57-_U133A_121102]', 'A_LW_DC+BAFF_U133A_250304 [Chtanova_immune|A_LW_DC+BAFF_U133A_250304]', 'A_LW_DC-BAFF_U133A_250304 [Chtanova_immune|A_LW_DC-BAFF_U133A_250304]', 'A_LW_DC48hLPS_HC_U133A [Chtanova_immune|A_LW_DC48hLPS_HC_U133A]', 'A_LW_DC48hLPS_U133A_200503 [Chtanova_immune|A_LW_DC48hLPS_U133A_200503]', 'A_LW_DC6hLPS_HC_U133A [Chtanova_immune|A_LW_DC6hLPS_HC_U133A]', 'A_LW_DC6hLPS_U133A_200503 [Chtanova_immune|A_LW_DC6hLPS_U133A_200503]', 'A_LW_imDC_U133A_200503 [Chtanova_immune|A_LW_imDC_U133A_200503]', 'A_LW_macro_LPS_HC_U133A [Chtanova_immune|A_LW_macro_LPS_HC_U133A]', 'A_LW_macro_LPS_U133A_130503 [Chtanova_immune|A_LW_macro_LPS_U133A_130503]', 'A_LW_macroctrl_U133A_130503 [Chtanova_immune|A_LW_macroctrl_U133A_130503]', 'A_LW_mastcellctrl_U133A [Chtanova_immune|A_LW_mastcellctrl_U133A]', 'A_LW_mastcellIgE_U133A [Chtanova_immune|A_LW_mastcellIgE_U133A]', 'A_LW_neutrophil_U133A [Chtanova_immune|A_LW_neutrophil_U133A]', 'A_MF_2hrEosinophils_U133A [Chtanova_immune|A_MF_2hrEosinophils_U133A]', 'A_MF_CCR7+_U133A_190202 [Chtanova_immune|A_MF_CCR7+_U133A_190202]', 'A_MF_CCR7-_U133A_190202 [Chtanova_immune|A_MF_CCR7-_U133A_190202]', 'A_MF_CD57+_U133A_010502 [Chtanova_immune|A_MF_CD57+_U133A_010502]', 'A_MF_CD57-_U133A_010502 [Chtanova_immune|A_MF_CD57-_U133A_010502]', 'A_MF_ControlEosinophil [Chtanova_immune|A_MF_ControlEosinophil]', 'A_MF_ControlMASTCELL_U133A [Chtanova_immune|A_MF_ControlMASTCELL_U133A]', 'A_MF_IgEMASTCELL_U133A [Chtanova_immune|A_MF_IgEMASTCELL_U133A]', 'A_MF_neutrophils_U133A [Chtanova_immune|A_MF_neutrophils_U133A]', 'A_MF_TH1human_U133A_290502 [Chtanova_immune|A_MF_TH1human_U133A_290502]', 'A_MF_TH2human_U133A_290502 [Chtanova_immune|A_MF_TH2human_U133A_290502]', 'A_SZ_48hLPS_HCDC2_U133A [Chtanova_immune|A_SZ_48hLPS_HCDC2_U133A]', 'A_SZ_48hLPSDC2_U133A_250603 [Chtanova_immune|A_SZ_48hLPSDC2_U133A_250603]', 'A_SZ_6hLPS_HCDC2_U133A [Chtanova_immune|A_SZ_6hLPS_HCDC2_U133A]', 'A_SZ_6hLPSDC2_U133A_250603 [Chtanova_immune|A_SZ_6hLPSDC2_U133A_250603]', 'A_SZ_imDC2_U133A_250603 [Chtanova_immune|A_SZ_imDC2_U133A_250603]', 'A_SZ_mac2cont_U133A_240603 [Chtanova_immune|A_SZ_mac2cont_U133A_240603]', 'A_SZ_mac2LPS_HC_U133A [Chtanova_immune|A_SZ_mac2LPS_HC_U133A]', 'A_SZ_mac2LPS_U133A_240603 [Chtanova_immune|A_SZ_mac2LPS_U133A_240603]', 'A_TS_2CD19+_U133A_180204 [Chtanova_immune|A_TS_2CD19+_U133A_180204]', 'A_TS_MDDC4ws+BAFF_U133A [Chtanova_immune|A_TS_MDDC4ws+BAFF_U133A]', 'A_TS_MDDC4ws-BAFF_U133A [Chtanova_immune|A_TS_MDDC4ws-BAFF_U133A]', 'A_TS_MSNeutroLPS_U133A [Chtanova_immune|A_TS_MSNeutroLPS_U133A]', 'A_TS_RN_CD19+_U133A_130104 [Chtanova_immune|A_TS_RN_CD19+_U133A_130104]', 'A_TS_RN_gdTcells_U133A [Chtanova_immune|A_TS_RN_gdTcells_U133A]', 'A_TS_RN_gdTcellsREP_A [Chtanova_immune|A_TS_RN_gdTcellsREP_A]', 'A_TS_TC_Th1_U133A_141003 [Chtanova_immune|A_TS_TC_Th1_U133A_141003]', 'A_TS_TC_Th2_U133A_141003 [Chtanova_immune|A_TS_TC_Th2_U133A_141003]', 'CD8Tcell-N0-1 [HG-U133A] [IRIS_GSE22886|GSM565269]', 'CD8Tcell-N0-2 [HG-U133A] [IRIS_GSE22886|GSM565270]', 'CD8Tcell-N0-3 [HG-U133A] [IRIS_GSE22886|GSM565271]', 'CD8Tcell-N0-4 [HG-U133A] [IRIS_GSE22886|GSM565272]', 'CD4Tcell-N0-1 [HG-U133A] [IRIS_GSE22886|GSM565273]', 'CD4Tcell-N0-2 [HG-U133A] [IRIS_GSE22886|GSM565274]', 'CD4Tcell-N0-3 [HG-U133A] [IRIS_GSE22886|GSM565275]', 'CD4Tcell-Th1-restimulated12hour-1 [HG-U133A] [IRIS_GSE22886|GSM565276]', 'CD4Tcell-Th1-restimulated12hour-2 [HG-U133A] [IRIS_GSE22886|GSM565277]', 'CD4Tcell-Th1-restimulated48hour-1 [HG-U133A] [IRIS_GSE22886|GSM565278]', 'CD4Tcell-Th1-restimulated48hour-2 [HG-U133A] [IRIS_GSE22886|GSM565279]', 'CD4Tcell-Th1-restimulated48hour-3 [HG-U133A] [IRIS_GSE22886|GSM565280]', 'CD4Tcell-Th2-restimulated12hour-1 [HG-U133A] [IRIS_GSE22886|GSM565281]', 'CD4Tcell-Th2-restimulated12hour-2 [HG-U133A] [IRIS_GSE22886|GSM565282]', 'CD4Tcell-Th2-restimulated12hour-3 [HG-U133A] [IRIS_GSE22886|GSM565283]', 'CD4Tcell-Th2-restimulated48hour-1 [HG-U133A] [IRIS_GSE22886|GSM565284]', 'CD4Tcell-Th2-restimulated48hour-2 [HG-U133A] [IRIS_GSE22886|GSM565285]', 'CD4Tcell-Th2-restimulated48hour-3 [HG-U133A] [IRIS_GSE22886|GSM565286]', 'MemoryTcell-RO-unactivated-1 [HG-U133A] [IRIS_GSE22886|GSM565287]', 'MemoryTcell-RO-unactivated-2 [HG-U133A] [IRIS_GSE22886|GSM565288]', 'MemoryTcell-RO-unactivated-3 [HG-U133A] [IRIS_GSE22886|GSM565289]', 'MemoryTcell-RO-activated-1 [HG-U133A] [IRIS_GSE22886|GSM565290]', 'MemoryTcell-RO-activated-2 [HG-U133A] [IRIS_GSE22886|GSM565291]', 'MemoryTcell-RO-activated-3 [HG-U133A] [IRIS_GSE22886|GSM565292]', 'NKcell-control-1 [HG-U133A] [IRIS_GSE22886|GSM565293]', 'NKcell-control-2 [HG-U133A] [IRIS_GSE22886|GSM565294]', 'NKcell-control-3 [HG-U133A] [IRIS_GSE22886|GSM565295]', 'NKcell-control-4 [HG-U133A] [IRIS_GSE22886|GSM565296]', 'NKcell-IL2stimulated-1 [HG-U133A] [IRIS_GSE22886|GSM565297]', 'NKcell-IL2stimulated-2 [HG-U133A] [IRIS_GSE22886|GSM565298]', 'NKcell-IL2stimulated-3 [HG-U133A] [IRIS_GSE22886|GSM565299]', 'NKcell-IL2stimulated-4 [HG-U133A] [IRIS_GSE22886|GSM565300]', 'NKcell-IL2stimulated-5 [HG-U133A] [IRIS_GSE22886|GSM565301]', 'NKcell-IL15stimulated-1 [HG-U133A] [IRIS_GSE22886|GSM565302]', 'NKcell-IL15stimulated-2 [HG-U133A] [IRIS_GSE22886|GSM565303]', 'NKcell-IL15stimulated-3 [HG-U133A] [IRIS_GSE22886|GSM565304]', 'NKcell-IL15stimulated-4 [HG-U133A] [IRIS_GSE22886|GSM565305]', 'NKcell-IL15stimulated-5 [HG-U133A] [IRIS_GSE22886|GSM565306]', 'NKcell-IL15stimulated-6 [HG-U133A] [IRIS_GSE22886|GSM565307]', 'Bcell-naive-1 [HG-U133A] [IRIS_GSE22886|GSM565308]', 'Bcell-naive-2 [HG-U133A] [IRIS_GSE22886|GSM565309]', 'Bcell-naive-3 [HG-U133A] [IRIS_GSE22886|GSM565310]', 'Bcell-naive-4 [HG-U133A] [IRIS_GSE22886|GSM565311]', 'Bcell-naive-5 [HG-U133A] [IRIS_GSE22886|GSM565312]', 'Bcell-naive-6 [HG-U133A] [IRIS_GSE22886|GSM565313]', 'Bcell-naive-7 [HG-U133A] [IRIS_GSE22886|GSM565314]', 'Bcell-Memory_IgG_IgA-1 [HG-U133A] [IRIS_GSE22886|GSM565315]', 'Bcell-Memory_IgG_IgA-2 [HG-U133A] [IRIS_GSE22886|GSM565316]', 'Bcell-Memory_IgG_IgA-3 [HG-U133A] [IRIS_GSE22886|GSM565317]', 'Bcell-Memory_IgG_IgA-4 [HG-U133A] [IRIS_GSE22886|GSM565318]', 'Bcell-Memory_IgM-1 [HG-U133A] [IRIS_GSE22886|GSM565319]', 'Bcell-Memory_IgM-2 [HG-U133A] [IRIS_GSE22886|GSM565320]', 'Bcell-Memory_IgM-3 [HG-U133A] [IRIS_GSE22886|GSM565321]', 'Bcell-Memory_IgM-4 [HG-U133A] [IRIS_GSE22886|GSM565322]', 'PlasmaCell-FromPBMC-1 [HG-U133A] [IRIS_GSE22886|GSM565323]', 'PlasmaCell-FromPBMC-2 [HG-U133A] [IRIS_GSE22886|GSM565324]', 'PlasmaCell-FromPBMC-3 [HG-U133A] [IRIS_GSE22886|GSM565325]', 'PlasmaCell-FromBoneMarrow-1 [HG-U133A] [IRIS_GSE22886|GSM565326]', 'PlasmaCell-FromBoneMarrow-2 [HG-U133A] [IRIS_GSE22886|GSM565327]', 'PlasmaCell-FromBoneMarrow-3 [HG-U133A] [IRIS_GSE22886|GSM565328]', 'PlasmaCell-FromBoneMarrow-4 [HG-U133A] [IRIS_GSE22886|GSM565329]', 'Monocyte-Day0-1 [HG-U133A] [IRIS_GSE22886|GSM565330]', 'Monocyte-Day0-2 [HG-U133A] [IRIS_GSE22886|GSM565331]', 'Monocyte-Day0-3 [HG-U133A] [IRIS_GSE22886|GSM565332]', 'Monocyte-Day0-4 [HG-U133A] [IRIS_GSE22886|GSM565333]', 'Monocyte-Day0-5 [HG-U133A] [IRIS_GSE22886|GSM565334]', 'Monocyte-Day0-6 [HG-U133A] [IRIS_GSE22886|GSM565335]', 'Monocyte-Day0-7 [HG-U133A] [IRIS_GSE22886|GSM565336]', 'Monocyte-Day0-8 [HG-U133A] [IRIS_GSE22886|GSM565337]', 'Monocyte-Day0-9 [HG-U133A] [IRIS_GSE22886|GSM565338]', 'Monocyte-Day0-10 [HG-U133A] [IRIS_GSE22886|GSM565339]', 'Monocyte-Day0-11 [HG-U133A] [IRIS_GSE22886|GSM565340]', 'Monocyte-Day0-12 [HG-U133A] [IRIS_GSE22886|GSM565341]', 'Monocyte-Day1-1 [HG-U133A] [IRIS_GSE22886|GSM565342]', 'Monocyte-Day1-2 [HG-U133A] [IRIS_GSE22886|GSM565343]', 'Monocyte-Day1-3 [HG-U133A] [IRIS_GSE22886|GSM565344]', 'Monocyte-Day1-4 [HG-U133A] [IRIS_GSE22886|GSM565345]', 'Monocyte-Day1-5 [HG-U133A] [IRIS_GSE22886|GSM565346]', 'Monocyte-Day1-6 [HG-U133A] [IRIS_GSE22886|GSM565347]', 'Monocyte-Day1-7 [HG-U133A] [IRIS_GSE22886|GSM565348]', 'Monocyte-Day1-8 [HG-U133A] [IRIS_GSE22886|GSM565349]', 'Monocyte-Day1-9 [HG-U133A] [IRIS_GSE22886|GSM565350]', 'Monocyte-Day1-10 [HG-U133A] [IRIS_GSE22886|GSM565351]', 'Monocyte-Day1-11 [HG-U133A] [IRIS_GSE22886|GSM565352]', 'Monocyte-Day1-12 [HG-U133A] [IRIS_GSE22886|GSM565353]', 'Monocyte-Day7-1 [HG-U133A] [IRIS_GSE22886|GSM565354]', 'Monocyte-Day7-2 [HG-U133A] [IRIS_GSE22886|GSM565355]', 'Monocyte-Day7-3 [HG-U133A] [IRIS_GSE22886|GSM565356]', 'Monocyte-Day7-4 [HG-U133A] [IRIS_GSE22886|GSM565357]', 'Monocyte-Day7-5 [HG-U133A] [IRIS_GSE22886|GSM565358]', 'Monocyte-Day7-6 [HG-U133A] [IRIS_GSE22886|GSM565359]', 'Monocyte-Day7-7 [HG-U133A] [IRIS_GSE22886|GSM565360]', 'Monocyte-Day7-8 [HG-U133A] [IRIS_GSE22886|GSM565361]', 'Monocyte-Day7-9 [HG-U133A] [IRIS_GSE22886|GSM565362]', 'Monocyte-Day7-10 [HG-U133A] [IRIS_GSE22886|GSM565363]', 'Monocyte-Day7-11 [HG-U133A] [IRIS_GSE22886|GSM565364]', 'Monocyte-Day7-12 [HG-U133A] [IRIS_GSE22886|GSM565365]', 'DendriticCell-Control-1 [HG-U133A] [IRIS_GSE22886|GSM565366]', 'DendriticCell-Control-2 [HG-U133A] [IRIS_GSE22886|GSM565367]', 'DendriticCell-Control-3 [HG-U133A] [IRIS_GSE22886|GSM565368]', 'DendriticCell-Control-4 [HG-U133A] [IRIS_GSE22886|GSM565369]', 'DendriticCell-Control-5 [HG-U133A] [IRIS_GSE22886|GSM565370]', 'DendriticCell-Control-6 [HG-U133A] [IRIS_GSE22886|GSM565371]', 'DendriticCell-LPSstimulated-1 [HG-U133A] [IRIS_GSE22886|GSM565372]', 'DendriticCell-LPSstimulated-2 [HG-U133A] [IRIS_GSE22886|GSM565373]', 'DendriticCell-LPSstimulated-3 [HG-U133A] [IRIS_GSE22886|GSM565374]', 'DendriticCell-LPSstimulated-4 [HG-U133A] [IRIS_GSE22886|GSM565375]', 'DendriticCell-LPSstimulated-5 [HG-U133A] [IRIS_GSE22886|GSM565376]', 'DendriticCell-LPSstimulated-6 [HG-U133A] [IRIS_GSE22886|GSM565377]', 'Neutrophil-Resting-1 [HG-U133A] [IRIS_GSE22886|GSM565378]', 'Neutrophil-Resting-2 [HG-U133A] [IRIS_GSE22886|GSM565379]', 'Neutrophil-Resting-3 [HG-U133A] [IRIS_GSE22886|GSM565380]', 'Neutrophil-Resting-4 [HG-U133A] [IRIS_GSE22886|GSM565381]', 'Neutrophil-Resting-5 [HG-U133A] [IRIS_GSE22886|GSM565382]', 'classical or M1 activated macrophages, biological rep1 HG-U133A [M1_M2_GSE7138|GSM115055]', 'classical or M1 activated macrophages, biological rep2 HG-U133A [M1_M2_GSE7138|GSM115056]', 'classical or M1 activated macrophages, biological rep3 HG-U133A [M1_M2_GSE7138|GSM115057]', 'Alternative or M2 activated macrophages, biological rep1 HG-U133A [M1_M2_GSE7138|GSM115058]', 'Alternative or M2 activated macrophages, biological rep2 HG-U133A [M1_M2_GSE7138|GSM115059]', 'Alternative or M2 activated macrophages, biological rep3 HG-U133A [M1_M2_GSE7138|GSM115060]', 'CXCR5-ICOS-lo_U133A_1 [TFH_E-MEXP-750|CXCR5-ICOS-lo_U133A_1]', 'CXCR5-ICOS-lo_U133A_2 [TFH_E-MEXP-750|CXCR5-ICOS-lo_U133A_2]', 'CXCR5-ICOS-lo_U133A_3 [TFH_E-MEXP-750|CXCR5-ICOS-lo_U133A_3]', 'CXCR5hiICOShi_U133A_1 [TFH_E-MEXP-750|CXCR5hiICOShi_U133A_1]', 'CXCR5hiICOShi_U133A_2 [TFH_E-MEXP-750|CXCR5hiICOShi_U133A_2]', 'CXCR5hiICOShi_U133A_3 [TFH_E-MEXP-750|CXCR5hiICOShi_U133A_3]', 'CXCR5loICOSint_U133A_1 [TFH_E-MEXP-750|CXCR5loICOSint_U133A_1]', 'CXCR5loICOSint_U133A_2 [TFH_E-MEXP-750|CXCR5loICOSint_U133A_2]', 'CXCR5loICOSint_U133A_3 [TFH_E-MEXP-750|CXCR5loICOSint_U133A_3]', 'TCM1_U133A_1 [TFH_E-MEXP-750|TCM1_U133A_1]', 'TCM1_U133A_2 [TFH_E-MEXP-750|TCM1_U133A_2]', 'TCM1_U133A_3 [TFH_E-MEXP-750|TCM1_U133A_3]', 'TCM_U133A_1 [TFH_E-MEXP-750|TCM_U133A_1]', 'TCM_U133A_2 [TFH_E-MEXP-750|TCM_U133A_2]', 'TCM_U133A_3 [TFH_E-MEXP-750|TCM_U133A_3]', 'TEM_U133A_1 [TFH_E-MEXP-750|TEM_U133A_1]', 'TEM_U133A_2 [TFH_E-MEXP-750|TEM_U133A_2]', 'TEM_U133A_3 [TFH_E-MEXP-750|TEM_U133A_3]', 'TN_U133A_1 [TFH_E-MEXP-750|TN_U133A_1]', 'TN_U133A_2 [TFH_E-MEXP-750|TN_U133A_2]', 'TN_U133A_3 [TFH_E-MEXP-750|TN_U133A_3]', 'TH_1 [TREGs_GSE4527|GSM101518]', 'Treg_1 [TREGs_GSE4527|GSM101519]', 'TH_2 [TREGs_GSE4527|GSM101520]', 'Treg_2 [TREGs_GSE4527|GSM101521]']\n"
     ]
    }
   ],
   "source": [
    "print matching.columns.tolist()"
   ]
  },
  {
   "cell_type": "code",
   "execution_count": 25,
   "metadata": {
    "collapsed": true
   },
   "outputs": [],
   "source": [
    "# we are going to rename the columns so we can work with them\n",
    "column_mappings = {}"
   ]
  },
  {
   "cell_type": "code",
   "execution_count": 26,
   "metadata": {
    "collapsed": false
   },
   "outputs": [
    {
     "data": {
      "text/plain": [
       "(    filename      type subtype  replicate\n",
       " 0  GSM565269  CD8Tcell      N0          1\n",
       " 1  GSM565270  CD8Tcell      N0          2\n",
       " 2  GSM565271  CD8Tcell      N0          3\n",
       " 3  GSM565272  CD8Tcell      N0          4\n",
       " 4  GSM565273  CD4Tcell      N0          1,\n",
       "       filename        type  subtype  replicate\n",
       " 109  GSM565378  Neutrophil  Resting          1\n",
       " 110  GSM565379  Neutrophil  Resting          2\n",
       " 111  GSM565380  Neutrophil  Resting          3\n",
       " 112  GSM565381  Neutrophil  Resting          4\n",
       " 113  GSM565382  Neutrophil  Resting          5)"
      ]
     },
     "execution_count": 26,
     "metadata": {},
     "output_type": "execute_result"
    }
   ],
   "source": [
    "# load column descriptions\n",
    "cols_1 = pd.read_csv('curated_data/pure_samples/iris/GSE22886_descriptions_parsed.tsv', sep='\\t')\n",
    "cols_1.head(), cols_1.tail()"
   ]
  },
  {
   "cell_type": "code",
   "execution_count": 27,
   "metadata": {
    "collapsed": false
   },
   "outputs": [
    {
     "data": {
      "text/plain": [
       "0    CD8Tcell | N0 | 1\n",
       "1    CD8Tcell | N0 | 2\n",
       "2    CD8Tcell | N0 | 3\n",
       "3    CD8Tcell | N0 | 4\n",
       "4    CD4Tcell | N0 | 1\n",
       "Name: newname, dtype: object"
      ]
     },
     "execution_count": 27,
     "metadata": {},
     "output_type": "execute_result"
    }
   ],
   "source": [
    "cols_1['newname'] = cols_1['type'] + ' | ' + cols_1['subtype'] + ' | ' + cols_1['replicate'].astype(str)\n",
    "cols_1.newname.head()"
   ]
  },
  {
   "cell_type": "code",
   "execution_count": 28,
   "metadata": {
    "collapsed": true
   },
   "outputs": [],
   "source": [
    "for _,row in cols_1.iterrows():\n",
    "    column_mappings[row['filename']+'.CEL.gz'] = row['newname']"
   ]
  },
  {
   "cell_type": "code",
   "execution_count": 29,
   "metadata": {
    "collapsed": false
   },
   "outputs": [
    {
     "data": {
      "text/plain": [
       "{'GSM565269.CEL.gz': 'CD8Tcell | N0 | 1',\n",
       " 'GSM565270.CEL.gz': 'CD8Tcell | N0 | 2',\n",
       " 'GSM565271.CEL.gz': 'CD8Tcell | N0 | 3',\n",
       " 'GSM565272.CEL.gz': 'CD8Tcell | N0 | 4',\n",
       " 'GSM565273.CEL.gz': 'CD4Tcell | N0 | 1',\n",
       " 'GSM565274.CEL.gz': 'CD4Tcell | N0 | 2',\n",
       " 'GSM565275.CEL.gz': 'CD4Tcell | N0 | 3',\n",
       " 'GSM565276.CEL.gz': 'CD4Tcell | Th1-restimulated12hour | 1',\n",
       " 'GSM565277.CEL.gz': 'CD4Tcell | Th1-restimulated12hour | 2',\n",
       " 'GSM565278.CEL.gz': 'CD4Tcell | Th1-restimulated48hour | 1',\n",
       " 'GSM565279.CEL.gz': 'CD4Tcell | Th1-restimulated48hour | 2',\n",
       " 'GSM565280.CEL.gz': 'CD4Tcell | Th1-restimulated48hour | 3',\n",
       " 'GSM565281.CEL.gz': 'CD4Tcell | Th2-restimulated12hour | 1',\n",
       " 'GSM565282.CEL.gz': 'CD4Tcell | Th2-restimulated12hour | 2',\n",
       " 'GSM565283.CEL.gz': 'CD4Tcell | Th2-restimulated12hour | 3',\n",
       " 'GSM565284.CEL.gz': 'CD4Tcell | Th2-restimulated48hour | 1',\n",
       " 'GSM565285.CEL.gz': 'CD4Tcell | Th2-restimulated48hour | 2',\n",
       " 'GSM565286.CEL.gz': 'CD4Tcell | Th2-restimulated48hour | 3',\n",
       " 'GSM565287.CEL.gz': 'MemoryTcell | RO-unactivated | 1',\n",
       " 'GSM565288.CEL.gz': 'MemoryTcell | RO-unactivated | 2',\n",
       " 'GSM565289.CEL.gz': 'MemoryTcell | RO-unactivated | 3',\n",
       " 'GSM565290.CEL.gz': 'MemoryTcell | RO-activated | 1',\n",
       " 'GSM565291.CEL.gz': 'MemoryTcell | RO-activated | 2',\n",
       " 'GSM565292.CEL.gz': 'MemoryTcell | RO-activated | 3',\n",
       " 'GSM565293.CEL.gz': 'NKcell | control | 1',\n",
       " 'GSM565294.CEL.gz': 'NKcell | control | 2',\n",
       " 'GSM565295.CEL.gz': 'NKcell | control | 3',\n",
       " 'GSM565296.CEL.gz': 'NKcell | control | 4',\n",
       " 'GSM565297.CEL.gz': 'NKcell | IL2stimulated | 1',\n",
       " 'GSM565298.CEL.gz': 'NKcell | IL2stimulated | 2',\n",
       " 'GSM565299.CEL.gz': 'NKcell | IL2stimulated | 3',\n",
       " 'GSM565300.CEL.gz': 'NKcell | IL2stimulated | 4',\n",
       " 'GSM565301.CEL.gz': 'NKcell | IL2stimulated | 5',\n",
       " 'GSM565302.CEL.gz': 'NKcell | IL15stimulated | 1',\n",
       " 'GSM565303.CEL.gz': 'NKcell | IL15stimulated | 2',\n",
       " 'GSM565304.CEL.gz': 'NKcell | IL15stimulated | 3',\n",
       " 'GSM565305.CEL.gz': 'NKcell | IL15stimulated | 4',\n",
       " 'GSM565306.CEL.gz': 'NKcell | IL15stimulated | 5',\n",
       " 'GSM565307.CEL.gz': 'NKcell | IL15stimulated | 6',\n",
       " 'GSM565308.CEL.gz': 'Bcell | na\\xc3\\xafve | 1',\n",
       " 'GSM565309.CEL.gz': 'Bcell | na\\xc3\\xafve | 2',\n",
       " 'GSM565310.CEL.gz': 'Bcell | na\\xc3\\xafve | 3',\n",
       " 'GSM565311.CEL.gz': 'Bcell | na\\xc3\\xafve | 4',\n",
       " 'GSM565312.CEL.gz': 'Bcell | na\\xc3\\xafve | 5',\n",
       " 'GSM565313.CEL.gz': 'Bcell | na\\xc3\\xafve | 6',\n",
       " 'GSM565314.CEL.gz': 'Bcell | na\\xc3\\xafve | 7',\n",
       " 'GSM565315.CEL.gz': 'Bcell | Memory_IgG_IgA | 1',\n",
       " 'GSM565316.CEL.gz': 'Bcell | Memory_IgG_IgA | 2',\n",
       " 'GSM565317.CEL.gz': 'Bcell | Memory_IgG_IgA | 3',\n",
       " 'GSM565318.CEL.gz': 'Bcell | Memory_IgG_IgA | 4',\n",
       " 'GSM565319.CEL.gz': 'Bcell | Memory_IgM | 1',\n",
       " 'GSM565320.CEL.gz': 'Bcell | Memory_IgM | 2',\n",
       " 'GSM565321.CEL.gz': 'Bcell | Memory_IgM | 3',\n",
       " 'GSM565322.CEL.gz': 'Bcell | Memory_IgM | 4',\n",
       " 'GSM565323.CEL.gz': 'PlasmaCell | FromPBMC | 1',\n",
       " 'GSM565324.CEL.gz': 'PlasmaCell | FromPBMC | 2',\n",
       " 'GSM565325.CEL.gz': 'PlasmaCell | FromPBMC | 3',\n",
       " 'GSM565326.CEL.gz': 'PlasmaCell | FromBoneMarrow | 1',\n",
       " 'GSM565327.CEL.gz': 'PlasmaCell | FromBoneMarrow | 2',\n",
       " 'GSM565328.CEL.gz': 'PlasmaCell | FromBoneMarrow | 3',\n",
       " 'GSM565329.CEL.gz': 'PlasmaCell | FromBoneMarrow | 4',\n",
       " 'GSM565330.CEL.gz': 'Monocyte | Day0 | 1',\n",
       " 'GSM565331.CEL.gz': 'Monocyte | Day0 | 2',\n",
       " 'GSM565332.CEL.gz': 'Monocyte | Day0 | 3',\n",
       " 'GSM565333.CEL.gz': 'Monocyte | Day0 | 4',\n",
       " 'GSM565334.CEL.gz': 'Monocyte | Day0 | 5',\n",
       " 'GSM565335.CEL.gz': 'Monocyte | Day0 | 6',\n",
       " 'GSM565336.CEL.gz': 'Monocyte | Day0 | 7',\n",
       " 'GSM565337.CEL.gz': 'Monocyte | Day0 | 8',\n",
       " 'GSM565338.CEL.gz': 'Monocyte | Day0 | 9',\n",
       " 'GSM565339.CEL.gz': 'Monocyte | Day0 | 10',\n",
       " 'GSM565340.CEL.gz': 'Monocyte | Day0 | 11',\n",
       " 'GSM565341.CEL.gz': 'Monocyte | Day0 | 12',\n",
       " 'GSM565342.CEL.gz': 'Monocyte | Day1 | 1',\n",
       " 'GSM565343.CEL.gz': 'Monocyte | Day1 | 2',\n",
       " 'GSM565344.CEL.gz': 'Monocyte | Day1 | 3',\n",
       " 'GSM565345.CEL.gz': 'Monocyte | Day1 | 4',\n",
       " 'GSM565346.CEL.gz': 'Monocyte | Day1 | 5',\n",
       " 'GSM565347.CEL.gz': 'Monocyte | Day1 | 6',\n",
       " 'GSM565348.CEL.gz': 'Monocyte | Day1 | 7',\n",
       " 'GSM565349.CEL.gz': 'Monocyte | Day1 | 8',\n",
       " 'GSM565350.CEL.gz': 'Monocyte | Day1 | 9',\n",
       " 'GSM565351.CEL.gz': 'Monocyte | Day1 | 10',\n",
       " 'GSM565352.CEL.gz': 'Monocyte | Day1 | 11',\n",
       " 'GSM565353.CEL.gz': 'Monocyte | Day1 | 12',\n",
       " 'GSM565354.CEL.gz': 'Monocyte | Day7 | 1',\n",
       " 'GSM565355.CEL.gz': 'Monocyte | Day7 | 2',\n",
       " 'GSM565356.CEL.gz': 'Monocyte | Day7 | 3',\n",
       " 'GSM565357.CEL.gz': 'Monocyte | Day7 | 4',\n",
       " 'GSM565358.CEL.gz': 'Monocyte | Day7 | 5',\n",
       " 'GSM565359.CEL.gz': 'Monocyte | Day7 | 6',\n",
       " 'GSM565360.CEL.gz': 'Monocyte | Day7 | 7',\n",
       " 'GSM565361.CEL.gz': 'Monocyte | Day7 | 8',\n",
       " 'GSM565362.CEL.gz': 'Monocyte | Day7 | 9',\n",
       " 'GSM565363.CEL.gz': 'Monocyte | Day7 | 10',\n",
       " 'GSM565364.CEL.gz': 'Monocyte | Day7 | 11',\n",
       " 'GSM565365.CEL.gz': 'Monocyte | Day7 | 12',\n",
       " 'GSM565366.CEL.gz': 'DendriticCell | Control | 1',\n",
       " 'GSM565367.CEL.gz': 'DendriticCell | Control | 2',\n",
       " 'GSM565368.CEL.gz': 'DendriticCell | Control | 3',\n",
       " 'GSM565369.CEL.gz': 'DendriticCell | Control | 4',\n",
       " 'GSM565370.CEL.gz': 'DendriticCell | Control | 5',\n",
       " 'GSM565371.CEL.gz': 'DendriticCell | Control | 6',\n",
       " 'GSM565372.CEL.gz': 'DendriticCell | LPSstimulated | 1',\n",
       " 'GSM565373.CEL.gz': 'DendriticCell | LPSstimulated | 2',\n",
       " 'GSM565374.CEL.gz': 'DendriticCell | LPSstimulated | 3',\n",
       " 'GSM565375.CEL.gz': 'DendriticCell | LPSstimulated | 4',\n",
       " 'GSM565376.CEL.gz': 'DendriticCell | LPSstimulated | 5',\n",
       " 'GSM565377.CEL.gz': 'DendriticCell | LPSstimulated | 6',\n",
       " 'GSM565378.CEL.gz': 'Neutrophil | Resting | 1',\n",
       " 'GSM565379.CEL.gz': 'Neutrophil | Resting | 2',\n",
       " 'GSM565380.CEL.gz': 'Neutrophil | Resting | 3',\n",
       " 'GSM565381.CEL.gz': 'Neutrophil | Resting | 4',\n",
       " 'GSM565382.CEL.gz': 'Neutrophil | Resting | 5'}"
      ]
     },
     "execution_count": 29,
     "metadata": {},
     "output_type": "execute_result"
    }
   ],
   "source": [
    "column_mappings"
   ]
  },
  {
   "cell_type": "code",
   "execution_count": 30,
   "metadata": {
    "collapsed": false
   },
   "outputs": [
    {
     "data": {
      "text/html": [
       "<div>\n",
       "<table border=\"1\" class=\"dataframe\">\n",
       "  <thead>\n",
       "    <tr style=\"text-align: right;\">\n",
       "      <th></th>\n",
       "      <th>Unnamed: 0</th>\n",
       "      <th>type</th>\n",
       "      <th>subtype</th>\n",
       "      <th>filename</th>\n",
       "      <th>filename_low</th>\n",
       "    </tr>\n",
       "  </thead>\n",
       "  <tbody>\n",
       "    <tr>\n",
       "      <th>0</th>\n",
       "      <td>2</td>\n",
       "      <td>dendritic</td>\n",
       "      <td>6hr LPS</td>\n",
       "      <td>A_LW_DC6hLPS_U133A_200503.CEL</td>\n",
       "      <td>a_lw_dc6hlps_u133a_200503.cel</td>\n",
       "    </tr>\n",
       "    <tr>\n",
       "      <th>1</th>\n",
       "      <td>6</td>\n",
       "      <td>dendritic</td>\n",
       "      <td>6hr LPS</td>\n",
       "      <td>A_SZ_6hLPSDC2_U133A_250603.CEL</td>\n",
       "      <td>a_sz_6hlpsdc2_u133a_250603.cel</td>\n",
       "    </tr>\n",
       "    <tr>\n",
       "      <th>2</th>\n",
       "      <td>10</td>\n",
       "      <td>dendritic</td>\n",
       "      <td>48hr LPS</td>\n",
       "      <td>A_LW_DC48hLPS_U133A_200503.CEL</td>\n",
       "      <td>a_lw_dc48hlps_u133a_200503.cel</td>\n",
       "    </tr>\n",
       "    <tr>\n",
       "      <th>3</th>\n",
       "      <td>14</td>\n",
       "      <td>dendritic</td>\n",
       "      <td>48hr LPS</td>\n",
       "      <td>A_SZ_48hLPSDC2_U133A_250603.CEL</td>\n",
       "      <td>a_sz_48hlpsdc2_u133a_250603.cel</td>\n",
       "    </tr>\n",
       "    <tr>\n",
       "      <th>4</th>\n",
       "      <td>17</td>\n",
       "      <td>dendritic</td>\n",
       "      <td>6hr LPS + HC</td>\n",
       "      <td>A_LW_DC6hLPS_HC_U133A.CEL</td>\n",
       "      <td>a_lw_dc6hlps_hc_u133a.cel</td>\n",
       "    </tr>\n",
       "  </tbody>\n",
       "</table>\n",
       "</div>"
      ],
      "text/plain": [
       "   Unnamed: 0       type       subtype                         filename  \\\n",
       "0           2  dendritic       6hr LPS    A_LW_DC6hLPS_U133A_200503.CEL   \n",
       "1           6  dendritic       6hr LPS   A_SZ_6hLPSDC2_U133A_250603.CEL   \n",
       "2          10  dendritic      48hr LPS   A_LW_DC48hLPS_U133A_200503.CEL   \n",
       "3          14  dendritic      48hr LPS  A_SZ_48hLPSDC2_U133A_250603.CEL   \n",
       "4          17  dendritic  6hr LPS + HC        A_LW_DC6hLPS_HC_U133A.CEL   \n",
       "\n",
       "                      filename_low  \n",
       "0    a_lw_dc6hlps_u133a_200503.cel  \n",
       "1   a_sz_6hlpsdc2_u133a_250603.cel  \n",
       "2   a_lw_dc48hlps_u133a_200503.cel  \n",
       "3  a_sz_48hlpsdc2_u133a_250603.cel  \n",
       "4        a_lw_dc6hlps_hc_u133a.cel  "
      ]
     },
     "execution_count": 30,
     "metadata": {},
     "output_type": "execute_result"
    }
   ],
   "source": [
    "cols_2 = pd.read_csv('curated_data/pure_samples/bindea/cell_type_in_each_sample.tsv', sep='\\t')\n",
    "cols_2.head()"
   ]
  },
  {
   "cell_type": "code",
   "execution_count": 31,
   "metadata": {
    "collapsed": false
   },
   "outputs": [
    {
     "name": "stderr",
     "output_type": "stream",
     "text": [
      "/home/maxim/anaconda2/lib/python2.7/site-packages/ipykernel/__main__.py:3: SettingWithCopyWarning: \n",
      "A value is trying to be set on a copy of a slice from a DataFrame.\n",
      "Try using .loc[row_indexer,col_indexer] = value instead\n",
      "\n",
      "See the caveats in the documentation: http://pandas.pydata.org/pandas-docs/stable/indexing.html#indexing-view-versus-copy\n",
      "  app.launch_new_instance()\n",
      "/home/maxim/anaconda2/lib/python2.7/site-packages/ipykernel/__main__.py:4: SettingWithCopyWarning: \n",
      "A value is trying to be set on a copy of a slice from a DataFrame.\n",
      "Try using .loc[row_indexer,col_indexer] = value instead\n",
      "\n",
      "See the caveats in the documentation: http://pandas.pydata.org/pandas-docs/stable/indexing.html#indexing-view-versus-copy\n"
     ]
    }
   ],
   "source": [
    "for (typ,subtype), grp in cols_2.groupby(['type','subtype']):\n",
    "    # add replication number\n",
    "    grp['newname'] = list(range(len(grp)))\n",
    "    grp['newname'] = grp['type'] + ' | ' + grp['subtype'] + ' | ' + grp['newname'].astype(str)\n",
    "    for _, row in grp.iterrows():\n",
    "        column_mappings[row['filename']] = row['newname']"
   ]
  },
  {
   "cell_type": "code",
   "execution_count": 32,
   "metadata": {
    "collapsed": false
   },
   "outputs": [
    {
     "data": {
      "text/html": [
       "<div>\n",
       "<table border=\"1\" class=\"dataframe\">\n",
       "  <thead>\n",
       "    <tr style=\"text-align: right;\">\n",
       "      <th></th>\n",
       "      <th>0</th>\n",
       "      <th>1</th>\n",
       "    </tr>\n",
       "  </thead>\n",
       "  <tbody>\n",
       "    <tr>\n",
       "      <th>0</th>\n",
       "      <td>Jurkat</td>\n",
       "      <td>Tcell</td>\n",
       "    </tr>\n",
       "    <tr>\n",
       "      <th>1</th>\n",
       "      <td>IM.9</td>\n",
       "      <td>Bcell</td>\n",
       "    </tr>\n",
       "    <tr>\n",
       "      <th>2</th>\n",
       "      <td>Raji</td>\n",
       "      <td>Bcell</td>\n",
       "    </tr>\n",
       "    <tr>\n",
       "      <th>3</th>\n",
       "      <td>THP.1</td>\n",
       "      <td>monocyte</td>\n",
       "    </tr>\n",
       "  </tbody>\n",
       "</table>\n",
       "</div>"
      ],
      "text/plain": [
       "        0         1\n",
       "0  Jurkat     Tcell\n",
       "1    IM.9     Bcell\n",
       "2    Raji     Bcell\n",
       "3   THP.1  monocyte"
      ]
     },
     "execution_count": 32,
     "metadata": {},
     "output_type": "execute_result"
    }
   ],
   "source": [
    "cols_3 = pd.read_csv('curated_data/pure_samples/abbas/classes.tsv', sep='\\t', header=None)\n",
    "cols_3[0] = cols_3[0].str.replace('-', '.')\n",
    "cols_3.head()"
   ]
  },
  {
   "cell_type": "code",
   "execution_count": 33,
   "metadata": {
    "collapsed": false
   },
   "outputs": [
    {
     "name": "stdout",
     "output_type": "stream",
     "text": [
      "Index([u'PRB12534.Jurkat', u'PRB12535.Jurkat', u'PRB12536.Jurkat'], dtype='object')\n",
      "Index([u'PRB12537.IM.9', u'PRB12538.IM.9', u'PRB12539.IM.9'], dtype='object')\n",
      "Index([u'PRB12540.Raji', u'PRB12541.Raji', u'PRB12542.Raji'], dtype='object')\n",
      "Index([u'PRB12543.THP.1', u'PRB12544.THP.1', u'PRB12545.THP.1'], dtype='object')\n"
     ]
    }
   ],
   "source": [
    "for _,row in cols_3.iterrows():\n",
    "    selected = matching.columns[matching.columns.str.contains(row[0])]\n",
    "    print selected\n",
    "    for ix, c in enumerate(selected):\n",
    "        column_mappings[c] = row[1] + ' %d' % (ix+1)"
   ]
  },
  {
   "cell_type": "code",
   "execution_count": 34,
   "metadata": {
    "collapsed": false
   },
   "outputs": [
    {
     "name": "stdout",
     "output_type": "stream",
     "text": [
      "Index([u'Relabel',\n",
      "       u'A_LW_+BAFF_U133A_250303 [Chtanova_immune|A_LW_+BAFF_U133A_250303]',\n",
      "       u'A_LW_+BAFF_U133A_70303 [Chtanova_immune|A_LW_+BAFF_U133A_70303]',\n",
      "       u'A_LW_-BAFF_U133A_250303 [Chtanova_immune|A_LW_-BAFF_U133A_250303]',\n",
      "       u'A_LW_-BAFF_U133A_70303 [Chtanova_immune|A_LW_-BAFF_U133A_70303]',\n",
      "       u'A_LW_CD57+_U133A_030603 [Chtanova_immune|A_LW_CD57+_U133A_030603]',\n",
      "       u'A_LW_CD57+_U133A_121102 [Chtanova_immune|A_LW_CD57+_U133A_121102]',\n",
      "       u'A_LW_CD57-_U133A_030603 [Chtanova_immune|A_LW_CD57-_U133A_030603]',\n",
      "       u'A_LW_CD57-_U133A_121102 [Chtanova_immune|A_LW_CD57-_U133A_121102]',\n",
      "       u'A_LW_DC+BAFF_U133A_250304 [Chtanova_immune|A_LW_DC+BAFF_U133A_250304]',\n",
      "       ...\n",
      "       u'TEM_U133A_1 [TFH_E-MEXP-750|TEM_U133A_1]',\n",
      "       u'TEM_U133A_2 [TFH_E-MEXP-750|TEM_U133A_2]',\n",
      "       u'TEM_U133A_3 [TFH_E-MEXP-750|TEM_U133A_3]',\n",
      "       u'TN_U133A_1 [TFH_E-MEXP-750|TN_U133A_1]',\n",
      "       u'TN_U133A_2 [TFH_E-MEXP-750|TN_U133A_2]',\n",
      "       u'TN_U133A_3 [TFH_E-MEXP-750|TN_U133A_3]',\n",
      "       u'TH_1 [TREGs_GSE4527|GSM101518]', u'Treg_1 [TREGs_GSE4527|GSM101519]',\n",
      "       u'TH_2 [TREGs_GSE4527|GSM101520]', u'Treg_2 [TREGs_GSE4527|GSM101521]'],\n",
      "      dtype='object', length=195)\n"
     ]
    },
    {
     "data": {
      "text/html": [
       "<div>\n",
       "<table border=\"1\" class=\"dataframe\">\n",
       "  <thead>\n",
       "    <tr style=\"text-align: right;\">\n",
       "      <th></th>\n",
       "      <th>0</th>\n",
       "      <th>1</th>\n",
       "      <th>2</th>\n",
       "      <th>3</th>\n",
       "      <th>4</th>\n",
       "      <th>5</th>\n",
       "      <th>6</th>\n",
       "      <th>7</th>\n",
       "      <th>8</th>\n",
       "      <th>9</th>\n",
       "      <th>...</th>\n",
       "      <th>185</th>\n",
       "      <th>186</th>\n",
       "      <th>187</th>\n",
       "      <th>188</th>\n",
       "      <th>189</th>\n",
       "      <th>190</th>\n",
       "      <th>191</th>\n",
       "      <th>192</th>\n",
       "      <th>193</th>\n",
       "      <th>194</th>\n",
       "    </tr>\n",
       "  </thead>\n",
       "  <tbody>\n",
       "    <tr>\n",
       "      <th>0</th>\n",
       "      <td>B cells naive</td>\n",
       "      <td>0</td>\n",
       "      <td>0</td>\n",
       "      <td>0</td>\n",
       "      <td>0</td>\n",
       "      <td>0</td>\n",
       "      <td>0</td>\n",
       "      <td>0</td>\n",
       "      <td>0</td>\n",
       "      <td>0</td>\n",
       "      <td>...</td>\n",
       "      <td>0</td>\n",
       "      <td>0</td>\n",
       "      <td>0</td>\n",
       "      <td>2</td>\n",
       "      <td>2</td>\n",
       "      <td>2</td>\n",
       "      <td>0</td>\n",
       "      <td>2</td>\n",
       "      <td>0</td>\n",
       "      <td>2</td>\n",
       "    </tr>\n",
       "    <tr>\n",
       "      <th>1</th>\n",
       "      <td>B cells memory</td>\n",
       "      <td>0</td>\n",
       "      <td>0</td>\n",
       "      <td>0</td>\n",
       "      <td>0</td>\n",
       "      <td>0</td>\n",
       "      <td>0</td>\n",
       "      <td>0</td>\n",
       "      <td>0</td>\n",
       "      <td>0</td>\n",
       "      <td>...</td>\n",
       "      <td>0</td>\n",
       "      <td>0</td>\n",
       "      <td>0</td>\n",
       "      <td>2</td>\n",
       "      <td>2</td>\n",
       "      <td>2</td>\n",
       "      <td>0</td>\n",
       "      <td>2</td>\n",
       "      <td>0</td>\n",
       "      <td>2</td>\n",
       "    </tr>\n",
       "    <tr>\n",
       "      <th>2</th>\n",
       "      <td>Plasma cells</td>\n",
       "      <td>0</td>\n",
       "      <td>0</td>\n",
       "      <td>0</td>\n",
       "      <td>0</td>\n",
       "      <td>0</td>\n",
       "      <td>0</td>\n",
       "      <td>0</td>\n",
       "      <td>0</td>\n",
       "      <td>0</td>\n",
       "      <td>...</td>\n",
       "      <td>0</td>\n",
       "      <td>0</td>\n",
       "      <td>0</td>\n",
       "      <td>2</td>\n",
       "      <td>2</td>\n",
       "      <td>2</td>\n",
       "      <td>0</td>\n",
       "      <td>2</td>\n",
       "      <td>0</td>\n",
       "      <td>2</td>\n",
       "    </tr>\n",
       "    <tr>\n",
       "      <th>3</th>\n",
       "      <td>T cells CD8</td>\n",
       "      <td>0</td>\n",
       "      <td>0</td>\n",
       "      <td>0</td>\n",
       "      <td>0</td>\n",
       "      <td>0</td>\n",
       "      <td>0</td>\n",
       "      <td>0</td>\n",
       "      <td>0</td>\n",
       "      <td>0</td>\n",
       "      <td>...</td>\n",
       "      <td>0</td>\n",
       "      <td>0</td>\n",
       "      <td>0</td>\n",
       "      <td>2</td>\n",
       "      <td>2</td>\n",
       "      <td>2</td>\n",
       "      <td>0</td>\n",
       "      <td>2</td>\n",
       "      <td>0</td>\n",
       "      <td>2</td>\n",
       "    </tr>\n",
       "    <tr>\n",
       "      <th>4</th>\n",
       "      <td>T cells CD4 naive</td>\n",
       "      <td>0</td>\n",
       "      <td>0</td>\n",
       "      <td>0</td>\n",
       "      <td>0</td>\n",
       "      <td>0</td>\n",
       "      <td>0</td>\n",
       "      <td>0</td>\n",
       "      <td>0</td>\n",
       "      <td>0</td>\n",
       "      <td>...</td>\n",
       "      <td>0</td>\n",
       "      <td>0</td>\n",
       "      <td>0</td>\n",
       "      <td>1</td>\n",
       "      <td>1</td>\n",
       "      <td>1</td>\n",
       "      <td>0</td>\n",
       "      <td>2</td>\n",
       "      <td>0</td>\n",
       "      <td>2</td>\n",
       "    </tr>\n",
       "  </tbody>\n",
       "</table>\n",
       "<p>5 rows × 195 columns</p>\n",
       "</div>"
      ],
      "text/plain": [
       "                 0    1    2    3    4    5    6    7    8    9   ...   185  \\\n",
       "0      B cells naive    0    0    0    0    0    0    0    0    0 ...     0   \n",
       "1     B cells memory    0    0    0    0    0    0    0    0    0 ...     0   \n",
       "2       Plasma cells    0    0    0    0    0    0    0    0    0 ...     0   \n",
       "3        T cells CD8    0    0    0    0    0    0    0    0    0 ...     0   \n",
       "4  T cells CD4 naive    0    0    0    0    0    0    0    0    0 ...     0   \n",
       "\n",
       "   186  187  188  189  190  191  192  193  194  \n",
       "0    0    0    2    2    2    0    2    0    2  \n",
       "1    0    0    2    2    2    0    2    0    2  \n",
       "2    0    0    2    2    2    0    2    0    2  \n",
       "3    0    0    2    2    2    0    2    0    2  \n",
       "4    0    0    1    1    1    0    2    0    2  \n",
       "\n",
       "[5 rows x 195 columns]"
      ]
     },
     "execution_count": 34,
     "metadata": {},
     "output_type": "execute_result"
    }
   ],
   "source": [
    "cols_4 = pd.read_csv('curated_data/pure_samples/cibersort/LM22-classes.txt', sep='\\t', header=None)\n",
    "cols_4_orig = pd.read_csv('curated_data/pure_samples/cibersort/LM22-ref-sample.txt', sep='\\t').columns\n",
    "print cols_4_orig\n",
    "cols_4.head()"
   ]
  },
  {
   "cell_type": "code",
   "execution_count": 35,
   "metadata": {
    "collapsed": false
   },
   "outputs": [
    {
     "name": "stdout",
     "output_type": "stream",
     "text": [
      "B cells naive\n",
      "B cells memory\n",
      "Plasma cells\n",
      "T cells CD8\n",
      "T cells CD4 naive\n",
      "T cells CD4 memory resting\n",
      "T cells CD4 memory activated\n",
      "T cells follicular helper\n",
      "T cells gamma delta\n",
      "T cells regulatory (Tregs)\n",
      "NK cells resting\n",
      "NK cells activated\n",
      "Monocytes\n",
      "Macrophages M0\n",
      "Macrophages M1\n",
      "Macrophages M2\n",
      "Dendritic cells resting\n",
      "Dendritic cells activated\n",
      "Mast cells resting\n",
      "Mast cells activated\n",
      "Eosinophils\n",
      "Neutrophils\n"
     ]
    }
   ],
   "source": [
    "for _,row in cols_4.iterrows():\n",
    "    # print row[row==1].index\n",
    "    print row[0]\n",
    "    #print cols_4_orig[row[row==1].index]\n",
    "    for ix, s in enumerate(cols_4_orig[row[row==1].index]):\n",
    "        column_mappings[s] = row[0] + \"_%d\" % (ix+1)\n",
    "    #break"
   ]
  },
  {
   "cell_type": "code",
   "execution_count": 36,
   "metadata": {
    "collapsed": false,
    "scrolled": true
   },
   "outputs": [
    {
     "data": {
      "text/plain": [
       "{'A_LW_DC48hLPS_HC_U133A.CEL': 'dendritic | 48hr LPS + HC | 0',\n",
       " 'A_LW_DC48hLPS_U133A_200503.CEL': 'dendritic | 48hr LPS | 0',\n",
       " 'A_LW_DC6hLPS_HC_U133A.CEL': 'dendritic | 6hr LPS + HC | 0',\n",
       " 'A_LW_DC6hLPS_U133A_200503.CEL': 'dendritic | 6hr LPS | 0',\n",
       " 'A_LW_imDC_U133A_200503.CEL': 'dendritic | Immature | 0',\n",
       " 'A_LW_macro_LPS_HC_U133A.CEL': 'macrophage | LPS + HC | 0',\n",
       " 'A_LW_macro_LPS_U133A_130503.CEL': 'macrophage | LPS | 0',\n",
       " 'A_LW_macroctrl_U133A_130503.CEL': 'macrophage | contorl | 0',\n",
       " 'A_LW_mastcellIgE_U133A [Chtanova_immune|A_LW_mastcellIgE_U133A]': 'Mast cells activated_1',\n",
       " 'A_LW_mastcellIgE_U133A.CEL': 'Mastcell | IgE | 1',\n",
       " 'A_LW_mastcellctrl_U133A [Chtanova_immune|A_LW_mastcellctrl_U133A]': 'Mast cells resting_1',\n",
       " 'A_LW_mastcellctrl_U133A.CEL': 'Mastcell | Contrl | 1',\n",
       " 'A_LW_neutrophil_U133A [Chtanova_immune|A_LW_neutrophil_U133A]': 'Neutrophils_1',\n",
       " 'A_LW_neutrophil_U133A.CEL': 'neutrophils | Contrl | 1',\n",
       " 'A_MF_2hrEosinophils.CEL': 'eosinophils | PMA | 0',\n",
       " 'A_MF_2hrEosinophils_U133A [Chtanova_immune|A_MF_2hrEosinophils_U133A]': 'Eosinophils_1',\n",
       " 'A_MF_CCR7+_U133A_190202.CEL': 'Tcell | CCR7+ | 0',\n",
       " 'A_MF_CCR7-_U133A_190202.CEL': 'Tcell | CCR7- | 0',\n",
       " 'A_MF_ControlEosinophil [Chtanova_immune|A_MF_ControlEosinophil]': 'Eosinophils_2',\n",
       " 'A_MF_ControlEosinophil.CEL': 'eosinophils | Control | 0',\n",
       " 'A_MF_ControlMASTCELL_U133A [Chtanova_immune|A_MF_ControlMASTCELL_U133A]': 'Mast cells resting_2',\n",
       " 'A_MF_ControlMASTCELL_U133A.CEL': 'Mastcell | Contrl | 0',\n",
       " 'A_MF_IgEMASTCELL_U133A [Chtanova_immune|A_MF_IgEMASTCELL_U133A]': 'Mast cells activated_2',\n",
       " 'A_MF_IgEMASTCELL_U133A.CEL': 'Mastcell | IgE | 0',\n",
       " 'A_MF_TH1human_U133A_290502.CEL': 'Tcell | Th1 | 0',\n",
       " 'A_MF_TH2human_U133A_290502.CEL': 'Tcell | Th2 | 0',\n",
       " 'A_MF_neutrophils_U133A [Chtanova_immune|A_MF_neutrophils_U133A]': 'Neutrophils_2',\n",
       " 'A_MF_neutrophils_U133A.CEL': 'neutrophils | Contrl | 0',\n",
       " 'A_SZ_48hLPSDC2_U133A_250603.CEL': 'dendritic | 48hr LPS | 1',\n",
       " 'A_SZ_48hLPS_HCDC2_U133A.CEL': 'dendritic | 48hr LPS + HC | 1',\n",
       " 'A_SZ_6hLPSDC2_U133A_250603.CEL': 'dendritic | 6hr LPS | 1',\n",
       " 'A_SZ_6hLPS_HCDC2_U133A.CEL': 'dendritic | 6hr LPS + HC | 1',\n",
       " 'A_SZ_imDC2_U133A_250603.CEL': 'dendritic | Immature | 1',\n",
       " 'A_SZ_mac2LPS_HC_U133A.CEL': 'macrophage | LPS + HC | 1',\n",
       " 'A_SZ_mac2LPS_U133A_240603.CEL': 'macrophage | LPS | 1',\n",
       " 'A_SZ_mac2cont_U133A_240603.CEL': 'macrophage | contorl | 1',\n",
       " 'A_TS_2CD19+_U133A_180204.CEL': 'Bcell | CD19+ | 1',\n",
       " 'A_TS_MSNeutroLPS_U133A [Chtanova_immune|A_TS_MSNeutroLPS_U133A]': 'Neutrophils_3',\n",
       " 'A_TS_MSNeutroLPS_U133A.CEL': 'neutrophils | LPS | 0',\n",
       " 'A_TS_RN_CD19+_U133A_130104.CEL': 'Bcell | CD19+ | 0',\n",
       " 'A_TS_RN_gdTcellsREP_A [Chtanova_immune|A_TS_RN_gdTcellsREP_A]': 'T cells gamma delta_2',\n",
       " 'A_TS_RN_gdTcells_U133A [Chtanova_immune|A_TS_RN_gdTcells_U133A]': 'T cells gamma delta_1',\n",
       " 'A_TS_TC_Th1_U133A_141003.CEL': 'Tcell | Th1 | 1',\n",
       " 'A_TS_TC_Th2_U133A_141003.CEL': 'Tcell | Th2 | 1',\n",
       " 'Alternative or M2 activated macrophages, biological rep1 HG-U133A [M1_M2_GSE7138|GSM115058]': 'Macrophages M2_1',\n",
       " 'Alternative or M2 activated macrophages, biological rep2 HG-U133A [M1_M2_GSE7138|GSM115059]': 'Macrophages M2_2',\n",
       " 'Alternative or M2 activated macrophages, biological rep3 HG-U133A [M1_M2_GSE7138|GSM115060]': 'Macrophages M2_3',\n",
       " 'Bcell-Memory_IgG_IgA-1 [HG-U133A] [IRIS_GSE22886|GSM565315]': 'B cells memory_1',\n",
       " 'Bcell-Memory_IgG_IgA-2 [HG-U133A] [IRIS_GSE22886|GSM565316]': 'B cells memory_2',\n",
       " 'Bcell-Memory_IgG_IgA-3 [HG-U133A] [IRIS_GSE22886|GSM565317]': 'B cells memory_3',\n",
       " 'Bcell-Memory_IgG_IgA-4 [HG-U133A] [IRIS_GSE22886|GSM565318]': 'B cells memory_4',\n",
       " 'Bcell-Memory_IgM-1 [HG-U133A] [IRIS_GSE22886|GSM565319]': 'B cells memory_5',\n",
       " 'Bcell-Memory_IgM-2 [HG-U133A] [IRIS_GSE22886|GSM565320]': 'B cells memory_6',\n",
       " 'Bcell-Memory_IgM-3 [HG-U133A] [IRIS_GSE22886|GSM565321]': 'B cells memory_7',\n",
       " 'Bcell-Memory_IgM-4 [HG-U133A] [IRIS_GSE22886|GSM565322]': 'B cells memory_8',\n",
       " 'Bcell-naive-1 [HG-U133A] [IRIS_GSE22886|GSM565308]': 'B cells naive_1',\n",
       " 'Bcell-naive-2 [HG-U133A] [IRIS_GSE22886|GSM565309]': 'B cells naive_2',\n",
       " 'Bcell-naive-3 [HG-U133A] [IRIS_GSE22886|GSM565310]': 'B cells naive_3',\n",
       " 'Bcell-naive-4 [HG-U133A] [IRIS_GSE22886|GSM565311]': 'B cells naive_4',\n",
       " 'Bcell-naive-5 [HG-U133A] [IRIS_GSE22886|GSM565312]': 'B cells naive_5',\n",
       " 'Bcell-naive-6 [HG-U133A] [IRIS_GSE22886|GSM565313]': 'B cells naive_6',\n",
       " 'Bcell-naive-7 [HG-U133A] [IRIS_GSE22886|GSM565314]': 'B cells naive_7',\n",
       " 'CD8Tcell-N0-1 [HG-U133A] [IRIS_GSE22886|GSM565269]': 'T cells CD8_1',\n",
       " 'CD8Tcell-N0-2 [HG-U133A] [IRIS_GSE22886|GSM565270]': 'T cells CD8_2',\n",
       " 'CD8Tcell-N0-3 [HG-U133A] [IRIS_GSE22886|GSM565271]': 'T cells CD8_3',\n",
       " 'CD8Tcell-N0-4 [HG-U133A] [IRIS_GSE22886|GSM565272]': 'T cells CD8_4',\n",
       " 'CSS_COLON_N_1.CEL': 'Normal mucosa | Colon | 0',\n",
       " 'CSS_COLON_N_10.CEL': 'Normal mucosa | Colon | 1',\n",
       " 'CSS_COLON_N_11.CEL': 'Normal mucosa | Colon | 2',\n",
       " 'CSS_COLON_N_12.CEL': 'Normal mucosa | Colon | 3',\n",
       " 'CSS_COLON_N_13.CEL': 'Normal mucosa | Colon | 4',\n",
       " 'CSS_COLON_N_14.CEL': 'Normal mucosa | Colon | 5',\n",
       " 'CSS_COLON_N_15.CEL': 'Normal mucosa | Colon | 6',\n",
       " 'CSS_COLON_N_16.CEL': 'Normal mucosa | Colon | 7',\n",
       " 'CSS_COLON_N_17.CEL': 'Normal mucosa | Colon | 8',\n",
       " 'CSS_COLON_N_18.CEL': 'Normal mucosa | Colon | 9',\n",
       " 'CSS_COLON_N_19.CEL': 'Normal mucosa | Colon | 10',\n",
       " 'CSS_COLON_N_2.CEL': 'Normal mucosa | Colon | 11',\n",
       " 'CSS_COLON_N_20.CEL': 'Normal mucosa | Colon | 12',\n",
       " 'CSS_COLON_N_21.CEL': 'Normal mucosa | Colon | 13',\n",
       " 'CSS_COLON_N_22.CEL': 'Normal mucosa | Colon | 14',\n",
       " 'CSS_COLON_N_23.CEL': 'Normal mucosa | Colon | 15',\n",
       " 'CSS_COLON_N_3.CEL': 'Normal mucosa | Colon | 16',\n",
       " 'CSS_COLON_N_4.CEL': 'Normal mucosa | Colon | 17',\n",
       " 'CSS_COLON_N_5.CEL': 'Normal mucosa | Colon | 18',\n",
       " 'CSS_COLON_N_6.CEL': 'Normal mucosa | Colon | 19',\n",
       " 'CSS_COLON_N_7.CEL': 'Normal mucosa | Colon | 20',\n",
       " 'CSS_COLON_N_9.CEL': 'Normal mucosa | Colon | 21',\n",
       " 'CXCR5hiICOShi_U133A_1 [TFH_E-MEXP-750|CXCR5hiICOShi_U133A_1]': 'T cells follicular helper_1',\n",
       " 'CXCR5hiICOShi_U133A_2 [TFH_E-MEXP-750|CXCR5hiICOShi_U133A_2]': 'T cells follicular helper_2',\n",
       " 'CXCR5hiICOShi_U133A_3 [TFH_E-MEXP-750|CXCR5hiICOShi_U133A_3]': 'T cells follicular helper_3',\n",
       " 'DendriticCell-Control-1 [HG-U133A] [IRIS_GSE22886|GSM565366]': 'Dendritic cells resting_1',\n",
       " 'DendriticCell-Control-2 [HG-U133A] [IRIS_GSE22886|GSM565367]': 'Dendritic cells resting_2',\n",
       " 'DendriticCell-Control-3 [HG-U133A] [IRIS_GSE22886|GSM565368]': 'Dendritic cells resting_3',\n",
       " 'DendriticCell-Control-4 [HG-U133A] [IRIS_GSE22886|GSM565369]': 'Dendritic cells resting_4',\n",
       " 'DendriticCell-Control-5 [HG-U133A] [IRIS_GSE22886|GSM565370]': 'Dendritic cells resting_5',\n",
       " 'DendriticCell-Control-6 [HG-U133A] [IRIS_GSE22886|GSM565371]': 'Dendritic cells resting_6',\n",
       " 'DendriticCell-LPSstimulated-1 [HG-U133A] [IRIS_GSE22886|GSM565372]': 'Dendritic cells activated_1',\n",
       " 'DendriticCell-LPSstimulated-2 [HG-U133A] [IRIS_GSE22886|GSM565373]': 'Dendritic cells activated_2',\n",
       " 'DendriticCell-LPSstimulated-3 [HG-U133A] [IRIS_GSE22886|GSM565374]': 'Dendritic cells activated_3',\n",
       " 'DendriticCell-LPSstimulated-4 [HG-U133A] [IRIS_GSE22886|GSM565375]': 'Dendritic cells activated_4',\n",
       " 'DendriticCell-LPSstimulated-5 [HG-U133A] [IRIS_GSE22886|GSM565376]': 'Dendritic cells activated_5',\n",
       " 'DendriticCell-LPSstimulated-6 [HG-U133A] [IRIS_GSE22886|GSM565377]': 'Dendritic cells activated_6',\n",
       " 'GSM155229.CEL.gz': 'Tcell | CD8 | 0',\n",
       " 'GSM155232.CEL.gz': 'Tcell | CD8 | 1',\n",
       " 'GSM155234.CEL.gz': 'Tcell | CD8 | 2',\n",
       " 'GSM155236.CEL.gz': 'Tcell | CD8 | 3',\n",
       " 'GSM155238.CEL.gz': 'Tcell | CD8 | 4',\n",
       " 'GSM565269.CEL.gz': 'CD8Tcell | N0 | 1',\n",
       " 'GSM565270.CEL.gz': 'CD8Tcell | N0 | 2',\n",
       " 'GSM565271.CEL.gz': 'CD8Tcell | N0 | 3',\n",
       " 'GSM565272.CEL.gz': 'CD8Tcell | N0 | 4',\n",
       " 'GSM565273.CEL.gz': 'CD4Tcell | N0 | 1',\n",
       " 'GSM565274.CEL.gz': 'CD4Tcell | N0 | 2',\n",
       " 'GSM565275.CEL.gz': 'CD4Tcell | N0 | 3',\n",
       " 'GSM565276.CEL.gz': 'CD4Tcell | Th1-restimulated12hour | 1',\n",
       " 'GSM565277.CEL.gz': 'CD4Tcell | Th1-restimulated12hour | 2',\n",
       " 'GSM565278.CEL.gz': 'CD4Tcell | Th1-restimulated48hour | 1',\n",
       " 'GSM565279.CEL.gz': 'CD4Tcell | Th1-restimulated48hour | 2',\n",
       " 'GSM565280.CEL.gz': 'CD4Tcell | Th1-restimulated48hour | 3',\n",
       " 'GSM565281.CEL.gz': 'CD4Tcell | Th2-restimulated12hour | 1',\n",
       " 'GSM565282.CEL.gz': 'CD4Tcell | Th2-restimulated12hour | 2',\n",
       " 'GSM565283.CEL.gz': 'CD4Tcell | Th2-restimulated12hour | 3',\n",
       " 'GSM565284.CEL.gz': 'CD4Tcell | Th2-restimulated48hour | 1',\n",
       " 'GSM565285.CEL.gz': 'CD4Tcell | Th2-restimulated48hour | 2',\n",
       " 'GSM565286.CEL.gz': 'CD4Tcell | Th2-restimulated48hour | 3',\n",
       " 'GSM565287.CEL.gz': 'MemoryTcell | RO-unactivated | 1',\n",
       " 'GSM565288.CEL.gz': 'MemoryTcell | RO-unactivated | 2',\n",
       " 'GSM565289.CEL.gz': 'MemoryTcell | RO-unactivated | 3',\n",
       " 'GSM565290.CEL.gz': 'MemoryTcell | RO-activated | 1',\n",
       " 'GSM565291.CEL.gz': 'MemoryTcell | RO-activated | 2',\n",
       " 'GSM565292.CEL.gz': 'MemoryTcell | RO-activated | 3',\n",
       " 'GSM565293.CEL.gz': 'NKcell | control | 1',\n",
       " 'GSM565294.CEL.gz': 'NKcell | control | 2',\n",
       " 'GSM565295.CEL.gz': 'NKcell | control | 3',\n",
       " 'GSM565296.CEL.gz': 'NKcell | control | 4',\n",
       " 'GSM565297.CEL.gz': 'NKcell | IL2stimulated | 1',\n",
       " 'GSM565298.CEL.gz': 'NKcell | IL2stimulated | 2',\n",
       " 'GSM565299.CEL.gz': 'NKcell | IL2stimulated | 3',\n",
       " 'GSM565300.CEL.gz': 'NKcell | IL2stimulated | 4',\n",
       " 'GSM565301.CEL.gz': 'NKcell | IL2stimulated | 5',\n",
       " 'GSM565302.CEL.gz': 'NKcell | IL15stimulated | 1',\n",
       " 'GSM565303.CEL.gz': 'NKcell | IL15stimulated | 2',\n",
       " 'GSM565304.CEL.gz': 'NKcell | IL15stimulated | 3',\n",
       " 'GSM565305.CEL.gz': 'NKcell | IL15stimulated | 4',\n",
       " 'GSM565306.CEL.gz': 'NKcell | IL15stimulated | 5',\n",
       " 'GSM565307.CEL.gz': 'NKcell | IL15stimulated | 6',\n",
       " 'GSM565308.CEL.gz': 'Bcell | na\\xc3\\xafve | 1',\n",
       " 'GSM565309.CEL.gz': 'Bcell | na\\xc3\\xafve | 2',\n",
       " 'GSM565310.CEL.gz': 'Bcell | na\\xc3\\xafve | 3',\n",
       " 'GSM565311.CEL.gz': 'Bcell | na\\xc3\\xafve | 4',\n",
       " 'GSM565312.CEL.gz': 'Bcell | na\\xc3\\xafve | 5',\n",
       " 'GSM565313.CEL.gz': 'Bcell | na\\xc3\\xafve | 6',\n",
       " 'GSM565314.CEL.gz': 'Bcell | na\\xc3\\xafve | 7',\n",
       " 'GSM565315.CEL.gz': 'Bcell | Memory_IgG_IgA | 1',\n",
       " 'GSM565316.CEL.gz': 'Bcell | Memory_IgG_IgA | 2',\n",
       " 'GSM565317.CEL.gz': 'Bcell | Memory_IgG_IgA | 3',\n",
       " 'GSM565318.CEL.gz': 'Bcell | Memory_IgG_IgA | 4',\n",
       " 'GSM565319.CEL.gz': 'Bcell | Memory_IgM | 1',\n",
       " 'GSM565320.CEL.gz': 'Bcell | Memory_IgM | 2',\n",
       " 'GSM565321.CEL.gz': 'Bcell | Memory_IgM | 3',\n",
       " 'GSM565322.CEL.gz': 'Bcell | Memory_IgM | 4',\n",
       " 'GSM565323.CEL.gz': 'PlasmaCell | FromPBMC | 1',\n",
       " 'GSM565324.CEL.gz': 'PlasmaCell | FromPBMC | 2',\n",
       " 'GSM565325.CEL.gz': 'PlasmaCell | FromPBMC | 3',\n",
       " 'GSM565326.CEL.gz': 'PlasmaCell | FromBoneMarrow | 1',\n",
       " 'GSM565327.CEL.gz': 'PlasmaCell | FromBoneMarrow | 2',\n",
       " 'GSM565328.CEL.gz': 'PlasmaCell | FromBoneMarrow | 3',\n",
       " 'GSM565329.CEL.gz': 'PlasmaCell | FromBoneMarrow | 4',\n",
       " 'GSM565330.CEL.gz': 'Monocyte | Day0 | 1',\n",
       " 'GSM565331.CEL.gz': 'Monocyte | Day0 | 2',\n",
       " 'GSM565332.CEL.gz': 'Monocyte | Day0 | 3',\n",
       " 'GSM565333.CEL.gz': 'Monocyte | Day0 | 4',\n",
       " 'GSM565334.CEL.gz': 'Monocyte | Day0 | 5',\n",
       " 'GSM565335.CEL.gz': 'Monocyte | Day0 | 6',\n",
       " 'GSM565336.CEL.gz': 'Monocyte | Day0 | 7',\n",
       " 'GSM565337.CEL.gz': 'Monocyte | Day0 | 8',\n",
       " 'GSM565338.CEL.gz': 'Monocyte | Day0 | 9',\n",
       " 'GSM565339.CEL.gz': 'Monocyte | Day0 | 10',\n",
       " 'GSM565340.CEL.gz': 'Monocyte | Day0 | 11',\n",
       " 'GSM565341.CEL.gz': 'Monocyte | Day0 | 12',\n",
       " 'GSM565342.CEL.gz': 'Monocyte | Day1 | 1',\n",
       " 'GSM565343.CEL.gz': 'Monocyte | Day1 | 2',\n",
       " 'GSM565344.CEL.gz': 'Monocyte | Day1 | 3',\n",
       " 'GSM565345.CEL.gz': 'Monocyte | Day1 | 4',\n",
       " 'GSM565346.CEL.gz': 'Monocyte | Day1 | 5',\n",
       " 'GSM565347.CEL.gz': 'Monocyte | Day1 | 6',\n",
       " 'GSM565348.CEL.gz': 'Monocyte | Day1 | 7',\n",
       " 'GSM565349.CEL.gz': 'Monocyte | Day1 | 8',\n",
       " 'GSM565350.CEL.gz': 'Monocyte | Day1 | 9',\n",
       " 'GSM565351.CEL.gz': 'Monocyte | Day1 | 10',\n",
       " 'GSM565352.CEL.gz': 'Monocyte | Day1 | 11',\n",
       " 'GSM565353.CEL.gz': 'Monocyte | Day1 | 12',\n",
       " 'GSM565354.CEL.gz': 'Monocyte | Day7 | 1',\n",
       " 'GSM565355.CEL.gz': 'Monocyte | Day7 | 2',\n",
       " 'GSM565356.CEL.gz': 'Monocyte | Day7 | 3',\n",
       " 'GSM565357.CEL.gz': 'Monocyte | Day7 | 4',\n",
       " 'GSM565358.CEL.gz': 'Monocyte | Day7 | 5',\n",
       " 'GSM565359.CEL.gz': 'Monocyte | Day7 | 6',\n",
       " 'GSM565360.CEL.gz': 'Monocyte | Day7 | 7',\n",
       " 'GSM565361.CEL.gz': 'Monocyte | Day7 | 8',\n",
       " 'GSM565362.CEL.gz': 'Monocyte | Day7 | 9',\n",
       " 'GSM565363.CEL.gz': 'Monocyte | Day7 | 10',\n",
       " 'GSM565364.CEL.gz': 'Monocyte | Day7 | 11',\n",
       " 'GSM565365.CEL.gz': 'Monocyte | Day7 | 12',\n",
       " 'GSM565366.CEL.gz': 'DendriticCell | Control | 1',\n",
       " 'GSM565367.CEL.gz': 'DendriticCell | Control | 2',\n",
       " 'GSM565368.CEL.gz': 'DendriticCell | Control | 3',\n",
       " 'GSM565369.CEL.gz': 'DendriticCell | Control | 4',\n",
       " 'GSM565370.CEL.gz': 'DendriticCell | Control | 5',\n",
       " 'GSM565371.CEL.gz': 'DendriticCell | Control | 6',\n",
       " 'GSM565372.CEL.gz': 'DendriticCell | LPSstimulated | 1',\n",
       " 'GSM565373.CEL.gz': 'DendriticCell | LPSstimulated | 2',\n",
       " 'GSM565374.CEL.gz': 'DendriticCell | LPSstimulated | 3',\n",
       " 'GSM565375.CEL.gz': 'DendriticCell | LPSstimulated | 4',\n",
       " 'GSM565376.CEL.gz': 'DendriticCell | LPSstimulated | 5',\n",
       " 'GSM565377.CEL.gz': 'DendriticCell | LPSstimulated | 6',\n",
       " 'GSM565378.CEL.gz': 'Neutrophil | Resting | 1',\n",
       " 'GSM565379.CEL.gz': 'Neutrophil | Resting | 2',\n",
       " 'GSM565380.CEL.gz': 'Neutrophil | Resting | 3',\n",
       " 'GSM565381.CEL.gz': 'Neutrophil | Resting | 4',\n",
       " 'GSM565382.CEL.gz': 'Neutrophil | Resting | 5',\n",
       " 'MHH0210HG_U133A.CEL': 'NK cells | CD56dim | 0',\n",
       " 'MHH0211HG_U133A.CEL': 'NK cells | CD56bright | 0',\n",
       " 'MHH0248HG-U133A.CEL': 'NK cells | CD56dim | 1',\n",
       " 'MHH0249HG-U133A.CEL': 'NK cells | CD56bright | 1',\n",
       " 'MemoryTcell-RO-activated-1 [HG-U133A] [IRIS_GSE22886|GSM565290]': 'T cells CD4 memory activated_1',\n",
       " 'MemoryTcell-RO-activated-2 [HG-U133A] [IRIS_GSE22886|GSM565291]': 'T cells CD4 memory activated_2',\n",
       " 'MemoryTcell-RO-activated-3 [HG-U133A] [IRIS_GSE22886|GSM565292]': 'T cells CD4 memory activated_3',\n",
       " 'MemoryTcell-RO-unactivated-1 [HG-U133A] [IRIS_GSE22886|GSM565287]': 'T cells CD4 memory resting_1',\n",
       " 'MemoryTcell-RO-unactivated-2 [HG-U133A] [IRIS_GSE22886|GSM565288]': 'T cells CD4 memory resting_2',\n",
       " 'MemoryTcell-RO-unactivated-3 [HG-U133A] [IRIS_GSE22886|GSM565289]': 'T cells CD4 memory resting_3',\n",
       " 'Monocyte-Day0-1 [HG-U133A] [IRIS_GSE22886|GSM565330]': 'Monocytes_1',\n",
       " 'Monocyte-Day0-10 [HG-U133A] [IRIS_GSE22886|GSM565339]': 'Monocytes_10',\n",
       " 'Monocyte-Day0-11 [HG-U133A] [IRIS_GSE22886|GSM565340]': 'Monocytes_11',\n",
       " 'Monocyte-Day0-12 [HG-U133A] [IRIS_GSE22886|GSM565341]': 'Monocytes_12',\n",
       " 'Monocyte-Day0-2 [HG-U133A] [IRIS_GSE22886|GSM565331]': 'Monocytes_2',\n",
       " 'Monocyte-Day0-3 [HG-U133A] [IRIS_GSE22886|GSM565332]': 'Monocytes_3',\n",
       " 'Monocyte-Day0-4 [HG-U133A] [IRIS_GSE22886|GSM565333]': 'Monocytes_4',\n",
       " 'Monocyte-Day0-5 [HG-U133A] [IRIS_GSE22886|GSM565334]': 'Monocytes_5',\n",
       " 'Monocyte-Day0-6 [HG-U133A] [IRIS_GSE22886|GSM565335]': 'Monocytes_6',\n",
       " 'Monocyte-Day0-7 [HG-U133A] [IRIS_GSE22886|GSM565336]': 'Monocytes_7',\n",
       " 'Monocyte-Day0-8 [HG-U133A] [IRIS_GSE22886|GSM565337]': 'Monocytes_8',\n",
       " 'Monocyte-Day0-9 [HG-U133A] [IRIS_GSE22886|GSM565338]': 'Monocytes_9',\n",
       " 'Monocyte-Day7-1 [HG-U133A] [IRIS_GSE22886|GSM565354]': 'Macrophages M0_1',\n",
       " 'Monocyte-Day7-10 [HG-U133A] [IRIS_GSE22886|GSM565363]': 'Macrophages M0_10',\n",
       " 'Monocyte-Day7-11 [HG-U133A] [IRIS_GSE22886|GSM565364]': 'Macrophages M0_11',\n",
       " 'Monocyte-Day7-12 [HG-U133A] [IRIS_GSE22886|GSM565365]': 'Macrophages M0_12',\n",
       " 'Monocyte-Day7-2 [HG-U133A] [IRIS_GSE22886|GSM565355]': 'Macrophages M0_2',\n",
       " 'Monocyte-Day7-3 [HG-U133A] [IRIS_GSE22886|GSM565356]': 'Macrophages M0_3',\n",
       " 'Monocyte-Day7-4 [HG-U133A] [IRIS_GSE22886|GSM565357]': 'Macrophages M0_4',\n",
       " 'Monocyte-Day7-5 [HG-U133A] [IRIS_GSE22886|GSM565358]': 'Macrophages M0_5',\n",
       " 'Monocyte-Day7-6 [HG-U133A] [IRIS_GSE22886|GSM565359]': 'Macrophages M0_6',\n",
       " 'Monocyte-Day7-7 [HG-U133A] [IRIS_GSE22886|GSM565360]': 'Macrophages M0_7',\n",
       " 'Monocyte-Day7-8 [HG-U133A] [IRIS_GSE22886|GSM565361]': 'Macrophages M0_8',\n",
       " 'Monocyte-Day7-9 [HG-U133A] [IRIS_GSE22886|GSM565362]': 'Macrophages M0_9',\n",
       " 'NKcell-IL15stimulated-1 [HG-U133A] [IRIS_GSE22886|GSM565302]': 'NK cells activated_6',\n",
       " 'NKcell-IL15stimulated-2 [HG-U133A] [IRIS_GSE22886|GSM565303]': 'NK cells activated_7',\n",
       " 'NKcell-IL15stimulated-3 [HG-U133A] [IRIS_GSE22886|GSM565304]': 'NK cells activated_8',\n",
       " 'NKcell-IL15stimulated-4 [HG-U133A] [IRIS_GSE22886|GSM565305]': 'NK cells activated_9',\n",
       " 'NKcell-IL15stimulated-5 [HG-U133A] [IRIS_GSE22886|GSM565306]': 'NK cells activated_10',\n",
       " 'NKcell-IL15stimulated-6 [HG-U133A] [IRIS_GSE22886|GSM565307]': 'NK cells activated_11',\n",
       " 'NKcell-IL2stimulated-1 [HG-U133A] [IRIS_GSE22886|GSM565297]': 'NK cells activated_1',\n",
       " 'NKcell-IL2stimulated-2 [HG-U133A] [IRIS_GSE22886|GSM565298]': 'NK cells activated_2',\n",
       " 'NKcell-IL2stimulated-3 [HG-U133A] [IRIS_GSE22886|GSM565299]': 'NK cells activated_3',\n",
       " 'NKcell-IL2stimulated-4 [HG-U133A] [IRIS_GSE22886|GSM565300]': 'NK cells activated_4',\n",
       " 'NKcell-IL2stimulated-5 [HG-U133A] [IRIS_GSE22886|GSM565301]': 'NK cells activated_5',\n",
       " 'NKcell-control-1 [HG-U133A] [IRIS_GSE22886|GSM565293]': 'NK cells resting_1',\n",
       " 'NKcell-control-2 [HG-U133A] [IRIS_GSE22886|GSM565294]': 'NK cells resting_2',\n",
       " 'NKcell-control-3 [HG-U133A] [IRIS_GSE22886|GSM565295]': 'NK cells resting_3',\n",
       " 'NKcell-control-4 [HG-U133A] [IRIS_GSE22886|GSM565296]': 'NK cells resting_4',\n",
       " 'Neutrophil-Resting-1 [HG-U133A] [IRIS_GSE22886|GSM565378]': 'Neutrophils_4',\n",
       " 'Neutrophil-Resting-2 [HG-U133A] [IRIS_GSE22886|GSM565379]': 'Neutrophils_5',\n",
       " 'Neutrophil-Resting-3 [HG-U133A] [IRIS_GSE22886|GSM565380]': 'Neutrophils_6',\n",
       " 'Neutrophil-Resting-4 [HG-U133A] [IRIS_GSE22886|GSM565381]': 'Neutrophils_7',\n",
       " 'Neutrophil-Resting-5 [HG-U133A] [IRIS_GSE22886|GSM565382]': 'Neutrophils_8',\n",
       " 'PRB12534.Jurkat': 'Tcell 1',\n",
       " 'PRB12535.Jurkat': 'Tcell 2',\n",
       " 'PRB12536.Jurkat': 'Tcell 3',\n",
       " 'PRB12537.IM.9': 'Bcell 1',\n",
       " 'PRB12538.IM.9': 'Bcell 2',\n",
       " 'PRB12539.IM.9': 'Bcell 3',\n",
       " 'PRB12540.Raji': 'Bcell 1',\n",
       " 'PRB12541.Raji': 'Bcell 2',\n",
       " 'PRB12542.Raji': 'Bcell 3',\n",
       " 'PRB12543.THP.1': 'monocyte 1',\n",
       " 'PRB12544.THP.1': 'monocyte 2',\n",
       " 'PRB12545.THP.1': 'monocyte 3',\n",
       " 'PlasmaCell-FromBoneMarrow-1 [HG-U133A] [IRIS_GSE22886|GSM565326]': 'Plasma cells_4',\n",
       " 'PlasmaCell-FromBoneMarrow-2 [HG-U133A] [IRIS_GSE22886|GSM565327]': 'Plasma cells_5',\n",
       " 'PlasmaCell-FromBoneMarrow-3 [HG-U133A] [IRIS_GSE22886|GSM565328]': 'Plasma cells_6',\n",
       " 'PlasmaCell-FromBoneMarrow-4 [HG-U133A] [IRIS_GSE22886|GSM565329]': 'Plasma cells_7',\n",
       " 'PlasmaCell-FromPBMC-1 [HG-U133A] [IRIS_GSE22886|GSM565323]': 'Plasma cells_1',\n",
       " 'PlasmaCell-FromPBMC-2 [HG-U133A] [IRIS_GSE22886|GSM565324]': 'Plasma cells_2',\n",
       " 'PlasmaCell-FromPBMC-3 [HG-U133A] [IRIS_GSE22886|GSM565325]': 'Plasma cells_3',\n",
       " 'TN_U133A_1 [TFH_E-MEXP-750|TN_U133A_1]': 'T cells CD4 naive_1',\n",
       " 'TN_U133A_2 [TFH_E-MEXP-750|TN_U133A_2]': 'T cells CD4 naive_2',\n",
       " 'TN_U133A_3 [TFH_E-MEXP-750|TN_U133A_3]': 'T cells CD4 naive_3',\n",
       " 'Treg_1 [TREGs_GSE4527|GSM101519]': 'T cells regulatory (Tregs)_1',\n",
       " 'Treg_2 [TREGs_GSE4527|GSM101521]': 'T cells regulatory (Tregs)_2',\n",
       " 'classical or M1 activated macrophages, biological rep1 HG-U133A [M1_M2_GSE7138|GSM115055]': 'Macrophages M1_1',\n",
       " 'classical or M1 activated macrophages, biological rep2 HG-U133A [M1_M2_GSE7138|GSM115056]': 'Macrophages M1_2',\n",
       " 'classical or M1 activated macrophages, biological rep3 HG-U133A [M1_M2_GSE7138|GSM115057]': 'Macrophages M1_3'}"
      ]
     },
     "execution_count": 36,
     "metadata": {},
     "output_type": "execute_result"
    }
   ],
   "source": [
    "column_mappings"
   ]
  },
  {
   "cell_type": "code",
   "execution_count": 37,
   "metadata": {
    "collapsed": false
   },
   "outputs": [
    {
     "data": {
      "text/plain": [
       "303"
      ]
     },
     "execution_count": 37,
     "metadata": {},
     "output_type": "execute_result"
    }
   ],
   "source": [
    "len(column_mappings)"
   ]
  },
  {
   "cell_type": "code",
   "execution_count": 38,
   "metadata": {
    "collapsed": false
   },
   "outputs": [
    {
     "data": {
      "text/plain": [
       "387"
      ]
     },
     "execution_count": 38,
     "metadata": {},
     "output_type": "execute_result"
    }
   ],
   "source": [
    "len(matching.columns)"
   ]
  },
  {
   "cell_type": "code",
   "execution_count": 39,
   "metadata": {
    "collapsed": false
   },
   "outputs": [
    {
     "data": {
      "text/html": [
       "<div>\n",
       "<table border=\"1\" class=\"dataframe\">\n",
       "  <thead>\n",
       "    <tr style=\"text-align: right;\">\n",
       "      <th></th>\n",
       "      <th>Tcell 1</th>\n",
       "      <th>Tcell 2</th>\n",
       "      <th>Tcell 3</th>\n",
       "      <th>Bcell 1</th>\n",
       "      <th>Bcell 2</th>\n",
       "      <th>Bcell 3</th>\n",
       "      <th>Bcell 1</th>\n",
       "      <th>Bcell 2</th>\n",
       "      <th>Bcell 3</th>\n",
       "      <th>monocyte 1</th>\n",
       "      <th>...</th>\n",
       "      <th>TEM_U133A_1 [TFH_E-MEXP-750|TEM_U133A_1]</th>\n",
       "      <th>TEM_U133A_2 [TFH_E-MEXP-750|TEM_U133A_2]</th>\n",
       "      <th>TEM_U133A_3 [TFH_E-MEXP-750|TEM_U133A_3]</th>\n",
       "      <th>T cells CD4 naive_1</th>\n",
       "      <th>T cells CD4 naive_2</th>\n",
       "      <th>T cells CD4 naive_3</th>\n",
       "      <th>TH_1 [TREGs_GSE4527|GSM101518]</th>\n",
       "      <th>T cells regulatory (Tregs)_1</th>\n",
       "      <th>TH_2 [TREGs_GSE4527|GSM101520]</th>\n",
       "      <th>T cells regulatory (Tregs)_2</th>\n",
       "    </tr>\n",
       "    <tr>\n",
       "      <th>geneid</th>\n",
       "      <th></th>\n",
       "      <th></th>\n",
       "      <th></th>\n",
       "      <th></th>\n",
       "      <th></th>\n",
       "      <th></th>\n",
       "      <th></th>\n",
       "      <th></th>\n",
       "      <th></th>\n",
       "      <th></th>\n",
       "      <th></th>\n",
       "      <th></th>\n",
       "      <th></th>\n",
       "      <th></th>\n",
       "      <th></th>\n",
       "      <th></th>\n",
       "      <th></th>\n",
       "      <th></th>\n",
       "      <th></th>\n",
       "      <th></th>\n",
       "      <th></th>\n",
       "    </tr>\n",
       "  </thead>\n",
       "  <tbody>\n",
       "    <tr>\n",
       "      <th>DNAJB1</th>\n",
       "      <td>11.034424</td>\n",
       "      <td>11.090129</td>\n",
       "      <td>11.376662</td>\n",
       "      <td>9.950614</td>\n",
       "      <td>10.672197</td>\n",
       "      <td>10.600500</td>\n",
       "      <td>10.229173</td>\n",
       "      <td>10.224464</td>\n",
       "      <td>10.523462</td>\n",
       "      <td>11.116644</td>\n",
       "      <td>...</td>\n",
       "      <td>12.064604</td>\n",
       "      <td>11.621663</td>\n",
       "      <td>12.088633</td>\n",
       "      <td>11.953618</td>\n",
       "      <td>12.001804</td>\n",
       "      <td>11.906028</td>\n",
       "      <td>10.498152</td>\n",
       "      <td>11.623152</td>\n",
       "      <td>10.205954</td>\n",
       "      <td>10.630752</td>\n",
       "    </tr>\n",
       "    <tr>\n",
       "      <th>DNAJB1</th>\n",
       "      <td>11.925376</td>\n",
       "      <td>12.195360</td>\n",
       "      <td>12.127385</td>\n",
       "      <td>10.801230</td>\n",
       "      <td>11.545830</td>\n",
       "      <td>11.451978</td>\n",
       "      <td>11.070445</td>\n",
       "      <td>10.934070</td>\n",
       "      <td>11.419696</td>\n",
       "      <td>11.724382</td>\n",
       "      <td>...</td>\n",
       "      <td>12.064604</td>\n",
       "      <td>11.621663</td>\n",
       "      <td>12.088633</td>\n",
       "      <td>11.953618</td>\n",
       "      <td>12.001804</td>\n",
       "      <td>11.906028</td>\n",
       "      <td>10.498152</td>\n",
       "      <td>11.623152</td>\n",
       "      <td>10.205954</td>\n",
       "      <td>10.630752</td>\n",
       "    </tr>\n",
       "    <tr>\n",
       "      <th>SRSF7</th>\n",
       "      <td>10.838427</td>\n",
       "      <td>11.113841</td>\n",
       "      <td>10.967272</td>\n",
       "      <td>11.556311</td>\n",
       "      <td>11.575781</td>\n",
       "      <td>11.495087</td>\n",
       "      <td>11.655224</td>\n",
       "      <td>11.524059</td>\n",
       "      <td>11.720500</td>\n",
       "      <td>11.561961</td>\n",
       "      <td>...</td>\n",
       "      <td>10.465264</td>\n",
       "      <td>10.992775</td>\n",
       "      <td>10.944009</td>\n",
       "      <td>10.125404</td>\n",
       "      <td>10.859161</td>\n",
       "      <td>10.579804</td>\n",
       "      <td>9.993588</td>\n",
       "      <td>9.031038</td>\n",
       "      <td>9.818260</td>\n",
       "      <td>9.881039</td>\n",
       "    </tr>\n",
       "    <tr>\n",
       "      <th>SRSF7</th>\n",
       "      <td>8.443913</td>\n",
       "      <td>8.076548</td>\n",
       "      <td>8.279555</td>\n",
       "      <td>8.565742</td>\n",
       "      <td>8.550681</td>\n",
       "      <td>8.188065</td>\n",
       "      <td>7.660645</td>\n",
       "      <td>8.338202</td>\n",
       "      <td>8.336404</td>\n",
       "      <td>8.222587</td>\n",
       "      <td>...</td>\n",
       "      <td>10.465264</td>\n",
       "      <td>10.992775</td>\n",
       "      <td>10.944009</td>\n",
       "      <td>10.125404</td>\n",
       "      <td>10.859161</td>\n",
       "      <td>10.579804</td>\n",
       "      <td>9.993588</td>\n",
       "      <td>9.031038</td>\n",
       "      <td>9.818260</td>\n",
       "      <td>9.881039</td>\n",
       "    </tr>\n",
       "    <tr>\n",
       "      <th>SRSF7</th>\n",
       "      <td>10.046266</td>\n",
       "      <td>10.109718</td>\n",
       "      <td>9.832681</td>\n",
       "      <td>10.410356</td>\n",
       "      <td>11.008591</td>\n",
       "      <td>10.908534</td>\n",
       "      <td>10.932883</td>\n",
       "      <td>10.296714</td>\n",
       "      <td>10.807213</td>\n",
       "      <td>9.764019</td>\n",
       "      <td>...</td>\n",
       "      <td>10.465264</td>\n",
       "      <td>10.992775</td>\n",
       "      <td>10.944009</td>\n",
       "      <td>10.125404</td>\n",
       "      <td>10.859161</td>\n",
       "      <td>10.579804</td>\n",
       "      <td>9.993588</td>\n",
       "      <td>9.031038</td>\n",
       "      <td>9.818260</td>\n",
       "      <td>9.881039</td>\n",
       "    </tr>\n",
       "  </tbody>\n",
       "</table>\n",
       "<p>5 rows × 387 columns</p>\n",
       "</div>"
      ],
      "text/plain": [
       "          Tcell 1    Tcell 2    Tcell 3    Bcell 1    Bcell 2    Bcell 3  \\\n",
       "geneid                                                                     \n",
       "DNAJB1  11.034424  11.090129  11.376662   9.950614  10.672197  10.600500   \n",
       "DNAJB1  11.925376  12.195360  12.127385  10.801230  11.545830  11.451978   \n",
       "SRSF7   10.838427  11.113841  10.967272  11.556311  11.575781  11.495087   \n",
       "SRSF7    8.443913   8.076548   8.279555   8.565742   8.550681   8.188065   \n",
       "SRSF7   10.046266  10.109718   9.832681  10.410356  11.008591  10.908534   \n",
       "\n",
       "          Bcell 1    Bcell 2    Bcell 3  monocyte 1  \\\n",
       "geneid                                                \n",
       "DNAJB1  10.229173  10.224464  10.523462   11.116644   \n",
       "DNAJB1  11.070445  10.934070  11.419696   11.724382   \n",
       "SRSF7   11.655224  11.524059  11.720500   11.561961   \n",
       "SRSF7    7.660645   8.338202   8.336404    8.222587   \n",
       "SRSF7   10.932883  10.296714  10.807213    9.764019   \n",
       "\n",
       "                    ...               \\\n",
       "geneid              ...                \n",
       "DNAJB1              ...                \n",
       "DNAJB1              ...                \n",
       "SRSF7               ...                \n",
       "SRSF7               ...                \n",
       "SRSF7               ...                \n",
       "\n",
       "        TEM_U133A_1 [TFH_E-MEXP-750|TEM_U133A_1]  \\\n",
       "geneid                                             \n",
       "DNAJB1                                 12.064604   \n",
       "DNAJB1                                 12.064604   \n",
       "SRSF7                                  10.465264   \n",
       "SRSF7                                  10.465264   \n",
       "SRSF7                                  10.465264   \n",
       "\n",
       "        TEM_U133A_2 [TFH_E-MEXP-750|TEM_U133A_2]  \\\n",
       "geneid                                             \n",
       "DNAJB1                                 11.621663   \n",
       "DNAJB1                                 11.621663   \n",
       "SRSF7                                  10.992775   \n",
       "SRSF7                                  10.992775   \n",
       "SRSF7                                  10.992775   \n",
       "\n",
       "        TEM_U133A_3 [TFH_E-MEXP-750|TEM_U133A_3]  T cells CD4 naive_1  \\\n",
       "geneid                                                                  \n",
       "DNAJB1                                 12.088633            11.953618   \n",
       "DNAJB1                                 12.088633            11.953618   \n",
       "SRSF7                                  10.944009            10.125404   \n",
       "SRSF7                                  10.944009            10.125404   \n",
       "SRSF7                                  10.944009            10.125404   \n",
       "\n",
       "        T cells CD4 naive_2  T cells CD4 naive_3  \\\n",
       "geneid                                             \n",
       "DNAJB1            12.001804            11.906028   \n",
       "DNAJB1            12.001804            11.906028   \n",
       "SRSF7             10.859161            10.579804   \n",
       "SRSF7             10.859161            10.579804   \n",
       "SRSF7             10.859161            10.579804   \n",
       "\n",
       "        TH_1 [TREGs_GSE4527|GSM101518]  T cells regulatory (Tregs)_1  \\\n",
       "geneid                                                                 \n",
       "DNAJB1                       10.498152                     11.623152   \n",
       "DNAJB1                       10.498152                     11.623152   \n",
       "SRSF7                         9.993588                      9.031038   \n",
       "SRSF7                         9.993588                      9.031038   \n",
       "SRSF7                         9.993588                      9.031038   \n",
       "\n",
       "        TH_2 [TREGs_GSE4527|GSM101520]  T cells regulatory (Tregs)_2  \n",
       "geneid                                                                \n",
       "DNAJB1                       10.205954                     10.630752  \n",
       "DNAJB1                       10.205954                     10.630752  \n",
       "SRSF7                         9.818260                      9.881039  \n",
       "SRSF7                         9.818260                      9.881039  \n",
       "SRSF7                         9.818260                      9.881039  \n",
       "\n",
       "[5 rows x 387 columns]"
      ]
     },
     "execution_count": 39,
     "metadata": {},
     "output_type": "execute_result"
    }
   ],
   "source": [
    "matching = matching.rename(columns=lambda x: column_mappings[x] if x in column_mappings else x)\n",
    "matching.head()"
   ]
  },
  {
   "cell_type": "markdown",
   "metadata": {},
   "source": [
    "### look at variance for a small population: CD8 T cells"
   ]
  },
  {
   "cell_type": "code",
   "execution_count": 55,
   "metadata": {
    "collapsed": false
   },
   "outputs": [
    {
     "data": {
      "text/plain": [
       "Index([u'Tcell | CD8 | 0', u'Tcell | CD8 | 1', u'Tcell | CD8 | 2',\n",
       "       u'Tcell | CD8 | 3', u'Tcell | CD8 | 4', u'CD8Tcell | N0 | 1',\n",
       "       u'CD8Tcell | N0 | 2', u'CD8Tcell | N0 | 3', u'CD8Tcell | N0 | 4',\n",
       "       u'T cells CD8_1', u'T cells CD8_2', u'T cells CD8_3', u'T cells CD8_4'],\n",
       "      dtype='object')"
      ]
     },
     "execution_count": 55,
     "metadata": {},
     "output_type": "execute_result"
    }
   ],
   "source": [
    "T_cell_cols = matching.columns[matching.columns.str.contains('CD8')]\n",
    "T_cell_cols"
   ]
  },
  {
   "cell_type": "code",
   "execution_count": 56,
   "metadata": {
    "collapsed": false
   },
   "outputs": [
    {
     "data": {
      "text/plain": [
       "0.8439402135891333"
      ]
     },
     "execution_count": 56,
     "metadata": {},
     "output_type": "execute_result"
    },
    {
     "data": {
      "image/png": "[encoded data removed]",
      "text/plain": [
       "<matplotlib.figure.Figure at 0x7fb414e73890>"
      ]
     },
     "metadata": {},
     "output_type": "display_data"
    }
   ],
   "source": [
    "matching[T_cell_cols].iloc[0].hist()\n",
    "plt.title(matching[T_cell_cols].iloc[0].name)\n",
    "plt.xlabel('expression')\n",
    "plt.ylabel('frequency')\n",
    "matching[T_cell_cols].iloc[0].std()"
   ]
  },
  {
   "cell_type": "code",
   "execution_count": 57,
   "metadata": {
    "collapsed": true
   },
   "outputs": [],
   "source": [
    "stds = matching[T_cell_cols].apply(lambda row: row.std(), axis=1)"
   ]
  },
  {
   "cell_type": "code",
   "execution_count": 58,
   "metadata": {
    "collapsed": false
   },
   "outputs": [
    {
     "data": {
      "text/plain": [
       "geneid\n",
       "DNAJB1      0.843940\n",
       "DNAJB1      0.736018\n",
       "SRSF7       1.315281\n",
       "SRSF7       2.313272\n",
       "SRSF7       0.346112\n",
       "SRSF7       0.380234\n",
       "ZFP36L2     1.410612\n",
       "ZFP36L2     0.523371\n",
       "ZFP36L2     0.899453\n",
       "VAMP2       1.963299\n",
       "VAMP2       0.738008\n",
       "VAMP2       1.944193\n",
       "PPP1R2      1.166575\n",
       "PPP1R2      1.209910\n",
       "PPP1R2      2.745860\n",
       "TBCC        0.901813\n",
       "LEPROTL1    1.248145\n",
       "LEPROTL1    0.508795\n",
       "CAMLG       0.912297\n",
       "KLF9        1.754057\n",
       "KLF9        0.506187\n",
       "KLF9        1.297623\n",
       "GADD45A     1.162970\n",
       "TMC6        0.603973\n",
       "TMC6        1.203266\n",
       "CD8A        0.730108\n",
       "ZNF91       1.147483\n",
       "PF4         1.659916\n",
       "THUMPD1     1.091710\n",
       "THUMPD1     1.531107\n",
       "FLT3LG      1.334180\n",
       "FLT3LG      1.437797\n",
       "TSC22D3     1.922244\n",
       "TSC22D3     0.371543\n",
       "SLC16A7     0.907211\n",
       "SLC16A7     1.678197\n",
       "GZMM        1.117000\n",
       "CD8B        0.788709\n",
       "CD8B        1.549705\n",
       "SF1         0.618064\n",
       "SF1         1.758411\n",
       "RBM3        1.008376\n",
       "RBM3        2.421020\n",
       "APBA2       1.052979\n",
       "APBA2       1.309749\n",
       "HAUS3       0.710759\n",
       "ZNF609      0.969281\n",
       "ZNF609      0.885332\n",
       "ZNF609      0.662117\n",
       "PRF1        1.147378\n",
       "AES         0.927798\n",
       "ZNF22       0.814996\n",
       "ZNF22       1.494218\n",
       "ABT1        0.616544\n",
       "CDKN2AIP    0.918164\n",
       "PRR5        1.497578\n",
       "PRR5        0.900818\n",
       "LIME1       0.932389\n",
       "dtype: float64"
      ]
     },
     "execution_count": 58,
     "metadata": {},
     "output_type": "execute_result"
    }
   ],
   "source": [
    "stds"
   ]
  },
  {
   "cell_type": "code",
   "execution_count": 59,
   "metadata": {
    "collapsed": false
   },
   "outputs": [
    {
     "data": {
      "image/png": "[encoded data removed]",
      "text/plain": [
       "<matplotlib.figure.Figure at 0x7fb414e9d090>"
      ]
     },
     "metadata": {},
     "output_type": "display_data"
    }
   ],
   "source": [
    "stds.hist()\n",
    "plt.title('Variance across samples of all genes Bindea called \"CD8 T cell\"')\n",
    "plt.xlabel('Std of their expressions across samples')\n",
    "plt.ylabel('Frequency')\n",
    "plt.savefig('variance_cd8tcells.png', dpi=300)"
   ]
  },
  {
   "cell_type": "markdown",
   "metadata": {},
   "source": [
    "### larger population: all types of T cells"
   ]
  },
  {
   "cell_type": "code",
   "execution_count": 60,
   "metadata": {
    "collapsed": false
   },
   "outputs": [
    {
     "data": {
      "text/plain": [
       "Index([u'Tcell 1', u'Tcell 2', u'Tcell 3', u'Tcell | CD8 | 0',\n",
       "       u'Tcell | CD8 | 1', u'Tcell | CD8 | 2', u'Tcell | CD8 | 3',\n",
       "       u'Tcell | CD8 | 4', u'Tcell | Th1 | 0', u'Tcell | Th2 | 0',\n",
       "       u'Tcell | Th1 | 1', u'Tcell | Th2 | 1', u'CD8Tcell | N0 | 1',\n",
       "       u'CD8Tcell | N0 | 2', u'CD8Tcell | N0 | 3', u'CD8Tcell | N0 | 4',\n",
       "       u'CD4Tcell | N0 | 1', u'CD4Tcell | N0 | 2', u'CD4Tcell | N0 | 3',\n",
       "       u'CD4Tcell | Th1-restimulated12hour | 1',\n",
       "       u'CD4Tcell | Th1-restimulated12hour | 2',\n",
       "       u'CD4Tcell | Th1-restimulated48hour | 1',\n",
       "       u'CD4Tcell | Th1-restimulated48hour | 2',\n",
       "       u'CD4Tcell | Th1-restimulated48hour | 3',\n",
       "       u'CD4Tcell | Th2-restimulated12hour | 1',\n",
       "       u'CD4Tcell | Th2-restimulated12hour | 2',\n",
       "       u'CD4Tcell | Th2-restimulated12hour | 3',\n",
       "       u'CD4Tcell | Th2-restimulated48hour | 1',\n",
       "       u'CD4Tcell | Th2-restimulated48hour | 2',\n",
       "       u'CD4Tcell | Th2-restimulated48hour | 3',\n",
       "       u'MemoryTcell | RO-unactivated | 1',\n",
       "       u'MemoryTcell | RO-unactivated | 2',\n",
       "       u'MemoryTcell | RO-unactivated | 3', u'MemoryTcell | RO-activated | 1',\n",
       "       u'MemoryTcell | RO-activated | 2', u'MemoryTcell | RO-activated | 3',\n",
       "       u'T cells gamma delta_1', u'T cells gamma delta_2', u'T cells CD8_1',\n",
       "       u'T cells CD8_2', u'T cells CD8_3', u'T cells CD8_4',\n",
       "       u'CD4Tcell-N0-1 [HG-U133A] [IRIS_GSE22886|GSM565273]',\n",
       "       u'CD4Tcell-N0-2 [HG-U133A] [IRIS_GSE22886|GSM565274]',\n",
       "       u'CD4Tcell-N0-3 [HG-U133A] [IRIS_GSE22886|GSM565275]',\n",
       "       u'CD4Tcell-Th1-restimulated12hour-1 [HG-U133A] [IRIS_GSE22886|GSM565276]',\n",
       "       u'CD4Tcell-Th1-restimulated12hour-2 [HG-U133A] [IRIS_GSE22886|GSM565277]',\n",
       "       u'CD4Tcell-Th1-restimulated48hour-1 [HG-U133A] [IRIS_GSE22886|GSM565278]',\n",
       "       u'CD4Tcell-Th1-restimulated48hour-2 [HG-U133A] [IRIS_GSE22886|GSM565279]',\n",
       "       u'CD4Tcell-Th1-restimulated48hour-3 [HG-U133A] [IRIS_GSE22886|GSM565280]',\n",
       "       u'CD4Tcell-Th2-restimulated12hour-1 [HG-U133A] [IRIS_GSE22886|GSM565281]',\n",
       "       u'CD4Tcell-Th2-restimulated12hour-2 [HG-U133A] [IRIS_GSE22886|GSM565282]',\n",
       "       u'CD4Tcell-Th2-restimulated12hour-3 [HG-U133A] [IRIS_GSE22886|GSM565283]',\n",
       "       u'CD4Tcell-Th2-restimulated48hour-1 [HG-U133A] [IRIS_GSE22886|GSM565284]',\n",
       "       u'CD4Tcell-Th2-restimulated48hour-2 [HG-U133A] [IRIS_GSE22886|GSM565285]',\n",
       "       u'CD4Tcell-Th2-restimulated48hour-3 [HG-U133A] [IRIS_GSE22886|GSM565286]',\n",
       "       u'T cells CD4 memory resting_1', u'T cells CD4 memory resting_2',\n",
       "       u'T cells CD4 memory resting_3', u'T cells CD4 memory activated_1',\n",
       "       u'T cells CD4 memory activated_2', u'T cells CD4 memory activated_3',\n",
       "       u'T cells follicular helper_1', u'T cells follicular helper_2',\n",
       "       u'T cells follicular helper_3', u'T cells CD4 naive_1',\n",
       "       u'T cells CD4 naive_2', u'T cells CD4 naive_3',\n",
       "       u'T cells regulatory (Tregs)_1', u'T cells regulatory (Tregs)_2'],\n",
       "      dtype='object')"
      ]
     },
     "execution_count": 60,
     "metadata": {},
     "output_type": "execute_result"
    }
   ],
   "source": [
    "# isolate only the T cells\n",
    "T_cell_cols = matching.columns[matching.columns.str.replace('Tcell', 'T cell').str.contains('T cell')]\n",
    "T_cell_cols"
   ]
  },
  {
   "cell_type": "code",
   "execution_count": 61,
   "metadata": {
    "collapsed": true
   },
   "outputs": [],
   "source": [
    "stds = matching[T_cell_cols].apply(lambda row: row.std(), axis=1)"
   ]
  },
  {
   "cell_type": "code",
   "execution_count": 62,
   "metadata": {
    "collapsed": false
   },
   "outputs": [
    {
     "data": {
      "image/png": "[encoded data removed]",
      "text/plain": [
       "<matplotlib.figure.Figure at 0x7fb414e89850>"
      ]
     },
     "metadata": {},
     "output_type": "display_data"
    }
   ],
   "source": [
    "stds.hist()\n",
    "plt.title('Variance across samples of all genes Bindea called \"T cell\"')\n",
    "plt.xlabel('Std of their expressions across samples')\n",
    "plt.ylabel('Frequency')\n",
    "plt.savefig('variance_tcells.png', dpi=300)"
   ]
  },
  {
   "cell_type": "code",
   "execution_count": null,
   "metadata": {
    "collapsed": true
   },
   "outputs": [],
   "source": []
  },
  {
   "cell_type": "code",
   "execution_count": null,
   "metadata": {
    "collapsed": true
   },
   "outputs": [],
   "source": []
  },
  {
   "cell_type": "markdown",
   "metadata": {},
   "source": [
    "# Where does Cibersort's point estimate lie?\n",
    "\n",
    "For a particular gene, plot its distribution of expressions, then overlay the one expression chosen by Cibersort.\n",
    "\n",
    "Let's look at CD8 T cells again."
   ]
  },
  {
   "cell_type": "code",
   "execution_count": 65,
   "metadata": {
    "collapsed": false
   },
   "outputs": [
    {
     "data": {
      "text/html": [
       "<div>\n",
       "<table border=\"1\" class=\"dataframe\">\n",
       "  <thead>\n",
       "    <tr style=\"text-align: right;\">\n",
       "      <th></th>\n",
       "      <th>Gene symbol</th>\n",
       "      <th>B cells naive</th>\n",
       "      <th>B cells memory</th>\n",
       "      <th>Plasma cells</th>\n",
       "      <th>T cells CD8</th>\n",
       "      <th>T cells CD4 naive</th>\n",
       "      <th>T cells CD4 memory resting</th>\n",
       "      <th>T cells CD4 memory activated</th>\n",
       "      <th>T cells follicular helper</th>\n",
       "      <th>T cells regulatory (Tregs)</th>\n",
       "      <th>...</th>\n",
       "      <th>Monocytes</th>\n",
       "      <th>Macrophages M0</th>\n",
       "      <th>Macrophages M1</th>\n",
       "      <th>Macrophages M2</th>\n",
       "      <th>Dendritic cells resting</th>\n",
       "      <th>Dendritic cells activated</th>\n",
       "      <th>Mast cells resting</th>\n",
       "      <th>Mast cells activated</th>\n",
       "      <th>Eosinophils</th>\n",
       "      <th>Neutrophils</th>\n",
       "    </tr>\n",
       "  </thead>\n",
       "  <tbody>\n",
       "    <tr>\n",
       "      <th>0</th>\n",
       "      <td>ABCB4</td>\n",
       "      <td>555.713449</td>\n",
       "      <td>10.744235</td>\n",
       "      <td>7.225819</td>\n",
       "      <td>4.311280</td>\n",
       "      <td>4.605860</td>\n",
       "      <td>7.406442</td>\n",
       "      <td>8.043976</td>\n",
       "      <td>6.469993</td>\n",
       "      <td>7.833082</td>\n",
       "      <td>...</td>\n",
       "      <td>6.202496</td>\n",
       "      <td>7.951360</td>\n",
       "      <td>27.557710</td>\n",
       "      <td>121.432277</td>\n",
       "      <td>114.636747</td>\n",
       "      <td>4.872184</td>\n",
       "      <td>4.727985</td>\n",
       "      <td>34.113659</td>\n",
       "      <td>15.030530</td>\n",
       "      <td>14.906888</td>\n",
       "    </tr>\n",
       "    <tr>\n",
       "      <th>1</th>\n",
       "      <td>ABCB9</td>\n",
       "      <td>15.603544</td>\n",
       "      <td>22.094787</td>\n",
       "      <td>653.392328</td>\n",
       "      <td>24.223723</td>\n",
       "      <td>35.671507</td>\n",
       "      <td>30.048192</td>\n",
       "      <td>38.455423</td>\n",
       "      <td>17.604795</td>\n",
       "      <td>46.073657</td>\n",
       "      <td>...</td>\n",
       "      <td>20.309426</td>\n",
       "      <td>56.251887</td>\n",
       "      <td>29.380878</td>\n",
       "      <td>40.390260</td>\n",
       "      <td>123.993305</td>\n",
       "      <td>23.384603</td>\n",
       "      <td>53.466757</td>\n",
       "      <td>23.615746</td>\n",
       "      <td>29.786442</td>\n",
       "      <td>33.679147</td>\n",
       "    </tr>\n",
       "    <tr>\n",
       "      <th>2</th>\n",
       "      <td>ACAP1</td>\n",
       "      <td>215.305951</td>\n",
       "      <td>321.621021</td>\n",
       "      <td>38.616872</td>\n",
       "      <td>1055.613378</td>\n",
       "      <td>1790.097170</td>\n",
       "      <td>922.152747</td>\n",
       "      <td>340.883424</td>\n",
       "      <td>1107.798265</td>\n",
       "      <td>1995.482601</td>\n",
       "      <td>...</td>\n",
       "      <td>190.879024</td>\n",
       "      <td>48.972217</td>\n",
       "      <td>30.974254</td>\n",
       "      <td>23.055150</td>\n",
       "      <td>61.386550</td>\n",
       "      <td>26.412923</td>\n",
       "      <td>104.200198</td>\n",
       "      <td>73.607932</td>\n",
       "      <td>696.442802</td>\n",
       "      <td>596.025961</td>\n",
       "    </tr>\n",
       "    <tr>\n",
       "      <th>3</th>\n",
       "      <td>ACHE</td>\n",
       "      <td>15.117949</td>\n",
       "      <td>16.648847</td>\n",
       "      <td>22.123737</td>\n",
       "      <td>13.428288</td>\n",
       "      <td>27.187732</td>\n",
       "      <td>18.444927</td>\n",
       "      <td>13.441268</td>\n",
       "      <td>14.805542</td>\n",
       "      <td>24.652712</td>\n",
       "      <td>...</td>\n",
       "      <td>16.375268</td>\n",
       "      <td>13.692963</td>\n",
       "      <td>1373.069620</td>\n",
       "      <td>48.585761</td>\n",
       "      <td>16.715474</td>\n",
       "      <td>193.159977</td>\n",
       "      <td>13.948778</td>\n",
       "      <td>20.501249</td>\n",
       "      <td>40.414927</td>\n",
       "      <td>22.766494</td>\n",
       "    </tr>\n",
       "    <tr>\n",
       "      <th>4</th>\n",
       "      <td>ACP5</td>\n",
       "      <td>605.897384</td>\n",
       "      <td>1935.201479</td>\n",
       "      <td>1120.104684</td>\n",
       "      <td>306.312519</td>\n",
       "      <td>744.656599</td>\n",
       "      <td>557.819820</td>\n",
       "      <td>248.546932</td>\n",
       "      <td>711.949744</td>\n",
       "      <td>958.916018</td>\n",
       "      <td>...</td>\n",
       "      <td>512.931382</td>\n",
       "      <td>13644.172300</td>\n",
       "      <td>1062.475909</td>\n",
       "      <td>7633.960182</td>\n",
       "      <td>13825.053630</td>\n",
       "      <td>3989.865169</td>\n",
       "      <td>263.497930</td>\n",
       "      <td>323.381277</td>\n",
       "      <td>860.563374</td>\n",
       "      <td>307.142798</td>\n",
       "    </tr>\n",
       "  </tbody>\n",
       "</table>\n",
       "<p>5 rows × 23 columns</p>\n",
       "</div>"
      ],
      "text/plain": [
       "  Gene symbol  B cells naive  B cells memory  Plasma cells  T cells CD8  \\\n",
       "0       ABCB4     555.713449       10.744235      7.225819     4.311280   \n",
       "1       ABCB9      15.603544       22.094787    653.392328    24.223723   \n",
       "2       ACAP1     215.305951      321.621021     38.616872  1055.613378   \n",
       "3        ACHE      15.117949       16.648847     22.123737    13.428288   \n",
       "4        ACP5     605.897384     1935.201479   1120.104684   306.312519   \n",
       "\n",
       "   T cells CD4 naive  T cells CD4 memory resting  \\\n",
       "0           4.605860                    7.406442   \n",
       "1          35.671507                   30.048192   \n",
       "2        1790.097170                  922.152747   \n",
       "3          27.187732                   18.444927   \n",
       "4         744.656599                  557.819820   \n",
       "\n",
       "   T cells CD4 memory activated  T cells follicular helper  \\\n",
       "0                      8.043976                   6.469993   \n",
       "1                     38.455423                  17.604795   \n",
       "2                    340.883424                1107.798265   \n",
       "3                     13.441268                  14.805542   \n",
       "4                    248.546932                 711.949744   \n",
       "\n",
       "   T cells regulatory (Tregs)     ...        Monocytes  Macrophages M0  \\\n",
       "0                    7.833082     ...         6.202496        7.951360   \n",
       "1                   46.073657     ...        20.309426       56.251887   \n",
       "2                 1995.482601     ...       190.879024       48.972217   \n",
       "3                   24.652712     ...        16.375268       13.692963   \n",
       "4                  958.916018     ...       512.931382    13644.172300   \n",
       "\n",
       "   Macrophages M1  Macrophages M2  Dendritic cells resting  \\\n",
       "0       27.557710      121.432277               114.636747   \n",
       "1       29.380878       40.390260               123.993305   \n",
       "2       30.974254       23.055150                61.386550   \n",
       "3     1373.069620       48.585761                16.715474   \n",
       "4     1062.475909     7633.960182             13825.053630   \n",
       "\n",
       "   Dendritic cells activated  Mast cells resting  Mast cells activated  \\\n",
       "0                   4.872184            4.727985             34.113659   \n",
       "1                  23.384603           53.466757             23.615746   \n",
       "2                  26.412923          104.200198             73.607932   \n",
       "3                 193.159977           13.948778             20.501249   \n",
       "4                3989.865169          263.497930            323.381277   \n",
       "\n",
       "   Eosinophils  Neutrophils  \n",
       "0    15.030530    14.906888  \n",
       "1    29.786442    33.679147  \n",
       "2   696.442802   596.025961  \n",
       "3    40.414927    22.766494  \n",
       "4   860.563374   307.142798  \n",
       "\n",
       "[5 rows x 23 columns]"
      ]
     },
     "execution_count": 65,
     "metadata": {},
     "output_type": "execute_result"
    }
   ],
   "source": [
    "lm22 = pd.read_csv('LM22.txt', sep='\\t')\n",
    "lm22.head()"
   ]
  },
  {
   "cell_type": "code",
   "execution_count": 70,
   "metadata": {
    "collapsed": false
   },
   "outputs": [
    {
     "data": {
      "text/plain": [
       "((58, 387), (11, 387))"
      ]
     },
     "execution_count": 70,
     "metadata": {},
     "output_type": "execute_result"
    }
   ],
   "source": [
    "matching2 = matching[matching.index.isin(lm22['Gene symbol'].unique())]\n",
    "matching.shape, matching2.shape"
   ]
  },
  {
   "cell_type": "code",
   "execution_count": 72,
   "metadata": {
    "collapsed": false
   },
   "outputs": [
    {
     "data": {
      "text/plain": [
       "Index([u'Tcell | CD8 | 0', u'Tcell | CD8 | 1', u'Tcell | CD8 | 2',\n",
       "       u'Tcell | CD8 | 3', u'Tcell | CD8 | 4', u'CD8Tcell | N0 | 1',\n",
       "       u'CD8Tcell | N0 | 2', u'CD8Tcell | N0 | 3', u'CD8Tcell | N0 | 4',\n",
       "       u'T cells CD8_1', u'T cells CD8_2', u'T cells CD8_3', u'T cells CD8_4'],\n",
       "      dtype='object')"
      ]
     },
     "execution_count": 72,
     "metadata": {},
     "output_type": "execute_result"
    }
   ],
   "source": [
    "T_cell_cols = matching.columns[matching.columns.str.contains('CD8')]\n",
    "T_cell_cols"
   ]
  },
  {
   "cell_type": "code",
   "execution_count": 83,
   "metadata": {
    "collapsed": false
   },
   "outputs": [
    {
     "name": "stdout",
     "output_type": "stream",
     "text": [
      "std:  1.41061215548\n",
      "cib expression value:  11.6563504589\n"
     ]
    },
    {
     "data": {
      "text/plain": [
       "<matplotlib.legend.Legend at 0x7fb4151d1c90>"
      ]
     },
     "execution_count": 83,
     "metadata": {},
     "output_type": "execute_result"
    },
    {
     "data": {
      "image/png": "[encoded data removed]",
      "text/plain": [
       "<matplotlib.figure.Figure at 0x7fb415218390>"
      ]
     },
     "metadata": {},
     "output_type": "display_data"
    }
   ],
   "source": [
    "matching2[T_cell_cols].iloc[0].hist()\n",
    "plt.title(matching2[T_cell_cols].iloc[0].name)\n",
    "plt.xlabel('expression')\n",
    "plt.ylabel('frequency')\n",
    "print 'std: ', matching2[T_cell_cols].iloc[0].std()\n",
    "\n",
    "print 'cib expression value: ',\n",
    "cibval = np.log2(lm22[lm22['Gene symbol']==matching2[T_cell_cols].iloc[0].name]['T cells CD8'].iloc[0])\n",
    "print cibval\n",
    "plt.axvline(x=cibval, lw=5, label='Cibersort value', c='r')\n",
    "plt.legend(loc='best')"
   ]
  },
  {
   "cell_type": "code",
   "execution_count": 103,
   "metadata": {
    "collapsed": false,
    "scrolled": false
   },
   "outputs": [
    {
     "data": {
      "image/png": "[encoded data removed]",
      "text/plain": [
       "<matplotlib.figure.Figure at 0x7fb41186ec50>"
      ]
     },
     "metadata": {},
     "output_type": "display_data"
    },
    {
     "data": {
      "image/png": "[encoded data removed]",
      "text/plain": [
       "<matplotlib.figure.Figure at 0x7fb411976090>"
      ]
     },
     "metadata": {},
     "output_type": "display_data"
    },
    {
     "data": {
      "image/png": "[encoded data removed]",
      "text/plain": [
       "<matplotlib.figure.Figure at 0x7fb411976250>"
      ]
     },
     "metadata": {},
     "output_type": "display_data"
    },
    {
     "data": {
      "image/png": "[encoded data removed]",
      "text/plain": [
       "<matplotlib.figure.Figure at 0x7fb411864b90>"
      ]
     },
     "metadata": {},
     "output_type": "display_data"
    },
    {
     "data": {
      "image/png": "[encoded data removed]",
      "text/plain": [
       "<matplotlib.figure.Figure at 0x7fb412aff490>"
      ]
     },
     "metadata": {},
     "output_type": "display_data"
    },
    {
     "data": {
      "image/png": "[encoded data removed]",
      "text/plain": [
       "<matplotlib.figure.Figure at 0x7fb414c82510>"
      ]
     },
     "metadata": {},
     "output_type": "display_data"
    },
    {
     "data": {
      "image/png": "[encoded data removed]",
      "text/plain": [
       "<matplotlib.figure.Figure at 0x7fb414e8f6d0>"
      ]
     },
     "metadata": {},
     "output_type": "display_data"
    },
    {
     "data": {
      "image/png": "[encoded data removed]",
      "text/plain": [
       "<matplotlib.figure.Figure at 0x7fb414b70410>"
      ]
     },
     "metadata": {},
     "output_type": "display_data"
    },
    {
     "data": {
      "image/png": "[encoded data removed]",
      "text/plain": [
       "<matplotlib.figure.Figure at 0x7fb412ba5f50>"
      ]
     },
     "metadata": {},
     "output_type": "display_data"
    },
    {
     "data": {
      "image/png": "[encoded data removed]",
      "text/plain": [
       "<matplotlib.figure.Figure at 0x7fb411a94550>"
      ]
     },
     "metadata": {},
     "output_type": "display_data"
    },
    {
     "data": {
      "image/png": "[encoded data removed]",
      "text/plain": [
       "<matplotlib.figure.Figure at 0x7fb412cb47d0>"
      ]
     },
     "metadata": {},
     "output_type": "display_data"
    }
   ],
   "source": [
    "for _,row in matching2[T_cell_cols].iterrows():\n",
    "    fig = plt.figure()\n",
    "    row.hist(ax=fig.gca())\n",
    "    plt.title(row.name + ' - expression levels of CD8 T cell gene (per Bindea) vs. Cibersort value')\n",
    "    plt.xlabel('Normalized expression')\n",
    "    plt.ylabel('Frequency')\n",
    "    cibval = np.log2(lm22[lm22['Gene symbol']==row.name]['T cells CD8'].iloc[0])\n",
    "    plt.axvline(x=cibval, lw=5, label='Cibersort value', c='r')\n",
    "    plt.legend(loc='best')"
   ]
  },
  {
   "cell_type": "markdown",
   "metadata": {},
   "source": [
    "## Observations\n",
    "\n",
    "There's a lot of variance\n",
    "\n",
    "Cibersort is choosing a bizarre point estimate."
   ]
  },
  {
   "cell_type": "code",
   "execution_count": null,
   "metadata": {
    "collapsed": true
   },
   "outputs": [],
   "source": []
  }
 ],
 "metadata": {
  "kernelspec": {
   "display_name": "Python 2",
   "language": "python",
   "name": "python2"
  },
  "language_info": {
   "codemirror_mode": {
    "name": "ipython",
    "version": 2
   },
   "file_extension": ".py",
   "mimetype": "text/x-python",
   "name": "python",
   "nbconvert_exporter": "python",
   "pygments_lexer": "ipython2",
   "version": "2.7.11"
  }
 },
 "nbformat": 4,
 "nbformat_minor": 0
}
