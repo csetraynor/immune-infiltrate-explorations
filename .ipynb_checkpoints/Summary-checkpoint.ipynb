{
 "cells": [
  {
   "cell_type": "markdown",
   "metadata": {},
   "source": [
    "# Examination of raw data\n",
    "\n",
    "## What do selected vs unselected genes look like in terms of their expressions across samples in a cell type, across all samples in all cell types (sort), across average expression in all cell types?\n",
    "\n",
    "Are we going to see that unselected genes are fairly uniform and meaningless? Are they all low expression throughout? Are these methods selecting very high expression genes only?\n",
    "\n",
    "\"Selected\" could mean the ones Cibersort includes in expression profiles, or ones flagged by Bindea (probably better)\n",
    "\n",
    "## Among samples of one cell type: how much variation is there in genes of interest? Is variance motivated?\n",
    "\n",
    "For selected genes for a certain cell type: how much variance in expression is there within this cell type for these gene?\n",
    "\n",
    "Is it worth putting variance into our model?\n",
    "\n",
    "\n",
    "# Examination of reference profile selection output\n",
    "\n",
    "## Raw vs processed reference samples\n",
    "\n",
    "\n",
    "## Differences between methods\n",
    "\n",
    "### What is being included\n",
    "\n",
    "\n",
    "### What is the discriminatory ability?\n",
    "\n",
    "\n",
    "\n",
    "\n",
    "\n",
    "# Reproducing the benchmarks relative to ground truth\n",
    "\n",
    "CellMix comes with mixtures and ground truth.\n",
    "\n",
    "\n",
    "\n",
    "\n",
    "\n",
    "# Pathological cases\n",
    "\n",
    "## Distinguishing between two very similar cell types\n",
    "\n",
    "Construct synthetic mixture in the same way where it’s just the two most similar cell types together, 48-48, with 4 % of some other type of cell. Use exactly the reference profiles. Maybe with some noise. Feed to Cibersort or CellMix and see what the output is.\n",
    "\n",
    "\n",
    "## Distinguishing between very broad cell types\n",
    "\n",
    "Would Cibersort fail on superset classification, i.e. on distinguishing T cells from B cells instead of precise subtypes?\n",
    "\n",
    "What do the diagnostics tell us in this case?\n",
    "\n",
    "\n",
    "\n",
    "\n",
    "# Remaining things to read\n",
    "\n",
    "* How are superset profiles made? Average overall types of t cells?\n",
    "* Implementation of Cibersort regression\n",
    "* Implementation of CellMix Abbas linear regression\n",
    "\n"
   ]
  },
  {
   "cell_type": "code",
   "execution_count": null,
   "metadata": {
    "collapsed": true
   },
   "outputs": [],
   "source": []
  }
 ],
 "metadata": {
  "kernelspec": {
   "display_name": "Python 2",
   "language": "python",
   "name": "python2"
  },
  "language_info": {
   "codemirror_mode": {
    "name": "ipython",
    "version": 2
   },
   "file_extension": ".py",
   "mimetype": "text/x-python",
   "name": "python",
   "nbconvert_exporter": "python",
   "pygments_lexer": "ipython2",
   "version": "2.7.11"
  }
 },
 "nbformat": 4,
 "nbformat_minor": 0
}
