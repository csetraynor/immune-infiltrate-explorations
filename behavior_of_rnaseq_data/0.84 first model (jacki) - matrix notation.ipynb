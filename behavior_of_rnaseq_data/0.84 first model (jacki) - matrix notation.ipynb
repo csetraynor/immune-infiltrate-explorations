{
 "cells": [
  {
   "cell_type": "code",
   "execution_count": 2,
   "metadata": {
    "collapsed": false
   },
   "outputs": [
    {
     "name": "stderr",
     "output_type": "stream",
     "text": [
      "/home/jacquelineburos/projects/immune-infiltrate-explorations/.env/lib/python3.5/site-packages/IPython/html.py:14: ShimWarning: The `IPython.html` package has been deprecated. You should import from `notebook` instead. `IPython.html.widgets` has moved to `ipywidgets`.\n",
      "  \"`IPython.html.widgets` has moved to `ipywidgets`.\", ShimWarning)\n"
     ]
    }
   ],
   "source": [
    "import data\n",
    "import seaborn as sns\n",
    "import numpy as np\n",
    "import pandas as pd\n",
    "import patsy\n",
    "%matplotlib inline"
   ]
  },
  {
   "cell_type": "code",
   "execution_count": 3,
   "metadata": {
    "collapsed": true
   },
   "outputs": [],
   "source": [
    "import pystan\n",
    "import stanity"
   ]
  },
  {
   "cell_type": "code",
   "execution_count": 41,
   "metadata": {
    "collapsed": true
   },
   "outputs": [],
   "source": [
    "sns.set(context='talk')"
   ]
  },
  {
   "cell_type": "markdown",
   "metadata": {},
   "source": [
    "## load files for all cell types"
   ]
  },
  {
   "cell_type": "code",
   "execution_count": 5,
   "metadata": {
    "collapsed": false
   },
   "outputs": [
    {
     "name": "stdout",
     "output_type": "stream",
     "text": [
      "['CD4_Th2', 'CD8_Effector', 'B_CD5', 'B_Memory', 'CD4_Th1', 'CD4_Naive', 'B_Naive', 'CD4_Effector_Memory', 'CD8_Central_Memory', 'CD4_Central_Memory', 'CD4_Treg', 'CD8_Naive', 'CD4_Th17']\n"
     ]
    }
   ],
   "source": [
    "# list types of cells\n",
    "subsets = data.prep_filename_metadata()\n",
    "subsets['SubSet'].unique()\n",
    "all_types = list(subsets['SubSet'].unique())\n",
    "print(all_types)"
   ]
  },
  {
   "cell_type": "code",
   "execution_count": 6,
   "metadata": {
    "collapsed": false
   },
   "outputs": [],
   "source": [
    "df = data.load_by_cell_type(all_types, metadata=subsets)"
   ]
  },
  {
   "cell_type": "code",
   "execution_count": 7,
   "metadata": {
    "collapsed": false
   },
   "outputs": [],
   "source": [
    "df = data.prep_annotated_data(df)"
   ]
  },
  {
   "cell_type": "code",
   "execution_count": 8,
   "metadata": {
    "collapsed": false
   },
   "outputs": [],
   "source": [
    "assert all(pd.notnull(df['log1p_tpm_rescaled']))"
   ]
  },
  {
   "cell_type": "markdown",
   "metadata": {},
   "source": [
    "## prep gene ids"
   ]
  },
  {
   "cell_type": "markdown",
   "metadata": {},
   "source": [
    "For model-estimation, we first need to map each gene_name to a numeric ID. \n"
   ]
  },
  {
   "cell_type": "code",
   "execution_count": 9,
   "metadata": {
    "collapsed": false
   },
   "outputs": [],
   "source": [
    "df['gene_cat'] = df['gene_name'].astype('category')\n",
    "df['gene_id'] = df['gene_cat'].cat.codes+1"
   ]
  },
  {
   "cell_type": "code",
   "execution_count": 10,
   "metadata": {
    "collapsed": true
   },
   "outputs": [],
   "source": [
    "df['B_cell'] = df['cell_type'].apply(lambda x: 1 if x == 'B' else 0)\n",
    "df['T_cell'] = df['cell_type'].apply(lambda x: 1 if x != 'B' else 0)"
   ]
  },
  {
   "cell_type": "code",
   "execution_count": 11,
   "metadata": {
    "collapsed": false
   },
   "outputs": [
    {
     "data": {
      "text/html": [
       "<div>\n",
       "<table border=\"1\" class=\"dataframe\">\n",
       "  <thead>\n",
       "    <tr style=\"text-align: right;\">\n",
       "      <th></th>\n",
       "      <th>sample_id</th>\n",
       "      <th>filename</th>\n",
       "      <th>gene_name</th>\n",
       "      <th>est_counts</th>\n",
       "      <th>tpm</th>\n",
       "      <th>log1p_tpm</th>\n",
       "      <th>log1p_counts</th>\n",
       "      <th>CCR6</th>\n",
       "      <th>CCR7</th>\n",
       "      <th>CD127</th>\n",
       "      <th>...</th>\n",
       "      <th>CXCR3</th>\n",
       "      <th>SubSet</th>\n",
       "      <th>cell_type</th>\n",
       "      <th>log1p_tpm_rescaled_type</th>\n",
       "      <th>log1p_tpm_rescaled_subset</th>\n",
       "      <th>log1p_tpm_rescaled</th>\n",
       "      <th>gene_cat</th>\n",
       "      <th>gene_id</th>\n",
       "      <th>B_cell</th>\n",
       "      <th>T_cell</th>\n",
       "    </tr>\n",
       "  </thead>\n",
       "  <tbody>\n",
       "    <tr>\n",
       "      <th>0</th>\n",
       "      <td>1</td>\n",
       "      <td>ERR431566</td>\n",
       "      <td>A1BG</td>\n",
       "      <td>56.743290</td>\n",
       "      <td>6.931783</td>\n",
       "      <td>2.070878</td>\n",
       "      <td>4.056007</td>\n",
       "      <td>None</td>\n",
       "      <td>None</td>\n",
       "      <td>None</td>\n",
       "      <td>...</td>\n",
       "      <td>\u0001</td>\n",
       "      <td>CD4_Th2</td>\n",
       "      <td>CD4</td>\n",
       "      <td>-5.599303</td>\n",
       "      <td>-3.517738</td>\n",
       "      <td>-5.478180</td>\n",
       "      <td>A1BG</td>\n",
       "      <td>1</td>\n",
       "      <td>0</td>\n",
       "      <td>1</td>\n",
       "    </tr>\n",
       "    <tr>\n",
       "      <th>1</th>\n",
       "      <td>1</td>\n",
       "      <td>ERR431566</td>\n",
       "      <td>A1CF</td>\n",
       "      <td>5.194920</td>\n",
       "      <td>0.111335</td>\n",
       "      <td>0.105562</td>\n",
       "      <td>1.823730</td>\n",
       "      <td>None</td>\n",
       "      <td>None</td>\n",
       "      <td>None</td>\n",
       "      <td>...</td>\n",
       "      <td>\u0001</td>\n",
       "      <td>CD4_Th2</td>\n",
       "      <td>CD4</td>\n",
       "      <td>-1.164584</td>\n",
       "      <td>-1.529020</td>\n",
       "      <td>-0.735391</td>\n",
       "      <td>A1CF</td>\n",
       "      <td>2</td>\n",
       "      <td>0</td>\n",
       "      <td>1</td>\n",
       "    </tr>\n",
       "    <tr>\n",
       "      <th>2</th>\n",
       "      <td>1</td>\n",
       "      <td>ERR431566</td>\n",
       "      <td>A2M</td>\n",
       "      <td>10.000009</td>\n",
       "      <td>3.877857</td>\n",
       "      <td>1.584706</td>\n",
       "      <td>2.397896</td>\n",
       "      <td>None</td>\n",
       "      <td>None</td>\n",
       "      <td>None</td>\n",
       "      <td>...</td>\n",
       "      <td>\u0001</td>\n",
       "      <td>CD4_Th2</td>\n",
       "      <td>CD4</td>\n",
       "      <td>1.338389</td>\n",
       "      <td>-0.920287</td>\n",
       "      <td>1.188265</td>\n",
       "      <td>A2M</td>\n",
       "      <td>3</td>\n",
       "      <td>0</td>\n",
       "      <td>1</td>\n",
       "    </tr>\n",
       "    <tr>\n",
       "      <th>3</th>\n",
       "      <td>1</td>\n",
       "      <td>ERR431566</td>\n",
       "      <td>A2ML1</td>\n",
       "      <td>9.387660</td>\n",
       "      <td>1.860813</td>\n",
       "      <td>1.051106</td>\n",
       "      <td>2.340619</td>\n",
       "      <td>None</td>\n",
       "      <td>None</td>\n",
       "      <td>None</td>\n",
       "      <td>...</td>\n",
       "      <td>\u0001</td>\n",
       "      <td>CD4_Th2</td>\n",
       "      <td>CD4</td>\n",
       "      <td>1.092135</td>\n",
       "      <td>1.947468</td>\n",
       "      <td>0.895292</td>\n",
       "      <td>A2ML1</td>\n",
       "      <td>4</td>\n",
       "      <td>0</td>\n",
       "      <td>1</td>\n",
       "    </tr>\n",
       "    <tr>\n",
       "      <th>4</th>\n",
       "      <td>1</td>\n",
       "      <td>ERR431566</td>\n",
       "      <td>A2MP1</td>\n",
       "      <td>31.000030</td>\n",
       "      <td>3.441394</td>\n",
       "      <td>1.490968</td>\n",
       "      <td>3.465737</td>\n",
       "      <td>None</td>\n",
       "      <td>None</td>\n",
       "      <td>None</td>\n",
       "      <td>...</td>\n",
       "      <td>\u0001</td>\n",
       "      <td>CD4_Th2</td>\n",
       "      <td>CD4</td>\n",
       "      <td>1.945796</td>\n",
       "      <td>4.135726</td>\n",
       "      <td>1.532385</td>\n",
       "      <td>A2MP1</td>\n",
       "      <td>5</td>\n",
       "      <td>0</td>\n",
       "      <td>1</td>\n",
       "    </tr>\n",
       "  </tbody>\n",
       "</table>\n",
       "<p>5 rows × 30 columns</p>\n",
       "</div>"
      ],
      "text/plain": [
       "   sample_id   filename gene_name  est_counts       tpm  log1p_tpm  \\\n",
       "0          1  ERR431566      A1BG   56.743290  6.931783   2.070878   \n",
       "1          1  ERR431566      A1CF    5.194920  0.111335   0.105562   \n",
       "2          1  ERR431566       A2M   10.000009  3.877857   1.584706   \n",
       "3          1  ERR431566     A2ML1    9.387660  1.860813   1.051106   \n",
       "4          1  ERR431566     A2MP1   31.000030  3.441394   1.490968   \n",
       "\n",
       "   log1p_counts  CCR6  CCR7 CD127  ...   CXCR3   SubSet cell_type  \\\n",
       "0      4.056007  None  None  None  ...       \u0001  CD4_Th2       CD4   \n",
       "1      1.823730  None  None  None  ...       \u0001  CD4_Th2       CD4   \n",
       "2      2.397896  None  None  None  ...       \u0001  CD4_Th2       CD4   \n",
       "3      2.340619  None  None  None  ...       \u0001  CD4_Th2       CD4   \n",
       "4      3.465737  None  None  None  ...       \u0001  CD4_Th2       CD4   \n",
       "\n",
       "  log1p_tpm_rescaled_type log1p_tpm_rescaled_subset log1p_tpm_rescaled  \\\n",
       "0               -5.599303                 -3.517738          -5.478180   \n",
       "1               -1.164584                 -1.529020          -0.735391   \n",
       "2                1.338389                 -0.920287           1.188265   \n",
       "3                1.092135                  1.947468           0.895292   \n",
       "4                1.945796                  4.135726           1.532385   \n",
       "\n",
       "  gene_cat gene_id B_cell T_cell  \n",
       "0     A1BG       1      0      1  \n",
       "1     A1CF       2      0      1  \n",
       "2      A2M       3      0      1  \n",
       "3    A2ML1       4      0      1  \n",
       "4    A2MP1       5      0      1  \n",
       "\n",
       "[5 rows x 30 columns]"
      ]
     },
     "execution_count": 11,
     "metadata": {},
     "output_type": "execute_result"
    }
   ],
   "source": [
    "df.head()"
   ]
  },
  {
   "cell_type": "markdown",
   "metadata": {},
   "source": [
    "## sample genes for first pass"
   ]
  },
  {
   "cell_type": "code",
   "execution_count": 12,
   "metadata": {
    "collapsed": true
   },
   "outputs": [],
   "source": [
    "sampled_genes = df.drop_duplicates(subset='gene_name').sample(n=100).loc[:,'gene_name']\n",
    "sample_df = pd.merge(df, pd.DataFrame(sampled_genes), on='gene_name', how='inner')"
   ]
  },
  {
   "cell_type": "code",
   "execution_count": 13,
   "metadata": {
    "collapsed": false
   },
   "outputs": [
    {
     "data": {
      "text/html": [
       "<div>\n",
       "<table border=\"1\" class=\"dataframe\">\n",
       "  <thead>\n",
       "    <tr style=\"text-align: right;\">\n",
       "      <th></th>\n",
       "      <th>sample_id</th>\n",
       "      <th>filename</th>\n",
       "      <th>gene_name</th>\n",
       "      <th>est_counts</th>\n",
       "      <th>tpm</th>\n",
       "      <th>log1p_tpm</th>\n",
       "      <th>log1p_counts</th>\n",
       "      <th>CCR6</th>\n",
       "      <th>CCR7</th>\n",
       "      <th>CD127</th>\n",
       "      <th>...</th>\n",
       "      <th>CXCR3</th>\n",
       "      <th>SubSet</th>\n",
       "      <th>cell_type</th>\n",
       "      <th>log1p_tpm_rescaled_type</th>\n",
       "      <th>log1p_tpm_rescaled_subset</th>\n",
       "      <th>log1p_tpm_rescaled</th>\n",
       "      <th>gene_cat</th>\n",
       "      <th>gene_id</th>\n",
       "      <th>B_cell</th>\n",
       "      <th>T_cell</th>\n",
       "    </tr>\n",
       "  </thead>\n",
       "  <tbody>\n",
       "    <tr>\n",
       "      <th>0</th>\n",
       "      <td>1</td>\n",
       "      <td>ERR431566</td>\n",
       "      <td>AC005480.1</td>\n",
       "      <td>0.0</td>\n",
       "      <td>0.0</td>\n",
       "      <td>0.0</td>\n",
       "      <td>0.0</td>\n",
       "      <td>None</td>\n",
       "      <td>None</td>\n",
       "      <td>None</td>\n",
       "      <td>...</td>\n",
       "      <td>\u0001</td>\n",
       "      <td>CD4_Th2</td>\n",
       "      <td>CD4</td>\n",
       "      <td>-0.77223</td>\n",
       "      <td>0.0</td>\n",
       "      <td>-0.985435</td>\n",
       "      <td>AC005480.1</td>\n",
       "      <td>308</td>\n",
       "      <td>0</td>\n",
       "      <td>1</td>\n",
       "    </tr>\n",
       "    <tr>\n",
       "      <th>1</th>\n",
       "      <td>2</td>\n",
       "      <td>ERR431579</td>\n",
       "      <td>AC005480.1</td>\n",
       "      <td>0.0</td>\n",
       "      <td>0.0</td>\n",
       "      <td>0.0</td>\n",
       "      <td>0.0</td>\n",
       "      <td>None</td>\n",
       "      <td>None</td>\n",
       "      <td>None</td>\n",
       "      <td>...</td>\n",
       "      <td>\u0001</td>\n",
       "      <td>CD4_Th2</td>\n",
       "      <td>CD4</td>\n",
       "      <td>-0.77223</td>\n",
       "      <td>0.0</td>\n",
       "      <td>-0.985435</td>\n",
       "      <td>AC005480.1</td>\n",
       "      <td>308</td>\n",
       "      <td>0</td>\n",
       "      <td>1</td>\n",
       "    </tr>\n",
       "    <tr>\n",
       "      <th>2</th>\n",
       "      <td>3</td>\n",
       "      <td>ERR431600</td>\n",
       "      <td>AC005480.1</td>\n",
       "      <td>0.0</td>\n",
       "      <td>0.0</td>\n",
       "      <td>0.0</td>\n",
       "      <td>0.0</td>\n",
       "      <td>None</td>\n",
       "      <td>None</td>\n",
       "      <td>None</td>\n",
       "      <td>...</td>\n",
       "      <td>\u0001</td>\n",
       "      <td>CD4_Th2</td>\n",
       "      <td>CD4</td>\n",
       "      <td>-0.77223</td>\n",
       "      <td>0.0</td>\n",
       "      <td>-0.985435</td>\n",
       "      <td>AC005480.1</td>\n",
       "      <td>308</td>\n",
       "      <td>0</td>\n",
       "      <td>1</td>\n",
       "    </tr>\n",
       "    <tr>\n",
       "      <th>3</th>\n",
       "      <td>4</td>\n",
       "      <td>ERR431615</td>\n",
       "      <td>AC005480.1</td>\n",
       "      <td>0.0</td>\n",
       "      <td>0.0</td>\n",
       "      <td>0.0</td>\n",
       "      <td>0.0</td>\n",
       "      <td>None</td>\n",
       "      <td>None</td>\n",
       "      <td>None</td>\n",
       "      <td>...</td>\n",
       "      <td>\u0001</td>\n",
       "      <td>CD4_Th2</td>\n",
       "      <td>CD4</td>\n",
       "      <td>-0.77223</td>\n",
       "      <td>0.0</td>\n",
       "      <td>-0.985435</td>\n",
       "      <td>AC005480.1</td>\n",
       "      <td>308</td>\n",
       "      <td>0</td>\n",
       "      <td>1</td>\n",
       "    </tr>\n",
       "    <tr>\n",
       "      <th>4</th>\n",
       "      <td>5</td>\n",
       "      <td>ERR431628</td>\n",
       "      <td>AC005480.1</td>\n",
       "      <td>0.0</td>\n",
       "      <td>0.0</td>\n",
       "      <td>0.0</td>\n",
       "      <td>0.0</td>\n",
       "      <td>None</td>\n",
       "      <td>None</td>\n",
       "      <td>None</td>\n",
       "      <td>...</td>\n",
       "      <td>\u0001</td>\n",
       "      <td>CD4_Th2</td>\n",
       "      <td>CD4</td>\n",
       "      <td>-0.77223</td>\n",
       "      <td>0.0</td>\n",
       "      <td>-0.985435</td>\n",
       "      <td>AC005480.1</td>\n",
       "      <td>308</td>\n",
       "      <td>0</td>\n",
       "      <td>1</td>\n",
       "    </tr>\n",
       "  </tbody>\n",
       "</table>\n",
       "<p>5 rows × 30 columns</p>\n",
       "</div>"
      ],
      "text/plain": [
       "   sample_id   filename   gene_name  est_counts  tpm  log1p_tpm  log1p_counts  \\\n",
       "0          1  ERR431566  AC005480.1         0.0  0.0        0.0           0.0   \n",
       "1          2  ERR431579  AC005480.1         0.0  0.0        0.0           0.0   \n",
       "2          3  ERR431600  AC005480.1         0.0  0.0        0.0           0.0   \n",
       "3          4  ERR431615  AC005480.1         0.0  0.0        0.0           0.0   \n",
       "4          5  ERR431628  AC005480.1         0.0  0.0        0.0           0.0   \n",
       "\n",
       "   CCR6  CCR7 CD127  ...   CXCR3   SubSet cell_type log1p_tpm_rescaled_type  \\\n",
       "0  None  None  None  ...       \u0001  CD4_Th2       CD4                -0.77223   \n",
       "1  None  None  None  ...       \u0001  CD4_Th2       CD4                -0.77223   \n",
       "2  None  None  None  ...       \u0001  CD4_Th2       CD4                -0.77223   \n",
       "3  None  None  None  ...       \u0001  CD4_Th2       CD4                -0.77223   \n",
       "4  None  None  None  ...       \u0001  CD4_Th2       CD4                -0.77223   \n",
       "\n",
       "  log1p_tpm_rescaled_subset log1p_tpm_rescaled    gene_cat gene_id B_cell  \\\n",
       "0                       0.0          -0.985435  AC005480.1     308      0   \n",
       "1                       0.0          -0.985435  AC005480.1     308      0   \n",
       "2                       0.0          -0.985435  AC005480.1     308      0   \n",
       "3                       0.0          -0.985435  AC005480.1     308      0   \n",
       "4                       0.0          -0.985435  AC005480.1     308      0   \n",
       "\n",
       "  T_cell  \n",
       "0      1  \n",
       "1      1  \n",
       "2      1  \n",
       "3      1  \n",
       "4      1  \n",
       "\n",
       "[5 rows x 30 columns]"
      ]
     },
     "execution_count": 13,
     "metadata": {},
     "output_type": "execute_result"
    }
   ],
   "source": [
    "sample_df.head()"
   ]
  },
  {
   "cell_type": "code",
   "execution_count": 14,
   "metadata": {
    "collapsed": true
   },
   "outputs": [],
   "source": [
    "def prep_sample_df(df, sample_n=None):\n",
    "    if sample_n:\n",
    "        sampled_genes = df.drop_duplicates(subset='gene_name').sample(n=sample_n).loc[:,'gene_name']\n",
    "        sample_df = pd.merge(df, pd.DataFrame(sampled_genes), on='gene_name', how='inner')\n",
    "    else:\n",
    "        sample_df = df\n",
    "    sample_df['new_gene_cat'] = sample_df['gene_name'].astype('category')\n",
    "    sample_df['new_gene_id'] = sample_df['new_gene_cat'].cat.codes+1\n",
    "    sample_df['new_sample_cat'] = sample_df['sample_id'].astype('category')\n",
    "    sample_df['new_sample_id'] = sample_df['new_sample_cat'].cat.codes+1\n",
    "    return sample_df\n",
    "\n",
    "def prep_stan_data(sample_df):\n",
    "    stan_data = {'N': len(sample_df.index),\n",
    "             'G': len(sample_df.new_gene_id.unique()),\n",
    "             'S': len(sample_df.new_sample_id.unique()),\n",
    "             'C': 2,\n",
    "             'gene': sample_df.new_gene_id.values,\n",
    "             'sample': sample_df.new_sample_id.values,\n",
    "             'x': patsy.dmatrix('0 + B_cell + T_cell', data=sample_df, return_type='dataframe'),\n",
    "             'y': sample_df.est_counts.astype(int).values,\n",
    "            }\n",
    "    return stan_data\n",
    "\n",
    "    "
   ]
  },
  {
   "cell_type": "markdown",
   "metadata": {},
   "source": [
    "## fit model at level of cell-type"
   ]
  },
  {
   "cell_type": "code",
   "execution_count": 15,
   "metadata": {
    "collapsed": false
   },
   "outputs": [],
   "source": [
    "sample_df = prep_sample_df(df, sample_n=100)\n",
    "stan_data = prep_stan_data(sample_df)"
   ]
  },
  {
   "cell_type": "code",
   "execution_count": 16,
   "metadata": {
    "collapsed": true
   },
   "outputs": [],
   "source": [
    "## rewrite stan code to try to use matrix representation\n",
    "## (ultimately, seems likely we will want to use sparse matrices)\n",
    "stan_code2 = '''\n",
    "data {\n",
    "    // dimensions\n",
    "    int<lower=1> N;  // N obs\n",
    "    int<lower=1> G;  // N genes\n",
    "    int<lower=1> S;  // N samples\n",
    "    int<lower=0> C;  // N classes (e.g. B-cell, T-cell, B_Naive, CD5, CD45RO, etc)\n",
    "                     // note: classes should be mutually exclusive. Each row here should sum to 1\n",
    "   \n",
    "    // data\n",
    "    int<lower=1, upper=G> gene[N];    // gene id for each obs\n",
    "    int<lower=1, upper=S> sample[N];  // sample id for each obs\n",
    "    vector<lower=0, upper=1>[C] x[N]; // map each obs to each class (0:'- or ?', 1:'+')\n",
    "    int<lower=0> y[N];                // count/tpm for each obs\n",
    "}\n",
    "transformed data {\n",
    "    int sample_y[S, G]; // array (size SxG) of ints\n",
    "    vector[C] sample_x[S]; // array (size S) of vectors[C]\n",
    "    for (n in 1:N) {\n",
    "        sample_y[sample[n], gene[n]] = y[n];\n",
    "        sample_x[sample[n]] = x[n,];\n",
    "    }\n",
    "}\n",
    "parameters {\n",
    "    matrix<lower=0>[G, C] theta;   // loading factors for each gene, for each cell type\n",
    "    real log_gene_base[G];    // constant intercept expression level for each gene, irrespective of cell type\n",
    "}\n",
    "model {\n",
    "    for (i in 1:G)\n",
    "        theta[i] ~ normal(log_gene_base[i], 1);\n",
    "    log_gene_base ~ normal(0, 1);\n",
    "    for (s in 1:S) {\n",
    "        vector[G] expected_rate;\n",
    "        expected_rate = theta*sample_x[s];\n",
    "        sample_y[s] ~ poisson(expected_rate);\n",
    "    }\n",
    "}\n",
    "generated quantities {\n",
    "    int y_rep[N];\n",
    "    real log_lik[N];\n",
    "    \n",
    "    for (n in 1:N) {\n",
    "        real expected_rate;\n",
    "        expected_rate = theta[gene[n], ]*x[n];\n",
    "        y_rep[n] = poisson_rng(expected_rate);\n",
    "        log_lik[n] = poisson_lpmf(y[n] | expected_rate);\n",
    "    }\n",
    "}\n",
    "'''"
   ]
  },
  {
   "cell_type": "code",
   "execution_count": 17,
   "metadata": {
    "collapsed": false
   },
   "outputs": [
    {
     "name": "stderr",
     "output_type": "stream",
     "text": [
      "INFO:pystan:COMPILING THE C++ CODE FOR MODEL anon_model_0362613046cf5165bc95a72d38d84cf7 NOW.\n"
     ]
    },
    {
     "name": "stdout",
     "output_type": "stream",
     "text": [
      "NOT reusing model.\n",
      "Ran in 345.669 sec.\n"
     ]
    },
    {
     "name": "stderr",
     "output_type": "stream",
     "text": [
      "/home/jacquelineburos/projects/immune-infiltrate-explorations/.env/lib/python3.5/site-packages/pyfscache/fscache.py:407: UserWarning: Pickling fit objects is an experimental feature!\n",
      "The relevant StanModel instance must be pickled along with this fit object.\n",
      "When unpickling the StanModel must be unpickled first.\n",
      "  pickle.dump(obj, f, pickle.HIGHEST_PROTOCOL)\n"
     ]
    }
   ],
   "source": [
    "fit2 = data.cached_stan_fit(model_code=stan_code2, data=stan_data, iter=5000, chains=4)"
   ]
  },
  {
   "cell_type": "markdown",
   "metadata": {},
   "source": [
    "## summarize parameter `theta` for T & B cells"
   ]
  },
  {
   "cell_type": "code",
   "execution_count": 18,
   "metadata": {
    "collapsed": false
   },
   "outputs": [
    {
     "name": "stdout",
     "output_type": "stream",
     "text": [
      "                    mean   se_mean        sd         2.5%          50%        97.5%      Rhat\n",
      "theta[0,0]      0.212210  0.001212  0.121157     0.043615     0.189129     0.500276  0.999788\n",
      "theta[1,0]      0.907449  0.002479  0.247949     0.482422     0.883864     1.445294  0.999682\n",
      "theta[2,0]      1.103789  0.002713  0.271327     0.631900     1.083588     1.697902  0.999828\n",
      "theta[3,0]      1.243718  0.002877  0.287713     0.749645     1.221184     1.860205  0.999741\n",
      "theta[4,0]      0.695173  0.002127  0.212711     0.337292     0.673307     1.167476  0.999781\n",
      "theta[5,0]      0.141263  0.000978  0.097777     0.018121     0.119121     0.380079  0.999821\n",
      "theta[6,0]      5.656357  0.005366  0.536621     4.650735     5.643643     6.736276  0.999657\n",
      "theta[7,0]    823.208842  0.011469  1.146874   820.974634   823.202708   825.467796  0.999733\n",
      "theta[8,0]      2.252930  0.003689  0.368857     1.579967     2.237358     3.033970  0.999754\n",
      "theta[9,0]      3.731158  0.004624  0.462370     2.853656     3.714563     4.684738  0.999713\n",
      "theta[10,0]    13.020948  0.006944  0.694361    11.660487    13.003914    14.426988  0.999792\n",
      "theta[11,0]   345.781813  0.010487  1.048712   343.730650   345.767312   347.896029  0.999865\n",
      "theta[12,0]     0.211735  0.001216  0.121641     0.043963     0.188535     0.509161  0.999734\n",
      "theta[13,0]    10.908260  0.006263  0.626266     9.732364    10.887297    12.150563  0.999643\n",
      "theta[14,0]   311.585047  0.011222  1.122239   309.329284   311.597555   313.791275  0.999968\n",
      "theta[15,0]    66.008739  0.010120  1.011978    64.062778    66.006122    68.003188  0.999947\n",
      "theta[16,0]    30.882539  0.008343  0.834317    29.285842    30.875867    32.505531  1.000122\n",
      "theta[17,0]     0.071221  0.000720  0.071970     0.001643     0.048995     0.263980  0.999757\n",
      "theta[18,0]    96.380096  0.009899  0.989852    94.448417    96.360950    98.346479  0.999715\n",
      "theta[19,0]     0.625232  0.002025  0.202461     0.290326     0.601891     1.081890  0.999671\n",
      "theta[20,0]     0.628358  0.002093  0.209255     0.285766     0.604843     1.101385  0.999796\n",
      "theta[21,0]     1.839430  0.003361  0.336144     1.240361     1.817215     2.556782  0.999787\n",
      "theta[22,0]     0.351154  0.001522  0.152151     0.120214     0.329847     0.706638  0.999976\n",
      "theta[23,0]    72.338336  0.010004  1.000416    70.359991    72.349164    74.285516  1.000073\n",
      "theta[24,0]     0.625772  0.002061  0.206101     0.286895     0.604325     1.082987  0.999751\n",
      "theta[25,0]   108.575174  0.010362  1.036207   106.563539   108.575848   110.598505  0.999826\n",
      "theta[26,0]   201.040273  0.010603  1.060311   198.979172   201.059983   203.127732  1.000175\n",
      "theta[27,0]     0.550247  0.002170  0.216979     0.205901     0.525916     1.053547  0.999777\n",
      "theta[28,0]    10.579767  0.006711  0.671109     9.291935    10.566226    11.919527  0.999725\n",
      "theta[29,0]     3.852318  0.004581  0.458103     2.994081     3.844373     4.797164  0.999758\n",
      "theta[30,0]     4.824001  0.004849  0.484887     3.924083     4.802170     5.816493  1.000026\n",
      "theta[31,0]   253.203607  0.012605  1.260453   250.715870   253.205876   255.651976  0.999872\n",
      "theta[32,0]     2.183557  0.003524  0.352449     1.550039     2.166311     2.921108  0.999918\n",
      "theta[33,0]     8.412569  0.006189  0.618895     7.233409     8.403919     9.663990  0.999794\n",
      "theta[34,0]   115.088790  0.010044  1.004424   113.168396   115.076691   117.043019  0.999705\n",
      "theta[35,0]     1.100665  0.002663  0.266275     0.637383     1.078829     1.676225  0.999771\n",
      "theta[36,0]     1.955970  0.003392  0.339242     1.338212     1.937672     2.695211  0.999934\n",
      "theta[37,0]    82.777389  0.008168  0.816813    81.194612    82.763546    84.378142  0.999893\n",
      "theta[38,0]     0.555935  0.001946  0.194598     0.237248     0.535142     1.001185  0.999736\n",
      "theta[39,0]     0.554378  0.001912  0.191166     0.249223     0.532840     0.985152  0.999726\n",
      "theta[40,0]    70.780113  0.010599  1.059851    68.671386    70.791971    72.846017  0.999905\n",
      "theta[41,0]     0.696509  0.002168  0.216831     0.337074     0.674085     1.186878  0.999766\n",
      "theta[42,0]    58.632843  0.009065  0.906530    56.854035    58.629119    60.383361  0.999754\n",
      "theta[43,0]     0.350573  0.001544  0.154356     0.118208     0.327759     0.713210  0.999774\n",
      "theta[44,0]    28.423269  0.008442  0.844228    26.808116    28.412108    30.075130  0.999963\n",
      "theta[45,0]     0.626133  0.002038  0.203810     0.291982     0.605902     1.077680  0.999703\n",
      "theta[46,0]     1.878768  0.003461  0.346142     1.263198     1.858057     2.600134  0.999640\n",
      "theta[47,0]     0.142932  0.001011  0.101117     0.016750     0.120837     0.405231  0.999860\n",
      "theta[48,0]    48.232661  0.009259  0.925896    46.427830    48.229712    50.039066  0.999849\n",
      "theta[49,0]    22.578993  0.008128  0.812774    20.998361    22.573299    24.190874  0.999740\n",
      "theta[50,0]   107.367695  0.009730  0.972956   105.455757   107.367251   109.259883  0.999879\n",
      "theta[51,0]     0.922720  0.002495  0.249455     0.493387     0.904299     1.457527  0.999694\n",
      "theta[52,0]    90.461039  0.008579  0.857878    88.823901    90.453487    92.162451  0.999817\n",
      "theta[53,0]     6.436166  0.005633  0.563270     5.371544     6.419712     7.563140  0.999726\n",
      "theta[54,0]     0.141065  0.000967  0.096744     0.018820     0.120323     0.386471  0.999690\n",
      "theta[55,0]     0.212380  0.001219  0.121909     0.044552     0.190713     0.507260  0.999923\n",
      "theta[56,0]     1.432402  0.003010  0.300966     0.906937     1.411667     2.069668  0.999811\n",
      "theta[57,0]     0.071544  0.000703  0.070346     0.001913     0.050265     0.260769  0.999780\n",
      "theta[58,0]     9.385695  0.006208  0.620768     8.181546     9.373254    10.630484  0.999785\n",
      "theta[59,0]    90.404633  0.009879  0.987945    88.489118    90.412147    92.355243  0.999837\n",
      "theta[60,0]   306.636082  0.010923  1.092275   304.491391   306.634409   308.782960  0.999826\n",
      "theta[61,0]     0.142530  0.001005  0.100455     0.015972     0.119408     0.396489  0.999763\n",
      "theta[62,0]     0.283119  0.001390  0.139050     0.077669     0.262216     0.609020  0.999824\n",
      "theta[63,0]     0.070171  0.000692  0.069243     0.001907     0.048653     0.255661  0.999791\n",
      "theta[64,0]     0.760554  0.002272  0.227230     0.380645     0.736091     1.265301  0.999661\n",
      "theta[65,0]     0.141883  0.000994  0.099361     0.017431     0.118869     0.389170  0.999716\n",
      "theta[66,0]     0.070973  0.000701  0.070148     0.001916     0.049047     0.263622  0.999742\n",
      "theta[67,0]     0.145632  0.001026  0.102557     0.017456     0.122237     0.404703  0.999693\n",
      "theta[68,0]     0.070628  0.000696  0.069576     0.001825     0.049470     0.256365  0.999722\n",
      "theta[69,0]     0.213519  0.001241  0.124118     0.043535     0.189328     0.514100  0.999690\n",
      "theta[70,0]     6.047223  0.005541  0.554067     5.021232     6.035228     7.164020  0.999728\n",
      "theta[71,0]     0.281429  0.001361  0.136074     0.080143     0.258363     0.604837  0.999885\n",
      "theta[72,0]     2.158813  0.003531  0.353064     1.512543     2.140435     2.895876  0.999675\n",
      "theta[73,0]     0.827352  0.002377  0.237732     0.425647     0.806455     1.358855  1.000254\n",
      "theta[74,0]     1.428111  0.003019  0.301851     0.891765     1.410319     2.070088  0.999820\n",
      "theta[75,0]     2.113680  0.003518  0.351791     1.479217     2.095377     2.859466  0.999890\n",
      "theta[76,0]     3.808736  0.004572  0.457180     2.954733     3.793956     4.755352  0.999723\n",
      "theta[77,0]     3.490495  0.004413  0.441345     2.662752     3.474351     4.394220  0.999710\n",
      "theta[78,0]     0.420290  0.001700  0.170003     0.154932     0.398949     0.816922  0.999847\n",
      "theta[79,0]     0.140797  0.001003  0.100348     0.015789     0.118971     0.399689  0.999733\n",
      "theta[80,0]     0.419603  0.001719  0.171929     0.151971     0.396032     0.816243  0.999804\n",
      "theta[81,0]    14.133052  0.006857  0.685741    12.782460    14.131223    15.503341  0.999652\n",
      "theta[82,0]     1.379019  0.002944  0.294404     0.869755     1.356516     2.010071  0.999887\n",
      "theta[83,0]    13.318656  0.006868  0.686850    12.015146    13.311617    14.670596  0.999725\n",
      "theta[84,0]    78.475043  0.009904  0.990365    76.522605    78.479390    80.372854  0.999808\n",
      "theta[85,0]   120.260710  0.010059  1.005904   118.267273   120.260407   122.245784  1.000023\n",
      "theta[86,0]   566.512289  0.011060  1.106005   564.312391   566.528728   568.640642  1.000130\n",
      "theta[87,0]   298.503020  0.010268  1.026805   296.507935   298.506805   300.535121  0.999947\n",
      "theta[88,0]    72.931854  0.009856  0.985639    70.987256    72.943495    74.847724  0.999769\n",
      "theta[89,0]    54.895024  0.009731  0.973061    52.981303    54.888988    56.820188  0.999887\n",
      "theta[90,0]     0.282304  0.001411  0.141144     0.075767     0.260948     0.616702  0.999768\n",
      "theta[91,0]     2.249012  0.003682  0.368163     1.574571     2.227518     3.020188  0.999916\n",
      "theta[92,0]   194.782831  0.010559  1.055876   192.699625   194.786429   196.814730  0.999842\n",
      "theta[93,0]    26.303745  0.008497  0.849749    24.659081    26.295406    27.981335  0.999976\n",
      "theta[94,0]   127.363339  0.010485  1.048481   125.331859   127.359108   129.469469  0.999786\n",
      "theta[95,0]     0.560503  0.001973  0.197339     0.242062     0.539376     1.010010  0.999758\n",
      "theta[96,0]     6.769786  0.006109  0.610909     5.590386     6.758586     8.027140  0.999689\n",
      "theta[97,0]    77.330943  0.009712  0.971175    75.444122    77.332950    79.281149  1.000090\n",
      "theta[98,0]    91.635299  0.010147  1.014676    89.701796    91.624316    93.625647  0.999823\n",
      "theta[99,0]     1.098770  0.002689  0.268884     0.639227     1.078351     1.674281  0.999706\n",
      "theta[0,1]      0.121619  0.000503  0.050265     0.043773     0.114793     0.236794  0.999701\n",
      "theta[1,1]      0.831886  0.001293  0.129262     0.600277     0.825097     1.100405  0.999788\n",
      "theta[2,1]      0.853187  0.001318  0.131803     0.613524     0.846623     1.130832  0.999761\n",
      "theta[3,1]      1.274611  0.001607  0.160709     0.980341     1.268508     1.608423  0.999805\n",
      "theta[4,1]      0.406981  0.000903  0.090295     0.247443     0.400460     0.599606  0.999798\n",
      "theta[5,1]      0.080960  0.000396  0.039551     0.022832     0.075000     0.174835  0.999784\n",
      "theta[6,1]      6.130555  0.003358  0.335828     5.493595     6.124845     6.819428  0.999834\n",
      "theta[7,1]   1167.536746  0.010125  1.012533  1165.578406  1167.522738  1169.524215  1.000108\n",
      "theta[8,1]      1.423635  0.001697  0.169672     1.110202     1.416908     1.776945  0.999736\n",
      "theta[9,1]      3.685105  0.002692  0.269168     3.180654     3.679258     4.237403  0.999719\n",
      "theta[10,1]    12.144574  0.004402  0.440175    11.301285    12.140719    13.004354  0.999865\n",
      "theta[11,1]   394.676906  0.009665  0.966465   392.795669   394.665217   396.563874  1.000000\n",
      "theta[12,1]     0.142162  0.000542  0.054152     0.057206     0.134871     0.265337  0.999703\n",
      "theta[13,1]     2.259377  0.002139  0.213889     1.855031     2.252908     2.701570  0.999757\n",
      "theta[14,1]   467.309578  0.009554  0.955419   465.425966   467.307891   469.203907  1.000098\n",
      "theta[15,1]    99.676639  0.008303  0.830349    98.069121    99.673629   101.281244  0.999692\n",
      "theta[16,1]    25.983592  0.005920  0.592034    24.834961    25.973699    27.160754  0.999920\n",
      "theta[17,1]     0.020385  0.000203  0.020335     0.000553     0.014057     0.073069  0.999682\n",
      "theta[18,1]   116.255235  0.008371  0.837054   114.625419   116.248631   117.928950  0.999974\n",
      "theta[19,1]     0.326099  0.000814  0.081355     0.186575     0.318810     0.504691  0.999696\n",
      "theta[20,1]     0.325892  0.000802  0.080213     0.187778     0.320412     0.501389  0.999911\n",
      "theta[21,1]     1.793756  0.001918  0.191814     1.433601     1.787002     2.188434  0.999675\n",
      "theta[22,1]     0.081724  0.000420  0.042041     0.021932     0.074445     0.181273  0.999842\n",
      "theta[23,1]   100.777996  0.008121  0.812096    99.171551   100.775809   102.361294  0.999880\n",
      "theta[24,1]     0.366734  0.000861  0.086052     0.218222     0.360067     0.551437  0.999699\n",
      "theta[25,1]   145.343647  0.008868  0.886792   143.603816   145.347695   147.061344  1.000121\n",
      "theta[26,1]   247.458331  0.009351  0.935109   245.609401   247.454102   249.299438  0.999766\n",
      "theta[27,1]    10.548036  0.004053  0.405271     9.772665    10.541585    11.347229  0.999750\n",
      "theta[28,1]    14.237783  0.004678  0.467761    13.346121    14.235350    15.172390  0.999973\n",
      "theta[29,1]     3.055991  0.002457  0.245704     2.597467     3.048524     3.557604  0.999763\n",
      "theta[30,1]     0.041814  0.000297  0.029739     0.005043     0.034985     0.119135  0.999933\n",
      "theta[31,1]   522.581997  0.009511  0.951115   520.729748   522.582202   524.450066  0.999897\n",
      "theta[32,1]     1.142253  0.001534  0.153419     0.862081     1.136083     1.461001  0.999721\n",
      "theta[33,1]     7.958352  0.003830  0.382957     7.227194     7.948896     8.732770  0.999681\n",
      "theta[34,1]   139.768671  0.008624  0.862352   138.091077   139.773544   141.493451  0.999758\n",
      "theta[35,1]     0.733211  0.001229  0.122949     0.513627     0.725178     0.991227  0.999890\n",
      "theta[36,1]     0.020554  0.000202  0.020217     0.000571     0.014111     0.075016  0.999767\n",
      "theta[37,1]     0.950614  0.002041  0.204067     0.592437     0.934883     1.389967  1.000185\n",
      "theta[38,1]     0.081436  0.000402  0.040225     0.023481     0.074729     0.177275  0.999848\n",
      "theta[39,1]     0.123447  0.000516  0.051576     0.045506     0.116155     0.242299  0.999815\n",
      "theta[40,1]   123.342093  0.008299  0.829941   121.707064   123.338743   124.971030  0.999835\n",
      "theta[41,1]     0.307186  0.000789  0.078948     0.174872     0.300271     0.482045  0.999900\n",
      "theta[42,1]    54.729456  0.007372  0.737197    53.272746    54.722150    56.185257  0.999935\n",
      "theta[43,1]     0.061469  0.000351  0.035109     0.012432     0.055200     0.146050  0.999817\n",
      "theta[44,1]    33.986421  0.006393  0.639259    32.756748    33.982365    35.236929  0.999892\n",
      "theta[45,1]     0.164183  0.000590  0.059015     0.068918     0.156570     0.299601  0.999666\n",
      "theta[46,1]     1.158518  0.001519  0.151944     0.879488     1.152224     1.478307  0.999675\n",
      "theta[47,1]     0.081426  0.000410  0.041014     0.021849     0.075058     0.179960  0.999850\n",
      "theta[48,1]    55.820480  0.007345  0.734466    54.372410    55.810102    57.281707  0.999870\n",
      "theta[49,1]    25.449827  0.005901  0.590131    24.331318    25.440276    26.629169  0.999760\n",
      "theta[50,1]   112.089561  0.008734  0.873430   110.357754   112.092639   113.814916  0.999904\n",
      "theta[51,1]     1.727212  0.001843  0.184281     1.387195     1.721634     2.111375  0.999740\n",
      "theta[52,1]    18.888492  0.006696  0.669561    17.601328    18.882289    20.207612  0.999798\n",
      "theta[53,1]     6.498451  0.003426  0.342611     5.831231     6.495330     7.171386  0.999778\n",
      "theta[54,1]     0.081808  0.000407  0.040702     0.022549     0.074974     0.178520  0.999664\n",
      "theta[55,1]     0.061118  0.000345  0.034460     0.013286     0.054435     0.144169  0.999707\n",
      "theta[56,1]     0.954919  0.001384  0.138355     0.705191     0.946284     1.245186  0.999986\n",
      "theta[57,1]     0.082120  0.000413  0.041329     0.022293     0.075065     0.181133  0.999750\n",
      "theta[58,1]     7.127488  0.003571  0.357062     6.439577     7.122812     7.822511  0.999886\n",
      "theta[59,1]   107.866725  0.008283  0.828278   106.238423   107.863439   109.509415  0.999915\n",
      "theta[60,1]   395.274109  0.009657  0.965652   393.409120   395.268494   397.155961  1.000017\n",
      "theta[61,1]     0.243848  0.000681  0.068150     0.129192     0.237418     0.395756  0.999785\n",
      "theta[62,1]     0.507165  0.000988  0.098758     0.330635     0.502659     0.714716  0.999839\n",
      "theta[63,1]     0.020308  0.000202  0.020225     0.000516     0.014155     0.074597  0.999808\n",
      "theta[64,1]     0.205078  0.000634  0.063391     0.100513     0.198509     0.345188  0.999824\n",
      "theta[65,1]     0.384583  0.000862  0.086233     0.233902     0.378603     0.570877  0.999807\n",
      "theta[66,1]     0.102498  0.000460  0.046022     0.033755     0.095490     0.211200  0.999761\n",
      "theta[67,1]     0.846830  0.001295  0.129474     0.613733     0.840499     1.115062  0.999649\n",
      "theta[68,1]     0.020227  0.000201  0.020140     0.000497     0.014136     0.073666  0.999705\n",
      "theta[69,1]     0.265148  0.000731  0.073099     0.143179     0.258506     0.424388  0.999815\n",
      "theta[70,1]     8.092304  0.003766  0.376570     7.363947     8.086156     8.845266  0.999661\n",
      "theta[71,1]     0.082032  0.000410  0.040954     0.022201     0.075325     0.180967  0.999738\n",
      "theta[72,1]     0.657100  0.001167  0.116684     0.450868     0.650342     0.901648  0.999779\n",
      "theta[73,1]     0.346763  0.000857  0.085672     0.200793     0.339621     0.532090  0.999816\n",
      "theta[74,1]     0.875413  0.001337  0.133750     0.630561     0.868718     1.155463  0.999867\n",
      "theta[75,1]     0.858572  0.001325  0.132465     0.621140     0.851305     1.135003  0.999747\n",
      "theta[76,1]     3.320917  0.002497  0.249668     2.848523     3.316433     3.825299  0.999900\n",
      "theta[77,1]     2.738502  0.002327  0.232698     2.293125     2.733108     3.217129  0.999989\n",
      "theta[78,1]     0.142291  0.000542  0.054196     0.057648     0.135506     0.264456  0.999677\n",
      "theta[79,1]     0.061099  0.000351  0.035140     0.012579     0.054371     0.147352  0.999760\n",
      "theta[80,1]     0.244809  0.000711  0.071140     0.124692     0.237898     0.400900  0.999722\n",
      "theta[81,1]     4.144529  0.002816  0.281599     3.614754     4.136195     4.719272  0.999698\n",
      "theta[82,1]     1.474152  0.001705  0.170476     1.158197     1.467552     1.822611  0.999687\n",
      "theta[83,1]     9.280096  0.004047  0.404687     8.499386     9.278536    10.080137  0.999808\n",
      "theta[84,1]   103.159802  0.008199  0.819853   101.532941   103.156566   104.772932  0.999773\n",
      "theta[85,1]   139.942246  0.008806  0.880630   138.242440   139.933507   141.664528  0.999819\n",
      "theta[86,1]   717.949149  0.009882  0.988231   716.006716   717.947573   719.898127  0.999883\n",
      "theta[87,1]   304.856474  0.009751  0.975113   302.961784   304.856519   306.793239  0.999750\n",
      "theta[88,1]    95.639349  0.008217  0.821658    94.025889    95.635910    97.266116  0.999969\n",
      "theta[89,1]    79.094532  0.007836  0.783606    77.563668    79.101509    80.616062  0.999855\n",
      "theta[90,1]     0.020650  0.000207  0.020735     0.000542     0.014511     0.077528  0.999921\n",
      "theta[91,1]     1.222077  0.001580  0.158027     0.932909     1.216295     1.559136  1.000009\n",
      "theta[92,1]   248.770628  0.009355  0.935484   246.938779   248.772774   250.580948  0.999795\n",
      "theta[93,1]    34.464683  0.006387  0.638728    33.204871    34.457489    35.715258  0.999712\n",
      "theta[94,1]   174.469290  0.008897  0.889738   172.719444   174.467343   176.191863  1.000210\n",
      "theta[95,1]     0.347293  0.000841  0.084138     0.202337     0.340050     0.528635  0.999643\n",
      "theta[96,1]    14.903743  0.004731  0.473079    13.989375    14.898976    15.843753  0.999786\n",
      "theta[97,1]    82.602576  0.008074  0.807423    81.011543    82.596271    84.192175  0.999718\n",
      "theta[98,1]   117.607601  0.008502  0.850226   115.922512   117.593579   119.290626  0.999715\n",
      "theta[99,1]     0.752991  0.001242  0.124215     0.533667     0.745829     1.014752  0.999776\n"
     ]
    }
   ],
   "source": [
    "data.print_stan_summary(fit2, pars='theta')"
   ]
  },
  {
   "cell_type": "code",
   "execution_count": 19,
   "metadata": {
    "collapsed": false
   },
   "outputs": [],
   "source": [
    "theta_ldf = data.prep_theta_summary(fit2, sample_df=sample_df)"
   ]
  },
  {
   "cell_type": "code",
   "execution_count": 44,
   "metadata": {
    "collapsed": false
   },
   "outputs": [
    {
     "data": {
      "image/png": "[encoded data removed]",
      "text/plain": [
       "<matplotlib.figure.Figure at 0x7f25c43a5898>"
      ]
     },
     "metadata": {},
     "output_type": "display_data"
    }
   ],
   "source": [
    "g = sns.boxplot(data=theta_ldf.query(\"abs(diff_from_mean)>30\").sort_values('mean_value'),\n",
    "            x='new_gene_cat',\n",
    "            y='diff_from_mean',\n",
    "            hue='variable', \n",
    "            fliersize=0, linewidth=0)"
   ]
  },
  {
   "cell_type": "markdown",
   "metadata": {},
   "source": [
    "## plot distribution in ratio "
   ]
  },
  {
   "cell_type": "code",
   "execution_count": 51,
   "metadata": {
    "collapsed": false
   },
   "outputs": [
    {
     "data": {
      "text/plain": [
       "<seaborn.axisgrid.FacetGrid at 0x7f25c2b0a438>"
      ]
     },
     "execution_count": 51,
     "metadata": {},
     "output_type": "execute_result"
    },
    {
     "data": {
      "image/png": "[encoded data removed]",
      "text/plain": [
       "<matplotlib.figure.Figure at 0x7f25c3452fd0>"
      ]
     },
     "metadata": {},
     "output_type": "display_data"
    }
   ],
   "source": [
    "g = sns.FacetGrid(data=theta_ldf.drop_duplicates(subset=['new_gene_id','variable', 'mean_diff']),\n",
    "                  hue='variable'\n",
    "                 )\n",
    "g.map(sns.distplot, 'mean_diff', kde=False)\n"
   ]
  },
  {
   "cell_type": "markdown",
   "metadata": {},
   "source": [
    "## summarize y_rep for these samples"
   ]
  },
  {
   "cell_type": "code",
   "execution_count": 56,
   "metadata": {
    "collapsed": false
   },
   "outputs": [],
   "source": [
    "yrep_pdf = data.prep_yrep_summary(fit2, sample_df)"
   ]
  },
  {
   "cell_type": "code",
   "execution_count": 53,
   "metadata": {
    "collapsed": false
   },
   "outputs": [
    {
     "data": {
      "text/html": [
       "<div>\n",
       "<table border=\"1\" class=\"dataframe\">\n",
       "  <thead>\n",
       "    <tr style=\"text-align: right;\">\n",
       "      <th></th>\n",
       "      <th>iter</th>\n",
       "      <th>0</th>\n",
       "      <th>1</th>\n",
       "      <th>2</th>\n",
       "      <th>3</th>\n",
       "      <th>4</th>\n",
       "      <th>5</th>\n",
       "      <th>6</th>\n",
       "      <th>7</th>\n",
       "      <th>8</th>\n",
       "      <th>...</th>\n",
       "      <th>6290</th>\n",
       "      <th>6291</th>\n",
       "      <th>6292</th>\n",
       "      <th>6293</th>\n",
       "      <th>6294</th>\n",
       "      <th>6295</th>\n",
       "      <th>6296</th>\n",
       "      <th>6297</th>\n",
       "      <th>6298</th>\n",
       "      <th>6299</th>\n",
       "    </tr>\n",
       "  </thead>\n",
       "  <tbody>\n",
       "    <tr>\n",
       "      <th>0</th>\n",
       "      <td>0</td>\n",
       "      <td>0.0</td>\n",
       "      <td>0.0</td>\n",
       "      <td>0.0</td>\n",
       "      <td>0.0</td>\n",
       "      <td>0.0</td>\n",
       "      <td>0.0</td>\n",
       "      <td>0.0</td>\n",
       "      <td>0.0</td>\n",
       "      <td>0.0</td>\n",
       "      <td>...</td>\n",
       "      <td>0.0</td>\n",
       "      <td>1.0</td>\n",
       "      <td>0.0</td>\n",
       "      <td>0.0</td>\n",
       "      <td>2.0</td>\n",
       "      <td>1.0</td>\n",
       "      <td>2.0</td>\n",
       "      <td>0.0</td>\n",
       "      <td>2.0</td>\n",
       "      <td>0.0</td>\n",
       "    </tr>\n",
       "    <tr>\n",
       "      <th>1</th>\n",
       "      <td>1</td>\n",
       "      <td>0.0</td>\n",
       "      <td>0.0</td>\n",
       "      <td>0.0</td>\n",
       "      <td>0.0</td>\n",
       "      <td>0.0</td>\n",
       "      <td>0.0</td>\n",
       "      <td>0.0</td>\n",
       "      <td>0.0</td>\n",
       "      <td>0.0</td>\n",
       "      <td>...</td>\n",
       "      <td>3.0</td>\n",
       "      <td>2.0</td>\n",
       "      <td>0.0</td>\n",
       "      <td>1.0</td>\n",
       "      <td>2.0</td>\n",
       "      <td>2.0</td>\n",
       "      <td>0.0</td>\n",
       "      <td>1.0</td>\n",
       "      <td>0.0</td>\n",
       "      <td>1.0</td>\n",
       "    </tr>\n",
       "    <tr>\n",
       "      <th>2</th>\n",
       "      <td>2</td>\n",
       "      <td>0.0</td>\n",
       "      <td>0.0</td>\n",
       "      <td>0.0</td>\n",
       "      <td>0.0</td>\n",
       "      <td>1.0</td>\n",
       "      <td>0.0</td>\n",
       "      <td>0.0</td>\n",
       "      <td>0.0</td>\n",
       "      <td>0.0</td>\n",
       "      <td>...</td>\n",
       "      <td>2.0</td>\n",
       "      <td>1.0</td>\n",
       "      <td>0.0</td>\n",
       "      <td>0.0</td>\n",
       "      <td>0.0</td>\n",
       "      <td>1.0</td>\n",
       "      <td>2.0</td>\n",
       "      <td>1.0</td>\n",
       "      <td>2.0</td>\n",
       "      <td>0.0</td>\n",
       "    </tr>\n",
       "    <tr>\n",
       "      <th>3</th>\n",
       "      <td>3</td>\n",
       "      <td>1.0</td>\n",
       "      <td>0.0</td>\n",
       "      <td>0.0</td>\n",
       "      <td>0.0</td>\n",
       "      <td>0.0</td>\n",
       "      <td>0.0</td>\n",
       "      <td>0.0</td>\n",
       "      <td>0.0</td>\n",
       "      <td>0.0</td>\n",
       "      <td>...</td>\n",
       "      <td>0.0</td>\n",
       "      <td>0.0</td>\n",
       "      <td>1.0</td>\n",
       "      <td>0.0</td>\n",
       "      <td>0.0</td>\n",
       "      <td>2.0</td>\n",
       "      <td>0.0</td>\n",
       "      <td>2.0</td>\n",
       "      <td>2.0</td>\n",
       "      <td>0.0</td>\n",
       "    </tr>\n",
       "    <tr>\n",
       "      <th>4</th>\n",
       "      <td>4</td>\n",
       "      <td>0.0</td>\n",
       "      <td>0.0</td>\n",
       "      <td>1.0</td>\n",
       "      <td>0.0</td>\n",
       "      <td>0.0</td>\n",
       "      <td>0.0</td>\n",
       "      <td>0.0</td>\n",
       "      <td>0.0</td>\n",
       "      <td>1.0</td>\n",
       "      <td>...</td>\n",
       "      <td>0.0</td>\n",
       "      <td>0.0</td>\n",
       "      <td>1.0</td>\n",
       "      <td>1.0</td>\n",
       "      <td>0.0</td>\n",
       "      <td>0.0</td>\n",
       "      <td>0.0</td>\n",
       "      <td>2.0</td>\n",
       "      <td>0.0</td>\n",
       "      <td>2.0</td>\n",
       "    </tr>\n",
       "  </tbody>\n",
       "</table>\n",
       "<p>5 rows × 6301 columns</p>\n",
       "</div>"
      ],
      "text/plain": [
       "   iter    0    1    2    3    4    5    6    7    8  ...   6290  6291  6292  \\\n",
       "0     0  0.0  0.0  0.0  0.0  0.0  0.0  0.0  0.0  0.0  ...    0.0   1.0   0.0   \n",
       "1     1  0.0  0.0  0.0  0.0  0.0  0.0  0.0  0.0  0.0  ...    3.0   2.0   0.0   \n",
       "2     2  0.0  0.0  0.0  0.0  1.0  0.0  0.0  0.0  0.0  ...    2.0   1.0   0.0   \n",
       "3     3  1.0  0.0  0.0  0.0  0.0  0.0  0.0  0.0  0.0  ...    0.0   0.0   1.0   \n",
       "4     4  0.0  0.0  1.0  0.0  0.0  0.0  0.0  0.0  1.0  ...    0.0   0.0   1.0   \n",
       "\n",
       "   6293  6294  6295  6296  6297  6298  6299  \n",
       "0   0.0   2.0   1.0   2.0   0.0   2.0   0.0  \n",
       "1   1.0   2.0   2.0   0.0   1.0   0.0   1.0  \n",
       "2   0.0   0.0   1.0   2.0   1.0   2.0   0.0  \n",
       "3   0.0   0.0   2.0   0.0   2.0   2.0   0.0  \n",
       "4   1.0   0.0   0.0   0.0   2.0   0.0   2.0  \n",
       "\n",
       "[5 rows x 6301 columns]"
      ]
     },
     "execution_count": 53,
     "metadata": {},
     "output_type": "execute_result"
    }
   ],
   "source": [
    "from matplotlib import pyplot as plt\n",
    "sns.boxplot(data=yrep_df.query('gene_cat == \"EBF1\"'),\n",
    "            x='cell_type',\n",
    "            y='pp_est_counts',\n",
    "            fliersize=0, linewidth=0.2)\n",
    "sns.swarmplot(data=sample_df.loc[sample_df['gene_cat'] == \"EBF1\", :],\n",
    "           x='cell_type',\n",
    "           y='est_counts', color='black')"
   ]
  },
  {
   "cell_type": "code",
   "execution_count": null,
   "metadata": {
    "collapsed": true
   },
   "outputs": [],
   "source": []
  }
 ],
 "metadata": {
  "kernelspec": {
   "display_name": "immune-infiltrate (python3)",
   "language": "python",
   "name": "immune_infiltrate"
  },
  "language_info": {
   "codemirror_mode": {
    "name": "ipython",
    "version": 3
   },
   "file_extension": ".py",
   "mimetype": "text/x-python",
   "name": "python",
   "nbconvert_exporter": "python",
   "pygments_lexer": "ipython3",
   "version": "3.5.2"
  },
  "nav_menu": {},
  "toc": {
   "navigate_menu": true,
   "number_sections": true,
   "sideBar": true,
   "threshold": 6,
   "toc_cell": false,
   "toc_section_display": "block",
   "toc_window_display": false
  }
 },
 "nbformat": 4,
 "nbformat_minor": 0
}
