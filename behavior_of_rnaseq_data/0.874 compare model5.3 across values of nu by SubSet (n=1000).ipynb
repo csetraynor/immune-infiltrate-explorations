{
 "cells": [
  {
   "cell_type": "code",
   "execution_count": null,
   "metadata": {
    "collapsed": false
   },
   "outputs": [],
   "source": [
    "import data\n",
    "import models\n",
    "import cache\n",
    "import seaborn as sns\n",
    "import numpy as np\n",
    "import pandas as pd\n",
    "import stanity\n",
    "from stancache import stancache\n",
    "import plotly.plotly as py\n",
    "import plotly.graph_objs as go"
   ]
  },
  {
   "cell_type": "code",
   "execution_count": null,
   "metadata": {
    "collapsed": true
   },
   "outputs": [],
   "source": [
    "sns.set(context='talk')"
   ]
  },
  {
   "cell_type": "code",
   "execution_count": null,
   "metadata": {
    "collapsed": true
   },
   "outputs": [],
   "source": [
    "model_name = 'model5.3'\n",
    "by = 'SubSet'\n",
    "sample_n = 1000\n",
    "cache_only = False"
   ]
  },
  {
   "cell_type": "markdown",
   "metadata": {},
   "source": [
    "## get data, as we did in earlier examples"
   ]
  },
  {
   "cell_type": "markdown",
   "metadata": {},
   "source": [
    "This will help in case we want to compare estimates for particular genes or samples"
   ]
  },
  {
   "cell_type": "code",
   "execution_count": null,
   "metadata": {
    "collapsed": false
   },
   "outputs": [],
   "source": [
    "sample_df = cache.cached(models.prep_sample_df, sample_n=sample_n)"
   ]
  },
  {
   "cell_type": "code",
   "execution_count": null,
   "metadata": {
    "collapsed": false
   },
   "outputs": [],
   "source": [
    "stan_data1 = models.prep_stan_data(sample_df, by=by, nu=1)\n",
    "stan_data2 = models.prep_stan_data(sample_df, by=by, nu=2)\n",
    "stan_data3 = models.prep_stan_data(sample_df, by=by, nu=3)\n",
    "stan_data4 = models.prep_stan_data(sample_df, by=by, nu=4)\n",
    "stan_data5 = models.prep_stan_data(sample_df, by=by, nu=5)\n",
    "stan_data6 = models.prep_stan_data(sample_df, by=by, nu=6)"
   ]
  },
  {
   "cell_type": "code",
   "execution_count": null,
   "metadata": {
    "collapsed": true
   },
   "outputs": [],
   "source": [
    "model = models.get_model_file(model_name=model_name)"
   ]
  },
  {
   "cell_type": "markdown",
   "metadata": {},
   "source": [
    "## get models from cache"
   ]
  },
  {
   "cell_type": "code",
   "execution_count": null,
   "metadata": {
    "collapsed": false
   },
   "outputs": [],
   "source": [
    "fit_nu1 = models.cached_stan_fit(file=model,\n",
    "                              data=stan_data1,\n",
    "                              model_name=model_name, cache_only=cache_only)\n",
    "fit_nu1_prefix = stancache.cached_stan_file(file=model, data=stan_data1, model_name=model_name, prefix_only=True)\n",
    "fit_nu1_prefix"
   ]
  },
  {
   "cell_type": "code",
   "execution_count": null,
   "metadata": {
    "collapsed": false
   },
   "outputs": [],
   "source": [
    "fit_nu2 = models.cached_stan_fit(file=model, data=stan_data2, model_name=model_name, cache_only=cache_only)\n",
    "fit_nu2_prefix = stancache.cached_stan_file(file=model, data=stan_data2, model_name=model_name, prefix_only=True)\n",
    "fit_nu2_prefix"
   ]
  },
  {
   "cell_type": "code",
   "execution_count": null,
   "metadata": {
    "collapsed": false
   },
   "outputs": [],
   "source": [
    "fit_nu3 = models.cached_stan_fit(file=model, data=stan_data3, model_name=model_name, cache_only=cache_only)\n",
    "fit_nu3_prefix = stancache.cached_stan_file(file=model, data=stan_data3, model_name=model_name, prefix_only=True)\n",
    "fit_nu3_prefix"
   ]
  },
  {
   "cell_type": "code",
   "execution_count": null,
   "metadata": {
    "collapsed": false
   },
   "outputs": [],
   "source": [
    "fit_nu4 = models.cached_stan_fit(file=model, data=stan_data4, model_name=model_name, cache_only=cache_only)\n",
    "fit_nu4_prefix = stancache.cached_stan_file(file=model, data=stan_data4, model_name=model_name, prefix_only=True)\n",
    "fit_nu4_prefix"
   ]
  },
  {
   "cell_type": "code",
   "execution_count": null,
   "metadata": {
    "collapsed": false
   },
   "outputs": [],
   "source": [
    "fit_nu5 = models.cached_stan_fit(file=model, data=stan_data5, model_name=model_name, cache_only=cache_only)\n",
    "fit_nu5_prefix = stancache.cached_stan_file(file=model, data=stan_data5, model_name=model_name, prefix_only=True)\n",
    "fit_nu5_prefix"
   ]
  },
  {
   "cell_type": "code",
   "execution_count": null,
   "metadata": {
    "collapsed": false
   },
   "outputs": [],
   "source": [
    "fit_nu6 = models.cached_stan_fit(file=model, data=stan_data6, model_name=model_name, cache_only=cache_only)\n",
    "fit_nu6_prefix = stancache.cached_stan_file(file=model, data=stan_data6, model_name=model_name, prefix_only=True)\n",
    "fit_nu6_prefix"
   ]
  },
  {
   "cell_type": "markdown",
   "metadata": {},
   "source": [
    "## compute loo-psis for each model"
   ]
  },
  {
   "cell_type": "code",
   "execution_count": null,
   "metadata": {
    "collapsed": false
   },
   "outputs": [],
   "source": [
    "loo_nu1 = cache.cached(stanity.psisloo,\n",
    "                        log_likelihood=fit_nu1.extract('log_lik')['log_lik'],\n",
    "                    cache_filename='{}.loo.pkl'.format(fit_nu1_prefix))\n",
    "loo_nu1.print_summary()"
   ]
  },
  {
   "cell_type": "code",
   "execution_count": null,
   "metadata": {
    "collapsed": false
   },
   "outputs": [],
   "source": [
    "loo_nu2 = cache.cached(stanity.psisloo,\n",
    "                      log_likelihood=fit_nu2.extract('log_lik')['log_lik'],\n",
    "                      cache_filename='{}.loo.pkl'.format(fit_nu2_prefix))\n",
    "loo_nu2.print_summary()"
   ]
  },
  {
   "cell_type": "code",
   "execution_count": null,
   "metadata": {
    "collapsed": false
   },
   "outputs": [],
   "source": [
    "loo_nu3 = cache.cached(stanity.psisloo,\n",
    "                      log_likelihood=fit_nu3.extract('log_lik')['log_lik'],\n",
    "                      cache_filename='{}.loo.pkl'.format(fit_nu3_prefix))\n",
    "loo_nu3.print_summary()"
   ]
  },
  {
   "cell_type": "code",
   "execution_count": null,
   "metadata": {
    "collapsed": false
   },
   "outputs": [],
   "source": [
    "loo_nu4 = cache.cached(stanity.psisloo,\n",
    "                      log_likelihood=fit_nu4.extract('log_lik')['log_lik'],\n",
    "                      cache_filename='{}.loo.pkl'.format(fit_nu4_prefix))\n",
    "loo_nu4.print_summary()"
   ]
  },
  {
   "cell_type": "code",
   "execution_count": null,
   "metadata": {
    "collapsed": false
   },
   "outputs": [],
   "source": [
    "loo_nu5 = cache.cached(stanity.psisloo,\n",
    "                      log_likelihood=fit_nu5.extract('log_lik')['log_lik'],\n",
    "                      cache_filename='{}.loo.pkl'.format(fit_nu5_prefix))\n",
    "loo_nu5.print_summary()"
   ]
  },
  {
   "cell_type": "code",
   "execution_count": null,
   "metadata": {
    "collapsed": false
   },
   "outputs": [],
   "source": [
    "loo_nu6 = cache.cached(stanity.psisloo,\n",
    "                      log_likelihood=fit_nu6.extract('log_lik')['log_lik'],\n",
    "                      cache_filename='{}.loo.pkl'.format(fit_nu6_prefix))\n",
    "loo_nu6.print_summary()"
   ]
  },
  {
   "cell_type": "markdown",
   "metadata": {
    "collapsed": true
   },
   "source": [
    "## compare psis-loo for nu==1 vs nu==2"
   ]
  },
  {
   "cell_type": "code",
   "execution_count": null,
   "metadata": {
    "collapsed": false
   },
   "outputs": [],
   "source": [
    "stanity.loo_compare(loo_nu1, loo_nu2)"
   ]
  },
  {
   "cell_type": "markdown",
   "metadata": {},
   "source": [
    "It seems that this model works better with higher values of `nu`."
   ]
  },
  {
   "cell_type": "markdown",
   "metadata": {
    "collapsed": true
   },
   "source": [
    "## compare psis-loo for nu==2 vs nu==3"
   ]
  },
  {
   "cell_type": "code",
   "execution_count": null,
   "metadata": {
    "collapsed": false
   },
   "outputs": [],
   "source": [
    "stanity.loo_compare(loo_nu2, loo_nu3)"
   ]
  },
  {
   "cell_type": "markdown",
   "metadata": {
    "collapsed": true
   },
   "source": [
    "## compare psis-loo for nu==3 vs nu==4"
   ]
  },
  {
   "cell_type": "code",
   "execution_count": null,
   "metadata": {
    "collapsed": false
   },
   "outputs": [],
   "source": [
    "stanity.loo_compare(loo_nu3, loo_nu4)"
   ]
  },
  {
   "cell_type": "markdown",
   "metadata": {},
   "source": [
    "## compare psis-loo for nu==4 vs nu==5"
   ]
  },
  {
   "cell_type": "code",
   "execution_count": null,
   "metadata": {
    "collapsed": false
   },
   "outputs": [],
   "source": [
    "stanity.loo_compare(loo_nu4, loo_nu5)"
   ]
  },
  {
   "cell_type": "markdown",
   "metadata": {},
   "source": [
    "## compare psis-loo for nu==5 vs nu==6"
   ]
  },
  {
   "cell_type": "code",
   "execution_count": null,
   "metadata": {
    "collapsed": false
   },
   "outputs": [],
   "source": [
    "stanity.loo_compare(loo_nu5, loo_nu6)"
   ]
  },
  {
   "cell_type": "markdown",
   "metadata": {},
   "source": [
    "## Summarize fit across different values of `nu`"
   ]
  },
  {
   "cell_type": "code",
   "execution_count": null,
   "metadata": {
    "collapsed": false
   },
   "outputs": [],
   "source": [
    "loo_results = {1: loo_nu1, 2: loo_nu2, 3: loo_nu3, 4: loo_nu4}"
   ]
  },
  {
   "cell_type": "code",
   "execution_count": null,
   "metadata": {
    "collapsed": false
   },
   "outputs": [],
   "source": [
    "loodf = list()\n",
    "for (nu, loores) in loo_results.items():\n",
    "    thisdf = loores.pointwise.reset_index()\n",
    "    thisdf['nu'] = nu\n",
    "    loodf.append(thisdf)\n",
    "loodf = pd.concat(loodf)\n",
    "loodf.head()"
   ]
  },
  {
   "cell_type": "code",
   "execution_count": null,
   "metadata": {
    "collapsed": false
   },
   "outputs": [],
   "source": [
    "loodf.sort_values(['index','nu'], inplace=True)\n",
    "loodf['first_diff'] = loodf.groupby('index')['pointwise_elpd'].diff()\n",
    "loodf.fillna(0, inplace=True)\n",
    "loodf['cum_diff'] = loodf.groupby('index')['first_diff'].cumsum()\n",
    "loodf.head()"
   ]
  },
  {
   "cell_type": "code",
   "execution_count": null,
   "metadata": {
    "collapsed": false
   },
   "outputs": [],
   "source": [
    "loodf2 = pd.merge(sample_df, loodf, on='index')"
   ]
  },
  {
   "cell_type": "markdown",
   "metadata": {},
   "source": [
    "## plot ELPD by `nu`"
   ]
  },
  {
   "cell_type": "code",
   "execution_count": null,
   "metadata": {
    "collapsed": false
   },
   "outputs": [],
   "source": [
    "sns.regplot(data=loodf2, x='nu', y='first_diff', x_estimator=np.sum)"
   ]
  },
  {
   "cell_type": "code",
   "execution_count": null,
   "metadata": {
    "collapsed": false
   },
   "outputs": [],
   "source": [
    "sns.regplot(data=loodf2, x='nu', y='cum_diff', x_estimator=np.sum)"
   ]
  },
  {
   "cell_type": "code",
   "execution_count": null,
   "metadata": {
    "collapsed": false
   },
   "outputs": [],
   "source": [
    "by_nu = loodf2.groupby(['nu'])['cum_diff'].sum().reset_index()\n",
    "trace = go.Scatter(\n",
    "    x=by_nu['nu'],\n",
    "    y=by_nu['cum_diff'],\n",
    "    mode='markers+lines',\n",
    "    line=dict(\n",
    "        shape='spline'\n",
    "    ),\n",
    ")\n",
    "py.iplot([trace])"
   ]
  },
  {
   "cell_type": "markdown",
   "metadata": {},
   "source": [
    "## plot ELPD by observation over different values of `nu`"
   ]
  },
  {
   "cell_type": "code",
   "execution_count": null,
   "metadata": {
    "collapsed": false
   },
   "outputs": [],
   "source": [
    "from matplotlib import pyplot as plt\n",
    "for i in np.arange(max(loodf.index)):\n",
    "    plt.plot(loodf.loc[loodf['index'] == i, 'nu'],\n",
    "             loodf.loc[loodf['index'] == i, 'first_diff'],\n",
    "             alpha=0.2)\n"
   ]
  },
  {
   "cell_type": "markdown",
   "metadata": {},
   "source": [
    "## plot `elpd` by cell_type"
   ]
  },
  {
   "cell_type": "code",
   "execution_count": null,
   "metadata": {
    "collapsed": false
   },
   "outputs": [],
   "source": [
    "by_subset = loodf2.groupby(['cell_type','nu']).agg({'first_diff': np.sum, 'cum_diff': np.sum}).reset_index()\n",
    "plot_data = list()\n",
    "for (name, sample_df) in by_subset.groupby('cell_type'):\n",
    "    trace = go.Scatter(\n",
    "        x=sample_df['nu'],\n",
    "        y=sample_df['cum_diff'],\n",
    "        mode='markers+lines',\n",
    "        name=name,\n",
    "        line=dict(\n",
    "            shape='spline'\n",
    "        ),\n",
    "    )\n",
    "    plot_data.append(trace)\n",
    "py.iplot(plot_data, filename='immune-inf/elpd-by-cell_type')"
   ]
  },
  {
   "cell_type": "markdown",
   "metadata": {},
   "source": [
    "## plot elpd by `SubSet`\n",
    "\n",
    "Is there any pattern in how errors are distributed by SubSet?"
   ]
  },
  {
   "cell_type": "code",
   "execution_count": null,
   "metadata": {
    "collapsed": false
   },
   "outputs": [],
   "source": [
    "by_subset = loodf2.groupby(['SubSet','nu']).agg({'first_diff': np.sum, 'cum_diff': np.sum}).reset_index()\n",
    "plot_data = list()\n",
    "for (name, sample_df) in by_subset.groupby('SubSet'):\n",
    "    trace = go.Scatter(\n",
    "        x=sample_df['nu'],\n",
    "        y=sample_df['cum_diff'],\n",
    "        mode='markers+lines',\n",
    "        name=name,\n",
    "        line=dict(\n",
    "            shape='spline'\n",
    "        ),\n",
    "    )\n",
    "    plot_data.append(trace)\n",
    "py.iplot(plot_data, filename='immune-inf/elpd-by-subset')"
   ]
  },
  {
   "cell_type": "markdown",
   "metadata": {},
   "source": [
    "## look at elpd over `nu`, by sample_id"
   ]
  },
  {
   "cell_type": "code",
   "execution_count": null,
   "metadata": {
    "collapsed": false
   },
   "outputs": [],
   "source": [
    "by_sample = loodf2.groupby(['sample_id', 'SubSet', 'nu'])['first_diff'].sum().reset_index()\n",
    "plot_data = list()\n",
    "for (sample_id, sample_df) in by_sample.groupby('sample_id'):\n",
    "    trace = go.Scatter(\n",
    "        x=sample_df['nu'],\n",
    "        y=sample_df['first_diff'],\n",
    "        mode='lines',\n",
    "        name=sample_df['SubSet'].values[0],\n",
    "        text=sample_id,\n",
    "        hoverinfo='text+name',\n",
    "        line=dict(\n",
    "            shape='linear'\n",
    "        ),\n",
    "        legendgroup=sample_df['SubSet'].values[0],\n",
    "        opacity=0.2,\n",
    "    )\n",
    "    plot_data.append(trace)"
   ]
  },
  {
   "cell_type": "code",
   "execution_count": null,
   "metadata": {
    "collapsed": false
   },
   "outputs": [],
   "source": [
    "py.iplot(plot_data)"
   ]
  }
 ],
 "metadata": {
  "kernelspec": {
   "display_name": "immune3",
   "language": "python",
   "name": "immune3"
  },
  "language_info": {
   "codemirror_mode": {
    "name": "ipython",
    "version": 3
   },
   "file_extension": ".py",
   "mimetype": "text/x-python",
   "name": "python",
   "nbconvert_exporter": "python",
   "pygments_lexer": "ipython3",
   "version": "3.5.2"
  },
  "nav_menu": {},
  "toc": {
   "navigate_menu": true,
   "number_sections": true,
   "sideBar": true,
   "threshold": 6,
   "toc_cell": false,
   "toc_section_display": "block",
   "toc_window_display": false
  }
 },
 "nbformat": 4,
 "nbformat_minor": 0
}
