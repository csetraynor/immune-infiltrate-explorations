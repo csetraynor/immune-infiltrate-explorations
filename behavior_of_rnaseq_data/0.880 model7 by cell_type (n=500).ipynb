{
 "cells": [
  {
   "cell_type": "code",
   "execution_count": 1,
   "metadata": {
    "collapsed": false
   },
   "outputs": [
    {
     "name": "stderr",
     "output_type": "stream",
     "text": [
      "/home/jacquelineburos/projects/immune-infiltrate-explorations/.env/lib/python3.5/site-packages/IPython/html.py:14: ShimWarning: The `IPython.html` package has been deprecated. You should import from `notebook` instead. `IPython.html.widgets` has moved to `ipywidgets`.\n",
      "  \"`IPython.html.widgets` has moved to `ipywidgets`.\", ShimWarning)\n"
     ]
    }
   ],
   "source": [
    "import data\n",
    "import models\n",
    "import cache\n",
    "import seaborn as sns\n",
    "import numpy as np\n",
    "import pandas as pd\n",
    "import patsy\n",
    "%matplotlib inline"
   ]
  },
  {
   "cell_type": "code",
   "execution_count": 2,
   "metadata": {
    "collapsed": true
   },
   "outputs": [],
   "source": [
    "sns.set(context='talk')"
   ]
  },
  {
   "cell_type": "code",
   "execution_count": 3,
   "metadata": {
    "collapsed": true
   },
   "outputs": [],
   "source": [
    "model_name = 'model7'\n",
    "by = 'cell_type'\n",
    "sample_n = 500"
   ]
  },
  {
   "cell_type": "markdown",
   "metadata": {},
   "source": [
    "## sample data for analysis"
   ]
  },
  {
   "cell_type": "code",
   "execution_count": 4,
   "metadata": {
    "collapsed": false
   },
   "outputs": [
    {
     "name": "stderr",
     "output_type": "stream",
     "text": [
      "INFO:cache:prep_sample_df: cache_filename set to prep_sample_df.cached.sample_n_31194724242.pkl\n",
      "INFO:cache:prep_sample_df: Loading result from cache\n"
     ]
    }
   ],
   "source": [
    "sample_df = cache.cached(models.prep_sample_df, sample_n=sample_n)"
   ]
  },
  {
   "cell_type": "markdown",
   "metadata": {},
   "source": [
    "## fit model"
   ]
  },
  {
   "cell_type": "code",
   "execution_count": 5,
   "metadata": {
    "collapsed": false
   },
   "outputs": [],
   "source": [
    "stan_data = models.prep_stan_data(sample_df, by=by)"
   ]
  },
  {
   "cell_type": "code",
   "execution_count": 15,
   "metadata": {
    "collapsed": false
   },
   "outputs": [
    {
     "name": "stdout",
     "output_type": "stream",
     "text": [
      "## neg binom parameterization\n",
      "## estimate correlation matrix among cell types\n",
      "data {\n",
      "    // dimensions\n",
      "    int<lower=1> N;  // N obs\n",
      "    int<lower=1> G;  // N genes\n",
      "    int<lower=1> S;  // N samples\n",
      "    int<lower=0> C;  // N classes (e.g. B-cell, T-cell, B_Naive, CD5, CD45RO, etc)\n",
      "                     //     note: classes should be mutually exclusive. Each row here should sum to 1\n",
      "    int<lower=0> M; // number of cell-level predictors \n",
      "   \n",
      "    // data for each gene*sample\n",
      "    int<lower=1, upper=G> gene[N];    // gene id for each obs\n",
      "    int<lower=1, upper=S> sample[N];  // sample id for each obs\n",
      "    vector<lower=0, upper=1>[C] x[N]; // map each obs to each class (0:'- or ?', 1:'+')\n",
      "    int<lower=0> y[N];                // count/tpm for each obs\n",
      "    \n",
      "    // group-level predictors for each class C\n",
      "    matrix[C, M] cell_features; \n",
      "}\n",
      "transformed data {\n",
      "    int sample_y[S, G];    // array (size SxG) of ints\n",
      "    vector[C] sample_x[S]; // array (size S) of vectors[C]\n",
      "    for (n in 1:N) {\n",
      "        sample_y[sample[n], gene[n]] = y[n];\n",
      "        sample_x[sample[n]] = x[n,];\n",
      "    }\n",
      "}\n",
      "parameters {\n",
      "    cholesky_factor_corr[C] L_Omega;\n",
      "    matrix[C, G] z;\n",
      "    //corr_matrix[C] Omega;        // degree of correlation among loading factors for each cell type\n",
      "    vector<lower=0>[C] tau;      // scale for each cell type - multiplied (on diagonal) with Omega\n",
      "    row_vector[C] theta_mu;          // mean expression level for each cell type\n",
      "    matrix[G, M] theta_coefs_per_gene;\n",
      "    \n",
      "    vector[G] log_gene_base;     // constant intercept expression level for each gene, irrespective of cell type\n",
      "    vector<lower=0>[G] gene_phi; // overdispersion parameter per transcript (for now)\n",
      "}\n",
      "transformed parameters {\n",
      "    matrix<lower=0>[G, C] theta; // loading factors for each gene, for each cell type\n",
      "    { \n",
      "        matrix[C, G] tmp_theta_mu;\n",
      "        tmp_theta_mu = to_matrix(rep_array(theta_mu[c], G));\n",
      "        theta = tmp_theta_mu + cell_features*theta_coefs_per_gene + (diag_pre_multiply(tau,L_Omega) * z)';\n",
      "    }\n",
      "}\n",
      "model {\n",
      "    // priors on components of theta: relative expression per cell type per gene transcript\n",
      "    tau ~ cauchy(0, 2.5);\n",
      "    to_vector(z) ~ normal(0, 1);\n",
      "    L_Omega ~ lkj_corr_cholesky(2);\n",
      "    theta_mu ~ normal(0, 1);\n",
      "    to_vector(theta_coefs_per_gene) ~ normal(0, 1);\n",
      "    // estimate sample_y: obseved expression for a sample (possibly a mixture)\n",
      "    log_gene_base ~ normal(0, 1);\n",
      "    gene_phi ~ normal(0, 1);\n",
      "    for (s in 1:S) {\n",
      "        vector[G] log_expected_rate;\n",
      "        log_expected_rate = log_gene_base + log(theta*sample_x[s]);\n",
      "        sample_y[s] ~ neg_binomial_2_log(log_expected_rate, gene_phi);\n",
      "    }\n",
      "}\n",
      "generated quantities {\n",
      "    int y_rep[N];\n",
      "    real log_lik[N];\n",
      "    \n",
      "    for (n in 1:N) {\n",
      "        real log_expected_rate;\n",
      "        log_expected_rate = log_gene_base[gene[n]] + log(theta[gene[n], ]*x[n]);\n",
      "        y_rep[n] = neg_binomial_2_log_rng(log_expected_rate, gene_phi[gene[n]]);\n",
      "        log_lik[n] = neg_binomial_2_log_lpmf(y[n] | log_expected_rate, gene_phi[gene[n]]);\n",
      "    }\n",
      "}\n"
     ]
    }
   ],
   "source": [
    "model_file = models.get_model_file(model_name=model_name)\n",
    "print(cache._read_file(model_file))"
   ]
  },
  {
   "cell_type": "code",
   "execution_count": 18,
   "metadata": {
    "collapsed": false
   },
   "outputs": [
    {
     "name": "stderr",
     "output_type": "stream",
     "text": [
      "INFO:cache:Step 1: Get compiled model code, possibly from cache\n",
      "INFO:cache:StanModel: cache_filename set to model7.model_code_57672475544.stanmodel.pkl\n",
      "INFO:cache:StanModel: Starting execution\n"
     ]
    },
    {
     "ename": "ValueError",
     "evalue": "Failed to parse Stan model 'model7_2d87d54763056c8a795979bddb0c11e8'. Error message:\nSYNTAX ERROR, MESSAGE(S) FROM PARSER:\n\nNo matches for: \n\n  to_matrix(vector[])\n\nAvailable argument signatures for to_matrix:\n\n  to_matrix(matrix)\n  to_matrix(vector)\n  to_matrix(row vector)\n  to_matrix(real[,])\n  to_matrix(int[,])\n\n\nERROR at line 44\n\n 42:        { \n 43:            matrix[C, G] tmp_theta_mu;\n 44:            tmp_theta_mu = to_matrix(rep_array(theta_mu, G));\n                                                                ^\n 45:            theta = tmp_theta_mu + cell_features*theta_coefs_per_gene + (diag_pre_multiply(tau,L_Omega) * z)';\n\n",
     "output_type": "error",
     "traceback": [
      "\u001b[0;31m---------------------------------------------------------------------------\u001b[0m",
      "\u001b[0;31mValueError\u001b[0m                                Traceback (most recent call last)",
      "\u001b[0;32m<ipython-input-18-4f876a09b15b>\u001b[0m in \u001b[0;36m<module>\u001b[0;34m()\u001b[0m\n\u001b[0;32m----> 1\u001b[0;31m \u001b[0mmodel_fit\u001b[0m \u001b[0;34m=\u001b[0m \u001b[0mmodels\u001b[0m\u001b[0;34m.\u001b[0m\u001b[0mcached_stan_fit\u001b[0m\u001b[0;34m(\u001b[0m\u001b[0mfile\u001b[0m\u001b[0;34m=\u001b[0m\u001b[0mmodel_file\u001b[0m\u001b[0;34m,\u001b[0m \u001b[0mdata\u001b[0m\u001b[0;34m=\u001b[0m\u001b[0mstan_data\u001b[0m\u001b[0;34m,\u001b[0m \u001b[0miter\u001b[0m\u001b[0;34m=\u001b[0m\u001b[0;36m500\u001b[0m\u001b[0;34m,\u001b[0m \u001b[0mchains\u001b[0m\u001b[0;34m=\u001b[0m\u001b[0;36m4\u001b[0m\u001b[0;34m,\u001b[0m \u001b[0mmodel_name\u001b[0m\u001b[0;34m=\u001b[0m\u001b[0mmodel_name\u001b[0m\u001b[0;34m)\u001b[0m\u001b[0;34m\u001b[0m\u001b[0m\n\u001b[0m",
      "\u001b[0;32m/home/jacquelineburos/projects/immune-infiltrate-explorations/behavior_of_rnaseq_data/cache.py\u001b[0m in \u001b[0;36mcached_stan_fit\u001b[0;34m(*args, **kwargs)\u001b[0m\n\u001b[1;32m    137\u001b[0m     \u001b[0;32mif\u001b[0m \u001b[0mlen\u001b[0m\u001b[0;34m(\u001b[0m\u001b[0marglist\u001b[0m\u001b[0;34m)\u001b[0m\u001b[0;34m>\u001b[0m\u001b[0;36m0\u001b[0m\u001b[0;34m:\u001b[0m\u001b[0;34m\u001b[0m\u001b[0m\n\u001b[1;32m    138\u001b[0m         \u001b[0;32mraise\u001b[0m \u001b[0mValueError\u001b[0m\u001b[0;34m(\u001b[0m\u001b[0;34m'unnamed args not permitted'\u001b[0m\u001b[0;34m)\u001b[0m\u001b[0;34m\u001b[0m\u001b[0m\n\u001b[0;32m--> 139\u001b[0;31m     \u001b[0;32mreturn\u001b[0m \u001b[0m_cached_stan_fit\u001b[0m\u001b[0;34m(\u001b[0m\u001b[0;34m**\u001b[0m\u001b[0mkwargs\u001b[0m\u001b[0;34m,\u001b[0m \u001b[0mseed\u001b[0m\u001b[0;34m=\u001b[0m\u001b[0mseed\u001b[0m\u001b[0;34m.\u001b[0m\u001b[0mseed\u001b[0m\u001b[0;34m)\u001b[0m\u001b[0;34m\u001b[0m\u001b[0m\n\u001b[0m\u001b[1;32m    140\u001b[0m \u001b[0;34m\u001b[0m\u001b[0m\n\u001b[1;32m    141\u001b[0m \u001b[0;34m\u001b[0m\u001b[0m\n",
      "\u001b[0;32m/home/jacquelineburos/projects/immune-infiltrate-explorations/behavior_of_rnaseq_data/cache.py\u001b[0m in \u001b[0;36m_cached_stan_fit\u001b[0;34m(model_name, file, model_code, force, cache_dir, cache_only, fit_cachefile, **kwargs)\u001b[0m\n\u001b[1;32m    110\u001b[0m                          \u001b[0mmodel_name\u001b[0m\u001b[0;34m=\u001b[0m\u001b[0mmodel_name\u001b[0m\u001b[0;34m,\u001b[0m\u001b[0;34m\u001b[0m\u001b[0m\n\u001b[1;32m    111\u001b[0m                          \u001b[0mcache_only\u001b[0m\u001b[0;34m=\u001b[0m\u001b[0mcache_only\u001b[0m\u001b[0;34m,\u001b[0m\u001b[0;34m\u001b[0m\u001b[0m\n\u001b[0;32m--> 112\u001b[0;31m                          force=force)\n\u001b[0m\u001b[1;32m    113\u001b[0m \u001b[0;34m\u001b[0m\u001b[0m\n\u001b[1;32m    114\u001b[0m     \u001b[0;31m## cached fitted Stan model, per given args\u001b[0m\u001b[0;34m\u001b[0m\u001b[0;34m\u001b[0m\u001b[0m\n",
      "\u001b[0;32m/home/jacquelineburos/projects/immune-infiltrate-explorations/behavior_of_rnaseq_data/cache.py\u001b[0m in \u001b[0;36mcached\u001b[0;34m(func, file_prefix, cache_filename, cache_dir, force, cache_only, compute_hash, *args, **kwargs)\u001b[0m\n\u001b[1;32m    163\u001b[0m     \u001b[0mlogger\u001b[0m\u001b[0;34m.\u001b[0m\u001b[0minfo\u001b[0m\u001b[0;34m(\u001b[0m\u001b[0;34m'{}: Starting execution'\u001b[0m\u001b[0;34m.\u001b[0m\u001b[0mformat\u001b[0m\u001b[0;34m(\u001b[0m\u001b[0mfunc\u001b[0m\u001b[0;34m.\u001b[0m\u001b[0m__name__\u001b[0m\u001b[0;34m)\u001b[0m\u001b[0;34m)\u001b[0m\u001b[0;34m\u001b[0m\u001b[0m\n\u001b[1;32m    164\u001b[0m     \u001b[0mstart\u001b[0m \u001b[0;34m=\u001b[0m \u001b[0mtime\u001b[0m\u001b[0;34m(\u001b[0m\u001b[0;34m)\u001b[0m\u001b[0;34m\u001b[0m\u001b[0m\n\u001b[0;32m--> 165\u001b[0;31m     \u001b[0mres\u001b[0m \u001b[0;34m=\u001b[0m \u001b[0mfunc\u001b[0m\u001b[0;34m(\u001b[0m\u001b[0;34m**\u001b[0m\u001b[0mkwargs\u001b[0m\u001b[0;34m)\u001b[0m\u001b[0;34m\u001b[0m\u001b[0m\n\u001b[0m\u001b[1;32m    166\u001b[0m     \u001b[0mend\u001b[0m \u001b[0;34m=\u001b[0m \u001b[0mtime\u001b[0m\u001b[0;34m(\u001b[0m\u001b[0;34m)\u001b[0m\u001b[0;34m\u001b[0m\u001b[0m\n\u001b[1;32m    167\u001b[0m     \u001b[0melapsed\u001b[0m \u001b[0;34m=\u001b[0m \u001b[0mstr\u001b[0m\u001b[0;34m(\u001b[0m\u001b[0mtimedelta\u001b[0m\u001b[0;34m(\u001b[0m\u001b[0mseconds\u001b[0m\u001b[0;34m=\u001b[0m\u001b[0mend\u001b[0m\u001b[0;34m-\u001b[0m\u001b[0mstart\u001b[0m\u001b[0;34m)\u001b[0m\u001b[0;34m)\u001b[0m\u001b[0;34m\u001b[0m\u001b[0m\n",
      "\u001b[0;32m/home/jacquelineburos/projects/immune-infiltrate-explorations/.env/lib/python3.5/site-packages/pystan/model.py\u001b[0m in \u001b[0;36m__init__\u001b[0;34m(self, file, charset, model_name, model_code, stanc_ret, boost_lib, eigen_lib, verbose, obfuscate_model_name, extra_compile_args)\u001b[0m\n\u001b[1;32m    210\u001b[0m                                          \u001b[0mmodel_name\u001b[0m\u001b[0;34m=\u001b[0m\u001b[0mmodel_name\u001b[0m\u001b[0;34m,\u001b[0m\u001b[0;34m\u001b[0m\u001b[0m\n\u001b[1;32m    211\u001b[0m                                          \u001b[0mverbose\u001b[0m\u001b[0;34m=\u001b[0m\u001b[0mverbose\u001b[0m\u001b[0;34m,\u001b[0m\u001b[0;34m\u001b[0m\u001b[0m\n\u001b[0;32m--> 212\u001b[0;31m                                          obfuscate_model_name=obfuscate_model_name)\n\u001b[0m\u001b[1;32m    213\u001b[0m \u001b[0;34m\u001b[0m\u001b[0m\n\u001b[1;32m    214\u001b[0m         \u001b[0;32mif\u001b[0m \u001b[0;32mnot\u001b[0m \u001b[0misinstance\u001b[0m\u001b[0;34m(\u001b[0m\u001b[0mstanc_ret\u001b[0m\u001b[0;34m,\u001b[0m \u001b[0mdict\u001b[0m\u001b[0;34m)\u001b[0m\u001b[0;34m:\u001b[0m\u001b[0;34m\u001b[0m\u001b[0m\n",
      "\u001b[0;32m/home/jacquelineburos/projects/immune-infiltrate-explorations/.env/lib/python3.5/site-packages/pystan/api.py\u001b[0m in \u001b[0;36mstanc\u001b[0;34m(file, charset, model_code, model_name, verbose, obfuscate_model_name)\u001b[0m\n\u001b[1;32m    127\u001b[0m     \u001b[0;32mif\u001b[0m \u001b[0mresult\u001b[0m\u001b[0;34m[\u001b[0m\u001b[0;34m'status'\u001b[0m\u001b[0;34m]\u001b[0m \u001b[0;34m==\u001b[0m \u001b[0;34m-\u001b[0m\u001b[0;36m1\u001b[0m\u001b[0;34m:\u001b[0m  \u001b[0;31m# EXCEPTION_RC is -1\u001b[0m\u001b[0;34m\u001b[0m\u001b[0m\n\u001b[1;32m    128\u001b[0m         \u001b[0merror_msg\u001b[0m \u001b[0;34m=\u001b[0m \u001b[0;34m\"Failed to parse Stan model '{}'. Error message:\\n{}\"\u001b[0m\u001b[0;34m.\u001b[0m\u001b[0mformat\u001b[0m\u001b[0;34m(\u001b[0m\u001b[0mmodel_name\u001b[0m\u001b[0;34m,\u001b[0m \u001b[0mresult\u001b[0m\u001b[0;34m[\u001b[0m\u001b[0;34m'msg'\u001b[0m\u001b[0;34m]\u001b[0m\u001b[0;34m)\u001b[0m\u001b[0;34m\u001b[0m\u001b[0m\n\u001b[0;32m--> 129\u001b[0;31m         \u001b[0;32mraise\u001b[0m \u001b[0mValueError\u001b[0m\u001b[0;34m(\u001b[0m\u001b[0merror_msg\u001b[0m\u001b[0;34m)\u001b[0m\u001b[0;34m\u001b[0m\u001b[0m\n\u001b[0m\u001b[1;32m    130\u001b[0m     \u001b[0;32melif\u001b[0m \u001b[0mresult\u001b[0m\u001b[0;34m[\u001b[0m\u001b[0;34m'status'\u001b[0m\u001b[0;34m]\u001b[0m \u001b[0;34m==\u001b[0m \u001b[0;36m0\u001b[0m\u001b[0;34m:\u001b[0m  \u001b[0;31m# SUCCESS_RC is 0\u001b[0m\u001b[0;34m\u001b[0m\u001b[0m\n\u001b[1;32m    131\u001b[0m         \u001b[0mlogger\u001b[0m\u001b[0;34m.\u001b[0m\u001b[0mdebug\u001b[0m\u001b[0;34m(\u001b[0m\u001b[0;34m\"Successfully parsed Stan model '{}'.\"\u001b[0m\u001b[0;34m.\u001b[0m\u001b[0mformat\u001b[0m\u001b[0;34m(\u001b[0m\u001b[0mmodel_name\u001b[0m\u001b[0;34m)\u001b[0m\u001b[0;34m)\u001b[0m\u001b[0;34m\u001b[0m\u001b[0m\n",
      "\u001b[0;31mValueError\u001b[0m: Failed to parse Stan model 'model7_2d87d54763056c8a795979bddb0c11e8'. Error message:\nSYNTAX ERROR, MESSAGE(S) FROM PARSER:\n\nNo matches for: \n\n  to_matrix(vector[])\n\nAvailable argument signatures for to_matrix:\n\n  to_matrix(matrix)\n  to_matrix(vector)\n  to_matrix(row vector)\n  to_matrix(real[,])\n  to_matrix(int[,])\n\n\nERROR at line 44\n\n 42:        { \n 43:            matrix[C, G] tmp_theta_mu;\n 44:            tmp_theta_mu = to_matrix(rep_array(theta_mu, G));\n                                                                ^\n 45:            theta = tmp_theta_mu + cell_features*theta_coefs_per_gene + (diag_pre_multiply(tau,L_Omega) * z)';\n\n"
     ]
    }
   ],
   "source": [
    "model_fit = models.cached_stan_fit(file=model_file, data=stan_data, iter=500, chains=4, model_name=model_name)"
   ]
  },
  {
   "cell_type": "markdown",
   "metadata": {},
   "source": [
    "## check convergence (superficially)"
   ]
  },
  {
   "cell_type": "code",
   "execution_count": null,
   "metadata": {
    "collapsed": false
   },
   "outputs": [],
   "source": [
    "models.plot_stan_summary(model_fit, pars='theta', metric='Rhat')"
   ]
  },
  {
   "cell_type": "code",
   "execution_count": null,
   "metadata": {
    "collapsed": false
   },
   "outputs": [],
   "source": [
    "models.print_stan_summary(model_fit, pars='lp__')"
   ]
  },
  {
   "cell_type": "markdown",
   "metadata": {},
   "source": [
    "## summarize posterior draws of theta by gene"
   ]
  },
  {
   "cell_type": "code",
   "execution_count": null,
   "metadata": {
    "collapsed": false
   },
   "outputs": [],
   "source": [
    "# meta-data used for plotting functions below\n",
    "# so that the following code is invariant to the model run\n",
    "colnames = list(stan_data['x'].columns)\n",
    "sort_by = colnames[0]\n",
    "print(sort_by)"
   ]
  },
  {
   "cell_type": "code",
   "execution_count": null,
   "metadata": {
    "collapsed": false
   },
   "outputs": [],
   "source": [
    "theta_ldf = models.prep_theta_summary(model_fit, sample_df=sample_df, colnames=colnames, expose_group=sort_by)"
   ]
  },
  {
   "cell_type": "code",
   "execution_count": null,
   "metadata": {
    "collapsed": true
   },
   "outputs": [],
   "source": [
    "## show theta estimates for first 50 genes, by `sort-by`\n",
    "g = sns.boxplot(data=theta_ldf.loc[theta_ldf['mean_value_rank_{}'.format(sort_by)] <= 50,:] \\\n",
    "                .sort_values('mean_value_rank_{}'.format(sort_by)),\n",
    "            y='new_gene_cat',\n",
    "            x='value',\n",
    "            hue='variable', \n",
    "            fliersize=0, width=2, linewidth=0.2)"
   ]
  },
  {
   "cell_type": "code",
   "execution_count": null,
   "metadata": {
    "collapsed": false
   },
   "outputs": [],
   "source": [
    "## zoom in on the highest-ranked genes by `sort-by` difference from average \n",
    "## across all cell types\n",
    "g = sns.boxplot(data=theta_ldf.loc[theta_ldf['mean_abs_diff_rank_{}'.format(sort_by)] <= 10,:] \\\n",
    "                .sort_values('mean_diff_rank_{}'.format(sort_by)),\n",
    "            y='new_gene_cat',\n",
    "            x='value',\n",
    "            hue='variable', \n",
    "            fliersize=0, linewidth=0.2)"
   ]
  },
  {
   "cell_type": "markdown",
   "metadata": {},
   "source": [
    "## posterior-predictive checking for selected genes"
   ]
  },
  {
   "cell_type": "code",
   "execution_count": null,
   "metadata": {
    "collapsed": false
   },
   "outputs": [],
   "source": [
    "# get yrep draws\n",
    "yrep_df = models.prep_yrep_summary(model_fit, sample_df=sample_df)"
   ]
  },
  {
   "cell_type": "code",
   "execution_count": null,
   "metadata": {
    "collapsed": true
   },
   "outputs": [],
   "source": [
    "# identify top_genes by name\n",
    "top_genes = theta_ldf.loc[theta_ldf['mean_abs_diff_rank_{}'.format(sort_by)] <= 10,:] \\\n",
    "                .drop_duplicates(subset='new_gene_cat')['new_gene_cat'].values\n",
    "print(top_genes)"
   ]
  },
  {
   "cell_type": "code",
   "execution_count": null,
   "metadata": {
    "collapsed": false
   },
   "outputs": [],
   "source": [
    "# plot estimates & observed values for top 3 genes, by Subset\n",
    "with sns.plotting_context('talk'):\n",
    "    f, axarr = plt.subplots(1, 3, sharey=True)\n",
    "    a=0\n",
    "    for gene_name in top_genes[0:3]:\n",
    "        g = sns.boxplot(data=yrep_df.loc[yrep_df['gene_cat'] == gene_name, :],\n",
    "                        y='SubSet',\n",
    "                        hue='cell_type',\n",
    "                        x='pp_est_counts',\n",
    "                        ax=axarr[a],\n",
    "                        fliersize=0, linewidth=0.2)\n",
    "        sns.swarmplot(data=sample_df.loc[sample_df['gene_cat'] == gene_name, :],\n",
    "                       y='SubSet', ax=axarr[a],\n",
    "                       x='est_counts', color='black')\n",
    "        plt.setp(axarr[a].get_xticklabels(), rotation='vertical')\n",
    "        axarr[a].set_title(gene_name)\n",
    "        a = a+1\n"
   ]
  },
  {
   "cell_type": "markdown",
   "metadata": {
    "collapsed": true
   },
   "source": [
    "## summarize posterior draws for `theta_mu`"
   ]
  },
  {
   "cell_type": "code",
   "execution_count": null,
   "metadata": {
    "collapsed": true
   },
   "outputs": [],
   "source": [
    "mu_ldf = models.prep_theta_mu_summary(stan_fit=model_fit, stan_data=stan_data, par='theta_mu')"
   ]
  },
  {
   "cell_type": "code",
   "execution_count": null,
   "metadata": {
    "collapsed": true
   },
   "outputs": [],
   "source": [
    "sns.boxplot(data=mu_ldf, x='variable', y='value')"
   ]
  },
  {
   "cell_type": "markdown",
   "metadata": {},
   "source": [
    "## summarize posterior draws for `Omega`"
   ]
  },
  {
   "cell_type": "code",
   "execution_count": null,
   "metadata": {
    "collapsed": true
   },
   "outputs": [],
   "source": [
    "omega_summary = models.prep_omega_summary(stan_fit=model_fit, stan_data=stan_data, par='Omega', gene_id=by)"
   ]
  },
  {
   "cell_type": "code",
   "execution_count": null,
   "metadata": {
    "collapsed": true
   },
   "outputs": [],
   "source": [
    "with sns.plotting_context('paper'):\n",
    "    sns.heatmap(omega_summary.loc[:, list(stan_data['x'].columns)])"
   ]
  }
 ],
 "metadata": {
  "kernelspec": {
   "display_name": "immune-infiltrate (python3)",
   "language": "python",
   "name": "immune_infiltrate"
  },
  "language_info": {
   "codemirror_mode": {
    "name": "ipython",
    "version": 3
   },
   "file_extension": ".py",
   "mimetype": "text/x-python",
   "name": "python",
   "nbconvert_exporter": "python",
   "pygments_lexer": "ipython3",
   "version": "3.5.2"
  },
  "nav_menu": {},
  "toc": {
   "navigate_menu": true,
   "number_sections": true,
   "sideBar": true,
   "threshold": 6,
   "toc_cell": false,
   "toc_section_display": "block",
   "toc_window_display": false
  }
 },
 "nbformat": 4,
 "nbformat_minor": 0
}
