{
 "cells": [
  {
   "cell_type": "code",
   "execution_count": 1,
   "metadata": {
    "collapsed": false
   },
   "outputs": [
    {
     "name": "stderr",
     "output_type": "stream",
     "text": [
      "/home/jacquelineburos/miniconda3/envs/immuneinf/lib/python3.5/site-packages/Cython/Distutils/old_build_ext.py:30: UserWarning: Cython.Distutils.old_build_ext does not properly handle dependencies and is deprecated.\n",
      "  \"Cython.Distutils.old_build_ext does not properly handle dependencies \"\n",
      "INFO:stancache.seed:Setting seed to 1245502385\n",
      "INFO:root:Setting CACHE_DIR = /mnt/modelcache/immune-infiltrate-explorations\n",
      "INFO:stancache.seed:Setting seed to 1245502385\n"
     ]
    }
   ],
   "source": [
    "import data\n",
    "import models\n",
    "import cache\n",
    "import pandas as pd\n",
    "import seaborn as sns"
   ]
  },
  {
   "cell_type": "code",
   "execution_count": 2,
   "metadata": {
    "collapsed": false
   },
   "outputs": [],
   "source": [
    "model_name = 'model6.2'\n",
    "by = 'SubSet'\n",
    "sample_n = 500 ## number genes\n",
    "test_sample_n = 1 ## number out of sample samples\n",
    "train_sample_n = None"
   ]
  },
  {
   "cell_type": "code",
   "execution_count": 3,
   "metadata": {
    "collapsed": false
   },
   "outputs": [
    {
     "name": "stderr",
     "output_type": "stream",
     "text": [
      "INFO:stancache.stancache:prep_sample_df: cache_filename set to prep_sample_df.cached.sample_n_500.pkl\n",
      "INFO:stancache.stancache:prep_sample_df: Loading result from cache\n",
      "INFO:stancache.stancache:split_sample_df: cache_filename set to split_sample_df.cached.sample_df_65714237990.test_sample_n_1.train_sample_n_82429761595.pkl\n",
      "INFO:stancache.stancache:split_sample_df: Loading result from cache\n"
     ]
    }
   ],
   "source": [
    "sample_df = cache.cached(models.prep_sample_df,\n",
    "                         sample_n=sample_n)\n",
    "\n",
    "(training_df, test_df) = cache.cached(\n",
    "    models.split_sample_df,\n",
    "    sample_df=sample_df,\n",
    "    test_sample_n=test_sample_n,\n",
    "    train_sample_n=train_sample_n)"
   ]
  },
  {
   "cell_type": "code",
   "execution_count": 4,
   "metadata": {
    "collapsed": false
   },
   "outputs": [],
   "source": [
    "model_file = models.get_model_file(model_name=model_name)\n",
    "#print(cache._read_file(model_file))"
   ]
  },
  {
   "cell_type": "code",
   "execution_count": 5,
   "metadata": {
    "collapsed": true
   },
   "outputs": [],
   "source": [
    "stan_data = models.prep_stan_data(sample_df=training_df, test_df=test_df, by=by)"
   ]
  },
  {
   "cell_type": "code",
   "execution_count": null,
   "metadata": {
    "collapsed": false
   },
   "outputs": [
    {
     "name": "stderr",
     "output_type": "stream",
     "text": [
      "INFO:stancache.stancache:Step 1: Get compiled model code, possibly from cache\n",
      "INFO:stancache.stancache:StanModel: cache_filename set to model6_2.cython_0_25_1.model_code_15105066910483198602.pystan_2_12_0_0.stanmodel.pkl\n",
      "INFO:stancache.stancache:StanModel: Loading result from cache\n",
      "INFO:stancache.stancache:Step 2: Get posterior draws from model, possibly from cache\n",
      "INFO:stancache.stancache:sampling: cache_filename set to model6_2.cython_0_25_1.model_code_15105066910483198602.pystan_2_12_0_0.stanfit.chains_4.data_85710450591.iter_50000.seed_1245502385.pkl\n",
      "INFO:stancache.stancache:sampling: Starting execution\n"
     ]
    }
   ],
   "source": [
    "model_fit = models.cached_stan_fit(file=model_file,\n",
    "                                   data=stan_data,\n",
    "                                   model_name=model_name,\n",
    "                                   iter=50000)"
   ]
  },
  {
   "cell_type": "code",
   "execution_count": null,
   "metadata": {
    "collapsed": false
   },
   "outputs": [],
   "source": [
    "models.print_stan_summary(model_fit, pars='lp__')"
   ]
  },
  {
   "cell_type": "code",
   "execution_count": null,
   "metadata": {
    "collapsed": false
   },
   "outputs": [],
   "source": [
    "models.print_stan_summary(model_fit, pars='sample2_x')"
   ]
  },
  {
   "cell_type": "code",
   "execution_count": null,
   "metadata": {
    "collapsed": false
   },
   "outputs": [],
   "source": [
    "colnames = list(stan_data['x'].columns)\n",
    "colnames"
   ]
  },
  {
   "cell_type": "code",
   "execution_count": null,
   "metadata": {
    "collapsed": true
   },
   "outputs": [],
   "source": [
    "inferred_type = models.extract_theta_summary(colnames=colnames, par='sample2_x', stan_fit=model_fit)"
   ]
  },
  {
   "cell_type": "code",
   "execution_count": null,
   "metadata": {
    "collapsed": false
   },
   "outputs": [],
   "source": [
    "df = pd.melt(inferred_type, id_vars='iter', value_name='estimate', var_name='SubSet')"
   ]
  },
  {
   "cell_type": "code",
   "execution_count": null,
   "metadata": {
    "collapsed": false
   },
   "outputs": [],
   "source": [
    "sns.boxplot(data=df, y='SubSet', x='estimate')"
   ]
  },
  {
   "cell_type": "code",
   "execution_count": null,
   "metadata": {
    "collapsed": false
   },
   "outputs": [],
   "source": [
    "test_df['SubSet'].unique()"
   ]
  }
 ],
 "metadata": {
  "kernelspec": {
   "display_name": "immune3",
   "language": "python",
   "name": "immune3"
  },
  "language_info": {
   "codemirror_mode": {
    "name": "ipython",
    "version": 3
   },
   "file_extension": ".py",
   "mimetype": "text/x-python",
   "name": "python",
   "nbconvert_exporter": "python",
   "pygments_lexer": "ipython3",
   "version": "3.5.2"
  }
 },
 "nbformat": 4,
 "nbformat_minor": 1
}
