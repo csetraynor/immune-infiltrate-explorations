{
 "cells": [
  {
   "cell_type": "code",
   "execution_count": 1,
   "metadata": {
    "collapsed": false
   },
   "outputs": [],
   "source": [
    "import data\n",
    "import seaborn as sns\n",
    "import numpy as np\n",
    "import pandas as pd\n",
    "%matplotlib inline"
   ]
  },
  {
   "cell_type": "markdown",
   "metadata": {},
   "source": [
    "## load files for all cell types"
   ]
  },
  {
   "cell_type": "code",
   "execution_count": 2,
   "metadata": {
    "collapsed": false
   },
   "outputs": [
    {
     "name": "stdout",
     "output_type": "stream",
     "text": [
      "['CD4_Th2', 'CD8_Effector', 'B_CD5', 'B_Memory', 'CD4_Th1', 'CD4_Naive', 'B_Naive', 'CD4_Effector_Memory', 'CD8_Central_Memory', 'CD4_Central_Memory', 'CD4_Treg', 'CD8_Naive', 'CD4_Th17']\n"
     ]
    }
   ],
   "source": [
    "# list types of cells\n",
    "subsets = data.prep_filename_metadata()\n",
    "subsets['SubSet'].unique()\n",
    "all_types = list(subsets['SubSet'].unique())\n",
    "print(all_types)"
   ]
  },
  {
   "cell_type": "code",
   "execution_count": 3,
   "metadata": {
    "collapsed": true
   },
   "outputs": [],
   "source": [
    "df = data.load_by_cell_type(all_types, metadata=subsets)"
   ]
  },
  {
   "cell_type": "code",
   "execution_count": 4,
   "metadata": {
    "collapsed": false
   },
   "outputs": [],
   "source": [
    "df = data.prep_annotated_data(df)"
   ]
  },
  {
   "cell_type": "code",
   "execution_count": 5,
   "metadata": {
    "collapsed": false
   },
   "outputs": [],
   "source": [
    "assert all(pd.notnull(df['log1p_tpm_rescaled']))"
   ]
  },
  {
   "cell_type": "code",
   "execution_count": 6,
   "metadata": {
    "collapsed": false
   },
   "outputs": [
    {
     "data": {
      "text/html": [
       "<div>\n",
       "<table border=\"1\" class=\"dataframe\">\n",
       "  <thead>\n",
       "    <tr style=\"text-align: right;\">\n",
       "      <th></th>\n",
       "      <th>sample_id</th>\n",
       "      <th>filename</th>\n",
       "      <th>gene_name</th>\n",
       "      <th>est_counts</th>\n",
       "      <th>tpm</th>\n",
       "      <th>log1p_tpm</th>\n",
       "      <th>log1p_counts</th>\n",
       "      <th>CCR6</th>\n",
       "      <th>CCR7</th>\n",
       "      <th>CD127</th>\n",
       "      <th>...</th>\n",
       "      <th>CD45RO</th>\n",
       "      <th>CD5</th>\n",
       "      <th>CD8</th>\n",
       "      <th>CRTH2</th>\n",
       "      <th>CXCR3</th>\n",
       "      <th>SubSet</th>\n",
       "      <th>cell_type</th>\n",
       "      <th>log1p_tpm_rescaled_type</th>\n",
       "      <th>log1p_tpm_rescaled_subset</th>\n",
       "      <th>log1p_tpm_rescaled</th>\n",
       "    </tr>\n",
       "  </thead>\n",
       "  <tbody>\n",
       "    <tr>\n",
       "      <th>0</th>\n",
       "      <td>1</td>\n",
       "      <td>ERR431566</td>\n",
       "      <td>A1BG</td>\n",
       "      <td>56.743290</td>\n",
       "      <td>6.931783</td>\n",
       "      <td>2.070878</td>\n",
       "      <td>4.056007</td>\n",
       "      <td>None</td>\n",
       "      <td>None</td>\n",
       "      <td>None</td>\n",
       "      <td>...</td>\n",
       "      <td>None</td>\n",
       "      <td>None</td>\n",
       "      <td>None</td>\n",
       "      <td>+</td>\n",
       "      <td>-</td>\n",
       "      <td>CD4_Th2</td>\n",
       "      <td>CD4</td>\n",
       "      <td>-5.599303</td>\n",
       "      <td>-3.517738</td>\n",
       "      <td>-5.478180</td>\n",
       "    </tr>\n",
       "    <tr>\n",
       "      <th>1</th>\n",
       "      <td>1</td>\n",
       "      <td>ERR431566</td>\n",
       "      <td>A1CF</td>\n",
       "      <td>5.194920</td>\n",
       "      <td>0.111335</td>\n",
       "      <td>0.105562</td>\n",
       "      <td>1.823730</td>\n",
       "      <td>None</td>\n",
       "      <td>None</td>\n",
       "      <td>None</td>\n",
       "      <td>...</td>\n",
       "      <td>None</td>\n",
       "      <td>None</td>\n",
       "      <td>None</td>\n",
       "      <td>+</td>\n",
       "      <td>-</td>\n",
       "      <td>CD4_Th2</td>\n",
       "      <td>CD4</td>\n",
       "      <td>-1.164584</td>\n",
       "      <td>-1.529020</td>\n",
       "      <td>-0.735391</td>\n",
       "    </tr>\n",
       "    <tr>\n",
       "      <th>2</th>\n",
       "      <td>1</td>\n",
       "      <td>ERR431566</td>\n",
       "      <td>A2M</td>\n",
       "      <td>10.000009</td>\n",
       "      <td>3.877857</td>\n",
       "      <td>1.584706</td>\n",
       "      <td>2.397896</td>\n",
       "      <td>None</td>\n",
       "      <td>None</td>\n",
       "      <td>None</td>\n",
       "      <td>...</td>\n",
       "      <td>None</td>\n",
       "      <td>None</td>\n",
       "      <td>None</td>\n",
       "      <td>+</td>\n",
       "      <td>-</td>\n",
       "      <td>CD4_Th2</td>\n",
       "      <td>CD4</td>\n",
       "      <td>1.338389</td>\n",
       "      <td>-0.920287</td>\n",
       "      <td>1.188265</td>\n",
       "    </tr>\n",
       "    <tr>\n",
       "      <th>3</th>\n",
       "      <td>1</td>\n",
       "      <td>ERR431566</td>\n",
       "      <td>A2ML1</td>\n",
       "      <td>9.387660</td>\n",
       "      <td>1.860813</td>\n",
       "      <td>1.051106</td>\n",
       "      <td>2.340619</td>\n",
       "      <td>None</td>\n",
       "      <td>None</td>\n",
       "      <td>None</td>\n",
       "      <td>...</td>\n",
       "      <td>None</td>\n",
       "      <td>None</td>\n",
       "      <td>None</td>\n",
       "      <td>+</td>\n",
       "      <td>-</td>\n",
       "      <td>CD4_Th2</td>\n",
       "      <td>CD4</td>\n",
       "      <td>1.092135</td>\n",
       "      <td>1.947468</td>\n",
       "      <td>0.895292</td>\n",
       "    </tr>\n",
       "    <tr>\n",
       "      <th>4</th>\n",
       "      <td>1</td>\n",
       "      <td>ERR431566</td>\n",
       "      <td>A2MP1</td>\n",
       "      <td>31.000030</td>\n",
       "      <td>3.441394</td>\n",
       "      <td>1.490968</td>\n",
       "      <td>3.465737</td>\n",
       "      <td>None</td>\n",
       "      <td>None</td>\n",
       "      <td>None</td>\n",
       "      <td>...</td>\n",
       "      <td>None</td>\n",
       "      <td>None</td>\n",
       "      <td>None</td>\n",
       "      <td>+</td>\n",
       "      <td>-</td>\n",
       "      <td>CD4_Th2</td>\n",
       "      <td>CD4</td>\n",
       "      <td>1.945796</td>\n",
       "      <td>4.135726</td>\n",
       "      <td>1.532385</td>\n",
       "    </tr>\n",
       "  </tbody>\n",
       "</table>\n",
       "<p>5 rows × 26 columns</p>\n",
       "</div>"
      ],
      "text/plain": [
       "   sample_id   filename gene_name  est_counts       tpm  log1p_tpm  \\\n",
       "0          1  ERR431566      A1BG   56.743290  6.931783   2.070878   \n",
       "1          1  ERR431566      A1CF    5.194920  0.111335   0.105562   \n",
       "2          1  ERR431566       A2M   10.000009  3.877857   1.584706   \n",
       "3          1  ERR431566     A2ML1    9.387660  1.860813   1.051106   \n",
       "4          1  ERR431566     A2MP1   31.000030  3.441394   1.490968   \n",
       "\n",
       "   log1p_counts  CCR6  CCR7 CD127        ...         CD45RO   CD5   CD8 CRTH2  \\\n",
       "0      4.056007  None  None  None        ...           None  None  None     +   \n",
       "1      1.823730  None  None  None        ...           None  None  None     +   \n",
       "2      2.397896  None  None  None        ...           None  None  None     +   \n",
       "3      2.340619  None  None  None        ...           None  None  None     +   \n",
       "4      3.465737  None  None  None        ...           None  None  None     +   \n",
       "\n",
       "  CXCR3   SubSet cell_type log1p_tpm_rescaled_type log1p_tpm_rescaled_subset  \\\n",
       "0     -  CD4_Th2       CD4               -5.599303                 -3.517738   \n",
       "1     -  CD4_Th2       CD4               -1.164584                 -1.529020   \n",
       "2     -  CD4_Th2       CD4                1.338389                 -0.920287   \n",
       "3     -  CD4_Th2       CD4                1.092135                  1.947468   \n",
       "4     -  CD4_Th2       CD4                1.945796                  4.135726   \n",
       "\n",
       "  log1p_tpm_rescaled  \n",
       "0          -5.478180  \n",
       "1          -0.735391  \n",
       "2           1.188265  \n",
       "3           0.895292  \n",
       "4           1.532385  \n",
       "\n",
       "[5 rows x 26 columns]"
      ]
     },
     "execution_count": 6,
     "metadata": {},
     "output_type": "execute_result"
    }
   ],
   "source": [
    "df.head()"
   ]
  },
  {
   "cell_type": "markdown",
   "metadata": {},
   "source": [
    "## sim-data for Naive-B cells"
   ]
  },
  {
   "cell_type": "markdown",
   "metadata": {},
   "source": [
    "For data-simulation, we first need to map each gene_name to a numeric ID. \n"
   ]
  },
  {
   "cell_type": "code",
   "execution_count": 7,
   "metadata": {
    "collapsed": false
   },
   "outputs": [],
   "source": [
    "df['gene_cat'] = df['gene_name'].astype('category')\n",
    "df['gene_id'] = df['gene_cat'].cat.codes+1"
   ]
  },
  {
   "cell_type": "code",
   "execution_count": 8,
   "metadata": {
    "collapsed": false
   },
   "outputs": [
    {
     "data": {
      "text/html": [
       "<div>\n",
       "<table border=\"1\" class=\"dataframe\">\n",
       "  <thead>\n",
       "    <tr style=\"text-align: right;\">\n",
       "      <th></th>\n",
       "      <th>sample_id</th>\n",
       "      <th>filename</th>\n",
       "      <th>gene_name</th>\n",
       "      <th>est_counts</th>\n",
       "      <th>tpm</th>\n",
       "      <th>log1p_tpm</th>\n",
       "      <th>log1p_counts</th>\n",
       "      <th>CCR6</th>\n",
       "      <th>CCR7</th>\n",
       "      <th>CD127</th>\n",
       "      <th>...</th>\n",
       "      <th>CD8</th>\n",
       "      <th>CRTH2</th>\n",
       "      <th>CXCR3</th>\n",
       "      <th>SubSet</th>\n",
       "      <th>cell_type</th>\n",
       "      <th>log1p_tpm_rescaled_type</th>\n",
       "      <th>log1p_tpm_rescaled_subset</th>\n",
       "      <th>log1p_tpm_rescaled</th>\n",
       "      <th>gene_cat</th>\n",
       "      <th>gene_id</th>\n",
       "    </tr>\n",
       "  </thead>\n",
       "  <tbody>\n",
       "    <tr>\n",
       "      <th>0</th>\n",
       "      <td>1</td>\n",
       "      <td>ERR431566</td>\n",
       "      <td>A1BG</td>\n",
       "      <td>56.743290</td>\n",
       "      <td>6.931783</td>\n",
       "      <td>2.070878</td>\n",
       "      <td>4.056007</td>\n",
       "      <td>None</td>\n",
       "      <td>None</td>\n",
       "      <td>None</td>\n",
       "      <td>...</td>\n",
       "      <td>None</td>\n",
       "      <td>+</td>\n",
       "      <td>-</td>\n",
       "      <td>CD4_Th2</td>\n",
       "      <td>CD4</td>\n",
       "      <td>-5.599303</td>\n",
       "      <td>-3.517738</td>\n",
       "      <td>-5.478180</td>\n",
       "      <td>A1BG</td>\n",
       "      <td>1</td>\n",
       "    </tr>\n",
       "    <tr>\n",
       "      <th>1</th>\n",
       "      <td>1</td>\n",
       "      <td>ERR431566</td>\n",
       "      <td>A1CF</td>\n",
       "      <td>5.194920</td>\n",
       "      <td>0.111335</td>\n",
       "      <td>0.105562</td>\n",
       "      <td>1.823730</td>\n",
       "      <td>None</td>\n",
       "      <td>None</td>\n",
       "      <td>None</td>\n",
       "      <td>...</td>\n",
       "      <td>None</td>\n",
       "      <td>+</td>\n",
       "      <td>-</td>\n",
       "      <td>CD4_Th2</td>\n",
       "      <td>CD4</td>\n",
       "      <td>-1.164584</td>\n",
       "      <td>-1.529020</td>\n",
       "      <td>-0.735391</td>\n",
       "      <td>A1CF</td>\n",
       "      <td>2</td>\n",
       "    </tr>\n",
       "    <tr>\n",
       "      <th>2</th>\n",
       "      <td>1</td>\n",
       "      <td>ERR431566</td>\n",
       "      <td>A2M</td>\n",
       "      <td>10.000009</td>\n",
       "      <td>3.877857</td>\n",
       "      <td>1.584706</td>\n",
       "      <td>2.397896</td>\n",
       "      <td>None</td>\n",
       "      <td>None</td>\n",
       "      <td>None</td>\n",
       "      <td>...</td>\n",
       "      <td>None</td>\n",
       "      <td>+</td>\n",
       "      <td>-</td>\n",
       "      <td>CD4_Th2</td>\n",
       "      <td>CD4</td>\n",
       "      <td>1.338389</td>\n",
       "      <td>-0.920287</td>\n",
       "      <td>1.188265</td>\n",
       "      <td>A2M</td>\n",
       "      <td>3</td>\n",
       "    </tr>\n",
       "    <tr>\n",
       "      <th>3</th>\n",
       "      <td>1</td>\n",
       "      <td>ERR431566</td>\n",
       "      <td>A2ML1</td>\n",
       "      <td>9.387660</td>\n",
       "      <td>1.860813</td>\n",
       "      <td>1.051106</td>\n",
       "      <td>2.340619</td>\n",
       "      <td>None</td>\n",
       "      <td>None</td>\n",
       "      <td>None</td>\n",
       "      <td>...</td>\n",
       "      <td>None</td>\n",
       "      <td>+</td>\n",
       "      <td>-</td>\n",
       "      <td>CD4_Th2</td>\n",
       "      <td>CD4</td>\n",
       "      <td>1.092135</td>\n",
       "      <td>1.947468</td>\n",
       "      <td>0.895292</td>\n",
       "      <td>A2ML1</td>\n",
       "      <td>4</td>\n",
       "    </tr>\n",
       "    <tr>\n",
       "      <th>4</th>\n",
       "      <td>1</td>\n",
       "      <td>ERR431566</td>\n",
       "      <td>A2MP1</td>\n",
       "      <td>31.000030</td>\n",
       "      <td>3.441394</td>\n",
       "      <td>1.490968</td>\n",
       "      <td>3.465737</td>\n",
       "      <td>None</td>\n",
       "      <td>None</td>\n",
       "      <td>None</td>\n",
       "      <td>...</td>\n",
       "      <td>None</td>\n",
       "      <td>+</td>\n",
       "      <td>-</td>\n",
       "      <td>CD4_Th2</td>\n",
       "      <td>CD4</td>\n",
       "      <td>1.945796</td>\n",
       "      <td>4.135726</td>\n",
       "      <td>1.532385</td>\n",
       "      <td>A2MP1</td>\n",
       "      <td>5</td>\n",
       "    </tr>\n",
       "  </tbody>\n",
       "</table>\n",
       "<p>5 rows × 28 columns</p>\n",
       "</div>"
      ],
      "text/plain": [
       "   sample_id   filename gene_name  est_counts       tpm  log1p_tpm  \\\n",
       "0          1  ERR431566      A1BG   56.743290  6.931783   2.070878   \n",
       "1          1  ERR431566      A1CF    5.194920  0.111335   0.105562   \n",
       "2          1  ERR431566       A2M   10.000009  3.877857   1.584706   \n",
       "3          1  ERR431566     A2ML1    9.387660  1.860813   1.051106   \n",
       "4          1  ERR431566     A2MP1   31.000030  3.441394   1.490968   \n",
       "\n",
       "   log1p_counts  CCR6  CCR7 CD127   ...     CD8 CRTH2 CXCR3   SubSet  \\\n",
       "0      4.056007  None  None  None   ...    None     +     -  CD4_Th2   \n",
       "1      1.823730  None  None  None   ...    None     +     -  CD4_Th2   \n",
       "2      2.397896  None  None  None   ...    None     +     -  CD4_Th2   \n",
       "3      2.340619  None  None  None   ...    None     +     -  CD4_Th2   \n",
       "4      3.465737  None  None  None   ...    None     +     -  CD4_Th2   \n",
       "\n",
       "  cell_type log1p_tpm_rescaled_type log1p_tpm_rescaled_subset  \\\n",
       "0       CD4               -5.599303                 -3.517738   \n",
       "1       CD4               -1.164584                 -1.529020   \n",
       "2       CD4                1.338389                 -0.920287   \n",
       "3       CD4                1.092135                  1.947468   \n",
       "4       CD4                1.945796                  4.135726   \n",
       "\n",
       "  log1p_tpm_rescaled gene_cat gene_id  \n",
       "0          -5.478180     A1BG       1  \n",
       "1          -0.735391     A1CF       2  \n",
       "2           1.188265      A2M       3  \n",
       "3           0.895292    A2ML1       4  \n",
       "4           1.532385    A2MP1       5  \n",
       "\n",
       "[5 rows x 28 columns]"
      ]
     },
     "execution_count": 8,
     "metadata": {},
     "output_type": "execute_result"
    }
   ],
   "source": [
    "df.head()"
   ]
  },
  {
   "cell_type": "markdown",
   "metadata": {},
   "source": [
    "Next, we restrict ourselves to the \"Naive B\" cell subtype"
   ]
  },
  {
   "cell_type": "markdown",
   "metadata": {},
   "source": [
    "And, calculate the (geometric) mean & std for expression for each gene type"
   ]
  },
  {
   "cell_type": "code",
   "execution_count": 9,
   "metadata": {
    "collapsed": false
   },
   "outputs": [],
   "source": [
    "naive_b = df.loc[df['SubSet'] == 'B_Naive',:].copy()\n",
    "naive_b['gmean'] = naive_b.groupby('gene_id')['log1p_tpm'].transform(data.gmean)\n",
    "naive_b['gstd'] = naive_b.groupby('gene_id')['log1p_tpm'].transform(data.gstd)\n",
    "naive_b = naive_b.loc[:,['gene_id', 'gmean', 'gstd']].drop_duplicates()"
   ]
  },
  {
   "cell_type": "code",
   "execution_count": 10,
   "metadata": {
    "collapsed": false
   },
   "outputs": [
    {
     "data": {
      "text/html": [
       "<div>\n",
       "<table border=\"1\" class=\"dataframe\">\n",
       "  <thead>\n",
       "    <tr style=\"text-align: right;\">\n",
       "      <th></th>\n",
       "      <th>gene_id</th>\n",
       "      <th>gmean</th>\n",
       "      <th>gstd</th>\n",
       "    </tr>\n",
       "  </thead>\n",
       "  <tbody>\n",
       "    <tr>\n",
       "      <th>1010128</th>\n",
       "      <td>1</td>\n",
       "      <td>2.700162</td>\n",
       "      <td>0.149558</td>\n",
       "    </tr>\n",
       "    <tr>\n",
       "      <th>1010129</th>\n",
       "      <td>2</td>\n",
       "      <td>0.240400</td>\n",
       "      <td>0.122590</td>\n",
       "    </tr>\n",
       "    <tr>\n",
       "      <th>1010130</th>\n",
       "      <td>3</td>\n",
       "      <td>0.331553</td>\n",
       "      <td>0.334136</td>\n",
       "    </tr>\n",
       "    <tr>\n",
       "      <th>1010131</th>\n",
       "      <td>4</td>\n",
       "      <td>0.877508</td>\n",
       "      <td>0.207555</td>\n",
       "    </tr>\n",
       "    <tr>\n",
       "      <th>1010132</th>\n",
       "      <td>5</td>\n",
       "      <td>0.123627</td>\n",
       "      <td>0.124963</td>\n",
       "    </tr>\n",
       "  </tbody>\n",
       "</table>\n",
       "</div>"
      ],
      "text/plain": [
       "         gene_id     gmean      gstd\n",
       "1010128        1  2.700162  0.149558\n",
       "1010129        2  0.240400  0.122590\n",
       "1010130        3  0.331553  0.334136\n",
       "1010131        4  0.877508  0.207555\n",
       "1010132        5  0.123627  0.124963"
      ]
     },
     "execution_count": 10,
     "metadata": {},
     "output_type": "execute_result"
    }
   ],
   "source": [
    "naive_b.head()"
   ]
  },
  {
   "cell_type": "markdown",
   "metadata": {},
   "source": [
    "Finally, simulate data for each of these genes, assuming `N_cell` cells:"
   ]
  },
  {
   "cell_type": "code",
   "execution_count": 11,
   "metadata": {
    "collapsed": false
   },
   "outputs": [
    {
     "data": {
      "text/html": [
       "<div>\n",
       "<table border=\"1\" class=\"dataframe\">\n",
       "  <thead>\n",
       "    <tr style=\"text-align: right;\">\n",
       "      <th></th>\n",
       "      <th>log1p_tpm</th>\n",
       "    </tr>\n",
       "  </thead>\n",
       "  <tbody>\n",
       "    <tr>\n",
       "      <th>0</th>\n",
       "      <td>2.687261</td>\n",
       "    </tr>\n",
       "  </tbody>\n",
       "</table>\n",
       "</div>"
      ],
      "text/plain": [
       "   log1p_tpm\n",
       "0   2.687261"
      ]
     },
     "execution_count": 11,
     "metadata": {},
     "output_type": "execute_result"
    }
   ],
   "source": [
    "def sim_data(row, n_cell=1):\n",
    "    if (row['gstd'] == 0).all():\n",
    "        log1p_tpm = np.repeat(0, n_cell)\n",
    "    else:\n",
    "        log1p_tpm = np.log1p(np.random.normal(loc=np.expm1(row['gmean']),\n",
    "                                              scale=np.expm1(row['gstd']),\n",
    "                                              size=n_cell))\n",
    "    return pd.DataFrame({'log1p_tpm': log1p_tpm})\n",
    "\n",
    "sim_data(naive_b.iloc[0,:])"
   ]
  },
  {
   "cell_type": "code",
   "execution_count": 12,
   "metadata": {
    "collapsed": false
   },
   "outputs": [],
   "source": [
    "simd = naive_b.groupby('gene_id').apply(sim_data, n_cell=5)"
   ]
  },
  {
   "cell_type": "code",
   "execution_count": 13,
   "metadata": {
    "collapsed": false
   },
   "outputs": [],
   "source": [
    "simd.reset_index(inplace=True)"
   ]
  },
  {
   "cell_type": "code",
   "execution_count": 14,
   "metadata": {
    "collapsed": false
   },
   "outputs": [
    {
     "data": {
      "text/plain": [
       "<matplotlib.axes._subplots.AxesSubplot at 0x7f733c7d9390>"
      ]
     },
     "execution_count": 14,
     "metadata": {},
     "output_type": "execute_result"
    },
    {
     "data": {
      "image/png": "[encoded data removed]",
      "text/plain": [
       "<matplotlib.figure.Figure at 0x7f733c7d9050>"
      ]
     },
     "metadata": {},
     "output_type": "display_data"
    }
   ],
   "source": [
    "sns.distplot(simd['log1p_tpm'], hist=False)"
   ]
  },
  {
   "cell_type": "markdown",
   "metadata": {},
   "source": [
    "## sim data for all cell types"
   ]
  },
  {
   "cell_type": "code",
   "execution_count": 15,
   "metadata": {
    "collapsed": true
   },
   "outputs": [],
   "source": [
    "df['gmean'] = df.groupby(['SubSet','gene_id'])['log1p_tpm'].transform(data.gmean)\n",
    "df['gstd'] = df.groupby(['SubSet','gene_id'])['log1p_tpm'].transform(data.gstd)\n",
    "df_subset = df.loc[:,['SubSet','gene_id', 'gmean', 'gstd']].drop_duplicates()"
   ]
  },
  {
   "cell_type": "code",
   "execution_count": 16,
   "metadata": {
    "collapsed": true
   },
   "outputs": [],
   "source": [
    "simd_subset = df_subset.groupby(['SubSet','gene_id']).apply(sim_data, n_cell=5)"
   ]
  },
  {
   "cell_type": "code",
   "execution_count": 17,
   "metadata": {
    "collapsed": false
   },
   "outputs": [
    {
     "data": {
      "text/html": [
       "<div>\n",
       "<table border=\"1\" class=\"dataframe\">\n",
       "  <thead>\n",
       "    <tr style=\"text-align: right;\">\n",
       "      <th></th>\n",
       "      <th>SubSet</th>\n",
       "      <th>gene_id</th>\n",
       "      <th>level_2</th>\n",
       "      <th>log1p_tpm</th>\n",
       "    </tr>\n",
       "  </thead>\n",
       "  <tbody>\n",
       "    <tr>\n",
       "      <th>0</th>\n",
       "      <td>B_CD5</td>\n",
       "      <td>1</td>\n",
       "      <td>0</td>\n",
       "      <td>2.724002</td>\n",
       "    </tr>\n",
       "    <tr>\n",
       "      <th>1</th>\n",
       "      <td>B_CD5</td>\n",
       "      <td>1</td>\n",
       "      <td>1</td>\n",
       "      <td>2.718236</td>\n",
       "    </tr>\n",
       "    <tr>\n",
       "      <th>2</th>\n",
       "      <td>B_CD5</td>\n",
       "      <td>1</td>\n",
       "      <td>2</td>\n",
       "      <td>2.722659</td>\n",
       "    </tr>\n",
       "    <tr>\n",
       "      <th>3</th>\n",
       "      <td>B_CD5</td>\n",
       "      <td>1</td>\n",
       "      <td>3</td>\n",
       "      <td>2.710996</td>\n",
       "    </tr>\n",
       "    <tr>\n",
       "      <th>4</th>\n",
       "      <td>B_CD5</td>\n",
       "      <td>1</td>\n",
       "      <td>4</td>\n",
       "      <td>2.707579</td>\n",
       "    </tr>\n",
       "  </tbody>\n",
       "</table>\n",
       "</div>"
      ],
      "text/plain": [
       "  SubSet  gene_id  level_2  log1p_tpm\n",
       "0  B_CD5        1        0   2.724002\n",
       "1  B_CD5        1        1   2.718236\n",
       "2  B_CD5        1        2   2.722659\n",
       "3  B_CD5        1        3   2.710996\n",
       "4  B_CD5        1        4   2.707579"
      ]
     },
     "execution_count": 17,
     "metadata": {},
     "output_type": "execute_result"
    }
   ],
   "source": [
    "simd_subset.reset_index(inplace=True)\n",
    "simd_subset.head()"
   ]
  },
  {
   "cell_type": "code",
   "execution_count": 18,
   "metadata": {
    "collapsed": false
   },
   "outputs": [],
   "source": [
    "df['gmean'] = df.groupby(['cell_type','gene_id'])['log1p_tpm'].transform(data.gmean)\n",
    "df['gstd'] = df.groupby(['cell_type','gene_id'])['log1p_tpm'].transform(data.gstd)\n",
    "df_type = df.loc[:,['cell_type','gene_id', 'gmean', 'gstd']].drop_duplicates()"
   ]
  },
  {
   "cell_type": "code",
   "execution_count": 19,
   "metadata": {
    "collapsed": false
   },
   "outputs": [],
   "source": [
    "simd_type = df_type.groupby(['cell_type','gene_id']).apply(sim_data, n_cell=5)\n",
    "simd_type.reset_index(inplace=True)"
   ]
  },
  {
   "cell_type": "code",
   "execution_count": 20,
   "metadata": {
    "collapsed": false
   },
   "outputs": [
    {
     "data": {
      "text/plain": [
       "<seaborn.axisgrid.FacetGrid at 0x7f7352a16ad0>"
      ]
     },
     "execution_count": 20,
     "metadata": {},
     "output_type": "execute_result"
    },
    {
     "data": {
      "image/png": "[encoded data removed]",
      "text/plain": [
       "<matplotlib.figure.Figure at 0x7f7352a16550>"
      ]
     },
     "metadata": {},
     "output_type": "display_data"
    }
   ],
   "source": [
    "g = sns.FacetGrid(data=simd_subset, hue='SubSet')\n",
    "g.map(sns.distplot, 'log1p_tpm', hist=False)"
   ]
  },
  {
   "cell_type": "code",
   "execution_count": 21,
   "metadata": {
    "collapsed": false
   },
   "outputs": [
    {
     "data": {
      "text/plain": [
       "<seaborn.axisgrid.FacetGrid at 0x7f735294a090>"
      ]
     },
     "execution_count": 21,
     "metadata": {},
     "output_type": "execute_result"
    },
    {
     "data": {
      "image/png": "[encoded data removed]",
      "text/plain": [
       "<matplotlib.figure.Figure at 0x7f735296b710>"
      ]
     },
     "metadata": {},
     "output_type": "display_data"
    }
   ],
   "source": [
    "g = sns.FacetGrid(data=simd_type, hue='cell_type')\n",
    "g.map(sns.distplot, 'log1p_tpm', hist=False)"
   ]
  },
  {
   "cell_type": "code",
   "execution_count": null,
   "metadata": {
    "collapsed": true
   },
   "outputs": [],
   "source": []
  }
 ],
 "metadata": {
  "kernelspec": {
   "display_name": "python2",
   "language": "python",
   "name": "python2"
  },
  "language_info": {
   "codemirror_mode": {
    "name": "ipython",
    "version": 2
   },
   "file_extension": ".py",
   "mimetype": "text/x-python",
   "name": "python",
   "nbconvert_exporter": "python",
   "pygments_lexer": "ipython2",
   "version": "2.7.12"
  },
  "nav_menu": {},
  "toc": {
   "navigate_menu": true,
   "number_sections": true,
   "sideBar": true,
   "threshold": 6,
   "toc_cell": false,
   "toc_section_display": "block",
   "toc_window_display": false
  }
 },
 "nbformat": 4,
 "nbformat_minor": 0
}
