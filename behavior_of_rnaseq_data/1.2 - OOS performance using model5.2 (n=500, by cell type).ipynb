{
 "cells": [
  {
   "cell_type": "code",
   "execution_count": 26,
   "metadata": {
    "collapsed": false
   },
   "outputs": [],
   "source": [
    "import data\n",
    "import models\n",
    "import cache\n",
    "import seaborn as sns"
   ]
  },
  {
   "cell_type": "code",
   "execution_count": 27,
   "metadata": {
    "collapsed": false
   },
   "outputs": [],
   "source": [
    "model_name = 'model5.2'\n",
    "by = 'cell_type'\n",
    "sample_n = 500"
   ]
  },
  {
   "cell_type": "code",
   "execution_count": 28,
   "metadata": {
    "collapsed": false
   },
   "outputs": [
    {
     "name": "stderr",
     "output_type": "stream",
     "text": [
      "INFO:cache:prep_sample_df: cache_filename set to prep_sample_df.cached.sample_n_500.pkl\n",
      "INFO:cache:prep_sample_df: Loading result from cache\n"
     ]
    }
   ],
   "source": [
    "sample_df = cache.cached(models.prep_sample_df, sample_n=sample_n)\n",
    "(training_df, test_df) = models.split_sample_df(sample_df=sample_df, test_sample_n=1)"
   ]
  },
  {
   "cell_type": "code",
   "execution_count": 29,
   "metadata": {
    "collapsed": false
   },
   "outputs": [],
   "source": [
    "model_file = models.get_model_file(model_name=model_name)\n",
    "#print(cache._read_file(model_file))"
   ]
  },
  {
   "cell_type": "code",
   "execution_count": 30,
   "metadata": {
    "collapsed": true
   },
   "outputs": [],
   "source": [
    "stan_data = models.prep_stan_data(sample_df=training_df, test_df=test_df, by=by)"
   ]
  },
  {
   "cell_type": "code",
   "execution_count": null,
   "metadata": {
    "collapsed": false
   },
   "outputs": [
    {
     "name": "stderr",
     "output_type": "stream",
     "text": [
      "INFO:cache:Step 1: Get compiled model code, possibly from cache\n",
      "INFO:cache:StanModel: cache_filename set to model5_2.cython_0_25_1.model_code_75614578792.pystan_2_12_0_0.stanmodel.pkl\n",
      "INFO:cache:StanModel: Loading result from cache\n",
      "INFO:cache:Step 2: Get posterior draws from model, possibly from cache\n",
      "INFO:cache:sampling: cache_filename set to model5_2.cython_0_25_1.model_code_75614578792.pystan_2_12_0_0.stanfit.chains_4.data_81241328298.iter_2000.seed_1245502385.pkl\n",
      "INFO:cache:sampling: Starting execution\n"
     ]
    }
   ],
   "source": [
    "model_fit = models.cached_stan_fit(file=model_file, data=stan_data, model_name=model_name)"
   ]
  },
  {
   "cell_type": "code",
   "execution_count": null,
   "metadata": {
    "collapsed": true
   },
   "outputs": [],
   "source": []
  }
 ],
 "metadata": {
  "kernelspec": {
   "display_name": "immune-infiltrate (python3)",
   "language": "python",
   "name": "immune_infiltrate"
  },
  "language_info": {
   "codemirror_mode": {
    "name": "ipython",
    "version": 3
   },
   "file_extension": ".py",
   "mimetype": "text/x-python",
   "name": "python",
   "nbconvert_exporter": "python",
   "pygments_lexer": "ipython3",
   "version": "3.5.2"
  }
 },
 "nbformat": 4,
 "nbformat_minor": 1
}
