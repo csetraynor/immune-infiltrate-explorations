{
 "cells": [
  {
   "cell_type": "code",
   "execution_count": 1,
   "metadata": {
    "collapsed": true
   },
   "outputs": [],
   "source": [
    "# %load ~/ipyhead\n",
    "import numpy as np\n",
    "import matplotlib.pyplot as plt\n",
    "import pandas as pd\n",
    "%matplotlib inline\n",
    "import seaborn as sns"
   ]
  },
  {
   "cell_type": "code",
   "execution_count": 3,
   "metadata": {
    "collapsed": false
   },
   "outputs": [
    {
     "name": "stdout",
     "output_type": "stream",
     "text": [
      "Collecting pyaffy\n",
      "  Downloading pyaffy-0.3.0.tar.gz\n",
      "Requirement already satisfied (use --upgrade to upgrade): numpy in /home/maxim/anaconda2/lib/python2.7/site-packages (from pyaffy)\n",
      "Requirement already satisfied (use --upgrade to upgrade): scipy in /home/maxim/anaconda2/lib/python2.7/site-packages (from pyaffy)\n",
      "Requirement already satisfied (use --upgrade to upgrade): cython in /home/maxim/anaconda2/lib/python2.7/site-packages (from pyaffy)\n",
      "Requirement already satisfied (use --upgrade to upgrade): python-dateutil in /home/maxim/anaconda2/lib/python2.7/site-packages (from pyaffy)\n",
      "Collecting genometools (from pyaffy)\n",
      "  Downloading genometools-1.2.2.tar.gz (55kB)\n",
      "\u001b[K    100% |████████████████████████████████| 61kB 3.6MB/s \n",
      "\u001b[?25hRequirement already satisfied (use --upgrade to upgrade): six>=1.5 in /home/maxim/anaconda2/lib/python2.7/site-packages (from python-dateutil->pyaffy)\n",
      "Requirement already satisfied (use --upgrade to upgrade): unicodecsv in /home/maxim/anaconda2/lib/python2.7/site-packages (from genometools->pyaffy)\n",
      "Collecting xmltodict (from genometools->pyaffy)\n",
      "  Downloading xmltodict-0.10.2.tar.gz\n",
      "Requirement already satisfied (use --upgrade to upgrade): requests in /home/maxim/anaconda2/lib/python2.7/site-packages (from genometools->pyaffy)\n",
      "Building wheels for collected packages: pyaffy, genometools, xmltodict\n",
      "  Running setup.py bdist_wheel for pyaffy ... \u001b[?25l-\b \b\\\b \b|\b \b/\b \b-\b \b\\\b \b|\b \b/\b \b-\b \b\\\b \b|\b \bdone\n",
      "\u001b[?25h  Stored in directory: /home/maxim/.cache/pip/wheels/18/50/51/e7c99f368732e4364f93f095cd2020be528ec6e94ebe563164\n",
      "  Running setup.py bdist_wheel for genometools ... \u001b[?25l-\b \bdone\n",
      "\u001b[?25h  Stored in directory: /home/maxim/.cache/pip/wheels/7a/e1/19/45db15c79f8e295c6a1e50195e18f3c4ae7f44b8c8ac6bf82e\n",
      "  Running setup.py bdist_wheel for xmltodict ... \u001b[?25l-\b \bdone\n",
      "\u001b[?25h  Stored in directory: /home/maxim/.cache/pip/wheels/2a/dc/70/da8958d7089d994c8614bc38210f64855f09615e85707bf615\n",
      "Successfully built pyaffy genometools xmltodict\n",
      "Installing collected packages: xmltodict, genometools, pyaffy\n",
      "Successfully installed genometools-1.2.2 pyaffy-0.3.0 xmltodict-0.10.2\n",
      "\u001b[33mYou are using pip version 8.1.1, however version 8.1.2 is available.\n",
      "You should consider upgrading via the 'pip install --upgrade pip' command.\u001b[0m\n"
     ]
    }
   ],
   "source": [
    "!pip install pyaffy"
   ]
  },
  {
   "cell_type": "markdown",
   "metadata": {},
   "source": [
    "RMA implemented in: https://github.com/flo-compbio/pyaffy/blob/master/pyaffy/process.py\n",
    "\n",
    "A demo: https://github.com/flo-compbio/pyaffy-demos/blob/master/minimal/01%20-%20Downloading%20the%20data%20and%20running%20pyAffy.ipynb"
   ]
  },
  {
   "cell_type": "code",
   "execution_count": 2,
   "metadata": {
    "collapsed": false
   },
   "outputs": [],
   "source": [
    "import os\n",
    "\n",
    "# data_dir: the directory in which downloaded data will be stored\n",
    "data_dir = './test/data/'\n",
    "# output_dir: the directory in which generated data will be stored\n",
    "output_dir = './test/output/'\n",
    "\n",
    "if not os.path.isdir(data_dir):\n",
    "    os.mkdir(data_dir)\n",
    "if not os.path.isdir(output_dir):\n",
    "    os.mkdir(output_dir)"
   ]
  },
  {
   "cell_type": "code",
   "execution_count": 3,
   "metadata": {
    "collapsed": false
   },
   "outputs": [
    {
     "name": "stdout",
     "output_type": "stream",
     "text": [
      "  % Total    % Received % Xferd  Average Speed   Time    Time     Time  Current\n",
      "                                 Dload  Upload   Total   Spent    Left  Speed\n",
      "  0     0    0     0    0     0      0      0 --:--:-- --:--:-- --:--:--     0\n",
      "100 48.3M  100 48.3M    0     0  36.7M      0  0:00:01  0:00:01 --:--:--  148M\n",
      "  % Total    % Received % Xferd  Average Speed   Time    Time     Time  Current\n",
      "                                 Dload  Upload   Total   Spent    Left  Speed\n",
      "  0     0    0     0    0     0      0      0 --:--:-- --:--:-- --:--:--     0\n",
      "100 5033k  100 5033k    0     0  3123k      0  0:00:01  0:00:01 --:--:-- 40.2M\n",
      "  % Total    % Received % Xferd  Average Speed   Time    Time     Time  Current\n",
      "                                 Dload  Upload   Total   Spent    Left  Speed\n",
      "  0     0    0     0    0     0      0      0 --:--:-- --:--:-- --:--:--     0\n",
      "100 4903k  100 4903k    0     0  3992k      0  0:00:01  0:00:01 --:--:-- 42.3M\n"
     ]
    }
   ],
   "source": [
    "# Download CDF (annotation) file and CEL (data) files\n",
    "dropbox_folder_url = 'https://www.dropbox.com/sh/z8zafx9oogodky1/'\n",
    "    \n",
    "cdf_url = dropbox_folder_url + 'AACcuI150VSFWl4ji4_opG7Ba/HGU133Plus2_Hs_20_ENTREZG.cdf?dl=1'\n",
    "cdf_file = data_dir + 'HGU133Plus2_Hs_20_ENTREZG.cdf'\n",
    "!/usr/bin/curl -L -o \"$cdf_file\" \"$cdf_url\"\n",
    "\n",
    "cel_url1 = dropbox_folder_url + 'AADBnMN8wFR-nao1Ze695Cmaa/AFX_2_A1.CEL.gz?dl=1'\n",
    "cel_file1 = data_dir + 'AFX_2_A1.CEL.gz'\n",
    "!/usr/bin/curl -L -o \"$cel_file1\" \"$cel_url1\"\n",
    "\n",
    "cel_url2 = dropbox_folder_url + 'AADbbAoedfLqSvsgWnJZufLHa/AFX_2_A2.CEL.gz?dl=1'\n",
    "cel_file2 = data_dir + 'AFX_2_A2.CEL.gz'\n",
    "!/usr/bin/curl -L -o \"$cel_file2\" \"$cel_url2\"\n",
    "\n",
    "# note that the curl that ships with anaconda is broken"
   ]
  },
  {
   "cell_type": "code",
   "execution_count": 8,
   "metadata": {
    "collapsed": false
   },
   "outputs": [
    {
     "name": "stdout",
     "output_type": "stream",
     "text": [
      "/home/maxim/anaconda2/bin/curl\r\n"
     ]
    }
   ],
   "source": [
    "!which curl"
   ]
  },
  {
   "cell_type": "code",
   "execution_count": 10,
   "metadata": {
    "collapsed": false
   },
   "outputs": [
    {
     "ename": "ImportError",
     "evalue": "No module named configparser",
     "output_type": "error",
     "traceback": [
      "\u001b[1;31m---------------------------------------------------------------------------\u001b[0m",
      "\u001b[1;31mImportError\u001b[0m                               Traceback (most recent call last)",
      "\u001b[1;32m<ipython-input-10-88020abe5a90>\u001b[0m in \u001b[0;36m<module>\u001b[1;34m()\u001b[0m\n\u001b[0;32m      1\u001b[0m \u001b[1;32mfrom\u001b[0m \u001b[0mcollections\u001b[0m \u001b[1;32mimport\u001b[0m \u001b[0mOrderedDict\u001b[0m\u001b[1;33m\u001b[0m\u001b[0m\n\u001b[0;32m      2\u001b[0m \u001b[1;32mfrom\u001b[0m \u001b[0mgenometools\u001b[0m \u001b[1;32mimport\u001b[0m \u001b[0mmisc\u001b[0m\u001b[1;33m\u001b[0m\u001b[0m\n\u001b[1;32m----> 3\u001b[1;33m \u001b[1;32mfrom\u001b[0m \u001b[0mpyaffy\u001b[0m \u001b[1;32mimport\u001b[0m \u001b[0mrma\u001b[0m\u001b[1;33m\u001b[0m\u001b[0m\n\u001b[0m\u001b[0;32m      4\u001b[0m \u001b[1;33m\u001b[0m\u001b[0m\n\u001b[0;32m      5\u001b[0m \u001b[0mmisc\u001b[0m\u001b[1;33m.\u001b[0m\u001b[0mget_logger\u001b[0m\u001b[1;33m(\u001b[0m\u001b[0mverbose\u001b[0m \u001b[1;33m=\u001b[0m \u001b[0mFalse\u001b[0m\u001b[1;33m)\u001b[0m\u001b[1;33m\u001b[0m\u001b[0m\n",
      "\u001b[1;32m/home/maxim/anaconda2/lib/python2.7/site-packages/pyaffy/__init__.py\u001b[0m in \u001b[0;36m<module>\u001b[1;34m()\u001b[0m\n\u001b[0;32m     17\u001b[0m \u001b[1;32mimport\u001b[0m \u001b[0mpkg_resources\u001b[0m\u001b[1;33m\u001b[0m\u001b[0m\n\u001b[0;32m     18\u001b[0m \u001b[1;33m\u001b[0m\u001b[0m\n\u001b[1;32m---> 19\u001b[1;33m \u001b[1;32mfrom\u001b[0m \u001b[1;33m.\u001b[0m\u001b[0mprocess\u001b[0m \u001b[1;32mimport\u001b[0m \u001b[0mrma\u001b[0m\u001b[1;33m\u001b[0m\u001b[0m\n\u001b[0m\u001b[0;32m     20\u001b[0m \u001b[1;33m\u001b[0m\u001b[0m\n\u001b[0;32m     21\u001b[0m \u001b[0m__version__\u001b[0m \u001b[1;33m=\u001b[0m \u001b[0mpkg_resources\u001b[0m\u001b[1;33m.\u001b[0m\u001b[0mrequire\u001b[0m\u001b[1;33m(\u001b[0m\u001b[1;34m'pyaffy'\u001b[0m\u001b[1;33m)\u001b[0m\u001b[1;33m[\u001b[0m\u001b[1;36m0\u001b[0m\u001b[1;33m]\u001b[0m\u001b[1;33m.\u001b[0m\u001b[0mversion\u001b[0m\u001b[1;33m\u001b[0m\u001b[0m\n",
      "\u001b[1;32m/home/maxim/anaconda2/lib/python2.7/site-packages/pyaffy/process.py\u001b[0m in \u001b[0;36m<module>\u001b[1;34m()\u001b[0m\n\u001b[0;32m     26\u001b[0m \u001b[1;33m\u001b[0m\u001b[0m\n\u001b[0;32m     27\u001b[0m \u001b[1;32mfrom\u001b[0m \u001b[1;33m.\u001b[0m\u001b[0mcdfparser\u001b[0m \u001b[1;32mimport\u001b[0m \u001b[0mparse_cdf\u001b[0m\u001b[1;33m\u001b[0m\u001b[0m\n\u001b[1;32m---> 28\u001b[1;33m \u001b[1;32mfrom\u001b[0m \u001b[1;33m.\u001b[0m \u001b[1;32mimport\u001b[0m \u001b[0mcelparser\u001b[0m\u001b[1;33m\u001b[0m\u001b[0m\n\u001b[0m\u001b[0;32m     29\u001b[0m \u001b[1;32mfrom\u001b[0m \u001b[1;33m.\u001b[0m\u001b[0mcelparser\u001b[0m \u001b[1;32mimport\u001b[0m \u001b[0mparse_cel\u001b[0m\u001b[1;33m\u001b[0m\u001b[0m\n\u001b[0;32m     30\u001b[0m \u001b[1;32mfrom\u001b[0m \u001b[1;33m.\u001b[0m\u001b[0mmedpolish\u001b[0m \u001b[1;32mimport\u001b[0m \u001b[0mmedpolish\u001b[0m\u001b[1;33m\u001b[0m\u001b[0m\n",
      "\u001b[1;32mpyaffy/celparser.pyx\u001b[0m in \u001b[0;36minit pyaffy.celparser (pyaffy/celparser.c:30633)\u001b[1;34m()\u001b[0m\n",
      "\u001b[1;31mImportError\u001b[0m: No module named configparser"
     ]
    }
   ],
   "source": [
    "from collections import OrderedDict\n",
    "from genometools import misc\n",
    "from pyaffy import rma\n",
    "\n",
    "misc.get_logger(verbose = False)\n",
    "\n",
    "sample_cel_files = OrderedDict([\n",
    "    ('Sample 1', cel_file1),\n",
    "    ('Sample 2', cel_file2)\n",
    "])\n",
    "\n",
    "genes, samples, X = rma(cdf_file, sample_cel_files)\n",
    "print ', '.join(genes[:5])\n",
    "print ', '.join(samples)\n",
    "print X[:10, :]"
   ]
  },
  {
   "cell_type": "code",
   "execution_count": 22,
   "metadata": {
    "collapsed": false
   },
   "outputs": [
    {
     "name": "stdout",
     "output_type": "stream",
     "text": [
      "\u001b[31mCannot uninstall requirement pyaffy, not installed\u001b[0m\n",
      "\u001b[33mYou are using pip version 8.1.1, however version 8.1.2 is available.\n",
      "You should consider upgrading via the 'pip install --upgrade pip' command.\u001b[0m\n",
      "Cloning into 'pyaffy'...\n",
      "remote: Counting objects: 61, done.\u001b[K\n",
      "remote: Total 61 (delta 0), reused 0 (delta 0), pack-reused 61\u001b[K\n",
      "Unpacking objects: 100% (61/61), done.\n",
      "Checking connectivity... done.\n",
      "Obtaining file:///home/maxim/immune-infiltrate-explorations/compare_rnaseq/pyaffy\n",
      "Requirement already satisfied (use --upgrade to upgrade): numpy in /home/maxim/anaconda2/lib/python2.7/site-packages (from pyaffy==0.3.0)\n",
      "Requirement already satisfied (use --upgrade to upgrade): scipy in /home/maxim/anaconda2/lib/python2.7/site-packages (from pyaffy==0.3.0)\n",
      "Requirement already satisfied (use --upgrade to upgrade): cython in /home/maxim/anaconda2/lib/python2.7/site-packages (from pyaffy==0.3.0)\n",
      "Requirement already satisfied (use --upgrade to upgrade): python-dateutil in /home/maxim/anaconda2/lib/python2.7/site-packages (from pyaffy==0.3.0)\n",
      "Requirement already satisfied (use --upgrade to upgrade): genometools in /home/maxim/anaconda2/lib/python2.7/site-packages (from pyaffy==0.3.0)\n",
      "Requirement already satisfied (use --upgrade to upgrade): six>=1.5 in /home/maxim/anaconda2/lib/python2.7/site-packages (from python-dateutil->pyaffy==0.3.0)\n",
      "Requirement already satisfied (use --upgrade to upgrade): xmltodict in /home/maxim/anaconda2/lib/python2.7/site-packages (from genometools->pyaffy==0.3.0)\n",
      "Requirement already satisfied (use --upgrade to upgrade): unicodecsv in /home/maxim/anaconda2/lib/python2.7/site-packages (from genometools->pyaffy==0.3.0)\n",
      "Requirement already satisfied (use --upgrade to upgrade): requests in /home/maxim/anaconda2/lib/python2.7/site-packages (from genometools->pyaffy==0.3.0)\n",
      "Installing collected packages: pyaffy\n",
      "  Running setup.py develop for pyaffy\n",
      "Successfully installed pyaffy-0.3.0\n",
      "\u001b[33mYou are using pip version 8.1.1, however version 8.1.2 is available.\n",
      "You should consider upgrading via the 'pip install --upgrade pip' command.\u001b[0m\n"
     ]
    }
   ],
   "source": [
    "# install my patch to make py2 compatible\n",
    "!pip uninstall -y pyaffy\n",
    "!rm -rf pyaffy/\n",
    "!git clone https://github.com/maximz/pyaffy.git\n",
    "!pip install -e pyaffy/"
   ]
  },
  {
   "cell_type": "code",
   "execution_count": null,
   "metadata": {
    "collapsed": true
   },
   "outputs": [],
   "source": []
  },
  {
   "cell_type": "code",
   "execution_count": 4,
   "metadata": {
    "collapsed": false
   },
   "outputs": [
    {
     "name": "stdout",
     "output_type": "stream",
     "text": [
      "[2016-08-03 18:18:47] INFO: Parsing CDF file.\n",
      "[2016-08-03 18:18:48] INFO: CDF file parsing time: 0.71 s\n",
      "[2016-08-03 18:18:48] INFO: CDF array design name: HG-U133_Plus_2\n",
      "[2016-08-03 18:18:48] INFO: CDF rows / columns: 1164 x 1164\n",
      "[2016-08-03 18:18:48] INFO: Parsing CEL files...\n"
     ]
    },
    {
     "ename": "TypeError",
     "evalue": "__init__() got an unexpected keyword argument 'delimiters'",
     "output_type": "error",
     "traceback": [
      "\u001b[1;31m---------------------------------------------------------------------------\u001b[0m",
      "\u001b[1;31mTypeError\u001b[0m                                 Traceback (most recent call last)",
      "\u001b[1;32m<ipython-input-4-88020abe5a90>\u001b[0m in \u001b[0;36m<module>\u001b[1;34m()\u001b[0m\n\u001b[0;32m     10\u001b[0m ])\n\u001b[0;32m     11\u001b[0m \u001b[1;33m\u001b[0m\u001b[0m\n\u001b[1;32m---> 12\u001b[1;33m \u001b[0mgenes\u001b[0m\u001b[1;33m,\u001b[0m \u001b[0msamples\u001b[0m\u001b[1;33m,\u001b[0m \u001b[0mX\u001b[0m \u001b[1;33m=\u001b[0m \u001b[0mrma\u001b[0m\u001b[1;33m(\u001b[0m\u001b[0mcdf_file\u001b[0m\u001b[1;33m,\u001b[0m \u001b[0msample_cel_files\u001b[0m\u001b[1;33m)\u001b[0m\u001b[1;33m\u001b[0m\u001b[0m\n\u001b[0m\u001b[0;32m     13\u001b[0m \u001b[1;32mprint\u001b[0m \u001b[1;34m', '\u001b[0m\u001b[1;33m.\u001b[0m\u001b[0mjoin\u001b[0m\u001b[1;33m(\u001b[0m\u001b[0mgenes\u001b[0m\u001b[1;33m[\u001b[0m\u001b[1;33m:\u001b[0m\u001b[1;36m5\u001b[0m\u001b[1;33m]\u001b[0m\u001b[1;33m)\u001b[0m\u001b[1;33m\u001b[0m\u001b[0m\n\u001b[0;32m     14\u001b[0m \u001b[1;32mprint\u001b[0m \u001b[1;34m', '\u001b[0m\u001b[1;33m.\u001b[0m\u001b[0mjoin\u001b[0m\u001b[1;33m(\u001b[0m\u001b[0msamples\u001b[0m\u001b[1;33m)\u001b[0m\u001b[1;33m\u001b[0m\u001b[0m\n",
      "\u001b[1;32m/home/maxim/immune-infiltrate-explorations/compare_rnaseq/pyaffy/pyaffy/process.pyc\u001b[0m in \u001b[0;36mrma\u001b[1;34m(cdf_file, sample_cel_files, pm_probes_only, bg_correct, quantile_normalize, medianpolish)\u001b[0m\n\u001b[0;32m    134\u001b[0m         \u001b[0mlogger\u001b[0m\u001b[1;33m.\u001b[0m\u001b[0mdebug\u001b[0m\u001b[1;33m(\u001b[0m\u001b[1;34m'Parsing CEL file for sample \"%s\": %s'\u001b[0m\u001b[1;33m,\u001b[0m \u001b[0msample\u001b[0m\u001b[1;33m,\u001b[0m \u001b[0mcel_file\u001b[0m\u001b[1;33m)\u001b[0m\u001b[1;33m\u001b[0m\u001b[0m\n\u001b[0;32m    135\u001b[0m         \u001b[0msamples\u001b[0m\u001b[1;33m.\u001b[0m\u001b[0mappend\u001b[0m\u001b[1;33m(\u001b[0m\u001b[0msample\u001b[0m\u001b[1;33m)\u001b[0m\u001b[1;33m\u001b[0m\u001b[0m\n\u001b[1;32m--> 136\u001b[1;33m         \u001b[0my\u001b[0m \u001b[1;33m=\u001b[0m \u001b[0mparse_cel\u001b[0m\u001b[1;33m(\u001b[0m\u001b[0mcel_file\u001b[0m\u001b[1;33m)\u001b[0m\u001b[1;33m\u001b[0m\u001b[0m\n\u001b[0m\u001b[0;32m    137\u001b[0m         \u001b[0mY\u001b[0m\u001b[1;33m[\u001b[0m\u001b[1;33m:\u001b[0m\u001b[1;33m,\u001b[0m\u001b[0mj\u001b[0m\u001b[1;33m]\u001b[0m \u001b[1;33m=\u001b[0m \u001b[0my\u001b[0m\u001b[1;33m[\u001b[0m\u001b[0mpm_sel\u001b[0m\u001b[1;33m]\u001b[0m\u001b[1;33m\u001b[0m\u001b[0m\n\u001b[0;32m    138\u001b[0m     \u001b[0msub_logger\u001b[0m\u001b[1;33m.\u001b[0m\u001b[0msetLevel\u001b[0m\u001b[1;33m(\u001b[0m\u001b[0mlogging\u001b[0m\u001b[1;33m.\u001b[0m\u001b[0mNOTSET\u001b[0m\u001b[1;33m)\u001b[0m\u001b[1;33m\u001b[0m\u001b[0m\n",
      "\u001b[1;32m/home/maxim/immune-infiltrate-explorations/compare_rnaseq/pyaffy/pyaffy/celparser.pyx\u001b[0m in \u001b[0;36mpyaffy.celparser.parse_cel (pyaffy/celparser.c:14319)\u001b[1;34m()\u001b[0m\n\u001b[0;32m    681\u001b[0m     \u001b[1;32melif\u001b[0m \u001b[0mversion\u001b[0m \u001b[1;33m==\u001b[0m \u001b[1;36m64\u001b[0m\u001b[1;33m:\u001b[0m\u001b[1;33m\u001b[0m\u001b[0m\n\u001b[0;32m    682\u001b[0m         \u001b[1;31m# version 4 format (binary, little-endian)\u001b[0m\u001b[1;33m\u001b[0m\u001b[1;33m\u001b[0m\u001b[0m\n\u001b[1;32m--> 683\u001b[1;33m         \u001b[0my\u001b[0m \u001b[1;33m=\u001b[0m \u001b[0mparse_celfile_v4\u001b[0m\u001b[1;33m(\u001b[0m\u001b[0mpath\u001b[0m\u001b[1;33m,\u001b[0m \u001b[0mcompressed\u001b[0m \u001b[1;33m=\u001b[0m \u001b[0mcompressed\u001b[0m\u001b[1;33m)\u001b[0m\u001b[1;33m\u001b[0m\u001b[0m\n\u001b[0m\u001b[0;32m    684\u001b[0m     \u001b[1;32melse\u001b[0m\u001b[1;33m:\u001b[0m\u001b[1;33m\u001b[0m\u001b[0m\n\u001b[0;32m    685\u001b[0m         \u001b[1;31m# version 3 format (plain-text)\u001b[0m\u001b[1;33m\u001b[0m\u001b[1;33m\u001b[0m\u001b[0m\n",
      "\u001b[1;32m/home/maxim/immune-infiltrate-explorations/compare_rnaseq/pyaffy/pyaffy/celparser.pyx\u001b[0m in \u001b[0;36mpyaffy.celparser.parse_celfile_v4 (pyaffy/celparser.c:5563)\u001b[1;34m()\u001b[0m\n\u001b[0;32m    276\u001b[0m         \u001b[0mlogger\u001b[0m\u001b[1;33m.\u001b[0m\u001b[0mdebug\u001b[0m\u001b[1;33m(\u001b[0m\u001b[1;34m'Number of cols: %d'\u001b[0m\u001b[1;33m,\u001b[0m \u001b[0mnum_cols\u001b[0m\u001b[1;33m)\u001b[0m\u001b[1;33m\u001b[0m\u001b[0m\n\u001b[0;32m    277\u001b[0m         \u001b[0mlogger\u001b[0m\u001b[1;33m.\u001b[0m\u001b[0mdebug\u001b[0m\u001b[1;33m(\u001b[0m\u001b[1;34m'Number of cells: %d'\u001b[0m\u001b[1;33m,\u001b[0m \u001b[0mnum_cells\u001b[0m\u001b[1;33m)\u001b[0m\u001b[1;33m\u001b[0m\u001b[0m\n\u001b[1;32m--> 278\u001b[1;33m         \u001b[0mheader\u001b[0m \u001b[1;33m=\u001b[0m \u001b[0mread_tag_val\u001b[0m\u001b[1;33m(\u001b[0m\u001b[0mbuf\u001b[0m\u001b[1;33m,\u001b[0m \u001b[0mfp\u001b[0m\u001b[1;33m)\u001b[0m\u001b[1;33m\u001b[0m\u001b[0m\n\u001b[0m\u001b[0;32m    279\u001b[0m         \u001b[0mlogger\u001b[0m\u001b[1;33m.\u001b[0m\u001b[0mdebug\u001b[0m\u001b[1;33m(\u001b[0m\u001b[1;34m'Header information:'\u001b[0m\u001b[1;33m)\u001b[0m\u001b[1;33m\u001b[0m\u001b[0m\n\u001b[0;32m    280\u001b[0m         logger.debug('  ' + '; '.join(['%s = %s' %(k,v)\n",
      "\u001b[1;32m/home/maxim/immune-infiltrate-explorations/compare_rnaseq/pyaffy/pyaffy/celparser.pyx\u001b[0m in \u001b[0;36mpyaffy.celparser.read_tag_val (pyaffy/celparser.c:3408)\u001b[1;34m()\u001b[0m\n\u001b[0;32m    121\u001b[0m     \u001b[0ms\u001b[0m \u001b[1;33m=\u001b[0m \u001b[0mstr\u001b[0m\u001b[1;33m(\u001b[0m\u001b[0mread_string\u001b[0m\u001b[1;33m(\u001b[0m\u001b[0mbuf\u001b[0m\u001b[1;33m,\u001b[0m \u001b[0mfp\u001b[0m\u001b[1;33m)\u001b[0m\u001b[1;33m)\u001b[0m\u001b[1;33m\u001b[0m\u001b[0m\n\u001b[0;32m    122\u001b[0m     \u001b[1;32mtry\u001b[0m\u001b[1;33m:\u001b[0m\u001b[1;33m\u001b[0m\u001b[0m\n\u001b[1;32m--> 123\u001b[1;33m         \u001b[0mC\u001b[0m \u001b[1;33m=\u001b[0m \u001b[0mConfigParser\u001b[0m\u001b[1;33m(\u001b[0m\u001b[0minterpolation\u001b[0m \u001b[1;33m=\u001b[0m \u001b[0mNone\u001b[0m\u001b[1;33m,\u001b[0m \u001b[0mdelimiters\u001b[0m \u001b[1;33m=\u001b[0m \u001b[1;33m(\u001b[0m\u001b[1;34m'='\u001b[0m\u001b[1;33m,\u001b[0m\u001b[1;33m)\u001b[0m\u001b[1;33m,\u001b[0m \u001b[0mempty_lines_in_values\u001b[0m \u001b[1;33m=\u001b[0m \u001b[0mFalse\u001b[0m\u001b[1;33m)\u001b[0m\u001b[1;33m\u001b[0m\u001b[0m\n\u001b[0m\u001b[0;32m    124\u001b[0m         \u001b[0mC\u001b[0m\u001b[1;33m.\u001b[0m\u001b[0moptionxform\u001b[0m \u001b[1;33m=\u001b[0m \u001b[1;32mlambda\u001b[0m \u001b[0mx\u001b[0m\u001b[1;33m:\u001b[0m \u001b[0mx\u001b[0m\u001b[1;33m\u001b[0m\u001b[0m\n\u001b[0;32m    125\u001b[0m         \u001b[0mC\u001b[0m\u001b[1;33m.\u001b[0m\u001b[0mread_string\u001b[0m\u001b[1;33m(\u001b[0m\u001b[1;34mu'[Section]\\n'\u001b[0m \u001b[1;33m+\u001b[0m \u001b[0municode\u001b[0m\u001b[1;33m(\u001b[0m\u001b[0ms\u001b[0m\u001b[1;33m,\u001b[0m \u001b[0mencoding\u001b[0m \u001b[1;33m=\u001b[0m \u001b[1;34m'iso-8859-1'\u001b[0m\u001b[1;33m)\u001b[0m\u001b[1;33m)\u001b[0m\u001b[1;33m\u001b[0m\u001b[0m\n",
      "\u001b[1;31mTypeError\u001b[0m: __init__() got an unexpected keyword argument 'delimiters'"
     ]
    }
   ],
   "source": [
    "from collections import OrderedDict\n",
    "from genometools import misc\n",
    "from pyaffy import rma\n",
    "\n",
    "misc.get_logger(verbose = False)\n",
    "\n",
    "sample_cel_files = OrderedDict([\n",
    "    ('Sample 1', cel_file1),\n",
    "    ('Sample 2', cel_file2)\n",
    "])\n",
    "\n",
    "genes, samples, X = rma(cdf_file, sample_cel_files)\n",
    "print ', '.join(genes[:5])\n",
    "print ', '.join(samples)\n",
    "print X[:10, :]"
   ]
  },
  {
   "cell_type": "code",
   "execution_count": null,
   "metadata": {
    "collapsed": true
   },
   "outputs": [],
   "source": [
    "# The implementation\n",
    "\n",
    "from genometools.expression import quantile_normalize as qnorm\n",
    "from genometools.expression import ExpMatrix\n",
    "\n",
    "from pyaffy.medpolish import medpolish\n",
    "from pyaffy.background import rma_bg_correct\n",
    "\n",
    "\n",
    "# background correction\n",
    "Y = rma_bg_correct(Y)\n",
    "# quantile normalization\n",
    "Y = qnorm(Y)\n",
    "# convert intensities to log2-scale\n",
    "Y = np.log2(Y)\n",
    "# summarize probeset intensities (with or without median polish)\n",
    "medianpolish=True\n",
    "\n",
    "p = len(pm_probesets)\n",
    "n = Y.shape[1]\n",
    "X = np.empty((p, n), dtype = np.float32)\n",
    "cur = 0\n",
    "num_converged = 0\n",
    "genes = []\n",
    "for i , (gene_id, probes) in enumerate(pm_probesets.iteritems()):\n",
    "    genes.append(gene_id)\n",
    "\n",
    "    if medianpolish:\n",
    "        #X_sub = np.ascontiguousarray(Y[cur:(cur + probes.size),:])\n",
    "        X_sub = Y[cur:(cur + probes.size),:]\n",
    "        _, row_eff, col_eff, global_eff, converged, num_iter = medpolish(X_sub, copy = False)\n",
    "        X[i,:] = col_eff + global_eff\n",
    "        if converged:\n",
    "            num_converged += 1\n",
    "\n",
    "    else:\n",
    "        # simply use median across probes\n",
    "        X[i,:] = np.median(Y[cur:(cur+probes.size),:], axis = 0) \n",
    "        #X[i,:] = np.ma.median(X_sub, axis = 0)\n",
    "\n",
    "    cur += probes.size\n",
    "\n",
    "if medianpolish:\n",
    "    pass\n",
    "    #logger.debug('Converged: %d / %d (%.1f%%)',\n",
    "    #        num_converged, p, 100 * (num_converged / float(p)))\n",
    "\n",
    "# done with rma\n",
    "\n",
    "# output\n",
    "# sort alphabetically by gene name\n",
    "a = np.lexsort([genes])\n",
    "genes = [genes[i] for i in a]\n",
    "X = X[a,:]\n",
    "return X\n"
   ]
  }
 ],
 "metadata": {
  "kernelspec": {
   "display_name": "Python 2",
   "language": "python",
   "name": "python2"
  },
  "language_info": {
   "codemirror_mode": {
    "name": "ipython",
    "version": 2
   },
   "file_extension": ".py",
   "mimetype": "text/x-python",
   "name": "python",
   "nbconvert_exporter": "python",
   "pygments_lexer": "ipython2",
   "version": "2.7.11"
  }
 },
 "nbformat": 4,
 "nbformat_minor": 0
}
