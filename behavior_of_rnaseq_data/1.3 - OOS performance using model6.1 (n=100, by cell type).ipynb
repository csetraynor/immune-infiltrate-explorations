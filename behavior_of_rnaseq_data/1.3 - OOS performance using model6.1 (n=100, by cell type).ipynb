{
 "cells": [
  {
   "cell_type": "code",
   "execution_count": 13,
   "metadata": {
    "collapsed": false
   },
   "outputs": [],
   "source": [
    "import data\n",
    "import models\n",
    "import cache\n",
    "import re\n",
    "import pandas as pd\n",
    "import seaborn as sns"
   ]
  },
  {
   "cell_type": "code",
   "execution_count": 3,
   "metadata": {
    "collapsed": false
   },
   "outputs": [],
   "source": [
    "model_name = 'model6.1'\n",
    "by = 'cell_type'\n",
    "sample_n = 100"
   ]
  },
  {
   "cell_type": "code",
   "execution_count": 4,
   "metadata": {
    "collapsed": false
   },
   "outputs": [
    {
     "name": "stderr",
     "output_type": "stream",
     "text": [
      "INFO:stancache.stancache:prep_sample_df: cache_filename set to prep_sample_df.cached.sample_n_100.pkl\n",
      "INFO:stancache.stancache:prep_sample_df: Loading result from cache\n"
     ]
    }
   ],
   "source": [
    "sample_df = cache.cached(models.prep_sample_df, sample_n=sample_n)\n",
    "(training_df, test_df) = models.split_sample_df(sample_df=sample_df, test_sample_n=1)"
   ]
  },
  {
   "cell_type": "code",
   "execution_count": 5,
   "metadata": {
    "collapsed": false
   },
   "outputs": [],
   "source": [
    "model_file = models.get_model_file(model_name=model_name)\n",
    "#print(cache._read_file(model_file))"
   ]
  },
  {
   "cell_type": "code",
   "execution_count": 6,
   "metadata": {
    "collapsed": true
   },
   "outputs": [],
   "source": [
    "stan_data = models.prep_stan_data(sample_df=training_df, test_df=test_df, by=by)"
   ]
  },
  {
   "cell_type": "code",
   "execution_count": 7,
   "metadata": {
    "collapsed": false
   },
   "outputs": [
    {
     "name": "stderr",
     "output_type": "stream",
     "text": [
      "INFO:stancache.stancache:Step 1: Get compiled model code, possibly from cache\n",
      "INFO:stancache.stancache:StanModel: cache_filename set to model6_1.cython_0_25_1.model_code_1025675002381806478.pystan_2_12_0_0.stanmodel.pkl\n",
      "INFO:stancache.stancache:StanModel: Starting execution\n",
      "INFO:pystan:COMPILING THE C++ CODE FOR MODEL model6_1_f189043aa81bce72d1c3f55bd293c2a8 NOW.\n",
      "INFO:stancache.stancache:StanModel: Execution completed (0:01:30.457338 elapsed)\n",
      "INFO:stancache.stancache:StanModel: Saving results to cache\n",
      "INFO:stancache.stancache:Step 2: Get posterior draws from model, possibly from cache\n",
      "INFO:stancache.stancache:sampling: cache_filename set to model6_1.cython_0_25_1.model_code_1025675002381806478.pystan_2_12_0_0.stanfit.chains_4.data_84579507417.iter_2000.seed_1245502385.pkl\n",
      "INFO:stancache.stancache:sampling: Starting execution\n",
      "INFO:stancache.stancache:sampling: Execution completed (1:08:32.498351 elapsed)\n",
      "INFO:stancache.stancache:sampling: Saving results to cache\n",
      "/home/jacquelineburos/miniconda3/envs/immuneinf/lib/python3.5/site-packages/stancache/stancache.py:284: UserWarning: Pickling fit objects is an experimental feature!\n",
      "The relevant StanModel instance must be pickled along with this fit object.\n",
      "When unpickling the StanModel must be unpickled first.\n",
      "  pickle.dump(res, open(cache_filepath, 'wb'), pickle.HIGHEST_PROTOCOL)\n"
     ]
    }
   ],
   "source": [
    "model_fit = models.cached_stan_fit(file=model_file, data=stan_data, model_name=model_name)"
   ]
  },
  {
   "cell_type": "code",
   "execution_count": 8,
   "metadata": {
    "collapsed": false
   },
   "outputs": [
    {
     "name": "stdout",
     "output_type": "stream",
     "text": [
      "              mean  se_mean         sd          2.5%           50%         97.5%      Rhat\n",
      "lp__  4.208478e+07  5.92157  36.019505  4.208472e+07  4.208478e+07  4.208486e+07  1.075047\n"
     ]
    }
   ],
   "source": [
    "models.print_stan_summary(model_fit, pars='lp__')"
   ]
  },
  {
   "cell_type": "code",
   "execution_count": 9,
   "metadata": {
    "collapsed": false
   },
   "outputs": [
    {
     "name": "stdout",
     "output_type": "stream",
     "text": [
      "                    mean   se_mean        sd      2.5%       50%     97.5%      Rhat\n",
      "sample2_x[0,0]  0.733777  0.002250  0.114023  0.498398  0.741122  0.933307  1.000073\n",
      "sample2_x[0,1]  0.042706  0.000658  0.041594  0.000952  0.029889  0.154730  0.999628\n",
      "sample2_x[0,2]  0.223516  0.002325  0.116667  0.024700  0.218178  0.463666  0.999904\n"
     ]
    }
   ],
   "source": [
    "models.print_stan_summary(model_fit, pars='sample2_x')"
   ]
  },
  {
   "cell_type": "code",
   "execution_count": 10,
   "metadata": {
    "collapsed": false
   },
   "outputs": [
    {
     "data": {
      "text/plain": [
       "['cell_type[B]', 'cell_type[CD4]', 'cell_type[CD8]']"
      ]
     },
     "execution_count": 10,
     "metadata": {},
     "output_type": "execute_result"
    }
   ],
   "source": [
    "colnames = list(stan_data['x'].columns)\n",
    "colnames"
   ]
  },
  {
   "cell_type": "code",
   "execution_count": 11,
   "metadata": {
    "collapsed": true
   },
   "outputs": [],
   "source": [
    "inferred_type = models.extract_theta_summary(colnames=colnames,\n",
    "                                             par='sample2_x',\n",
    "                                             stan_fit=model_fit, gene_id='sample_id')"
   ]
  },
  {
   "cell_type": "code",
   "execution_count": 14,
   "metadata": {
    "collapsed": false
   },
   "outputs": [],
   "source": [
    "df = pd.melt(inferred_type, id_vars=['iter','sample_id'], value_name='estimate', var_name='variable')\n",
    "df['cell_type'] = df['variable'].apply(lambda x: re.sub(string=x, pattern='(.*)\\[(.*)\\]', repl='\\\\2'))"
   ]
  },
  {
   "cell_type": "code",
   "execution_count": 16,
   "metadata": {
    "collapsed": false
   },
   "outputs": [
    {
     "data": {
      "text/plain": [
       "<matplotlib.axes._subplots.AxesSubplot at 0x7f26e098ea58>"
      ]
     },
     "execution_count": 16,
     "metadata": {},
     "output_type": "execute_result"
    },
    {
     "data": {
      "image/png": "[encoded data removed]",
      "text/plain": [
       "<matplotlib.figure.Figure at 0x7f26bb400e10>"
      ]
     },
     "metadata": {},
     "output_type": "display_data"
    }
   ],
   "source": [
    "sns.boxplot(data=df, y='cell_type', x='estimate')"
   ]
  },
  {
   "cell_type": "code",
   "execution_count": 17,
   "metadata": {
    "collapsed": false
   },
   "outputs": [
    {
     "data": {
      "text/plain": [
       "array(['B_Memory'], dtype=object)"
      ]
     },
     "execution_count": 17,
     "metadata": {},
     "output_type": "execute_result"
    }
   ],
   "source": [
    "test_df['SubSet'].unique()"
   ]
  },
  {
   "cell_type": "code",
   "execution_count": null,
   "metadata": {
    "collapsed": true
   },
   "outputs": [],
   "source": []
  }
 ],
 "metadata": {
  "kernelspec": {
   "display_name": "immune3",
   "language": "python",
   "name": "immune3"
  },
  "language_info": {
   "codemirror_mode": {
    "name": "ipython",
    "version": 3
   },
   "file_extension": ".py",
   "mimetype": "text/x-python",
   "name": "python",
   "nbconvert_exporter": "python",
   "pygments_lexer": "ipython3",
   "version": "3.5.2"
  }
 },
 "nbformat": 4,
 "nbformat_minor": 1
}
