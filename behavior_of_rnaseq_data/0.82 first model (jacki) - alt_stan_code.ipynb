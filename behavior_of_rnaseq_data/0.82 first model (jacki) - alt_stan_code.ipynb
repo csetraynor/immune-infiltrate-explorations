{
 "cells": [
  {
   "cell_type": "code",
   "execution_count": 1,
   "metadata": {
    "collapsed": false
   },
   "outputs": [
    {
     "name": "stderr",
     "output_type": "stream",
     "text": [
      "/home/jacquelineburos/projects/immune-infiltrate-explorations/.env/lib/python3.5/site-packages/IPython/html.py:14: ShimWarning: The `IPython.html` package has been deprecated. You should import from `notebook` instead. `IPython.html.widgets` has moved to `ipywidgets`.\n",
      "  \"`IPython.html.widgets` has moved to `ipywidgets`.\", ShimWarning)\n"
     ]
    }
   ],
   "source": [
    "import data\n",
    "import seaborn as sns\n",
    "import numpy as np\n",
    "import pandas as pd\n",
    "import patsy\n",
    "%matplotlib inline"
   ]
  },
  {
   "cell_type": "code",
   "execution_count": 2,
   "metadata": {
    "collapsed": true
   },
   "outputs": [],
   "source": [
    "import pystan\n",
    "import stanity"
   ]
  },
  {
   "cell_type": "markdown",
   "metadata": {},
   "source": [
    "## load files for all cell types"
   ]
  },
  {
   "cell_type": "code",
   "execution_count": 3,
   "metadata": {
    "collapsed": false
   },
   "outputs": [
    {
     "name": "stdout",
     "output_type": "stream",
     "text": [
      "['CD4_Th2', 'CD8_Effector', 'B_CD5', 'B_Memory', 'CD4_Th1', 'CD4_Naive', 'B_Naive', 'CD4_Effector_Memory', 'CD8_Central_Memory', 'CD4_Central_Memory', 'CD4_Treg', 'CD8_Naive', 'CD4_Th17']\n"
     ]
    }
   ],
   "source": [
    "# list types of cells\n",
    "subsets = data.prep_filename_metadata()\n",
    "subsets['SubSet'].unique()\n",
    "all_types = list(subsets['SubSet'].unique())\n",
    "print(all_types)"
   ]
  },
  {
   "cell_type": "code",
   "execution_count": 4,
   "metadata": {
    "collapsed": false
   },
   "outputs": [],
   "source": [
    "df = data.load_by_cell_type(all_types, metadata=subsets)"
   ]
  },
  {
   "cell_type": "code",
   "execution_count": 5,
   "metadata": {
    "collapsed": false
   },
   "outputs": [],
   "source": [
    "df = data.prep_annotated_data(df)"
   ]
  },
  {
   "cell_type": "code",
   "execution_count": 6,
   "metadata": {
    "collapsed": false
   },
   "outputs": [],
   "source": [
    "assert all(pd.notnull(df['log1p_tpm_rescaled']))"
   ]
  },
  {
   "cell_type": "markdown",
   "metadata": {},
   "source": [
    "## prep gene ids"
   ]
  },
  {
   "cell_type": "markdown",
   "metadata": {},
   "source": [
    "For model-estimation, we first need to map each gene_name to a numeric ID. \n"
   ]
  },
  {
   "cell_type": "code",
   "execution_count": 7,
   "metadata": {
    "collapsed": false
   },
   "outputs": [],
   "source": [
    "df['gene_cat'] = df['gene_name'].astype('category')\n",
    "df['gene_id'] = df['gene_cat'].cat.codes+1"
   ]
  },
  {
   "cell_type": "code",
   "execution_count": 8,
   "metadata": {
    "collapsed": true
   },
   "outputs": [],
   "source": [
    "df['B_cell'] = df['cell_type'].apply(lambda x: 1 if x == 'B' else 0)\n",
    "df['T_cell'] = df['cell_type'].apply(lambda x: 1 if x != 'B' else 0)"
   ]
  },
  {
   "cell_type": "code",
   "execution_count": 9,
   "metadata": {
    "collapsed": false
   },
   "outputs": [
    {
     "data": {
      "text/html": [
       "<div>\n",
       "<table border=\"1\" class=\"dataframe\">\n",
       "  <thead>\n",
       "    <tr style=\"text-align: right;\">\n",
       "      <th></th>\n",
       "      <th>sample_id</th>\n",
       "      <th>filename</th>\n",
       "      <th>gene_name</th>\n",
       "      <th>est_counts</th>\n",
       "      <th>tpm</th>\n",
       "      <th>log1p_tpm</th>\n",
       "      <th>log1p_counts</th>\n",
       "      <th>CCR6</th>\n",
       "      <th>CCR7</th>\n",
       "      <th>CD127</th>\n",
       "      <th>...</th>\n",
       "      <th>CXCR3</th>\n",
       "      <th>SubSet</th>\n",
       "      <th>cell_type</th>\n",
       "      <th>log1p_tpm_rescaled_type</th>\n",
       "      <th>log1p_tpm_rescaled_subset</th>\n",
       "      <th>log1p_tpm_rescaled</th>\n",
       "      <th>gene_cat</th>\n",
       "      <th>gene_id</th>\n",
       "      <th>B_cell</th>\n",
       "      <th>T_cell</th>\n",
       "    </tr>\n",
       "  </thead>\n",
       "  <tbody>\n",
       "    <tr>\n",
       "      <th>0</th>\n",
       "      <td>1</td>\n",
       "      <td>ERR431566</td>\n",
       "      <td>A1BG</td>\n",
       "      <td>56.743290</td>\n",
       "      <td>6.931783</td>\n",
       "      <td>2.070878</td>\n",
       "      <td>4.056007</td>\n",
       "      <td>None</td>\n",
       "      <td>None</td>\n",
       "      <td>None</td>\n",
       "      <td>...</td>\n",
       "      <td>\u0001</td>\n",
       "      <td>CD4_Th2</td>\n",
       "      <td>CD4</td>\n",
       "      <td>-5.599303</td>\n",
       "      <td>-3.517738</td>\n",
       "      <td>-5.478180</td>\n",
       "      <td>A1BG</td>\n",
       "      <td>1</td>\n",
       "      <td>0</td>\n",
       "      <td>1</td>\n",
       "    </tr>\n",
       "    <tr>\n",
       "      <th>1</th>\n",
       "      <td>1</td>\n",
       "      <td>ERR431566</td>\n",
       "      <td>A1CF</td>\n",
       "      <td>5.194920</td>\n",
       "      <td>0.111335</td>\n",
       "      <td>0.105562</td>\n",
       "      <td>1.823730</td>\n",
       "      <td>None</td>\n",
       "      <td>None</td>\n",
       "      <td>None</td>\n",
       "      <td>...</td>\n",
       "      <td>\u0001</td>\n",
       "      <td>CD4_Th2</td>\n",
       "      <td>CD4</td>\n",
       "      <td>-1.164584</td>\n",
       "      <td>-1.529020</td>\n",
       "      <td>-0.735391</td>\n",
       "      <td>A1CF</td>\n",
       "      <td>2</td>\n",
       "      <td>0</td>\n",
       "      <td>1</td>\n",
       "    </tr>\n",
       "    <tr>\n",
       "      <th>2</th>\n",
       "      <td>1</td>\n",
       "      <td>ERR431566</td>\n",
       "      <td>A2M</td>\n",
       "      <td>10.000009</td>\n",
       "      <td>3.877857</td>\n",
       "      <td>1.584706</td>\n",
       "      <td>2.397896</td>\n",
       "      <td>None</td>\n",
       "      <td>None</td>\n",
       "      <td>None</td>\n",
       "      <td>...</td>\n",
       "      <td>\u0001</td>\n",
       "      <td>CD4_Th2</td>\n",
       "      <td>CD4</td>\n",
       "      <td>1.338389</td>\n",
       "      <td>-0.920287</td>\n",
       "      <td>1.188265</td>\n",
       "      <td>A2M</td>\n",
       "      <td>3</td>\n",
       "      <td>0</td>\n",
       "      <td>1</td>\n",
       "    </tr>\n",
       "    <tr>\n",
       "      <th>3</th>\n",
       "      <td>1</td>\n",
       "      <td>ERR431566</td>\n",
       "      <td>A2ML1</td>\n",
       "      <td>9.387660</td>\n",
       "      <td>1.860813</td>\n",
       "      <td>1.051106</td>\n",
       "      <td>2.340619</td>\n",
       "      <td>None</td>\n",
       "      <td>None</td>\n",
       "      <td>None</td>\n",
       "      <td>...</td>\n",
       "      <td>\u0001</td>\n",
       "      <td>CD4_Th2</td>\n",
       "      <td>CD4</td>\n",
       "      <td>1.092135</td>\n",
       "      <td>1.947468</td>\n",
       "      <td>0.895292</td>\n",
       "      <td>A2ML1</td>\n",
       "      <td>4</td>\n",
       "      <td>0</td>\n",
       "      <td>1</td>\n",
       "    </tr>\n",
       "    <tr>\n",
       "      <th>4</th>\n",
       "      <td>1</td>\n",
       "      <td>ERR431566</td>\n",
       "      <td>A2MP1</td>\n",
       "      <td>31.000030</td>\n",
       "      <td>3.441394</td>\n",
       "      <td>1.490968</td>\n",
       "      <td>3.465737</td>\n",
       "      <td>None</td>\n",
       "      <td>None</td>\n",
       "      <td>None</td>\n",
       "      <td>...</td>\n",
       "      <td>\u0001</td>\n",
       "      <td>CD4_Th2</td>\n",
       "      <td>CD4</td>\n",
       "      <td>1.945796</td>\n",
       "      <td>4.135726</td>\n",
       "      <td>1.532385</td>\n",
       "      <td>A2MP1</td>\n",
       "      <td>5</td>\n",
       "      <td>0</td>\n",
       "      <td>1</td>\n",
       "    </tr>\n",
       "  </tbody>\n",
       "</table>\n",
       "<p>5 rows × 30 columns</p>\n",
       "</div>"
      ],
      "text/plain": [
       "   sample_id   filename gene_name  est_counts       tpm  log1p_tpm  \\\n",
       "0          1  ERR431566      A1BG   56.743290  6.931783   2.070878   \n",
       "1          1  ERR431566      A1CF    5.194920  0.111335   0.105562   \n",
       "2          1  ERR431566       A2M   10.000009  3.877857   1.584706   \n",
       "3          1  ERR431566     A2ML1    9.387660  1.860813   1.051106   \n",
       "4          1  ERR431566     A2MP1   31.000030  3.441394   1.490968   \n",
       "\n",
       "   log1p_counts  CCR6  CCR7 CD127  ...   CXCR3   SubSet cell_type  \\\n",
       "0      4.056007  None  None  None  ...       \u0001  CD4_Th2       CD4   \n",
       "1      1.823730  None  None  None  ...       \u0001  CD4_Th2       CD4   \n",
       "2      2.397896  None  None  None  ...       \u0001  CD4_Th2       CD4   \n",
       "3      2.340619  None  None  None  ...       \u0001  CD4_Th2       CD4   \n",
       "4      3.465737  None  None  None  ...       \u0001  CD4_Th2       CD4   \n",
       "\n",
       "  log1p_tpm_rescaled_type log1p_tpm_rescaled_subset log1p_tpm_rescaled  \\\n",
       "0               -5.599303                 -3.517738          -5.478180   \n",
       "1               -1.164584                 -1.529020          -0.735391   \n",
       "2                1.338389                 -0.920287           1.188265   \n",
       "3                1.092135                  1.947468           0.895292   \n",
       "4                1.945796                  4.135726           1.532385   \n",
       "\n",
       "  gene_cat gene_id B_cell T_cell  \n",
       "0     A1BG       1      0      1  \n",
       "1     A1CF       2      0      1  \n",
       "2      A2M       3      0      1  \n",
       "3    A2ML1       4      0      1  \n",
       "4    A2MP1       5      0      1  \n",
       "\n",
       "[5 rows x 30 columns]"
      ]
     },
     "execution_count": 9,
     "metadata": {},
     "output_type": "execute_result"
    }
   ],
   "source": [
    "df.head()"
   ]
  },
  {
   "cell_type": "markdown",
   "metadata": {},
   "source": [
    "## sample genes for first pass"
   ]
  },
  {
   "cell_type": "code",
   "execution_count": 10,
   "metadata": {
    "collapsed": true
   },
   "outputs": [],
   "source": [
    "sampled_genes = df.drop_duplicates(subset='gene_name').sample(n=100).loc[:,'gene_name']\n",
    "sample_df = pd.merge(df, pd.DataFrame(sampled_genes), on='gene_name', how='inner')"
   ]
  },
  {
   "cell_type": "code",
   "execution_count": 11,
   "metadata": {
    "collapsed": false
   },
   "outputs": [
    {
     "data": {
      "text/html": [
       "<div>\n",
       "<table border=\"1\" class=\"dataframe\">\n",
       "  <thead>\n",
       "    <tr style=\"text-align: right;\">\n",
       "      <th></th>\n",
       "      <th>sample_id</th>\n",
       "      <th>filename</th>\n",
       "      <th>gene_name</th>\n",
       "      <th>est_counts</th>\n",
       "      <th>tpm</th>\n",
       "      <th>log1p_tpm</th>\n",
       "      <th>log1p_counts</th>\n",
       "      <th>CCR6</th>\n",
       "      <th>CCR7</th>\n",
       "      <th>CD127</th>\n",
       "      <th>...</th>\n",
       "      <th>CXCR3</th>\n",
       "      <th>SubSet</th>\n",
       "      <th>cell_type</th>\n",
       "      <th>log1p_tpm_rescaled_type</th>\n",
       "      <th>log1p_tpm_rescaled_subset</th>\n",
       "      <th>log1p_tpm_rescaled</th>\n",
       "      <th>gene_cat</th>\n",
       "      <th>gene_id</th>\n",
       "      <th>B_cell</th>\n",
       "      <th>T_cell</th>\n",
       "    </tr>\n",
       "  </thead>\n",
       "  <tbody>\n",
       "    <tr>\n",
       "      <th>0</th>\n",
       "      <td>1</td>\n",
       "      <td>ERR431566</td>\n",
       "      <td>ABCG4</td>\n",
       "      <td>0.0</td>\n",
       "      <td>0.000000</td>\n",
       "      <td>0.000000</td>\n",
       "      <td>0.000000</td>\n",
       "      <td>None</td>\n",
       "      <td>None</td>\n",
       "      <td>None</td>\n",
       "      <td>...</td>\n",
       "      <td>\u0001</td>\n",
       "      <td>CD4_Th2</td>\n",
       "      <td>CD4</td>\n",
       "      <td>-1.280639</td>\n",
       "      <td>-0.776229</td>\n",
       "      <td>-1.160056</td>\n",
       "      <td>ABCG4</td>\n",
       "      <td>106</td>\n",
       "      <td>0</td>\n",
       "      <td>1</td>\n",
       "    </tr>\n",
       "    <tr>\n",
       "      <th>1</th>\n",
       "      <td>2</td>\n",
       "      <td>ERR431579</td>\n",
       "      <td>ABCG4</td>\n",
       "      <td>1.0</td>\n",
       "      <td>0.033301</td>\n",
       "      <td>0.032759</td>\n",
       "      <td>0.693147</td>\n",
       "      <td>None</td>\n",
       "      <td>None</td>\n",
       "      <td>None</td>\n",
       "      <td>...</td>\n",
       "      <td>\u0001</td>\n",
       "      <td>CD4_Th2</td>\n",
       "      <td>CD4</td>\n",
       "      <td>-1.114252</td>\n",
       "      <td>-0.623156</td>\n",
       "      <td>-1.037061</td>\n",
       "      <td>ABCG4</td>\n",
       "      <td>106</td>\n",
       "      <td>0</td>\n",
       "      <td>1</td>\n",
       "    </tr>\n",
       "    <tr>\n",
       "      <th>2</th>\n",
       "      <td>3</td>\n",
       "      <td>ERR431600</td>\n",
       "      <td>ABCG4</td>\n",
       "      <td>4.0</td>\n",
       "      <td>0.307412</td>\n",
       "      <td>0.268050</td>\n",
       "      <td>1.609438</td>\n",
       "      <td>None</td>\n",
       "      <td>None</td>\n",
       "      <td>None</td>\n",
       "      <td>...</td>\n",
       "      <td>\u0001</td>\n",
       "      <td>CD4_Th2</td>\n",
       "      <td>CD4</td>\n",
       "      <td>0.080842</td>\n",
       "      <td>0.476311</td>\n",
       "      <td>-0.153639</td>\n",
       "      <td>ABCG4</td>\n",
       "      <td>106</td>\n",
       "      <td>0</td>\n",
       "      <td>1</td>\n",
       "    </tr>\n",
       "    <tr>\n",
       "      <th>3</th>\n",
       "      <td>4</td>\n",
       "      <td>ERR431615</td>\n",
       "      <td>ABCG4</td>\n",
       "      <td>4.0</td>\n",
       "      <td>0.908946</td>\n",
       "      <td>0.646551</td>\n",
       "      <td>1.609438</td>\n",
       "      <td>None</td>\n",
       "      <td>None</td>\n",
       "      <td>None</td>\n",
       "      <td>...</td>\n",
       "      <td>\u0001</td>\n",
       "      <td>CD4_Th2</td>\n",
       "      <td>CD4</td>\n",
       "      <td>2.003333</td>\n",
       "      <td>2.244970</td>\n",
       "      <td>1.267481</td>\n",
       "      <td>ABCG4</td>\n",
       "      <td>106</td>\n",
       "      <td>0</td>\n",
       "      <td>1</td>\n",
       "    </tr>\n",
       "    <tr>\n",
       "      <th>4</th>\n",
       "      <td>5</td>\n",
       "      <td>ERR431628</td>\n",
       "      <td>ABCG4</td>\n",
       "      <td>0.0</td>\n",
       "      <td>0.000000</td>\n",
       "      <td>0.000000</td>\n",
       "      <td>0.000000</td>\n",
       "      <td>None</td>\n",
       "      <td>None</td>\n",
       "      <td>None</td>\n",
       "      <td>...</td>\n",
       "      <td>\u0001</td>\n",
       "      <td>CD4_Th2</td>\n",
       "      <td>CD4</td>\n",
       "      <td>-1.280639</td>\n",
       "      <td>-0.776229</td>\n",
       "      <td>-1.160056</td>\n",
       "      <td>ABCG4</td>\n",
       "      <td>106</td>\n",
       "      <td>0</td>\n",
       "      <td>1</td>\n",
       "    </tr>\n",
       "  </tbody>\n",
       "</table>\n",
       "<p>5 rows × 30 columns</p>\n",
       "</div>"
      ],
      "text/plain": [
       "   sample_id   filename gene_name  est_counts       tpm  log1p_tpm  \\\n",
       "0          1  ERR431566     ABCG4         0.0  0.000000   0.000000   \n",
       "1          2  ERR431579     ABCG4         1.0  0.033301   0.032759   \n",
       "2          3  ERR431600     ABCG4         4.0  0.307412   0.268050   \n",
       "3          4  ERR431615     ABCG4         4.0  0.908946   0.646551   \n",
       "4          5  ERR431628     ABCG4         0.0  0.000000   0.000000   \n",
       "\n",
       "   log1p_counts  CCR6  CCR7 CD127  ...   CXCR3   SubSet cell_type  \\\n",
       "0      0.000000  None  None  None  ...       \u0001  CD4_Th2       CD4   \n",
       "1      0.693147  None  None  None  ...       \u0001  CD4_Th2       CD4   \n",
       "2      1.609438  None  None  None  ...       \u0001  CD4_Th2       CD4   \n",
       "3      1.609438  None  None  None  ...       \u0001  CD4_Th2       CD4   \n",
       "4      0.000000  None  None  None  ...       \u0001  CD4_Th2       CD4   \n",
       "\n",
       "  log1p_tpm_rescaled_type log1p_tpm_rescaled_subset log1p_tpm_rescaled  \\\n",
       "0               -1.280639                 -0.776229          -1.160056   \n",
       "1               -1.114252                 -0.623156          -1.037061   \n",
       "2                0.080842                  0.476311          -0.153639   \n",
       "3                2.003333                  2.244970           1.267481   \n",
       "4               -1.280639                 -0.776229          -1.160056   \n",
       "\n",
       "  gene_cat gene_id B_cell T_cell  \n",
       "0    ABCG4     106      0      1  \n",
       "1    ABCG4     106      0      1  \n",
       "2    ABCG4     106      0      1  \n",
       "3    ABCG4     106      0      1  \n",
       "4    ABCG4     106      0      1  \n",
       "\n",
       "[5 rows x 30 columns]"
      ]
     },
     "execution_count": 11,
     "metadata": {},
     "output_type": "execute_result"
    }
   ],
   "source": [
    "sample_df.head()"
   ]
  },
  {
   "cell_type": "code",
   "execution_count": 12,
   "metadata": {
    "collapsed": true
   },
   "outputs": [],
   "source": [
    "def prep_stan_data(df, sample_n=None):\n",
    "    if sample_n:\n",
    "        sampled_genes = df.drop_duplicates(subset='gene_name').sample(n=sample_n).loc[:,'gene_name']\n",
    "        sample_df = pd.merge(df, pd.DataFrame(sampled_genes), on='gene_name', how='inner')\n",
    "    else:\n",
    "        sample_df = df\n",
    "    sample_df['new_gene_cat'] = sample_df['gene_name'].astype('category')\n",
    "    sample_df['new_gene_id'] = sample_df['new_gene_cat'].cat.codes+1\n",
    "    sample_df['new_sample_cat'] = sample_df['sample_id'].astype('category')\n",
    "    sample_df['new_sample_id'] = sample_df['new_sample_cat'].cat.codes+1\n",
    "    stan_data = {'N': len(sample_df.index),\n",
    "             'G': len(sample_df.new_gene_id.unique()),\n",
    "             'S': len(sample_df.new_sample_id.unique()),\n",
    "             'C': 2,\n",
    "             'gene': sample_df.new_gene_id.values,\n",
    "             'sample': sample_df.new_sample_id.values,\n",
    "             'x': patsy.dmatrix('0 + B_cell + T_cell', data=sample_df, return_type='dataframe'),\n",
    "             'y': sample_df.est_counts.astype(int).values,\n",
    "            }\n",
    "    return stan_data\n",
    "\n",
    "    "
   ]
  },
  {
   "cell_type": "markdown",
   "metadata": {},
   "source": [
    "## fit model at level of cell-type"
   ]
  },
  {
   "cell_type": "code",
   "execution_count": 13,
   "metadata": {
    "collapsed": false
   },
   "outputs": [],
   "source": [
    "stan_data = prep_stan_data(sample_df, sample_n=100)"
   ]
  },
  {
   "cell_type": "code",
   "execution_count": 14,
   "metadata": {
    "collapsed": true
   },
   "outputs": [],
   "source": [
    "stan_code = '''\n",
    "data {\n",
    "    // dimensions\n",
    "    int<lower=1> N;  // N obs\n",
    "    int<lower=1> G;  // N genes\n",
    "    int<lower=1> S;  // N samples\n",
    "    int<lower=0> C;  // N classes (e.g. B-cell, T-cell, B_Naive, CD5, CD45RO, etc)\n",
    "                        // classes should be mutually exclusive. So, each row here should sum to 1\n",
    "   \n",
    "    // data\n",
    "    int<lower=1, upper=G> gene[N];    // gene id for each obs\n",
    "    int<lower=1, upper=S> sample[N];  // sample id for each obs\n",
    "    matrix<lower=0, upper=1>[N, C] x; // map each obs to each class (0:'- or ?', 1:'+')\n",
    "    int<lower=0> y[N];                // count/tpm for each obs\n",
    "}\n",
    "parameters {\n",
    "    vector<lower=0>[C] theta[G];   // loading factors for each gene, for each cell type\n",
    "    real log_gene_base[G];    // constant intercept expression level for each gene, irrespective of cell type\n",
    "    real log_sample_base[S];  // constant intercept expression level for each sample\n",
    "}\n",
    "model {\n",
    "    real log_exp[N];\n",
    "    for (i in 1:G)\n",
    "        theta[i] ~ normal(0, 1);\n",
    "    log_gene_base ~ normal(0, 1);\n",
    "    log_sample_base ~ normal(0, 1);\n",
    "    for (n in 1:N) {\n",
    "        log_exp[n] = log_sample_base[sample[n]] + log_gene_base[gene[n]] + log(x[n,]*theta[gene[n],]);\n",
    "    }\n",
    "    y ~ poisson_log(log_exp);\n",
    "}\n",
    "'''"
   ]
  },
  {
   "cell_type": "code",
   "execution_count": 15,
   "metadata": {
    "collapsed": false
   },
   "outputs": [],
   "source": [
    "#fit = data.cached_stan_fit(model_code=stan_code, data=stan_data, iter=5000, chains=4)"
   ]
  },
  {
   "cell_type": "code",
   "execution_count": 16,
   "metadata": {
    "collapsed": false
   },
   "outputs": [],
   "source": [
    "#print(fit)"
   ]
  },
  {
   "cell_type": "code",
   "execution_count": 23,
   "metadata": {
    "collapsed": true
   },
   "outputs": [],
   "source": [
    "alt_stan_code = '''\n",
    "data {\n",
    "    // dimensions\n",
    "    int<lower=1> N;  // N obs\n",
    "    int<lower=1> G;  // N genes\n",
    "    int<lower=1> S;  // N samples\n",
    "    int<lower=0> C;  // N classes (e.g. B-cell, T-cell, B_Naive, CD5, CD45RO, etc)\n",
    "                        // classes should be mutually exclusive. So, each row here should sum to 1\n",
    "   \n",
    "    // data\n",
    "    int<lower=1, upper=G> gene[N];    // gene id for each obs\n",
    "    int<lower=1, upper=S> sample[N];  // sample id for each obs\n",
    "    matrix<lower=0, upper=1>[N, C] x; // map each obs to each class (0:'- or ?', 1:'+')\n",
    "    int<lower=0> y[N];                // count/tpm for each obs\n",
    "}\n",
    "parameters {\n",
    "    vector<lower=0>[C] theta[G];   // loading factors for each gene, for each cell type\n",
    "    real log_gene_base[G];    // constant intercept expression level for each gene, irrespective of cell type\n",
    "}\n",
    "model {\n",
    "    real log_exp[N];\n",
    "    for (i in 1:G)\n",
    "        theta[i] ~ normal(0, 1);\n",
    "    log_gene_base ~ normal(0, 1);\n",
    "    for (n in 1:N)\n",
    "        log_exp[n] = log_gene_base[gene[n]] + log(x[n,]*theta[gene[n],]);\n",
    "    y ~ poisson_log(log_exp);\n",
    "}\n",
    "'''"
   ]
  },
  {
   "cell_type": "code",
   "execution_count": null,
   "metadata": {
    "collapsed": false
   },
   "outputs": [
    {
     "name": "stderr",
     "output_type": "stream",
     "text": [
      "INFO:pystan:COMPILING THE C++ CODE FOR MODEL anon_model_22d159166d0f17079f256856d3edd3eb NOW.\n"
     ]
    },
    {
     "name": "stdout",
     "output_type": "stream",
     "text": [
      "NOT reusing model.\n"
     ]
    }
   ],
   "source": [
    "alt_fit = data.cached_stan_fit(model_code=alt_stan_code, data=stan_data, chains=4, iter=5000)"
   ]
  },
  {
   "cell_type": "code",
   "execution_count": null,
   "metadata": {
    "collapsed": false
   },
   "outputs": [],
   "source": [
    "print(alt_fit)"
   ]
  },
  {
   "cell_type": "code",
   "execution_count": null,
   "metadata": {
    "collapsed": true
   },
   "outputs": [],
   "source": [
    "alt_fit.plot()"
   ]
  },
  {
   "cell_type": "code",
   "execution_count": null,
   "metadata": {
    "collapsed": true
   },
   "outputs": [],
   "source": []
  }
 ],
 "metadata": {
  "kernelspec": {
   "display_name": "immune-infiltrate (python3)",
   "language": "python",
   "name": "immune_infiltrate"
  },
  "language_info": {
   "codemirror_mode": {
    "name": "ipython",
    "version": 3
   },
   "file_extension": ".py",
   "mimetype": "text/x-python",
   "name": "python",
   "nbconvert_exporter": "python",
   "pygments_lexer": "ipython3",
   "version": "3.5.2"
  },
  "nav_menu": {},
  "toc": {
   "navigate_menu": true,
   "number_sections": true,
   "sideBar": true,
   "threshold": 6,
   "toc_cell": false,
   "toc_section_display": "block",
   "toc_window_display": false
  }
 },
 "nbformat": 4,
 "nbformat_minor": 0
}
