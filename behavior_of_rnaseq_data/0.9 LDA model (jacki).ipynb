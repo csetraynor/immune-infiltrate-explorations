{
 "cells": [
  {
   "cell_type": "code",
   "execution_count": 1,
   "metadata": {
    "collapsed": false
   },
   "outputs": [],
   "source": [
    "import data\n",
    "import seaborn as sns\n",
    "import numpy as np\n",
    "import pandas as pd\n",
    "import patsy\n",
    "%matplotlib inline"
   ]
  },
  {
   "cell_type": "code",
   "execution_count": 2,
   "metadata": {
    "collapsed": true
   },
   "outputs": [],
   "source": [
    "import pystan\n",
    "import stanity"
   ]
  },
  {
   "cell_type": "markdown",
   "metadata": {},
   "source": [
    "## load files for all cell types"
   ]
  },
  {
   "cell_type": "code",
   "execution_count": 3,
   "metadata": {
    "collapsed": false
   },
   "outputs": [
    {
     "name": "stdout",
     "output_type": "stream",
     "text": [
      "['CD4_Th2', 'CD8_Effector', 'B_CD5', 'B_Memory', 'CD4_Th1', 'CD4_Naive', 'B_Naive', 'CD4_Effector_Memory', 'CD8_Central_Memory', 'CD4_Central_Memory', 'CD4_Treg', 'CD8_Naive', 'CD4_Th17']\n"
     ]
    }
   ],
   "source": [
    "# list types of cells\n",
    "subsets = data.prep_filename_metadata()\n",
    "subsets['SubSet'].unique()\n",
    "all_types = list(subsets['SubSet'].unique())\n",
    "print(all_types)"
   ]
  },
  {
   "cell_type": "code",
   "execution_count": 4,
   "metadata": {
    "collapsed": false
   },
   "outputs": [],
   "source": [
    "df = data.load_by_cell_type(all_types, metadata=subsets)"
   ]
  },
  {
   "cell_type": "code",
   "execution_count": 5,
   "metadata": {
    "collapsed": false
   },
   "outputs": [],
   "source": [
    "df = data.prep_annotated_data(df)"
   ]
  },
  {
   "cell_type": "code",
   "execution_count": 6,
   "metadata": {
    "collapsed": false
   },
   "outputs": [],
   "source": [
    "assert all(pd.notnull(df['log1p_tpm_rescaled']))"
   ]
  },
  {
   "cell_type": "markdown",
   "metadata": {},
   "source": [
    "## prep gene ids"
   ]
  },
  {
   "cell_type": "markdown",
   "metadata": {},
   "source": [
    "For model-estimation, we first need to map each gene_name to a numeric ID. \n"
   ]
  },
  {
   "cell_type": "code",
   "execution_count": 7,
   "metadata": {
    "collapsed": false
   },
   "outputs": [],
   "source": [
    "df['gene_cat'] = df['gene_name'].astype('category')\n",
    "df['gene_id'] = df['gene_cat'].cat.codes+1"
   ]
  },
  {
   "cell_type": "markdown",
   "metadata": {},
   "source": [
    "## prep cell-type ids"
   ]
  },
  {
   "cell_type": "code",
   "execution_count": 8,
   "metadata": {
    "collapsed": true
   },
   "outputs": [],
   "source": [
    "df['B_cell'] = df['cell_type'].apply(lambda x: 1 if x == 'B' else 0)\n",
    "df['T_cell'] = df['cell_type'].apply(lambda x: 1 if x != 'B' else 0)"
   ]
  },
  {
   "cell_type": "code",
   "execution_count": 9,
   "metadata": {
    "collapsed": true
   },
   "outputs": [],
   "source": [
    "df['celltype_id'] = df['B_cell']+1"
   ]
  },
  {
   "cell_type": "code",
   "execution_count": 10,
   "metadata": {
    "collapsed": false
   },
   "outputs": [
    {
     "data": {
      "text/html": [
       "<div>\n",
       "<table border=\"1\" class=\"dataframe\">\n",
       "  <thead>\n",
       "    <tr style=\"text-align: right;\">\n",
       "      <th></th>\n",
       "      <th>sample_id</th>\n",
       "      <th>filename</th>\n",
       "      <th>gene_name</th>\n",
       "      <th>est_counts</th>\n",
       "      <th>tpm</th>\n",
       "      <th>log1p_tpm</th>\n",
       "      <th>log1p_counts</th>\n",
       "      <th>CCR6</th>\n",
       "      <th>CCR7</th>\n",
       "      <th>CD127</th>\n",
       "      <th>...</th>\n",
       "      <th>SubSet</th>\n",
       "      <th>cell_type</th>\n",
       "      <th>log1p_tpm_rescaled_type</th>\n",
       "      <th>log1p_tpm_rescaled_subset</th>\n",
       "      <th>log1p_tpm_rescaled</th>\n",
       "      <th>gene_cat</th>\n",
       "      <th>gene_id</th>\n",
       "      <th>B_cell</th>\n",
       "      <th>T_cell</th>\n",
       "      <th>celltype_id</th>\n",
       "    </tr>\n",
       "  </thead>\n",
       "  <tbody>\n",
       "    <tr>\n",
       "      <th>0</th>\n",
       "      <td>1</td>\n",
       "      <td>ERR431566</td>\n",
       "      <td>A1BG</td>\n",
       "      <td>56.743290</td>\n",
       "      <td>6.931783</td>\n",
       "      <td>2.070878</td>\n",
       "      <td>4.056007</td>\n",
       "      <td>None</td>\n",
       "      <td>None</td>\n",
       "      <td>None</td>\n",
       "      <td>...</td>\n",
       "      <td>CD4_Th2</td>\n",
       "      <td>CD4</td>\n",
       "      <td>-5.599303</td>\n",
       "      <td>-3.517738</td>\n",
       "      <td>-5.478180</td>\n",
       "      <td>A1BG</td>\n",
       "      <td>1</td>\n",
       "      <td>0</td>\n",
       "      <td>1</td>\n",
       "      <td>1</td>\n",
       "    </tr>\n",
       "    <tr>\n",
       "      <th>1</th>\n",
       "      <td>1</td>\n",
       "      <td>ERR431566</td>\n",
       "      <td>A1CF</td>\n",
       "      <td>5.194920</td>\n",
       "      <td>0.111335</td>\n",
       "      <td>0.105562</td>\n",
       "      <td>1.823730</td>\n",
       "      <td>None</td>\n",
       "      <td>None</td>\n",
       "      <td>None</td>\n",
       "      <td>...</td>\n",
       "      <td>CD4_Th2</td>\n",
       "      <td>CD4</td>\n",
       "      <td>-1.164584</td>\n",
       "      <td>-1.529020</td>\n",
       "      <td>-0.735391</td>\n",
       "      <td>A1CF</td>\n",
       "      <td>2</td>\n",
       "      <td>0</td>\n",
       "      <td>1</td>\n",
       "      <td>1</td>\n",
       "    </tr>\n",
       "    <tr>\n",
       "      <th>2</th>\n",
       "      <td>1</td>\n",
       "      <td>ERR431566</td>\n",
       "      <td>A2M</td>\n",
       "      <td>10.000009</td>\n",
       "      <td>3.877857</td>\n",
       "      <td>1.584706</td>\n",
       "      <td>2.397896</td>\n",
       "      <td>None</td>\n",
       "      <td>None</td>\n",
       "      <td>None</td>\n",
       "      <td>...</td>\n",
       "      <td>CD4_Th2</td>\n",
       "      <td>CD4</td>\n",
       "      <td>1.338389</td>\n",
       "      <td>-0.920287</td>\n",
       "      <td>1.188265</td>\n",
       "      <td>A2M</td>\n",
       "      <td>3</td>\n",
       "      <td>0</td>\n",
       "      <td>1</td>\n",
       "      <td>1</td>\n",
       "    </tr>\n",
       "    <tr>\n",
       "      <th>3</th>\n",
       "      <td>1</td>\n",
       "      <td>ERR431566</td>\n",
       "      <td>A2ML1</td>\n",
       "      <td>9.387660</td>\n",
       "      <td>1.860813</td>\n",
       "      <td>1.051106</td>\n",
       "      <td>2.340619</td>\n",
       "      <td>None</td>\n",
       "      <td>None</td>\n",
       "      <td>None</td>\n",
       "      <td>...</td>\n",
       "      <td>CD4_Th2</td>\n",
       "      <td>CD4</td>\n",
       "      <td>1.092135</td>\n",
       "      <td>1.947468</td>\n",
       "      <td>0.895292</td>\n",
       "      <td>A2ML1</td>\n",
       "      <td>4</td>\n",
       "      <td>0</td>\n",
       "      <td>1</td>\n",
       "      <td>1</td>\n",
       "    </tr>\n",
       "    <tr>\n",
       "      <th>4</th>\n",
       "      <td>1</td>\n",
       "      <td>ERR431566</td>\n",
       "      <td>A2MP1</td>\n",
       "      <td>31.000030</td>\n",
       "      <td>3.441394</td>\n",
       "      <td>1.490968</td>\n",
       "      <td>3.465737</td>\n",
       "      <td>None</td>\n",
       "      <td>None</td>\n",
       "      <td>None</td>\n",
       "      <td>...</td>\n",
       "      <td>CD4_Th2</td>\n",
       "      <td>CD4</td>\n",
       "      <td>1.945796</td>\n",
       "      <td>4.135726</td>\n",
       "      <td>1.532385</td>\n",
       "      <td>A2MP1</td>\n",
       "      <td>5</td>\n",
       "      <td>0</td>\n",
       "      <td>1</td>\n",
       "      <td>1</td>\n",
       "    </tr>\n",
       "  </tbody>\n",
       "</table>\n",
       "<p>5 rows × 31 columns</p>\n",
       "</div>"
      ],
      "text/plain": [
       "   sample_id   filename gene_name  est_counts       tpm  log1p_tpm  \\\n",
       "0          1  ERR431566      A1BG   56.743290  6.931783   2.070878   \n",
       "1          1  ERR431566      A1CF    5.194920  0.111335   0.105562   \n",
       "2          1  ERR431566       A2M   10.000009  3.877857   1.584706   \n",
       "3          1  ERR431566     A2ML1    9.387660  1.860813   1.051106   \n",
       "4          1  ERR431566     A2MP1   31.000030  3.441394   1.490968   \n",
       "\n",
       "   log1p_counts  CCR6  CCR7 CD127     ...       SubSet cell_type  \\\n",
       "0      4.056007  None  None  None     ...      CD4_Th2       CD4   \n",
       "1      1.823730  None  None  None     ...      CD4_Th2       CD4   \n",
       "2      2.397896  None  None  None     ...      CD4_Th2       CD4   \n",
       "3      2.340619  None  None  None     ...      CD4_Th2       CD4   \n",
       "4      3.465737  None  None  None     ...      CD4_Th2       CD4   \n",
       "\n",
       "  log1p_tpm_rescaled_type log1p_tpm_rescaled_subset log1p_tpm_rescaled  \\\n",
       "0               -5.599303                 -3.517738          -5.478180   \n",
       "1               -1.164584                 -1.529020          -0.735391   \n",
       "2                1.338389                 -0.920287           1.188265   \n",
       "3                1.092135                  1.947468           0.895292   \n",
       "4                1.945796                  4.135726           1.532385   \n",
       "\n",
       "  gene_cat gene_id B_cell T_cell celltype_id  \n",
       "0     A1BG       1      0      1           1  \n",
       "1     A1CF       2      0      1           1  \n",
       "2      A2M       3      0      1           1  \n",
       "3    A2ML1       4      0      1           1  \n",
       "4    A2MP1       5      0      1           1  \n",
       "\n",
       "[5 rows x 31 columns]"
      ]
     },
     "execution_count": 10,
     "metadata": {},
     "output_type": "execute_result"
    }
   ],
   "source": [
    "df.head()"
   ]
  },
  {
   "cell_type": "markdown",
   "metadata": {},
   "source": [
    "## prep sample data"
   ]
  },
  {
   "cell_type": "markdown",
   "metadata": {},
   "source": [
    "The example LDA code from the Stan manual uses a document-topic modeling framework, in which several word counts are observed per document & used to infer topics.\n",
    "\n",
    "We will apply this to our dataset as an example / POC, using the following translations:\n",
    "\n",
    "* document -> sample\n",
    "* word -> gene\n",
    "* topic -> cell type\n",
    "\n",
    "The data used for this example includes one record per *word* observed. IE a word that appears 10 times results in 10 records in the dataset.\n",
    "\n",
    "To simulate this, we will first select a random subset of genes, and modify the Stan code to effectively \"expand\" our observations by the number of counts observed.\n"
   ]
  },
  {
   "cell_type": "markdown",
   "metadata": {},
   "source": [
    "We will wrap this in a function `prep_stan_data` so that ids assigned within the function can be passed to the `stan_data` dict."
   ]
  },
  {
   "cell_type": "code",
   "execution_count": 15,
   "metadata": {
    "collapsed": false
   },
   "outputs": [],
   "source": [
    "def prep_stan_data(df, sample_genes=None, y_col='est_counts'):\n",
    "    df['counts'] = df[y_col].astype(int)\n",
    "    new_df = df.loc[df['counts']>0,:].copy()\n",
    "    if sample_genes:\n",
    "        sampled_genes = new_df.drop_duplicates(subset='gene_id').sample(n=sample_genes).loc[:,'gene_id']\n",
    "        new_df = pd.merge(new_df, pd.DataFrame(sampled_genes), on='gene_id', how='inner')\n",
    "    new_df['new_gene_cat'] = new_df['gene_name'].astype('category')\n",
    "    new_df['new_gene_id'] = new_df['new_gene_cat'].cat.codes+1\n",
    "    per_sample = new_df.drop_duplicates(subset='sample_id').sort_values('sample_id')\n",
    "    stan_data = {'N': len(new_df.index),\n",
    "                 'V': len(new_df.new_gene_id.unique()),\n",
    "                 'M': len(new_df.sample_id.unique()),\n",
    "                 'K': max(new_df.celltype_id),\n",
    "                 'w': new_df.new_gene_id.values,\n",
    "                 'doc': new_df.sample_id.values,\n",
    "                 'counts': new_df.est_counts.astype(int).values,\n",
    "                 'topic': new_df.celltype_id.astype(int).values,\n",
    "                }\n",
    "    stan_data.update({'alpha': np.repeat(1./stan_data['K'], repeats=stan_data['K'])})\n",
    "    stan_data.update({'beta': np.repeat(1./stan_data['V'], repeats=stan_data['V'])})\n",
    "    return stan_data"
   ]
  },
  {
   "cell_type": "markdown",
   "metadata": {},
   "source": [
    "## (modified) LDA model"
   ]
  },
  {
   "cell_type": "markdown",
   "metadata": {},
   "source": [
    "The LDA model code below is taken from the Stan Manual (v2.12) with few modifications.\n",
    "\n",
    "1. labeled `topics`, since the composition for these cells is known\n",
    "2. `target += ... ` is repeated for each count observed\n",
    "\n",
    "Otherwise, the model is basically the same."
   ]
  },
  {
   "cell_type": "code",
   "execution_count": 20,
   "metadata": {
    "collapsed": false
   },
   "outputs": [
    {
     "name": "stdout",
     "output_type": "stream",
     "text": [
      "20\n"
     ]
    }
   ],
   "source": [
    "stan_data = prep_stan_data(sample, sample_genes=20, y_col='tpm')\n",
    "print(stan_data['V'])"
   ]
  },
  {
   "cell_type": "code",
   "execution_count": 17,
   "metadata": {
    "collapsed": true
   },
   "outputs": [],
   "source": [
    "stan_code_lda = '''\n",
    "data {\n",
    "    // dimensions\n",
    "    int<lower=2> K; // num topics\n",
    "    int<lower=2> V; // num words\n",
    "    int<lower=1> M; // num docs\n",
    "    int<lower=1> N; // total word instances\n",
    "    \n",
    "    // observed data per word*doc combination\n",
    "    int<lower=1,upper=V> w[N];     // word n\n",
    "    int<lower=1,upper=M> doc[N];   // doc ID for word n\n",
    "    int<lower=1> counts[N];        // number of times word w[n] observed in doc[n]\n",
    "    int<lower=0,upper=K> topic[N]; // topic for word n\n",
    "    \n",
    "    // prior on \"words\"\n",
    "    // vector<lower=0>[K] alpha; // topic prior\n",
    "    vector<lower=0>[V] beta; // word prior\n",
    "}\n",
    "parameters {\n",
    "    //simplex[K] theta[M]; // topic dist for doc m\n",
    "    simplex[V] phi[K]; // word dist for topic k\n",
    "}\n",
    "model {\n",
    "    //for (m in 1:M)\n",
    "    //    theta[m] ~ dirichlet(type[m,]); // prior\n",
    "    for (k in 1:K)\n",
    "        phi[k] ~ dirichlet(beta); // prior\n",
    "    for (n in 1:N) {\n",
    "        real gamma[K];\n",
    "        real logsumexp;\n",
    "        for (k in 1:K)\n",
    "            gamma[k] = log(phi[topic[n], w[n]]);\n",
    "        logsumexp = log_sum_exp(gamma);\n",
    "        for (i in 1:counts[n])\n",
    "            target += logsumexp; // likelihood, repeat for each count;\n",
    "    }\n",
    "}\n",
    "'''"
   ]
  },
  {
   "cell_type": "code",
   "execution_count": null,
   "metadata": {
    "collapsed": false
   },
   "outputs": [
    {
     "name": "stdout",
     "output_type": "stream",
     "text": [
      "Reusing model.\n"
     ]
    }
   ],
   "source": [
    "fit = stanity.fit(model_code=stan_code_lda, data=stan_data, iter=10000, chains=4)"
   ]
  },
  {
   "cell_type": "code",
   "execution_count": 22,
   "metadata": {
    "collapsed": false
   },
   "outputs": [
    {
     "name": "stdout",
     "output_type": "stream",
     "text": [
      "Inference for Stan model: anon_model_1d3d56ecdbb488e7a39129b7d0cd7921.\n",
      "4 chains, each with iter=1000; warmup=500; thin=1; \n",
      "post-warmup draws per chain=500, total post-warmup draws=2000.\n",
      "\n",
      "            mean se_mean     sd   2.5%    25%    50%    75%  97.5%  n_eff   Rhat\n",
      "phi[0,0]  1.0e-5  8.5e-8 3.2e-6 4.9e-6 8.0e-610.0e-6 1.2e-5 1.7e-5 1406.0    nan\n",
      "phi[1,0]  1.3e-5  1.6e-7 5.9e-6 4.1e-6 8.5e-6 1.2e-5 1.6e-5 2.6e-5 1413.0    nan\n",
      "phi[0,1]    0.04  4.2e-6 1.9e-4   0.04   0.04   0.04   0.04   0.04 2000.0    nan\n",
      "phi[1,1]    0.02  5.8e-6 2.3e-4   0.02   0.02   0.02   0.02   0.02 1558.0    nan\n",
      "phi[0,2]  3.6e-4  5.5e-7 2.0e-5 3.3e-4 3.5e-4 3.6e-4 3.8e-4 4.1e-4 1319.0    nan\n",
      "phi[1,2]  6.0e-5  3.4e-7 1.3e-5 3.8e-5 5.1e-5 5.9e-5 6.9e-5 8.7e-5 1444.0    nan\n",
      "phi[0,3]  4.3e-5  1.6e-7 6.6e-6 3.2e-5 3.9e-5 4.3e-5 4.8e-5 5.7e-5 1671.0    nan\n",
      "phi[1,3]  1.8e-4  5.8e-7 2.1e-5 1.4e-4 1.6e-4 1.8e-4 1.9e-4 2.2e-4 1301.0    nan\n",
      "phi[0,4]  1.7e-4  3.7e-7 1.3e-5 1.5e-4 1.6e-4 1.7e-4 1.8e-4 2.0e-4 1194.0    nan\n",
      "phi[1,4]  5.6e-4  1.1e-6 4.0e-5 4.9e-4 5.3e-4 5.6e-4 5.8e-4 6.4e-4 1265.0    nan\n",
      "phi[0,5]    0.86  7.8e-6 3.5e-4   0.85   0.86   0.86   0.86   0.86 2000.0    nan\n",
      "phi[1,5]    0.73  1.6e-5 7.4e-4   0.73   0.73   0.73   0.73   0.73 2000.0    nan\n",
      "phi[0,6] 10.0e-3  2.3e-6 1.0e-4 9.8e-3 9.9e-310.0e-3   0.01   0.01 1908.0    nan\n",
      "phi[1,6]  7.6e-3  3.6e-6 1.4e-4 7.3e-3 7.5e-3 7.6e-3 7.7e-3 7.9e-3 1513.0    nan\n",
      "phi[0,7]  9.0e-5  2.3e-7 9.5e-6 7.3e-5 8.4e-5 9.0e-5 9.6e-5 1.1e-4 1639.0    nan\n",
      "phi[1,7]  1.1e-4  4.4e-7 1.6e-5 8.0e-5 9.8e-5 1.1e-4 1.2e-4 1.4e-4 1343.0    nan\n",
      "phi[0,8]  3.5e-4  5.0e-7 1.9e-5 3.2e-4 3.4e-4 3.5e-4 3.7e-4 3.9e-4 1356.0    nan\n",
      "phi[1,8]  1.9e-4  6.2e-7 2.2e-5 1.5e-4 1.7e-4 1.9e-4 2.0e-4 2.3e-4 1223.0    nan\n",
      "phi[0,9]  1.3e-5  9.4e-8 3.6e-6 7.3e-6 1.1e-5 1.3e-5 1.6e-5 2.1e-5 1466.0    nan\n",
      "phi[1,9]  2.7e-6  6.0e-8 2.7e-6 7.5e-8 8.2e-7 1.8e-6 3.8e-6 1.0e-5 2000.0    nan\n",
      "phi[0,10] 4.9e-8  5.3e-9 2.4e-72.0e-385.3e-192.3e-13 1.6e-9 5.4e-7 2000.0    nan\n",
      "phi[1,10] 1.8e-5  1.7e-7 7.1e-6 7.6e-6 1.3e-5 1.8e-5 2.3e-5 3.5e-5 1684.0    nan\n",
      "phi[0,11] 9.2e-6  8.7e-8 3.2e-6 4.1e-6 6.9e-6 8.8e-6 1.1e-5 1.7e-5 1348.0    nan\n",
      "phi[1,11] 3.2e-5  2.6e-7 8.6e-6 1.7e-5 2.5e-5 3.1e-5 3.7e-5 5.0e-5 1071.0    nan\n",
      "phi[0,12] 1.7e-5  9.7e-8 4.1e-6 1.0e-5 1.4e-5 1.7e-5 2.0e-5 2.6e-5 1815.0    nan\n",
      "phi[1,12] 1.0e-5  1.3e-7 5.0e-6 3.0e-6 6.6e-6 9.7e-6 1.3e-5 2.2e-5 1409.0    nan\n",
      "phi[0,13] 2.3e-5  1.2e-7 4.6e-6 1.4e-5 1.9e-5 2.2e-5 2.6e-5 3.3e-5 1570.0    nan\n",
      "phi[1,13] 3.1e-5  2.4e-7 9.1e-6 1.6e-5 2.5e-5 3.0e-5 3.6e-5 5.1e-5 1448.0    nan\n",
      "phi[0,14] 2.1e-6  3.9e-8 1.5e-6 2.3e-7 9.8e-7 1.7e-6 2.8e-6 5.9e-6 1488.0    nan\n",
      "phi[1,14] 1.5e-7  1.4e-8 6.5e-72.8e-392.3e-181.3e-12 3.2e-9 1.9e-6 2000.0    nan\n",
      "phi[0,15] 4.9e-4  6.4e-7 2.1e-5 4.5e-4 4.8e-4 4.9e-4 5.0e-4 5.3e-4 1089.0    nan\n",
      "phi[1,15] 5.6e-4  1.1e-6 3.9e-5 4.9e-4 5.3e-4 5.6e-4 5.9e-4 6.4e-4 1378.0    nan\n",
      "phi[0,16] 2.1e-5  1.3e-7 4.7e-6 1.3e-5 1.8e-5 2.1e-5 2.4e-5 3.1e-5 1230.0    nan\n",
      "phi[1,16] 4.5e-5  2.7e-7 1.1e-5 2.6e-5 3.7e-5 4.4e-5 5.1e-5 6.8e-5 1658.0    nan\n",
      "phi[0,17]   0.08  6.0e-6 2.7e-4   0.08   0.08   0.08   0.08   0.08 2000.0    nan\n",
      "phi[1,17]   0.23  1.5e-5 6.9e-4   0.23   0.23   0.23   0.23   0.23 2000.0    nan\n",
      "phi[0,18] 6.0e-3  2.0e-6 7.9e-5 5.9e-3 6.0e-3 6.0e-3 6.1e-3 6.2e-3 1617.0    nan\n",
      "phi[1,18] 5.1e-3  3.4e-6 1.2e-4 4.9e-3 5.1e-3 5.1e-3 5.2e-3 5.4e-3 1191.0    nan\n",
      "phi[0,19]   0.01  2.3e-6 1.0e-4   0.01   0.01   0.01   0.01   0.01 2000.0    nan\n",
      "phi[1,19] 1.7e-3  2.0e-6 6.6e-5 1.6e-3 1.6e-3 1.7e-3 1.7e-3 1.8e-3 1052.0    nan\n",
      "lp__       8.0e4    0.16   4.41  8.0e4  8.0e4  8.0e4  8.0e4  8.0e4  734.0    1.0\n",
      "\n",
      "Samples were drawn using NUTS at Mon Oct 10 22:07:58 2016.\n",
      "For each parameter, n_eff is a crude measure of effective sample size,\n",
      "and Rhat is the potential scale reduction factor on split chains (at \n",
      "convergence, Rhat=1).\n"
     ]
    }
   ],
   "source": [
    "print(fit)"
   ]
  },
  {
   "cell_type": "code",
   "execution_count": null,
   "metadata": {
    "collapsed": true
   },
   "outputs": [],
   "source": []
  }
 ],
 "metadata": {
  "kernelspec": {
   "display_name": "python2",
   "language": "python",
   "name": "python2"
  },
  "language_info": {
   "codemirror_mode": {
    "name": "ipython",
    "version": 2
   },
   "file_extension": ".py",
   "mimetype": "text/x-python",
   "name": "python",
   "nbconvert_exporter": "python",
   "pygments_lexer": "ipython2",
   "version": "2.7.12"
  },
  "nav_menu": {},
  "toc": {
   "navigate_menu": true,
   "number_sections": true,
   "sideBar": true,
   "threshold": 6,
   "toc_cell": false,
   "toc_section_display": "block",
   "toc_window_display": false
  }
 },
 "nbformat": 4,
 "nbformat_minor": 0
}
