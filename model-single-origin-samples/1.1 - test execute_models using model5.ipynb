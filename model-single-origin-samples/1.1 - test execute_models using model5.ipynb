{
 "cells": [
  {
   "cell_type": "code",
   "execution_count": 2,
   "metadata": {
    "collapsed": false
   },
   "outputs": [],
   "source": [
    "import execute"
   ]
  },
  {
   "cell_type": "code",
   "execution_count": null,
   "metadata": {
    "collapsed": false
   },
   "outputs": [
    {
     "name": "stderr",
     "output_type": "stream",
     "text": [
      "INFO:cache:prep_sample_df: Loading result from cache\n",
      "INFO:cache:Step 1: Get compiled model code, possibly from cache\n",
      "INFO:cache:StanModel: Loading result from cache\n",
      "INFO:cache:Step 2: Get posterior draws from model, possibly from cache\n",
      "INFO:cache:sampling: Starting execution\n"
     ]
    }
   ],
   "source": [
    "execute.execute_models(model_list=['model5'], iter=500, chains=4)"
   ]
  },
  {
   "cell_type": "code",
   "execution_count": null,
   "metadata": {
    "collapsed": true
   },
   "outputs": [],
   "source": []
  }
 ],
 "metadata": {
  "kernelspec": {
   "display_name": "immune-infiltrate (python3)",
   "language": "python",
   "name": "immune_infiltrate"
  },
  "language_info": {
   "codemirror_mode": {
    "name": "ipython",
    "version": 3
   },
   "file_extension": ".py",
   "mimetype": "text/x-python",
   "name": "python",
   "nbconvert_exporter": "python",
   "pygments_lexer": "ipython3",
   "version": "3.5.2"
  }
 },
 "nbformat": 4,
 "nbformat_minor": 1
}
