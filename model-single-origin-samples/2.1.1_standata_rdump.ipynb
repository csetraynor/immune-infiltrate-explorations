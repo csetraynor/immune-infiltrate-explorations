{
 "cells": [
  {
   "cell_type": "code",
   "execution_count": 1,
   "metadata": {
    "ExecuteTime": {
     "end_time": "2017-11-03T14:44:07.079496Z",
     "start_time": "2017-11-03T14:44:06.032096Z"
    },
    "collapsed": true
   },
   "outputs": [],
   "source": [
    "import pickle\n",
    "from pystan import stan_rdump"
   ]
  },
  {
   "cell_type": "code",
   "execution_count": 20,
   "metadata": {
    "ExecuteTime": {
     "end_time": "2017-11-03T14:54:30.343558Z",
     "start_time": "2017-11-03T14:54:30.339806Z"
    },
    "collapsed": true
   },
   "outputs": [],
   "source": [
    "import pandas as pd"
   ]
  },
  {
   "cell_type": "code",
   "execution_count": 2,
   "metadata": {
    "ExecuteTime": {
     "end_time": "2017-11-03T14:44:11.064243Z",
     "start_time": "2017-11-03T14:44:10.743906Z"
    },
    "collapsed": true
   },
   "outputs": [],
   "source": [
    "stan_data = pickle.load(open('/modelcache/experiments/20170831_2.1.1markergenes/2.1.1_standata.pkl', 'rb'))"
   ]
  },
  {
   "cell_type": "code",
   "execution_count": 3,
   "metadata": {
    "ExecuteTime": {
     "end_time": "2017-11-03T14:44:19.242681Z",
     "start_time": "2017-11-03T14:44:19.227689Z"
    },
    "collapsed": false
   },
   "outputs": [
    {
     "data": {
      "text/plain": [
       "dict_keys(['N', 'G', 'S', 'C', 'gene', 'sample', 'x', 'y', 'cell_features', 'M', 'N2', 'S2', 'gene2', 'sample2', 'y2', 'x2'])"
      ]
     },
     "execution_count": 3,
     "metadata": {},
     "output_type": "execute_result"
    }
   ],
   "source": [
    "stan_data.keys()"
   ]
  },
  {
   "cell_type": "code",
   "execution_count": 24,
   "metadata": {
    "ExecuteTime": {
     "end_time": "2017-11-03T14:55:53.383308Z",
     "start_time": "2017-11-03T14:55:53.372430Z"
    },
    "collapsed": false
   },
   "outputs": [
    {
     "name": "stdout",
     "output_type": "stream",
     "text": [
      "N\n",
      "G\n",
      "S\n",
      "C\n",
      "gene\n",
      "sample\n",
      "x\n",
      "y\n",
      "cell_features\n",
      "M\n",
      "N2\n",
      "S2\n",
      "gene2\n",
      "sample2\n",
      "y2\n",
      "x2\n"
     ]
    }
   ],
   "source": [
    "stan_data_rtypes = {}\n",
    "\n",
    "for k in stan_data.keys():\n",
    "    print(k)\n",
    "    if type(stan_data[k]) is pd.core.frame.DataFrame:\n",
    "        stan_data_rtypes[k] = stan_data[k].as_matrix()\n",
    "    else:\n",
    "         stan_data_rtypes[k]= stan_data[k]\n"
   ]
  },
  {
   "cell_type": "code",
   "execution_count": 25,
   "metadata": {
    "ExecuteTime": {
     "end_time": "2017-11-03T14:55:59.198610Z",
     "start_time": "2017-11-03T14:55:59.173096Z"
    },
    "collapsed": false,
    "scrolled": true
   },
   "outputs": [
    {
     "data": {
      "text/plain": [
       "{'C': 13,\n",
       " 'G': 798,\n",
       " 'M': 20,\n",
       " 'N': 50274,\n",
       " 'N2': 7980,\n",
       " 'S': 63,\n",
       " 'S2': 10,\n",
       " 'cell_features': array([[ 0.,  0.,  0.,  0.,  0.,  0.,  0.,  0.,  0.,  1.,  0.,  0.,  0.,\n",
       "          0.,  0.,  0.,  0.,  1.,  0.,  1.],\n",
       "        [ 0.,  0.,  1.,  0.,  0.,  0.,  0.,  0.,  0.,  0.,  0.,  1.,  1.,\n",
       "          0.,  0.,  0.,  1.,  0.,  0.,  0.],\n",
       "        [ 0.,  0.,  0.,  0.,  0.,  1.,  0.,  0.,  0.,  0.,  0.,  0.,  0.,\n",
       "          0.,  1.,  0.,  0.,  0.,  0.,  0.],\n",
       "        [ 0.,  0.,  0.,  0.,  0.,  1.,  0.,  1.,  0.,  0.,  0.,  0.,  0.,\n",
       "          0.,  0.,  1.,  0.,  0.,  0.,  0.],\n",
       "        [ 0.,  0.,  0.,  0.,  0.,  0.,  0.,  0.,  0.,  1.,  0.,  0.,  0.,\n",
       "          0.,  0.,  0.,  0.,  0.,  1.,  0.],\n",
       "        [ 0.,  1.,  0.,  0.,  0.,  0.,  0.,  0.,  0.,  1.,  1.,  0.,  0.,\n",
       "          1.,  0.,  0.,  0.,  0.,  0.,  0.],\n",
       "        [ 0.,  0.,  0.,  0.,  0.,  1.,  0.,  0.,  1.,  0.,  0.,  0.,  0.,\n",
       "          0.,  0.,  1.,  0.,  0.,  0.,  0.],\n",
       "        [ 0.,  0.,  1.,  0.,  0.,  0.,  0.,  0.,  0.,  1.,  0.,  1.,  1.,\n",
       "          0.,  0.,  0.,  0.,  0.,  0.,  0.],\n",
       "        [ 0.,  1.,  0.,  0.,  0.,  0.,  0.,  0.,  0.,  0.,  0.,  1.,  1.,\n",
       "          0.,  0.,  0.,  1.,  0.,  0.,  0.],\n",
       "        [ 0.,  1.,  0.,  0.,  0.,  0.,  0.,  0.,  0.,  1.,  0.,  1.,  1.,\n",
       "          0.,  0.,  0.,  0.,  0.,  0.,  0.],\n",
       "        [ 0.,  0.,  0.,  1.,  0.,  0.,  1.,  0.,  0.,  1.,  0.,  0.,  0.,\n",
       "          0.,  0.,  0.,  0.,  0.,  0.,  0.],\n",
       "        [ 0.,  1.,  0.,  0.,  0.,  0.,  0.,  0.,  0.,  0.,  1.,  0.,  0.,\n",
       "          1.,  0.,  0.,  1.,  0.,  0.,  0.],\n",
       "        [ 1.,  0.,  0.,  0.,  1.,  0.,  0.,  0.,  0.,  1.,  0.,  0.,  0.,\n",
       "          0.,  0.,  0.,  0.,  0.,  0.,  1.]]),\n",
       " 'gene': array([  1,   1,   1, ..., 798, 798, 798], dtype=int16),\n",
       " 'gene2': array([  1,   1,   1, ..., 798, 798, 798]),\n",
       " 'sample': array([ 1,  2,  3, ..., 61, 62, 63], dtype=int8),\n",
       " 'sample2': array([ 1,  2,  3, ...,  8,  9, 10], dtype=int8),\n",
       " 'x': array([[ 0.,  0.,  0., ...,  0.,  0.,  0.],\n",
       "        [ 0.,  0.,  0., ...,  0.,  1.,  0.],\n",
       "        [ 1.,  0.,  0., ...,  0.,  0.,  0.],\n",
       "        ..., \n",
       "        [ 0.,  0.,  0., ...,  0.,  0.,  0.],\n",
       "        [ 0.,  0.,  0., ...,  0.,  0.,  1.],\n",
       "        [ 0.,  0.,  0., ...,  0.,  0.,  0.]]),\n",
       " 'x2': array([[ 0.  ,  0.5 ,  0.5 ,  0.  ,  0.  ,  0.  ,  0.  ,  0.  ,  0.  ,\n",
       "          0.  ,  0.  ,  0.  ,  0.  ],\n",
       "        [ 0.  ,  0.5 ,  0.5 ,  0.  ,  0.  ,  0.  ,  0.  ,  0.  ,  0.  ,\n",
       "          0.  ,  0.  ,  0.  ,  0.  ],\n",
       "        [ 0.  ,  0.75,  0.25,  0.  ,  0.  ,  0.  ,  0.  ,  0.  ,  0.  ,\n",
       "          0.  ,  0.  ,  0.  ,  0.  ],\n",
       "        [ 0.  ,  0.75,  0.25,  0.  ,  0.  ,  0.  ,  0.  ,  0.  ,  0.  ,\n",
       "          0.  ,  0.  ,  0.  ,  0.  ],\n",
       "        [ 0.  ,  0.25,  0.75,  0.  ,  0.  ,  0.  ,  0.  ,  0.  ,  0.  ,\n",
       "          0.  ,  0.  ,  0.  ,  0.  ],\n",
       "        [ 0.  ,  0.25,  0.75,  0.  ,  0.  ,  0.  ,  0.  ,  0.  ,  0.  ,\n",
       "          0.  ,  0.  ,  0.  ,  0.  ],\n",
       "        [ 0.  ,  0.  ,  0.5 ,  0.  ,  0.  ,  0.  ,  0.  ,  0.  ,  0.  ,\n",
       "          0.5 ,  0.  ,  0.  ,  0.  ],\n",
       "        [ 0.  ,  0.  ,  0.25,  0.  ,  0.  ,  0.  ,  0.  ,  0.  ,  0.  ,\n",
       "          0.75,  0.  ,  0.  ,  0.  ],\n",
       "        [ 0.  ,  0.  ,  0.5 ,  0.  ,  0.  ,  0.  ,  0.  ,  0.  ,  0.  ,\n",
       "          0.5 ,  0.  ,  0.  ,  0.  ],\n",
       "        [ 0.  ,  0.  ,  0.25,  0.  ,  0.  ,  0.  ,  0.  ,  0.  ,  0.  ,\n",
       "          0.75,  0.  ,  0.  ,  0.  ]]),\n",
       " 'y': array([  1,   2, 782, ...,  14,  10,   3]),\n",
       " 'y2': array([206, 759, 173, ...,  12,   5,   4])}"
      ]
     },
     "execution_count": 25,
     "metadata": {},
     "output_type": "execute_result"
    }
   ],
   "source": [
    "stan_data_rtypes"
   ]
  },
  {
   "cell_type": "code",
   "execution_count": 29,
   "metadata": {
    "ExecuteTime": {
     "end_time": "2017-11-03T14:58:27.795869Z",
     "start_time": "2017-11-03T14:58:26.414922Z"
    },
    "collapsed": false
   },
   "outputs": [],
   "source": [
    "stan_rdump(stan_data_rtypes, '2.1.1_standata.data.R')"
   ]
  }
 ],
 "metadata": {
  "kernelspec": {
   "display_name": "Python 3",
   "language": "python",
   "name": "python3"
  },
  "language_info": {
   "codemirror_mode": {
    "name": "ipython",
    "version": 3
   },
   "file_extension": ".py",
   "mimetype": "text/x-python",
   "name": "python",
   "nbconvert_exporter": "python",
   "pygments_lexer": "ipython3",
   "version": "3.6.0"
  }
 },
 "nbformat": 4,
 "nbformat_minor": 2
}
