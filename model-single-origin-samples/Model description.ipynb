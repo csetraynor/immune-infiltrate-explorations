{
 "cells": [
  {
   "cell_type": "markdown",
   "metadata": {},
   "source": [
    "\n",
    "# Immune infiltrate model\n",
    "\n",
    "The goal of this notebook is to describe the basic hierarchical immune infiltrate model and variations thereof.\n",
    "\n",
    "In general, the goal is to explain the basic assumptions made & correspond each variation of the model to the versions implemented in Stan. \n",
    "\n",
    "Just for review, the stan code for models are contained within the [./models](models) folder of this directory. Each model is numbered & contains a description. \n",
    "\n",
    "In this document we will largely refer to those models by number. \n",
    "\n",
    "\n"
   ]
  },
  {
   "cell_type": "markdown",
   "metadata": {},
   "source": [
    "## Problem context\n",
    "\n",
    "The basic data we are attempting to describe consist of counts of transcripts from a bulk-biopsy sample. \n",
    "\n",
    "Say we have N transcripts; the outcome data (`y`) consist of N datapoints, where each is a count of how many transcripts have been observed in that sample.\n",
    "\n",
    "A few comments about the data:\n",
    "\n",
    "- These are typically not considered absolute counts; more often they are treated as relative counts since the total number of cells is not known. However, they are (in their raw form) integers. \n",
    "- Bulk-biopsy samples are comprised of many cells; we are making an assumption that the expression levels for the sample are the sum of the expression levels of the individual cells comprising that sample.\n",
    "    - There is a fair amount of evidence (c.f. [this doc - link TK]()) supporting an assumption that the counts of transcripts observed in a sample are additive.\n",
    "\n",
    "At any rate, the goal is to determine the components of that mixture. IE what proportion of the cells are of particular types. \n",
    "\n",
    "To support this goal, we have a vector of cells types with typical expression vectors for each type. \n",
    "\n",
    "## Basic mixture components\n",
    "\n",
    "This yields a simplest form of our model for the expression of a mixture of cells, according to components of that mixture.\n",
    "\n",
    "We start by envisioning a set of $ N_{t} $ cells of type $t$.\n",
    "\n",
    "The per-transcript expression count for that set of cells can be modeled as a vector $ C_{t} $:\n",
    "\n",
    "$$ C_{t} = N_{t} * A_{t} $$ \n",
    "\n",
    "where $A_{t}$ is a vector describing typical per-cell expression levels for a cell of type $t$. \n",
    "\n",
    "Since C is constrained to be positive, and since the majority of At values are small, we are better off working on a log-scale.\n",
    "\n",
    "This would more likely look something like: \n",
    "\n",
    "$$ lN_{t} = log(N_{t}) $$\n",
    "$$ lA_{t} = log(A_{t}) $$\n",
    "$$ log(C_{t}) = lN_{t} + lA_{t} $$\n",
    "\n",
    "For a mixture of T cell types, our transcript-level count totals `C` would be the sum over the cell-specific counts for that transcript type.\n",
    "\n",
    "IE:\n",
    "\n",
    "$$ log(C) = log(\\sum_{t=1}^{T} {C_{t}}) $$\n",
    "$$ log(C) = log(\\sum_{t=1}^{T} {exp(log(C_{t}))}) $$\n",
    "$$ log(C) = log(\\sum_{t=1}^{T} {exp(lN_{t} + lA_{t} )}) $$\n",
    "\n",
    "Stan has a function `log_sum_exp` that implements an arithmetically stable version of this very operation (computing the log of sum of exponents). \n",
    "\n",
    "Note, also, that in practice, we don't have any data to inform the total sum of cells in a given sample. \n",
    "\n",
    "We instead constrain the values of $N$ to sum to 1, by using the `simplex` data type for this vector.\n"
   ]
  },
  {
   "cell_type": "markdown",
   "metadata": {},
   "source": [
    "## Modeling variability\n",
    "\n",
    "There are two ways we can model the observed counts given parameter values. \n",
    "\n",
    "There are a few ways to think about this:\n",
    "\n",
    "1. What is expected variation of true counts among individual cells of the same type?\n",
    "    - If we could measure the true count of transcripts **per cell**, would we expect them to be identical? Or would there be some distribution of those counts per type?\n",
    "    - My sense of this is that *Yes* we would expect variation & that the variation would depend on the transcript\n",
    "2. What is the expected measurement error in observed counts for a set of cells, given a known \"true count\" value?\n",
    "    - Here I expect some measurement error, and this may or may not depend on the transcript. \n",
    "    - It may depend on the transcript length, for example.\n",
    "\n",
    "I ask these questions before going into the way we model the probability of observing a count of X for a transcript t, because how we model the variability has implications for how flexibly we can approach the above-mentioned items.\n",
    "\n",
    "In general, we have a choice between treating the cell-type-specific estimates $ lN_{t} $ and $ lA_{t} $ as parameters, or as log-probabilities directly. \n",
    "\n",
    "Early versions of this model used the parameter values to compute the expected counts `C`, which were modeled as random variables with a negative-binomial distribution. \n",
    "\n",
    "Later iterations will instead parameterize each type-specific count as a neg_binomial_lpmf which are then summed to yield the observed values of $C$.\n"
   ]
  },
  {
   "cell_type": "markdown",
   "metadata": {},
   "source": [
    "## Modeling the similarity of cell types\n",
    "\n",
    "A second question, orthogonal to that of the first, concerns approaches to modeling the hierarchy of (or similarities among) different cell types. \n",
    "\n",
    "Currently, we are modeling this by imposing a correlation matrix on the cell-type-specific expression levels for each transcript: $ A_{t} $ . \n",
    "\n",
    "Rather than impose a strict hierarchy, we instead assume that cell types which are more highly correlated are more similar to one another than cell types which are not highly correlated. \n",
    "\n",
    "Currently, this correlation among cell types is estimated from the data, but it could also be informed by priors given the known relatedness of cell types.\n",
    "\n",
    "Also, currently, this correlation is modeled for each transcript using two components:\n",
    "\n",
    "- an correlation matrix among the cell types \n",
    "- a covariance matrix derived from the correlation matrix, which accounts for variations by transcript\n",
    "\n",
    "This approach is described in comments following [issue 2](https://github.com/hammerlab/immune-infiltrate-explorations/issues/2)\n",
    "\n",
    "### cell-type features\n",
    "\n",
    "Model 6 is a variation in which expression of each transcript is a function of features at the level of the cell type. So, a particular transcript $i$ might be more likely to be expressed among cells with a particular cell-surface marker, or might be similarly expressed among all B cells.\n",
    "\n",
    "This is one way to include information about higher-level categorizations of cell types (e.g. B vs T cell). It can instead allows for transcript-level expression to be a function of cell-surface-marker presence. E.g. CD8+ cells may be defined by expression of a subset of transcripts. \n",
    "\n",
    "This feature is also described in [issue 2](https://github.com/hammerlab/immune-infiltrate-explorations/issues/2)\n"
   ]
  },
  {
   "cell_type": "markdown",
   "metadata": {},
   "source": [
    "## Sample features\n",
    "\n",
    "In addition to the typical expression profile by cell type ($A_{t}$), we will want to include at least one additional parameter for sample-specific variation in counts: $a_{s}$. \n",
    "\n",
    "We include this parameter to capture sample-level contributions to transcript-specific expression.\n",
    "\n",
    "Note that we could also include a sample-specific contribution to the \"error\" or dispersion ($\\sigma_{s}$), but this has not been done to date. In fact, many of our current models include fixed values of `nu` for all observed datapoints. \n"
   ]
  },
  {
   "cell_type": "markdown",
   "metadata": {},
   "source": [
    "## Putting pieces together"
   ]
  },
  {
   "cell_type": "markdown",
   "metadata": {},
   "source": [
    "Given: \n",
    "\n",
    "- Sample identifiers $ s $ numbered from 1..$S$\n",
    "- Cell type identifiers $ t $ numbered from 1..$T$\n",
    "- Transcript identifiers $ i $ numbered from 1..$I$\n",
    "- Known proportions $ x_{ts} $ of each sample $ s $ that is of a particular cell type $ t $, constrained so that:\n",
    "    - each $ x_{ts} $ is between 0 and 1 \n",
    "    - and, the sum of $ x_{ts} $ values for each sample is 1 (ie $ \\sum_{t=1}^{T} x_{ts} = 1 $ for each sample $s$)\n"
   ]
  },
  {
   "cell_type": "markdown",
   "metadata": {},
   "source": [
    "We model the transcript-level expression in the sample as the sum of cell-type-specific expression weighted by the known mixture proportions:\n",
    "\n",
    "You can think of this as defining a per-cell-type latent parameter $ c_{its} $ which indicates the contribution to the sample*transcript*cell-type count, ie the portion of the sample-transcript count which is attributable to each cell type.\n",
    "\n",
    "$$ p(c_{its} | x_{ts}, a_{it}, a_{s}, \\sigma_{it}, \\sigma_{s}) = x_{ts} \\times NegBinom(f(a_{s}, a_{ti}), g(\\sigma_{ti}, \\sigma_{s})) $$\n",
    "\n",
    "The sum of these values over all cell types yields the \"true\" sample*transcript count $c_{si}$: \n",
    "\n",
    "$$ p(c_{si}) = \\sum_{t=1}^{T}{(x_{ts} \\times NegBinom(f(a_{s}, a_{ti}), g(\\sigma_{ti}, \\sigma_{s})))}$$\n",
    "\n",
    "We would then add some noise components to this value in order to model the observed sample*transcript counts."
   ]
  },
  {
   "cell_type": "markdown",
   "metadata": {},
   "source": [
    "# extensions to the model"
   ]
  },
  {
   "cell_type": "markdown",
   "metadata": {},
   "source": [
    "## Including data about transcription factors\n",
    "\n",
    "We have also discussed, for example, extending this component of the model to impose similar inter-cell-type correlations among transcripts with the same TF. But this component has not yet been implemented."
   ]
  },
  {
   "cell_type": "code",
   "execution_count": null,
   "metadata": {
    "collapsed": true
   },
   "outputs": [],
   "source": []
  }
 ],
 "metadata": {
  "kernelspec": {
   "display_name": "Python 3",
   "language": "python",
   "name": "python3"
  },
  "language_info": {
   "codemirror_mode": {
    "name": "ipython",
    "version": 3
   },
   "file_extension": ".py",
   "mimetype": "text/x-python",
   "name": "python",
   "nbconvert_exporter": "python",
   "pygments_lexer": "ipython3",
   "version": "3.5.2"
  },
  "toc": {
   "nav_menu": {
    "height": "174px",
    "width": "252px"
   },
   "navigate_menu": true,
   "number_sections": true,
   "sideBar": true,
   "threshold": 4,
   "toc_cell": false,
   "toc_section_display": "block",
   "toc_window_display": false
  }
 },
 "nbformat": 4,
 "nbformat_minor": 1
}
