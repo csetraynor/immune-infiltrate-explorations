{
 "cells": [
  {
   "cell_type": "markdown",
   "metadata": {
    "deletable": true,
    "editable": true,
    "toc": "true"
   },
   "source": [
    " # Table of Contents\n",
    "<div class=\"toc\" style=\"margin-top: 1em;\"><ul class=\"toc-item\" id=\"toc-level0\"><li><span><a href=\"http://localhost:58235/notebooks/work/model-single-origin-samples/2.2.1%20informative%20priors%20--%20analysis.ipynb#Load-in-stan-results\" data-toc-modified-id=\"Load-in-stan-results-1\"><span class=\"toc-item-num\">1&nbsp;&nbsp;</span>Load in stan results</a></span></li><li><span><a href=\"http://localhost:58235/notebooks/work/model-single-origin-samples/2.2.1%20informative%20priors%20--%20analysis.ipynb#Load-in-cibersort-and-ground-truth\" data-toc-modified-id=\"Load-in-cibersort-and-ground-truth-2\"><span class=\"toc-item-num\">2&nbsp;&nbsp;</span>Load in cibersort and ground truth</a></span></li><li><span><a href=\"http://localhost:58235/notebooks/work/model-single-origin-samples/2.2.1%20informative%20priors%20--%20analysis.ipynb#Convergence-checks.\" data-toc-modified-id=\"Convergence-checks.-3\"><span class=\"toc-item-num\">3&nbsp;&nbsp;</span>Convergence checks.</a></span></li><li><span><a href=\"http://localhost:58235/notebooks/work/model-single-origin-samples/2.2.1%20informative%20priors%20--%20analysis.ipynb#get-the-full-deconvolution-distributions\" data-toc-modified-id=\"get-the-full-deconvolution-distributions-4\"><span class=\"toc-item-num\">4&nbsp;&nbsp;</span>get the full deconvolution distributions</a></span></li><li><span><a href=\"http://localhost:58235/notebooks/work/model-single-origin-samples/2.2.1%20informative%20priors%20--%20analysis.ipynb#Plot\" data-toc-modified-id=\"Plot-5\"><span class=\"toc-item-num\">5&nbsp;&nbsp;</span>Plot</a></span></li><li><span><a href=\"http://localhost:58235/notebooks/work/model-single-origin-samples/2.2.1%20informative%20priors%20--%20analysis.ipynb#Traceplots-and-correlation-matrix\" data-toc-modified-id=\"Traceplots-and-correlation-matrix-6\"><span class=\"toc-item-num\">6&nbsp;&nbsp;</span>Traceplots and correlation matrix</a></span></li><li><span><a href=\"http://localhost:58235/notebooks/work/model-single-origin-samples/2.2.1%20informative%20priors%20--%20analysis.ipynb#Cibersort's-diagnostics\" data-toc-modified-id=\"Cibersort's-diagnostics-7\"><span class=\"toc-item-num\">7&nbsp;&nbsp;</span>Cibersort's diagnostics</a></span></li></ul></div>"
   ]
  },
  {
   "cell_type": "code",
   "execution_count": 1,
   "metadata": {
    "ExecuteTime": {
     "end_time": "2017-10-23T22:48:28.610333Z",
     "start_time": "2017-10-23T22:48:28.604767Z"
    },
    "collapsed": true,
    "deletable": true,
    "editable": true
   },
   "outputs": [],
   "source": [
    "PLOT_DIR = 'plots/2.2.1/'"
   ]
  },
  {
   "cell_type": "code",
   "execution_count": 2,
   "metadata": {
    "ExecuteTime": {
     "end_time": "2017-10-23T22:48:31.744857Z",
     "start_time": "2017-10-23T22:48:29.331698Z"
    },
    "collapsed": false,
    "deletable": true,
    "editable": true,
    "init_cell": true
   },
   "outputs": [
    {
     "name": "stderr",
     "output_type": "stream",
     "text": [
      "INFO:stancache.seed:Setting seed to 1245502385\n",
      "INFO:root:Setting CACHE_DIR = /home/jovyan/modelcache/mz\n",
      "INFO:stancache.seed:Setting seed to 1245502385\n"
     ]
    }
   ],
   "source": [
    "import numpy as np\n",
    "import matplotlib as mpl\n",
    "import data\n",
    "import models\n",
    "import cache\n",
    "import pandas as pd\n",
    "import matplotlib.pyplot as plt\n",
    "%matplotlib inline\n",
    "import seaborn as sns\n",
    "import pystan\n",
    "from time import time\n",
    "from datetime import timedelta\n",
    "import pickle\n",
    "import dill"
   ]
  },
  {
   "cell_type": "code",
   "execution_count": 3,
   "metadata": {
    "ExecuteTime": {
     "end_time": "2017-10-23T22:48:32.317264Z",
     "start_time": "2017-10-23T22:48:31.752714Z"
    },
    "collapsed": true,
    "deletable": true,
    "editable": true,
    "init_cell": true
   },
   "outputs": [],
   "source": [
    "# verify kernel won't crash due to MKL issue from future imports\n",
    "import sklearn.linear_model.tests.test_randomized_l1"
   ]
  },
  {
   "cell_type": "code",
   "execution_count": null,
   "metadata": {
    "collapsed": true,
    "deletable": true,
    "editable": true
   },
   "outputs": [],
   "source": []
  },
  {
   "cell_type": "code",
   "execution_count": null,
   "metadata": {
    "collapsed": true,
    "deletable": true,
    "editable": true
   },
   "outputs": [],
   "source": []
  },
  {
   "cell_type": "markdown",
   "metadata": {
    "deletable": true,
    "editable": true
   },
   "source": [
    "# Load in stan results\n",
    "\n",
    "This time, pystan didn't error out, so we do have the `stanfit` object pickled out.\n",
    "\n",
    "But to maintain a consistent pipeline, let's still use cmdstan:"
   ]
  },
  {
   "cell_type": "code",
   "execution_count": 27,
   "metadata": {
    "ExecuteTime": {
     "end_time": "2017-10-23T23:17:57.308180Z",
     "start_time": "2017-10-23T23:08:01.789993Z"
    },
    "collapsed": false,
    "deletable": true,
    "editable": true
   },
   "outputs": [],
   "source": [
    "# remove the file first, because otherwise it appends\n",
    "\n",
    "!rm logs/stansummary.informativepriors.csv;\n",
    "\n",
    "!stansummary --csv_file=logs/stansummary.informativepriors.csv \\\n",
    "logs/informativepriors_sampling_log.txt_0.csv \\\n",
    "logs/informativepriors_sampling_log.txt_1.csv \\\n",
    "logs/informativepriors_sampling_log.txt_2.csv \\\n",
    "logs/informativepriors_sampling_log.txt_3.csv > /dev/null;"
   ]
  },
  {
   "cell_type": "code",
   "execution_count": 28,
   "metadata": {
    "ExecuteTime": {
     "end_time": "2017-10-23T23:29:11.653348Z",
     "start_time": "2017-10-23T23:29:11.485674Z"
    },
    "collapsed": false,
    "deletable": true,
    "editable": true,
    "init_cell": true
   },
   "outputs": [
    {
     "data": {
      "text/html": [
       "<div>\n",
       "<table border=\"1\" class=\"dataframe\">\n",
       "  <thead>\n",
       "    <tr style=\"text-align: right;\">\n",
       "      <th></th>\n",
       "      <th>name</th>\n",
       "      <th>Mean</th>\n",
       "      <th>MCSE</th>\n",
       "      <th>StdDev</th>\n",
       "      <th>5%</th>\n",
       "      <th>50%</th>\n",
       "      <th>95%</th>\n",
       "      <th>N_Eff</th>\n",
       "      <th>N_Eff/s</th>\n",
       "      <th>R_hat</th>\n",
       "    </tr>\n",
       "  </thead>\n",
       "  <tbody>\n",
       "    <tr>\n",
       "      <th>0</th>\n",
       "      <td>lp__</td>\n",
       "      <td>-2.876380e+12</td>\n",
       "      <td>2.841990e+12</td>\n",
       "      <td>6.137380e+13</td>\n",
       "      <td>2.615930e+07</td>\n",
       "      <td>2.616710e+07</td>\n",
       "      <td>2.616950e+07</td>\n",
       "      <td>466.3590</td>\n",
       "      <td>0.003927</td>\n",
       "      <td>1.00530</td>\n",
       "    </tr>\n",
       "    <tr>\n",
       "      <th>1</th>\n",
       "      <td>accept_stat__</td>\n",
       "      <td>8.184530e-01</td>\n",
       "      <td>1.485240e-02</td>\n",
       "      <td>2.330780e-01</td>\n",
       "      <td>2.509770e-01</td>\n",
       "      <td>9.098770e-01</td>\n",
       "      <td>9.984200e-01</td>\n",
       "      <td>246.2680</td>\n",
       "      <td>0.002074</td>\n",
       "      <td>1.02152</td>\n",
       "    </tr>\n",
       "    <tr>\n",
       "      <th>2</th>\n",
       "      <td>stepsize__</td>\n",
       "      <td>1.209900e-02</td>\n",
       "      <td>4.258170e-03</td>\n",
       "      <td>3.261450e-01</td>\n",
       "      <td>7.416940e-04</td>\n",
       "      <td>2.560380e-03</td>\n",
       "      <td>1.003770e-02</td>\n",
       "      <td>5866.4600</td>\n",
       "      <td>0.049404</td>\n",
       "      <td>1.00007</td>\n",
       "    </tr>\n",
       "    <tr>\n",
       "      <th>3</th>\n",
       "      <td>treedepth__</td>\n",
       "      <td>9.551750e+00</td>\n",
       "      <td>1.679520e-01</td>\n",
       "      <td>1.648910e+00</td>\n",
       "      <td>8.000000e+00</td>\n",
       "      <td>1.000000e+01</td>\n",
       "      <td>1.000000e+01</td>\n",
       "      <td>96.3879</td>\n",
       "      <td>0.000812</td>\n",
       "      <td>1.03790</td>\n",
       "    </tr>\n",
       "    <tr>\n",
       "      <th>4</th>\n",
       "      <td>n_leapfrog__</td>\n",
       "      <td>9.331680e+02</td>\n",
       "      <td>3.489460e+01</td>\n",
       "      <td>2.552110e+02</td>\n",
       "      <td>2.550000e+02</td>\n",
       "      <td>1.023000e+03</td>\n",
       "      <td>1.023000e+03</td>\n",
       "      <td>53.4909</td>\n",
       "      <td>0.000450</td>\n",
       "      <td>1.06417</td>\n",
       "    </tr>\n",
       "  </tbody>\n",
       "</table>\n",
       "</div>"
      ],
      "text/plain": [
       "            name          Mean          MCSE        StdDev            5%  \\\n",
       "0           lp__ -2.876380e+12  2.841990e+12  6.137380e+13  2.615930e+07   \n",
       "1  accept_stat__  8.184530e-01  1.485240e-02  2.330780e-01  2.509770e-01   \n",
       "2     stepsize__  1.209900e-02  4.258170e-03  3.261450e-01  7.416940e-04   \n",
       "3    treedepth__  9.551750e+00  1.679520e-01  1.648910e+00  8.000000e+00   \n",
       "4   n_leapfrog__  9.331680e+02  3.489460e+01  2.552110e+02  2.550000e+02   \n",
       "\n",
       "            50%           95%      N_Eff   N_Eff/s    R_hat  \n",
       "0  2.616710e+07  2.616950e+07   466.3590  0.003927  1.00530  \n",
       "1  9.098770e-01  9.984200e-01   246.2680  0.002074  1.02152  \n",
       "2  2.560380e-03  1.003770e-02  5866.4600  0.049404  1.00007  \n",
       "3  1.000000e+01  1.000000e+01    96.3879  0.000812  1.03790  \n",
       "4  1.023000e+03  1.023000e+03    53.4909  0.000450  1.06417  "
      ]
     },
     "execution_count": 28,
     "metadata": {},
     "output_type": "execute_result"
    }
   ],
   "source": [
    "stan_summary = pd.read_csv('logs/stansummary.informativepriors.csv', comment='#')\n",
    "stan_summary.head()"
   ]
  },
  {
   "cell_type": "code",
   "execution_count": 29,
   "metadata": {
    "ExecuteTime": {
     "end_time": "2017-10-23T23:29:12.410292Z",
     "start_time": "2017-10-23T23:29:12.402903Z"
    },
    "collapsed": true
   },
   "outputs": [],
   "source": [
    "stan_data = pickle.load(open('2.2_informative_priors_standata.pkl', 'rb'))"
   ]
  },
  {
   "cell_type": "code",
   "execution_count": 30,
   "metadata": {
    "ExecuteTime": {
     "end_time": "2017-10-23T23:29:12.998874Z",
     "start_time": "2017-10-23T23:29:12.988270Z"
    },
    "collapsed": false,
    "deletable": true,
    "editable": true,
    "init_cell": true
   },
   "outputs": [
    {
     "data": {
      "text/plain": [
       "Index(['SubSet[B_CD5]', 'SubSet[B_Memory]', 'SubSet[B_Naive]',\n",
       "       'SubSet[CD4_Central_Memory]', 'SubSet[CD4_Effector_Memory]',\n",
       "       'SubSet[CD4_Naive]', 'SubSet[CD4_Th1]', 'SubSet[CD4_Th17]',\n",
       "       'SubSet[CD4_Th2]', 'SubSet[CD4_Treg]', 'SubSet[CD8_Central_Memory]',\n",
       "       'SubSet[CD8_Effector]', 'SubSet[CD8_Naive]'],\n",
       "      dtype='object')"
      ]
     },
     "execution_count": 30,
     "metadata": {},
     "output_type": "execute_result"
    }
   ],
   "source": [
    "colnames = stan_data['x2'].columns\n",
    "colnames"
   ]
  },
  {
   "cell_type": "code",
   "execution_count": 31,
   "metadata": {
    "ExecuteTime": {
     "end_time": "2017-10-23T23:29:14.768121Z",
     "start_time": "2017-10-23T23:29:14.642561Z"
    },
    "collapsed": false,
    "deletable": true,
    "editable": true
   },
   "outputs": [
    {
     "data": {
      "text/html": [
       "<div>\n",
       "<table border=\"1\" class=\"dataframe\">\n",
       "  <thead>\n",
       "    <tr style=\"text-align: right;\">\n",
       "      <th></th>\n",
       "      <th>name</th>\n",
       "      <th>Mean</th>\n",
       "      <th>MCSE</th>\n",
       "      <th>StdDev</th>\n",
       "      <th>5%</th>\n",
       "      <th>50%</th>\n",
       "      <th>95%</th>\n",
       "      <th>N_Eff</th>\n",
       "      <th>N_Eff/s</th>\n",
       "      <th>R_hat</th>\n",
       "    </tr>\n",
       "  </thead>\n",
       "  <tbody>\n",
       "    <tr>\n",
       "      <th>28152</th>\n",
       "      <td>sample2_x[1,1]</td>\n",
       "      <td>0.175636</td>\n",
       "      <td>0.208621</td>\n",
       "      <td>0.300334</td>\n",
       "      <td>0.000068</td>\n",
       "      <td>0.002337</td>\n",
       "      <td>0.743563</td>\n",
       "      <td>2.07250</td>\n",
       "      <td>0.000017</td>\n",
       "      <td>5.16412</td>\n",
       "    </tr>\n",
       "    <tr>\n",
       "      <th>28153</th>\n",
       "      <td>sample2_x[1,2]</td>\n",
       "      <td>0.174361</td>\n",
       "      <td>0.206273</td>\n",
       "      <td>0.296912</td>\n",
       "      <td>0.000151</td>\n",
       "      <td>0.003208</td>\n",
       "      <td>0.742468</td>\n",
       "      <td>2.07191</td>\n",
       "      <td>0.000017</td>\n",
       "      <td>5.16937</td>\n",
       "    </tr>\n",
       "    <tr>\n",
       "      <th>28154</th>\n",
       "      <td>sample2_x[1,3]</td>\n",
       "      <td>0.305635</td>\n",
       "      <td>0.167931</td>\n",
       "      <td>0.249283</td>\n",
       "      <td>0.001205</td>\n",
       "      <td>0.276970</td>\n",
       "      <td>0.745890</td>\n",
       "      <td>2.20354</td>\n",
       "      <td>0.000019</td>\n",
       "      <td>3.28164</td>\n",
       "    </tr>\n",
       "    <tr>\n",
       "      <th>28155</th>\n",
       "      <td>sample2_x[1,4]</td>\n",
       "      <td>0.008922</td>\n",
       "      <td>0.002682</td>\n",
       "      <td>0.030848</td>\n",
       "      <td>0.000168</td>\n",
       "      <td>0.002391</td>\n",
       "      <td>0.023429</td>\n",
       "      <td>132.25300</td>\n",
       "      <td>0.001114</td>\n",
       "      <td>1.01847</td>\n",
       "    </tr>\n",
       "    <tr>\n",
       "      <th>28156</th>\n",
       "      <td>sample2_x[1,5]</td>\n",
       "      <td>0.004196</td>\n",
       "      <td>0.001807</td>\n",
       "      <td>0.008912</td>\n",
       "      <td>0.000131</td>\n",
       "      <td>0.001850</td>\n",
       "      <td>0.013018</td>\n",
       "      <td>24.31700</td>\n",
       "      <td>0.000205</td>\n",
       "      <td>1.04857</td>\n",
       "    </tr>\n",
       "    <tr>\n",
       "      <th>28157</th>\n",
       "      <td>sample2_x[1,6]</td>\n",
       "      <td>0.070833</td>\n",
       "      <td>0.082635</td>\n",
       "      <td>0.124704</td>\n",
       "      <td>0.000083</td>\n",
       "      <td>0.001202</td>\n",
       "      <td>0.340277</td>\n",
       "      <td>2.27736</td>\n",
       "      <td>0.000019</td>\n",
       "      <td>2.74338</td>\n",
       "    </tr>\n",
       "    <tr>\n",
       "      <th>28158</th>\n",
       "      <td>sample2_x[1,7]</td>\n",
       "      <td>0.062179</td>\n",
       "      <td>0.071472</td>\n",
       "      <td>0.105670</td>\n",
       "      <td>0.000169</td>\n",
       "      <td>0.003058</td>\n",
       "      <td>0.287507</td>\n",
       "      <td>2.18588</td>\n",
       "      <td>0.000018</td>\n",
       "      <td>3.49924</td>\n",
       "    </tr>\n",
       "    <tr>\n",
       "      <th>28159</th>\n",
       "      <td>sample2_x[1,8]</td>\n",
       "      <td>0.181167</td>\n",
       "      <td>0.215978</td>\n",
       "      <td>0.309817</td>\n",
       "      <td>0.000138</td>\n",
       "      <td>0.002626</td>\n",
       "      <td>0.770154</td>\n",
       "      <td>2.05775</td>\n",
       "      <td>0.000017</td>\n",
       "      <td>6.09931</td>\n",
       "    </tr>\n",
       "    <tr>\n",
       "      <th>28160</th>\n",
       "      <td>sample2_x[1,9]</td>\n",
       "      <td>0.004485</td>\n",
       "      <td>0.001754</td>\n",
       "      <td>0.016446</td>\n",
       "      <td>0.000105</td>\n",
       "      <td>0.001553</td>\n",
       "      <td>0.010227</td>\n",
       "      <td>87.96940</td>\n",
       "      <td>0.000741</td>\n",
       "      <td>1.03060</td>\n",
       "    </tr>\n",
       "    <tr>\n",
       "      <th>28161</th>\n",
       "      <td>sample2_x[1,10]</td>\n",
       "      <td>0.002660</td>\n",
       "      <td>0.000518</td>\n",
       "      <td>0.005916</td>\n",
       "      <td>0.000093</td>\n",
       "      <td>0.001289</td>\n",
       "      <td>0.008883</td>\n",
       "      <td>130.58200</td>\n",
       "      <td>0.001100</td>\n",
       "      <td>1.01864</td>\n",
       "    </tr>\n",
       "    <tr>\n",
       "      <th>28162</th>\n",
       "      <td>sample2_x[1,11]</td>\n",
       "      <td>0.003922</td>\n",
       "      <td>0.000927</td>\n",
       "      <td>0.009469</td>\n",
       "      <td>0.000097</td>\n",
       "      <td>0.001686</td>\n",
       "      <td>0.011749</td>\n",
       "      <td>104.32300</td>\n",
       "      <td>0.000879</td>\n",
       "      <td>1.02345</td>\n",
       "    </tr>\n",
       "    <tr>\n",
       "      <th>28163</th>\n",
       "      <td>sample2_x[1,12]</td>\n",
       "      <td>0.002848</td>\n",
       "      <td>0.001048</td>\n",
       "      <td>0.011727</td>\n",
       "      <td>0.000071</td>\n",
       "      <td>0.000966</td>\n",
       "      <td>0.005888</td>\n",
       "      <td>125.13700</td>\n",
       "      <td>0.001054</td>\n",
       "      <td>1.02172</td>\n",
       "    </tr>\n",
       "    <tr>\n",
       "      <th>28164</th>\n",
       "      <td>sample2_x[1,13]</td>\n",
       "      <td>0.003154</td>\n",
       "      <td>0.000984</td>\n",
       "      <td>0.008771</td>\n",
       "      <td>0.000091</td>\n",
       "      <td>0.001446</td>\n",
       "      <td>0.009002</td>\n",
       "      <td>79.43070</td>\n",
       "      <td>0.000669</td>\n",
       "      <td>1.02775</td>\n",
       "    </tr>\n",
       "    <tr>\n",
       "      <th>28165</th>\n",
       "      <td>sample2_x[2,1]</td>\n",
       "      <td>0.238209</td>\n",
       "      <td>0.287737</td>\n",
       "      <td>0.412793</td>\n",
       "      <td>0.000124</td>\n",
       "      <td>0.002171</td>\n",
       "      <td>0.979679</td>\n",
       "      <td>2.05813</td>\n",
       "      <td>0.000017</td>\n",
       "      <td>5.85710</td>\n",
       "    </tr>\n",
       "    <tr>\n",
       "      <th>28166</th>\n",
       "      <td>sample2_x[2,2]</td>\n",
       "      <td>0.241481</td>\n",
       "      <td>0.287802</td>\n",
       "      <td>0.412660</td>\n",
       "      <td>0.000163</td>\n",
       "      <td>0.002704</td>\n",
       "      <td>0.979254</td>\n",
       "      <td>2.05587</td>\n",
       "      <td>0.000017</td>\n",
       "      <td>5.91891</td>\n",
       "    </tr>\n",
       "    <tr>\n",
       "      <th>28167</th>\n",
       "      <td>sample2_x[2,3]</td>\n",
       "      <td>0.244895</td>\n",
       "      <td>0.282558</td>\n",
       "      <td>0.405665</td>\n",
       "      <td>0.000592</td>\n",
       "      <td>0.013329</td>\n",
       "      <td>0.970822</td>\n",
       "      <td>2.06119</td>\n",
       "      <td>0.000017</td>\n",
       "      <td>5.74551</td>\n",
       "    </tr>\n",
       "    <tr>\n",
       "      <th>28168</th>\n",
       "      <td>sample2_x[2,4]</td>\n",
       "      <td>0.005480</td>\n",
       "      <td>0.002015</td>\n",
       "      <td>0.020778</td>\n",
       "      <td>0.000134</td>\n",
       "      <td>0.001828</td>\n",
       "      <td>0.012023</td>\n",
       "      <td>106.31300</td>\n",
       "      <td>0.000895</td>\n",
       "      <td>1.02457</td>\n",
       "    </tr>\n",
       "    <tr>\n",
       "      <th>28169</th>\n",
       "      <td>sample2_x[2,5]</td>\n",
       "      <td>0.003434</td>\n",
       "      <td>0.000707</td>\n",
       "      <td>0.009679</td>\n",
       "      <td>0.000117</td>\n",
       "      <td>0.001451</td>\n",
       "      <td>0.010181</td>\n",
       "      <td>187.32700</td>\n",
       "      <td>0.001578</td>\n",
       "      <td>1.01383</td>\n",
       "    </tr>\n",
       "    <tr>\n",
       "      <th>28170</th>\n",
       "      <td>sample2_x[2,6]</td>\n",
       "      <td>0.004235</td>\n",
       "      <td>0.002986</td>\n",
       "      <td>0.010185</td>\n",
       "      <td>0.000071</td>\n",
       "      <td>0.000929</td>\n",
       "      <td>0.021331</td>\n",
       "      <td>11.63260</td>\n",
       "      <td>0.000098</td>\n",
       "      <td>1.10588</td>\n",
       "    </tr>\n",
       "    <tr>\n",
       "      <th>28171</th>\n",
       "      <td>sample2_x[2,7]</td>\n",
       "      <td>0.007039</td>\n",
       "      <td>0.002105</td>\n",
       "      <td>0.024438</td>\n",
       "      <td>0.000156</td>\n",
       "      <td>0.002072</td>\n",
       "      <td>0.021281</td>\n",
       "      <td>134.81800</td>\n",
       "      <td>0.001135</td>\n",
       "      <td>1.02000</td>\n",
       "    </tr>\n",
       "    <tr>\n",
       "      <th>28172</th>\n",
       "      <td>sample2_x[2,8]</td>\n",
       "      <td>0.240088</td>\n",
       "      <td>0.287867</td>\n",
       "      <td>0.411168</td>\n",
       "      <td>0.000125</td>\n",
       "      <td>0.002109</td>\n",
       "      <td>0.971876</td>\n",
       "      <td>2.04013</td>\n",
       "      <td>0.000017</td>\n",
       "      <td>6.98553</td>\n",
       "    </tr>\n",
       "    <tr>\n",
       "      <th>28173</th>\n",
       "      <td>sample2_x[2,9]</td>\n",
       "      <td>0.004251</td>\n",
       "      <td>0.001572</td>\n",
       "      <td>0.016500</td>\n",
       "      <td>0.000102</td>\n",
       "      <td>0.001352</td>\n",
       "      <td>0.008891</td>\n",
       "      <td>110.11300</td>\n",
       "      <td>0.000927</td>\n",
       "      <td>1.02454</td>\n",
       "    </tr>\n",
       "    <tr>\n",
       "      <th>28174</th>\n",
       "      <td>sample2_x[2,10]</td>\n",
       "      <td>0.002573</td>\n",
       "      <td>0.000514</td>\n",
       "      <td>0.007365</td>\n",
       "      <td>0.000085</td>\n",
       "      <td>0.001146</td>\n",
       "      <td>0.006628</td>\n",
       "      <td>205.23100</td>\n",
       "      <td>0.001728</td>\n",
       "      <td>1.01465</td>\n",
       "    </tr>\n",
       "    <tr>\n",
       "      <th>28175</th>\n",
       "      <td>sample2_x[2,11]</td>\n",
       "      <td>0.003241</td>\n",
       "      <td>0.000717</td>\n",
       "      <td>0.007000</td>\n",
       "      <td>0.000088</td>\n",
       "      <td>0.001498</td>\n",
       "      <td>0.010460</td>\n",
       "      <td>95.32920</td>\n",
       "      <td>0.000803</td>\n",
       "      <td>1.02645</td>\n",
       "    </tr>\n",
       "    <tr>\n",
       "      <th>28176</th>\n",
       "      <td>sample2_x[2,12]</td>\n",
       "      <td>0.002676</td>\n",
       "      <td>0.000757</td>\n",
       "      <td>0.009448</td>\n",
       "      <td>0.000060</td>\n",
       "      <td>0.000827</td>\n",
       "      <td>0.005465</td>\n",
       "      <td>155.66200</td>\n",
       "      <td>0.001311</td>\n",
       "      <td>1.01805</td>\n",
       "    </tr>\n",
       "    <tr>\n",
       "      <th>28177</th>\n",
       "      <td>sample2_x[2,13]</td>\n",
       "      <td>0.002399</td>\n",
       "      <td>0.000388</td>\n",
       "      <td>0.004982</td>\n",
       "      <td>0.000084</td>\n",
       "      <td>0.001219</td>\n",
       "      <td>0.007545</td>\n",
       "      <td>164.57900</td>\n",
       "      <td>0.001386</td>\n",
       "      <td>1.01751</td>\n",
       "    </tr>\n",
       "    <tr>\n",
       "      <th>28178</th>\n",
       "      <td>sample2_x[3,1]</td>\n",
       "      <td>0.215888</td>\n",
       "      <td>0.258512</td>\n",
       "      <td>0.371099</td>\n",
       "      <td>0.000111</td>\n",
       "      <td>0.002241</td>\n",
       "      <td>0.912814</td>\n",
       "      <td>2.06070</td>\n",
       "      <td>0.000017</td>\n",
       "      <td>5.70162</td>\n",
       "    </tr>\n",
       "    <tr>\n",
       "      <th>28179</th>\n",
       "      <td>sample2_x[3,2]</td>\n",
       "      <td>0.216327</td>\n",
       "      <td>0.257997</td>\n",
       "      <td>0.369416</td>\n",
       "      <td>0.000165</td>\n",
       "      <td>0.002775</td>\n",
       "      <td>0.908625</td>\n",
       "      <td>2.05023</td>\n",
       "      <td>0.000017</td>\n",
       "      <td>6.21399</td>\n",
       "    </tr>\n",
       "    <tr>\n",
       "      <th>28180</th>\n",
       "      <td>sample2_x[3,3]</td>\n",
       "      <td>0.263422</td>\n",
       "      <td>0.231110</td>\n",
       "      <td>0.335894</td>\n",
       "      <td>0.001154</td>\n",
       "      <td>0.110398</td>\n",
       "      <td>0.898404</td>\n",
       "      <td>2.11236</td>\n",
       "      <td>0.000018</td>\n",
       "      <td>4.32103</td>\n",
       "    </tr>\n",
       "    <tr>\n",
       "      <th>28181</th>\n",
       "      <td>sample2_x[3,4]</td>\n",
       "      <td>0.005545</td>\n",
       "      <td>0.001490</td>\n",
       "      <td>0.014175</td>\n",
       "      <td>0.000134</td>\n",
       "      <td>0.002114</td>\n",
       "      <td>0.018345</td>\n",
       "      <td>90.45000</td>\n",
       "      <td>0.000762</td>\n",
       "      <td>1.02663</td>\n",
       "    </tr>\n",
       "    <tr>\n",
       "      <th>...</th>\n",
       "      <td>...</td>\n",
       "      <td>...</td>\n",
       "      <td>...</td>\n",
       "      <td>...</td>\n",
       "      <td>...</td>\n",
       "      <td>...</td>\n",
       "      <td>...</td>\n",
       "      <td>...</td>\n",
       "      <td>...</td>\n",
       "      <td>...</td>\n",
       "    </tr>\n",
       "    <tr>\n",
       "      <th>28252</th>\n",
       "      <td>sample2_x[8,10]</td>\n",
       "      <td>0.074442</td>\n",
       "      <td>0.030598</td>\n",
       "      <td>0.076705</td>\n",
       "      <td>0.003158</td>\n",
       "      <td>0.046940</td>\n",
       "      <td>0.235602</td>\n",
       "      <td>6.28445</td>\n",
       "      <td>0.000053</td>\n",
       "      <td>1.18133</td>\n",
       "    </tr>\n",
       "    <tr>\n",
       "      <th>28253</th>\n",
       "      <td>sample2_x[8,11]</td>\n",
       "      <td>0.048849</td>\n",
       "      <td>0.017801</td>\n",
       "      <td>0.055130</td>\n",
       "      <td>0.002003</td>\n",
       "      <td>0.029865</td>\n",
       "      <td>0.161791</td>\n",
       "      <td>9.59127</td>\n",
       "      <td>0.000081</td>\n",
       "      <td>1.11444</td>\n",
       "    </tr>\n",
       "    <tr>\n",
       "      <th>28254</th>\n",
       "      <td>sample2_x[8,12]</td>\n",
       "      <td>0.136551</td>\n",
       "      <td>0.056904</td>\n",
       "      <td>0.109406</td>\n",
       "      <td>0.007222</td>\n",
       "      <td>0.108655</td>\n",
       "      <td>0.341024</td>\n",
       "      <td>3.69654</td>\n",
       "      <td>0.000031</td>\n",
       "      <td>1.44743</td>\n",
       "    </tr>\n",
       "    <tr>\n",
       "      <th>28255</th>\n",
       "      <td>sample2_x[8,13]</td>\n",
       "      <td>0.054483</td>\n",
       "      <td>0.013941</td>\n",
       "      <td>0.054695</td>\n",
       "      <td>0.002313</td>\n",
       "      <td>0.037195</td>\n",
       "      <td>0.166252</td>\n",
       "      <td>15.39160</td>\n",
       "      <td>0.000130</td>\n",
       "      <td>1.06365</td>\n",
       "    </tr>\n",
       "    <tr>\n",
       "      <th>28256</th>\n",
       "      <td>sample2_x[9,1]</td>\n",
       "      <td>0.208455</td>\n",
       "      <td>0.146549</td>\n",
       "      <td>0.212726</td>\n",
       "      <td>0.001353</td>\n",
       "      <td>0.123422</td>\n",
       "      <td>0.579721</td>\n",
       "      <td>2.10707</td>\n",
       "      <td>0.000018</td>\n",
       "      <td>4.00926</td>\n",
       "    </tr>\n",
       "    <tr>\n",
       "      <th>28257</th>\n",
       "      <td>sample2_x[9,2]</td>\n",
       "      <td>0.104911</td>\n",
       "      <td>0.073261</td>\n",
       "      <td>0.119079</td>\n",
       "      <td>0.001962</td>\n",
       "      <td>0.041794</td>\n",
       "      <td>0.332401</td>\n",
       "      <td>2.64192</td>\n",
       "      <td>0.000022</td>\n",
       "      <td>1.93731</td>\n",
       "    </tr>\n",
       "    <tr>\n",
       "      <th>28258</th>\n",
       "      <td>sample2_x[9,3]</td>\n",
       "      <td>0.080139</td>\n",
       "      <td>0.068027</td>\n",
       "      <td>0.104733</td>\n",
       "      <td>0.001544</td>\n",
       "      <td>0.025812</td>\n",
       "      <td>0.299864</td>\n",
       "      <td>2.37030</td>\n",
       "      <td>0.000020</td>\n",
       "      <td>2.44952</td>\n",
       "    </tr>\n",
       "    <tr>\n",
       "      <th>28259</th>\n",
       "      <td>sample2_x[9,4]</td>\n",
       "      <td>0.031880</td>\n",
       "      <td>0.002929</td>\n",
       "      <td>0.043332</td>\n",
       "      <td>0.001435</td>\n",
       "      <td>0.019366</td>\n",
       "      <td>0.095178</td>\n",
       "      <td>218.81900</td>\n",
       "      <td>0.001843</td>\n",
       "      <td>1.01908</td>\n",
       "    </tr>\n",
       "    <tr>\n",
       "      <th>28260</th>\n",
       "      <td>sample2_x[9,5]</td>\n",
       "      <td>0.047274</td>\n",
       "      <td>0.014258</td>\n",
       "      <td>0.054480</td>\n",
       "      <td>0.001879</td>\n",
       "      <td>0.027415</td>\n",
       "      <td>0.158485</td>\n",
       "      <td>14.60010</td>\n",
       "      <td>0.000123</td>\n",
       "      <td>1.09406</td>\n",
       "    </tr>\n",
       "    <tr>\n",
       "      <th>28261</th>\n",
       "      <td>sample2_x[9,6]</td>\n",
       "      <td>0.169062</td>\n",
       "      <td>0.117755</td>\n",
       "      <td>0.183237</td>\n",
       "      <td>0.002310</td>\n",
       "      <td>0.073688</td>\n",
       "      <td>0.502871</td>\n",
       "      <td>2.42140</td>\n",
       "      <td>0.000020</td>\n",
       "      <td>2.27666</td>\n",
       "    </tr>\n",
       "    <tr>\n",
       "      <th>28262</th>\n",
       "      <td>sample2_x[9,7]</td>\n",
       "      <td>0.027357</td>\n",
       "      <td>0.003221</td>\n",
       "      <td>0.026317</td>\n",
       "      <td>0.001594</td>\n",
       "      <td>0.019227</td>\n",
       "      <td>0.080751</td>\n",
       "      <td>66.76210</td>\n",
       "      <td>0.000562</td>\n",
       "      <td>1.03122</td>\n",
       "    </tr>\n",
       "    <tr>\n",
       "      <th>28263</th>\n",
       "      <td>sample2_x[9,8]</td>\n",
       "      <td>0.086937</td>\n",
       "      <td>0.059502</td>\n",
       "      <td>0.096961</td>\n",
       "      <td>0.002157</td>\n",
       "      <td>0.040805</td>\n",
       "      <td>0.292533</td>\n",
       "      <td>2.65537</td>\n",
       "      <td>0.000022</td>\n",
       "      <td>1.91931</td>\n",
       "    </tr>\n",
       "    <tr>\n",
       "      <th>28264</th>\n",
       "      <td>sample2_x[9,9]</td>\n",
       "      <td>0.034147</td>\n",
       "      <td>0.008448</td>\n",
       "      <td>0.039770</td>\n",
       "      <td>0.001488</td>\n",
       "      <td>0.021212</td>\n",
       "      <td>0.110237</td>\n",
       "      <td>22.16240</td>\n",
       "      <td>0.000187</td>\n",
       "      <td>1.06563</td>\n",
       "    </tr>\n",
       "    <tr>\n",
       "      <th>28265</th>\n",
       "      <td>sample2_x[9,10]</td>\n",
       "      <td>0.044611</td>\n",
       "      <td>0.014105</td>\n",
       "      <td>0.054072</td>\n",
       "      <td>0.001755</td>\n",
       "      <td>0.026072</td>\n",
       "      <td>0.157195</td>\n",
       "      <td>14.69590</td>\n",
       "      <td>0.000124</td>\n",
       "      <td>1.12949</td>\n",
       "    </tr>\n",
       "    <tr>\n",
       "      <th>28266</th>\n",
       "      <td>sample2_x[9,11]</td>\n",
       "      <td>0.050039</td>\n",
       "      <td>0.017956</td>\n",
       "      <td>0.061429</td>\n",
       "      <td>0.001854</td>\n",
       "      <td>0.028760</td>\n",
       "      <td>0.168521</td>\n",
       "      <td>11.70440</td>\n",
       "      <td>0.000099</td>\n",
       "      <td>1.09033</td>\n",
       "    </tr>\n",
       "    <tr>\n",
       "      <th>28267</th>\n",
       "      <td>sample2_x[9,12]</td>\n",
       "      <td>0.077796</td>\n",
       "      <td>0.046838</td>\n",
       "      <td>0.092981</td>\n",
       "      <td>0.001637</td>\n",
       "      <td>0.030778</td>\n",
       "      <td>0.274147</td>\n",
       "      <td>3.94091</td>\n",
       "      <td>0.000033</td>\n",
       "      <td>1.45247</td>\n",
       "    </tr>\n",
       "    <tr>\n",
       "      <th>28268</th>\n",
       "      <td>sample2_x[9,13]</td>\n",
       "      <td>0.037394</td>\n",
       "      <td>0.009906</td>\n",
       "      <td>0.041156</td>\n",
       "      <td>0.001612</td>\n",
       "      <td>0.023348</td>\n",
       "      <td>0.123592</td>\n",
       "      <td>17.26200</td>\n",
       "      <td>0.000145</td>\n",
       "      <td>1.07578</td>\n",
       "    </tr>\n",
       "    <tr>\n",
       "      <th>28269</th>\n",
       "      <td>sample2_x[10,1]</td>\n",
       "      <td>0.183193</td>\n",
       "      <td>0.193766</td>\n",
       "      <td>0.279218</td>\n",
       "      <td>0.002083</td>\n",
       "      <td>0.027138</td>\n",
       "      <td>0.729018</td>\n",
       "      <td>2.07651</td>\n",
       "      <td>0.000017</td>\n",
       "      <td>4.80738</td>\n",
       "    </tr>\n",
       "    <tr>\n",
       "      <th>28270</th>\n",
       "      <td>sample2_x[10,2]</td>\n",
       "      <td>0.042915</td>\n",
       "      <td>0.010311</td>\n",
       "      <td>0.060971</td>\n",
       "      <td>0.001893</td>\n",
       "      <td>0.025335</td>\n",
       "      <td>0.131201</td>\n",
       "      <td>34.96880</td>\n",
       "      <td>0.000294</td>\n",
       "      <td>1.05146</td>\n",
       "    </tr>\n",
       "    <tr>\n",
       "      <th>28271</th>\n",
       "      <td>sample2_x[10,3]</td>\n",
       "      <td>0.038643</td>\n",
       "      <td>0.006429</td>\n",
       "      <td>0.047622</td>\n",
       "      <td>0.001879</td>\n",
       "      <td>0.023884</td>\n",
       "      <td>0.118823</td>\n",
       "      <td>54.86110</td>\n",
       "      <td>0.000462</td>\n",
       "      <td>1.03525</td>\n",
       "    </tr>\n",
       "    <tr>\n",
       "      <th>28272</th>\n",
       "      <td>sample2_x[10,4]</td>\n",
       "      <td>0.048030</td>\n",
       "      <td>0.009716</td>\n",
       "      <td>0.046966</td>\n",
       "      <td>0.002317</td>\n",
       "      <td>0.032330</td>\n",
       "      <td>0.149461</td>\n",
       "      <td>23.36630</td>\n",
       "      <td>0.000197</td>\n",
       "      <td>1.05792</td>\n",
       "    </tr>\n",
       "    <tr>\n",
       "      <th>28273</th>\n",
       "      <td>sample2_x[10,5]</td>\n",
       "      <td>0.067808</td>\n",
       "      <td>0.030994</td>\n",
       "      <td>0.079264</td>\n",
       "      <td>0.002511</td>\n",
       "      <td>0.037042</td>\n",
       "      <td>0.236204</td>\n",
       "      <td>6.54040</td>\n",
       "      <td>0.000055</td>\n",
       "      <td>1.18589</td>\n",
       "    </tr>\n",
       "    <tr>\n",
       "      <th>28274</th>\n",
       "      <td>sample2_x[10,6]</td>\n",
       "      <td>0.209686</td>\n",
       "      <td>0.160654</td>\n",
       "      <td>0.241509</td>\n",
       "      <td>0.004268</td>\n",
       "      <td>0.078181</td>\n",
       "      <td>0.649555</td>\n",
       "      <td>2.25986</td>\n",
       "      <td>0.000019</td>\n",
       "      <td>2.81845</td>\n",
       "    </tr>\n",
       "    <tr>\n",
       "      <th>28275</th>\n",
       "      <td>sample2_x[10,7]</td>\n",
       "      <td>0.043635</td>\n",
       "      <td>0.010493</td>\n",
       "      <td>0.041695</td>\n",
       "      <td>0.002141</td>\n",
       "      <td>0.030850</td>\n",
       "      <td>0.128335</td>\n",
       "      <td>15.79070</td>\n",
       "      <td>0.000133</td>\n",
       "      <td>1.07137</td>\n",
       "    </tr>\n",
       "    <tr>\n",
       "      <th>28276</th>\n",
       "      <td>sample2_x[10,8]</td>\n",
       "      <td>0.057123</td>\n",
       "      <td>0.023305</td>\n",
       "      <td>0.064636</td>\n",
       "      <td>0.002140</td>\n",
       "      <td>0.034264</td>\n",
       "      <td>0.196140</td>\n",
       "      <td>7.69185</td>\n",
       "      <td>0.000065</td>\n",
       "      <td>1.16041</td>\n",
       "    </tr>\n",
       "    <tr>\n",
       "      <th>28277</th>\n",
       "      <td>sample2_x[10,9]</td>\n",
       "      <td>0.054712</td>\n",
       "      <td>0.016059</td>\n",
       "      <td>0.056844</td>\n",
       "      <td>0.002494</td>\n",
       "      <td>0.036467</td>\n",
       "      <td>0.171538</td>\n",
       "      <td>12.52960</td>\n",
       "      <td>0.000106</td>\n",
       "      <td>1.08191</td>\n",
       "    </tr>\n",
       "    <tr>\n",
       "      <th>28278</th>\n",
       "      <td>sample2_x[10,10]</td>\n",
       "      <td>0.055067</td>\n",
       "      <td>0.021743</td>\n",
       "      <td>0.063806</td>\n",
       "      <td>0.002405</td>\n",
       "      <td>0.032789</td>\n",
       "      <td>0.189389</td>\n",
       "      <td>8.61189</td>\n",
       "      <td>0.000073</td>\n",
       "      <td>1.15961</td>\n",
       "    </tr>\n",
       "    <tr>\n",
       "      <th>28279</th>\n",
       "      <td>sample2_x[10,11]</td>\n",
       "      <td>0.059960</td>\n",
       "      <td>0.026817</td>\n",
       "      <td>0.074326</td>\n",
       "      <td>0.002172</td>\n",
       "      <td>0.034052</td>\n",
       "      <td>0.217582</td>\n",
       "      <td>7.68172</td>\n",
       "      <td>0.000065</td>\n",
       "      <td>1.14566</td>\n",
       "    </tr>\n",
       "    <tr>\n",
       "      <th>28280</th>\n",
       "      <td>sample2_x[10,12]</td>\n",
       "      <td>0.092451</td>\n",
       "      <td>0.057813</td>\n",
       "      <td>0.109771</td>\n",
       "      <td>0.002472</td>\n",
       "      <td>0.036876</td>\n",
       "      <td>0.325078</td>\n",
       "      <td>3.60520</td>\n",
       "      <td>0.000030</td>\n",
       "      <td>1.53356</td>\n",
       "    </tr>\n",
       "    <tr>\n",
       "      <th>28281</th>\n",
       "      <td>sample2_x[10,13]</td>\n",
       "      <td>0.046779</td>\n",
       "      <td>0.016468</td>\n",
       "      <td>0.052743</td>\n",
       "      <td>0.001874</td>\n",
       "      <td>0.028269</td>\n",
       "      <td>0.157514</td>\n",
       "      <td>10.25790</td>\n",
       "      <td>0.000086</td>\n",
       "      <td>1.10735</td>\n",
       "    </tr>\n",
       "  </tbody>\n",
       "</table>\n",
       "<p>130 rows × 10 columns</p>\n",
       "</div>"
      ],
      "text/plain": [
       "                   name      Mean      MCSE    StdDev        5%       50%  \\\n",
       "28152    sample2_x[1,1]  0.175636  0.208621  0.300334  0.000068  0.002337   \n",
       "28153    sample2_x[1,2]  0.174361  0.206273  0.296912  0.000151  0.003208   \n",
       "28154    sample2_x[1,3]  0.305635  0.167931  0.249283  0.001205  0.276970   \n",
       "28155    sample2_x[1,4]  0.008922  0.002682  0.030848  0.000168  0.002391   \n",
       "28156    sample2_x[1,5]  0.004196  0.001807  0.008912  0.000131  0.001850   \n",
       "28157    sample2_x[1,6]  0.070833  0.082635  0.124704  0.000083  0.001202   \n",
       "28158    sample2_x[1,7]  0.062179  0.071472  0.105670  0.000169  0.003058   \n",
       "28159    sample2_x[1,8]  0.181167  0.215978  0.309817  0.000138  0.002626   \n",
       "28160    sample2_x[1,9]  0.004485  0.001754  0.016446  0.000105  0.001553   \n",
       "28161   sample2_x[1,10]  0.002660  0.000518  0.005916  0.000093  0.001289   \n",
       "28162   sample2_x[1,11]  0.003922  0.000927  0.009469  0.000097  0.001686   \n",
       "28163   sample2_x[1,12]  0.002848  0.001048  0.011727  0.000071  0.000966   \n",
       "28164   sample2_x[1,13]  0.003154  0.000984  0.008771  0.000091  0.001446   \n",
       "28165    sample2_x[2,1]  0.238209  0.287737  0.412793  0.000124  0.002171   \n",
       "28166    sample2_x[2,2]  0.241481  0.287802  0.412660  0.000163  0.002704   \n",
       "28167    sample2_x[2,3]  0.244895  0.282558  0.405665  0.000592  0.013329   \n",
       "28168    sample2_x[2,4]  0.005480  0.002015  0.020778  0.000134  0.001828   \n",
       "28169    sample2_x[2,5]  0.003434  0.000707  0.009679  0.000117  0.001451   \n",
       "28170    sample2_x[2,6]  0.004235  0.002986  0.010185  0.000071  0.000929   \n",
       "28171    sample2_x[2,7]  0.007039  0.002105  0.024438  0.000156  0.002072   \n",
       "28172    sample2_x[2,8]  0.240088  0.287867  0.411168  0.000125  0.002109   \n",
       "28173    sample2_x[2,9]  0.004251  0.001572  0.016500  0.000102  0.001352   \n",
       "28174   sample2_x[2,10]  0.002573  0.000514  0.007365  0.000085  0.001146   \n",
       "28175   sample2_x[2,11]  0.003241  0.000717  0.007000  0.000088  0.001498   \n",
       "28176   sample2_x[2,12]  0.002676  0.000757  0.009448  0.000060  0.000827   \n",
       "28177   sample2_x[2,13]  0.002399  0.000388  0.004982  0.000084  0.001219   \n",
       "28178    sample2_x[3,1]  0.215888  0.258512  0.371099  0.000111  0.002241   \n",
       "28179    sample2_x[3,2]  0.216327  0.257997  0.369416  0.000165  0.002775   \n",
       "28180    sample2_x[3,3]  0.263422  0.231110  0.335894  0.001154  0.110398   \n",
       "28181    sample2_x[3,4]  0.005545  0.001490  0.014175  0.000134  0.002114   \n",
       "...                 ...       ...       ...       ...       ...       ...   \n",
       "28252   sample2_x[8,10]  0.074442  0.030598  0.076705  0.003158  0.046940   \n",
       "28253   sample2_x[8,11]  0.048849  0.017801  0.055130  0.002003  0.029865   \n",
       "28254   sample2_x[8,12]  0.136551  0.056904  0.109406  0.007222  0.108655   \n",
       "28255   sample2_x[8,13]  0.054483  0.013941  0.054695  0.002313  0.037195   \n",
       "28256    sample2_x[9,1]  0.208455  0.146549  0.212726  0.001353  0.123422   \n",
       "28257    sample2_x[9,2]  0.104911  0.073261  0.119079  0.001962  0.041794   \n",
       "28258    sample2_x[9,3]  0.080139  0.068027  0.104733  0.001544  0.025812   \n",
       "28259    sample2_x[9,4]  0.031880  0.002929  0.043332  0.001435  0.019366   \n",
       "28260    sample2_x[9,5]  0.047274  0.014258  0.054480  0.001879  0.027415   \n",
       "28261    sample2_x[9,6]  0.169062  0.117755  0.183237  0.002310  0.073688   \n",
       "28262    sample2_x[9,7]  0.027357  0.003221  0.026317  0.001594  0.019227   \n",
       "28263    sample2_x[9,8]  0.086937  0.059502  0.096961  0.002157  0.040805   \n",
       "28264    sample2_x[9,9]  0.034147  0.008448  0.039770  0.001488  0.021212   \n",
       "28265   sample2_x[9,10]  0.044611  0.014105  0.054072  0.001755  0.026072   \n",
       "28266   sample2_x[9,11]  0.050039  0.017956  0.061429  0.001854  0.028760   \n",
       "28267   sample2_x[9,12]  0.077796  0.046838  0.092981  0.001637  0.030778   \n",
       "28268   sample2_x[9,13]  0.037394  0.009906  0.041156  0.001612  0.023348   \n",
       "28269   sample2_x[10,1]  0.183193  0.193766  0.279218  0.002083  0.027138   \n",
       "28270   sample2_x[10,2]  0.042915  0.010311  0.060971  0.001893  0.025335   \n",
       "28271   sample2_x[10,3]  0.038643  0.006429  0.047622  0.001879  0.023884   \n",
       "28272   sample2_x[10,4]  0.048030  0.009716  0.046966  0.002317  0.032330   \n",
       "28273   sample2_x[10,5]  0.067808  0.030994  0.079264  0.002511  0.037042   \n",
       "28274   sample2_x[10,6]  0.209686  0.160654  0.241509  0.004268  0.078181   \n",
       "28275   sample2_x[10,7]  0.043635  0.010493  0.041695  0.002141  0.030850   \n",
       "28276   sample2_x[10,8]  0.057123  0.023305  0.064636  0.002140  0.034264   \n",
       "28277   sample2_x[10,9]  0.054712  0.016059  0.056844  0.002494  0.036467   \n",
       "28278  sample2_x[10,10]  0.055067  0.021743  0.063806  0.002405  0.032789   \n",
       "28279  sample2_x[10,11]  0.059960  0.026817  0.074326  0.002172  0.034052   \n",
       "28280  sample2_x[10,12]  0.092451  0.057813  0.109771  0.002472  0.036876   \n",
       "28281  sample2_x[10,13]  0.046779  0.016468  0.052743  0.001874  0.028269   \n",
       "\n",
       "            95%      N_Eff   N_Eff/s    R_hat  \n",
       "28152  0.743563    2.07250  0.000017  5.16412  \n",
       "28153  0.742468    2.07191  0.000017  5.16937  \n",
       "28154  0.745890    2.20354  0.000019  3.28164  \n",
       "28155  0.023429  132.25300  0.001114  1.01847  \n",
       "28156  0.013018   24.31700  0.000205  1.04857  \n",
       "28157  0.340277    2.27736  0.000019  2.74338  \n",
       "28158  0.287507    2.18588  0.000018  3.49924  \n",
       "28159  0.770154    2.05775  0.000017  6.09931  \n",
       "28160  0.010227   87.96940  0.000741  1.03060  \n",
       "28161  0.008883  130.58200  0.001100  1.01864  \n",
       "28162  0.011749  104.32300  0.000879  1.02345  \n",
       "28163  0.005888  125.13700  0.001054  1.02172  \n",
       "28164  0.009002   79.43070  0.000669  1.02775  \n",
       "28165  0.979679    2.05813  0.000017  5.85710  \n",
       "28166  0.979254    2.05587  0.000017  5.91891  \n",
       "28167  0.970822    2.06119  0.000017  5.74551  \n",
       "28168  0.012023  106.31300  0.000895  1.02457  \n",
       "28169  0.010181  187.32700  0.001578  1.01383  \n",
       "28170  0.021331   11.63260  0.000098  1.10588  \n",
       "28171  0.021281  134.81800  0.001135  1.02000  \n",
       "28172  0.971876    2.04013  0.000017  6.98553  \n",
       "28173  0.008891  110.11300  0.000927  1.02454  \n",
       "28174  0.006628  205.23100  0.001728  1.01465  \n",
       "28175  0.010460   95.32920  0.000803  1.02645  \n",
       "28176  0.005465  155.66200  0.001311  1.01805  \n",
       "28177  0.007545  164.57900  0.001386  1.01751  \n",
       "28178  0.912814    2.06070  0.000017  5.70162  \n",
       "28179  0.908625    2.05023  0.000017  6.21399  \n",
       "28180  0.898404    2.11236  0.000018  4.32103  \n",
       "28181  0.018345   90.45000  0.000762  1.02663  \n",
       "...         ...        ...       ...      ...  \n",
       "28252  0.235602    6.28445  0.000053  1.18133  \n",
       "28253  0.161791    9.59127  0.000081  1.11444  \n",
       "28254  0.341024    3.69654  0.000031  1.44743  \n",
       "28255  0.166252   15.39160  0.000130  1.06365  \n",
       "28256  0.579721    2.10707  0.000018  4.00926  \n",
       "28257  0.332401    2.64192  0.000022  1.93731  \n",
       "28258  0.299864    2.37030  0.000020  2.44952  \n",
       "28259  0.095178  218.81900  0.001843  1.01908  \n",
       "28260  0.158485   14.60010  0.000123  1.09406  \n",
       "28261  0.502871    2.42140  0.000020  2.27666  \n",
       "28262  0.080751   66.76210  0.000562  1.03122  \n",
       "28263  0.292533    2.65537  0.000022  1.91931  \n",
       "28264  0.110237   22.16240  0.000187  1.06563  \n",
       "28265  0.157195   14.69590  0.000124  1.12949  \n",
       "28266  0.168521   11.70440  0.000099  1.09033  \n",
       "28267  0.274147    3.94091  0.000033  1.45247  \n",
       "28268  0.123592   17.26200  0.000145  1.07578  \n",
       "28269  0.729018    2.07651  0.000017  4.80738  \n",
       "28270  0.131201   34.96880  0.000294  1.05146  \n",
       "28271  0.118823   54.86110  0.000462  1.03525  \n",
       "28272  0.149461   23.36630  0.000197  1.05792  \n",
       "28273  0.236204    6.54040  0.000055  1.18589  \n",
       "28274  0.649555    2.25986  0.000019  2.81845  \n",
       "28275  0.128335   15.79070  0.000133  1.07137  \n",
       "28276  0.196140    7.69185  0.000065  1.16041  \n",
       "28277  0.171538   12.52960  0.000106  1.08191  \n",
       "28278  0.189389    8.61189  0.000073  1.15961  \n",
       "28279  0.217582    7.68172  0.000065  1.14566  \n",
       "28280  0.325078    3.60520  0.000030  1.53356  \n",
       "28281  0.157514   10.25790  0.000086  1.10735  \n",
       "\n",
       "[130 rows x 10 columns]"
      ]
     },
     "execution_count": 31,
     "metadata": {},
     "output_type": "execute_result"
    }
   ],
   "source": [
    "stan_summary[stan_summary.name.str.startswith('sample2_x')]"
   ]
  },
  {
   "cell_type": "markdown",
   "metadata": {
    "deletable": true,
    "editable": true
   },
   "source": [
    "# Load in cibersort and ground truth"
   ]
  },
  {
   "cell_type": "code",
   "execution_count": 32,
   "metadata": {
    "ExecuteTime": {
     "end_time": "2017-10-23T23:29:18.826055Z",
     "start_time": "2017-10-23T23:29:18.409687Z"
    },
    "collapsed": true,
    "deletable": true,
    "editable": true
   },
   "outputs": [],
   "source": [
    "[\n",
    "    _, #merged_samples,\n",
    "    cleaner_gt,\n",
    "    friendly_mixture_descriptions,\n",
    "    example_result,\n",
    "    cib_class_names,\n",
    "    rollup_groundtruth,\n",
    "    _, #rollupsums_df,\n",
    "    col_order,\n",
    "    rollups\n",
    "] = pickle.load(open('/modelcache/experiments/tmp_2.1.1_plotting.pkl', 'rb'))"
   ]
  },
  {
   "cell_type": "code",
   "execution_count": 33,
   "metadata": {
    "ExecuteTime": {
     "end_time": "2017-10-23T23:29:19.033703Z",
     "start_time": "2017-10-23T23:29:19.030645Z"
    },
    "collapsed": true
   },
   "outputs": [],
   "source": [
    "sns.set_style('darkgrid')"
   ]
  },
  {
   "cell_type": "markdown",
   "metadata": {
    "deletable": true,
    "editable": true
   },
   "source": [
    "# Convergence checks."
   ]
  },
  {
   "cell_type": "code",
   "execution_count": 34,
   "metadata": {
    "ExecuteTime": {
     "end_time": "2017-10-23T23:29:19.864929Z",
     "start_time": "2017-10-23T23:29:19.571612Z"
    },
    "collapsed": false,
    "deletable": true,
    "editable": true
   },
   "outputs": [
    {
     "name": "stdout",
     "output_type": "stream",
     "text": [
      "mkdir -p plots/2.2.1/\r\n"
     ]
    }
   ],
   "source": [
    "!echo mkdir -p $PLOT_DIR\n",
    "!mkdir -p $PLOT_DIR"
   ]
  },
  {
   "cell_type": "code",
   "execution_count": 35,
   "metadata": {
    "ExecuteTime": {
     "end_time": "2017-10-23T23:29:20.809847Z",
     "start_time": "2017-10-23T23:29:20.800481Z"
    },
    "collapsed": true,
    "deletable": true,
    "editable": true,
    "init_cell": true
   },
   "outputs": [],
   "source": [
    "def savefig(fig, *args, **kwargs):\n",
    "    \"\"\"\n",
    "    Wrap figure.savefig defaulting to tight bounding box.\n",
    "    From https://github.com/mwaskom/seaborn/blob/dfdd1126626f7ed0fe3737528edecb71346e9eb0/seaborn/axisgrid.py#L1840\n",
    "    \"\"\"\n",
    "    kwargs.setdefault(\"bbox_inches\", \"tight\")\n",
    "    fig.savefig(*args, **kwargs)"
   ]
  },
  {
   "cell_type": "code",
   "execution_count": 36,
   "metadata": {
    "ExecuteTime": {
     "end_time": "2017-10-23T23:29:22.640687Z",
     "start_time": "2017-10-23T23:29:22.610795Z"
    },
    "collapsed": false
   },
   "outputs": [
    {
     "data": {
      "text/plain": [
       "28152    5.16412\n",
       "28153    5.16937\n",
       "28154    3.28164\n",
       "28155    1.01847\n",
       "28156    1.04857\n",
       "28157    2.74338\n",
       "28158    3.49924\n",
       "28159    6.09931\n",
       "28160    1.03060\n",
       "28161    1.01864\n",
       "28162    1.02345\n",
       "28163    1.02172\n",
       "28164    1.02775\n",
       "28165    5.85710\n",
       "28166    5.91891\n",
       "28167    5.74551\n",
       "28168    1.02457\n",
       "28169    1.01383\n",
       "28170    1.10588\n",
       "28171    1.02000\n",
       "28172    6.98553\n",
       "28173    1.02454\n",
       "28174    1.01465\n",
       "28175    1.02645\n",
       "28176    1.01805\n",
       "28177    1.01751\n",
       "28178    5.70162\n",
       "28179    6.21399\n",
       "28180    4.32103\n",
       "28181    1.02663\n",
       "          ...   \n",
       "28252    1.18133\n",
       "28253    1.11444\n",
       "28254    1.44743\n",
       "28255    1.06365\n",
       "28256    4.00926\n",
       "28257    1.93731\n",
       "28258    2.44952\n",
       "28259    1.01908\n",
       "28260    1.09406\n",
       "28261    2.27666\n",
       "28262    1.03122\n",
       "28263    1.91931\n",
       "28264    1.06563\n",
       "28265    1.12949\n",
       "28266    1.09033\n",
       "28267    1.45247\n",
       "28268    1.07578\n",
       "28269    4.80738\n",
       "28270    1.05146\n",
       "28271    1.03525\n",
       "28272    1.05792\n",
       "28273    1.18589\n",
       "28274    2.81845\n",
       "28275    1.07137\n",
       "28276    1.16041\n",
       "28277    1.08191\n",
       "28278    1.15961\n",
       "28279    1.14566\n",
       "28280    1.53356\n",
       "28281    1.10735\n",
       "Name: R_hat, dtype: float64"
      ]
     },
     "execution_count": 36,
     "metadata": {},
     "output_type": "execute_result"
    }
   ],
   "source": [
    "stan_summary[stan_summary.name.str.startswith('sample2_x')]['R_hat']"
   ]
  },
  {
   "cell_type": "code",
   "execution_count": 40,
   "metadata": {
    "ExecuteTime": {
     "end_time": "2017-10-23T23:29:57.935288Z",
     "start_time": "2017-10-23T23:29:57.884996Z"
    },
    "collapsed": false
   },
   "outputs": [],
   "source": [
    "# if this isn't true, stansummary failed (perhaps we ran it twice and appended)\n",
    "assert stan_summary[stan_summary.name.str.startswith('sample2_x')]['R_hat'].dtype == 'float64'"
   ]
  },
  {
   "cell_type": "code",
   "execution_count": 43,
   "metadata": {
    "ExecuteTime": {
     "end_time": "2017-10-23T23:30:10.174867Z",
     "start_time": "2017-10-23T23:30:08.572923Z"
    },
    "collapsed": false,
    "deletable": true,
    "editable": true
   },
   "outputs": [
    {
     "data": {
      "image/png": "[encoded data removed]",
      "text/plain": [
       "<matplotlib.figure.Figure at 0x7efb844c3898>"
      ]
     },
     "metadata": {},
     "output_type": "display_data"
    }
   ],
   "source": [
    "# convergence rhats\n",
    "\n",
    "\n",
    "with sns.plotting_context('paper'):\n",
    "    f2 = plt.figure(figsize=(6,4))\n",
    "    sns.distplot(stan_summary[stan_summary.name.str.startswith('sample2_x')]['R_hat'])\n",
    "    #plt.title('Unknown mixture fraction estimates -- Rhat distribution')\n",
    "    plt.title('$\\hat{R}$ metric of convergence')\n",
    "    plt.ylabel('Frequency')\n",
    "    plt.xlabel('$\\hat{R}$')\n",
    "    #f2 = plt.gcf()\n",
    "    savefig(f2, PLOT_DIR+'Rhat_sample2-x_dist.pdf', dpi=300)\n",
    "    savefig(f2, PLOT_DIR+'Rhat_sample2-x_dist.png', dpi=300)"
   ]
  },
  {
   "cell_type": "code",
   "execution_count": 44,
   "metadata": {
    "ExecuteTime": {
     "end_time": "2017-10-23T23:30:13.545831Z",
     "start_time": "2017-10-23T23:30:13.487907Z"
    },
    "collapsed": false,
    "deletable": true,
    "editable": true
   },
   "outputs": [
    {
     "data": {
      "text/plain": [
       "count    130.000000\n",
       "mean       2.176613\n",
       "std        1.930934\n",
       "min        1.013510\n",
       "25%        1.021763\n",
       "50%        1.068500\n",
       "75%        2.606720\n",
       "max        7.509440\n",
       "Name: R_hat, dtype: float64"
      ]
     },
     "execution_count": 44,
     "metadata": {},
     "output_type": "execute_result"
    }
   ],
   "source": [
    "stan_summary[stan_summary.name.str.startswith('sample2_x')]['R_hat'].astype(float).describe()"
   ]
  },
  {
   "cell_type": "code",
   "execution_count": 46,
   "metadata": {
    "ExecuteTime": {
     "end_time": "2017-10-23T23:30:30.657697Z",
     "start_time": "2017-10-23T23:30:29.150469Z"
    },
    "collapsed": false,
    "deletable": true,
    "editable": true
   },
   "outputs": [
    {
     "name": "stdout",
     "output_type": "stream",
     "text": [
      "median 17.06695\n",
      "mean 68.9536762308\n",
      "min 2.03535\n"
     ]
    },
    {
     "data": {
      "image/png": "[encoded data removed]",
      "text/plain": [
       "<matplotlib.figure.Figure at 0x7efb878e8240>"
      ]
     },
     "metadata": {},
     "output_type": "display_data"
    }
   ],
   "source": [
    "# convergence - N_eff\n",
    "\n",
    "with sns.plotting_context('paper'):\n",
    "    f2 = plt.figure(figsize=(6,4)) # 8,6\n",
    "    sns.distplot(stan_summary[stan_summary.name.str.startswith('sample2_x')]['N_Eff'])\n",
    "    # Unknown mixture fraction estimates: effective sample size distribution\n",
    "    plt.title('Effective sample size: is it sufficiently high for unknown mixture estimates?')\n",
    "\n",
    "    print('median', stan_summary[stan_summary.name.str.startswith('sample2_x')]['N_Eff'].median())\n",
    "    print('mean', stan_summary[stan_summary.name.str.startswith('sample2_x')]['N_Eff'].mean())\n",
    "    print('min', stan_summary[stan_summary.name.str.startswith('sample2_x')]['N_Eff'].min())\n",
    "\n",
    "    plt.ylabel('Frequency')\n",
    "    #f2 = plt.gcf()\n",
    "    savefig(f2, PLOT_DIR+'Neff_sample2-x_dist.pdf', dpi=300)\n",
    "    savefig(f2, PLOT_DIR+'Neff_sample2-x_dist.png', dpi=300)"
   ]
  },
  {
   "cell_type": "code",
   "execution_count": 47,
   "metadata": {
    "ExecuteTime": {
     "end_time": "2017-10-23T23:30:42.388562Z",
     "start_time": "2017-10-23T23:30:42.186637Z"
    },
    "collapsed": false,
    "deletable": true,
    "editable": true
   },
   "outputs": [
    {
     "data": {
      "image/png": "[encoded data removed]",
      "text/plain": [
       "<matplotlib.figure.Figure at 0x7efb8708a588>"
      ]
     },
     "metadata": {},
     "output_type": "display_data"
    }
   ],
   "source": [
    "current_palette = sns.color_palette()\n",
    "sns.palplot(current_palette)"
   ]
  },
  {
   "cell_type": "code",
   "execution_count": 49,
   "metadata": {
    "ExecuteTime": {
     "end_time": "2017-10-23T23:30:58.335400Z",
     "start_time": "2017-10-23T23:30:56.989097Z"
    },
    "collapsed": false,
    "deletable": true,
    "editable": true
   },
   "outputs": [
    {
     "name": "stdout",
     "output_type": "stream",
     "text": [
      "median 0.010509600000000001\n",
      "mean 0.0640776454538\n"
     ]
    },
    {
     "data": {
      "image/png": "[encoded data removed]",
      "text/plain": [
       "<matplotlib.figure.Figure at 0x7efb878e84a8>"
      ]
     },
     "metadata": {},
     "output_type": "display_data"
    }
   ],
   "source": [
    "# convergence -- MCSE \n",
    "with sns.plotting_context('paper'):\n",
    "    f2 = plt.figure(figsize=(6,4))\n",
    "    sns.distplot(stan_summary[stan_summary.name.str.startswith('sample2_x')]['MCSE'],\n",
    "                 #kde_kws={'color':sns.color_palette()[2]}\n",
    "                )\n",
    "    #plt.axvline(x=stan_summary[stan_summary.name.str.startswith('sample2_x')]['MCSE'].median(),\n",
    "    #            linestyle='dotted', lw=2.5, color=sns.color_palette()[2])\n",
    "    print('median', stan_summary[stan_summary.name.str.startswith('sample2_x')]['MCSE'].median())\n",
    "    print('mean', stan_summary[stan_summary.name.str.startswith('sample2_x')]['MCSE'].mean())\n",
    "    #plt.title('Unknown mixture fraction estimates: Monte Carlo error distribution')\n",
    "    plt.title('High Monte Carlo simulation error for unknown mixture estimates')\n",
    "    plt.ylabel('Frequency')\n",
    "    #f2 = plt.gcf()\n",
    "    savefig(f2, PLOT_DIR+'MCSE_sample2-x_dist.pdf', dpi=300)\n",
    "    savefig(f2, PLOT_DIR+'MCSE_sample2-x_dist.png', dpi=300)"
   ]
  },
  {
   "cell_type": "code",
   "execution_count": 51,
   "metadata": {
    "ExecuteTime": {
     "end_time": "2017-10-23T23:31:20.379823Z",
     "start_time": "2017-10-23T23:31:19.053111Z"
    },
    "collapsed": false,
    "deletable": true,
    "editable": true
   },
   "outputs": [
    {
     "name": "stdout",
     "output_type": "stream",
     "text": [
      "median 0.05399895\n",
      "mean 0.108150797846\n"
     ]
    },
    {
     "data": {
      "image/png": "[encoded data removed]",
      "text/plain": [
       "<matplotlib.figure.Figure at 0x7efb8782fb00>"
      ]
     },
     "metadata": {},
     "output_type": "display_data"
    }
   ],
   "source": [
    "# convergence -- standard deviation\n",
    "with sns.plotting_context('paper'):\n",
    "    f2 = plt.figure(figsize=(6,4))\n",
    "    sns.distplot(stan_summary[stan_summary.name.str.startswith('sample2_x')]['StdDev'])\n",
    "    # plt.axvline(x=stan_summary[stan_summary.name.str.startswith('sample2_x')]['StdDev'].median(),\n",
    "    #             linestyle='dotted', lw=2.5, color=sns.color_palette()[2])\n",
    "    print('median', stan_summary[stan_summary.name.str.startswith('sample2_x')]['StdDev'].median())\n",
    "    print('mean', stan_summary[stan_summary.name.str.startswith('sample2_x')]['StdDev'].mean())\n",
    "    plt.title('High posterior standard deviation for unknown mixture estimates')\n",
    "    plt.ylabel('Frequency')\n",
    "    #f2 = plt.gcf()\n",
    "    savefig(f2, PLOT_DIR+'StdDev_sample2-x_dist.pdf', dpi=300)\n",
    "    savefig(f2, PLOT_DIR+'StdDev_sample2-x_dist.png', dpi=300)"
   ]
  },
  {
   "cell_type": "code",
   "execution_count": 52,
   "metadata": {
    "ExecuteTime": {
     "end_time": "2017-10-23T23:31:29.183496Z",
     "start_time": "2017-10-23T23:31:29.123172Z"
    },
    "collapsed": false,
    "deletable": true,
    "editable": true
   },
   "outputs": [
    {
     "data": {
      "text/plain": [
       "count    130.000000\n",
       "mean       0.108151\n",
       "std        0.130556\n",
       "min        0.004982\n",
       "25%        0.013624\n",
       "50%        0.053999\n",
       "75%        0.139249\n",
       "max        0.417242\n",
       "Name: StdDev, dtype: float64"
      ]
     },
     "execution_count": 52,
     "metadata": {},
     "output_type": "execute_result"
    }
   ],
   "source": [
    "stan_summary[stan_summary.name.str.startswith('sample2_x')]['StdDev'].describe()"
   ]
  },
  {
   "cell_type": "markdown",
   "metadata": {
    "deletable": true,
    "editable": true
   },
   "source": [
    "# get the full deconvolution distributions"
   ]
  },
  {
   "cell_type": "code",
   "execution_count": null,
   "metadata": {
    "ExecuteTime": {
     "start_time": "2017-10-09T21:27:12.965Z"
    },
    "collapsed": false,
    "deletable": true,
    "editable": true,
    "init_cell": true
   },
   "outputs": [],
   "source": [
    "# have to load in the full traces\n",
    "cols_we_want = stan_summary[stan_summary.name.str.startswith('sample2_x')].name.values\n",
    "cols_we_want"
   ]
  },
  {
   "cell_type": "code",
   "execution_count": null,
   "metadata": {
    "ExecuteTime": {
     "start_time": "2017-10-09T21:27:12.975Z"
    },
    "collapsed": false,
    "deletable": true,
    "editable": true,
    "init_cell": true
   },
   "outputs": [],
   "source": [
    "cols_we_want_renamed  = [c.replace('[', '.').replace(']', '').replace(',', '.') for c in cols_we_want]\n",
    "cols_we_want_renamed"
   ]
  },
  {
   "cell_type": "code",
   "execution_count": null,
   "metadata": {
    "ExecuteTime": {
     "start_time": "2017-10-09T21:27:12.985Z"
    },
    "collapsed": false,
    "deletable": true,
    "editable": true,
    "init_cell": true
   },
   "outputs": [],
   "source": [
    "all_traces = []\n",
    "for i in range(4):\n",
    "    print('loading:', i)\n",
    "    trace_i = pd.read_csv('logs/informativepriors_sampling_log.txt_%d.csv' % i, comment='#', usecols=cols_we_want_renamed)\n",
    "    trace_i['trace_id'] = i\n",
    "    trace_i['iter'] = trace_i.index\n",
    "    all_traces.append(trace_i)"
   ]
  },
  {
   "cell_type": "code",
   "execution_count": null,
   "metadata": {
    "ExecuteTime": {
     "start_time": "2017-10-09T21:27:12.996Z"
    },
    "collapsed": false,
    "deletable": true,
    "editable": true,
    "init_cell": true
   },
   "outputs": [],
   "source": [
    "all_traces_df = pd.concat(all_traces)\n",
    "print(all_traces_df.shape)\n",
    "all_traces_df.head()"
   ]
  },
  {
   "cell_type": "code",
   "execution_count": null,
   "metadata": {
    "ExecuteTime": {
     "start_time": "2017-10-09T21:27:13.005Z"
    },
    "collapsed": false,
    "deletable": true,
    "editable": true,
    "init_cell": true
   },
   "outputs": [],
   "source": [
    "all_traces_df2 = pd.melt(all_traces_df, id_vars=['iter','trace_id'], value_name='estimate', var_name='variable')\n",
    "all_traces_df2.head()"
   ]
  },
  {
   "cell_type": "code",
   "execution_count": null,
   "metadata": {
    "ExecuteTime": {
     "start_time": "2017-10-09T21:27:13.015Z"
    },
    "collapsed": false,
    "deletable": true,
    "editable": true,
    "init_cell": true
   },
   "outputs": [],
   "source": [
    "var_ids = all_traces_df2.variable.str.extract('sample2_x.(?P<sample_id>\\d+).(?P<subset_id>\\d+)')\n",
    "var_ids.head()"
   ]
  },
  {
   "cell_type": "code",
   "execution_count": null,
   "metadata": {
    "ExecuteTime": {
     "start_time": "2017-10-09T21:27:13.024Z"
    },
    "collapsed": false,
    "deletable": true,
    "editable": true,
    "init_cell": true
   },
   "outputs": [],
   "source": [
    "all_traces_df3= pd.concat([all_traces_df2, var_ids], axis=1) \n",
    "all_traces_df3.head()"
   ]
  },
  {
   "cell_type": "code",
   "execution_count": null,
   "metadata": {
    "ExecuteTime": {
     "start_time": "2017-10-09T21:27:13.034Z"
    },
    "collapsed": true,
    "deletable": true,
    "editable": true,
    "init_cell": true
   },
   "outputs": [],
   "source": [
    "all_traces_df3['subset_id'] = all_traces_df3['subset_id'].astype(int)\n",
    "all_traces_df3['sample_id'] = all_traces_df3['sample_id'].astype(int)"
   ]
  },
  {
   "cell_type": "code",
   "execution_count": null,
   "metadata": {
    "ExecuteTime": {
     "start_time": "2017-10-09T21:27:13.042Z"
    },
    "collapsed": false,
    "deletable": true,
    "editable": true,
    "init_cell": true
   },
   "outputs": [],
   "source": [
    "sample2_xs = stan_summary[stan_summary.name.str.startswith('sample2_x')]['Mean'].values.reshape(10, 13)\n",
    "sample2_xs.shape\n",
    "\n",
    "mixture_estimates = pd.DataFrame(sample2_xs, columns=colnames)\n",
    "mixture_estimates\n",
    "\n",
    "import re\n",
    "subset_names = [re.sub(string=x, pattern='(.*)\\[(.*)\\]', repl='\\\\2') for x in mixture_estimates.columns]\n",
    "subset_names"
   ]
  },
  {
   "cell_type": "code",
   "execution_count": null,
   "metadata": {
    "ExecuteTime": {
     "start_time": "2017-10-09T21:27:13.052Z"
    },
    "collapsed": false,
    "deletable": true,
    "editable": true,
    "init_cell": true
   },
   "outputs": [],
   "source": [
    "all_traces_df3['subset_name'] = all_traces_df3.subset_id.apply(lambda i: subset_names[i-1])\n",
    "all_traces_df3.head()"
   ]
  },
  {
   "cell_type": "code",
   "execution_count": null,
   "metadata": {
    "ExecuteTime": {
     "start_time": "2017-10-09T21:27:13.060Z"
    },
    "collapsed": false,
    "deletable": true,
    "editable": true,
    "init_cell": true
   },
   "outputs": [],
   "source": [
    "# IMPORTANT: drop the warmup samples!!!!!\n",
    "warmup = 1000\n",
    "# this should show a wide range\n",
    "#all_traces_df3.iter.hist()\n",
    "all_traces_df3.iter.describe()[['min', 'max']]"
   ]
  },
  {
   "cell_type": "code",
   "execution_count": null,
   "metadata": {
    "ExecuteTime": {
     "start_time": "2017-10-09T21:27:13.069Z"
    },
    "collapsed": false,
    "deletable": true,
    "editable": true,
    "init_cell": true
   },
   "outputs": [],
   "source": [
    "# drop warmups\n",
    "all_traces_df3 = all_traces_df3.loc[all_traces_df3['iter']>=1000,]\n",
    "all_traces_df3['iter'] -= 1000\n",
    "# this should be better now\n",
    "#all_traces_df3.iter.hist()\n",
    "all_traces_df3.iter.describe()[['min', 'max']]"
   ]
  },
  {
   "cell_type": "code",
   "execution_count": null,
   "metadata": {
    "ExecuteTime": {
     "start_time": "2017-10-09T21:27:13.078Z"
    },
    "collapsed": false,
    "deletable": true,
    "editable": true,
    "init_cell": true
   },
   "outputs": [],
   "source": [
    "# combine iteration numbers across traces -- i.e. line them up from 0 to 4000, not 4 versions of 0 to 1000\n",
    "#(all_traces_df3['trace_id']*1000 + all_traces_df3['iter']).hist()\n",
    "(all_traces_df3['trace_id']*1000 + all_traces_df3['iter']).describe()[['min', 'max']]"
   ]
  },
  {
   "cell_type": "code",
   "execution_count": null,
   "metadata": {
    "ExecuteTime": {
     "start_time": "2017-10-09T21:27:13.087Z"
    },
    "collapsed": true,
    "deletable": true,
    "editable": true,
    "init_cell": true
   },
   "outputs": [],
   "source": [
    "all_traces_df3['combined_iter_number'] = (all_traces_df3['trace_id']*1000 + all_traces_df3['iter'])"
   ]
  },
  {
   "cell_type": "code",
   "execution_count": null,
   "metadata": {
    "ExecuteTime": {
     "start_time": "2017-10-09T21:27:13.097Z"
    },
    "collapsed": true,
    "deletable": true,
    "editable": true,
    "init_cell": true
   },
   "outputs": [],
   "source": [
    "assert all_traces_df3.shape[0] / 10 / 13 / 4 == 1000."
   ]
  },
  {
   "cell_type": "markdown",
   "metadata": {
    "deletable": true,
    "editable": true
   },
   "source": [
    "# Plot"
   ]
  },
  {
   "cell_type": "code",
   "execution_count": null,
   "metadata": {
    "ExecuteTime": {
     "start_time": "2017-10-09T21:27:13.143Z"
    },
    "collapsed": false,
    "deletable": true,
    "editable": true,
    "init_cell": true
   },
   "outputs": [],
   "source": [
    "current_palette = sns.color_palette()\n",
    "sns.palplot(current_palette)"
   ]
  },
  {
   "cell_type": "code",
   "execution_count": null,
   "metadata": {
    "ExecuteTime": {
     "start_time": "2017-10-09T21:27:13.152Z"
    },
    "collapsed": false,
    "deletable": true,
    "editable": true,
    "init_cell": true
   },
   "outputs": [],
   "source": [
    "subset_names, cib_class_names"
   ]
  },
  {
   "cell_type": "code",
   "execution_count": null,
   "metadata": {
    "ExecuteTime": {
     "start_time": "2017-10-09T21:27:13.162Z"
    },
    "collapsed": false,
    "deletable": false,
    "editable": false,
    "init_cell": true,
    "run_control": {
     "frozen": true
    }
   },
   "outputs": [],
   "source": [
    "# # Roll up by cell type\n",
    "\n",
    "rollups = {\n",
    "    'B': subset_names[:3],\n",
    "    'CD4 T': subset_names[3:10],\n",
    "    'CD8 T': subset_names[10:]\n",
    "}\n",
    "rollups = {\n",
    "    'B': [c for c in cib_class_names if c.startswith('B_')],\n",
    "    'CD4 T': [c for c in cib_class_names if c.startswith('CD4_')],\n",
    "    'CD8 T': [c for c in cib_class_names if c.startswith('CD8_')]\n",
    "}\n",
    "rollups"
   ]
  },
  {
   "cell_type": "code",
   "execution_count": null,
   "metadata": {
    "ExecuteTime": {
     "start_time": "2017-10-09T21:27:13.172Z"
    },
    "collapsed": true,
    "deletable": true,
    "editable": true,
    "init_cell": true
   },
   "outputs": [],
   "source": [
    "def label_rollup(rollups, x):\n",
    "    for key in rollups.keys():\n",
    "        if x in rollups[key]:\n",
    "            return key\n",
    "    return None"
   ]
  },
  {
   "cell_type": "code",
   "execution_count": null,
   "metadata": {
    "ExecuteTime": {
     "start_time": "2017-10-09T21:27:13.183Z"
    },
    "collapsed": false,
    "deletable": true,
    "editable": true,
    "init_cell": true
   },
   "outputs": [],
   "source": [
    "all_traces_df3['rollup'] = all_traces_df3.subset_name.apply(lambda x: label_rollup(rollups, x))\n",
    "\n",
    "all_traces_df3.rollup.value_counts()"
   ]
  },
  {
   "cell_type": "code",
   "execution_count": null,
   "metadata": {
    "ExecuteTime": {
     "start_time": "2017-10-09T21:27:13.193Z"
    },
    "collapsed": false,
    "deletable": true,
    "editable": true,
    "init_cell": true
   },
   "outputs": [],
   "source": [
    "samples_rolledup = all_traces_df3.groupby(['sample_id', 'combined_iter_number', 'rollup']).estimate.sum().reset_index()\n",
    "samples_rolledup.head()"
   ]
  },
  {
   "cell_type": "code",
   "execution_count": null,
   "metadata": {
    "ExecuteTime": {
     "start_time": "2017-10-09T21:27:13.207Z"
    },
    "collapsed": false,
    "deletable": true,
    "editable": true,
    "init_cell": true
   },
   "outputs": [],
   "source": [
    "# now roll up ground truth: sum the subset fractions for every sample into B, CD8 T, CD4 groups:\n",
    "\n",
    "groundtruth_df = stan_data['x2'].copy()\n",
    "groundtruth_df['mixID'] = range(len(groundtruth_df))\n",
    "groundtruth_df"
   ]
  },
  {
   "cell_type": "code",
   "execution_count": null,
   "metadata": {
    "ExecuteTime": {
     "start_time": "2017-10-09T21:27:13.219Z"
    },
    "collapsed": false,
    "deletable": true,
    "editable": true,
    "init_cell": true
   },
   "outputs": [],
   "source": [
    "groundtruth_df_2 = pd.melt(groundtruth_df, id_vars=['mixID'], var_name='subset', value_name='estimate')\n",
    "print(groundtruth_df_2.shape)\n",
    "groundtruth_df_2['subset'] = groundtruth_df_2['subset'].apply(lambda x: re.sub(string=x, pattern='(.*)\\[(.*)\\]', repl='\\\\2'))\n",
    "groundtruth_df_2['rollup'] = groundtruth_df_2.subset.apply(lambda x: label_rollup(rollups, x))\n",
    "groundtruth_df_2.head()"
   ]
  },
  {
   "cell_type": "code",
   "execution_count": null,
   "metadata": {
    "ExecuteTime": {
     "start_time": "2017-10-09T21:27:13.231Z"
    },
    "collapsed": false,
    "deletable": true,
    "editable": true,
    "init_cell": true
   },
   "outputs": [],
   "source": [
    "rollup_groundtruth = groundtruth_df_2.groupby(['mixID', 'rollup']).estimate.sum().reset_index()\n",
    "rollup_groundtruth.head()"
   ]
  },
  {
   "cell_type": "code",
   "execution_count": 223,
   "metadata": {
    "ExecuteTime": {
     "end_time": "2017-09-04T19:36:31.844016Z",
     "start_time": "2017-09-04T19:36:31.821608Z"
    },
    "collapsed": false,
    "deletable": true,
    "editable": true
   },
   "outputs": [
    {
     "data": {
      "text/html": [
       "<div>\n",
       "<table border=\"1\" class=\"dataframe\">\n",
       "  <thead>\n",
       "    <tr style=\"text-align: right;\">\n",
       "      <th></th>\n",
       "      <th>B</th>\n",
       "      <th>CD4 T</th>\n",
       "      <th>CD8 T</th>\n",
       "    </tr>\n",
       "  </thead>\n",
       "  <tbody>\n",
       "    <tr>\n",
       "      <th>0</th>\n",
       "      <td>0.733192</td>\n",
       "      <td>0.156393</td>\n",
       "      <td>0.110415</td>\n",
       "    </tr>\n",
       "    <tr>\n",
       "      <th>1</th>\n",
       "      <td>0.873172</td>\n",
       "      <td>0.104869</td>\n",
       "      <td>0.021959</td>\n",
       "    </tr>\n",
       "    <tr>\n",
       "      <th>2</th>\n",
       "      <td>0.742666</td>\n",
       "      <td>0.171586</td>\n",
       "      <td>0.085748</td>\n",
       "    </tr>\n",
       "    <tr>\n",
       "      <th>3</th>\n",
       "      <td>0.831617</td>\n",
       "      <td>0.139056</td>\n",
       "      <td>0.029327</td>\n",
       "    </tr>\n",
       "    <tr>\n",
       "      <th>4</th>\n",
       "      <td>0.756919</td>\n",
       "      <td>0.086678</td>\n",
       "      <td>0.156404</td>\n",
       "    </tr>\n",
       "  </tbody>\n",
       "</table>\n",
       "</div>"
      ],
      "text/plain": [
       "          B     CD4 T     CD8 T\n",
       "0  0.733192  0.156393  0.110415\n",
       "1  0.873172  0.104869  0.021959\n",
       "2  0.742666  0.171586  0.085748\n",
       "3  0.831617  0.139056  0.029327\n",
       "4  0.756919  0.086678  0.156404"
      ]
     },
     "execution_count": 223,
     "metadata": {},
     "output_type": "execute_result"
    }
   ],
   "source": [
    "# cibersort results\n",
    "rollupsums_df.head()"
   ]
  },
  {
   "cell_type": "code",
   "execution_count": 45,
   "metadata": {
    "ExecuteTime": {
     "end_time": "2017-09-22T17:00:02.352785Z",
     "start_time": "2017-09-22T17:00:01.850305Z"
    },
    "collapsed": false,
    "deletable": true,
    "editable": true
   },
   "outputs": [
    {
     "data": {
      "text/plain": [
       "Index(['B CD5', 'B Memory', 'B Naive', 'CD4 Central Memory',\n",
       "       'CD4 Effector Memory', 'CD4 Naive', 'CD4 Th1', 'CD4 Th17', 'CD4 Th2',\n",
       "       'CD4 Treg', 'CD8 Central Memory', 'CD8 Effector', 'CD8 Naive'],\n",
       "      dtype='object')"
      ]
     },
     "execution_count": 45,
     "metadata": {},
     "output_type": "execute_result"
    }
   ],
   "source": [
    "cleaner_traces = all_traces_df3.copy()\n",
    "cleaner_traces['subset_name'] = cleaner_traces['subset_name'].str.replace(\n",
    "    '_', ' ')\n",
    "cleaner_traces['subset_name'].value_counts()\n",
    "\n",
    "cleaner_gt = stan_data['x2'].rename(\n",
    "    columns=\n",
    "    lambda x: x.replace('_', ' ').replace('SubSet[', '').replace(']', ''))\n",
    "cleaner_gt.columns"
   ]
  },
  {
   "cell_type": "code",
   "execution_count": 48,
   "metadata": {
    "ExecuteTime": {
     "end_time": "2017-09-22T17:00:08.165317Z",
     "start_time": "2017-09-22T17:00:08.128272Z"
    },
    "collapsed": false,
    "deletable": true,
    "editable": true
   },
   "outputs": [
    {
     "data": {
      "text/html": [
       "<div>\n",
       "<table border=\"1\" class=\"dataframe\">\n",
       "  <thead>\n",
       "    <tr style=\"text-align: right;\">\n",
       "      <th></th>\n",
       "      <th>iter</th>\n",
       "      <th>trace_id</th>\n",
       "      <th>variable</th>\n",
       "      <th>estimate</th>\n",
       "      <th>sample_id</th>\n",
       "      <th>subset_id</th>\n",
       "      <th>subset_name</th>\n",
       "      <th>combined_iter_number</th>\n",
       "      <th>rollup</th>\n",
       "    </tr>\n",
       "  </thead>\n",
       "  <tbody>\n",
       "    <tr>\n",
       "      <th>1000</th>\n",
       "      <td>0</td>\n",
       "      <td>0</td>\n",
       "      <td>sample2_x.1.1</td>\n",
       "      <td>0.017501</td>\n",
       "      <td>1</td>\n",
       "      <td>1</td>\n",
       "      <td>B CD5</td>\n",
       "      <td>0</td>\n",
       "      <td>B</td>\n",
       "    </tr>\n",
       "    <tr>\n",
       "      <th>1001</th>\n",
       "      <td>1</td>\n",
       "      <td>0</td>\n",
       "      <td>sample2_x.1.1</td>\n",
       "      <td>0.024584</td>\n",
       "      <td>1</td>\n",
       "      <td>1</td>\n",
       "      <td>B CD5</td>\n",
       "      <td>1</td>\n",
       "      <td>B</td>\n",
       "    </tr>\n",
       "    <tr>\n",
       "      <th>1002</th>\n",
       "      <td>2</td>\n",
       "      <td>0</td>\n",
       "      <td>sample2_x.1.1</td>\n",
       "      <td>0.005220</td>\n",
       "      <td>1</td>\n",
       "      <td>1</td>\n",
       "      <td>B CD5</td>\n",
       "      <td>2</td>\n",
       "      <td>B</td>\n",
       "    </tr>\n",
       "    <tr>\n",
       "      <th>1003</th>\n",
       "      <td>3</td>\n",
       "      <td>0</td>\n",
       "      <td>sample2_x.1.1</td>\n",
       "      <td>0.001213</td>\n",
       "      <td>1</td>\n",
       "      <td>1</td>\n",
       "      <td>B CD5</td>\n",
       "      <td>3</td>\n",
       "      <td>B</td>\n",
       "    </tr>\n",
       "    <tr>\n",
       "      <th>1004</th>\n",
       "      <td>4</td>\n",
       "      <td>0</td>\n",
       "      <td>sample2_x.1.1</td>\n",
       "      <td>0.047654</td>\n",
       "      <td>1</td>\n",
       "      <td>1</td>\n",
       "      <td>B CD5</td>\n",
       "      <td>4</td>\n",
       "      <td>B</td>\n",
       "    </tr>\n",
       "  </tbody>\n",
       "</table>\n",
       "</div>"
      ],
      "text/plain": [
       "      iter  trace_id       variable  estimate  sample_id  subset_id  \\\n",
       "1000     0         0  sample2_x.1.1  0.017501          1          1   \n",
       "1001     1         0  sample2_x.1.1  0.024584          1          1   \n",
       "1002     2         0  sample2_x.1.1  0.005220          1          1   \n",
       "1003     3         0  sample2_x.1.1  0.001213          1          1   \n",
       "1004     4         0  sample2_x.1.1  0.047654          1          1   \n",
       "\n",
       "     subset_name  combined_iter_number rollup  \n",
       "1000       B CD5                     0      B  \n",
       "1001       B CD5                     1      B  \n",
       "1002       B CD5                     2      B  \n",
       "1003       B CD5                     3      B  \n",
       "1004       B CD5                     4      B  "
      ]
     },
     "execution_count": 48,
     "metadata": {},
     "output_type": "execute_result"
    }
   ],
   "source": [
    "cleaner_traces.head()"
   ]
  },
  {
   "cell_type": "code",
   "execution_count": 49,
   "metadata": {
    "ExecuteTime": {
     "end_time": "2017-09-22T17:00:08.799508Z",
     "start_time": "2017-09-22T17:00:08.774367Z"
    },
    "collapsed": false,
    "deletable": true,
    "editable": true
   },
   "outputs": [
    {
     "data": {
      "text/html": [
       "<div>\n",
       "<table border=\"1\" class=\"dataframe\">\n",
       "  <thead>\n",
       "    <tr style=\"text-align: right;\">\n",
       "      <th></th>\n",
       "      <th>sample_id</th>\n",
       "      <th>combined_iter_number</th>\n",
       "      <th>rollup</th>\n",
       "      <th>estimate</th>\n",
       "    </tr>\n",
       "  </thead>\n",
       "  <tbody>\n",
       "    <tr>\n",
       "      <th>0</th>\n",
       "      <td>1</td>\n",
       "      <td>0</td>\n",
       "      <td>B</td>\n",
       "      <td>0.994511</td>\n",
       "    </tr>\n",
       "    <tr>\n",
       "      <th>1</th>\n",
       "      <td>1</td>\n",
       "      <td>0</td>\n",
       "      <td>CD4 T</td>\n",
       "      <td>0.004095</td>\n",
       "    </tr>\n",
       "    <tr>\n",
       "      <th>2</th>\n",
       "      <td>1</td>\n",
       "      <td>0</td>\n",
       "      <td>CD8 T</td>\n",
       "      <td>0.001394</td>\n",
       "    </tr>\n",
       "    <tr>\n",
       "      <th>3</th>\n",
       "      <td>1</td>\n",
       "      <td>1</td>\n",
       "      <td>B</td>\n",
       "      <td>0.995181</td>\n",
       "    </tr>\n",
       "    <tr>\n",
       "      <th>4</th>\n",
       "      <td>1</td>\n",
       "      <td>1</td>\n",
       "      <td>CD4 T</td>\n",
       "      <td>0.003383</td>\n",
       "    </tr>\n",
       "  </tbody>\n",
       "</table>\n",
       "</div>"
      ],
      "text/plain": [
       "   sample_id  combined_iter_number rollup  estimate\n",
       "0          1                     0      B  0.994511\n",
       "1          1                     0  CD4 T  0.004095\n",
       "2          1                     0  CD8 T  0.001394\n",
       "3          1                     1      B  0.995181\n",
       "4          1                     1  CD4 T  0.003383"
      ]
     },
     "execution_count": 49,
     "metadata": {},
     "output_type": "execute_result"
    }
   ],
   "source": [
    "samples_rolledup.head()"
   ]
  },
  {
   "cell_type": "code",
   "execution_count": 50,
   "metadata": {
    "ExecuteTime": {
     "end_time": "2017-09-22T17:00:09.961377Z",
     "start_time": "2017-09-22T17:00:09.640775Z"
    },
    "collapsed": false,
    "deletable": true,
    "editable": true
   },
   "outputs": [
    {
     "data": {
      "text/plain": [
       "subset    520000\n",
       "rollup    120000\n",
       "Name: type, dtype: int64"
      ]
     },
     "execution_count": 50,
     "metadata": {},
     "output_type": "execute_result"
    }
   ],
   "source": [
    "merged_samples_1 = cleaner_traces[['sample_id', 'combined_iter_number', 'subset_name', 'estimate']].copy()\n",
    "merged_samples_1['type'] = 'subset'\n",
    "merged_samples_2 = samples_rolledup.copy()\n",
    "merged_samples_2.columns = [c.replace('rollup', 'subset_name') for c in merged_samples_2.columns]\n",
    "merged_samples_2['type'] = 'rollup'\n",
    "merged_samples = pd.concat([merged_samples_1, merged_samples_2])\n",
    "merged_samples.type.value_counts()"
   ]
  },
  {
   "cell_type": "code",
   "execution_count": null,
   "metadata": {
    "collapsed": true
   },
   "outputs": [],
   "source": [
    "#sns.set_context('paper')\n",
    "sns.set_style(\"darkgrid\")"
   ]
  },
  {
   "cell_type": "code",
   "execution_count": 102,
   "metadata": {
    "ExecuteTime": {
     "end_time": "2017-09-22T18:40:15.352544Z",
     "start_time": "2017-09-22T18:40:15.344305Z"
    },
    "collapsed": true,
    "deletable": true,
    "editable": true
   },
   "outputs": [],
   "source": [
    "def extract_values_for_mixture_by_id(key):\n",
    "    \"\"\"\n",
    "    key: 1-indexed, meaning mixture 1 to mixture 10\n",
    "    \n",
    "    based on:\n",
    "    for (key, grp), \\\n",
    "            (_, groundtruth_base), \\\n",
    "            friendly_title, \\\n",
    "            (_, cib_vals_base), \\\n",
    "            (mixID_rolledup, groundtruth_rolledup), \\\n",
    "            (_, cib_vals_rolledup) in zip(merged_samples.groupby('sample_id'),\n",
    "                                          cleaner_gt.iterrows(),\n",
    "                                          #friendly_mixture_descriptions2,\n",
    "                                          friendly_mixture_descriptions,\n",
    "                                          example_result[cib_class_names].iterrows(),\n",
    "                                          rollup_groundtruth.groupby('mixID'),\n",
    "                                          rollupsums_df.iterrows()\n",
    "    \"\"\"\n",
    "    grp = merged_samples[merged_samples['sample_id'] == key]\n",
    "    groundtruth_base = cleaner_gt.iloc[key-1]\n",
    "    cib_vals_base = example_result[cib_class_names].iloc[key-1]\n",
    "    groundtruth_rolledup = rollup_groundtruth[rollup_groundtruth['mixID'] == key-1]\n",
    "    cib_vals_rolledup = rollupsums_df.iloc[key-1]\n",
    "    \n",
    "    return (key, grp, groundtruth_base, cib_vals_base, groundtruth_rolledup, cib_vals_rolledup)"
   ]
  },
  {
   "cell_type": "code",
   "execution_count": 101,
   "metadata": {
    "ExecuteTime": {
     "end_time": "2017-09-22T18:40:14.228205Z",
     "start_time": "2017-09-22T18:40:14.041931Z"
    },
    "collapsed": true,
    "deletable": true,
    "editable": true
   },
   "outputs": [],
   "source": [
    "def plot_single_mixture_results(mixture_info, friendly_title):\n",
    "    #flatui = [\"#9b59b6\", \"#3498db\", \"#95a5a6\", \"#e74c3c\", \"#34495e\", \"#2ecc71\"] # http://seaborn.pydata.org/tutorial/color_palettes.html\n",
    "    #sns.palplot(flatui)\n",
    "    paired_colors = sns.color_palette(\"Paired_r\", 12)\n",
    "    #sns.palplot(paired_colors)\n",
    "    \n",
    "    (key, grp, groundtruth_base, cib_vals_base, groundtruth_rolledup, cib_vals_rolledup) = mixture_info\n",
    "\n",
    "    with sns.plotting_context('paper'):\n",
    "        f, ax = plt.subplots( figsize=(12,8))\n",
    "        g = sns.boxplot(data = grp,\n",
    "                       y='subset_name',\n",
    "                       x='estimate',\n",
    "                       ax=ax,\n",
    "                       hue='type',\n",
    "                       order=col_order,\n",
    "                        # some additional parameters that we think may help:\n",
    "                        saturation=1,\n",
    "                        linewidth=1, # not sure about this one\n",
    "                        dodge=False, # avoid hue nesting\n",
    "                       #palette=[flatui[0], flatui[1]]\n",
    "                        palette=paired_colors[0:2]\n",
    "                       )\n",
    "        g.set_title(friendly_title) \n",
    "\n",
    "        # ground truth\n",
    "        gt1 = pd.DataFrame(groundtruth_base).reset_index()\n",
    "        gt1.columns = ['rollup', 'estimate']\n",
    "        gt1['type'] = 'subset'\n",
    "        gt2 = groundtruth_rolledup[['rollup', 'estimate']].copy()\n",
    "        gt2['type'] = 'rollup'\n",
    "        gt = pd.concat([gt1, gt2])\n",
    "\n",
    "        sns.stripplot(\n",
    "            x=\"estimate\",\n",
    "            y=\"rollup\",\n",
    "            data=gt,\n",
    "            hue='type',\n",
    "            order=col_order,\n",
    "            linewidth=0,\n",
    "            size=15,\n",
    "            alpha=.9,\n",
    "            marker=(5, 1),\n",
    "            #palette=[flatui[5], flatui[3]],\n",
    "            palette=paired_colors[2:4],\n",
    "            zorder=5,\n",
    "            jitter=False,\n",
    "            label='Ground Truth' # https://github.com/mwaskom/seaborn/issues/940 -- without this line, the stars aren't shown in legend entries made by \"hue\" param; instead you get a ton of dupe Ground Truth star labels\n",
    "        )\n",
    "\n",
    "        # add cibersort points\n",
    "        cb_base = pd.DataFrame(cib_vals_base).reset_index()\n",
    "        cb_base.columns = ['SubSet', 'estimate']\n",
    "        cb_base['type'] = 'subset'\n",
    "\n",
    "        cb_rolledup = pd.DataFrame(cib_vals_rolledup).reset_index()\n",
    "        cb_rolledup.columns = ['SubSet', 'estimate']\n",
    "        cb_rolledup['type'] = 'rollup'\n",
    "\n",
    "        cb = pd.concat([cb_base, cb_rolledup])\n",
    "        cb.SubSet = cb.SubSet.str.replace('_', ' ') # normalize names\n",
    "\n",
    "        sns.stripplot(\n",
    "            x=\"estimate\",\n",
    "            y=\"SubSet\",\n",
    "            data=cb,\n",
    "            hue='type',\n",
    "            order=col_order,\n",
    "            linewidth=0,\n",
    "            size=15,\n",
    "            alpha=.9,\n",
    "            marker=(3, 0),\n",
    "            #palette=[flatui[2], flatui[4]],\n",
    "            palette=paired_colors[4:6],\n",
    "            zorder=6,\n",
    "            jitter=False,\n",
    "            label='Cibersort' # see above again re this label parameter\n",
    "        )\n",
    "\n",
    "        g.set_xlabel('Mixture proportion')\n",
    "        g.set_ylabel('Cell type')\n",
    "        g.set_xbound(0, 1)\n",
    "\n",
    "        # show legend, and subselect because stripplot adds one legend item per point it appears\n",
    "        handles, labels = ax.get_legend_handles_labels()\n",
    "        \"\"\"\n",
    "        want legend items:\n",
    "        * infino samples: items 0, 1\n",
    "        * ground truth stars: items 2, 3\n",
    "        * cibersort triangles: items 2+len(col_order)+2, 2+len(col_order)+2+1\n",
    "        \"\"\"\n",
    "        chosen_idx = [1,0, 2,3, 2+len(col_order)+2, 2+len(col_order)+2+1]\n",
    "        chosen_handles = [handles[i] for i in chosen_idx]\n",
    "        #chosen_labels = [labels[i] for i in chosen_idx]\n",
    "        chosen_labels = ['Infino (sums)', 'Infino', 'Ground Truth (sums)', 'Ground Truth', 'Cibersort (sums)', 'Cibersort']\n",
    "        legend = ax.legend(\n",
    "            chosen_handles,\n",
    "            chosen_labels,\n",
    "            loc='lower right',\n",
    "            frameon=True)\n",
    "        frame = legend.get_frame()\n",
    "        frame.set_edgecolor('red')\n",
    "        frame.set_facecolor('white')\n",
    "\n",
    "        # shade background\n",
    "        #fill1 = plt.axhspan('B', 'CD4 T', facecolor='0.5', alpha=0.5)\n",
    "        fill1 = plt.axhspan(-0.5, 3.5, facecolor='0.8', alpha=0.3)\n",
    "        fill3 = plt.axhspan(11.5, 15.5, facecolor='0.8', alpha=0.3)\n",
    "\n",
    "        # improve label format\n",
    "        # https://stackoverflow.com/a/34426167/130164\n",
    "        for label in ax.get_yticklabels():\n",
    "            if label.get_text() in rollups.keys():\n",
    "                label.set_size(15)\n",
    "                label.set_backgroundcolor(\"yellow\")\n",
    "                label.set_weight(\"bold\")\n",
    "                label.set_color(\"red\")\n",
    "            else:\n",
    "                label.set_fontstyle(\"italic\")\n",
    "                label.set_weight(\"bold\")\n",
    "\n",
    "\n",
    "        return f,ax\n",
    "        "
   ]
  },
  {
   "cell_type": "code",
   "execution_count": 113,
   "metadata": {
    "ExecuteTime": {
     "end_time": "2017-09-22T18:49:45.927882Z",
     "start_time": "2017-09-22T18:49:40.549068Z"
    },
    "collapsed": false,
    "deletable": true,
    "editable": true
   },
   "outputs": [
    {
     "data": {
      "image/png": "[encoded data removed]",
      "text/plain": [
       "<matplotlib.figure.Figure at 0x7f420b69ea58>"
      ]
     },
     "metadata": {},
     "output_type": "display_data"
    }
   ],
   "source": [
    "f,ax = plot_single_mixture_results(extract_values_for_mixture_by_id(7),\n",
    "                                   'Simple mixture: 50% naive B cell, 50% CD4+ Treg cell samples.')\n",
    "savefig(f, PLOT_DIR+'fig1b.png', dpi=300)\n",
    "savefig(f, PLOT_DIR+'fig1b.pdf', dpi=300)"
   ]
  },
  {
   "cell_type": "code",
   "execution_count": 114,
   "metadata": {
    "ExecuteTime": {
     "end_time": "2017-09-22T18:49:56.205859Z",
     "start_time": "2017-09-22T18:49:50.924307Z"
    },
    "collapsed": false,
    "deletable": true,
    "editable": true
   },
   "outputs": [
    {
     "data": {
      "image/png": "[encoded data removed]",
      "text/plain": [
       "<matplotlib.figure.Figure at 0x7f41d5d14668>"
      ]
     },
     "metadata": {},
     "output_type": "display_data"
    }
   ],
   "source": [
    "f,ax = plot_single_mixture_results(extract_values_for_mixture_by_id(2),\n",
    "                                   'Complex mixture: 50% naive, 50% memory B cell samples.')\n",
    "savefig(f, PLOT_DIR+'fig1c.png', dpi=300)\n",
    "savefig(f, PLOT_DIR+'fig1c.pdf', dpi=300)"
   ]
  },
  {
   "cell_type": "code",
   "execution_count": 115,
   "metadata": {
    "ExecuteTime": {
     "end_time": "2017-09-22T18:50:14.195003Z",
     "start_time": "2017-09-22T18:50:08.778529Z"
    },
    "collapsed": false,
    "deletable": true,
    "editable": true
   },
   "outputs": [
    {
     "data": {
      "image/png": "[encoded data removed]",
      "text/plain": [
       "<matplotlib.figure.Figure at 0x7f420af08fd0>"
      ]
     },
     "metadata": {},
     "output_type": "display_data"
    }
   ],
   "source": [
    "f,ax = plot_single_mixture_results(extract_values_for_mixture_by_id(10),\n",
    "                                   'CD4 Tregs underestimated in mixture of 25% Naive B cell, 75% CD4 Treg cell samples.')\n",
    "savefig(f, PLOT_DIR+'fig1e.png', dpi=300)\n",
    "savefig(f, PLOT_DIR+'fig1e.pdf', dpi=300)"
   ]
  },
  {
   "cell_type": "markdown",
   "metadata": {
    "deletable": true,
    "editable": true
   },
   "source": [
    "# Traceplots and correlation matrix"
   ]
  },
  {
   "cell_type": "code",
   "execution_count": 77,
   "metadata": {
    "ExecuteTime": {
     "end_time": "2017-09-04T00:02:39.600783Z",
     "start_time": "2017-09-04T00:02:39.552431Z"
    },
    "collapsed": false,
    "deletable": true,
    "editable": true
   },
   "outputs": [
    {
     "data": {
      "text/html": [
       "<div>\n",
       "<table border=\"1\" class=\"dataframe\">\n",
       "  <thead>\n",
       "    <tr style=\"text-align: right;\">\n",
       "      <th></th>\n",
       "      <th>iter</th>\n",
       "      <th>trace_id</th>\n",
       "      <th>variable</th>\n",
       "      <th>estimate</th>\n",
       "      <th>sample_id</th>\n",
       "      <th>subset_id</th>\n",
       "      <th>subset_name</th>\n",
       "      <th>combined_iter_number</th>\n",
       "      <th>rollup</th>\n",
       "    </tr>\n",
       "  </thead>\n",
       "  <tbody>\n",
       "    <tr>\n",
       "      <th>1000</th>\n",
       "      <td>0</td>\n",
       "      <td>0</td>\n",
       "      <td>sample2_x.1.1</td>\n",
       "      <td>0.017501</td>\n",
       "      <td>1</td>\n",
       "      <td>1</td>\n",
       "      <td>B_CD5</td>\n",
       "      <td>0</td>\n",
       "      <td>B</td>\n",
       "    </tr>\n",
       "    <tr>\n",
       "      <th>1001</th>\n",
       "      <td>1</td>\n",
       "      <td>0</td>\n",
       "      <td>sample2_x.1.1</td>\n",
       "      <td>0.024584</td>\n",
       "      <td>1</td>\n",
       "      <td>1</td>\n",
       "      <td>B_CD5</td>\n",
       "      <td>1</td>\n",
       "      <td>B</td>\n",
       "    </tr>\n",
       "    <tr>\n",
       "      <th>1002</th>\n",
       "      <td>2</td>\n",
       "      <td>0</td>\n",
       "      <td>sample2_x.1.1</td>\n",
       "      <td>0.005220</td>\n",
       "      <td>1</td>\n",
       "      <td>1</td>\n",
       "      <td>B_CD5</td>\n",
       "      <td>2</td>\n",
       "      <td>B</td>\n",
       "    </tr>\n",
       "    <tr>\n",
       "      <th>1003</th>\n",
       "      <td>3</td>\n",
       "      <td>0</td>\n",
       "      <td>sample2_x.1.1</td>\n",
       "      <td>0.001213</td>\n",
       "      <td>1</td>\n",
       "      <td>1</td>\n",
       "      <td>B_CD5</td>\n",
       "      <td>3</td>\n",
       "      <td>B</td>\n",
       "    </tr>\n",
       "    <tr>\n",
       "      <th>1004</th>\n",
       "      <td>4</td>\n",
       "      <td>0</td>\n",
       "      <td>sample2_x.1.1</td>\n",
       "      <td>0.047654</td>\n",
       "      <td>1</td>\n",
       "      <td>1</td>\n",
       "      <td>B_CD5</td>\n",
       "      <td>4</td>\n",
       "      <td>B</td>\n",
       "    </tr>\n",
       "  </tbody>\n",
       "</table>\n",
       "</div>"
      ],
      "text/plain": [
       "      iter  trace_id       variable  estimate  sample_id  subset_id  \\\n",
       "1000     0         0  sample2_x.1.1  0.017501          1          1   \n",
       "1001     1         0  sample2_x.1.1  0.024584          1          1   \n",
       "1002     2         0  sample2_x.1.1  0.005220          1          1   \n",
       "1003     3         0  sample2_x.1.1  0.001213          1          1   \n",
       "1004     4         0  sample2_x.1.1  0.047654          1          1   \n",
       "\n",
       "     subset_name  combined_iter_number rollup  \n",
       "1000       B_CD5                     0      B  \n",
       "1001       B_CD5                     1      B  \n",
       "1002       B_CD5                     2      B  \n",
       "1003       B_CD5                     3      B  \n",
       "1004       B_CD5                     4      B  "
      ]
     },
     "execution_count": 77,
     "metadata": {},
     "output_type": "execute_result"
    }
   ],
   "source": [
    "# # traceplots\n",
    "\n",
    "# see https://github.com/stan-dev/pystan/blob/develop/pystan/plots.py\n",
    "# see https://github.com/stan-dev/pystan/blob/develop/pystan/stanfit4model.pyx#L487\n",
    "# see https://pymc-devs.github.io/pymc3/notebooks/getting_started.html#Posterior-analysis\n",
    "# see https://github.com/pymc-devs/pymc3/blob/master/pymc3/plots/traceplot.py\n",
    "from pystan.external.pymc import plots\n",
    "# actually this imports https://github.com/stan-dev/pystan/blob/develop/pystan/external/pymc/plots.py\n",
    "\n",
    "\n",
    "all_traces_df3.head()"
   ]
  },
  {
   "cell_type": "markdown",
   "metadata": {
    "deletable": true,
    "editable": true
   },
   "source": [
    "In the following traceplots, note that we ensure above that we don't use the index column as x axis, and instead use iter. that way the chains are combined."
   ]
  },
  {
   "cell_type": "code",
   "execution_count": 78,
   "metadata": {
    "ExecuteTime": {
     "end_time": "2017-09-04T00:03:16.599183Z",
     "start_time": "2017-09-04T00:03:14.637771Z"
    },
    "collapsed": false,
    "deletable": true,
    "editable": true
   },
   "outputs": [
    {
     "data": {
      "image/png": "[encoded data removed]",
      "text/plain": [
       "<matplotlib.figure.Figure at 0x7f209a128b70>"
      ]
     },
     "metadata": {},
     "output_type": "display_data"
    }
   ],
   "source": [
    "g = plots.traceplot(\n",
    "    all_traces_df3[(all_traces_df3['sample_id'] == 1)\n",
    "                   & (all_traces_df3['subset_name'] == 'B_Naive')].set_index(\n",
    "                       'iter')[['estimate']],\n",
    "    vars=['estimate'])\n",
    "g.suptitle('Mixture 1, Naive B cell fraction estimate')\n",
    "g.gca().set_ylim(0, 1)"
   ]
  },
  {
   "cell_type": "code",
   "execution_count": 79,
   "metadata": {
    "ExecuteTime": {
     "end_time": "2017-09-04T00:03:52.143512Z",
     "start_time": "2017-09-04T00:03:50.383625Z"
    },
    "collapsed": false,
    "deletable": true,
    "editable": true
   },
   "outputs": [
    {
     "data": {
      "image/png": "[encoded data removed]",
      "text/plain": [
       "<matplotlib.figure.Figure at 0x7f2090ee7470>"
      ]
     },
     "metadata": {},
     "output_type": "display_data"
    }
   ],
   "source": [
    "g = plots.traceplot(\n",
    "    all_traces_df3[(all_traces_df3['sample_id'] == 1)\n",
    "                   & (all_traces_df3['subset_name'] == 'B_Memory')].set_index(\n",
    "                       'iter')[['estimate']],\n",
    "    vars=['estimate'])\n",
    "g.suptitle('Mixture 1, Memory B cell fraction estimate')\n",
    "g.gca().set_ylim(0, 1)"
   ]
  },
  {
   "cell_type": "code",
   "execution_count": 80,
   "metadata": {
    "ExecuteTime": {
     "end_time": "2017-09-04T00:04:58.466271Z",
     "start_time": "2017-09-04T00:04:54.614174Z"
    },
    "collapsed": false,
    "deletable": true,
    "editable": true
   },
   "outputs": [
    {
     "data": {
      "image/png": "[encoded data removed]",
      "text/plain": [
       "<matplotlib.figure.Figure at 0x7f2093ce2fd0>"
      ]
     },
     "metadata": {},
     "output_type": "display_data"
    }
   ],
   "source": [
    "with sns.plotting_context('notebook'):\n",
    "    g = plots.traceplot(all_traces_df3[(all_traces_df3['sample_id'] == 10) & (all_traces_df3['subset_name'] == 'CD4_Treg')]                        .set_index('iter')[['estimate']],\n",
    "                        vars=['estimate'],\n",
    "                       )\n",
    "    g.set_size_inches((15,6))\n",
    "    #g.suptitle('Mixture 10, CD4 Treg cell fraction estimate')\n",
    "    g.suptitle('Low serial correlation in simulation trace')\n",
    "    g.axes[0].set_ylabel('Frequency')\n",
    "    g.axes[0].set_xlabel('Parameter estimate')\n",
    "    g.axes[0].set_title('CD4+ Treg cell fraction distribution')\n",
    "    g.axes[1].set_ylim(0,1)\n",
    "    g.axes[1].set_ylabel('Sample value')\n",
    "    g.axes[1].set_xlabel('Iteration number')\n",
    "    g.axes[1].set_title('Trace of sample values')"
   ]
  },
  {
   "cell_type": "code",
   "execution_count": 81,
   "metadata": {
    "ExecuteTime": {
     "end_time": "2017-09-04T00:05:28.139298Z",
     "start_time": "2017-09-04T00:05:27.992131Z"
    },
    "collapsed": false,
    "deletable": true,
    "editable": true
   },
   "outputs": [
    {
     "data": {
      "text/plain": [
       "(169, 10)"
      ]
     },
     "execution_count": 81,
     "metadata": {},
     "output_type": "execute_result"
    }
   ],
   "source": [
    "# # correlation matrix\n",
    "\n",
    "# not Omega_L\n",
    "omega = stan_summary[stan_summary.name.str.startswith('Omega[')] \n",
    "omega.shape"
   ]
  },
  {
   "cell_type": "code",
   "execution_count": 83,
   "metadata": {
    "ExecuteTime": {
     "end_time": "2017-09-04T00:05:46.721190Z",
     "start_time": "2017-09-04T00:05:46.659784Z"
    },
    "collapsed": false,
    "deletable": true,
    "editable": true
   },
   "outputs": [
    {
     "data": {
      "text/html": [
       "<div>\n",
       "<table border=\"1\" class=\"dataframe\">\n",
       "  <thead>\n",
       "    <tr style=\"text-align: right;\">\n",
       "      <th></th>\n",
       "      <th>B CD5</th>\n",
       "      <th>B Memory</th>\n",
       "      <th>B Naive</th>\n",
       "      <th>CD4 Central Memory</th>\n",
       "      <th>CD4 Effector Memory</th>\n",
       "      <th>CD4 Naive</th>\n",
       "      <th>CD4 Th1</th>\n",
       "      <th>CD4 Th17</th>\n",
       "      <th>CD4 Th2</th>\n",
       "      <th>CD4 Treg</th>\n",
       "      <th>CD8 Central Memory</th>\n",
       "      <th>CD8 Effector</th>\n",
       "      <th>CD8 Naive</th>\n",
       "    </tr>\n",
       "  </thead>\n",
       "  <tbody>\n",
       "    <tr>\n",
       "      <th>0</th>\n",
       "      <td>1.000000</td>\n",
       "      <td>0.933631</td>\n",
       "      <td>0.934306</td>\n",
       "      <td>0.327230</td>\n",
       "      <td>0.253712</td>\n",
       "      <td>0.310774</td>\n",
       "      <td>0.293183</td>\n",
       "      <td>0.232115</td>\n",
       "      <td>0.219261</td>\n",
       "      <td>0.294359</td>\n",
       "      <td>0.298074</td>\n",
       "      <td>0.163747</td>\n",
       "      <td>0.268993</td>\n",
       "    </tr>\n",
       "    <tr>\n",
       "      <th>1</th>\n",
       "      <td>0.933631</td>\n",
       "      <td>1.000000</td>\n",
       "      <td>0.961406</td>\n",
       "      <td>0.462329</td>\n",
       "      <td>0.400880</td>\n",
       "      <td>0.458163</td>\n",
       "      <td>0.424630</td>\n",
       "      <td>0.390508</td>\n",
       "      <td>0.369654</td>\n",
       "      <td>0.411717</td>\n",
       "      <td>0.442805</td>\n",
       "      <td>0.273710</td>\n",
       "      <td>0.410071</td>\n",
       "    </tr>\n",
       "    <tr>\n",
       "      <th>2</th>\n",
       "      <td>0.934306</td>\n",
       "      <td>0.961406</td>\n",
       "      <td>1.000000</td>\n",
       "      <td>0.461088</td>\n",
       "      <td>0.401640</td>\n",
       "      <td>0.455601</td>\n",
       "      <td>0.436804</td>\n",
       "      <td>0.359400</td>\n",
       "      <td>0.349832</td>\n",
       "      <td>0.397334</td>\n",
       "      <td>0.429496</td>\n",
       "      <td>0.277096</td>\n",
       "      <td>0.422463</td>\n",
       "    </tr>\n",
       "    <tr>\n",
       "      <th>3</th>\n",
       "      <td>0.327230</td>\n",
       "      <td>0.462329</td>\n",
       "      <td>0.461088</td>\n",
       "      <td>1.000000</td>\n",
       "      <td>0.936453</td>\n",
       "      <td>0.916327</td>\n",
       "      <td>0.960339</td>\n",
       "      <td>0.926928</td>\n",
       "      <td>0.864114</td>\n",
       "      <td>0.917675</td>\n",
       "      <td>0.937105</td>\n",
       "      <td>0.793811</td>\n",
       "      <td>0.892989</td>\n",
       "    </tr>\n",
       "    <tr>\n",
       "      <th>4</th>\n",
       "      <td>0.253712</td>\n",
       "      <td>0.400880</td>\n",
       "      <td>0.401640</td>\n",
       "      <td>0.936453</td>\n",
       "      <td>1.000000</td>\n",
       "      <td>0.849959</td>\n",
       "      <td>0.944755</td>\n",
       "      <td>0.918480</td>\n",
       "      <td>0.877112</td>\n",
       "      <td>0.839818</td>\n",
       "      <td>0.970660</td>\n",
       "      <td>0.910692</td>\n",
       "      <td>0.863576</td>\n",
       "    </tr>\n",
       "    <tr>\n",
       "      <th>5</th>\n",
       "      <td>0.310774</td>\n",
       "      <td>0.458163</td>\n",
       "      <td>0.455601</td>\n",
       "      <td>0.916327</td>\n",
       "      <td>0.849959</td>\n",
       "      <td>1.000000</td>\n",
       "      <td>0.915923</td>\n",
       "      <td>0.883725</td>\n",
       "      <td>0.853770</td>\n",
       "      <td>0.798914</td>\n",
       "      <td>0.897567</td>\n",
       "      <td>0.733903</td>\n",
       "      <td>0.941709</td>\n",
       "    </tr>\n",
       "    <tr>\n",
       "      <th>6</th>\n",
       "      <td>0.293183</td>\n",
       "      <td>0.424630</td>\n",
       "      <td>0.436804</td>\n",
       "      <td>0.960339</td>\n",
       "      <td>0.944755</td>\n",
       "      <td>0.915923</td>\n",
       "      <td>1.000000</td>\n",
       "      <td>0.947436</td>\n",
       "      <td>0.877593</td>\n",
       "      <td>0.869367</td>\n",
       "      <td>0.948953</td>\n",
       "      <td>0.849871</td>\n",
       "      <td>0.897570</td>\n",
       "    </tr>\n",
       "    <tr>\n",
       "      <th>7</th>\n",
       "      <td>0.232115</td>\n",
       "      <td>0.390508</td>\n",
       "      <td>0.359400</td>\n",
       "      <td>0.926928</td>\n",
       "      <td>0.918480</td>\n",
       "      <td>0.883725</td>\n",
       "      <td>0.947436</td>\n",
       "      <td>1.000000</td>\n",
       "      <td>0.928363</td>\n",
       "      <td>0.838983</td>\n",
       "      <td>0.920713</td>\n",
       "      <td>0.802050</td>\n",
       "      <td>0.841127</td>\n",
       "    </tr>\n",
       "    <tr>\n",
       "      <th>8</th>\n",
       "      <td>0.219261</td>\n",
       "      <td>0.369654</td>\n",
       "      <td>0.349832</td>\n",
       "      <td>0.864114</td>\n",
       "      <td>0.877112</td>\n",
       "      <td>0.853770</td>\n",
       "      <td>0.877593</td>\n",
       "      <td>0.928363</td>\n",
       "      <td>1.000000</td>\n",
       "      <td>0.736719</td>\n",
       "      <td>0.895831</td>\n",
       "      <td>0.777019</td>\n",
       "      <td>0.808824</td>\n",
       "    </tr>\n",
       "    <tr>\n",
       "      <th>9</th>\n",
       "      <td>0.294359</td>\n",
       "      <td>0.411717</td>\n",
       "      <td>0.397334</td>\n",
       "      <td>0.917675</td>\n",
       "      <td>0.839818</td>\n",
       "      <td>0.798914</td>\n",
       "      <td>0.869367</td>\n",
       "      <td>0.838983</td>\n",
       "      <td>0.736719</td>\n",
       "      <td>1.000000</td>\n",
       "      <td>0.825918</td>\n",
       "      <td>0.698368</td>\n",
       "      <td>0.760709</td>\n",
       "    </tr>\n",
       "    <tr>\n",
       "      <th>10</th>\n",
       "      <td>0.298074</td>\n",
       "      <td>0.442805</td>\n",
       "      <td>0.429496</td>\n",
       "      <td>0.937105</td>\n",
       "      <td>0.970660</td>\n",
       "      <td>0.897567</td>\n",
       "      <td>0.948953</td>\n",
       "      <td>0.920713</td>\n",
       "      <td>0.895831</td>\n",
       "      <td>0.825918</td>\n",
       "      <td>1.000000</td>\n",
       "      <td>0.888790</td>\n",
       "      <td>0.904972</td>\n",
       "    </tr>\n",
       "    <tr>\n",
       "      <th>11</th>\n",
       "      <td>0.163747</td>\n",
       "      <td>0.273710</td>\n",
       "      <td>0.277096</td>\n",
       "      <td>0.793811</td>\n",
       "      <td>0.910692</td>\n",
       "      <td>0.733903</td>\n",
       "      <td>0.849871</td>\n",
       "      <td>0.802050</td>\n",
       "      <td>0.777019</td>\n",
       "      <td>0.698368</td>\n",
       "      <td>0.888790</td>\n",
       "      <td>1.000000</td>\n",
       "      <td>0.793314</td>\n",
       "    </tr>\n",
       "    <tr>\n",
       "      <th>12</th>\n",
       "      <td>0.268993</td>\n",
       "      <td>0.410071</td>\n",
       "      <td>0.422463</td>\n",
       "      <td>0.892989</td>\n",
       "      <td>0.863576</td>\n",
       "      <td>0.941709</td>\n",
       "      <td>0.897570</td>\n",
       "      <td>0.841127</td>\n",
       "      <td>0.808824</td>\n",
       "      <td>0.760709</td>\n",
       "      <td>0.904972</td>\n",
       "      <td>0.793314</td>\n",
       "      <td>1.000000</td>\n",
       "    </tr>\n",
       "  </tbody>\n",
       "</table>\n",
       "</div>"
      ],
      "text/plain": [
       "       B CD5  B Memory   B Naive  CD4 Central Memory  CD4 Effector Memory  \\\n",
       "0   1.000000  0.933631  0.934306            0.327230             0.253712   \n",
       "1   0.933631  1.000000  0.961406            0.462329             0.400880   \n",
       "2   0.934306  0.961406  1.000000            0.461088             0.401640   \n",
       "3   0.327230  0.462329  0.461088            1.000000             0.936453   \n",
       "4   0.253712  0.400880  0.401640            0.936453             1.000000   \n",
       "5   0.310774  0.458163  0.455601            0.916327             0.849959   \n",
       "6   0.293183  0.424630  0.436804            0.960339             0.944755   \n",
       "7   0.232115  0.390508  0.359400            0.926928             0.918480   \n",
       "8   0.219261  0.369654  0.349832            0.864114             0.877112   \n",
       "9   0.294359  0.411717  0.397334            0.917675             0.839818   \n",
       "10  0.298074  0.442805  0.429496            0.937105             0.970660   \n",
       "11  0.163747  0.273710  0.277096            0.793811             0.910692   \n",
       "12  0.268993  0.410071  0.422463            0.892989             0.863576   \n",
       "\n",
       "    CD4 Naive   CD4 Th1  CD4 Th17   CD4 Th2  CD4 Treg  CD8 Central Memory  \\\n",
       "0    0.310774  0.293183  0.232115  0.219261  0.294359            0.298074   \n",
       "1    0.458163  0.424630  0.390508  0.369654  0.411717            0.442805   \n",
       "2    0.455601  0.436804  0.359400  0.349832  0.397334            0.429496   \n",
       "3    0.916327  0.960339  0.926928  0.864114  0.917675            0.937105   \n",
       "4    0.849959  0.944755  0.918480  0.877112  0.839818            0.970660   \n",
       "5    1.000000  0.915923  0.883725  0.853770  0.798914            0.897567   \n",
       "6    0.915923  1.000000  0.947436  0.877593  0.869367            0.948953   \n",
       "7    0.883725  0.947436  1.000000  0.928363  0.838983            0.920713   \n",
       "8    0.853770  0.877593  0.928363  1.000000  0.736719            0.895831   \n",
       "9    0.798914  0.869367  0.838983  0.736719  1.000000            0.825918   \n",
       "10   0.897567  0.948953  0.920713  0.895831  0.825918            1.000000   \n",
       "11   0.733903  0.849871  0.802050  0.777019  0.698368            0.888790   \n",
       "12   0.941709  0.897570  0.841127  0.808824  0.760709            0.904972   \n",
       "\n",
       "    CD8 Effector  CD8 Naive  \n",
       "0       0.163747   0.268993  \n",
       "1       0.273710   0.410071  \n",
       "2       0.277096   0.422463  \n",
       "3       0.793811   0.892989  \n",
       "4       0.910692   0.863576  \n",
       "5       0.733903   0.941709  \n",
       "6       0.849871   0.897570  \n",
       "7       0.802050   0.841127  \n",
       "8       0.777019   0.808824  \n",
       "9       0.698368   0.760709  \n",
       "10      0.888790   0.904972  \n",
       "11      1.000000   0.793314  \n",
       "12      0.793314   1.000000  "
      ]
     },
     "execution_count": 83,
     "metadata": {},
     "output_type": "execute_result"
    }
   ],
   "source": [
    "mean_matrix = omega['Mean'].values.reshape(13, 13)\n",
    "omega_df = pd.DataFrame(mean_matrix, columns=subset_names).rename(\n",
    "columns=lambda x: x.replace('_', ' '))\n",
    "subset_names_cleaner = list(omega_df.columns)\n",
    "omega_df"
   ]
  },
  {
   "cell_type": "code",
   "execution_count": 84,
   "metadata": {
    "ExecuteTime": {
     "end_time": "2017-09-04T00:05:54.775410Z",
     "start_time": "2017-09-04T00:05:54.765838Z"
    },
    "collapsed": false,
    "deletable": true,
    "editable": true
   },
   "outputs": [
    {
     "data": {
      "text/plain": [
       "['B CD5',\n",
       " 'B Memory',\n",
       " 'B Naive',\n",
       " 'CD4 Central Memory',\n",
       " 'CD4 Effector Memory',\n",
       " 'CD4 Naive',\n",
       " 'CD4 Th1',\n",
       " 'CD4 Th17',\n",
       " 'CD4 Th2',\n",
       " 'CD4 Treg',\n",
       " 'CD8 Central Memory',\n",
       " 'CD8 Effector',\n",
       " 'CD8 Naive']"
      ]
     },
     "execution_count": 84,
     "metadata": {},
     "output_type": "execute_result"
    }
   ],
   "source": [
    "subset_names_cleaner"
   ]
  },
  {
   "cell_type": "code",
   "execution_count": 85,
   "metadata": {
    "ExecuteTime": {
     "end_time": "2017-09-04T00:06:02.386816Z",
     "start_time": "2017-09-04T00:06:02.376988Z"
    },
    "collapsed": false,
    "deletable": true,
    "editable": true
   },
   "outputs": [
    {
     "data": {
      "text/plain": [
       "((13, 13), (13, 13))"
      ]
     },
     "execution_count": 85,
     "metadata": {},
     "output_type": "execute_result"
    }
   ],
   "source": [
    "omega_df.shape, mean_matrix.shape"
   ]
  },
  {
   "cell_type": "code",
   "execution_count": 86,
   "metadata": {
    "ExecuteTime": {
     "end_time": "2017-09-04T00:06:26.694337Z",
     "start_time": "2017-09-04T00:06:26.198487Z"
    },
    "collapsed": false,
    "deletable": true,
    "editable": true
   },
   "outputs": [
    {
     "data": {
      "text/plain": [
       "<matplotlib.text.Text at 0x7f2090edcbe0>"
      ]
     },
     "execution_count": 86,
     "metadata": {},
     "output_type": "execute_result"
    },
    {
     "data": {
      "image/png": "[encoded data removed]",
      "text/plain": [
       "<matplotlib.figure.Figure at 0x7f209693dda0>"
      ]
     },
     "metadata": {},
     "output_type": "display_data"
    }
   ],
   "source": [
    "import scipy\n",
    "from scipy.cluster.hierarchy import dendrogram, linkage\n",
    "# make into distance matrix as suggested in links above\n",
    "rescaled = np.sqrt(2*(1-mean_matrix))\n",
    "#rescaled /= 2 # my own\n",
    "g = sns.heatmap(rescaled, square=True,\n",
    "                xticklabels=subset_names_cleaner,\n",
    "                yticklabels=subset_names_cleaner\n",
    "               )\n",
    "plt.title('Omega (rescaled 3) -- not symmetric')"
   ]
  },
  {
   "cell_type": "code",
   "execution_count": 128,
   "metadata": {
    "ExecuteTime": {
     "end_time": "2017-09-04T00:24:39.411859Z",
     "start_time": "2017-09-04T00:24:39.393251Z"
    },
    "collapsed": false,
    "deletable": true,
    "editable": true
   },
   "outputs": [
    {
     "data": {
      "text/plain": [
       "array([ 0.36433227,  0.36247483,  1.15997414,  1.22171028,  1.17407496,\n",
       "        1.18896341,  1.23926188,  1.24959113,  1.18797391,  1.18484261,\n",
       "        1.29325404,  1.20913771,  0.27782728,  1.03698698,  1.09464149,\n",
       "        1.04099664,  1.0727255 ,  1.10407608,  1.12280542,  1.08469627,\n",
       "        1.05564672,  1.20523027,  1.08621269,  1.03818303,  1.09394698,\n",
       "        1.04345484,  1.06131616,  1.13190106,  1.14032276,  1.09787613,\n",
       "        1.06817976,  1.20241756,  1.07474369,  0.35650245,  0.40907945,\n",
       "        0.28164162,  0.38228785,  0.52131756,  0.40577087,  0.35466886,\n",
       "        0.64216665,  0.46262512,  0.54779741,  0.33240036,  0.40378212,\n",
       "        0.49575801,  0.56600707,  0.24223955,  0.42262986,  0.52234854,\n",
       "        0.41006585,  0.48223438,  0.54079571,  0.63417032,  0.45262125,\n",
       "        0.72951628,  0.34144106,  0.32423448,  0.49478682,  0.51114186,\n",
       "        0.31952152,  0.54795803,  0.45261463,  0.37851552,  0.5674804 ,\n",
       "        0.39821351,  0.62920585,  0.56368963,  0.72564592,  0.45644058,\n",
       "        0.66780386,  0.61834618,  0.59005423,  0.77670071,  0.69179621,\n",
       "        0.47161425,  0.43595413,  0.64294012])"
      ]
     },
     "execution_count": 128,
     "metadata": {},
     "output_type": "execute_result"
    }
   ],
   "source": [
    "pdist = scipy.spatial.distance.squareform(rescaled)\n",
    "pdist"
   ]
  },
  {
   "cell_type": "code",
   "execution_count": 129,
   "metadata": {
    "ExecuteTime": {
     "end_time": "2017-09-04T00:24:40.340383Z",
     "start_time": "2017-09-04T00:24:40.320870Z"
    },
    "collapsed": false,
    "deletable": true,
    "editable": true
   },
   "outputs": [
    {
     "name": "stdout",
     "output_type": "stream",
     "text": [
      "[[  4.          10.           0.24223955   2.        ]\n",
      " [  1.           2.           0.27782728   2.        ]\n",
      " [  3.           6.           0.28164162   2.        ]\n",
      " [  5.          12.           0.34144106   2.        ]\n",
      " [  7.          15.           0.37559819   3.        ]\n",
      " [  0.          14.           0.38775594   3.        ]\n",
      " [ 13.          17.           0.43756874   5.        ]\n",
      " [  8.          19.           0.54120323   6.        ]\n",
      " [  9.          20.           0.66790041   7.        ]\n",
      " [ 11.          21.           0.69893327   8.        ]\n",
      " [ 16.          22.           0.72239767  10.        ]\n",
      " [ 18.          23.           2.28588394  13.        ]]\n"
     ]
    },
    {
     "data": {
      "text/plain": [
       "0.96633448660324983"
      ]
     },
     "execution_count": 129,
     "metadata": {},
     "output_type": "execute_result"
    }
   ],
   "source": [
    "# https://joernhees.de/blog/2015/08/26/scipy-hierarchical-clustering-and-dendrogram-tutorial/\n",
    "links = linkage(pdist, 'ward') # row i is which clusters were merged in i-th iteration, their distance, and their sample count\n",
    "print(links)\n",
    "from scipy.cluster.hierarchy import cophenet\n",
    "c, _ = cophenet(links, pdist)\n",
    "c # want close to 1: means actual pairwise distances well preserved by hierarchical clustering"
   ]
  },
  {
   "cell_type": "code",
   "execution_count": 230,
   "metadata": {
    "ExecuteTime": {
     "end_time": "2017-09-04T19:39:24.714762Z",
     "start_time": "2017-09-04T19:39:20.355526Z"
    },
    "collapsed": false,
    "deletable": true,
    "editable": true
   },
   "outputs": [
    {
     "data": {
      "image/png": "[encoded data removed]",
      "text/plain": [
       "<matplotlib.figure.Figure at 0x7f2099477da0>"
      ]
     },
     "metadata": {},
     "output_type": "display_data"
    }
   ],
   "source": [
    "\n",
    "# plt.figure(figsize=(25, 10))\n",
    "# plt.xlabel('sample index')\n",
    "# plt.ylabel('distance')\n",
    "# dendrogram(\n",
    "#     links,\n",
    "#     leaf_rotation=90.,  # rotates the x axis labels\n",
    "#     leaf_font_size=8.,  # font size for the x axis labels\n",
    "#     labels=colnames_filtered\n",
    "# )\n",
    "\n",
    "with sns.plotting_context('talk'):\n",
    "    f = plt.figure(figsize=(12, 10))\n",
    "    dendrogram(\n",
    "        links,\n",
    "        #leaf_rotation=90.,  # rotates the x axis labels\n",
    "        leaf_font_size=8.,  # font size for the x axis labels\n",
    "        labels=subset_names_cleaner,\n",
    "        orientation='left'\n",
    "    )\n",
    "    plt.xlabel('Distance')\n",
    "    plt.ylabel('Subset')\n",
    "\n",
    "\n",
    "    #plt.title('Hierarchical clustering dendrogram from correlation matrix')\n",
    "    #plt.title(\"Model's estimated correlation matrix recovers known biological similarities between cell types\")\n",
    "    plt.title(\"Infino's estimated correlation matrix recovers known similarities between cell types\")\n",
    "    savefig(f, PLOT_DIR+'dendrogram.png', dpi=300)\n",
    "    savefig(f, PLOT_DIR+'dendrogram.pdf', dpi=300)\n"
   ]
  },
  {
   "cell_type": "code",
   "execution_count": 240,
   "metadata": {
    "ExecuteTime": {
     "end_time": "2017-09-04T20:47:57.796184Z",
     "start_time": "2017-09-04T20:47:54.576703Z"
    },
    "collapsed": false,
    "deletable": true,
    "editable": true
   },
   "outputs": [
    {
     "data": {
      "image/png": "[encoded data removed]",
      "text/plain": [
       "<matplotlib.figure.Figure at 0x7f2097267438>"
      ]
     },
     "metadata": {},
     "output_type": "display_data"
    }
   ],
   "source": [
    "# portrait version\n",
    "\n",
    "\n",
    "# plt.figure(figsize=(25, 10))\n",
    "# plt.xlabel('sample index')\n",
    "# plt.ylabel('distance')\n",
    "# dendrogram(\n",
    "#     links,\n",
    "#     leaf_rotation=90.,  # rotates the x axis labels\n",
    "#     leaf_font_size=8.,  # font size for the x axis labels\n",
    "#     labels=colnames_filtered\n",
    "# )\n",
    "\n",
    "with sns.plotting_context('poster'):\n",
    "    f = plt.figure(figsize=(10, 8))\n",
    "    dendrogram(\n",
    "        links,\n",
    "        #leaf_rotation=90.,  # rotates the x axis labels\n",
    "        leaf_font_size=8.,  # font size for the x axis labels\n",
    "        labels=subset_names_cleaner,\n",
    "        orientation='left'\n",
    "    )\n",
    "    plt.xlabel('Distance')\n",
    "    plt.ylabel('Subset')\n",
    "\n",
    "\n",
    "    #plt.title('Hierarchical clustering dendrogram from correlation matrix')\n",
    "    #plt.title(\"Model's estimated correlation matrix recovers known biological similarities between cell types\")\n",
    "    plt.title(\"Infino's correlation matrix models relationships between cell types\")\n"
   ]
  },
  {
   "cell_type": "markdown",
   "metadata": {
    "deletable": true,
    "editable": true
   },
   "source": [
    "Flip from Distance to Similarity:"
   ]
  },
  {
   "cell_type": "code",
   "execution_count": 168,
   "metadata": {
    "ExecuteTime": {
     "end_time": "2017-09-04T01:01:18.023319Z",
     "start_time": "2017-09-04T01:01:13.589908Z"
    },
    "collapsed": false,
    "deletable": true,
    "editable": true
   },
   "outputs": [
    {
     "name": "stdout",
     "output_type": "stream",
     "text": [
      "[0.0, 0.5, 1.0, 1.5, 2.0, 2.5]\n",
      "<class 'float'>\n"
     ]
    },
    {
     "data": {
      "image/png": "[encoded data removed]",
      "text/plain": [
       "<matplotlib.figure.Figure at 0x7f209023b358>"
      ]
     },
     "metadata": {},
     "output_type": "display_data"
    }
   ],
   "source": [
    "# similarity version\n",
    "\n",
    "with sns.plotting_context('talk'):\n",
    "    f = plt.figure(figsize=(12, 10))\n",
    "    dendrogram(\n",
    "        links,\n",
    "        #leaf_rotation=90.,  # rotates the x axis labels\n",
    "        leaf_font_size=8.,  # font size for the x axis labels\n",
    "        labels=subset_names_cleaner,\n",
    "        orientation='left'\n",
    "    )\n",
    "    #plt.xlabel('Distance')\n",
    "    plt.ylabel('Subset')\n",
    "\n",
    "\n",
    "    #plt.title('Hierarchical clustering dendrogram from correlation matrix')\n",
    "    plt.title(\"Model's estimated correlation matrix recovers known biological similarities between cell types\")\n",
    "    \n",
    "    #plt.gca().invert_xaxis()\n",
    "    ax = plt.gca()\n",
    "#     lbls = plt.gca().get_xticklabels()\n",
    "#     labels = [t.get_text() for t in plt.gca().get_xticklabels()]\n",
    "    #labelsrev = list(reversed(labels))\n",
    "    #ax.set_xticklabels(labelsrev)\n",
    "    labels = ax.get_xticks().tolist()\n",
    "    print(labels)\n",
    "    print(type(labels[0]))\n",
    "    \n",
    "    # normalize\n",
    "    labels_normed = [c / labels[-1] for c in labels]\n",
    "    \n",
    "    labelsrev = list(reversed(labels_normed))\n",
    "    ax.set_xticklabels(labelsrev)\n",
    "    \n",
    "    plt.xlabel('Similarity')\n",
    "\n"
   ]
  },
  {
   "cell_type": "markdown",
   "metadata": {
    "deletable": true,
    "editable": true
   },
   "source": [
    "Not sure if this is as interpretable. Distance between two items is easy. But how do you subtract similarities?"
   ]
  },
  {
   "cell_type": "code",
   "execution_count": null,
   "metadata": {
    "collapsed": true,
    "deletable": true,
    "editable": true
   },
   "outputs": [],
   "source": []
  },
  {
   "cell_type": "markdown",
   "metadata": {
    "collapsed": true,
    "deletable": true,
    "editable": true
   },
   "source": [
    "# Cibersort's diagnostics"
   ]
  },
  {
   "cell_type": "code",
   "execution_count": 208,
   "metadata": {
    "ExecuteTime": {
     "end_time": "2017-09-29T17:58:36.880304Z",
     "start_time": "2017-09-29T17:58:36.832457Z"
    },
    "collapsed": false,
    "deletable": true,
    "editable": true
   },
   "outputs": [
    {
     "name": "stdout",
     "output_type": "stream",
     "text": [
      "Cibersort Diagnostics for hyper (inserted in google doc):\n",
      "mixture 1\n",
      "{{{mix1_rmse:0.28}}}\n",
      "{{{mix1_pval:0.0}}}\n",
      "mixture 2\n",
      "{{{mix2_rmse:0.34}}}\n",
      "{{{mix2_pval:0.0}}}\n",
      "mixture 3\n",
      "{{{mix3_rmse:0.30}}}\n",
      "{{{mix3_pval:0.0}}}\n",
      "mixture 4\n",
      "{{{mix4_rmse:0.33}}}\n",
      "{{{mix4_pval:0.0}}}\n",
      "mixture 5\n",
      "{{{mix5_rmse:0.27}}}\n",
      "{{{mix5_pval:0.0}}}\n",
      "mixture 6\n",
      "{{{mix6_rmse:0.34}}}\n",
      "{{{mix6_pval:0.0}}}\n",
      "mixture 7\n",
      "{{{mix7_rmse:0.45}}}\n",
      "{{{mix7_pval:0.0}}}\n",
      "mixture 8\n",
      "{{{mix8_rmse:0.44}}}\n",
      "{{{mix8_pval:0.0}}}\n",
      "mixture 9\n",
      "{{{mix9_rmse:0.41}}}\n",
      "{{{mix9_pval:0.0}}}\n",
      "mixture 10\n",
      "{{{mix10_rmse:0.49}}}\n",
      "{{{mix10_pval:0.0}}}\n"
     ]
    },
    {
     "data": {
      "text/html": [
       "<div>\n",
       "<table border=\"1\" class=\"dataframe\">\n",
       "  <thead>\n",
       "    <tr style=\"text-align: right;\">\n",
       "      <th></th>\n",
       "      <th>RMSE</th>\n",
       "      <th>P-value</th>\n",
       "    </tr>\n",
       "  </thead>\n",
       "  <tbody>\n",
       "    <tr>\n",
       "      <th>6</th>\n",
       "      <td>0.452792</td>\n",
       "      <td>0.0</td>\n",
       "    </tr>\n",
       "    <tr>\n",
       "      <th>1</th>\n",
       "      <td>0.339896</td>\n",
       "      <td>0.0</td>\n",
       "    </tr>\n",
       "    <tr>\n",
       "      <th>9</th>\n",
       "      <td>0.486806</td>\n",
       "      <td>0.0</td>\n",
       "    </tr>\n",
       "  </tbody>\n",
       "</table>\n",
       "</div>"
      ],
      "text/plain": [
       "       RMSE  P-value\n",
       "6  0.452792      0.0\n",
       "1  0.339896      0.0\n",
       "9  0.486806      0.0"
      ]
     },
     "execution_count": 208,
     "metadata": {},
     "output_type": "execute_result"
    }
   ],
   "source": [
    "print('Cibersort Diagnostics for hyper (inserted in google doc):')\n",
    "for key,row in example_result[['RMSE', 'P-value']].iterrows():\n",
    "    print(\"mixture %d\" % (key+1))\n",
    "    print(\"{{{mix%d_rmse:%0.2f}}}\" % (key+1, row['RMSE']))\n",
    "    print(\"{{{mix%d_pval:%0.1f}}}\" % (key+1, row['P-value']))\n",
    "example_result[['RMSE', 'P-value']].iloc[[6,1,9]]"
   ]
  }
 ],
 "metadata": {
  "celltoolbar": "Initialization Cell",
  "kernelspec": {
   "display_name": "Python 3",
   "language": "python",
   "name": "python3"
  },
  "language_info": {
   "codemirror_mode": {
    "name": "ipython",
    "version": 3
   },
   "file_extension": ".py",
   "mimetype": "text/x-python",
   "name": "python",
   "nbconvert_exporter": "python",
   "pygments_lexer": "ipython3",
   "version": "3.6.0"
  },
  "toc": {
   "nav_menu": {
    "height": "318px",
    "width": "252px"
   },
   "number_sections": true,
   "sideBar": true,
   "skip_h1_title": false,
   "toc_cell": true,
   "toc_position": {},
   "toc_section_display": "block",
   "toc_window_display": true
  },
  "varInspector": {
   "cols": {
    "lenName": 16,
    "lenType": 16,
    "lenVar": 40
   },
   "kernels_config": {
    "python": {
     "delete_cmd_postfix": "",
     "delete_cmd_prefix": "del ",
     "library": "var_list.py",
     "varRefreshCmd": "print(var_dic_list())"
    },
    "r": {
     "delete_cmd_postfix": ") ",
     "delete_cmd_prefix": "rm(",
     "library": "var_list.r",
     "varRefreshCmd": "cat(var_dic_list()) "
    }
   },
   "types_to_exclude": [
    "module",
    "function",
    "builtin_function_or_method",
    "instance",
    "_Feature"
   ],
   "window_display": false
  }
 },
 "nbformat": 4,
 "nbformat_minor": 2
}
