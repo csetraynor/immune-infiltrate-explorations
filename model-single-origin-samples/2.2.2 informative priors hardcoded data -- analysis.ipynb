{
 "cells": [
  {
   "cell_type": "markdown",
   "metadata": {
    "deletable": true,
    "editable": true,
    "toc": "true"
   },
   "source": [
    " # Table of Contents\n",
    "<div class=\"toc\" style=\"margin-top: 1em;\"><ul class=\"toc-item\" id=\"toc-level0\"><li><span><a href=\"http://localhost:58235/notebooks/work/model-single-origin-samples/2.2.2%20informative%20priors%20hardcoded%20data%20--%20analysis.ipynb#Load-in-stan-results\" data-toc-modified-id=\"Load-in-stan-results-1\"><span class=\"toc-item-num\">1&nbsp;&nbsp;</span>Load in stan results</a></span></li><li><span><a href=\"http://localhost:58235/notebooks/work/model-single-origin-samples/2.2.2%20informative%20priors%20hardcoded%20data%20--%20analysis.ipynb#Load-in-cibersort-and-ground-truth\" data-toc-modified-id=\"Load-in-cibersort-and-ground-truth-2\"><span class=\"toc-item-num\">2&nbsp;&nbsp;</span>Load in cibersort and ground truth</a></span></li><li><span><a href=\"http://localhost:58235/notebooks/work/model-single-origin-samples/2.2.2%20informative%20priors%20hardcoded%20data%20--%20analysis.ipynb#Convergence-checks.\" data-toc-modified-id=\"Convergence-checks.-3\"><span class=\"toc-item-num\">3&nbsp;&nbsp;</span>Convergence checks.</a></span></li><li><span><a href=\"http://localhost:58235/notebooks/work/model-single-origin-samples/2.2.2%20informative%20priors%20hardcoded%20data%20--%20analysis.ipynb#get-the-full-deconvolution-distributions\" data-toc-modified-id=\"get-the-full-deconvolution-distributions-4\"><span class=\"toc-item-num\">4&nbsp;&nbsp;</span>get the full deconvolution distributions</a></span></li><li><span><a href=\"http://localhost:58235/notebooks/work/model-single-origin-samples/2.2.2%20informative%20priors%20hardcoded%20data%20--%20analysis.ipynb#Plot\" data-toc-modified-id=\"Plot-5\"><span class=\"toc-item-num\">5&nbsp;&nbsp;</span>Plot</a></span></li><li><span><a href=\"http://localhost:58235/notebooks/work/model-single-origin-samples/2.2.2%20informative%20priors%20hardcoded%20data%20--%20analysis.ipynb#Traceplots-and-correlation-matrix\" data-toc-modified-id=\"Traceplots-and-correlation-matrix-6\"><span class=\"toc-item-num\">6&nbsp;&nbsp;</span>Traceplots and correlation matrix</a></span></li><li><span><a href=\"http://localhost:58235/notebooks/work/model-single-origin-samples/2.2.2%20informative%20priors%20hardcoded%20data%20--%20analysis.ipynb#Cibersort's-diagnostics\" data-toc-modified-id=\"Cibersort's-diagnostics-7\"><span class=\"toc-item-num\">7&nbsp;&nbsp;</span>Cibersort's diagnostics</a></span></li></ul></div>"
   ]
  },
  {
   "cell_type": "code",
   "execution_count": 1,
   "metadata": {
    "ExecuteTime": {
     "end_time": "2017-10-30T17:10:29.817717Z",
     "start_time": "2017-10-30T17:10:29.812129Z"
    },
    "collapsed": true,
    "deletable": true,
    "editable": true
   },
   "outputs": [],
   "source": [
    "PLOT_DIR = 'plots/2.2.2/'"
   ]
  },
  {
   "cell_type": "code",
   "execution_count": 2,
   "metadata": {
    "ExecuteTime": {
     "end_time": "2017-10-30T17:10:33.142455Z",
     "start_time": "2017-10-30T17:10:30.589268Z"
    },
    "collapsed": false,
    "deletable": true,
    "editable": true,
    "init_cell": true
   },
   "outputs": [
    {
     "name": "stderr",
     "output_type": "stream",
     "text": [
      "INFO:stancache.seed:Setting seed to 1245502385\n",
      "INFO:root:Setting CACHE_DIR = /home/jovyan/modelcache/mz\n",
      "INFO:stancache.seed:Setting seed to 1245502385\n"
     ]
    }
   ],
   "source": [
    "import numpy as np\n",
    "import matplotlib as mpl\n",
    "import data\n",
    "import models\n",
    "import cache\n",
    "import pandas as pd\n",
    "import matplotlib.pyplot as plt\n",
    "%matplotlib inline\n",
    "import seaborn as sns\n",
    "import pystan\n",
    "from time import time\n",
    "from datetime import timedelta\n",
    "import pickle\n",
    "import dill"
   ]
  },
  {
   "cell_type": "code",
   "execution_count": 3,
   "metadata": {
    "ExecuteTime": {
     "end_time": "2017-10-30T17:10:33.411998Z",
     "start_time": "2017-10-30T17:10:33.152249Z"
    },
    "collapsed": true,
    "deletable": true,
    "editable": true,
    "init_cell": true
   },
   "outputs": [],
   "source": [
    "# verify kernel won't crash due to MKL issue from future imports\n",
    "import sklearn.linear_model.tests.test_randomized_l1"
   ]
  },
  {
   "cell_type": "code",
   "execution_count": null,
   "metadata": {
    "collapsed": true,
    "deletable": true,
    "editable": true
   },
   "outputs": [],
   "source": []
  },
  {
   "cell_type": "code",
   "execution_count": null,
   "metadata": {
    "collapsed": true,
    "deletable": true,
    "editable": true
   },
   "outputs": [],
   "source": []
  },
  {
   "cell_type": "markdown",
   "metadata": {
    "deletable": true,
    "editable": true
   },
   "source": [
    "# Load in stan results\n",
    "\n",
    "This time, pystan didn't error out, so we do have the `stanfit` object pickled out.\n",
    "\n",
    "But to maintain a consistent pipeline, let's still use cmdstan:"
   ]
  },
  {
   "cell_type": "code",
   "execution_count": 4,
   "metadata": {
    "ExecuteTime": {
     "end_time": "2017-10-30T17:17:40.596199Z",
     "start_time": "2017-10-30T17:11:27.633419Z"
    },
    "collapsed": false,
    "deletable": true,
    "editable": true
   },
   "outputs": [
    {
     "name": "stdout",
     "output_type": "stream",
     "text": [
      "rm: cannot remove 'logs/stansummary.informative_hardcoded_priors.csv': No such file or directory\r\n"
     ]
    }
   ],
   "source": [
    "# remove the file first, because otherwise it appends\n",
    "\n",
    "!rm logs/stansummary.informative_hardcoded_priors.csv;\n",
    "\n",
    "!stansummary --csv_file=logs/stansummary.informative_hardcoded_priors.csv \\\n",
    "logs/informative_hardcoded_priors_sampling_log.txt_0.csv \\\n",
    "logs/informative_hardcoded_priors_sampling_log.txt_1.csv \\\n",
    "logs/informative_hardcoded_priors_sampling_log.txt_2.csv \\\n",
    "logs/informative_hardcoded_priors_sampling_log.txt_3.csv > /dev/null;"
   ]
  },
  {
   "cell_type": "code",
   "execution_count": 5,
   "metadata": {
    "ExecuteTime": {
     "end_time": "2017-10-30T17:17:40.741983Z",
     "start_time": "2017-10-30T17:17:40.619452Z"
    },
    "collapsed": false,
    "deletable": true,
    "editable": true,
    "init_cell": true
   },
   "outputs": [
    {
     "data": {
      "text/html": [
       "<div>\n",
       "<table border=\"1\" class=\"dataframe\">\n",
       "  <thead>\n",
       "    <tr style=\"text-align: right;\">\n",
       "      <th></th>\n",
       "      <th>name</th>\n",
       "      <th>Mean</th>\n",
       "      <th>MCSE</th>\n",
       "      <th>StdDev</th>\n",
       "      <th>5%</th>\n",
       "      <th>50%</th>\n",
       "      <th>95%</th>\n",
       "      <th>N_Eff</th>\n",
       "      <th>N_Eff/s</th>\n",
       "      <th>R_hat</th>\n",
       "    </tr>\n",
       "  </thead>\n",
       "  <tbody>\n",
       "    <tr>\n",
       "      <th>0</th>\n",
       "      <td>lp__</td>\n",
       "      <td>-74743.800000</td>\n",
       "      <td>620.202000</td>\n",
       "      <td>15460.400000</td>\n",
       "      <td>-73830.700000</td>\n",
       "      <td>-73506.900000</td>\n",
       "      <td>-73215.700000</td>\n",
       "      <td>621.406</td>\n",
       "      <td>0.010253</td>\n",
       "      <td>1.003260</td>\n",
       "    </tr>\n",
       "    <tr>\n",
       "      <th>1</th>\n",
       "      <td>accept_stat__</td>\n",
       "      <td>0.815375</td>\n",
       "      <td>0.002090</td>\n",
       "      <td>0.186947</td>\n",
       "      <td>0.446025</td>\n",
       "      <td>0.871844</td>\n",
       "      <td>0.993821</td>\n",
       "      <td>8000.000</td>\n",
       "      <td>0.131991</td>\n",
       "      <td>1.019140</td>\n",
       "    </tr>\n",
       "    <tr>\n",
       "      <th>2</th>\n",
       "      <td>stepsize__</td>\n",
       "      <td>0.008429</td>\n",
       "      <td>0.001857</td>\n",
       "      <td>0.143624</td>\n",
       "      <td>0.002614</td>\n",
       "      <td>0.004260</td>\n",
       "      <td>0.007165</td>\n",
       "      <td>5981.540</td>\n",
       "      <td>0.098689</td>\n",
       "      <td>0.999965</td>\n",
       "    </tr>\n",
       "    <tr>\n",
       "      <th>3</th>\n",
       "      <td>treedepth__</td>\n",
       "      <td>9.887500</td>\n",
       "      <td>0.033230</td>\n",
       "      <td>0.934587</td>\n",
       "      <td>10.000000</td>\n",
       "      <td>10.000000</td>\n",
       "      <td>10.000000</td>\n",
       "      <td>791.022</td>\n",
       "      <td>0.013051</td>\n",
       "      <td>1.007930</td>\n",
       "    </tr>\n",
       "    <tr>\n",
       "      <th>4</th>\n",
       "      <td>n_leapfrog__</td>\n",
       "      <td>1006.420000</td>\n",
       "      <td>4.726570</td>\n",
       "      <td>122.259000</td>\n",
       "      <td>1023.000000</td>\n",
       "      <td>1023.000000</td>\n",
       "      <td>1023.000000</td>\n",
       "      <td>669.070</td>\n",
       "      <td>0.011039</td>\n",
       "      <td>1.010400</td>\n",
       "    </tr>\n",
       "  </tbody>\n",
       "</table>\n",
       "</div>"
      ],
      "text/plain": [
       "            name          Mean        MCSE        StdDev            5%  \\\n",
       "0           lp__ -74743.800000  620.202000  15460.400000 -73830.700000   \n",
       "1  accept_stat__      0.815375    0.002090      0.186947      0.446025   \n",
       "2     stepsize__      0.008429    0.001857      0.143624      0.002614   \n",
       "3    treedepth__      9.887500    0.033230      0.934587     10.000000   \n",
       "4   n_leapfrog__   1006.420000    4.726570    122.259000   1023.000000   \n",
       "\n",
       "            50%           95%     N_Eff   N_Eff/s     R_hat  \n",
       "0 -73506.900000 -73215.700000   621.406  0.010253  1.003260  \n",
       "1      0.871844      0.993821  8000.000  0.131991  1.019140  \n",
       "2      0.004260      0.007165  5981.540  0.098689  0.999965  \n",
       "3     10.000000     10.000000   791.022  0.013051  1.007930  \n",
       "4   1023.000000   1023.000000   669.070  0.011039  1.010400  "
      ]
     },
     "execution_count": 5,
     "metadata": {},
     "output_type": "execute_result"
    }
   ],
   "source": [
    "stan_summary = pd.read_csv('logs/stansummary.informative_hardcoded_priors.csv', comment='#')\n",
    "stan_summary.head()"
   ]
  },
  {
   "cell_type": "code",
   "execution_count": 6,
   "metadata": {
    "ExecuteTime": {
     "end_time": "2017-10-30T17:17:40.782771Z",
     "start_time": "2017-10-30T17:17:40.777741Z"
    },
    "collapsed": true,
    "deletable": true,
    "editable": true
   },
   "outputs": [],
   "source": [
    "stan_data = pickle.load(open('2.2_hardcoded-as-data_informative_priors_standata.pkl', 'rb'))"
   ]
  },
  {
   "cell_type": "code",
   "execution_count": 7,
   "metadata": {
    "ExecuteTime": {
     "end_time": "2017-10-30T17:17:54.841125Z",
     "start_time": "2017-10-30T17:17:54.829601Z"
    },
    "collapsed": false,
    "deletable": true,
    "editable": true,
    "init_cell": true
   },
   "outputs": [
    {
     "data": {
      "text/plain": [
       "Index(['SubSet[B_CD5]', 'SubSet[B_Memory]', 'SubSet[B_Naive]',\n",
       "       'SubSet[CD4_Central_Memory]', 'SubSet[CD4_Effector_Memory]',\n",
       "       'SubSet[CD4_Naive]', 'SubSet[CD4_Th1]', 'SubSet[CD4_Th17]',\n",
       "       'SubSet[CD4_Th2]', 'SubSet[CD4_Treg]', 'SubSet[CD8_Central_Memory]',\n",
       "       'SubSet[CD8_Effector]', 'SubSet[CD8_Naive]'],\n",
       "      dtype='object')"
      ]
     },
     "execution_count": 7,
     "metadata": {},
     "output_type": "execute_result"
    }
   ],
   "source": [
    "colnames = stan_data['x2'].columns\n",
    "colnames"
   ]
  },
  {
   "cell_type": "code",
   "execution_count": 8,
   "metadata": {
    "ExecuteTime": {
     "end_time": "2017-10-30T17:17:55.904904Z",
     "start_time": "2017-10-30T17:17:55.782469Z"
    },
    "collapsed": false,
    "deletable": true,
    "editable": true
   },
   "outputs": [
    {
     "data": {
      "text/html": [
       "<div>\n",
       "<table border=\"1\" class=\"dataframe\">\n",
       "  <thead>\n",
       "    <tr style=\"text-align: right;\">\n",
       "      <th></th>\n",
       "      <th>name</th>\n",
       "      <th>Mean</th>\n",
       "      <th>MCSE</th>\n",
       "      <th>StdDev</th>\n",
       "      <th>5%</th>\n",
       "      <th>50%</th>\n",
       "      <th>95%</th>\n",
       "      <th>N_Eff</th>\n",
       "      <th>N_Eff/s</th>\n",
       "      <th>R_hat</th>\n",
       "    </tr>\n",
       "  </thead>\n",
       "  <tbody>\n",
       "    <tr>\n",
       "      <th>10381</th>\n",
       "      <td>sample2_x[1,1]</td>\n",
       "      <td>0.727500</td>\n",
       "      <td>0.294496</td>\n",
       "      <td>0.422048</td>\n",
       "      <td>0.000991</td>\n",
       "      <td>0.978985</td>\n",
       "      <td>0.990468</td>\n",
       "      <td>2.05384</td>\n",
       "      <td>0.000034</td>\n",
       "      <td>6.093100</td>\n",
       "    </tr>\n",
       "    <tr>\n",
       "      <th>10382</th>\n",
       "      <td>sample2_x[1,2]</td>\n",
       "      <td>0.031438</td>\n",
       "      <td>0.034901</td>\n",
       "      <td>0.055007</td>\n",
       "      <td>0.000203</td>\n",
       "      <td>0.003079</td>\n",
       "      <td>0.151499</td>\n",
       "      <td>2.48402</td>\n",
       "      <td>0.000041</td>\n",
       "      <td>2.128740</td>\n",
       "    </tr>\n",
       "    <tr>\n",
       "      <th>10383</th>\n",
       "      <td>sample2_x[1,3]</td>\n",
       "      <td>0.227841</td>\n",
       "      <td>0.260661</td>\n",
       "      <td>0.373076</td>\n",
       "      <td>0.000605</td>\n",
       "      <td>0.009697</td>\n",
       "      <td>0.913351</td>\n",
       "      <td>2.04853</td>\n",
       "      <td>0.000034</td>\n",
       "      <td>6.230710</td>\n",
       "    </tr>\n",
       "    <tr>\n",
       "      <th>10384</th>\n",
       "      <td>sample2_x[1,4]</td>\n",
       "      <td>0.001098</td>\n",
       "      <td>0.000120</td>\n",
       "      <td>0.004174</td>\n",
       "      <td>0.000053</td>\n",
       "      <td>0.000629</td>\n",
       "      <td>0.002721</td>\n",
       "      <td>1209.28000</td>\n",
       "      <td>0.019952</td>\n",
       "      <td>1.001940</td>\n",
       "    </tr>\n",
       "    <tr>\n",
       "      <th>10385</th>\n",
       "      <td>sample2_x[1,5]</td>\n",
       "      <td>0.001122</td>\n",
       "      <td>0.000176</td>\n",
       "      <td>0.005553</td>\n",
       "      <td>0.000044</td>\n",
       "      <td>0.000571</td>\n",
       "      <td>0.002510</td>\n",
       "      <td>999.47300</td>\n",
       "      <td>0.016490</td>\n",
       "      <td>1.001710</td>\n",
       "    </tr>\n",
       "    <tr>\n",
       "      <th>10386</th>\n",
       "      <td>sample2_x[1,6]</td>\n",
       "      <td>0.001432</td>\n",
       "      <td>0.000482</td>\n",
       "      <td>0.011590</td>\n",
       "      <td>0.000030</td>\n",
       "      <td>0.000376</td>\n",
       "      <td>0.001665</td>\n",
       "      <td>579.37900</td>\n",
       "      <td>0.009559</td>\n",
       "      <td>1.004040</td>\n",
       "    </tr>\n",
       "    <tr>\n",
       "      <th>10387</th>\n",
       "      <td>sample2_x[1,7]</td>\n",
       "      <td>0.001338</td>\n",
       "      <td>0.000183</td>\n",
       "      <td>0.006319</td>\n",
       "      <td>0.000052</td>\n",
       "      <td>0.000724</td>\n",
       "      <td>0.003242</td>\n",
       "      <td>1194.83000</td>\n",
       "      <td>0.019713</td>\n",
       "      <td>1.001780</td>\n",
       "    </tr>\n",
       "    <tr>\n",
       "      <th>10388</th>\n",
       "      <td>sample2_x[1,8]</td>\n",
       "      <td>0.001761</td>\n",
       "      <td>0.000373</td>\n",
       "      <td>0.010715</td>\n",
       "      <td>0.000056</td>\n",
       "      <td>0.000753</td>\n",
       "      <td>0.003227</td>\n",
       "      <td>823.13200</td>\n",
       "      <td>0.013581</td>\n",
       "      <td>1.002370</td>\n",
       "    </tr>\n",
       "    <tr>\n",
       "      <th>10389</th>\n",
       "      <td>sample2_x[1,9]</td>\n",
       "      <td>0.002515</td>\n",
       "      <td>0.001064</td>\n",
       "      <td>0.021646</td>\n",
       "      <td>0.000045</td>\n",
       "      <td>0.000601</td>\n",
       "      <td>0.002634</td>\n",
       "      <td>414.25200</td>\n",
       "      <td>0.006835</td>\n",
       "      <td>1.006190</td>\n",
       "    </tr>\n",
       "    <tr>\n",
       "      <th>10390</th>\n",
       "      <td>sample2_x[1,10]</td>\n",
       "      <td>0.001158</td>\n",
       "      <td>0.000191</td>\n",
       "      <td>0.005378</td>\n",
       "      <td>0.000045</td>\n",
       "      <td>0.000564</td>\n",
       "      <td>0.002491</td>\n",
       "      <td>790.96300</td>\n",
       "      <td>0.013050</td>\n",
       "      <td>1.002940</td>\n",
       "    </tr>\n",
       "    <tr>\n",
       "      <th>10391</th>\n",
       "      <td>sample2_x[1,11]</td>\n",
       "      <td>0.001006</td>\n",
       "      <td>0.000134</td>\n",
       "      <td>0.005108</td>\n",
       "      <td>0.000039</td>\n",
       "      <td>0.000540</td>\n",
       "      <td>0.002358</td>\n",
       "      <td>1458.75000</td>\n",
       "      <td>0.024068</td>\n",
       "      <td>1.001460</td>\n",
       "    </tr>\n",
       "    <tr>\n",
       "      <th>10392</th>\n",
       "      <td>sample2_x[1,12]</td>\n",
       "      <td>0.000870</td>\n",
       "      <td>0.000170</td>\n",
       "      <td>0.004781</td>\n",
       "      <td>0.000029</td>\n",
       "      <td>0.000414</td>\n",
       "      <td>0.001865</td>\n",
       "      <td>793.21200</td>\n",
       "      <td>0.013087</td>\n",
       "      <td>1.003390</td>\n",
       "    </tr>\n",
       "    <tr>\n",
       "      <th>10393</th>\n",
       "      <td>sample2_x[1,13]</td>\n",
       "      <td>0.000920</td>\n",
       "      <td>0.000121</td>\n",
       "      <td>0.003206</td>\n",
       "      <td>0.000037</td>\n",
       "      <td>0.000519</td>\n",
       "      <td>0.002337</td>\n",
       "      <td>697.76300</td>\n",
       "      <td>0.011512</td>\n",
       "      <td>1.005910</td>\n",
       "    </tr>\n",
       "    <tr>\n",
       "      <th>10394</th>\n",
       "      <td>sample2_x[2,1]</td>\n",
       "      <td>0.736190</td>\n",
       "      <td>0.298411</td>\n",
       "      <td>0.425709</td>\n",
       "      <td>0.000573</td>\n",
       "      <td>0.984313</td>\n",
       "      <td>0.992851</td>\n",
       "      <td>2.03515</td>\n",
       "      <td>0.000034</td>\n",
       "      <td>7.288140</td>\n",
       "    </tr>\n",
       "    <tr>\n",
       "      <th>10395</th>\n",
       "      <td>sample2_x[2,2]</td>\n",
       "      <td>0.110271</td>\n",
       "      <td>0.130110</td>\n",
       "      <td>0.186682</td>\n",
       "      <td>0.000250</td>\n",
       "      <td>0.003832</td>\n",
       "      <td>0.478154</td>\n",
       "      <td>2.05867</td>\n",
       "      <td>0.000034</td>\n",
       "      <td>5.567450</td>\n",
       "    </tr>\n",
       "    <tr>\n",
       "      <th>10396</th>\n",
       "      <td>sample2_x[2,3]</td>\n",
       "      <td>0.143449</td>\n",
       "      <td>0.169151</td>\n",
       "      <td>0.242284</td>\n",
       "      <td>0.000403</td>\n",
       "      <td>0.005921</td>\n",
       "      <td>0.614406</td>\n",
       "      <td>2.05163</td>\n",
       "      <td>0.000034</td>\n",
       "      <td>5.903420</td>\n",
       "    </tr>\n",
       "    <tr>\n",
       "      <th>10397</th>\n",
       "      <td>sample2_x[2,4]</td>\n",
       "      <td>0.000811</td>\n",
       "      <td>0.000121</td>\n",
       "      <td>0.004662</td>\n",
       "      <td>0.000030</td>\n",
       "      <td>0.000420</td>\n",
       "      <td>0.001834</td>\n",
       "      <td>1479.74000</td>\n",
       "      <td>0.024414</td>\n",
       "      <td>1.001290</td>\n",
       "    </tr>\n",
       "    <tr>\n",
       "      <th>10398</th>\n",
       "      <td>sample2_x[2,5]</td>\n",
       "      <td>0.000736</td>\n",
       "      <td>0.000103</td>\n",
       "      <td>0.003434</td>\n",
       "      <td>0.000025</td>\n",
       "      <td>0.000388</td>\n",
       "      <td>0.001738</td>\n",
       "      <td>1120.09000</td>\n",
       "      <td>0.018480</td>\n",
       "      <td>1.002010</td>\n",
       "    </tr>\n",
       "    <tr>\n",
       "      <th>10399</th>\n",
       "      <td>sample2_x[2,6]</td>\n",
       "      <td>0.001344</td>\n",
       "      <td>0.000516</td>\n",
       "      <td>0.011853</td>\n",
       "      <td>0.000017</td>\n",
       "      <td>0.000259</td>\n",
       "      <td>0.001196</td>\n",
       "      <td>527.08900</td>\n",
       "      <td>0.008696</td>\n",
       "      <td>1.004350</td>\n",
       "    </tr>\n",
       "    <tr>\n",
       "      <th>10400</th>\n",
       "      <td>sample2_x[2,7]</td>\n",
       "      <td>0.000826</td>\n",
       "      <td>0.000064</td>\n",
       "      <td>0.002672</td>\n",
       "      <td>0.000039</td>\n",
       "      <td>0.000507</td>\n",
       "      <td>0.002106</td>\n",
       "      <td>1743.07000</td>\n",
       "      <td>0.028759</td>\n",
       "      <td>1.001290</td>\n",
       "    </tr>\n",
       "    <tr>\n",
       "      <th>10401</th>\n",
       "      <td>sample2_x[2,8]</td>\n",
       "      <td>0.001362</td>\n",
       "      <td>0.000374</td>\n",
       "      <td>0.010416</td>\n",
       "      <td>0.000039</td>\n",
       "      <td>0.000495</td>\n",
       "      <td>0.002146</td>\n",
       "      <td>774.19900</td>\n",
       "      <td>0.012773</td>\n",
       "      <td>1.003190</td>\n",
       "    </tr>\n",
       "    <tr>\n",
       "      <th>10402</th>\n",
       "      <td>sample2_x[2,9]</td>\n",
       "      <td>0.002108</td>\n",
       "      <td>0.000981</td>\n",
       "      <td>0.019991</td>\n",
       "      <td>0.000029</td>\n",
       "      <td>0.000389</td>\n",
       "      <td>0.001735</td>\n",
       "      <td>414.96900</td>\n",
       "      <td>0.006847</td>\n",
       "      <td>1.006180</td>\n",
       "    </tr>\n",
       "    <tr>\n",
       "      <th>10403</th>\n",
       "      <td>sample2_x[2,10]</td>\n",
       "      <td>0.000733</td>\n",
       "      <td>0.000106</td>\n",
       "      <td>0.002947</td>\n",
       "      <td>0.000029</td>\n",
       "      <td>0.000398</td>\n",
       "      <td>0.001696</td>\n",
       "      <td>774.36900</td>\n",
       "      <td>0.012776</td>\n",
       "      <td>1.003100</td>\n",
       "    </tr>\n",
       "    <tr>\n",
       "      <th>10404</th>\n",
       "      <td>sample2_x[2,11]</td>\n",
       "      <td>0.000700</td>\n",
       "      <td>0.000097</td>\n",
       "      <td>0.004021</td>\n",
       "      <td>0.000027</td>\n",
       "      <td>0.000361</td>\n",
       "      <td>0.001567</td>\n",
       "      <td>1710.69000</td>\n",
       "      <td>0.028224</td>\n",
       "      <td>1.001340</td>\n",
       "    </tr>\n",
       "    <tr>\n",
       "      <th>10405</th>\n",
       "      <td>sample2_x[2,12]</td>\n",
       "      <td>0.000670</td>\n",
       "      <td>0.000154</td>\n",
       "      <td>0.003976</td>\n",
       "      <td>0.000021</td>\n",
       "      <td>0.000306</td>\n",
       "      <td>0.001377</td>\n",
       "      <td>662.82100</td>\n",
       "      <td>0.010936</td>\n",
       "      <td>1.003950</td>\n",
       "    </tr>\n",
       "    <tr>\n",
       "      <th>10406</th>\n",
       "      <td>sample2_x[2,13]</td>\n",
       "      <td>0.000801</td>\n",
       "      <td>0.000145</td>\n",
       "      <td>0.004410</td>\n",
       "      <td>0.000027</td>\n",
       "      <td>0.000372</td>\n",
       "      <td>0.001606</td>\n",
       "      <td>927.59600</td>\n",
       "      <td>0.015304</td>\n",
       "      <td>1.002260</td>\n",
       "    </tr>\n",
       "    <tr>\n",
       "      <th>10407</th>\n",
       "      <td>sample2_x[3,1]</td>\n",
       "      <td>0.734861</td>\n",
       "      <td>0.297692</td>\n",
       "      <td>0.425028</td>\n",
       "      <td>0.000600</td>\n",
       "      <td>0.985300</td>\n",
       "      <td>0.993060</td>\n",
       "      <td>2.03846</td>\n",
       "      <td>0.000034</td>\n",
       "      <td>7.073490</td>\n",
       "    </tr>\n",
       "    <tr>\n",
       "      <th>10408</th>\n",
       "      <td>sample2_x[3,2]</td>\n",
       "      <td>0.068544</td>\n",
       "      <td>0.080007</td>\n",
       "      <td>0.116197</td>\n",
       "      <td>0.000185</td>\n",
       "      <td>0.002930</td>\n",
       "      <td>0.304559</td>\n",
       "      <td>2.10930</td>\n",
       "      <td>0.000035</td>\n",
       "      <td>4.125190</td>\n",
       "    </tr>\n",
       "    <tr>\n",
       "      <th>10409</th>\n",
       "      <td>sample2_x[3,3]</td>\n",
       "      <td>0.186027</td>\n",
       "      <td>0.218322</td>\n",
       "      <td>0.311933</td>\n",
       "      <td>0.000371</td>\n",
       "      <td>0.005803</td>\n",
       "      <td>0.771482</td>\n",
       "      <td>2.04139</td>\n",
       "      <td>0.000034</td>\n",
       "      <td>6.651410</td>\n",
       "    </tr>\n",
       "    <tr>\n",
       "      <th>10410</th>\n",
       "      <td>sample2_x[3,4]</td>\n",
       "      <td>0.000763</td>\n",
       "      <td>0.000082</td>\n",
       "      <td>0.002823</td>\n",
       "      <td>0.000032</td>\n",
       "      <td>0.000430</td>\n",
       "      <td>0.001897</td>\n",
       "      <td>1171.73000</td>\n",
       "      <td>0.019332</td>\n",
       "      <td>1.001510</td>\n",
       "    </tr>\n",
       "    <tr>\n",
       "      <th>...</th>\n",
       "      <td>...</td>\n",
       "      <td>...</td>\n",
       "      <td>...</td>\n",
       "      <td>...</td>\n",
       "      <td>...</td>\n",
       "      <td>...</td>\n",
       "      <td>...</td>\n",
       "      <td>...</td>\n",
       "      <td>...</td>\n",
       "      <td>...</td>\n",
       "    </tr>\n",
       "    <tr>\n",
       "      <th>10481</th>\n",
       "      <td>sample2_x[8,10]</td>\n",
       "      <td>0.076820</td>\n",
       "      <td>0.003245</td>\n",
       "      <td>0.062215</td>\n",
       "      <td>0.005280</td>\n",
       "      <td>0.062758</td>\n",
       "      <td>0.199935</td>\n",
       "      <td>367.69300</td>\n",
       "      <td>0.006067</td>\n",
       "      <td>1.016800</td>\n",
       "    </tr>\n",
       "    <tr>\n",
       "      <th>10482</th>\n",
       "      <td>sample2_x[8,11]</td>\n",
       "      <td>0.075039</td>\n",
       "      <td>0.000728</td>\n",
       "      <td>0.065097</td>\n",
       "      <td>0.003883</td>\n",
       "      <td>0.057448</td>\n",
       "      <td>0.202723</td>\n",
       "      <td>8000.00000</td>\n",
       "      <td>0.131991</td>\n",
       "      <td>1.006700</td>\n",
       "    </tr>\n",
       "    <tr>\n",
       "      <th>10483</th>\n",
       "      <td>sample2_x[8,12]</td>\n",
       "      <td>0.071999</td>\n",
       "      <td>0.001885</td>\n",
       "      <td>0.058648</td>\n",
       "      <td>0.005982</td>\n",
       "      <td>0.060225</td>\n",
       "      <td>0.171715</td>\n",
       "      <td>968.52200</td>\n",
       "      <td>0.015979</td>\n",
       "      <td>1.007280</td>\n",
       "    </tr>\n",
       "    <tr>\n",
       "      <th>10484</th>\n",
       "      <td>sample2_x[8,13]</td>\n",
       "      <td>0.051886</td>\n",
       "      <td>0.000526</td>\n",
       "      <td>0.047067</td>\n",
       "      <td>0.002666</td>\n",
       "      <td>0.038806</td>\n",
       "      <td>0.146765</td>\n",
       "      <td>8000.00000</td>\n",
       "      <td>0.131991</td>\n",
       "      <td>1.012320</td>\n",
       "    </tr>\n",
       "    <tr>\n",
       "      <th>10485</th>\n",
       "      <td>sample2_x[9,1]</td>\n",
       "      <td>0.056442</td>\n",
       "      <td>0.017456</td>\n",
       "      <td>0.074557</td>\n",
       "      <td>0.001590</td>\n",
       "      <td>0.034029</td>\n",
       "      <td>0.168418</td>\n",
       "      <td>18.24250</td>\n",
       "      <td>0.000301</td>\n",
       "      <td>1.063690</td>\n",
       "    </tr>\n",
       "    <tr>\n",
       "      <th>10486</th>\n",
       "      <td>sample2_x[9,2]</td>\n",
       "      <td>0.370065</td>\n",
       "      <td>0.025653</td>\n",
       "      <td>0.085970</td>\n",
       "      <td>0.222850</td>\n",
       "      <td>0.375410</td>\n",
       "      <td>0.500262</td>\n",
       "      <td>11.23090</td>\n",
       "      <td>0.000185</td>\n",
       "      <td>1.097320</td>\n",
       "    </tr>\n",
       "    <tr>\n",
       "      <th>10487</th>\n",
       "      <td>sample2_x[9,3]</td>\n",
       "      <td>0.183896</td>\n",
       "      <td>0.009186</td>\n",
       "      <td>0.096086</td>\n",
       "      <td>0.027840</td>\n",
       "      <td>0.180654</td>\n",
       "      <td>0.352061</td>\n",
       "      <td>109.40700</td>\n",
       "      <td>0.001805</td>\n",
       "      <td>1.028010</td>\n",
       "    </tr>\n",
       "    <tr>\n",
       "      <th>10488</th>\n",
       "      <td>sample2_x[9,4]</td>\n",
       "      <td>0.093161</td>\n",
       "      <td>0.042072</td>\n",
       "      <td>0.092523</td>\n",
       "      <td>0.003929</td>\n",
       "      <td>0.062245</td>\n",
       "      <td>0.295280</td>\n",
       "      <td>4.83631</td>\n",
       "      <td>0.000080</td>\n",
       "      <td>1.266200</td>\n",
       "    </tr>\n",
       "    <tr>\n",
       "      <th>10489</th>\n",
       "      <td>sample2_x[9,5]</td>\n",
       "      <td>0.027658</td>\n",
       "      <td>0.000310</td>\n",
       "      <td>0.027765</td>\n",
       "      <td>0.001264</td>\n",
       "      <td>0.019195</td>\n",
       "      <td>0.083259</td>\n",
       "      <td>8000.00000</td>\n",
       "      <td>0.131991</td>\n",
       "      <td>1.003510</td>\n",
       "    </tr>\n",
       "    <tr>\n",
       "      <th>10490</th>\n",
       "      <td>sample2_x[9,6]</td>\n",
       "      <td>0.060991</td>\n",
       "      <td>0.003845</td>\n",
       "      <td>0.052196</td>\n",
       "      <td>0.003528</td>\n",
       "      <td>0.047705</td>\n",
       "      <td>0.164687</td>\n",
       "      <td>184.24800</td>\n",
       "      <td>0.003040</td>\n",
       "      <td>1.025860</td>\n",
       "    </tr>\n",
       "    <tr>\n",
       "      <th>10491</th>\n",
       "      <td>sample2_x[9,7]</td>\n",
       "      <td>0.049544</td>\n",
       "      <td>0.000519</td>\n",
       "      <td>0.046421</td>\n",
       "      <td>0.002076</td>\n",
       "      <td>0.036169</td>\n",
       "      <td>0.144544</td>\n",
       "      <td>8000.00000</td>\n",
       "      <td>0.131991</td>\n",
       "      <td>0.999785</td>\n",
       "    </tr>\n",
       "    <tr>\n",
       "      <th>10492</th>\n",
       "      <td>sample2_x[9,8]</td>\n",
       "      <td>0.030297</td>\n",
       "      <td>0.000343</td>\n",
       "      <td>0.030708</td>\n",
       "      <td>0.001412</td>\n",
       "      <td>0.020869</td>\n",
       "      <td>0.089918</td>\n",
       "      <td>8000.00000</td>\n",
       "      <td>0.131991</td>\n",
       "      <td>1.002640</td>\n",
       "    </tr>\n",
       "    <tr>\n",
       "      <th>10493</th>\n",
       "      <td>sample2_x[9,9]</td>\n",
       "      <td>0.027026</td>\n",
       "      <td>0.000875</td>\n",
       "      <td>0.031620</td>\n",
       "      <td>0.001361</td>\n",
       "      <td>0.017730</td>\n",
       "      <td>0.080009</td>\n",
       "      <td>1306.44000</td>\n",
       "      <td>0.021555</td>\n",
       "      <td>1.002720</td>\n",
       "    </tr>\n",
       "    <tr>\n",
       "      <th>10494</th>\n",
       "      <td>sample2_x[9,10]</td>\n",
       "      <td>0.023950</td>\n",
       "      <td>0.000273</td>\n",
       "      <td>0.024392</td>\n",
       "      <td>0.001174</td>\n",
       "      <td>0.016572</td>\n",
       "      <td>0.074002</td>\n",
       "      <td>8000.00000</td>\n",
       "      <td>0.131991</td>\n",
       "      <td>1.000100</td>\n",
       "    </tr>\n",
       "    <tr>\n",
       "      <th>10495</th>\n",
       "      <td>sample2_x[9,11]</td>\n",
       "      <td>0.039877</td>\n",
       "      <td>0.000910</td>\n",
       "      <td>0.040280</td>\n",
       "      <td>0.001966</td>\n",
       "      <td>0.028012</td>\n",
       "      <td>0.116560</td>\n",
       "      <td>1958.43000</td>\n",
       "      <td>0.032312</td>\n",
       "      <td>1.017960</td>\n",
       "    </tr>\n",
       "    <tr>\n",
       "      <th>10496</th>\n",
       "      <td>sample2_x[9,12]</td>\n",
       "      <td>0.013443</td>\n",
       "      <td>0.000999</td>\n",
       "      <td>0.023238</td>\n",
       "      <td>0.000584</td>\n",
       "      <td>0.007963</td>\n",
       "      <td>0.037463</td>\n",
       "      <td>541.01300</td>\n",
       "      <td>0.008926</td>\n",
       "      <td>1.005480</td>\n",
       "    </tr>\n",
       "    <tr>\n",
       "      <th>10497</th>\n",
       "      <td>sample2_x[9,13]</td>\n",
       "      <td>0.023649</td>\n",
       "      <td>0.000260</td>\n",
       "      <td>0.023241</td>\n",
       "      <td>0.001157</td>\n",
       "      <td>0.016526</td>\n",
       "      <td>0.070485</td>\n",
       "      <td>8000.00000</td>\n",
       "      <td>0.131991</td>\n",
       "      <td>1.000520</td>\n",
       "    </tr>\n",
       "    <tr>\n",
       "      <th>10498</th>\n",
       "      <td>sample2_x[10,1]</td>\n",
       "      <td>0.027897</td>\n",
       "      <td>0.003020</td>\n",
       "      <td>0.057543</td>\n",
       "      <td>0.001118</td>\n",
       "      <td>0.015813</td>\n",
       "      <td>0.075470</td>\n",
       "      <td>363.06400</td>\n",
       "      <td>0.005990</td>\n",
       "      <td>1.009640</td>\n",
       "    </tr>\n",
       "    <tr>\n",
       "      <th>10499</th>\n",
       "      <td>sample2_x[10,2]</td>\n",
       "      <td>0.209873</td>\n",
       "      <td>0.028588</td>\n",
       "      <td>0.081605</td>\n",
       "      <td>0.066406</td>\n",
       "      <td>0.213617</td>\n",
       "      <td>0.338418</td>\n",
       "      <td>8.14805</td>\n",
       "      <td>0.000134</td>\n",
       "      <td>1.135780</td>\n",
       "    </tr>\n",
       "    <tr>\n",
       "      <th>10500</th>\n",
       "      <td>sample2_x[10,3]</td>\n",
       "      <td>0.181617</td>\n",
       "      <td>0.032301</td>\n",
       "      <td>0.111809</td>\n",
       "      <td>0.015142</td>\n",
       "      <td>0.175355</td>\n",
       "      <td>0.378755</td>\n",
       "      <td>11.98180</td>\n",
       "      <td>0.000198</td>\n",
       "      <td>1.091100</td>\n",
       "    </tr>\n",
       "    <tr>\n",
       "      <th>10501</th>\n",
       "      <td>sample2_x[10,4]</td>\n",
       "      <td>0.154423</td>\n",
       "      <td>0.044742</td>\n",
       "      <td>0.125661</td>\n",
       "      <td>0.007765</td>\n",
       "      <td>0.125420</td>\n",
       "      <td>0.407050</td>\n",
       "      <td>7.88816</td>\n",
       "      <td>0.000130</td>\n",
       "      <td>1.145750</td>\n",
       "    </tr>\n",
       "    <tr>\n",
       "      <th>10502</th>\n",
       "      <td>sample2_x[10,5]</td>\n",
       "      <td>0.042729</td>\n",
       "      <td>0.000485</td>\n",
       "      <td>0.043386</td>\n",
       "      <td>0.001745</td>\n",
       "      <td>0.029050</td>\n",
       "      <td>0.128749</td>\n",
       "      <td>8000.00000</td>\n",
       "      <td>0.131991</td>\n",
       "      <td>1.002780</td>\n",
       "    </tr>\n",
       "    <tr>\n",
       "      <th>10503</th>\n",
       "      <td>sample2_x[10,6]</td>\n",
       "      <td>0.083906</td>\n",
       "      <td>0.004501</td>\n",
       "      <td>0.067737</td>\n",
       "      <td>0.005170</td>\n",
       "      <td>0.066627</td>\n",
       "      <td>0.216248</td>\n",
       "      <td>226.44000</td>\n",
       "      <td>0.003736</td>\n",
       "      <td>1.021090</td>\n",
       "    </tr>\n",
       "    <tr>\n",
       "      <th>10504</th>\n",
       "      <td>sample2_x[10,7]</td>\n",
       "      <td>0.066400</td>\n",
       "      <td>0.000682</td>\n",
       "      <td>0.061017</td>\n",
       "      <td>0.003202</td>\n",
       "      <td>0.047997</td>\n",
       "      <td>0.188363</td>\n",
       "      <td>8000.00000</td>\n",
       "      <td>0.131991</td>\n",
       "      <td>1.001670</td>\n",
       "    </tr>\n",
       "    <tr>\n",
       "      <th>10505</th>\n",
       "      <td>sample2_x[10,8]</td>\n",
       "      <td>0.047428</td>\n",
       "      <td>0.000512</td>\n",
       "      <td>0.045759</td>\n",
       "      <td>0.002473</td>\n",
       "      <td>0.033327</td>\n",
       "      <td>0.142619</td>\n",
       "      <td>8000.00000</td>\n",
       "      <td>0.131991</td>\n",
       "      <td>1.000450</td>\n",
       "    </tr>\n",
       "    <tr>\n",
       "      <th>10506</th>\n",
       "      <td>sample2_x[10,9]</td>\n",
       "      <td>0.041069</td>\n",
       "      <td>0.000879</td>\n",
       "      <td>0.042433</td>\n",
       "      <td>0.002468</td>\n",
       "      <td>0.029002</td>\n",
       "      <td>0.120026</td>\n",
       "      <td>2332.17000</td>\n",
       "      <td>0.038478</td>\n",
       "      <td>1.000370</td>\n",
       "    </tr>\n",
       "    <tr>\n",
       "      <th>10507</th>\n",
       "      <td>sample2_x[10,10]</td>\n",
       "      <td>0.031704</td>\n",
       "      <td>0.000368</td>\n",
       "      <td>0.032881</td>\n",
       "      <td>0.001458</td>\n",
       "      <td>0.021745</td>\n",
       "      <td>0.097314</td>\n",
       "      <td>8000.00000</td>\n",
       "      <td>0.131991</td>\n",
       "      <td>1.002260</td>\n",
       "    </tr>\n",
       "    <tr>\n",
       "      <th>10508</th>\n",
       "      <td>sample2_x[10,11]</td>\n",
       "      <td>0.064926</td>\n",
       "      <td>0.001612</td>\n",
       "      <td>0.063903</td>\n",
       "      <td>0.002878</td>\n",
       "      <td>0.045374</td>\n",
       "      <td>0.190319</td>\n",
       "      <td>1570.54000</td>\n",
       "      <td>0.025912</td>\n",
       "      <td>1.016260</td>\n",
       "    </tr>\n",
       "    <tr>\n",
       "      <th>10509</th>\n",
       "      <td>sample2_x[10,12]</td>\n",
       "      <td>0.016168</td>\n",
       "      <td>0.001356</td>\n",
       "      <td>0.031463</td>\n",
       "      <td>0.000646</td>\n",
       "      <td>0.009508</td>\n",
       "      <td>0.043154</td>\n",
       "      <td>538.41200</td>\n",
       "      <td>0.008883</td>\n",
       "      <td>1.004590</td>\n",
       "    </tr>\n",
       "    <tr>\n",
       "      <th>10510</th>\n",
       "      <td>sample2_x[10,13]</td>\n",
       "      <td>0.031861</td>\n",
       "      <td>0.000365</td>\n",
       "      <td>0.032636</td>\n",
       "      <td>0.001370</td>\n",
       "      <td>0.021479</td>\n",
       "      <td>0.095211</td>\n",
       "      <td>8000.00000</td>\n",
       "      <td>0.131991</td>\n",
       "      <td>1.000650</td>\n",
       "    </tr>\n",
       "  </tbody>\n",
       "</table>\n",
       "<p>130 rows × 10 columns</p>\n",
       "</div>"
      ],
      "text/plain": [
       "                   name      Mean      MCSE    StdDev        5%       50%  \\\n",
       "10381    sample2_x[1,1]  0.727500  0.294496  0.422048  0.000991  0.978985   \n",
       "10382    sample2_x[1,2]  0.031438  0.034901  0.055007  0.000203  0.003079   \n",
       "10383    sample2_x[1,3]  0.227841  0.260661  0.373076  0.000605  0.009697   \n",
       "10384    sample2_x[1,4]  0.001098  0.000120  0.004174  0.000053  0.000629   \n",
       "10385    sample2_x[1,5]  0.001122  0.000176  0.005553  0.000044  0.000571   \n",
       "10386    sample2_x[1,6]  0.001432  0.000482  0.011590  0.000030  0.000376   \n",
       "10387    sample2_x[1,7]  0.001338  0.000183  0.006319  0.000052  0.000724   \n",
       "10388    sample2_x[1,8]  0.001761  0.000373  0.010715  0.000056  0.000753   \n",
       "10389    sample2_x[1,9]  0.002515  0.001064  0.021646  0.000045  0.000601   \n",
       "10390   sample2_x[1,10]  0.001158  0.000191  0.005378  0.000045  0.000564   \n",
       "10391   sample2_x[1,11]  0.001006  0.000134  0.005108  0.000039  0.000540   \n",
       "10392   sample2_x[1,12]  0.000870  0.000170  0.004781  0.000029  0.000414   \n",
       "10393   sample2_x[1,13]  0.000920  0.000121  0.003206  0.000037  0.000519   \n",
       "10394    sample2_x[2,1]  0.736190  0.298411  0.425709  0.000573  0.984313   \n",
       "10395    sample2_x[2,2]  0.110271  0.130110  0.186682  0.000250  0.003832   \n",
       "10396    sample2_x[2,3]  0.143449  0.169151  0.242284  0.000403  0.005921   \n",
       "10397    sample2_x[2,4]  0.000811  0.000121  0.004662  0.000030  0.000420   \n",
       "10398    sample2_x[2,5]  0.000736  0.000103  0.003434  0.000025  0.000388   \n",
       "10399    sample2_x[2,6]  0.001344  0.000516  0.011853  0.000017  0.000259   \n",
       "10400    sample2_x[2,7]  0.000826  0.000064  0.002672  0.000039  0.000507   \n",
       "10401    sample2_x[2,8]  0.001362  0.000374  0.010416  0.000039  0.000495   \n",
       "10402    sample2_x[2,9]  0.002108  0.000981  0.019991  0.000029  0.000389   \n",
       "10403   sample2_x[2,10]  0.000733  0.000106  0.002947  0.000029  0.000398   \n",
       "10404   sample2_x[2,11]  0.000700  0.000097  0.004021  0.000027  0.000361   \n",
       "10405   sample2_x[2,12]  0.000670  0.000154  0.003976  0.000021  0.000306   \n",
       "10406   sample2_x[2,13]  0.000801  0.000145  0.004410  0.000027  0.000372   \n",
       "10407    sample2_x[3,1]  0.734861  0.297692  0.425028  0.000600  0.985300   \n",
       "10408    sample2_x[3,2]  0.068544  0.080007  0.116197  0.000185  0.002930   \n",
       "10409    sample2_x[3,3]  0.186027  0.218322  0.311933  0.000371  0.005803   \n",
       "10410    sample2_x[3,4]  0.000763  0.000082  0.002823  0.000032  0.000430   \n",
       "...                 ...       ...       ...       ...       ...       ...   \n",
       "10481   sample2_x[8,10]  0.076820  0.003245  0.062215  0.005280  0.062758   \n",
       "10482   sample2_x[8,11]  0.075039  0.000728  0.065097  0.003883  0.057448   \n",
       "10483   sample2_x[8,12]  0.071999  0.001885  0.058648  0.005982  0.060225   \n",
       "10484   sample2_x[8,13]  0.051886  0.000526  0.047067  0.002666  0.038806   \n",
       "10485    sample2_x[9,1]  0.056442  0.017456  0.074557  0.001590  0.034029   \n",
       "10486    sample2_x[9,2]  0.370065  0.025653  0.085970  0.222850  0.375410   \n",
       "10487    sample2_x[9,3]  0.183896  0.009186  0.096086  0.027840  0.180654   \n",
       "10488    sample2_x[9,4]  0.093161  0.042072  0.092523  0.003929  0.062245   \n",
       "10489    sample2_x[9,5]  0.027658  0.000310  0.027765  0.001264  0.019195   \n",
       "10490    sample2_x[9,6]  0.060991  0.003845  0.052196  0.003528  0.047705   \n",
       "10491    sample2_x[9,7]  0.049544  0.000519  0.046421  0.002076  0.036169   \n",
       "10492    sample2_x[9,8]  0.030297  0.000343  0.030708  0.001412  0.020869   \n",
       "10493    sample2_x[9,9]  0.027026  0.000875  0.031620  0.001361  0.017730   \n",
       "10494   sample2_x[9,10]  0.023950  0.000273  0.024392  0.001174  0.016572   \n",
       "10495   sample2_x[9,11]  0.039877  0.000910  0.040280  0.001966  0.028012   \n",
       "10496   sample2_x[9,12]  0.013443  0.000999  0.023238  0.000584  0.007963   \n",
       "10497   sample2_x[9,13]  0.023649  0.000260  0.023241  0.001157  0.016526   \n",
       "10498   sample2_x[10,1]  0.027897  0.003020  0.057543  0.001118  0.015813   \n",
       "10499   sample2_x[10,2]  0.209873  0.028588  0.081605  0.066406  0.213617   \n",
       "10500   sample2_x[10,3]  0.181617  0.032301  0.111809  0.015142  0.175355   \n",
       "10501   sample2_x[10,4]  0.154423  0.044742  0.125661  0.007765  0.125420   \n",
       "10502   sample2_x[10,5]  0.042729  0.000485  0.043386  0.001745  0.029050   \n",
       "10503   sample2_x[10,6]  0.083906  0.004501  0.067737  0.005170  0.066627   \n",
       "10504   sample2_x[10,7]  0.066400  0.000682  0.061017  0.003202  0.047997   \n",
       "10505   sample2_x[10,8]  0.047428  0.000512  0.045759  0.002473  0.033327   \n",
       "10506   sample2_x[10,9]  0.041069  0.000879  0.042433  0.002468  0.029002   \n",
       "10507  sample2_x[10,10]  0.031704  0.000368  0.032881  0.001458  0.021745   \n",
       "10508  sample2_x[10,11]  0.064926  0.001612  0.063903  0.002878  0.045374   \n",
       "10509  sample2_x[10,12]  0.016168  0.001356  0.031463  0.000646  0.009508   \n",
       "10510  sample2_x[10,13]  0.031861  0.000365  0.032636  0.001370  0.021479   \n",
       "\n",
       "            95%       N_Eff   N_Eff/s     R_hat  \n",
       "10381  0.990468     2.05384  0.000034  6.093100  \n",
       "10382  0.151499     2.48402  0.000041  2.128740  \n",
       "10383  0.913351     2.04853  0.000034  6.230710  \n",
       "10384  0.002721  1209.28000  0.019952  1.001940  \n",
       "10385  0.002510   999.47300  0.016490  1.001710  \n",
       "10386  0.001665   579.37900  0.009559  1.004040  \n",
       "10387  0.003242  1194.83000  0.019713  1.001780  \n",
       "10388  0.003227   823.13200  0.013581  1.002370  \n",
       "10389  0.002634   414.25200  0.006835  1.006190  \n",
       "10390  0.002491   790.96300  0.013050  1.002940  \n",
       "10391  0.002358  1458.75000  0.024068  1.001460  \n",
       "10392  0.001865   793.21200  0.013087  1.003390  \n",
       "10393  0.002337   697.76300  0.011512  1.005910  \n",
       "10394  0.992851     2.03515  0.000034  7.288140  \n",
       "10395  0.478154     2.05867  0.000034  5.567450  \n",
       "10396  0.614406     2.05163  0.000034  5.903420  \n",
       "10397  0.001834  1479.74000  0.024414  1.001290  \n",
       "10398  0.001738  1120.09000  0.018480  1.002010  \n",
       "10399  0.001196   527.08900  0.008696  1.004350  \n",
       "10400  0.002106  1743.07000  0.028759  1.001290  \n",
       "10401  0.002146   774.19900  0.012773  1.003190  \n",
       "10402  0.001735   414.96900  0.006847  1.006180  \n",
       "10403  0.001696   774.36900  0.012776  1.003100  \n",
       "10404  0.001567  1710.69000  0.028224  1.001340  \n",
       "10405  0.001377   662.82100  0.010936  1.003950  \n",
       "10406  0.001606   927.59600  0.015304  1.002260  \n",
       "10407  0.993060     2.03846  0.000034  7.073490  \n",
       "10408  0.304559     2.10930  0.000035  4.125190  \n",
       "10409  0.771482     2.04139  0.000034  6.651410  \n",
       "10410  0.001897  1171.73000  0.019332  1.001510  \n",
       "...         ...         ...       ...       ...  \n",
       "10481  0.199935   367.69300  0.006067  1.016800  \n",
       "10482  0.202723  8000.00000  0.131991  1.006700  \n",
       "10483  0.171715   968.52200  0.015979  1.007280  \n",
       "10484  0.146765  8000.00000  0.131991  1.012320  \n",
       "10485  0.168418    18.24250  0.000301  1.063690  \n",
       "10486  0.500262    11.23090  0.000185  1.097320  \n",
       "10487  0.352061   109.40700  0.001805  1.028010  \n",
       "10488  0.295280     4.83631  0.000080  1.266200  \n",
       "10489  0.083259  8000.00000  0.131991  1.003510  \n",
       "10490  0.164687   184.24800  0.003040  1.025860  \n",
       "10491  0.144544  8000.00000  0.131991  0.999785  \n",
       "10492  0.089918  8000.00000  0.131991  1.002640  \n",
       "10493  0.080009  1306.44000  0.021555  1.002720  \n",
       "10494  0.074002  8000.00000  0.131991  1.000100  \n",
       "10495  0.116560  1958.43000  0.032312  1.017960  \n",
       "10496  0.037463   541.01300  0.008926  1.005480  \n",
       "10497  0.070485  8000.00000  0.131991  1.000520  \n",
       "10498  0.075470   363.06400  0.005990  1.009640  \n",
       "10499  0.338418     8.14805  0.000134  1.135780  \n",
       "10500  0.378755    11.98180  0.000198  1.091100  \n",
       "10501  0.407050     7.88816  0.000130  1.145750  \n",
       "10502  0.128749  8000.00000  0.131991  1.002780  \n",
       "10503  0.216248   226.44000  0.003736  1.021090  \n",
       "10504  0.188363  8000.00000  0.131991  1.001670  \n",
       "10505  0.142619  8000.00000  0.131991  1.000450  \n",
       "10506  0.120026  2332.17000  0.038478  1.000370  \n",
       "10507  0.097314  8000.00000  0.131991  1.002260  \n",
       "10508  0.190319  1570.54000  0.025912  1.016260  \n",
       "10509  0.043154   538.41200  0.008883  1.004590  \n",
       "10510  0.095211  8000.00000  0.131991  1.000650  \n",
       "\n",
       "[130 rows x 10 columns]"
      ]
     },
     "execution_count": 8,
     "metadata": {},
     "output_type": "execute_result"
    }
   ],
   "source": [
    "stan_summary[stan_summary.name.str.startswith('sample2_x')]"
   ]
  },
  {
   "cell_type": "markdown",
   "metadata": {
    "deletable": true,
    "editable": true
   },
   "source": [
    "# Load in cibersort and ground truth"
   ]
  },
  {
   "cell_type": "code",
   "execution_count": 9,
   "metadata": {
    "ExecuteTime": {
     "end_time": "2017-10-30T17:17:59.641834Z",
     "start_time": "2017-10-30T17:17:59.279642Z"
    },
    "collapsed": true,
    "deletable": true,
    "editable": true
   },
   "outputs": [],
   "source": [
    "[\n",
    "    _, #merged_samples,\n",
    "    cleaner_gt,\n",
    "    friendly_mixture_descriptions,\n",
    "    example_result,\n",
    "    cib_class_names,\n",
    "    rollup_groundtruth,\n",
    "    rollupsums_df,\n",
    "    col_order,\n",
    "    rollups\n",
    "] = pickle.load(open('/modelcache/experiments/tmp_2.1.1_plotting.pkl', 'rb'))"
   ]
  },
  {
   "cell_type": "code",
   "execution_count": 10,
   "metadata": {
    "ExecuteTime": {
     "end_time": "2017-10-30T17:18:00.132365Z",
     "start_time": "2017-10-30T17:18:00.125650Z"
    },
    "collapsed": true,
    "deletable": true,
    "editable": true
   },
   "outputs": [],
   "source": [
    "sns.set_style('darkgrid')"
   ]
  },
  {
   "cell_type": "markdown",
   "metadata": {
    "deletable": true,
    "editable": true
   },
   "source": [
    "# Convergence checks."
   ]
  },
  {
   "cell_type": "code",
   "execution_count": 11,
   "metadata": {
    "ExecuteTime": {
     "end_time": "2017-10-30T17:18:02.621453Z",
     "start_time": "2017-10-30T17:18:02.334704Z"
    },
    "collapsed": false,
    "deletable": true,
    "editable": true
   },
   "outputs": [
    {
     "name": "stdout",
     "output_type": "stream",
     "text": [
      "mkdir -p plots/2.2.2/\r\n"
     ]
    }
   ],
   "source": [
    "!echo mkdir -p $PLOT_DIR\n",
    "!mkdir -p $PLOT_DIR"
   ]
  },
  {
   "cell_type": "code",
   "execution_count": 12,
   "metadata": {
    "ExecuteTime": {
     "end_time": "2017-10-30T17:18:03.649263Z",
     "start_time": "2017-10-30T17:18:03.638127Z"
    },
    "collapsed": true,
    "deletable": true,
    "editable": true,
    "init_cell": true
   },
   "outputs": [],
   "source": [
    "def savefig(fig, *args, **kwargs):\n",
    "    \"\"\"\n",
    "    Wrap figure.savefig defaulting to tight bounding box.\n",
    "    From https://github.com/mwaskom/seaborn/blob/dfdd1126626f7ed0fe3737528edecb71346e9eb0/seaborn/axisgrid.py#L1840\n",
    "    \"\"\"\n",
    "    kwargs.setdefault(\"bbox_inches\", \"tight\")\n",
    "    fig.savefig(*args, **kwargs)"
   ]
  },
  {
   "cell_type": "code",
   "execution_count": 13,
   "metadata": {
    "ExecuteTime": {
     "end_time": "2017-10-30T17:18:04.685675Z",
     "start_time": "2017-10-30T17:18:04.581234Z"
    },
    "collapsed": false,
    "deletable": true,
    "editable": true
   },
   "outputs": [
    {
     "data": {
      "text/plain": [
       "10381    6.093100\n",
       "10382    2.128740\n",
       "10383    6.230710\n",
       "10384    1.001940\n",
       "10385    1.001710\n",
       "10386    1.004040\n",
       "10387    1.001780\n",
       "10388    1.002370\n",
       "10389    1.006190\n",
       "10390    1.002940\n",
       "10391    1.001460\n",
       "10392    1.003390\n",
       "10393    1.005910\n",
       "10394    7.288140\n",
       "10395    5.567450\n",
       "10396    5.903420\n",
       "10397    1.001290\n",
       "10398    1.002010\n",
       "10399    1.004350\n",
       "10400    1.001290\n",
       "10401    1.003190\n",
       "10402    1.006180\n",
       "10403    1.003100\n",
       "10404    1.001340\n",
       "10405    1.003950\n",
       "10406    1.002260\n",
       "10407    7.073490\n",
       "10408    4.125190\n",
       "10409    6.651410\n",
       "10410    1.001510\n",
       "           ...   \n",
       "10481    1.016800\n",
       "10482    1.006700\n",
       "10483    1.007280\n",
       "10484    1.012320\n",
       "10485    1.063690\n",
       "10486    1.097320\n",
       "10487    1.028010\n",
       "10488    1.266200\n",
       "10489    1.003510\n",
       "10490    1.025860\n",
       "10491    0.999785\n",
       "10492    1.002640\n",
       "10493    1.002720\n",
       "10494    1.000100\n",
       "10495    1.017960\n",
       "10496    1.005480\n",
       "10497    1.000520\n",
       "10498    1.009640\n",
       "10499    1.135780\n",
       "10500    1.091100\n",
       "10501    1.145750\n",
       "10502    1.002780\n",
       "10503    1.021090\n",
       "10504    1.001670\n",
       "10505    1.000450\n",
       "10506    1.000370\n",
       "10507    1.002260\n",
       "10508    1.016260\n",
       "10509    1.004590\n",
       "10510    1.000650\n",
       "Name: R_hat, dtype: float64"
      ]
     },
     "execution_count": 13,
     "metadata": {},
     "output_type": "execute_result"
    }
   ],
   "source": [
    "stan_summary[stan_summary.name.str.startswith('sample2_x')]['R_hat']"
   ]
  },
  {
   "cell_type": "code",
   "execution_count": 14,
   "metadata": {
    "ExecuteTime": {
     "end_time": "2017-10-30T17:18:07.745719Z",
     "start_time": "2017-10-30T17:18:07.709621Z"
    },
    "collapsed": false,
    "deletable": true,
    "editable": true
   },
   "outputs": [],
   "source": [
    "# if this isn't true, stansummary failed (perhaps we ran it twice and appended)\n",
    "assert stan_summary[stan_summary.name.str.startswith('sample2_x')]['R_hat'].dtype == 'float64'"
   ]
  },
  {
   "cell_type": "code",
   "execution_count": 15,
   "metadata": {
    "ExecuteTime": {
     "end_time": "2017-10-30T17:18:11.205134Z",
     "start_time": "2017-10-30T17:18:08.935312Z"
    },
    "collapsed": false,
    "deletable": true,
    "editable": true
   },
   "outputs": [
    {
     "data": {
      "image/png": "[encoded data removed]",
      "text/plain": [
       "<matplotlib.figure.Figure at 0x7f72246fdeb8>"
      ]
     },
     "metadata": {},
     "output_type": "display_data"
    }
   ],
   "source": [
    "# convergence rhats\n",
    "\n",
    "\n",
    "with sns.plotting_context('paper'):\n",
    "    f2 = plt.figure(figsize=(6,4))\n",
    "    sns.distplot(stan_summary[stan_summary.name.str.startswith('sample2_x')]['R_hat'])\n",
    "    #plt.title('Unknown mixture fraction estimates -- Rhat distribution')\n",
    "    plt.title('$\\hat{R}$ metric of convergence')\n",
    "    plt.ylabel('Frequency')\n",
    "    plt.xlabel('$\\hat{R}$')\n",
    "    #f2 = plt.gcf()\n",
    "    savefig(f2, PLOT_DIR+'Rhat_sample2-x_dist.pdf', dpi=300)\n",
    "    savefig(f2, PLOT_DIR+'Rhat_sample2-x_dist.png', dpi=300)"
   ]
  },
  {
   "cell_type": "code",
   "execution_count": 16,
   "metadata": {
    "ExecuteTime": {
     "end_time": "2017-10-30T17:18:14.963195Z",
     "start_time": "2017-10-30T17:18:14.915503Z"
    },
    "collapsed": false,
    "deletable": true,
    "editable": true
   },
   "outputs": [
    {
     "data": {
      "text/plain": [
       "count    130.000000\n",
       "mean       1.652156\n",
       "std        1.681823\n",
       "min        0.999785\n",
       "25%        1.002345\n",
       "50%        1.004045\n",
       "75%        1.018215\n",
       "max        7.463800\n",
       "Name: R_hat, dtype: float64"
      ]
     },
     "execution_count": 16,
     "metadata": {},
     "output_type": "execute_result"
    }
   ],
   "source": [
    "stan_summary[stan_summary.name.str.startswith('sample2_x')]['R_hat'].astype(float).describe()"
   ]
  },
  {
   "cell_type": "code",
   "execution_count": 17,
   "metadata": {
    "ExecuteTime": {
     "end_time": "2017-10-30T17:18:19.306430Z",
     "start_time": "2017-10-30T17:18:17.798149Z"
    },
    "collapsed": false,
    "deletable": true,
    "editable": true
   },
   "outputs": [
    {
     "name": "stdout",
     "output_type": "stream",
     "text": [
      "median 790.8905\n",
      "mean 1962.60353031\n",
      "min 2.0333\n"
     ]
    },
    {
     "data": {
      "image/png": "[encoded data removed]",
      "text/plain": [
       "<matplotlib.figure.Figure at 0x7f722285b588>"
      ]
     },
     "metadata": {},
     "output_type": "display_data"
    }
   ],
   "source": [
    "# convergence - N_eff\n",
    "\n",
    "with sns.plotting_context('paper'):\n",
    "    f2 = plt.figure(figsize=(6,4)) # 8,6\n",
    "    sns.distplot(stan_summary[stan_summary.name.str.startswith('sample2_x')]['N_Eff'])\n",
    "    # Unknown mixture fraction estimates: effective sample size distribution\n",
    "    plt.title('Effective sample size: is it sufficiently high for unknown mixture estimates?')\n",
    "\n",
    "    print('median', stan_summary[stan_summary.name.str.startswith('sample2_x')]['N_Eff'].median())\n",
    "    print('mean', stan_summary[stan_summary.name.str.startswith('sample2_x')]['N_Eff'].mean())\n",
    "    print('min', stan_summary[stan_summary.name.str.startswith('sample2_x')]['N_Eff'].min())\n",
    "\n",
    "    plt.ylabel('Frequency')\n",
    "    #f2 = plt.gcf()\n",
    "    savefig(f2, PLOT_DIR+'Neff_sample2-x_dist.pdf', dpi=300)\n",
    "    savefig(f2, PLOT_DIR+'Neff_sample2-x_dist.png', dpi=300)"
   ]
  },
  {
   "cell_type": "code",
   "execution_count": 18,
   "metadata": {
    "ExecuteTime": {
     "end_time": "2017-10-30T17:18:24.804046Z",
     "start_time": "2017-10-30T17:18:24.605280Z"
    },
    "collapsed": false,
    "deletable": true,
    "editable": true
   },
   "outputs": [
    {
     "data": {
      "image/png": "[encoded data removed]",
      "text/plain": [
       "<matplotlib.figure.Figure at 0x7f722285bf98>"
      ]
     },
     "metadata": {},
     "output_type": "display_data"
    }
   ],
   "source": [
    "current_palette = sns.color_palette()\n",
    "sns.palplot(current_palette)"
   ]
  },
  {
   "cell_type": "code",
   "execution_count": 20,
   "metadata": {
    "ExecuteTime": {
     "end_time": "2017-10-30T17:18:34.569641Z",
     "start_time": "2017-10-30T17:18:32.889839Z"
    },
    "collapsed": false,
    "deletable": true,
    "editable": true
   },
   "outputs": [
    {
     "name": "stdout",
     "output_type": "stream",
     "text": [
      "median 0.000533894\n",
      "mean 0.0310153397346\n"
     ]
    },
    {
     "data": {
      "image/png": "[encoded data removed]",
      "text/plain": [
       "<matplotlib.figure.Figure at 0x7f722552da90>"
      ]
     },
     "metadata": {},
     "output_type": "display_data"
    }
   ],
   "source": [
    "# convergence -- MCSE \n",
    "with sns.plotting_context('paper'):\n",
    "    f2 = plt.figure(figsize=(6,4))\n",
    "    sns.distplot(stan_summary[stan_summary.name.str.startswith('sample2_x')]['MCSE'],\n",
    "                 #kde_kws={'color':sns.color_palette()[2]}\n",
    "                )\n",
    "    #plt.axvline(x=stan_summary[stan_summary.name.str.startswith('sample2_x')]['MCSE'].median(),\n",
    "    #            linestyle='dotted', lw=2.5, color=sns.color_palette()[2])\n",
    "    print('median', stan_summary[stan_summary.name.str.startswith('sample2_x')]['MCSE'].median())\n",
    "    print('mean', stan_summary[stan_summary.name.str.startswith('sample2_x')]['MCSE'].mean())\n",
    "    #plt.title('Unknown mixture fraction estimates: Monte Carlo error distribution')\n",
    "    plt.title('Monte Carlo simulation error for unknown mixture estimates')\n",
    "    plt.ylabel('Frequency')\n",
    "    #f2 = plt.gcf()\n",
    "    savefig(f2, PLOT_DIR+'MCSE_sample2-x_dist.pdf', dpi=300)\n",
    "    savefig(f2, PLOT_DIR+'MCSE_sample2-x_dist.png', dpi=300)"
   ]
  },
  {
   "cell_type": "code",
   "execution_count": 22,
   "metadata": {
    "ExecuteTime": {
     "end_time": "2017-10-30T17:18:44.364566Z",
     "start_time": "2017-10-30T17:18:42.871991Z"
    },
    "collapsed": false,
    "deletable": true,
    "editable": true
   },
   "outputs": [
    {
     "name": "stdout",
     "output_type": "stream",
     "text": [
      "median 0.027037699999999998\n",
      "mean 0.0655902556923\n"
     ]
    },
    {
     "data": {
      "image/png": "[encoded data removed]",
      "text/plain": [
       "<matplotlib.figure.Figure at 0x7f72217d0710>"
      ]
     },
     "metadata": {},
     "output_type": "display_data"
    }
   ],
   "source": [
    "# convergence -- standard deviation\n",
    "with sns.plotting_context('paper'):\n",
    "    f2 = plt.figure(figsize=(6,4))\n",
    "    sns.distplot(stan_summary[stan_summary.name.str.startswith('sample2_x')]['StdDev'])\n",
    "    # plt.axvline(x=stan_summary[stan_summary.name.str.startswith('sample2_x')]['StdDev'].median(),\n",
    "    #             linestyle='dotted', lw=2.5, color=sns.color_palette()[2])\n",
    "    print('median', stan_summary[stan_summary.name.str.startswith('sample2_x')]['StdDev'].median())\n",
    "    print('mean', stan_summary[stan_summary.name.str.startswith('sample2_x')]['StdDev'].mean())\n",
    "    plt.title('Posterior standard deviation for unknown mixture estimates')\n",
    "    plt.ylabel('Frequency')\n",
    "    #f2 = plt.gcf()\n",
    "    savefig(f2, PLOT_DIR+'StdDev_sample2-x_dist.pdf', dpi=300)\n",
    "    savefig(f2, PLOT_DIR+'StdDev_sample2-x_dist.png', dpi=300)"
   ]
  },
  {
   "cell_type": "code",
   "execution_count": 23,
   "metadata": {
    "ExecuteTime": {
     "end_time": "2017-10-30T17:18:46.977361Z",
     "start_time": "2017-10-30T17:18:46.943381Z"
    },
    "collapsed": false,
    "deletable": true,
    "editable": true
   },
   "outputs": [
    {
     "data": {
      "text/plain": [
       "count    130.000000\n",
       "mean       0.065590\n",
       "std        0.105541\n",
       "min        0.001725\n",
       "25%        0.004990\n",
       "50%        0.027038\n",
       "75%        0.060500\n",
       "max        0.426588\n",
       "Name: StdDev, dtype: float64"
      ]
     },
     "execution_count": 23,
     "metadata": {},
     "output_type": "execute_result"
    }
   ],
   "source": [
    "stan_summary[stan_summary.name.str.startswith('sample2_x')]['StdDev'].describe()"
   ]
  },
  {
   "cell_type": "markdown",
   "metadata": {
    "deletable": true,
    "editable": true
   },
   "source": [
    "# get the full deconvolution distributions"
   ]
  },
  {
   "cell_type": "code",
   "execution_count": 24,
   "metadata": {
    "ExecuteTime": {
     "end_time": "2017-10-30T17:18:48.920323Z",
     "start_time": "2017-10-30T17:18:48.902569Z"
    },
    "collapsed": false,
    "deletable": true,
    "editable": true,
    "init_cell": true
   },
   "outputs": [
    {
     "data": {
      "text/plain": [
       "array(['sample2_x[1,1]', 'sample2_x[1,2]', 'sample2_x[1,3]',\n",
       "       'sample2_x[1,4]', 'sample2_x[1,5]', 'sample2_x[1,6]',\n",
       "       'sample2_x[1,7]', 'sample2_x[1,8]', 'sample2_x[1,9]',\n",
       "       'sample2_x[1,10]', 'sample2_x[1,11]', 'sample2_x[1,12]',\n",
       "       'sample2_x[1,13]', 'sample2_x[2,1]', 'sample2_x[2,2]',\n",
       "       'sample2_x[2,3]', 'sample2_x[2,4]', 'sample2_x[2,5]',\n",
       "       'sample2_x[2,6]', 'sample2_x[2,7]', 'sample2_x[2,8]',\n",
       "       'sample2_x[2,9]', 'sample2_x[2,10]', 'sample2_x[2,11]',\n",
       "       'sample2_x[2,12]', 'sample2_x[2,13]', 'sample2_x[3,1]',\n",
       "       'sample2_x[3,2]', 'sample2_x[3,3]', 'sample2_x[3,4]',\n",
       "       'sample2_x[3,5]', 'sample2_x[3,6]', 'sample2_x[3,7]',\n",
       "       'sample2_x[3,8]', 'sample2_x[3,9]', 'sample2_x[3,10]',\n",
       "       'sample2_x[3,11]', 'sample2_x[3,12]', 'sample2_x[3,13]',\n",
       "       'sample2_x[4,1]', 'sample2_x[4,2]', 'sample2_x[4,3]',\n",
       "       'sample2_x[4,4]', 'sample2_x[4,5]', 'sample2_x[4,6]',\n",
       "       'sample2_x[4,7]', 'sample2_x[4,8]', 'sample2_x[4,9]',\n",
       "       'sample2_x[4,10]', 'sample2_x[4,11]', 'sample2_x[4,12]',\n",
       "       'sample2_x[4,13]', 'sample2_x[5,1]', 'sample2_x[5,2]',\n",
       "       'sample2_x[5,3]', 'sample2_x[5,4]', 'sample2_x[5,5]',\n",
       "       'sample2_x[5,6]', 'sample2_x[5,7]', 'sample2_x[5,8]',\n",
       "       'sample2_x[5,9]', 'sample2_x[5,10]', 'sample2_x[5,11]',\n",
       "       'sample2_x[5,12]', 'sample2_x[5,13]', 'sample2_x[6,1]',\n",
       "       'sample2_x[6,2]', 'sample2_x[6,3]', 'sample2_x[6,4]',\n",
       "       'sample2_x[6,5]', 'sample2_x[6,6]', 'sample2_x[6,7]',\n",
       "       'sample2_x[6,8]', 'sample2_x[6,9]', 'sample2_x[6,10]',\n",
       "       'sample2_x[6,11]', 'sample2_x[6,12]', 'sample2_x[6,13]',\n",
       "       'sample2_x[7,1]', 'sample2_x[7,2]', 'sample2_x[7,3]',\n",
       "       'sample2_x[7,4]', 'sample2_x[7,5]', 'sample2_x[7,6]',\n",
       "       'sample2_x[7,7]', 'sample2_x[7,8]', 'sample2_x[7,9]',\n",
       "       'sample2_x[7,10]', 'sample2_x[7,11]', 'sample2_x[7,12]',\n",
       "       'sample2_x[7,13]', 'sample2_x[8,1]', 'sample2_x[8,2]',\n",
       "       'sample2_x[8,3]', 'sample2_x[8,4]', 'sample2_x[8,5]',\n",
       "       'sample2_x[8,6]', 'sample2_x[8,7]', 'sample2_x[8,8]',\n",
       "       'sample2_x[8,9]', 'sample2_x[8,10]', 'sample2_x[8,11]',\n",
       "       'sample2_x[8,12]', 'sample2_x[8,13]', 'sample2_x[9,1]',\n",
       "       'sample2_x[9,2]', 'sample2_x[9,3]', 'sample2_x[9,4]',\n",
       "       'sample2_x[9,5]', 'sample2_x[9,6]', 'sample2_x[9,7]',\n",
       "       'sample2_x[9,8]', 'sample2_x[9,9]', 'sample2_x[9,10]',\n",
       "       'sample2_x[9,11]', 'sample2_x[9,12]', 'sample2_x[9,13]',\n",
       "       'sample2_x[10,1]', 'sample2_x[10,2]', 'sample2_x[10,3]',\n",
       "       'sample2_x[10,4]', 'sample2_x[10,5]', 'sample2_x[10,6]',\n",
       "       'sample2_x[10,7]', 'sample2_x[10,8]', 'sample2_x[10,9]',\n",
       "       'sample2_x[10,10]', 'sample2_x[10,11]', 'sample2_x[10,12]',\n",
       "       'sample2_x[10,13]'], dtype=object)"
      ]
     },
     "execution_count": 24,
     "metadata": {},
     "output_type": "execute_result"
    }
   ],
   "source": [
    "# have to load in the full traces\n",
    "cols_we_want = stan_summary[stan_summary.name.str.startswith('sample2_x')].name.values\n",
    "cols_we_want"
   ]
  },
  {
   "cell_type": "code",
   "execution_count": 25,
   "metadata": {
    "ExecuteTime": {
     "end_time": "2017-10-30T17:18:52.574760Z",
     "start_time": "2017-10-30T17:18:52.558014Z"
    },
    "collapsed": false,
    "deletable": true,
    "editable": true,
    "init_cell": true
   },
   "outputs": [
    {
     "data": {
      "text/plain": [
       "['sample2_x.1.1',\n",
       " 'sample2_x.1.2',\n",
       " 'sample2_x.1.3',\n",
       " 'sample2_x.1.4',\n",
       " 'sample2_x.1.5',\n",
       " 'sample2_x.1.6',\n",
       " 'sample2_x.1.7',\n",
       " 'sample2_x.1.8',\n",
       " 'sample2_x.1.9',\n",
       " 'sample2_x.1.10',\n",
       " 'sample2_x.1.11',\n",
       " 'sample2_x.1.12',\n",
       " 'sample2_x.1.13',\n",
       " 'sample2_x.2.1',\n",
       " 'sample2_x.2.2',\n",
       " 'sample2_x.2.3',\n",
       " 'sample2_x.2.4',\n",
       " 'sample2_x.2.5',\n",
       " 'sample2_x.2.6',\n",
       " 'sample2_x.2.7',\n",
       " 'sample2_x.2.8',\n",
       " 'sample2_x.2.9',\n",
       " 'sample2_x.2.10',\n",
       " 'sample2_x.2.11',\n",
       " 'sample2_x.2.12',\n",
       " 'sample2_x.2.13',\n",
       " 'sample2_x.3.1',\n",
       " 'sample2_x.3.2',\n",
       " 'sample2_x.3.3',\n",
       " 'sample2_x.3.4',\n",
       " 'sample2_x.3.5',\n",
       " 'sample2_x.3.6',\n",
       " 'sample2_x.3.7',\n",
       " 'sample2_x.3.8',\n",
       " 'sample2_x.3.9',\n",
       " 'sample2_x.3.10',\n",
       " 'sample2_x.3.11',\n",
       " 'sample2_x.3.12',\n",
       " 'sample2_x.3.13',\n",
       " 'sample2_x.4.1',\n",
       " 'sample2_x.4.2',\n",
       " 'sample2_x.4.3',\n",
       " 'sample2_x.4.4',\n",
       " 'sample2_x.4.5',\n",
       " 'sample2_x.4.6',\n",
       " 'sample2_x.4.7',\n",
       " 'sample2_x.4.8',\n",
       " 'sample2_x.4.9',\n",
       " 'sample2_x.4.10',\n",
       " 'sample2_x.4.11',\n",
       " 'sample2_x.4.12',\n",
       " 'sample2_x.4.13',\n",
       " 'sample2_x.5.1',\n",
       " 'sample2_x.5.2',\n",
       " 'sample2_x.5.3',\n",
       " 'sample2_x.5.4',\n",
       " 'sample2_x.5.5',\n",
       " 'sample2_x.5.6',\n",
       " 'sample2_x.5.7',\n",
       " 'sample2_x.5.8',\n",
       " 'sample2_x.5.9',\n",
       " 'sample2_x.5.10',\n",
       " 'sample2_x.5.11',\n",
       " 'sample2_x.5.12',\n",
       " 'sample2_x.5.13',\n",
       " 'sample2_x.6.1',\n",
       " 'sample2_x.6.2',\n",
       " 'sample2_x.6.3',\n",
       " 'sample2_x.6.4',\n",
       " 'sample2_x.6.5',\n",
       " 'sample2_x.6.6',\n",
       " 'sample2_x.6.7',\n",
       " 'sample2_x.6.8',\n",
       " 'sample2_x.6.9',\n",
       " 'sample2_x.6.10',\n",
       " 'sample2_x.6.11',\n",
       " 'sample2_x.6.12',\n",
       " 'sample2_x.6.13',\n",
       " 'sample2_x.7.1',\n",
       " 'sample2_x.7.2',\n",
       " 'sample2_x.7.3',\n",
       " 'sample2_x.7.4',\n",
       " 'sample2_x.7.5',\n",
       " 'sample2_x.7.6',\n",
       " 'sample2_x.7.7',\n",
       " 'sample2_x.7.8',\n",
       " 'sample2_x.7.9',\n",
       " 'sample2_x.7.10',\n",
       " 'sample2_x.7.11',\n",
       " 'sample2_x.7.12',\n",
       " 'sample2_x.7.13',\n",
       " 'sample2_x.8.1',\n",
       " 'sample2_x.8.2',\n",
       " 'sample2_x.8.3',\n",
       " 'sample2_x.8.4',\n",
       " 'sample2_x.8.5',\n",
       " 'sample2_x.8.6',\n",
       " 'sample2_x.8.7',\n",
       " 'sample2_x.8.8',\n",
       " 'sample2_x.8.9',\n",
       " 'sample2_x.8.10',\n",
       " 'sample2_x.8.11',\n",
       " 'sample2_x.8.12',\n",
       " 'sample2_x.8.13',\n",
       " 'sample2_x.9.1',\n",
       " 'sample2_x.9.2',\n",
       " 'sample2_x.9.3',\n",
       " 'sample2_x.9.4',\n",
       " 'sample2_x.9.5',\n",
       " 'sample2_x.9.6',\n",
       " 'sample2_x.9.7',\n",
       " 'sample2_x.9.8',\n",
       " 'sample2_x.9.9',\n",
       " 'sample2_x.9.10',\n",
       " 'sample2_x.9.11',\n",
       " 'sample2_x.9.12',\n",
       " 'sample2_x.9.13',\n",
       " 'sample2_x.10.1',\n",
       " 'sample2_x.10.2',\n",
       " 'sample2_x.10.3',\n",
       " 'sample2_x.10.4',\n",
       " 'sample2_x.10.5',\n",
       " 'sample2_x.10.6',\n",
       " 'sample2_x.10.7',\n",
       " 'sample2_x.10.8',\n",
       " 'sample2_x.10.9',\n",
       " 'sample2_x.10.10',\n",
       " 'sample2_x.10.11',\n",
       " 'sample2_x.10.12',\n",
       " 'sample2_x.10.13']"
      ]
     },
     "execution_count": 25,
     "metadata": {},
     "output_type": "execute_result"
    }
   ],
   "source": [
    "cols_we_want_renamed  = [c.replace('[', '.').replace(']', '').replace(',', '.') for c in cols_we_want]\n",
    "cols_we_want_renamed"
   ]
  },
  {
   "cell_type": "code",
   "execution_count": 26,
   "metadata": {
    "ExecuteTime": {
     "end_time": "2017-10-30T17:19:26.512242Z",
     "start_time": "2017-10-30T17:19:12.350894Z"
    },
    "collapsed": false,
    "deletable": true,
    "editable": true,
    "init_cell": true
   },
   "outputs": [
    {
     "name": "stdout",
     "output_type": "stream",
     "text": [
      "loading: 0\n",
      "loading: 1\n",
      "loading: 2\n",
      "loading: 3\n"
     ]
    }
   ],
   "source": [
    "all_traces = []\n",
    "for i in range(4):\n",
    "    print('loading:', i)\n",
    "    trace_i = pd.read_csv('logs/informative_hardcoded_priors_sampling_log.txt_%d.csv' % i, comment='#', usecols=cols_we_want_renamed)\n",
    "    trace_i['trace_id'] = i\n",
    "    trace_i['iter'] = trace_i.index\n",
    "    all_traces.append(trace_i)"
   ]
  },
  {
   "cell_type": "code",
   "execution_count": 27,
   "metadata": {
    "ExecuteTime": {
     "end_time": "2017-10-30T17:19:26.973248Z",
     "start_time": "2017-10-30T17:19:26.936829Z"
    },
    "collapsed": false,
    "deletable": true,
    "editable": true,
    "init_cell": true
   },
   "outputs": [
    {
     "name": "stdout",
     "output_type": "stream",
     "text": [
      "(8000, 132)\n"
     ]
    },
    {
     "data": {
      "text/html": [
       "<div>\n",
       "<table border=\"1\" class=\"dataframe\">\n",
       "  <thead>\n",
       "    <tr style=\"text-align: right;\">\n",
       "      <th></th>\n",
       "      <th>sample2_x.1.1</th>\n",
       "      <th>sample2_x.2.1</th>\n",
       "      <th>sample2_x.3.1</th>\n",
       "      <th>sample2_x.4.1</th>\n",
       "      <th>sample2_x.5.1</th>\n",
       "      <th>sample2_x.6.1</th>\n",
       "      <th>sample2_x.7.1</th>\n",
       "      <th>sample2_x.8.1</th>\n",
       "      <th>sample2_x.9.1</th>\n",
       "      <th>sample2_x.10.1</th>\n",
       "      <th>...</th>\n",
       "      <th>sample2_x.3.13</th>\n",
       "      <th>sample2_x.4.13</th>\n",
       "      <th>sample2_x.5.13</th>\n",
       "      <th>sample2_x.6.13</th>\n",
       "      <th>sample2_x.7.13</th>\n",
       "      <th>sample2_x.8.13</th>\n",
       "      <th>sample2_x.9.13</th>\n",
       "      <th>sample2_x.10.13</th>\n",
       "      <th>trace_id</th>\n",
       "      <th>iter</th>\n",
       "    </tr>\n",
       "  </thead>\n",
       "  <tbody>\n",
       "    <tr>\n",
       "      <th>0</th>\n",
       "      <td>0.016959</td>\n",
       "      <td>0.089704</td>\n",
       "      <td>0.162042</td>\n",
       "      <td>0.101518</td>\n",
       "      <td>0.073840</td>\n",
       "      <td>0.238579</td>\n",
       "      <td>0.038821</td>\n",
       "      <td>0.141445</td>\n",
       "      <td>0.092243</td>\n",
       "      <td>0.142719</td>\n",
       "      <td>...</td>\n",
       "      <td>0.090519</td>\n",
       "      <td>0.025584</td>\n",
       "      <td>0.022048</td>\n",
       "      <td>0.103313</td>\n",
       "      <td>0.171208</td>\n",
       "      <td>0.078601</td>\n",
       "      <td>0.021326</td>\n",
       "      <td>0.176739</td>\n",
       "      <td>0</td>\n",
       "      <td>0</td>\n",
       "    </tr>\n",
       "    <tr>\n",
       "      <th>1</th>\n",
       "      <td>0.016959</td>\n",
       "      <td>0.089704</td>\n",
       "      <td>0.162042</td>\n",
       "      <td>0.101518</td>\n",
       "      <td>0.073840</td>\n",
       "      <td>0.238579</td>\n",
       "      <td>0.038821</td>\n",
       "      <td>0.141445</td>\n",
       "      <td>0.092243</td>\n",
       "      <td>0.142719</td>\n",
       "      <td>...</td>\n",
       "      <td>0.090519</td>\n",
       "      <td>0.025584</td>\n",
       "      <td>0.022048</td>\n",
       "      <td>0.103313</td>\n",
       "      <td>0.171208</td>\n",
       "      <td>0.078601</td>\n",
       "      <td>0.021326</td>\n",
       "      <td>0.176739</td>\n",
       "      <td>0</td>\n",
       "      <td>1</td>\n",
       "    </tr>\n",
       "    <tr>\n",
       "      <th>2</th>\n",
       "      <td>0.016959</td>\n",
       "      <td>0.089704</td>\n",
       "      <td>0.162042</td>\n",
       "      <td>0.101518</td>\n",
       "      <td>0.073840</td>\n",
       "      <td>0.238579</td>\n",
       "      <td>0.038821</td>\n",
       "      <td>0.141445</td>\n",
       "      <td>0.092243</td>\n",
       "      <td>0.142719</td>\n",
       "      <td>...</td>\n",
       "      <td>0.090519</td>\n",
       "      <td>0.025584</td>\n",
       "      <td>0.022048</td>\n",
       "      <td>0.103313</td>\n",
       "      <td>0.171208</td>\n",
       "      <td>0.078601</td>\n",
       "      <td>0.021326</td>\n",
       "      <td>0.176739</td>\n",
       "      <td>0</td>\n",
       "      <td>2</td>\n",
       "    </tr>\n",
       "    <tr>\n",
       "      <th>3</th>\n",
       "      <td>0.016959</td>\n",
       "      <td>0.089704</td>\n",
       "      <td>0.162042</td>\n",
       "      <td>0.101518</td>\n",
       "      <td>0.073840</td>\n",
       "      <td>0.238579</td>\n",
       "      <td>0.038821</td>\n",
       "      <td>0.141445</td>\n",
       "      <td>0.092243</td>\n",
       "      <td>0.142719</td>\n",
       "      <td>...</td>\n",
       "      <td>0.090519</td>\n",
       "      <td>0.025584</td>\n",
       "      <td>0.022048</td>\n",
       "      <td>0.103313</td>\n",
       "      <td>0.171208</td>\n",
       "      <td>0.078601</td>\n",
       "      <td>0.021326</td>\n",
       "      <td>0.176739</td>\n",
       "      <td>0</td>\n",
       "      <td>3</td>\n",
       "    </tr>\n",
       "    <tr>\n",
       "      <th>4</th>\n",
       "      <td>0.042603</td>\n",
       "      <td>0.210232</td>\n",
       "      <td>0.115432</td>\n",
       "      <td>0.181094</td>\n",
       "      <td>0.123931</td>\n",
       "      <td>0.075380</td>\n",
       "      <td>0.119901</td>\n",
       "      <td>0.110128</td>\n",
       "      <td>0.174828</td>\n",
       "      <td>0.180652</td>\n",
       "      <td>...</td>\n",
       "      <td>0.090108</td>\n",
       "      <td>0.025096</td>\n",
       "      <td>0.024520</td>\n",
       "      <td>0.101031</td>\n",
       "      <td>0.096389</td>\n",
       "      <td>0.081262</td>\n",
       "      <td>0.029771</td>\n",
       "      <td>0.119904</td>\n",
       "      <td>0</td>\n",
       "      <td>4</td>\n",
       "    </tr>\n",
       "  </tbody>\n",
       "</table>\n",
       "<p>5 rows × 132 columns</p>\n",
       "</div>"
      ],
      "text/plain": [
       "   sample2_x.1.1  sample2_x.2.1  sample2_x.3.1  sample2_x.4.1  sample2_x.5.1  \\\n",
       "0       0.016959       0.089704       0.162042       0.101518       0.073840   \n",
       "1       0.016959       0.089704       0.162042       0.101518       0.073840   \n",
       "2       0.016959       0.089704       0.162042       0.101518       0.073840   \n",
       "3       0.016959       0.089704       0.162042       0.101518       0.073840   \n",
       "4       0.042603       0.210232       0.115432       0.181094       0.123931   \n",
       "\n",
       "   sample2_x.6.1  sample2_x.7.1  sample2_x.8.1  sample2_x.9.1  sample2_x.10.1  \\\n",
       "0       0.238579       0.038821       0.141445       0.092243        0.142719   \n",
       "1       0.238579       0.038821       0.141445       0.092243        0.142719   \n",
       "2       0.238579       0.038821       0.141445       0.092243        0.142719   \n",
       "3       0.238579       0.038821       0.141445       0.092243        0.142719   \n",
       "4       0.075380       0.119901       0.110128       0.174828        0.180652   \n",
       "\n",
       "   ...   sample2_x.3.13  sample2_x.4.13  sample2_x.5.13  sample2_x.6.13  \\\n",
       "0  ...         0.090519        0.025584        0.022048        0.103313   \n",
       "1  ...         0.090519        0.025584        0.022048        0.103313   \n",
       "2  ...         0.090519        0.025584        0.022048        0.103313   \n",
       "3  ...         0.090519        0.025584        0.022048        0.103313   \n",
       "4  ...         0.090108        0.025096        0.024520        0.101031   \n",
       "\n",
       "   sample2_x.7.13  sample2_x.8.13  sample2_x.9.13  sample2_x.10.13  trace_id  \\\n",
       "0        0.171208        0.078601        0.021326         0.176739         0   \n",
       "1        0.171208        0.078601        0.021326         0.176739         0   \n",
       "2        0.171208        0.078601        0.021326         0.176739         0   \n",
       "3        0.171208        0.078601        0.021326         0.176739         0   \n",
       "4        0.096389        0.081262        0.029771         0.119904         0   \n",
       "\n",
       "   iter  \n",
       "0     0  \n",
       "1     1  \n",
       "2     2  \n",
       "3     3  \n",
       "4     4  \n",
       "\n",
       "[5 rows x 132 columns]"
      ]
     },
     "execution_count": 27,
     "metadata": {},
     "output_type": "execute_result"
    }
   ],
   "source": [
    "all_traces_df = pd.concat(all_traces)\n",
    "print(all_traces_df.shape)\n",
    "all_traces_df.head()"
   ]
  },
  {
   "cell_type": "code",
   "execution_count": 28,
   "metadata": {
    "ExecuteTime": {
     "end_time": "2017-10-30T17:19:30.994528Z",
     "start_time": "2017-10-30T17:19:30.833835Z"
    },
    "collapsed": false,
    "deletable": true,
    "editable": true,
    "init_cell": true
   },
   "outputs": [
    {
     "data": {
      "text/html": [
       "<div>\n",
       "<table border=\"1\" class=\"dataframe\">\n",
       "  <thead>\n",
       "    <tr style=\"text-align: right;\">\n",
       "      <th></th>\n",
       "      <th>iter</th>\n",
       "      <th>trace_id</th>\n",
       "      <th>variable</th>\n",
       "      <th>estimate</th>\n",
       "    </tr>\n",
       "  </thead>\n",
       "  <tbody>\n",
       "    <tr>\n",
       "      <th>0</th>\n",
       "      <td>0</td>\n",
       "      <td>0</td>\n",
       "      <td>sample2_x.1.1</td>\n",
       "      <td>0.016959</td>\n",
       "    </tr>\n",
       "    <tr>\n",
       "      <th>1</th>\n",
       "      <td>1</td>\n",
       "      <td>0</td>\n",
       "      <td>sample2_x.1.1</td>\n",
       "      <td>0.016959</td>\n",
       "    </tr>\n",
       "    <tr>\n",
       "      <th>2</th>\n",
       "      <td>2</td>\n",
       "      <td>0</td>\n",
       "      <td>sample2_x.1.1</td>\n",
       "      <td>0.016959</td>\n",
       "    </tr>\n",
       "    <tr>\n",
       "      <th>3</th>\n",
       "      <td>3</td>\n",
       "      <td>0</td>\n",
       "      <td>sample2_x.1.1</td>\n",
       "      <td>0.016959</td>\n",
       "    </tr>\n",
       "    <tr>\n",
       "      <th>4</th>\n",
       "      <td>4</td>\n",
       "      <td>0</td>\n",
       "      <td>sample2_x.1.1</td>\n",
       "      <td>0.042603</td>\n",
       "    </tr>\n",
       "  </tbody>\n",
       "</table>\n",
       "</div>"
      ],
      "text/plain": [
       "   iter  trace_id       variable  estimate\n",
       "0     0         0  sample2_x.1.1  0.016959\n",
       "1     1         0  sample2_x.1.1  0.016959\n",
       "2     2         0  sample2_x.1.1  0.016959\n",
       "3     3         0  sample2_x.1.1  0.016959\n",
       "4     4         0  sample2_x.1.1  0.042603"
      ]
     },
     "execution_count": 28,
     "metadata": {},
     "output_type": "execute_result"
    }
   ],
   "source": [
    "all_traces_df2 = pd.melt(all_traces_df, id_vars=['iter','trace_id'], value_name='estimate', var_name='variable')\n",
    "all_traces_df2.head()"
   ]
  },
  {
   "cell_type": "code",
   "execution_count": 29,
   "metadata": {
    "ExecuteTime": {
     "end_time": "2017-10-30T17:19:35.211096Z",
     "start_time": "2017-10-30T17:19:31.793177Z"
    },
    "collapsed": false,
    "deletable": true,
    "editable": true,
    "init_cell": true
   },
   "outputs": [
    {
     "name": "stderr",
     "output_type": "stream",
     "text": [
      "/opt/conda/lib/python3.6/site-packages/ipykernel/__main__.py:1: FutureWarning: currently extract(expand=None) means expand=False (return Index/Series/DataFrame) but in a future version of pandas this will be changed to expand=True (return DataFrame)\n",
      "  if __name__ == '__main__':\n"
     ]
    },
    {
     "data": {
      "text/html": [
       "<div>\n",
       "<table border=\"1\" class=\"dataframe\">\n",
       "  <thead>\n",
       "    <tr style=\"text-align: right;\">\n",
       "      <th></th>\n",
       "      <th>sample_id</th>\n",
       "      <th>subset_id</th>\n",
       "    </tr>\n",
       "  </thead>\n",
       "  <tbody>\n",
       "    <tr>\n",
       "      <th>0</th>\n",
       "      <td>1</td>\n",
       "      <td>1</td>\n",
       "    </tr>\n",
       "    <tr>\n",
       "      <th>1</th>\n",
       "      <td>1</td>\n",
       "      <td>1</td>\n",
       "    </tr>\n",
       "    <tr>\n",
       "      <th>2</th>\n",
       "      <td>1</td>\n",
       "      <td>1</td>\n",
       "    </tr>\n",
       "    <tr>\n",
       "      <th>3</th>\n",
       "      <td>1</td>\n",
       "      <td>1</td>\n",
       "    </tr>\n",
       "    <tr>\n",
       "      <th>4</th>\n",
       "      <td>1</td>\n",
       "      <td>1</td>\n",
       "    </tr>\n",
       "  </tbody>\n",
       "</table>\n",
       "</div>"
      ],
      "text/plain": [
       "  sample_id subset_id\n",
       "0         1         1\n",
       "1         1         1\n",
       "2         1         1\n",
       "3         1         1\n",
       "4         1         1"
      ]
     },
     "execution_count": 29,
     "metadata": {},
     "output_type": "execute_result"
    }
   ],
   "source": [
    "var_ids = all_traces_df2.variable.str.extract('sample2_x.(?P<sample_id>\\d+).(?P<subset_id>\\d+)')\n",
    "var_ids.head()"
   ]
  },
  {
   "cell_type": "code",
   "execution_count": 30,
   "metadata": {
    "ExecuteTime": {
     "end_time": "2017-10-30T17:19:35.812847Z",
     "start_time": "2017-10-30T17:19:35.700201Z"
    },
    "collapsed": false,
    "deletable": true,
    "editable": true,
    "init_cell": true
   },
   "outputs": [
    {
     "data": {
      "text/html": [
       "<div>\n",
       "<table border=\"1\" class=\"dataframe\">\n",
       "  <thead>\n",
       "    <tr style=\"text-align: right;\">\n",
       "      <th></th>\n",
       "      <th>iter</th>\n",
       "      <th>trace_id</th>\n",
       "      <th>variable</th>\n",
       "      <th>estimate</th>\n",
       "      <th>sample_id</th>\n",
       "      <th>subset_id</th>\n",
       "    </tr>\n",
       "  </thead>\n",
       "  <tbody>\n",
       "    <tr>\n",
       "      <th>0</th>\n",
       "      <td>0</td>\n",
       "      <td>0</td>\n",
       "      <td>sample2_x.1.1</td>\n",
       "      <td>0.016959</td>\n",
       "      <td>1</td>\n",
       "      <td>1</td>\n",
       "    </tr>\n",
       "    <tr>\n",
       "      <th>1</th>\n",
       "      <td>1</td>\n",
       "      <td>0</td>\n",
       "      <td>sample2_x.1.1</td>\n",
       "      <td>0.016959</td>\n",
       "      <td>1</td>\n",
       "      <td>1</td>\n",
       "    </tr>\n",
       "    <tr>\n",
       "      <th>2</th>\n",
       "      <td>2</td>\n",
       "      <td>0</td>\n",
       "      <td>sample2_x.1.1</td>\n",
       "      <td>0.016959</td>\n",
       "      <td>1</td>\n",
       "      <td>1</td>\n",
       "    </tr>\n",
       "    <tr>\n",
       "      <th>3</th>\n",
       "      <td>3</td>\n",
       "      <td>0</td>\n",
       "      <td>sample2_x.1.1</td>\n",
       "      <td>0.016959</td>\n",
       "      <td>1</td>\n",
       "      <td>1</td>\n",
       "    </tr>\n",
       "    <tr>\n",
       "      <th>4</th>\n",
       "      <td>4</td>\n",
       "      <td>0</td>\n",
       "      <td>sample2_x.1.1</td>\n",
       "      <td>0.042603</td>\n",
       "      <td>1</td>\n",
       "      <td>1</td>\n",
       "    </tr>\n",
       "  </tbody>\n",
       "</table>\n",
       "</div>"
      ],
      "text/plain": [
       "   iter  trace_id       variable  estimate sample_id subset_id\n",
       "0     0         0  sample2_x.1.1  0.016959         1         1\n",
       "1     1         0  sample2_x.1.1  0.016959         1         1\n",
       "2     2         0  sample2_x.1.1  0.016959         1         1\n",
       "3     3         0  sample2_x.1.1  0.016959         1         1\n",
       "4     4         0  sample2_x.1.1  0.042603         1         1"
      ]
     },
     "execution_count": 30,
     "metadata": {},
     "output_type": "execute_result"
    }
   ],
   "source": [
    "all_traces_df3= pd.concat([all_traces_df2, var_ids], axis=1) \n",
    "all_traces_df3.head()"
   ]
  },
  {
   "cell_type": "code",
   "execution_count": 31,
   "metadata": {
    "ExecuteTime": {
     "end_time": "2017-10-30T17:19:36.932218Z",
     "start_time": "2017-10-30T17:19:36.471132Z"
    },
    "collapsed": true,
    "deletable": true,
    "editable": true,
    "init_cell": true
   },
   "outputs": [],
   "source": [
    "all_traces_df3['subset_id'] = all_traces_df3['subset_id'].astype(int)\n",
    "all_traces_df3['sample_id'] = all_traces_df3['sample_id'].astype(int)"
   ]
  },
  {
   "cell_type": "code",
   "execution_count": 32,
   "metadata": {
    "ExecuteTime": {
     "end_time": "2017-10-30T17:19:38.711193Z",
     "start_time": "2017-10-30T17:19:38.662460Z"
    },
    "collapsed": false,
    "deletable": true,
    "editable": true,
    "init_cell": true
   },
   "outputs": [
    {
     "data": {
      "text/plain": [
       "['B_CD5',\n",
       " 'B_Memory',\n",
       " 'B_Naive',\n",
       " 'CD4_Central_Memory',\n",
       " 'CD4_Effector_Memory',\n",
       " 'CD4_Naive',\n",
       " 'CD4_Th1',\n",
       " 'CD4_Th17',\n",
       " 'CD4_Th2',\n",
       " 'CD4_Treg',\n",
       " 'CD8_Central_Memory',\n",
       " 'CD8_Effector',\n",
       " 'CD8_Naive']"
      ]
     },
     "execution_count": 32,
     "metadata": {},
     "output_type": "execute_result"
    }
   ],
   "source": [
    "sample2_xs = stan_summary[stan_summary.name.str.startswith('sample2_x')]['Mean'].values.reshape(10, 13)\n",
    "sample2_xs.shape\n",
    "\n",
    "mixture_estimates = pd.DataFrame(sample2_xs, columns=colnames)\n",
    "mixture_estimates\n",
    "\n",
    "import re\n",
    "subset_names = [re.sub(string=x, pattern='(.*)\\[(.*)\\]', repl='\\\\2') for x in mixture_estimates.columns]\n",
    "subset_names"
   ]
  },
  {
   "cell_type": "code",
   "execution_count": 33,
   "metadata": {
    "ExecuteTime": {
     "end_time": "2017-10-30T17:19:41.063418Z",
     "start_time": "2017-10-30T17:19:40.734775Z"
    },
    "collapsed": false,
    "deletable": true,
    "editable": true,
    "init_cell": true
   },
   "outputs": [
    {
     "data": {
      "text/html": [
       "<div>\n",
       "<table border=\"1\" class=\"dataframe\">\n",
       "  <thead>\n",
       "    <tr style=\"text-align: right;\">\n",
       "      <th></th>\n",
       "      <th>iter</th>\n",
       "      <th>trace_id</th>\n",
       "      <th>variable</th>\n",
       "      <th>estimate</th>\n",
       "      <th>sample_id</th>\n",
       "      <th>subset_id</th>\n",
       "      <th>subset_name</th>\n",
       "    </tr>\n",
       "  </thead>\n",
       "  <tbody>\n",
       "    <tr>\n",
       "      <th>0</th>\n",
       "      <td>0</td>\n",
       "      <td>0</td>\n",
       "      <td>sample2_x.1.1</td>\n",
       "      <td>0.016959</td>\n",
       "      <td>1</td>\n",
       "      <td>1</td>\n",
       "      <td>B_CD5</td>\n",
       "    </tr>\n",
       "    <tr>\n",
       "      <th>1</th>\n",
       "      <td>1</td>\n",
       "      <td>0</td>\n",
       "      <td>sample2_x.1.1</td>\n",
       "      <td>0.016959</td>\n",
       "      <td>1</td>\n",
       "      <td>1</td>\n",
       "      <td>B_CD5</td>\n",
       "    </tr>\n",
       "    <tr>\n",
       "      <th>2</th>\n",
       "      <td>2</td>\n",
       "      <td>0</td>\n",
       "      <td>sample2_x.1.1</td>\n",
       "      <td>0.016959</td>\n",
       "      <td>1</td>\n",
       "      <td>1</td>\n",
       "      <td>B_CD5</td>\n",
       "    </tr>\n",
       "    <tr>\n",
       "      <th>3</th>\n",
       "      <td>3</td>\n",
       "      <td>0</td>\n",
       "      <td>sample2_x.1.1</td>\n",
       "      <td>0.016959</td>\n",
       "      <td>1</td>\n",
       "      <td>1</td>\n",
       "      <td>B_CD5</td>\n",
       "    </tr>\n",
       "    <tr>\n",
       "      <th>4</th>\n",
       "      <td>4</td>\n",
       "      <td>0</td>\n",
       "      <td>sample2_x.1.1</td>\n",
       "      <td>0.042603</td>\n",
       "      <td>1</td>\n",
       "      <td>1</td>\n",
       "      <td>B_CD5</td>\n",
       "    </tr>\n",
       "  </tbody>\n",
       "</table>\n",
       "</div>"
      ],
      "text/plain": [
       "   iter  trace_id       variable  estimate  sample_id  subset_id subset_name\n",
       "0     0         0  sample2_x.1.1  0.016959          1          1       B_CD5\n",
       "1     1         0  sample2_x.1.1  0.016959          1          1       B_CD5\n",
       "2     2         0  sample2_x.1.1  0.016959          1          1       B_CD5\n",
       "3     3         0  sample2_x.1.1  0.016959          1          1       B_CD5\n",
       "4     4         0  sample2_x.1.1  0.042603          1          1       B_CD5"
      ]
     },
     "execution_count": 33,
     "metadata": {},
     "output_type": "execute_result"
    }
   ],
   "source": [
    "all_traces_df3['subset_name'] = all_traces_df3.subset_id.apply(lambda i: subset_names[i-1])\n",
    "all_traces_df3.head()"
   ]
  },
  {
   "cell_type": "code",
   "execution_count": 34,
   "metadata": {
    "ExecuteTime": {
     "end_time": "2017-10-30T17:19:41.828283Z",
     "start_time": "2017-10-30T17:19:41.651376Z"
    },
    "collapsed": false,
    "deletable": true,
    "editable": true,
    "init_cell": true
   },
   "outputs": [
    {
     "data": {
      "text/plain": [
       "min       0.0\n",
       "max    1999.0\n",
       "Name: iter, dtype: float64"
      ]
     },
     "execution_count": 34,
     "metadata": {},
     "output_type": "execute_result"
    }
   ],
   "source": [
    "# IMPORTANT: drop the warmup samples!!!!!\n",
    "warmup = 1000\n",
    "# this should show a wide range\n",
    "#all_traces_df3.iter.hist()\n",
    "all_traces_df3.iter.describe()[['min', 'max']]"
   ]
  },
  {
   "cell_type": "code",
   "execution_count": 35,
   "metadata": {
    "ExecuteTime": {
     "end_time": "2017-10-30T17:19:43.630579Z",
     "start_time": "2017-10-30T17:19:43.098042Z"
    },
    "collapsed": false,
    "deletable": true,
    "editable": true,
    "init_cell": true
   },
   "outputs": [
    {
     "data": {
      "text/plain": [
       "min      0.0\n",
       "max    999.0\n",
       "Name: iter, dtype: float64"
      ]
     },
     "execution_count": 35,
     "metadata": {},
     "output_type": "execute_result"
    }
   ],
   "source": [
    "# drop warmups\n",
    "all_traces_df3 = all_traces_df3.loc[all_traces_df3['iter']>=1000,]\n",
    "all_traces_df3['iter'] -= 1000\n",
    "# this should be better now\n",
    "#all_traces_df3.iter.hist()\n",
    "all_traces_df3.iter.describe()[['min', 'max']]"
   ]
  },
  {
   "cell_type": "code",
   "execution_count": 36,
   "metadata": {
    "ExecuteTime": {
     "end_time": "2017-10-30T17:19:45.446337Z",
     "start_time": "2017-10-30T17:19:45.364683Z"
    },
    "collapsed": false,
    "deletable": true,
    "editable": true,
    "init_cell": true
   },
   "outputs": [
    {
     "data": {
      "text/plain": [
       "min       0.0\n",
       "max    3999.0\n",
       "dtype: float64"
      ]
     },
     "execution_count": 36,
     "metadata": {},
     "output_type": "execute_result"
    }
   ],
   "source": [
    "# combine iteration numbers across traces -- i.e. line them up from 0 to 4000, not 4 versions of 0 to 1000\n",
    "#(all_traces_df3['trace_id']*1000 + all_traces_df3['iter']).hist()\n",
    "(all_traces_df3['trace_id']*1000 + all_traces_df3['iter']).describe()[['min', 'max']]"
   ]
  },
  {
   "cell_type": "code",
   "execution_count": 37,
   "metadata": {
    "ExecuteTime": {
     "end_time": "2017-10-30T17:19:46.259050Z",
     "start_time": "2017-10-30T17:19:46.234938Z"
    },
    "collapsed": true,
    "deletable": true,
    "editable": true,
    "init_cell": true
   },
   "outputs": [],
   "source": [
    "all_traces_df3['combined_iter_number'] = (all_traces_df3['trace_id']*1000 + all_traces_df3['iter'])"
   ]
  },
  {
   "cell_type": "code",
   "execution_count": 38,
   "metadata": {
    "ExecuteTime": {
     "end_time": "2017-10-30T17:19:46.834428Z",
     "start_time": "2017-10-30T17:19:46.831427Z"
    },
    "collapsed": true,
    "deletable": true,
    "editable": true,
    "init_cell": true
   },
   "outputs": [],
   "source": [
    "assert all_traces_df3.shape[0] / 10 / 13 / 4 == 1000."
   ]
  },
  {
   "cell_type": "markdown",
   "metadata": {
    "deletable": true,
    "editable": true
   },
   "source": [
    "# Plot"
   ]
  },
  {
   "cell_type": "code",
   "execution_count": 39,
   "metadata": {
    "ExecuteTime": {
     "end_time": "2017-10-30T17:19:47.973553Z",
     "start_time": "2017-10-30T17:19:47.796059Z"
    },
    "collapsed": false,
    "deletable": true,
    "editable": true,
    "init_cell": true
   },
   "outputs": [
    {
     "data": {
      "image/png": "[encoded data removed]",
      "text/plain": [
       "<matplotlib.figure.Figure at 0x7f72239e3860>"
      ]
     },
     "metadata": {},
     "output_type": "display_data"
    }
   ],
   "source": [
    "current_palette = sns.color_palette()\n",
    "sns.palplot(current_palette)"
   ]
  },
  {
   "cell_type": "code",
   "execution_count": 40,
   "metadata": {
    "ExecuteTime": {
     "end_time": "2017-10-30T17:19:49.580807Z",
     "start_time": "2017-10-30T17:19:49.570431Z"
    },
    "collapsed": false,
    "deletable": true,
    "editable": true,
    "init_cell": true
   },
   "outputs": [
    {
     "data": {
      "text/plain": [
       "(['B_CD5',\n",
       "  'B_Memory',\n",
       "  'B_Naive',\n",
       "  'CD4_Central_Memory',\n",
       "  'CD4_Effector_Memory',\n",
       "  'CD4_Naive',\n",
       "  'CD4_Th1',\n",
       "  'CD4_Th17',\n",
       "  'CD4_Th2',\n",
       "  'CD4_Treg',\n",
       "  'CD8_Central_Memory',\n",
       "  'CD8_Effector',\n",
       "  'CD8_Naive'],\n",
       " ['B_CD5',\n",
       "  'B_Memory',\n",
       "  'B_Naive',\n",
       "  'CD4_Central_Memory',\n",
       "  'CD4_Effector_Memory',\n",
       "  'CD4_Naive',\n",
       "  'CD4_Th1',\n",
       "  'CD4_Th17',\n",
       "  'CD4_Th2',\n",
       "  'CD4_Treg',\n",
       "  'CD8_Central_Memory',\n",
       "  'CD8_Effector',\n",
       "  'CD8_Naive'])"
      ]
     },
     "execution_count": 40,
     "metadata": {},
     "output_type": "execute_result"
    }
   ],
   "source": [
    "subset_names, cib_class_names"
   ]
  },
  {
   "cell_type": "code",
   "execution_count": null,
   "metadata": {
    "ExecuteTime": {
     "start_time": "2017-10-09T21:27:13.162Z"
    },
    "collapsed": false,
    "deletable": false,
    "editable": false,
    "init_cell": true,
    "run_control": {
     "frozen": true
    }
   },
   "outputs": [],
   "source": [
    "# # Roll up by cell type\n",
    "\n",
    "rollups = {\n",
    "    'B': subset_names[:3],\n",
    "    'CD4 T': subset_names[3:10],\n",
    "    'CD8 T': subset_names[10:]\n",
    "}\n",
    "rollups = {\n",
    "    'B': [c for c in cib_class_names if c.startswith('B_')],\n",
    "    'CD4 T': [c for c in cib_class_names if c.startswith('CD4_')],\n",
    "    'CD8 T': [c for c in cib_class_names if c.startswith('CD8_')]\n",
    "}\n",
    "rollups"
   ]
  },
  {
   "cell_type": "code",
   "execution_count": 41,
   "metadata": {
    "ExecuteTime": {
     "end_time": "2017-10-30T17:19:50.818574Z",
     "start_time": "2017-10-30T17:19:50.809021Z"
    },
    "collapsed": true,
    "deletable": true,
    "editable": true,
    "init_cell": true
   },
   "outputs": [],
   "source": [
    "def label_rollup(rollups, x):\n",
    "    for key in rollups.keys():\n",
    "        if x in rollups[key]:\n",
    "            return key\n",
    "    return None"
   ]
  },
  {
   "cell_type": "code",
   "execution_count": 42,
   "metadata": {
    "ExecuteTime": {
     "end_time": "2017-10-30T17:19:52.004063Z",
     "start_time": "2017-10-30T17:19:51.554668Z"
    },
    "collapsed": false,
    "deletable": true,
    "editable": true,
    "init_cell": true
   },
   "outputs": [
    {
     "data": {
      "text/plain": [
       "CD4 T    280000\n",
       "CD8 T    120000\n",
       "B        120000\n",
       "Name: rollup, dtype: int64"
      ]
     },
     "execution_count": 42,
     "metadata": {},
     "output_type": "execute_result"
    }
   ],
   "source": [
    "all_traces_df3['rollup'] = all_traces_df3.subset_name.apply(lambda x: label_rollup(rollups, x))\n",
    "\n",
    "all_traces_df3.rollup.value_counts()"
   ]
  },
  {
   "cell_type": "code",
   "execution_count": 43,
   "metadata": {
    "ExecuteTime": {
     "end_time": "2017-10-30T17:19:52.744494Z",
     "start_time": "2017-10-30T17:19:52.525357Z"
    },
    "collapsed": false,
    "deletable": true,
    "editable": true,
    "init_cell": true
   },
   "outputs": [
    {
     "data": {
      "text/html": [
       "<div>\n",
       "<table border=\"1\" class=\"dataframe\">\n",
       "  <thead>\n",
       "    <tr style=\"text-align: right;\">\n",
       "      <th></th>\n",
       "      <th>sample_id</th>\n",
       "      <th>combined_iter_number</th>\n",
       "      <th>rollup</th>\n",
       "      <th>estimate</th>\n",
       "    </tr>\n",
       "  </thead>\n",
       "  <tbody>\n",
       "    <tr>\n",
       "      <th>0</th>\n",
       "      <td>1</td>\n",
       "      <td>0</td>\n",
       "      <td>B</td>\n",
       "      <td>0.990048</td>\n",
       "    </tr>\n",
       "    <tr>\n",
       "      <th>1</th>\n",
       "      <td>1</td>\n",
       "      <td>0</td>\n",
       "      <td>CD4 T</td>\n",
       "      <td>0.007181</td>\n",
       "    </tr>\n",
       "    <tr>\n",
       "      <th>2</th>\n",
       "      <td>1</td>\n",
       "      <td>0</td>\n",
       "      <td>CD8 T</td>\n",
       "      <td>0.002772</td>\n",
       "    </tr>\n",
       "    <tr>\n",
       "      <th>3</th>\n",
       "      <td>1</td>\n",
       "      <td>1</td>\n",
       "      <td>B</td>\n",
       "      <td>0.994178</td>\n",
       "    </tr>\n",
       "    <tr>\n",
       "      <th>4</th>\n",
       "      <td>1</td>\n",
       "      <td>1</td>\n",
       "      <td>CD4 T</td>\n",
       "      <td>0.003931</td>\n",
       "    </tr>\n",
       "  </tbody>\n",
       "</table>\n",
       "</div>"
      ],
      "text/plain": [
       "   sample_id  combined_iter_number rollup  estimate\n",
       "0          1                     0      B  0.990048\n",
       "1          1                     0  CD4 T  0.007181\n",
       "2          1                     0  CD8 T  0.002772\n",
       "3          1                     1      B  0.994178\n",
       "4          1                     1  CD4 T  0.003931"
      ]
     },
     "execution_count": 43,
     "metadata": {},
     "output_type": "execute_result"
    }
   ],
   "source": [
    "samples_rolledup = all_traces_df3.groupby(['sample_id', 'combined_iter_number', 'rollup']).estimate.sum().reset_index()\n",
    "samples_rolledup.head()"
   ]
  },
  {
   "cell_type": "code",
   "execution_count": 44,
   "metadata": {
    "ExecuteTime": {
     "end_time": "2017-10-30T17:19:53.295855Z",
     "start_time": "2017-10-30T17:19:53.246574Z"
    },
    "collapsed": false,
    "deletable": true,
    "editable": true,
    "init_cell": true
   },
   "outputs": [
    {
     "data": {
      "text/html": [
       "<div>\n",
       "<table border=\"1\" class=\"dataframe\">\n",
       "  <thead>\n",
       "    <tr style=\"text-align: right;\">\n",
       "      <th></th>\n",
       "      <th>SubSet[B_CD5]</th>\n",
       "      <th>SubSet[B_Memory]</th>\n",
       "      <th>SubSet[B_Naive]</th>\n",
       "      <th>SubSet[CD4_Central_Memory]</th>\n",
       "      <th>SubSet[CD4_Effector_Memory]</th>\n",
       "      <th>SubSet[CD4_Naive]</th>\n",
       "      <th>SubSet[CD4_Th1]</th>\n",
       "      <th>SubSet[CD4_Th17]</th>\n",
       "      <th>SubSet[CD4_Th2]</th>\n",
       "      <th>SubSet[CD4_Treg]</th>\n",
       "      <th>SubSet[CD8_Central_Memory]</th>\n",
       "      <th>SubSet[CD8_Effector]</th>\n",
       "      <th>SubSet[CD8_Naive]</th>\n",
       "      <th>mixID</th>\n",
       "    </tr>\n",
       "  </thead>\n",
       "  <tbody>\n",
       "    <tr>\n",
       "      <th>0</th>\n",
       "      <td>0.0</td>\n",
       "      <td>0.50</td>\n",
       "      <td>0.50</td>\n",
       "      <td>0.0</td>\n",
       "      <td>0.0</td>\n",
       "      <td>0.0</td>\n",
       "      <td>0.0</td>\n",
       "      <td>0.0</td>\n",
       "      <td>0.0</td>\n",
       "      <td>0.00</td>\n",
       "      <td>0.0</td>\n",
       "      <td>0.0</td>\n",
       "      <td>0.0</td>\n",
       "      <td>0</td>\n",
       "    </tr>\n",
       "    <tr>\n",
       "      <th>0</th>\n",
       "      <td>0.0</td>\n",
       "      <td>0.50</td>\n",
       "      <td>0.50</td>\n",
       "      <td>0.0</td>\n",
       "      <td>0.0</td>\n",
       "      <td>0.0</td>\n",
       "      <td>0.0</td>\n",
       "      <td>0.0</td>\n",
       "      <td>0.0</td>\n",
       "      <td>0.00</td>\n",
       "      <td>0.0</td>\n",
       "      <td>0.0</td>\n",
       "      <td>0.0</td>\n",
       "      <td>1</td>\n",
       "    </tr>\n",
       "    <tr>\n",
       "      <th>0</th>\n",
       "      <td>0.0</td>\n",
       "      <td>0.75</td>\n",
       "      <td>0.25</td>\n",
       "      <td>0.0</td>\n",
       "      <td>0.0</td>\n",
       "      <td>0.0</td>\n",
       "      <td>0.0</td>\n",
       "      <td>0.0</td>\n",
       "      <td>0.0</td>\n",
       "      <td>0.00</td>\n",
       "      <td>0.0</td>\n",
       "      <td>0.0</td>\n",
       "      <td>0.0</td>\n",
       "      <td>2</td>\n",
       "    </tr>\n",
       "    <tr>\n",
       "      <th>0</th>\n",
       "      <td>0.0</td>\n",
       "      <td>0.75</td>\n",
       "      <td>0.25</td>\n",
       "      <td>0.0</td>\n",
       "      <td>0.0</td>\n",
       "      <td>0.0</td>\n",
       "      <td>0.0</td>\n",
       "      <td>0.0</td>\n",
       "      <td>0.0</td>\n",
       "      <td>0.00</td>\n",
       "      <td>0.0</td>\n",
       "      <td>0.0</td>\n",
       "      <td>0.0</td>\n",
       "      <td>3</td>\n",
       "    </tr>\n",
       "    <tr>\n",
       "      <th>0</th>\n",
       "      <td>0.0</td>\n",
       "      <td>0.25</td>\n",
       "      <td>0.75</td>\n",
       "      <td>0.0</td>\n",
       "      <td>0.0</td>\n",
       "      <td>0.0</td>\n",
       "      <td>0.0</td>\n",
       "      <td>0.0</td>\n",
       "      <td>0.0</td>\n",
       "      <td>0.00</td>\n",
       "      <td>0.0</td>\n",
       "      <td>0.0</td>\n",
       "      <td>0.0</td>\n",
       "      <td>4</td>\n",
       "    </tr>\n",
       "    <tr>\n",
       "      <th>0</th>\n",
       "      <td>0.0</td>\n",
       "      <td>0.25</td>\n",
       "      <td>0.75</td>\n",
       "      <td>0.0</td>\n",
       "      <td>0.0</td>\n",
       "      <td>0.0</td>\n",
       "      <td>0.0</td>\n",
       "      <td>0.0</td>\n",
       "      <td>0.0</td>\n",
       "      <td>0.00</td>\n",
       "      <td>0.0</td>\n",
       "      <td>0.0</td>\n",
       "      <td>0.0</td>\n",
       "      <td>5</td>\n",
       "    </tr>\n",
       "    <tr>\n",
       "      <th>0</th>\n",
       "      <td>0.0</td>\n",
       "      <td>0.00</td>\n",
       "      <td>0.50</td>\n",
       "      <td>0.0</td>\n",
       "      <td>0.0</td>\n",
       "      <td>0.0</td>\n",
       "      <td>0.0</td>\n",
       "      <td>0.0</td>\n",
       "      <td>0.0</td>\n",
       "      <td>0.50</td>\n",
       "      <td>0.0</td>\n",
       "      <td>0.0</td>\n",
       "      <td>0.0</td>\n",
       "      <td>6</td>\n",
       "    </tr>\n",
       "    <tr>\n",
       "      <th>0</th>\n",
       "      <td>0.0</td>\n",
       "      <td>0.00</td>\n",
       "      <td>0.25</td>\n",
       "      <td>0.0</td>\n",
       "      <td>0.0</td>\n",
       "      <td>0.0</td>\n",
       "      <td>0.0</td>\n",
       "      <td>0.0</td>\n",
       "      <td>0.0</td>\n",
       "      <td>0.75</td>\n",
       "      <td>0.0</td>\n",
       "      <td>0.0</td>\n",
       "      <td>0.0</td>\n",
       "      <td>7</td>\n",
       "    </tr>\n",
       "    <tr>\n",
       "      <th>0</th>\n",
       "      <td>0.0</td>\n",
       "      <td>0.00</td>\n",
       "      <td>0.50</td>\n",
       "      <td>0.0</td>\n",
       "      <td>0.0</td>\n",
       "      <td>0.0</td>\n",
       "      <td>0.0</td>\n",
       "      <td>0.0</td>\n",
       "      <td>0.0</td>\n",
       "      <td>0.50</td>\n",
       "      <td>0.0</td>\n",
       "      <td>0.0</td>\n",
       "      <td>0.0</td>\n",
       "      <td>8</td>\n",
       "    </tr>\n",
       "    <tr>\n",
       "      <th>0</th>\n",
       "      <td>0.0</td>\n",
       "      <td>0.00</td>\n",
       "      <td>0.25</td>\n",
       "      <td>0.0</td>\n",
       "      <td>0.0</td>\n",
       "      <td>0.0</td>\n",
       "      <td>0.0</td>\n",
       "      <td>0.0</td>\n",
       "      <td>0.0</td>\n",
       "      <td>0.75</td>\n",
       "      <td>0.0</td>\n",
       "      <td>0.0</td>\n",
       "      <td>0.0</td>\n",
       "      <td>9</td>\n",
       "    </tr>\n",
       "  </tbody>\n",
       "</table>\n",
       "</div>"
      ],
      "text/plain": [
       "   SubSet[B_CD5]  SubSet[B_Memory]  SubSet[B_Naive]  \\\n",
       "0            0.0              0.50             0.50   \n",
       "0            0.0              0.50             0.50   \n",
       "0            0.0              0.75             0.25   \n",
       "0            0.0              0.75             0.25   \n",
       "0            0.0              0.25             0.75   \n",
       "0            0.0              0.25             0.75   \n",
       "0            0.0              0.00             0.50   \n",
       "0            0.0              0.00             0.25   \n",
       "0            0.0              0.00             0.50   \n",
       "0            0.0              0.00             0.25   \n",
       "\n",
       "   SubSet[CD4_Central_Memory]  SubSet[CD4_Effector_Memory]  SubSet[CD4_Naive]  \\\n",
       "0                         0.0                          0.0                0.0   \n",
       "0                         0.0                          0.0                0.0   \n",
       "0                         0.0                          0.0                0.0   \n",
       "0                         0.0                          0.0                0.0   \n",
       "0                         0.0                          0.0                0.0   \n",
       "0                         0.0                          0.0                0.0   \n",
       "0                         0.0                          0.0                0.0   \n",
       "0                         0.0                          0.0                0.0   \n",
       "0                         0.0                          0.0                0.0   \n",
       "0                         0.0                          0.0                0.0   \n",
       "\n",
       "   SubSet[CD4_Th1]  SubSet[CD4_Th17]  SubSet[CD4_Th2]  SubSet[CD4_Treg]  \\\n",
       "0              0.0               0.0              0.0              0.00   \n",
       "0              0.0               0.0              0.0              0.00   \n",
       "0              0.0               0.0              0.0              0.00   \n",
       "0              0.0               0.0              0.0              0.00   \n",
       "0              0.0               0.0              0.0              0.00   \n",
       "0              0.0               0.0              0.0              0.00   \n",
       "0              0.0               0.0              0.0              0.50   \n",
       "0              0.0               0.0              0.0              0.75   \n",
       "0              0.0               0.0              0.0              0.50   \n",
       "0              0.0               0.0              0.0              0.75   \n",
       "\n",
       "   SubSet[CD8_Central_Memory]  SubSet[CD8_Effector]  SubSet[CD8_Naive]  mixID  \n",
       "0                         0.0                   0.0                0.0      0  \n",
       "0                         0.0                   0.0                0.0      1  \n",
       "0                         0.0                   0.0                0.0      2  \n",
       "0                         0.0                   0.0                0.0      3  \n",
       "0                         0.0                   0.0                0.0      4  \n",
       "0                         0.0                   0.0                0.0      5  \n",
       "0                         0.0                   0.0                0.0      6  \n",
       "0                         0.0                   0.0                0.0      7  \n",
       "0                         0.0                   0.0                0.0      8  \n",
       "0                         0.0                   0.0                0.0      9  "
      ]
     },
     "execution_count": 44,
     "metadata": {},
     "output_type": "execute_result"
    }
   ],
   "source": [
    "# now roll up ground truth: sum the subset fractions for every sample into B, CD8 T, CD4 groups:\n",
    "\n",
    "groundtruth_df = stan_data['x2'].copy()\n",
    "groundtruth_df['mixID'] = range(len(groundtruth_df))\n",
    "groundtruth_df"
   ]
  },
  {
   "cell_type": "code",
   "execution_count": 45,
   "metadata": {
    "ExecuteTime": {
     "end_time": "2017-10-30T17:19:53.963140Z",
     "start_time": "2017-10-30T17:19:53.942785Z"
    },
    "collapsed": false,
    "deletable": true,
    "editable": true,
    "init_cell": true
   },
   "outputs": [
    {
     "name": "stdout",
     "output_type": "stream",
     "text": [
      "(130, 3)\n"
     ]
    },
    {
     "data": {
      "text/html": [
       "<div>\n",
       "<table border=\"1\" class=\"dataframe\">\n",
       "  <thead>\n",
       "    <tr style=\"text-align: right;\">\n",
       "      <th></th>\n",
       "      <th>mixID</th>\n",
       "      <th>subset</th>\n",
       "      <th>estimate</th>\n",
       "      <th>rollup</th>\n",
       "    </tr>\n",
       "  </thead>\n",
       "  <tbody>\n",
       "    <tr>\n",
       "      <th>0</th>\n",
       "      <td>0</td>\n",
       "      <td>B_CD5</td>\n",
       "      <td>0.0</td>\n",
       "      <td>B</td>\n",
       "    </tr>\n",
       "    <tr>\n",
       "      <th>1</th>\n",
       "      <td>1</td>\n",
       "      <td>B_CD5</td>\n",
       "      <td>0.0</td>\n",
       "      <td>B</td>\n",
       "    </tr>\n",
       "    <tr>\n",
       "      <th>2</th>\n",
       "      <td>2</td>\n",
       "      <td>B_CD5</td>\n",
       "      <td>0.0</td>\n",
       "      <td>B</td>\n",
       "    </tr>\n",
       "    <tr>\n",
       "      <th>3</th>\n",
       "      <td>3</td>\n",
       "      <td>B_CD5</td>\n",
       "      <td>0.0</td>\n",
       "      <td>B</td>\n",
       "    </tr>\n",
       "    <tr>\n",
       "      <th>4</th>\n",
       "      <td>4</td>\n",
       "      <td>B_CD5</td>\n",
       "      <td>0.0</td>\n",
       "      <td>B</td>\n",
       "    </tr>\n",
       "  </tbody>\n",
       "</table>\n",
       "</div>"
      ],
      "text/plain": [
       "   mixID subset  estimate rollup\n",
       "0      0  B_CD5       0.0      B\n",
       "1      1  B_CD5       0.0      B\n",
       "2      2  B_CD5       0.0      B\n",
       "3      3  B_CD5       0.0      B\n",
       "4      4  B_CD5       0.0      B"
      ]
     },
     "execution_count": 45,
     "metadata": {},
     "output_type": "execute_result"
    }
   ],
   "source": [
    "groundtruth_df_2 = pd.melt(groundtruth_df, id_vars=['mixID'], var_name='subset', value_name='estimate')\n",
    "print(groundtruth_df_2.shape)\n",
    "groundtruth_df_2['subset'] = groundtruth_df_2['subset'].apply(lambda x: re.sub(string=x, pattern='(.*)\\[(.*)\\]', repl='\\\\2'))\n",
    "groundtruth_df_2['rollup'] = groundtruth_df_2.subset.apply(lambda x: label_rollup(rollups, x))\n",
    "groundtruth_df_2.head()"
   ]
  },
  {
   "cell_type": "code",
   "execution_count": 46,
   "metadata": {
    "ExecuteTime": {
     "end_time": "2017-10-30T17:19:54.599856Z",
     "start_time": "2017-10-30T17:19:54.568860Z"
    },
    "collapsed": false,
    "deletable": true,
    "editable": true,
    "init_cell": true
   },
   "outputs": [
    {
     "data": {
      "text/html": [
       "<div>\n",
       "<table border=\"1\" class=\"dataframe\">\n",
       "  <thead>\n",
       "    <tr style=\"text-align: right;\">\n",
       "      <th></th>\n",
       "      <th>mixID</th>\n",
       "      <th>rollup</th>\n",
       "      <th>estimate</th>\n",
       "    </tr>\n",
       "  </thead>\n",
       "  <tbody>\n",
       "    <tr>\n",
       "      <th>0</th>\n",
       "      <td>0</td>\n",
       "      <td>B</td>\n",
       "      <td>1.0</td>\n",
       "    </tr>\n",
       "    <tr>\n",
       "      <th>1</th>\n",
       "      <td>0</td>\n",
       "      <td>CD4 T</td>\n",
       "      <td>0.0</td>\n",
       "    </tr>\n",
       "    <tr>\n",
       "      <th>2</th>\n",
       "      <td>0</td>\n",
       "      <td>CD8 T</td>\n",
       "      <td>0.0</td>\n",
       "    </tr>\n",
       "    <tr>\n",
       "      <th>3</th>\n",
       "      <td>1</td>\n",
       "      <td>B</td>\n",
       "      <td>1.0</td>\n",
       "    </tr>\n",
       "    <tr>\n",
       "      <th>4</th>\n",
       "      <td>1</td>\n",
       "      <td>CD4 T</td>\n",
       "      <td>0.0</td>\n",
       "    </tr>\n",
       "  </tbody>\n",
       "</table>\n",
       "</div>"
      ],
      "text/plain": [
       "   mixID rollup  estimate\n",
       "0      0      B       1.0\n",
       "1      0  CD4 T       0.0\n",
       "2      0  CD8 T       0.0\n",
       "3      1      B       1.0\n",
       "4      1  CD4 T       0.0"
      ]
     },
     "execution_count": 46,
     "metadata": {},
     "output_type": "execute_result"
    }
   ],
   "source": [
    "rollup_groundtruth = groundtruth_df_2.groupby(['mixID', 'rollup']).estimate.sum().reset_index()\n",
    "rollup_groundtruth.head()"
   ]
  },
  {
   "cell_type": "code",
   "execution_count": 47,
   "metadata": {
    "ExecuteTime": {
     "end_time": "2017-10-30T17:19:55.295618Z",
     "start_time": "2017-10-30T17:19:55.277335Z"
    },
    "collapsed": false,
    "deletable": true,
    "editable": true
   },
   "outputs": [
    {
     "data": {
      "text/html": [
       "<div>\n",
       "<table border=\"1\" class=\"dataframe\">\n",
       "  <thead>\n",
       "    <tr style=\"text-align: right;\">\n",
       "      <th></th>\n",
       "      <th>B</th>\n",
       "      <th>CD4 T</th>\n",
       "      <th>CD8 T</th>\n",
       "    </tr>\n",
       "  </thead>\n",
       "  <tbody>\n",
       "    <tr>\n",
       "      <th>0</th>\n",
       "      <td>0.733192</td>\n",
       "      <td>0.156393</td>\n",
       "      <td>0.110415</td>\n",
       "    </tr>\n",
       "    <tr>\n",
       "      <th>1</th>\n",
       "      <td>0.873172</td>\n",
       "      <td>0.104869</td>\n",
       "      <td>0.021959</td>\n",
       "    </tr>\n",
       "    <tr>\n",
       "      <th>2</th>\n",
       "      <td>0.742666</td>\n",
       "      <td>0.171586</td>\n",
       "      <td>0.085748</td>\n",
       "    </tr>\n",
       "    <tr>\n",
       "      <th>3</th>\n",
       "      <td>0.831617</td>\n",
       "      <td>0.139056</td>\n",
       "      <td>0.029327</td>\n",
       "    </tr>\n",
       "    <tr>\n",
       "      <th>4</th>\n",
       "      <td>0.756919</td>\n",
       "      <td>0.086678</td>\n",
       "      <td>0.156404</td>\n",
       "    </tr>\n",
       "  </tbody>\n",
       "</table>\n",
       "</div>"
      ],
      "text/plain": [
       "          B     CD4 T     CD8 T\n",
       "0  0.733192  0.156393  0.110415\n",
       "1  0.873172  0.104869  0.021959\n",
       "2  0.742666  0.171586  0.085748\n",
       "3  0.831617  0.139056  0.029327\n",
       "4  0.756919  0.086678  0.156404"
      ]
     },
     "execution_count": 47,
     "metadata": {},
     "output_type": "execute_result"
    }
   ],
   "source": [
    "# cibersort results\n",
    "rollupsums_df.head()"
   ]
  },
  {
   "cell_type": "code",
   "execution_count": 48,
   "metadata": {
    "ExecuteTime": {
     "end_time": "2017-10-30T17:19:58.537053Z",
     "start_time": "2017-10-30T17:19:58.095185Z"
    },
    "collapsed": false,
    "deletable": true,
    "editable": true
   },
   "outputs": [
    {
     "data": {
      "text/plain": [
       "Index(['B CD5', 'B Memory', 'B Naive', 'CD4 Central Memory',\n",
       "       'CD4 Effector Memory', 'CD4 Naive', 'CD4 Th1', 'CD4 Th17', 'CD4 Th2',\n",
       "       'CD4 Treg', 'CD8 Central Memory', 'CD8 Effector', 'CD8 Naive'],\n",
       "      dtype='object')"
      ]
     },
     "execution_count": 48,
     "metadata": {},
     "output_type": "execute_result"
    }
   ],
   "source": [
    "cleaner_traces = all_traces_df3.copy()\n",
    "cleaner_traces['subset_name'] = cleaner_traces['subset_name'].str.replace(\n",
    "    '_', ' ')\n",
    "cleaner_traces['subset_name'].value_counts()\n",
    "\n",
    "cleaner_gt = stan_data['x2'].rename(\n",
    "    columns=\n",
    "    lambda x: x.replace('_', ' ').replace('SubSet[', '').replace(']', ''))\n",
    "cleaner_gt.columns"
   ]
  },
  {
   "cell_type": "code",
   "execution_count": 49,
   "metadata": {
    "ExecuteTime": {
     "end_time": "2017-10-30T17:19:59.108174Z",
     "start_time": "2017-10-30T17:19:59.091962Z"
    },
    "collapsed": false,
    "deletable": true,
    "editable": true
   },
   "outputs": [
    {
     "data": {
      "text/html": [
       "<div>\n",
       "<table border=\"1\" class=\"dataframe\">\n",
       "  <thead>\n",
       "    <tr style=\"text-align: right;\">\n",
       "      <th></th>\n",
       "      <th>iter</th>\n",
       "      <th>trace_id</th>\n",
       "      <th>variable</th>\n",
       "      <th>estimate</th>\n",
       "      <th>sample_id</th>\n",
       "      <th>subset_id</th>\n",
       "      <th>subset_name</th>\n",
       "      <th>combined_iter_number</th>\n",
       "      <th>rollup</th>\n",
       "    </tr>\n",
       "  </thead>\n",
       "  <tbody>\n",
       "    <tr>\n",
       "      <th>1000</th>\n",
       "      <td>0</td>\n",
       "      <td>0</td>\n",
       "      <td>sample2_x.1.1</td>\n",
       "      <td>0.986074</td>\n",
       "      <td>1</td>\n",
       "      <td>1</td>\n",
       "      <td>B CD5</td>\n",
       "      <td>0</td>\n",
       "      <td>B</td>\n",
       "    </tr>\n",
       "    <tr>\n",
       "      <th>1001</th>\n",
       "      <td>1</td>\n",
       "      <td>0</td>\n",
       "      <td>sample2_x.1.1</td>\n",
       "      <td>0.978918</td>\n",
       "      <td>1</td>\n",
       "      <td>1</td>\n",
       "      <td>B CD5</td>\n",
       "      <td>1</td>\n",
       "      <td>B</td>\n",
       "    </tr>\n",
       "    <tr>\n",
       "      <th>1002</th>\n",
       "      <td>2</td>\n",
       "      <td>0</td>\n",
       "      <td>sample2_x.1.1</td>\n",
       "      <td>0.988595</td>\n",
       "      <td>1</td>\n",
       "      <td>1</td>\n",
       "      <td>B CD5</td>\n",
       "      <td>2</td>\n",
       "      <td>B</td>\n",
       "    </tr>\n",
       "    <tr>\n",
       "      <th>1003</th>\n",
       "      <td>3</td>\n",
       "      <td>0</td>\n",
       "      <td>sample2_x.1.1</td>\n",
       "      <td>0.983390</td>\n",
       "      <td>1</td>\n",
       "      <td>1</td>\n",
       "      <td>B CD5</td>\n",
       "      <td>3</td>\n",
       "      <td>B</td>\n",
       "    </tr>\n",
       "    <tr>\n",
       "      <th>1004</th>\n",
       "      <td>4</td>\n",
       "      <td>0</td>\n",
       "      <td>sample2_x.1.1</td>\n",
       "      <td>0.982799</td>\n",
       "      <td>1</td>\n",
       "      <td>1</td>\n",
       "      <td>B CD5</td>\n",
       "      <td>4</td>\n",
       "      <td>B</td>\n",
       "    </tr>\n",
       "  </tbody>\n",
       "</table>\n",
       "</div>"
      ],
      "text/plain": [
       "      iter  trace_id       variable  estimate  sample_id  subset_id  \\\n",
       "1000     0         0  sample2_x.1.1  0.986074          1          1   \n",
       "1001     1         0  sample2_x.1.1  0.978918          1          1   \n",
       "1002     2         0  sample2_x.1.1  0.988595          1          1   \n",
       "1003     3         0  sample2_x.1.1  0.983390          1          1   \n",
       "1004     4         0  sample2_x.1.1  0.982799          1          1   \n",
       "\n",
       "     subset_name  combined_iter_number rollup  \n",
       "1000       B CD5                     0      B  \n",
       "1001       B CD5                     1      B  \n",
       "1002       B CD5                     2      B  \n",
       "1003       B CD5                     3      B  \n",
       "1004       B CD5                     4      B  "
      ]
     },
     "execution_count": 49,
     "metadata": {},
     "output_type": "execute_result"
    }
   ],
   "source": [
    "cleaner_traces.head()"
   ]
  },
  {
   "cell_type": "code",
   "execution_count": 50,
   "metadata": {
    "ExecuteTime": {
     "end_time": "2017-10-30T17:19:59.667657Z",
     "start_time": "2017-10-30T17:19:59.656764Z"
    },
    "collapsed": false,
    "deletable": true,
    "editable": true
   },
   "outputs": [
    {
     "data": {
      "text/html": [
       "<div>\n",
       "<table border=\"1\" class=\"dataframe\">\n",
       "  <thead>\n",
       "    <tr style=\"text-align: right;\">\n",
       "      <th></th>\n",
       "      <th>sample_id</th>\n",
       "      <th>combined_iter_number</th>\n",
       "      <th>rollup</th>\n",
       "      <th>estimate</th>\n",
       "    </tr>\n",
       "  </thead>\n",
       "  <tbody>\n",
       "    <tr>\n",
       "      <th>0</th>\n",
       "      <td>1</td>\n",
       "      <td>0</td>\n",
       "      <td>B</td>\n",
       "      <td>0.990048</td>\n",
       "    </tr>\n",
       "    <tr>\n",
       "      <th>1</th>\n",
       "      <td>1</td>\n",
       "      <td>0</td>\n",
       "      <td>CD4 T</td>\n",
       "      <td>0.007181</td>\n",
       "    </tr>\n",
       "    <tr>\n",
       "      <th>2</th>\n",
       "      <td>1</td>\n",
       "      <td>0</td>\n",
       "      <td>CD8 T</td>\n",
       "      <td>0.002772</td>\n",
       "    </tr>\n",
       "    <tr>\n",
       "      <th>3</th>\n",
       "      <td>1</td>\n",
       "      <td>1</td>\n",
       "      <td>B</td>\n",
       "      <td>0.994178</td>\n",
       "    </tr>\n",
       "    <tr>\n",
       "      <th>4</th>\n",
       "      <td>1</td>\n",
       "      <td>1</td>\n",
       "      <td>CD4 T</td>\n",
       "      <td>0.003931</td>\n",
       "    </tr>\n",
       "  </tbody>\n",
       "</table>\n",
       "</div>"
      ],
      "text/plain": [
       "   sample_id  combined_iter_number rollup  estimate\n",
       "0          1                     0      B  0.990048\n",
       "1          1                     0  CD4 T  0.007181\n",
       "2          1                     0  CD8 T  0.002772\n",
       "3          1                     1      B  0.994178\n",
       "4          1                     1  CD4 T  0.003931"
      ]
     },
     "execution_count": 50,
     "metadata": {},
     "output_type": "execute_result"
    }
   ],
   "source": [
    "samples_rolledup.head()"
   ]
  },
  {
   "cell_type": "code",
   "execution_count": 51,
   "metadata": {
    "ExecuteTime": {
     "end_time": "2017-10-30T17:20:01.501103Z",
     "start_time": "2017-10-30T17:20:01.082531Z"
    },
    "collapsed": false,
    "deletable": true,
    "editable": true
   },
   "outputs": [
    {
     "data": {
      "text/plain": [
       "subset    520000\n",
       "rollup    120000\n",
       "Name: type, dtype: int64"
      ]
     },
     "execution_count": 51,
     "metadata": {},
     "output_type": "execute_result"
    }
   ],
   "source": [
    "merged_samples_1 = cleaner_traces[['sample_id', 'combined_iter_number', 'subset_name', 'estimate']].copy()\n",
    "merged_samples_1['type'] = 'subset'\n",
    "merged_samples_2 = samples_rolledup.copy()\n",
    "merged_samples_2.columns = [c.replace('rollup', 'subset_name') for c in merged_samples_2.columns]\n",
    "merged_samples_2['type'] = 'rollup'\n",
    "merged_samples = pd.concat([merged_samples_1, merged_samples_2])\n",
    "merged_samples.type.value_counts()"
   ]
  },
  {
   "cell_type": "code",
   "execution_count": 52,
   "metadata": {
    "ExecuteTime": {
     "end_time": "2017-10-30T17:20:02.087718Z",
     "start_time": "2017-10-30T17:20:02.084494Z"
    },
    "collapsed": true,
    "deletable": true,
    "editable": true
   },
   "outputs": [],
   "source": [
    "#sns.set_context('paper')\n",
    "sns.set_style(\"darkgrid\")"
   ]
  },
  {
   "cell_type": "code",
   "execution_count": 53,
   "metadata": {
    "ExecuteTime": {
     "end_time": "2017-10-30T17:20:02.672996Z",
     "start_time": "2017-10-30T17:20:02.668974Z"
    },
    "collapsed": true,
    "deletable": true,
    "editable": true
   },
   "outputs": [],
   "source": [
    "def extract_values_for_mixture_by_id(key):\n",
    "    \"\"\"\n",
    "    key: 1-indexed, meaning mixture 1 to mixture 10\n",
    "    \n",
    "    based on:\n",
    "    for (key, grp), \\\n",
    "            (_, groundtruth_base), \\\n",
    "            friendly_title, \\\n",
    "            (_, cib_vals_base), \\\n",
    "            (mixID_rolledup, groundtruth_rolledup), \\\n",
    "            (_, cib_vals_rolledup) in zip(merged_samples.groupby('sample_id'),\n",
    "                                          cleaner_gt.iterrows(),\n",
    "                                          #friendly_mixture_descriptions2,\n",
    "                                          friendly_mixture_descriptions,\n",
    "                                          example_result[cib_class_names].iterrows(),\n",
    "                                          rollup_groundtruth.groupby('mixID'),\n",
    "                                          rollupsums_df.iterrows()\n",
    "    \"\"\"\n",
    "    grp = merged_samples[merged_samples['sample_id'] == key]\n",
    "    groundtruth_base = cleaner_gt.iloc[key-1]\n",
    "    cib_vals_base = example_result[cib_class_names].iloc[key-1]\n",
    "    groundtruth_rolledup = rollup_groundtruth[rollup_groundtruth['mixID'] == key-1]\n",
    "    cib_vals_rolledup = rollupsums_df.iloc[key-1]\n",
    "    \n",
    "    return (key, grp, groundtruth_base, cib_vals_base, groundtruth_rolledup, cib_vals_rolledup)"
   ]
  },
  {
   "cell_type": "code",
   "execution_count": 54,
   "metadata": {
    "ExecuteTime": {
     "end_time": "2017-10-30T17:20:04.279300Z",
     "start_time": "2017-10-30T17:20:04.095739Z"
    },
    "collapsed": true,
    "deletable": true,
    "editable": true
   },
   "outputs": [],
   "source": [
    "def plot_single_mixture_results(mixture_info, friendly_title):\n",
    "    #flatui = [\"#9b59b6\", \"#3498db\", \"#95a5a6\", \"#e74c3c\", \"#34495e\", \"#2ecc71\"] # http://seaborn.pydata.org/tutorial/color_palettes.html\n",
    "    #sns.palplot(flatui)\n",
    "    paired_colors = sns.color_palette(\"Paired_r\", 12)\n",
    "    #sns.palplot(paired_colors)\n",
    "    \n",
    "    (key, grp, groundtruth_base, cib_vals_base, groundtruth_rolledup, cib_vals_rolledup) = mixture_info\n",
    "\n",
    "    with sns.plotting_context('paper'):\n",
    "        f, ax = plt.subplots( figsize=(12,8))\n",
    "        g = sns.boxplot(data = grp,\n",
    "                       y='subset_name',\n",
    "                       x='estimate',\n",
    "                       ax=ax,\n",
    "                       hue='type',\n",
    "                       order=col_order,\n",
    "                        # some additional parameters that we think may help:\n",
    "                        saturation=1,\n",
    "                        linewidth=1, # not sure about this one\n",
    "                        dodge=False, # avoid hue nesting\n",
    "                       #palette=[flatui[0], flatui[1]]\n",
    "                        palette=paired_colors[0:2]\n",
    "                       )\n",
    "        g.set_title(friendly_title) \n",
    "\n",
    "        # ground truth\n",
    "        gt1 = pd.DataFrame(groundtruth_base).reset_index()\n",
    "        gt1.columns = ['rollup', 'estimate']\n",
    "        gt1['type'] = 'subset'\n",
    "        gt2 = groundtruth_rolledup[['rollup', 'estimate']].copy()\n",
    "        gt2['type'] = 'rollup'\n",
    "        gt = pd.concat([gt1, gt2])\n",
    "\n",
    "        sns.stripplot(\n",
    "            x=\"estimate\",\n",
    "            y=\"rollup\",\n",
    "            data=gt,\n",
    "            hue='type',\n",
    "            order=col_order,\n",
    "            linewidth=0,\n",
    "            size=15,\n",
    "            alpha=.9,\n",
    "            marker=(5, 1),\n",
    "            #palette=[flatui[5], flatui[3]],\n",
    "            palette=paired_colors[2:4],\n",
    "            zorder=5,\n",
    "            jitter=False,\n",
    "            label='Ground Truth' # https://github.com/mwaskom/seaborn/issues/940 -- without this line, the stars aren't shown in legend entries made by \"hue\" param; instead you get a ton of dupe Ground Truth star labels\n",
    "        )\n",
    "\n",
    "        # add cibersort points\n",
    "        cb_base = pd.DataFrame(cib_vals_base).reset_index()\n",
    "        cb_base.columns = ['SubSet', 'estimate']\n",
    "        cb_base['type'] = 'subset'\n",
    "\n",
    "        cb_rolledup = pd.DataFrame(cib_vals_rolledup).reset_index()\n",
    "        cb_rolledup.columns = ['SubSet', 'estimate']\n",
    "        cb_rolledup['type'] = 'rollup'\n",
    "\n",
    "        cb = pd.concat([cb_base, cb_rolledup])\n",
    "        cb.SubSet = cb.SubSet.str.replace('_', ' ') # normalize names\n",
    "\n",
    "        sns.stripplot(\n",
    "            x=\"estimate\",\n",
    "            y=\"SubSet\",\n",
    "            data=cb,\n",
    "            hue='type',\n",
    "            order=col_order,\n",
    "            linewidth=0,\n",
    "            size=15,\n",
    "            alpha=.9,\n",
    "            marker=(3, 0),\n",
    "            #palette=[flatui[2], flatui[4]],\n",
    "            palette=paired_colors[4:6],\n",
    "            zorder=6,\n",
    "            jitter=False,\n",
    "            label='Cibersort' # see above again re this label parameter\n",
    "        )\n",
    "\n",
    "        g.set_xlabel('Mixture proportion')\n",
    "        g.set_ylabel('Cell type')\n",
    "        g.set_xbound(0, 1)\n",
    "\n",
    "        # show legend, and subselect because stripplot adds one legend item per point it appears\n",
    "        handles, labels = ax.get_legend_handles_labels()\n",
    "        \"\"\"\n",
    "        want legend items:\n",
    "        * infino samples: items 0, 1\n",
    "        * ground truth stars: items 2, 3\n",
    "        * cibersort triangles: items 2+len(col_order)+2, 2+len(col_order)+2+1\n",
    "        \"\"\"\n",
    "        chosen_idx = [1,0, 2,3, 2+len(col_order)+2, 2+len(col_order)+2+1]\n",
    "        chosen_handles = [handles[i] for i in chosen_idx]\n",
    "        #chosen_labels = [labels[i] for i in chosen_idx]\n",
    "        chosen_labels = ['Infino (sums)', 'Infino', 'Ground Truth (sums)', 'Ground Truth', 'Cibersort (sums)', 'Cibersort']\n",
    "        legend = ax.legend(\n",
    "            chosen_handles,\n",
    "            chosen_labels,\n",
    "            loc='lower right',\n",
    "            frameon=True)\n",
    "        frame = legend.get_frame()\n",
    "        frame.set_edgecolor('red')\n",
    "        frame.set_facecolor('white')\n",
    "\n",
    "        # shade background\n",
    "        #fill1 = plt.axhspan('B', 'CD4 T', facecolor='0.5', alpha=0.5)\n",
    "        fill1 = plt.axhspan(-0.5, 3.5, facecolor='0.8', alpha=0.3)\n",
    "        fill3 = plt.axhspan(11.5, 15.5, facecolor='0.8', alpha=0.3)\n",
    "\n",
    "        # improve label format\n",
    "        # https://stackoverflow.com/a/34426167/130164\n",
    "        for label in ax.get_yticklabels():\n",
    "            if label.get_text() in rollups.keys():\n",
    "                label.set_size(15)\n",
    "                label.set_backgroundcolor(\"yellow\")\n",
    "                label.set_weight(\"bold\")\n",
    "                label.set_color(\"red\")\n",
    "            else:\n",
    "                label.set_fontstyle(\"italic\")\n",
    "                label.set_weight(\"bold\")\n",
    "\n",
    "\n",
    "        return f,ax\n",
    "        "
   ]
  },
  {
   "cell_type": "code",
   "execution_count": 55,
   "metadata": {
    "ExecuteTime": {
     "end_time": "2017-10-30T17:20:10.719877Z",
     "start_time": "2017-10-30T17:20:05.292449Z"
    },
    "collapsed": false,
    "deletable": true,
    "editable": true
   },
   "outputs": [
    {
     "data": {
      "image/png": "[encoded data removed]",
      "text/plain": [
       "<matplotlib.figure.Figure at 0x7f721444af60>"
      ]
     },
     "metadata": {},
     "output_type": "display_data"
    }
   ],
   "source": [
    "f,ax = plot_single_mixture_results(extract_values_for_mixture_by_id(7),\n",
    "                                   'Simple mixture: 50% naive B cell, 50% CD4+ Treg cell samples.')\n",
    "savefig(f, PLOT_DIR+'fig1b.png', dpi=300)\n",
    "savefig(f, PLOT_DIR+'fig1b.pdf', dpi=300)"
   ]
  },
  {
   "cell_type": "code",
   "execution_count": 56,
   "metadata": {
    "ExecuteTime": {
     "end_time": "2017-10-30T17:20:17.090730Z",
     "start_time": "2017-10-30T17:20:11.447160Z"
    },
    "collapsed": false,
    "deletable": true,
    "editable": true
   },
   "outputs": [
    {
     "data": {
      "image/png": "[encoded data removed]",
      "text/plain": [
       "<matplotlib.figure.Figure at 0x7f721411b8d0>"
      ]
     },
     "metadata": {},
     "output_type": "display_data"
    }
   ],
   "source": [
    "f,ax = plot_single_mixture_results(extract_values_for_mixture_by_id(2),\n",
    "                                   'Complex mixture: 50% naive, 50% memory B cell samples.')\n",
    "savefig(f, PLOT_DIR+'fig1c.png', dpi=300)\n",
    "savefig(f, PLOT_DIR+'fig1c.pdf', dpi=300)"
   ]
  },
  {
   "cell_type": "code",
   "execution_count": 57,
   "metadata": {
    "ExecuteTime": {
     "end_time": "2017-10-30T17:20:22.837474Z",
     "start_time": "2017-10-30T17:20:17.671986Z"
    },
    "collapsed": false,
    "deletable": true,
    "editable": true
   },
   "outputs": [
    {
     "data": {
      "image/png": "[encoded data removed]",
      "text/plain": [
       "<matplotlib.figure.Figure at 0x7f7213d5afd0>"
      ]
     },
     "metadata": {},
     "output_type": "display_data"
    }
   ],
   "source": [
    "f,ax = plot_single_mixture_results(extract_values_for_mixture_by_id(10),\n",
    "                                   'CD4 Tregs underestimated in mixture of 25% Naive B cell, 75% CD4 Treg cell samples.')\n",
    "savefig(f, PLOT_DIR+'fig1e.png', dpi=300)\n",
    "savefig(f, PLOT_DIR+'fig1e.pdf', dpi=300)"
   ]
  },
  {
   "cell_type": "markdown",
   "metadata": {
    "deletable": true,
    "editable": true
   },
   "source": [
    "# Traceplots and correlation matrix"
   ]
  },
  {
   "cell_type": "code",
   "execution_count": 58,
   "metadata": {
    "ExecuteTime": {
     "end_time": "2017-10-30T17:20:39.716700Z",
     "start_time": "2017-10-30T17:20:39.671626Z"
    },
    "collapsed": false,
    "deletable": true,
    "editable": true
   },
   "outputs": [
    {
     "data": {
      "text/html": [
       "<div>\n",
       "<table border=\"1\" class=\"dataframe\">\n",
       "  <thead>\n",
       "    <tr style=\"text-align: right;\">\n",
       "      <th></th>\n",
       "      <th>iter</th>\n",
       "      <th>trace_id</th>\n",
       "      <th>variable</th>\n",
       "      <th>estimate</th>\n",
       "      <th>sample_id</th>\n",
       "      <th>subset_id</th>\n",
       "      <th>subset_name</th>\n",
       "      <th>combined_iter_number</th>\n",
       "      <th>rollup</th>\n",
       "    </tr>\n",
       "  </thead>\n",
       "  <tbody>\n",
       "    <tr>\n",
       "      <th>1000</th>\n",
       "      <td>0</td>\n",
       "      <td>0</td>\n",
       "      <td>sample2_x.1.1</td>\n",
       "      <td>0.986074</td>\n",
       "      <td>1</td>\n",
       "      <td>1</td>\n",
       "      <td>B_CD5</td>\n",
       "      <td>0</td>\n",
       "      <td>B</td>\n",
       "    </tr>\n",
       "    <tr>\n",
       "      <th>1001</th>\n",
       "      <td>1</td>\n",
       "      <td>0</td>\n",
       "      <td>sample2_x.1.1</td>\n",
       "      <td>0.978918</td>\n",
       "      <td>1</td>\n",
       "      <td>1</td>\n",
       "      <td>B_CD5</td>\n",
       "      <td>1</td>\n",
       "      <td>B</td>\n",
       "    </tr>\n",
       "    <tr>\n",
       "      <th>1002</th>\n",
       "      <td>2</td>\n",
       "      <td>0</td>\n",
       "      <td>sample2_x.1.1</td>\n",
       "      <td>0.988595</td>\n",
       "      <td>1</td>\n",
       "      <td>1</td>\n",
       "      <td>B_CD5</td>\n",
       "      <td>2</td>\n",
       "      <td>B</td>\n",
       "    </tr>\n",
       "    <tr>\n",
       "      <th>1003</th>\n",
       "      <td>3</td>\n",
       "      <td>0</td>\n",
       "      <td>sample2_x.1.1</td>\n",
       "      <td>0.983390</td>\n",
       "      <td>1</td>\n",
       "      <td>1</td>\n",
       "      <td>B_CD5</td>\n",
       "      <td>3</td>\n",
       "      <td>B</td>\n",
       "    </tr>\n",
       "    <tr>\n",
       "      <th>1004</th>\n",
       "      <td>4</td>\n",
       "      <td>0</td>\n",
       "      <td>sample2_x.1.1</td>\n",
       "      <td>0.982799</td>\n",
       "      <td>1</td>\n",
       "      <td>1</td>\n",
       "      <td>B_CD5</td>\n",
       "      <td>4</td>\n",
       "      <td>B</td>\n",
       "    </tr>\n",
       "  </tbody>\n",
       "</table>\n",
       "</div>"
      ],
      "text/plain": [
       "      iter  trace_id       variable  estimate  sample_id  subset_id  \\\n",
       "1000     0         0  sample2_x.1.1  0.986074          1          1   \n",
       "1001     1         0  sample2_x.1.1  0.978918          1          1   \n",
       "1002     2         0  sample2_x.1.1  0.988595          1          1   \n",
       "1003     3         0  sample2_x.1.1  0.983390          1          1   \n",
       "1004     4         0  sample2_x.1.1  0.982799          1          1   \n",
       "\n",
       "     subset_name  combined_iter_number rollup  \n",
       "1000       B_CD5                     0      B  \n",
       "1001       B_CD5                     1      B  \n",
       "1002       B_CD5                     2      B  \n",
       "1003       B_CD5                     3      B  \n",
       "1004       B_CD5                     4      B  "
      ]
     },
     "execution_count": 58,
     "metadata": {},
     "output_type": "execute_result"
    }
   ],
   "source": [
    "# # traceplots\n",
    "\n",
    "# see https://github.com/stan-dev/pystan/blob/develop/pystan/plots.py\n",
    "# see https://github.com/stan-dev/pystan/blob/develop/pystan/stanfit4model.pyx#L487\n",
    "# see https://pymc-devs.github.io/pymc3/notebooks/getting_started.html#Posterior-analysis\n",
    "# see https://github.com/pymc-devs/pymc3/blob/master/pymc3/plots/traceplot.py\n",
    "from pystan.external.pymc import plots\n",
    "# actually this imports https://github.com/stan-dev/pystan/blob/develop/pystan/external/pymc/plots.py\n",
    "\n",
    "\n",
    "all_traces_df3.head()"
   ]
  },
  {
   "cell_type": "markdown",
   "metadata": {
    "deletable": true,
    "editable": true
   },
   "source": [
    "In the following traceplots, note that we ensure above that we don't use the index column as x axis, and instead use iter. that way the chains are combined."
   ]
  },
  {
   "cell_type": "code",
   "execution_count": 59,
   "metadata": {
    "ExecuteTime": {
     "end_time": "2017-10-30T17:20:44.114038Z",
     "start_time": "2017-10-30T17:20:43.624405Z"
    },
    "collapsed": false,
    "deletable": true,
    "editable": true
   },
   "outputs": [
    {
     "data": {
      "text/plain": [
       "(0, 1)"
      ]
     },
     "execution_count": 59,
     "metadata": {},
     "output_type": "execute_result"
    },
    {
     "data": {
      "image/png": "[encoded data removed]",
      "text/plain": [
       "<matplotlib.figure.Figure at 0x7f7213aefe48>"
      ]
     },
     "metadata": {},
     "output_type": "display_data"
    }
   ],
   "source": [
    "g = plots.traceplot(\n",
    "    all_traces_df3[(all_traces_df3['sample_id'] == 1)\n",
    "                   & (all_traces_df3['subset_name'] == 'B_Naive')].set_index(\n",
    "                       'iter')[['estimate']],\n",
    "    vars=['estimate'])\n",
    "g.suptitle('Mixture 1, Naive B cell fraction estimate')\n",
    "g.gca().set_ylim(0, 1)"
   ]
  },
  {
   "cell_type": "code",
   "execution_count": 60,
   "metadata": {
    "ExecuteTime": {
     "end_time": "2017-10-30T17:20:55.231809Z",
     "start_time": "2017-10-30T17:20:54.740972Z"
    },
    "collapsed": false,
    "deletable": true,
    "editable": true
   },
   "outputs": [
    {
     "data": {
      "text/plain": [
       "(0, 1)"
      ]
     },
     "execution_count": 60,
     "metadata": {},
     "output_type": "execute_result"
    },
    {
     "data": {
      "image/png": "[encoded data removed]",
      "text/plain": [
       "<matplotlib.figure.Figure at 0x7f7213a45358>"
      ]
     },
     "metadata": {},
     "output_type": "display_data"
    }
   ],
   "source": [
    "# break out by chain to demonstrate how chains aren't converging\n",
    "# how: set_index() to combined_iter_number instead of iter\n",
    "\n",
    "g = plots.traceplot(\n",
    "    all_traces_df3[(all_traces_df3['sample_id'] == 1)\n",
    "                   & (all_traces_df3['subset_name'] == 'B_Naive')].set_index(\n",
    "                       'combined_iter_number')[['estimate']],\n",
    "    vars=['estimate'])\n",
    "g.suptitle('Mixture 1, Naive B cell fraction estimate (chains separated)')\n",
    "g.gca().set_ylim(0, 1)"
   ]
  },
  {
   "cell_type": "code",
   "execution_count": 61,
   "metadata": {
    "ExecuteTime": {
     "end_time": "2017-10-30T17:21:07.615333Z",
     "start_time": "2017-10-30T17:21:06.456456Z"
    },
    "collapsed": false,
    "deletable": true,
    "editable": true
   },
   "outputs": [
    {
     "data": {
      "text/plain": [
       "(<matplotlib.figure.Figure at 0x7f72139400b8>,\n",
       " <matplotlib.axes._subplots.AxesSubplot at 0x7f7213934cf8>)"
      ]
     },
     "execution_count": 61,
     "metadata": {},
     "output_type": "execute_result"
    },
    {
     "data": {
      "image/png": "[encoded data removed]",
      "text/plain": [
       "<matplotlib.figure.Figure at 0x7f72139400b8>"
      ]
     },
     "metadata": {},
     "output_type": "display_data"
    }
   ],
   "source": [
    "plot_single_mixture_results(extract_values_for_mixture_by_id(1),\n",
    "                                   'Simple mixture: 50% naive B cell, 50% CD4+ Treg cell samples.')"
   ]
  },
  {
   "cell_type": "markdown",
   "metadata": {
    "collapsed": true,
    "deletable": true,
    "editable": true
   },
   "source": [
    "rollups fix it."
   ]
  },
  {
   "cell_type": "code",
   "execution_count": null,
   "metadata": {
    "collapsed": true,
    "deletable": true,
    "editable": true
   },
   "outputs": [],
   "source": []
  },
  {
   "cell_type": "code",
   "execution_count": 62,
   "metadata": {
    "ExecuteTime": {
     "end_time": "2017-10-30T17:21:24.635500Z",
     "start_time": "2017-10-30T17:21:24.071712Z"
    },
    "collapsed": false,
    "deletable": true,
    "editable": true
   },
   "outputs": [
    {
     "data": {
      "text/plain": [
       "(0, 1)"
      ]
     },
     "execution_count": 62,
     "metadata": {},
     "output_type": "execute_result"
    },
    {
     "data": {
      "image/png": "[encoded data removed]",
      "text/plain": [
       "<matplotlib.figure.Figure at 0x7f7213eb6320>"
      ]
     },
     "metadata": {},
     "output_type": "display_data"
    }
   ],
   "source": [
    "g = plots.traceplot(\n",
    "    all_traces_df3[(all_traces_df3['sample_id'] == 1)\n",
    "                   & (all_traces_df3['subset_name'] == 'B_Memory')].set_index(\n",
    "                       'iter')[['estimate']],\n",
    "    vars=['estimate'])\n",
    "g.suptitle('Mixture 1, Memory B cell fraction estimate')\n",
    "g.gca().set_ylim(0, 1)"
   ]
  },
  {
   "cell_type": "code",
   "execution_count": 63,
   "metadata": {
    "ExecuteTime": {
     "end_time": "2017-10-30T17:21:26.662958Z",
     "start_time": "2017-10-30T17:21:26.006492Z"
    },
    "collapsed": false,
    "deletable": true,
    "editable": true
   },
   "outputs": [
    {
     "data": {
      "image/png": "[encoded data removed]",
      "text/plain": [
       "<matplotlib.figure.Figure at 0x7f72138f02b0>"
      ]
     },
     "metadata": {},
     "output_type": "display_data"
    }
   ],
   "source": [
    "with sns.plotting_context('notebook'):\n",
    "    g = plots.traceplot(all_traces_df3[(all_traces_df3['sample_id'] == 10) & (all_traces_df3['subset_name'] == 'CD4_Treg')]                        .set_index('iter')[['estimate']],\n",
    "                        vars=['estimate'],\n",
    "                       )\n",
    "    g.set_size_inches((15,6))\n",
    "    #g.suptitle('Mixture 10, CD4 Treg cell fraction estimate')\n",
    "    g.suptitle('Low serial correlation in simulation trace')\n",
    "    g.axes[0].set_ylabel('Frequency')\n",
    "    g.axes[0].set_xlabel('Parameter estimate')\n",
    "    g.axes[0].set_title('CD4+ Treg cell fraction distribution')\n",
    "    g.axes[1].set_ylim(0,1)\n",
    "    g.axes[1].set_ylabel('Sample value')\n",
    "    g.axes[1].set_xlabel('Iteration number')\n",
    "    g.axes[1].set_title('Trace of sample values')"
   ]
  },
  {
   "cell_type": "code",
   "execution_count": 64,
   "metadata": {
    "ExecuteTime": {
     "end_time": "2017-10-30T17:21:31.527544Z",
     "start_time": "2017-10-30T17:21:31.489313Z"
    },
    "collapsed": false,
    "deletable": true,
    "editable": true
   },
   "outputs": [
    {
     "data": {
      "text/plain": [
       "(169, 10)"
      ]
     },
     "execution_count": 64,
     "metadata": {},
     "output_type": "execute_result"
    }
   ],
   "source": [
    "# # correlation matrix\n",
    "\n",
    "# not Omega_L\n",
    "omega = stan_summary[stan_summary.name.str.startswith('Omega[')] \n",
    "omega.shape"
   ]
  },
  {
   "cell_type": "code",
   "execution_count": 65,
   "metadata": {
    "ExecuteTime": {
     "end_time": "2017-10-30T17:21:33.054047Z",
     "start_time": "2017-10-30T17:21:32.992883Z"
    },
    "collapsed": false,
    "deletable": true,
    "editable": true
   },
   "outputs": [
    {
     "data": {
      "text/html": [
       "<div>\n",
       "<table border=\"1\" class=\"dataframe\">\n",
       "  <thead>\n",
       "    <tr style=\"text-align: right;\">\n",
       "      <th></th>\n",
       "      <th>B CD5</th>\n",
       "      <th>B Memory</th>\n",
       "      <th>B Naive</th>\n",
       "      <th>CD4 Central Memory</th>\n",
       "      <th>CD4 Effector Memory</th>\n",
       "      <th>CD4 Naive</th>\n",
       "      <th>CD4 Th1</th>\n",
       "      <th>CD4 Th17</th>\n",
       "      <th>CD4 Th2</th>\n",
       "      <th>CD4 Treg</th>\n",
       "      <th>CD8 Central Memory</th>\n",
       "      <th>CD8 Effector</th>\n",
       "      <th>CD8 Naive</th>\n",
       "    </tr>\n",
       "  </thead>\n",
       "  <tbody>\n",
       "    <tr>\n",
       "      <th>0</th>\n",
       "      <td>1.000000</td>\n",
       "      <td>0.954243</td>\n",
       "      <td>0.960365</td>\n",
       "      <td>0.332703</td>\n",
       "      <td>0.245395</td>\n",
       "      <td>0.334823</td>\n",
       "      <td>0.309229</td>\n",
       "      <td>0.248150</td>\n",
       "      <td>0.258964</td>\n",
       "      <td>0.280491</td>\n",
       "      <td>0.280306</td>\n",
       "      <td>0.163913</td>\n",
       "      <td>0.274957</td>\n",
       "    </tr>\n",
       "    <tr>\n",
       "      <th>1</th>\n",
       "      <td>0.954243</td>\n",
       "      <td>1.000000</td>\n",
       "      <td>0.998127</td>\n",
       "      <td>0.480432</td>\n",
       "      <td>0.400416</td>\n",
       "      <td>0.473512</td>\n",
       "      <td>0.444107</td>\n",
       "      <td>0.403186</td>\n",
       "      <td>0.406434</td>\n",
       "      <td>0.408685</td>\n",
       "      <td>0.431007</td>\n",
       "      <td>0.268695</td>\n",
       "      <td>0.419109</td>\n",
       "    </tr>\n",
       "    <tr>\n",
       "      <th>2</th>\n",
       "      <td>0.960365</td>\n",
       "      <td>0.998127</td>\n",
       "      <td>1.000000</td>\n",
       "      <td>0.473634</td>\n",
       "      <td>0.388838</td>\n",
       "      <td>0.473922</td>\n",
       "      <td>0.435035</td>\n",
       "      <td>0.389489</td>\n",
       "      <td>0.391545</td>\n",
       "      <td>0.401258</td>\n",
       "      <td>0.421095</td>\n",
       "      <td>0.259571</td>\n",
       "      <td>0.422800</td>\n",
       "    </tr>\n",
       "    <tr>\n",
       "      <th>3</th>\n",
       "      <td>0.332703</td>\n",
       "      <td>0.480432</td>\n",
       "      <td>0.473634</td>\n",
       "      <td>1.000000</td>\n",
       "      <td>0.945470</td>\n",
       "      <td>0.946200</td>\n",
       "      <td>0.977675</td>\n",
       "      <td>0.961531</td>\n",
       "      <td>0.884371</td>\n",
       "      <td>0.944165</td>\n",
       "      <td>0.949793</td>\n",
       "      <td>0.813816</td>\n",
       "      <td>0.914297</td>\n",
       "    </tr>\n",
       "    <tr>\n",
       "      <th>4</th>\n",
       "      <td>0.245395</td>\n",
       "      <td>0.400416</td>\n",
       "      <td>0.388838</td>\n",
       "      <td>0.945470</td>\n",
       "      <td>1.000000</td>\n",
       "      <td>0.875197</td>\n",
       "      <td>0.971445</td>\n",
       "      <td>0.953392</td>\n",
       "      <td>0.893888</td>\n",
       "      <td>0.858635</td>\n",
       "      <td>0.991616</td>\n",
       "      <td>0.943426</td>\n",
       "      <td>0.889520</td>\n",
       "    </tr>\n",
       "    <tr>\n",
       "      <th>5</th>\n",
       "      <td>0.334823</td>\n",
       "      <td>0.473512</td>\n",
       "      <td>0.473922</td>\n",
       "      <td>0.946200</td>\n",
       "      <td>0.875197</td>\n",
       "      <td>1.000000</td>\n",
       "      <td>0.938711</td>\n",
       "      <td>0.911832</td>\n",
       "      <td>0.879155</td>\n",
       "      <td>0.813393</td>\n",
       "      <td>0.914436</td>\n",
       "      <td>0.751202</td>\n",
       "      <td>0.970195</td>\n",
       "    </tr>\n",
       "    <tr>\n",
       "      <th>6</th>\n",
       "      <td>0.309229</td>\n",
       "      <td>0.444107</td>\n",
       "      <td>0.435035</td>\n",
       "      <td>0.977675</td>\n",
       "      <td>0.971445</td>\n",
       "      <td>0.938711</td>\n",
       "      <td>1.000000</td>\n",
       "      <td>0.985304</td>\n",
       "      <td>0.922953</td>\n",
       "      <td>0.884445</td>\n",
       "      <td>0.977728</td>\n",
       "      <td>0.887315</td>\n",
       "      <td>0.908461</td>\n",
       "    </tr>\n",
       "    <tr>\n",
       "      <th>7</th>\n",
       "      <td>0.248150</td>\n",
       "      <td>0.403186</td>\n",
       "      <td>0.389489</td>\n",
       "      <td>0.961531</td>\n",
       "      <td>0.953392</td>\n",
       "      <td>0.911832</td>\n",
       "      <td>0.985304</td>\n",
       "      <td>1.000000</td>\n",
       "      <td>0.947708</td>\n",
       "      <td>0.871575</td>\n",
       "      <td>0.954182</td>\n",
       "      <td>0.844910</td>\n",
       "      <td>0.859309</td>\n",
       "    </tr>\n",
       "    <tr>\n",
       "      <th>8</th>\n",
       "      <td>0.258964</td>\n",
       "      <td>0.406434</td>\n",
       "      <td>0.391545</td>\n",
       "      <td>0.884371</td>\n",
       "      <td>0.893888</td>\n",
       "      <td>0.879155</td>\n",
       "      <td>0.922953</td>\n",
       "      <td>0.947708</td>\n",
       "      <td>1.000000</td>\n",
       "      <td>0.763057</td>\n",
       "      <td>0.916287</td>\n",
       "      <td>0.795479</td>\n",
       "      <td>0.825931</td>\n",
       "    </tr>\n",
       "    <tr>\n",
       "      <th>9</th>\n",
       "      <td>0.280491</td>\n",
       "      <td>0.408685</td>\n",
       "      <td>0.401258</td>\n",
       "      <td>0.944165</td>\n",
       "      <td>0.858635</td>\n",
       "      <td>0.813393</td>\n",
       "      <td>0.884445</td>\n",
       "      <td>0.871575</td>\n",
       "      <td>0.763057</td>\n",
       "      <td>1.000000</td>\n",
       "      <td>0.839189</td>\n",
       "      <td>0.716996</td>\n",
       "      <td>0.773934</td>\n",
       "    </tr>\n",
       "    <tr>\n",
       "      <th>10</th>\n",
       "      <td>0.280306</td>\n",
       "      <td>0.431007</td>\n",
       "      <td>0.421095</td>\n",
       "      <td>0.949793</td>\n",
       "      <td>0.991616</td>\n",
       "      <td>0.914436</td>\n",
       "      <td>0.977728</td>\n",
       "      <td>0.954182</td>\n",
       "      <td>0.916287</td>\n",
       "      <td>0.839189</td>\n",
       "      <td>1.000000</td>\n",
       "      <td>0.935698</td>\n",
       "      <td>0.926602</td>\n",
       "    </tr>\n",
       "    <tr>\n",
       "      <th>11</th>\n",
       "      <td>0.163913</td>\n",
       "      <td>0.268695</td>\n",
       "      <td>0.259571</td>\n",
       "      <td>0.813816</td>\n",
       "      <td>0.943426</td>\n",
       "      <td>0.751202</td>\n",
       "      <td>0.887315</td>\n",
       "      <td>0.844910</td>\n",
       "      <td>0.795479</td>\n",
       "      <td>0.716996</td>\n",
       "      <td>0.935698</td>\n",
       "      <td>1.000000</td>\n",
       "      <td>0.806042</td>\n",
       "    </tr>\n",
       "    <tr>\n",
       "      <th>12</th>\n",
       "      <td>0.274957</td>\n",
       "      <td>0.419109</td>\n",
       "      <td>0.422800</td>\n",
       "      <td>0.914297</td>\n",
       "      <td>0.889520</td>\n",
       "      <td>0.970195</td>\n",
       "      <td>0.908461</td>\n",
       "      <td>0.859309</td>\n",
       "      <td>0.825931</td>\n",
       "      <td>0.773934</td>\n",
       "      <td>0.926602</td>\n",
       "      <td>0.806042</td>\n",
       "      <td>1.000000</td>\n",
       "    </tr>\n",
       "  </tbody>\n",
       "</table>\n",
       "</div>"
      ],
      "text/plain": [
       "       B CD5  B Memory   B Naive  CD4 Central Memory  CD4 Effector Memory  \\\n",
       "0   1.000000  0.954243  0.960365            0.332703             0.245395   \n",
       "1   0.954243  1.000000  0.998127            0.480432             0.400416   \n",
       "2   0.960365  0.998127  1.000000            0.473634             0.388838   \n",
       "3   0.332703  0.480432  0.473634            1.000000             0.945470   \n",
       "4   0.245395  0.400416  0.388838            0.945470             1.000000   \n",
       "5   0.334823  0.473512  0.473922            0.946200             0.875197   \n",
       "6   0.309229  0.444107  0.435035            0.977675             0.971445   \n",
       "7   0.248150  0.403186  0.389489            0.961531             0.953392   \n",
       "8   0.258964  0.406434  0.391545            0.884371             0.893888   \n",
       "9   0.280491  0.408685  0.401258            0.944165             0.858635   \n",
       "10  0.280306  0.431007  0.421095            0.949793             0.991616   \n",
       "11  0.163913  0.268695  0.259571            0.813816             0.943426   \n",
       "12  0.274957  0.419109  0.422800            0.914297             0.889520   \n",
       "\n",
       "    CD4 Naive   CD4 Th1  CD4 Th17   CD4 Th2  CD4 Treg  CD8 Central Memory  \\\n",
       "0    0.334823  0.309229  0.248150  0.258964  0.280491            0.280306   \n",
       "1    0.473512  0.444107  0.403186  0.406434  0.408685            0.431007   \n",
       "2    0.473922  0.435035  0.389489  0.391545  0.401258            0.421095   \n",
       "3    0.946200  0.977675  0.961531  0.884371  0.944165            0.949793   \n",
       "4    0.875197  0.971445  0.953392  0.893888  0.858635            0.991616   \n",
       "5    1.000000  0.938711  0.911832  0.879155  0.813393            0.914436   \n",
       "6    0.938711  1.000000  0.985304  0.922953  0.884445            0.977728   \n",
       "7    0.911832  0.985304  1.000000  0.947708  0.871575            0.954182   \n",
       "8    0.879155  0.922953  0.947708  1.000000  0.763057            0.916287   \n",
       "9    0.813393  0.884445  0.871575  0.763057  1.000000            0.839189   \n",
       "10   0.914436  0.977728  0.954182  0.916287  0.839189            1.000000   \n",
       "11   0.751202  0.887315  0.844910  0.795479  0.716996            0.935698   \n",
       "12   0.970195  0.908461  0.859309  0.825931  0.773934            0.926602   \n",
       "\n",
       "    CD8 Effector  CD8 Naive  \n",
       "0       0.163913   0.274957  \n",
       "1       0.268695   0.419109  \n",
       "2       0.259571   0.422800  \n",
       "3       0.813816   0.914297  \n",
       "4       0.943426   0.889520  \n",
       "5       0.751202   0.970195  \n",
       "6       0.887315   0.908461  \n",
       "7       0.844910   0.859309  \n",
       "8       0.795479   0.825931  \n",
       "9       0.716996   0.773934  \n",
       "10      0.935698   0.926602  \n",
       "11      1.000000   0.806042  \n",
       "12      0.806042   1.000000  "
      ]
     },
     "execution_count": 65,
     "metadata": {},
     "output_type": "execute_result"
    }
   ],
   "source": [
    "mean_matrix = omega['Mean'].values.reshape(13, 13)\n",
    "omega_df = pd.DataFrame(mean_matrix, columns=subset_names).rename(\n",
    "columns=lambda x: x.replace('_', ' '))\n",
    "subset_names_cleaner = list(omega_df.columns)\n",
    "omega_df"
   ]
  },
  {
   "cell_type": "code",
   "execution_count": 66,
   "metadata": {
    "ExecuteTime": {
     "end_time": "2017-10-30T17:21:33.733851Z",
     "start_time": "2017-10-30T17:21:33.729287Z"
    },
    "collapsed": false,
    "deletable": true,
    "editable": true
   },
   "outputs": [
    {
     "data": {
      "text/plain": [
       "['B CD5',\n",
       " 'B Memory',\n",
       " 'B Naive',\n",
       " 'CD4 Central Memory',\n",
       " 'CD4 Effector Memory',\n",
       " 'CD4 Naive',\n",
       " 'CD4 Th1',\n",
       " 'CD4 Th17',\n",
       " 'CD4 Th2',\n",
       " 'CD4 Treg',\n",
       " 'CD8 Central Memory',\n",
       " 'CD8 Effector',\n",
       " 'CD8 Naive']"
      ]
     },
     "execution_count": 66,
     "metadata": {},
     "output_type": "execute_result"
    }
   ],
   "source": [
    "subset_names_cleaner"
   ]
  },
  {
   "cell_type": "code",
   "execution_count": 67,
   "metadata": {
    "ExecuteTime": {
     "end_time": "2017-10-30T17:21:34.495487Z",
     "start_time": "2017-10-30T17:21:34.490963Z"
    },
    "collapsed": false,
    "deletable": true,
    "editable": true
   },
   "outputs": [
    {
     "data": {
      "text/plain": [
       "((13, 13), (13, 13))"
      ]
     },
     "execution_count": 67,
     "metadata": {},
     "output_type": "execute_result"
    }
   ],
   "source": [
    "omega_df.shape, mean_matrix.shape"
   ]
  },
  {
   "cell_type": "code",
   "execution_count": 68,
   "metadata": {
    "ExecuteTime": {
     "end_time": "2017-10-30T17:21:36.684566Z",
     "start_time": "2017-10-30T17:21:36.182560Z"
    },
    "collapsed": false,
    "deletable": true,
    "editable": true
   },
   "outputs": [
    {
     "data": {
      "text/plain": [
       "<matplotlib.text.Text at 0x7f72140df7f0>"
      ]
     },
     "execution_count": 68,
     "metadata": {},
     "output_type": "execute_result"
    },
    {
     "data": {
      "image/png": "[encoded data removed]",
      "text/plain": [
       "<matplotlib.figure.Figure at 0x7f7222844400>"
      ]
     },
     "metadata": {},
     "output_type": "display_data"
    }
   ],
   "source": [
    "import scipy\n",
    "from scipy.cluster.hierarchy import dendrogram, linkage\n",
    "# make into distance matrix as suggested in links above\n",
    "rescaled = np.sqrt(2*(1-mean_matrix))\n",
    "#rescaled /= 2 # my own\n",
    "g = sns.heatmap(rescaled, square=True,\n",
    "                xticklabels=subset_names_cleaner,\n",
    "                yticklabels=subset_names_cleaner\n",
    "               )\n",
    "plt.title('Omega (rescaled 3) -- not symmetric')"
   ]
  },
  {
   "cell_type": "code",
   "execution_count": 69,
   "metadata": {
    "ExecuteTime": {
     "end_time": "2017-10-30T17:21:37.553699Z",
     "start_time": "2017-10-30T17:21:37.539389Z"
    },
    "collapsed": false,
    "deletable": true,
    "editable": true
   },
   "outputs": [
    {
     "data": {
      "text/plain": [
       "array([ 0.30251281,  0.28154929,  1.15524629,  1.22849908,  1.15340973,\n",
       "        1.17539015,  1.22625446,  1.21740379,  1.19959076,  1.19974497,\n",
       "        1.29312567,  1.20419517,  0.06120457,  1.0193802 ,  1.09506529,\n",
       "        1.02614619,  1.05441263,  1.09253284,  1.08955587,  1.08748793,\n",
       "        1.06676427,  1.20938414,  1.07785992,  1.02602729,  1.10558763,\n",
       "        1.02574656,  1.06298166,  1.10499864,  1.10313644,  1.09429612,\n",
       "        1.0760158 ,  1.21690509,  1.07443008,  0.33024234,  0.32802439,\n",
       "        0.21130547,  0.277377  ,  0.48089292,  0.33417062,  0.31688168,\n",
       "        0.61021963,  0.41401208,  0.49960584,  0.23897699,  0.30531295,\n",
       "        0.46067776,  0.53172361,  0.12949131,  0.33637479,  0.47006383,\n",
       "        0.35011141,  0.4199238 ,  0.49161977,  0.61091243,  0.4136762 ,\n",
       "        0.70540485,  0.24415159,  0.17144095,  0.39254809,  0.48073901,\n",
       "        0.2110545 ,  0.4747315 ,  0.42787615,  0.3233945 ,  0.50680371,\n",
       "        0.30271439,  0.55693806,  0.53045452,  0.68839378,  0.40917722,\n",
       "        0.63956391,  0.5900322 ,  0.56711727,  0.75233503,  0.67240761,\n",
       "        0.358614  ,  0.38313966,  0.62282903])"
      ]
     },
     "execution_count": 69,
     "metadata": {},
     "output_type": "execute_result"
    }
   ],
   "source": [
    "pdist = scipy.spatial.distance.squareform(rescaled)\n",
    "pdist"
   ]
  },
  {
   "cell_type": "code",
   "execution_count": 70,
   "metadata": {
    "ExecuteTime": {
     "end_time": "2017-10-30T17:21:38.290764Z",
     "start_time": "2017-10-30T17:21:38.280917Z"
    },
    "collapsed": false,
    "deletable": true,
    "editable": true
   },
   "outputs": [
    {
     "name": "stdout",
     "output_type": "stream",
     "text": [
      "[[  1.           2.           0.06120457   2.        ]\n",
      " [  4.          10.           0.12949131   2.        ]\n",
      " [  6.           7.           0.17144095   2.        ]\n",
      " [  5.          12.           0.24415159   2.        ]\n",
      " [  3.          15.           0.26694818   3.        ]\n",
      " [  0.          13.           0.33557016   3.        ]\n",
      " [ 14.          17.           0.38479848   5.        ]\n",
      " [  8.          19.           0.49559405   6.        ]\n",
      " [ 11.          20.           0.61018959   7.        ]\n",
      " [  9.          21.           0.67122239   8.        ]\n",
      " [ 16.          22.           0.71542162  10.        ]\n",
      " [ 18.          23.           2.31106738  13.        ]]\n"
     ]
    },
    {
     "data": {
      "text/plain": [
       "0.96378102869868354"
      ]
     },
     "execution_count": 70,
     "metadata": {},
     "output_type": "execute_result"
    }
   ],
   "source": [
    "# https://joernhees.de/blog/2015/08/26/scipy-hierarchical-clustering-and-dendrogram-tutorial/\n",
    "links = linkage(pdist, 'ward') # row i is which clusters were merged in i-th iteration, their distance, and their sample count\n",
    "print(links)\n",
    "from scipy.cluster.hierarchy import cophenet\n",
    "c, _ = cophenet(links, pdist)\n",
    "c # want close to 1: means actual pairwise distances well preserved by hierarchical clustering"
   ]
  },
  {
   "cell_type": "code",
   "execution_count": 71,
   "metadata": {
    "ExecuteTime": {
     "end_time": "2017-10-30T17:21:44.199596Z",
     "start_time": "2017-10-30T17:21:39.560886Z"
    },
    "collapsed": false,
    "deletable": true,
    "editable": true
   },
   "outputs": [
    {
     "data": {
      "image/png": "[encoded data removed]",
      "text/plain": [
       "<matplotlib.figure.Figure at 0x7f7213eb0be0>"
      ]
     },
     "metadata": {},
     "output_type": "display_data"
    }
   ],
   "source": [
    "\n",
    "# plt.figure(figsize=(25, 10))\n",
    "# plt.xlabel('sample index')\n",
    "# plt.ylabel('distance')\n",
    "# dendrogram(\n",
    "#     links,\n",
    "#     leaf_rotation=90.,  # rotates the x axis labels\n",
    "#     leaf_font_size=8.,  # font size for the x axis labels\n",
    "#     labels=colnames_filtered\n",
    "# )\n",
    "\n",
    "with sns.plotting_context('talk'):\n",
    "    f = plt.figure(figsize=(12, 10))\n",
    "    dendrogram(\n",
    "        links,\n",
    "        #leaf_rotation=90.,  # rotates the x axis labels\n",
    "        leaf_font_size=8.,  # font size for the x axis labels\n",
    "        labels=subset_names_cleaner,\n",
    "        orientation='left'\n",
    "    )\n",
    "    plt.xlabel('Distance')\n",
    "    plt.ylabel('Subset')\n",
    "\n",
    "\n",
    "    #plt.title('Hierarchical clustering dendrogram from correlation matrix')\n",
    "    #plt.title(\"Model's estimated correlation matrix recovers known biological similarities between cell types\")\n",
    "    plt.title(\"Infino's estimated correlation matrix recovers known similarities between cell types\")\n",
    "    savefig(f, PLOT_DIR+'dendrogram.png', dpi=300)\n",
    "    savefig(f, PLOT_DIR+'dendrogram.pdf', dpi=300)\n"
   ]
  },
  {
   "cell_type": "code",
   "execution_count": 72,
   "metadata": {
    "ExecuteTime": {
     "end_time": "2017-10-30T17:21:45.191201Z",
     "start_time": "2017-10-30T17:21:44.823158Z"
    },
    "collapsed": false,
    "deletable": true,
    "editable": true
   },
   "outputs": [
    {
     "data": {
      "image/png": "[encoded data removed]",
      "text/plain": [
       "<matplotlib.figure.Figure at 0x7f72139addd8>"
      ]
     },
     "metadata": {},
     "output_type": "display_data"
    }
   ],
   "source": [
    "# portrait version\n",
    "\n",
    "\n",
    "# plt.figure(figsize=(25, 10))\n",
    "# plt.xlabel('sample index')\n",
    "# plt.ylabel('distance')\n",
    "# dendrogram(\n",
    "#     links,\n",
    "#     leaf_rotation=90.,  # rotates the x axis labels\n",
    "#     leaf_font_size=8.,  # font size for the x axis labels\n",
    "#     labels=colnames_filtered\n",
    "# )\n",
    "\n",
    "with sns.plotting_context('poster'):\n",
    "    f = plt.figure(figsize=(10, 8))\n",
    "    dendrogram(\n",
    "        links,\n",
    "        #leaf_rotation=90.,  # rotates the x axis labels\n",
    "        leaf_font_size=8.,  # font size for the x axis labels\n",
    "        labels=subset_names_cleaner,\n",
    "        orientation='left'\n",
    "    )\n",
    "    plt.xlabel('Distance')\n",
    "    plt.ylabel('Subset')\n",
    "\n",
    "\n",
    "    #plt.title('Hierarchical clustering dendrogram from correlation matrix')\n",
    "    #plt.title(\"Model's estimated correlation matrix recovers known biological similarities between cell types\")\n",
    "    plt.title(\"Infino's correlation matrix models relationships between cell types\")\n"
   ]
  },
  {
   "cell_type": "markdown",
   "metadata": {
    "deletable": true,
    "editable": true
   },
   "source": [
    "Flip from Distance to Similarity:"
   ]
  },
  {
   "cell_type": "code",
   "execution_count": 73,
   "metadata": {
    "ExecuteTime": {
     "end_time": "2017-10-30T17:21:46.243621Z",
     "start_time": "2017-10-30T17:21:45.814285Z"
    },
    "collapsed": false,
    "deletable": true,
    "editable": true
   },
   "outputs": [
    {
     "name": "stdout",
     "output_type": "stream",
     "text": [
      "[0.0, 0.5, 1.0, 1.5, 2.0, 2.5]\n",
      "<class 'float'>\n"
     ]
    },
    {
     "data": {
      "image/png": "[encoded data removed]",
      "text/plain": [
       "<matplotlib.figure.Figure at 0x7f72136bc7f0>"
      ]
     },
     "metadata": {},
     "output_type": "display_data"
    }
   ],
   "source": [
    "# similarity version\n",
    "\n",
    "with sns.plotting_context('talk'):\n",
    "    f = plt.figure(figsize=(12, 10))\n",
    "    dendrogram(\n",
    "        links,\n",
    "        #leaf_rotation=90.,  # rotates the x axis labels\n",
    "        leaf_font_size=8.,  # font size for the x axis labels\n",
    "        labels=subset_names_cleaner,\n",
    "        orientation='left'\n",
    "    )\n",
    "    #plt.xlabel('Distance')\n",
    "    plt.ylabel('Subset')\n",
    "\n",
    "\n",
    "    #plt.title('Hierarchical clustering dendrogram from correlation matrix')\n",
    "    plt.title(\"Model's estimated correlation matrix recovers known biological similarities between cell types\")\n",
    "    \n",
    "    #plt.gca().invert_xaxis()\n",
    "    ax = plt.gca()\n",
    "#     lbls = plt.gca().get_xticklabels()\n",
    "#     labels = [t.get_text() for t in plt.gca().get_xticklabels()]\n",
    "    #labelsrev = list(reversed(labels))\n",
    "    #ax.set_xticklabels(labelsrev)\n",
    "    labels = ax.get_xticks().tolist()\n",
    "    print(labels)\n",
    "    print(type(labels[0]))\n",
    "    \n",
    "    # normalize\n",
    "    labels_normed = [c / labels[-1] for c in labels]\n",
    "    \n",
    "    labelsrev = list(reversed(labels_normed))\n",
    "    ax.set_xticklabels(labelsrev)\n",
    "    \n",
    "    plt.xlabel('Similarity')\n",
    "\n"
   ]
  },
  {
   "cell_type": "markdown",
   "metadata": {
    "deletable": true,
    "editable": true
   },
   "source": [
    "Not sure if this is as interpretable. Distance between two items is easy. But how do you subtract similarities?"
   ]
  },
  {
   "cell_type": "code",
   "execution_count": null,
   "metadata": {
    "collapsed": true,
    "deletable": true,
    "editable": true
   },
   "outputs": [],
   "source": []
  },
  {
   "cell_type": "markdown",
   "metadata": {
    "collapsed": true,
    "deletable": true,
    "editable": true
   },
   "source": [
    "# Cibersort's diagnostics"
   ]
  },
  {
   "cell_type": "code",
   "execution_count": 74,
   "metadata": {
    "ExecuteTime": {
     "end_time": "2017-10-30T17:21:46.890269Z",
     "start_time": "2017-10-30T17:21:46.869973Z"
    },
    "collapsed": false,
    "deletable": true,
    "editable": true
   },
   "outputs": [
    {
     "name": "stdout",
     "output_type": "stream",
     "text": [
      "Cibersort Diagnostics for hyper (inserted in google doc):\n",
      "mixture 1\n",
      "{{{mix1_rmse:0.28}}}\n",
      "{{{mix1_pval:0.0}}}\n",
      "mixture 2\n",
      "{{{mix2_rmse:0.34}}}\n",
      "{{{mix2_pval:0.0}}}\n",
      "mixture 3\n",
      "{{{mix3_rmse:0.30}}}\n",
      "{{{mix3_pval:0.0}}}\n",
      "mixture 4\n",
      "{{{mix4_rmse:0.33}}}\n",
      "{{{mix4_pval:0.0}}}\n",
      "mixture 5\n",
      "{{{mix5_rmse:0.27}}}\n",
      "{{{mix5_pval:0.0}}}\n",
      "mixture 6\n",
      "{{{mix6_rmse:0.34}}}\n",
      "{{{mix6_pval:0.0}}}\n",
      "mixture 7\n",
      "{{{mix7_rmse:0.45}}}\n",
      "{{{mix7_pval:0.0}}}\n",
      "mixture 8\n",
      "{{{mix8_rmse:0.44}}}\n",
      "{{{mix8_pval:0.0}}}\n",
      "mixture 9\n",
      "{{{mix9_rmse:0.41}}}\n",
      "{{{mix9_pval:0.0}}}\n",
      "mixture 10\n",
      "{{{mix10_rmse:0.49}}}\n",
      "{{{mix10_pval:0.0}}}\n"
     ]
    },
    {
     "data": {
      "text/html": [
       "<div>\n",
       "<table border=\"1\" class=\"dataframe\">\n",
       "  <thead>\n",
       "    <tr style=\"text-align: right;\">\n",
       "      <th></th>\n",
       "      <th>RMSE</th>\n",
       "      <th>P-value</th>\n",
       "    </tr>\n",
       "  </thead>\n",
       "  <tbody>\n",
       "    <tr>\n",
       "      <th>6</th>\n",
       "      <td>0.452792</td>\n",
       "      <td>0.0</td>\n",
       "    </tr>\n",
       "    <tr>\n",
       "      <th>1</th>\n",
       "      <td>0.339896</td>\n",
       "      <td>0.0</td>\n",
       "    </tr>\n",
       "    <tr>\n",
       "      <th>9</th>\n",
       "      <td>0.486806</td>\n",
       "      <td>0.0</td>\n",
       "    </tr>\n",
       "  </tbody>\n",
       "</table>\n",
       "</div>"
      ],
      "text/plain": [
       "       RMSE  P-value\n",
       "6  0.452792      0.0\n",
       "1  0.339896      0.0\n",
       "9  0.486806      0.0"
      ]
     },
     "execution_count": 74,
     "metadata": {},
     "output_type": "execute_result"
    }
   ],
   "source": [
    "print('Cibersort Diagnostics for hyper (inserted in google doc):')\n",
    "for key,row in example_result[['RMSE', 'P-value']].iterrows():\n",
    "    print(\"mixture %d\" % (key+1))\n",
    "    print(\"{{{mix%d_rmse:%0.2f}}}\" % (key+1, row['RMSE']))\n",
    "    print(\"{{{mix%d_pval:%0.1f}}}\" % (key+1, row['P-value']))\n",
    "example_result[['RMSE', 'P-value']].iloc[[6,1,9]]"
   ]
  },
  {
   "cell_type": "code",
   "execution_count": null,
   "metadata": {
    "collapsed": true,
    "deletable": true,
    "editable": true
   },
   "outputs": [],
   "source": []
  }
 ],
 "metadata": {
  "celltoolbar": "Initialization Cell",
  "kernelspec": {
   "display_name": "Python 3",
   "language": "python",
   "name": "python3"
  },
  "language_info": {
   "codemirror_mode": {
    "name": "ipython",
    "version": 3
   },
   "file_extension": ".py",
   "mimetype": "text/x-python",
   "name": "python",
   "nbconvert_exporter": "python",
   "pygments_lexer": "ipython3",
   "version": "3.6.0"
  },
  "toc": {
   "nav_menu": {
    "height": "318px",
    "width": "252px"
   },
   "number_sections": true,
   "sideBar": true,
   "skip_h1_title": false,
   "toc_cell": true,
   "toc_position": {},
   "toc_section_display": "block",
   "toc_window_display": true
  },
  "varInspector": {
   "cols": {
    "lenName": 16,
    "lenType": 16,
    "lenVar": 40
   },
   "kernels_config": {
    "python": {
     "delete_cmd_postfix": "",
     "delete_cmd_prefix": "del ",
     "library": "var_list.py",
     "varRefreshCmd": "print(var_dic_list())"
    },
    "r": {
     "delete_cmd_postfix": ") ",
     "delete_cmd_prefix": "rm(",
     "library": "var_list.r",
     "varRefreshCmd": "cat(var_dic_list()) "
    }
   },
   "types_to_exclude": [
    "module",
    "function",
    "builtin_function_or_method",
    "instance",
    "_Feature"
   ],
   "window_display": false
  }
 },
 "nbformat": 4,
 "nbformat_minor": 2
}
