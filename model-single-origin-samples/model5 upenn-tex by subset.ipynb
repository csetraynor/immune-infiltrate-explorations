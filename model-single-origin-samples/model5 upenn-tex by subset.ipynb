{
 "cells": [
  {
   "cell_type": "code",
   "execution_count": 14,
   "metadata": {
    "collapsed": false
   },
   "outputs": [],
   "source": [
    "import data\n",
    "import models\n",
    "import cache\n",
    "import seaborn as sns\n",
    "import numpy as np\n",
    "import pandas as pd\n",
    "import patsy\n",
    "from matplotlib import pyplot as plt"
   ]
  },
  {
   "cell_type": "code",
   "execution_count": 15,
   "metadata": {
    "collapsed": true
   },
   "outputs": [],
   "source": [
    "sns.set(context='talk')"
   ]
  },
  {
   "cell_type": "code",
   "execution_count": 16,
   "metadata": {
    "collapsed": true
   },
   "outputs": [],
   "source": [
    "model_name = 'model5'\n",
    "by = 'SubSet'\n",
    "sample_n = 500"
   ]
  },
  {
   "cell_type": "markdown",
   "metadata": {},
   "source": [
    "# Import upenn-tex data (local cache)"
   ]
  },
  {
   "cell_type": "code",
   "execution_count": 17,
   "metadata": {
    "collapsed": true
   },
   "outputs": [],
   "source": [
    "data_path = \"/home/elizachang/upenn-tex-data/inferelator_input/KP_RNAseq_counts.txt\"\n",
    "\n",
    "all_experiment_counts = pd.read_csv(data_path, sep=\"\\t\")"
   ]
  },
  {
   "cell_type": "code",
   "execution_count": 18,
   "metadata": {
    "collapsed": false,
    "scrolled": true
   },
   "outputs": [],
   "source": [
    "all_experiment_counts.set_index(keys='tracking_id', inplace=True)"
   ]
  },
  {
   "cell_type": "markdown",
   "metadata": {},
   "source": [
    "### Munge into `stan-data` format"
   ]
  },
  {
   "cell_type": "code",
   "execution_count": 19,
   "metadata": {
    "collapsed": false
   },
   "outputs": [],
   "source": [
    "upenn_df = all_experiment_counts.unstack().reset_index(name='est_counts')\n",
    "\n",
    "upenn_df.columns = ['experiment_name', 'gene', 'est_counts']\n",
    "\n",
    "upenn_df = upenn_df.sort_values(by='gene', ascending=False).reset_index()\n",
    "\n",
    "upenn_df['new_sample_id'] = range(1, 1+len(upenn_df))\n",
    "\n",
    "gene_set = set(upenn_df['gene'])\n",
    "\n",
    "gene_ids = {x:i+1 for i,x in enumerate(gene_set)} # gene is 1-indexed in the stan model\n",
    "\n",
    "upenn_df['new_gene_id'] = upenn_df['gene'].apply(lambda x: gene_ids[x])"
   ]
  },
  {
   "cell_type": "markdown",
   "metadata": {},
   "source": [
    "### Munge the data manifest for merging"
   ]
  },
  {
   "cell_type": "code",
   "execution_count": 20,
   "metadata": {
    "collapsed": false
   },
   "outputs": [
    {
     "name": "stderr",
     "output_type": "stream",
     "text": [
      "/home/elizachang/miniconda3/envs/ii/lib/python3.6/site-packages/ipykernel/__main__.py:9: SettingWithCopyWarning: \n",
      "A value is trying to be set on a copy of a slice from a DataFrame.\n",
      "Try using .loc[row_indexer,col_indexer] = value instead\n",
      "\n",
      "See the caveats in the documentation: http://pandas.pydata.org/pandas-docs/stable/indexing.html#indexing-view-versus-copy\n"
     ]
    }
   ],
   "source": [
    "data_manifest = pd.read_csv(\"/home/elizachang/upenn-tex/data/data_manifest.csv\")\n",
    "\n",
    "def tmp_fn(filename):\n",
    "    name = filename.split('.')[0]\n",
    "    return name.replace('_', '') \n",
    "\n",
    "rna_data_manifest = data_manifest[data_manifest['Type'] == 'RNA-Seq']\n",
    "\n",
    "rna_data_manifest['experiment_name'] = rna_data_manifest['File'].apply(lambda x: tmp_fn(x))"
   ]
  },
  {
   "cell_type": "code",
   "execution_count": 25,
   "metadata": {
    "collapsed": false
   },
   "outputs": [
    {
     "name": "stderr",
     "output_type": "stream",
     "text": [
      "/home/elizachang/miniconda3/envs/ii/lib/python3.6/site-packages/ipykernel/__main__.py:13: SettingWithCopyWarning: \n",
      "A value is trying to be set on a copy of a slice from a DataFrame.\n",
      "Try using .loc[row_indexer,col_indexer] = value instead\n",
      "\n",
      "See the caveats in the documentation: http://pandas.pydata.org/pandas-docs/stable/indexing.html#indexing-view-versus-copy\n"
     ]
    }
   ],
   "source": [
    "# map cell_type to indices in rna_data_manifest\n",
    "# n.b. \"d160\" and \"d235\" are day 160, 235 after infection; others are day 30\n",
    "cell_type_index_dict = {'CD8_naive': [0, 1], \n",
    "'CD8_exh_untreated': list(range(2,5)) + [9,10], \n",
    "'CD8_exh_PD-L1': list(range(5, 9)) + [11,12]\n",
    "}\n",
    "\n",
    "def map_cell_type(index, cell_type_index_dict):\n",
    "    for k, v in cell_type_index_dict.items():\n",
    "        if index in v:\n",
    "            return k\n",
    "\n",
    "rna_data_manifest[by] = rna_data_manifest.index.map(lambda x: map_cell_type(x, cell_type_index_dict))\n",
    "\n",
    "experiment_cell_map = rna_data_manifest[['experiment_name', by]]"
   ]
  },
  {
   "cell_type": "code",
   "execution_count": 26,
   "metadata": {
    "collapsed": false,
    "scrolled": true
   },
   "outputs": [],
   "source": [
    "# Do the merge\n",
    "\n",
    "full_df_ = pd.merge(upenn_df, experiment_cell_map, on='experiment_name', how='outer')\n",
    "\n",
    "full_df = full_df_[['new_gene_id', 'est_counts', 'new_sample_id', by]]"
   ]
  },
  {
   "cell_type": "markdown",
   "metadata": {},
   "source": [
    "# Turn into `stan_data`"
   ]
  },
  {
   "cell_type": "code",
   "execution_count": 27,
   "metadata": {
    "collapsed": false,
    "scrolled": true
   },
   "outputs": [],
   "source": [
    "stan_data = models.prep_stan_data(full_df, by=by)"
   ]
  },
  {
   "cell_type": "code",
   "execution_count": 28,
   "metadata": {
    "collapsed": true
   },
   "outputs": [],
   "source": [
    "from copy import deepcopy"
   ]
  },
  {
   "cell_type": "code",
   "execution_count": 29,
   "metadata": {
    "collapsed": true
   },
   "outputs": [],
   "source": [
    "cmdstan_data = deepcopy(stan_data)"
   ]
  },
  {
   "cell_type": "code",
   "execution_count": 30,
   "metadata": {
    "collapsed": false,
    "scrolled": true
   },
   "outputs": [
    {
     "data": {
      "text/plain": [
       "{'C': 3,\n",
       " 'G': 11325,\n",
       " 'M': 0,\n",
       " 'N': 147238,\n",
       " 'S': 147238,\n",
       " 'cell_features': Empty DataFrame\n",
       " Columns: []\n",
       " Index: [CD8_naive, CD8_exh_PD-L1, CD8_exh_untreated],\n",
       " 'gene': array([8804, 9081, 7520, ..., 9344, 4780, 3274]),\n",
       " 'sample': array([     1,     20,     33, ..., 147202, 147220, 147228]),\n",
       " 'x':         SubSet[CD8_exh_PD-L1]  SubSet[CD8_exh_untreated]  SubSet[CD8_naive]\n",
       " 0                         0.0                        0.0                1.0\n",
       " 1                         0.0                        0.0                1.0\n",
       " 2                         0.0                        0.0                1.0\n",
       " 3                         0.0                        0.0                1.0\n",
       " 4                         0.0                        0.0                1.0\n",
       " 5                         0.0                        0.0                1.0\n",
       " 6                         0.0                        0.0                1.0\n",
       " 7                         0.0                        0.0                1.0\n",
       " 8                         0.0                        0.0                1.0\n",
       " 9                         0.0                        0.0                1.0\n",
       " 10                        0.0                        0.0                1.0\n",
       " 11                        0.0                        0.0                1.0\n",
       " 12                        0.0                        0.0                1.0\n",
       " 13                        0.0                        0.0                1.0\n",
       " 14                        0.0                        0.0                1.0\n",
       " 15                        0.0                        0.0                1.0\n",
       " 16                        0.0                        0.0                1.0\n",
       " 17                        0.0                        0.0                1.0\n",
       " 18                        0.0                        0.0                1.0\n",
       " 19                        0.0                        0.0                1.0\n",
       " 20                        0.0                        0.0                1.0\n",
       " 21                        0.0                        0.0                1.0\n",
       " 22                        0.0                        0.0                1.0\n",
       " 23                        0.0                        0.0                1.0\n",
       " 24                        0.0                        0.0                1.0\n",
       " 25                        0.0                        0.0                1.0\n",
       " 26                        0.0                        0.0                1.0\n",
       " 27                        0.0                        0.0                1.0\n",
       " 28                        0.0                        0.0                1.0\n",
       " 29                        0.0                        0.0                1.0\n",
       " ...                       ...                        ...                ...\n",
       " 147208                    0.0                        1.0                0.0\n",
       " 147209                    0.0                        1.0                0.0\n",
       " 147210                    0.0                        1.0                0.0\n",
       " 147211                    0.0                        1.0                0.0\n",
       " 147212                    0.0                        1.0                0.0\n",
       " 147213                    0.0                        1.0                0.0\n",
       " 147214                    0.0                        1.0                0.0\n",
       " 147215                    0.0                        1.0                0.0\n",
       " 147216                    0.0                        1.0                0.0\n",
       " 147217                    0.0                        1.0                0.0\n",
       " 147218                    0.0                        1.0                0.0\n",
       " 147219                    0.0                        1.0                0.0\n",
       " 147220                    0.0                        1.0                0.0\n",
       " 147221                    0.0                        1.0                0.0\n",
       " 147222                    0.0                        1.0                0.0\n",
       " 147223                    0.0                        1.0                0.0\n",
       " 147224                    0.0                        1.0                0.0\n",
       " 147225                    0.0                        1.0                0.0\n",
       " 147226                    0.0                        1.0                0.0\n",
       " 147227                    0.0                        1.0                0.0\n",
       " 147228                    0.0                        1.0                0.0\n",
       " 147229                    0.0                        1.0                0.0\n",
       " 147230                    0.0                        1.0                0.0\n",
       " 147231                    0.0                        1.0                0.0\n",
       " 147232                    0.0                        1.0                0.0\n",
       " 147233                    0.0                        1.0                0.0\n",
       " 147234                    0.0                        1.0                0.0\n",
       " 147235                    0.0                        1.0                0.0\n",
       " 147236                    0.0                        1.0                0.0\n",
       " 147237                    0.0                        1.0                0.0\n",
       " \n",
       " [147238 rows x 3 columns],\n",
       " 'y': array([47, 10,  9, ...,  9, 14, 70])}"
      ]
     },
     "execution_count": 30,
     "metadata": {},
     "output_type": "execute_result"
    }
   ],
   "source": [
    "stan_data"
   ]
  },
  {
   "cell_type": "code",
   "execution_count": 31,
   "metadata": {
    "collapsed": false
   },
   "outputs": [
    {
     "data": {
      "text/plain": [
       "{'C': 3,\n",
       " 'G': 11325,\n",
       " 'M': 0,\n",
       " 'N': 147238,\n",
       " 'S': 147238,\n",
       " 'cell_features': array([], shape=(3, 0), dtype=float64),\n",
       " 'gene': array([8804, 9081, 7520, ..., 9344, 4780, 3274]),\n",
       " 'sample': array([     1,     20,     33, ..., 147202, 147220, 147228]),\n",
       " 'x': array([[ 0.,  0.,  1.],\n",
       "        [ 0.,  0.,  1.],\n",
       "        [ 0.,  0.,  1.],\n",
       "        ..., \n",
       "        [ 0.,  1.,  0.],\n",
       "        [ 0.,  1.,  0.],\n",
       "        [ 0.,  1.,  0.]]),\n",
       " 'y': array([47, 10,  9, ...,  9, 14, 70])}"
      ]
     },
     "execution_count": 31,
     "metadata": {},
     "output_type": "execute_result"
    }
   ],
   "source": [
    "for k, v in cmdstan_data.items():\n",
    "    if isinstance(v, pd.DataFrame):\n",
    "        cmdstan_data[k] = v.values\n",
    "\n",
    "cmdstan_data"
   ]
  },
  {
   "cell_type": "code",
   "execution_count": 32,
   "metadata": {
    "collapsed": false
   },
   "outputs": [
    {
     "data": {
      "text/plain": [
       "0"
      ]
     },
     "execution_count": 32,
     "metadata": {},
     "output_type": "execute_result"
    }
   ],
   "source": [
    "sum(cmdstan_data['sample'] < 0)"
   ]
  },
  {
   "cell_type": "markdown",
   "metadata": {},
   "source": [
    "### Model fitting below doesn't work - try converting to R dump format to run from `cmdstan`"
   ]
  },
  {
   "cell_type": "code",
   "execution_count": 33,
   "metadata": {
    "collapsed": false
   },
   "outputs": [],
   "source": [
    "import pystan"
   ]
  },
  {
   "cell_type": "code",
   "execution_count": 34,
   "metadata": {
    "collapsed": false
   },
   "outputs": [],
   "source": [
    "# prep_stan_data() currently does not support pd.DataFrame. Must be ndarray\n",
    "for k, v in cmdstan_data.items():\n",
    "    if isinstance(v, pd.DataFrame):\n",
    "        cmdstan_data[k] = v.values\n",
    "\n",
    "rdump = \"/home/elizachang/upenn-tex-data/immune-infiltrate/model5-tex-{}.data.R\".format(by)        \n",
    "        \n",
    "pystan.misc.stan_rdump(cmdstan_data, rdump)"
   ]
  },
  {
   "cell_type": "markdown",
   "metadata": {},
   "source": [
    "## Run model fitting"
   ]
  },
  {
   "cell_type": "code",
   "execution_count": null,
   "metadata": {
    "collapsed": false,
    "scrolled": true
   },
   "outputs": [
    {
     "name": "stdout",
     "output_type": "stream",
     "text": [
      "## neg binom parameterization\n",
      "## estimate correlation matrix among cell types\n",
      "data {\n",
      "    // dimensions\n",
      "    int<lower=1> N;  // N obs\n",
      "    int<lower=1> G;  // N genes\n",
      "    int<lower=1> S;  // N samples\n",
      "    int<lower=0> C;  // N classes (e.g. B-cell, T-cell, B_Naive, CD5, CD45RO, etc)\n",
      "                     //     note: classes should be mutually exclusive. Each row here should sum to 1\n",
      "    // int<lower=0> M; // number of cell-level predictors \n",
      "   \n",
      "    // data for each gene*sample\n",
      "    int<lower=1, upper=G> gene[N];    // gene id for each obs\n",
      "    int<lower=1, upper=S> sample[N];  // sample id for each obs\n",
      "    vector<lower=0, upper=1>[C] x[N]; // map each obs to each class (0:'- or ?', 1:'+')\n",
      "    int<lower=0> y[N];                // count/tpm for each obs\n",
      "    \n",
      "    // group-level predictors for each class C\n",
      "    // (to come) - \n",
      "}\n",
      "transformed data {\n",
      "    int sample_y[S, G];    // array (size SxG) of ints\n",
      "    vector[C] sample_x[S]; // array (size S) of vectors[C]\n",
      "    for (n in 1:N) {\n",
      "        sample_y[sample[n], gene[n]] = y[n];\n",
      "        sample_x[sample[n]] = x[n,];\n",
      "    }\n",
      "}\n",
      "parameters {\n",
      "    corr_matrix[C] Omega;        // degree of correlation among loading factors for each cell type\n",
      "    vector<lower=0>[C] tau;      // scale for each cell type - multiplied (on diagonal) with Omega\n",
      "    matrix<lower=0>[G, C] theta; // loading factors for each gene, for each cell type\n",
      "    vector[C] theta_mu;\n",
      "    \n",
      "    vector<lower=0>[G] log_gene_base;     // constant intercept expression level for each gene, irrespective of cell type\n",
      "    vector<lower=0>[G] gene_phi;          // overdispersion parameter per transcript (for now)\n",
      "}\n",
      "model {\n",
      "    tau ~ cauchy(0, 2.5);\n",
      "    Omega ~ lkj_corr(2);\n",
      "    theta_mu ~ normal(0, 1);\n",
      "    for (g in 1:G) {\n",
      "        theta[g] ~ multi_normal(theta_mu, quad_form_diag(Omega, tau));\n",
      "    }\n",
      "    log_gene_base ~ normal(0, 1);\n",
      "    gene_phi ~ normal(0, 1);\n",
      "    for (s in 1:S) {\n",
      "        vector[G] log_expected_rate;\n",
      "        log_expected_rate = log_gene_base + log(theta*sample_x[s]);\n",
      "//\tprint(\"log_gene_base \", log_gene_base);\n",
      "//\tprint(\"log_expected_rate \", log_expected_rate);\n",
      "        sample_y[s] ~ neg_binomial_2_log(log_expected_rate, gene_phi);\n",
      "    }\n",
      "}\n",
      "generated quantities {\n",
      "    int y_rep[N];\n",
      "    real log_lik[N];\n",
      "    \n",
      "    for (n in 1:N) {\n",
      "        real log_expected_rate;\n",
      "        log_expected_rate = log_gene_base[gene[n]] + log(theta[gene[n], ]*x[n]);\n",
      "        y_rep[n] = neg_binomial_2_log_rng(log_expected_rate, gene_phi[gene[n]]);\n",
      "        log_lik[n] = neg_binomial_2_log_lpmf(y[n] | log_expected_rate, gene_phi[gene[n]]);\n",
      "    }\n",
      "}\n",
      "\n"
     ]
    }
   ],
   "source": [
    "model_file = models.get_model_file(model_name=model_name)\n",
    "print(cache._read_file(model_file))"
   ]
  },
  {
   "cell_type": "code",
   "execution_count": null,
   "metadata": {
    "collapsed": false,
    "scrolled": false
   },
   "outputs": [
    {
     "name": "stderr",
     "output_type": "stream",
     "text": [
      "INFO:stancache.stancache:Step 1: Get compiled model code, possibly from cache\n",
      "INFO:stancache.stancache:StanModel: cache_filename set to model5.cython_0_25_1.model_code_15550038732164966801.pystan_2_12_0_0.stanmodel.pkl\n",
      "INFO:stancache.stancache:StanModel: Starting execution\n",
      "INFO:pystan:COMPILING THE C++ CODE FOR MODEL model5_ae1010523a62a92a2318939fc3104d5f NOW.\n"
     ]
    }
   ],
   "source": [
    "model_fit = models.cached_stan_fit(file=model_file, data=stan_data, iter=5000, model_name=model_name)"
   ]
  },
  {
   "cell_type": "code",
   "execution_count": null,
   "metadata": {
    "collapsed": true
   },
   "outputs": [],
   "source": []
  }
 ],
 "metadata": {
  "kernelspec": {
   "display_name": "Python 3",
   "language": "python",
   "name": "python3"
  },
  "language_info": {
   "codemirror_mode": {
    "name": "ipython",
    "version": 3
   },
   "file_extension": ".py",
   "mimetype": "text/x-python",
   "name": "python",
   "nbconvert_exporter": "python",
   "pygments_lexer": "ipython3",
   "version": "3.6.0"
  }
 },
 "nbformat": 4,
 "nbformat_minor": 2
}
