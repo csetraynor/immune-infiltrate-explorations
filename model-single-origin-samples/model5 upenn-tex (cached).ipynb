{
 "cells": [
  {
   "cell_type": "code",
   "execution_count": 29,
   "metadata": {
    "ExecuteTime": {
     "end_time": "2017-03-07T16:46:33.850488",
     "start_time": "2017-03-07T16:46:33.845047"
    },
    "collapsed": false
   },
   "outputs": [],
   "source": [
    "import data\n",
    "import models\n",
    "import cache\n",
    "import seaborn as sns\n",
    "import numpy as np\n",
    "import pandas as pd\n",
    "import patsy\n",
    "from matplotlib import pyplot as plt"
   ]
  },
  {
   "cell_type": "code",
   "execution_count": 2,
   "metadata": {
    "ExecuteTime": {
     "end_time": "2017-03-07T16:40:34.617360",
     "start_time": "2017-03-07T16:40:34.613594"
    },
    "collapsed": false
   },
   "outputs": [],
   "source": [
    "sns.set(context='talk')"
   ]
  },
  {
   "cell_type": "code",
   "execution_count": 28,
   "metadata": {
    "ExecuteTime": {
     "end_time": "2017-03-07T16:46:30.104032",
     "start_time": "2017-03-07T16:46:30.097548"
    },
    "collapsed": true
   },
   "outputs": [],
   "source": [
    "model_name = 'model5'\n",
    "by = 'cell_type'"
   ]
  },
  {
   "cell_type": "markdown",
   "metadata": {},
   "source": [
    "# Import upenn-tex data (local cache)"
   ]
  },
  {
   "cell_type": "code",
   "execution_count": 35,
   "metadata": {
    "ExecuteTime": {
     "end_time": "2017-03-07T17:13:02.764010",
     "start_time": "2017-03-07T17:13:02.682041"
    },
    "collapsed": true
   },
   "outputs": [],
   "source": [
    "def import_upenn_tex(data_path=\"../upenn-tex/data/inferelator_input/KP_RNAseq_counts.txt\",\n",
    "                    manifest_data_path=\"../upenn-tex/data/data_manifest.csv\"):\n",
    "    # prep experiment data\n",
    "    all_experiment_counts = pd.read_csv(data_path, sep=\"\\t\")\n",
    "    \n",
    "    # prep experiment data\n",
    "    all_experiment_counts.set_index(keys='tracking_id', inplace=True)\n",
    "    upenn_df = all_experiment_counts.unstack().reset_index(name='est_counts')\n",
    "    upenn_df.columns = ['experiment_name', 'gene', 'est_counts']\n",
    "    upenn_df = upenn_df.sort_values(by='gene', ascending=False).reset_index()\n",
    "    \n",
    "    # numeric ids for sample (experiment) & transcript\n",
    "    experiment_set = set(upenn_df['experiment_name'])\n",
    "    experiment_ids = {x:i+1 for i,x in enumerate(experiment_set)}\n",
    "    upenn_df['experiment_id'] = upenn_df['experiment_name'].apply(lambda x: experiment_ids[x])\n",
    "    upenn_df['new_sample_id'] = upenn_df['experiment_id']\n",
    "    gene_set = set(upenn_df['gene'])\n",
    "    gene_ids = {x:i+1 for i,x in enumerate(gene_set)} # gene is 1-indexed in the stan model\n",
    "    upenn_df['new_gene_id'] = upenn_df['gene'].apply(lambda x: gene_ids[x])\n",
    "    \n",
    "    # de-dup '2-Mar' transcript (for now)\n",
    "    duplicated_by_experiment = upenn_df[upenn_df\\\n",
    "                                         .duplicated(subset=['experiment_name','gene'])\\\n",
    "                                        ]\\\n",
    "        .loc[:,['experiment_name','gene']].copy()\n",
    "    duplicated_records = pd.merge(upenn_df,\n",
    "         duplicated_by_experiment,\n",
    "         on=['experiment_name','gene'],\n",
    "        )\n",
    "    assert(all(duplicated_records['gene'] == '2-Mar'))\n",
    "    upenn_df2 = upenn_df.loc[upenn_df['gene'] != '2-Mar',:].copy()\n",
    "    # re-index gene ids\n",
    "    gene_set2 = set(upenn_df2['gene'])\n",
    "    gene_ids2 = {x:i+1 for i,x in enumerate(gene_set2)} # gene is 1-indexed in the stan model\n",
    "    upenn_df2['new_gene_id'] = upenn_df2['gene'].apply(lambda x: gene_ids2[x])\n",
    "    \n",
    "    # confirm no duplicates \n",
    "    duplicated_by_experiment2 = upenn_df2[upenn_df2\\\n",
    "                                         .duplicated(subset=['experiment_name','gene'])\\\n",
    "                                        ]\\\n",
    "        .loc[:,['experiment_name','gene']].copy()\n",
    "    assert(len(duplicated_by_experiment2)==0)\n",
    "\n",
    "    # prep data manifest\n",
    "    data_manifest = pd.read_csv(manifest_data_path)\n",
    "    def tmp_fn(filename):\n",
    "        name = filename.split('.')[0]\n",
    "        return name.replace('_', '') \n",
    "    rna_data_manifest = data_manifest[data_manifest['Type'] == 'RNA-Seq'].copy()\n",
    "    rna_data_manifest['experiment_name'] = rna_data_manifest['File'].apply(lambda x: tmp_fn(x))\n",
    "    # map cell_type to indices in rna_data_manifest\n",
    "    # n.b. \"d160\" and \"d235\" are day 160, 235 after infection; others are day 30\n",
    "    cell_type_index_dict = {\n",
    "        'CD8_naive': [0, 1], \n",
    "        'CD8_exh_untreated': list(range(2,5)) + [9,10], \n",
    "        'CD8_exh_PD-L1': list(range(5, 9)) + [11,12]\n",
    "    }\n",
    "\n",
    "    def map_cell_type(index, cell_type_index_dict):\n",
    "        for k, v in cell_type_index_dict.items():\n",
    "            if index in v:\n",
    "                return k\n",
    "\n",
    "    rna_data_manifest['cell_type'] = rna_data_manifest.index.map(lambda x: map_cell_type(x, cell_type_index_dict))\n",
    "    experiment_cell_map = rna_data_manifest[['experiment_name', 'cell_type']]\n",
    "    \n",
    "    # merge manifest & expression data\n",
    "    full_df_ = pd.merge(upenn_df2, experiment_cell_map, on='experiment_name', how='outer')\n",
    "    full_df = full_df_[['new_gene_id', 'est_counts', 'new_sample_id', 'cell_type']]\n",
    "    return full_df\n"
   ]
  },
  {
   "cell_type": "code",
   "execution_count": 36,
   "metadata": {
    "ExecuteTime": {
     "end_time": "2017-03-07T17:13:03.932326",
     "start_time": "2017-03-07T17:13:03.127496"
    },
    "collapsed": false
   },
   "outputs": [
    {
     "name": "stderr",
     "output_type": "stream",
     "text": [
      "INFO:stancache.stancache:import_upenn_tex: cache_filename set to import_upenn_tex.cached.default.pkl\n",
      "INFO:stancache.stancache:import_upenn_tex: Starting execution\n",
      "INFO:stancache.stancache:import_upenn_tex: Execution completed (0:00:00.736580 elapsed)\n",
      "INFO:stancache.stancache:import_upenn_tex: Saving results to cache\n"
     ]
    }
   ],
   "source": [
    "full_df = cache.cached(import_upenn_tex)"
   ]
  },
  {
   "cell_type": "markdown",
   "metadata": {},
   "source": [
    "# Turn into `stan_data`"
   ]
  },
  {
   "cell_type": "code",
   "execution_count": 38,
   "metadata": {
    "ExecuteTime": {
     "end_time": "2017-03-07T17:13:45.374615",
     "start_time": "2017-03-07T17:13:43.295667"
    },
    "collapsed": false,
    "scrolled": true
   },
   "outputs": [
    {
     "name": "stderr",
     "output_type": "stream",
     "text": [
      "INFO:stancache.stancache:prep_stan_data: cache_filename set to prep_stan_data.cached.by_cell_type.sample_df_8873201493.pkl\n",
      "INFO:stancache.stancache:prep_stan_data: Starting execution\n",
      "INFO:stancache.stancache:prep_stan_data: Execution completed (0:00:00.717323 elapsed)\n",
      "INFO:stancache.stancache:prep_stan_data: Saving results to cache\n"
     ]
    }
   ],
   "source": [
    "stan_data = cache.cached(models.prep_stan_data, sample_df=full_df, by=by)"
   ]
  },
  {
   "cell_type": "markdown",
   "metadata": {},
   "source": [
    "# Run model fitting"
   ]
  },
  {
   "cell_type": "code",
   "execution_count": 25,
   "metadata": {
    "ExecuteTime": {
     "end_time": "2017-03-07T16:45:17.814608",
     "start_time": "2017-03-07T16:45:17.795534"
    },
    "collapsed": false,
    "scrolled": true
   },
   "outputs": [
    {
     "name": "stdout",
     "output_type": "stream",
     "text": [
      "## neg binom parameterization\n",
      "## estimate correlation matrix among cell types\n",
      "data {\n",
      "    // dimensions\n",
      "    int<lower=1> N;  // N obs\n",
      "    int<lower=1> G;  // N genes\n",
      "    int<lower=1> S;  // N samples\n",
      "    int<lower=0> C;  // N classes (e.g. B-cell, T-cell, B_Naive, CD5, CD45RO, etc)\n",
      "                     //     note: classes should be mutually exclusive. Each row here should sum to 1\n",
      "    // int<lower=0> M; // number of cell-level predictors \n",
      "   \n",
      "    // data for each gene*sample\n",
      "    int<lower=1, upper=G> gene[N];    // gene id for each obs\n",
      "    int<lower=1, upper=S> sample[N];  // sample id for each obs\n",
      "    vector<lower=0, upper=1>[C] x[N]; // map each obs to each class (0:'- or ?', 1:'+')\n",
      "    int<lower=0> y[N];                // count/tpm for each obs\n",
      "    \n",
      "    // group-level predictors for each class C\n",
      "    // (to come) - \n",
      "}\n",
      "transformed data {\n",
      "    int sample_y[S, G];    // array (size SxG) of ints\n",
      "    vector[C] sample_x[S]; // array (size S) of vectors[C]\n",
      "    for (n in 1:N) {\n",
      "        sample_y[sample[n], gene[n]] = y[n];\n",
      "        sample_x[sample[n]] = x[n,];\n",
      "    }\n",
      "}\n",
      "parameters {\n",
      "    corr_matrix[C] Omega;        // degree of correlation among loading factors for each cell type\n",
      "    vector<lower=0>[C] tau;      // scale for each cell type - multiplied (on diagonal) with Omega\n",
      "    matrix<lower=0>[G, C] theta; // loading factors for each gene, for each cell type\n",
      "    vector[C] theta_mu;\n",
      "    \n",
      "    vector[G] log_gene_base;     // constant intercept expression level for each gene, irrespective of cell type\n",
      "    vector<lower=0>[G] gene_phi;          // overdispersion parameter per transcript (for now)\n",
      "}\n",
      "model {\n",
      "    tau ~ cauchy(0, 2.5);\n",
      "    Omega ~ lkj_corr(2);\n",
      "    theta_mu ~ normal(0, 1);\n",
      "    for (g in 1:G) {\n",
      "        theta[g] ~ multi_normal(theta_mu, quad_form_diag(Omega, tau));\n",
      "    }\n",
      "    log_gene_base ~ normal(0, 1);\n",
      "    gene_phi ~ normal(0, 1);\n",
      "    for (s in 1:S) {\n",
      "        vector[G] log_expected_rate;\n",
      "        log_expected_rate = log_gene_base + log(theta*sample_x[s]);\n",
      "        sample_y[s] ~ neg_binomial_2_log(log_expected_rate, gene_phi);\n",
      "    }\n",
      "}\n",
      "generated quantities {\n",
      "    int y_rep[N];\n",
      "    real log_lik[N];\n",
      "    \n",
      "    for (n in 1:N) {\n",
      "        real log_expected_rate;\n",
      "        log_expected_rate = log_gene_base[gene[n]] + log(theta[gene[n], ]*x[n]);\n",
      "        y_rep[n] = neg_binomial_2_log_rng(log_expected_rate, gene_phi[gene[n]]);\n",
      "        log_lik[n] = neg_binomial_2_log_lpmf(y[n] | log_expected_rate, gene_phi[gene[n]]);\n",
      "    }\n",
      "}\n",
      "\n"
     ]
    }
   ],
   "source": [
    "model_file = models.get_model_file(model_name=model_name)\n",
    "print(cache._read_file(model_file))"
   ]
  },
  {
   "cell_type": "code",
   "execution_count": 41,
   "metadata": {
    "ExecuteTime": {
     "end_time": "2017-03-07T17:14:48.517608",
     "start_time": "2017-03-07T17:14:39.036087"
    },
    "collapsed": false,
    "scrolled": false
   },
   "outputs": [
    {
     "name": "stderr",
     "output_type": "stream",
     "text": [
      "INFO:stancache.stancache:Step 1: Get compiled model code, possibly from cache\n",
      "INFO:stancache.stancache:StanModel: cache_filename set to model5.cython_0_25_1.model_code_12673779526111968781.pystan_2_12_0_0.stanmodel.pkl\n",
      "INFO:stancache.stancache:StanModel: Loading result from cache\n",
      "INFO:stancache.stancache:Step 2: Get posterior draws from model, possibly from cache\n",
      "INFO:stancache.stancache:sampling: cache_filename set to model5.cython_0_25_1.model_code_12673779526111968781.pystan_2_12_0_0.stanfit.chains_4.data_49159624310.iter_5.seed_1245502385.pkl\n",
      "INFO:stancache.stancache:sampling: Loading result from cache\n"
     ]
    }
   ],
   "source": [
    "model_fit = models.cached_stan_fit(file=model_file, data=stan_data, iter=5, model_name=model_name)"
   ]
  },
  {
   "cell_type": "code",
   "execution_count": null,
   "metadata": {
    "ExecuteTime": {
     "start_time": "2017-03-07T17:14:58.587Z"
    },
    "collapsed": false
   },
   "outputs": [
    {
     "name": "stderr",
     "output_type": "stream",
     "text": [
      "INFO:stancache.stancache:Step 1: Get compiled model code, possibly from cache\n",
      "INFO:stancache.stancache:StanModel: cache_filename set to model5.cython_0_25_1.model_code_12673779526111968781.pystan_2_12_0_0.stanmodel.pkl\n",
      "INFO:stancache.stancache:StanModel: Loading result from cache\n",
      "INFO:stancache.stancache:Step 2: Get posterior draws from model, possibly from cache\n",
      "INFO:stancache.stancache:sampling: cache_filename set to model5.cython_0_25_1.model_code_12673779526111968781.pystan_2_12_0_0.stanfit.chains_4.data_49159624310.iter_1000.seed_1245502385.pkl\n",
      "INFO:stancache.stancache:sampling: Starting execution\n"
     ]
    }
   ],
   "source": [
    "model_fit = models.cached_stan_fit(file=model_file, data=stan_data, iter=1000, model_name=model_name)"
   ]
  },
  {
   "cell_type": "code",
   "execution_count": null,
   "metadata": {
    "collapsed": true
   },
   "outputs": [],
   "source": []
  }
 ],
 "metadata": {
  "kernelspec": {
   "display_name": "immune3",
   "language": "python",
   "name": "immune3"
  },
  "language_info": {
   "codemirror_mode": {
    "name": "ipython",
    "version": 3
   },
   "file_extension": ".py",
   "mimetype": "text/x-python",
   "name": "python",
   "nbconvert_exporter": "python",
   "pygments_lexer": "ipython3",
   "version": "3.6.0"
  },
  "toc": {
   "nav_menu": {
    "height": "156px",
    "width": "252px"
   },
   "navigate_menu": true,
   "number_sections": true,
   "sideBar": true,
   "threshold": 4,
   "toc_cell": false,
   "toc_section_display": "block",
   "toc_window_display": false
  }
 },
 "nbformat": 4,
 "nbformat_minor": 2
}
