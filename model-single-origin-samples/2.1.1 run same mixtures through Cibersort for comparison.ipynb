{
 "cells": [
  {
   "cell_type": "markdown",
   "metadata": {},
   "source": [
    "We're going to remake the same synthetic mixtures we ran through out Stan model.\n",
    "\n",
    "Sadly our list of selected genes was not saved. So we have to rerun Stan on these mixtures.\n",
    "\n",
    "Then we'll run them thru Cibersort.\n",
    "\n",
    "Then we'll produce new figures with Cibersort results overlaid.\n",
    "\n",
    "# Remake\n",
    "\n",
    "Based on `2.1_oos_syntheticmixtures_markergenes.py` -- with significant changes\n",
    "\n",
    "## marker genes + background genes selection (now reproducible)\n",
    "\n"
   ]
  },
  {
   "cell_type": "code",
   "execution_count": 2,
   "metadata": {
    "collapsed": false
   },
   "outputs": [
    {
     "name": "stderr",
     "output_type": "stream",
     "text": [
      "INFO:stancache.seed:Setting seed to 1245502385\n",
      "INFO:root:Setting CACHE_DIR = /home/jovyan/modelcache/mz\n",
      "INFO:stancache.seed:Setting seed to 1245502385\n"
     ]
    }
   ],
   "source": [
    "import numpy as np\n",
    "import matplotlib as mpl\n",
    "import data\n",
    "import models\n",
    "import cache\n",
    "import pandas as pd\n",
    "import matplotlib.pyplot as plt\n",
    "%matplotlib inline\n",
    "import seaborn as sns\n",
    "import pystan\n",
    "from time import time\n",
    "from datetime import timedelta\n",
    "import pickle\n",
    "import dill"
   ]
  },
  {
   "cell_type": "code",
   "execution_count": 3,
   "metadata": {
    "collapsed": false
   },
   "outputs": [
    {
     "data": {
      "text/html": [
       "<div>\n",
       "<table border=\"1\" class=\"dataframe\">\n",
       "  <thead>\n",
       "    <tr style=\"text-align: right;\">\n",
       "      <th></th>\n",
       "      <th>CellType</th>\n",
       "      <th>Symbol</th>\n",
       "      <th>AffymetrixID</th>\n",
       "      <th>UGCluster</th>\n",
       "      <th>EntrezGene</th>\n",
       "      <th>Name</th>\n",
       "    </tr>\n",
       "  </thead>\n",
       "  <tbody>\n",
       "    <tr>\n",
       "      <th>0</th>\n",
       "      <td>aDC</td>\n",
       "      <td>CCL1</td>\n",
       "      <td>207533_at</td>\n",
       "      <td>Hs.72918</td>\n",
       "      <td>6346</td>\n",
       "      <td>chemokine (C-C motif) ligand 1</td>\n",
       "    </tr>\n",
       "    <tr>\n",
       "      <th>1</th>\n",
       "      <td>aDC</td>\n",
       "      <td>EBI3</td>\n",
       "      <td>219424_at</td>\n",
       "      <td>Hs.501452</td>\n",
       "      <td>10148</td>\n",
       "      <td>Epstein-Barr virus induced gene 3</td>\n",
       "    </tr>\n",
       "    <tr>\n",
       "      <th>2</th>\n",
       "      <td>aDC</td>\n",
       "      <td>INDO</td>\n",
       "      <td>210029_at</td>\n",
       "      <td>Hs.840</td>\n",
       "      <td>3620</td>\n",
       "      <td>indoleamine-pyrrole 2,3 dioxygenase</td>\n",
       "    </tr>\n",
       "    <tr>\n",
       "      <th>3</th>\n",
       "      <td>aDC</td>\n",
       "      <td>LAMP3</td>\n",
       "      <td>205569_at</td>\n",
       "      <td>Hs.518448</td>\n",
       "      <td>27074</td>\n",
       "      <td>lysosomal-associated membrane protein 3</td>\n",
       "    </tr>\n",
       "    <tr>\n",
       "      <th>4</th>\n",
       "      <td>aDC</td>\n",
       "      <td>OAS3</td>\n",
       "      <td>218400_at</td>\n",
       "      <td>Hs.528634</td>\n",
       "      <td>4940</td>\n",
       "      <td>2'-5'-oligoadenylate synthetase 3, 100kDa</td>\n",
       "    </tr>\n",
       "  </tbody>\n",
       "</table>\n",
       "</div>"
      ],
      "text/plain": [
       "  CellType Symbol AffymetrixID  UGCluster  EntrezGene   \\\n",
       "0      aDC   CCL1    207533_at   Hs.72918         6346   \n",
       "1      aDC   EBI3    219424_at  Hs.501452        10148   \n",
       "2      aDC   INDO    210029_at     Hs.840         3620   \n",
       "3      aDC  LAMP3    205569_at  Hs.518448        27074   \n",
       "4      aDC   OAS3    218400_at  Hs.528634         4940   \n",
       "\n",
       "                                        Name  \n",
       "0             chemokine (C-C motif) ligand 1  \n",
       "1          Epstein-Barr virus induced gene 3  \n",
       "2        indoleamine-pyrrole 2,3 dioxygenase  \n",
       "3    lysosomal-associated membrane protein 3  \n",
       "4  2'-5'-oligoadenylate synthetase 3, 100kDa  "
      ]
     },
     "execution_count": 3,
     "metadata": {},
     "output_type": "execute_result"
    }
   ],
   "source": [
    "bindea = pd.read_csv('../curated_data/pure_samples/bindea/Bindea Immunome - Bindea paper.csv')\n",
    "bindea.head()"
   ]
  },
  {
   "cell_type": "code",
   "execution_count": 4,
   "metadata": {
    "collapsed": false
   },
   "outputs": [
    {
     "data": {
      "text/plain": [
       "579"
      ]
     },
     "execution_count": 4,
     "metadata": {},
     "output_type": "execute_result"
    }
   ],
   "source": [
    "marker_genes = bindea.Symbol.unique()\n",
    "len(marker_genes)"
   ]
  },
  {
   "cell_type": "code",
   "execution_count": 5,
   "metadata": {
    "collapsed": true
   },
   "outputs": [],
   "source": [
    "model_name = 'model6.2'\n",
    "by = 'SubSet'\n",
    "total_num_genes = 800 # number we want to have total"
   ]
  },
  {
   "cell_type": "code",
   "execution_count": 6,
   "metadata": {
    "collapsed": false
   },
   "outputs": [
    {
     "name": "stderr",
     "output_type": "stream",
     "text": [
      "INFO:stancache.stancache:prep_sample_df: cache_filename set to prep_sample_df.cached.sample_n_82429761595.pkl\n",
      "INFO:stancache.stancache:prep_sample_df: Starting execution\n",
      "INFO:stancache.stancache:prep_annotated_data: cache_filename set to prep_annotated_data.cached.default.pkl\n",
      "INFO:stancache.stancache:prep_annotated_data: Starting execution\n",
      "INFO:stancache.stancache:prep_annotated_data: Execution completed (0:12:57.256852 elapsed)\n",
      "INFO:stancache.stancache:prep_annotated_data: Saving results to cache\n",
      "INFO:stancache.stancache:prep_sample_df: Execution completed (0:13:12.366902 elapsed)\n",
      "INFO:stancache.stancache:prep_sample_df: Saving results to cache\n"
     ]
    }
   ],
   "source": [
    "sample_df = cache.cached(models.prep_sample_df,\n",
    "                         sample_n=None)"
   ]
  },
  {
   "cell_type": "code",
   "execution_count": 14,
   "metadata": {
    "collapsed": false
   },
   "outputs": [
    {
     "data": {
      "text/plain": [
       "array(['CD4_Th2', 'CD8_Effector', 'B_CD5', 'B_Memory', 'CD4_Th1',\n",
       "       'CD4_Naive', 'B_Naive', 'CD4_Effector_Memory', 'CD8_Central_Memory',\n",
       "       'CD4_Central_Memory', 'CD4_Treg', 'CD8_Naive', 'CD4_Th17'], dtype=object)"
      ]
     },
     "execution_count": 14,
     "metadata": {},
     "output_type": "execute_result"
    }
   ],
   "source": [
    "sample_df.SubSet.unique()"
   ]
  },
  {
   "cell_type": "code",
   "execution_count": 15,
   "metadata": {
    "collapsed": false
   },
   "outputs": [
    {
     "name": "stdout",
     "output_type": "stream",
     "text": [
      "desired size: 281\n"
     ]
    },
    {
     "data": {
      "text/plain": [
       "281"
      ]
     },
     "execution_count": 15,
     "metadata": {},
     "output_type": "execute_result"
    }
   ],
   "source": [
    "all_genes = sample_df.gene_name.unique()\n",
    "marker_genes_adjusted = list(set(marker_genes) - (set(marker_genes) - set(all_genes)))\n",
    "genes_to_sample_from = list(set(all_genes) - set(marker_genes_adjusted))\n",
    "print('desired size:', total_num_genes-len(marker_genes_adjusted))\n",
    "sampled_genes = np.random.choice(genes_to_sample_from, size=total_num_genes-len(marker_genes_adjusted))\n",
    "len(sampled_genes)"
   ]
  },
  {
   "cell_type": "code",
   "execution_count": 26,
   "metadata": {
    "collapsed": false
   },
   "outputs": [],
   "source": [
    "selected_genes = np.concatenate([marker_genes_adjusted, sampled_genes]).tolist()\n",
    "assert len(selected_genes) == total_num_genes"
   ]
  },
  {
   "cell_type": "code",
   "execution_count": 28,
   "metadata": {
    "collapsed": false
   },
   "outputs": [],
   "source": [
    "# pickle out selected gene list\n",
    "import pickle\n",
    "pickle.dump(selected_genes, open('logs/2.1.1_selectedgenes.pkl', 'wb'), pickle.HIGHEST_PROTOCOL)"
   ]
  },
  {
   "cell_type": "code",
   "execution_count": 29,
   "metadata": {
    "collapsed": false
   },
   "outputs": [
    {
     "name": "stderr",
     "output_type": "stream",
     "text": [
      "INFO:stancache.stancache:prep_sample_df: cache_filename set to prep_sample_df.cached.sample_gene_list_14312972822.pkl\n",
      "INFO:stancache.stancache:prep_sample_df: Starting execution\n",
      "INFO:stancache.stancache:prep_annotated_data: cache_filename set to prep_annotated_data.cached.default.pkl\n",
      "INFO:stancache.stancache:prep_annotated_data: Loading result from cache\n",
      "INFO:stancache.stancache:prep_sample_df: Execution completed (0:00:05.361277 elapsed)\n",
      "INFO:stancache.stancache:prep_sample_df: Saving results to cache\n"
     ]
    }
   ],
   "source": [
    "filtered_sample_df = cache.cached(models.prep_sample_df,\n",
    "                                 sample_gene_list=selected_genes)"
   ]
  },
  {
   "cell_type": "code",
   "execution_count": 30,
   "metadata": {
    "collapsed": false
   },
   "outputs": [
    {
     "data": {
      "text/plain": [
       "((2194416, 41), (50274, 41))"
      ]
     },
     "execution_count": 30,
     "metadata": {},
     "output_type": "execute_result"
    }
   ],
   "source": [
    "sample_df.shape, filtered_sample_df.shape"
   ]
  },
  {
   "cell_type": "code",
   "execution_count": 31,
   "metadata": {
    "collapsed": false
   },
   "outputs": [
    {
     "data": {
      "text/plain": [
       "798"
      ]
     },
     "execution_count": 31,
     "metadata": {},
     "output_type": "execute_result"
    }
   ],
   "source": [
    "len(filtered_sample_df.gene_name.unique())"
   ]
  },
  {
   "cell_type": "code",
   "execution_count": 32,
   "metadata": {
    "collapsed": false
   },
   "outputs": [
    {
     "name": "stdout",
     "output_type": "stream",
     "text": [
      "filtered sample df number of genes: 798\n"
     ]
    }
   ],
   "source": [
    "print('filtered sample df number of genes:', len(filtered_sample_df.gene_name.unique()))"
   ]
  },
  {
   "cell_type": "code",
   "execution_count": 33,
   "metadata": {
    "collapsed": true
   },
   "outputs": [],
   "source": [
    "pickle.dump(filtered_sample_df.gene_name.unique().tolist(),\n",
    "            open('logs/2.1.1_selectedgenes.TRUE.pkl', 'wb'),\n",
    "            pickle.HIGHEST_PROTOCOL)"
   ]
  },
  {
   "cell_type": "code",
   "execution_count": 34,
   "metadata": {
    "collapsed": true
   },
   "outputs": [],
   "source": [
    "training_df = filtered_sample_df"
   ]
  },
  {
   "cell_type": "markdown",
   "metadata": {},
   "source": [
    "## synthetic mixtures"
   ]
  },
  {
   "cell_type": "code",
   "execution_count": 36,
   "metadata": {
    "collapsed": false
   },
   "outputs": [
    {
     "data": {
      "text/plain": [
       "{'C': 13,\n",
       " 'G': 798,\n",
       " 'M': 20,\n",
       " 'N': 50274,\n",
       " 'S': 63,\n",
       " 'cell_features':                      CCR6+  CCR7+  CCR7-  CD127-  CD161+  CD19+  CD25+  CD27+  \\\n",
       " SubSet                                                                          \n",
       " CD4_Th2                0.0    0.0    0.0     0.0     0.0    0.0    0.0    0.0   \n",
       " CD8_Effector           0.0    0.0    1.0     0.0     0.0    0.0    0.0    0.0   \n",
       " B_CD5                  0.0    0.0    0.0     0.0     0.0    1.0    0.0    0.0   \n",
       " B_Memory               0.0    0.0    0.0     0.0     0.0    1.0    0.0    1.0   \n",
       " CD4_Th1                0.0    0.0    0.0     0.0     0.0    0.0    0.0    0.0   \n",
       " CD4_Naive              0.0    1.0    0.0     0.0     0.0    0.0    0.0    0.0   \n",
       " B_Naive                0.0    0.0    0.0     0.0     0.0    1.0    0.0    0.0   \n",
       " CD4_Effector_Memory    0.0    0.0    1.0     0.0     0.0    0.0    0.0    0.0   \n",
       " CD8_Central_Memory     0.0    1.0    0.0     0.0     0.0    0.0    0.0    0.0   \n",
       " CD4_Central_Memory     0.0    1.0    0.0     0.0     0.0    0.0    0.0    0.0   \n",
       " CD4_Treg               0.0    0.0    0.0     1.0     0.0    0.0    1.0    0.0   \n",
       " CD8_Naive              0.0    1.0    0.0     0.0     0.0    0.0    0.0    0.0   \n",
       " CD4_Th17               1.0    0.0    0.0     0.0     1.0    0.0    0.0    0.0   \n",
       " \n",
       "                      CD27-  CD4+  CD45RA+  CD45RA-  CD45RO+  CD45RO-  CD5+  \\\n",
       " SubSet                                                                       \n",
       " CD4_Th2                0.0   1.0      0.0      0.0      0.0      0.0   0.0   \n",
       " CD8_Effector           0.0   0.0      0.0      1.0      1.0      0.0   0.0   \n",
       " B_CD5                  0.0   0.0      0.0      0.0      0.0      0.0   1.0   \n",
       " B_Memory               0.0   0.0      0.0      0.0      0.0      0.0   0.0   \n",
       " CD4_Th1                0.0   1.0      0.0      0.0      0.0      0.0   0.0   \n",
       " CD4_Naive              0.0   1.0      1.0      0.0      0.0      1.0   0.0   \n",
       " B_Naive                1.0   0.0      0.0      0.0      0.0      0.0   0.0   \n",
       " CD4_Effector_Memory    0.0   1.0      0.0      1.0      1.0      0.0   0.0   \n",
       " CD8_Central_Memory     0.0   0.0      0.0      1.0      1.0      0.0   0.0   \n",
       " CD4_Central_Memory     0.0   1.0      0.0      1.0      1.0      0.0   0.0   \n",
       " CD4_Treg               0.0   1.0      0.0      0.0      0.0      0.0   0.0   \n",
       " CD8_Naive              0.0   0.0      1.0      0.0      0.0      1.0   0.0   \n",
       " CD4_Th17               0.0   1.0      0.0      0.0      0.0      0.0   0.0   \n",
       " \n",
       "                      CD5-  CD8+  CRTH2+  CXCR3+  CXCR3-  \n",
       " SubSet                                                   \n",
       " CD4_Th2               0.0   0.0     1.0     0.0     1.0  \n",
       " CD8_Effector          0.0   1.0     0.0     0.0     0.0  \n",
       " B_CD5                 0.0   0.0     0.0     0.0     0.0  \n",
       " B_Memory              1.0   0.0     0.0     0.0     0.0  \n",
       " CD4_Th1               0.0   0.0     0.0     1.0     0.0  \n",
       " CD4_Naive             0.0   0.0     0.0     0.0     0.0  \n",
       " B_Naive               1.0   0.0     0.0     0.0     0.0  \n",
       " CD4_Effector_Memory   0.0   0.0     0.0     0.0     0.0  \n",
       " CD8_Central_Memory    0.0   1.0     0.0     0.0     0.0  \n",
       " CD4_Central_Memory    0.0   0.0     0.0     0.0     0.0  \n",
       " CD4_Treg              0.0   0.0     0.0     0.0     0.0  \n",
       " CD8_Naive             0.0   1.0     0.0     0.0     0.0  \n",
       " CD4_Th17              0.0   0.0     0.0     0.0     1.0  ,\n",
       " 'gene': array([  1,   1,   1, ..., 798, 798, 798], dtype=int16),\n",
       " 'sample': array([ 1,  2,  3, ..., 61, 62, 63], dtype=int8),\n",
       " 'x':        SubSet[B_CD5]  SubSet[B_Memory]  SubSet[B_Naive]  \\\n",
       " 0                0.0               0.0              0.0   \n",
       " 1                0.0               0.0              0.0   \n",
       " 2                1.0               0.0              0.0   \n",
       " 3                0.0               1.0              0.0   \n",
       " 4                0.0               0.0              0.0   \n",
       " 5                0.0               0.0              0.0   \n",
       " 6                0.0               0.0              1.0   \n",
       " 7                0.0               0.0              0.0   \n",
       " 8                0.0               0.0              0.0   \n",
       " 9                0.0               0.0              0.0   \n",
       " 10               0.0               0.0              0.0   \n",
       " 11               0.0               0.0              0.0   \n",
       " 12               0.0               0.0              0.0   \n",
       " 13               0.0               0.0              0.0   \n",
       " 14               0.0               0.0              0.0   \n",
       " 15               0.0               0.0              0.0   \n",
       " 16               0.0               0.0              0.0   \n",
       " 17               0.0               0.0              0.0   \n",
       " 18               0.0               0.0              0.0   \n",
       " 19               0.0               0.0              0.0   \n",
       " 20               0.0               0.0              1.0   \n",
       " 21               0.0               0.0              0.0   \n",
       " 22               0.0               0.0              0.0   \n",
       " 23               0.0               0.0              0.0   \n",
       " 24               0.0               0.0              0.0   \n",
       " 25               1.0               0.0              0.0   \n",
       " 26               0.0               0.0              0.0   \n",
       " 27               0.0               0.0              0.0   \n",
       " 28               0.0               1.0              0.0   \n",
       " 29               0.0               0.0              0.0   \n",
       " ...              ...               ...              ...   \n",
       " 50244            1.0               0.0              0.0   \n",
       " 50245            0.0               0.0              0.0   \n",
       " 50246            0.0               0.0              0.0   \n",
       " 50247            0.0               0.0              0.0   \n",
       " 50248            0.0               0.0              0.0   \n",
       " 50249            0.0               0.0              0.0   \n",
       " 50250            0.0               0.0              0.0   \n",
       " 50251            0.0               0.0              0.0   \n",
       " 50252            0.0               0.0              0.0   \n",
       " 50253            0.0               1.0              0.0   \n",
       " 50254            0.0               0.0              0.0   \n",
       " 50255            0.0               0.0              0.0   \n",
       " 50256            0.0               0.0              1.0   \n",
       " 50257            0.0               0.0              0.0   \n",
       " 50258            0.0               1.0              0.0   \n",
       " 50259            0.0               0.0              0.0   \n",
       " 50260            0.0               0.0              0.0   \n",
       " 50261            0.0               0.0              0.0   \n",
       " 50262            0.0               1.0              0.0   \n",
       " 50263            0.0               0.0              0.0   \n",
       " 50264            0.0               0.0              1.0   \n",
       " 50265            0.0               0.0              0.0   \n",
       " 50266            0.0               0.0              0.0   \n",
       " 50267            0.0               0.0              0.0   \n",
       " 50268            0.0               0.0              0.0   \n",
       " 50269            0.0               0.0              1.0   \n",
       " 50270            0.0               0.0              0.0   \n",
       " 50271            0.0               0.0              0.0   \n",
       " 50272            0.0               0.0              0.0   \n",
       " 50273            0.0               0.0              0.0   \n",
       " \n",
       "        SubSet[CD4_Central_Memory]  SubSet[CD4_Effector_Memory]  \\\n",
       " 0                             0.0                          0.0   \n",
       " 1                             0.0                          0.0   \n",
       " 2                             0.0                          0.0   \n",
       " 3                             0.0                          0.0   \n",
       " 4                             0.0                          0.0   \n",
       " 5                             0.0                          0.0   \n",
       " 6                             0.0                          0.0   \n",
       " 7                             0.0                          0.0   \n",
       " 8                             0.0                          0.0   \n",
       " 9                             0.0                          1.0   \n",
       " 10                            0.0                          1.0   \n",
       " 11                            0.0                          0.0   \n",
       " 12                            0.0                          0.0   \n",
       " 13                            0.0                          0.0   \n",
       " 14                            0.0                          0.0   \n",
       " 15                            0.0                          0.0   \n",
       " 16                            1.0                          0.0   \n",
       " 17                            0.0                          0.0   \n",
       " 18                            0.0                          0.0   \n",
       " 19                            0.0                          0.0   \n",
       " 20                            0.0                          0.0   \n",
       " 21                            0.0                          0.0   \n",
       " 22                            0.0                          1.0   \n",
       " 23                            0.0                          0.0   \n",
       " 24                            0.0                          0.0   \n",
       " 25                            0.0                          0.0   \n",
       " 26                            0.0                          0.0   \n",
       " 27                            0.0                          0.0   \n",
       " 28                            0.0                          0.0   \n",
       " 29                            0.0                          0.0   \n",
       " ...                           ...                          ...   \n",
       " 50244                         0.0                          0.0   \n",
       " 50245                         0.0                          0.0   \n",
       " 50246                         0.0                          0.0   \n",
       " 50247                         0.0                          0.0   \n",
       " 50248                         0.0                          1.0   \n",
       " 50249                         0.0                          0.0   \n",
       " 50250                         0.0                          0.0   \n",
       " 50251                         0.0                          0.0   \n",
       " 50252                         0.0                          0.0   \n",
       " 50253                         0.0                          0.0   \n",
       " 50254                         0.0                          0.0   \n",
       " 50255                         0.0                          0.0   \n",
       " 50256                         0.0                          0.0   \n",
       " 50257                         0.0                          0.0   \n",
       " 50258                         0.0                          0.0   \n",
       " 50259                         1.0                          0.0   \n",
       " 50260                         0.0                          0.0   \n",
       " 50261                         0.0                          1.0   \n",
       " 50262                         0.0                          0.0   \n",
       " 50263                         0.0                          0.0   \n",
       " 50264                         0.0                          0.0   \n",
       " 50265                         1.0                          0.0   \n",
       " 50266                         0.0                          0.0   \n",
       " 50267                         0.0                          0.0   \n",
       " 50268                         0.0                          0.0   \n",
       " 50269                         0.0                          0.0   \n",
       " 50270                         0.0                          0.0   \n",
       " 50271                         1.0                          0.0   \n",
       " 50272                         0.0                          0.0   \n",
       " 50273                         0.0                          0.0   \n",
       " \n",
       "        SubSet[CD4_Naive]  SubSet[CD4_Th1]  SubSet[CD4_Th17]  SubSet[CD4_Th2]  \\\n",
       " 0                    0.0              0.0               0.0              1.0   \n",
       " 1                    0.0              0.0               0.0              0.0   \n",
       " 2                    0.0              0.0               0.0              0.0   \n",
       " 3                    0.0              0.0               0.0              0.0   \n",
       " 4                    0.0              1.0               0.0              0.0   \n",
       " 5                    1.0              0.0               0.0              0.0   \n",
       " 6                    0.0              0.0               0.0              0.0   \n",
       " 7                    0.0              0.0               0.0              0.0   \n",
       " 8                    1.0              0.0               0.0              0.0   \n",
       " 9                    0.0              0.0               0.0              0.0   \n",
       " 10                   0.0              0.0               0.0              0.0   \n",
       " 11                   0.0              1.0               0.0              0.0   \n",
       " 12                   0.0              0.0               0.0              0.0   \n",
       " 13                   0.0              0.0               0.0              1.0   \n",
       " 14                   1.0              0.0               0.0              0.0   \n",
       " 15                   1.0              0.0               0.0              0.0   \n",
       " 16                   0.0              0.0               0.0              0.0   \n",
       " 17                   0.0              0.0               0.0              0.0   \n",
       " 18                   0.0              1.0               0.0              0.0   \n",
       " 19                   0.0              0.0               0.0              0.0   \n",
       " 20                   0.0              0.0               0.0              0.0   \n",
       " 21                   0.0              1.0               0.0              0.0   \n",
       " 22                   0.0              0.0               0.0              0.0   \n",
       " 23                   0.0              0.0               0.0              0.0   \n",
       " 24                   0.0              0.0               0.0              0.0   \n",
       " 25                   0.0              0.0               0.0              0.0   \n",
       " 26                   0.0              0.0               0.0              0.0   \n",
       " 27                   0.0              0.0               0.0              0.0   \n",
       " 28                   0.0              0.0               0.0              0.0   \n",
       " 29                   0.0              0.0               1.0              0.0   \n",
       " ...                  ...              ...               ...              ...   \n",
       " 50244                0.0              0.0               0.0              0.0   \n",
       " 50245                0.0              0.0               0.0              1.0   \n",
       " 50246                0.0              0.0               0.0              0.0   \n",
       " 50247                0.0              0.0               0.0              0.0   \n",
       " 50248                0.0              0.0               0.0              0.0   \n",
       " 50249                0.0              0.0               1.0              0.0   \n",
       " 50250                0.0              0.0               0.0              0.0   \n",
       " 50251                0.0              0.0               0.0              0.0   \n",
       " 50252                0.0              0.0               0.0              0.0   \n",
       " 50253                0.0              0.0               0.0              0.0   \n",
       " 50254                0.0              0.0               0.0              0.0   \n",
       " 50255                1.0              0.0               0.0              0.0   \n",
       " 50256                0.0              0.0               0.0              0.0   \n",
       " 50257                0.0              0.0               0.0              0.0   \n",
       " 50258                0.0              0.0               0.0              0.0   \n",
       " 50259                0.0              0.0               0.0              0.0   \n",
       " 50260                0.0              0.0               0.0              1.0   \n",
       " 50261                0.0              0.0               0.0              0.0   \n",
       " 50262                0.0              0.0               0.0              0.0   \n",
       " 50263                0.0              0.0               1.0              0.0   \n",
       " 50264                0.0              0.0               0.0              0.0   \n",
       " 50265                0.0              0.0               0.0              0.0   \n",
       " 50266                0.0              0.0               0.0              0.0   \n",
       " 50267                0.0              1.0               0.0              0.0   \n",
       " 50268                0.0              0.0               0.0              0.0   \n",
       " 50269                0.0              0.0               0.0              0.0   \n",
       " 50270                0.0              0.0               1.0              0.0   \n",
       " 50271                0.0              0.0               0.0              0.0   \n",
       " 50272                0.0              0.0               0.0              0.0   \n",
       " 50273                0.0              0.0               0.0              1.0   \n",
       " \n",
       "        SubSet[CD4_Treg]  SubSet[CD8_Central_Memory]  SubSet[CD8_Effector]  \\\n",
       " 0                   0.0                         0.0                   0.0   \n",
       " 1                   0.0                         0.0                   1.0   \n",
       " 2                   0.0                         0.0                   0.0   \n",
       " 3                   0.0                         0.0                   0.0   \n",
       " 4                   0.0                         0.0                   0.0   \n",
       " 5                   0.0                         0.0                   0.0   \n",
       " 6                   0.0                         0.0                   0.0   \n",
       " 7                   0.0                         0.0                   1.0   \n",
       " 8                   0.0                         0.0                   0.0   \n",
       " 9                   0.0                         0.0                   0.0   \n",
       " 10                  0.0                         0.0                   0.0   \n",
       " 11                  0.0                         0.0                   0.0   \n",
       " 12                  0.0                         1.0                   0.0   \n",
       " 13                  0.0                         0.0                   0.0   \n",
       " 14                  0.0                         0.0                   0.0   \n",
       " 15                  0.0                         0.0                   0.0   \n",
       " 16                  0.0                         0.0                   0.0   \n",
       " 17                  1.0                         0.0                   0.0   \n",
       " 18                  0.0                         0.0                   0.0   \n",
       " 19                  0.0                         0.0                   1.0   \n",
       " 20                  0.0                         0.0                   0.0   \n",
       " 21                  0.0                         0.0                   0.0   \n",
       " 22                  0.0                         0.0                   0.0   \n",
       " 23                  1.0                         0.0                   0.0   \n",
       " 24                  0.0                         0.0                   1.0   \n",
       " 25                  0.0                         0.0                   0.0   \n",
       " 26                  0.0                         0.0                   0.0   \n",
       " 27                  0.0                         1.0                   0.0   \n",
       " 28                  0.0                         0.0                   0.0   \n",
       " 29                  0.0                         0.0                   0.0   \n",
       " ...                 ...                         ...                   ...   \n",
       " 50244               0.0                         0.0                   0.0   \n",
       " 50245               0.0                         0.0                   0.0   \n",
       " 50246               1.0                         0.0                   0.0   \n",
       " 50247               0.0                         1.0                   0.0   \n",
       " 50248               0.0                         0.0                   0.0   \n",
       " 50249               0.0                         0.0                   0.0   \n",
       " 50250               0.0                         0.0                   0.0   \n",
       " 50251               1.0                         0.0                   0.0   \n",
       " 50252               0.0                         1.0                   0.0   \n",
       " 50253               0.0                         0.0                   0.0   \n",
       " 50254               1.0                         0.0                   0.0   \n",
       " 50255               0.0                         0.0                   0.0   \n",
       " 50256               0.0                         0.0                   0.0   \n",
       " 50257               0.0                         0.0                   0.0   \n",
       " 50258               0.0                         0.0                   0.0   \n",
       " 50259               0.0                         0.0                   0.0   \n",
       " 50260               0.0                         0.0                   0.0   \n",
       " 50261               0.0                         0.0                   0.0   \n",
       " 50262               0.0                         0.0                   0.0   \n",
       " 50263               0.0                         0.0                   0.0   \n",
       " 50264               0.0                         0.0                   0.0   \n",
       " 50265               0.0                         0.0                   0.0   \n",
       " 50266               0.0                         0.0                   1.0   \n",
       " 50267               0.0                         0.0                   0.0   \n",
       " 50268               0.0                         0.0                   0.0   \n",
       " 50269               0.0                         0.0                   0.0   \n",
       " 50270               0.0                         0.0                   0.0   \n",
       " 50271               0.0                         0.0                   0.0   \n",
       " 50272               0.0                         0.0                   0.0   \n",
       " 50273               0.0                         0.0                   0.0   \n",
       " \n",
       "        SubSet[CD8_Naive]  \n",
       " 0                    0.0  \n",
       " 1                    0.0  \n",
       " 2                    0.0  \n",
       " 3                    0.0  \n",
       " 4                    0.0  \n",
       " 5                    0.0  \n",
       " 6                    0.0  \n",
       " 7                    0.0  \n",
       " 8                    0.0  \n",
       " 9                    0.0  \n",
       " 10                   0.0  \n",
       " 11                   0.0  \n",
       " 12                   0.0  \n",
       " 13                   0.0  \n",
       " 14                   0.0  \n",
       " 15                   0.0  \n",
       " 16                   0.0  \n",
       " 17                   0.0  \n",
       " 18                   0.0  \n",
       " 19                   0.0  \n",
       " 20                   0.0  \n",
       " 21                   0.0  \n",
       " 22                   0.0  \n",
       " 23                   0.0  \n",
       " 24                   0.0  \n",
       " 25                   0.0  \n",
       " 26                   1.0  \n",
       " 27                   0.0  \n",
       " 28                   0.0  \n",
       " 29                   0.0  \n",
       " ...                  ...  \n",
       " 50244                0.0  \n",
       " 50245                0.0  \n",
       " 50246                0.0  \n",
       " 50247                0.0  \n",
       " 50248                0.0  \n",
       " 50249                0.0  \n",
       " 50250                1.0  \n",
       " 50251                0.0  \n",
       " 50252                0.0  \n",
       " 50253                0.0  \n",
       " 50254                0.0  \n",
       " 50255                0.0  \n",
       " 50256                0.0  \n",
       " 50257                1.0  \n",
       " 50258                0.0  \n",
       " 50259                0.0  \n",
       " 50260                0.0  \n",
       " 50261                0.0  \n",
       " 50262                0.0  \n",
       " 50263                0.0  \n",
       " 50264                0.0  \n",
       " 50265                0.0  \n",
       " 50266                0.0  \n",
       " 50267                0.0  \n",
       " 50268                1.0  \n",
       " 50269                0.0  \n",
       " 50270                0.0  \n",
       " 50271                0.0  \n",
       " 50272                1.0  \n",
       " 50273                0.0  \n",
       " \n",
       " [50274 rows x 13 columns],\n",
       " 'y': array([  1,   2, 782, ...,  14,  10,   3])}"
      ]
     },
     "execution_count": 36,
     "metadata": {},
     "output_type": "execute_result"
    }
   ],
   "source": [
    "model_file = models.get_model_file(model_name=model_name)\n",
    "stan_data = models.prep_stan_data(sample_df=training_df, test_df=None, by=by)\n",
    "stan_data"
   ]
  },
  {
   "cell_type": "code",
   "execution_count": 35,
   "metadata": {
    "collapsed": false
   },
   "outputs": [
    {
     "data": {
      "text/plain": [
       "{'B_CD5': array([ 3, 26, 31, 34]),\n",
       " 'B_Memory': array([ 4, 29, 43, 48, 52]),\n",
       " 'B_Naive': array([ 7, 21, 46, 54, 59]),\n",
       " 'CD4_Central_Memory': array([17, 33, 49, 55, 61]),\n",
       " 'CD4_Effector_Memory': array([10, 11, 23, 38, 51]),\n",
       " 'CD4_Naive': array([ 6,  9, 15, 16, 45]),\n",
       " 'CD4_Th1': array([ 5, 12, 19, 22, 57]),\n",
       " 'CD4_Th17': array([30, 32, 39, 53, 60]),\n",
       " 'CD4_Th2': array([ 1, 14, 35, 50, 63]),\n",
       " 'CD4_Treg': array([18, 24, 36, 41, 44]),\n",
       " 'CD8_Central_Memory': array([13, 28, 37, 42]),\n",
       " 'CD8_Effector': array([ 2,  8, 20, 25, 56]),\n",
       " 'CD8_Naive': array([27, 40, 47, 58, 62])}"
      ]
     },
     "execution_count": 35,
     "metadata": {},
     "output_type": "execute_result"
    }
   ],
   "source": [
    "def get_sample_ids_by_subset(training_df):\n",
    "    return {subset: \n",
    "            sample_df[sample_df['SubSet'] == subset].new_sample_id.unique() for subset in sample_df.SubSet.unique()}\n",
    "relevant_sample_ids = get_sample_ids_by_subset(training_df)\n",
    "assert all([len(relevant_sample_ids[i]) > 0 for i in relevant_sample_ids])\n",
    "relevant_sample_ids"
   ]
  },
  {
   "cell_type": "code",
   "execution_count": 39,
   "metadata": {
    "collapsed": true
   },
   "outputs": [],
   "source": [
    "def mix_cell_lines(sample_df, xdata, subsets, weights, sample_ids=None, new_sample_id=10001):\n",
    "    \"\"\"\n",
    "    e.g. xdata=stan_data['x'], subsets=['B_Naive', 'B_Memory'], weights=[.5, .5], sample_ids=None\n",
    "    if sample_ids are None, the first sample of each subset is used\n",
    "    \"\"\"\n",
    "    \n",
    "    assert len(weights) == len(subsets)\n",
    "    if sample_ids:\n",
    "        # confirm sample ids belong to the subsets we expect them to belong to.\n",
    "        for subset, sample_id in zip(subsets, sample_ids):\n",
    "            assert sample_id in relevant_sample_ids[subset]\n",
    "    else:\n",
    "        sample_ids = [relevant_sample_ids[subset][0] for subset in subsets]\n",
    "    \n",
    "    weights = np.array(weights)\n",
    "    weights = weights / np.sum(weights) # normalize\n",
    "    \n",
    "    x2_data = pd.DataFrame(np.zeros((1, xdata.shape[1])), columns=xdata.columns)\n",
    "    \n",
    "    transformed_lines = []\n",
    "    for subset, weight, sample_id in zip(subsets, weights, sample_ids):\n",
    "        transformed = sample_df[sample_df['new_sample_id'] == sample_id].copy()\n",
    "        transformed.loc[:,'est_counts'] *= weight\n",
    "        transformed_lines.append(transformed)\n",
    "        x2_data['SubSet[%s]' % subset] = weight\n",
    "    \n",
    "    mixed_sample = pd.concat(transformed_lines).groupby(         ['gene_name', 'new_gene_id'])['est_counts']        .sum().reset_index()\n",
    "        \n",
    "    mixed_sample['sample_id'] = new_sample_id\n",
    "    \n",
    "    return mixed_sample, x2_data"
   ]
  },
  {
   "cell_type": "code",
   "execution_count": 40,
   "metadata": {
    "collapsed": false,
    "scrolled": true
   },
   "outputs": [
    {
     "data": {
      "text/plain": [
       "(        gene_name  new_gene_id   est_counts  sample_id\n",
       " 0           ABCB4            1   206.156191      10001\n",
       " 1           ABCC4            2    96.394805      10001\n",
       " 2           ABCG2            3     6.000000      10001\n",
       " 3           ABHD2            4   556.193123      10001\n",
       " 4            ABT1            5   359.500000      10001\n",
       " 5      AC006483.5            6     0.000000      10001\n",
       " 6      AC006486.9            7    26.421405      10001\n",
       " 7      AC009414.1            8     0.000000      10001\n",
       " 8      AC011295.1            9     0.863155      10001\n",
       " 9      AC069282.6           10    67.500000      10001\n",
       " 10    AC087380.14           11     2.500000      10001\n",
       " 11     AC093166.2           12     0.000000      10001\n",
       " 12     AC109815.2           13     0.000000      10001\n",
       " 13     AC114814.2           14     0.000000      10001\n",
       " 14     AC123900.2           15     0.000000      10001\n",
       " 15          ACACB           16   284.955338      10001\n",
       " 16          ACBD3           17   639.999975      10001\n",
       " 17        ACTBP14           18     1.500000      10001\n",
       " 18          ACTG2           19     8.148175      10001\n",
       " 19         ADARB1           20   382.819152      10001\n",
       " 20          ADCK4           21   116.733206      10001\n",
       " 21          ADCY1           22    21.110700      10001\n",
       " 22        ADCYAP1           23     2.027095      10001\n",
       " 23          ADH1B           24    11.191088      10001\n",
       " 24            AES           25  4613.497630      10001\n",
       " 25           AGR2           26     1.000000      10001\n",
       " 26           AGRP           27     2.000000      10001\n",
       " 27           AHI1           28   424.182280      10001\n",
       " 28          AKAP6           29    52.236591      10001\n",
       " 29           AKT3           30   196.392809      10001\n",
       " ..            ...          ...          ...        ...\n",
       " 768         VASH1          769    30.500000      10001\n",
       " 769         VEGFC          770     0.000000      10001\n",
       " 770       VENTXP7          771     9.000000      10001\n",
       " 771          VNN3          772    59.389300      10001\n",
       " 772         VPS39          773  1453.860080      10001\n",
       " 773         VSNL1          774     5.154814      10001\n",
       " 774          WASL          775   147.500000      10001\n",
       " 775         WDHD1          776    37.499997      10001\n",
       " 776         WNT3A          777     0.500000      10001\n",
       " 777          XCL1          778     2.000000      10001\n",
       " 778          XCL2          779     5.000000      10001\n",
       " 779        ZBTB16          780   121.817860      10001\n",
       " 780        ZBTB32          781   575.999925      10001\n",
       " 781          ZEB1          782  1728.773600      10001\n",
       " 782       ZFP36L2          783  3779.500000      10001\n",
       " 783         ZMYM2          784  2158.190620      10001\n",
       " 784        ZNF205          785     9.000004      10001\n",
       " 785         ZNF22          786   217.785000      10001\n",
       " 786        ZNF33B          787    87.868755      10001\n",
       " 787        ZNF414          788    92.227885      10001\n",
       " 788        ZNF528          789   115.152591      10001\n",
       " 789        ZNF609          790   128.524634      10001\n",
       " 790        ZNF684          791    24.095129      10001\n",
       " 791     ZNF736P3Y          792     2.000000      10001\n",
       " 792        ZNF747          793   132.176530      10001\n",
       " 793        ZNF75A          794   514.498235      10001\n",
       " 794        ZNF764          795    99.500444      10001\n",
       " 795        ZNF807          796     0.000000      10001\n",
       " 796         ZNF91          797   185.872250      10001\n",
       " 797  bP-21201H5.1          798     5.636465      10001\n",
       " \n",
       " [798 rows x 4 columns],    SubSet[B_CD5]  SubSet[B_Memory]  SubSet[B_Naive]  \\\n",
       " 0            0.0               0.5              0.5   \n",
       " \n",
       "    SubSet[CD4_Central_Memory]  SubSet[CD4_Effector_Memory]  SubSet[CD4_Naive]  \\\n",
       " 0                         0.0                          0.0                0.0   \n",
       " \n",
       "    SubSet[CD4_Th1]  SubSet[CD4_Th17]  SubSet[CD4_Th2]  SubSet[CD4_Treg]  \\\n",
       " 0              0.0               0.0              0.0               0.0   \n",
       " \n",
       "    SubSet[CD8_Central_Memory]  SubSet[CD8_Effector]  SubSet[CD8_Naive]  \n",
       " 0                         0.0                   0.0                0.0  )"
      ]
     },
     "execution_count": 40,
     "metadata": {},
     "output_type": "execute_result"
    }
   ],
   "source": [
    "mix_cell_lines(sample_df=training_df, xdata=stan_data['x'], subsets=['B_Naive', 'B_Memory'], weights=[.5, .5], sample_ids=None)\n"
   ]
  },
  {
   "cell_type": "code",
   "execution_count": 41,
   "metadata": {
    "collapsed": true
   },
   "outputs": [],
   "source": [
    "# here are the mixtures we want\n",
    "mix1, mix1_x = mix_cell_lines(sample_df=training_df,\n",
    "                              xdata=stan_data['x'],\n",
    "                              subsets=['B_Naive', 'B_Memory'],\n",
    "                              weights=[.5, .5],\n",
    "                              sample_ids=[7, 4],\n",
    "                              new_sample_id = 10001)\n",
    "\n",
    "mix2, mix2_x = mix_cell_lines(sample_df=training_df,\n",
    "                              xdata=stan_data['x'],\n",
    "                              subsets=['B_Naive', 'B_Memory'],\n",
    "                              weights=[.5, .5],\n",
    "                              sample_ids=[21, 29],\n",
    "                              new_sample_id = 10002)\n",
    "\n",
    "mix3, mix3_x = mix_cell_lines(sample_df=training_df,\n",
    "                              xdata=stan_data['x'],\n",
    "                              subsets=['B_Naive', 'B_Memory'],\n",
    "                              weights=[.25, .75],\n",
    "                              sample_ids=[7, 4],\n",
    "                              new_sample_id = 10003)\n",
    "\n",
    "mix4, mix4_x = mix_cell_lines(sample_df=training_df,\n",
    "                              xdata=stan_data['x'],\n",
    "                              subsets=['B_Naive', 'B_Memory'],\n",
    "                              weights=[.25, .75],\n",
    "                              sample_ids=[21, 29],\n",
    "                              new_sample_id = 10004)\n",
    "\n",
    "mix5, mix5_x = mix_cell_lines(sample_df=training_df,\n",
    "                              xdata=stan_data['x'],\n",
    "                              subsets=['B_Naive', 'B_Memory'],\n",
    "                              weights=[.75, .25],\n",
    "                              sample_ids=[7, 4],\n",
    "                              new_sample_id = 10005)\n",
    "\n",
    "mix6, mix6_x = mix_cell_lines(sample_df=training_df,\n",
    "                              xdata=stan_data['x'],\n",
    "                              subsets=['B_Naive', 'B_Memory'],\n",
    "                              weights=[.75, .25],\n",
    "                              sample_ids=[21, 29],\n",
    "                              new_sample_id = 10006)\n",
    "\n",
    "# tregs vs naive B cells\n",
    "\n",
    "mix7, mix7_x = mix_cell_lines(sample_df=training_df,\n",
    "                              xdata=stan_data['x'],\n",
    "                              subsets=['B_Naive', 'CD4_Treg'],\n",
    "                              weights=[.5, .5],\n",
    "                              sample_ids=[7, 18],\n",
    "                              new_sample_id = 10007)\n",
    "\n",
    "mix8, mix8_x = mix_cell_lines(sample_df=training_df,\n",
    "                              xdata=stan_data['x'],\n",
    "                              subsets=['B_Naive', 'CD4_Treg'],\n",
    "                              weights=[.25, .75],\n",
    "                              sample_ids=[7, 18],\n",
    "                              new_sample_id = 10008)\n",
    "\n",
    "mix9, mix9_x = mix_cell_lines(sample_df=training_df,\n",
    "                              xdata=stan_data['x'],\n",
    "                              subsets=['B_Naive', 'CD4_Treg'],\n",
    "                              weights=[.5, .5],\n",
    "                              sample_ids=[21, 24],\n",
    "                              new_sample_id = 10009)\n",
    "\n",
    "mix10, mix10_x = mix_cell_lines(sample_df=training_df,\n",
    "                                xdata=stan_data['x'],\n",
    "                              subsets=['B_Naive', 'CD4_Treg'],\n",
    "                              weights=[.25, .75],\n",
    "                              sample_ids=[21, 24],\n",
    "                              new_sample_id = 10010)"
   ]
  },
  {
   "cell_type": "code",
   "execution_count": 42,
   "metadata": {
    "collapsed": true
   },
   "outputs": [],
   "source": [
    "# make a test_df and x2_data with all of them\n",
    "test_df = pd.concat([mix1, mix2, mix3, mix4, mix5, mix6, mix7, mix8, mix9, mix10])\n",
    "test_df['gene_id'] = test_df['new_gene_id']\n",
    "x2_data = pd.concat([mix1_x,mix2_x,mix3_x,mix4_x,mix5_x,mix6_x,mix7_x,mix8_x,mix9_x,mix10_x])"
   ]
  },
  {
   "cell_type": "code",
   "execution_count": 53,
   "metadata": {
    "collapsed": true
   },
   "outputs": [],
   "source": [
    "for dat in [training_df, test_df]:\n",
    "    dat.sort_values(['gene_id','sample_id'], inplace=True)\n",
    "    dat['new_sample_cat'] = dat['sample_id'].astype('category')\n",
    "    dat['new_sample_id'] = dat['new_sample_cat'].cat.codes+1"
   ]
  },
  {
   "cell_type": "code",
   "execution_count": 54,
   "metadata": {
    "collapsed": false
   },
   "outputs": [
    {
     "data": {
      "text/html": [
       "<div>\n",
       "<table border=\"1\" class=\"dataframe\">\n",
       "  <thead>\n",
       "    <tr style=\"text-align: right;\">\n",
       "      <th></th>\n",
       "      <th>gene_name</th>\n",
       "      <th>new_gene_id</th>\n",
       "      <th>est_counts</th>\n",
       "      <th>sample_id</th>\n",
       "      <th>gene_id</th>\n",
       "      <th>new_sample_cat</th>\n",
       "      <th>new_sample_id</th>\n",
       "    </tr>\n",
       "  </thead>\n",
       "  <tbody>\n",
       "    <tr>\n",
       "      <th>0</th>\n",
       "      <td>ABCB4</td>\n",
       "      <td>1</td>\n",
       "      <td>206.156191</td>\n",
       "      <td>10001</td>\n",
       "      <td>1</td>\n",
       "      <td>10001</td>\n",
       "      <td>1</td>\n",
       "    </tr>\n",
       "    <tr>\n",
       "      <th>0</th>\n",
       "      <td>ABCB4</td>\n",
       "      <td>1</td>\n",
       "      <td>759.406680</td>\n",
       "      <td>10002</td>\n",
       "      <td>1</td>\n",
       "      <td>10002</td>\n",
       "      <td>2</td>\n",
       "    </tr>\n",
       "    <tr>\n",
       "      <th>0</th>\n",
       "      <td>ABCB4</td>\n",
       "      <td>1</td>\n",
       "      <td>173.078081</td>\n",
       "      <td>10003</td>\n",
       "      <td>1</td>\n",
       "      <td>10003</td>\n",
       "      <td>3</td>\n",
       "    </tr>\n",
       "    <tr>\n",
       "      <th>0</th>\n",
       "      <td>ABCB4</td>\n",
       "      <td>1</td>\n",
       "      <td>444.020830</td>\n",
       "      <td>10004</td>\n",
       "      <td>1</td>\n",
       "      <td>10004</td>\n",
       "      <td>4</td>\n",
       "    </tr>\n",
       "    <tr>\n",
       "      <th>0</th>\n",
       "      <td>ABCB4</td>\n",
       "      <td>1</td>\n",
       "      <td>239.234300</td>\n",
       "      <td>10005</td>\n",
       "      <td>1</td>\n",
       "      <td>10005</td>\n",
       "      <td>5</td>\n",
       "    </tr>\n",
       "  </tbody>\n",
       "</table>\n",
       "</div>"
      ],
      "text/plain": [
       "  gene_name  new_gene_id  est_counts  sample_id  gene_id new_sample_cat  \\\n",
       "0     ABCB4            1  206.156191      10001        1          10001   \n",
       "0     ABCB4            1  759.406680      10002        1          10002   \n",
       "0     ABCB4            1  173.078081      10003        1          10003   \n",
       "0     ABCB4            1  444.020830      10004        1          10004   \n",
       "0     ABCB4            1  239.234300      10005        1          10005   \n",
       "\n",
       "   new_sample_id  \n",
       "0              1  \n",
       "0              2  \n",
       "0              3  \n",
       "0              4  \n",
       "0              5  "
      ]
     },
     "execution_count": 54,
     "metadata": {},
     "output_type": "execute_result"
    }
   ],
   "source": [
    "test_df.head()"
   ]
  },
  {
   "cell_type": "code",
   "execution_count": 55,
   "metadata": {
    "collapsed": false
   },
   "outputs": [
    {
     "data": {
      "text/html": [
       "<div>\n",
       "<table border=\"1\" class=\"dataframe\">\n",
       "  <thead>\n",
       "    <tr style=\"text-align: right;\">\n",
       "      <th></th>\n",
       "      <th>SubSet[B_CD5]</th>\n",
       "      <th>SubSet[B_Memory]</th>\n",
       "      <th>SubSet[B_Naive]</th>\n",
       "      <th>SubSet[CD4_Central_Memory]</th>\n",
       "      <th>SubSet[CD4_Effector_Memory]</th>\n",
       "      <th>SubSet[CD4_Naive]</th>\n",
       "      <th>SubSet[CD4_Th1]</th>\n",
       "      <th>SubSet[CD4_Th17]</th>\n",
       "      <th>SubSet[CD4_Th2]</th>\n",
       "      <th>SubSet[CD4_Treg]</th>\n",
       "      <th>SubSet[CD8_Central_Memory]</th>\n",
       "      <th>SubSet[CD8_Effector]</th>\n",
       "      <th>SubSet[CD8_Naive]</th>\n",
       "    </tr>\n",
       "  </thead>\n",
       "  <tbody>\n",
       "    <tr>\n",
       "      <th>0</th>\n",
       "      <td>0.0</td>\n",
       "      <td>0.50</td>\n",
       "      <td>0.50</td>\n",
       "      <td>0.0</td>\n",
       "      <td>0.0</td>\n",
       "      <td>0.0</td>\n",
       "      <td>0.0</td>\n",
       "      <td>0.0</td>\n",
       "      <td>0.0</td>\n",
       "      <td>0.0</td>\n",
       "      <td>0.0</td>\n",
       "      <td>0.0</td>\n",
       "      <td>0.0</td>\n",
       "    </tr>\n",
       "    <tr>\n",
       "      <th>0</th>\n",
       "      <td>0.0</td>\n",
       "      <td>0.50</td>\n",
       "      <td>0.50</td>\n",
       "      <td>0.0</td>\n",
       "      <td>0.0</td>\n",
       "      <td>0.0</td>\n",
       "      <td>0.0</td>\n",
       "      <td>0.0</td>\n",
       "      <td>0.0</td>\n",
       "      <td>0.0</td>\n",
       "      <td>0.0</td>\n",
       "      <td>0.0</td>\n",
       "      <td>0.0</td>\n",
       "    </tr>\n",
       "    <tr>\n",
       "      <th>0</th>\n",
       "      <td>0.0</td>\n",
       "      <td>0.75</td>\n",
       "      <td>0.25</td>\n",
       "      <td>0.0</td>\n",
       "      <td>0.0</td>\n",
       "      <td>0.0</td>\n",
       "      <td>0.0</td>\n",
       "      <td>0.0</td>\n",
       "      <td>0.0</td>\n",
       "      <td>0.0</td>\n",
       "      <td>0.0</td>\n",
       "      <td>0.0</td>\n",
       "      <td>0.0</td>\n",
       "    </tr>\n",
       "    <tr>\n",
       "      <th>0</th>\n",
       "      <td>0.0</td>\n",
       "      <td>0.75</td>\n",
       "      <td>0.25</td>\n",
       "      <td>0.0</td>\n",
       "      <td>0.0</td>\n",
       "      <td>0.0</td>\n",
       "      <td>0.0</td>\n",
       "      <td>0.0</td>\n",
       "      <td>0.0</td>\n",
       "      <td>0.0</td>\n",
       "      <td>0.0</td>\n",
       "      <td>0.0</td>\n",
       "      <td>0.0</td>\n",
       "    </tr>\n",
       "    <tr>\n",
       "      <th>0</th>\n",
       "      <td>0.0</td>\n",
       "      <td>0.25</td>\n",
       "      <td>0.75</td>\n",
       "      <td>0.0</td>\n",
       "      <td>0.0</td>\n",
       "      <td>0.0</td>\n",
       "      <td>0.0</td>\n",
       "      <td>0.0</td>\n",
       "      <td>0.0</td>\n",
       "      <td>0.0</td>\n",
       "      <td>0.0</td>\n",
       "      <td>0.0</td>\n",
       "      <td>0.0</td>\n",
       "    </tr>\n",
       "  </tbody>\n",
       "</table>\n",
       "</div>"
      ],
      "text/plain": [
       "   SubSet[B_CD5]  SubSet[B_Memory]  SubSet[B_Naive]  \\\n",
       "0            0.0              0.50             0.50   \n",
       "0            0.0              0.50             0.50   \n",
       "0            0.0              0.75             0.25   \n",
       "0            0.0              0.75             0.25   \n",
       "0            0.0              0.25             0.75   \n",
       "\n",
       "   SubSet[CD4_Central_Memory]  SubSet[CD4_Effector_Memory]  SubSet[CD4_Naive]  \\\n",
       "0                         0.0                          0.0                0.0   \n",
       "0                         0.0                          0.0                0.0   \n",
       "0                         0.0                          0.0                0.0   \n",
       "0                         0.0                          0.0                0.0   \n",
       "0                         0.0                          0.0                0.0   \n",
       "\n",
       "   SubSet[CD4_Th1]  SubSet[CD4_Th17]  SubSet[CD4_Th2]  SubSet[CD4_Treg]  \\\n",
       "0              0.0               0.0              0.0               0.0   \n",
       "0              0.0               0.0              0.0               0.0   \n",
       "0              0.0               0.0              0.0               0.0   \n",
       "0              0.0               0.0              0.0               0.0   \n",
       "0              0.0               0.0              0.0               0.0   \n",
       "\n",
       "   SubSet[CD8_Central_Memory]  SubSet[CD8_Effector]  SubSet[CD8_Naive]  \n",
       "0                         0.0                   0.0                0.0  \n",
       "0                         0.0                   0.0                0.0  \n",
       "0                         0.0                   0.0                0.0  \n",
       "0                         0.0                   0.0                0.0  \n",
       "0                         0.0                   0.0                0.0  "
      ]
     },
     "execution_count": 55,
     "metadata": {},
     "output_type": "execute_result"
    }
   ],
   "source": [
    "x2_data.head()"
   ]
  },
  {
   "cell_type": "markdown",
   "metadata": {},
   "source": [
    "# pickle out the synthetic mixtures -- so we can load into cibersort later"
   ]
  },
  {
   "cell_type": "code",
   "execution_count": 56,
   "metadata": {
    "collapsed": false
   },
   "outputs": [
    {
     "data": {
      "text/html": [
       "<div>\n",
       "<table border=\"1\" class=\"dataframe\">\n",
       "  <thead>\n",
       "    <tr style=\"text-align: right;\">\n",
       "      <th>sample_id</th>\n",
       "      <th>10001</th>\n",
       "      <th>10002</th>\n",
       "      <th>10003</th>\n",
       "      <th>10004</th>\n",
       "      <th>10005</th>\n",
       "      <th>10006</th>\n",
       "      <th>10007</th>\n",
       "      <th>10008</th>\n",
       "      <th>10009</th>\n",
       "      <th>10010</th>\n",
       "    </tr>\n",
       "    <tr>\n",
       "      <th>gene_name</th>\n",
       "      <th></th>\n",
       "      <th></th>\n",
       "      <th></th>\n",
       "      <th></th>\n",
       "      <th></th>\n",
       "      <th></th>\n",
       "      <th></th>\n",
       "      <th></th>\n",
       "      <th></th>\n",
       "      <th></th>\n",
       "    </tr>\n",
       "  </thead>\n",
       "  <tbody>\n",
       "    <tr>\n",
       "      <th>ABCB4</th>\n",
       "      <td>206.156191</td>\n",
       "      <td>759.406680</td>\n",
       "      <td>173.078081</td>\n",
       "      <td>444.020830</td>\n",
       "      <td>239.234300</td>\n",
       "      <td>1074.792531</td>\n",
       "      <td>138.156205</td>\n",
       "      <td>71.078102</td>\n",
       "      <td>695.589191</td>\n",
       "      <td>348.294596</td>\n",
       "    </tr>\n",
       "    <tr>\n",
       "      <th>ABCC4</th>\n",
       "      <td>96.394805</td>\n",
       "      <td>76.717060</td>\n",
       "      <td>131.041307</td>\n",
       "      <td>103.204185</td>\n",
       "      <td>61.748302</td>\n",
       "      <td>50.229935</td>\n",
       "      <td>67.409040</td>\n",
       "      <td>87.562660</td>\n",
       "      <td>67.534150</td>\n",
       "      <td>89.429820</td>\n",
       "    </tr>\n",
       "    <tr>\n",
       "      <th>ABCG2</th>\n",
       "      <td>6.000000</td>\n",
       "      <td>4.500000</td>\n",
       "      <td>6.000000</td>\n",
       "      <td>3.750000</td>\n",
       "      <td>6.000000</td>\n",
       "      <td>5.250000</td>\n",
       "      <td>23.499985</td>\n",
       "      <td>32.249977</td>\n",
       "      <td>13.499990</td>\n",
       "      <td>17.249985</td>\n",
       "    </tr>\n",
       "    <tr>\n",
       "      <th>ABHD2</th>\n",
       "      <td>556.193123</td>\n",
       "      <td>863.839295</td>\n",
       "      <td>602.581480</td>\n",
       "      <td>760.617562</td>\n",
       "      <td>509.804767</td>\n",
       "      <td>967.061028</td>\n",
       "      <td>934.681040</td>\n",
       "      <td>1170.313355</td>\n",
       "      <td>1127.120825</td>\n",
       "      <td>1155.539857</td>\n",
       "    </tr>\n",
       "    <tr>\n",
       "      <th>ABT1</th>\n",
       "      <td>359.500000</td>\n",
       "      <td>689.500000</td>\n",
       "      <td>434.750000</td>\n",
       "      <td>596.750000</td>\n",
       "      <td>284.250000</td>\n",
       "      <td>782.250000</td>\n",
       "      <td>344.500000</td>\n",
       "      <td>412.250000</td>\n",
       "      <td>719.000000</td>\n",
       "      <td>641.000000</td>\n",
       "    </tr>\n",
       "  </tbody>\n",
       "</table>\n",
       "</div>"
      ],
      "text/plain": [
       "sample_id       10001       10002       10003       10004       10005  \\\n",
       "gene_name                                                               \n",
       "ABCB4      206.156191  759.406680  173.078081  444.020830  239.234300   \n",
       "ABCC4       96.394805   76.717060  131.041307  103.204185   61.748302   \n",
       "ABCG2        6.000000    4.500000    6.000000    3.750000    6.000000   \n",
       "ABHD2      556.193123  863.839295  602.581480  760.617562  509.804767   \n",
       "ABT1       359.500000  689.500000  434.750000  596.750000  284.250000   \n",
       "\n",
       "sample_id        10006       10007        10008        10009        10010  \n",
       "gene_name                                                                  \n",
       "ABCB4      1074.792531  138.156205    71.078102   695.589191   348.294596  \n",
       "ABCC4        50.229935   67.409040    87.562660    67.534150    89.429820  \n",
       "ABCG2         5.250000   23.499985    32.249977    13.499990    17.249985  \n",
       "ABHD2       967.061028  934.681040  1170.313355  1127.120825  1155.539857  \n",
       "ABT1        782.250000  344.500000   412.250000   719.000000   641.000000  "
      ]
     },
     "execution_count": 56,
     "metadata": {},
     "output_type": "execute_result"
    }
   ],
   "source": [
    "synthetic_mixtures = test_df.pivot(index='gene_name', columns='sample_id', values='est_counts')\n",
    "synthetic_mixtures.head()"
   ]
  },
  {
   "cell_type": "code",
   "execution_count": 57,
   "metadata": {
    "collapsed": false
   },
   "outputs": [
    {
     "data": {
      "text/html": [
       "<div>\n",
       "<table border=\"1\" class=\"dataframe\">\n",
       "  <thead>\n",
       "    <tr style=\"text-align: right;\">\n",
       "      <th>sample_id</th>\n",
       "      <th>10001</th>\n",
       "      <th>10002</th>\n",
       "      <th>10003</th>\n",
       "      <th>10004</th>\n",
       "      <th>10005</th>\n",
       "      <th>10006</th>\n",
       "      <th>10007</th>\n",
       "      <th>10008</th>\n",
       "      <th>10009</th>\n",
       "      <th>10010</th>\n",
       "    </tr>\n",
       "  </thead>\n",
       "  <tbody>\n",
       "    <tr>\n",
       "      <th>SubSet[B_CD5]</th>\n",
       "      <td>0.0</td>\n",
       "      <td>0.0</td>\n",
       "      <td>0.00</td>\n",
       "      <td>0.00</td>\n",
       "      <td>0.00</td>\n",
       "      <td>0.00</td>\n",
       "      <td>0.0</td>\n",
       "      <td>0.00</td>\n",
       "      <td>0.0</td>\n",
       "      <td>0.00</td>\n",
       "    </tr>\n",
       "    <tr>\n",
       "      <th>SubSet[B_Memory]</th>\n",
       "      <td>0.5</td>\n",
       "      <td>0.5</td>\n",
       "      <td>0.75</td>\n",
       "      <td>0.75</td>\n",
       "      <td>0.25</td>\n",
       "      <td>0.25</td>\n",
       "      <td>0.0</td>\n",
       "      <td>0.00</td>\n",
       "      <td>0.0</td>\n",
       "      <td>0.00</td>\n",
       "    </tr>\n",
       "    <tr>\n",
       "      <th>SubSet[B_Naive]</th>\n",
       "      <td>0.5</td>\n",
       "      <td>0.5</td>\n",
       "      <td>0.25</td>\n",
       "      <td>0.25</td>\n",
       "      <td>0.75</td>\n",
       "      <td>0.75</td>\n",
       "      <td>0.5</td>\n",
       "      <td>0.25</td>\n",
       "      <td>0.5</td>\n",
       "      <td>0.25</td>\n",
       "    </tr>\n",
       "    <tr>\n",
       "      <th>SubSet[CD4_Central_Memory]</th>\n",
       "      <td>0.0</td>\n",
       "      <td>0.0</td>\n",
       "      <td>0.00</td>\n",
       "      <td>0.00</td>\n",
       "      <td>0.00</td>\n",
       "      <td>0.00</td>\n",
       "      <td>0.0</td>\n",
       "      <td>0.00</td>\n",
       "      <td>0.0</td>\n",
       "      <td>0.00</td>\n",
       "    </tr>\n",
       "    <tr>\n",
       "      <th>SubSet[CD4_Effector_Memory]</th>\n",
       "      <td>0.0</td>\n",
       "      <td>0.0</td>\n",
       "      <td>0.00</td>\n",
       "      <td>0.00</td>\n",
       "      <td>0.00</td>\n",
       "      <td>0.00</td>\n",
       "      <td>0.0</td>\n",
       "      <td>0.00</td>\n",
       "      <td>0.0</td>\n",
       "      <td>0.00</td>\n",
       "    </tr>\n",
       "  </tbody>\n",
       "</table>\n",
       "</div>"
      ],
      "text/plain": [
       "sample_id                    10001  10002  10003  10004  10005  10006  10007  \\\n",
       "SubSet[B_CD5]                  0.0    0.0   0.00   0.00   0.00   0.00    0.0   \n",
       "SubSet[B_Memory]               0.5    0.5   0.75   0.75   0.25   0.25    0.0   \n",
       "SubSet[B_Naive]                0.5    0.5   0.25   0.25   0.75   0.75    0.5   \n",
       "SubSet[CD4_Central_Memory]     0.0    0.0   0.00   0.00   0.00   0.00    0.0   \n",
       "SubSet[CD4_Effector_Memory]    0.0    0.0   0.00   0.00   0.00   0.00    0.0   \n",
       "\n",
       "sample_id                    10008  10009  10010  \n",
       "SubSet[B_CD5]                 0.00    0.0   0.00  \n",
       "SubSet[B_Memory]              0.00    0.0   0.00  \n",
       "SubSet[B_Naive]               0.25    0.5   0.25  \n",
       "SubSet[CD4_Central_Memory]    0.00    0.0   0.00  \n",
       "SubSet[CD4_Effector_Memory]   0.00    0.0   0.00  "
      ]
     },
     "execution_count": 57,
     "metadata": {},
     "output_type": "execute_result"
    }
   ],
   "source": [
    "synthetic_groundtruth = x2_data.transpose()\n",
    "synthetic_groundtruth.columns = synthetic_mixtures.columns\n",
    "synthetic_groundtruth.head()"
   ]
  },
  {
   "cell_type": "code",
   "execution_count": 58,
   "metadata": {
    "collapsed": false
   },
   "outputs": [],
   "source": [
    "pickle.dump({'y_test': synthetic_mixtures, 'x_test': synthetic_groundtruth},\n",
    "            open('logs/2.1.1_syntheticmixtures.pkl', 'wb'),\n",
    "            pickle.HIGHEST_PROTOCOL)\n",
    "\n",
    "synthetic_mixtures.to_csv('logs/2.1.1_syntheticmixtures.ytest.csv')\n",
    "synthetic_groundtruth.to_csv('logs/2.1.1_syntheticmixtures.xtest.csv')"
   ]
  },
  {
   "cell_type": "markdown",
   "metadata": {},
   "source": [
    "# prepare to run stan"
   ]
  },
  {
   "cell_type": "code",
   "execution_count": 59,
   "metadata": {
    "collapsed": true
   },
   "outputs": [],
   "source": [
    "test_data = {'N2': len(test_df.index),\n",
    "             'S2': len(test_df.new_sample_id.unique()),\n",
    "             'gene2': test_df.new_gene_id.values,\n",
    "             'sample2': test_df.new_sample_id.values,\n",
    "             'y2': test_df.est_counts.astype(int).values,\n",
    "             'x2': x2_data, ## for easy access later\n",
    "             }\n",
    "\n",
    "stan_data.update(test_data)"
   ]
  },
  {
   "cell_type": "code",
   "execution_count": 60,
   "metadata": {
    "collapsed": false
   },
   "outputs": [
    {
     "data": {
      "text/plain": [
       "798"
      ]
     },
     "execution_count": 60,
     "metadata": {},
     "output_type": "execute_result"
    }
   ],
   "source": [
    "stan_data['G']"
   ]
  },
  {
   "cell_type": "code",
   "execution_count": 62,
   "metadata": {
    "collapsed": true
   },
   "outputs": [],
   "source": [
    "pickle.dump(stan_data,\n",
    "            open('logs/2.1.1_standata.pkl', 'wb'),\n",
    "            pickle.HIGHEST_PROTOCOL)"
   ]
  },
  {
   "cell_type": "markdown",
   "metadata": {},
   "source": [
    "# Run stan\n",
    "\n",
    "To do so, we will actually run a python script saved out: `2.1.1_RunStan.py`.\n",
    "\n",
    "To run interactively, we launch: `python -i 2.1.1_RunStan.py 2>&1 | tee logs/2.1.1_RunStan.py.consoleout.txt`\n",
    "\n",
    "Do that from within a `docker exec -it maximz-dev-2 bash` shell. If you want, can `su jovyan` first."
   ]
  },
  {
   "cell_type": "markdown",
   "metadata": {},
   "source": [
    "# Run Cibersort"
   ]
  },
  {
   "cell_type": "code",
   "execution_count": null,
   "metadata": {
    "collapsed": true
   },
   "outputs": [],
   "source": []
  }
 ],
 "metadata": {
  "kernelspec": {
   "display_name": "Python 3",
   "language": "python",
   "name": "python3"
  }
 },
 "nbformat": 4,
 "nbformat_minor": 2
}
