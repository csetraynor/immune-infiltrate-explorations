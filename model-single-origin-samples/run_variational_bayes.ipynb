{
 "cells": [
  {
   "cell_type": "code",
   "execution_count": 7,
   "metadata": {
    "collapsed": false
   },
   "outputs": [
    {
     "ename": "AttributeError",
     "evalue": "'Settings' object has no attribute 'cache_dir'",
     "output_type": "error",
     "traceback": [
      "\u001b[0;31m---------------------------------------------------------------------------\u001b[0m",
      "\u001b[0;31mAttributeError\u001b[0m                            Traceback (most recent call last)",
      "\u001b[0;32m<ipython-input-7-4510ef0edca6>\u001b[0m in \u001b[0;36m<module>\u001b[0;34m()\u001b[0m\n\u001b[1;32m      7\u001b[0m \u001b[0mget_ipython\u001b[0m\u001b[0;34m(\u001b[0m\u001b[0;34m)\u001b[0m\u001b[0;34m.\u001b[0m\u001b[0mmagic\u001b[0m\u001b[0;34m(\u001b[0m\u001b[0;34m'matplotlib inline'\u001b[0m\u001b[0;34m)\u001b[0m\u001b[0;34m\u001b[0m\u001b[0m\n\u001b[1;32m      8\u001b[0m \u001b[0;32mimport\u001b[0m \u001b[0mseaborn\u001b[0m \u001b[0;32mas\u001b[0m \u001b[0msns\u001b[0m\u001b[0;34m\u001b[0m\u001b[0m\n\u001b[0;32m----> 9\u001b[0;31m \u001b[0mcache\u001b[0m\u001b[0;34m.\u001b[0m\u001b[0mstancache\u001b[0m\u001b[0;34m.\u001b[0m\u001b[0mconfig\u001b[0m\u001b[0;34m.\u001b[0m\u001b[0mget_setting_value\u001b[0m\u001b[0;34m(\u001b[0m\u001b[0;34m\"cache_dir\"\u001b[0m\u001b[0;34m)\u001b[0m\u001b[0;34m\u001b[0m\u001b[0m\n\u001b[0m",
      "\u001b[0;32m/opt/conda/lib/python3.6/site-packages/stancache/config.py\u001b[0m in \u001b[0;36mget_setting_value\u001b[0;34m(setting_name)\u001b[0m\n\u001b[1;32m     56\u001b[0m \u001b[0;34m\u001b[0m\u001b[0m\n\u001b[1;32m     57\u001b[0m \u001b[0;32mdef\u001b[0m \u001b[0mget_setting_value\u001b[0m\u001b[0;34m(\u001b[0m\u001b[0msetting_name\u001b[0m\u001b[0;34m)\u001b[0m\u001b[0;34m:\u001b[0m\u001b[0;34m\u001b[0m\u001b[0m\n\u001b[0;32m---> 58\u001b[0;31m     \u001b[0mval\u001b[0m \u001b[0;34m=\u001b[0m \u001b[0mgetattr\u001b[0m\u001b[0;34m(\u001b[0m\u001b[0m__DEFAULTS\u001b[0m\u001b[0;34m,\u001b[0m \u001b[0msetting_name\u001b[0m\u001b[0;34m)\u001b[0m\u001b[0;34m\u001b[0m\u001b[0m\n\u001b[0m\u001b[1;32m     59\u001b[0m     \u001b[0;32mif\u001b[0m \u001b[0;32mnot\u001b[0m \u001b[0msetting_name\u001b[0m \u001b[0;32min\u001b[0m \u001b[0mREQUIRED_SETTINGS\u001b[0m\u001b[0;34m:\u001b[0m\u001b[0;34m\u001b[0m\u001b[0m\n\u001b[1;32m     60\u001b[0m         \u001b[0;32mreturn\u001b[0m \u001b[0mval\u001b[0m\u001b[0;34m\u001b[0m\u001b[0m\n",
      "\u001b[0;31mAttributeError\u001b[0m: 'Settings' object has no attribute 'cache_dir'"
     ]
    }
   ],
   "source": [
    "import numpy as np\n",
    "import data\n",
    "import models\n",
    "import cache\n",
    "import pandas as pd\n",
    "import matplotlib.pyplot as plt\n",
    "%matplotlib inline\n",
    "import seaborn as sns"
   ]
  },
  {
   "cell_type": "code",
   "execution_count": 52,
   "metadata": {
    "collapsed": true
   },
   "outputs": [],
   "source": [
    "model_name = 'model6.2'\n",
    "model_file = models.get_model_file(model_name=model_name)\n",
    "by = 'SubSet'\n",
    "sample_n = 500 # number genes"
   ]
  },
  {
   "cell_type": "code",
   "execution_count": 17,
   "metadata": {
    "collapsed": false
   },
   "outputs": [
    {
     "name": "stderr",
     "output_type": "stream",
     "text": [
      "INFO:stancache.stancache:prep_sample_df: cache_filename set to prep_sample_df.cached.sample_n_500.pkl\n",
      "INFO:stancache.stancache:prep_sample_df: Loading result from cache\n"
     ]
    }
   ],
   "source": [
    "sample_df = cache.cached(models.prep_sample_df,\n",
    "                         sample_n=sample_n)"
   ]
  },
  {
   "cell_type": "code",
   "execution_count": 32,
   "metadata": {
    "collapsed": false
   },
   "outputs": [
    {
     "data": {
      "text/html": [
       "<div>\n",
       "<table border=\"1\" class=\"dataframe\">\n",
       "  <thead>\n",
       "    <tr style=\"text-align: right;\">\n",
       "      <th></th>\n",
       "      <th>index</th>\n",
       "      <th>sample_id</th>\n",
       "      <th>filename</th>\n",
       "      <th>gene_name</th>\n",
       "      <th>est_counts</th>\n",
       "      <th>tpm</th>\n",
       "      <th>log1p_tpm</th>\n",
       "      <th>log1p_counts</th>\n",
       "      <th>CCR6+</th>\n",
       "      <th>CCR7+</th>\n",
       "      <th>...</th>\n",
       "      <th>log1p_tpm_rescaled_subset</th>\n",
       "      <th>log1p_tpm_rescaled</th>\n",
       "      <th>gene_cat</th>\n",
       "      <th>gene_id</th>\n",
       "      <th>B_cell</th>\n",
       "      <th>T_cell</th>\n",
       "      <th>new_gene_cat</th>\n",
       "      <th>new_gene_id</th>\n",
       "      <th>new_sample_cat</th>\n",
       "      <th>new_sample_id</th>\n",
       "    </tr>\n",
       "  </thead>\n",
       "  <tbody>\n",
       "    <tr>\n",
       "      <th>0</th>\n",
       "      <td>0</td>\n",
       "      <td>1</td>\n",
       "      <td>ERR431566</td>\n",
       "      <td>ABCC1</td>\n",
       "      <td>1519.264300</td>\n",
       "      <td>54.992710</td>\n",
       "      <td>4.025222</td>\n",
       "      <td>7.326639</td>\n",
       "      <td>0.0</td>\n",
       "      <td>0.0</td>\n",
       "      <td>...</td>\n",
       "      <td>-3.727516</td>\n",
       "      <td>2.874210</td>\n",
       "      <td>ABCC1</td>\n",
       "      <td>76</td>\n",
       "      <td>0</td>\n",
       "      <td>1</td>\n",
       "      <td>ABCC1</td>\n",
       "      <td>1</td>\n",
       "      <td>1</td>\n",
       "      <td>1</td>\n",
       "    </tr>\n",
       "    <tr>\n",
       "      <th>1</th>\n",
       "      <td>1</td>\n",
       "      <td>2</td>\n",
       "      <td>ERR431567</td>\n",
       "      <td>ABCC1</td>\n",
       "      <td>671.797300</td>\n",
       "      <td>29.172180</td>\n",
       "      <td>3.406920</td>\n",
       "      <td>6.511444</td>\n",
       "      <td>0.0</td>\n",
       "      <td>0.0</td>\n",
       "      <td>...</td>\n",
       "      <td>-3.534278</td>\n",
       "      <td>-3.463493</td>\n",
       "      <td>ABCC1</td>\n",
       "      <td>76</td>\n",
       "      <td>0</td>\n",
       "      <td>1</td>\n",
       "      <td>ABCC1</td>\n",
       "      <td>1</td>\n",
       "      <td>2</td>\n",
       "      <td>2</td>\n",
       "    </tr>\n",
       "    <tr>\n",
       "      <th>2</th>\n",
       "      <td>2</td>\n",
       "      <td>3</td>\n",
       "      <td>ERR431568</td>\n",
       "      <td>ABCC1</td>\n",
       "      <td>744.026575</td>\n",
       "      <td>14.615387</td>\n",
       "      <td>2.748257</td>\n",
       "      <td>6.613420</td>\n",
       "      <td>0.0</td>\n",
       "      <td>0.0</td>\n",
       "      <td>...</td>\n",
       "      <td>-4.645626</td>\n",
       "      <td>-10.214918</td>\n",
       "      <td>ABCC1</td>\n",
       "      <td>76</td>\n",
       "      <td>1</td>\n",
       "      <td>0</td>\n",
       "      <td>ABCC1</td>\n",
       "      <td>1</td>\n",
       "      <td>3</td>\n",
       "      <td>3</td>\n",
       "    </tr>\n",
       "  </tbody>\n",
       "</table>\n",
       "<p>3 rows × 41 columns</p>\n",
       "</div>"
      ],
      "text/plain": [
       "   index  sample_id   filename gene_name   est_counts        tpm  log1p_tpm  \\\n",
       "0      0          1  ERR431566     ABCC1  1519.264300  54.992710   4.025222   \n",
       "1      1          2  ERR431567     ABCC1   671.797300  29.172180   3.406920   \n",
       "2      2          3  ERR431568     ABCC1   744.026575  14.615387   2.748257   \n",
       "\n",
       "   log1p_counts  CCR6+  CCR7+      ...        log1p_tpm_rescaled_subset  \\\n",
       "0      7.326639    0.0    0.0      ...                        -3.727516   \n",
       "1      6.511444    0.0    0.0      ...                        -3.534278   \n",
       "2      6.613420    0.0    0.0      ...                        -4.645626   \n",
       "\n",
       "   log1p_tpm_rescaled  gene_cat  gene_id  B_cell  T_cell  new_gene_cat  \\\n",
       "0            2.874210     ABCC1       76       0       1         ABCC1   \n",
       "1           -3.463493     ABCC1       76       0       1         ABCC1   \n",
       "2          -10.214918     ABCC1       76       1       0         ABCC1   \n",
       "\n",
       "   new_gene_id  new_sample_cat  new_sample_id  \n",
       "0            1               1              1  \n",
       "1            1               2              2  \n",
       "2            1               3              3  \n",
       "\n",
       "[3 rows x 41 columns]"
      ]
     },
     "execution_count": 32,
     "metadata": {},
     "output_type": "execute_result"
    }
   ],
   "source": [
    "sample_df.head(n=3)"
   ]
  },
  {
   "cell_type": "code",
   "execution_count": 33,
   "metadata": {
    "collapsed": true
   },
   "outputs": [],
   "source": [
    "def get_sample_ids_by_subset(sample_df):\n",
    "    return {subset: \n",
    "            sample_df[sample_df['SubSet'] == subset].new_sample_id.unique() for subset in sample_df.SubSet.unique()}\n",
    "\n",
    "def mix_cell_lines(xdata, subsets, weights, sample_ids=None, new_sample_id=10001):\n",
    "    \"\"\"\n",
    "    e.g. xdata=stan_data['x'], subsets=['B_Naive', 'B_Memory'], weights=[.5, .5], sample_ids=None\n",
    "    if sample_ids are None, the first sample of each subset is used\n",
    "    \"\"\"\n",
    "    \n",
    "    assert len(weights) == len(subsets)\n",
    "    if not sample_ids:\n",
    "        sample_ids = [relevant_sample_ids[subset][0] for subset in subsets]\n",
    "    \n",
    "    weights = np.array(weights)\n",
    "    weights = weights / np.sum(weights) # normalize\n",
    "    \n",
    "    x2_data = pd.DataFrame(np.zeros((1, xdata.shape[1])), columns=xdata.columns)\n",
    "    \n",
    "    transformed_lines = []\n",
    "    for subset, weight, sample_id in zip(subsets, weights, sample_ids):\n",
    "        transformed = sample_df[sample_df['new_sample_id'] == sample_id].copy()\n",
    "        transformed.loc[:,'est_counts'] *= weight\n",
    "        transformed_lines.append(transformed)\n",
    "        x2_data['SubSet[%s]' % subset] = weight\n",
    "    \n",
    "    mixed_sample = pd.concat(transformed_lines).groupby( \\\n",
    "        ['gene_name', 'new_gene_id'])['est_counts']\\\n",
    "        .sum().reset_index()\n",
    "        \n",
    "    mixed_sample['sample_id'] = new_sample_id\n",
    "    \n",
    "    return mixed_sample, x2_data"
   ]
  },
  {
   "cell_type": "code",
   "execution_count": 39,
   "metadata": {
    "collapsed": false
   },
   "outputs": [],
   "source": [
    "stan_data = models.prep_stan_data(sample_df, by='SubSet')"
   ]
  },
  {
   "cell_type": "code",
   "execution_count": 36,
   "metadata": {
    "collapsed": true
   },
   "outputs": [],
   "source": [
    "# here are the mixtures we want\n",
    "mix1, mix1_x = mix_cell_lines(xdata=stan_data['x'],\n",
    "                              subsets=['B_Naive', 'B_Memory'],\n",
    "                              weights=[.5, .5],\n",
    "                              sample_ids=[7, 4],\n",
    "                              new_sample_id = 10001)\n",
    "\n",
    "mix2, mix2_x = mix_cell_lines(xdata=stan_data['x'],\n",
    "                              subsets=['B_Naive', 'B_Memory'],\n",
    "                              weights=[.5, .5],\n",
    "                              sample_ids=[21, 29],\n",
    "                              new_sample_id = 10002)\n",
    "\n",
    "mix3, mix3_x = mix_cell_lines(xdata=stan_data['x'],\n",
    "                              subsets=['B_Naive', 'B_Memory'],\n",
    "                              weights=[.25, .75],\n",
    "                              sample_ids=[7, 4],\n",
    "                              new_sample_id = 10003)\n",
    "\n",
    "mix4, mix4_x = mix_cell_lines(xdata=stan_data['x'],\n",
    "                              subsets=['B_Naive', 'B_Memory'],\n",
    "                              weights=[.25, .75],\n",
    "                              sample_ids=[21, 29],\n",
    "                              new_sample_id = 10004)\n",
    "\n",
    "mix5, mix5_x = mix_cell_lines(xdata=stan_data['x'],\n",
    "                              subsets=['B_Naive', 'B_Memory'],\n",
    "                              weights=[.75, .25],\n",
    "                              sample_ids=[7, 4],\n",
    "                              new_sample_id = 10005)\n",
    "\n",
    "mix6, mix6_x = mix_cell_lines(xdata=stan_data['x'],\n",
    "                              subsets=['B_Naive', 'B_Memory'],\n",
    "                              weights=[.75, .25],\n",
    "                              sample_ids=[21, 29],\n",
    "                              new_sample_id = 10006)\n",
    "\n",
    "# tregs vs naive B cells\n",
    "\n",
    "mix7, mix7_x = mix_cell_lines(xdata=stan_data['x'],\n",
    "                              subsets=['B_Naive', 'CD4_Treg'],\n",
    "                              weights=[.5, .5],\n",
    "                              sample_ids=[7, 18],\n",
    "                              new_sample_id = 10007)\n",
    "\n",
    "mix8, mix8_x = mix_cell_lines(xdata=stan_data['x'],\n",
    "                              subsets=['B_Naive', 'CD4_Treg'],\n",
    "                              weights=[.25, .75],\n",
    "                              sample_ids=[7, 18],\n",
    "                              new_sample_id = 10008)\n",
    "\n",
    "mix9, mix9_x = mix_cell_lines(xdata=stan_data['x'],\n",
    "                              subsets=['B_Naive', 'CD4_Treg'],\n",
    "                              weights=[.5, .5],\n",
    "                              sample_ids=[21, 24],\n",
    "                              new_sample_id = 10009)\n",
    "\n",
    "mix10, mix10_x = mix_cell_lines(xdata=stan_data['x'],\n",
    "                              subsets=['B_Naive', 'CD4_Treg'],\n",
    "                              weights=[.25, .75],\n",
    "                              sample_ids=[21, 24],\n",
    "                              new_sample_id = 10010)"
   ]
  },
  {
   "cell_type": "code",
   "execution_count": 45,
   "metadata": {
    "collapsed": false
   },
   "outputs": [],
   "source": [
    "training_df = sample_df\n",
    "\n",
    "# make a test_df and x2_data with all of them\n",
    "test_df = pd.concat([mix1, mix2, mix3, mix4, mix5, mix6, mix7, mix8, mix9, mix10])\n",
    "test_df['gene_id'] = test_df['new_gene_id']\n",
    "x2_data = pd.concat([mix1_x,mix2_x,mix3_x,mix4_x,mix5_x,mix6_x,mix7_x,mix8_x,mix9_x,mix10_x])\n",
    "\n",
    "#for dat in [small_training_df, test_df]:\n",
    "for dat in [training_df, test_df]:\n",
    "    dat.sort_values(['gene_id','sample_id'], inplace=True)\n",
    "    dat['new_sample_cat'] = dat['sample_id'].astype('category')\n",
    "    dat['new_sample_id'] = dat['new_sample_cat'].cat.codes+1\n",
    "    \n",
    "test_data = {\n",
    "    'N2': len(test_df.index),\n",
    "    'S2': len(test_df.new_sample_id.unique()),\n",
    "    'gene2': test_df.new_gene_id.values,\n",
    "    'sample2': test_df.new_sample_id.values,\n",
    "    'y2': test_df.est_counts.astype(int).values,\n",
    "    'x2': x2_data, ## for easy access later\n",
    "}"
   ]
  },
  {
   "cell_type": "code",
   "execution_count": 48,
   "metadata": {
    "collapsed": false
   },
   "outputs": [],
   "source": [
    "stan_data.update(test_data)"
   ]
  },
  {
   "cell_type": "code",
   "execution_count": 50,
   "metadata": {
    "collapsed": false
   },
   "outputs": [],
   "source": [
    "import pystan"
   ]
  },
  {
   "cell_type": "code",
   "execution_count": 55,
   "metadata": {
    "collapsed": false,
    "scrolled": false
   },
   "outputs": [
    {
     "name": "stderr",
     "output_type": "stream",
     "text": [
      "INFO:pystan:COMPILING THE C++ CODE FOR MODEL anon_model_a181b2be649df2bf097dcb4c6a9053f7 NOW.\n"
     ]
    }
   ],
   "source": [
    "model = pystan.StanModel(file=model_file)"
   ]
  },
  {
   "cell_type": "code",
   "execution_count": null,
   "metadata": {
    "collapsed": false
   },
   "outputs": [
    {
     "name": "stderr",
     "output_type": "stream",
     "text": [
      "WARNING:pystan:Automatic Differentiation Variational Inference (ADVI) is an EXPERIMENTAL ALGORITHM.\n",
      "WARNING:pystan:ADVI samples may be found on the filesystem in the file `/tmp/tmpoyjqeen3/output.csv`\n"
     ]
    }
   ],
   "source": [
    "model.vb(data=stan_data, iter=10000, verbose=True)"
   ]
  },
  {
   "cell_type": "code",
   "execution_count": 66,
   "metadata": {
    "collapsed": false
   },
   "outputs": [
    {
     "data": {
      "text/plain": [
       "5000"
      ]
     },
     "execution_count": 66,
     "metadata": {},
     "output_type": "execute_result"
    }
   ],
   "source": [
    "len(test_df.index)"
   ]
  },
  {
   "cell_type": "code",
   "execution_count": null,
   "metadata": {
    "collapsed": true
   },
   "outputs": [],
   "source": [
    "test_df"
   ]
  },
  {
   "cell_type": "code",
   "execution_count": 77,
   "metadata": {
    "collapsed": false
   },
   "outputs": [
    {
     "data": {
      "text/plain": [
       "500"
      ]
     },
     "execution_count": 77,
     "metadata": {},
     "output_type": "execute_result"
    }
   ],
   "source": [
    "test_df.gene_id.max()"
   ]
  },
  {
   "cell_type": "code",
   "execution_count": 94,
   "metadata": {
    "collapsed": false
   },
   "outputs": [
    {
     "data": {
      "text/plain": [
       "13"
      ]
     },
     "execution_count": 94,
     "metadata": {},
     "output_type": "execute_result"
    }
   ],
   "source": [
    "len(training_df.SubSet.unique())  # 10 test mixture, 13 subsets"
   ]
  }
 ],
 "metadata": {
  "kernelspec": {
   "display_name": "Python 3",
   "language": "python",
   "name": "python3"
  },
  "language_info": {
   "codemirror_mode": {
    "name": "ipython",
    "version": 3
   },
   "file_extension": ".py",
   "mimetype": "text/x-python",
   "name": "python",
   "nbconvert_exporter": "python",
   "pygments_lexer": "ipython3",
   "version": "3.6.0"
  }
 },
 "nbformat": 4,
 "nbformat_minor": 2
}
