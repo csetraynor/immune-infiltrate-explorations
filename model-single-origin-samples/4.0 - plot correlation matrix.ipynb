{
 "cells": [
  {
   "cell_type": "code",
   "execution_count": 6,
   "metadata": {
    "ExecuteTime": {
     "end_time": "2017-05-04T20:34:33.059139Z",
     "start_time": "2017-05-04T20:34:33.049665Z"
    },
    "collapsed": true
   },
   "outputs": [],
   "source": [
    "import data\n",
    "import models\n",
    "import cache\n",
    "import seaborn as sns\n",
    "import numpy as np\n",
    "import pandas as pd\n",
    "import patsy\n",
    "from matplotlib import pyplot as plt\n",
    "%matplotlib inline\n",
    "sns.set(context='talk')"
   ]
  },
  {
   "cell_type": "code",
   "execution_count": 7,
   "metadata": {
    "ExecuteTime": {
     "end_time": "2017-05-04T20:34:33.073702Z",
     "start_time": "2017-05-04T20:34:33.061477Z"
    },
    "collapsed": true
   },
   "outputs": [],
   "source": [
    "# use data from '0.882 model6 by SubSet (n=500)' nb\n",
    "model_name = 'model6'\n",
    "by = 'SubSet'\n",
    "sample_n = 500"
   ]
  },
  {
   "cell_type": "code",
   "execution_count": 8,
   "metadata": {
    "ExecuteTime": {
     "end_time": "2017-05-04T20:34:33.354155Z",
     "start_time": "2017-05-04T20:34:33.075816Z"
    }
   },
   "outputs": [
    {
     "name": "stderr",
     "output_type": "stream",
     "text": [
      "INFO:stancache.stancache:prep_sample_df: cache_filename set to prep_sample_df.cached.sample_n_500.pkl\n",
      "INFO:stancache.stancache:prep_sample_df: Loading result from cache\n"
     ]
    },
    {
     "name": "stdout",
     "output_type": "stream",
     "text": [
      "## neg binom parameterization\n",
      "## estimate correlation matrix among cell types\n",
      "data {\n",
      "    // dimensions\n",
      "    int<lower=1> N;  // N obs\n",
      "    int<lower=1> G;  // N genes\n",
      "    int<lower=1> S;  // N samples\n",
      "    int<lower=0> C;  // N classes (e.g. B-cell, T-cell, B_Naive, CD5, CD45RO, etc)\n",
      "                     //     note: classes should be mutually exclusive. Each row here should sum to 1\n",
      "    int<lower=0> M; // number of cell-level predictors \n",
      "   \n",
      "    // data for each gene*sample\n",
      "    int<lower=1, upper=G> gene[N];    // gene id for each obs\n",
      "    int<lower=1, upper=S> sample[N];  // sample id for each obs\n",
      "    vector<lower=0, upper=1>[C] x[N]; // map each obs to each class (0:'- or ?', 1:'+')\n",
      "    int<lower=0> y[N];                // count/tpm for each obs\n",
      "    \n",
      "    // group-level predictors for each class C\n",
      "    matrix[C, M] cell_features; \n",
      "}\n",
      "transformed data {\n",
      "    int sample_y[S, G];    // array (size SxG) of ints\n",
      "    vector[C] sample_x[S]; // array (size S) of vectors[C]\n",
      "    for (n in 1:N) {\n",
      "        sample_y[sample[n], gene[n]] = y[n];\n",
      "        sample_x[sample[n]] = x[n,];\n",
      "    }\n",
      "}\n",
      "parameters {\n",
      "    //cholesky_factor_corr[C] L_Omega;\n",
      "    corr_matrix[C] Omega;        // degree of correlation among loading factors for each cell type\n",
      "    vector<lower=0>[C] tau;      // scale for each cell type - multiplied (on diagonal) with Omega\n",
      "    matrix<lower=0>[G, C] theta; // loading factors for each gene, for each cell type\n",
      "    vector[C] theta_mu;          // mean expression level for each cell type\n",
      "    vector[M] theta_coefs;\n",
      "    vector[M] theta_coefs_per_gene[G];\n",
      "    \n",
      "    vector[G] log_gene_base;     // constant intercept expression level for each gene, irrespective of cell type\n",
      "    vector<lower=0>[G] gene_phi; // overdispersion parameter per transcript (for now)\n",
      "}\n",
      "model {\n",
      "    matrix[C, C] sigma_theta;\n",
      "    sigma_theta = quad_form_diag(Omega, tau);\n",
      "    // estimate theta: relative expression per cell type per gene transcript\n",
      "    tau ~ cauchy(0, 2.5);\n",
      "    Omega ~ lkj_corr(2);\n",
      "    theta_mu ~ normal(0, 1);\n",
      "    theta_coefs ~ normal(0, 1);\n",
      "    for (g in 1:G) {\n",
      "        vector[C] theta_tmp; // temporary predictor for cell-gene-specific expression level\n",
      "        theta_coefs_per_gene[g] ~ normal(0, 1);\n",
      "        theta_tmp = theta_mu + cell_features*(theta_coefs + theta_coefs_per_gene[g]);\n",
      "        theta[g] ~ multi_normal(theta_tmp, sigma_theta);\n",
      "    }\n",
      "    // estimate sample_y: obseved expression for a sample (possibly a mixture)\n",
      "    log_gene_base ~ normal(0, 1);\n",
      "    gene_phi ~ normal(0, 1);\n",
      "    for (s in 1:S) {\n",
      "        vector[G] log_expected_rate;\n",
      "        log_expected_rate = log_gene_base + log(theta*sample_x[s]);\n",
      "        sample_y[s] ~ neg_binomial_2_log(log_expected_rate, gene_phi);\n",
      "    }\n",
      "}\n",
      "generated quantities {\n",
      "    int y_rep[N];\n",
      "    real log_lik[N];\n",
      "    \n",
      "    for (n in 1:N) {\n",
      "        real log_expected_rate;\n",
      "        log_expected_rate = log_gene_base[gene[n]] + log(theta[gene[n], ]*x[n]);\n",
      "        y_rep[n] = neg_binomial_2_log_rng(log_expected_rate, gene_phi[gene[n]]);\n",
      "        log_lik[n] = neg_binomial_2_log_lpmf(y[n] | log_expected_rate, gene_phi[gene[n]]);\n",
      "    }\n",
      "}\n"
     ]
    }
   ],
   "source": [
    "sample_df = cache.cached(models.prep_sample_df, sample_n=sample_n)\n",
    "stan_data = models.prep_stan_data(sample_df, by=by)\n",
    "model_file = models.get_model_file(model_name=model_name)\n",
    "print(cache._read_file(model_file))\n",
    "# model_fit = models.cached_stan_fit(file=model_file, data=stan_data, model_name=model_name, cache_only=True)"
   ]
  },
  {
   "cell_type": "code",
   "execution_count": 13,
   "metadata": {
    "ExecuteTime": {
     "end_time": "2017-05-04T20:35:10.503655Z",
     "start_time": "2017-05-04T20:35:10.498685Z"
    },
    "collapsed": true
   },
   "outputs": [],
   "source": [
    "# despite the fact that different versions and seeds, let's just unpickle the results\n",
    "import pickle\n",
    "import pystan\n",
    "cachefname = '/mnt/modelcache/immune-infiltrate-explorations/model6.cython_0_25_1.model_code_35609048482.pystan_2_12_0_0.stanfit.chains_4.data_64787202190.iter_2000.seed_1245502385.pkl'\n",
    "# model_fit = pickle.load(open(cachefname, 'rb'))"
   ]
  },
  {
   "cell_type": "markdown",
   "metadata": {},
   "source": [
    "have to unpickle in the following order: first the stanmodel.pkl, then the simulation data"
   ]
  },
  {
   "cell_type": "code",
   "execution_count": 14,
   "metadata": {
    "ExecuteTime": {
     "end_time": "2017-05-04T20:35:11.556714Z",
     "start_time": "2017-05-04T20:35:11.455737Z"
    },
    "collapsed": true
   },
   "outputs": [],
   "source": [
    "prefix = '/mnt/modelcache/immune-infiltrate-explorations/'\n",
    "fit_fname = 'model6.cython_0_25_1.model_code_35609048482.pystan_2_12_0_0.stanfit.chains_4.data_64787202190.iter_2000.seed_1245502385.pkl'\n",
    "model_fname = 'model6.cython_0_25_1.model_code_35609048482.pystan_2_12_0_0.stanmodel.pkl'\n",
    "\n",
    "model_file = pickle.load(open(prefix+model_fname, 'rb'))\n",
    "#model_fit = pickle.load(open(cachefname, 'rb'))"
   ]
  },
  {
   "cell_type": "code",
   "execution_count": 15,
   "metadata": {
    "ExecuteTime": {
     "end_time": "2017-05-04T20:35:11.869747Z",
     "start_time": "2017-05-04T20:35:11.864855Z"
    }
   },
   "outputs": [
    {
     "data": {
      "text/plain": [
       "<pystan.model.StanModel at 0x7ffb96c8fba8>"
      ]
     },
     "execution_count": 15,
     "metadata": {},
     "output_type": "execute_result"
    }
   ],
   "source": [
    "model_file"
   ]
  },
  {
   "cell_type": "code",
   "execution_count": 16,
   "metadata": {
    "ExecuteTime": {
     "end_time": "2017-05-04T20:36:30.398838Z",
     "start_time": "2017-05-04T20:35:12.375819Z"
    },
    "collapsed": true
   },
   "outputs": [],
   "source": [
    "model_fit = pickle.load(open(cachefname, 'rb'))"
   ]
  },
  {
   "cell_type": "markdown",
   "metadata": {
    "collapsed": true
   },
   "source": [
    "the above works as long as same cython and pystan versions! does not work if not."
   ]
  },
  {
   "cell_type": "code",
   "execution_count": 17,
   "metadata": {
    "ExecuteTime": {
     "end_time": "2017-05-04T20:36:30.405153Z",
     "start_time": "2017-05-04T20:36:30.401137Z"
    },
    "collapsed": true
   },
   "outputs": [],
   "source": [
    "# print(model_fit)"
   ]
  },
  {
   "cell_type": "code",
   "execution_count": 18,
   "metadata": {
    "ExecuteTime": {
     "end_time": "2017-05-04T20:36:30.424035Z",
     "start_time": "2017-05-04T20:36:30.407129Z"
    },
    "collapsed": true
   },
   "outputs": [],
   "source": [
    "# models.print_stan_summary(model_fit, pars='lp__')"
   ]
  },
  {
   "cell_type": "code",
   "execution_count": 19,
   "metadata": {
    "ExecuteTime": {
     "end_time": "2017-05-04T20:36:30.438822Z",
     "start_time": "2017-05-04T20:36:30.426069Z"
    },
    "collapsed": true
   },
   "outputs": [],
   "source": [
    "# models.print_stan_summary(model_fit, pars='Omega')"
   ]
  },
  {
   "cell_type": "code",
   "execution_count": 20,
   "metadata": {
    "ExecuteTime": {
     "end_time": "2017-05-04T20:36:30.498142Z",
     "start_time": "2017-05-04T20:36:30.440787Z"
    }
   },
   "outputs": [
    {
     "data": {
      "text/html": [
       "<div>\n",
       "<table border=\"1\" class=\"dataframe\">\n",
       "  <thead>\n",
       "    <tr style=\"text-align: right;\">\n",
       "      <th></th>\n",
       "      <th>SubSet[B_CD5]</th>\n",
       "      <th>SubSet[B_Memory]</th>\n",
       "      <th>SubSet[B_Naive]</th>\n",
       "      <th>SubSet[CD4_Central_Memory]</th>\n",
       "      <th>SubSet[CD4_Effector_Memory]</th>\n",
       "      <th>SubSet[CD4_Naive]</th>\n",
       "      <th>SubSet[CD4_Th1]</th>\n",
       "      <th>SubSet[CD4_Th17]</th>\n",
       "      <th>SubSet[CD4_Th2]</th>\n",
       "      <th>SubSet[CD4_Treg]</th>\n",
       "      <th>SubSet[CD8_Central_Memory]</th>\n",
       "      <th>SubSet[CD8_Effector]</th>\n",
       "      <th>SubSet[CD8_Naive]</th>\n",
       "    </tr>\n",
       "  </thead>\n",
       "  <tbody>\n",
       "    <tr>\n",
       "      <th>0</th>\n",
       "      <td>0.0</td>\n",
       "      <td>0.0</td>\n",
       "      <td>0.0</td>\n",
       "      <td>0.0</td>\n",
       "      <td>0.0</td>\n",
       "      <td>0.0</td>\n",
       "      <td>0.0</td>\n",
       "      <td>0.0</td>\n",
       "      <td>1.0</td>\n",
       "      <td>0.0</td>\n",
       "      <td>0.0</td>\n",
       "      <td>0.0</td>\n",
       "      <td>0.0</td>\n",
       "    </tr>\n",
       "    <tr>\n",
       "      <th>1</th>\n",
       "      <td>0.0</td>\n",
       "      <td>0.0</td>\n",
       "      <td>0.0</td>\n",
       "      <td>0.0</td>\n",
       "      <td>0.0</td>\n",
       "      <td>0.0</td>\n",
       "      <td>0.0</td>\n",
       "      <td>0.0</td>\n",
       "      <td>0.0</td>\n",
       "      <td>0.0</td>\n",
       "      <td>0.0</td>\n",
       "      <td>1.0</td>\n",
       "      <td>0.0</td>\n",
       "    </tr>\n",
       "    <tr>\n",
       "      <th>2</th>\n",
       "      <td>1.0</td>\n",
       "      <td>0.0</td>\n",
       "      <td>0.0</td>\n",
       "      <td>0.0</td>\n",
       "      <td>0.0</td>\n",
       "      <td>0.0</td>\n",
       "      <td>0.0</td>\n",
       "      <td>0.0</td>\n",
       "      <td>0.0</td>\n",
       "      <td>0.0</td>\n",
       "      <td>0.0</td>\n",
       "      <td>0.0</td>\n",
       "      <td>0.0</td>\n",
       "    </tr>\n",
       "    <tr>\n",
       "      <th>3</th>\n",
       "      <td>0.0</td>\n",
       "      <td>1.0</td>\n",
       "      <td>0.0</td>\n",
       "      <td>0.0</td>\n",
       "      <td>0.0</td>\n",
       "      <td>0.0</td>\n",
       "      <td>0.0</td>\n",
       "      <td>0.0</td>\n",
       "      <td>0.0</td>\n",
       "      <td>0.0</td>\n",
       "      <td>0.0</td>\n",
       "      <td>0.0</td>\n",
       "      <td>0.0</td>\n",
       "    </tr>\n",
       "    <tr>\n",
       "      <th>4</th>\n",
       "      <td>0.0</td>\n",
       "      <td>0.0</td>\n",
       "      <td>0.0</td>\n",
       "      <td>0.0</td>\n",
       "      <td>0.0</td>\n",
       "      <td>0.0</td>\n",
       "      <td>1.0</td>\n",
       "      <td>0.0</td>\n",
       "      <td>0.0</td>\n",
       "      <td>0.0</td>\n",
       "      <td>0.0</td>\n",
       "      <td>0.0</td>\n",
       "      <td>0.0</td>\n",
       "    </tr>\n",
       "    <tr>\n",
       "      <th>5</th>\n",
       "      <td>0.0</td>\n",
       "      <td>0.0</td>\n",
       "      <td>0.0</td>\n",
       "      <td>0.0</td>\n",
       "      <td>0.0</td>\n",
       "      <td>1.0</td>\n",
       "      <td>0.0</td>\n",
       "      <td>0.0</td>\n",
       "      <td>0.0</td>\n",
       "      <td>0.0</td>\n",
       "      <td>0.0</td>\n",
       "      <td>0.0</td>\n",
       "      <td>0.0</td>\n",
       "    </tr>\n",
       "    <tr>\n",
       "      <th>6</th>\n",
       "      <td>0.0</td>\n",
       "      <td>0.0</td>\n",
       "      <td>1.0</td>\n",
       "      <td>0.0</td>\n",
       "      <td>0.0</td>\n",
       "      <td>0.0</td>\n",
       "      <td>0.0</td>\n",
       "      <td>0.0</td>\n",
       "      <td>0.0</td>\n",
       "      <td>0.0</td>\n",
       "      <td>0.0</td>\n",
       "      <td>0.0</td>\n",
       "      <td>0.0</td>\n",
       "    </tr>\n",
       "    <tr>\n",
       "      <th>7</th>\n",
       "      <td>0.0</td>\n",
       "      <td>0.0</td>\n",
       "      <td>0.0</td>\n",
       "      <td>0.0</td>\n",
       "      <td>0.0</td>\n",
       "      <td>0.0</td>\n",
       "      <td>0.0</td>\n",
       "      <td>0.0</td>\n",
       "      <td>0.0</td>\n",
       "      <td>0.0</td>\n",
       "      <td>0.0</td>\n",
       "      <td>1.0</td>\n",
       "      <td>0.0</td>\n",
       "    </tr>\n",
       "    <tr>\n",
       "      <th>8</th>\n",
       "      <td>0.0</td>\n",
       "      <td>0.0</td>\n",
       "      <td>0.0</td>\n",
       "      <td>0.0</td>\n",
       "      <td>0.0</td>\n",
       "      <td>1.0</td>\n",
       "      <td>0.0</td>\n",
       "      <td>0.0</td>\n",
       "      <td>0.0</td>\n",
       "      <td>0.0</td>\n",
       "      <td>0.0</td>\n",
       "      <td>0.0</td>\n",
       "      <td>0.0</td>\n",
       "    </tr>\n",
       "    <tr>\n",
       "      <th>9</th>\n",
       "      <td>0.0</td>\n",
       "      <td>0.0</td>\n",
       "      <td>0.0</td>\n",
       "      <td>0.0</td>\n",
       "      <td>1.0</td>\n",
       "      <td>0.0</td>\n",
       "      <td>0.0</td>\n",
       "      <td>0.0</td>\n",
       "      <td>0.0</td>\n",
       "      <td>0.0</td>\n",
       "      <td>0.0</td>\n",
       "      <td>0.0</td>\n",
       "      <td>0.0</td>\n",
       "    </tr>\n",
       "    <tr>\n",
       "      <th>10</th>\n",
       "      <td>0.0</td>\n",
       "      <td>0.0</td>\n",
       "      <td>0.0</td>\n",
       "      <td>0.0</td>\n",
       "      <td>1.0</td>\n",
       "      <td>0.0</td>\n",
       "      <td>0.0</td>\n",
       "      <td>0.0</td>\n",
       "      <td>0.0</td>\n",
       "      <td>0.0</td>\n",
       "      <td>0.0</td>\n",
       "      <td>0.0</td>\n",
       "      <td>0.0</td>\n",
       "    </tr>\n",
       "    <tr>\n",
       "      <th>11</th>\n",
       "      <td>0.0</td>\n",
       "      <td>0.0</td>\n",
       "      <td>0.0</td>\n",
       "      <td>0.0</td>\n",
       "      <td>0.0</td>\n",
       "      <td>0.0</td>\n",
       "      <td>1.0</td>\n",
       "      <td>0.0</td>\n",
       "      <td>0.0</td>\n",
       "      <td>0.0</td>\n",
       "      <td>0.0</td>\n",
       "      <td>0.0</td>\n",
       "      <td>0.0</td>\n",
       "    </tr>\n",
       "    <tr>\n",
       "      <th>12</th>\n",
       "      <td>0.0</td>\n",
       "      <td>0.0</td>\n",
       "      <td>0.0</td>\n",
       "      <td>0.0</td>\n",
       "      <td>0.0</td>\n",
       "      <td>0.0</td>\n",
       "      <td>0.0</td>\n",
       "      <td>0.0</td>\n",
       "      <td>0.0</td>\n",
       "      <td>0.0</td>\n",
       "      <td>1.0</td>\n",
       "      <td>0.0</td>\n",
       "      <td>0.0</td>\n",
       "    </tr>\n",
       "    <tr>\n",
       "      <th>13</th>\n",
       "      <td>0.0</td>\n",
       "      <td>0.0</td>\n",
       "      <td>0.0</td>\n",
       "      <td>0.0</td>\n",
       "      <td>0.0</td>\n",
       "      <td>0.0</td>\n",
       "      <td>0.0</td>\n",
       "      <td>0.0</td>\n",
       "      <td>1.0</td>\n",
       "      <td>0.0</td>\n",
       "      <td>0.0</td>\n",
       "      <td>0.0</td>\n",
       "      <td>0.0</td>\n",
       "    </tr>\n",
       "    <tr>\n",
       "      <th>14</th>\n",
       "      <td>0.0</td>\n",
       "      <td>0.0</td>\n",
       "      <td>0.0</td>\n",
       "      <td>0.0</td>\n",
       "      <td>0.0</td>\n",
       "      <td>1.0</td>\n",
       "      <td>0.0</td>\n",
       "      <td>0.0</td>\n",
       "      <td>0.0</td>\n",
       "      <td>0.0</td>\n",
       "      <td>0.0</td>\n",
       "      <td>0.0</td>\n",
       "      <td>0.0</td>\n",
       "    </tr>\n",
       "    <tr>\n",
       "      <th>15</th>\n",
       "      <td>0.0</td>\n",
       "      <td>0.0</td>\n",
       "      <td>0.0</td>\n",
       "      <td>0.0</td>\n",
       "      <td>0.0</td>\n",
       "      <td>1.0</td>\n",
       "      <td>0.0</td>\n",
       "      <td>0.0</td>\n",
       "      <td>0.0</td>\n",
       "      <td>0.0</td>\n",
       "      <td>0.0</td>\n",
       "      <td>0.0</td>\n",
       "      <td>0.0</td>\n",
       "    </tr>\n",
       "    <tr>\n",
       "      <th>16</th>\n",
       "      <td>0.0</td>\n",
       "      <td>0.0</td>\n",
       "      <td>0.0</td>\n",
       "      <td>1.0</td>\n",
       "      <td>0.0</td>\n",
       "      <td>0.0</td>\n",
       "      <td>0.0</td>\n",
       "      <td>0.0</td>\n",
       "      <td>0.0</td>\n",
       "      <td>0.0</td>\n",
       "      <td>0.0</td>\n",
       "      <td>0.0</td>\n",
       "      <td>0.0</td>\n",
       "    </tr>\n",
       "    <tr>\n",
       "      <th>17</th>\n",
       "      <td>0.0</td>\n",
       "      <td>0.0</td>\n",
       "      <td>0.0</td>\n",
       "      <td>0.0</td>\n",
       "      <td>0.0</td>\n",
       "      <td>0.0</td>\n",
       "      <td>0.0</td>\n",
       "      <td>0.0</td>\n",
       "      <td>0.0</td>\n",
       "      <td>1.0</td>\n",
       "      <td>0.0</td>\n",
       "      <td>0.0</td>\n",
       "      <td>0.0</td>\n",
       "    </tr>\n",
       "    <tr>\n",
       "      <th>18</th>\n",
       "      <td>0.0</td>\n",
       "      <td>0.0</td>\n",
       "      <td>0.0</td>\n",
       "      <td>0.0</td>\n",
       "      <td>0.0</td>\n",
       "      <td>0.0</td>\n",
       "      <td>1.0</td>\n",
       "      <td>0.0</td>\n",
       "      <td>0.0</td>\n",
       "      <td>0.0</td>\n",
       "      <td>0.0</td>\n",
       "      <td>0.0</td>\n",
       "      <td>0.0</td>\n",
       "    </tr>\n",
       "    <tr>\n",
       "      <th>19</th>\n",
       "      <td>0.0</td>\n",
       "      <td>0.0</td>\n",
       "      <td>0.0</td>\n",
       "      <td>0.0</td>\n",
       "      <td>0.0</td>\n",
       "      <td>0.0</td>\n",
       "      <td>0.0</td>\n",
       "      <td>0.0</td>\n",
       "      <td>0.0</td>\n",
       "      <td>0.0</td>\n",
       "      <td>0.0</td>\n",
       "      <td>1.0</td>\n",
       "      <td>0.0</td>\n",
       "    </tr>\n",
       "    <tr>\n",
       "      <th>20</th>\n",
       "      <td>0.0</td>\n",
       "      <td>0.0</td>\n",
       "      <td>1.0</td>\n",
       "      <td>0.0</td>\n",
       "      <td>0.0</td>\n",
       "      <td>0.0</td>\n",
       "      <td>0.0</td>\n",
       "      <td>0.0</td>\n",
       "      <td>0.0</td>\n",
       "      <td>0.0</td>\n",
       "      <td>0.0</td>\n",
       "      <td>0.0</td>\n",
       "      <td>0.0</td>\n",
       "    </tr>\n",
       "    <tr>\n",
       "      <th>21</th>\n",
       "      <td>0.0</td>\n",
       "      <td>0.0</td>\n",
       "      <td>0.0</td>\n",
       "      <td>0.0</td>\n",
       "      <td>0.0</td>\n",
       "      <td>0.0</td>\n",
       "      <td>1.0</td>\n",
       "      <td>0.0</td>\n",
       "      <td>0.0</td>\n",
       "      <td>0.0</td>\n",
       "      <td>0.0</td>\n",
       "      <td>0.0</td>\n",
       "      <td>0.0</td>\n",
       "    </tr>\n",
       "    <tr>\n",
       "      <th>22</th>\n",
       "      <td>0.0</td>\n",
       "      <td>0.0</td>\n",
       "      <td>0.0</td>\n",
       "      <td>0.0</td>\n",
       "      <td>1.0</td>\n",
       "      <td>0.0</td>\n",
       "      <td>0.0</td>\n",
       "      <td>0.0</td>\n",
       "      <td>0.0</td>\n",
       "      <td>0.0</td>\n",
       "      <td>0.0</td>\n",
       "      <td>0.0</td>\n",
       "      <td>0.0</td>\n",
       "    </tr>\n",
       "    <tr>\n",
       "      <th>23</th>\n",
       "      <td>0.0</td>\n",
       "      <td>0.0</td>\n",
       "      <td>0.0</td>\n",
       "      <td>0.0</td>\n",
       "      <td>0.0</td>\n",
       "      <td>0.0</td>\n",
       "      <td>0.0</td>\n",
       "      <td>0.0</td>\n",
       "      <td>0.0</td>\n",
       "      <td>1.0</td>\n",
       "      <td>0.0</td>\n",
       "      <td>0.0</td>\n",
       "      <td>0.0</td>\n",
       "    </tr>\n",
       "    <tr>\n",
       "      <th>24</th>\n",
       "      <td>0.0</td>\n",
       "      <td>0.0</td>\n",
       "      <td>0.0</td>\n",
       "      <td>0.0</td>\n",
       "      <td>0.0</td>\n",
       "      <td>0.0</td>\n",
       "      <td>0.0</td>\n",
       "      <td>0.0</td>\n",
       "      <td>0.0</td>\n",
       "      <td>0.0</td>\n",
       "      <td>0.0</td>\n",
       "      <td>1.0</td>\n",
       "      <td>0.0</td>\n",
       "    </tr>\n",
       "    <tr>\n",
       "      <th>25</th>\n",
       "      <td>1.0</td>\n",
       "      <td>0.0</td>\n",
       "      <td>0.0</td>\n",
       "      <td>0.0</td>\n",
       "      <td>0.0</td>\n",
       "      <td>0.0</td>\n",
       "      <td>0.0</td>\n",
       "      <td>0.0</td>\n",
       "      <td>0.0</td>\n",
       "      <td>0.0</td>\n",
       "      <td>0.0</td>\n",
       "      <td>0.0</td>\n",
       "      <td>0.0</td>\n",
       "    </tr>\n",
       "    <tr>\n",
       "      <th>26</th>\n",
       "      <td>0.0</td>\n",
       "      <td>0.0</td>\n",
       "      <td>0.0</td>\n",
       "      <td>0.0</td>\n",
       "      <td>0.0</td>\n",
       "      <td>0.0</td>\n",
       "      <td>0.0</td>\n",
       "      <td>0.0</td>\n",
       "      <td>0.0</td>\n",
       "      <td>0.0</td>\n",
       "      <td>0.0</td>\n",
       "      <td>0.0</td>\n",
       "      <td>1.0</td>\n",
       "    </tr>\n",
       "    <tr>\n",
       "      <th>27</th>\n",
       "      <td>0.0</td>\n",
       "      <td>0.0</td>\n",
       "      <td>0.0</td>\n",
       "      <td>0.0</td>\n",
       "      <td>0.0</td>\n",
       "      <td>0.0</td>\n",
       "      <td>0.0</td>\n",
       "      <td>0.0</td>\n",
       "      <td>0.0</td>\n",
       "      <td>0.0</td>\n",
       "      <td>1.0</td>\n",
       "      <td>0.0</td>\n",
       "      <td>0.0</td>\n",
       "    </tr>\n",
       "    <tr>\n",
       "      <th>28</th>\n",
       "      <td>0.0</td>\n",
       "      <td>1.0</td>\n",
       "      <td>0.0</td>\n",
       "      <td>0.0</td>\n",
       "      <td>0.0</td>\n",
       "      <td>0.0</td>\n",
       "      <td>0.0</td>\n",
       "      <td>0.0</td>\n",
       "      <td>0.0</td>\n",
       "      <td>0.0</td>\n",
       "      <td>0.0</td>\n",
       "      <td>0.0</td>\n",
       "      <td>0.0</td>\n",
       "    </tr>\n",
       "    <tr>\n",
       "      <th>29</th>\n",
       "      <td>0.0</td>\n",
       "      <td>0.0</td>\n",
       "      <td>0.0</td>\n",
       "      <td>0.0</td>\n",
       "      <td>0.0</td>\n",
       "      <td>0.0</td>\n",
       "      <td>0.0</td>\n",
       "      <td>1.0</td>\n",
       "      <td>0.0</td>\n",
       "      <td>0.0</td>\n",
       "      <td>0.0</td>\n",
       "      <td>0.0</td>\n",
       "      <td>0.0</td>\n",
       "    </tr>\n",
       "    <tr>\n",
       "      <th>...</th>\n",
       "      <td>...</td>\n",
       "      <td>...</td>\n",
       "      <td>...</td>\n",
       "      <td>...</td>\n",
       "      <td>...</td>\n",
       "      <td>...</td>\n",
       "      <td>...</td>\n",
       "      <td>...</td>\n",
       "      <td>...</td>\n",
       "      <td>...</td>\n",
       "      <td>...</td>\n",
       "      <td>...</td>\n",
       "      <td>...</td>\n",
       "    </tr>\n",
       "    <tr>\n",
       "      <th>31470</th>\n",
       "      <td>1.0</td>\n",
       "      <td>0.0</td>\n",
       "      <td>0.0</td>\n",
       "      <td>0.0</td>\n",
       "      <td>0.0</td>\n",
       "      <td>0.0</td>\n",
       "      <td>0.0</td>\n",
       "      <td>0.0</td>\n",
       "      <td>0.0</td>\n",
       "      <td>0.0</td>\n",
       "      <td>0.0</td>\n",
       "      <td>0.0</td>\n",
       "      <td>0.0</td>\n",
       "    </tr>\n",
       "    <tr>\n",
       "      <th>31471</th>\n",
       "      <td>0.0</td>\n",
       "      <td>0.0</td>\n",
       "      <td>0.0</td>\n",
       "      <td>0.0</td>\n",
       "      <td>0.0</td>\n",
       "      <td>0.0</td>\n",
       "      <td>0.0</td>\n",
       "      <td>0.0</td>\n",
       "      <td>1.0</td>\n",
       "      <td>0.0</td>\n",
       "      <td>0.0</td>\n",
       "      <td>0.0</td>\n",
       "      <td>0.0</td>\n",
       "    </tr>\n",
       "    <tr>\n",
       "      <th>31472</th>\n",
       "      <td>0.0</td>\n",
       "      <td>0.0</td>\n",
       "      <td>0.0</td>\n",
       "      <td>0.0</td>\n",
       "      <td>0.0</td>\n",
       "      <td>0.0</td>\n",
       "      <td>0.0</td>\n",
       "      <td>0.0</td>\n",
       "      <td>0.0</td>\n",
       "      <td>1.0</td>\n",
       "      <td>0.0</td>\n",
       "      <td>0.0</td>\n",
       "      <td>0.0</td>\n",
       "    </tr>\n",
       "    <tr>\n",
       "      <th>31473</th>\n",
       "      <td>0.0</td>\n",
       "      <td>0.0</td>\n",
       "      <td>0.0</td>\n",
       "      <td>0.0</td>\n",
       "      <td>0.0</td>\n",
       "      <td>0.0</td>\n",
       "      <td>0.0</td>\n",
       "      <td>0.0</td>\n",
       "      <td>0.0</td>\n",
       "      <td>0.0</td>\n",
       "      <td>1.0</td>\n",
       "      <td>0.0</td>\n",
       "      <td>0.0</td>\n",
       "    </tr>\n",
       "    <tr>\n",
       "      <th>31474</th>\n",
       "      <td>0.0</td>\n",
       "      <td>0.0</td>\n",
       "      <td>0.0</td>\n",
       "      <td>0.0</td>\n",
       "      <td>1.0</td>\n",
       "      <td>0.0</td>\n",
       "      <td>0.0</td>\n",
       "      <td>0.0</td>\n",
       "      <td>0.0</td>\n",
       "      <td>0.0</td>\n",
       "      <td>0.0</td>\n",
       "      <td>0.0</td>\n",
       "      <td>0.0</td>\n",
       "    </tr>\n",
       "    <tr>\n",
       "      <th>31475</th>\n",
       "      <td>0.0</td>\n",
       "      <td>0.0</td>\n",
       "      <td>0.0</td>\n",
       "      <td>0.0</td>\n",
       "      <td>0.0</td>\n",
       "      <td>0.0</td>\n",
       "      <td>0.0</td>\n",
       "      <td>1.0</td>\n",
       "      <td>0.0</td>\n",
       "      <td>0.0</td>\n",
       "      <td>0.0</td>\n",
       "      <td>0.0</td>\n",
       "      <td>0.0</td>\n",
       "    </tr>\n",
       "    <tr>\n",
       "      <th>31476</th>\n",
       "      <td>0.0</td>\n",
       "      <td>0.0</td>\n",
       "      <td>0.0</td>\n",
       "      <td>0.0</td>\n",
       "      <td>0.0</td>\n",
       "      <td>0.0</td>\n",
       "      <td>0.0</td>\n",
       "      <td>0.0</td>\n",
       "      <td>0.0</td>\n",
       "      <td>0.0</td>\n",
       "      <td>0.0</td>\n",
       "      <td>0.0</td>\n",
       "      <td>1.0</td>\n",
       "    </tr>\n",
       "    <tr>\n",
       "      <th>31477</th>\n",
       "      <td>0.0</td>\n",
       "      <td>0.0</td>\n",
       "      <td>0.0</td>\n",
       "      <td>0.0</td>\n",
       "      <td>0.0</td>\n",
       "      <td>0.0</td>\n",
       "      <td>0.0</td>\n",
       "      <td>0.0</td>\n",
       "      <td>0.0</td>\n",
       "      <td>1.0</td>\n",
       "      <td>0.0</td>\n",
       "      <td>0.0</td>\n",
       "      <td>0.0</td>\n",
       "    </tr>\n",
       "    <tr>\n",
       "      <th>31478</th>\n",
       "      <td>0.0</td>\n",
       "      <td>0.0</td>\n",
       "      <td>0.0</td>\n",
       "      <td>0.0</td>\n",
       "      <td>0.0</td>\n",
       "      <td>0.0</td>\n",
       "      <td>0.0</td>\n",
       "      <td>0.0</td>\n",
       "      <td>0.0</td>\n",
       "      <td>0.0</td>\n",
       "      <td>1.0</td>\n",
       "      <td>0.0</td>\n",
       "      <td>0.0</td>\n",
       "    </tr>\n",
       "    <tr>\n",
       "      <th>31479</th>\n",
       "      <td>0.0</td>\n",
       "      <td>1.0</td>\n",
       "      <td>0.0</td>\n",
       "      <td>0.0</td>\n",
       "      <td>0.0</td>\n",
       "      <td>0.0</td>\n",
       "      <td>0.0</td>\n",
       "      <td>0.0</td>\n",
       "      <td>0.0</td>\n",
       "      <td>0.0</td>\n",
       "      <td>0.0</td>\n",
       "      <td>0.0</td>\n",
       "      <td>0.0</td>\n",
       "    </tr>\n",
       "    <tr>\n",
       "      <th>31480</th>\n",
       "      <td>0.0</td>\n",
       "      <td>0.0</td>\n",
       "      <td>0.0</td>\n",
       "      <td>0.0</td>\n",
       "      <td>0.0</td>\n",
       "      <td>0.0</td>\n",
       "      <td>0.0</td>\n",
       "      <td>0.0</td>\n",
       "      <td>0.0</td>\n",
       "      <td>1.0</td>\n",
       "      <td>0.0</td>\n",
       "      <td>0.0</td>\n",
       "      <td>0.0</td>\n",
       "    </tr>\n",
       "    <tr>\n",
       "      <th>31481</th>\n",
       "      <td>0.0</td>\n",
       "      <td>0.0</td>\n",
       "      <td>0.0</td>\n",
       "      <td>0.0</td>\n",
       "      <td>0.0</td>\n",
       "      <td>1.0</td>\n",
       "      <td>0.0</td>\n",
       "      <td>0.0</td>\n",
       "      <td>0.0</td>\n",
       "      <td>0.0</td>\n",
       "      <td>0.0</td>\n",
       "      <td>0.0</td>\n",
       "      <td>0.0</td>\n",
       "    </tr>\n",
       "    <tr>\n",
       "      <th>31482</th>\n",
       "      <td>0.0</td>\n",
       "      <td>0.0</td>\n",
       "      <td>1.0</td>\n",
       "      <td>0.0</td>\n",
       "      <td>0.0</td>\n",
       "      <td>0.0</td>\n",
       "      <td>0.0</td>\n",
       "      <td>0.0</td>\n",
       "      <td>0.0</td>\n",
       "      <td>0.0</td>\n",
       "      <td>0.0</td>\n",
       "      <td>0.0</td>\n",
       "      <td>0.0</td>\n",
       "    </tr>\n",
       "    <tr>\n",
       "      <th>31483</th>\n",
       "      <td>0.0</td>\n",
       "      <td>0.0</td>\n",
       "      <td>0.0</td>\n",
       "      <td>0.0</td>\n",
       "      <td>0.0</td>\n",
       "      <td>0.0</td>\n",
       "      <td>0.0</td>\n",
       "      <td>0.0</td>\n",
       "      <td>0.0</td>\n",
       "      <td>0.0</td>\n",
       "      <td>0.0</td>\n",
       "      <td>0.0</td>\n",
       "      <td>1.0</td>\n",
       "    </tr>\n",
       "    <tr>\n",
       "      <th>31484</th>\n",
       "      <td>0.0</td>\n",
       "      <td>1.0</td>\n",
       "      <td>0.0</td>\n",
       "      <td>0.0</td>\n",
       "      <td>0.0</td>\n",
       "      <td>0.0</td>\n",
       "      <td>0.0</td>\n",
       "      <td>0.0</td>\n",
       "      <td>0.0</td>\n",
       "      <td>0.0</td>\n",
       "      <td>0.0</td>\n",
       "      <td>0.0</td>\n",
       "      <td>0.0</td>\n",
       "    </tr>\n",
       "    <tr>\n",
       "      <th>31485</th>\n",
       "      <td>0.0</td>\n",
       "      <td>0.0</td>\n",
       "      <td>0.0</td>\n",
       "      <td>1.0</td>\n",
       "      <td>0.0</td>\n",
       "      <td>0.0</td>\n",
       "      <td>0.0</td>\n",
       "      <td>0.0</td>\n",
       "      <td>0.0</td>\n",
       "      <td>0.0</td>\n",
       "      <td>0.0</td>\n",
       "      <td>0.0</td>\n",
       "      <td>0.0</td>\n",
       "    </tr>\n",
       "    <tr>\n",
       "      <th>31486</th>\n",
       "      <td>0.0</td>\n",
       "      <td>0.0</td>\n",
       "      <td>0.0</td>\n",
       "      <td>0.0</td>\n",
       "      <td>0.0</td>\n",
       "      <td>0.0</td>\n",
       "      <td>0.0</td>\n",
       "      <td>0.0</td>\n",
       "      <td>1.0</td>\n",
       "      <td>0.0</td>\n",
       "      <td>0.0</td>\n",
       "      <td>0.0</td>\n",
       "      <td>0.0</td>\n",
       "    </tr>\n",
       "    <tr>\n",
       "      <th>31487</th>\n",
       "      <td>0.0</td>\n",
       "      <td>0.0</td>\n",
       "      <td>0.0</td>\n",
       "      <td>0.0</td>\n",
       "      <td>1.0</td>\n",
       "      <td>0.0</td>\n",
       "      <td>0.0</td>\n",
       "      <td>0.0</td>\n",
       "      <td>0.0</td>\n",
       "      <td>0.0</td>\n",
       "      <td>0.0</td>\n",
       "      <td>0.0</td>\n",
       "      <td>0.0</td>\n",
       "    </tr>\n",
       "    <tr>\n",
       "      <th>31488</th>\n",
       "      <td>0.0</td>\n",
       "      <td>1.0</td>\n",
       "      <td>0.0</td>\n",
       "      <td>0.0</td>\n",
       "      <td>0.0</td>\n",
       "      <td>0.0</td>\n",
       "      <td>0.0</td>\n",
       "      <td>0.0</td>\n",
       "      <td>0.0</td>\n",
       "      <td>0.0</td>\n",
       "      <td>0.0</td>\n",
       "      <td>0.0</td>\n",
       "      <td>0.0</td>\n",
       "    </tr>\n",
       "    <tr>\n",
       "      <th>31489</th>\n",
       "      <td>0.0</td>\n",
       "      <td>0.0</td>\n",
       "      <td>0.0</td>\n",
       "      <td>0.0</td>\n",
       "      <td>0.0</td>\n",
       "      <td>0.0</td>\n",
       "      <td>0.0</td>\n",
       "      <td>1.0</td>\n",
       "      <td>0.0</td>\n",
       "      <td>0.0</td>\n",
       "      <td>0.0</td>\n",
       "      <td>0.0</td>\n",
       "      <td>0.0</td>\n",
       "    </tr>\n",
       "    <tr>\n",
       "      <th>31490</th>\n",
       "      <td>0.0</td>\n",
       "      <td>0.0</td>\n",
       "      <td>1.0</td>\n",
       "      <td>0.0</td>\n",
       "      <td>0.0</td>\n",
       "      <td>0.0</td>\n",
       "      <td>0.0</td>\n",
       "      <td>0.0</td>\n",
       "      <td>0.0</td>\n",
       "      <td>0.0</td>\n",
       "      <td>0.0</td>\n",
       "      <td>0.0</td>\n",
       "      <td>0.0</td>\n",
       "    </tr>\n",
       "    <tr>\n",
       "      <th>31491</th>\n",
       "      <td>0.0</td>\n",
       "      <td>0.0</td>\n",
       "      <td>0.0</td>\n",
       "      <td>1.0</td>\n",
       "      <td>0.0</td>\n",
       "      <td>0.0</td>\n",
       "      <td>0.0</td>\n",
       "      <td>0.0</td>\n",
       "      <td>0.0</td>\n",
       "      <td>0.0</td>\n",
       "      <td>0.0</td>\n",
       "      <td>0.0</td>\n",
       "      <td>0.0</td>\n",
       "    </tr>\n",
       "    <tr>\n",
       "      <th>31492</th>\n",
       "      <td>0.0</td>\n",
       "      <td>0.0</td>\n",
       "      <td>0.0</td>\n",
       "      <td>0.0</td>\n",
       "      <td>0.0</td>\n",
       "      <td>0.0</td>\n",
       "      <td>0.0</td>\n",
       "      <td>0.0</td>\n",
       "      <td>0.0</td>\n",
       "      <td>0.0</td>\n",
       "      <td>0.0</td>\n",
       "      <td>1.0</td>\n",
       "      <td>0.0</td>\n",
       "    </tr>\n",
       "    <tr>\n",
       "      <th>31493</th>\n",
       "      <td>0.0</td>\n",
       "      <td>0.0</td>\n",
       "      <td>0.0</td>\n",
       "      <td>0.0</td>\n",
       "      <td>0.0</td>\n",
       "      <td>0.0</td>\n",
       "      <td>1.0</td>\n",
       "      <td>0.0</td>\n",
       "      <td>0.0</td>\n",
       "      <td>0.0</td>\n",
       "      <td>0.0</td>\n",
       "      <td>0.0</td>\n",
       "      <td>0.0</td>\n",
       "    </tr>\n",
       "    <tr>\n",
       "      <th>31494</th>\n",
       "      <td>0.0</td>\n",
       "      <td>0.0</td>\n",
       "      <td>0.0</td>\n",
       "      <td>0.0</td>\n",
       "      <td>0.0</td>\n",
       "      <td>0.0</td>\n",
       "      <td>0.0</td>\n",
       "      <td>0.0</td>\n",
       "      <td>0.0</td>\n",
       "      <td>0.0</td>\n",
       "      <td>0.0</td>\n",
       "      <td>0.0</td>\n",
       "      <td>1.0</td>\n",
       "    </tr>\n",
       "    <tr>\n",
       "      <th>31495</th>\n",
       "      <td>0.0</td>\n",
       "      <td>0.0</td>\n",
       "      <td>1.0</td>\n",
       "      <td>0.0</td>\n",
       "      <td>0.0</td>\n",
       "      <td>0.0</td>\n",
       "      <td>0.0</td>\n",
       "      <td>0.0</td>\n",
       "      <td>0.0</td>\n",
       "      <td>0.0</td>\n",
       "      <td>0.0</td>\n",
       "      <td>0.0</td>\n",
       "      <td>0.0</td>\n",
       "    </tr>\n",
       "    <tr>\n",
       "      <th>31496</th>\n",
       "      <td>0.0</td>\n",
       "      <td>0.0</td>\n",
       "      <td>0.0</td>\n",
       "      <td>0.0</td>\n",
       "      <td>0.0</td>\n",
       "      <td>0.0</td>\n",
       "      <td>0.0</td>\n",
       "      <td>1.0</td>\n",
       "      <td>0.0</td>\n",
       "      <td>0.0</td>\n",
       "      <td>0.0</td>\n",
       "      <td>0.0</td>\n",
       "      <td>0.0</td>\n",
       "    </tr>\n",
       "    <tr>\n",
       "      <th>31497</th>\n",
       "      <td>0.0</td>\n",
       "      <td>0.0</td>\n",
       "      <td>0.0</td>\n",
       "      <td>1.0</td>\n",
       "      <td>0.0</td>\n",
       "      <td>0.0</td>\n",
       "      <td>0.0</td>\n",
       "      <td>0.0</td>\n",
       "      <td>0.0</td>\n",
       "      <td>0.0</td>\n",
       "      <td>0.0</td>\n",
       "      <td>0.0</td>\n",
       "      <td>0.0</td>\n",
       "    </tr>\n",
       "    <tr>\n",
       "      <th>31498</th>\n",
       "      <td>0.0</td>\n",
       "      <td>0.0</td>\n",
       "      <td>0.0</td>\n",
       "      <td>0.0</td>\n",
       "      <td>0.0</td>\n",
       "      <td>0.0</td>\n",
       "      <td>0.0</td>\n",
       "      <td>0.0</td>\n",
       "      <td>0.0</td>\n",
       "      <td>0.0</td>\n",
       "      <td>0.0</td>\n",
       "      <td>0.0</td>\n",
       "      <td>1.0</td>\n",
       "    </tr>\n",
       "    <tr>\n",
       "      <th>31499</th>\n",
       "      <td>0.0</td>\n",
       "      <td>0.0</td>\n",
       "      <td>0.0</td>\n",
       "      <td>0.0</td>\n",
       "      <td>0.0</td>\n",
       "      <td>0.0</td>\n",
       "      <td>0.0</td>\n",
       "      <td>0.0</td>\n",
       "      <td>1.0</td>\n",
       "      <td>0.0</td>\n",
       "      <td>0.0</td>\n",
       "      <td>0.0</td>\n",
       "      <td>0.0</td>\n",
       "    </tr>\n",
       "  </tbody>\n",
       "</table>\n",
       "<p>31500 rows × 13 columns</p>\n",
       "</div>"
      ],
      "text/plain": [
       "       SubSet[B_CD5]  SubSet[B_Memory]  SubSet[B_Naive]  \\\n",
       "0                0.0               0.0              0.0   \n",
       "1                0.0               0.0              0.0   \n",
       "2                1.0               0.0              0.0   \n",
       "3                0.0               1.0              0.0   \n",
       "4                0.0               0.0              0.0   \n",
       "5                0.0               0.0              0.0   \n",
       "6                0.0               0.0              1.0   \n",
       "7                0.0               0.0              0.0   \n",
       "8                0.0               0.0              0.0   \n",
       "9                0.0               0.0              0.0   \n",
       "10               0.0               0.0              0.0   \n",
       "11               0.0               0.0              0.0   \n",
       "12               0.0               0.0              0.0   \n",
       "13               0.0               0.0              0.0   \n",
       "14               0.0               0.0              0.0   \n",
       "15               0.0               0.0              0.0   \n",
       "16               0.0               0.0              0.0   \n",
       "17               0.0               0.0              0.0   \n",
       "18               0.0               0.0              0.0   \n",
       "19               0.0               0.0              0.0   \n",
       "20               0.0               0.0              1.0   \n",
       "21               0.0               0.0              0.0   \n",
       "22               0.0               0.0              0.0   \n",
       "23               0.0               0.0              0.0   \n",
       "24               0.0               0.0              0.0   \n",
       "25               1.0               0.0              0.0   \n",
       "26               0.0               0.0              0.0   \n",
       "27               0.0               0.0              0.0   \n",
       "28               0.0               1.0              0.0   \n",
       "29               0.0               0.0              0.0   \n",
       "...              ...               ...              ...   \n",
       "31470            1.0               0.0              0.0   \n",
       "31471            0.0               0.0              0.0   \n",
       "31472            0.0               0.0              0.0   \n",
       "31473            0.0               0.0              0.0   \n",
       "31474            0.0               0.0              0.0   \n",
       "31475            0.0               0.0              0.0   \n",
       "31476            0.0               0.0              0.0   \n",
       "31477            0.0               0.0              0.0   \n",
       "31478            0.0               0.0              0.0   \n",
       "31479            0.0               1.0              0.0   \n",
       "31480            0.0               0.0              0.0   \n",
       "31481            0.0               0.0              0.0   \n",
       "31482            0.0               0.0              1.0   \n",
       "31483            0.0               0.0              0.0   \n",
       "31484            0.0               1.0              0.0   \n",
       "31485            0.0               0.0              0.0   \n",
       "31486            0.0               0.0              0.0   \n",
       "31487            0.0               0.0              0.0   \n",
       "31488            0.0               1.0              0.0   \n",
       "31489            0.0               0.0              0.0   \n",
       "31490            0.0               0.0              1.0   \n",
       "31491            0.0               0.0              0.0   \n",
       "31492            0.0               0.0              0.0   \n",
       "31493            0.0               0.0              0.0   \n",
       "31494            0.0               0.0              0.0   \n",
       "31495            0.0               0.0              1.0   \n",
       "31496            0.0               0.0              0.0   \n",
       "31497            0.0               0.0              0.0   \n",
       "31498            0.0               0.0              0.0   \n",
       "31499            0.0               0.0              0.0   \n",
       "\n",
       "       SubSet[CD4_Central_Memory]  SubSet[CD4_Effector_Memory]  \\\n",
       "0                             0.0                          0.0   \n",
       "1                             0.0                          0.0   \n",
       "2                             0.0                          0.0   \n",
       "3                             0.0                          0.0   \n",
       "4                             0.0                          0.0   \n",
       "5                             0.0                          0.0   \n",
       "6                             0.0                          0.0   \n",
       "7                             0.0                          0.0   \n",
       "8                             0.0                          0.0   \n",
       "9                             0.0                          1.0   \n",
       "10                            0.0                          1.0   \n",
       "11                            0.0                          0.0   \n",
       "12                            0.0                          0.0   \n",
       "13                            0.0                          0.0   \n",
       "14                            0.0                          0.0   \n",
       "15                            0.0                          0.0   \n",
       "16                            1.0                          0.0   \n",
       "17                            0.0                          0.0   \n",
       "18                            0.0                          0.0   \n",
       "19                            0.0                          0.0   \n",
       "20                            0.0                          0.0   \n",
       "21                            0.0                          0.0   \n",
       "22                            0.0                          1.0   \n",
       "23                            0.0                          0.0   \n",
       "24                            0.0                          0.0   \n",
       "25                            0.0                          0.0   \n",
       "26                            0.0                          0.0   \n",
       "27                            0.0                          0.0   \n",
       "28                            0.0                          0.0   \n",
       "29                            0.0                          0.0   \n",
       "...                           ...                          ...   \n",
       "31470                         0.0                          0.0   \n",
       "31471                         0.0                          0.0   \n",
       "31472                         0.0                          0.0   \n",
       "31473                         0.0                          0.0   \n",
       "31474                         0.0                          1.0   \n",
       "31475                         0.0                          0.0   \n",
       "31476                         0.0                          0.0   \n",
       "31477                         0.0                          0.0   \n",
       "31478                         0.0                          0.0   \n",
       "31479                         0.0                          0.0   \n",
       "31480                         0.0                          0.0   \n",
       "31481                         0.0                          0.0   \n",
       "31482                         0.0                          0.0   \n",
       "31483                         0.0                          0.0   \n",
       "31484                         0.0                          0.0   \n",
       "31485                         1.0                          0.0   \n",
       "31486                         0.0                          0.0   \n",
       "31487                         0.0                          1.0   \n",
       "31488                         0.0                          0.0   \n",
       "31489                         0.0                          0.0   \n",
       "31490                         0.0                          0.0   \n",
       "31491                         1.0                          0.0   \n",
       "31492                         0.0                          0.0   \n",
       "31493                         0.0                          0.0   \n",
       "31494                         0.0                          0.0   \n",
       "31495                         0.0                          0.0   \n",
       "31496                         0.0                          0.0   \n",
       "31497                         1.0                          0.0   \n",
       "31498                         0.0                          0.0   \n",
       "31499                         0.0                          0.0   \n",
       "\n",
       "       SubSet[CD4_Naive]  SubSet[CD4_Th1]  SubSet[CD4_Th17]  SubSet[CD4_Th2]  \\\n",
       "0                    0.0              0.0               0.0              1.0   \n",
       "1                    0.0              0.0               0.0              0.0   \n",
       "2                    0.0              0.0               0.0              0.0   \n",
       "3                    0.0              0.0               0.0              0.0   \n",
       "4                    0.0              1.0               0.0              0.0   \n",
       "5                    1.0              0.0               0.0              0.0   \n",
       "6                    0.0              0.0               0.0              0.0   \n",
       "7                    0.0              0.0               0.0              0.0   \n",
       "8                    1.0              0.0               0.0              0.0   \n",
       "9                    0.0              0.0               0.0              0.0   \n",
       "10                   0.0              0.0               0.0              0.0   \n",
       "11                   0.0              1.0               0.0              0.0   \n",
       "12                   0.0              0.0               0.0              0.0   \n",
       "13                   0.0              0.0               0.0              1.0   \n",
       "14                   1.0              0.0               0.0              0.0   \n",
       "15                   1.0              0.0               0.0              0.0   \n",
       "16                   0.0              0.0               0.0              0.0   \n",
       "17                   0.0              0.0               0.0              0.0   \n",
       "18                   0.0              1.0               0.0              0.0   \n",
       "19                   0.0              0.0               0.0              0.0   \n",
       "20                   0.0              0.0               0.0              0.0   \n",
       "21                   0.0              1.0               0.0              0.0   \n",
       "22                   0.0              0.0               0.0              0.0   \n",
       "23                   0.0              0.0               0.0              0.0   \n",
       "24                   0.0              0.0               0.0              0.0   \n",
       "25                   0.0              0.0               0.0              0.0   \n",
       "26                   0.0              0.0               0.0              0.0   \n",
       "27                   0.0              0.0               0.0              0.0   \n",
       "28                   0.0              0.0               0.0              0.0   \n",
       "29                   0.0              0.0               1.0              0.0   \n",
       "...                  ...              ...               ...              ...   \n",
       "31470                0.0              0.0               0.0              0.0   \n",
       "31471                0.0              0.0               0.0              1.0   \n",
       "31472                0.0              0.0               0.0              0.0   \n",
       "31473                0.0              0.0               0.0              0.0   \n",
       "31474                0.0              0.0               0.0              0.0   \n",
       "31475                0.0              0.0               1.0              0.0   \n",
       "31476                0.0              0.0               0.0              0.0   \n",
       "31477                0.0              0.0               0.0              0.0   \n",
       "31478                0.0              0.0               0.0              0.0   \n",
       "31479                0.0              0.0               0.0              0.0   \n",
       "31480                0.0              0.0               0.0              0.0   \n",
       "31481                1.0              0.0               0.0              0.0   \n",
       "31482                0.0              0.0               0.0              0.0   \n",
       "31483                0.0              0.0               0.0              0.0   \n",
       "31484                0.0              0.0               0.0              0.0   \n",
       "31485                0.0              0.0               0.0              0.0   \n",
       "31486                0.0              0.0               0.0              1.0   \n",
       "31487                0.0              0.0               0.0              0.0   \n",
       "31488                0.0              0.0               0.0              0.0   \n",
       "31489                0.0              0.0               1.0              0.0   \n",
       "31490                0.0              0.0               0.0              0.0   \n",
       "31491                0.0              0.0               0.0              0.0   \n",
       "31492                0.0              0.0               0.0              0.0   \n",
       "31493                0.0              1.0               0.0              0.0   \n",
       "31494                0.0              0.0               0.0              0.0   \n",
       "31495                0.0              0.0               0.0              0.0   \n",
       "31496                0.0              0.0               1.0              0.0   \n",
       "31497                0.0              0.0               0.0              0.0   \n",
       "31498                0.0              0.0               0.0              0.0   \n",
       "31499                0.0              0.0               0.0              1.0   \n",
       "\n",
       "       SubSet[CD4_Treg]  SubSet[CD8_Central_Memory]  SubSet[CD8_Effector]  \\\n",
       "0                   0.0                         0.0                   0.0   \n",
       "1                   0.0                         0.0                   1.0   \n",
       "2                   0.0                         0.0                   0.0   \n",
       "3                   0.0                         0.0                   0.0   \n",
       "4                   0.0                         0.0                   0.0   \n",
       "5                   0.0                         0.0                   0.0   \n",
       "6                   0.0                         0.0                   0.0   \n",
       "7                   0.0                         0.0                   1.0   \n",
       "8                   0.0                         0.0                   0.0   \n",
       "9                   0.0                         0.0                   0.0   \n",
       "10                  0.0                         0.0                   0.0   \n",
       "11                  0.0                         0.0                   0.0   \n",
       "12                  0.0                         1.0                   0.0   \n",
       "13                  0.0                         0.0                   0.0   \n",
       "14                  0.0                         0.0                   0.0   \n",
       "15                  0.0                         0.0                   0.0   \n",
       "16                  0.0                         0.0                   0.0   \n",
       "17                  1.0                         0.0                   0.0   \n",
       "18                  0.0                         0.0                   0.0   \n",
       "19                  0.0                         0.0                   1.0   \n",
       "20                  0.0                         0.0                   0.0   \n",
       "21                  0.0                         0.0                   0.0   \n",
       "22                  0.0                         0.0                   0.0   \n",
       "23                  1.0                         0.0                   0.0   \n",
       "24                  0.0                         0.0                   1.0   \n",
       "25                  0.0                         0.0                   0.0   \n",
       "26                  0.0                         0.0                   0.0   \n",
       "27                  0.0                         1.0                   0.0   \n",
       "28                  0.0                         0.0                   0.0   \n",
       "29                  0.0                         0.0                   0.0   \n",
       "...                 ...                         ...                   ...   \n",
       "31470               0.0                         0.0                   0.0   \n",
       "31471               0.0                         0.0                   0.0   \n",
       "31472               1.0                         0.0                   0.0   \n",
       "31473               0.0                         1.0                   0.0   \n",
       "31474               0.0                         0.0                   0.0   \n",
       "31475               0.0                         0.0                   0.0   \n",
       "31476               0.0                         0.0                   0.0   \n",
       "31477               1.0                         0.0                   0.0   \n",
       "31478               0.0                         1.0                   0.0   \n",
       "31479               0.0                         0.0                   0.0   \n",
       "31480               1.0                         0.0                   0.0   \n",
       "31481               0.0                         0.0                   0.0   \n",
       "31482               0.0                         0.0                   0.0   \n",
       "31483               0.0                         0.0                   0.0   \n",
       "31484               0.0                         0.0                   0.0   \n",
       "31485               0.0                         0.0                   0.0   \n",
       "31486               0.0                         0.0                   0.0   \n",
       "31487               0.0                         0.0                   0.0   \n",
       "31488               0.0                         0.0                   0.0   \n",
       "31489               0.0                         0.0                   0.0   \n",
       "31490               0.0                         0.0                   0.0   \n",
       "31491               0.0                         0.0                   0.0   \n",
       "31492               0.0                         0.0                   1.0   \n",
       "31493               0.0                         0.0                   0.0   \n",
       "31494               0.0                         0.0                   0.0   \n",
       "31495               0.0                         0.0                   0.0   \n",
       "31496               0.0                         0.0                   0.0   \n",
       "31497               0.0                         0.0                   0.0   \n",
       "31498               0.0                         0.0                   0.0   \n",
       "31499               0.0                         0.0                   0.0   \n",
       "\n",
       "       SubSet[CD8_Naive]  \n",
       "0                    0.0  \n",
       "1                    0.0  \n",
       "2                    0.0  \n",
       "3                    0.0  \n",
       "4                    0.0  \n",
       "5                    0.0  \n",
       "6                    0.0  \n",
       "7                    0.0  \n",
       "8                    0.0  \n",
       "9                    0.0  \n",
       "10                   0.0  \n",
       "11                   0.0  \n",
       "12                   0.0  \n",
       "13                   0.0  \n",
       "14                   0.0  \n",
       "15                   0.0  \n",
       "16                   0.0  \n",
       "17                   0.0  \n",
       "18                   0.0  \n",
       "19                   0.0  \n",
       "20                   0.0  \n",
       "21                   0.0  \n",
       "22                   0.0  \n",
       "23                   0.0  \n",
       "24                   0.0  \n",
       "25                   0.0  \n",
       "26                   1.0  \n",
       "27                   0.0  \n",
       "28                   0.0  \n",
       "29                   0.0  \n",
       "...                  ...  \n",
       "31470                0.0  \n",
       "31471                0.0  \n",
       "31472                0.0  \n",
       "31473                0.0  \n",
       "31474                0.0  \n",
       "31475                0.0  \n",
       "31476                1.0  \n",
       "31477                0.0  \n",
       "31478                0.0  \n",
       "31479                0.0  \n",
       "31480                0.0  \n",
       "31481                0.0  \n",
       "31482                0.0  \n",
       "31483                1.0  \n",
       "31484                0.0  \n",
       "31485                0.0  \n",
       "31486                0.0  \n",
       "31487                0.0  \n",
       "31488                0.0  \n",
       "31489                0.0  \n",
       "31490                0.0  \n",
       "31491                0.0  \n",
       "31492                0.0  \n",
       "31493                0.0  \n",
       "31494                1.0  \n",
       "31495                0.0  \n",
       "31496                0.0  \n",
       "31497                0.0  \n",
       "31498                1.0  \n",
       "31499                0.0  \n",
       "\n",
       "[31500 rows x 13 columns]"
      ]
     },
     "execution_count": 20,
     "metadata": {},
     "output_type": "execute_result"
    }
   ],
   "source": [
    "stan_data['x']"
   ]
  },
  {
   "cell_type": "code",
   "execution_count": 21,
   "metadata": {
    "ExecuteTime": {
     "end_time": "2017-05-04T20:36:30.505160Z",
     "start_time": "2017-05-04T20:36:30.500376Z"
    }
   },
   "outputs": [
    {
     "name": "stdout",
     "output_type": "stream",
     "text": [
      "SubSet[B_CD5]\n"
     ]
    }
   ],
   "source": [
    "colnames = list(stan_data['x'].columns)\n",
    "sort_by = colnames[0]\n",
    "print(sort_by)"
   ]
  },
  {
   "cell_type": "code",
   "execution_count": 22,
   "metadata": {
    "ExecuteTime": {
     "end_time": "2017-05-04T20:36:30.510635Z",
     "start_time": "2017-05-04T20:36:30.508197Z"
    },
    "collapsed": true
   },
   "outputs": [],
   "source": [
    "# theta_ldf = models.prep_theta_summary(model_fit, sample_df=sample_df, colnames=colnames, expose_group=sort_by)"
   ]
  },
  {
   "cell_type": "code",
   "execution_count": 23,
   "metadata": {
    "ExecuteTime": {
     "end_time": "2017-05-04T20:36:30.516354Z",
     "start_time": "2017-05-04T20:36:30.512849Z"
    },
    "collapsed": true
   },
   "outputs": [],
   "source": [
    "# ## show theta estimates for first 50 genes, by `sort-by`\n",
    "# g = sns.boxplot(data=theta_ldf.loc[theta_ldf['mean_value_rank_{}'.format(sort_by)] <= 50,:] \\\n",
    "#                 .sort_values('mean_value_rank_{}'.format(sort_by)),\n",
    "#             y='new_gene_cat',\n",
    "#             x='value',\n",
    "#             hue='variable', \n",
    "#             fliersize=0, width=2, linewidth=0.2)"
   ]
  },
  {
   "cell_type": "code",
   "execution_count": 24,
   "metadata": {
    "ExecuteTime": {
     "end_time": "2017-05-04T20:36:30.522371Z",
     "start_time": "2017-05-04T20:36:30.518561Z"
    },
    "collapsed": true
   },
   "outputs": [],
   "source": [
    "# ## zoom in on the highest-ranked genes by `sort-by` difference from average \n",
    "# ## across all cell types\n",
    "# g = sns.boxplot(data=theta_ldf.loc[theta_ldf['mean_abs_diff_rank_{}'.format(sort_by)] <= 10,:] \\\n",
    "#                 .sort_values('mean_diff_rank_{}'.format(sort_by)),\n",
    "#             y='new_gene_cat',\n",
    "#             x='value',\n",
    "#             hue='variable', \n",
    "#             fliersize=0, linewidth=0.2)"
   ]
  },
  {
   "cell_type": "code",
   "execution_count": 25,
   "metadata": {
    "ExecuteTime": {
     "end_time": "2017-05-04T20:36:31.458410Z",
     "start_time": "2017-05-04T20:36:30.524388Z"
    },
    "collapsed": true
   },
   "outputs": [],
   "source": [
    "omega = model_fit.extract('Omega')['Omega']"
   ]
  },
  {
   "cell_type": "code",
   "execution_count": 26,
   "metadata": {
    "ExecuteTime": {
     "end_time": "2017-05-04T20:36:31.465311Z",
     "start_time": "2017-05-04T20:36:31.460644Z"
    }
   },
   "outputs": [
    {
     "data": {
      "text/plain": [
       "(4000, 13, 13)"
      ]
     },
     "execution_count": 26,
     "metadata": {},
     "output_type": "execute_result"
    }
   ],
   "source": [
    "omega.shape"
   ]
  },
  {
   "cell_type": "code",
   "execution_count": 27,
   "metadata": {
    "ExecuteTime": {
     "end_time": "2017-05-04T20:36:31.473312Z",
     "start_time": "2017-05-04T20:36:31.467661Z"
    }
   },
   "outputs": [
    {
     "name": "stdout",
     "output_type": "stream",
     "text": [
      "(4000,) 1.0\n",
      "(4000,) 0.82567503041\n"
     ]
    }
   ],
   "source": [
    "print(omega[:, 1, 1].shape, np.mean(omega[:, 0, 0]))\n",
    "print(omega[:, 0, 1].shape, np.mean(omega[:, 0, 1]))"
   ]
  },
  {
   "cell_type": "markdown",
   "metadata": {},
   "source": [
    "So far so good -- self-correlation is 1, and the non-self correlation matches the print out of Omega posterior means above."
   ]
  },
  {
   "cell_type": "code",
   "execution_count": 28,
   "metadata": {
    "ExecuteTime": {
     "end_time": "2017-05-04T20:36:31.486208Z",
     "start_time": "2017-05-04T20:36:31.475412Z"
    },
    "collapsed": true
   },
   "outputs": [],
   "source": [
    "mean_matrix = np.apply_along_axis(np.mean, 0, omega)"
   ]
  },
  {
   "cell_type": "code",
   "execution_count": 29,
   "metadata": {
    "ExecuteTime": {
     "end_time": "2017-05-04T20:36:31.497499Z",
     "start_time": "2017-05-04T20:36:31.488319Z"
    }
   },
   "outputs": [
    {
     "name": "stdout",
     "output_type": "stream",
     "text": [
      "(13, 13)\n"
     ]
    },
    {
     "data": {
      "text/plain": [
       "array([[ 1.        ,  0.82567503,  0.86804532,  0.24393898,  0.16136129,\n",
       "         0.14408982,  0.17411624, -0.02281285, -0.10420276,  0.27128552,\n",
       "         0.08647246,  0.01443822,  0.12025598],\n",
       "       [ 0.82567503,  1.        ,  0.97496306,  0.63716741,  0.55313892,\n",
       "         0.55529849,  0.56312387,  0.38352688,  0.32782361,  0.55652543,\n",
       "         0.51577329,  0.26967884,  0.53050703],\n",
       "       [ 0.86804532,  0.97496306,  1.        ,  0.59294623,  0.49632265,\n",
       "         0.51951198,  0.51546156,  0.33608644,  0.28292593,  0.52595075,\n",
       "         0.45583374,  0.20748639,  0.48690807],\n",
       "       [ 0.24393898,  0.63716741,  0.59294623,  1.        ,  0.94543509,\n",
       "         0.90389276,  0.95860014,  0.88572271,  0.81786337,  0.90391052,\n",
       "         0.9463629 ,  0.71964255,  0.9190305 ],\n",
       "       [ 0.16136129,  0.55313892,  0.49632265,  0.94543509,  1.        ,\n",
       "         0.82230667,  0.9584817 ,  0.91907602,  0.85261897,  0.88694234,\n",
       "         0.9517938 ,  0.83998853,  0.85283181],\n",
       "       [ 0.14408982,  0.55529849,  0.51951198,  0.90389276,  0.82230667,\n",
       "         1.        ,  0.87656501,  0.82645678,  0.82855687,  0.7723207 ,\n",
       "         0.89360084,  0.5342703 ,  0.96705543],\n",
       "       [ 0.17411624,  0.56312387,  0.51546156,  0.95860014,  0.9584817 ,\n",
       "         0.87656501,  1.        ,  0.92447463,  0.86124346,  0.88380202,\n",
       "         0.95030621,  0.79363457,  0.88862125],\n",
       "       [-0.02281285,  0.38352688,  0.33608644,  0.88572271,  0.91907602,\n",
       "         0.82645678,  0.92447463,  1.        ,  0.94211859,  0.80278946,\n",
       "         0.9252661 ,  0.78754169,  0.82926782],\n",
       "       [-0.10420276,  0.32782361,  0.28292593,  0.81786337,  0.85261897,\n",
       "         0.82855687,  0.86124346,  0.94211859,  1.        ,  0.69169455,\n",
       "         0.88793445,  0.68533175,  0.80056676],\n",
       "       [ 0.27128552,  0.55652543,  0.52595075,  0.90391052,  0.88694234,\n",
       "         0.7723207 ,  0.88380202,  0.80278946,  0.69169455,  1.        ,\n",
       "         0.84673445,  0.75161473,  0.79971397],\n",
       "       [ 0.08647246,  0.51577329,  0.45583374,  0.9463629 ,  0.9517938 ,\n",
       "         0.89360084,  0.95030621,  0.9252661 ,  0.88793445,  0.84673445,\n",
       "         1.        ,  0.77547268,  0.91201783],\n",
       "       [ 0.01443822,  0.26967884,  0.20748639,  0.71964255,  0.83998853,\n",
       "         0.5342703 ,  0.79363457,  0.78754169,  0.68533175,  0.75161473,\n",
       "         0.77547268,  1.        ,  0.60550499],\n",
       "       [ 0.12025598,  0.53050703,  0.48690807,  0.9190305 ,  0.85283181,\n",
       "         0.96705543,  0.88862125,  0.82926782,  0.80056676,  0.79971397,\n",
       "         0.91201783,  0.60550499,  1.        ]])"
      ]
     },
     "execution_count": 29,
     "metadata": {},
     "output_type": "execute_result"
    }
   ],
   "source": [
    "print(mean_matrix.shape)\n",
    "mean_matrix"
   ]
  },
  {
   "cell_type": "code",
   "execution_count": 30,
   "metadata": {
    "ExecuteTime": {
     "end_time": "2017-05-04T20:36:31.509562Z",
     "start_time": "2017-05-04T20:36:31.499636Z"
    }
   },
   "outputs": [
    {
     "data": {
      "text/plain": [
       "array([[ 2.03486231,  1.0873862 ,  1.29859106, -2.76730471, -2.70357187,\n",
       "        -2.59173953, -2.71628905, -2.57389542, -2.55875883, -2.52744364,\n",
       "        -2.70177222, -2.19179276, -2.62683534],\n",
       "       [ 1.53455998,  1.89784558,  1.74734429, -0.83032211, -1.0125168 ,\n",
       "        -0.80881246, -1.0172563 , -1.19159822, -1.15386   , -1.00762673,\n",
       "        -1.03074967, -1.25903212, -0.90764464],\n",
       "       [ 1.65616019,  1.78144558,  1.85242891, -1.04814882, -1.25775654,\n",
       "        -0.96397634, -1.22542655, -1.35298237, -1.29986194, -1.17053495,\n",
       "        -1.26406004, -1.4863105 , -1.09034965],\n",
       "       [-0.134988  ,  0.21098982,  0.14395006,  0.95693528,  0.68077648,\n",
       "         0.70262986,  0.71002896,  0.51678478,  0.43969154,  0.84331247,\n",
       "         0.64528941,  0.38533162,  0.72049485],\n",
       "       [-0.37198107, -0.17966951, -0.2615967 ,  0.68815695,  0.91629852,\n",
       "         0.34888718,  0.70951164,  0.63024693,  0.55271266,  0.75290251,\n",
       "         0.66642878,  0.82512834,  0.44308382],\n",
       "       [-0.42154916, -0.1696294 , -0.16426685,  0.48352586,  0.14930934,\n",
       "         1.11933361,  0.35173169,  0.31517237,  0.47446554,  0.14217484,\n",
       "         0.43991688, -0.29209948,  0.92174727],\n",
       "       [-0.33537512, -0.1332482 , -0.18126719,  0.75300596,  0.7370904 ,\n",
       "         0.58414163,  0.8908473 ,  0.64861207,  0.58075849,  0.73617022,\n",
       "         0.66063842,  0.65573076,  0.59306239],\n",
       "       [-0.90054993, -0.96821785, -0.93413726,  0.39402299,  0.56700111,\n",
       "         0.36688131,  0.5609821 ,  0.90553627,  0.84375489,  0.30451864,\n",
       "         0.56317163,  0.6334647 ,  0.34433697],\n",
       "       [-1.13413415, -1.22718962, -1.15726159,  0.05975831,  0.28014826,\n",
       "         0.3759869 ,  0.28481316,  0.70863377,  1.03197841, -0.28741788,\n",
       "         0.41786086,  0.259945  ,  0.22406284],\n",
       "       [-0.05650504, -0.16392517, -0.13724217,  0.48361333,  0.42830045,\n",
       "         0.13215698,  0.38334009,  0.23466025,  0.02940542,  1.35529697,\n",
       "         0.25749284,  0.5021719 ,  0.22048913],\n",
       "       [-0.58690757, -0.35338718, -0.43153603,  0.69272722,  0.70822299,\n",
       "         0.65800593,  0.6738043 ,  0.65130453,  0.66755445,  0.53866662,\n",
       "         0.85406794,  0.58935928,  0.69110768],\n",
       "       [-0.79364159, -1.49751215, -1.47389512, -0.42406228,  0.22563068,\n",
       "        -0.89998692, -0.01047595,  0.18278998,  0.00871436,  0.03184914,\n",
       "        -0.01988849,  1.40988009, -0.59335952],\n",
       "       [-0.48995087, -0.28488809, -0.30111139,  0.558092  ,  0.28106697,\n",
       "         0.97649186,  0.4043886 ,  0.32473504,  0.38344502,  0.28813179,\n",
       "         0.51160367, -0.03177682,  1.05980419]])"
      ]
     },
     "execution_count": 30,
     "metadata": {},
     "output_type": "execute_result"
    }
   ],
   "source": [
    "scaled_mat = (mean_matrix - mean_matrix.mean(axis=0)) / mean_matrix.std(axis=0)\n",
    "scaled_mat2 = (mean_matrix - mean_matrix.mean(axis=0))\n",
    "scaled_mat"
   ]
  },
  {
   "cell_type": "code",
   "execution_count": 31,
   "metadata": {
    "ExecuteTime": {
     "end_time": "2017-05-04T20:36:31.519135Z",
     "start_time": "2017-05-04T20:36:31.511798Z"
    }
   },
   "outputs": [
    {
     "data": {
      "text/plain": [
       "(array([  2.98906199e-17,  -4.14198590e-16,   3.41607085e-17,\n",
       "          2.90366022e-16,   2.56205313e-17,  -3.50147262e-16,\n",
       "         -6.10622664e-16,  -5.55111512e-17,  -1.70803542e-17,\n",
       "          4.56899476e-16,  -1.28102657e-16,   1.77208675e-16,\n",
       "         -6.31973106e-16]),\n",
       " array([ 1.,  1.,  1.,  1.,  1.,  1.,  1.,  1.,  1.,  1.,  1.,  1.,  1.]),\n",
       " array([  0.00000000e+00,  -8.11316826e-17,   1.28102657e-17,\n",
       "          5.12410627e-17,   2.56205313e-17,  -7.68615940e-17,\n",
       "         -1.28102657e-16,  -3.41607085e-17,  -2.56205313e-17,\n",
       "          6.83214169e-17,  -3.41607085e-17,   7.68615940e-17,\n",
       "         -1.62263365e-16]),\n",
       " array([ 0.34843925,  0.21509402,  0.23825508,  0.20301082,  0.23167645,\n",
       "         0.23063684,  0.22895829,  0.29395974,  0.30751422,  0.18768044,\n",
       "         0.25690906,  0.27364001,  0.23863033]))"
      ]
     },
     "execution_count": 31,
     "metadata": {},
     "output_type": "execute_result"
    }
   ],
   "source": [
    "# confirm each row has 0 mean and unit variance (in scaled mat 1)\n",
    "scaled_mat.mean(axis=0), scaled_mat.std(axis=0), scaled_mat2.mean(axis=0), scaled_mat2.std(axis=0)"
   ]
  },
  {
   "cell_type": "code",
   "execution_count": 32,
   "metadata": {
    "ExecuteTime": {
     "end_time": "2017-05-04T20:36:31.527043Z",
     "start_time": "2017-05-04T20:36:31.521212Z"
    }
   },
   "outputs": [
    {
     "data": {
      "text/plain": [
       "['B_CD5',\n",
       " 'B_Memory',\n",
       " 'B_Naive',\n",
       " 'CD4_Central_Memory',\n",
       " 'CD4_Effector_Memory',\n",
       " 'CD4_Naive',\n",
       " 'CD4_Th1',\n",
       " 'CD4_Th17',\n",
       " 'CD4_Th2',\n",
       " 'CD4_Treg',\n",
       " 'CD8_Central_Memory',\n",
       " 'CD8_Effector',\n",
       " 'CD8_Naive']"
      ]
     },
     "execution_count": 32,
     "metadata": {},
     "output_type": "execute_result"
    }
   ],
   "source": [
    "colnames_filtered = [c.replace('SubSet[', '').replace(']', '') for c in colnames]\n",
    "colnames_filtered"
   ]
  },
  {
   "cell_type": "code",
   "execution_count": 33,
   "metadata": {
    "ExecuteTime": {
     "end_time": "2017-05-04T20:36:32.135505Z",
     "start_time": "2017-05-04T20:36:31.529225Z"
    }
   },
   "outputs": [
    {
     "name": "stderr",
     "output_type": "stream",
     "text": [
      "/home/maxim/miniconda3/envs/immuneinf/lib/python3.5/site-packages/matplotlib/font_manager.py:1297: UserWarning: findfont: Font family ['sans-serif'] not found. Falling back to DejaVu Sans\n",
      "  (prop.get_family(), self.defaultFamily[fontext]))\n"
     ]
    },
    {
     "data": {
      "text/plain": [
       "<matplotlib.text.Text at 0x7ffb96c5dfd0>"
      ]
     },
     "execution_count": 33,
     "metadata": {},
     "output_type": "execute_result"
    },
    {
     "data": {
      "image/png": "[encoded data removed]",
      "text/plain": [
       "<matplotlib.figure.Figure at 0x7ffb96c59208>"
      ]
     },
     "metadata": {},
     "output_type": "display_data"
    }
   ],
   "source": [
    "g = sns.heatmap(mean_matrix, square=True,\n",
    "                xticklabels=colnames_filtered,\n",
    "                yticklabels=colnames_filtered\n",
    "               )\n",
    "plt.title('Omega')\n",
    "#plt.savefig('plots/lm22.corr.png', dpi=300)"
   ]
  },
  {
   "cell_type": "code",
   "execution_count": 34,
   "metadata": {
    "ExecuteTime": {
     "end_time": "2017-05-04T20:36:32.848289Z",
     "start_time": "2017-05-04T20:36:32.137755Z"
    }
   },
   "outputs": [
    {
     "name": "stderr",
     "output_type": "stream",
     "text": [
      "/home/maxim/miniconda3/envs/immuneinf/lib/python3.5/site-packages/matplotlib/font_manager.py:1297: UserWarning: findfont: Font family ['sans-serif'] not found. Falling back to DejaVu Sans\n",
      "  (prop.get_family(), self.defaultFamily[fontext]))\n"
     ]
    },
    {
     "data": {
      "text/plain": [
       "<matplotlib.text.Text at 0x7ffb96f08160>"
      ]
     },
     "execution_count": 34,
     "metadata": {},
     "output_type": "execute_result"
    },
    {
     "data": {
      "image/png": "[encoded data removed]",
      "text/plain": [
       "<matplotlib.figure.Figure at 0x7ffb96f25b38>"
      ]
     },
     "metadata": {},
     "output_type": "display_data"
    }
   ],
   "source": [
    "g = sns.heatmap(scaled_mat, square=True,\n",
    "                xticklabels=colnames_filtered,\n",
    "                yticklabels=colnames_filtered\n",
    "               )\n",
    "plt.title('Omega (row-normalized) -- not symmetric')\n",
    "#plt.savefig('plots/lm22.corr.png', dpi=300)"
   ]
  },
  {
   "cell_type": "code",
   "execution_count": 35,
   "metadata": {
    "ExecuteTime": {
     "end_time": "2017-05-04T20:36:33.469005Z",
     "start_time": "2017-05-04T20:36:32.850666Z"
    }
   },
   "outputs": [
    {
     "name": "stderr",
     "output_type": "stream",
     "text": [
      "/home/maxim/miniconda3/envs/immuneinf/lib/python3.5/site-packages/matplotlib/font_manager.py:1297: UserWarning: findfont: Font family ['sans-serif'] not found. Falling back to DejaVu Sans\n",
      "  (prop.get_family(), self.defaultFamily[fontext]))\n"
     ]
    },
    {
     "data": {
      "text/plain": [
       "<matplotlib.text.Text at 0x7ffb8fcdb7f0>"
      ]
     },
     "execution_count": 35,
     "metadata": {},
     "output_type": "execute_result"
    },
    {
     "data": {
      "image/png": "[encoded data removed]",
      "text/plain": [
       "<matplotlib.figure.Figure at 0x7ffb92c409e8>"
      ]
     },
     "metadata": {},
     "output_type": "display_data"
    }
   ],
   "source": [
    "g = sns.heatmap(scaled_mat2, square=True,\n",
    "                xticklabels=colnames_filtered,\n",
    "                yticklabels=colnames_filtered\n",
    "               )\n",
    "plt.title('Omega (row-normalized2) -- not symmetric')\n",
    "#plt.savefig('plots/lm22.corr.png', dpi=300)"
   ]
  },
  {
   "cell_type": "markdown",
   "metadata": {},
   "source": [
    "now dendrogram\n",
    "\n",
    "see\n",
    "\n",
    "* https://stats.stackexchange.com/a/165234/297, which suggests row normalize\n",
    "* http://research.stowers.org/mcm/efg/R/Visualization/cor-cluster/index.htm: basically for distance metric use `1 - abs(corr)` or `1 - corr` \n",
    "* https://www.personality-project.org/r/html/cor2dist.html: $d = \\sqrt{(2(1-r))}$, which maps (-1,1) to (0,2).\n",
    "* https://rdrr.io/cran/ape/man/vcv2phylo.html : http://www.mpcm-evolution.org/OPM/Chapter5_OPM/download/vcv2phylo.R\n",
    "* https://plot.ly/python/dendrogram/\n",
    "* https://joernhees.de/blog/2015/08/26/scipy-hierarchical-clustering-and-dendrogram-tutorial/"
   ]
  },
  {
   "cell_type": "markdown",
   "metadata": {},
   "source": [
    "first have to convert square distance matrix into their desired 1d form"
   ]
  },
  {
   "cell_type": "code",
   "execution_count": 36,
   "metadata": {
    "ExecuteTime": {
     "end_time": "2017-05-04T20:36:33.474534Z",
     "start_time": "2017-05-04T20:36:33.471155Z"
    },
    "collapsed": true
   },
   "outputs": [],
   "source": [
    "import scipy\n",
    "# pdist = scipy.spatial.distance.squareform(scaled_mat) \n",
    "# pdist"
   ]
  },
  {
   "cell_type": "code",
   "execution_count": 37,
   "metadata": {
    "ExecuteTime": {
     "end_time": "2017-05-04T20:36:33.480750Z",
     "start_time": "2017-05-04T20:36:33.477212Z"
    },
    "collapsed": true
   },
   "outputs": [],
   "source": [
    "# import scipy\n",
    "# pdist = scipy.spatial.distance.squareform(scaled_mat2)\n",
    "# pdist"
   ]
  },
  {
   "cell_type": "code",
   "execution_count": 38,
   "metadata": {
    "ExecuteTime": {
     "end_time": "2017-05-04T20:36:33.487239Z",
     "start_time": "2017-05-04T20:36:33.482922Z"
    },
    "collapsed": true
   },
   "outputs": [],
   "source": [
    "# import scipy\n",
    "# pdist = scipy.spatial.distance.squareform(mean_matrix)\n",
    "# pdist"
   ]
  },
  {
   "cell_type": "code",
   "execution_count": 39,
   "metadata": {
    "ExecuteTime": {
     "end_time": "2017-05-04T20:36:33.497368Z",
     "start_time": "2017-05-04T20:36:33.489406Z"
    }
   },
   "outputs": [
    {
     "data": {
      "text/plain": [
       "array([ 0.17432497,  0.13195468,  0.75606102,  0.83863871,  0.85591018,\n",
       "        0.82588376,  1.02281285,  1.10420276,  0.72871448,  0.91352754,\n",
       "        0.98556178,  0.87974402,  0.02503694,  0.36283259,  0.44686108,\n",
       "        0.44470151,  0.43687613,  0.61647312,  0.67217639,  0.44347457,\n",
       "        0.48422671,  0.73032116,  0.46949297,  0.40705377,  0.50367735,\n",
       "        0.48048802,  0.48453844,  0.66391356,  0.71707407,  0.47404925,\n",
       "        0.54416626,  0.79251361,  0.51309193,  0.05456491,  0.09610724,\n",
       "        0.04139986,  0.11427729,  0.18213663,  0.09608948,  0.0536371 ,\n",
       "        0.28035745,  0.0809695 ,  0.17769333,  0.0415183 ,  0.08092398,\n",
       "        0.14738103,  0.11305766,  0.0482062 ,  0.16001147,  0.14716819,\n",
       "        0.12343499,  0.17354322,  0.17144313,  0.2276793 ,  0.10639916,\n",
       "        0.4657297 ,  0.03294457,  0.07552537,  0.13875654,  0.11619798,\n",
       "        0.04969379,  0.20636543,  0.11137875,  0.05788141,  0.19721054,\n",
       "        0.0747339 ,  0.21245831,  0.17073218,  0.30830545,  0.11206555,\n",
       "        0.31466825,  0.19943324,  0.15326555,  0.24838527,  0.20028603,\n",
       "        0.22452732,  0.08798217,  0.39449501])"
      ]
     },
     "execution_count": 39,
     "metadata": {},
     "output_type": "execute_result"
    }
   ],
   "source": [
    "discorr = 1-mean_matrix # negatives are farther distance\n",
    "pdist = scipy.spatial.distance.squareform(discorr)\n",
    "pdist"
   ]
  },
  {
   "cell_type": "code",
   "execution_count": 40,
   "metadata": {
    "ExecuteTime": {
     "end_time": "2017-05-04T20:36:33.502749Z",
     "start_time": "2017-05-04T20:36:33.499493Z"
    },
    "collapsed": true
   },
   "outputs": [],
   "source": [
    "from scipy.cluster.hierarchy import dendrogram, linkage\n"
   ]
  },
  {
   "cell_type": "code",
   "execution_count": 41,
   "metadata": {
    "ExecuteTime": {
     "end_time": "2017-05-04T20:36:33.515398Z",
     "start_time": "2017-05-04T20:36:33.504917Z"
    }
   },
   "outputs": [
    {
     "name": "stdout",
     "output_type": "stream",
     "text": [
      "[[  1.           2.           0.02503694   2.        ]\n",
      " [  5.          12.           0.03294457   2.        ]\n",
      " [  3.           6.           0.04139986   2.        ]\n",
      " [  4.          10.           0.0482062    2.        ]\n",
      " [ 15.          16.           0.05481662   4.        ]\n",
      " [  7.           8.           0.05788141   2.        ]\n",
      " [  9.          17.           0.14897811   5.        ]\n",
      " [  0.          13.           0.17792847   3.        ]\n",
      " [ 14.          19.           0.22407332   7.        ]\n",
      " [ 18.          21.           0.25286111   9.        ]\n",
      " [ 11.          22.           0.3746127   10.        ]\n",
      " [ 20.          23.           1.4390775   13.        ]]\n"
     ]
    },
    {
     "data": {
      "text/plain": [
       "0.8775072323495372"
      ]
     },
     "execution_count": 41,
     "metadata": {},
     "output_type": "execute_result"
    }
   ],
   "source": [
    "# https://joernhees.de/blog/2015/08/26/scipy-hierarchical-clustering-and-dendrogram-tutorial/\n",
    "links = linkage(pdist, 'ward') # row i is which clusters were merged in i-th iteration, their distance, and their sample count\n",
    "print(links)\n",
    "from scipy.cluster.hierarchy import cophenet\n",
    "c, _ = cophenet(links, pdist)\n",
    "c # want close to 1: means actual pairwise distances well preserved by hierarchical clustering"
   ]
  },
  {
   "cell_type": "code",
   "execution_count": 42,
   "metadata": {
    "ExecuteTime": {
     "end_time": "2017-05-04T20:36:34.144058Z",
     "start_time": "2017-05-04T20:36:33.517707Z"
    }
   },
   "outputs": [
    {
     "name": "stderr",
     "output_type": "stream",
     "text": [
      "/home/maxim/miniconda3/envs/immuneinf/lib/python3.5/site-packages/matplotlib/font_manager.py:1297: UserWarning: findfont: Font family ['sans-serif'] not found. Falling back to DejaVu Sans\n",
      "  (prop.get_family(), self.defaultFamily[fontext]))\n"
     ]
    },
    {
     "data": {
      "image/png": "[encoded data removed]",
      "text/plain": [
       "<matplotlib.figure.Figure at 0x7ffb96fd8940>"
      ]
     },
     "metadata": {},
     "output_type": "display_data"
    }
   ],
   "source": [
    "plt.figure(figsize=(25, 10))\n",
    "plt.title('Hierarchical Clustering Dendrogram')\n",
    "plt.xlabel('sample index')\n",
    "plt.ylabel('distance')\n",
    "dendrogram(\n",
    "    links,\n",
    "    leaf_rotation=90.,  # rotates the x axis labels\n",
    "    leaf_font_size=8.,  # font size for the x axis labels\n",
    "    labels=colnames_filtered\n",
    ")\n",
    "plt.show()"
   ]
  },
  {
   "cell_type": "code",
   "execution_count": null,
   "metadata": {
    "collapsed": true
   },
   "outputs": [],
   "source": []
  },
  {
   "cell_type": "code",
   "execution_count": 43,
   "metadata": {
    "ExecuteTime": {
     "end_time": "2017-05-04T20:36:34.752179Z",
     "start_time": "2017-05-04T20:36:34.146192Z"
    }
   },
   "outputs": [
    {
     "name": "stderr",
     "output_type": "stream",
     "text": [
      "/home/maxim/miniconda3/envs/immuneinf/lib/python3.5/site-packages/matplotlib/font_manager.py:1297: UserWarning: findfont: Font family ['sans-serif'] not found. Falling back to DejaVu Sans\n",
      "  (prop.get_family(), self.defaultFamily[fontext]))\n"
     ]
    },
    {
     "data": {
      "text/plain": [
       "array([ 0.59046587,  0.5137211 ,  1.22968372,  1.29509745,  1.30836553,\n",
       "        1.28521108,  1.43025372,  1.4860705 ,  1.20724022,  1.35168601,\n",
       "        1.40396708,  1.32645695,  0.22377195,  0.85185984,  0.9453688 ,\n",
       "        0.94308166,  0.93474717,  1.11038112,  1.15946228,  0.94177977,\n",
       "        0.98410031,  1.20857036,  0.96901287,  0.90227908,  1.00367061,\n",
       "        0.98029385,  0.98441702,  1.15231381,  1.19755924,  0.9737035 ,\n",
       "        1.04323177,  1.25897864,  1.01300733,  0.33034803,  0.43842271,\n",
       "        0.2877494 ,  0.47807382,  0.60355055,  0.4383822 ,  0.32752739,\n",
       "        0.74880899,  0.40241646,  0.59614315,  0.28816072,  0.40230332,\n",
       "        0.54291994,  0.47551585,  0.31050346,  0.56570571,  0.54252777,\n",
       "        0.49686011,  0.58914042,  0.58556492,  0.67480263,  0.46130068,\n",
       "        0.96512145,  0.2566888 ,  0.38865247,  0.5267951 ,  0.48207464,\n",
       "        0.31525797,  0.64244132,  0.47197193,  0.34023935,  0.62802953,\n",
       "        0.38661065,  0.65185629,  0.58434952,  0.78524576,  0.47342486,\n",
       "        0.79330731,  0.63155877,  0.5536525 ,  0.70481951,  0.63290763,\n",
       "        0.67011539,  0.41948104,  0.8882511 ])"
      ]
     },
     "execution_count": 43,
     "metadata": {},
     "output_type": "execute_result"
    },
    {
     "data": {
      "image/png": "[encoded data removed]",
      "text/plain": [
       "<matplotlib.figure.Figure at 0x7ffb96987240>"
      ]
     },
     "metadata": {},
     "output_type": "display_data"
    }
   ],
   "source": [
    "# make into distance matrix as suggested in links above\n",
    "rescaled = np.sqrt(2*(1-mean_matrix))\n",
    "#rescaled /= 2 # my own\n",
    "g = sns.heatmap(rescaled, square=True,\n",
    "                xticklabels=colnames_filtered,\n",
    "                yticklabels=colnames_filtered\n",
    "               )\n",
    "plt.title('Omega (rescaled 3) -- not symmetric')\n",
    "#plt.savefig('plots/lm22.corr.png', dpi=300)\n",
    "\n",
    "pdist = scipy.spatial.distance.squareform(rescaled)\n",
    "pdist"
   ]
  },
  {
   "cell_type": "code",
   "execution_count": 44,
   "metadata": {
    "ExecuteTime": {
     "end_time": "2017-05-04T20:36:34.764660Z",
     "start_time": "2017-05-04T20:36:34.754534Z"
    }
   },
   "outputs": [
    {
     "name": "stdout",
     "output_type": "stream",
     "text": [
      "[[  1.           2.           0.22377195   2.        ]\n",
      " [  5.          12.           0.2566888    2.        ]\n",
      " [  3.           6.           0.2877494    2.        ]\n",
      " [  4.          10.           0.31050346   2.        ]\n",
      " [ 15.          16.           0.33137297   4.        ]\n",
      " [  7.           8.           0.34023935   2.        ]\n",
      " [  9.          17.           0.57016182   5.        ]\n",
      " [  0.          13.           0.62584469   3.        ]\n",
      " [ 14.          19.           0.74438273   7.        ]\n",
      " [ 18.          21.           0.7679217    9.        ]\n",
      " [ 11.          22.           0.89935682  10.        ]\n",
      " [ 20.          23.           2.24864844  13.        ]]\n"
     ]
    },
    {
     "data": {
      "text/plain": [
       "0.91044079342543205"
      ]
     },
     "execution_count": 44,
     "metadata": {},
     "output_type": "execute_result"
    }
   ],
   "source": [
    "# https://joernhees.de/blog/2015/08/26/scipy-hierarchical-clustering-and-dendrogram-tutorial/\n",
    "links = linkage(pdist, 'ward') # row i is which clusters were merged in i-th iteration, their distance, and their sample count\n",
    "print(links)\n",
    "from scipy.cluster.hierarchy import cophenet\n",
    "c, _ = cophenet(links, pdist)\n",
    "c # want close to 1: means actual pairwise distances well preserved by hierarchical clustering"
   ]
  },
  {
   "cell_type": "code",
   "execution_count": 45,
   "metadata": {
    "ExecuteTime": {
     "end_time": "2017-05-04T20:36:34.771687Z",
     "start_time": "2017-05-04T20:36:34.766978Z"
    },
    "collapsed": true
   },
   "outputs": [],
   "source": [
    "def savefig(fig, *args, **kwargs):\n",
    "    \"\"\"\n",
    "    Wrap figure.savefig defaulting to tight bounding box.\n",
    "    From https://github.com/mwaskom/seaborn/blob/dfdd1126626f7ed0fe3737528edecb71346e9eb0/seaborn/axisgrid.py#L1840\n",
    "    \"\"\"\n",
    "    kwargs.setdefault(\"bbox_inches\", \"tight\")\n",
    "    fig.savefig(*args, **kwargs)"
   ]
  },
  {
   "cell_type": "code",
   "execution_count": 48,
   "metadata": {
    "ExecuteTime": {
     "end_time": "2017-05-04T21:01:46.804865Z",
     "start_time": "2017-05-04T21:01:43.050413Z"
    }
   },
   "outputs": [
    {
     "name": "stderr",
     "output_type": "stream",
     "text": [
      "/home/maxim/miniconda3/envs/immuneinf/lib/python3.5/site-packages/matplotlib/font_manager.py:1297: UserWarning: findfont: Font family ['sans-serif'] not found. Falling back to DejaVu Sans\n",
      "  (prop.get_family(), self.defaultFamily[fontext]))\n"
     ]
    },
    {
     "data": {
      "image/png": "[encoded data removed]",
      "text/plain": [
       "<matplotlib.figure.Figure at 0x7ffb90764b70>"
      ]
     },
     "metadata": {},
     "output_type": "display_data"
    }
   ],
   "source": [
    "# plt.figure(figsize=(25, 10))\n",
    "# plt.xlabel('sample index')\n",
    "# plt.ylabel('distance')\n",
    "# dendrogram(\n",
    "#     links,\n",
    "#     leaf_rotation=90.,  # rotates the x axis labels\n",
    "#     leaf_font_size=8.,  # font size for the x axis labels\n",
    "#     labels=colnames_filtered\n",
    "# )\n",
    "\n",
    "f = plt.figure(figsize=(12, 10))\n",
    "dendrogram(\n",
    "    links,\n",
    "    #leaf_rotation=90.,  # rotates the x axis labels\n",
    "    leaf_font_size=8.,  # font size for the x axis labels\n",
    "    labels=colnames_filtered,\n",
    "    orientation='left'\n",
    ")\n",
    "plt.xlabel('Distance')\n",
    "plt.ylabel('Subset')\n",
    "\n",
    "\n",
    "#plt.title('Hierarchical clustering dendrogram from correlation matrix')\n",
    "plt.title(\"Model's estimated correlation matrix recovers known biological similarities between cell types\")\n",
    "savefig(f, 'plots/dendrogram.png', dpi=300)\n",
    "savefig(f, 'plots/dendrogram.pdf', dpi=300)"
   ]
  },
  {
   "cell_type": "code",
   "execution_count": 47,
   "metadata": {
    "ExecuteTime": {
     "end_time": "2017-05-04T20:36:41.409030Z",
     "start_time": "2017-05-04T20:36:38.105631Z"
    }
   },
   "outputs": [
    {
     "name": "stderr",
     "output_type": "stream",
     "text": [
      "/home/maxim/miniconda3/envs/immuneinf/lib/python3.5/site-packages/matplotlib/font_manager.py:1297: UserWarning: findfont: Font family ['sans-serif'] not found. Falling back to DejaVu Sans\n",
      "  (prop.get_family(), self.defaultFamily[fontext]))\n"
     ]
    },
    {
     "data": {
      "image/png": "[encoded data removed]",
      "text/plain": [
       "<matplotlib.figure.Figure at 0x7ffb8e86a240>"
      ]
     },
     "metadata": {},
     "output_type": "display_data"
    }
   ],
   "source": [
    "f = plt.figure(figsize=(12, 10))\n",
    "dendrogram(\n",
    "    links,\n",
    "    #leaf_rotation=90.,  # rotates the x axis labels\n",
    "    leaf_font_size=8.,  # font size for the x axis labels\n",
    "    labels=colnames_filtered,\n",
    "    orientation='left',\n",
    "    color_threshold=0.5\n",
    ")\n",
    "plt.xlabel('Distance')\n",
    "plt.ylabel('Subset')\n",
    "\n",
    "\n",
    "plt.title('Hierarchical clustering dendrogram from correlation matrix')\n",
    "savefig(f, 'plots/dendrogram2.png', dpi=300)"
   ]
  },
  {
   "cell_type": "code",
   "execution_count": null,
   "metadata": {
    "collapsed": true
   },
   "outputs": [],
   "source": []
  },
  {
   "cell_type": "code",
   "execution_count": null,
   "metadata": {
    "collapsed": true
   },
   "outputs": [],
   "source": []
  },
  {
   "cell_type": "code",
   "execution_count": null,
   "metadata": {
    "collapsed": true
   },
   "outputs": [],
   "source": []
  }
 ],
 "metadata": {
  "kernelspec": {
   "display_name": "immune3",
   "language": "python",
   "name": "immune3"
  },
  "language_info": {
   "codemirror_mode": {
    "name": "ipython",
    "version": 3
   },
   "file_extension": ".py",
   "mimetype": "text/x-python",
   "name": "python",
   "nbconvert_exporter": "python",
   "pygments_lexer": "ipython3",
   "version": "3.5.3"
  },
  "toc": {
   "colors": {
    "hover_highlight": "#DAA520",
    "running_highlight": "#FF0000",
    "selected_highlight": "#FFD700"
   },
   "moveMenuLeft": true,
   "nav_menu": {
    "height": "12px",
    "width": "252px"
   },
   "navigate_menu": true,
   "number_sections": true,
   "sideBar": true,
   "threshold": 4,
   "toc_cell": false,
   "toc_section_display": "block",
   "toc_window_display": false,
   "widenNotebook": false
  }
 },
 "nbformat": 4,
 "nbformat_minor": 2
}
