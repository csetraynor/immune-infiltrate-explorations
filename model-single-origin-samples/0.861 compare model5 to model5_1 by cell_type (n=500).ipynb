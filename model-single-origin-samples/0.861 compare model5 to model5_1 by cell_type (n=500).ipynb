{
 "cells": [
  {
   "cell_type": "code",
   "execution_count": 9,
   "metadata": {
    "collapsed": false
   },
   "outputs": [],
   "source": [
    "import data\n",
    "import models\n",
    "import cache\n",
    "import seaborn as sns\n",
    "import numpy as np\n",
    "import pandas as pd\n",
    "import stanity\n",
    "from stancache import stancache"
   ]
  },
  {
   "cell_type": "code",
   "execution_count": 10,
   "metadata": {
    "collapsed": true
   },
   "outputs": [],
   "source": [
    "sns.set(context='talk')"
   ]
  },
  {
   "cell_type": "code",
   "execution_count": 11,
   "metadata": {
    "collapsed": true
   },
   "outputs": [],
   "source": [
    "by = 'cell_type'\n",
    "sample_n = 500"
   ]
  },
  {
   "cell_type": "markdown",
   "metadata": {},
   "source": [
    "## get data, as we did in earlier examples"
   ]
  },
  {
   "cell_type": "markdown",
   "metadata": {},
   "source": [
    "This will help in case we want to compare estimates for particular genes or samples"
   ]
  },
  {
   "cell_type": "code",
   "execution_count": 12,
   "metadata": {
    "collapsed": false
   },
   "outputs": [
    {
     "name": "stderr",
     "output_type": "stream",
     "text": [
      "INFO:stancache.stancache:prep_sample_df: cache_filename set to prep_sample_df.cached.sample_n_500.pkl\n",
      "INFO:stancache.stancache:prep_sample_df: Loading result from cache\n"
     ]
    }
   ],
   "source": [
    "sample_df = cache.cached(models.prep_sample_df, sample_n=sample_n)"
   ]
  },
  {
   "cell_type": "code",
   "execution_count": 13,
   "metadata": {
    "collapsed": false
   },
   "outputs": [],
   "source": [
    "stan_data = models.prep_stan_data(sample_df, by=by)"
   ]
  },
  {
   "cell_type": "markdown",
   "metadata": {},
   "source": [
    "## get models from cache"
   ]
  },
  {
   "cell_type": "code",
   "execution_count": 6,
   "metadata": {
    "collapsed": false
   },
   "outputs": [
    {
     "name": "stderr",
     "output_type": "stream",
     "text": [
      "INFO:stancache.stancache:Step 1: Get compiled model code, possibly from cache\n",
      "INFO:stancache.stancache:StanModel: cache_filename set to model5.cython_0_25_1.model_code_12673779526111968781.pystan_2_12_0_0.stanmodel.pkl\n",
      "INFO:stancache.stancache:StanModel: Loading result from cache\n",
      "INFO:stancache.stancache:Step 2: Get posterior draws from model, possibly from cache\n",
      "INFO:stancache.stancache:sampling: cache_filename set to model5.cython_0_25_1.model_code_12673779526111968781.pystan_2_12_0_0.stanfit.chains_4.data_45645478644.iter_2000.seed_1245502385.pkl\n",
      "INFO:stancache.stancache:sampling: Loading result from cache\n"
     ]
    }
   ],
   "source": [
    "model5 = models.get_model_file(model_name='model5')\n",
    "fit5 = models.cached_stan_fit(file=model5, data=stan_data,\n",
    "                              model_name='model5', cache_only=True)"
   ]
  },
  {
   "cell_type": "code",
   "execution_count": 7,
   "metadata": {
    "collapsed": false
   },
   "outputs": [
    {
     "data": {
      "text/plain": [
       "'model5.cython_0_25_1.model_code_12673779526111968781.pystan_2_12_0_0.stanfit.data_45645478644'"
      ]
     },
     "execution_count": 7,
     "metadata": {},
     "output_type": "execute_result"
    }
   ],
   "source": [
    "fit5_prefix = stancache.cached_stan_file(file=model5, data=stan_data, model_name='model5', prefix_only=True)\n",
    "fit5_prefix"
   ]
  },
  {
   "cell_type": "code",
   "execution_count": 14,
   "metadata": {
    "collapsed": false
   },
   "outputs": [
    {
     "name": "stderr",
     "output_type": "stream",
     "text": [
      "INFO:stancache.stancache:Step 1: Get compiled model code, possibly from cache\n",
      "INFO:stancache.stancache:StanModel: cache_filename set to model5_1.cython_0_25_1.model_code_12115479030808689250.pystan_2_12_0_0.stanmodel.pkl\n",
      "INFO:stancache.stancache:StanModel: Loading result from cache\n",
      "INFO:stancache.stancache:Step 2: Get posterior draws from model, possibly from cache\n",
      "INFO:stancache.stancache:sampling: cache_filename set to model5_1.cython_0_25_1.model_code_12115479030808689250.pystan_2_12_0_0.stanfit.chains_4.data_45645478644.iter_2000.seed_1245502385.pkl\n",
      "INFO:stancache.stancache:sampling: Loading result from cache\n"
     ]
    }
   ],
   "source": [
    "model5_1 = models.get_model_file(model_name='model5.1')\n",
    "fit5_1 = models.cached_stan_fit(file=model5_1, data=stan_data, model_name='model5.1', cache_only=True)"
   ]
  },
  {
   "cell_type": "code",
   "execution_count": 19,
   "metadata": {
    "collapsed": false
   },
   "outputs": [
    {
     "data": {
      "text/plain": [
       "'model5_1.cython_0_25_1.model_code_12115479030808689250.pystan_2_12_0_0.stanfit.data_45645478644'"
      ]
     },
     "execution_count": 19,
     "metadata": {},
     "output_type": "execute_result"
    }
   ],
   "source": [
    "fit5_1_prefix = stancache.cached_stan_file(file=model5_1, data=stan_data, model_name='model5.1', prefix_only=True)\n",
    "fit5_1_prefix"
   ]
  },
  {
   "cell_type": "markdown",
   "metadata": {
    "collapsed": true
   },
   "source": [
    "## compute & compare psis-loo for each model"
   ]
  },
  {
   "cell_type": "code",
   "execution_count": 8,
   "metadata": {
    "collapsed": false
   },
   "outputs": [
    {
     "name": "stderr",
     "output_type": "stream",
     "text": [
      "INFO:stancache.stancache:psisloo: cache_filename set to model5.cython_0_25_1.model_code_12673779526111968781.pystan_2_12_0_0.stanfit.data_45645478644.loo.pkl\n",
      "INFO:stancache.stancache:psisloo: Loading result from cache\n"
     ]
    },
    {
     "data": {
      "text/plain": [
       "greater than 0.5    0.006127\n",
       "greater than 1      0.000825\n",
       "dtype: float64"
      ]
     },
     "execution_count": 8,
     "metadata": {},
     "output_type": "execute_result"
    }
   ],
   "source": [
    "loo5 = cache.cached(stanity.psisloo,\n",
    "                    log_likelihood=fit5.extract('log_lik')['log_lik'],\n",
    "                    cache_filename='{}.loo.pkl'.format(fit5_prefix))\n",
    "loo5.print_summary()"
   ]
  },
  {
   "cell_type": "code",
   "execution_count": 20,
   "metadata": {
    "collapsed": false
   },
   "outputs": [
    {
     "name": "stderr",
     "output_type": "stream",
     "text": [
      "INFO:stancache.stancache:psisloo: cache_filename set to model5_1.cython_0_25_1.model_code_12115479030808689250.pystan_2_12_0_0.stanfit.data_45645478644.loo.pkl\n",
      "INFO:stancache.stancache:psisloo: Starting execution\n",
      "/home/jacquelineburos/miniconda3/envs/immuneinf/lib/python3.5/site-packages/stanity/psis.py:228: FutureWarning: elementwise comparison failed; returning scalar instead, but in the future will perform elementwise comparison\n",
      "  elif sort == 'in-place':\n",
      "/home/jacquelineburos/miniconda3/envs/immuneinf/lib/python3.5/site-packages/stanity/psis.py:246: VisibleDeprecationWarning: using a non-integer number instead of an integer will result in an error in the future\n",
      "  bs /= 3 * x[sort[np.floor(n/4 + 0.5) - 1]]\n",
      "/home/jacquelineburos/miniconda3/envs/immuneinf/lib/python3.5/site-packages/stanity/psis.py:262: RuntimeWarning: overflow encountered in exp\n",
      "  np.exp(temp, out=temp)\n",
      "INFO:stancache.stancache:psisloo: Execution completed (0:02:09.695405 elapsed)\n",
      "INFO:stancache.stancache:psisloo: Saving results to cache\n"
     ]
    },
    {
     "data": {
      "text/plain": [
       "greater than 0.5    0.006667\n",
       "greater than 1      0.000762\n",
       "dtype: float64"
      ]
     },
     "execution_count": 20,
     "metadata": {},
     "output_type": "execute_result"
    }
   ],
   "source": [
    "loo5_1 = cache.cached(stanity.psisloo,\n",
    "                      log_likelihood=fit5_1.extract('log_lik')['log_lik'],\n",
    "                      cache_filename='{}.loo.pkl'.format(fit5_1_prefix))\n",
    "loo5_1.print_summary()"
   ]
  },
  {
   "cell_type": "code",
   "execution_count": 21,
   "metadata": {
    "collapsed": false
   },
   "outputs": [
    {
     "data": {
      "text/plain": [
       "{'diff': -52.312429240899519, 'se_diff': 7.0112463144132633}"
      ]
     },
     "execution_count": 21,
     "metadata": {},
     "output_type": "execute_result"
    }
   ],
   "source": [
    "stanity.loo_compare(loo5, loo5_1)"
   ]
  },
  {
   "cell_type": "markdown",
   "metadata": {},
   "source": [
    "This confirms that the model with fixed `theta_mu` is worse than the one without a fixed `theta_mu`.\n"
   ]
  }
 ],
 "metadata": {
  "kernelspec": {
   "display_name": "immune3",
   "language": "python",
   "name": "immune3"
  },
  "language_info": {
   "codemirror_mode": {
    "name": "ipython",
    "version": 3
   },
   "file_extension": ".py",
   "mimetype": "text/x-python",
   "name": "python",
   "nbconvert_exporter": "python",
   "pygments_lexer": "ipython3",
   "version": "3.5.2"
  },
  "nav_menu": {},
  "toc": {
   "navigate_menu": true,
   "number_sections": true,
   "sideBar": true,
   "threshold": 6,
   "toc_cell": false,
   "toc_section_display": "block",
   "toc_window_display": false
  }
 },
 "nbformat": 4,
 "nbformat_minor": 0
}
