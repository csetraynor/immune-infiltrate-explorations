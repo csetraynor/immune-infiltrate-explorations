{
 "cells": [
  {
   "cell_type": "code",
   "execution_count": 3,
   "metadata": {
    "ExecuteTime": {
     "end_time": "2017-03-05T01:39:04.115130",
     "start_time": "2017-03-05T01:39:00.262640"
    },
    "collapsed": false
   },
   "outputs": [
    {
     "name": "stderr",
     "output_type": "stream",
     "text": [
      "/home/jacquelineburos/miniconda3/envs/immuneinf/lib/python3.6/site-packages/Cython/Distutils/old_build_ext.py:30: UserWarning: Cython.Distutils.old_build_ext does not properly handle dependencies and is deprecated.\n",
      "  \"Cython.Distutils.old_build_ext does not properly handle dependencies \"\n",
      "INFO:stancache.seed:Setting seed to 1245502385\n",
      "INFO:root:Setting CACHE_DIR = /mnt/modelcache/immune-infiltrate-explorations\n",
      "INFO:stancache.seed:Setting seed to 1245502385\n"
     ]
    }
   ],
   "source": [
    "import data\n",
    "import models\n",
    "import cache\n",
    "import seaborn as sns\n",
    "import numpy as np\n",
    "import pandas as pd\n",
    "import patsy\n",
    "from matplotlib import pyplot as plt"
   ]
  },
  {
   "cell_type": "code",
   "execution_count": 4,
   "metadata": {
    "ExecuteTime": {
     "end_time": "2017-03-05T01:39:07.786160",
     "start_time": "2017-03-05T01:39:07.782248"
    },
    "collapsed": false
   },
   "outputs": [],
   "source": [
    "sns.set(context='talk')"
   ]
  },
  {
   "cell_type": "code",
   "execution_count": 5,
   "metadata": {
    "ExecuteTime": {
     "end_time": "2017-03-05T01:39:09.575656",
     "start_time": "2017-03-05T01:39:09.572104"
    },
    "collapsed": true
   },
   "outputs": [],
   "source": [
    "model_name = 'model5'\n",
    "by = 'cell_type'\n",
    "sample_n = 500"
   ]
  },
  {
   "cell_type": "markdown",
   "metadata": {},
   "source": [
    "# Import upenn-tex data (local cache)"
   ]
  },
  {
   "cell_type": "code",
   "execution_count": 7,
   "metadata": {
    "ExecuteTime": {
     "end_time": "2017-03-05T01:42:08.799975",
     "start_time": "2017-03-05T01:42:08.675452"
    },
    "collapsed": false
   },
   "outputs": [],
   "source": [
    "data_path = \"../upenn-tex/data/inferelator_input/KP_RNAseq_counts.txt\"\n",
    "all_experiment_counts = pd.read_csv(data_path, sep=\"\\t\")"
   ]
  },
  {
   "cell_type": "code",
   "execution_count": 8,
   "metadata": {
    "ExecuteTime": {
     "end_time": "2017-03-05T01:42:09.553289",
     "start_time": "2017-03-05T01:42:09.544367"
    },
    "collapsed": false,
    "scrolled": true
   },
   "outputs": [],
   "source": [
    "all_experiment_counts.set_index(keys='tracking_id', inplace=True)"
   ]
  },
  {
   "cell_type": "markdown",
   "metadata": {},
   "source": [
    "### Munge into `stan-data` format"
   ]
  },
  {
   "cell_type": "code",
   "execution_count": 71,
   "metadata": {
    "ExecuteTime": {
     "end_time": "2017-03-05T02:12:01.686177",
     "start_time": "2017-03-05T02:12:01.299697"
    },
    "collapsed": false
   },
   "outputs": [],
   "source": [
    "upenn_df = all_experiment_counts.unstack().reset_index(name='est_counts')\n",
    "\n",
    "upenn_df.columns = ['experiment_name', 'gene', 'est_counts']\n",
    "\n",
    "upenn_df = upenn_df.sort_values(by='gene', ascending=False).reset_index()\n",
    "\n",
    "experiment_set = set(upenn_df['experiment_name'])\n",
    "\n",
    "experiment_ids = {x:i+1 for i,x in enumerate(experiment_set)}\n",
    "\n",
    "upenn_df['experiment_id'] = upenn_df['experiment_name'].apply(lambda x: experiment_ids[x])\n",
    "upenn_df['new_sample_id'] = upenn_df['experiment_id']\n",
    "\n",
    "gene_set = set(upenn_df['gene'])\n",
    "\n",
    "gene_ids = {x:i+1 for i,x in enumerate(gene_set)} # gene is 1-indexed in the stan model\n",
    "\n",
    "upenn_df['new_gene_id'] = upenn_df['gene'].apply(lambda x: gene_ids[x])"
   ]
  },
  {
   "cell_type": "code",
   "execution_count": 72,
   "metadata": {
    "ExecuteTime": {
     "end_time": "2017-03-05T02:12:01.739859",
     "start_time": "2017-03-05T02:12:01.704995"
    },
    "collapsed": false
   },
   "outputs": [],
   "source": [
    "duplicated_by_experiment = upenn_df[upenn_df.duplicated(subset=['experiment_name','gene'])].loc[:,['experiment_name','gene']].copy()"
   ]
  },
  {
   "cell_type": "markdown",
   "metadata": {},
   "source": [
    "All duplicated records are gene '2-Mar'; likely a typo (excel date conversion?)"
   ]
  },
  {
   "cell_type": "code",
   "execution_count": 73,
   "metadata": {
    "ExecuteTime": {
     "end_time": "2017-03-05T02:12:02.873472",
     "start_time": "2017-03-05T02:12:02.810671"
    },
    "collapsed": false
   },
   "outputs": [
    {
     "data": {
      "text/html": [
       "<div>\n",
       "<table border=\"1\" class=\"dataframe\">\n",
       "  <thead>\n",
       "    <tr style=\"text-align: right;\">\n",
       "      <th></th>\n",
       "      <th>index</th>\n",
       "      <th>experiment_name</th>\n",
       "      <th>gene</th>\n",
       "      <th>est_counts</th>\n",
       "      <th>experiment_id</th>\n",
       "      <th>new_sample_id</th>\n",
       "      <th>new_gene_id</th>\n",
       "    </tr>\n",
       "  </thead>\n",
       "  <tbody>\n",
       "    <tr>\n",
       "      <th>2</th>\n",
       "      <td>1299</td>\n",
       "      <td>KPRNA1</td>\n",
       "      <td>2-Mar</td>\n",
       "      <td>84.5480</td>\n",
       "      <td>8</td>\n",
       "      <td>8</td>\n",
       "      <td>4662</td>\n",
       "    </tr>\n",
       "    <tr>\n",
       "      <th>3</th>\n",
       "      <td>857</td>\n",
       "      <td>KPRNA1</td>\n",
       "      <td>2-Mar</td>\n",
       "      <td>119.8940</td>\n",
       "      <td>8</td>\n",
       "      <td>8</td>\n",
       "      <td>4662</td>\n",
       "    </tr>\n",
       "    <tr>\n",
       "      <th>6</th>\n",
       "      <td>91465</td>\n",
       "      <td>KPRNA10</td>\n",
       "      <td>2-Mar</td>\n",
       "      <td>95.0319</td>\n",
       "      <td>7</td>\n",
       "      <td>7</td>\n",
       "      <td>4662</td>\n",
       "    </tr>\n",
       "    <tr>\n",
       "      <th>7</th>\n",
       "      <td>91907</td>\n",
       "      <td>KPRNA10</td>\n",
       "      <td>2-Mar</td>\n",
       "      <td>54.0591</td>\n",
       "      <td>7</td>\n",
       "      <td>7</td>\n",
       "      <td>4662</td>\n",
       "    </tr>\n",
       "    <tr>\n",
       "      <th>12</th>\n",
       "      <td>103233</td>\n",
       "      <td>KPRNA11</td>\n",
       "      <td>2-Mar</td>\n",
       "      <td>58.5224</td>\n",
       "      <td>3</td>\n",
       "      <td>3</td>\n",
       "      <td>4662</td>\n",
       "    </tr>\n",
       "  </tbody>\n",
       "</table>\n",
       "</div>"
      ],
      "text/plain": [
       "     index experiment_name   gene  est_counts  experiment_id  new_sample_id  \\\n",
       "2     1299          KPRNA1  2-Mar     84.5480              8              8   \n",
       "3      857          KPRNA1  2-Mar    119.8940              8              8   \n",
       "6    91465         KPRNA10  2-Mar     95.0319              7              7   \n",
       "7    91907         KPRNA10  2-Mar     54.0591              7              7   \n",
       "12  103233         KPRNA11  2-Mar     58.5224              3              3   \n",
       "\n",
       "    new_gene_id  \n",
       "2          4662  \n",
       "3          4662  \n",
       "6          4662  \n",
       "7          4662  \n",
       "12         4662  "
      ]
     },
     "execution_count": 73,
     "metadata": {},
     "output_type": "execute_result"
    }
   ],
   "source": [
    "duplicated_records = pd.merge(upenn_df,\n",
    "         duplicated_by_experiment,\n",
    "         on=['experiment_name','gene'],\n",
    "        )\n",
    "duplicated_records.sort_values(['experiment_name','gene']).head()"
   ]
  },
  {
   "cell_type": "code",
   "execution_count": 74,
   "metadata": {
    "ExecuteTime": {
     "end_time": "2017-03-05T02:12:03.425936",
     "start_time": "2017-03-05T02:12:03.420628"
    },
    "collapsed": false
   },
   "outputs": [
    {
     "data": {
      "text/plain": [
       "array(['2-Mar'], dtype=object)"
      ]
     },
     "execution_count": 74,
     "metadata": {},
     "output_type": "execute_result"
    }
   ],
   "source": [
    "duplicated_records['gene'].unique()"
   ]
  },
  {
   "cell_type": "markdown",
   "metadata": {},
   "source": [
    "Other than this gene, we have one count per experiment. Let's assume for now that each experiment is one sample, and enumerate our experiment IDs by sample."
   ]
  },
  {
   "cell_type": "code",
   "execution_count": 79,
   "metadata": {
    "ExecuteTime": {
     "end_time": "2017-03-05T02:12:49.099111",
     "start_time": "2017-03-05T02:12:48.997397"
    },
    "collapsed": true
   },
   "outputs": [],
   "source": [
    "upenn_df2 = upenn_df.loc[upenn_df['gene'] != '2-Mar',:].copy()\n",
    "\n",
    "# renumber gene ids\n",
    "gene_set2 = set(upenn_df2['gene'])\n",
    "\n",
    "gene_ids2 = {x:i+1 for i,x in enumerate(gene_set2)} # gene is 1-indexed in the stan model\n",
    "\n",
    "upenn_df2['new_gene_id'] = upenn_df2['gene'].apply(lambda x: gene_ids2[x])\n"
   ]
  },
  {
   "cell_type": "markdown",
   "metadata": {},
   "source": [
    "Now, we should have no remaining duplicates by experiment*gene"
   ]
  },
  {
   "cell_type": "code",
   "execution_count": 82,
   "metadata": {
    "ExecuteTime": {
     "end_time": "2017-03-05T02:12:55.721272",
     "start_time": "2017-03-05T02:12:55.684808"
    },
    "collapsed": false
   },
   "outputs": [],
   "source": [
    "duplicated_by_experiment = upenn_df2[upenn_df2.duplicated(subset=['experiment_name','gene'])].loc[:,['experiment_name','gene']].copy()\n",
    "assert(len(duplicated_by_experiment)==0)"
   ]
  },
  {
   "cell_type": "markdown",
   "metadata": {},
   "source": [
    "### Munge the data manifest for merging"
   ]
  },
  {
   "cell_type": "code",
   "execution_count": 83,
   "metadata": {
    "ExecuteTime": {
     "end_time": "2017-03-05T02:13:01.810274",
     "start_time": "2017-03-05T02:13:01.798015"
    },
    "collapsed": false
   },
   "outputs": [],
   "source": [
    "data_manifest = pd.read_csv(\"../upenn-tex/data/data_manifest.csv\")\n",
    "\n",
    "def tmp_fn(filename):\n",
    "    name = filename.split('.')[0]\n",
    "    return name.replace('_', '') \n",
    "\n",
    "rna_data_manifest = data_manifest[data_manifest['Type'] == 'RNA-Seq'].copy()\n",
    "\n",
    "rna_data_manifest['experiment_name'] = rna_data_manifest['File'].apply(lambda x: tmp_fn(x))"
   ]
  },
  {
   "cell_type": "code",
   "execution_count": 84,
   "metadata": {
    "ExecuteTime": {
     "end_time": "2017-03-05T02:13:07.840662",
     "start_time": "2017-03-05T02:13:07.828933"
    },
    "collapsed": false
   },
   "outputs": [],
   "source": [
    "# map cell_type to indices in rna_data_manifest\n",
    "# n.b. \"d160\" and \"d235\" are day 160, 235 after infection; others are day 30\n",
    "cell_type_index_dict = {'CD8_naive': [0, 1], \n",
    "'CD8_exh_untreated': list(range(2,5)) + [9,10], \n",
    "'CD8_exh_PD-L1': list(range(5, 9)) + [11,12]\n",
    "}\n",
    "\n",
    "def map_cell_type(index, cell_type_index_dict):\n",
    "    for k, v in cell_type_index_dict.items():\n",
    "        if index in v:\n",
    "            return k\n",
    "\n",
    "rna_data_manifest['cell_type'] = rna_data_manifest.index.map(lambda x: map_cell_type(x, cell_type_index_dict))\n",
    "\n",
    "experiment_cell_map = rna_data_manifest[['experiment_name', 'cell_type']]"
   ]
  },
  {
   "cell_type": "code",
   "execution_count": 85,
   "metadata": {
    "ExecuteTime": {
     "end_time": "2017-03-05T02:13:12.788007",
     "start_time": "2017-03-05T02:13:12.740032"
    },
    "collapsed": false,
    "scrolled": true
   },
   "outputs": [],
   "source": [
    "# Do the merge\n",
    "\n",
    "full_df_ = pd.merge(upenn_df2, experiment_cell_map, on='experiment_name', how='outer')\n",
    "\n",
    "full_df = full_df_[['new_gene_id', 'est_counts', 'new_sample_id', 'cell_type']]"
   ]
  },
  {
   "cell_type": "code",
   "execution_count": 86,
   "metadata": {
    "ExecuteTime": {
     "end_time": "2017-03-05T02:13:15.897109",
     "start_time": "2017-03-05T02:13:15.885471"
    },
    "collapsed": false
   },
   "outputs": [
    {
     "data": {
      "text/html": [
       "<div>\n",
       "<table border=\"1\" class=\"dataframe\">\n",
       "  <thead>\n",
       "    <tr style=\"text-align: right;\">\n",
       "      <th></th>\n",
       "      <th>new_gene_id</th>\n",
       "      <th>est_counts</th>\n",
       "      <th>new_sample_id</th>\n",
       "      <th>cell_type</th>\n",
       "    </tr>\n",
       "  </thead>\n",
       "  <tbody>\n",
       "    <tr>\n",
       "      <th>0</th>\n",
       "      <td>2172</td>\n",
       "      <td>47.42260</td>\n",
       "      <td>13</td>\n",
       "      <td>CD8_naive</td>\n",
       "    </tr>\n",
       "    <tr>\n",
       "      <th>1</th>\n",
       "      <td>6397</td>\n",
       "      <td>10.74830</td>\n",
       "      <td>13</td>\n",
       "      <td>CD8_naive</td>\n",
       "    </tr>\n",
       "    <tr>\n",
       "      <th>2</th>\n",
       "      <td>9083</td>\n",
       "      <td>9.02731</td>\n",
       "      <td>13</td>\n",
       "      <td>CD8_naive</td>\n",
       "    </tr>\n",
       "    <tr>\n",
       "      <th>3</th>\n",
       "      <td>318</td>\n",
       "      <td>202.86900</td>\n",
       "      <td>13</td>\n",
       "      <td>CD8_naive</td>\n",
       "    </tr>\n",
       "    <tr>\n",
       "      <th>4</th>\n",
       "      <td>1767</td>\n",
       "      <td>5.92918</td>\n",
       "      <td>13</td>\n",
       "      <td>CD8_naive</td>\n",
       "    </tr>\n",
       "  </tbody>\n",
       "</table>\n",
       "</div>"
      ],
      "text/plain": [
       "   new_gene_id  est_counts  new_sample_id  cell_type\n",
       "0         2172    47.42260             13  CD8_naive\n",
       "1         6397    10.74830             13  CD8_naive\n",
       "2         9083     9.02731             13  CD8_naive\n",
       "3          318   202.86900             13  CD8_naive\n",
       "4         1767     5.92918             13  CD8_naive"
      ]
     },
     "execution_count": 86,
     "metadata": {},
     "output_type": "execute_result"
    }
   ],
   "source": [
    "full_df.head()"
   ]
  },
  {
   "cell_type": "markdown",
   "metadata": {},
   "source": [
    "# Turn into `stan_data`"
   ]
  },
  {
   "cell_type": "code",
   "execution_count": 87,
   "metadata": {
    "ExecuteTime": {
     "end_time": "2017-03-05T02:13:20.020186",
     "start_time": "2017-03-05T02:13:19.365936"
    },
    "collapsed": false,
    "scrolled": true
   },
   "outputs": [],
   "source": [
    "stan_data = models.prep_stan_data(full_df, by=by)"
   ]
  },
  {
   "cell_type": "code",
   "execution_count": 88,
   "metadata": {
    "ExecuteTime": {
     "end_time": "2017-03-05T02:13:21.279261",
     "start_time": "2017-03-05T02:13:21.275709"
    },
    "collapsed": true
   },
   "outputs": [],
   "source": [
    "from copy import deepcopy"
   ]
  },
  {
   "cell_type": "code",
   "execution_count": 89,
   "metadata": {
    "ExecuteTime": {
     "end_time": "2017-03-05T02:13:21.583145",
     "start_time": "2017-03-05T02:13:21.576686"
    },
    "collapsed": true
   },
   "outputs": [],
   "source": [
    "cmdstan_data = deepcopy(stan_data)"
   ]
  },
  {
   "cell_type": "code",
   "execution_count": 90,
   "metadata": {
    "ExecuteTime": {
     "end_time": "2017-03-05T02:13:21.929194",
     "start_time": "2017-03-05T02:13:21.909645"
    },
    "collapsed": false
   },
   "outputs": [
    {
     "data": {
      "text/plain": [
       "{'C': 3,\n",
       " 'G': 11324,\n",
       " 'M': 0,\n",
       " 'N': 147212,\n",
       " 'S': 13,\n",
       " 'cell_features': Empty DataFrame\n",
       " Columns: []\n",
       " Index: [CD8_naive, CD8_exh_PD-L1, CD8_exh_untreated],\n",
       " 'gene': array([2172, 6397, 9083, ..., 1110, 4885, 9959]),\n",
       " 'sample': array([13, 13, 13, ..., 10, 10, 10]),\n",
       " 'x':         cell_type[CD8_exh_PD-L1]  cell_type[CD8_exh_untreated]  \\\n",
       " 0                            0.0                           0.0   \n",
       " 1                            0.0                           0.0   \n",
       " 2                            0.0                           0.0   \n",
       " 3                            0.0                           0.0   \n",
       " 4                            0.0                           0.0   \n",
       " 5                            0.0                           0.0   \n",
       " 6                            0.0                           0.0   \n",
       " 7                            0.0                           0.0   \n",
       " 8                            0.0                           0.0   \n",
       " 9                            0.0                           0.0   \n",
       " 10                           0.0                           0.0   \n",
       " 11                           0.0                           0.0   \n",
       " 12                           0.0                           0.0   \n",
       " 13                           0.0                           0.0   \n",
       " 14                           0.0                           0.0   \n",
       " 15                           0.0                           0.0   \n",
       " 16                           0.0                           0.0   \n",
       " 17                           0.0                           0.0   \n",
       " 18                           0.0                           0.0   \n",
       " 19                           0.0                           0.0   \n",
       " 20                           0.0                           0.0   \n",
       " 21                           0.0                           0.0   \n",
       " 22                           0.0                           0.0   \n",
       " 23                           0.0                           0.0   \n",
       " 24                           0.0                           0.0   \n",
       " 25                           0.0                           0.0   \n",
       " 26                           0.0                           0.0   \n",
       " 27                           0.0                           0.0   \n",
       " 28                           0.0                           0.0   \n",
       " 29                           0.0                           0.0   \n",
       " ...                          ...                           ...   \n",
       " 147182                       0.0                           1.0   \n",
       " 147183                       0.0                           1.0   \n",
       " 147184                       0.0                           1.0   \n",
       " 147185                       0.0                           1.0   \n",
       " 147186                       0.0                           1.0   \n",
       " 147187                       0.0                           1.0   \n",
       " 147188                       0.0                           1.0   \n",
       " 147189                       0.0                           1.0   \n",
       " 147190                       0.0                           1.0   \n",
       " 147191                       0.0                           1.0   \n",
       " 147192                       0.0                           1.0   \n",
       " 147193                       0.0                           1.0   \n",
       " 147194                       0.0                           1.0   \n",
       " 147195                       0.0                           1.0   \n",
       " 147196                       0.0                           1.0   \n",
       " 147197                       0.0                           1.0   \n",
       " 147198                       0.0                           1.0   \n",
       " 147199                       0.0                           1.0   \n",
       " 147200                       0.0                           1.0   \n",
       " 147201                       0.0                           1.0   \n",
       " 147202                       0.0                           1.0   \n",
       " 147203                       0.0                           1.0   \n",
       " 147204                       0.0                           1.0   \n",
       " 147205                       0.0                           1.0   \n",
       " 147206                       0.0                           1.0   \n",
       " 147207                       0.0                           1.0   \n",
       " 147208                       0.0                           1.0   \n",
       " 147209                       0.0                           1.0   \n",
       " 147210                       0.0                           1.0   \n",
       " 147211                       0.0                           1.0   \n",
       " \n",
       "         cell_type[CD8_naive]  \n",
       " 0                        1.0  \n",
       " 1                        1.0  \n",
       " 2                        1.0  \n",
       " 3                        1.0  \n",
       " 4                        1.0  \n",
       " 5                        1.0  \n",
       " 6                        1.0  \n",
       " 7                        1.0  \n",
       " 8                        1.0  \n",
       " 9                        1.0  \n",
       " 10                       1.0  \n",
       " 11                       1.0  \n",
       " 12                       1.0  \n",
       " 13                       1.0  \n",
       " 14                       1.0  \n",
       " 15                       1.0  \n",
       " 16                       1.0  \n",
       " 17                       1.0  \n",
       " 18                       1.0  \n",
       " 19                       1.0  \n",
       " 20                       1.0  \n",
       " 21                       1.0  \n",
       " 22                       1.0  \n",
       " 23                       1.0  \n",
       " 24                       1.0  \n",
       " 25                       1.0  \n",
       " 26                       1.0  \n",
       " 27                       1.0  \n",
       " 28                       1.0  \n",
       " 29                       1.0  \n",
       " ...                      ...  \n",
       " 147182                   0.0  \n",
       " 147183                   0.0  \n",
       " 147184                   0.0  \n",
       " 147185                   0.0  \n",
       " 147186                   0.0  \n",
       " 147187                   0.0  \n",
       " 147188                   0.0  \n",
       " 147189                   0.0  \n",
       " 147190                   0.0  \n",
       " 147191                   0.0  \n",
       " 147192                   0.0  \n",
       " 147193                   0.0  \n",
       " 147194                   0.0  \n",
       " 147195                   0.0  \n",
       " 147196                   0.0  \n",
       " 147197                   0.0  \n",
       " 147198                   0.0  \n",
       " 147199                   0.0  \n",
       " 147200                   0.0  \n",
       " 147201                   0.0  \n",
       " 147202                   0.0  \n",
       " 147203                   0.0  \n",
       " 147204                   0.0  \n",
       " 147205                   0.0  \n",
       " 147206                   0.0  \n",
       " 147207                   0.0  \n",
       " 147208                   0.0  \n",
       " 147209                   0.0  \n",
       " 147210                   0.0  \n",
       " 147211                   0.0  \n",
       " \n",
       " [147212 rows x 3 columns],\n",
       " 'y': array([47, 10,  9, ...,  9, 14, 70])}"
      ]
     },
     "execution_count": 90,
     "metadata": {},
     "output_type": "execute_result"
    }
   ],
   "source": [
    "stan_data"
   ]
  },
  {
   "cell_type": "code",
   "execution_count": 91,
   "metadata": {
    "ExecuteTime": {
     "end_time": "2017-03-05T02:13:22.774271",
     "start_time": "2017-03-05T02:13:22.764523"
    },
    "collapsed": false
   },
   "outputs": [
    {
     "data": {
      "text/plain": [
       "{'C': 3,\n",
       " 'G': 11324,\n",
       " 'M': 0,\n",
       " 'N': 147212,\n",
       " 'S': 13,\n",
       " 'cell_features': array([], shape=(3, 0), dtype=float64),\n",
       " 'gene': array([2172, 6397, 9083, ..., 1110, 4885, 9959]),\n",
       " 'sample': array([13, 13, 13, ..., 10, 10, 10]),\n",
       " 'x': array([[ 0.,  0.,  1.],\n",
       "        [ 0.,  0.,  1.],\n",
       "        [ 0.,  0.,  1.],\n",
       "        ..., \n",
       "        [ 0.,  1.,  0.],\n",
       "        [ 0.,  1.,  0.],\n",
       "        [ 0.,  1.,  0.]]),\n",
       " 'y': array([47, 10,  9, ...,  9, 14, 70])}"
      ]
     },
     "execution_count": 91,
     "metadata": {},
     "output_type": "execute_result"
    }
   ],
   "source": [
    "for k, v in cmdstan_data.items():\n",
    "    if isinstance(v, pd.DataFrame):\n",
    "        cmdstan_data[k] = v.values\n",
    "\n",
    "cmdstan_data"
   ]
  },
  {
   "cell_type": "code",
   "execution_count": 92,
   "metadata": {
    "ExecuteTime": {
     "end_time": "2017-03-05T02:13:25.344398",
     "start_time": "2017-03-05T02:13:25.123104"
    },
    "collapsed": false
   },
   "outputs": [
    {
     "data": {
      "text/plain": [
       "0"
      ]
     },
     "execution_count": 92,
     "metadata": {},
     "output_type": "execute_result"
    }
   ],
   "source": [
    "sum(cmdstan_data['sample'] < 0)"
   ]
  },
  {
   "cell_type": "markdown",
   "metadata": {},
   "source": [
    "### Model fitting below doesn't work - try converting to R dump format to run from `cmdstan`"
   ]
  },
  {
   "cell_type": "code",
   "execution_count": 93,
   "metadata": {
    "ExecuteTime": {
     "end_time": "2017-03-05T02:13:29.925370",
     "start_time": "2017-03-05T02:13:29.921881"
    },
    "collapsed": false
   },
   "outputs": [],
   "source": [
    "import pystan"
   ]
  },
  {
   "cell_type": "code",
   "execution_count": 94,
   "metadata": {
    "ExecuteTime": {
     "end_time": "2017-03-05T02:13:31.515606",
     "start_time": "2017-03-05T02:13:30.271268"
    },
    "collapsed": false
   },
   "outputs": [],
   "source": [
    "# prep_stan_data() currently does not support pd.DataFrame. Must be ndarray\n",
    "for k, v in cmdstan_data.items():\n",
    "    if isinstance(v, pd.DataFrame):\n",
    "        cmdstan_data[k] = v.values\n",
    "\n",
    "pystan.misc.stan_rdump(cmdstan_data, \"run_cmdstan/model5-tex.data.R\")"
   ]
  },
  {
   "cell_type": "markdown",
   "metadata": {},
   "source": [
    "## Run model fitting"
   ]
  },
  {
   "cell_type": "code",
   "execution_count": 95,
   "metadata": {
    "ExecuteTime": {
     "end_time": "2017-03-05T02:13:32.842132",
     "start_time": "2017-03-05T02:13:32.836257"
    },
    "collapsed": false,
    "scrolled": true
   },
   "outputs": [
    {
     "name": "stdout",
     "output_type": "stream",
     "text": [
      "## neg binom parameterization\n",
      "## estimate correlation matrix among cell types\n",
      "data {\n",
      "    // dimensions\n",
      "    int<lower=1> N;  // N obs\n",
      "    int<lower=1> G;  // N genes\n",
      "    int<lower=1> S;  // N samples\n",
      "    int<lower=0> C;  // N classes (e.g. B-cell, T-cell, B_Naive, CD5, CD45RO, etc)\n",
      "                     //     note: classes should be mutually exclusive. Each row here should sum to 1\n",
      "    // int<lower=0> M; // number of cell-level predictors \n",
      "   \n",
      "    // data for each gene*sample\n",
      "    int<lower=1, upper=G> gene[N];    // gene id for each obs\n",
      "    int<lower=1, upper=S> sample[N];  // sample id for each obs\n",
      "    vector<lower=0, upper=1>[C] x[N]; // map each obs to each class (0:'- or ?', 1:'+')\n",
      "    int<lower=0> y[N];                // count/tpm for each obs\n",
      "    \n",
      "    // group-level predictors for each class C\n",
      "    // (to come) - \n",
      "}\n",
      "transformed data {\n",
      "    int sample_y[S, G];    // array (size SxG) of ints\n",
      "    vector[C] sample_x[S]; // array (size S) of vectors[C]\n",
      "    for (n in 1:N) {\n",
      "        sample_y[sample[n], gene[n]] = y[n];\n",
      "        sample_x[sample[n]] = x[n,];\n",
      "    }\n",
      "}\n",
      "parameters {\n",
      "    corr_matrix[C] Omega;        // degree of correlation among loading factors for each cell type\n",
      "    vector<lower=0>[C] tau;      // scale for each cell type - multiplied (on diagonal) with Omega\n",
      "    matrix<lower=0>[G, C] theta; // loading factors for each gene, for each cell type\n",
      "    vector[C] theta_mu;\n",
      "    \n",
      "    vector[G] log_gene_base;     // constant intercept expression level for each gene, irrespective of cell type\n",
      "    vector<lower=0>[G] gene_phi;          // overdispersion parameter per transcript (for now)\n",
      "}\n",
      "model {\n",
      "    tau ~ cauchy(0, 2.5);\n",
      "    Omega ~ lkj_corr(2);\n",
      "    theta_mu ~ normal(0, 1);\n",
      "    for (g in 1:G) {\n",
      "        theta[g] ~ multi_normal(theta_mu, quad_form_diag(Omega, tau));\n",
      "    }\n",
      "    log_gene_base ~ normal(0, 1);\n",
      "    gene_phi ~ normal(0, 1);\n",
      "    for (s in 1:S) {\n",
      "        vector[G] log_expected_rate;\n",
      "        log_expected_rate = log_gene_base + log(theta*sample_x[s]);\n",
      "        sample_y[s] ~ neg_binomial_2_log(log_expected_rate, gene_phi);\n",
      "    }\n",
      "}\n",
      "generated quantities {\n",
      "    int y_rep[N];\n",
      "    real log_lik[N];\n",
      "    \n",
      "    for (n in 1:N) {\n",
      "        real log_expected_rate;\n",
      "        log_expected_rate = log_gene_base[gene[n]] + log(theta[gene[n], ]*x[n]);\n",
      "        y_rep[n] = neg_binomial_2_log_rng(log_expected_rate, gene_phi[gene[n]]);\n",
      "        log_lik[n] = neg_binomial_2_log_lpmf(y[n] | log_expected_rate, gene_phi[gene[n]]);\n",
      "    }\n",
      "}\n",
      "\n"
     ]
    }
   ],
   "source": [
    "model_file = models.get_model_file(model_name=model_name)\n",
    "print(cache._read_file(model_file))"
   ]
  },
  {
   "cell_type": "code",
   "execution_count": null,
   "metadata": {
    "ExecuteTime": {
     "start_time": "2017-03-05T02:13:33.262Z"
    },
    "collapsed": false,
    "scrolled": false
   },
   "outputs": [
    {
     "name": "stderr",
     "output_type": "stream",
     "text": [
      "INFO:stancache.stancache:Step 1: Get compiled model code, possibly from cache\n",
      "INFO:stancache.stancache:StanModel: cache_filename set to model5.cython_0_25_1.model_code_12673779526111968781.pystan_2_12_0_0.stanmodel.pkl\n",
      "INFO:stancache.stancache:StanModel: Loading result from cache\n",
      "INFO:stancache.stancache:Step 2: Get posterior draws from model, possibly from cache\n",
      "INFO:stancache.stancache:sampling: cache_filename set to model5.cython_0_25_1.model_code_12673779526111968781.pystan_2_12_0_0.stanfit.chains_4.data_6723842445.iter_5.seed_1245502385.pkl\n",
      "INFO:stancache.stancache:sampling: Starting execution\n",
      "INFO:stancache.stancache:sampling: Execution completed (0:00:19.206024 elapsed)\n",
      "INFO:stancache.stancache:sampling: Saving results to cache\n",
      "/home/jacquelineburos/miniconda3/envs/immuneinf/lib/python3.6/site-packages/stancache/stancache.py:285: UserWarning: Pickling fit objects is an experimental feature!\n",
      "The relevant StanModel instance must be pickled along with this fit object.\n",
      "When unpickling the StanModel must be unpickled first.\n",
      "  pickle.dump(res, open(cache_filepath, 'wb'), pickle.HIGHEST_PROTOCOL)\n"
     ]
    }
   ],
   "source": [
    "model_fit = models.cached_stan_fit(file=model_file, data=stan_data, iter=5, model_name=model_name)"
   ]
  },
  {
   "cell_type": "code",
   "execution_count": null,
   "metadata": {
    "ExecuteTime": {
     "start_time": "2017-03-05T16:44:54.069Z"
    },
    "collapsed": false
   },
   "outputs": [],
   "source": [
    "model_fit = models.cached_stan_fit(file=model_file, data=stan_data, iter=5000, model_name=model_name)"
   ]
  },
  {
   "cell_type": "code",
   "execution_count": null,
   "metadata": {
    "collapsed": true
   },
   "outputs": [],
   "source": []
  }
 ],
 "metadata": {
  "kernelspec": {
   "display_name": "immune3",
   "language": "python",
   "name": "immune3"
  },
  "toc": {
   "nav_menu": {
    "height": "156px",
    "width": "252px"
   },
   "navigate_menu": true,
   "number_sections": true,
   "sideBar": true,
   "threshold": 4,
   "toc_cell": false,
   "toc_section_display": "block",
   "toc_window_display": false
  }
 },
 "nbformat": 4,
 "nbformat_minor": 2
}
