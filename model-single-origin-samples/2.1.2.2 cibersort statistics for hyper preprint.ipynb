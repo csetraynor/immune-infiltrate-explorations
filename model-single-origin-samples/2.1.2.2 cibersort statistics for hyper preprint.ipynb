{
 "cells": [
  {
   "cell_type": "markdown",
   "metadata": {
    "deletable": true,
    "editable": true
   },
   "source": [
    "(Has to be under 1MB. See `2.1.2.1 MCMC figure plotting` for more.)"
   ]
  },
  {
   "cell_type": "code",
   "execution_count": 1,
   "metadata": {
    "ExecuteTime": {
     "end_time": "2017-10-25T21:41:41.068618Z",
     "start_time": "2017-10-25T21:41:39.721677Z"
    },
    "collapsed": true
   },
   "outputs": [],
   "source": [
    "import numpy as np\n",
    "import matplotlib as mpl\n",
    "import pandas as pd\n",
    "import matplotlib.pyplot as plt\n",
    "%matplotlib inline\n",
    "import seaborn as sns\n",
    "import pickle\n",
    "import dill"
   ]
  },
  {
   "cell_type": "code",
   "execution_count": 2,
   "metadata": {
    "ExecuteTime": {
     "end_time": "2017-10-25T21:41:43.384905Z",
     "start_time": "2017-10-25T21:41:43.074057Z"
    },
    "collapsed": true
   },
   "outputs": [],
   "source": [
    "# verify kernel won't crash due to MKL issue from future imports\n",
    "import sklearn.linear_model.tests.test_randomized_l1"
   ]
  },
  {
   "cell_type": "code",
   "execution_count": 3,
   "metadata": {
    "ExecuteTime": {
     "end_time": "2017-10-25T21:41:46.450689Z",
     "start_time": "2017-10-25T21:41:46.007011Z"
    },
    "collapsed": true
   },
   "outputs": [],
   "source": [
    "[\n",
    "    merged_samples, cleaner_gt, friendly_mixture_descriptions, example_result,\n",
    "    cib_class_names, rollup_groundtruth, rollupsums_df, col_order, rollups\n",
    "] = pickle.load(open('/modelcache/experiments/tmp_2.1.1_plotting.pkl', 'rb'))"
   ]
  },
  {
   "cell_type": "code",
   "execution_count": 4,
   "metadata": {
    "ExecuteTime": {
     "end_time": "2017-10-25T21:41:48.903099Z",
     "start_time": "2017-10-25T21:41:48.856694Z"
    },
    "collapsed": false
   },
   "outputs": [
    {
     "name": "stdout",
     "output_type": "stream",
     "text": [
      "Cibersort Diagnostics for hyper (inserted in google doc):\n",
      "mixture 1\n",
      "{{{mix1_rmse:0.28}}}\n",
      "{{{mix1_pval:0.0}}}\n",
      "mixture 2\n",
      "{{{mix2_rmse:0.34}}}\n",
      "{{{mix2_pval:0.0}}}\n",
      "mixture 3\n",
      "{{{mix3_rmse:0.30}}}\n",
      "{{{mix3_pval:0.0}}}\n",
      "mixture 4\n",
      "{{{mix4_rmse:0.33}}}\n",
      "{{{mix4_pval:0.0}}}\n",
      "mixture 5\n",
      "{{{mix5_rmse:0.27}}}\n",
      "{{{mix5_pval:0.0}}}\n",
      "mixture 6\n",
      "{{{mix6_rmse:0.34}}}\n",
      "{{{mix6_pval:0.0}}}\n",
      "mixture 7\n",
      "{{{mix7_rmse:0.45}}}\n",
      "{{{mix7_pval:0.0}}}\n",
      "mixture 8\n",
      "{{{mix8_rmse:0.44}}}\n",
      "{{{mix8_pval:0.0}}}\n",
      "mixture 9\n",
      "{{{mix9_rmse:0.41}}}\n",
      "{{{mix9_pval:0.0}}}\n",
      "mixture 10\n",
      "{{{mix10_rmse:0.49}}}\n",
      "{{{mix10_pval:0.0}}}\n"
     ]
    },
    {
     "data": {
      "text/html": [
       "<div>\n",
       "<table border=\"1\" class=\"dataframe\">\n",
       "  <thead>\n",
       "    <tr style=\"text-align: right;\">\n",
       "      <th></th>\n",
       "      <th>RMSE</th>\n",
       "      <th>P-value</th>\n",
       "    </tr>\n",
       "  </thead>\n",
       "  <tbody>\n",
       "    <tr>\n",
       "      <th>6</th>\n",
       "      <td>0.452792</td>\n",
       "      <td>0.0</td>\n",
       "    </tr>\n",
       "    <tr>\n",
       "      <th>1</th>\n",
       "      <td>0.339896</td>\n",
       "      <td>0.0</td>\n",
       "    </tr>\n",
       "    <tr>\n",
       "      <th>9</th>\n",
       "      <td>0.486806</td>\n",
       "      <td>0.0</td>\n",
       "    </tr>\n",
       "  </tbody>\n",
       "</table>\n",
       "</div>"
      ],
      "text/plain": [
       "       RMSE  P-value\n",
       "6  0.452792      0.0\n",
       "1  0.339896      0.0\n",
       "9  0.486806      0.0"
      ]
     },
     "execution_count": 4,
     "metadata": {},
     "output_type": "execute_result"
    }
   ],
   "source": [
    "print('Cibersort Diagnostics for hyper (inserted in google doc):')\n",
    "for key,row in example_result[['RMSE', 'P-value']].iterrows():\n",
    "    print(\"mixture %d\" % (key+1))\n",
    "    print(\"{{{mix%d_rmse:%0.2f}}}\" % (key+1, row['RMSE']))\n",
    "    print(\"{{{mix%d_pval:%0.1f}}}\" % (key+1, row['P-value']))\n",
    "example_result[['RMSE', 'P-value']].iloc[[6,1,9]]"
   ]
  },
  {
   "cell_type": "code",
   "execution_count": null,
   "metadata": {
    "collapsed": true
   },
   "outputs": [],
   "source": []
  }
 ],
 "metadata": {
  "kernelspec": {
   "display_name": "Python 3",
   "language": "python",
   "name": "python3"
  },
  "language_info": {
   "codemirror_mode": {
    "name": "ipython",
    "version": 3
   },
   "file_extension": ".py",
   "mimetype": "text/x-python",
   "name": "python",
   "nbconvert_exporter": "python",
   "pygments_lexer": "ipython3",
   "version": "3.6.0"
  },
  "toc": {
   "nav_menu": {},
   "number_sections": true,
   "sideBar": true,
   "skip_h1_title": false,
   "toc_cell": false,
   "toc_position": {},
   "toc_section_display": "block",
   "toc_window_display": false
  },
  "varInspector": {
   "cols": {
    "lenName": 16,
    "lenType": 16,
    "lenVar": 40
   },
   "kernels_config": {
    "python": {
     "delete_cmd_postfix": "",
     "delete_cmd_prefix": "del ",
     "library": "var_list.py",
     "varRefreshCmd": "print(var_dic_list())"
    },
    "r": {
     "delete_cmd_postfix": ") ",
     "delete_cmd_prefix": "rm(",
     "library": "var_list.r",
     "varRefreshCmd": "cat(var_dic_list()) "
    }
   },
   "types_to_exclude": [
    "module",
    "function",
    "builtin_function_or_method",
    "instance",
    "_Feature"
   ],
   "window_display": false
  }
 },
 "nbformat": 4,
 "nbformat_minor": 2
}
