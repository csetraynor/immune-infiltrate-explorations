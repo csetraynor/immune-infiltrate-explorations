{
 "cells": [
  {
   "cell_type": "markdown",
   "metadata": {
    "toc": "true"
   },
   "source": [
    "# Table of Contents\n",
    " <p><div class=\"lev1\"><a href=\"#Overview\"><span class=\"toc-item-num\">1&nbsp;&nbsp;</span>Overview</a></div><div class=\"lev1\"><a href=\"#Mixtures-that-come-with-Cibersort\"><span class=\"toc-item-num\">2&nbsp;&nbsp;</span>Mixtures that come with Cibersort</a></div><div class=\"lev4\"><a href=\"#Investigating-how-to-make-a-mixture-like-this\"><span class=\"toc-item-num\">2.0.0.1&nbsp;&nbsp;</span>Investigating how to make a mixture like this</a></div><div class=\"lev1\"><a href=\"#Simple-mixtures\"><span class=\"toc-item-num\">3&nbsp;&nbsp;</span>Simple mixtures</a></div><div class=\"lev2\"><a href=\"#reference-profiles,-w/o-noise-and-w/-two-types-of-noise\"><span class=\"toc-item-num\">3.1&nbsp;&nbsp;</span>reference profiles, w/o noise and w/ two types of noise</a></div><div class=\"lev3\"><a href=\"#run-this-through-cibersort\"><span class=\"toc-item-num\">3.1.1&nbsp;&nbsp;</span>run this through cibersort</a></div><div class=\"lev2\"><a href=\"#2-raw-lines-from-same-publication-(Cib)\"><span class=\"toc-item-num\">3.2&nbsp;&nbsp;</span>2 raw lines from same publication (Cib)</a></div><div class=\"lev3\"><a href=\"#run-cibersort-on-this\"><span class=\"toc-item-num\">3.2.1&nbsp;&nbsp;</span>run cibersort on this</a></div><div class=\"lev1\"><a href=\"#Give-Cibersort-a-hard-time\"><span class=\"toc-item-num\">4&nbsp;&nbsp;</span>Give Cibersort a hard time</a></div><div class=\"lev2\"><a href=\"#reference-profiles-(warmup)\"><span class=\"toc-item-num\">4.1&nbsp;&nbsp;</span>reference profiles (warmup)</a></div><div class=\"lev3\"><a href=\"#run-through-cibersort\"><span class=\"toc-item-num\">4.1.1&nbsp;&nbsp;</span>run through cibersort</a></div><div class=\"lev2\"><a href=\"#raw-lines-(should-be-quite-hard)\"><span class=\"toc-item-num\">4.2&nbsp;&nbsp;</span>raw lines (should be quite hard)</a></div><div class=\"lev3\"><a href=\"#run-through-cibersort\"><span class=\"toc-item-num\">4.2.1&nbsp;&nbsp;</span>run through cibersort</a></div>"
   ]
  },
  {
   "cell_type": "code",
   "execution_count": 1,
   "metadata": {
    "ExecuteTime": {
     "end_time": "2016-07-05T11:58:57.387047",
     "start_time": "2016-07-05T11:58:56.249533"
    },
    "collapsed": true,
    "run_control": {
     "frozen": false,
     "read_only": false
    }
   },
   "outputs": [],
   "source": [
    "# %load ~/ipyhead\n",
    "import numpy as np\n",
    "import matplotlib.pyplot as plt\n",
    "import pandas as pd\n",
    "%matplotlib inline\n",
    "import seaborn as sns"
   ]
  },
  {
   "cell_type": "code",
   "execution_count": 4,
   "metadata": {
    "ExecuteTime": {
     "end_time": "2016-07-05T12:02:10.164545",
     "start_time": "2016-07-05T12:02:10.153837"
    },
    "collapsed": true,
    "run_control": {
     "frozen": false,
     "read_only": false
    }
   },
   "outputs": [],
   "source": [
    "from StringIO import StringIO"
   ]
  },
  {
   "cell_type": "markdown",
   "metadata": {},
   "source": [
    "# Overview\n",
    "\n",
    "Let's try using LM22 to deconvolve some mixtures that we can create.\n",
    "\n",
    "Here is an example of how to call CIBERSORT: \n",
    "`java -Xmx3g -Xms3g -jar CIBERSORT.jar -M ExampleMixtures-GEPs.txt -B LM22.txt`\n",
    "\n",
    "Just have to do this from R console first:\n",
    "```\n",
    "library(Rserve)\n",
    "Rserve(args=\"--no-save\")\n",
    "```\n",
    "\n",
    "\n",
    "# Mixtures that come with Cibersort\n"
   ]
  },
  {
   "cell_type": "code",
   "execution_count": 9,
   "metadata": {
    "collapsed": false,
    "run_control": {
     "frozen": false,
     "read_only": false
    }
   },
   "outputs": [
    {
     "data": {
      "text/html": [
       "<div>\n",
       "<table border=\"1\" class=\"dataframe\">\n",
       "  <thead>\n",
       "    <tr style=\"text-align: right;\">\n",
       "      <th></th>\n",
       "      <th>0</th>\n",
       "      <th>1</th>\n",
       "      <th>2</th>\n",
       "      <th>3</th>\n",
       "      <th>4</th>\n",
       "      <th>5</th>\n",
       "      <th>6</th>\n",
       "      <th>7</th>\n",
       "      <th>8</th>\n",
       "      <th>9</th>\n",
       "      <th>...</th>\n",
       "      <th>12</th>\n",
       "      <th>13</th>\n",
       "      <th>14</th>\n",
       "      <th>15</th>\n",
       "      <th>16</th>\n",
       "      <th>17</th>\n",
       "      <th>18</th>\n",
       "      <th>19</th>\n",
       "      <th>20</th>\n",
       "      <th>21</th>\n",
       "    </tr>\n",
       "  </thead>\n",
       "  <tbody>\n",
       "    <tr>\n",
       "      <th>0</th>\n",
       "      <td>0.18</td>\n",
       "      <td>0.16</td>\n",
       "      <td>0.13</td>\n",
       "      <td>0.11</td>\n",
       "      <td>0.09</td>\n",
       "      <td>0.07</td>\n",
       "      <td>0.06</td>\n",
       "      <td>0.05</td>\n",
       "      <td>0.04</td>\n",
       "      <td>0.03</td>\n",
       "      <td>...</td>\n",
       "      <td>0.01</td>\n",
       "      <td>0.01</td>\n",
       "      <td>0.01</td>\n",
       "      <td>0.01</td>\n",
       "      <td>0.00</td>\n",
       "      <td>0.00</td>\n",
       "      <td>0.00</td>\n",
       "      <td>0.00</td>\n",
       "      <td>0.00</td>\n",
       "      <td>0.00</td>\n",
       "    </tr>\n",
       "    <tr>\n",
       "      <th>1</th>\n",
       "      <td>0.20</td>\n",
       "      <td>0.00</td>\n",
       "      <td>0.19</td>\n",
       "      <td>0.00</td>\n",
       "      <td>0.18</td>\n",
       "      <td>0.00</td>\n",
       "      <td>0.10</td>\n",
       "      <td>0.00</td>\n",
       "      <td>0.09</td>\n",
       "      <td>0.00</td>\n",
       "      <td>...</td>\n",
       "      <td>0.05</td>\n",
       "      <td>0.00</td>\n",
       "      <td>0.04</td>\n",
       "      <td>0.00</td>\n",
       "      <td>0.04</td>\n",
       "      <td>0.00</td>\n",
       "      <td>0.02</td>\n",
       "      <td>0.00</td>\n",
       "      <td>0.02</td>\n",
       "      <td>0.00</td>\n",
       "    </tr>\n",
       "    <tr>\n",
       "      <th>2</th>\n",
       "      <td>0.00</td>\n",
       "      <td>0.00</td>\n",
       "      <td>0.01</td>\n",
       "      <td>0.01</td>\n",
       "      <td>0.01</td>\n",
       "      <td>0.02</td>\n",
       "      <td>0.03</td>\n",
       "      <td>0.05</td>\n",
       "      <td>0.07</td>\n",
       "      <td>0.11</td>\n",
       "      <td>...</td>\n",
       "      <td>0.11</td>\n",
       "      <td>0.07</td>\n",
       "      <td>0.05</td>\n",
       "      <td>0.03</td>\n",
       "      <td>0.02</td>\n",
       "      <td>0.01</td>\n",
       "      <td>0.01</td>\n",
       "      <td>0.01</td>\n",
       "      <td>0.00</td>\n",
       "      <td>0.00</td>\n",
       "    </tr>\n",
       "    <tr>\n",
       "      <th>3</th>\n",
       "      <td>0.17</td>\n",
       "      <td>0.12</td>\n",
       "      <td>0.08</td>\n",
       "      <td>0.06</td>\n",
       "      <td>0.03</td>\n",
       "      <td>0.02</td>\n",
       "      <td>0.01</td>\n",
       "      <td>0.00</td>\n",
       "      <td>0.00</td>\n",
       "      <td>0.00</td>\n",
       "      <td>...</td>\n",
       "      <td>0.00</td>\n",
       "      <td>0.00</td>\n",
       "      <td>0.00</td>\n",
       "      <td>0.01</td>\n",
       "      <td>0.02</td>\n",
       "      <td>0.03</td>\n",
       "      <td>0.06</td>\n",
       "      <td>0.08</td>\n",
       "      <td>0.12</td>\n",
       "      <td>0.17</td>\n",
       "    </tr>\n",
       "    <tr>\n",
       "      <th>4</th>\n",
       "      <td>0.00</td>\n",
       "      <td>0.00</td>\n",
       "      <td>0.00</td>\n",
       "      <td>0.00</td>\n",
       "      <td>0.00</td>\n",
       "      <td>0.00</td>\n",
       "      <td>0.00</td>\n",
       "      <td>0.01</td>\n",
       "      <td>0.03</td>\n",
       "      <td>0.04</td>\n",
       "      <td>...</td>\n",
       "      <td>0.02</td>\n",
       "      <td>0.04</td>\n",
       "      <td>0.09</td>\n",
       "      <td>0.11</td>\n",
       "      <td>0.08</td>\n",
       "      <td>0.05</td>\n",
       "      <td>0.04</td>\n",
       "      <td>0.07</td>\n",
       "      <td>0.14</td>\n",
       "      <td>0.20</td>\n",
       "    </tr>\n",
       "  </tbody>\n",
       "</table>\n",
       "<p>5 rows × 22 columns</p>\n",
       "</div>"
      ],
      "text/plain": [
       "     0     1     2     3     4     5     6     7     8     9   ...     12  \\\n",
       "0  0.18  0.16  0.13  0.11  0.09  0.07  0.06  0.05  0.04  0.03  ...   0.01   \n",
       "1  0.20  0.00  0.19  0.00  0.18  0.00  0.10  0.00  0.09  0.00  ...   0.05   \n",
       "2  0.00  0.00  0.01  0.01  0.01  0.02  0.03  0.05  0.07  0.11  ...   0.11   \n",
       "3  0.17  0.12  0.08  0.06  0.03  0.02  0.01  0.00  0.00  0.00  ...   0.00   \n",
       "4  0.00  0.00  0.00  0.00  0.00  0.00  0.00  0.01  0.03  0.04  ...   0.02   \n",
       "\n",
       "     13    14    15    16    17    18    19    20    21  \n",
       "0  0.01  0.01  0.01  0.00  0.00  0.00  0.00  0.00  0.00  \n",
       "1  0.00  0.04  0.00  0.04  0.00  0.02  0.00  0.02  0.00  \n",
       "2  0.07  0.05  0.03  0.02  0.01  0.01  0.01  0.00  0.00  \n",
       "3  0.00  0.00  0.01  0.02  0.03  0.06  0.08  0.12  0.17  \n",
       "4  0.04  0.09  0.11  0.08  0.05  0.04  0.07  0.14  0.20  \n",
       "\n",
       "[5 rows x 22 columns]"
      ]
     },
     "execution_count": 9,
     "metadata": {},
     "output_type": "execute_result"
    }
   ],
   "source": [
    "example_gt = pd.read_csv('~/CIBERSORT_package/ExampleMixtures-GroundTruth.txt', sep='\\t', header=None)\n",
    "example_gt.head()"
   ]
  },
  {
   "cell_type": "code",
   "execution_count": 5,
   "metadata": {
    "collapsed": false,
    "run_control": {
     "frozen": false,
     "read_only": false
    }
   },
   "outputs": [
    {
     "name": "stdout",
     "output_type": "stream",
     "text": [
      ">===================Settings====================\n",
      ">Mixture file: /home/maxim/CIBERSORT_package/ExampleMixtures-GEPs.txt\n",
      ">Signature matrix file: LM22.txt\n",
      ">===============================================\n",
      ">R version 3.2.2 (2015-08-14)\n",
      ">==================CIBERSORT====================\n",
      "Column\tB cells naive\tB cells memory\tPlasma cells\tT cells CD8\tT cells CD4 naive\tT cells CD4 memory resting\tT cells CD4 memory activated\tT cells follicular helper\tT cells regulatory (Tregs)\tT cells gamma delta\tNK cells resting\tNK cells activated\tMonocytes\tMacrophages M0\tMacrophages M1\tMacrophages M2\tDendritic cells resting\tDendritic cells activated\tMast cells resting\tMast cells activated\tEosinophils\tNeutrophils\tP-value\tPearson Correlation\tRMSE\t\n",
      "0\t0.18036348084728407\t0.1597201742966229\t0.1229443677357994\t0.11118115089840458\t0.08789475799695583\t0.07119276840081966\t0.061376704067022954\t0.052551521180425255\t0.038872128994223445\t0.03155616550195219\t0.019968249814539235\t0.019982174035572457\t0.010548346395201084\t0.010333316456025126\t0.010068661234469265\t0.010470882954216486\t1.4235750966122825E-4\t6.249944440062222E-5\t4.8083995949245483E-4\t0\t2.894522769117787E-4\t0\t0.0\t0.99948437366549\t0.4138379498512216\n",
      "1\t0.19952126382734467\t0\t0.18314677175615052\t3.196542703558663E-4\t0.17945837162752415\t0\t0.09802727158878477\t1.0119056586276611E-5\t0.09028046784038297\t5.419937687356133E-4\t0.07936027067848477\t0\t0.04968384870126321\t6.988820765432083E-5\t0.04011764266163714\t0\t0.039596215058564324\t0\t0.020101611956682686\t0\t0.019764608999848783\t0\t0.0\t0.9998562567350834\t0.48203598712030593\n",
      "2\t0\t4.3969196623430516E-4\t0.010197052069923444\t0.010333383824855978\t0.011008942990605428\t0.020035292524956776\t0.030857566129407675\t0.05167674999714037\t0.07306026042232197\t0.1129706229302327\t0.17689189212855125\t0.1788755688720893\t0.11400559867801092\t0.07256876092998803\t0.052228385585140605\t0.03170041048368853\t0.021063580239782585\t0.010642836466773102\t0.009706743051860388\t0.011311251136560374\t5.642333564765483E-5\t3.6898623622861037E-4\t0.0\t0.9997179070135496\t0.3966025254782171\n",
      "3\t0.17512305409244386\t0.12353092238537257\t0.0782721763862743\t0.061083932423861294\t0.030512862746376435\t0.020227702510555973\t0.010045107768656211\t1.2750842320041156E-4\t0\t0\t0\t1.649361535303503E-4\t0\t0\t0\t0.009935390986309857\t0.02005374971332987\t0.030590045609884715\t0.06277031932004322\t0.08218254012667592\t0.12111314980370896\t0.17426660154977608\t0.0\t0.9999000049279075\t0.49107564921358327\n",
      "4\t3.092443373997152E-5\t0\t1.3394367932660624E-5\t1.0013758515406707E-4\t0\t0\t0\t0.01042010032556974\t0.030981960317758527\t0.040364904881237645\t0.03003781323381484\t0.02112628766075651\t0.019843579626375764\t0.041334076952836085\t0.09359418541829248\t0.11378456540707504\t0.08078342096864656\t0.050982422582159535\t0.03966975550193656\t0.07392633690245791\t0.14436526001845174\t0.20864087381580432\t0.0\t0.9996213624490291\t0.5123059526710043\n"
     ]
    }
   ],
   "source": [
    "!java -Xmx3g -Xms3g -jar ~/CIBERSORT_package/CIBERSORT.jar -M ~/CIBERSORT_package/ExampleMixtures-GEPs.txt -B LM22.txt"
   ]
  },
  {
   "cell_type": "code",
   "execution_count": 12,
   "metadata": {
    "collapsed": false,
    "run_control": {
     "frozen": false,
     "read_only": false
    }
   },
   "outputs": [
    {
     "data": {
      "text/html": [
       "<div>\n",
       "<table border=\"1\" class=\"dataframe\">\n",
       "  <thead>\n",
       "    <tr style=\"text-align: right;\">\n",
       "      <th></th>\n",
       "      <th>Column</th>\n",
       "      <th>B cells naive</th>\n",
       "      <th>B cells memory</th>\n",
       "      <th>Plasma cells</th>\n",
       "      <th>T cells CD8</th>\n",
       "      <th>T cells CD4 naive</th>\n",
       "      <th>T cells CD4 memory resting</th>\n",
       "      <th>T cells CD4 memory activated</th>\n",
       "      <th>T cells follicular helper</th>\n",
       "      <th>T cells regulatory (Tregs)</th>\n",
       "      <th>...</th>\n",
       "      <th>Dendritic cells resting</th>\n",
       "      <th>Dendritic cells activated</th>\n",
       "      <th>Mast cells resting</th>\n",
       "      <th>Mast cells activated</th>\n",
       "      <th>Eosinophils</th>\n",
       "      <th>Neutrophils</th>\n",
       "      <th>P-value</th>\n",
       "      <th>Pearson Correlation</th>\n",
       "      <th>RMSE</th>\n",
       "      <th>Unnamed: 26</th>\n",
       "    </tr>\n",
       "  </thead>\n",
       "  <tbody>\n",
       "    <tr>\n",
       "      <th>0</th>\n",
       "      <td>0</td>\n",
       "      <td>0.180363</td>\n",
       "      <td>0.159720</td>\n",
       "      <td>0.122944</td>\n",
       "      <td>0.111181</td>\n",
       "      <td>0.087895</td>\n",
       "      <td>0.071193</td>\n",
       "      <td>0.061377</td>\n",
       "      <td>0.052552</td>\n",
       "      <td>0.038872</td>\n",
       "      <td>...</td>\n",
       "      <td>0.000142</td>\n",
       "      <td>0.000062</td>\n",
       "      <td>0.000481</td>\n",
       "      <td>0.000000</td>\n",
       "      <td>0.000289</td>\n",
       "      <td>0.000000</td>\n",
       "      <td>0.0</td>\n",
       "      <td>0.999484</td>\n",
       "      <td>0.413838</td>\n",
       "      <td>NaN</td>\n",
       "    </tr>\n",
       "    <tr>\n",
       "      <th>1</th>\n",
       "      <td>1</td>\n",
       "      <td>0.199521</td>\n",
       "      <td>0.000000</td>\n",
       "      <td>0.183147</td>\n",
       "      <td>0.000320</td>\n",
       "      <td>0.179458</td>\n",
       "      <td>0.000000</td>\n",
       "      <td>0.098027</td>\n",
       "      <td>0.000010</td>\n",
       "      <td>0.090280</td>\n",
       "      <td>...</td>\n",
       "      <td>0.039596</td>\n",
       "      <td>0.000000</td>\n",
       "      <td>0.020102</td>\n",
       "      <td>0.000000</td>\n",
       "      <td>0.019765</td>\n",
       "      <td>0.000000</td>\n",
       "      <td>0.0</td>\n",
       "      <td>0.999856</td>\n",
       "      <td>0.482036</td>\n",
       "      <td>NaN</td>\n",
       "    </tr>\n",
       "    <tr>\n",
       "      <th>2</th>\n",
       "      <td>2</td>\n",
       "      <td>0.000000</td>\n",
       "      <td>0.000440</td>\n",
       "      <td>0.010197</td>\n",
       "      <td>0.010333</td>\n",
       "      <td>0.011009</td>\n",
       "      <td>0.020035</td>\n",
       "      <td>0.030858</td>\n",
       "      <td>0.051677</td>\n",
       "      <td>0.073060</td>\n",
       "      <td>...</td>\n",
       "      <td>0.021064</td>\n",
       "      <td>0.010643</td>\n",
       "      <td>0.009707</td>\n",
       "      <td>0.011311</td>\n",
       "      <td>0.000056</td>\n",
       "      <td>0.000369</td>\n",
       "      <td>0.0</td>\n",
       "      <td>0.999718</td>\n",
       "      <td>0.396603</td>\n",
       "      <td>NaN</td>\n",
       "    </tr>\n",
       "    <tr>\n",
       "      <th>3</th>\n",
       "      <td>3</td>\n",
       "      <td>0.175123</td>\n",
       "      <td>0.123531</td>\n",
       "      <td>0.078272</td>\n",
       "      <td>0.061084</td>\n",
       "      <td>0.030513</td>\n",
       "      <td>0.020228</td>\n",
       "      <td>0.010045</td>\n",
       "      <td>0.000128</td>\n",
       "      <td>0.000000</td>\n",
       "      <td>...</td>\n",
       "      <td>0.020054</td>\n",
       "      <td>0.030590</td>\n",
       "      <td>0.062770</td>\n",
       "      <td>0.082183</td>\n",
       "      <td>0.121113</td>\n",
       "      <td>0.174267</td>\n",
       "      <td>0.0</td>\n",
       "      <td>0.999900</td>\n",
       "      <td>0.491076</td>\n",
       "      <td>NaN</td>\n",
       "    </tr>\n",
       "    <tr>\n",
       "      <th>4</th>\n",
       "      <td>4</td>\n",
       "      <td>0.000031</td>\n",
       "      <td>0.000000</td>\n",
       "      <td>0.000013</td>\n",
       "      <td>0.000100</td>\n",
       "      <td>0.000000</td>\n",
       "      <td>0.000000</td>\n",
       "      <td>0.000000</td>\n",
       "      <td>0.010420</td>\n",
       "      <td>0.030982</td>\n",
       "      <td>...</td>\n",
       "      <td>0.080783</td>\n",
       "      <td>0.050982</td>\n",
       "      <td>0.039670</td>\n",
       "      <td>0.073926</td>\n",
       "      <td>0.144365</td>\n",
       "      <td>0.208641</td>\n",
       "      <td>0.0</td>\n",
       "      <td>0.999621</td>\n",
       "      <td>0.512306</td>\n",
       "      <td>NaN</td>\n",
       "    </tr>\n",
       "  </tbody>\n",
       "</table>\n",
       "<p>5 rows × 27 columns</p>\n",
       "</div>"
      ],
      "text/plain": [
       "   Column  B cells naive  B cells memory  Plasma cells  T cells CD8  \\\n",
       "0       0       0.180363        0.159720      0.122944     0.111181   \n",
       "1       1       0.199521        0.000000      0.183147     0.000320   \n",
       "2       2       0.000000        0.000440      0.010197     0.010333   \n",
       "3       3       0.175123        0.123531      0.078272     0.061084   \n",
       "4       4       0.000031        0.000000      0.000013     0.000100   \n",
       "\n",
       "   T cells CD4 naive  T cells CD4 memory resting  \\\n",
       "0           0.087895                    0.071193   \n",
       "1           0.179458                    0.000000   \n",
       "2           0.011009                    0.020035   \n",
       "3           0.030513                    0.020228   \n",
       "4           0.000000                    0.000000   \n",
       "\n",
       "   T cells CD4 memory activated  T cells follicular helper  \\\n",
       "0                      0.061377                   0.052552   \n",
       "1                      0.098027                   0.000010   \n",
       "2                      0.030858                   0.051677   \n",
       "3                      0.010045                   0.000128   \n",
       "4                      0.000000                   0.010420   \n",
       "\n",
       "   T cells regulatory (Tregs)     ...       Dendritic cells resting  \\\n",
       "0                    0.038872     ...                      0.000142   \n",
       "1                    0.090280     ...                      0.039596   \n",
       "2                    0.073060     ...                      0.021064   \n",
       "3                    0.000000     ...                      0.020054   \n",
       "4                    0.030982     ...                      0.080783   \n",
       "\n",
       "   Dendritic cells activated  Mast cells resting  Mast cells activated  \\\n",
       "0                   0.000062            0.000481              0.000000   \n",
       "1                   0.000000            0.020102              0.000000   \n",
       "2                   0.010643            0.009707              0.011311   \n",
       "3                   0.030590            0.062770              0.082183   \n",
       "4                   0.050982            0.039670              0.073926   \n",
       "\n",
       "   Eosinophils  Neutrophils  P-value  Pearson Correlation      RMSE  \\\n",
       "0     0.000289     0.000000      0.0             0.999484  0.413838   \n",
       "1     0.019765     0.000000      0.0             0.999856  0.482036   \n",
       "2     0.000056     0.000369      0.0             0.999718  0.396603   \n",
       "3     0.121113     0.174267      0.0             0.999900  0.491076   \n",
       "4     0.144365     0.208641      0.0             0.999621  0.512306   \n",
       "\n",
       "   Unnamed: 26  \n",
       "0          NaN  \n",
       "1          NaN  \n",
       "2          NaN  \n",
       "3          NaN  \n",
       "4          NaN  \n",
       "\n",
       "[5 rows x 27 columns]"
      ]
     },
     "execution_count": 12,
     "metadata": {},
     "output_type": "execute_result"
    }
   ],
   "source": [
    "example_result = \"\"\"\n",
    "Column\tB cells naive\tB cells memory\tPlasma cells\tT cells CD8\tT cells CD4 naive\tT cells CD4 memory resting\tT cells CD4 memory activated\tT cells follicular helper\tT cells regulatory (Tregs)\tT cells gamma delta\tNK cells resting\tNK cells activated\tMonocytes\tMacrophages M0\tMacrophages M1\tMacrophages M2\tDendritic cells resting\tDendritic cells activated\tMast cells resting\tMast cells activated\tEosinophils\tNeutrophils\tP-value\tPearson Correlation\tRMSE\t\n",
    "0\t0.18036348084728407\t0.1597201742966229\t0.1229443677357994\t0.11118115089840458\t0.08789475799695583\t0.07119276840081966\t0.061376704067022954\t0.052551521180425255\t0.038872128994223445\t0.03155616550195219\t0.019968249814539235\t0.019982174035572457\t0.010548346395201084\t0.010333316456025126\t0.010068661234469265\t0.010470882954216486\t1.4235750966122825E-4\t6.249944440062222E-5\t4.8083995949245483E-4\t0\t2.894522769117787E-4\t0\t0.0\t0.99948437366549\t0.4138379498512216\n",
    "1\t0.19952126382734467\t0\t0.18314677175615052\t3.196542703558663E-4\t0.17945837162752415\t0\t0.09802727158878477\t1.0119056586276611E-5\t0.09028046784038297\t5.419937687356133E-4\t0.07936027067848477\t0\t0.04968384870126321\t6.988820765432083E-5\t0.04011764266163714\t0\t0.039596215058564324\t0\t0.020101611956682686\t0\t0.019764608999848783\t0\t0.0\t0.9998562567350834\t0.48203598712030593\n",
    "2\t0\t4.3969196623430516E-4\t0.010197052069923444\t0.010333383824855978\t0.011008942990605428\t0.020035292524956776\t0.030857566129407675\t0.05167674999714037\t0.07306026042232197\t0.1129706229302327\t0.17689189212855125\t0.1788755688720893\t0.11400559867801092\t0.07256876092998803\t0.052228385585140605\t0.03170041048368853\t0.021063580239782585\t0.010642836466773102\t0.009706743051860388\t0.011311251136560374\t5.642333564765483E-5\t3.6898623622861037E-4\t0.0\t0.9997179070135496\t0.3966025254782171\n",
    "3\t0.17512305409244386\t0.12353092238537257\t0.0782721763862743\t0.061083932423861294\t0.030512862746376435\t0.020227702510555973\t0.010045107768656211\t1.2750842320041156E-4\t0\t0\t0\t1.649361535303503E-4\t0\t0\t0\t0.009935390986309857\t0.02005374971332987\t0.030590045609884715\t0.06277031932004322\t0.08218254012667592\t0.12111314980370896\t0.17426660154977608\t0.0\t0.9999000049279075\t0.49107564921358327\n",
    "4\t3.092443373997152E-5\t0\t1.3394367932660624E-5\t1.0013758515406707E-4\t0\t0\t0\t0.01042010032556974\t0.030981960317758527\t0.040364904881237645\t0.03003781323381484\t0.02112628766075651\t0.019843579626375764\t0.041334076952836085\t0.09359418541829248\t0.11378456540707504\t0.08078342096864656\t0.050982422582159535\t0.03966975550193656\t0.07392633690245791\t0.14436526001845174\t0.20864087381580432\t0.0\t0.9996213624490291\t0.5123059526710043\n",
    "\"\"\"\n",
    "example_result = pd.read_csv(StringIO(example_result), sep='\\t')\n",
    "example_result.head()"
   ]
  },
  {
   "cell_type": "code",
   "execution_count": 18,
   "metadata": {
    "collapsed": true,
    "run_control": {
     "frozen": false,
     "read_only": false
    }
   },
   "outputs": [],
   "source": [
    "del example_result['Unnamed: 26']"
   ]
  },
  {
   "cell_type": "code",
   "execution_count": 19,
   "metadata": {
    "collapsed": false,
    "run_control": {
     "frozen": false,
     "read_only": false
    }
   },
   "outputs": [
    {
     "name": "stdout",
     "output_type": "stream",
     "text": [
      "(5, 22) (5, 26)\n"
     ]
    }
   ],
   "source": [
    "print example_gt.shape, example_result.shape"
   ]
  },
  {
   "cell_type": "code",
   "execution_count": 24,
   "metadata": {
    "collapsed": false,
    "run_control": {
     "frozen": false,
     "read_only": false
    }
   },
   "outputs": [
    {
     "data": {
      "text/html": [
       "<div>\n",
       "<table border=\"1\" class=\"dataframe\">\n",
       "  <thead>\n",
       "    <tr style=\"text-align: right;\">\n",
       "      <th></th>\n",
       "      <th>B cells naive</th>\n",
       "      <th>B cells memory</th>\n",
       "      <th>Plasma cells</th>\n",
       "      <th>T cells CD8</th>\n",
       "      <th>T cells CD4 naive</th>\n",
       "      <th>T cells CD4 memory resting</th>\n",
       "      <th>T cells CD4 memory activated</th>\n",
       "      <th>T cells follicular helper</th>\n",
       "      <th>T cells regulatory (Tregs)</th>\n",
       "      <th>T cells gamma delta</th>\n",
       "      <th>...</th>\n",
       "      <th>Monocytes</th>\n",
       "      <th>Macrophages M0</th>\n",
       "      <th>Macrophages M1</th>\n",
       "      <th>Macrophages M2</th>\n",
       "      <th>Dendritic cells resting</th>\n",
       "      <th>Dendritic cells activated</th>\n",
       "      <th>Mast cells resting</th>\n",
       "      <th>Mast cells activated</th>\n",
       "      <th>Eosinophils</th>\n",
       "      <th>Neutrophils</th>\n",
       "    </tr>\n",
       "  </thead>\n",
       "  <tbody>\n",
       "    <tr>\n",
       "      <th>0</th>\n",
       "      <td>0.18</td>\n",
       "      <td>0.16</td>\n",
       "      <td>0.13</td>\n",
       "      <td>0.11</td>\n",
       "      <td>0.09</td>\n",
       "      <td>0.07</td>\n",
       "      <td>0.06</td>\n",
       "      <td>0.05</td>\n",
       "      <td>0.04</td>\n",
       "      <td>0.03</td>\n",
       "      <td>...</td>\n",
       "      <td>0.01</td>\n",
       "      <td>0.01</td>\n",
       "      <td>0.01</td>\n",
       "      <td>0.01</td>\n",
       "      <td>0.00</td>\n",
       "      <td>0.00</td>\n",
       "      <td>0.00</td>\n",
       "      <td>0.00</td>\n",
       "      <td>0.00</td>\n",
       "      <td>0.00</td>\n",
       "    </tr>\n",
       "    <tr>\n",
       "      <th>1</th>\n",
       "      <td>0.20</td>\n",
       "      <td>0.00</td>\n",
       "      <td>0.19</td>\n",
       "      <td>0.00</td>\n",
       "      <td>0.18</td>\n",
       "      <td>0.00</td>\n",
       "      <td>0.10</td>\n",
       "      <td>0.00</td>\n",
       "      <td>0.09</td>\n",
       "      <td>0.00</td>\n",
       "      <td>...</td>\n",
       "      <td>0.05</td>\n",
       "      <td>0.00</td>\n",
       "      <td>0.04</td>\n",
       "      <td>0.00</td>\n",
       "      <td>0.04</td>\n",
       "      <td>0.00</td>\n",
       "      <td>0.02</td>\n",
       "      <td>0.00</td>\n",
       "      <td>0.02</td>\n",
       "      <td>0.00</td>\n",
       "    </tr>\n",
       "    <tr>\n",
       "      <th>2</th>\n",
       "      <td>0.00</td>\n",
       "      <td>0.00</td>\n",
       "      <td>0.01</td>\n",
       "      <td>0.01</td>\n",
       "      <td>0.01</td>\n",
       "      <td>0.02</td>\n",
       "      <td>0.03</td>\n",
       "      <td>0.05</td>\n",
       "      <td>0.07</td>\n",
       "      <td>0.11</td>\n",
       "      <td>...</td>\n",
       "      <td>0.11</td>\n",
       "      <td>0.07</td>\n",
       "      <td>0.05</td>\n",
       "      <td>0.03</td>\n",
       "      <td>0.02</td>\n",
       "      <td>0.01</td>\n",
       "      <td>0.01</td>\n",
       "      <td>0.01</td>\n",
       "      <td>0.00</td>\n",
       "      <td>0.00</td>\n",
       "    </tr>\n",
       "    <tr>\n",
       "      <th>3</th>\n",
       "      <td>0.17</td>\n",
       "      <td>0.12</td>\n",
       "      <td>0.08</td>\n",
       "      <td>0.06</td>\n",
       "      <td>0.03</td>\n",
       "      <td>0.02</td>\n",
       "      <td>0.01</td>\n",
       "      <td>0.00</td>\n",
       "      <td>0.00</td>\n",
       "      <td>0.00</td>\n",
       "      <td>...</td>\n",
       "      <td>0.00</td>\n",
       "      <td>0.00</td>\n",
       "      <td>0.00</td>\n",
       "      <td>0.01</td>\n",
       "      <td>0.02</td>\n",
       "      <td>0.03</td>\n",
       "      <td>0.06</td>\n",
       "      <td>0.08</td>\n",
       "      <td>0.12</td>\n",
       "      <td>0.17</td>\n",
       "    </tr>\n",
       "    <tr>\n",
       "      <th>4</th>\n",
       "      <td>0.00</td>\n",
       "      <td>0.00</td>\n",
       "      <td>0.00</td>\n",
       "      <td>0.00</td>\n",
       "      <td>0.00</td>\n",
       "      <td>0.00</td>\n",
       "      <td>0.00</td>\n",
       "      <td>0.01</td>\n",
       "      <td>0.03</td>\n",
       "      <td>0.04</td>\n",
       "      <td>...</td>\n",
       "      <td>0.02</td>\n",
       "      <td>0.04</td>\n",
       "      <td>0.09</td>\n",
       "      <td>0.11</td>\n",
       "      <td>0.08</td>\n",
       "      <td>0.05</td>\n",
       "      <td>0.04</td>\n",
       "      <td>0.07</td>\n",
       "      <td>0.14</td>\n",
       "      <td>0.20</td>\n",
       "    </tr>\n",
       "  </tbody>\n",
       "</table>\n",
       "<p>5 rows × 22 columns</p>\n",
       "</div>"
      ],
      "text/plain": [
       "   B cells naive  B cells memory  Plasma cells  T cells CD8  \\\n",
       "0           0.18            0.16          0.13         0.11   \n",
       "1           0.20            0.00          0.19         0.00   \n",
       "2           0.00            0.00          0.01         0.01   \n",
       "3           0.17            0.12          0.08         0.06   \n",
       "4           0.00            0.00          0.00         0.00   \n",
       "\n",
       "   T cells CD4 naive  T cells CD4 memory resting  \\\n",
       "0               0.09                        0.07   \n",
       "1               0.18                        0.00   \n",
       "2               0.01                        0.02   \n",
       "3               0.03                        0.02   \n",
       "4               0.00                        0.00   \n",
       "\n",
       "   T cells CD4 memory activated  T cells follicular helper  \\\n",
       "0                          0.06                       0.05   \n",
       "1                          0.10                       0.00   \n",
       "2                          0.03                       0.05   \n",
       "3                          0.01                       0.00   \n",
       "4                          0.00                       0.01   \n",
       "\n",
       "   T cells regulatory (Tregs)  T cells gamma delta     ...       Monocytes  \\\n",
       "0                        0.04                 0.03     ...            0.01   \n",
       "1                        0.09                 0.00     ...            0.05   \n",
       "2                        0.07                 0.11     ...            0.11   \n",
       "3                        0.00                 0.00     ...            0.00   \n",
       "4                        0.03                 0.04     ...            0.02   \n",
       "\n",
       "   Macrophages M0  Macrophages M1  Macrophages M2  Dendritic cells resting  \\\n",
       "0            0.01            0.01            0.01                     0.00   \n",
       "1            0.00            0.04            0.00                     0.04   \n",
       "2            0.07            0.05            0.03                     0.02   \n",
       "3            0.00            0.00            0.01                     0.02   \n",
       "4            0.04            0.09            0.11                     0.08   \n",
       "\n",
       "   Dendritic cells activated  Mast cells resting  Mast cells activated  \\\n",
       "0                       0.00                0.00                  0.00   \n",
       "1                       0.00                0.02                  0.00   \n",
       "2                       0.01                0.01                  0.01   \n",
       "3                       0.03                0.06                  0.08   \n",
       "4                       0.05                0.04                  0.07   \n",
       "\n",
       "   Eosinophils  Neutrophils  \n",
       "0         0.00         0.00  \n",
       "1         0.02         0.00  \n",
       "2         0.00         0.00  \n",
       "3         0.12         0.17  \n",
       "4         0.14         0.20  \n",
       "\n",
       "[5 rows x 22 columns]"
      ]
     },
     "execution_count": 24,
     "metadata": {},
     "output_type": "execute_result"
    }
   ],
   "source": [
    "example_gt.columns = example_result.columns[1:-3]\n",
    "example_gt.head()"
   ]
  },
  {
   "cell_type": "code",
   "execution_count": 25,
   "metadata": {
    "collapsed": false,
    "run_control": {
     "frozen": false,
     "read_only": false
    }
   },
   "outputs": [
    {
     "data": {
      "text/html": [
       "<div>\n",
       "<table border=\"1\" class=\"dataframe\">\n",
       "  <thead>\n",
       "    <tr style=\"text-align: right;\">\n",
       "      <th></th>\n",
       "      <th>B cells naive</th>\n",
       "      <th>B cells memory</th>\n",
       "      <th>Plasma cells</th>\n",
       "      <th>T cells CD8</th>\n",
       "      <th>T cells CD4 naive</th>\n",
       "      <th>T cells CD4 memory resting</th>\n",
       "      <th>T cells CD4 memory activated</th>\n",
       "      <th>T cells follicular helper</th>\n",
       "      <th>T cells regulatory (Tregs)</th>\n",
       "      <th>T cells gamma delta</th>\n",
       "      <th>...</th>\n",
       "      <th>Monocytes</th>\n",
       "      <th>Macrophages M0</th>\n",
       "      <th>Macrophages M1</th>\n",
       "      <th>Macrophages M2</th>\n",
       "      <th>Dendritic cells resting</th>\n",
       "      <th>Dendritic cells activated</th>\n",
       "      <th>Mast cells resting</th>\n",
       "      <th>Mast cells activated</th>\n",
       "      <th>Eosinophils</th>\n",
       "      <th>Neutrophils</th>\n",
       "    </tr>\n",
       "  </thead>\n",
       "  <tbody>\n",
       "    <tr>\n",
       "      <th>0</th>\n",
       "      <td>0.180363</td>\n",
       "      <td>0.159720</td>\n",
       "      <td>0.122944</td>\n",
       "      <td>0.111181</td>\n",
       "      <td>0.087895</td>\n",
       "      <td>0.071193</td>\n",
       "      <td>0.061377</td>\n",
       "      <td>0.052552</td>\n",
       "      <td>0.038872</td>\n",
       "      <td>0.031556</td>\n",
       "      <td>...</td>\n",
       "      <td>0.010548</td>\n",
       "      <td>0.010333</td>\n",
       "      <td>0.010069</td>\n",
       "      <td>0.010471</td>\n",
       "      <td>0.000142</td>\n",
       "      <td>0.000062</td>\n",
       "      <td>0.000481</td>\n",
       "      <td>0.000000</td>\n",
       "      <td>0.000289</td>\n",
       "      <td>0.000000</td>\n",
       "    </tr>\n",
       "    <tr>\n",
       "      <th>1</th>\n",
       "      <td>0.199521</td>\n",
       "      <td>0.000000</td>\n",
       "      <td>0.183147</td>\n",
       "      <td>0.000320</td>\n",
       "      <td>0.179458</td>\n",
       "      <td>0.000000</td>\n",
       "      <td>0.098027</td>\n",
       "      <td>0.000010</td>\n",
       "      <td>0.090280</td>\n",
       "      <td>0.000542</td>\n",
       "      <td>...</td>\n",
       "      <td>0.049684</td>\n",
       "      <td>0.000070</td>\n",
       "      <td>0.040118</td>\n",
       "      <td>0.000000</td>\n",
       "      <td>0.039596</td>\n",
       "      <td>0.000000</td>\n",
       "      <td>0.020102</td>\n",
       "      <td>0.000000</td>\n",
       "      <td>0.019765</td>\n",
       "      <td>0.000000</td>\n",
       "    </tr>\n",
       "    <tr>\n",
       "      <th>2</th>\n",
       "      <td>0.000000</td>\n",
       "      <td>0.000440</td>\n",
       "      <td>0.010197</td>\n",
       "      <td>0.010333</td>\n",
       "      <td>0.011009</td>\n",
       "      <td>0.020035</td>\n",
       "      <td>0.030858</td>\n",
       "      <td>0.051677</td>\n",
       "      <td>0.073060</td>\n",
       "      <td>0.112971</td>\n",
       "      <td>...</td>\n",
       "      <td>0.114006</td>\n",
       "      <td>0.072569</td>\n",
       "      <td>0.052228</td>\n",
       "      <td>0.031700</td>\n",
       "      <td>0.021064</td>\n",
       "      <td>0.010643</td>\n",
       "      <td>0.009707</td>\n",
       "      <td>0.011311</td>\n",
       "      <td>0.000056</td>\n",
       "      <td>0.000369</td>\n",
       "    </tr>\n",
       "    <tr>\n",
       "      <th>3</th>\n",
       "      <td>0.175123</td>\n",
       "      <td>0.123531</td>\n",
       "      <td>0.078272</td>\n",
       "      <td>0.061084</td>\n",
       "      <td>0.030513</td>\n",
       "      <td>0.020228</td>\n",
       "      <td>0.010045</td>\n",
       "      <td>0.000128</td>\n",
       "      <td>0.000000</td>\n",
       "      <td>0.000000</td>\n",
       "      <td>...</td>\n",
       "      <td>0.000000</td>\n",
       "      <td>0.000000</td>\n",
       "      <td>0.000000</td>\n",
       "      <td>0.009935</td>\n",
       "      <td>0.020054</td>\n",
       "      <td>0.030590</td>\n",
       "      <td>0.062770</td>\n",
       "      <td>0.082183</td>\n",
       "      <td>0.121113</td>\n",
       "      <td>0.174267</td>\n",
       "    </tr>\n",
       "    <tr>\n",
       "      <th>4</th>\n",
       "      <td>0.000031</td>\n",
       "      <td>0.000000</td>\n",
       "      <td>0.000013</td>\n",
       "      <td>0.000100</td>\n",
       "      <td>0.000000</td>\n",
       "      <td>0.000000</td>\n",
       "      <td>0.000000</td>\n",
       "      <td>0.010420</td>\n",
       "      <td>0.030982</td>\n",
       "      <td>0.040365</td>\n",
       "      <td>...</td>\n",
       "      <td>0.019844</td>\n",
       "      <td>0.041334</td>\n",
       "      <td>0.093594</td>\n",
       "      <td>0.113785</td>\n",
       "      <td>0.080783</td>\n",
       "      <td>0.050982</td>\n",
       "      <td>0.039670</td>\n",
       "      <td>0.073926</td>\n",
       "      <td>0.144365</td>\n",
       "      <td>0.208641</td>\n",
       "    </tr>\n",
       "  </tbody>\n",
       "</table>\n",
       "<p>5 rows × 22 columns</p>\n",
       "</div>"
      ],
      "text/plain": [
       "   B cells naive  B cells memory  Plasma cells  T cells CD8  \\\n",
       "0       0.180363        0.159720      0.122944     0.111181   \n",
       "1       0.199521        0.000000      0.183147     0.000320   \n",
       "2       0.000000        0.000440      0.010197     0.010333   \n",
       "3       0.175123        0.123531      0.078272     0.061084   \n",
       "4       0.000031        0.000000      0.000013     0.000100   \n",
       "\n",
       "   T cells CD4 naive  T cells CD4 memory resting  \\\n",
       "0           0.087895                    0.071193   \n",
       "1           0.179458                    0.000000   \n",
       "2           0.011009                    0.020035   \n",
       "3           0.030513                    0.020228   \n",
       "4           0.000000                    0.000000   \n",
       "\n",
       "   T cells CD4 memory activated  T cells follicular helper  \\\n",
       "0                      0.061377                   0.052552   \n",
       "1                      0.098027                   0.000010   \n",
       "2                      0.030858                   0.051677   \n",
       "3                      0.010045                   0.000128   \n",
       "4                      0.000000                   0.010420   \n",
       "\n",
       "   T cells regulatory (Tregs)  T cells gamma delta     ...       Monocytes  \\\n",
       "0                    0.038872             0.031556     ...        0.010548   \n",
       "1                    0.090280             0.000542     ...        0.049684   \n",
       "2                    0.073060             0.112971     ...        0.114006   \n",
       "3                    0.000000             0.000000     ...        0.000000   \n",
       "4                    0.030982             0.040365     ...        0.019844   \n",
       "\n",
       "   Macrophages M0  Macrophages M1  Macrophages M2  Dendritic cells resting  \\\n",
       "0        0.010333        0.010069        0.010471                 0.000142   \n",
       "1        0.000070        0.040118        0.000000                 0.039596   \n",
       "2        0.072569        0.052228        0.031700                 0.021064   \n",
       "3        0.000000        0.000000        0.009935                 0.020054   \n",
       "4        0.041334        0.093594        0.113785                 0.080783   \n",
       "\n",
       "   Dendritic cells activated  Mast cells resting  Mast cells activated  \\\n",
       "0                   0.000062            0.000481              0.000000   \n",
       "1                   0.000000            0.020102              0.000000   \n",
       "2                   0.010643            0.009707              0.011311   \n",
       "3                   0.030590            0.062770              0.082183   \n",
       "4                   0.050982            0.039670              0.073926   \n",
       "\n",
       "   Eosinophils  Neutrophils  \n",
       "0     0.000289     0.000000  \n",
       "1     0.019765     0.000000  \n",
       "2     0.000056     0.000369  \n",
       "3     0.121113     0.174267  \n",
       "4     0.144365     0.208641  \n",
       "\n",
       "[5 rows x 22 columns]"
      ]
     },
     "execution_count": 25,
     "metadata": {},
     "output_type": "execute_result"
    }
   ],
   "source": [
    "example_result_dat = example_result[example_result.columns[1:-3]]\n",
    "example_result_dat.head()"
   ]
  },
  {
   "cell_type": "code",
   "execution_count": 34,
   "metadata": {
    "collapsed": false,
    "run_control": {
     "frozen": false,
     "read_only": false
    }
   },
   "outputs": [
    {
     "name": "stdout",
     "output_type": "stream",
     "text": [
      "absolute difference from ground truth, summarized by column:\n"
     ]
    },
    {
     "data": {
      "text/html": [
       "<div>\n",
       "<table border=\"1\" class=\"dataframe\">\n",
       "  <thead>\n",
       "    <tr style=\"text-align: right;\">\n",
       "      <th></th>\n",
       "      <th>B cells naive</th>\n",
       "      <th>B cells memory</th>\n",
       "      <th>Plasma cells</th>\n",
       "      <th>T cells CD8</th>\n",
       "      <th>T cells CD4 naive</th>\n",
       "      <th>T cells CD4 memory resting</th>\n",
       "      <th>T cells CD4 memory activated</th>\n",
       "      <th>T cells follicular helper</th>\n",
       "      <th>T cells regulatory (Tregs)</th>\n",
       "      <th>T cells gamma delta</th>\n",
       "      <th>...</th>\n",
       "      <th>Monocytes</th>\n",
       "      <th>Macrophages M0</th>\n",
       "      <th>Macrophages M1</th>\n",
       "      <th>Macrophages M2</th>\n",
       "      <th>Dendritic cells resting</th>\n",
       "      <th>Dendritic cells activated</th>\n",
       "      <th>Mast cells resting</th>\n",
       "      <th>Mast cells activated</th>\n",
       "      <th>Eosinophils</th>\n",
       "      <th>Neutrophils</th>\n",
       "    </tr>\n",
       "  </thead>\n",
       "  <tbody>\n",
       "    <tr>\n",
       "      <th>count</th>\n",
       "      <td>5.000000</td>\n",
       "      <td>5.000000</td>\n",
       "      <td>5.000000</td>\n",
       "      <td>5.000000</td>\n",
       "      <td>5.000000</td>\n",
       "      <td>5.000000</td>\n",
       "      <td>5.000000</td>\n",
       "      <td>5.000000</td>\n",
       "      <td>5.000000</td>\n",
       "      <td>5.000000</td>\n",
       "      <td>...</td>\n",
       "      <td>5.000000</td>\n",
       "      <td>5.000000</td>\n",
       "      <td>5.000000</td>\n",
       "      <td>5.000000</td>\n",
       "      <td>5.000000</td>\n",
       "      <td>5.000000</td>\n",
       "      <td>5.000000</td>\n",
       "      <td>5.000000</td>\n",
       "      <td>5.000000</td>\n",
       "      <td>5.000000</td>\n",
       "    </tr>\n",
       "    <tr>\n",
       "      <th>mean</th>\n",
       "      <td>0.001008</td>\n",
       "      <td>0.000738</td>\n",
       "      <td>-0.003085</td>\n",
       "      <td>0.000604</td>\n",
       "      <td>-0.000225</td>\n",
       "      <td>0.000291</td>\n",
       "      <td>0.000061</td>\n",
       "      <td>0.000957</td>\n",
       "      <td>0.000639</td>\n",
       "      <td>0.001087</td>\n",
       "      <td>...</td>\n",
       "      <td>0.000816</td>\n",
       "      <td>0.000861</td>\n",
       "      <td>0.001202</td>\n",
       "      <td>0.001178</td>\n",
       "      <td>0.000328</td>\n",
       "      <td>0.000456</td>\n",
       "      <td>0.000546</td>\n",
       "      <td>0.001484</td>\n",
       "      <td>0.001118</td>\n",
       "      <td>0.002655</td>\n",
       "    </tr>\n",
       "    <tr>\n",
       "      <th>std</th>\n",
       "      <td>0.002320</td>\n",
       "      <td>0.001582</td>\n",
       "      <td>0.003612</td>\n",
       "      <td>0.000493</td>\n",
       "      <td>0.001199</td>\n",
       "      <td>0.000513</td>\n",
       "      <td>0.001275</td>\n",
       "      <td>0.001111</td>\n",
       "      <td>0.001552</td>\n",
       "      <td>0.001201</td>\n",
       "      <td>...</td>\n",
       "      <td>0.001812</td>\n",
       "      <td>0.001094</td>\n",
       "      <td>0.001634</td>\n",
       "      <td>0.001620</td>\n",
       "      <td>0.000590</td>\n",
       "      <td>0.000416</td>\n",
       "      <td>0.001287</td>\n",
       "      <td>0.001650</td>\n",
       "      <td>0.001883</td>\n",
       "      <td>0.003800</td>\n",
       "    </tr>\n",
       "    <tr>\n",
       "      <th>min</th>\n",
       "      <td>-0.000479</td>\n",
       "      <td>-0.000280</td>\n",
       "      <td>-0.007056</td>\n",
       "      <td>0.000100</td>\n",
       "      <td>-0.002105</td>\n",
       "      <td>0.000000</td>\n",
       "      <td>-0.001973</td>\n",
       "      <td>0.000010</td>\n",
       "      <td>-0.001128</td>\n",
       "      <td>0.000000</td>\n",
       "      <td>...</td>\n",
       "      <td>-0.000316</td>\n",
       "      <td>0.000000</td>\n",
       "      <td>0.000000</td>\n",
       "      <td>-0.000065</td>\n",
       "      <td>-0.000404</td>\n",
       "      <td>0.000000</td>\n",
       "      <td>-0.000330</td>\n",
       "      <td>0.000000</td>\n",
       "      <td>-0.000235</td>\n",
       "      <td>0.000000</td>\n",
       "    </tr>\n",
       "    <tr>\n",
       "      <th>25%</th>\n",
       "      <td>0.000000</td>\n",
       "      <td>0.000000</td>\n",
       "      <td>-0.006853</td>\n",
       "      <td>0.000320</td>\n",
       "      <td>-0.000542</td>\n",
       "      <td>0.000000</td>\n",
       "      <td>0.000000</td>\n",
       "      <td>0.000128</td>\n",
       "      <td>0.000000</td>\n",
       "      <td>0.000365</td>\n",
       "      <td>...</td>\n",
       "      <td>-0.000156</td>\n",
       "      <td>0.000070</td>\n",
       "      <td>0.000069</td>\n",
       "      <td>0.000000</td>\n",
       "      <td>0.000054</td>\n",
       "      <td>0.000062</td>\n",
       "      <td>-0.000293</td>\n",
       "      <td>0.000000</td>\n",
       "      <td>0.000056</td>\n",
       "      <td>0.000000</td>\n",
       "    </tr>\n",
       "    <tr>\n",
       "      <th>50%</th>\n",
       "      <td>0.000031</td>\n",
       "      <td>0.000000</td>\n",
       "      <td>-0.001728</td>\n",
       "      <td>0.000333</td>\n",
       "      <td>0.000000</td>\n",
       "      <td>0.000035</td>\n",
       "      <td>0.000045</td>\n",
       "      <td>0.000420</td>\n",
       "      <td>0.000280</td>\n",
       "      <td>0.000542</td>\n",
       "      <td>...</td>\n",
       "      <td>0.000000</td>\n",
       "      <td>0.000333</td>\n",
       "      <td>0.000118</td>\n",
       "      <td>0.000471</td>\n",
       "      <td>0.000142</td>\n",
       "      <td>0.000590</td>\n",
       "      <td>0.000102</td>\n",
       "      <td>0.001311</td>\n",
       "      <td>0.000289</td>\n",
       "      <td>0.000369</td>\n",
       "    </tr>\n",
       "    <tr>\n",
       "      <th>75%</th>\n",
       "      <td>0.000363</td>\n",
       "      <td>0.000440</td>\n",
       "      <td>0.000013</td>\n",
       "      <td>0.001084</td>\n",
       "      <td>0.000513</td>\n",
       "      <td>0.000228</td>\n",
       "      <td>0.000858</td>\n",
       "      <td>0.001677</td>\n",
       "      <td>0.000982</td>\n",
       "      <td>0.001556</td>\n",
       "      <td>...</td>\n",
       "      <td>0.000548</td>\n",
       "      <td>0.001334</td>\n",
       "      <td>0.002228</td>\n",
       "      <td>0.001700</td>\n",
       "      <td>0.000783</td>\n",
       "      <td>0.000643</td>\n",
       "      <td>0.000481</td>\n",
       "      <td>0.002183</td>\n",
       "      <td>0.001113</td>\n",
       "      <td>0.004267</td>\n",
       "    </tr>\n",
       "    <tr>\n",
       "      <th>max</th>\n",
       "      <td>0.005123</td>\n",
       "      <td>0.003531</td>\n",
       "      <td>0.000197</td>\n",
       "      <td>0.001181</td>\n",
       "      <td>0.001009</td>\n",
       "      <td>0.001193</td>\n",
       "      <td>0.001377</td>\n",
       "      <td>0.002552</td>\n",
       "      <td>0.003060</td>\n",
       "      <td>0.002971</td>\n",
       "      <td>...</td>\n",
       "      <td>0.004006</td>\n",
       "      <td>0.002569</td>\n",
       "      <td>0.003594</td>\n",
       "      <td>0.003785</td>\n",
       "      <td>0.001064</td>\n",
       "      <td>0.000982</td>\n",
       "      <td>0.002770</td>\n",
       "      <td>0.003926</td>\n",
       "      <td>0.004365</td>\n",
       "      <td>0.008641</td>\n",
       "    </tr>\n",
       "  </tbody>\n",
       "</table>\n",
       "<p>8 rows × 22 columns</p>\n",
       "</div>"
      ],
      "text/plain": [
       "       B cells naive  B cells memory  Plasma cells  T cells CD8  \\\n",
       "count       5.000000        5.000000      5.000000     5.000000   \n",
       "mean        0.001008        0.000738     -0.003085     0.000604   \n",
       "std         0.002320        0.001582      0.003612     0.000493   \n",
       "min        -0.000479       -0.000280     -0.007056     0.000100   \n",
       "25%         0.000000        0.000000     -0.006853     0.000320   \n",
       "50%         0.000031        0.000000     -0.001728     0.000333   \n",
       "75%         0.000363        0.000440      0.000013     0.001084   \n",
       "max         0.005123        0.003531      0.000197     0.001181   \n",
       "\n",
       "       T cells CD4 naive  T cells CD4 memory resting  \\\n",
       "count           5.000000                    5.000000   \n",
       "mean           -0.000225                    0.000291   \n",
       "std             0.001199                    0.000513   \n",
       "min            -0.002105                    0.000000   \n",
       "25%            -0.000542                    0.000000   \n",
       "50%             0.000000                    0.000035   \n",
       "75%             0.000513                    0.000228   \n",
       "max             0.001009                    0.001193   \n",
       "\n",
       "       T cells CD4 memory activated  T cells follicular helper  \\\n",
       "count                      5.000000                   5.000000   \n",
       "mean                       0.000061                   0.000957   \n",
       "std                        0.001275                   0.001111   \n",
       "min                       -0.001973                   0.000010   \n",
       "25%                        0.000000                   0.000128   \n",
       "50%                        0.000045                   0.000420   \n",
       "75%                        0.000858                   0.001677   \n",
       "max                        0.001377                   0.002552   \n",
       "\n",
       "       T cells regulatory (Tregs)  T cells gamma delta     ...       \\\n",
       "count                    5.000000             5.000000     ...        \n",
       "mean                     0.000639             0.001087     ...        \n",
       "std                      0.001552             0.001201     ...        \n",
       "min                     -0.001128             0.000000     ...        \n",
       "25%                      0.000000             0.000365     ...        \n",
       "50%                      0.000280             0.000542     ...        \n",
       "75%                      0.000982             0.001556     ...        \n",
       "max                      0.003060             0.002971     ...        \n",
       "\n",
       "       Monocytes  Macrophages M0  Macrophages M1  Macrophages M2  \\\n",
       "count   5.000000        5.000000        5.000000        5.000000   \n",
       "mean    0.000816        0.000861        0.001202        0.001178   \n",
       "std     0.001812        0.001094        0.001634        0.001620   \n",
       "min    -0.000316        0.000000        0.000000       -0.000065   \n",
       "25%    -0.000156        0.000070        0.000069        0.000000   \n",
       "50%     0.000000        0.000333        0.000118        0.000471   \n",
       "75%     0.000548        0.001334        0.002228        0.001700   \n",
       "max     0.004006        0.002569        0.003594        0.003785   \n",
       "\n",
       "       Dendritic cells resting  Dendritic cells activated  Mast cells resting  \\\n",
       "count                 5.000000                   5.000000            5.000000   \n",
       "mean                  0.000328                   0.000456            0.000546   \n",
       "std                   0.000590                   0.000416            0.001287   \n",
       "min                  -0.000404                   0.000000           -0.000330   \n",
       "25%                   0.000054                   0.000062           -0.000293   \n",
       "50%                   0.000142                   0.000590            0.000102   \n",
       "75%                   0.000783                   0.000643            0.000481   \n",
       "max                   0.001064                   0.000982            0.002770   \n",
       "\n",
       "       Mast cells activated  Eosinophils  Neutrophils  \n",
       "count              5.000000     5.000000     5.000000  \n",
       "mean               0.001484     0.001118     0.002655  \n",
       "std                0.001650     0.001883     0.003800  \n",
       "min                0.000000    -0.000235     0.000000  \n",
       "25%                0.000000     0.000056     0.000000  \n",
       "50%                0.001311     0.000289     0.000369  \n",
       "75%                0.002183     0.001113     0.004267  \n",
       "max                0.003926     0.004365     0.008641  \n",
       "\n",
       "[8 rows x 22 columns]"
      ]
     },
     "execution_count": 34,
     "metadata": {},
     "output_type": "execute_result"
    }
   ],
   "source": [
    "print 'absolute difference from ground truth, summarized by column:'\n",
    "(example_result_dat - example_gt).describe()"
   ]
  },
  {
   "cell_type": "code",
   "execution_count": 31,
   "metadata": {
    "collapsed": false,
    "run_control": {
     "frozen": false,
     "read_only": false
    }
   },
   "outputs": [
    {
     "name": "stdout",
     "output_type": "stream",
     "text": [
      "correlation between GT and estimate per cell type\n"
     ]
    },
    {
     "data": {
      "text/plain": [
       "B cells naive                   0.999764\n",
       "B cells memory                  0.999822\n",
       "Plasma cells                    0.999869\n",
       "T cells CD8                     0.999994\n",
       "T cells CD4 naive               0.999906\n",
       "T cells CD4 memory resting      0.999990\n",
       "T cells CD4 memory activated    0.999612\n",
       "T cells follicular helper       0.999933\n",
       "T cells regulatory (Tregs)      0.999170\n",
       "T cells gamma delta             0.999929\n",
       "NK cells resting                0.999747\n",
       "NK cells activated              0.999978\n",
       "Monocytes                       0.999778\n",
       "Macrophages M0                  0.999998\n",
       "Macrophages M1                  0.999833\n",
       "Macrophages M2                  0.999966\n",
       "Dendritic cells resting         0.999822\n",
       "Dendritic cells activated       0.999964\n",
       "Mast cells resting              0.999240\n",
       "Mast cells activated            0.999791\n",
       "Eosinophils                     0.999886\n",
       "Neutrophils                     0.999937\n",
       "dtype: float64"
      ]
     },
     "execution_count": 31,
     "metadata": {},
     "output_type": "execute_result"
    }
   ],
   "source": [
    "print 'correlation between GT and estimate per cell type'\n",
    "example_result_dat.corrwith(example_gt)"
   ]
  },
  {
   "cell_type": "code",
   "execution_count": 32,
   "metadata": {
    "collapsed": false,
    "run_control": {
     "frozen": false,
     "read_only": false
    }
   },
   "outputs": [
    {
     "name": "stdout",
     "output_type": "stream",
     "text": [
      "correlation between GT and estimate per mixture\n"
     ]
    },
    {
     "data": {
      "text/plain": [
       "0    0.999494\n",
       "1    0.999833\n",
       "2    0.999923\n",
       "3    0.999856\n",
       "4    0.999884\n",
       "dtype: float64"
      ]
     },
     "execution_count": 32,
     "metadata": {},
     "output_type": "execute_result"
    }
   ],
   "source": [
    "print 'correlation between GT and estimate per mixture'\n",
    "example_result_dat.corrwith(example_gt, axis=1)"
   ]
  },
  {
   "cell_type": "code",
   "execution_count": 296,
   "metadata": {
    "collapsed": false,
    "run_control": {
     "frozen": false,
     "read_only": false
    }
   },
   "outputs": [
    {
     "name": "stdout",
     "output_type": "stream",
     "text": [
      "RMSE \t R^2 \t per mixture\n",
      "0.0018 \t 0.9989\n",
      "0.0015 \t 0.9994\n",
      "0.0029 \t 0.9968\n",
      "0.0019 \t 0.9989\n",
      "0.0025 \t 0.9976\n"
     ]
    }
   ],
   "source": [
    "print 'RMSE \\t R^2 \\t per mixture'\n",
    "from sklearn.metrics import mean_squared_error as mse, r2_score\n",
    "for (_, y_true),(_, y_pred) in zip(example_gt.iterrows(), example_result_dat.iterrows()):\n",
    "    print '%0.4f \\t %0.4f' % (np.sqrt(mse(y_true, y_pred)), r2_score(y_true, y_pred))"
   ]
  },
  {
   "cell_type": "code",
   "execution_count": 145,
   "metadata": {
    "collapsed": false,
    "run_control": {
     "frozen": false,
     "read_only": false
    }
   },
   "outputs": [
    {
     "name": "stdout",
     "output_type": "stream",
     "text": [
      "P vals are all 0\n"
     ]
    },
    {
     "data": {
      "text/plain": [
       "0    0.0\n",
       "1    0.0\n",
       "2    0.0\n",
       "3    0.0\n",
       "4    0.0\n",
       "Name: P-value, dtype: float64"
      ]
     },
     "execution_count": 145,
     "metadata": {},
     "output_type": "execute_result"
    }
   ],
   "source": [
    "print 'P vals are all 0'\n",
    "example_result['P-value']"
   ]
  },
  {
   "cell_type": "markdown",
   "metadata": {},
   "source": [
    "#### Investigating how to make a mixture like this\n",
    "\n",
    "Sanity checking the weighted sum"
   ]
  },
  {
   "cell_type": "code",
   "execution_count": 7,
   "metadata": {
    "ExecuteTime": {
     "end_time": "2016-07-05T12:02:52.897191",
     "start_time": "2016-07-05T12:02:52.801902"
    },
    "collapsed": false,
    "run_control": {
     "frozen": false,
     "read_only": false
    }
   },
   "outputs": [
    {
     "name": "stdout",
     "output_type": "stream",
     "text": [
      "(547, 22)\n"
     ]
    },
    {
     "data": {
      "text/html": [
       "<div>\n",
       "<table border=\"1\" class=\"dataframe\">\n",
       "  <thead>\n",
       "    <tr style=\"text-align: right;\">\n",
       "      <th></th>\n",
       "      <th>B cells naive</th>\n",
       "      <th>B cells memory</th>\n",
       "      <th>Plasma cells</th>\n",
       "      <th>T cells CD8</th>\n",
       "      <th>T cells CD4 naive</th>\n",
       "      <th>T cells CD4 memory resting</th>\n",
       "      <th>T cells CD4 memory activated</th>\n",
       "      <th>T cells follicular helper</th>\n",
       "      <th>T cells regulatory (Tregs)</th>\n",
       "      <th>T cells gamma delta</th>\n",
       "      <th>...</th>\n",
       "      <th>Monocytes</th>\n",
       "      <th>Macrophages M0</th>\n",
       "      <th>Macrophages M1</th>\n",
       "      <th>Macrophages M2</th>\n",
       "      <th>Dendritic cells resting</th>\n",
       "      <th>Dendritic cells activated</th>\n",
       "      <th>Mast cells resting</th>\n",
       "      <th>Mast cells activated</th>\n",
       "      <th>Eosinophils</th>\n",
       "      <th>Neutrophils</th>\n",
       "    </tr>\n",
       "    <tr>\n",
       "      <th>Gene symbol</th>\n",
       "      <th></th>\n",
       "      <th></th>\n",
       "      <th></th>\n",
       "      <th></th>\n",
       "      <th></th>\n",
       "      <th></th>\n",
       "      <th></th>\n",
       "      <th></th>\n",
       "      <th></th>\n",
       "      <th></th>\n",
       "      <th></th>\n",
       "      <th></th>\n",
       "      <th></th>\n",
       "      <th></th>\n",
       "      <th></th>\n",
       "      <th></th>\n",
       "      <th></th>\n",
       "      <th></th>\n",
       "      <th></th>\n",
       "      <th></th>\n",
       "      <th></th>\n",
       "    </tr>\n",
       "  </thead>\n",
       "  <tbody>\n",
       "    <tr>\n",
       "      <th>ABCB4</th>\n",
       "      <td>555.713449</td>\n",
       "      <td>10.744235</td>\n",
       "      <td>7.225819</td>\n",
       "      <td>4.311280</td>\n",
       "      <td>4.605860</td>\n",
       "      <td>7.406442</td>\n",
       "      <td>8.043976</td>\n",
       "      <td>6.469993</td>\n",
       "      <td>7.833082</td>\n",
       "      <td>9.312295</td>\n",
       "      <td>...</td>\n",
       "      <td>6.202496</td>\n",
       "      <td>7.951360</td>\n",
       "      <td>27.557710</td>\n",
       "      <td>121.432277</td>\n",
       "      <td>114.636747</td>\n",
       "      <td>4.872184</td>\n",
       "      <td>4.727985</td>\n",
       "      <td>34.113659</td>\n",
       "      <td>15.030530</td>\n",
       "      <td>14.906888</td>\n",
       "    </tr>\n",
       "    <tr>\n",
       "      <th>ABCB9</th>\n",
       "      <td>15.603544</td>\n",
       "      <td>22.094787</td>\n",
       "      <td>653.392328</td>\n",
       "      <td>24.223723</td>\n",
       "      <td>35.671507</td>\n",
       "      <td>30.048192</td>\n",
       "      <td>38.455423</td>\n",
       "      <td>17.604795</td>\n",
       "      <td>46.073657</td>\n",
       "      <td>19.715722</td>\n",
       "      <td>...</td>\n",
       "      <td>20.309426</td>\n",
       "      <td>56.251887</td>\n",
       "      <td>29.380878</td>\n",
       "      <td>40.390260</td>\n",
       "      <td>123.993305</td>\n",
       "      <td>23.384603</td>\n",
       "      <td>53.466757</td>\n",
       "      <td>23.615746</td>\n",
       "      <td>29.786442</td>\n",
       "      <td>33.679147</td>\n",
       "    </tr>\n",
       "    <tr>\n",
       "      <th>ACAP1</th>\n",
       "      <td>215.305951</td>\n",
       "      <td>321.621021</td>\n",
       "      <td>38.616872</td>\n",
       "      <td>1055.613378</td>\n",
       "      <td>1790.097170</td>\n",
       "      <td>922.152747</td>\n",
       "      <td>340.883424</td>\n",
       "      <td>1107.798265</td>\n",
       "      <td>1995.482601</td>\n",
       "      <td>280.075719</td>\n",
       "      <td>...</td>\n",
       "      <td>190.879024</td>\n",
       "      <td>48.972217</td>\n",
       "      <td>30.974254</td>\n",
       "      <td>23.055150</td>\n",
       "      <td>61.386550</td>\n",
       "      <td>26.412923</td>\n",
       "      <td>104.200198</td>\n",
       "      <td>73.607932</td>\n",
       "      <td>696.442802</td>\n",
       "      <td>596.025961</td>\n",
       "    </tr>\n",
       "    <tr>\n",
       "      <th>ACHE</th>\n",
       "      <td>15.117949</td>\n",
       "      <td>16.648847</td>\n",
       "      <td>22.123737</td>\n",
       "      <td>13.428288</td>\n",
       "      <td>27.187732</td>\n",
       "      <td>18.444927</td>\n",
       "      <td>13.441268</td>\n",
       "      <td>14.805542</td>\n",
       "      <td>24.652712</td>\n",
       "      <td>33.658448</td>\n",
       "      <td>...</td>\n",
       "      <td>16.375268</td>\n",
       "      <td>13.692963</td>\n",
       "      <td>1373.069620</td>\n",
       "      <td>48.585761</td>\n",
       "      <td>16.715474</td>\n",
       "      <td>193.159977</td>\n",
       "      <td>13.948778</td>\n",
       "      <td>20.501249</td>\n",
       "      <td>40.414927</td>\n",
       "      <td>22.766494</td>\n",
       "    </tr>\n",
       "    <tr>\n",
       "      <th>ACP5</th>\n",
       "      <td>605.897384</td>\n",
       "      <td>1935.201479</td>\n",
       "      <td>1120.104684</td>\n",
       "      <td>306.312519</td>\n",
       "      <td>744.656599</td>\n",
       "      <td>557.819820</td>\n",
       "      <td>248.546932</td>\n",
       "      <td>711.949744</td>\n",
       "      <td>958.916018</td>\n",
       "      <td>493.969120</td>\n",
       "      <td>...</td>\n",
       "      <td>512.931382</td>\n",
       "      <td>13644.172300</td>\n",
       "      <td>1062.475909</td>\n",
       "      <td>7633.960182</td>\n",
       "      <td>13825.053630</td>\n",
       "      <td>3989.865169</td>\n",
       "      <td>263.497930</td>\n",
       "      <td>323.381277</td>\n",
       "      <td>860.563374</td>\n",
       "      <td>307.142798</td>\n",
       "    </tr>\n",
       "  </tbody>\n",
       "</table>\n",
       "<p>5 rows × 22 columns</p>\n",
       "</div>"
      ],
      "text/plain": [
       "             B cells naive  B cells memory  Plasma cells  T cells CD8  \\\n",
       "Gene symbol                                                             \n",
       "ABCB4           555.713449       10.744235      7.225819     4.311280   \n",
       "ABCB9            15.603544       22.094787    653.392328    24.223723   \n",
       "ACAP1           215.305951      321.621021     38.616872  1055.613378   \n",
       "ACHE             15.117949       16.648847     22.123737    13.428288   \n",
       "ACP5            605.897384     1935.201479   1120.104684   306.312519   \n",
       "\n",
       "             T cells CD4 naive  T cells CD4 memory resting  \\\n",
       "Gene symbol                                                  \n",
       "ABCB4                 4.605860                    7.406442   \n",
       "ABCB9                35.671507                   30.048192   \n",
       "ACAP1              1790.097170                  922.152747   \n",
       "ACHE                 27.187732                   18.444927   \n",
       "ACP5                744.656599                  557.819820   \n",
       "\n",
       "             T cells CD4 memory activated  T cells follicular helper  \\\n",
       "Gene symbol                                                            \n",
       "ABCB4                            8.043976                   6.469993   \n",
       "ABCB9                           38.455423                  17.604795   \n",
       "ACAP1                          340.883424                1107.798265   \n",
       "ACHE                            13.441268                  14.805542   \n",
       "ACP5                           248.546932                 711.949744   \n",
       "\n",
       "             T cells regulatory (Tregs)  T cells gamma delta     ...       \\\n",
       "Gene symbol                                                      ...        \n",
       "ABCB4                          7.833082             9.312295     ...        \n",
       "ABCB9                         46.073657            19.715722     ...        \n",
       "ACAP1                       1995.482601           280.075719     ...        \n",
       "ACHE                          24.652712            33.658448     ...        \n",
       "ACP5                         958.916018           493.969120     ...        \n",
       "\n",
       "              Monocytes  Macrophages M0  Macrophages M1  Macrophages M2  \\\n",
       "Gene symbol                                                               \n",
       "ABCB4          6.202496        7.951360       27.557710      121.432277   \n",
       "ABCB9         20.309426       56.251887       29.380878       40.390260   \n",
       "ACAP1        190.879024       48.972217       30.974254       23.055150   \n",
       "ACHE          16.375268       13.692963     1373.069620       48.585761   \n",
       "ACP5         512.931382    13644.172300     1062.475909     7633.960182   \n",
       "\n",
       "             Dendritic cells resting  Dendritic cells activated  \\\n",
       "Gene symbol                                                       \n",
       "ABCB4                     114.636747                   4.872184   \n",
       "ABCB9                     123.993305                  23.384603   \n",
       "ACAP1                      61.386550                  26.412923   \n",
       "ACHE                       16.715474                 193.159977   \n",
       "ACP5                    13825.053630                3989.865169   \n",
       "\n",
       "             Mast cells resting  Mast cells activated  Eosinophils  \\\n",
       "Gene symbol                                                          \n",
       "ABCB4                  4.727985             34.113659    15.030530   \n",
       "ABCB9                 53.466757             23.615746    29.786442   \n",
       "ACAP1                104.200198             73.607932   696.442802   \n",
       "ACHE                  13.948778             20.501249    40.414927   \n",
       "ACP5                 263.497930            323.381277   860.563374   \n",
       "\n",
       "             Neutrophils  \n",
       "Gene symbol               \n",
       "ABCB4          14.906888  \n",
       "ABCB9          33.679147  \n",
       "ACAP1         596.025961  \n",
       "ACHE           22.766494  \n",
       "ACP5          307.142798  \n",
       "\n",
       "[5 rows x 22 columns]"
      ]
     },
     "execution_count": 7,
     "metadata": {},
     "output_type": "execute_result"
    }
   ],
   "source": [
    "reference = pd.read_csv('LM22.txt', sep='\\t').set_index('Gene symbol')\n",
    "print reference.shape\n",
    "reference.head()"
   ]
  },
  {
   "cell_type": "code",
   "execution_count": 79,
   "metadata": {
    "collapsed": false,
    "run_control": {
     "frozen": false,
     "read_only": false
    }
   },
   "outputs": [
    {
     "name": "stdout",
     "output_type": "stream",
     "text": [
      "weights (mixture 1)\n"
     ]
    },
    {
     "data": {
      "text/plain": [
       "B cells naive                   0.180363\n",
       "B cells memory                  0.159720\n",
       "Plasma cells                    0.122944\n",
       "T cells CD8                     0.111181\n",
       "T cells CD4 naive               0.087895\n",
       "T cells CD4 memory resting      0.071193\n",
       "T cells CD4 memory activated    0.061377\n",
       "T cells follicular helper       0.052552\n",
       "T cells regulatory (Tregs)      0.038872\n",
       "T cells gamma delta             0.031556\n",
       "NK cells resting                0.019968\n",
       "NK cells activated              0.019982\n",
       "Monocytes                       0.010548\n",
       "Macrophages M0                  0.010333\n",
       "Macrophages M1                  0.010069\n",
       "Macrophages M2                  0.010471\n",
       "Dendritic cells resting         0.000142\n",
       "Dendritic cells activated       0.000062\n",
       "Mast cells resting              0.000481\n",
       "Mast cells activated            0.000000\n",
       "Eosinophils                     0.000289\n",
       "Neutrophils                     0.000000\n",
       "Name: 0, dtype: float64"
      ]
     },
     "execution_count": 79,
     "metadata": {},
     "output_type": "execute_result"
    }
   ],
   "source": [
    "print 'weights (mixture 1)'\n",
    "example_result_dat.iloc[0]"
   ]
  },
  {
   "cell_type": "code",
   "execution_count": 50,
   "metadata": {
    "collapsed": false,
    "run_control": {
     "frozen": false,
     "read_only": false
    }
   },
   "outputs": [
    {
     "name": "stdout",
     "output_type": "stream",
     "text": [
      "reweighted\n"
     ]
    },
    {
     "data": {
      "text/html": [
       "<div>\n",
       "<table border=\"1\" class=\"dataframe\">\n",
       "  <thead>\n",
       "    <tr style=\"text-align: right;\">\n",
       "      <th></th>\n",
       "      <th>B cells naive</th>\n",
       "      <th>B cells memory</th>\n",
       "      <th>Plasma cells</th>\n",
       "      <th>T cells CD8</th>\n",
       "      <th>T cells CD4 naive</th>\n",
       "      <th>T cells CD4 memory resting</th>\n",
       "      <th>T cells CD4 memory activated</th>\n",
       "      <th>T cells follicular helper</th>\n",
       "      <th>T cells regulatory (Tregs)</th>\n",
       "      <th>T cells gamma delta</th>\n",
       "      <th>...</th>\n",
       "      <th>Monocytes</th>\n",
       "      <th>Macrophages M0</th>\n",
       "      <th>Macrophages M1</th>\n",
       "      <th>Macrophages M2</th>\n",
       "      <th>Dendritic cells resting</th>\n",
       "      <th>Dendritic cells activated</th>\n",
       "      <th>Mast cells resting</th>\n",
       "      <th>Mast cells activated</th>\n",
       "      <th>Eosinophils</th>\n",
       "      <th>Neutrophils</th>\n",
       "    </tr>\n",
       "    <tr>\n",
       "      <th>Gene symbol</th>\n",
       "      <th></th>\n",
       "      <th></th>\n",
       "      <th></th>\n",
       "      <th></th>\n",
       "      <th></th>\n",
       "      <th></th>\n",
       "      <th></th>\n",
       "      <th></th>\n",
       "      <th></th>\n",
       "      <th></th>\n",
       "      <th></th>\n",
       "      <th></th>\n",
       "      <th></th>\n",
       "      <th></th>\n",
       "      <th></th>\n",
       "      <th></th>\n",
       "      <th></th>\n",
       "      <th></th>\n",
       "      <th></th>\n",
       "      <th></th>\n",
       "      <th></th>\n",
       "    </tr>\n",
       "  </thead>\n",
       "  <tbody>\n",
       "    <tr>\n",
       "      <th>ABCB4</th>\n",
       "      <td>100.230412</td>\n",
       "      <td>1.716071</td>\n",
       "      <td>0.888374</td>\n",
       "      <td>0.479333</td>\n",
       "      <td>0.404831</td>\n",
       "      <td>0.527285</td>\n",
       "      <td>0.493713</td>\n",
       "      <td>0.340008</td>\n",
       "      <td>0.304489</td>\n",
       "      <td>0.293860</td>\n",
       "      <td>...</td>\n",
       "      <td>0.065426</td>\n",
       "      <td>0.082164</td>\n",
       "      <td>0.277469</td>\n",
       "      <td>1.271503</td>\n",
       "      <td>0.016319</td>\n",
       "      <td>0.000305</td>\n",
       "      <td>0.002273</td>\n",
       "      <td>0.0</td>\n",
       "      <td>0.004351</td>\n",
       "      <td>0.0</td>\n",
       "    </tr>\n",
       "    <tr>\n",
       "      <th>ABCB9</th>\n",
       "      <td>2.814309</td>\n",
       "      <td>3.528983</td>\n",
       "      <td>80.330907</td>\n",
       "      <td>2.693221</td>\n",
       "      <td>3.135338</td>\n",
       "      <td>2.139214</td>\n",
       "      <td>2.360267</td>\n",
       "      <td>0.925159</td>\n",
       "      <td>1.790981</td>\n",
       "      <td>0.622153</td>\n",
       "      <td>...</td>\n",
       "      <td>0.214231</td>\n",
       "      <td>0.581269</td>\n",
       "      <td>0.295826</td>\n",
       "      <td>0.422922</td>\n",
       "      <td>0.017651</td>\n",
       "      <td>0.001462</td>\n",
       "      <td>0.025709</td>\n",
       "      <td>0.0</td>\n",
       "      <td>0.008622</td>\n",
       "      <td>0.0</td>\n",
       "    </tr>\n",
       "    <tr>\n",
       "      <th>ACAP1</th>\n",
       "      <td>38.833331</td>\n",
       "      <td>51.369365</td>\n",
       "      <td>4.747727</td>\n",
       "      <td>117.364310</td>\n",
       "      <td>157.340158</td>\n",
       "      <td>65.650607</td>\n",
       "      <td>20.922301</td>\n",
       "      <td>58.216484</td>\n",
       "      <td>77.568657</td>\n",
       "      <td>8.838116</td>\n",
       "      <td>...</td>\n",
       "      <td>2.013458</td>\n",
       "      <td>0.506045</td>\n",
       "      <td>0.311869</td>\n",
       "      <td>0.241408</td>\n",
       "      <td>0.008739</td>\n",
       "      <td>0.001651</td>\n",
       "      <td>0.050104</td>\n",
       "      <td>0.0</td>\n",
       "      <td>0.201587</td>\n",
       "      <td>0.0</td>\n",
       "    </tr>\n",
       "    <tr>\n",
       "      <th>ACHE</th>\n",
       "      <td>2.726726</td>\n",
       "      <td>2.659157</td>\n",
       "      <td>2.719989</td>\n",
       "      <td>1.492973</td>\n",
       "      <td>2.389659</td>\n",
       "      <td>1.313145</td>\n",
       "      <td>0.824981</td>\n",
       "      <td>0.778054</td>\n",
       "      <td>0.958303</td>\n",
       "      <td>1.062132</td>\n",
       "      <td>...</td>\n",
       "      <td>0.172732</td>\n",
       "      <td>0.141494</td>\n",
       "      <td>13.824973</td>\n",
       "      <td>0.508736</td>\n",
       "      <td>0.002380</td>\n",
       "      <td>0.012072</td>\n",
       "      <td>0.006707</td>\n",
       "      <td>0.0</td>\n",
       "      <td>0.011698</td>\n",
       "      <td>0.0</td>\n",
       "    </tr>\n",
       "    <tr>\n",
       "      <th>ACP5</th>\n",
       "      <td>109.281761</td>\n",
       "      <td>309.090718</td>\n",
       "      <td>137.710562</td>\n",
       "      <td>34.056178</td>\n",
       "      <td>65.451412</td>\n",
       "      <td>39.712737</td>\n",
       "      <td>15.254991</td>\n",
       "      <td>37.414042</td>\n",
       "      <td>37.275107</td>\n",
       "      <td>15.587771</td>\n",
       "      <td>...</td>\n",
       "      <td>5.410578</td>\n",
       "      <td>140.989550</td>\n",
       "      <td>10.697710</td>\n",
       "      <td>79.934304</td>\n",
       "      <td>1.968100</td>\n",
       "      <td>0.249364</td>\n",
       "      <td>0.126700</td>\n",
       "      <td>0.0</td>\n",
       "      <td>0.249092</td>\n",
       "      <td>0.0</td>\n",
       "    </tr>\n",
       "  </tbody>\n",
       "</table>\n",
       "<p>5 rows × 22 columns</p>\n",
       "</div>"
      ],
      "text/plain": [
       "             B cells naive  B cells memory  Plasma cells  T cells CD8  \\\n",
       "Gene symbol                                                             \n",
       "ABCB4           100.230412        1.716071      0.888374     0.479333   \n",
       "ABCB9             2.814309        3.528983     80.330907     2.693221   \n",
       "ACAP1            38.833331       51.369365      4.747727   117.364310   \n",
       "ACHE              2.726726        2.659157      2.719989     1.492973   \n",
       "ACP5            109.281761      309.090718    137.710562    34.056178   \n",
       "\n",
       "             T cells CD4 naive  T cells CD4 memory resting  \\\n",
       "Gene symbol                                                  \n",
       "ABCB4                 0.404831                    0.527285   \n",
       "ABCB9                 3.135338                    2.139214   \n",
       "ACAP1               157.340158                   65.650607   \n",
       "ACHE                  2.389659                    1.313145   \n",
       "ACP5                 65.451412                   39.712737   \n",
       "\n",
       "             T cells CD4 memory activated  T cells follicular helper  \\\n",
       "Gene symbol                                                            \n",
       "ABCB4                            0.493713                   0.340008   \n",
       "ABCB9                            2.360267                   0.925159   \n",
       "ACAP1                           20.922301                  58.216484   \n",
       "ACHE                             0.824981                   0.778054   \n",
       "ACP5                            15.254991                  37.414042   \n",
       "\n",
       "             T cells regulatory (Tregs)  T cells gamma delta     ...       \\\n",
       "Gene symbol                                                      ...        \n",
       "ABCB4                          0.304489             0.293860     ...        \n",
       "ABCB9                          1.790981             0.622153     ...        \n",
       "ACAP1                         77.568657             8.838116     ...        \n",
       "ACHE                           0.958303             1.062132     ...        \n",
       "ACP5                          37.275107            15.587771     ...        \n",
       "\n",
       "             Monocytes  Macrophages M0  Macrophages M1  Macrophages M2  \\\n",
       "Gene symbol                                                              \n",
       "ABCB4         0.065426        0.082164        0.277469        1.271503   \n",
       "ABCB9         0.214231        0.581269        0.295826        0.422922   \n",
       "ACAP1         2.013458        0.506045        0.311869        0.241408   \n",
       "ACHE          0.172732        0.141494       13.824973        0.508736   \n",
       "ACP5          5.410578      140.989550       10.697710       79.934304   \n",
       "\n",
       "             Dendritic cells resting  Dendritic cells activated  \\\n",
       "Gene symbol                                                       \n",
       "ABCB4                       0.016319                   0.000305   \n",
       "ABCB9                       0.017651                   0.001462   \n",
       "ACAP1                       0.008739                   0.001651   \n",
       "ACHE                        0.002380                   0.012072   \n",
       "ACP5                        1.968100                   0.249364   \n",
       "\n",
       "             Mast cells resting  Mast cells activated  Eosinophils  \\\n",
       "Gene symbol                                                          \n",
       "ABCB4                  0.002273                   0.0     0.004351   \n",
       "ABCB9                  0.025709                   0.0     0.008622   \n",
       "ACAP1                  0.050104                   0.0     0.201587   \n",
       "ACHE                   0.006707                   0.0     0.011698   \n",
       "ACP5                   0.126700                   0.0     0.249092   \n",
       "\n",
       "             Neutrophils  \n",
       "Gene symbol               \n",
       "ABCB4                0.0  \n",
       "ABCB9                0.0  \n",
       "ACAP1                0.0  \n",
       "ACHE                 0.0  \n",
       "ACP5                 0.0  \n",
       "\n",
       "[5 rows x 22 columns]"
      ]
     },
     "execution_count": 50,
     "metadata": {},
     "output_type": "execute_result"
    }
   ],
   "source": [
    "print 'reweighted'\n",
    "(example_result_dat.iloc[0] * reference).head()"
   ]
  },
  {
   "cell_type": "code",
   "execution_count": 67,
   "metadata": {
    "collapsed": false,
    "run_control": {
     "frozen": false,
     "read_only": false
    }
   },
   "outputs": [
    {
     "name": "stdout",
     "output_type": "stream",
     "text": [
      "reconstructed mixture\n",
      "(547,)\n"
     ]
    },
    {
     "data": {
      "text/plain": [
       "Gene symbol\n",
       "ABCB4     107.762461\n",
       "ABCB9     102.672434\n",
       "ACAP1     622.167104\n",
       "ACHE       32.207042\n",
       "ACP5     1052.047536\n",
       "dtype: float64"
      ]
     },
     "execution_count": 67,
     "metadata": {},
     "output_type": "execute_result"
    }
   ],
   "source": [
    "print 'reconstructed mixture'\n",
    "mix=(example_result_dat.iloc[0] * reference).sum(axis=1)\n",
    "print mix.shape\n",
    "mix.head()"
   ]
  },
  {
   "cell_type": "code",
   "execution_count": 68,
   "metadata": {
    "collapsed": false,
    "run_control": {
     "frozen": false,
     "read_only": false
    }
   },
   "outputs": [
    {
     "name": "stdout",
     "output_type": "stream",
     "text": [
      "actual input mixture\n",
      "(11866,)\n"
     ]
    },
    {
     "data": {
      "text/plain": [
       "GeneSymbol\n",
       "A1CF      317.722091\n",
       "A2M       151.455508\n",
       "A4GALT     73.512724\n",
       "A4GNT     288.295490\n",
       "AAAS      108.864797\n",
       "Name: Mix1, dtype: float64"
      ]
     },
     "execution_count": 68,
     "metadata": {},
     "output_type": "execute_result"
    }
   ],
   "source": [
    "print 'actual input mixture'\n",
    "input_mixture = pd.read_csv('~/CIBERSORT_package/ExampleMixtures-GEPs.txt', sep='\\t').set_index('GeneSymbol')['Mix1']\n",
    "print input_mixture.shape\n",
    "input_mixture.head()"
   ]
  },
  {
   "cell_type": "code",
   "execution_count": 66,
   "metadata": {
    "collapsed": false,
    "run_control": {
     "frozen": false,
     "read_only": false
    }
   },
   "outputs": [
    {
     "data": {
      "text/html": [
       "<div>\n",
       "<table border=\"1\" class=\"dataframe\">\n",
       "  <thead>\n",
       "    <tr style=\"text-align: right;\">\n",
       "      <th></th>\n",
       "      <th>0</th>\n",
       "      <th>Mix1</th>\n",
       "    </tr>\n",
       "  </thead>\n",
       "  <tbody>\n",
       "    <tr>\n",
       "      <th>ABCB4</th>\n",
       "      <td>107.762461</td>\n",
       "      <td>107.030333</td>\n",
       "    </tr>\n",
       "    <tr>\n",
       "      <th>ABCB9</th>\n",
       "      <td>102.672434</td>\n",
       "      <td>106.405051</td>\n",
       "    </tr>\n",
       "    <tr>\n",
       "      <th>ACAP1</th>\n",
       "      <td>622.167104</td>\n",
       "      <td>622.065301</td>\n",
       "    </tr>\n",
       "    <tr>\n",
       "      <th>ACHE</th>\n",
       "      <td>32.207042</td>\n",
       "      <td>32.112930</td>\n",
       "    </tr>\n",
       "    <tr>\n",
       "      <th>ACP5</th>\n",
       "      <td>1052.047536</td>\n",
       "      <td>1045.560791</td>\n",
       "    </tr>\n",
       "  </tbody>\n",
       "</table>\n",
       "</div>"
      ],
      "text/plain": [
       "                 0         Mix1\n",
       "ABCB4   107.762461   107.030333\n",
       "ABCB9   102.672434   106.405051\n",
       "ACAP1   622.167104   622.065301\n",
       "ACHE     32.207042    32.112930\n",
       "ACP5   1052.047536  1045.560791"
      ]
     },
     "execution_count": 66,
     "metadata": {},
     "output_type": "execute_result"
    }
   ],
   "source": [
    "intersect = pd.merge(pd.DataFrame(mix),pd.DataFrame(input_mixture), left_index=True, right_index=True, how='inner')\n",
    "intersect.head()"
   ]
  },
  {
   "cell_type": "code",
   "execution_count": 72,
   "metadata": {
    "collapsed": false,
    "run_control": {
     "frozen": false,
     "read_only": false
    }
   },
   "outputs": [
    {
     "name": "stdout",
     "output_type": "stream",
     "text": [
      "absolute differences\n"
     ]
    },
    {
     "data": {
      "text/plain": [
       "<matplotlib.axes._subplots.AxesSubplot at 0x7fd2a1f49d90>"
      ]
     },
     "execution_count": 72,
     "metadata": {},
     "output_type": "execute_result"
    },
    {
     "data": {
      "image/png": "[encoded data removed]",
      "text/plain": [
       "<matplotlib.figure.Figure at 0x7fd2a1f49ad0>"
      ]
     },
     "metadata": {},
     "output_type": "display_data"
    }
   ],
   "source": [
    "print 'absolute differences'\n",
    "(intersect.diff(axis=1)['Mix1']).hist()"
   ]
  },
  {
   "cell_type": "code",
   "execution_count": 78,
   "metadata": {
    "collapsed": false,
    "run_control": {
     "frozen": false,
     "read_only": false
    }
   },
   "outputs": [
    {
     "name": "stdout",
     "output_type": "stream",
     "text": [
      "correlation\n"
     ]
    },
    {
     "data": {
      "text/html": [
       "<div>\n",
       "<table border=\"1\" class=\"dataframe\">\n",
       "  <thead>\n",
       "    <tr style=\"text-align: right;\">\n",
       "      <th></th>\n",
       "      <th>0</th>\n",
       "      <th>Mix1</th>\n",
       "    </tr>\n",
       "  </thead>\n",
       "  <tbody>\n",
       "    <tr>\n",
       "      <th>0</th>\n",
       "      <td>1.000000</td>\n",
       "      <td>0.999914</td>\n",
       "    </tr>\n",
       "    <tr>\n",
       "      <th>Mix1</th>\n",
       "      <td>0.999914</td>\n",
       "      <td>1.000000</td>\n",
       "    </tr>\n",
       "  </tbody>\n",
       "</table>\n",
       "</div>"
      ],
      "text/plain": [
       "             0      Mix1\n",
       "0     1.000000  0.999914\n",
       "Mix1  0.999914  1.000000"
      ]
     },
     "execution_count": 78,
     "metadata": {},
     "output_type": "execute_result"
    }
   ],
   "source": [
    "print 'correlation'\n",
    "intersect.corr()"
   ]
  },
  {
   "cell_type": "markdown",
   "metadata": {},
   "source": [
    "0 is the reconstructed mixture from Cibersort's output; Mix1 is the actual input mixture.\n",
    "\n",
    "We just sanity checked the weighted sum: absolute differences are small, and correlation is very high\n"
   ]
  },
  {
   "cell_type": "markdown",
   "metadata": {},
   "source": [
    "# Simple mixtures\n",
    "\n",
    "Make a fake mixture by adding:\n",
    "\n",
    "1. 2 reference profiles\n",
    "2. \" with noise -- noise is either after the weighted sum or on the weights as applied to each gene\n",
    "3. 2 raw lines from same publication\n",
    "4. \" with noise\n",
    "5. 2 raw lines from another publication\n",
    "4. \" with noise\n",
    "\n",
    "Randomly chose to do this with naive B cells and Tregs\n",
    "\n",
    "\n",
    "## reference profiles, w/o noise and w/ two types of noise"
   ]
  },
  {
   "cell_type": "code",
   "execution_count": 8,
   "metadata": {
    "ExecuteTime": {
     "end_time": "2016-07-05T12:02:59.075179",
     "start_time": "2016-07-05T12:02:59.065873"
    },
    "collapsed": false,
    "run_control": {
     "frozen": false,
     "read_only": false
    }
   },
   "outputs": [
    {
     "data": {
      "text/plain": [
       "(547, 2)"
      ]
     },
     "execution_count": 8,
     "metadata": {},
     "output_type": "execute_result"
    }
   ],
   "source": [
    "simple_cols = ['B cells naive', 'T cells regulatory (Tregs)']\n",
    "reference[simple_cols].shape"
   ]
  },
  {
   "cell_type": "code",
   "execution_count": 40,
   "metadata": {
    "collapsed": true,
    "run_control": {
     "frozen": false,
     "read_only": false
    }
   },
   "outputs": [],
   "source": [
    "!mkdir -p test_mixtures"
   ]
  },
  {
   "cell_type": "code",
   "execution_count": 9,
   "metadata": {
    "ExecuteTime": {
     "end_time": "2016-07-05T12:03:30.705526",
     "start_time": "2016-07-05T12:03:30.697523"
    },
    "collapsed": true
   },
   "outputs": [],
   "source": [
    "weights = [.2, .6]"
   ]
  },
  {
   "cell_type": "code",
   "execution_count": 82,
   "metadata": {
    "collapsed": false,
    "run_control": {
     "frozen": false,
     "read_only": false
    }
   },
   "outputs": [
    {
     "data": {
      "text/plain": [
       "Gene symbol\n",
       "ABCB4     115.842539\n",
       "ABCB9      30.764903\n",
       "ACAP1    1240.350751\n",
       "ACHE       17.815217\n",
       "ACP5      696.529088\n",
       "dtype: float64"
      ]
     },
     "execution_count": 82,
     "metadata": {},
     "output_type": "execute_result"
    }
   ],
   "source": [
    "mix1=(reference[simple_cols] * weights).sum(axis=1)\n",
    "mix1.head()"
   ]
  },
  {
   "cell_type": "code",
   "execution_count": 88,
   "metadata": {
    "collapsed": false,
    "run_control": {
     "frozen": false,
     "read_only": false
    }
   },
   "outputs": [
    {
     "data": {
      "text/plain": [
       "Gene symbol\n",
       "ABCB4     115.965707\n",
       "ABCB9      31.866382\n",
       "ACAP1    1240.885192\n",
       "ACHE       16.847922\n",
       "ACP5      694.951235\n",
       "dtype: float64"
      ]
     },
     "execution_count": 88,
     "metadata": {},
     "output_type": "execute_result"
    }
   ],
   "source": [
    "mix2 = mix1 + np.random.normal(0,1,len(mix1))\n",
    "mix2.head()"
   ]
  },
  {
   "cell_type": "code",
   "execution_count": 301,
   "metadata": {
    "ExecuteTime": {
     "end_time": "2016-06-30T16:57:39.958575",
     "start_time": "2016-06-30T16:57:39.948384"
    },
    "collapsed": false,
    "run_control": {
     "frozen": false,
     "read_only": false
    }
   },
   "outputs": [
    {
     "data": {
      "text/plain": [
       "array([[ 0.2,  0.6],\n",
       "       [ 0.2,  0.6],\n",
       "       [ 0.2,  0.6],\n",
       "       ..., \n",
       "       [ 0.2,  0.6],\n",
       "       [ 0.2,  0.6],\n",
       "       [ 0.2,  0.6]])"
      ]
     },
     "execution_count": 301,
     "metadata": {},
     "output_type": "execute_result"
    }
   ],
   "source": [
    "weights_noisy = np.reshape([.2,.6]*len(mix1), (len(mix),2))\n",
    "weights_noisy"
   ]
  },
  {
   "cell_type": "code",
   "execution_count": 302,
   "metadata": {
    "ExecuteTime": {
     "end_time": "2016-06-30T16:57:41.723978",
     "start_time": "2016-06-30T16:57:41.699247"
    },
    "collapsed": false,
    "run_control": {
     "frozen": false,
     "read_only": false
    }
   },
   "outputs": [
    {
     "data": {
      "text/plain": [
       "array([[ 0.38373975,  0.6331934 ],\n",
       "       [ 0.41694719,  0.69790007],\n",
       "       [ 0.29611709,  0.60776492],\n",
       "       ..., \n",
       "       [ 0.23247334,  0.64373996],\n",
       "       [ 0.20067109,  0.62816076],\n",
       "       [ 0.29225931,  0.62678122]])"
      ]
     },
     "execution_count": 302,
     "metadata": {},
     "output_type": "execute_result"
    }
   ],
   "source": [
    "weights_noisy += np.abs(np.random.normal(0,0.1, weights_noisy.shape))\n",
    "weights_noisy"
   ]
  },
  {
   "cell_type": "code",
   "execution_count": 303,
   "metadata": {
    "ExecuteTime": {
     "end_time": "2016-06-30T16:57:43.884412",
     "start_time": "2016-06-30T16:57:43.876679"
    },
    "collapsed": false,
    "run_control": {
     "frozen": false,
     "read_only": false
    }
   },
   "outputs": [],
   "source": [
    "weights_noisy = weights_noisy.clip(0,1)"
   ]
  },
  {
   "cell_type": "code",
   "execution_count": 304,
   "metadata": {
    "ExecuteTime": {
     "end_time": "2016-06-30T16:57:44.742803",
     "start_time": "2016-06-30T16:57:44.731621"
    },
    "collapsed": false,
    "run_control": {
     "frozen": false,
     "read_only": false
    }
   },
   "outputs": [
    {
     "data": {
      "text/plain": [
       "array([[ 0.38373975,  0.6331934 ],\n",
       "       [ 0.41694719,  0.69790007],\n",
       "       [ 0.29611709,  0.60776492],\n",
       "       ..., \n",
       "       [ 0.23247334,  0.64373996],\n",
       "       [ 0.20067109,  0.62816076],\n",
       "       [ 0.29225931,  0.62678122]])"
      ]
     },
     "execution_count": 304,
     "metadata": {},
     "output_type": "execute_result"
    }
   ],
   "source": [
    "weights_noisy"
   ]
  },
  {
   "cell_type": "code",
   "execution_count": 305,
   "metadata": {
    "ExecuteTime": {
     "end_time": "2016-06-30T16:57:45.790322",
     "start_time": "2016-06-30T16:57:45.773463"
    },
    "collapsed": false,
    "run_control": {
     "frozen": false,
     "read_only": false
    }
   },
   "outputs": [
    {
     "data": {
      "text/plain": [
       "GeneSymbol\n",
       "ABCB4     218.209195\n",
       "ABCB9      38.660662\n",
       "ACAP1    1276.540095\n",
       "ACHE       20.348069\n",
       "ACP5      894.366695\n",
       "dtype: float64"
      ]
     },
     "execution_count": 305,
     "metadata": {},
     "output_type": "execute_result"
    }
   ],
   "source": [
    "mix3=(weights_noisy * reference[simple_cols]).sum(axis=1)\n",
    "mix3.head()"
   ]
  },
  {
   "cell_type": "code",
   "execution_count": 306,
   "metadata": {
    "ExecuteTime": {
     "end_time": "2016-06-30T16:57:51.216803",
     "start_time": "2016-06-30T16:57:51.181530"
    },
    "collapsed": false,
    "run_control": {
     "frozen": false,
     "read_only": false
    }
   },
   "outputs": [
    {
     "name": "stdout",
     "output_type": "stream",
     "text": [
      "(547, 3)\n"
     ]
    },
    {
     "data": {
      "text/html": [
       "<div>\n",
       "<table border=\"1\" class=\"dataframe\">\n",
       "  <thead>\n",
       "    <tr style=\"text-align: right;\">\n",
       "      <th></th>\n",
       "      <th>1 NoNoise</th>\n",
       "      <th>2 SimpleNoise</th>\n",
       "      <th>3 ComplexNoise</th>\n",
       "    </tr>\n",
       "    <tr>\n",
       "      <th>GeneSymbol</th>\n",
       "      <th></th>\n",
       "      <th></th>\n",
       "      <th></th>\n",
       "    </tr>\n",
       "  </thead>\n",
       "  <tbody>\n",
       "    <tr>\n",
       "      <th>ABCB4</th>\n",
       "      <td>115.842539</td>\n",
       "      <td>115.965707</td>\n",
       "      <td>218.209195</td>\n",
       "    </tr>\n",
       "    <tr>\n",
       "      <th>ABCB9</th>\n",
       "      <td>30.764903</td>\n",
       "      <td>31.866382</td>\n",
       "      <td>38.660662</td>\n",
       "    </tr>\n",
       "    <tr>\n",
       "      <th>ACAP1</th>\n",
       "      <td>1240.350751</td>\n",
       "      <td>1240.885192</td>\n",
       "      <td>1276.540095</td>\n",
       "    </tr>\n",
       "    <tr>\n",
       "      <th>ACHE</th>\n",
       "      <td>17.815217</td>\n",
       "      <td>16.847922</td>\n",
       "      <td>20.348069</td>\n",
       "    </tr>\n",
       "    <tr>\n",
       "      <th>ACP5</th>\n",
       "      <td>696.529088</td>\n",
       "      <td>694.951235</td>\n",
       "      <td>894.366695</td>\n",
       "    </tr>\n",
       "  </tbody>\n",
       "</table>\n",
       "</div>"
      ],
      "text/plain": [
       "              1 NoNoise  2 SimpleNoise  3 ComplexNoise\n",
       "GeneSymbol                                            \n",
       "ABCB4        115.842539     115.965707      218.209195\n",
       "ABCB9         30.764903      31.866382       38.660662\n",
       "ACAP1       1240.350751    1240.885192     1276.540095\n",
       "ACHE          17.815217      16.847922       20.348069\n",
       "ACP5         696.529088     694.951235      894.366695"
      ]
     },
     "execution_count": 306,
     "metadata": {},
     "output_type": "execute_result"
    }
   ],
   "source": [
    "# write out the reference profile mixtures\n",
    "# we use 1,etc. to order them properly so that we can interpret cibersort output in the same order\n",
    "ref_prof_mixtures = pd.DataFrame({'1 NoNoise':mix1, '2 SimpleNoise': mix2, '3 ComplexNoise': mix3})\n",
    "ref_prof_mixtures.index.name='GeneSymbol'\n",
    "ref_prof_mixtures.to_csv('test_mixtures/reference_profile_mixtures.txt', sep='\\t')\n",
    "print ref_prof_mixtures.shape\n",
    "ref_prof_mixtures.head()"
   ]
  },
  {
   "cell_type": "code",
   "execution_count": 307,
   "metadata": {
    "ExecuteTime": {
     "end_time": "2016-06-30T16:58:00.344345",
     "start_time": "2016-06-30T16:58:00.134502"
    },
    "collapsed": false,
    "run_control": {
     "frozen": false,
     "read_only": false
    }
   },
   "outputs": [
    {
     "name": "stdout",
     "output_type": "stream",
     "text": [
      "GeneSymbol\t1 NoNoise\t2 SimpleNoise\t3 ComplexNoise\r\n",
      "ABCB4\t115.842538768\t115.965706678\t218.209195451\r\n",
      "ABCB9\t30.764902844\t31.8663816384\t38.6606620974\r\n",
      "ACAP1\t1240.35075084\t1240.88519154\t1276.54009505\r\n",
      "ACHE\t17.815217038\t16.8479220951\t20.3480686066\r\n",
      "ACP5\t696.52908772\t694.951235251\t894.366695379\r\n",
      "ADAM28\t433.608340806\t433.545019368\t599.29186842\r\n",
      "ADAMDEC1\t168.23131164\t168.00879137\t235.953270098\r\n",
      "ADAMTS3\t75.007484208\t74.051901253\t91.0391290401\r\n",
      "ADRB2\t227.50642538\t228.914376607\t259.579883764\r\n"
     ]
    }
   ],
   "source": [
    "!head test_mixtures/reference_profile_mixtures.txt"
   ]
  },
  {
   "cell_type": "markdown",
   "metadata": {},
   "source": [
    "### run this through cibersort"
   ]
  },
  {
   "cell_type": "code",
   "execution_count": 2,
   "metadata": {
    "ExecuteTime": {
     "end_time": "2016-07-05T12:01:36.692542",
     "start_time": "2016-07-05T12:00:29.195271"
    },
    "collapsed": false,
    "run_control": {
     "frozen": false,
     "read_only": false
    }
   },
   "outputs": [
    {
     "name": "stdout",
     "output_type": "stream",
     "text": [
      ">===================Settings====================\n",
      ">Mixture file: test_mixtures/reference_profile_mixtures.txt\n",
      ">Signature matrix file: LM22.txt\n",
      ">===============================================\n",
      ">R version 3.2.3 (2015-12-10)\n",
      ">==================CIBERSORT====================\n",
      "Column\tB cells naive\tB cells memory\tPlasma cells\tT cells CD8\tT cells CD4 naive\tT cells CD4 memory resting\tT cells CD4 memory activated\tT cells follicular helper\tT cells regulatory (Tregs)\tT cells gamma delta\tNK cells resting\tNK cells activated\tMonocytes\tMacrophages M0\tMacrophages M1\tMacrophages M2\tDendritic cells resting\tDendritic cells activated\tMast cells resting\tMast cells activated\tEosinophils\tNeutrophils\tP-value\tPearson Correlation\tRMSE\t\n",
      "0\t0.25265155080916\t0\t0\t0\t0\t5.478231654567603E-4\t0\t0\t0.7464917676737461\t0\t1.5708365511780915E-4\t0\t0\t1.9816314121398815E-5\t0\t1.4386720700324864E-5\t0\t5.8871971636288963E-5\t5.759689668210442E-5\t0\t0\t0\t0.0\t0.9998073632754372\t0.27446210938729243\n",
      "1\t0.2525665403517387\t0\t0\t0\t0\t6.042468699500458E-4\t8.414706385307603E-5\t0\t0.7462069704264391\t0\t1.3631533363149724E-4\t0\t9.165458819087833E-5\t1.0800988409990565E-4\t0\t0\t0\t9.634492758450625E-5\t1.0057024163443065E-4\t0\t0\t0\t0.0\t0.9998070887579754\t0.27468688784606765\n",
      "2\t0.2897056541333485\t0\t0.004003651890767653\t1.733698906395616E-4\t0\t0.004364107067180695\t2.609268754202781E-4\t0\t0.6987904155228343\t0\t0\t0\t1.952031168591722E-4\t0\t5.319663713820709E-4\t2.169405053016468E-4\t5.826080150559408E-4\t0\t0\t0.0011348238259867112\t0\t4.0332785223502884E-5\t0.0\t0.994154264939733\t0.3025994656842289\n"
     ]
    }
   ],
   "source": [
    "!java -Xmx3g -Xms3g -jar ~/CIBERSORT_package/CIBERSORT.jar -M test_mixtures/reference_profile_mixtures.txt -B LM22.txt"
   ]
  },
  {
   "cell_type": "code",
   "execution_count": 5,
   "metadata": {
    "ExecuteTime": {
     "end_time": "2016-07-05T12:02:17.585118",
     "start_time": "2016-07-05T12:02:17.501921"
    },
    "collapsed": false,
    "run_control": {
     "frozen": false,
     "read_only": false
    }
   },
   "outputs": [
    {
     "data": {
      "text/html": [
       "<div>\n",
       "<table border=\"1\" class=\"dataframe\">\n",
       "  <thead>\n",
       "    <tr style=\"text-align: right;\">\n",
       "      <th></th>\n",
       "      <th>Column</th>\n",
       "      <th>B cells naive</th>\n",
       "      <th>B cells memory</th>\n",
       "      <th>Plasma cells</th>\n",
       "      <th>T cells CD8</th>\n",
       "      <th>T cells CD4 naive</th>\n",
       "      <th>T cells CD4 memory resting</th>\n",
       "      <th>T cells CD4 memory activated</th>\n",
       "      <th>T cells follicular helper</th>\n",
       "      <th>T cells regulatory (Tregs)</th>\n",
       "      <th>...</th>\n",
       "      <th>Dendritic cells resting</th>\n",
       "      <th>Dendritic cells activated</th>\n",
       "      <th>Mast cells resting</th>\n",
       "      <th>Mast cells activated</th>\n",
       "      <th>Eosinophils</th>\n",
       "      <th>Neutrophils</th>\n",
       "      <th>P-value</th>\n",
       "      <th>Pearson Correlation</th>\n",
       "      <th>RMSE</th>\n",
       "      <th>Unnamed: 26</th>\n",
       "    </tr>\n",
       "  </thead>\n",
       "  <tbody>\n",
       "    <tr>\n",
       "      <th>0</th>\n",
       "      <td>0</td>\n",
       "      <td>0.252652</td>\n",
       "      <td>0</td>\n",
       "      <td>0.000000</td>\n",
       "      <td>0.000000</td>\n",
       "      <td>0</td>\n",
       "      <td>0.000548</td>\n",
       "      <td>0.000000</td>\n",
       "      <td>0</td>\n",
       "      <td>0.746492</td>\n",
       "      <td>...</td>\n",
       "      <td>0.000000</td>\n",
       "      <td>0.000059</td>\n",
       "      <td>0.000058</td>\n",
       "      <td>0.000000</td>\n",
       "      <td>0</td>\n",
       "      <td>0.00000</td>\n",
       "      <td>0.0</td>\n",
       "      <td>0.999807</td>\n",
       "      <td>0.274462</td>\n",
       "      <td>NaN</td>\n",
       "    </tr>\n",
       "    <tr>\n",
       "      <th>1</th>\n",
       "      <td>1</td>\n",
       "      <td>0.252567</td>\n",
       "      <td>0</td>\n",
       "      <td>0.000000</td>\n",
       "      <td>0.000000</td>\n",
       "      <td>0</td>\n",
       "      <td>0.000604</td>\n",
       "      <td>0.000084</td>\n",
       "      <td>0</td>\n",
       "      <td>0.746207</td>\n",
       "      <td>...</td>\n",
       "      <td>0.000000</td>\n",
       "      <td>0.000096</td>\n",
       "      <td>0.000101</td>\n",
       "      <td>0.000000</td>\n",
       "      <td>0</td>\n",
       "      <td>0.00000</td>\n",
       "      <td>0.0</td>\n",
       "      <td>0.999807</td>\n",
       "      <td>0.274687</td>\n",
       "      <td>NaN</td>\n",
       "    </tr>\n",
       "    <tr>\n",
       "      <th>2</th>\n",
       "      <td>2</td>\n",
       "      <td>0.289706</td>\n",
       "      <td>0</td>\n",
       "      <td>0.004004</td>\n",
       "      <td>0.000173</td>\n",
       "      <td>0</td>\n",
       "      <td>0.004364</td>\n",
       "      <td>0.000261</td>\n",
       "      <td>0</td>\n",
       "      <td>0.698790</td>\n",
       "      <td>...</td>\n",
       "      <td>0.000583</td>\n",
       "      <td>0.000000</td>\n",
       "      <td>0.000000</td>\n",
       "      <td>0.001135</td>\n",
       "      <td>0</td>\n",
       "      <td>0.00004</td>\n",
       "      <td>0.0</td>\n",
       "      <td>0.994154</td>\n",
       "      <td>0.302599</td>\n",
       "      <td>NaN</td>\n",
       "    </tr>\n",
       "  </tbody>\n",
       "</table>\n",
       "<p>3 rows × 27 columns</p>\n",
       "</div>"
      ],
      "text/plain": [
       "   Column  B cells naive  B cells memory  Plasma cells  T cells CD8  \\\n",
       "0       0       0.252652               0      0.000000     0.000000   \n",
       "1       1       0.252567               0      0.000000     0.000000   \n",
       "2       2       0.289706               0      0.004004     0.000173   \n",
       "\n",
       "   T cells CD4 naive  T cells CD4 memory resting  \\\n",
       "0                  0                    0.000548   \n",
       "1                  0                    0.000604   \n",
       "2                  0                    0.004364   \n",
       "\n",
       "   T cells CD4 memory activated  T cells follicular helper  \\\n",
       "0                      0.000000                          0   \n",
       "1                      0.000084                          0   \n",
       "2                      0.000261                          0   \n",
       "\n",
       "   T cells regulatory (Tregs)     ...       Dendritic cells resting  \\\n",
       "0                    0.746492     ...                      0.000000   \n",
       "1                    0.746207     ...                      0.000000   \n",
       "2                    0.698790     ...                      0.000583   \n",
       "\n",
       "   Dendritic cells activated  Mast cells resting  Mast cells activated  \\\n",
       "0                   0.000059            0.000058              0.000000   \n",
       "1                   0.000096            0.000101              0.000000   \n",
       "2                   0.000000            0.000000              0.001135   \n",
       "\n",
       "   Eosinophils  Neutrophils  P-value  Pearson Correlation      RMSE  \\\n",
       "0            0      0.00000      0.0             0.999807  0.274462   \n",
       "1            0      0.00000      0.0             0.999807  0.274687   \n",
       "2            0      0.00004      0.0             0.994154  0.302599   \n",
       "\n",
       "   Unnamed: 26  \n",
       "0          NaN  \n",
       "1          NaN  \n",
       "2          NaN  \n",
       "\n",
       "[3 rows x 27 columns]"
      ]
     },
     "execution_count": 5,
     "metadata": {},
     "output_type": "execute_result"
    }
   ],
   "source": [
    "results = \"\"\"\n",
    "Column\tB cells naive\tB cells memory\tPlasma cells\tT cells CD8\tT cells CD4 naive\tT cells CD4 memory resting\tT cells CD4 memory activated\tT cells follicular helper\tT cells regulatory (Tregs)\tT cells gamma delta\tNK cells resting\tNK cells activated\tMonocytes\tMacrophages M0\tMacrophages M1\tMacrophages M2\tDendritic cells resting\tDendritic cells activated\tMast cells resting\tMast cells activated\tEosinophils\tNeutrophils\tP-value\tPearson Correlation\tRMSE\t\n",
    "0\t0.25265155080916\t0\t0\t0\t0\t5.478231654567603E-4\t0\t0\t0.7464917676737461\t0\t1.5708365511780915E-4\t0\t0\t1.9816314121398815E-5\t0\t1.4386720700324864E-5\t0\t5.8871971636288963E-5\t5.759689668210442E-5\t0\t0\t0\t0.0\t0.9998073632754372\t0.27446210938729243\n",
    "1\t0.2525665403517387\t0\t0\t0\t0\t6.042468699500458E-4\t8.414706385307603E-5\t0\t0.7462069704264391\t0\t1.3631533363149724E-4\t0\t9.165458819087833E-5\t1.0800988409990565E-4\t0\t0\t0\t9.634492758450625E-5\t1.0057024163443065E-4\t0\t0\t0\t0.0\t0.9998070887579754\t0.27468688784606765\n",
    "2\t0.2897056541333485\t0\t0.004003651890767653\t1.733698906395616E-4\t0\t0.004364107067180695\t2.609268754202781E-4\t0\t0.6987904155228343\t0\t0\t0\t1.952031168591722E-4\t0\t5.319663713820709E-4\t2.169405053016468E-4\t5.826080150559408E-4\t0\t0\t0.0011348238259867112\t0\t4.0332785223502884E-5\t0.0\t0.994154264939733\t0.3025994656842289\n",
    "\"\"\"\n",
    "results = pd.read_csv(StringIO(results), sep='\\t')\n",
    "results.head()"
   ]
  },
  {
   "cell_type": "code",
   "execution_count": 6,
   "metadata": {
    "ExecuteTime": {
     "end_time": "2016-07-05T12:02:19.749999",
     "start_time": "2016-07-05T12:02:19.692899"
    },
    "collapsed": false,
    "run_control": {
     "frozen": false,
     "read_only": false
    }
   },
   "outputs": [
    {
     "name": "stdout",
     "output_type": "stream",
     "text": [
      "(3, 26) (3, 22)\n"
     ]
    },
    {
     "data": {
      "text/html": [
       "<div>\n",
       "<table border=\"1\" class=\"dataframe\">\n",
       "  <thead>\n",
       "    <tr style=\"text-align: right;\">\n",
       "      <th></th>\n",
       "      <th>B cells naive</th>\n",
       "      <th>B cells memory</th>\n",
       "      <th>Plasma cells</th>\n",
       "      <th>T cells CD8</th>\n",
       "      <th>T cells CD4 naive</th>\n",
       "      <th>T cells CD4 memory resting</th>\n",
       "      <th>T cells CD4 memory activated</th>\n",
       "      <th>T cells follicular helper</th>\n",
       "      <th>T cells regulatory (Tregs)</th>\n",
       "      <th>T cells gamma delta</th>\n",
       "      <th>...</th>\n",
       "      <th>Monocytes</th>\n",
       "      <th>Macrophages M0</th>\n",
       "      <th>Macrophages M1</th>\n",
       "      <th>Macrophages M2</th>\n",
       "      <th>Dendritic cells resting</th>\n",
       "      <th>Dendritic cells activated</th>\n",
       "      <th>Mast cells resting</th>\n",
       "      <th>Mast cells activated</th>\n",
       "      <th>Eosinophils</th>\n",
       "      <th>Neutrophils</th>\n",
       "    </tr>\n",
       "  </thead>\n",
       "  <tbody>\n",
       "    <tr>\n",
       "      <th>0</th>\n",
       "      <td>0.252652</td>\n",
       "      <td>0</td>\n",
       "      <td>0.000000</td>\n",
       "      <td>0.000000</td>\n",
       "      <td>0</td>\n",
       "      <td>0.000548</td>\n",
       "      <td>0.000000</td>\n",
       "      <td>0</td>\n",
       "      <td>0.746492</td>\n",
       "      <td>0</td>\n",
       "      <td>...</td>\n",
       "      <td>0.000000</td>\n",
       "      <td>0.000020</td>\n",
       "      <td>0.000000</td>\n",
       "      <td>0.000014</td>\n",
       "      <td>0.000000</td>\n",
       "      <td>0.000059</td>\n",
       "      <td>0.000058</td>\n",
       "      <td>0.000000</td>\n",
       "      <td>0</td>\n",
       "      <td>0.00000</td>\n",
       "    </tr>\n",
       "    <tr>\n",
       "      <th>1</th>\n",
       "      <td>0.252567</td>\n",
       "      <td>0</td>\n",
       "      <td>0.000000</td>\n",
       "      <td>0.000000</td>\n",
       "      <td>0</td>\n",
       "      <td>0.000604</td>\n",
       "      <td>0.000084</td>\n",
       "      <td>0</td>\n",
       "      <td>0.746207</td>\n",
       "      <td>0</td>\n",
       "      <td>...</td>\n",
       "      <td>0.000092</td>\n",
       "      <td>0.000108</td>\n",
       "      <td>0.000000</td>\n",
       "      <td>0.000000</td>\n",
       "      <td>0.000000</td>\n",
       "      <td>0.000096</td>\n",
       "      <td>0.000101</td>\n",
       "      <td>0.000000</td>\n",
       "      <td>0</td>\n",
       "      <td>0.00000</td>\n",
       "    </tr>\n",
       "    <tr>\n",
       "      <th>2</th>\n",
       "      <td>0.289706</td>\n",
       "      <td>0</td>\n",
       "      <td>0.004004</td>\n",
       "      <td>0.000173</td>\n",
       "      <td>0</td>\n",
       "      <td>0.004364</td>\n",
       "      <td>0.000261</td>\n",
       "      <td>0</td>\n",
       "      <td>0.698790</td>\n",
       "      <td>0</td>\n",
       "      <td>...</td>\n",
       "      <td>0.000195</td>\n",
       "      <td>0.000000</td>\n",
       "      <td>0.000532</td>\n",
       "      <td>0.000217</td>\n",
       "      <td>0.000583</td>\n",
       "      <td>0.000000</td>\n",
       "      <td>0.000000</td>\n",
       "      <td>0.001135</td>\n",
       "      <td>0</td>\n",
       "      <td>0.00004</td>\n",
       "    </tr>\n",
       "  </tbody>\n",
       "</table>\n",
       "<p>3 rows × 22 columns</p>\n",
       "</div>"
      ],
      "text/plain": [
       "   B cells naive  B cells memory  Plasma cells  T cells CD8  \\\n",
       "0       0.252652               0      0.000000     0.000000   \n",
       "1       0.252567               0      0.000000     0.000000   \n",
       "2       0.289706               0      0.004004     0.000173   \n",
       "\n",
       "   T cells CD4 naive  T cells CD4 memory resting  \\\n",
       "0                  0                    0.000548   \n",
       "1                  0                    0.000604   \n",
       "2                  0                    0.004364   \n",
       "\n",
       "   T cells CD4 memory activated  T cells follicular helper  \\\n",
       "0                      0.000000                          0   \n",
       "1                      0.000084                          0   \n",
       "2                      0.000261                          0   \n",
       "\n",
       "   T cells regulatory (Tregs)  T cells gamma delta     ...       Monocytes  \\\n",
       "0                    0.746492                    0     ...        0.000000   \n",
       "1                    0.746207                    0     ...        0.000092   \n",
       "2                    0.698790                    0     ...        0.000195   \n",
       "\n",
       "   Macrophages M0  Macrophages M1  Macrophages M2  Dendritic cells resting  \\\n",
       "0        0.000020        0.000000        0.000014                 0.000000   \n",
       "1        0.000108        0.000000        0.000000                 0.000000   \n",
       "2        0.000000        0.000532        0.000217                 0.000583   \n",
       "\n",
       "   Dendritic cells activated  Mast cells resting  Mast cells activated  \\\n",
       "0                   0.000059            0.000058              0.000000   \n",
       "1                   0.000096            0.000101              0.000000   \n",
       "2                   0.000000            0.000000              0.001135   \n",
       "\n",
       "   Eosinophils  Neutrophils  \n",
       "0            0      0.00000  \n",
       "1            0      0.00000  \n",
       "2            0      0.00004  \n",
       "\n",
       "[3 rows x 22 columns]"
      ]
     },
     "execution_count": 6,
     "metadata": {},
     "output_type": "execute_result"
    }
   ],
   "source": [
    "del results['Unnamed: 26']\n",
    "results_dat = results[results.columns[1:-3]]\n",
    "print results.shape, results_dat.shape\n",
    "results_dat.head()"
   ]
  },
  {
   "cell_type": "code",
   "execution_count": 10,
   "metadata": {
    "ExecuteTime": {
     "end_time": "2016-07-05T12:03:43.224750",
     "start_time": "2016-07-05T12:03:43.148810"
    },
    "collapsed": false,
    "run_control": {
     "frozen": false,
     "read_only": false
    }
   },
   "outputs": [
    {
     "data": {
      "text/html": [
       "<div>\n",
       "<table border=\"1\" class=\"dataframe\">\n",
       "  <thead>\n",
       "    <tr style=\"text-align: right;\">\n",
       "      <th></th>\n",
       "      <th>B cells naive</th>\n",
       "      <th>B cells memory</th>\n",
       "      <th>Plasma cells</th>\n",
       "      <th>T cells CD8</th>\n",
       "      <th>T cells CD4 naive</th>\n",
       "      <th>T cells CD4 memory resting</th>\n",
       "      <th>T cells CD4 memory activated</th>\n",
       "      <th>T cells follicular helper</th>\n",
       "      <th>T cells regulatory (Tregs)</th>\n",
       "      <th>T cells gamma delta</th>\n",
       "      <th>...</th>\n",
       "      <th>Monocytes</th>\n",
       "      <th>Macrophages M0</th>\n",
       "      <th>Macrophages M1</th>\n",
       "      <th>Macrophages M2</th>\n",
       "      <th>Dendritic cells resting</th>\n",
       "      <th>Dendritic cells activated</th>\n",
       "      <th>Mast cells resting</th>\n",
       "      <th>Mast cells activated</th>\n",
       "      <th>Eosinophils</th>\n",
       "      <th>Neutrophils</th>\n",
       "    </tr>\n",
       "  </thead>\n",
       "  <tbody>\n",
       "    <tr>\n",
       "      <th>0</th>\n",
       "      <td>0.2</td>\n",
       "      <td>0.0</td>\n",
       "      <td>0.0</td>\n",
       "      <td>0.0</td>\n",
       "      <td>0.0</td>\n",
       "      <td>0.0</td>\n",
       "      <td>0.0</td>\n",
       "      <td>0.0</td>\n",
       "      <td>0.6</td>\n",
       "      <td>0.0</td>\n",
       "      <td>...</td>\n",
       "      <td>0.0</td>\n",
       "      <td>0.0</td>\n",
       "      <td>0.0</td>\n",
       "      <td>0.0</td>\n",
       "      <td>0.0</td>\n",
       "      <td>0.0</td>\n",
       "      <td>0.0</td>\n",
       "      <td>0.0</td>\n",
       "      <td>0.0</td>\n",
       "      <td>0.0</td>\n",
       "    </tr>\n",
       "    <tr>\n",
       "      <th>1</th>\n",
       "      <td>0.2</td>\n",
       "      <td>0.0</td>\n",
       "      <td>0.0</td>\n",
       "      <td>0.0</td>\n",
       "      <td>0.0</td>\n",
       "      <td>0.0</td>\n",
       "      <td>0.0</td>\n",
       "      <td>0.0</td>\n",
       "      <td>0.6</td>\n",
       "      <td>0.0</td>\n",
       "      <td>...</td>\n",
       "      <td>0.0</td>\n",
       "      <td>0.0</td>\n",
       "      <td>0.0</td>\n",
       "      <td>0.0</td>\n",
       "      <td>0.0</td>\n",
       "      <td>0.0</td>\n",
       "      <td>0.0</td>\n",
       "      <td>0.0</td>\n",
       "      <td>0.0</td>\n",
       "      <td>0.0</td>\n",
       "    </tr>\n",
       "    <tr>\n",
       "      <th>2</th>\n",
       "      <td>0.2</td>\n",
       "      <td>0.0</td>\n",
       "      <td>0.0</td>\n",
       "      <td>0.0</td>\n",
       "      <td>0.0</td>\n",
       "      <td>0.0</td>\n",
       "      <td>0.0</td>\n",
       "      <td>0.0</td>\n",
       "      <td>0.6</td>\n",
       "      <td>0.0</td>\n",
       "      <td>...</td>\n",
       "      <td>0.0</td>\n",
       "      <td>0.0</td>\n",
       "      <td>0.0</td>\n",
       "      <td>0.0</td>\n",
       "      <td>0.0</td>\n",
       "      <td>0.0</td>\n",
       "      <td>0.0</td>\n",
       "      <td>0.0</td>\n",
       "      <td>0.0</td>\n",
       "      <td>0.0</td>\n",
       "    </tr>\n",
       "  </tbody>\n",
       "</table>\n",
       "<p>3 rows × 22 columns</p>\n",
       "</div>"
      ],
      "text/plain": [
       "   B cells naive  B cells memory  Plasma cells  T cells CD8  \\\n",
       "0            0.2             0.0           0.0          0.0   \n",
       "1            0.2             0.0           0.0          0.0   \n",
       "2            0.2             0.0           0.0          0.0   \n",
       "\n",
       "   T cells CD4 naive  T cells CD4 memory resting  \\\n",
       "0                0.0                         0.0   \n",
       "1                0.0                         0.0   \n",
       "2                0.0                         0.0   \n",
       "\n",
       "   T cells CD4 memory activated  T cells follicular helper  \\\n",
       "0                           0.0                        0.0   \n",
       "1                           0.0                        0.0   \n",
       "2                           0.0                        0.0   \n",
       "\n",
       "   T cells regulatory (Tregs)  T cells gamma delta     ...       Monocytes  \\\n",
       "0                         0.6                  0.0     ...             0.0   \n",
       "1                         0.6                  0.0     ...             0.0   \n",
       "2                         0.6                  0.0     ...             0.0   \n",
       "\n",
       "   Macrophages M0  Macrophages M1  Macrophages M2  Dendritic cells resting  \\\n",
       "0             0.0             0.0             0.0                      0.0   \n",
       "1             0.0             0.0             0.0                      0.0   \n",
       "2             0.0             0.0             0.0                      0.0   \n",
       "\n",
       "   Dendritic cells activated  Mast cells resting  Mast cells activated  \\\n",
       "0                        0.0                 0.0                   0.0   \n",
       "1                        0.0                 0.0                   0.0   \n",
       "2                        0.0                 0.0                   0.0   \n",
       "\n",
       "   Eosinophils  Neutrophils  \n",
       "0          0.0          0.0  \n",
       "1          0.0          0.0  \n",
       "2          0.0          0.0  \n",
       "\n",
       "[3 rows x 22 columns]"
      ]
     },
     "execution_count": 10,
     "metadata": {},
     "output_type": "execute_result"
    }
   ],
   "source": [
    "ref_prof_weights = pd.DataFrame(np.zeros(results_dat.shape),columns=results_dat.columns)\n",
    "ref_prof_weights.loc[:,simple_cols] = weights\n",
    "ref_prof_weights"
   ]
  },
  {
   "cell_type": "code",
   "execution_count": 11,
   "metadata": {
    "ExecuteTime": {
     "end_time": "2016-07-05T12:03:48.376829",
     "start_time": "2016-07-05T12:03:48.350245"
    },
    "collapsed": false,
    "run_control": {
     "frozen": false,
     "read_only": false
    }
   },
   "outputs": [
    {
     "name": "stdout",
     "output_type": "stream",
     "text": [
      "correlation between GT and estimate per mixture\n",
      "0    0.999989\n",
      "1    0.999989\n",
      "2    0.997304\n",
      "dtype: float64\n"
     ]
    }
   ],
   "source": [
    "print 'correlation between GT and estimate per mixture'\n",
    "print results_dat.corrwith(ref_prof_weights, axis=1)"
   ]
  },
  {
   "cell_type": "markdown",
   "metadata": {},
   "source": [
    "Why is the deconvolution better when we have noise?"
   ]
  },
  {
   "cell_type": "code",
   "execution_count": 12,
   "metadata": {
    "ExecuteTime": {
     "end_time": "2016-07-05T12:03:55.919003",
     "start_time": "2016-07-05T12:03:55.354553"
    },
    "collapsed": false,
    "run_control": {
     "frozen": false,
     "read_only": false
    }
   },
   "outputs": [
    {
     "name": "stdout",
     "output_type": "stream",
     "text": [
      "absolute difference from ground truth, summarized by column:\n"
     ]
    },
    {
     "data": {
      "text/html": [
       "<div>\n",
       "<table border=\"1\" class=\"dataframe\">\n",
       "  <thead>\n",
       "    <tr style=\"text-align: right;\">\n",
       "      <th></th>\n",
       "      <th>B cells naive</th>\n",
       "      <th>B cells memory</th>\n",
       "      <th>Plasma cells</th>\n",
       "      <th>T cells CD8</th>\n",
       "      <th>T cells CD4 naive</th>\n",
       "      <th>T cells CD4 memory resting</th>\n",
       "      <th>T cells CD4 memory activated</th>\n",
       "      <th>T cells follicular helper</th>\n",
       "      <th>T cells regulatory (Tregs)</th>\n",
       "      <th>T cells gamma delta</th>\n",
       "      <th>...</th>\n",
       "      <th>Monocytes</th>\n",
       "      <th>Macrophages M0</th>\n",
       "      <th>Macrophages M1</th>\n",
       "      <th>Macrophages M2</th>\n",
       "      <th>Dendritic cells resting</th>\n",
       "      <th>Dendritic cells activated</th>\n",
       "      <th>Mast cells resting</th>\n",
       "      <th>Mast cells activated</th>\n",
       "      <th>Eosinophils</th>\n",
       "      <th>Neutrophils</th>\n",
       "    </tr>\n",
       "  </thead>\n",
       "  <tbody>\n",
       "    <tr>\n",
       "      <th>count</th>\n",
       "      <td>3.000000</td>\n",
       "      <td>3.0</td>\n",
       "      <td>3.000000</td>\n",
       "      <td>3.000000</td>\n",
       "      <td>3.0</td>\n",
       "      <td>3.000000</td>\n",
       "      <td>3.000000</td>\n",
       "      <td>3.0</td>\n",
       "      <td>3.000000</td>\n",
       "      <td>3.0</td>\n",
       "      <td>...</td>\n",
       "      <td>3.000000</td>\n",
       "      <td>3.000000</td>\n",
       "      <td>3.000000</td>\n",
       "      <td>3.000000</td>\n",
       "      <td>3.000000</td>\n",
       "      <td>3.000000</td>\n",
       "      <td>3.000000</td>\n",
       "      <td>3.000000</td>\n",
       "      <td>3.0</td>\n",
       "      <td>3.000000</td>\n",
       "    </tr>\n",
       "    <tr>\n",
       "      <th>mean</th>\n",
       "      <td>0.064975</td>\n",
       "      <td>0.0</td>\n",
       "      <td>0.001335</td>\n",
       "      <td>0.000058</td>\n",
       "      <td>0.0</td>\n",
       "      <td>0.001839</td>\n",
       "      <td>0.000115</td>\n",
       "      <td>0.0</td>\n",
       "      <td>0.130496</td>\n",
       "      <td>0.0</td>\n",
       "      <td>...</td>\n",
       "      <td>0.000096</td>\n",
       "      <td>0.000043</td>\n",
       "      <td>0.000177</td>\n",
       "      <td>0.000077</td>\n",
       "      <td>0.000194</td>\n",
       "      <td>0.000052</td>\n",
       "      <td>0.000053</td>\n",
       "      <td>0.000378</td>\n",
       "      <td>0.0</td>\n",
       "      <td>0.000013</td>\n",
       "    </tr>\n",
       "    <tr>\n",
       "      <th>std</th>\n",
       "      <td>0.021418</td>\n",
       "      <td>0.0</td>\n",
       "      <td>0.002312</td>\n",
       "      <td>0.000100</td>\n",
       "      <td>0.0</td>\n",
       "      <td>0.002187</td>\n",
       "      <td>0.000133</td>\n",
       "      <td>0.0</td>\n",
       "      <td>0.027459</td>\n",
       "      <td>0.0</td>\n",
       "      <td>...</td>\n",
       "      <td>0.000098</td>\n",
       "      <td>0.000057</td>\n",
       "      <td>0.000307</td>\n",
       "      <td>0.000121</td>\n",
       "      <td>0.000336</td>\n",
       "      <td>0.000049</td>\n",
       "      <td>0.000050</td>\n",
       "      <td>0.000655</td>\n",
       "      <td>0.0</td>\n",
       "      <td>0.000023</td>\n",
       "    </tr>\n",
       "    <tr>\n",
       "      <th>min</th>\n",
       "      <td>0.052567</td>\n",
       "      <td>0.0</td>\n",
       "      <td>0.000000</td>\n",
       "      <td>0.000000</td>\n",
       "      <td>0.0</td>\n",
       "      <td>0.000548</td>\n",
       "      <td>0.000000</td>\n",
       "      <td>0.0</td>\n",
       "      <td>0.098790</td>\n",
       "      <td>0.0</td>\n",
       "      <td>...</td>\n",
       "      <td>0.000000</td>\n",
       "      <td>0.000000</td>\n",
       "      <td>0.000000</td>\n",
       "      <td>0.000000</td>\n",
       "      <td>0.000000</td>\n",
       "      <td>0.000000</td>\n",
       "      <td>0.000000</td>\n",
       "      <td>0.000000</td>\n",
       "      <td>0.0</td>\n",
       "      <td>0.000000</td>\n",
       "    </tr>\n",
       "    <tr>\n",
       "      <th>25%</th>\n",
       "      <td>0.052609</td>\n",
       "      <td>0.0</td>\n",
       "      <td>0.000000</td>\n",
       "      <td>0.000000</td>\n",
       "      <td>0.0</td>\n",
       "      <td>0.000576</td>\n",
       "      <td>0.000042</td>\n",
       "      <td>0.0</td>\n",
       "      <td>0.122499</td>\n",
       "      <td>0.0</td>\n",
       "      <td>...</td>\n",
       "      <td>0.000046</td>\n",
       "      <td>0.000010</td>\n",
       "      <td>0.000000</td>\n",
       "      <td>0.000007</td>\n",
       "      <td>0.000000</td>\n",
       "      <td>0.000029</td>\n",
       "      <td>0.000029</td>\n",
       "      <td>0.000000</td>\n",
       "      <td>0.0</td>\n",
       "      <td>0.000000</td>\n",
       "    </tr>\n",
       "    <tr>\n",
       "      <th>50%</th>\n",
       "      <td>0.052652</td>\n",
       "      <td>0.0</td>\n",
       "      <td>0.000000</td>\n",
       "      <td>0.000000</td>\n",
       "      <td>0.0</td>\n",
       "      <td>0.000604</td>\n",
       "      <td>0.000084</td>\n",
       "      <td>0.0</td>\n",
       "      <td>0.146207</td>\n",
       "      <td>0.0</td>\n",
       "      <td>...</td>\n",
       "      <td>0.000092</td>\n",
       "      <td>0.000020</td>\n",
       "      <td>0.000000</td>\n",
       "      <td>0.000014</td>\n",
       "      <td>0.000000</td>\n",
       "      <td>0.000059</td>\n",
       "      <td>0.000058</td>\n",
       "      <td>0.000000</td>\n",
       "      <td>0.0</td>\n",
       "      <td>0.000000</td>\n",
       "    </tr>\n",
       "    <tr>\n",
       "      <th>75%</th>\n",
       "      <td>0.071179</td>\n",
       "      <td>0.0</td>\n",
       "      <td>0.002002</td>\n",
       "      <td>0.000087</td>\n",
       "      <td>0.0</td>\n",
       "      <td>0.002484</td>\n",
       "      <td>0.000173</td>\n",
       "      <td>0.0</td>\n",
       "      <td>0.146349</td>\n",
       "      <td>0.0</td>\n",
       "      <td>...</td>\n",
       "      <td>0.000143</td>\n",
       "      <td>0.000064</td>\n",
       "      <td>0.000266</td>\n",
       "      <td>0.000116</td>\n",
       "      <td>0.000291</td>\n",
       "      <td>0.000078</td>\n",
       "      <td>0.000079</td>\n",
       "      <td>0.000567</td>\n",
       "      <td>0.0</td>\n",
       "      <td>0.000020</td>\n",
       "    </tr>\n",
       "    <tr>\n",
       "      <th>max</th>\n",
       "      <td>0.089706</td>\n",
       "      <td>0.0</td>\n",
       "      <td>0.004004</td>\n",
       "      <td>0.000173</td>\n",
       "      <td>0.0</td>\n",
       "      <td>0.004364</td>\n",
       "      <td>0.000261</td>\n",
       "      <td>0.0</td>\n",
       "      <td>0.146492</td>\n",
       "      <td>0.0</td>\n",
       "      <td>...</td>\n",
       "      <td>0.000195</td>\n",
       "      <td>0.000108</td>\n",
       "      <td>0.000532</td>\n",
       "      <td>0.000217</td>\n",
       "      <td>0.000583</td>\n",
       "      <td>0.000096</td>\n",
       "      <td>0.000101</td>\n",
       "      <td>0.001135</td>\n",
       "      <td>0.0</td>\n",
       "      <td>0.000040</td>\n",
       "    </tr>\n",
       "  </tbody>\n",
       "</table>\n",
       "<p>8 rows × 22 columns</p>\n",
       "</div>"
      ],
      "text/plain": [
       "       B cells naive  B cells memory  Plasma cells  T cells CD8  \\\n",
       "count       3.000000             3.0      3.000000     3.000000   \n",
       "mean        0.064975             0.0      0.001335     0.000058   \n",
       "std         0.021418             0.0      0.002312     0.000100   \n",
       "min         0.052567             0.0      0.000000     0.000000   \n",
       "25%         0.052609             0.0      0.000000     0.000000   \n",
       "50%         0.052652             0.0      0.000000     0.000000   \n",
       "75%         0.071179             0.0      0.002002     0.000087   \n",
       "max         0.089706             0.0      0.004004     0.000173   \n",
       "\n",
       "       T cells CD4 naive  T cells CD4 memory resting  \\\n",
       "count                3.0                    3.000000   \n",
       "mean                 0.0                    0.001839   \n",
       "std                  0.0                    0.002187   \n",
       "min                  0.0                    0.000548   \n",
       "25%                  0.0                    0.000576   \n",
       "50%                  0.0                    0.000604   \n",
       "75%                  0.0                    0.002484   \n",
       "max                  0.0                    0.004364   \n",
       "\n",
       "       T cells CD4 memory activated  T cells follicular helper  \\\n",
       "count                      3.000000                        3.0   \n",
       "mean                       0.000115                        0.0   \n",
       "std                        0.000133                        0.0   \n",
       "min                        0.000000                        0.0   \n",
       "25%                        0.000042                        0.0   \n",
       "50%                        0.000084                        0.0   \n",
       "75%                        0.000173                        0.0   \n",
       "max                        0.000261                        0.0   \n",
       "\n",
       "       T cells regulatory (Tregs)  T cells gamma delta     ...       \\\n",
       "count                    3.000000                  3.0     ...        \n",
       "mean                     0.130496                  0.0     ...        \n",
       "std                      0.027459                  0.0     ...        \n",
       "min                      0.098790                  0.0     ...        \n",
       "25%                      0.122499                  0.0     ...        \n",
       "50%                      0.146207                  0.0     ...        \n",
       "75%                      0.146349                  0.0     ...        \n",
       "max                      0.146492                  0.0     ...        \n",
       "\n",
       "       Monocytes  Macrophages M0  Macrophages M1  Macrophages M2  \\\n",
       "count   3.000000        3.000000        3.000000        3.000000   \n",
       "mean    0.000096        0.000043        0.000177        0.000077   \n",
       "std     0.000098        0.000057        0.000307        0.000121   \n",
       "min     0.000000        0.000000        0.000000        0.000000   \n",
       "25%     0.000046        0.000010        0.000000        0.000007   \n",
       "50%     0.000092        0.000020        0.000000        0.000014   \n",
       "75%     0.000143        0.000064        0.000266        0.000116   \n",
       "max     0.000195        0.000108        0.000532        0.000217   \n",
       "\n",
       "       Dendritic cells resting  Dendritic cells activated  Mast cells resting  \\\n",
       "count                 3.000000                   3.000000            3.000000   \n",
       "mean                  0.000194                   0.000052            0.000053   \n",
       "std                   0.000336                   0.000049            0.000050   \n",
       "min                   0.000000                   0.000000            0.000000   \n",
       "25%                   0.000000                   0.000029            0.000029   \n",
       "50%                   0.000000                   0.000059            0.000058   \n",
       "75%                   0.000291                   0.000078            0.000079   \n",
       "max                   0.000583                   0.000096            0.000101   \n",
       "\n",
       "       Mast cells activated  Eosinophils  Neutrophils  \n",
       "count              3.000000          3.0     3.000000  \n",
       "mean               0.000378          0.0     0.000013  \n",
       "std                0.000655          0.0     0.000023  \n",
       "min                0.000000          0.0     0.000000  \n",
       "25%                0.000000          0.0     0.000000  \n",
       "50%                0.000000          0.0     0.000000  \n",
       "75%                0.000567          0.0     0.000020  \n",
       "max                0.001135          0.0     0.000040  \n",
       "\n",
       "[8 rows x 22 columns]"
      ]
     },
     "execution_count": 12,
     "metadata": {},
     "output_type": "execute_result"
    },
    {
     "data": {
      "image/png": "[encoded data removed]",
      "text/plain": [
       "<matplotlib.figure.Figure at 0x7f671af8bfd0>"
      ]
     },
     "metadata": {},
     "output_type": "display_data"
    }
   ],
   "source": [
    "print 'absolute difference from ground truth, summarized by column:'\n",
    "(results_dat - ref_prof_weights).describe().loc['mean'].hist()\n",
    "plt.title('mean absolute differences for columns across all mixtures')\n",
    "(results_dat - ref_prof_weights).describe()"
   ]
  },
  {
   "cell_type": "code",
   "execution_count": 13,
   "metadata": {
    "ExecuteTime": {
     "end_time": "2016-07-05T12:04:05.337107",
     "start_time": "2016-07-05T12:04:04.510574"
    },
    "collapsed": false,
    "run_control": {
     "frozen": false,
     "read_only": false
    }
   },
   "outputs": [
    {
     "data": {
      "image/png": "[encoded data removed]",
      "text/plain": [
       "<matplotlib.figure.Figure at 0x7f67189e01d0>"
      ]
     },
     "metadata": {},
     "output_type": "display_data"
    },
    {
     "data": {
      "image/png": "[encoded data removed]",
      "text/plain": [
       "<matplotlib.figure.Figure at 0x7f671aecc790>"
      ]
     },
     "metadata": {},
     "output_type": "display_data"
    },
    {
     "data": {
      "image/png": "[encoded data removed]",
      "text/plain": [
       "<matplotlib.figure.Figure at 0x7f67186b98d0>"
      ]
     },
     "metadata": {},
     "output_type": "display_data"
    }
   ],
   "source": [
    "for _, row in (results_dat - ref_prof_weights).iterrows():\n",
    "    plt.figure()\n",
    "    row.hist()\n",
    "    plt.title('mixture %d absolute differences' % row.name)"
   ]
  },
  {
   "cell_type": "markdown",
   "metadata": {},
   "source": [
    "<strike>So noise definitely adds some confusion -- not much but nonzero. (Compare horizontal scales on these last plots)</strike>\n",
    "\n",
    "<strike>Take 2:\n",
    "Noise reduces confusion (absolute differences in fractions)! Look at horizontal scale.\n",
    "\n",
    "But does noise make Cibersort doubt/change its fractions for the actual two cell types included, or does it make it think there might be other cell types involved?</strike>\n",
    "\n",
    "Noise does not change confusion."
   ]
  },
  {
   "cell_type": "code",
   "execution_count": 14,
   "metadata": {
    "ExecuteTime": {
     "end_time": "2016-07-05T12:04:29.131411",
     "start_time": "2016-07-05T12:04:28.211943"
    },
    "collapsed": false,
    "run_control": {
     "frozen": false,
     "read_only": false
    }
   },
   "outputs": [
    {
     "data": {
      "image/png": "[encoded data removed]",
      "text/plain": [
       "<matplotlib.figure.Figure at 0x7f671875c890>"
      ]
     },
     "metadata": {},
     "output_type": "display_data"
    },
    {
     "data": {
      "image/png": "[encoded data removed]",
      "text/plain": [
       "<matplotlib.figure.Figure at 0x7f671840a610>"
      ]
     },
     "metadata": {},
     "output_type": "display_data"
    },
    {
     "data": {
      "image/png": "[encoded data removed]",
      "text/plain": [
       "<matplotlib.figure.Figure at 0x7f6718436190>"
      ]
     },
     "metadata": {},
     "output_type": "display_data"
    }
   ],
   "source": [
    "for _, row in (results_dat - ref_prof_weights).iterrows():\n",
    "    plt.figure()\n",
    "    row[simple_cols].hist()\n",
    "    plt.title('mixture %d absolute differences -- correct cell types only' % row.name)"
   ]
  },
  {
   "cell_type": "code",
   "execution_count": 15,
   "metadata": {
    "ExecuteTime": {
     "end_time": "2016-07-05T12:04:43.585081",
     "start_time": "2016-07-05T12:04:42.703364"
    },
    "collapsed": false,
    "run_control": {
     "frozen": false,
     "read_only": false
    }
   },
   "outputs": [
    {
     "data": {
      "image/png": "[encoded data removed]",
      "text/plain": [
       "<matplotlib.figure.Figure at 0x7f671850b510>"
      ]
     },
     "metadata": {},
     "output_type": "display_data"
    },
    {
     "data": {
      "image/png": "[encoded data removed]",
      "text/plain": [
       "<matplotlib.figure.Figure at 0x7f67186d4910>"
      ]
     },
     "metadata": {},
     "output_type": "display_data"
    },
    {
     "data": {
      "image/png": "[encoded data removed]",
      "text/plain": [
       "<matplotlib.figure.Figure at 0x7f67186e6c50>"
      ]
     },
     "metadata": {},
     "output_type": "display_data"
    }
   ],
   "source": [
    "other_cols = set(results_dat.columns) - set(simple_cols)\n",
    "for _, row in (results_dat - ref_prof_weights).iterrows():\n",
    "    plt.figure()\n",
    "    row[other_cols].hist()\n",
    "    plt.title('mixture %d absolute differences -- incorrect cell types only' % row.name)"
   ]
  },
  {
   "cell_type": "markdown",
   "metadata": {},
   "source": [
    "<strike>\n",
    "\n",
    "Interesting!\n",
    "\n",
    "* Noise (complex) halves the difference in fractions for the actual cell types there. This part of the deconvolution is better with noise! (Unexpected.)\n",
    "* Noise makes Cibersort less certain that other cell types are not there -- we see more difference from 0 by two orders of magnitude. (Compare the horizontal scales on the last plots). This is expected\n",
    "\n",
    "</strike>\n",
    "\n",
    "\n",
    "All the above commentary was due to having non-absolute value noise. Oops.\n",
    "\n",
    "The current plots above are correct. We see that noise does not change the deconvolution result here, other than making Cibersort hallucinate the presence of other cell types an order of magnitude more (at most 0.4%)."
   ]
  },
  {
   "cell_type": "markdown",
   "metadata": {},
   "source": [
    "What are the P values of Cibersort w/ and w/o noise? Always 0:"
   ]
  },
  {
   "cell_type": "code",
   "execution_count": 16,
   "metadata": {
    "ExecuteTime": {
     "end_time": "2016-07-05T12:04:52.326614",
     "start_time": "2016-07-05T12:04:52.309781"
    },
    "collapsed": false,
    "run_control": {
     "frozen": false,
     "read_only": false
    }
   },
   "outputs": [
    {
     "data": {
      "text/plain": [
       "0    0.0\n",
       "1    0.0\n",
       "2    0.0\n",
       "Name: P-value, dtype: float64"
      ]
     },
     "execution_count": 16,
     "metadata": {},
     "output_type": "execute_result"
    }
   ],
   "source": [
    "results['P-value']"
   ]
  },
  {
   "cell_type": "code",
   "execution_count": 17,
   "metadata": {
    "ExecuteTime": {
     "end_time": "2016-07-05T12:04:54.838373",
     "start_time": "2016-07-05T12:04:54.763509"
    },
    "collapsed": false,
    "run_control": {
     "frozen": false,
     "read_only": false
    }
   },
   "outputs": [
    {
     "name": "stdout",
     "output_type": "stream",
     "text": [
      "RMSE \t R^2 \t per mixture\n",
      "0.0332 \t 0.9347\n",
      "0.0331 \t 0.9349\n",
      "0.0285 \t 0.9519\n"
     ]
    }
   ],
   "source": [
    "print 'RMSE \\t R^2 \\t per mixture'\n",
    "from sklearn.metrics import mean_squared_error as mse, r2_score\n",
    "for (_, y_true),(_, y_pred) in zip(ref_prof_weights.iterrows(), results_dat.iterrows()):\n",
    "    print '%0.4f \\t %0.4f' % (np.sqrt(mse(y_true, y_pred)), r2_score(y_true, y_pred))"
   ]
  },
  {
   "cell_type": "code",
   "execution_count": 18,
   "metadata": {
    "ExecuteTime": {
     "end_time": "2016-07-05T12:05:00.553066",
     "start_time": "2016-07-05T12:05:00.529565"
    },
    "collapsed": false,
    "run_control": {
     "frozen": false,
     "read_only": false
    }
   },
   "outputs": [
    {
     "data": {
      "text/html": [
       "<div>\n",
       "<table border=\"1\" class=\"dataframe\">\n",
       "  <thead>\n",
       "    <tr style=\"text-align: right;\">\n",
       "      <th></th>\n",
       "      <th>B cells naive</th>\n",
       "      <th>T cells regulatory (Tregs)</th>\n",
       "    </tr>\n",
       "  </thead>\n",
       "  <tbody>\n",
       "    <tr>\n",
       "      <th>0</th>\n",
       "      <td>0.052652</td>\n",
       "      <td>0.146492</td>\n",
       "    </tr>\n",
       "    <tr>\n",
       "      <th>1</th>\n",
       "      <td>0.052567</td>\n",
       "      <td>0.146207</td>\n",
       "    </tr>\n",
       "    <tr>\n",
       "      <th>2</th>\n",
       "      <td>0.089706</td>\n",
       "      <td>0.098790</td>\n",
       "    </tr>\n",
       "  </tbody>\n",
       "</table>\n",
       "</div>"
      ],
      "text/plain": [
       "   B cells naive  T cells regulatory (Tregs)\n",
       "0       0.052652                    0.146492\n",
       "1       0.052567                    0.146207\n",
       "2       0.089706                    0.098790"
      ]
     },
     "execution_count": 18,
     "metadata": {},
     "output_type": "execute_result"
    }
   ],
   "source": [
    "(results_dat - ref_prof_weights)[simple_cols]"
   ]
  },
  {
   "cell_type": "markdown",
   "metadata": {},
   "source": [
    "## 2 raw lines from same publication (Cib)"
   ]
  },
  {
   "cell_type": "code",
   "execution_count": 188,
   "metadata": {
    "collapsed": false,
    "run_control": {
     "frozen": false,
     "read_only": false
    }
   },
   "outputs": [
    {
     "data": {
      "text/html": [
       "<div>\n",
       "<table border=\"1\" class=\"dataframe\">\n",
       "  <thead>\n",
       "    <tr style=\"text-align: right;\">\n",
       "      <th></th>\n",
       "      <th>Relabel</th>\n",
       "      <th>A_LW_+BAFF_U133A_250303 [Chtanova_immune|A_LW_+BAFF_U133A_250303]</th>\n",
       "      <th>A_LW_+BAFF_U133A_70303 [Chtanova_immune|A_LW_+BAFF_U133A_70303]</th>\n",
       "      <th>A_LW_-BAFF_U133A_250303 [Chtanova_immune|A_LW_-BAFF_U133A_250303]</th>\n",
       "      <th>A_LW_-BAFF_U133A_70303 [Chtanova_immune|A_LW_-BAFF_U133A_70303]</th>\n",
       "      <th>A_LW_CD57+_U133A_030603 [Chtanova_immune|A_LW_CD57+_U133A_030603]</th>\n",
       "      <th>A_LW_CD57+_U133A_121102 [Chtanova_immune|A_LW_CD57+_U133A_121102]</th>\n",
       "      <th>A_LW_CD57-_U133A_030603 [Chtanova_immune|A_LW_CD57-_U133A_030603]</th>\n",
       "      <th>A_LW_CD57-_U133A_121102 [Chtanova_immune|A_LW_CD57-_U133A_121102]</th>\n",
       "      <th>A_LW_DC+BAFF_U133A_250304 [Chtanova_immune|A_LW_DC+BAFF_U133A_250304]</th>\n",
       "      <th>...</th>\n",
       "      <th>TEM_U133A_1 [TFH_E-MEXP-750|TEM_U133A_1]</th>\n",
       "      <th>TEM_U133A_2 [TFH_E-MEXP-750|TEM_U133A_2]</th>\n",
       "      <th>TEM_U133A_3 [TFH_E-MEXP-750|TEM_U133A_3]</th>\n",
       "      <th>TN_U133A_1 [TFH_E-MEXP-750|TN_U133A_1]</th>\n",
       "      <th>TN_U133A_2 [TFH_E-MEXP-750|TN_U133A_2]</th>\n",
       "      <th>TN_U133A_3 [TFH_E-MEXP-750|TN_U133A_3]</th>\n",
       "      <th>TH_1 [TREGs_GSE4527|GSM101518]</th>\n",
       "      <th>Treg_1 [TREGs_GSE4527|GSM101519]</th>\n",
       "      <th>TH_2 [TREGs_GSE4527|GSM101520]</th>\n",
       "      <th>Treg_2 [TREGs_GSE4527|GSM101521]</th>\n",
       "    </tr>\n",
       "  </thead>\n",
       "  <tbody>\n",
       "    <tr>\n",
       "      <th>0</th>\n",
       "      <td>A1CF</td>\n",
       "      <td>123.126291</td>\n",
       "      <td>200.096593</td>\n",
       "      <td>98.131873</td>\n",
       "      <td>101.011423</td>\n",
       "      <td>127.567885</td>\n",
       "      <td>109.295918</td>\n",
       "      <td>48.352882</td>\n",
       "      <td>328.453377</td>\n",
       "      <td>370.158338</td>\n",
       "      <td>...</td>\n",
       "      <td>27.752002</td>\n",
       "      <td>81.227451</td>\n",
       "      <td>25.180355</td>\n",
       "      <td>285.075510</td>\n",
       "      <td>172.215727</td>\n",
       "      <td>201.051021</td>\n",
       "      <td>736.149237</td>\n",
       "      <td>400.456332</td>\n",
       "      <td>187.566155</td>\n",
       "      <td>414.069368</td>\n",
       "    </tr>\n",
       "    <tr>\n",
       "      <th>1</th>\n",
       "      <td>A2M</td>\n",
       "      <td>6.717625</td>\n",
       "      <td>20.118036</td>\n",
       "      <td>66.069727</td>\n",
       "      <td>92.850207</td>\n",
       "      <td>56.525064</td>\n",
       "      <td>11.575293</td>\n",
       "      <td>73.481899</td>\n",
       "      <td>31.083799</td>\n",
       "      <td>8579.063240</td>\n",
       "      <td>...</td>\n",
       "      <td>10.950348</td>\n",
       "      <td>6.779301</td>\n",
       "      <td>85.101667</td>\n",
       "      <td>18.227925</td>\n",
       "      <td>16.924983</td>\n",
       "      <td>9.039432</td>\n",
       "      <td>129.643861</td>\n",
       "      <td>75.252245</td>\n",
       "      <td>28.603811</td>\n",
       "      <td>22.338213</td>\n",
       "    </tr>\n",
       "    <tr>\n",
       "      <th>2</th>\n",
       "      <td>A4GALT</td>\n",
       "      <td>99.776993</td>\n",
       "      <td>56.050865</td>\n",
       "      <td>52.735724</td>\n",
       "      <td>62.908979</td>\n",
       "      <td>115.173360</td>\n",
       "      <td>86.849782</td>\n",
       "      <td>67.478214</td>\n",
       "      <td>172.369277</td>\n",
       "      <td>112.346538</td>\n",
       "      <td>...</td>\n",
       "      <td>22.164461</td>\n",
       "      <td>41.200690</td>\n",
       "      <td>24.504919</td>\n",
       "      <td>145.190417</td>\n",
       "      <td>135.992279</td>\n",
       "      <td>62.335556</td>\n",
       "      <td>232.214201</td>\n",
       "      <td>335.890507</td>\n",
       "      <td>207.934712</td>\n",
       "      <td>56.080230</td>\n",
       "    </tr>\n",
       "    <tr>\n",
       "      <th>3</th>\n",
       "      <td>A4GNT</td>\n",
       "      <td>155.687079</td>\n",
       "      <td>277.949173</td>\n",
       "      <td>186.486014</td>\n",
       "      <td>147.002254</td>\n",
       "      <td>165.954151</td>\n",
       "      <td>102.583059</td>\n",
       "      <td>95.945725</td>\n",
       "      <td>231.328049</td>\n",
       "      <td>151.153031</td>\n",
       "      <td>...</td>\n",
       "      <td>127.732540</td>\n",
       "      <td>100.458390</td>\n",
       "      <td>341.302205</td>\n",
       "      <td>411.623288</td>\n",
       "      <td>216.770728</td>\n",
       "      <td>141.512782</td>\n",
       "      <td>384.736274</td>\n",
       "      <td>510.736942</td>\n",
       "      <td>203.089268</td>\n",
       "      <td>539.912283</td>\n",
       "    </tr>\n",
       "    <tr>\n",
       "      <th>4</th>\n",
       "      <td>AAAS</td>\n",
       "      <td>11.966722</td>\n",
       "      <td>20.671809</td>\n",
       "      <td>25.856604</td>\n",
       "      <td>9.910548</td>\n",
       "      <td>126.638097</td>\n",
       "      <td>24.107794</td>\n",
       "      <td>159.323152</td>\n",
       "      <td>35.289550</td>\n",
       "      <td>20.363367</td>\n",
       "      <td>...</td>\n",
       "      <td>216.557256</td>\n",
       "      <td>108.114573</td>\n",
       "      <td>126.690956</td>\n",
       "      <td>423.425075</td>\n",
       "      <td>162.619165</td>\n",
       "      <td>151.616733</td>\n",
       "      <td>96.051241</td>\n",
       "      <td>176.780559</td>\n",
       "      <td>248.657488</td>\n",
       "      <td>89.153691</td>\n",
       "    </tr>\n",
       "  </tbody>\n",
       "</table>\n",
       "<p>5 rows × 195 columns</p>\n",
       "</div>"
      ],
      "text/plain": [
       "  Relabel  A_LW_+BAFF_U133A_250303 [Chtanova_immune|A_LW_+BAFF_U133A_250303]  \\\n",
       "0    A1CF                                         123.126291                   \n",
       "1     A2M                                           6.717625                   \n",
       "2  A4GALT                                          99.776993                   \n",
       "3   A4GNT                                         155.687079                   \n",
       "4    AAAS                                          11.966722                   \n",
       "\n",
       "   A_LW_+BAFF_U133A_70303 [Chtanova_immune|A_LW_+BAFF_U133A_70303]  \\\n",
       "0                                         200.096593                 \n",
       "1                                          20.118036                 \n",
       "2                                          56.050865                 \n",
       "3                                         277.949173                 \n",
       "4                                          20.671809                 \n",
       "\n",
       "   A_LW_-BAFF_U133A_250303 [Chtanova_immune|A_LW_-BAFF_U133A_250303]  \\\n",
       "0                                          98.131873                   \n",
       "1                                          66.069727                   \n",
       "2                                          52.735724                   \n",
       "3                                         186.486014                   \n",
       "4                                          25.856604                   \n",
       "\n",
       "   A_LW_-BAFF_U133A_70303 [Chtanova_immune|A_LW_-BAFF_U133A_70303]  \\\n",
       "0                                         101.011423                 \n",
       "1                                          92.850207                 \n",
       "2                                          62.908979                 \n",
       "3                                         147.002254                 \n",
       "4                                           9.910548                 \n",
       "\n",
       "   A_LW_CD57+_U133A_030603 [Chtanova_immune|A_LW_CD57+_U133A_030603]  \\\n",
       "0                                         127.567885                   \n",
       "1                                          56.525064                   \n",
       "2                                         115.173360                   \n",
       "3                                         165.954151                   \n",
       "4                                         126.638097                   \n",
       "\n",
       "   A_LW_CD57+_U133A_121102 [Chtanova_immune|A_LW_CD57+_U133A_121102]  \\\n",
       "0                                         109.295918                   \n",
       "1                                          11.575293                   \n",
       "2                                          86.849782                   \n",
       "3                                         102.583059                   \n",
       "4                                          24.107794                   \n",
       "\n",
       "   A_LW_CD57-_U133A_030603 [Chtanova_immune|A_LW_CD57-_U133A_030603]  \\\n",
       "0                                          48.352882                   \n",
       "1                                          73.481899                   \n",
       "2                                          67.478214                   \n",
       "3                                          95.945725                   \n",
       "4                                         159.323152                   \n",
       "\n",
       "   A_LW_CD57-_U133A_121102 [Chtanova_immune|A_LW_CD57-_U133A_121102]  \\\n",
       "0                                         328.453377                   \n",
       "1                                          31.083799                   \n",
       "2                                         172.369277                   \n",
       "3                                         231.328049                   \n",
       "4                                          35.289550                   \n",
       "\n",
       "   A_LW_DC+BAFF_U133A_250304 [Chtanova_immune|A_LW_DC+BAFF_U133A_250304]  \\\n",
       "0                                         370.158338                       \n",
       "1                                        8579.063240                       \n",
       "2                                         112.346538                       \n",
       "3                                         151.153031                       \n",
       "4                                          20.363367                       \n",
       "\n",
       "                 ...                 TEM_U133A_1 [TFH_E-MEXP-750|TEM_U133A_1]  \\\n",
       "0                ...                                                27.752002   \n",
       "1                ...                                                10.950348   \n",
       "2                ...                                                22.164461   \n",
       "3                ...                                               127.732540   \n",
       "4                ...                                               216.557256   \n",
       "\n",
       "   TEM_U133A_2 [TFH_E-MEXP-750|TEM_U133A_2]  \\\n",
       "0                                 81.227451   \n",
       "1                                  6.779301   \n",
       "2                                 41.200690   \n",
       "3                                100.458390   \n",
       "4                                108.114573   \n",
       "\n",
       "   TEM_U133A_3 [TFH_E-MEXP-750|TEM_U133A_3]  \\\n",
       "0                                 25.180355   \n",
       "1                                 85.101667   \n",
       "2                                 24.504919   \n",
       "3                                341.302205   \n",
       "4                                126.690956   \n",
       "\n",
       "   TN_U133A_1 [TFH_E-MEXP-750|TN_U133A_1]  \\\n",
       "0                              285.075510   \n",
       "1                               18.227925   \n",
       "2                              145.190417   \n",
       "3                              411.623288   \n",
       "4                              423.425075   \n",
       "\n",
       "   TN_U133A_2 [TFH_E-MEXP-750|TN_U133A_2]  \\\n",
       "0                              172.215727   \n",
       "1                               16.924983   \n",
       "2                              135.992279   \n",
       "3                              216.770728   \n",
       "4                              162.619165   \n",
       "\n",
       "   TN_U133A_3 [TFH_E-MEXP-750|TN_U133A_3]  TH_1 [TREGs_GSE4527|GSM101518]  \\\n",
       "0                              201.051021                      736.149237   \n",
       "1                                9.039432                      129.643861   \n",
       "2                               62.335556                      232.214201   \n",
       "3                              141.512782                      384.736274   \n",
       "4                              151.616733                       96.051241   \n",
       "\n",
       "   Treg_1 [TREGs_GSE4527|GSM101519]  TH_2 [TREGs_GSE4527|GSM101520]  \\\n",
       "0                        400.456332                      187.566155   \n",
       "1                         75.252245                       28.603811   \n",
       "2                        335.890507                      207.934712   \n",
       "3                        510.736942                      203.089268   \n",
       "4                        176.780559                      248.657488   \n",
       "\n",
       "   Treg_2 [TREGs_GSE4527|GSM101521]  \n",
       "0                        414.069368  \n",
       "1                         22.338213  \n",
       "2                         56.080230  \n",
       "3                        539.912283  \n",
       "4                         89.153691  \n",
       "\n",
       "[5 rows x 195 columns]"
      ]
     },
     "execution_count": 188,
     "metadata": {},
     "output_type": "execute_result"
    }
   ],
   "source": [
    "cib_raw = pd.read_csv('curated_data/pure_samples/cibersort/LM22-ref-sample.txt', sep='\\t')\n",
    "cib_raw.head()"
   ]
  },
  {
   "cell_type": "code",
   "execution_count": 189,
   "metadata": {
    "collapsed": false,
    "run_control": {
     "frozen": false,
     "read_only": false
    }
   },
   "outputs": [
    {
     "name": "stdout",
     "output_type": "stream",
     "text": [
      "Index([u'Relabel',\n",
      "       u'A_LW_+BAFF_U133A_250303 [Chtanova_immune|A_LW_+BAFF_U133A_250303]',\n",
      "       u'A_LW_+BAFF_U133A_70303 [Chtanova_immune|A_LW_+BAFF_U133A_70303]',\n",
      "       u'A_LW_-BAFF_U133A_250303 [Chtanova_immune|A_LW_-BAFF_U133A_250303]',\n",
      "       u'A_LW_-BAFF_U133A_70303 [Chtanova_immune|A_LW_-BAFF_U133A_70303]',\n",
      "       u'A_LW_CD57+_U133A_030603 [Chtanova_immune|A_LW_CD57+_U133A_030603]',\n",
      "       u'A_LW_CD57+_U133A_121102 [Chtanova_immune|A_LW_CD57+_U133A_121102]',\n",
      "       u'A_LW_CD57-_U133A_030603 [Chtanova_immune|A_LW_CD57-_U133A_030603]',\n",
      "       u'A_LW_CD57-_U133A_121102 [Chtanova_immune|A_LW_CD57-_U133A_121102]',\n",
      "       u'A_LW_DC+BAFF_U133A_250304 [Chtanova_immune|A_LW_DC+BAFF_U133A_250304]',\n",
      "       ...\n",
      "       u'TEM_U133A_1 [TFH_E-MEXP-750|TEM_U133A_1]',\n",
      "       u'TEM_U133A_2 [TFH_E-MEXP-750|TEM_U133A_2]',\n",
      "       u'TEM_U133A_3 [TFH_E-MEXP-750|TEM_U133A_3]',\n",
      "       u'TN_U133A_1 [TFH_E-MEXP-750|TN_U133A_1]',\n",
      "       u'TN_U133A_2 [TFH_E-MEXP-750|TN_U133A_2]',\n",
      "       u'TN_U133A_3 [TFH_E-MEXP-750|TN_U133A_3]',\n",
      "       u'TH_1 [TREGs_GSE4527|GSM101518]', u'Treg_1 [TREGs_GSE4527|GSM101519]',\n",
      "       u'TH_2 [TREGs_GSE4527|GSM101520]', u'Treg_2 [TREGs_GSE4527|GSM101521]'],\n",
      "      dtype='object', length=195)\n"
     ]
    },
    {
     "data": {
      "text/html": [
       "<div>\n",
       "<table border=\"1\" class=\"dataframe\">\n",
       "  <thead>\n",
       "    <tr style=\"text-align: right;\">\n",
       "      <th></th>\n",
       "      <th>0</th>\n",
       "      <th>1</th>\n",
       "      <th>2</th>\n",
       "      <th>3</th>\n",
       "      <th>4</th>\n",
       "      <th>5</th>\n",
       "      <th>6</th>\n",
       "      <th>7</th>\n",
       "      <th>8</th>\n",
       "      <th>9</th>\n",
       "      <th>...</th>\n",
       "      <th>185</th>\n",
       "      <th>186</th>\n",
       "      <th>187</th>\n",
       "      <th>188</th>\n",
       "      <th>189</th>\n",
       "      <th>190</th>\n",
       "      <th>191</th>\n",
       "      <th>192</th>\n",
       "      <th>193</th>\n",
       "      <th>194</th>\n",
       "    </tr>\n",
       "  </thead>\n",
       "  <tbody>\n",
       "    <tr>\n",
       "      <th>0</th>\n",
       "      <td>B cells naive</td>\n",
       "      <td>0</td>\n",
       "      <td>0</td>\n",
       "      <td>0</td>\n",
       "      <td>0</td>\n",
       "      <td>0</td>\n",
       "      <td>0</td>\n",
       "      <td>0</td>\n",
       "      <td>0</td>\n",
       "      <td>0</td>\n",
       "      <td>...</td>\n",
       "      <td>0</td>\n",
       "      <td>0</td>\n",
       "      <td>0</td>\n",
       "      <td>2</td>\n",
       "      <td>2</td>\n",
       "      <td>2</td>\n",
       "      <td>0</td>\n",
       "      <td>2</td>\n",
       "      <td>0</td>\n",
       "      <td>2</td>\n",
       "    </tr>\n",
       "    <tr>\n",
       "      <th>1</th>\n",
       "      <td>B cells memory</td>\n",
       "      <td>0</td>\n",
       "      <td>0</td>\n",
       "      <td>0</td>\n",
       "      <td>0</td>\n",
       "      <td>0</td>\n",
       "      <td>0</td>\n",
       "      <td>0</td>\n",
       "      <td>0</td>\n",
       "      <td>0</td>\n",
       "      <td>...</td>\n",
       "      <td>0</td>\n",
       "      <td>0</td>\n",
       "      <td>0</td>\n",
       "      <td>2</td>\n",
       "      <td>2</td>\n",
       "      <td>2</td>\n",
       "      <td>0</td>\n",
       "      <td>2</td>\n",
       "      <td>0</td>\n",
       "      <td>2</td>\n",
       "    </tr>\n",
       "    <tr>\n",
       "      <th>2</th>\n",
       "      <td>Plasma cells</td>\n",
       "      <td>0</td>\n",
       "      <td>0</td>\n",
       "      <td>0</td>\n",
       "      <td>0</td>\n",
       "      <td>0</td>\n",
       "      <td>0</td>\n",
       "      <td>0</td>\n",
       "      <td>0</td>\n",
       "      <td>0</td>\n",
       "      <td>...</td>\n",
       "      <td>0</td>\n",
       "      <td>0</td>\n",
       "      <td>0</td>\n",
       "      <td>2</td>\n",
       "      <td>2</td>\n",
       "      <td>2</td>\n",
       "      <td>0</td>\n",
       "      <td>2</td>\n",
       "      <td>0</td>\n",
       "      <td>2</td>\n",
       "    </tr>\n",
       "    <tr>\n",
       "      <th>3</th>\n",
       "      <td>T cells CD8</td>\n",
       "      <td>0</td>\n",
       "      <td>0</td>\n",
       "      <td>0</td>\n",
       "      <td>0</td>\n",
       "      <td>0</td>\n",
       "      <td>0</td>\n",
       "      <td>0</td>\n",
       "      <td>0</td>\n",
       "      <td>0</td>\n",
       "      <td>...</td>\n",
       "      <td>0</td>\n",
       "      <td>0</td>\n",
       "      <td>0</td>\n",
       "      <td>2</td>\n",
       "      <td>2</td>\n",
       "      <td>2</td>\n",
       "      <td>0</td>\n",
       "      <td>2</td>\n",
       "      <td>0</td>\n",
       "      <td>2</td>\n",
       "    </tr>\n",
       "    <tr>\n",
       "      <th>4</th>\n",
       "      <td>T cells CD4 naive</td>\n",
       "      <td>0</td>\n",
       "      <td>0</td>\n",
       "      <td>0</td>\n",
       "      <td>0</td>\n",
       "      <td>0</td>\n",
       "      <td>0</td>\n",
       "      <td>0</td>\n",
       "      <td>0</td>\n",
       "      <td>0</td>\n",
       "      <td>...</td>\n",
       "      <td>0</td>\n",
       "      <td>0</td>\n",
       "      <td>0</td>\n",
       "      <td>1</td>\n",
       "      <td>1</td>\n",
       "      <td>1</td>\n",
       "      <td>0</td>\n",
       "      <td>2</td>\n",
       "      <td>0</td>\n",
       "      <td>2</td>\n",
       "    </tr>\n",
       "  </tbody>\n",
       "</table>\n",
       "<p>5 rows × 195 columns</p>\n",
       "</div>"
      ],
      "text/plain": [
       "                 0    1    2    3    4    5    6    7    8    9   ...   185  \\\n",
       "0      B cells naive    0    0    0    0    0    0    0    0    0 ...     0   \n",
       "1     B cells memory    0    0    0    0    0    0    0    0    0 ...     0   \n",
       "2       Plasma cells    0    0    0    0    0    0    0    0    0 ...     0   \n",
       "3        T cells CD8    0    0    0    0    0    0    0    0    0 ...     0   \n",
       "4  T cells CD4 naive    0    0    0    0    0    0    0    0    0 ...     0   \n",
       "\n",
       "   186  187  188  189  190  191  192  193  194  \n",
       "0    0    0    2    2    2    0    2    0    2  \n",
       "1    0    0    2    2    2    0    2    0    2  \n",
       "2    0    0    2    2    2    0    2    0    2  \n",
       "3    0    0    2    2    2    0    2    0    2  \n",
       "4    0    0    1    1    1    0    2    0    2  \n",
       "\n",
       "[5 rows x 195 columns]"
      ]
     },
     "execution_count": 189,
     "metadata": {},
     "output_type": "execute_result"
    }
   ],
   "source": [
    "# copied from Variance....ipynb\n",
    "cols_4 = pd.read_csv('curated_data/pure_samples/cibersort/LM22-classes.txt', sep='\\t', header=None)\n",
    "cols_4_orig = pd.read_csv('curated_data/pure_samples/cibersort/LM22-ref-sample.txt', sep='\\t').columns\n",
    "print cols_4_orig\n",
    "cols_4.head()"
   ]
  },
  {
   "cell_type": "code",
   "execution_count": 190,
   "metadata": {
    "collapsed": false,
    "run_control": {
     "frozen": false,
     "read_only": false
    }
   },
   "outputs": [
    {
     "name": "stdout",
     "output_type": "stream",
     "text": [
      "B cells naive\n",
      "B cells memory\n",
      "Plasma cells\n",
      "T cells CD8\n",
      "T cells CD4 naive\n",
      "T cells CD4 memory resting\n",
      "T cells CD4 memory activated\n",
      "T cells follicular helper\n",
      "T cells gamma delta\n",
      "T cells regulatory (Tregs)\n",
      "NK cells resting\n",
      "NK cells activated\n",
      "Monocytes\n",
      "Macrophages M0\n",
      "Macrophages M1\n",
      "Macrophages M2\n",
      "Dendritic cells resting\n",
      "Dendritic cells activated\n",
      "Mast cells resting\n",
      "Mast cells activated\n",
      "Eosinophils\n",
      "Neutrophils\n"
     ]
    }
   ],
   "source": [
    "column_mappings = {}\n",
    "for _,row in cols_4.iterrows():\n",
    "    # print row[row==1].index\n",
    "    print row[0]\n",
    "    #print cols_4_orig[row[row==1].index]\n",
    "    for ix, s in enumerate(cols_4_orig[row[row==1].index]):\n",
    "        column_mappings[s] = row[0] + \"_%d\" % (ix+1)\n",
    "    #break"
   ]
  },
  {
   "cell_type": "code",
   "execution_count": 191,
   "metadata": {
    "collapsed": false,
    "run_control": {
     "frozen": false,
     "read_only": false
    }
   },
   "outputs": [
    {
     "data": {
      "text/plain": [
       "{'A_LW_mastcellIgE_U133A [Chtanova_immune|A_LW_mastcellIgE_U133A]': 'Mast cells activated_1',\n",
       " 'A_LW_mastcellctrl_U133A [Chtanova_immune|A_LW_mastcellctrl_U133A]': 'Mast cells resting_1',\n",
       " 'A_LW_neutrophil_U133A [Chtanova_immune|A_LW_neutrophil_U133A]': 'Neutrophils_1',\n",
       " 'A_MF_2hrEosinophils_U133A [Chtanova_immune|A_MF_2hrEosinophils_U133A]': 'Eosinophils_1',\n",
       " 'A_MF_ControlEosinophil [Chtanova_immune|A_MF_ControlEosinophil]': 'Eosinophils_2',\n",
       " 'A_MF_ControlMASTCELL_U133A [Chtanova_immune|A_MF_ControlMASTCELL_U133A]': 'Mast cells resting_2',\n",
       " 'A_MF_IgEMASTCELL_U133A [Chtanova_immune|A_MF_IgEMASTCELL_U133A]': 'Mast cells activated_2',\n",
       " 'A_MF_neutrophils_U133A [Chtanova_immune|A_MF_neutrophils_U133A]': 'Neutrophils_2',\n",
       " 'A_TS_MSNeutroLPS_U133A [Chtanova_immune|A_TS_MSNeutroLPS_U133A]': 'Neutrophils_3',\n",
       " 'A_TS_RN_gdTcellsREP_A [Chtanova_immune|A_TS_RN_gdTcellsREP_A]': 'T cells gamma delta_2',\n",
       " 'A_TS_RN_gdTcells_U133A [Chtanova_immune|A_TS_RN_gdTcells_U133A]': 'T cells gamma delta_1',\n",
       " 'Alternative or M2 activated macrophages, biological rep1 HG-U133A [M1_M2_GSE7138|GSM115058]': 'Macrophages M2_1',\n",
       " 'Alternative or M2 activated macrophages, biological rep2 HG-U133A [M1_M2_GSE7138|GSM115059]': 'Macrophages M2_2',\n",
       " 'Alternative or M2 activated macrophages, biological rep3 HG-U133A [M1_M2_GSE7138|GSM115060]': 'Macrophages M2_3',\n",
       " 'Bcell-Memory_IgG_IgA-1 [HG-U133A] [IRIS_GSE22886|GSM565315]': 'B cells memory_1',\n",
       " 'Bcell-Memory_IgG_IgA-2 [HG-U133A] [IRIS_GSE22886|GSM565316]': 'B cells memory_2',\n",
       " 'Bcell-Memory_IgG_IgA-3 [HG-U133A] [IRIS_GSE22886|GSM565317]': 'B cells memory_3',\n",
       " 'Bcell-Memory_IgG_IgA-4 [HG-U133A] [IRIS_GSE22886|GSM565318]': 'B cells memory_4',\n",
       " 'Bcell-Memory_IgM-1 [HG-U133A] [IRIS_GSE22886|GSM565319]': 'B cells memory_5',\n",
       " 'Bcell-Memory_IgM-2 [HG-U133A] [IRIS_GSE22886|GSM565320]': 'B cells memory_6',\n",
       " 'Bcell-Memory_IgM-3 [HG-U133A] [IRIS_GSE22886|GSM565321]': 'B cells memory_7',\n",
       " 'Bcell-Memory_IgM-4 [HG-U133A] [IRIS_GSE22886|GSM565322]': 'B cells memory_8',\n",
       " 'Bcell-naive-1 [HG-U133A] [IRIS_GSE22886|GSM565308]': 'B cells naive_1',\n",
       " 'Bcell-naive-2 [HG-U133A] [IRIS_GSE22886|GSM565309]': 'B cells naive_2',\n",
       " 'Bcell-naive-3 [HG-U133A] [IRIS_GSE22886|GSM565310]': 'B cells naive_3',\n",
       " 'Bcell-naive-4 [HG-U133A] [IRIS_GSE22886|GSM565311]': 'B cells naive_4',\n",
       " 'Bcell-naive-5 [HG-U133A] [IRIS_GSE22886|GSM565312]': 'B cells naive_5',\n",
       " 'Bcell-naive-6 [HG-U133A] [IRIS_GSE22886|GSM565313]': 'B cells naive_6',\n",
       " 'Bcell-naive-7 [HG-U133A] [IRIS_GSE22886|GSM565314]': 'B cells naive_7',\n",
       " 'CD8Tcell-N0-1 [HG-U133A] [IRIS_GSE22886|GSM565269]': 'T cells CD8_1',\n",
       " 'CD8Tcell-N0-2 [HG-U133A] [IRIS_GSE22886|GSM565270]': 'T cells CD8_2',\n",
       " 'CD8Tcell-N0-3 [HG-U133A] [IRIS_GSE22886|GSM565271]': 'T cells CD8_3',\n",
       " 'CD8Tcell-N0-4 [HG-U133A] [IRIS_GSE22886|GSM565272]': 'T cells CD8_4',\n",
       " 'CXCR5hiICOShi_U133A_1 [TFH_E-MEXP-750|CXCR5hiICOShi_U133A_1]': 'T cells follicular helper_1',\n",
       " 'CXCR5hiICOShi_U133A_2 [TFH_E-MEXP-750|CXCR5hiICOShi_U133A_2]': 'T cells follicular helper_2',\n",
       " 'CXCR5hiICOShi_U133A_3 [TFH_E-MEXP-750|CXCR5hiICOShi_U133A_3]': 'T cells follicular helper_3',\n",
       " 'DendriticCell-Control-1 [HG-U133A] [IRIS_GSE22886|GSM565366]': 'Dendritic cells resting_1',\n",
       " 'DendriticCell-Control-2 [HG-U133A] [IRIS_GSE22886|GSM565367]': 'Dendritic cells resting_2',\n",
       " 'DendriticCell-Control-3 [HG-U133A] [IRIS_GSE22886|GSM565368]': 'Dendritic cells resting_3',\n",
       " 'DendriticCell-Control-4 [HG-U133A] [IRIS_GSE22886|GSM565369]': 'Dendritic cells resting_4',\n",
       " 'DendriticCell-Control-5 [HG-U133A] [IRIS_GSE22886|GSM565370]': 'Dendritic cells resting_5',\n",
       " 'DendriticCell-Control-6 [HG-U133A] [IRIS_GSE22886|GSM565371]': 'Dendritic cells resting_6',\n",
       " 'DendriticCell-LPSstimulated-1 [HG-U133A] [IRIS_GSE22886|GSM565372]': 'Dendritic cells activated_1',\n",
       " 'DendriticCell-LPSstimulated-2 [HG-U133A] [IRIS_GSE22886|GSM565373]': 'Dendritic cells activated_2',\n",
       " 'DendriticCell-LPSstimulated-3 [HG-U133A] [IRIS_GSE22886|GSM565374]': 'Dendritic cells activated_3',\n",
       " 'DendriticCell-LPSstimulated-4 [HG-U133A] [IRIS_GSE22886|GSM565375]': 'Dendritic cells activated_4',\n",
       " 'DendriticCell-LPSstimulated-5 [HG-U133A] [IRIS_GSE22886|GSM565376]': 'Dendritic cells activated_5',\n",
       " 'DendriticCell-LPSstimulated-6 [HG-U133A] [IRIS_GSE22886|GSM565377]': 'Dendritic cells activated_6',\n",
       " 'MemoryTcell-RO-activated-1 [HG-U133A] [IRIS_GSE22886|GSM565290]': 'T cells CD4 memory activated_1',\n",
       " 'MemoryTcell-RO-activated-2 [HG-U133A] [IRIS_GSE22886|GSM565291]': 'T cells CD4 memory activated_2',\n",
       " 'MemoryTcell-RO-activated-3 [HG-U133A] [IRIS_GSE22886|GSM565292]': 'T cells CD4 memory activated_3',\n",
       " 'MemoryTcell-RO-unactivated-1 [HG-U133A] [IRIS_GSE22886|GSM565287]': 'T cells CD4 memory resting_1',\n",
       " 'MemoryTcell-RO-unactivated-2 [HG-U133A] [IRIS_GSE22886|GSM565288]': 'T cells CD4 memory resting_2',\n",
       " 'MemoryTcell-RO-unactivated-3 [HG-U133A] [IRIS_GSE22886|GSM565289]': 'T cells CD4 memory resting_3',\n",
       " 'Monocyte-Day0-1 [HG-U133A] [IRIS_GSE22886|GSM565330]': 'Monocytes_1',\n",
       " 'Monocyte-Day0-10 [HG-U133A] [IRIS_GSE22886|GSM565339]': 'Monocytes_10',\n",
       " 'Monocyte-Day0-11 [HG-U133A] [IRIS_GSE22886|GSM565340]': 'Monocytes_11',\n",
       " 'Monocyte-Day0-12 [HG-U133A] [IRIS_GSE22886|GSM565341]': 'Monocytes_12',\n",
       " 'Monocyte-Day0-2 [HG-U133A] [IRIS_GSE22886|GSM565331]': 'Monocytes_2',\n",
       " 'Monocyte-Day0-3 [HG-U133A] [IRIS_GSE22886|GSM565332]': 'Monocytes_3',\n",
       " 'Monocyte-Day0-4 [HG-U133A] [IRIS_GSE22886|GSM565333]': 'Monocytes_4',\n",
       " 'Monocyte-Day0-5 [HG-U133A] [IRIS_GSE22886|GSM565334]': 'Monocytes_5',\n",
       " 'Monocyte-Day0-6 [HG-U133A] [IRIS_GSE22886|GSM565335]': 'Monocytes_6',\n",
       " 'Monocyte-Day0-7 [HG-U133A] [IRIS_GSE22886|GSM565336]': 'Monocytes_7',\n",
       " 'Monocyte-Day0-8 [HG-U133A] [IRIS_GSE22886|GSM565337]': 'Monocytes_8',\n",
       " 'Monocyte-Day0-9 [HG-U133A] [IRIS_GSE22886|GSM565338]': 'Monocytes_9',\n",
       " 'Monocyte-Day7-1 [HG-U133A] [IRIS_GSE22886|GSM565354]': 'Macrophages M0_1',\n",
       " 'Monocyte-Day7-10 [HG-U133A] [IRIS_GSE22886|GSM565363]': 'Macrophages M0_10',\n",
       " 'Monocyte-Day7-11 [HG-U133A] [IRIS_GSE22886|GSM565364]': 'Macrophages M0_11',\n",
       " 'Monocyte-Day7-12 [HG-U133A] [IRIS_GSE22886|GSM565365]': 'Macrophages M0_12',\n",
       " 'Monocyte-Day7-2 [HG-U133A] [IRIS_GSE22886|GSM565355]': 'Macrophages M0_2',\n",
       " 'Monocyte-Day7-3 [HG-U133A] [IRIS_GSE22886|GSM565356]': 'Macrophages M0_3',\n",
       " 'Monocyte-Day7-4 [HG-U133A] [IRIS_GSE22886|GSM565357]': 'Macrophages M0_4',\n",
       " 'Monocyte-Day7-5 [HG-U133A] [IRIS_GSE22886|GSM565358]': 'Macrophages M0_5',\n",
       " 'Monocyte-Day7-6 [HG-U133A] [IRIS_GSE22886|GSM565359]': 'Macrophages M0_6',\n",
       " 'Monocyte-Day7-7 [HG-U133A] [IRIS_GSE22886|GSM565360]': 'Macrophages M0_7',\n",
       " 'Monocyte-Day7-8 [HG-U133A] [IRIS_GSE22886|GSM565361]': 'Macrophages M0_8',\n",
       " 'Monocyte-Day7-9 [HG-U133A] [IRIS_GSE22886|GSM565362]': 'Macrophages M0_9',\n",
       " 'NKcell-IL15stimulated-1 [HG-U133A] [IRIS_GSE22886|GSM565302]': 'NK cells activated_6',\n",
       " 'NKcell-IL15stimulated-2 [HG-U133A] [IRIS_GSE22886|GSM565303]': 'NK cells activated_7',\n",
       " 'NKcell-IL15stimulated-3 [HG-U133A] [IRIS_GSE22886|GSM565304]': 'NK cells activated_8',\n",
       " 'NKcell-IL15stimulated-4 [HG-U133A] [IRIS_GSE22886|GSM565305]': 'NK cells activated_9',\n",
       " 'NKcell-IL15stimulated-5 [HG-U133A] [IRIS_GSE22886|GSM565306]': 'NK cells activated_10',\n",
       " 'NKcell-IL15stimulated-6 [HG-U133A] [IRIS_GSE22886|GSM565307]': 'NK cells activated_11',\n",
       " 'NKcell-IL2stimulated-1 [HG-U133A] [IRIS_GSE22886|GSM565297]': 'NK cells activated_1',\n",
       " 'NKcell-IL2stimulated-2 [HG-U133A] [IRIS_GSE22886|GSM565298]': 'NK cells activated_2',\n",
       " 'NKcell-IL2stimulated-3 [HG-U133A] [IRIS_GSE22886|GSM565299]': 'NK cells activated_3',\n",
       " 'NKcell-IL2stimulated-4 [HG-U133A] [IRIS_GSE22886|GSM565300]': 'NK cells activated_4',\n",
       " 'NKcell-IL2stimulated-5 [HG-U133A] [IRIS_GSE22886|GSM565301]': 'NK cells activated_5',\n",
       " 'NKcell-control-1 [HG-U133A] [IRIS_GSE22886|GSM565293]': 'NK cells resting_1',\n",
       " 'NKcell-control-2 [HG-U133A] [IRIS_GSE22886|GSM565294]': 'NK cells resting_2',\n",
       " 'NKcell-control-3 [HG-U133A] [IRIS_GSE22886|GSM565295]': 'NK cells resting_3',\n",
       " 'NKcell-control-4 [HG-U133A] [IRIS_GSE22886|GSM565296]': 'NK cells resting_4',\n",
       " 'Neutrophil-Resting-1 [HG-U133A] [IRIS_GSE22886|GSM565378]': 'Neutrophils_4',\n",
       " 'Neutrophil-Resting-2 [HG-U133A] [IRIS_GSE22886|GSM565379]': 'Neutrophils_5',\n",
       " 'Neutrophil-Resting-3 [HG-U133A] [IRIS_GSE22886|GSM565380]': 'Neutrophils_6',\n",
       " 'Neutrophil-Resting-4 [HG-U133A] [IRIS_GSE22886|GSM565381]': 'Neutrophils_7',\n",
       " 'Neutrophil-Resting-5 [HG-U133A] [IRIS_GSE22886|GSM565382]': 'Neutrophils_8',\n",
       " 'PlasmaCell-FromBoneMarrow-1 [HG-U133A] [IRIS_GSE22886|GSM565326]': 'Plasma cells_4',\n",
       " 'PlasmaCell-FromBoneMarrow-2 [HG-U133A] [IRIS_GSE22886|GSM565327]': 'Plasma cells_5',\n",
       " 'PlasmaCell-FromBoneMarrow-3 [HG-U133A] [IRIS_GSE22886|GSM565328]': 'Plasma cells_6',\n",
       " 'PlasmaCell-FromBoneMarrow-4 [HG-U133A] [IRIS_GSE22886|GSM565329]': 'Plasma cells_7',\n",
       " 'PlasmaCell-FromPBMC-1 [HG-U133A] [IRIS_GSE22886|GSM565323]': 'Plasma cells_1',\n",
       " 'PlasmaCell-FromPBMC-2 [HG-U133A] [IRIS_GSE22886|GSM565324]': 'Plasma cells_2',\n",
       " 'PlasmaCell-FromPBMC-3 [HG-U133A] [IRIS_GSE22886|GSM565325]': 'Plasma cells_3',\n",
       " 'TN_U133A_1 [TFH_E-MEXP-750|TN_U133A_1]': 'T cells CD4 naive_1',\n",
       " 'TN_U133A_2 [TFH_E-MEXP-750|TN_U133A_2]': 'T cells CD4 naive_2',\n",
       " 'TN_U133A_3 [TFH_E-MEXP-750|TN_U133A_3]': 'T cells CD4 naive_3',\n",
       " 'Treg_1 [TREGs_GSE4527|GSM101519]': 'T cells regulatory (Tregs)_1',\n",
       " 'Treg_2 [TREGs_GSE4527|GSM101521]': 'T cells regulatory (Tregs)_2',\n",
       " 'classical or M1 activated macrophages, biological rep1 HG-U133A [M1_M2_GSE7138|GSM115055]': 'Macrophages M1_1',\n",
       " 'classical or M1 activated macrophages, biological rep2 HG-U133A [M1_M2_GSE7138|GSM115056]': 'Macrophages M1_2',\n",
       " 'classical or M1 activated macrophages, biological rep3 HG-U133A [M1_M2_GSE7138|GSM115057]': 'Macrophages M1_3'}"
      ]
     },
     "execution_count": 191,
     "metadata": {},
     "output_type": "execute_result"
    }
   ],
   "source": [
    "column_mappings"
   ]
  },
  {
   "cell_type": "code",
   "execution_count": 192,
   "metadata": {
    "collapsed": false,
    "run_control": {
     "frozen": false,
     "read_only": false
    }
   },
   "outputs": [
    {
     "data": {
      "text/html": [
       "<div>\n",
       "<table border=\"1\" class=\"dataframe\">\n",
       "  <thead>\n",
       "    <tr style=\"text-align: right;\">\n",
       "      <th></th>\n",
       "      <th>Relabel</th>\n",
       "      <th>A_LW_+BAFF_U133A_250303 [Chtanova_immune|A_LW_+BAFF_U133A_250303]</th>\n",
       "      <th>A_LW_+BAFF_U133A_70303 [Chtanova_immune|A_LW_+BAFF_U133A_70303]</th>\n",
       "      <th>A_LW_-BAFF_U133A_250303 [Chtanova_immune|A_LW_-BAFF_U133A_250303]</th>\n",
       "      <th>A_LW_-BAFF_U133A_70303 [Chtanova_immune|A_LW_-BAFF_U133A_70303]</th>\n",
       "      <th>A_LW_CD57+_U133A_030603 [Chtanova_immune|A_LW_CD57+_U133A_030603]</th>\n",
       "      <th>A_LW_CD57+_U133A_121102 [Chtanova_immune|A_LW_CD57+_U133A_121102]</th>\n",
       "      <th>A_LW_CD57-_U133A_030603 [Chtanova_immune|A_LW_CD57-_U133A_030603]</th>\n",
       "      <th>A_LW_CD57-_U133A_121102 [Chtanova_immune|A_LW_CD57-_U133A_121102]</th>\n",
       "      <th>A_LW_DC+BAFF_U133A_250304 [Chtanova_immune|A_LW_DC+BAFF_U133A_250304]</th>\n",
       "      <th>...</th>\n",
       "      <th>TEM_U133A_1 [TFH_E-MEXP-750|TEM_U133A_1]</th>\n",
       "      <th>TEM_U133A_2 [TFH_E-MEXP-750|TEM_U133A_2]</th>\n",
       "      <th>TEM_U133A_3 [TFH_E-MEXP-750|TEM_U133A_3]</th>\n",
       "      <th>T cells CD4 naive_1</th>\n",
       "      <th>T cells CD4 naive_2</th>\n",
       "      <th>T cells CD4 naive_3</th>\n",
       "      <th>TH_1 [TREGs_GSE4527|GSM101518]</th>\n",
       "      <th>T cells regulatory (Tregs)_1</th>\n",
       "      <th>TH_2 [TREGs_GSE4527|GSM101520]</th>\n",
       "      <th>T cells regulatory (Tregs)_2</th>\n",
       "    </tr>\n",
       "  </thead>\n",
       "  <tbody>\n",
       "    <tr>\n",
       "      <th>0</th>\n",
       "      <td>A1CF</td>\n",
       "      <td>123.126291</td>\n",
       "      <td>200.096593</td>\n",
       "      <td>98.131873</td>\n",
       "      <td>101.011423</td>\n",
       "      <td>127.567885</td>\n",
       "      <td>109.295918</td>\n",
       "      <td>48.352882</td>\n",
       "      <td>328.453377</td>\n",
       "      <td>370.158338</td>\n",
       "      <td>...</td>\n",
       "      <td>27.752002</td>\n",
       "      <td>81.227451</td>\n",
       "      <td>25.180355</td>\n",
       "      <td>285.075510</td>\n",
       "      <td>172.215727</td>\n",
       "      <td>201.051021</td>\n",
       "      <td>736.149237</td>\n",
       "      <td>400.456332</td>\n",
       "      <td>187.566155</td>\n",
       "      <td>414.069368</td>\n",
       "    </tr>\n",
       "    <tr>\n",
       "      <th>1</th>\n",
       "      <td>A2M</td>\n",
       "      <td>6.717625</td>\n",
       "      <td>20.118036</td>\n",
       "      <td>66.069727</td>\n",
       "      <td>92.850207</td>\n",
       "      <td>56.525064</td>\n",
       "      <td>11.575293</td>\n",
       "      <td>73.481899</td>\n",
       "      <td>31.083799</td>\n",
       "      <td>8579.063240</td>\n",
       "      <td>...</td>\n",
       "      <td>10.950348</td>\n",
       "      <td>6.779301</td>\n",
       "      <td>85.101667</td>\n",
       "      <td>18.227925</td>\n",
       "      <td>16.924983</td>\n",
       "      <td>9.039432</td>\n",
       "      <td>129.643861</td>\n",
       "      <td>75.252245</td>\n",
       "      <td>28.603811</td>\n",
       "      <td>22.338213</td>\n",
       "    </tr>\n",
       "    <tr>\n",
       "      <th>2</th>\n",
       "      <td>A4GALT</td>\n",
       "      <td>99.776993</td>\n",
       "      <td>56.050865</td>\n",
       "      <td>52.735724</td>\n",
       "      <td>62.908979</td>\n",
       "      <td>115.173360</td>\n",
       "      <td>86.849782</td>\n",
       "      <td>67.478214</td>\n",
       "      <td>172.369277</td>\n",
       "      <td>112.346538</td>\n",
       "      <td>...</td>\n",
       "      <td>22.164461</td>\n",
       "      <td>41.200690</td>\n",
       "      <td>24.504919</td>\n",
       "      <td>145.190417</td>\n",
       "      <td>135.992279</td>\n",
       "      <td>62.335556</td>\n",
       "      <td>232.214201</td>\n",
       "      <td>335.890507</td>\n",
       "      <td>207.934712</td>\n",
       "      <td>56.080230</td>\n",
       "    </tr>\n",
       "    <tr>\n",
       "      <th>3</th>\n",
       "      <td>A4GNT</td>\n",
       "      <td>155.687079</td>\n",
       "      <td>277.949173</td>\n",
       "      <td>186.486014</td>\n",
       "      <td>147.002254</td>\n",
       "      <td>165.954151</td>\n",
       "      <td>102.583059</td>\n",
       "      <td>95.945725</td>\n",
       "      <td>231.328049</td>\n",
       "      <td>151.153031</td>\n",
       "      <td>...</td>\n",
       "      <td>127.732540</td>\n",
       "      <td>100.458390</td>\n",
       "      <td>341.302205</td>\n",
       "      <td>411.623288</td>\n",
       "      <td>216.770728</td>\n",
       "      <td>141.512782</td>\n",
       "      <td>384.736274</td>\n",
       "      <td>510.736942</td>\n",
       "      <td>203.089268</td>\n",
       "      <td>539.912283</td>\n",
       "    </tr>\n",
       "    <tr>\n",
       "      <th>4</th>\n",
       "      <td>AAAS</td>\n",
       "      <td>11.966722</td>\n",
       "      <td>20.671809</td>\n",
       "      <td>25.856604</td>\n",
       "      <td>9.910548</td>\n",
       "      <td>126.638097</td>\n",
       "      <td>24.107794</td>\n",
       "      <td>159.323152</td>\n",
       "      <td>35.289550</td>\n",
       "      <td>20.363367</td>\n",
       "      <td>...</td>\n",
       "      <td>216.557256</td>\n",
       "      <td>108.114573</td>\n",
       "      <td>126.690956</td>\n",
       "      <td>423.425075</td>\n",
       "      <td>162.619165</td>\n",
       "      <td>151.616733</td>\n",
       "      <td>96.051241</td>\n",
       "      <td>176.780559</td>\n",
       "      <td>248.657488</td>\n",
       "      <td>89.153691</td>\n",
       "    </tr>\n",
       "  </tbody>\n",
       "</table>\n",
       "<p>5 rows × 195 columns</p>\n",
       "</div>"
      ],
      "text/plain": [
       "  Relabel  A_LW_+BAFF_U133A_250303 [Chtanova_immune|A_LW_+BAFF_U133A_250303]  \\\n",
       "0    A1CF                                         123.126291                   \n",
       "1     A2M                                           6.717625                   \n",
       "2  A4GALT                                          99.776993                   \n",
       "3   A4GNT                                         155.687079                   \n",
       "4    AAAS                                          11.966722                   \n",
       "\n",
       "   A_LW_+BAFF_U133A_70303 [Chtanova_immune|A_LW_+BAFF_U133A_70303]  \\\n",
       "0                                         200.096593                 \n",
       "1                                          20.118036                 \n",
       "2                                          56.050865                 \n",
       "3                                         277.949173                 \n",
       "4                                          20.671809                 \n",
       "\n",
       "   A_LW_-BAFF_U133A_250303 [Chtanova_immune|A_LW_-BAFF_U133A_250303]  \\\n",
       "0                                          98.131873                   \n",
       "1                                          66.069727                   \n",
       "2                                          52.735724                   \n",
       "3                                         186.486014                   \n",
       "4                                          25.856604                   \n",
       "\n",
       "   A_LW_-BAFF_U133A_70303 [Chtanova_immune|A_LW_-BAFF_U133A_70303]  \\\n",
       "0                                         101.011423                 \n",
       "1                                          92.850207                 \n",
       "2                                          62.908979                 \n",
       "3                                         147.002254                 \n",
       "4                                           9.910548                 \n",
       "\n",
       "   A_LW_CD57+_U133A_030603 [Chtanova_immune|A_LW_CD57+_U133A_030603]  \\\n",
       "0                                         127.567885                   \n",
       "1                                          56.525064                   \n",
       "2                                         115.173360                   \n",
       "3                                         165.954151                   \n",
       "4                                         126.638097                   \n",
       "\n",
       "   A_LW_CD57+_U133A_121102 [Chtanova_immune|A_LW_CD57+_U133A_121102]  \\\n",
       "0                                         109.295918                   \n",
       "1                                          11.575293                   \n",
       "2                                          86.849782                   \n",
       "3                                         102.583059                   \n",
       "4                                          24.107794                   \n",
       "\n",
       "   A_LW_CD57-_U133A_030603 [Chtanova_immune|A_LW_CD57-_U133A_030603]  \\\n",
       "0                                          48.352882                   \n",
       "1                                          73.481899                   \n",
       "2                                          67.478214                   \n",
       "3                                          95.945725                   \n",
       "4                                         159.323152                   \n",
       "\n",
       "   A_LW_CD57-_U133A_121102 [Chtanova_immune|A_LW_CD57-_U133A_121102]  \\\n",
       "0                                         328.453377                   \n",
       "1                                          31.083799                   \n",
       "2                                         172.369277                   \n",
       "3                                         231.328049                   \n",
       "4                                          35.289550                   \n",
       "\n",
       "   A_LW_DC+BAFF_U133A_250304 [Chtanova_immune|A_LW_DC+BAFF_U133A_250304]  \\\n",
       "0                                         370.158338                       \n",
       "1                                        8579.063240                       \n",
       "2                                         112.346538                       \n",
       "3                                         151.153031                       \n",
       "4                                          20.363367                       \n",
       "\n",
       "               ...               TEM_U133A_1 [TFH_E-MEXP-750|TEM_U133A_1]  \\\n",
       "0              ...                                              27.752002   \n",
       "1              ...                                              10.950348   \n",
       "2              ...                                              22.164461   \n",
       "3              ...                                             127.732540   \n",
       "4              ...                                             216.557256   \n",
       "\n",
       "   TEM_U133A_2 [TFH_E-MEXP-750|TEM_U133A_2]  \\\n",
       "0                                 81.227451   \n",
       "1                                  6.779301   \n",
       "2                                 41.200690   \n",
       "3                                100.458390   \n",
       "4                                108.114573   \n",
       "\n",
       "   TEM_U133A_3 [TFH_E-MEXP-750|TEM_U133A_3]  T cells CD4 naive_1  \\\n",
       "0                                 25.180355           285.075510   \n",
       "1                                 85.101667            18.227925   \n",
       "2                                 24.504919           145.190417   \n",
       "3                                341.302205           411.623288   \n",
       "4                                126.690956           423.425075   \n",
       "\n",
       "   T cells CD4 naive_2  T cells CD4 naive_3  TH_1 [TREGs_GSE4527|GSM101518]  \\\n",
       "0           172.215727           201.051021                      736.149237   \n",
       "1            16.924983             9.039432                      129.643861   \n",
       "2           135.992279            62.335556                      232.214201   \n",
       "3           216.770728           141.512782                      384.736274   \n",
       "4           162.619165           151.616733                       96.051241   \n",
       "\n",
       "   T cells regulatory (Tregs)_1  TH_2 [TREGs_GSE4527|GSM101520]  \\\n",
       "0                    400.456332                      187.566155   \n",
       "1                     75.252245                       28.603811   \n",
       "2                    335.890507                      207.934712   \n",
       "3                    510.736942                      203.089268   \n",
       "4                    176.780559                      248.657488   \n",
       "\n",
       "   T cells regulatory (Tregs)_2  \n",
       "0                    414.069368  \n",
       "1                     22.338213  \n",
       "2                     56.080230  \n",
       "3                    539.912283  \n",
       "4                     89.153691  \n",
       "\n",
       "[5 rows x 195 columns]"
      ]
     },
     "execution_count": 192,
     "metadata": {},
     "output_type": "execute_result"
    }
   ],
   "source": [
    "cib_raw = cib_raw.rename(columns=lambda x: column_mappings[x] if x in column_mappings else x)\n",
    "cib_raw.head()"
   ]
  },
  {
   "cell_type": "code",
   "execution_count": 193,
   "metadata": {
    "collapsed": false,
    "run_control": {
     "frozen": false,
     "read_only": false
    }
   },
   "outputs": [
    {
     "data": {
      "text/html": [
       "<div>\n",
       "<table border=\"1\" class=\"dataframe\">\n",
       "  <thead>\n",
       "    <tr style=\"text-align: right;\">\n",
       "      <th></th>\n",
       "      <th>A_LW_+BAFF_U133A_250303 [Chtanova_immune|A_LW_+BAFF_U133A_250303]</th>\n",
       "      <th>A_LW_+BAFF_U133A_70303 [Chtanova_immune|A_LW_+BAFF_U133A_70303]</th>\n",
       "      <th>A_LW_-BAFF_U133A_250303 [Chtanova_immune|A_LW_-BAFF_U133A_250303]</th>\n",
       "      <th>A_LW_-BAFF_U133A_70303 [Chtanova_immune|A_LW_-BAFF_U133A_70303]</th>\n",
       "      <th>A_LW_CD57+_U133A_030603 [Chtanova_immune|A_LW_CD57+_U133A_030603]</th>\n",
       "      <th>A_LW_CD57+_U133A_121102 [Chtanova_immune|A_LW_CD57+_U133A_121102]</th>\n",
       "      <th>A_LW_CD57-_U133A_030603 [Chtanova_immune|A_LW_CD57-_U133A_030603]</th>\n",
       "      <th>A_LW_CD57-_U133A_121102 [Chtanova_immune|A_LW_CD57-_U133A_121102]</th>\n",
       "      <th>A_LW_DC+BAFF_U133A_250304 [Chtanova_immune|A_LW_DC+BAFF_U133A_250304]</th>\n",
       "      <th>A_LW_DC-BAFF_U133A_250304 [Chtanova_immune|A_LW_DC-BAFF_U133A_250304]</th>\n",
       "      <th>...</th>\n",
       "      <th>TEM_U133A_1 [TFH_E-MEXP-750|TEM_U133A_1]</th>\n",
       "      <th>TEM_U133A_2 [TFH_E-MEXP-750|TEM_U133A_2]</th>\n",
       "      <th>TEM_U133A_3 [TFH_E-MEXP-750|TEM_U133A_3]</th>\n",
       "      <th>T cells CD4 naive_1</th>\n",
       "      <th>T cells CD4 naive_2</th>\n",
       "      <th>T cells CD4 naive_3</th>\n",
       "      <th>TH_1 [TREGs_GSE4527|GSM101518]</th>\n",
       "      <th>T cells regulatory (Tregs)_1</th>\n",
       "      <th>TH_2 [TREGs_GSE4527|GSM101520]</th>\n",
       "      <th>T cells regulatory (Tregs)_2</th>\n",
       "    </tr>\n",
       "    <tr>\n",
       "      <th>Relabel</th>\n",
       "      <th></th>\n",
       "      <th></th>\n",
       "      <th></th>\n",
       "      <th></th>\n",
       "      <th></th>\n",
       "      <th></th>\n",
       "      <th></th>\n",
       "      <th></th>\n",
       "      <th></th>\n",
       "      <th></th>\n",
       "      <th></th>\n",
       "      <th></th>\n",
       "      <th></th>\n",
       "      <th></th>\n",
       "      <th></th>\n",
       "      <th></th>\n",
       "      <th></th>\n",
       "      <th></th>\n",
       "      <th></th>\n",
       "      <th></th>\n",
       "      <th></th>\n",
       "    </tr>\n",
       "  </thead>\n",
       "  <tbody>\n",
       "    <tr>\n",
       "      <th>A1CF</th>\n",
       "      <td>123.126291</td>\n",
       "      <td>200.096593</td>\n",
       "      <td>98.131873</td>\n",
       "      <td>101.011423</td>\n",
       "      <td>127.567885</td>\n",
       "      <td>109.295918</td>\n",
       "      <td>48.352882</td>\n",
       "      <td>328.453377</td>\n",
       "      <td>370.158338</td>\n",
       "      <td>313.799840</td>\n",
       "      <td>...</td>\n",
       "      <td>27.752002</td>\n",
       "      <td>81.227451</td>\n",
       "      <td>25.180355</td>\n",
       "      <td>285.075510</td>\n",
       "      <td>172.215727</td>\n",
       "      <td>201.051021</td>\n",
       "      <td>736.149237</td>\n",
       "      <td>400.456332</td>\n",
       "      <td>187.566155</td>\n",
       "      <td>414.069368</td>\n",
       "    </tr>\n",
       "    <tr>\n",
       "      <th>A2M</th>\n",
       "      <td>6.717625</td>\n",
       "      <td>20.118036</td>\n",
       "      <td>66.069727</td>\n",
       "      <td>92.850207</td>\n",
       "      <td>56.525064</td>\n",
       "      <td>11.575293</td>\n",
       "      <td>73.481899</td>\n",
       "      <td>31.083799</td>\n",
       "      <td>8579.063240</td>\n",
       "      <td>10105.476910</td>\n",
       "      <td>...</td>\n",
       "      <td>10.950348</td>\n",
       "      <td>6.779301</td>\n",
       "      <td>85.101667</td>\n",
       "      <td>18.227925</td>\n",
       "      <td>16.924983</td>\n",
       "      <td>9.039432</td>\n",
       "      <td>129.643861</td>\n",
       "      <td>75.252245</td>\n",
       "      <td>28.603811</td>\n",
       "      <td>22.338213</td>\n",
       "    </tr>\n",
       "    <tr>\n",
       "      <th>A4GALT</th>\n",
       "      <td>99.776993</td>\n",
       "      <td>56.050865</td>\n",
       "      <td>52.735724</td>\n",
       "      <td>62.908979</td>\n",
       "      <td>115.173360</td>\n",
       "      <td>86.849782</td>\n",
       "      <td>67.478214</td>\n",
       "      <td>172.369277</td>\n",
       "      <td>112.346538</td>\n",
       "      <td>37.343273</td>\n",
       "      <td>...</td>\n",
       "      <td>22.164461</td>\n",
       "      <td>41.200690</td>\n",
       "      <td>24.504919</td>\n",
       "      <td>145.190417</td>\n",
       "      <td>135.992279</td>\n",
       "      <td>62.335556</td>\n",
       "      <td>232.214201</td>\n",
       "      <td>335.890507</td>\n",
       "      <td>207.934712</td>\n",
       "      <td>56.080230</td>\n",
       "    </tr>\n",
       "    <tr>\n",
       "      <th>A4GNT</th>\n",
       "      <td>155.687079</td>\n",
       "      <td>277.949173</td>\n",
       "      <td>186.486014</td>\n",
       "      <td>147.002254</td>\n",
       "      <td>165.954151</td>\n",
       "      <td>102.583059</td>\n",
       "      <td>95.945725</td>\n",
       "      <td>231.328049</td>\n",
       "      <td>151.153031</td>\n",
       "      <td>87.579816</td>\n",
       "      <td>...</td>\n",
       "      <td>127.732540</td>\n",
       "      <td>100.458390</td>\n",
       "      <td>341.302205</td>\n",
       "      <td>411.623288</td>\n",
       "      <td>216.770728</td>\n",
       "      <td>141.512782</td>\n",
       "      <td>384.736274</td>\n",
       "      <td>510.736942</td>\n",
       "      <td>203.089268</td>\n",
       "      <td>539.912283</td>\n",
       "    </tr>\n",
       "    <tr>\n",
       "      <th>AAAS</th>\n",
       "      <td>11.966722</td>\n",
       "      <td>20.671809</td>\n",
       "      <td>25.856604</td>\n",
       "      <td>9.910548</td>\n",
       "      <td>126.638097</td>\n",
       "      <td>24.107794</td>\n",
       "      <td>159.323152</td>\n",
       "      <td>35.289550</td>\n",
       "      <td>20.363367</td>\n",
       "      <td>45.995957</td>\n",
       "      <td>...</td>\n",
       "      <td>216.557256</td>\n",
       "      <td>108.114573</td>\n",
       "      <td>126.690956</td>\n",
       "      <td>423.425075</td>\n",
       "      <td>162.619165</td>\n",
       "      <td>151.616733</td>\n",
       "      <td>96.051241</td>\n",
       "      <td>176.780559</td>\n",
       "      <td>248.657488</td>\n",
       "      <td>89.153691</td>\n",
       "    </tr>\n",
       "  </tbody>\n",
       "</table>\n",
       "<p>5 rows × 194 columns</p>\n",
       "</div>"
      ],
      "text/plain": [
       "         A_LW_+BAFF_U133A_250303 [Chtanova_immune|A_LW_+BAFF_U133A_250303]  \\\n",
       "Relabel                                                                      \n",
       "A1CF                                            123.126291                   \n",
       "A2M                                               6.717625                   \n",
       "A4GALT                                           99.776993                   \n",
       "A4GNT                                           155.687079                   \n",
       "AAAS                                             11.966722                   \n",
       "\n",
       "         A_LW_+BAFF_U133A_70303 [Chtanova_immune|A_LW_+BAFF_U133A_70303]  \\\n",
       "Relabel                                                                    \n",
       "A1CF                                            200.096593                 \n",
       "A2M                                              20.118036                 \n",
       "A4GALT                                           56.050865                 \n",
       "A4GNT                                           277.949173                 \n",
       "AAAS                                             20.671809                 \n",
       "\n",
       "         A_LW_-BAFF_U133A_250303 [Chtanova_immune|A_LW_-BAFF_U133A_250303]  \\\n",
       "Relabel                                                                      \n",
       "A1CF                                             98.131873                   \n",
       "A2M                                              66.069727                   \n",
       "A4GALT                                           52.735724                   \n",
       "A4GNT                                           186.486014                   \n",
       "AAAS                                             25.856604                   \n",
       "\n",
       "         A_LW_-BAFF_U133A_70303 [Chtanova_immune|A_LW_-BAFF_U133A_70303]  \\\n",
       "Relabel                                                                    \n",
       "A1CF                                            101.011423                 \n",
       "A2M                                              92.850207                 \n",
       "A4GALT                                           62.908979                 \n",
       "A4GNT                                           147.002254                 \n",
       "AAAS                                              9.910548                 \n",
       "\n",
       "         A_LW_CD57+_U133A_030603 [Chtanova_immune|A_LW_CD57+_U133A_030603]  \\\n",
       "Relabel                                                                      \n",
       "A1CF                                            127.567885                   \n",
       "A2M                                              56.525064                   \n",
       "A4GALT                                          115.173360                   \n",
       "A4GNT                                           165.954151                   \n",
       "AAAS                                            126.638097                   \n",
       "\n",
       "         A_LW_CD57+_U133A_121102 [Chtanova_immune|A_LW_CD57+_U133A_121102]  \\\n",
       "Relabel                                                                      \n",
       "A1CF                                            109.295918                   \n",
       "A2M                                              11.575293                   \n",
       "A4GALT                                           86.849782                   \n",
       "A4GNT                                           102.583059                   \n",
       "AAAS                                             24.107794                   \n",
       "\n",
       "         A_LW_CD57-_U133A_030603 [Chtanova_immune|A_LW_CD57-_U133A_030603]  \\\n",
       "Relabel                                                                      \n",
       "A1CF                                             48.352882                   \n",
       "A2M                                              73.481899                   \n",
       "A4GALT                                           67.478214                   \n",
       "A4GNT                                            95.945725                   \n",
       "AAAS                                            159.323152                   \n",
       "\n",
       "         A_LW_CD57-_U133A_121102 [Chtanova_immune|A_LW_CD57-_U133A_121102]  \\\n",
       "Relabel                                                                      \n",
       "A1CF                                            328.453377                   \n",
       "A2M                                              31.083799                   \n",
       "A4GALT                                          172.369277                   \n",
       "A4GNT                                           231.328049                   \n",
       "AAAS                                             35.289550                   \n",
       "\n",
       "         A_LW_DC+BAFF_U133A_250304 [Chtanova_immune|A_LW_DC+BAFF_U133A_250304]  \\\n",
       "Relabel                                                                          \n",
       "A1CF                                            370.158338                       \n",
       "A2M                                            8579.063240                       \n",
       "A4GALT                                          112.346538                       \n",
       "A4GNT                                           151.153031                       \n",
       "AAAS                                             20.363367                       \n",
       "\n",
       "         A_LW_DC-BAFF_U133A_250304 [Chtanova_immune|A_LW_DC-BAFF_U133A_250304]  \\\n",
       "Relabel                                                                          \n",
       "A1CF                                            313.799840                       \n",
       "A2M                                           10105.476910                       \n",
       "A4GALT                                           37.343273                       \n",
       "A4GNT                                            87.579816                       \n",
       "AAAS                                             45.995957                       \n",
       "\n",
       "                     ...               \\\n",
       "Relabel              ...                \n",
       "A1CF                 ...                \n",
       "A2M                  ...                \n",
       "A4GALT               ...                \n",
       "A4GNT                ...                \n",
       "AAAS                 ...                \n",
       "\n",
       "         TEM_U133A_1 [TFH_E-MEXP-750|TEM_U133A_1]  \\\n",
       "Relabel                                             \n",
       "A1CF                                    27.752002   \n",
       "A2M                                     10.950348   \n",
       "A4GALT                                  22.164461   \n",
       "A4GNT                                  127.732540   \n",
       "AAAS                                   216.557256   \n",
       "\n",
       "         TEM_U133A_2 [TFH_E-MEXP-750|TEM_U133A_2]  \\\n",
       "Relabel                                             \n",
       "A1CF                                    81.227451   \n",
       "A2M                                      6.779301   \n",
       "A4GALT                                  41.200690   \n",
       "A4GNT                                  100.458390   \n",
       "AAAS                                   108.114573   \n",
       "\n",
       "         TEM_U133A_3 [TFH_E-MEXP-750|TEM_U133A_3]  T cells CD4 naive_1  \\\n",
       "Relabel                                                                  \n",
       "A1CF                                    25.180355           285.075510   \n",
       "A2M                                     85.101667            18.227925   \n",
       "A4GALT                                  24.504919           145.190417   \n",
       "A4GNT                                  341.302205           411.623288   \n",
       "AAAS                                   126.690956           423.425075   \n",
       "\n",
       "         T cells CD4 naive_2  T cells CD4 naive_3  \\\n",
       "Relabel                                             \n",
       "A1CF              172.215727           201.051021   \n",
       "A2M                16.924983             9.039432   \n",
       "A4GALT            135.992279            62.335556   \n",
       "A4GNT             216.770728           141.512782   \n",
       "AAAS              162.619165           151.616733   \n",
       "\n",
       "         TH_1 [TREGs_GSE4527|GSM101518]  T cells regulatory (Tregs)_1  \\\n",
       "Relabel                                                                 \n",
       "A1CF                         736.149237                    400.456332   \n",
       "A2M                          129.643861                     75.252245   \n",
       "A4GALT                       232.214201                    335.890507   \n",
       "A4GNT                        384.736274                    510.736942   \n",
       "AAAS                          96.051241                    176.780559   \n",
       "\n",
       "         TH_2 [TREGs_GSE4527|GSM101520]  T cells regulatory (Tregs)_2  \n",
       "Relabel                                                                \n",
       "A1CF                         187.566155                    414.069368  \n",
       "A2M                           28.603811                     22.338213  \n",
       "A4GALT                       207.934712                     56.080230  \n",
       "A4GNT                        203.089268                    539.912283  \n",
       "AAAS                         248.657488                     89.153691  \n",
       "\n",
       "[5 rows x 194 columns]"
      ]
     },
     "execution_count": 193,
     "metadata": {},
     "output_type": "execute_result"
    }
   ],
   "source": [
    "cib_raw = cib_raw.set_index('Relabel')\n",
    "cib_raw.head()"
   ]
  },
  {
   "cell_type": "code",
   "execution_count": 194,
   "metadata": {
    "collapsed": false,
    "run_control": {
     "frozen": false,
     "read_only": false
    }
   },
   "outputs": [
    {
     "name": "stdout",
     "output_type": "stream",
     "text": [
      "B cells naive_1\n",
      "B cells naive_2\n",
      "B cells naive_3\n",
      "B cells naive_4\n",
      "B cells naive_5\n",
      "B cells naive_6\n",
      "B cells naive_7\n",
      "TH_1 [TREGs_GSE4527|GSM101518]\n",
      "T cells regulatory (Tregs)_1\n",
      "TH_2 [TREGs_GSE4527|GSM101520]\n",
      "T cells regulatory (Tregs)_2\n"
     ]
    }
   ],
   "source": [
    "for c in cib_raw.columns:\n",
    "    if 'b cells naive' in c.lower():\n",
    "        print c\n",
    "    if 'reg' in c.lower():\n",
    "        print c"
   ]
  },
  {
   "cell_type": "code",
   "execution_count": 195,
   "metadata": {
    "collapsed": false,
    "run_control": {
     "frozen": false,
     "read_only": false
    }
   },
   "outputs": [
    {
     "data": {
      "text/plain": [
       "([0.2, 0.6],\n",
       " ['B cells naive', 'T cells regulatory (Tregs)'],\n",
       " ['B cells naive_3', 'T cells regulatory (Tregs)_2'])"
      ]
     },
     "execution_count": 195,
     "metadata": {},
     "output_type": "execute_result"
    }
   ],
   "source": [
    "raw_cols = ['B cells naive_3', 'T cells regulatory (Tregs)_2']\n",
    "weights, simple_cols, raw_cols"
   ]
  },
  {
   "cell_type": "code",
   "execution_count": 196,
   "metadata": {
    "collapsed": false,
    "run_control": {
     "frozen": false,
     "read_only": false
    }
   },
   "outputs": [
    {
     "name": "stdout",
     "output_type": "stream",
     "text": [
      "(11866,)\n"
     ]
    },
    {
     "data": {
      "text/plain": [
       "Relabel\n",
       "A1CF      394.948380\n",
       "A2M        18.191373\n",
       "A4GALT     46.246087\n",
       "A4GNT     427.568741\n",
       "AAAS       62.422033\n",
       "dtype: float64"
      ]
     },
     "execution_count": 196,
     "metadata": {},
     "output_type": "execute_result"
    }
   ],
   "source": [
    "mix4=(cib_raw[raw_cols] * weights).sum(axis=1)\n",
    "print mix4.shape\n",
    "mix4.head()"
   ]
  },
  {
   "cell_type": "code",
   "execution_count": 197,
   "metadata": {
    "collapsed": false,
    "run_control": {
     "frozen": false,
     "read_only": false
    }
   },
   "outputs": [
    {
     "name": "stdout",
     "output_type": "stream",
     "text": [
      "(11866,)\n"
     ]
    },
    {
     "data": {
      "text/plain": [
       "Relabel\n",
       "A1CF      396.847355\n",
       "A2M        18.590131\n",
       "A4GALT     44.555215\n",
       "A4GNT     427.096902\n",
       "AAAS       63.492888\n",
       "dtype: float64"
      ]
     },
     "execution_count": 197,
     "metadata": {},
     "output_type": "execute_result"
    }
   ],
   "source": [
    "mix5 = mix4 + np.random.normal(0,1,len(mix4))\n",
    "print mix5.shape\n",
    "mix5.head()"
   ]
  },
  {
   "cell_type": "code",
   "execution_count": 234,
   "metadata": {
    "collapsed": false,
    "run_control": {
     "frozen": false,
     "read_only": false
    }
   },
   "outputs": [
    {
     "name": "stdout",
     "output_type": "stream",
     "text": [
      "(11866,)\n"
     ]
    },
    {
     "data": {
      "text/plain": [
       "GeneSymbol\n",
       "A1CF      410.973022\n",
       "A2M        20.459293\n",
       "A4GALT     57.707548\n",
       "A4GNT     536.850856\n",
       "AAAS       72.642888\n",
       "dtype: float64"
      ]
     },
     "execution_count": 234,
     "metadata": {},
     "output_type": "execute_result"
    }
   ],
   "source": [
    "weights_noisy2 = np.reshape(weights*len(mix4), cib_raw[raw_cols].shape)\n",
    "weights_noisy2 += np.abs(np.random.normal(0,0.1, weights_noisy2.shape))\n",
    "weights_noisy2 = weights_noisy2.clip(0,1)\n",
    "mix6=(weights_noisy2 * cib_raw[raw_cols]).sum(axis=1)\n",
    "print mix6.shape\n",
    "mix6.head()"
   ]
  },
  {
   "cell_type": "code",
   "execution_count": 235,
   "metadata": {
    "collapsed": false,
    "run_control": {
     "frozen": false,
     "read_only": false
    }
   },
   "outputs": [
    {
     "data": {
      "text/html": [
       "<div>\n",
       "<table border=\"1\" class=\"dataframe\">\n",
       "  <thead>\n",
       "    <tr style=\"text-align: right;\">\n",
       "      <th></th>\n",
       "      <th>4 NoNoise</th>\n",
       "      <th>5 SimpleNoise</th>\n",
       "      <th>6 ComplexNoise</th>\n",
       "    </tr>\n",
       "    <tr>\n",
       "      <th>GeneSymbol</th>\n",
       "      <th></th>\n",
       "      <th></th>\n",
       "      <th></th>\n",
       "    </tr>\n",
       "  </thead>\n",
       "  <tbody>\n",
       "    <tr>\n",
       "      <th>A1CF</th>\n",
       "      <td>394.948380</td>\n",
       "      <td>396.847355</td>\n",
       "      <td>410.973022</td>\n",
       "    </tr>\n",
       "    <tr>\n",
       "      <th>A2M</th>\n",
       "      <td>18.191373</td>\n",
       "      <td>18.590131</td>\n",
       "      <td>20.459293</td>\n",
       "    </tr>\n",
       "    <tr>\n",
       "      <th>A4GALT</th>\n",
       "      <td>46.246087</td>\n",
       "      <td>44.555215</td>\n",
       "      <td>57.707548</td>\n",
       "    </tr>\n",
       "    <tr>\n",
       "      <th>A4GNT</th>\n",
       "      <td>427.568741</td>\n",
       "      <td>427.096902</td>\n",
       "      <td>536.850856</td>\n",
       "    </tr>\n",
       "    <tr>\n",
       "      <th>AAAS</th>\n",
       "      <td>62.422033</td>\n",
       "      <td>63.492888</td>\n",
       "      <td>72.642888</td>\n",
       "    </tr>\n",
       "  </tbody>\n",
       "</table>\n",
       "</div>"
      ],
      "text/plain": [
       "             4 NoNoise  5 SimpleNoise  6 ComplexNoise\n",
       "GeneSymbol                                           \n",
       "A1CF        394.948380     396.847355      410.973022\n",
       "A2M          18.191373      18.590131       20.459293\n",
       "A4GALT       46.246087      44.555215       57.707548\n",
       "A4GNT       427.568741     427.096902      536.850856\n",
       "AAAS         62.422033      63.492888       72.642888"
      ]
     },
     "execution_count": 235,
     "metadata": {},
     "output_type": "execute_result"
    }
   ],
   "source": [
    "raw_line_mixtures = pd.DataFrame({'4 NoNoise':mix4, '5 SimpleNoise': mix5, '6 ComplexNoise': mix6})\n",
    "raw_line_mixtures.index.name='GeneSymbol'\n",
    "raw_line_mixtures.to_csv('test_mixtures/raw_line_mixtures.txt', sep='\\t')\n",
    "raw_line_mixtures.head()"
   ]
  },
  {
   "cell_type": "code",
   "execution_count": 236,
   "metadata": {
    "collapsed": false,
    "run_control": {
     "frozen": false,
     "read_only": false
    }
   },
   "outputs": [
    {
     "data": {
      "text/plain": [
       "(11866, 3)"
      ]
     },
     "execution_count": 236,
     "metadata": {},
     "output_type": "execute_result"
    }
   ],
   "source": [
    "raw_line_mixtures.shape"
   ]
  },
  {
   "cell_type": "markdown",
   "metadata": {},
   "source": [
    "### run cibersort on this"
   ]
  },
  {
   "cell_type": "code",
   "execution_count": 237,
   "metadata": {
    "collapsed": false,
    "run_control": {
     "frozen": false,
     "read_only": false
    }
   },
   "outputs": [
    {
     "name": "stdout",
     "output_type": "stream",
     "text": [
      ">===================Settings====================\n",
      ">Mixture file: test_mixtures/raw_line_mixtures.txt\n",
      ">Signature matrix file: LM22.txt\n",
      ">===============================================\n",
      ">R version 3.2.2 (2015-08-14)\n",
      ">==================CIBERSORT====================\n",
      "Column\tB cells naive\tB cells memory\tPlasma cells\tT cells CD8\tT cells CD4 naive\tT cells CD4 memory resting\tT cells CD4 memory activated\tT cells follicular helper\tT cells regulatory (Tregs)\tT cells gamma delta\tNK cells resting\tNK cells activated\tMonocytes\tMacrophages M0\tMacrophages M1\tMacrophages M2\tDendritic cells resting\tDendritic cells activated\tMast cells resting\tMast cells activated\tEosinophils\tNeutrophils\tP-value\tPearson Correlation\tRMSE\t\n",
      "0\t0.14308210607547053\t0.02240907113784131\t0\t0.006856197565217613\t0\t0.014039875494356356\t2.6674576451458855E-4\t0.04243286822744824\t0.7396212667617615\t0\t0\t0.008739321411854831\t0.003026964416642132\t0.0020017166006392074\t0.002863238918337194\t6.342134028547625E-4\t0.0050846090643444555\t0\t0.007843631554443616\t0\t0\t0.0010981736042735791\t0.0\t0.9274457944356354\t0.4264016358583769\n",
      "1\t0.14460812160782474\t0.02118569211201633\t0\t0.006727580752735839\t0\t0.014050615091325757\t5.891664002504818E-4\t0.04268126248142124\t0.7391498651236675\t0\t0\t0.008561823288383452\t0.002956766363244232\t0.0025554343330681326\t0.0028562692641548497\t2.3456182451571896E-4\t0.004977060181037416\t0\t0.007752885981562611\t0\t0\t0.0011128951947916707\t0.0\t0.927399783865472\t0.42652768717985634\n",
      "2\t0.14489137242699265\t0.04825967476905453\t0\t0.004146419778764531\t0\t0.026256727250120866\t0\t0.030808628255996756\t0.7103501736745353\t0\t0\t0.013924131641280691\t0.0016411289745714543\t0.00321037134414586\t0.002291991732229127\t4.839035447653097E-4\t0.004323068251612118\t0\t0.008089831114138793\t0\t0\t0.0013225772417920082\t0.0\t0.9192048417964267\t0.44706998187441405\n"
     ]
    }
   ],
   "source": [
    "!java -Xmx3g -Xms3g -jar ~/CIBERSORT_package/CIBERSORT.jar -M test_mixtures/raw_line_mixtures.txt -B LM22.txt"
   ]
  },
  {
   "cell_type": "code",
   "execution_count": 238,
   "metadata": {
    "collapsed": false,
    "run_control": {
     "frozen": false,
     "read_only": false
    }
   },
   "outputs": [
    {
     "data": {
      "text/html": [
       "<div>\n",
       "<table border=\"1\" class=\"dataframe\">\n",
       "  <thead>\n",
       "    <tr style=\"text-align: right;\">\n",
       "      <th></th>\n",
       "      <th>Column</th>\n",
       "      <th>B cells naive</th>\n",
       "      <th>B cells memory</th>\n",
       "      <th>Plasma cells</th>\n",
       "      <th>T cells CD8</th>\n",
       "      <th>T cells CD4 naive</th>\n",
       "      <th>T cells CD4 memory resting</th>\n",
       "      <th>T cells CD4 memory activated</th>\n",
       "      <th>T cells follicular helper</th>\n",
       "      <th>T cells regulatory (Tregs)</th>\n",
       "      <th>...</th>\n",
       "      <th>Dendritic cells resting</th>\n",
       "      <th>Dendritic cells activated</th>\n",
       "      <th>Mast cells resting</th>\n",
       "      <th>Mast cells activated</th>\n",
       "      <th>Eosinophils</th>\n",
       "      <th>Neutrophils</th>\n",
       "      <th>P-value</th>\n",
       "      <th>Pearson Correlation</th>\n",
       "      <th>RMSE</th>\n",
       "      <th>Unnamed: 26</th>\n",
       "    </tr>\n",
       "  </thead>\n",
       "  <tbody>\n",
       "    <tr>\n",
       "      <th>0</th>\n",
       "      <td>0</td>\n",
       "      <td>0.143082</td>\n",
       "      <td>0.022409</td>\n",
       "      <td>0</td>\n",
       "      <td>0.006856</td>\n",
       "      <td>0</td>\n",
       "      <td>0.014040</td>\n",
       "      <td>0.000267</td>\n",
       "      <td>0.042433</td>\n",
       "      <td>0.739621</td>\n",
       "      <td>...</td>\n",
       "      <td>0.005085</td>\n",
       "      <td>0</td>\n",
       "      <td>0.007844</td>\n",
       "      <td>0</td>\n",
       "      <td>0</td>\n",
       "      <td>0.001098</td>\n",
       "      <td>0.0</td>\n",
       "      <td>0.927446</td>\n",
       "      <td>0.426402</td>\n",
       "      <td>NaN</td>\n",
       "    </tr>\n",
       "    <tr>\n",
       "      <th>1</th>\n",
       "      <td>1</td>\n",
       "      <td>0.144608</td>\n",
       "      <td>0.021186</td>\n",
       "      <td>0</td>\n",
       "      <td>0.006728</td>\n",
       "      <td>0</td>\n",
       "      <td>0.014051</td>\n",
       "      <td>0.000589</td>\n",
       "      <td>0.042681</td>\n",
       "      <td>0.739150</td>\n",
       "      <td>...</td>\n",
       "      <td>0.004977</td>\n",
       "      <td>0</td>\n",
       "      <td>0.007753</td>\n",
       "      <td>0</td>\n",
       "      <td>0</td>\n",
       "      <td>0.001113</td>\n",
       "      <td>0.0</td>\n",
       "      <td>0.927400</td>\n",
       "      <td>0.426528</td>\n",
       "      <td>NaN</td>\n",
       "    </tr>\n",
       "    <tr>\n",
       "      <th>2</th>\n",
       "      <td>2</td>\n",
       "      <td>0.144891</td>\n",
       "      <td>0.048260</td>\n",
       "      <td>0</td>\n",
       "      <td>0.004146</td>\n",
       "      <td>0</td>\n",
       "      <td>0.026257</td>\n",
       "      <td>0.000000</td>\n",
       "      <td>0.030809</td>\n",
       "      <td>0.710350</td>\n",
       "      <td>...</td>\n",
       "      <td>0.004323</td>\n",
       "      <td>0</td>\n",
       "      <td>0.008090</td>\n",
       "      <td>0</td>\n",
       "      <td>0</td>\n",
       "      <td>0.001323</td>\n",
       "      <td>0.0</td>\n",
       "      <td>0.919205</td>\n",
       "      <td>0.447070</td>\n",
       "      <td>NaN</td>\n",
       "    </tr>\n",
       "  </tbody>\n",
       "</table>\n",
       "<p>3 rows × 27 columns</p>\n",
       "</div>"
      ],
      "text/plain": [
       "   Column  B cells naive  B cells memory  Plasma cells  T cells CD8  \\\n",
       "0       0       0.143082        0.022409             0     0.006856   \n",
       "1       1       0.144608        0.021186             0     0.006728   \n",
       "2       2       0.144891        0.048260             0     0.004146   \n",
       "\n",
       "   T cells CD4 naive  T cells CD4 memory resting  \\\n",
       "0                  0                    0.014040   \n",
       "1                  0                    0.014051   \n",
       "2                  0                    0.026257   \n",
       "\n",
       "   T cells CD4 memory activated  T cells follicular helper  \\\n",
       "0                      0.000267                   0.042433   \n",
       "1                      0.000589                   0.042681   \n",
       "2                      0.000000                   0.030809   \n",
       "\n",
       "   T cells regulatory (Tregs)     ...       Dendritic cells resting  \\\n",
       "0                    0.739621     ...                      0.005085   \n",
       "1                    0.739150     ...                      0.004977   \n",
       "2                    0.710350     ...                      0.004323   \n",
       "\n",
       "   Dendritic cells activated  Mast cells resting  Mast cells activated  \\\n",
       "0                          0            0.007844                     0   \n",
       "1                          0            0.007753                     0   \n",
       "2                          0            0.008090                     0   \n",
       "\n",
       "   Eosinophils  Neutrophils  P-value  Pearson Correlation      RMSE  \\\n",
       "0            0     0.001098      0.0             0.927446  0.426402   \n",
       "1            0     0.001113      0.0             0.927400  0.426528   \n",
       "2            0     0.001323      0.0             0.919205  0.447070   \n",
       "\n",
       "   Unnamed: 26  \n",
       "0          NaN  \n",
       "1          NaN  \n",
       "2          NaN  \n",
       "\n",
       "[3 rows x 27 columns]"
      ]
     },
     "execution_count": 238,
     "metadata": {},
     "output_type": "execute_result"
    }
   ],
   "source": [
    "results2 = \"\"\"\n",
    "Column\tB cells naive\tB cells memory\tPlasma cells\tT cells CD8\tT cells CD4 naive\tT cells CD4 memory resting\tT cells CD4 memory activated\tT cells follicular helper\tT cells regulatory (Tregs)\tT cells gamma delta\tNK cells resting\tNK cells activated\tMonocytes\tMacrophages M0\tMacrophages M1\tMacrophages M2\tDendritic cells resting\tDendritic cells activated\tMast cells resting\tMast cells activated\tEosinophils\tNeutrophils\tP-value\tPearson Correlation\tRMSE\t\n",
    "0\t0.14308210607547053\t0.02240907113784131\t0\t0.006856197565217613\t0\t0.014039875494356356\t2.6674576451458855E-4\t0.04243286822744824\t0.7396212667617615\t0\t0\t0.008739321411854831\t0.003026964416642132\t0.0020017166006392074\t0.002863238918337194\t6.342134028547625E-4\t0.0050846090643444555\t0\t0.007843631554443616\t0\t0\t0.0010981736042735791\t0.0\t0.9274457944356354\t0.4264016358583769\n",
    "1\t0.14460812160782474\t0.02118569211201633\t0\t0.006727580752735839\t0\t0.014050615091325757\t5.891664002504818E-4\t0.04268126248142124\t0.7391498651236675\t0\t0\t0.008561823288383452\t0.002956766363244232\t0.0025554343330681326\t0.0028562692641548497\t2.3456182451571896E-4\t0.004977060181037416\t0\t0.007752885981562611\t0\t0\t0.0011128951947916707\t0.0\t0.927399783865472\t0.42652768717985634\n",
    "2\t0.14489137242699265\t0.04825967476905453\t0\t0.004146419778764531\t0\t0.026256727250120866\t0\t0.030808628255996756\t0.7103501736745353\t0\t0\t0.013924131641280691\t0.0016411289745714543\t0.00321037134414586\t0.002291991732229127\t4.839035447653097E-4\t0.004323068251612118\t0\t0.008089831114138793\t0\t0\t0.0013225772417920082\t0.0\t0.9192048417964267\t0.44706998187441405\n",
    "\"\"\"\n",
    "results2 = pd.read_csv(StringIO(results2), sep='\\t')\n",
    "results2.head()"
   ]
  },
  {
   "cell_type": "code",
   "execution_count": 239,
   "metadata": {
    "collapsed": false,
    "run_control": {
     "frozen": false,
     "read_only": false
    }
   },
   "outputs": [
    {
     "name": "stdout",
     "output_type": "stream",
     "text": [
      "(3, 26) (3, 22)\n"
     ]
    },
    {
     "data": {
      "text/html": [
       "<div>\n",
       "<table border=\"1\" class=\"dataframe\">\n",
       "  <thead>\n",
       "    <tr style=\"text-align: right;\">\n",
       "      <th></th>\n",
       "      <th>B cells naive</th>\n",
       "      <th>B cells memory</th>\n",
       "      <th>Plasma cells</th>\n",
       "      <th>T cells CD8</th>\n",
       "      <th>T cells CD4 naive</th>\n",
       "      <th>T cells CD4 memory resting</th>\n",
       "      <th>T cells CD4 memory activated</th>\n",
       "      <th>T cells follicular helper</th>\n",
       "      <th>T cells regulatory (Tregs)</th>\n",
       "      <th>T cells gamma delta</th>\n",
       "      <th>...</th>\n",
       "      <th>Monocytes</th>\n",
       "      <th>Macrophages M0</th>\n",
       "      <th>Macrophages M1</th>\n",
       "      <th>Macrophages M2</th>\n",
       "      <th>Dendritic cells resting</th>\n",
       "      <th>Dendritic cells activated</th>\n",
       "      <th>Mast cells resting</th>\n",
       "      <th>Mast cells activated</th>\n",
       "      <th>Eosinophils</th>\n",
       "      <th>Neutrophils</th>\n",
       "    </tr>\n",
       "  </thead>\n",
       "  <tbody>\n",
       "    <tr>\n",
       "      <th>0</th>\n",
       "      <td>0.143082</td>\n",
       "      <td>0.022409</td>\n",
       "      <td>0</td>\n",
       "      <td>0.006856</td>\n",
       "      <td>0</td>\n",
       "      <td>0.014040</td>\n",
       "      <td>0.000267</td>\n",
       "      <td>0.042433</td>\n",
       "      <td>0.739621</td>\n",
       "      <td>0</td>\n",
       "      <td>...</td>\n",
       "      <td>0.003027</td>\n",
       "      <td>0.002002</td>\n",
       "      <td>0.002863</td>\n",
       "      <td>0.000634</td>\n",
       "      <td>0.005085</td>\n",
       "      <td>0</td>\n",
       "      <td>0.007844</td>\n",
       "      <td>0</td>\n",
       "      <td>0</td>\n",
       "      <td>0.001098</td>\n",
       "    </tr>\n",
       "    <tr>\n",
       "      <th>1</th>\n",
       "      <td>0.144608</td>\n",
       "      <td>0.021186</td>\n",
       "      <td>0</td>\n",
       "      <td>0.006728</td>\n",
       "      <td>0</td>\n",
       "      <td>0.014051</td>\n",
       "      <td>0.000589</td>\n",
       "      <td>0.042681</td>\n",
       "      <td>0.739150</td>\n",
       "      <td>0</td>\n",
       "      <td>...</td>\n",
       "      <td>0.002957</td>\n",
       "      <td>0.002555</td>\n",
       "      <td>0.002856</td>\n",
       "      <td>0.000235</td>\n",
       "      <td>0.004977</td>\n",
       "      <td>0</td>\n",
       "      <td>0.007753</td>\n",
       "      <td>0</td>\n",
       "      <td>0</td>\n",
       "      <td>0.001113</td>\n",
       "    </tr>\n",
       "    <tr>\n",
       "      <th>2</th>\n",
       "      <td>0.144891</td>\n",
       "      <td>0.048260</td>\n",
       "      <td>0</td>\n",
       "      <td>0.004146</td>\n",
       "      <td>0</td>\n",
       "      <td>0.026257</td>\n",
       "      <td>0.000000</td>\n",
       "      <td>0.030809</td>\n",
       "      <td>0.710350</td>\n",
       "      <td>0</td>\n",
       "      <td>...</td>\n",
       "      <td>0.001641</td>\n",
       "      <td>0.003210</td>\n",
       "      <td>0.002292</td>\n",
       "      <td>0.000484</td>\n",
       "      <td>0.004323</td>\n",
       "      <td>0</td>\n",
       "      <td>0.008090</td>\n",
       "      <td>0</td>\n",
       "      <td>0</td>\n",
       "      <td>0.001323</td>\n",
       "    </tr>\n",
       "  </tbody>\n",
       "</table>\n",
       "<p>3 rows × 22 columns</p>\n",
       "</div>"
      ],
      "text/plain": [
       "   B cells naive  B cells memory  Plasma cells  T cells CD8  \\\n",
       "0       0.143082        0.022409             0     0.006856   \n",
       "1       0.144608        0.021186             0     0.006728   \n",
       "2       0.144891        0.048260             0     0.004146   \n",
       "\n",
       "   T cells CD4 naive  T cells CD4 memory resting  \\\n",
       "0                  0                    0.014040   \n",
       "1                  0                    0.014051   \n",
       "2                  0                    0.026257   \n",
       "\n",
       "   T cells CD4 memory activated  T cells follicular helper  \\\n",
       "0                      0.000267                   0.042433   \n",
       "1                      0.000589                   0.042681   \n",
       "2                      0.000000                   0.030809   \n",
       "\n",
       "   T cells regulatory (Tregs)  T cells gamma delta     ...       Monocytes  \\\n",
       "0                    0.739621                    0     ...        0.003027   \n",
       "1                    0.739150                    0     ...        0.002957   \n",
       "2                    0.710350                    0     ...        0.001641   \n",
       "\n",
       "   Macrophages M0  Macrophages M1  Macrophages M2  Dendritic cells resting  \\\n",
       "0        0.002002        0.002863        0.000634                 0.005085   \n",
       "1        0.002555        0.002856        0.000235                 0.004977   \n",
       "2        0.003210        0.002292        0.000484                 0.004323   \n",
       "\n",
       "   Dendritic cells activated  Mast cells resting  Mast cells activated  \\\n",
       "0                          0            0.007844                     0   \n",
       "1                          0            0.007753                     0   \n",
       "2                          0            0.008090                     0   \n",
       "\n",
       "   Eosinophils  Neutrophils  \n",
       "0            0     0.001098  \n",
       "1            0     0.001113  \n",
       "2            0     0.001323  \n",
       "\n",
       "[3 rows x 22 columns]"
      ]
     },
     "execution_count": 239,
     "metadata": {},
     "output_type": "execute_result"
    }
   ],
   "source": [
    "del results2['Unnamed: 26']\n",
    "results2_dat = results2[results2.columns[1:-3]]\n",
    "print results2.shape, results2_dat.shape\n",
    "results2_dat.head()"
   ]
  },
  {
   "cell_type": "code",
   "execution_count": 240,
   "metadata": {
    "collapsed": false,
    "run_control": {
     "frozen": false,
     "read_only": false
    }
   },
   "outputs": [
    {
     "data": {
      "text/html": [
       "<div>\n",
       "<table border=\"1\" class=\"dataframe\">\n",
       "  <thead>\n",
       "    <tr style=\"text-align: right;\">\n",
       "      <th></th>\n",
       "      <th>B cells naive</th>\n",
       "      <th>B cells memory</th>\n",
       "      <th>Plasma cells</th>\n",
       "      <th>T cells CD8</th>\n",
       "      <th>T cells CD4 naive</th>\n",
       "      <th>T cells CD4 memory resting</th>\n",
       "      <th>T cells CD4 memory activated</th>\n",
       "      <th>T cells follicular helper</th>\n",
       "      <th>T cells regulatory (Tregs)</th>\n",
       "      <th>T cells gamma delta</th>\n",
       "      <th>...</th>\n",
       "      <th>Monocytes</th>\n",
       "      <th>Macrophages M0</th>\n",
       "      <th>Macrophages M1</th>\n",
       "      <th>Macrophages M2</th>\n",
       "      <th>Dendritic cells resting</th>\n",
       "      <th>Dendritic cells activated</th>\n",
       "      <th>Mast cells resting</th>\n",
       "      <th>Mast cells activated</th>\n",
       "      <th>Eosinophils</th>\n",
       "      <th>Neutrophils</th>\n",
       "    </tr>\n",
       "  </thead>\n",
       "  <tbody>\n",
       "    <tr>\n",
       "      <th>0</th>\n",
       "      <td>0.2</td>\n",
       "      <td>0.0</td>\n",
       "      <td>0.0</td>\n",
       "      <td>0.0</td>\n",
       "      <td>0.0</td>\n",
       "      <td>0.0</td>\n",
       "      <td>0.0</td>\n",
       "      <td>0.0</td>\n",
       "      <td>0.6</td>\n",
       "      <td>0.0</td>\n",
       "      <td>...</td>\n",
       "      <td>0.0</td>\n",
       "      <td>0.0</td>\n",
       "      <td>0.0</td>\n",
       "      <td>0.0</td>\n",
       "      <td>0.0</td>\n",
       "      <td>0.0</td>\n",
       "      <td>0.0</td>\n",
       "      <td>0.0</td>\n",
       "      <td>0.0</td>\n",
       "      <td>0.0</td>\n",
       "    </tr>\n",
       "    <tr>\n",
       "      <th>1</th>\n",
       "      <td>0.2</td>\n",
       "      <td>0.0</td>\n",
       "      <td>0.0</td>\n",
       "      <td>0.0</td>\n",
       "      <td>0.0</td>\n",
       "      <td>0.0</td>\n",
       "      <td>0.0</td>\n",
       "      <td>0.0</td>\n",
       "      <td>0.6</td>\n",
       "      <td>0.0</td>\n",
       "      <td>...</td>\n",
       "      <td>0.0</td>\n",
       "      <td>0.0</td>\n",
       "      <td>0.0</td>\n",
       "      <td>0.0</td>\n",
       "      <td>0.0</td>\n",
       "      <td>0.0</td>\n",
       "      <td>0.0</td>\n",
       "      <td>0.0</td>\n",
       "      <td>0.0</td>\n",
       "      <td>0.0</td>\n",
       "    </tr>\n",
       "    <tr>\n",
       "      <th>2</th>\n",
       "      <td>0.2</td>\n",
       "      <td>0.0</td>\n",
       "      <td>0.0</td>\n",
       "      <td>0.0</td>\n",
       "      <td>0.0</td>\n",
       "      <td>0.0</td>\n",
       "      <td>0.0</td>\n",
       "      <td>0.0</td>\n",
       "      <td>0.6</td>\n",
       "      <td>0.0</td>\n",
       "      <td>...</td>\n",
       "      <td>0.0</td>\n",
       "      <td>0.0</td>\n",
       "      <td>0.0</td>\n",
       "      <td>0.0</td>\n",
       "      <td>0.0</td>\n",
       "      <td>0.0</td>\n",
       "      <td>0.0</td>\n",
       "      <td>0.0</td>\n",
       "      <td>0.0</td>\n",
       "      <td>0.0</td>\n",
       "    </tr>\n",
       "  </tbody>\n",
       "</table>\n",
       "<p>3 rows × 22 columns</p>\n",
       "</div>"
      ],
      "text/plain": [
       "   B cells naive  B cells memory  Plasma cells  T cells CD8  \\\n",
       "0            0.2             0.0           0.0          0.0   \n",
       "1            0.2             0.0           0.0          0.0   \n",
       "2            0.2             0.0           0.0          0.0   \n",
       "\n",
       "   T cells CD4 naive  T cells CD4 memory resting  \\\n",
       "0                0.0                         0.0   \n",
       "1                0.0                         0.0   \n",
       "2                0.0                         0.0   \n",
       "\n",
       "   T cells CD4 memory activated  T cells follicular helper  \\\n",
       "0                           0.0                        0.0   \n",
       "1                           0.0                        0.0   \n",
       "2                           0.0                        0.0   \n",
       "\n",
       "   T cells regulatory (Tregs)  T cells gamma delta     ...       Monocytes  \\\n",
       "0                         0.6                  0.0     ...             0.0   \n",
       "1                         0.6                  0.0     ...             0.0   \n",
       "2                         0.6                  0.0     ...             0.0   \n",
       "\n",
       "   Macrophages M0  Macrophages M1  Macrophages M2  Dendritic cells resting  \\\n",
       "0             0.0             0.0             0.0                      0.0   \n",
       "1             0.0             0.0             0.0                      0.0   \n",
       "2             0.0             0.0             0.0                      0.0   \n",
       "\n",
       "   Dendritic cells activated  Mast cells resting  Mast cells activated  \\\n",
       "0                        0.0                 0.0                   0.0   \n",
       "1                        0.0                 0.0                   0.0   \n",
       "2                        0.0                 0.0                   0.0   \n",
       "\n",
       "   Eosinophils  Neutrophils  \n",
       "0          0.0          0.0  \n",
       "1          0.0          0.0  \n",
       "2          0.0          0.0  \n",
       "\n",
       "[3 rows x 22 columns]"
      ]
     },
     "execution_count": 240,
     "metadata": {},
     "output_type": "execute_result"
    }
   ],
   "source": [
    "raw_line_weights = pd.DataFrame(np.zeros(results2_dat.shape),columns=results2_dat.columns)\n",
    "raw_line_weights.loc[:,simple_cols] = weights\n",
    "raw_line_weights\n"
   ]
  },
  {
   "cell_type": "code",
   "execution_count": 241,
   "metadata": {
    "collapsed": false,
    "run_control": {
     "frozen": false,
     "read_only": false
    }
   },
   "outputs": [
    {
     "name": "stdout",
     "output_type": "stream",
     "text": [
      "correlation between GT and estimate per mixture\n",
      "0    0.988291\n",
      "1    0.988620\n",
      "2    0.988070\n",
      "dtype: float64\n"
     ]
    }
   ],
   "source": [
    "print 'correlation between GT and estimate per mixture'\n",
    "print results2_dat.corrwith(raw_line_weights, axis=1)\n"
   ]
  },
  {
   "cell_type": "markdown",
   "metadata": {},
   "source": [
    "If no clipping of weights to (0,1):\n",
    "\n",
    "> As expected:\n",
    ">\n",
    "> * worse correlation in general than when using reference profiles. not that big a difference though\n",
    "> * complex noise --> significantly lower correlation\n",
    "\n",
    "If clip weights to (0,1), meaning transform the < 0 to 0:\n",
    "\n",
    "> When we clipped to (0,1), correlations returned to good, and complex noise has even better correlation than others. What???\n",
    "\n",
    "If run the best experiment, which is to use absolute value noise, correlations are all pretty good and about the same at .988. (As seen here)"
   ]
  },
  {
   "cell_type": "code",
   "execution_count": 242,
   "metadata": {
    "collapsed": false,
    "run_control": {
     "frozen": false,
     "read_only": false
    }
   },
   "outputs": [
    {
     "name": "stdout",
     "output_type": "stream",
     "text": [
      "absolute difference from ground truth, summarized by column:\n"
     ]
    },
    {
     "data": {
      "text/html": [
       "<div>\n",
       "<table border=\"1\" class=\"dataframe\">\n",
       "  <thead>\n",
       "    <tr style=\"text-align: right;\">\n",
       "      <th></th>\n",
       "      <th>B cells naive</th>\n",
       "      <th>B cells memory</th>\n",
       "      <th>Plasma cells</th>\n",
       "      <th>T cells CD8</th>\n",
       "      <th>T cells CD4 naive</th>\n",
       "      <th>T cells CD4 memory resting</th>\n",
       "      <th>T cells CD4 memory activated</th>\n",
       "      <th>T cells follicular helper</th>\n",
       "      <th>T cells regulatory (Tregs)</th>\n",
       "      <th>T cells gamma delta</th>\n",
       "      <th>...</th>\n",
       "      <th>Monocytes</th>\n",
       "      <th>Macrophages M0</th>\n",
       "      <th>Macrophages M1</th>\n",
       "      <th>Macrophages M2</th>\n",
       "      <th>Dendritic cells resting</th>\n",
       "      <th>Dendritic cells activated</th>\n",
       "      <th>Mast cells resting</th>\n",
       "      <th>Mast cells activated</th>\n",
       "      <th>Eosinophils</th>\n",
       "      <th>Neutrophils</th>\n",
       "    </tr>\n",
       "  </thead>\n",
       "  <tbody>\n",
       "    <tr>\n",
       "      <th>count</th>\n",
       "      <td>3.000000</td>\n",
       "      <td>3.000000</td>\n",
       "      <td>3.0</td>\n",
       "      <td>3.000000</td>\n",
       "      <td>3.0</td>\n",
       "      <td>3.000000</td>\n",
       "      <td>3.000000</td>\n",
       "      <td>3.000000</td>\n",
       "      <td>3.000000</td>\n",
       "      <td>3.0</td>\n",
       "      <td>...</td>\n",
       "      <td>3.000000</td>\n",
       "      <td>3.000000</td>\n",
       "      <td>3.000000</td>\n",
       "      <td>3.000000</td>\n",
       "      <td>3.000000</td>\n",
       "      <td>3.0</td>\n",
       "      <td>3.000000</td>\n",
       "      <td>3.0</td>\n",
       "      <td>3.0</td>\n",
       "      <td>3.000000</td>\n",
       "    </tr>\n",
       "    <tr>\n",
       "      <th>mean</th>\n",
       "      <td>-0.055806</td>\n",
       "      <td>0.030618</td>\n",
       "      <td>0.0</td>\n",
       "      <td>0.005910</td>\n",
       "      <td>0.0</td>\n",
       "      <td>0.018116</td>\n",
       "      <td>0.000285</td>\n",
       "      <td>0.038641</td>\n",
       "      <td>0.129707</td>\n",
       "      <td>0.0</td>\n",
       "      <td>...</td>\n",
       "      <td>0.002542</td>\n",
       "      <td>0.002589</td>\n",
       "      <td>0.002670</td>\n",
       "      <td>0.000451</td>\n",
       "      <td>0.004795</td>\n",
       "      <td>0.0</td>\n",
       "      <td>0.007895</td>\n",
       "      <td>0.0</td>\n",
       "      <td>0.0</td>\n",
       "      <td>0.001178</td>\n",
       "    </tr>\n",
       "    <tr>\n",
       "      <th>std</th>\n",
       "      <td>0.000973</td>\n",
       "      <td>0.015290</td>\n",
       "      <td>0.0</td>\n",
       "      <td>0.001529</td>\n",
       "      <td>0.0</td>\n",
       "      <td>0.007050</td>\n",
       "      <td>0.000295</td>\n",
       "      <td>0.006784</td>\n",
       "      <td>0.016765</td>\n",
       "      <td>0.0</td>\n",
       "      <td>...</td>\n",
       "      <td>0.000781</td>\n",
       "      <td>0.000605</td>\n",
       "      <td>0.000328</td>\n",
       "      <td>0.000202</td>\n",
       "      <td>0.000412</td>\n",
       "      <td>0.0</td>\n",
       "      <td>0.000174</td>\n",
       "      <td>0.0</td>\n",
       "      <td>0.0</td>\n",
       "      <td>0.000126</td>\n",
       "    </tr>\n",
       "    <tr>\n",
       "      <th>min</th>\n",
       "      <td>-0.056918</td>\n",
       "      <td>0.021186</td>\n",
       "      <td>0.0</td>\n",
       "      <td>0.004146</td>\n",
       "      <td>0.0</td>\n",
       "      <td>0.014040</td>\n",
       "      <td>0.000000</td>\n",
       "      <td>0.030809</td>\n",
       "      <td>0.110350</td>\n",
       "      <td>0.0</td>\n",
       "      <td>...</td>\n",
       "      <td>0.001641</td>\n",
       "      <td>0.002002</td>\n",
       "      <td>0.002292</td>\n",
       "      <td>0.000235</td>\n",
       "      <td>0.004323</td>\n",
       "      <td>0.0</td>\n",
       "      <td>0.007753</td>\n",
       "      <td>0.0</td>\n",
       "      <td>0.0</td>\n",
       "      <td>0.001098</td>\n",
       "    </tr>\n",
       "    <tr>\n",
       "      <th>25%</th>\n",
       "      <td>-0.056155</td>\n",
       "      <td>0.021797</td>\n",
       "      <td>0.0</td>\n",
       "      <td>0.005437</td>\n",
       "      <td>0.0</td>\n",
       "      <td>0.014045</td>\n",
       "      <td>0.000133</td>\n",
       "      <td>0.036621</td>\n",
       "      <td>0.124750</td>\n",
       "      <td>0.0</td>\n",
       "      <td>...</td>\n",
       "      <td>0.002299</td>\n",
       "      <td>0.002279</td>\n",
       "      <td>0.002574</td>\n",
       "      <td>0.000359</td>\n",
       "      <td>0.004650</td>\n",
       "      <td>0.0</td>\n",
       "      <td>0.007798</td>\n",
       "      <td>0.0</td>\n",
       "      <td>0.0</td>\n",
       "      <td>0.001106</td>\n",
       "    </tr>\n",
       "    <tr>\n",
       "      <th>50%</th>\n",
       "      <td>-0.055392</td>\n",
       "      <td>0.022409</td>\n",
       "      <td>0.0</td>\n",
       "      <td>0.006728</td>\n",
       "      <td>0.0</td>\n",
       "      <td>0.014051</td>\n",
       "      <td>0.000267</td>\n",
       "      <td>0.042433</td>\n",
       "      <td>0.139150</td>\n",
       "      <td>0.0</td>\n",
       "      <td>...</td>\n",
       "      <td>0.002957</td>\n",
       "      <td>0.002555</td>\n",
       "      <td>0.002856</td>\n",
       "      <td>0.000484</td>\n",
       "      <td>0.004977</td>\n",
       "      <td>0.0</td>\n",
       "      <td>0.007844</td>\n",
       "      <td>0.0</td>\n",
       "      <td>0.0</td>\n",
       "      <td>0.001113</td>\n",
       "    </tr>\n",
       "    <tr>\n",
       "      <th>75%</th>\n",
       "      <td>-0.055250</td>\n",
       "      <td>0.035334</td>\n",
       "      <td>0.0</td>\n",
       "      <td>0.006792</td>\n",
       "      <td>0.0</td>\n",
       "      <td>0.020154</td>\n",
       "      <td>0.000428</td>\n",
       "      <td>0.042557</td>\n",
       "      <td>0.139386</td>\n",
       "      <td>0.0</td>\n",
       "      <td>...</td>\n",
       "      <td>0.002992</td>\n",
       "      <td>0.002883</td>\n",
       "      <td>0.002860</td>\n",
       "      <td>0.000559</td>\n",
       "      <td>0.005031</td>\n",
       "      <td>0.0</td>\n",
       "      <td>0.007967</td>\n",
       "      <td>0.0</td>\n",
       "      <td>0.0</td>\n",
       "      <td>0.001218</td>\n",
       "    </tr>\n",
       "    <tr>\n",
       "      <th>max</th>\n",
       "      <td>-0.055109</td>\n",
       "      <td>0.048260</td>\n",
       "      <td>0.0</td>\n",
       "      <td>0.006856</td>\n",
       "      <td>0.0</td>\n",
       "      <td>0.026257</td>\n",
       "      <td>0.000589</td>\n",
       "      <td>0.042681</td>\n",
       "      <td>0.139621</td>\n",
       "      <td>0.0</td>\n",
       "      <td>...</td>\n",
       "      <td>0.003027</td>\n",
       "      <td>0.003210</td>\n",
       "      <td>0.002863</td>\n",
       "      <td>0.000634</td>\n",
       "      <td>0.005085</td>\n",
       "      <td>0.0</td>\n",
       "      <td>0.008090</td>\n",
       "      <td>0.0</td>\n",
       "      <td>0.0</td>\n",
       "      <td>0.001323</td>\n",
       "    </tr>\n",
       "  </tbody>\n",
       "</table>\n",
       "<p>8 rows × 22 columns</p>\n",
       "</div>"
      ],
      "text/plain": [
       "       B cells naive  B cells memory  Plasma cells  T cells CD8  \\\n",
       "count       3.000000        3.000000           3.0     3.000000   \n",
       "mean       -0.055806        0.030618           0.0     0.005910   \n",
       "std         0.000973        0.015290           0.0     0.001529   \n",
       "min        -0.056918        0.021186           0.0     0.004146   \n",
       "25%        -0.056155        0.021797           0.0     0.005437   \n",
       "50%        -0.055392        0.022409           0.0     0.006728   \n",
       "75%        -0.055250        0.035334           0.0     0.006792   \n",
       "max        -0.055109        0.048260           0.0     0.006856   \n",
       "\n",
       "       T cells CD4 naive  T cells CD4 memory resting  \\\n",
       "count                3.0                    3.000000   \n",
       "mean                 0.0                    0.018116   \n",
       "std                  0.0                    0.007050   \n",
       "min                  0.0                    0.014040   \n",
       "25%                  0.0                    0.014045   \n",
       "50%                  0.0                    0.014051   \n",
       "75%                  0.0                    0.020154   \n",
       "max                  0.0                    0.026257   \n",
       "\n",
       "       T cells CD4 memory activated  T cells follicular helper  \\\n",
       "count                      3.000000                   3.000000   \n",
       "mean                       0.000285                   0.038641   \n",
       "std                        0.000295                   0.006784   \n",
       "min                        0.000000                   0.030809   \n",
       "25%                        0.000133                   0.036621   \n",
       "50%                        0.000267                   0.042433   \n",
       "75%                        0.000428                   0.042557   \n",
       "max                        0.000589                   0.042681   \n",
       "\n",
       "       T cells regulatory (Tregs)  T cells gamma delta     ...       \\\n",
       "count                    3.000000                  3.0     ...        \n",
       "mean                     0.129707                  0.0     ...        \n",
       "std                      0.016765                  0.0     ...        \n",
       "min                      0.110350                  0.0     ...        \n",
       "25%                      0.124750                  0.0     ...        \n",
       "50%                      0.139150                  0.0     ...        \n",
       "75%                      0.139386                  0.0     ...        \n",
       "max                      0.139621                  0.0     ...        \n",
       "\n",
       "       Monocytes  Macrophages M0  Macrophages M1  Macrophages M2  \\\n",
       "count   3.000000        3.000000        3.000000        3.000000   \n",
       "mean    0.002542        0.002589        0.002670        0.000451   \n",
       "std     0.000781        0.000605        0.000328        0.000202   \n",
       "min     0.001641        0.002002        0.002292        0.000235   \n",
       "25%     0.002299        0.002279        0.002574        0.000359   \n",
       "50%     0.002957        0.002555        0.002856        0.000484   \n",
       "75%     0.002992        0.002883        0.002860        0.000559   \n",
       "max     0.003027        0.003210        0.002863        0.000634   \n",
       "\n",
       "       Dendritic cells resting  Dendritic cells activated  Mast cells resting  \\\n",
       "count                 3.000000                        3.0            3.000000   \n",
       "mean                  0.004795                        0.0            0.007895   \n",
       "std                   0.000412                        0.0            0.000174   \n",
       "min                   0.004323                        0.0            0.007753   \n",
       "25%                   0.004650                        0.0            0.007798   \n",
       "50%                   0.004977                        0.0            0.007844   \n",
       "75%                   0.005031                        0.0            0.007967   \n",
       "max                   0.005085                        0.0            0.008090   \n",
       "\n",
       "       Mast cells activated  Eosinophils  Neutrophils  \n",
       "count                   3.0          3.0     3.000000  \n",
       "mean                    0.0          0.0     0.001178  \n",
       "std                     0.0          0.0     0.000126  \n",
       "min                     0.0          0.0     0.001098  \n",
       "25%                     0.0          0.0     0.001106  \n",
       "50%                     0.0          0.0     0.001113  \n",
       "75%                     0.0          0.0     0.001218  \n",
       "max                     0.0          0.0     0.001323  \n",
       "\n",
       "[8 rows x 22 columns]"
      ]
     },
     "execution_count": 242,
     "metadata": {},
     "output_type": "execute_result"
    },
    {
     "data": {
      "image/png": "[encoded data removed]",
      "text/plain": [
       "<matplotlib.figure.Figure at 0x7fd289af2250>"
      ]
     },
     "metadata": {},
     "output_type": "display_data"
    }
   ],
   "source": [
    "print 'absolute difference from ground truth, summarized by column:'\n",
    "(results2_dat - raw_line_weights).describe().loc['mean'].hist()\n",
    "plt.title('mean absolute differences for columns across all mixtures')\n",
    "(results2_dat - raw_line_weights).describe()\n"
   ]
  },
  {
   "cell_type": "code",
   "execution_count": 243,
   "metadata": {
    "collapsed": false,
    "run_control": {
     "frozen": false,
     "read_only": false
    }
   },
   "outputs": [
    {
     "data": {
      "image/png": "[encoded data removed]",
      "text/plain": [
       "<matplotlib.figure.Figure at 0x7fd288fb10d0>"
      ]
     },
     "metadata": {},
     "output_type": "display_data"
    },
    {
     "data": {
      "image/png": "[encoded data removed]",
      "text/plain": [
       "<matplotlib.figure.Figure at 0x7fd2895f9750>"
      ]
     },
     "metadata": {},
     "output_type": "display_data"
    },
    {
     "data": {
      "image/png": "[encoded data removed]",
      "text/plain": [
       "<matplotlib.figure.Figure at 0x7fd289048210>"
      ]
     },
     "metadata": {},
     "output_type": "display_data"
    }
   ],
   "source": [
    "for _, row in (results2_dat - raw_line_weights).iterrows():\n",
    "    plt.figure()\n",
    "    row.hist()\n",
    "    plt.title('mixture %d absolute differences' % row.name)\n"
   ]
  },
  {
   "cell_type": "markdown",
   "metadata": {},
   "source": [
    "The errors per column look about the same magnitudes regardless of noise status. Some columns worse than others consistently.\n",
    "\n",
    "Let's see error/column by whether the column is from correct or incorrect cell type:\n"
   ]
  },
  {
   "cell_type": "code",
   "execution_count": 244,
   "metadata": {
    "collapsed": false,
    "run_control": {
     "frozen": false,
     "read_only": false
    }
   },
   "outputs": [
    {
     "data": {
      "image/png": "[encoded data removed]",
      "text/plain": [
       "<matplotlib.figure.Figure at 0x7fd289832990>"
      ]
     },
     "metadata": {},
     "output_type": "display_data"
    },
    {
     "data": {
      "image/png": "[encoded data removed]",
      "text/plain": [
       "<matplotlib.figure.Figure at 0x7fd2895a8c10>"
      ]
     },
     "metadata": {},
     "output_type": "display_data"
    },
    {
     "data": {
      "image/png": "[encoded data removed]",
      "text/plain": [
       "<matplotlib.figure.Figure at 0x7fd289499890>"
      ]
     },
     "metadata": {},
     "output_type": "display_data"
    }
   ],
   "source": [
    "for _, row in (results2_dat - raw_line_weights).iterrows():\n",
    "    plt.figure()\n",
    "    row[simple_cols].hist()\n",
    "    plt.title('mixture %d absolute differences -- correct cell types only' % row.name)\n"
   ]
  },
  {
   "cell_type": "code",
   "execution_count": 245,
   "metadata": {
    "collapsed": false,
    "run_control": {
     "frozen": false,
     "read_only": false
    }
   },
   "outputs": [
    {
     "data": {
      "image/png": "[encoded data removed]",
      "text/plain": [
       "<matplotlib.figure.Figure at 0x7fd289a3f990>"
      ]
     },
     "metadata": {},
     "output_type": "display_data"
    },
    {
     "data": {
      "image/png": "[encoded data removed]",
      "text/plain": [
       "<matplotlib.figure.Figure at 0x7fd289573cd0>"
      ]
     },
     "metadata": {},
     "output_type": "display_data"
    },
    {
     "data": {
      "image/png": "[encoded data removed]",
      "text/plain": [
       "<matplotlib.figure.Figure at 0x7fd2891a7a50>"
      ]
     },
     "metadata": {},
     "output_type": "display_data"
    }
   ],
   "source": [
    "other_cols = set(results2_dat.columns) - set(simple_cols)\n",
    "for _, row in (results2_dat - raw_line_weights).iterrows():\n",
    "    plt.figure()\n",
    "    row[other_cols].hist()\n",
    "    plt.title('mixture %d absolute differences -- incorrect cell types only' % row.name)\n"
   ]
  },
  {
   "cell_type": "code",
   "execution_count": 246,
   "metadata": {
    "collapsed": false,
    "run_control": {
     "frozen": false,
     "read_only": false
    }
   },
   "outputs": [
    {
     "data": {
      "text/html": [
       "<div>\n",
       "<table border=\"1\" class=\"dataframe\">\n",
       "  <thead>\n",
       "    <tr style=\"text-align: right;\">\n",
       "      <th></th>\n",
       "      <th>B cells naive</th>\n",
       "      <th>T cells regulatory (Tregs)</th>\n",
       "    </tr>\n",
       "  </thead>\n",
       "  <tbody>\n",
       "    <tr>\n",
       "      <th>0</th>\n",
       "      <td>-0.056918</td>\n",
       "      <td>0.139621</td>\n",
       "    </tr>\n",
       "    <tr>\n",
       "      <th>1</th>\n",
       "      <td>-0.055392</td>\n",
       "      <td>0.139150</td>\n",
       "    </tr>\n",
       "    <tr>\n",
       "      <th>2</th>\n",
       "      <td>-0.055109</td>\n",
       "      <td>0.110350</td>\n",
       "    </tr>\n",
       "  </tbody>\n",
       "</table>\n",
       "</div>"
      ],
      "text/plain": [
       "   B cells naive  T cells regulatory (Tregs)\n",
       "0      -0.056918                    0.139621\n",
       "1      -0.055392                    0.139150\n",
       "2      -0.055109                    0.110350"
      ]
     },
     "execution_count": 246,
     "metadata": {},
     "output_type": "execute_result"
    }
   ],
   "source": [
    "(results2_dat - raw_line_weights)[simple_cols]"
   ]
  },
  {
   "cell_type": "markdown",
   "metadata": {},
   "source": [
    "Correct columns (with true fractions `[.2,.6]`): \n",
    "\n",
    "Correct columns: one is significantly off always. <strike>Other one is more off when complex noise added.</strike>\n",
    "\n",
    "Which one is significantly off always: Treg.\n",
    "This is likely because there are many similar cell types.\n",
    "\n",
    "Incorrect columns (with true fraction `= 0`):\n",
    "\n",
    "If no clip:\n",
    "\n",
    "> error (difference from 0) increases a lot with noise. Meaning: complex noise makes Cibersort less certain that other cell types are not there.\n",
    "\n",
    "If clip to (0,1):\n",
    "\n",
    "> error (difference from 0) decreases 4x with noise. What is going on here? Why is this driven by clipping to (0,1)?\n",
    "> a potential answer: this clip only brings some things < 0 back to 0. If they are < 0, they decrease the weighted sum in bizarre ways, and Cibersort normalizes those negative coefficients out in its deconvolution regression. So, a better experiment would only have positive noise from 0 (i.e. absolute value).\n",
    "\n",
    "If do that better experiment with absolute value noise (as seen here): error of incorrect columns is about the same regardless of noise. Most incorrect columns have very low ~0 error; some have higher at 0.05, which gets in the range of error of correct columns.\n",
    "\n",
    "And P-values are all still 0:"
   ]
  },
  {
   "cell_type": "code",
   "execution_count": 247,
   "metadata": {
    "collapsed": false,
    "run_control": {
     "frozen": false,
     "read_only": false
    }
   },
   "outputs": [
    {
     "data": {
      "text/plain": [
       "0    0.0\n",
       "1    0.0\n",
       "2    0.0\n",
       "Name: P-value, dtype: float64"
      ]
     },
     "execution_count": 247,
     "metadata": {},
     "output_type": "execute_result"
    }
   ],
   "source": [
    "results2['P-value']"
   ]
  },
  {
   "cell_type": "code",
   "execution_count": 300,
   "metadata": {
    "ExecuteTime": {
     "end_time": "2016-06-30T16:33:52.690618",
     "start_time": "2016-06-30T16:33:52.670064"
    },
    "collapsed": false,
    "run_control": {
     "frozen": false,
     "read_only": false
    }
   },
   "outputs": [
    {
     "name": "stdout",
     "output_type": "stream",
     "text": [
      "RMSE \t R^2 \t per mixture\n",
      "0.0340 \t 0.9313\n",
      "0.0338 \t 0.9323\n",
      "0.0298 \t 0.9474\n"
     ]
    }
   ],
   "source": [
    "print 'RMSE \\t R^2 \\t per mixture'\n",
    "from sklearn.metrics import mean_squared_error as mse, r2_score\n",
    "for (_, y_true),(_, y_pred) in zip(raw_line_weights.iterrows(), results2_dat.iterrows()):\n",
    "    print '%0.4f \\t %0.4f' % (np.sqrt(mse(y_true, y_pred)), r2_score(y_true, y_pred))"
   ]
  },
  {
   "cell_type": "markdown",
   "metadata": {},
   "source": [
    "# Give Cibersort a hard time\n",
    "\n",
    "Do exactly the above, but for types that are hard to tell about.\n",
    "\n",
    "Take the two most similar types.\n",
    "Mix them together, with and without noise.\n",
    "First do this with reference profiles, then with raw data.\n",
    "\n",
    "Expected results:\n",
    "* Cibersort will probably do great on reference profiles w/o noise or w/ simple noise\n",
    "* Slightly less well on reference profiles w/ complex noise -- still good performance but worse than Cibersort on reference profiles of very distinct cell types w/ complex noise\n",
    "* Same pattern for raw, but perhaps an even larger difference with noise.\n",
    "\n",
    "The two cell types we choose (see writeup pdf):\n",
    "* B cells naive\n",
    "* B cells memory\n",
    "\n",
    "\n",
    "## reference profiles (warmup)"
   ]
  },
  {
   "cell_type": "code",
   "execution_count": 248,
   "metadata": {
    "collapsed": false,
    "run_control": {
     "frozen": false,
     "read_only": false
    }
   },
   "outputs": [
    {
     "data": {
      "text/plain": [
       "(547, 2)"
      ]
     },
     "execution_count": 248,
     "metadata": {},
     "output_type": "execute_result"
    }
   ],
   "source": [
    "hard_cols = ['B cells naive', 'B cells memory']\n",
    "reference[hard_cols].shape"
   ]
  },
  {
   "cell_type": "code",
   "execution_count": 249,
   "metadata": {
    "collapsed": false,
    "run_control": {
     "frozen": false,
     "read_only": false
    }
   },
   "outputs": [
    {
     "data": {
      "text/plain": [
       "GeneSymbol\n",
       "ABCB4     283.228842\n",
       "ABCB9      18.849165\n",
       "ACAP1     268.463486\n",
       "ACHE       15.883398\n",
       "ACP5     1270.549432\n",
       "dtype: float64"
      ]
     },
     "execution_count": 249,
     "metadata": {},
     "output_type": "execute_result"
    }
   ],
   "source": [
    "weights = [.5, .5] # as confusing as we can make it -- a direct average\n",
    "mix7=(reference[hard_cols] * weights).sum(axis=1)\n",
    "mix7.head()"
   ]
  },
  {
   "cell_type": "code",
   "execution_count": 250,
   "metadata": {
    "collapsed": false,
    "run_control": {
     "frozen": false,
     "read_only": false
    }
   },
   "outputs": [
    {
     "data": {
      "text/plain": [
       "GeneSymbol\n",
       "ABCB4     282.399515\n",
       "ABCB9      15.994529\n",
       "ACAP1     267.738043\n",
       "ACHE       13.702881\n",
       "ACP5     1271.755171\n",
       "dtype: float64"
      ]
     },
     "execution_count": 250,
     "metadata": {},
     "output_type": "execute_result"
    }
   ],
   "source": [
    "mix8 = mix7 + np.random.normal(0,1,len(mix7))\n",
    "mix8.head()\n"
   ]
  },
  {
   "cell_type": "code",
   "execution_count": 251,
   "metadata": {
    "collapsed": false,
    "run_control": {
     "frozen": false,
     "read_only": false
    }
   },
   "outputs": [
    {
     "data": {
      "text/plain": [
       "(547,)"
      ]
     },
     "execution_count": 251,
     "metadata": {},
     "output_type": "execute_result"
    }
   ],
   "source": [
    "weights_noisy3 = np.reshape([.2,.6]*len(mix7), reference[hard_cols].shape)\n",
    "weights_noisy3 += np.abs(np.random.normal(0,0.1, weights_noisy3.shape)) # using absolute value error\n",
    "weights_noisy3 = weights_noisy3.clip(0,1)\n",
    "mix9=(weights_noisy3 * reference[hard_cols]).sum(axis=1)\n",
    "mix9.shape"
   ]
  },
  {
   "cell_type": "code",
   "execution_count": 252,
   "metadata": {
    "collapsed": false,
    "run_control": {
     "frozen": false,
     "read_only": false
    }
   },
   "outputs": [
    {
     "name": "stdout",
     "output_type": "stream",
     "text": [
      "(547, 3)\n"
     ]
    },
    {
     "data": {
      "text/html": [
       "<div>\n",
       "<table border=\"1\" class=\"dataframe\">\n",
       "  <thead>\n",
       "    <tr style=\"text-align: right;\">\n",
       "      <th></th>\n",
       "      <th>7 NoNoise</th>\n",
       "      <th>8 SimpleNoise</th>\n",
       "      <th>9 ComplexNoise</th>\n",
       "    </tr>\n",
       "    <tr>\n",
       "      <th>GeneSymbol</th>\n",
       "      <th></th>\n",
       "      <th></th>\n",
       "      <th></th>\n",
       "    </tr>\n",
       "  </thead>\n",
       "  <tbody>\n",
       "    <tr>\n",
       "      <th>ABCB4</th>\n",
       "      <td>283.228842</td>\n",
       "      <td>282.399515</td>\n",
       "      <td>148.344189</td>\n",
       "    </tr>\n",
       "    <tr>\n",
       "      <th>ABCB9</th>\n",
       "      <td>18.849165</td>\n",
       "      <td>15.994529</td>\n",
       "      <td>17.661823</td>\n",
       "    </tr>\n",
       "    <tr>\n",
       "      <th>ACAP1</th>\n",
       "      <td>268.463486</td>\n",
       "      <td>267.738043</td>\n",
       "      <td>292.834279</td>\n",
       "    </tr>\n",
       "    <tr>\n",
       "      <th>ACHE</th>\n",
       "      <td>15.883398</td>\n",
       "      <td>13.702881</td>\n",
       "      <td>14.909728</td>\n",
       "    </tr>\n",
       "    <tr>\n",
       "      <th>ACP5</th>\n",
       "      <td>1270.549432</td>\n",
       "      <td>1271.755171</td>\n",
       "      <td>1389.962555</td>\n",
       "    </tr>\n",
       "  </tbody>\n",
       "</table>\n",
       "</div>"
      ],
      "text/plain": [
       "              7 NoNoise  8 SimpleNoise  9 ComplexNoise\n",
       "GeneSymbol                                            \n",
       "ABCB4        283.228842     282.399515      148.344189\n",
       "ABCB9         18.849165      15.994529       17.661823\n",
       "ACAP1        268.463486     267.738043      292.834279\n",
       "ACHE          15.883398      13.702881       14.909728\n",
       "ACP5        1270.549432    1271.755171     1389.962555"
      ]
     },
     "execution_count": 252,
     "metadata": {},
     "output_type": "execute_result"
    }
   ],
   "source": [
    "# write out the reference profile mixtures\n",
    "hard_mixtures_refprof = pd.DataFrame({'7 NoNoise':mix7, '8 SimpleNoise': mix8, '9 ComplexNoise': mix9})\n",
    "hard_mixtures_refprof.index.name='GeneSymbol'\n",
    "hard_mixtures_refprof.to_csv('test_mixtures/hard_reference_profile_mixtures.txt', sep='\\t')\n",
    "print hard_mixtures_refprof.shape\n",
    "hard_mixtures_refprof.head()"
   ]
  },
  {
   "cell_type": "markdown",
   "metadata": {},
   "source": [
    "### run through cibersort"
   ]
  },
  {
   "cell_type": "code",
   "execution_count": 254,
   "metadata": {
    "collapsed": false,
    "run_control": {
     "frozen": false,
     "read_only": false
    }
   },
   "outputs": [
    {
     "name": "stdout",
     "output_type": "stream",
     "text": [
      ">===================Settings====================\n",
      ">Mixture file: test_mixtures/hard_reference_profile_mixtures.txt\n",
      ">Signature matrix file: LM22.txt\n",
      ">===============================================\n",
      ">R version 3.2.2 (2015-08-14)\n",
      ">==================CIBERSORT====================\n",
      "Column\tB cells naive\tB cells memory\tPlasma cells\tT cells CD8\tT cells CD4 naive\tT cells CD4 memory resting\tT cells CD4 memory activated\tT cells follicular helper\tT cells regulatory (Tregs)\tT cells gamma delta\tNK cells resting\tNK cells activated\tMonocytes\tMacrophages M0\tMacrophages M1\tMacrophages M2\tDendritic cells resting\tDendritic cells activated\tMast cells resting\tMast cells activated\tEosinophils\tNeutrophils\tP-value\tPearson Correlation\tRMSE\t\n",
      "0\t0.4855436441419081\t0.512664304230103\t2.6873103027669222E-5\t0\t3.4022083095288074E-4\t0\t2.7245938768042327E-5\t0\t4.088199337442591E-5\t7.847672137320822E-5\t0\t6.135322584984155E-5\t6.355109956765905E-5\t0\t1.3511014952751802E-4\t5.821182102883438E-5\t3.452052002803214E-4\t0\t0\t4.966150585037233E-4\t8.67020127513877E-5\t3.1604472983323214E-5\t0.0\t0.9998263017895128\t0.04310866871362415\n",
      "1\t0.4853551944692449\t0.5124056724659829\t0\t1.9952893114190705E-4\t2.6419196159269506E-4\t0\t0\t5.459056571635581E-5\t9.719404382684625E-5\t3.5684760700118144E-5\t0\t9.025447199939807E-5\t3.403142441834794E-5\t0\t1.3030285497406195E-4\t0\t3.422355665369669E-4\t0\t0\t6.987291035511159E-4\t2.2060276199766142E-4\t6.367429866037772E-5\t0.0\t0.999826321255109\t0.04345197192212509\n",
      "2\t0.2940098688850138\t0.677900116042679\t0.019695224193459572\t4.5631657883830895E-4\t0.0027524268519758394\t0\t5.615366945245895E-4\t0\t1.3219414118504125E-4\t8.6067734251083E-4\t0\t1.6554826741339135E-4\t4.1714063365941886E-4\t0\t2.1060647210696068E-4\t0\t9.417076839644543E-4\t0\t0\t5.757408505787804E-4\t0.0011184388895374513\t2.0245647255261285E-4\t0.0\t0.9975048135650295\t0.09138868575850458\n"
     ]
    }
   ],
   "source": [
    "!java -Xmx3g -Xms3g -jar ~/CIBERSORT_package/CIBERSORT.jar -M test_mixtures/hard_reference_profile_mixtures.txt -B LM22.txt"
   ]
  },
  {
   "cell_type": "code",
   "execution_count": 255,
   "metadata": {
    "collapsed": true,
    "run_control": {
     "frozen": false,
     "read_only": false
    }
   },
   "outputs": [],
   "source": [
    "results3 = \"\"\"\n",
    "Column\tB cells naive\tB cells memory\tPlasma cells\tT cells CD8\tT cells CD4 naive\tT cells CD4 memory resting\tT cells CD4 memory activated\tT cells follicular helper\tT cells regulatory (Tregs)\tT cells gamma delta\tNK cells resting\tNK cells activated\tMonocytes\tMacrophages M0\tMacrophages M1\tMacrophages M2\tDendritic cells resting\tDendritic cells activated\tMast cells resting\tMast cells activated\tEosinophils\tNeutrophils\tP-value\tPearson Correlation\tRMSE\t\n",
    "0\t0.4855436441419081\t0.512664304230103\t2.6873103027669222E-5\t0\t3.4022083095288074E-4\t0\t2.7245938768042327E-5\t0\t4.088199337442591E-5\t7.847672137320822E-5\t0\t6.135322584984155E-5\t6.355109956765905E-5\t0\t1.3511014952751802E-4\t5.821182102883438E-5\t3.452052002803214E-4\t0\t0\t4.966150585037233E-4\t8.67020127513877E-5\t3.1604472983323214E-5\t0.0\t0.9998263017895128\t0.04310866871362415\n",
    "1\t0.4853551944692449\t0.5124056724659829\t0\t1.9952893114190705E-4\t2.6419196159269506E-4\t0\t0\t5.459056571635581E-5\t9.719404382684625E-5\t3.5684760700118144E-5\t0\t9.025447199939807E-5\t3.403142441834794E-5\t0\t1.3030285497406195E-4\t0\t3.422355665369669E-4\t0\t0\t6.987291035511159E-4\t2.2060276199766142E-4\t6.367429866037772E-5\t0.0\t0.999826321255109\t0.04345197192212509\n",
    "2\t0.2940098688850138\t0.677900116042679\t0.019695224193459572\t4.5631657883830895E-4\t0.0027524268519758394\t0\t5.615366945245895E-4\t0\t1.3219414118504125E-4\t8.6067734251083E-4\t0\t1.6554826741339135E-4\t4.1714063365941886E-4\t0\t2.1060647210696068E-4\t0\t9.417076839644543E-4\t0\t0\t5.757408505787804E-4\t0.0011184388895374513\t2.0245647255261285E-4\t0.0\t0.9975048135650295\t0.09138868575850458\n",
    "\"\"\"\n"
   ]
  },
  {
   "cell_type": "code",
   "execution_count": 256,
   "metadata": {
    "collapsed": false,
    "run_control": {
     "frozen": false,
     "read_only": false
    }
   },
   "outputs": [
    {
     "data": {
      "text/html": [
       "<div>\n",
       "<table border=\"1\" class=\"dataframe\">\n",
       "  <thead>\n",
       "    <tr style=\"text-align: right;\">\n",
       "      <th></th>\n",
       "      <th>Column</th>\n",
       "      <th>B cells naive</th>\n",
       "      <th>B cells memory</th>\n",
       "      <th>Plasma cells</th>\n",
       "      <th>T cells CD8</th>\n",
       "      <th>T cells CD4 naive</th>\n",
       "      <th>T cells CD4 memory resting</th>\n",
       "      <th>T cells CD4 memory activated</th>\n",
       "      <th>T cells follicular helper</th>\n",
       "      <th>T cells regulatory (Tregs)</th>\n",
       "      <th>...</th>\n",
       "      <th>Dendritic cells resting</th>\n",
       "      <th>Dendritic cells activated</th>\n",
       "      <th>Mast cells resting</th>\n",
       "      <th>Mast cells activated</th>\n",
       "      <th>Eosinophils</th>\n",
       "      <th>Neutrophils</th>\n",
       "      <th>P-value</th>\n",
       "      <th>Pearson Correlation</th>\n",
       "      <th>RMSE</th>\n",
       "      <th>Unnamed: 26</th>\n",
       "    </tr>\n",
       "  </thead>\n",
       "  <tbody>\n",
       "    <tr>\n",
       "      <th>0</th>\n",
       "      <td>0</td>\n",
       "      <td>0.485544</td>\n",
       "      <td>0.512664</td>\n",
       "      <td>0.000027</td>\n",
       "      <td>0.000000</td>\n",
       "      <td>0.000340</td>\n",
       "      <td>0</td>\n",
       "      <td>0.000027</td>\n",
       "      <td>0.000000</td>\n",
       "      <td>0.000041</td>\n",
       "      <td>...</td>\n",
       "      <td>0.000345</td>\n",
       "      <td>0</td>\n",
       "      <td>0</td>\n",
       "      <td>0.000497</td>\n",
       "      <td>0.000087</td>\n",
       "      <td>0.000032</td>\n",
       "      <td>0.0</td>\n",
       "      <td>0.999826</td>\n",
       "      <td>0.043109</td>\n",
       "      <td>NaN</td>\n",
       "    </tr>\n",
       "    <tr>\n",
       "      <th>1</th>\n",
       "      <td>1</td>\n",
       "      <td>0.485355</td>\n",
       "      <td>0.512406</td>\n",
       "      <td>0.000000</td>\n",
       "      <td>0.000200</td>\n",
       "      <td>0.000264</td>\n",
       "      <td>0</td>\n",
       "      <td>0.000000</td>\n",
       "      <td>0.000055</td>\n",
       "      <td>0.000097</td>\n",
       "      <td>...</td>\n",
       "      <td>0.000342</td>\n",
       "      <td>0</td>\n",
       "      <td>0</td>\n",
       "      <td>0.000699</td>\n",
       "      <td>0.000221</td>\n",
       "      <td>0.000064</td>\n",
       "      <td>0.0</td>\n",
       "      <td>0.999826</td>\n",
       "      <td>0.043452</td>\n",
       "      <td>NaN</td>\n",
       "    </tr>\n",
       "    <tr>\n",
       "      <th>2</th>\n",
       "      <td>2</td>\n",
       "      <td>0.294010</td>\n",
       "      <td>0.677900</td>\n",
       "      <td>0.019695</td>\n",
       "      <td>0.000456</td>\n",
       "      <td>0.002752</td>\n",
       "      <td>0</td>\n",
       "      <td>0.000562</td>\n",
       "      <td>0.000000</td>\n",
       "      <td>0.000132</td>\n",
       "      <td>...</td>\n",
       "      <td>0.000942</td>\n",
       "      <td>0</td>\n",
       "      <td>0</td>\n",
       "      <td>0.000576</td>\n",
       "      <td>0.001118</td>\n",
       "      <td>0.000202</td>\n",
       "      <td>0.0</td>\n",
       "      <td>0.997505</td>\n",
       "      <td>0.091389</td>\n",
       "      <td>NaN</td>\n",
       "    </tr>\n",
       "  </tbody>\n",
       "</table>\n",
       "<p>3 rows × 27 columns</p>\n",
       "</div>"
      ],
      "text/plain": [
       "   Column  B cells naive  B cells memory  Plasma cells  T cells CD8  \\\n",
       "0       0       0.485544        0.512664      0.000027     0.000000   \n",
       "1       1       0.485355        0.512406      0.000000     0.000200   \n",
       "2       2       0.294010        0.677900      0.019695     0.000456   \n",
       "\n",
       "   T cells CD4 naive  T cells CD4 memory resting  \\\n",
       "0           0.000340                           0   \n",
       "1           0.000264                           0   \n",
       "2           0.002752                           0   \n",
       "\n",
       "   T cells CD4 memory activated  T cells follicular helper  \\\n",
       "0                      0.000027                   0.000000   \n",
       "1                      0.000000                   0.000055   \n",
       "2                      0.000562                   0.000000   \n",
       "\n",
       "   T cells regulatory (Tregs)     ...       Dendritic cells resting  \\\n",
       "0                    0.000041     ...                      0.000345   \n",
       "1                    0.000097     ...                      0.000342   \n",
       "2                    0.000132     ...                      0.000942   \n",
       "\n",
       "   Dendritic cells activated  Mast cells resting  Mast cells activated  \\\n",
       "0                          0                   0              0.000497   \n",
       "1                          0                   0              0.000699   \n",
       "2                          0                   0              0.000576   \n",
       "\n",
       "   Eosinophils  Neutrophils  P-value  Pearson Correlation      RMSE  \\\n",
       "0     0.000087     0.000032      0.0             0.999826  0.043109   \n",
       "1     0.000221     0.000064      0.0             0.999826  0.043452   \n",
       "2     0.001118     0.000202      0.0             0.997505  0.091389   \n",
       "\n",
       "   Unnamed: 26  \n",
       "0          NaN  \n",
       "1          NaN  \n",
       "2          NaN  \n",
       "\n",
       "[3 rows x 27 columns]"
      ]
     },
     "execution_count": 256,
     "metadata": {},
     "output_type": "execute_result"
    }
   ],
   "source": [
    "results3 = pd.read_csv(StringIO(results3), sep='\\t')\n",
    "results3.head()"
   ]
  },
  {
   "cell_type": "code",
   "execution_count": 257,
   "metadata": {
    "collapsed": false,
    "run_control": {
     "frozen": false,
     "read_only": false
    }
   },
   "outputs": [
    {
     "name": "stdout",
     "output_type": "stream",
     "text": [
      "(3, 26) (3, 22)\n"
     ]
    },
    {
     "data": {
      "text/html": [
       "<div>\n",
       "<table border=\"1\" class=\"dataframe\">\n",
       "  <thead>\n",
       "    <tr style=\"text-align: right;\">\n",
       "      <th></th>\n",
       "      <th>B cells naive</th>\n",
       "      <th>B cells memory</th>\n",
       "      <th>Plasma cells</th>\n",
       "      <th>T cells CD8</th>\n",
       "      <th>T cells CD4 naive</th>\n",
       "      <th>T cells CD4 memory resting</th>\n",
       "      <th>T cells CD4 memory activated</th>\n",
       "      <th>T cells follicular helper</th>\n",
       "      <th>T cells regulatory (Tregs)</th>\n",
       "      <th>T cells gamma delta</th>\n",
       "      <th>...</th>\n",
       "      <th>Monocytes</th>\n",
       "      <th>Macrophages M0</th>\n",
       "      <th>Macrophages M1</th>\n",
       "      <th>Macrophages M2</th>\n",
       "      <th>Dendritic cells resting</th>\n",
       "      <th>Dendritic cells activated</th>\n",
       "      <th>Mast cells resting</th>\n",
       "      <th>Mast cells activated</th>\n",
       "      <th>Eosinophils</th>\n",
       "      <th>Neutrophils</th>\n",
       "    </tr>\n",
       "  </thead>\n",
       "  <tbody>\n",
       "    <tr>\n",
       "      <th>0</th>\n",
       "      <td>0.485544</td>\n",
       "      <td>0.512664</td>\n",
       "      <td>0.000027</td>\n",
       "      <td>0.000000</td>\n",
       "      <td>0.000340</td>\n",
       "      <td>0</td>\n",
       "      <td>0.000027</td>\n",
       "      <td>0.000000</td>\n",
       "      <td>0.000041</td>\n",
       "      <td>0.000078</td>\n",
       "      <td>...</td>\n",
       "      <td>0.000064</td>\n",
       "      <td>0</td>\n",
       "      <td>0.000135</td>\n",
       "      <td>0.000058</td>\n",
       "      <td>0.000345</td>\n",
       "      <td>0</td>\n",
       "      <td>0</td>\n",
       "      <td>0.000497</td>\n",
       "      <td>0.000087</td>\n",
       "      <td>0.000032</td>\n",
       "    </tr>\n",
       "    <tr>\n",
       "      <th>1</th>\n",
       "      <td>0.485355</td>\n",
       "      <td>0.512406</td>\n",
       "      <td>0.000000</td>\n",
       "      <td>0.000200</td>\n",
       "      <td>0.000264</td>\n",
       "      <td>0</td>\n",
       "      <td>0.000000</td>\n",
       "      <td>0.000055</td>\n",
       "      <td>0.000097</td>\n",
       "      <td>0.000036</td>\n",
       "      <td>...</td>\n",
       "      <td>0.000034</td>\n",
       "      <td>0</td>\n",
       "      <td>0.000130</td>\n",
       "      <td>0.000000</td>\n",
       "      <td>0.000342</td>\n",
       "      <td>0</td>\n",
       "      <td>0</td>\n",
       "      <td>0.000699</td>\n",
       "      <td>0.000221</td>\n",
       "      <td>0.000064</td>\n",
       "    </tr>\n",
       "    <tr>\n",
       "      <th>2</th>\n",
       "      <td>0.294010</td>\n",
       "      <td>0.677900</td>\n",
       "      <td>0.019695</td>\n",
       "      <td>0.000456</td>\n",
       "      <td>0.002752</td>\n",
       "      <td>0</td>\n",
       "      <td>0.000562</td>\n",
       "      <td>0.000000</td>\n",
       "      <td>0.000132</td>\n",
       "      <td>0.000861</td>\n",
       "      <td>...</td>\n",
       "      <td>0.000417</td>\n",
       "      <td>0</td>\n",
       "      <td>0.000211</td>\n",
       "      <td>0.000000</td>\n",
       "      <td>0.000942</td>\n",
       "      <td>0</td>\n",
       "      <td>0</td>\n",
       "      <td>0.000576</td>\n",
       "      <td>0.001118</td>\n",
       "      <td>0.000202</td>\n",
       "    </tr>\n",
       "  </tbody>\n",
       "</table>\n",
       "<p>3 rows × 22 columns</p>\n",
       "</div>"
      ],
      "text/plain": [
       "   B cells naive  B cells memory  Plasma cells  T cells CD8  \\\n",
       "0       0.485544        0.512664      0.000027     0.000000   \n",
       "1       0.485355        0.512406      0.000000     0.000200   \n",
       "2       0.294010        0.677900      0.019695     0.000456   \n",
       "\n",
       "   T cells CD4 naive  T cells CD4 memory resting  \\\n",
       "0           0.000340                           0   \n",
       "1           0.000264                           0   \n",
       "2           0.002752                           0   \n",
       "\n",
       "   T cells CD4 memory activated  T cells follicular helper  \\\n",
       "0                      0.000027                   0.000000   \n",
       "1                      0.000000                   0.000055   \n",
       "2                      0.000562                   0.000000   \n",
       "\n",
       "   T cells regulatory (Tregs)  T cells gamma delta     ...       Monocytes  \\\n",
       "0                    0.000041             0.000078     ...        0.000064   \n",
       "1                    0.000097             0.000036     ...        0.000034   \n",
       "2                    0.000132             0.000861     ...        0.000417   \n",
       "\n",
       "   Macrophages M0  Macrophages M1  Macrophages M2  Dendritic cells resting  \\\n",
       "0               0        0.000135        0.000058                 0.000345   \n",
       "1               0        0.000130        0.000000                 0.000342   \n",
       "2               0        0.000211        0.000000                 0.000942   \n",
       "\n",
       "   Dendritic cells activated  Mast cells resting  Mast cells activated  \\\n",
       "0                          0                   0              0.000497   \n",
       "1                          0                   0              0.000699   \n",
       "2                          0                   0              0.000576   \n",
       "\n",
       "   Eosinophils  Neutrophils  \n",
       "0     0.000087     0.000032  \n",
       "1     0.000221     0.000064  \n",
       "2     0.001118     0.000202  \n",
       "\n",
       "[3 rows x 22 columns]"
      ]
     },
     "execution_count": 257,
     "metadata": {},
     "output_type": "execute_result"
    }
   ],
   "source": [
    "del results3['Unnamed: 26']\n",
    "results3_dat = results3[results3.columns[1:-3]]\n",
    "print results3.shape, results3_dat.shape\n",
    "results3_dat.head()"
   ]
  },
  {
   "cell_type": "code",
   "execution_count": 258,
   "metadata": {
    "collapsed": false,
    "run_control": {
     "frozen": false,
     "read_only": false
    }
   },
   "outputs": [
    {
     "data": {
      "text/html": [
       "<div>\n",
       "<table border=\"1\" class=\"dataframe\">\n",
       "  <thead>\n",
       "    <tr style=\"text-align: right;\">\n",
       "      <th></th>\n",
       "      <th>B cells naive</th>\n",
       "      <th>B cells memory</th>\n",
       "      <th>Plasma cells</th>\n",
       "      <th>T cells CD8</th>\n",
       "      <th>T cells CD4 naive</th>\n",
       "      <th>T cells CD4 memory resting</th>\n",
       "      <th>T cells CD4 memory activated</th>\n",
       "      <th>T cells follicular helper</th>\n",
       "      <th>T cells regulatory (Tregs)</th>\n",
       "      <th>T cells gamma delta</th>\n",
       "      <th>...</th>\n",
       "      <th>Monocytes</th>\n",
       "      <th>Macrophages M0</th>\n",
       "      <th>Macrophages M1</th>\n",
       "      <th>Macrophages M2</th>\n",
       "      <th>Dendritic cells resting</th>\n",
       "      <th>Dendritic cells activated</th>\n",
       "      <th>Mast cells resting</th>\n",
       "      <th>Mast cells activated</th>\n",
       "      <th>Eosinophils</th>\n",
       "      <th>Neutrophils</th>\n",
       "    </tr>\n",
       "  </thead>\n",
       "  <tbody>\n",
       "    <tr>\n",
       "      <th>0</th>\n",
       "      <td>0.5</td>\n",
       "      <td>0.5</td>\n",
       "      <td>0.0</td>\n",
       "      <td>0.0</td>\n",
       "      <td>0.0</td>\n",
       "      <td>0.0</td>\n",
       "      <td>0.0</td>\n",
       "      <td>0.0</td>\n",
       "      <td>0.0</td>\n",
       "      <td>0.0</td>\n",
       "      <td>...</td>\n",
       "      <td>0.0</td>\n",
       "      <td>0.0</td>\n",
       "      <td>0.0</td>\n",
       "      <td>0.0</td>\n",
       "      <td>0.0</td>\n",
       "      <td>0.0</td>\n",
       "      <td>0.0</td>\n",
       "      <td>0.0</td>\n",
       "      <td>0.0</td>\n",
       "      <td>0.0</td>\n",
       "    </tr>\n",
       "    <tr>\n",
       "      <th>1</th>\n",
       "      <td>0.5</td>\n",
       "      <td>0.5</td>\n",
       "      <td>0.0</td>\n",
       "      <td>0.0</td>\n",
       "      <td>0.0</td>\n",
       "      <td>0.0</td>\n",
       "      <td>0.0</td>\n",
       "      <td>0.0</td>\n",
       "      <td>0.0</td>\n",
       "      <td>0.0</td>\n",
       "      <td>...</td>\n",
       "      <td>0.0</td>\n",
       "      <td>0.0</td>\n",
       "      <td>0.0</td>\n",
       "      <td>0.0</td>\n",
       "      <td>0.0</td>\n",
       "      <td>0.0</td>\n",
       "      <td>0.0</td>\n",
       "      <td>0.0</td>\n",
       "      <td>0.0</td>\n",
       "      <td>0.0</td>\n",
       "    </tr>\n",
       "    <tr>\n",
       "      <th>2</th>\n",
       "      <td>0.5</td>\n",
       "      <td>0.5</td>\n",
       "      <td>0.0</td>\n",
       "      <td>0.0</td>\n",
       "      <td>0.0</td>\n",
       "      <td>0.0</td>\n",
       "      <td>0.0</td>\n",
       "      <td>0.0</td>\n",
       "      <td>0.0</td>\n",
       "      <td>0.0</td>\n",
       "      <td>...</td>\n",
       "      <td>0.0</td>\n",
       "      <td>0.0</td>\n",
       "      <td>0.0</td>\n",
       "      <td>0.0</td>\n",
       "      <td>0.0</td>\n",
       "      <td>0.0</td>\n",
       "      <td>0.0</td>\n",
       "      <td>0.0</td>\n",
       "      <td>0.0</td>\n",
       "      <td>0.0</td>\n",
       "    </tr>\n",
       "  </tbody>\n",
       "</table>\n",
       "<p>3 rows × 22 columns</p>\n",
       "</div>"
      ],
      "text/plain": [
       "   B cells naive  B cells memory  Plasma cells  T cells CD8  \\\n",
       "0            0.5             0.5           0.0          0.0   \n",
       "1            0.5             0.5           0.0          0.0   \n",
       "2            0.5             0.5           0.0          0.0   \n",
       "\n",
       "   T cells CD4 naive  T cells CD4 memory resting  \\\n",
       "0                0.0                         0.0   \n",
       "1                0.0                         0.0   \n",
       "2                0.0                         0.0   \n",
       "\n",
       "   T cells CD4 memory activated  T cells follicular helper  \\\n",
       "0                           0.0                        0.0   \n",
       "1                           0.0                        0.0   \n",
       "2                           0.0                        0.0   \n",
       "\n",
       "   T cells regulatory (Tregs)  T cells gamma delta     ...       Monocytes  \\\n",
       "0                         0.0                  0.0     ...             0.0   \n",
       "1                         0.0                  0.0     ...             0.0   \n",
       "2                         0.0                  0.0     ...             0.0   \n",
       "\n",
       "   Macrophages M0  Macrophages M1  Macrophages M2  Dendritic cells resting  \\\n",
       "0             0.0             0.0             0.0                      0.0   \n",
       "1             0.0             0.0             0.0                      0.0   \n",
       "2             0.0             0.0             0.0                      0.0   \n",
       "\n",
       "   Dendritic cells activated  Mast cells resting  Mast cells activated  \\\n",
       "0                        0.0                 0.0                   0.0   \n",
       "1                        0.0                 0.0                   0.0   \n",
       "2                        0.0                 0.0                   0.0   \n",
       "\n",
       "   Eosinophils  Neutrophils  \n",
       "0          0.0          0.0  \n",
       "1          0.0          0.0  \n",
       "2          0.0          0.0  \n",
       "\n",
       "[3 rows x 22 columns]"
      ]
     },
     "execution_count": 258,
     "metadata": {},
     "output_type": "execute_result"
    }
   ],
   "source": [
    "hard_ref_weights = pd.DataFrame(np.zeros(results3_dat.shape),columns=results3_dat.columns)\n",
    "hard_ref_weights.loc[:,hard_cols] = weights\n",
    "hard_ref_weights"
   ]
  },
  {
   "cell_type": "code",
   "execution_count": 259,
   "metadata": {
    "collapsed": false,
    "run_control": {
     "frozen": false,
     "read_only": false
    }
   },
   "outputs": [
    {
     "name": "stdout",
     "output_type": "stream",
     "text": [
      "correlation between GT and estimate per mixture\n",
      "0    0.999594\n",
      "1    0.999595\n",
      "2    0.923138\n",
      "dtype: float64\n"
     ]
    }
   ],
   "source": [
    "print 'correlation between GT and estimate per mixture'\n",
    "print results3_dat.corrwith(hard_ref_weights, axis=1)"
   ]
  },
  {
   "cell_type": "markdown",
   "metadata": {},
   "source": [
    "As expected, noise is starting to play a larger role here."
   ]
  },
  {
   "cell_type": "code",
   "execution_count": 260,
   "metadata": {
    "collapsed": false,
    "run_control": {
     "frozen": false,
     "read_only": false
    }
   },
   "outputs": [
    {
     "name": "stdout",
     "output_type": "stream",
     "text": [
      "absolute difference from ground truth, summarized by column:\n"
     ]
    },
    {
     "data": {
      "text/html": [
       "<div>\n",
       "<table border=\"1\" class=\"dataframe\">\n",
       "  <thead>\n",
       "    <tr style=\"text-align: right;\">\n",
       "      <th></th>\n",
       "      <th>B cells naive</th>\n",
       "      <th>B cells memory</th>\n",
       "      <th>Plasma cells</th>\n",
       "      <th>T cells CD8</th>\n",
       "      <th>T cells CD4 naive</th>\n",
       "      <th>T cells CD4 memory resting</th>\n",
       "      <th>T cells CD4 memory activated</th>\n",
       "      <th>T cells follicular helper</th>\n",
       "      <th>T cells regulatory (Tregs)</th>\n",
       "      <th>T cells gamma delta</th>\n",
       "      <th>...</th>\n",
       "      <th>Monocytes</th>\n",
       "      <th>Macrophages M0</th>\n",
       "      <th>Macrophages M1</th>\n",
       "      <th>Macrophages M2</th>\n",
       "      <th>Dendritic cells resting</th>\n",
       "      <th>Dendritic cells activated</th>\n",
       "      <th>Mast cells resting</th>\n",
       "      <th>Mast cells activated</th>\n",
       "      <th>Eosinophils</th>\n",
       "      <th>Neutrophils</th>\n",
       "    </tr>\n",
       "  </thead>\n",
       "  <tbody>\n",
       "    <tr>\n",
       "      <th>count</th>\n",
       "      <td>3.000000</td>\n",
       "      <td>3.000000</td>\n",
       "      <td>3.000000</td>\n",
       "      <td>3.000000</td>\n",
       "      <td>3.000000</td>\n",
       "      <td>3.0</td>\n",
       "      <td>3.000000</td>\n",
       "      <td>3.000000</td>\n",
       "      <td>3.000000</td>\n",
       "      <td>3.000000</td>\n",
       "      <td>...</td>\n",
       "      <td>3.000000</td>\n",
       "      <td>3.0</td>\n",
       "      <td>3.000000</td>\n",
       "      <td>3.000000</td>\n",
       "      <td>3.000000</td>\n",
       "      <td>3.0</td>\n",
       "      <td>3.0</td>\n",
       "      <td>3.000000</td>\n",
       "      <td>3.000000</td>\n",
       "      <td>3.000000</td>\n",
       "    </tr>\n",
       "    <tr>\n",
       "      <th>mean</th>\n",
       "      <td>-0.078364</td>\n",
       "      <td>0.067657</td>\n",
       "      <td>0.006574</td>\n",
       "      <td>0.000219</td>\n",
       "      <td>0.001119</td>\n",
       "      <td>0.0</td>\n",
       "      <td>0.000196</td>\n",
       "      <td>0.000018</td>\n",
       "      <td>0.000090</td>\n",
       "      <td>0.000325</td>\n",
       "      <td>...</td>\n",
       "      <td>0.000172</td>\n",
       "      <td>0.0</td>\n",
       "      <td>0.000159</td>\n",
       "      <td>0.000019</td>\n",
       "      <td>0.000543</td>\n",
       "      <td>0.0</td>\n",
       "      <td>0.0</td>\n",
       "      <td>0.000590</td>\n",
       "      <td>0.000475</td>\n",
       "      <td>0.000099</td>\n",
       "    </tr>\n",
       "    <tr>\n",
       "      <th>std</th>\n",
       "      <td>0.110528</td>\n",
       "      <td>0.095474</td>\n",
       "      <td>0.011363</td>\n",
       "      <td>0.000229</td>\n",
       "      <td>0.001415</td>\n",
       "      <td>0.0</td>\n",
       "      <td>0.000317</td>\n",
       "      <td>0.000032</td>\n",
       "      <td>0.000046</td>\n",
       "      <td>0.000464</td>\n",
       "      <td>...</td>\n",
       "      <td>0.000213</td>\n",
       "      <td>0.0</td>\n",
       "      <td>0.000045</td>\n",
       "      <td>0.000034</td>\n",
       "      <td>0.000345</td>\n",
       "      <td>0.0</td>\n",
       "      <td>0.0</td>\n",
       "      <td>0.000102</td>\n",
       "      <td>0.000561</td>\n",
       "      <td>0.000091</td>\n",
       "    </tr>\n",
       "    <tr>\n",
       "      <th>min</th>\n",
       "      <td>-0.205990</td>\n",
       "      <td>0.012406</td>\n",
       "      <td>0.000000</td>\n",
       "      <td>0.000000</td>\n",
       "      <td>0.000264</td>\n",
       "      <td>0.0</td>\n",
       "      <td>0.000000</td>\n",
       "      <td>0.000000</td>\n",
       "      <td>0.000041</td>\n",
       "      <td>0.000036</td>\n",
       "      <td>...</td>\n",
       "      <td>0.000034</td>\n",
       "      <td>0.0</td>\n",
       "      <td>0.000130</td>\n",
       "      <td>0.000000</td>\n",
       "      <td>0.000342</td>\n",
       "      <td>0.0</td>\n",
       "      <td>0.0</td>\n",
       "      <td>0.000497</td>\n",
       "      <td>0.000087</td>\n",
       "      <td>0.000032</td>\n",
       "    </tr>\n",
       "    <tr>\n",
       "      <th>25%</th>\n",
       "      <td>-0.110317</td>\n",
       "      <td>0.012535</td>\n",
       "      <td>0.000013</td>\n",
       "      <td>0.000100</td>\n",
       "      <td>0.000302</td>\n",
       "      <td>0.0</td>\n",
       "      <td>0.000014</td>\n",
       "      <td>0.000000</td>\n",
       "      <td>0.000069</td>\n",
       "      <td>0.000057</td>\n",
       "      <td>...</td>\n",
       "      <td>0.000049</td>\n",
       "      <td>0.0</td>\n",
       "      <td>0.000133</td>\n",
       "      <td>0.000000</td>\n",
       "      <td>0.000344</td>\n",
       "      <td>0.0</td>\n",
       "      <td>0.0</td>\n",
       "      <td>0.000536</td>\n",
       "      <td>0.000154</td>\n",
       "      <td>0.000048</td>\n",
       "    </tr>\n",
       "    <tr>\n",
       "      <th>50%</th>\n",
       "      <td>-0.014645</td>\n",
       "      <td>0.012664</td>\n",
       "      <td>0.000027</td>\n",
       "      <td>0.000200</td>\n",
       "      <td>0.000340</td>\n",
       "      <td>0.0</td>\n",
       "      <td>0.000027</td>\n",
       "      <td>0.000000</td>\n",
       "      <td>0.000097</td>\n",
       "      <td>0.000078</td>\n",
       "      <td>...</td>\n",
       "      <td>0.000064</td>\n",
       "      <td>0.0</td>\n",
       "      <td>0.000135</td>\n",
       "      <td>0.000000</td>\n",
       "      <td>0.000345</td>\n",
       "      <td>0.0</td>\n",
       "      <td>0.0</td>\n",
       "      <td>0.000576</td>\n",
       "      <td>0.000221</td>\n",
       "      <td>0.000064</td>\n",
       "    </tr>\n",
       "    <tr>\n",
       "      <th>75%</th>\n",
       "      <td>-0.014551</td>\n",
       "      <td>0.095282</td>\n",
       "      <td>0.009861</td>\n",
       "      <td>0.000328</td>\n",
       "      <td>0.001546</td>\n",
       "      <td>0.0</td>\n",
       "      <td>0.000294</td>\n",
       "      <td>0.000027</td>\n",
       "      <td>0.000115</td>\n",
       "      <td>0.000470</td>\n",
       "      <td>...</td>\n",
       "      <td>0.000240</td>\n",
       "      <td>0.0</td>\n",
       "      <td>0.000173</td>\n",
       "      <td>0.000029</td>\n",
       "      <td>0.000643</td>\n",
       "      <td>0.0</td>\n",
       "      <td>0.0</td>\n",
       "      <td>0.000637</td>\n",
       "      <td>0.000670</td>\n",
       "      <td>0.000133</td>\n",
       "    </tr>\n",
       "    <tr>\n",
       "      <th>max</th>\n",
       "      <td>-0.014456</td>\n",
       "      <td>0.177900</td>\n",
       "      <td>0.019695</td>\n",
       "      <td>0.000456</td>\n",
       "      <td>0.002752</td>\n",
       "      <td>0.0</td>\n",
       "      <td>0.000562</td>\n",
       "      <td>0.000055</td>\n",
       "      <td>0.000132</td>\n",
       "      <td>0.000861</td>\n",
       "      <td>...</td>\n",
       "      <td>0.000417</td>\n",
       "      <td>0.0</td>\n",
       "      <td>0.000211</td>\n",
       "      <td>0.000058</td>\n",
       "      <td>0.000942</td>\n",
       "      <td>0.0</td>\n",
       "      <td>0.0</td>\n",
       "      <td>0.000699</td>\n",
       "      <td>0.001118</td>\n",
       "      <td>0.000202</td>\n",
       "    </tr>\n",
       "  </tbody>\n",
       "</table>\n",
       "<p>8 rows × 22 columns</p>\n",
       "</div>"
      ],
      "text/plain": [
       "       B cells naive  B cells memory  Plasma cells  T cells CD8  \\\n",
       "count       3.000000        3.000000      3.000000     3.000000   \n",
       "mean       -0.078364        0.067657      0.006574     0.000219   \n",
       "std         0.110528        0.095474      0.011363     0.000229   \n",
       "min        -0.205990        0.012406      0.000000     0.000000   \n",
       "25%        -0.110317        0.012535      0.000013     0.000100   \n",
       "50%        -0.014645        0.012664      0.000027     0.000200   \n",
       "75%        -0.014551        0.095282      0.009861     0.000328   \n",
       "max        -0.014456        0.177900      0.019695     0.000456   \n",
       "\n",
       "       T cells CD4 naive  T cells CD4 memory resting  \\\n",
       "count           3.000000                         3.0   \n",
       "mean            0.001119                         0.0   \n",
       "std             0.001415                         0.0   \n",
       "min             0.000264                         0.0   \n",
       "25%             0.000302                         0.0   \n",
       "50%             0.000340                         0.0   \n",
       "75%             0.001546                         0.0   \n",
       "max             0.002752                         0.0   \n",
       "\n",
       "       T cells CD4 memory activated  T cells follicular helper  \\\n",
       "count                      3.000000                   3.000000   \n",
       "mean                       0.000196                   0.000018   \n",
       "std                        0.000317                   0.000032   \n",
       "min                        0.000000                   0.000000   \n",
       "25%                        0.000014                   0.000000   \n",
       "50%                        0.000027                   0.000000   \n",
       "75%                        0.000294                   0.000027   \n",
       "max                        0.000562                   0.000055   \n",
       "\n",
       "       T cells regulatory (Tregs)  T cells gamma delta     ...       \\\n",
       "count                    3.000000             3.000000     ...        \n",
       "mean                     0.000090             0.000325     ...        \n",
       "std                      0.000046             0.000464     ...        \n",
       "min                      0.000041             0.000036     ...        \n",
       "25%                      0.000069             0.000057     ...        \n",
       "50%                      0.000097             0.000078     ...        \n",
       "75%                      0.000115             0.000470     ...        \n",
       "max                      0.000132             0.000861     ...        \n",
       "\n",
       "       Monocytes  Macrophages M0  Macrophages M1  Macrophages M2  \\\n",
       "count   3.000000             3.0        3.000000        3.000000   \n",
       "mean    0.000172             0.0        0.000159        0.000019   \n",
       "std     0.000213             0.0        0.000045        0.000034   \n",
       "min     0.000034             0.0        0.000130        0.000000   \n",
       "25%     0.000049             0.0        0.000133        0.000000   \n",
       "50%     0.000064             0.0        0.000135        0.000000   \n",
       "75%     0.000240             0.0        0.000173        0.000029   \n",
       "max     0.000417             0.0        0.000211        0.000058   \n",
       "\n",
       "       Dendritic cells resting  Dendritic cells activated  Mast cells resting  \\\n",
       "count                 3.000000                        3.0                 3.0   \n",
       "mean                  0.000543                        0.0                 0.0   \n",
       "std                   0.000345                        0.0                 0.0   \n",
       "min                   0.000342                        0.0                 0.0   \n",
       "25%                   0.000344                        0.0                 0.0   \n",
       "50%                   0.000345                        0.0                 0.0   \n",
       "75%                   0.000643                        0.0                 0.0   \n",
       "max                   0.000942                        0.0                 0.0   \n",
       "\n",
       "       Mast cells activated  Eosinophils  Neutrophils  \n",
       "count              3.000000     3.000000     3.000000  \n",
       "mean               0.000590     0.000475     0.000099  \n",
       "std                0.000102     0.000561     0.000091  \n",
       "min                0.000497     0.000087     0.000032  \n",
       "25%                0.000536     0.000154     0.000048  \n",
       "50%                0.000576     0.000221     0.000064  \n",
       "75%                0.000637     0.000670     0.000133  \n",
       "max                0.000699     0.001118     0.000202  \n",
       "\n",
       "[8 rows x 22 columns]"
      ]
     },
     "execution_count": 260,
     "metadata": {},
     "output_type": "execute_result"
    },
    {
     "data": {
      "image/png": "[encoded data removed]",
      "text/plain": [
       "<matplotlib.figure.Figure at 0x7fd2891f0490>"
      ]
     },
     "metadata": {},
     "output_type": "display_data"
    }
   ],
   "source": [
    "print 'absolute difference from ground truth, summarized by column:'\n",
    "(results3_dat - hard_ref_weights).describe().loc['mean'].hist()\n",
    "plt.title('mean absolute differences for columns across all mixtures')\n",
    "(results3_dat - hard_ref_weights).describe()"
   ]
  },
  {
   "cell_type": "code",
   "execution_count": 261,
   "metadata": {
    "collapsed": false,
    "run_control": {
     "frozen": false,
     "read_only": false
    }
   },
   "outputs": [
    {
     "data": {
      "image/png": "[encoded data removed]",
      "text/plain": [
       "<matplotlib.figure.Figure at 0x7fd2897bd950>"
      ]
     },
     "metadata": {},
     "output_type": "display_data"
    },
    {
     "data": {
      "image/png": "[encoded data removed]",
      "text/plain": [
       "<matplotlib.figure.Figure at 0x7fd288e4db10>"
      ]
     },
     "metadata": {},
     "output_type": "display_data"
    },
    {
     "data": {
      "image/png": "[encoded data removed]",
      "text/plain": [
       "<matplotlib.figure.Figure at 0x7fd2a00bf1d0>"
      ]
     },
     "metadata": {},
     "output_type": "display_data"
    }
   ],
   "source": [
    "for _, row in (results3_dat - hard_ref_weights).iterrows():\n",
    "    plt.figure()\n",
    "    row.hist()\n",
    "    plt.title('mixture %d absolute differences' % row.name)"
   ]
  },
  {
   "cell_type": "code",
   "execution_count": 262,
   "metadata": {
    "collapsed": false,
    "run_control": {
     "frozen": false,
     "read_only": false
    }
   },
   "outputs": [
    {
     "data": {
      "image/png": "[encoded data removed]",
      "text/plain": [
       "<matplotlib.figure.Figure at 0x7fd289ba5150>"
      ]
     },
     "metadata": {},
     "output_type": "display_data"
    },
    {
     "data": {
      "image/png": "[encoded data removed]",
      "text/plain": [
       "<matplotlib.figure.Figure at 0x7fd289a60d50>"
      ]
     },
     "metadata": {},
     "output_type": "display_data"
    },
    {
     "data": {
      "image/png": "[encoded data removed]",
      "text/plain": [
       "<matplotlib.figure.Figure at 0x7fd28956e690>"
      ]
     },
     "metadata": {},
     "output_type": "display_data"
    }
   ],
   "source": [
    "for _, row in (results3_dat - hard_ref_weights).iterrows():\n",
    "    plt.figure()\n",
    "    row[hard_cols].hist()\n",
    "    plt.title('mixture %d absolute differences -- correct cell types only' % row.name)"
   ]
  },
  {
   "cell_type": "code",
   "execution_count": 263,
   "metadata": {
    "collapsed": false,
    "run_control": {
     "frozen": false,
     "read_only": false
    }
   },
   "outputs": [
    {
     "data": {
      "image/png": "[encoded data removed]",
      "text/plain": [
       "<matplotlib.figure.Figure at 0x7fd2897a0310>"
      ]
     },
     "metadata": {},
     "output_type": "display_data"
    },
    {
     "data": {
      "image/png": "[encoded data removed]",
      "text/plain": [
       "<matplotlib.figure.Figure at 0x7fd2895f90d0>"
      ]
     },
     "metadata": {},
     "output_type": "display_data"
    },
    {
     "data": {
      "image/png": "[encoded data removed]",
      "text/plain": [
       "<matplotlib.figure.Figure at 0x7fd289432ed0>"
      ]
     },
     "metadata": {},
     "output_type": "display_data"
    }
   ],
   "source": [
    "other_cols = set(results3_dat.columns) - set(hard_cols)\n",
    "for _, row in (results3_dat - hard_ref_weights).iterrows():\n",
    "    plt.figure()\n",
    "    row[other_cols].hist()\n",
    "    plt.title('mixture %d absolute differences -- incorrect cell types only' % row.name)"
   ]
  },
  {
   "cell_type": "code",
   "execution_count": 264,
   "metadata": {
    "collapsed": false,
    "run_control": {
     "frozen": false,
     "read_only": false
    }
   },
   "outputs": [
    {
     "data": {
      "text/html": [
       "<div>\n",
       "<table border=\"1\" class=\"dataframe\">\n",
       "  <thead>\n",
       "    <tr style=\"text-align: right;\">\n",
       "      <th></th>\n",
       "      <th>B cells naive</th>\n",
       "      <th>B cells memory</th>\n",
       "    </tr>\n",
       "  </thead>\n",
       "  <tbody>\n",
       "    <tr>\n",
       "      <th>0</th>\n",
       "      <td>-0.014456</td>\n",
       "      <td>0.012664</td>\n",
       "    </tr>\n",
       "    <tr>\n",
       "      <th>1</th>\n",
       "      <td>-0.014645</td>\n",
       "      <td>0.012406</td>\n",
       "    </tr>\n",
       "    <tr>\n",
       "      <th>2</th>\n",
       "      <td>-0.205990</td>\n",
       "      <td>0.177900</td>\n",
       "    </tr>\n",
       "  </tbody>\n",
       "</table>\n",
       "</div>"
      ],
      "text/plain": [
       "   B cells naive  B cells memory\n",
       "0      -0.014456        0.012664\n",
       "1      -0.014645        0.012406\n",
       "2      -0.205990        0.177900"
      ]
     },
     "execution_count": 264,
     "metadata": {},
     "output_type": "execute_result"
    }
   ],
   "source": [
    "(results3_dat - hard_ref_weights)[hard_cols]"
   ]
  },
  {
   "cell_type": "markdown",
   "metadata": {},
   "source": [
    "Noise hurts when the cell types are very similar. Error is up an order of magnitude in correct columns, and up at most 2 orders of magnitude in incorrect columns.\n",
    "\n",
    "But still very confident in the predictions in P value:"
   ]
  },
  {
   "cell_type": "code",
   "execution_count": 265,
   "metadata": {
    "collapsed": false,
    "run_control": {
     "frozen": false,
     "read_only": false
    }
   },
   "outputs": [
    {
     "data": {
      "text/plain": [
       "0    0.0\n",
       "1    0.0\n",
       "2    0.0\n",
       "Name: P-value, dtype: float64"
      ]
     },
     "execution_count": 265,
     "metadata": {},
     "output_type": "execute_result"
    }
   ],
   "source": [
    "results3['P-value']"
   ]
  },
  {
   "cell_type": "markdown",
   "metadata": {},
   "source": [
    "Correlations are high, but that's a bad measure. Here is RMSE and R^2 -- you can see how much noise hurts."
   ]
  },
  {
   "cell_type": "code",
   "execution_count": 294,
   "metadata": {
    "collapsed": false,
    "run_control": {
     "frozen": false,
     "read_only": false
    }
   },
   "outputs": [
    {
     "name": "stdout",
     "output_type": "stream",
     "text": [
      "RMSE \t R^2 \t per mixture\n",
      "0.0041 \t 0.9992\n",
      "0.0041 \t 0.9992\n",
      "0.0582 \t 0.8361\n"
     ]
    }
   ],
   "source": [
    "print 'RMSE \\t R^2 \\t per mixture'\n",
    "from sklearn.metrics import mean_squared_error as mse, r2_score\n",
    "for (_, y_true),(_, y_pred) in zip(hard_ref_weights.iterrows(), results3_dat.iterrows()):\n",
    "    print '%0.4f \\t %0.4f' % (np.sqrt(mse(y_true, y_pred)), r2_score(y_true, y_pred))"
   ]
  },
  {
   "cell_type": "markdown",
   "metadata": {},
   "source": [
    "## raw lines (should be quite hard)"
   ]
  },
  {
   "cell_type": "code",
   "execution_count": 266,
   "metadata": {
    "collapsed": false,
    "run_control": {
     "frozen": false,
     "read_only": false
    }
   },
   "outputs": [
    {
     "name": "stdout",
     "output_type": "stream",
     "text": [
      "B cells naive_1\n",
      "B cells naive_2\n",
      "B cells naive_3\n",
      "B cells naive_4\n",
      "B cells naive_5\n",
      "B cells naive_6\n",
      "B cells naive_7\n",
      "B cells memory_1\n",
      "B cells memory_2\n",
      "B cells memory_3\n",
      "B cells memory_4\n",
      "B cells memory_5\n",
      "B cells memory_6\n",
      "B cells memory_7\n",
      "B cells memory_8\n"
     ]
    }
   ],
   "source": [
    "for c in cib_raw.columns:\n",
    "    if 'b cells' in c.lower():\n",
    "        print c"
   ]
  },
  {
   "cell_type": "code",
   "execution_count": 267,
   "metadata": {
    "collapsed": false,
    "run_control": {
     "frozen": false,
     "read_only": false
    }
   },
   "outputs": [
    {
     "data": {
      "text/plain": [
       "([0.5, 0.5],\n",
       " ['B cells naive', 'B cells memory'],\n",
       " ['B cells naive_3', 'B cells memory_6'])"
      ]
     },
     "execution_count": 267,
     "metadata": {},
     "output_type": "execute_result"
    }
   ],
   "source": [
    "raw_cols = ['B cells naive_3', 'B cells memory_6']\n",
    "weights, hard_cols, raw_cols"
   ]
  },
  {
   "cell_type": "code",
   "execution_count": 268,
   "metadata": {
    "collapsed": false,
    "run_control": {
     "frozen": false,
     "read_only": false
    }
   },
   "outputs": [
    {
     "data": {
      "text/plain": [
       "(547, 2)"
      ]
     },
     "execution_count": 268,
     "metadata": {},
     "output_type": "execute_result"
    }
   ],
   "source": [
    "reference[hard_cols].shape"
   ]
  },
  {
   "cell_type": "code",
   "execution_count": 269,
   "metadata": {
    "collapsed": false,
    "run_control": {
     "frozen": false,
     "read_only": false
    }
   },
   "outputs": [
    {
     "name": "stdout",
     "output_type": "stream",
     "text": [
      "(11866,)\n"
     ]
    },
    {
     "data": {
      "text/plain": [
       "GeneSymbol\n",
       "A1CF      650.884112\n",
       "A2M        27.123923\n",
       "A4GALT     83.424552\n",
       "A4GNT     446.775751\n",
       "AAAS       48.353998\n",
       "dtype: float64"
      ]
     },
     "execution_count": 269,
     "metadata": {},
     "output_type": "execute_result"
    }
   ],
   "source": [
    "mix10=(cib_raw[raw_cols] * weights).sum(axis=1)\n",
    "print mix10.shape\n",
    "mix10.head()"
   ]
  },
  {
   "cell_type": "code",
   "execution_count": 270,
   "metadata": {
    "collapsed": false,
    "run_control": {
     "frozen": false,
     "read_only": false
    }
   },
   "outputs": [
    {
     "name": "stdout",
     "output_type": "stream",
     "text": [
      "(11866,)\n"
     ]
    },
    {
     "data": {
      "text/plain": [
       "GeneSymbol\n",
       "A1CF      651.283410\n",
       "A2M        26.771768\n",
       "A4GALT     82.749365\n",
       "A4GNT     447.154357\n",
       "AAAS       47.957598\n",
       "dtype: float64"
      ]
     },
     "execution_count": 270,
     "metadata": {},
     "output_type": "execute_result"
    }
   ],
   "source": [
    "mix11 = mix10 + np.random.normal(0,1,len(mix10))\n",
    "print mix11.shape\n",
    "mix11.head()"
   ]
  },
  {
   "cell_type": "code",
   "execution_count": 271,
   "metadata": {
    "collapsed": false,
    "run_control": {
     "frozen": false,
     "read_only": false
    }
   },
   "outputs": [
    {
     "name": "stdout",
     "output_type": "stream",
     "text": [
      "(11866,)\n"
     ]
    },
    {
     "data": {
      "text/plain": [
       "GeneSymbol\n",
       "A1CF      836.941979\n",
       "A2M        31.554632\n",
       "A4GALT     94.904842\n",
       "A4GNT     523.852090\n",
       "AAAS       56.158742\n",
       "dtype: float64"
      ]
     },
     "execution_count": 271,
     "metadata": {},
     "output_type": "execute_result"
    }
   ],
   "source": [
    "weights_noisy4 = np.reshape(weights*len(mix10), cib_raw[raw_cols].shape)\n",
    "weights_noisy4 += np.abs(np.random.normal(0,0.1, weights_noisy4.shape)) # using absolute value error\n",
    "weights_noisy4 = weights_noisy4.clip(0,1)\n",
    "mix12=(weights_noisy4 * cib_raw[raw_cols]).sum(axis=1)\n",
    "print mix12.shape\n",
    "mix12.head()"
   ]
  },
  {
   "cell_type": "code",
   "execution_count": 272,
   "metadata": {
    "collapsed": false,
    "run_control": {
     "frozen": false,
     "read_only": false
    }
   },
   "outputs": [
    {
     "name": "stdout",
     "output_type": "stream",
     "text": [
      "(11866, 3)\n"
     ]
    },
    {
     "data": {
      "text/html": [
       "<div>\n",
       "<table border=\"1\" class=\"dataframe\">\n",
       "  <thead>\n",
       "    <tr style=\"text-align: right;\">\n",
       "      <th></th>\n",
       "      <th>10 NoNoise</th>\n",
       "      <th>11 SimpleNoise</th>\n",
       "      <th>12 ComplexNoise</th>\n",
       "    </tr>\n",
       "    <tr>\n",
       "      <th>GeneSymbol</th>\n",
       "      <th></th>\n",
       "      <th></th>\n",
       "      <th></th>\n",
       "    </tr>\n",
       "  </thead>\n",
       "  <tbody>\n",
       "    <tr>\n",
       "      <th>A1CF</th>\n",
       "      <td>650.884112</td>\n",
       "      <td>651.283410</td>\n",
       "      <td>836.941979</td>\n",
       "    </tr>\n",
       "    <tr>\n",
       "      <th>A2M</th>\n",
       "      <td>27.123923</td>\n",
       "      <td>26.771768</td>\n",
       "      <td>31.554632</td>\n",
       "    </tr>\n",
       "    <tr>\n",
       "      <th>A4GALT</th>\n",
       "      <td>83.424552</td>\n",
       "      <td>82.749365</td>\n",
       "      <td>94.904842</td>\n",
       "    </tr>\n",
       "    <tr>\n",
       "      <th>A4GNT</th>\n",
       "      <td>446.775751</td>\n",
       "      <td>447.154357</td>\n",
       "      <td>523.852090</td>\n",
       "    </tr>\n",
       "    <tr>\n",
       "      <th>AAAS</th>\n",
       "      <td>48.353998</td>\n",
       "      <td>47.957598</td>\n",
       "      <td>56.158742</td>\n",
       "    </tr>\n",
       "  </tbody>\n",
       "</table>\n",
       "</div>"
      ],
      "text/plain": [
       "            10 NoNoise  11 SimpleNoise  12 ComplexNoise\n",
       "GeneSymbol                                             \n",
       "A1CF        650.884112      651.283410       836.941979\n",
       "A2M          27.123923       26.771768        31.554632\n",
       "A4GALT       83.424552       82.749365        94.904842\n",
       "A4GNT       446.775751      447.154357       523.852090\n",
       "AAAS         48.353998       47.957598        56.158742"
      ]
     },
     "execution_count": 272,
     "metadata": {},
     "output_type": "execute_result"
    }
   ],
   "source": [
    "# write out the reference profile mixtures\n",
    "hard_mixtures_rawline = pd.DataFrame({'10 NoNoise':mix10, '11 SimpleNoise': mix11, '12 ComplexNoise': mix12})\n",
    "hard_mixtures_rawline.index.name='GeneSymbol'\n",
    "hard_mixtures_rawline.to_csv('test_mixtures/hard_rawline_mixtures.txt', sep='\\t')\n",
    "print hard_mixtures_rawline.shape\n",
    "hard_mixtures_rawline.head()"
   ]
  },
  {
   "cell_type": "markdown",
   "metadata": {},
   "source": [
    "### run through cibersort"
   ]
  },
  {
   "cell_type": "code",
   "execution_count": 273,
   "metadata": {
    "collapsed": false,
    "run_control": {
     "frozen": false,
     "read_only": false
    }
   },
   "outputs": [
    {
     "name": "stdout",
     "output_type": "stream",
     "text": [
      ">===================Settings====================\n",
      ">Mixture file: test_mixtures/hard_rawline_mixtures.txt\n",
      ">Signature matrix file: LM22.txt\n",
      ">===============================================\n",
      ">R version 3.2.2 (2015-08-14)\n",
      ">==================CIBERSORT====================\n",
      "Column\tB cells naive\tB cells memory\tPlasma cells\tT cells CD8\tT cells CD4 naive\tT cells CD4 memory resting\tT cells CD4 memory activated\tT cells follicular helper\tT cells regulatory (Tregs)\tT cells gamma delta\tNK cells resting\tNK cells activated\tMonocytes\tMacrophages M0\tMacrophages M1\tMacrophages M2\tDendritic cells resting\tDendritic cells activated\tMast cells resting\tMast cells activated\tEosinophils\tNeutrophils\tP-value\tPearson Correlation\tRMSE\t\n",
      "0\t0.3594782219281709\t0.5731787955265267\t0\t0\t0\t0.01641125162299021\t0\t0.006256442181670757\t0.0015354756482850137\t0.006860935777334894\t0.0011104592187572474\t0\t0.002307018009947471\t0\t0.005146816514083392\t0\t0.01309390440882823\t0\t0\t0.009715726904220989\t0.004423367897098222\t4.815843620859287E-4\t0.0\t0.9524935359212416\t0.30968616485118217\n",
      "1\t0.3621124692347698\t0.5696173475520174\t0\t0\t0\t0.015282614696155064\t0\t0.006408442590492881\t0.0019630532323500574\t0.006461481144271229\t0.002077229366568293\t0\t0.003020807846510562\t0\t0.005364076781451933\t0\t0.012771391517678416\t0\t0\t0.009761022278050641\t0.004643130432395059\t5.169333272886407E-4\t0.0\t0.9524395680129184\t0.30996456102127046\n",
      "2\t0.3436258492569817\t0.5726492180248836\t0\t0\t0\t0.022027989762539064\t0\t0.007239583676795311\t2.765094415108881E-4\t0\t0\t0.010406650051857421\t0\t7.381273844323703E-4\t0.0028780648453193987\t0.0034752290103134513\t0.009166060330779349\t0\t0.0123761185946788\t0\t0.011282801718012997\t0.003857797901895781\t0.0\t0.9583148449033926\t0.29593737332058057\n"
     ]
    }
   ],
   "source": [
    "!java -Xmx3g -Xms3g -jar ~/CIBERSORT_package/CIBERSORT.jar -M test_mixtures/hard_rawline_mixtures.txt -B LM22.txt"
   ]
  },
  {
   "cell_type": "code",
   "execution_count": 274,
   "metadata": {
    "collapsed": true,
    "run_control": {
     "frozen": false,
     "read_only": false
    }
   },
   "outputs": [],
   "source": [
    "results4 = \"\"\"\n",
    "Column\tB cells naive\tB cells memory\tPlasma cells\tT cells CD8\tT cells CD4 naive\tT cells CD4 memory resting\tT cells CD4 memory activated\tT cells follicular helper\tT cells regulatory (Tregs)\tT cells gamma delta\tNK cells resting\tNK cells activated\tMonocytes\tMacrophages M0\tMacrophages M1\tMacrophages M2\tDendritic cells resting\tDendritic cells activated\tMast cells resting\tMast cells activated\tEosinophils\tNeutrophils\tP-value\tPearson Correlation\tRMSE\t\n",
    "0\t0.3594782219281709\t0.5731787955265267\t0\t0\t0\t0.01641125162299021\t0\t0.006256442181670757\t0.0015354756482850137\t0.006860935777334894\t0.0011104592187572474\t0\t0.002307018009947471\t0\t0.005146816514083392\t0\t0.01309390440882823\t0\t0\t0.009715726904220989\t0.004423367897098222\t4.815843620859287E-4\t0.0\t0.9524935359212416\t0.30968616485118217\n",
    "1\t0.3621124692347698\t0.5696173475520174\t0\t0\t0\t0.015282614696155064\t0\t0.006408442590492881\t0.0019630532323500574\t0.006461481144271229\t0.002077229366568293\t0\t0.003020807846510562\t0\t0.005364076781451933\t0\t0.012771391517678416\t0\t0\t0.009761022278050641\t0.004643130432395059\t5.169333272886407E-4\t0.0\t0.9524395680129184\t0.30996456102127046\n",
    "2\t0.3436258492569817\t0.5726492180248836\t0\t0\t0\t0.022027989762539064\t0\t0.007239583676795311\t2.765094415108881E-4\t0\t0\t0.010406650051857421\t0\t7.381273844323703E-4\t0.0028780648453193987\t0.0034752290103134513\t0.009166060330779349\t0\t0.0123761185946788\t0\t0.011282801718012997\t0.003857797901895781\t0.0\t0.9583148449033926\t0.29593737332058057\n",
    "\"\"\""
   ]
  },
  {
   "cell_type": "code",
   "execution_count": 275,
   "metadata": {
    "collapsed": false,
    "run_control": {
     "frozen": false,
     "read_only": false
    }
   },
   "outputs": [
    {
     "data": {
      "text/html": [
       "<div>\n",
       "<table border=\"1\" class=\"dataframe\">\n",
       "  <thead>\n",
       "    <tr style=\"text-align: right;\">\n",
       "      <th></th>\n",
       "      <th>Column</th>\n",
       "      <th>B cells naive</th>\n",
       "      <th>B cells memory</th>\n",
       "      <th>Plasma cells</th>\n",
       "      <th>T cells CD8</th>\n",
       "      <th>T cells CD4 naive</th>\n",
       "      <th>T cells CD4 memory resting</th>\n",
       "      <th>T cells CD4 memory activated</th>\n",
       "      <th>T cells follicular helper</th>\n",
       "      <th>T cells regulatory (Tregs)</th>\n",
       "      <th>...</th>\n",
       "      <th>Dendritic cells resting</th>\n",
       "      <th>Dendritic cells activated</th>\n",
       "      <th>Mast cells resting</th>\n",
       "      <th>Mast cells activated</th>\n",
       "      <th>Eosinophils</th>\n",
       "      <th>Neutrophils</th>\n",
       "      <th>P-value</th>\n",
       "      <th>Pearson Correlation</th>\n",
       "      <th>RMSE</th>\n",
       "      <th>Unnamed: 26</th>\n",
       "    </tr>\n",
       "  </thead>\n",
       "  <tbody>\n",
       "    <tr>\n",
       "      <th>0</th>\n",
       "      <td>0</td>\n",
       "      <td>0.359478</td>\n",
       "      <td>0.573179</td>\n",
       "      <td>0</td>\n",
       "      <td>0</td>\n",
       "      <td>0</td>\n",
       "      <td>0.016411</td>\n",
       "      <td>0</td>\n",
       "      <td>0.006256</td>\n",
       "      <td>0.001535</td>\n",
       "      <td>...</td>\n",
       "      <td>0.013094</td>\n",
       "      <td>0</td>\n",
       "      <td>0.000000</td>\n",
       "      <td>0.009716</td>\n",
       "      <td>0.004423</td>\n",
       "      <td>0.000482</td>\n",
       "      <td>0.0</td>\n",
       "      <td>0.952494</td>\n",
       "      <td>0.309686</td>\n",
       "      <td>NaN</td>\n",
       "    </tr>\n",
       "    <tr>\n",
       "      <th>1</th>\n",
       "      <td>1</td>\n",
       "      <td>0.362112</td>\n",
       "      <td>0.569617</td>\n",
       "      <td>0</td>\n",
       "      <td>0</td>\n",
       "      <td>0</td>\n",
       "      <td>0.015283</td>\n",
       "      <td>0</td>\n",
       "      <td>0.006408</td>\n",
       "      <td>0.001963</td>\n",
       "      <td>...</td>\n",
       "      <td>0.012771</td>\n",
       "      <td>0</td>\n",
       "      <td>0.000000</td>\n",
       "      <td>0.009761</td>\n",
       "      <td>0.004643</td>\n",
       "      <td>0.000517</td>\n",
       "      <td>0.0</td>\n",
       "      <td>0.952440</td>\n",
       "      <td>0.309965</td>\n",
       "      <td>NaN</td>\n",
       "    </tr>\n",
       "    <tr>\n",
       "      <th>2</th>\n",
       "      <td>2</td>\n",
       "      <td>0.343626</td>\n",
       "      <td>0.572649</td>\n",
       "      <td>0</td>\n",
       "      <td>0</td>\n",
       "      <td>0</td>\n",
       "      <td>0.022028</td>\n",
       "      <td>0</td>\n",
       "      <td>0.007240</td>\n",
       "      <td>0.000277</td>\n",
       "      <td>...</td>\n",
       "      <td>0.009166</td>\n",
       "      <td>0</td>\n",
       "      <td>0.012376</td>\n",
       "      <td>0.000000</td>\n",
       "      <td>0.011283</td>\n",
       "      <td>0.003858</td>\n",
       "      <td>0.0</td>\n",
       "      <td>0.958315</td>\n",
       "      <td>0.295937</td>\n",
       "      <td>NaN</td>\n",
       "    </tr>\n",
       "  </tbody>\n",
       "</table>\n",
       "<p>3 rows × 27 columns</p>\n",
       "</div>"
      ],
      "text/plain": [
       "   Column  B cells naive  B cells memory  Plasma cells  T cells CD8  \\\n",
       "0       0       0.359478        0.573179             0            0   \n",
       "1       1       0.362112        0.569617             0            0   \n",
       "2       2       0.343626        0.572649             0            0   \n",
       "\n",
       "   T cells CD4 naive  T cells CD4 memory resting  \\\n",
       "0                  0                    0.016411   \n",
       "1                  0                    0.015283   \n",
       "2                  0                    0.022028   \n",
       "\n",
       "   T cells CD4 memory activated  T cells follicular helper  \\\n",
       "0                             0                   0.006256   \n",
       "1                             0                   0.006408   \n",
       "2                             0                   0.007240   \n",
       "\n",
       "   T cells regulatory (Tregs)     ...       Dendritic cells resting  \\\n",
       "0                    0.001535     ...                      0.013094   \n",
       "1                    0.001963     ...                      0.012771   \n",
       "2                    0.000277     ...                      0.009166   \n",
       "\n",
       "   Dendritic cells activated  Mast cells resting  Mast cells activated  \\\n",
       "0                          0            0.000000              0.009716   \n",
       "1                          0            0.000000              0.009761   \n",
       "2                          0            0.012376              0.000000   \n",
       "\n",
       "   Eosinophils  Neutrophils  P-value  Pearson Correlation      RMSE  \\\n",
       "0     0.004423     0.000482      0.0             0.952494  0.309686   \n",
       "1     0.004643     0.000517      0.0             0.952440  0.309965   \n",
       "2     0.011283     0.003858      0.0             0.958315  0.295937   \n",
       "\n",
       "   Unnamed: 26  \n",
       "0          NaN  \n",
       "1          NaN  \n",
       "2          NaN  \n",
       "\n",
       "[3 rows x 27 columns]"
      ]
     },
     "execution_count": 275,
     "metadata": {},
     "output_type": "execute_result"
    }
   ],
   "source": [
    "results4 = pd.read_csv(StringIO(results4), sep='\\t')\n",
    "results4.head()"
   ]
  },
  {
   "cell_type": "code",
   "execution_count": 276,
   "metadata": {
    "collapsed": false,
    "run_control": {
     "frozen": false,
     "read_only": false
    }
   },
   "outputs": [
    {
     "name": "stdout",
     "output_type": "stream",
     "text": [
      "(3, 26) (3, 22)\n"
     ]
    },
    {
     "data": {
      "text/html": [
       "<div>\n",
       "<table border=\"1\" class=\"dataframe\">\n",
       "  <thead>\n",
       "    <tr style=\"text-align: right;\">\n",
       "      <th></th>\n",
       "      <th>B cells naive</th>\n",
       "      <th>B cells memory</th>\n",
       "      <th>Plasma cells</th>\n",
       "      <th>T cells CD8</th>\n",
       "      <th>T cells CD4 naive</th>\n",
       "      <th>T cells CD4 memory resting</th>\n",
       "      <th>T cells CD4 memory activated</th>\n",
       "      <th>T cells follicular helper</th>\n",
       "      <th>T cells regulatory (Tregs)</th>\n",
       "      <th>T cells gamma delta</th>\n",
       "      <th>...</th>\n",
       "      <th>Monocytes</th>\n",
       "      <th>Macrophages M0</th>\n",
       "      <th>Macrophages M1</th>\n",
       "      <th>Macrophages M2</th>\n",
       "      <th>Dendritic cells resting</th>\n",
       "      <th>Dendritic cells activated</th>\n",
       "      <th>Mast cells resting</th>\n",
       "      <th>Mast cells activated</th>\n",
       "      <th>Eosinophils</th>\n",
       "      <th>Neutrophils</th>\n",
       "    </tr>\n",
       "  </thead>\n",
       "  <tbody>\n",
       "    <tr>\n",
       "      <th>0</th>\n",
       "      <td>0.359478</td>\n",
       "      <td>0.573179</td>\n",
       "      <td>0</td>\n",
       "      <td>0</td>\n",
       "      <td>0</td>\n",
       "      <td>0.016411</td>\n",
       "      <td>0</td>\n",
       "      <td>0.006256</td>\n",
       "      <td>0.001535</td>\n",
       "      <td>0.006861</td>\n",
       "      <td>...</td>\n",
       "      <td>0.002307</td>\n",
       "      <td>0.000000</td>\n",
       "      <td>0.005147</td>\n",
       "      <td>0.000000</td>\n",
       "      <td>0.013094</td>\n",
       "      <td>0</td>\n",
       "      <td>0.000000</td>\n",
       "      <td>0.009716</td>\n",
       "      <td>0.004423</td>\n",
       "      <td>0.000482</td>\n",
       "    </tr>\n",
       "    <tr>\n",
       "      <th>1</th>\n",
       "      <td>0.362112</td>\n",
       "      <td>0.569617</td>\n",
       "      <td>0</td>\n",
       "      <td>0</td>\n",
       "      <td>0</td>\n",
       "      <td>0.015283</td>\n",
       "      <td>0</td>\n",
       "      <td>0.006408</td>\n",
       "      <td>0.001963</td>\n",
       "      <td>0.006461</td>\n",
       "      <td>...</td>\n",
       "      <td>0.003021</td>\n",
       "      <td>0.000000</td>\n",
       "      <td>0.005364</td>\n",
       "      <td>0.000000</td>\n",
       "      <td>0.012771</td>\n",
       "      <td>0</td>\n",
       "      <td>0.000000</td>\n",
       "      <td>0.009761</td>\n",
       "      <td>0.004643</td>\n",
       "      <td>0.000517</td>\n",
       "    </tr>\n",
       "    <tr>\n",
       "      <th>2</th>\n",
       "      <td>0.343626</td>\n",
       "      <td>0.572649</td>\n",
       "      <td>0</td>\n",
       "      <td>0</td>\n",
       "      <td>0</td>\n",
       "      <td>0.022028</td>\n",
       "      <td>0</td>\n",
       "      <td>0.007240</td>\n",
       "      <td>0.000277</td>\n",
       "      <td>0.000000</td>\n",
       "      <td>...</td>\n",
       "      <td>0.000000</td>\n",
       "      <td>0.000738</td>\n",
       "      <td>0.002878</td>\n",
       "      <td>0.003475</td>\n",
       "      <td>0.009166</td>\n",
       "      <td>0</td>\n",
       "      <td>0.012376</td>\n",
       "      <td>0.000000</td>\n",
       "      <td>0.011283</td>\n",
       "      <td>0.003858</td>\n",
       "    </tr>\n",
       "  </tbody>\n",
       "</table>\n",
       "<p>3 rows × 22 columns</p>\n",
       "</div>"
      ],
      "text/plain": [
       "   B cells naive  B cells memory  Plasma cells  T cells CD8  \\\n",
       "0       0.359478        0.573179             0            0   \n",
       "1       0.362112        0.569617             0            0   \n",
       "2       0.343626        0.572649             0            0   \n",
       "\n",
       "   T cells CD4 naive  T cells CD4 memory resting  \\\n",
       "0                  0                    0.016411   \n",
       "1                  0                    0.015283   \n",
       "2                  0                    0.022028   \n",
       "\n",
       "   T cells CD4 memory activated  T cells follicular helper  \\\n",
       "0                             0                   0.006256   \n",
       "1                             0                   0.006408   \n",
       "2                             0                   0.007240   \n",
       "\n",
       "   T cells regulatory (Tregs)  T cells gamma delta     ...       Monocytes  \\\n",
       "0                    0.001535             0.006861     ...        0.002307   \n",
       "1                    0.001963             0.006461     ...        0.003021   \n",
       "2                    0.000277             0.000000     ...        0.000000   \n",
       "\n",
       "   Macrophages M0  Macrophages M1  Macrophages M2  Dendritic cells resting  \\\n",
       "0        0.000000        0.005147        0.000000                 0.013094   \n",
       "1        0.000000        0.005364        0.000000                 0.012771   \n",
       "2        0.000738        0.002878        0.003475                 0.009166   \n",
       "\n",
       "   Dendritic cells activated  Mast cells resting  Mast cells activated  \\\n",
       "0                          0            0.000000              0.009716   \n",
       "1                          0            0.000000              0.009761   \n",
       "2                          0            0.012376              0.000000   \n",
       "\n",
       "   Eosinophils  Neutrophils  \n",
       "0     0.004423     0.000482  \n",
       "1     0.004643     0.000517  \n",
       "2     0.011283     0.003858  \n",
       "\n",
       "[3 rows x 22 columns]"
      ]
     },
     "execution_count": 276,
     "metadata": {},
     "output_type": "execute_result"
    }
   ],
   "source": [
    "del results4['Unnamed: 26']\n",
    "results4_dat = results4[results4.columns[1:-3]]\n",
    "print results4.shape, results4_dat.shape\n",
    "results4_dat.head()"
   ]
  },
  {
   "cell_type": "code",
   "execution_count": 277,
   "metadata": {
    "collapsed": false,
    "run_control": {
     "frozen": false,
     "read_only": false
    }
   },
   "outputs": [
    {
     "data": {
      "text/html": [
       "<div>\n",
       "<table border=\"1\" class=\"dataframe\">\n",
       "  <thead>\n",
       "    <tr style=\"text-align: right;\">\n",
       "      <th></th>\n",
       "      <th>B cells naive</th>\n",
       "      <th>B cells memory</th>\n",
       "      <th>Plasma cells</th>\n",
       "      <th>T cells CD8</th>\n",
       "      <th>T cells CD4 naive</th>\n",
       "      <th>T cells CD4 memory resting</th>\n",
       "      <th>T cells CD4 memory activated</th>\n",
       "      <th>T cells follicular helper</th>\n",
       "      <th>T cells regulatory (Tregs)</th>\n",
       "      <th>T cells gamma delta</th>\n",
       "      <th>...</th>\n",
       "      <th>Monocytes</th>\n",
       "      <th>Macrophages M0</th>\n",
       "      <th>Macrophages M1</th>\n",
       "      <th>Macrophages M2</th>\n",
       "      <th>Dendritic cells resting</th>\n",
       "      <th>Dendritic cells activated</th>\n",
       "      <th>Mast cells resting</th>\n",
       "      <th>Mast cells activated</th>\n",
       "      <th>Eosinophils</th>\n",
       "      <th>Neutrophils</th>\n",
       "    </tr>\n",
       "  </thead>\n",
       "  <tbody>\n",
       "    <tr>\n",
       "      <th>0</th>\n",
       "      <td>0.5</td>\n",
       "      <td>0.5</td>\n",
       "      <td>0.0</td>\n",
       "      <td>0.0</td>\n",
       "      <td>0.0</td>\n",
       "      <td>0.0</td>\n",
       "      <td>0.0</td>\n",
       "      <td>0.0</td>\n",
       "      <td>0.0</td>\n",
       "      <td>0.0</td>\n",
       "      <td>...</td>\n",
       "      <td>0.0</td>\n",
       "      <td>0.0</td>\n",
       "      <td>0.0</td>\n",
       "      <td>0.0</td>\n",
       "      <td>0.0</td>\n",
       "      <td>0.0</td>\n",
       "      <td>0.0</td>\n",
       "      <td>0.0</td>\n",
       "      <td>0.0</td>\n",
       "      <td>0.0</td>\n",
       "    </tr>\n",
       "    <tr>\n",
       "      <th>1</th>\n",
       "      <td>0.5</td>\n",
       "      <td>0.5</td>\n",
       "      <td>0.0</td>\n",
       "      <td>0.0</td>\n",
       "      <td>0.0</td>\n",
       "      <td>0.0</td>\n",
       "      <td>0.0</td>\n",
       "      <td>0.0</td>\n",
       "      <td>0.0</td>\n",
       "      <td>0.0</td>\n",
       "      <td>...</td>\n",
       "      <td>0.0</td>\n",
       "      <td>0.0</td>\n",
       "      <td>0.0</td>\n",
       "      <td>0.0</td>\n",
       "      <td>0.0</td>\n",
       "      <td>0.0</td>\n",
       "      <td>0.0</td>\n",
       "      <td>0.0</td>\n",
       "      <td>0.0</td>\n",
       "      <td>0.0</td>\n",
       "    </tr>\n",
       "    <tr>\n",
       "      <th>2</th>\n",
       "      <td>0.5</td>\n",
       "      <td>0.5</td>\n",
       "      <td>0.0</td>\n",
       "      <td>0.0</td>\n",
       "      <td>0.0</td>\n",
       "      <td>0.0</td>\n",
       "      <td>0.0</td>\n",
       "      <td>0.0</td>\n",
       "      <td>0.0</td>\n",
       "      <td>0.0</td>\n",
       "      <td>...</td>\n",
       "      <td>0.0</td>\n",
       "      <td>0.0</td>\n",
       "      <td>0.0</td>\n",
       "      <td>0.0</td>\n",
       "      <td>0.0</td>\n",
       "      <td>0.0</td>\n",
       "      <td>0.0</td>\n",
       "      <td>0.0</td>\n",
       "      <td>0.0</td>\n",
       "      <td>0.0</td>\n",
       "    </tr>\n",
       "  </tbody>\n",
       "</table>\n",
       "<p>3 rows × 22 columns</p>\n",
       "</div>"
      ],
      "text/plain": [
       "   B cells naive  B cells memory  Plasma cells  T cells CD8  \\\n",
       "0            0.5             0.5           0.0          0.0   \n",
       "1            0.5             0.5           0.0          0.0   \n",
       "2            0.5             0.5           0.0          0.0   \n",
       "\n",
       "   T cells CD4 naive  T cells CD4 memory resting  \\\n",
       "0                0.0                         0.0   \n",
       "1                0.0                         0.0   \n",
       "2                0.0                         0.0   \n",
       "\n",
       "   T cells CD4 memory activated  T cells follicular helper  \\\n",
       "0                           0.0                        0.0   \n",
       "1                           0.0                        0.0   \n",
       "2                           0.0                        0.0   \n",
       "\n",
       "   T cells regulatory (Tregs)  T cells gamma delta     ...       Monocytes  \\\n",
       "0                         0.0                  0.0     ...             0.0   \n",
       "1                         0.0                  0.0     ...             0.0   \n",
       "2                         0.0                  0.0     ...             0.0   \n",
       "\n",
       "   Macrophages M0  Macrophages M1  Macrophages M2  Dendritic cells resting  \\\n",
       "0             0.0             0.0             0.0                      0.0   \n",
       "1             0.0             0.0             0.0                      0.0   \n",
       "2             0.0             0.0             0.0                      0.0   \n",
       "\n",
       "   Dendritic cells activated  Mast cells resting  Mast cells activated  \\\n",
       "0                        0.0                 0.0                   0.0   \n",
       "1                        0.0                 0.0                   0.0   \n",
       "2                        0.0                 0.0                   0.0   \n",
       "\n",
       "   Eosinophils  Neutrophils  \n",
       "0          0.0          0.0  \n",
       "1          0.0          0.0  \n",
       "2          0.0          0.0  \n",
       "\n",
       "[3 rows x 22 columns]"
      ]
     },
     "execution_count": 277,
     "metadata": {},
     "output_type": "execute_result"
    }
   ],
   "source": [
    "hard_ref_weights"
   ]
  },
  {
   "cell_type": "code",
   "execution_count": 278,
   "metadata": {
    "collapsed": false,
    "run_control": {
     "frozen": false,
     "read_only": false
    }
   },
   "outputs": [
    {
     "name": "stdout",
     "output_type": "stream",
     "text": [
      "correlation between GT and estimate per mixture\n",
      "0    0.971401\n",
      "1    0.972930\n",
      "2    0.965900\n",
      "dtype: float64\n"
     ]
    }
   ],
   "source": [
    "print 'correlation between GT and estimate per mixture'\n",
    "print results4_dat.corrwith(hard_ref_weights, axis=1)"
   ]
  },
  {
   "cell_type": "code",
   "execution_count": 279,
   "metadata": {
    "collapsed": false,
    "run_control": {
     "frozen": false,
     "read_only": false
    }
   },
   "outputs": [
    {
     "name": "stdout",
     "output_type": "stream",
     "text": [
      "absolute difference from ground truth, summarized by column:\n"
     ]
    },
    {
     "data": {
      "text/html": [
       "<div>\n",
       "<table border=\"1\" class=\"dataframe\">\n",
       "  <thead>\n",
       "    <tr style=\"text-align: right;\">\n",
       "      <th></th>\n",
       "      <th>B cells naive</th>\n",
       "      <th>B cells memory</th>\n",
       "      <th>Plasma cells</th>\n",
       "      <th>T cells CD8</th>\n",
       "      <th>T cells CD4 naive</th>\n",
       "      <th>T cells CD4 memory resting</th>\n",
       "      <th>T cells CD4 memory activated</th>\n",
       "      <th>T cells follicular helper</th>\n",
       "      <th>T cells regulatory (Tregs)</th>\n",
       "      <th>T cells gamma delta</th>\n",
       "      <th>...</th>\n",
       "      <th>Monocytes</th>\n",
       "      <th>Macrophages M0</th>\n",
       "      <th>Macrophages M1</th>\n",
       "      <th>Macrophages M2</th>\n",
       "      <th>Dendritic cells resting</th>\n",
       "      <th>Dendritic cells activated</th>\n",
       "      <th>Mast cells resting</th>\n",
       "      <th>Mast cells activated</th>\n",
       "      <th>Eosinophils</th>\n",
       "      <th>Neutrophils</th>\n",
       "    </tr>\n",
       "  </thead>\n",
       "  <tbody>\n",
       "    <tr>\n",
       "      <th>count</th>\n",
       "      <td>3.000000</td>\n",
       "      <td>3.000000</td>\n",
       "      <td>3.0</td>\n",
       "      <td>3.0</td>\n",
       "      <td>3.0</td>\n",
       "      <td>3.000000</td>\n",
       "      <td>3.0</td>\n",
       "      <td>3.000000</td>\n",
       "      <td>3.000000</td>\n",
       "      <td>3.000000</td>\n",
       "      <td>...</td>\n",
       "      <td>3.000000</td>\n",
       "      <td>3.000000</td>\n",
       "      <td>3.000000</td>\n",
       "      <td>3.000000</td>\n",
       "      <td>3.000000</td>\n",
       "      <td>3.0</td>\n",
       "      <td>3.000000</td>\n",
       "      <td>3.000000</td>\n",
       "      <td>3.000000</td>\n",
       "      <td>3.000000</td>\n",
       "    </tr>\n",
       "    <tr>\n",
       "      <th>mean</th>\n",
       "      <td>-0.144928</td>\n",
       "      <td>0.071815</td>\n",
       "      <td>0.0</td>\n",
       "      <td>0.0</td>\n",
       "      <td>0.0</td>\n",
       "      <td>0.017907</td>\n",
       "      <td>0.0</td>\n",
       "      <td>0.006635</td>\n",
       "      <td>0.001258</td>\n",
       "      <td>0.004441</td>\n",
       "      <td>...</td>\n",
       "      <td>0.001776</td>\n",
       "      <td>0.000246</td>\n",
       "      <td>0.004463</td>\n",
       "      <td>0.001158</td>\n",
       "      <td>0.011677</td>\n",
       "      <td>0.0</td>\n",
       "      <td>0.004125</td>\n",
       "      <td>0.006492</td>\n",
       "      <td>0.006783</td>\n",
       "      <td>0.001619</td>\n",
       "    </tr>\n",
       "    <tr>\n",
       "      <th>std</th>\n",
       "      <td>0.010000</td>\n",
       "      <td>0.001922</td>\n",
       "      <td>0.0</td>\n",
       "      <td>0.0</td>\n",
       "      <td>0.0</td>\n",
       "      <td>0.003613</td>\n",
       "      <td>0.0</td>\n",
       "      <td>0.000529</td>\n",
       "      <td>0.000877</td>\n",
       "      <td>0.003851</td>\n",
       "      <td>...</td>\n",
       "      <td>0.001579</td>\n",
       "      <td>0.000426</td>\n",
       "      <td>0.001377</td>\n",
       "      <td>0.002006</td>\n",
       "      <td>0.002181</td>\n",
       "      <td>0.0</td>\n",
       "      <td>0.007145</td>\n",
       "      <td>0.005622</td>\n",
       "      <td>0.003898</td>\n",
       "      <td>0.001939</td>\n",
       "    </tr>\n",
       "    <tr>\n",
       "      <th>min</th>\n",
       "      <td>-0.156374</td>\n",
       "      <td>0.069617</td>\n",
       "      <td>0.0</td>\n",
       "      <td>0.0</td>\n",
       "      <td>0.0</td>\n",
       "      <td>0.015283</td>\n",
       "      <td>0.0</td>\n",
       "      <td>0.006256</td>\n",
       "      <td>0.000277</td>\n",
       "      <td>0.000000</td>\n",
       "      <td>...</td>\n",
       "      <td>0.000000</td>\n",
       "      <td>0.000000</td>\n",
       "      <td>0.002878</td>\n",
       "      <td>0.000000</td>\n",
       "      <td>0.009166</td>\n",
       "      <td>0.0</td>\n",
       "      <td>0.000000</td>\n",
       "      <td>0.000000</td>\n",
       "      <td>0.004423</td>\n",
       "      <td>0.000482</td>\n",
       "    </tr>\n",
       "    <tr>\n",
       "      <th>25%</th>\n",
       "      <td>-0.148448</td>\n",
       "      <td>0.071133</td>\n",
       "      <td>0.0</td>\n",
       "      <td>0.0</td>\n",
       "      <td>0.0</td>\n",
       "      <td>0.015847</td>\n",
       "      <td>0.0</td>\n",
       "      <td>0.006332</td>\n",
       "      <td>0.000906</td>\n",
       "      <td>0.003231</td>\n",
       "      <td>...</td>\n",
       "      <td>0.001154</td>\n",
       "      <td>0.000000</td>\n",
       "      <td>0.004012</td>\n",
       "      <td>0.000000</td>\n",
       "      <td>0.010969</td>\n",
       "      <td>0.0</td>\n",
       "      <td>0.000000</td>\n",
       "      <td>0.004858</td>\n",
       "      <td>0.004533</td>\n",
       "      <td>0.000499</td>\n",
       "    </tr>\n",
       "    <tr>\n",
       "      <th>50%</th>\n",
       "      <td>-0.140522</td>\n",
       "      <td>0.072649</td>\n",
       "      <td>0.0</td>\n",
       "      <td>0.0</td>\n",
       "      <td>0.0</td>\n",
       "      <td>0.016411</td>\n",
       "      <td>0.0</td>\n",
       "      <td>0.006408</td>\n",
       "      <td>0.001535</td>\n",
       "      <td>0.006461</td>\n",
       "      <td>...</td>\n",
       "      <td>0.002307</td>\n",
       "      <td>0.000000</td>\n",
       "      <td>0.005147</td>\n",
       "      <td>0.000000</td>\n",
       "      <td>0.012771</td>\n",
       "      <td>0.0</td>\n",
       "      <td>0.000000</td>\n",
       "      <td>0.009716</td>\n",
       "      <td>0.004643</td>\n",
       "      <td>0.000517</td>\n",
       "    </tr>\n",
       "    <tr>\n",
       "      <th>75%</th>\n",
       "      <td>-0.139205</td>\n",
       "      <td>0.072914</td>\n",
       "      <td>0.0</td>\n",
       "      <td>0.0</td>\n",
       "      <td>0.0</td>\n",
       "      <td>0.019220</td>\n",
       "      <td>0.0</td>\n",
       "      <td>0.006824</td>\n",
       "      <td>0.001749</td>\n",
       "      <td>0.006661</td>\n",
       "      <td>...</td>\n",
       "      <td>0.002664</td>\n",
       "      <td>0.000369</td>\n",
       "      <td>0.005255</td>\n",
       "      <td>0.001738</td>\n",
       "      <td>0.012933</td>\n",
       "      <td>0.0</td>\n",
       "      <td>0.006188</td>\n",
       "      <td>0.009738</td>\n",
       "      <td>0.007963</td>\n",
       "      <td>0.002187</td>\n",
       "    </tr>\n",
       "    <tr>\n",
       "      <th>max</th>\n",
       "      <td>-0.137888</td>\n",
       "      <td>0.073179</td>\n",
       "      <td>0.0</td>\n",
       "      <td>0.0</td>\n",
       "      <td>0.0</td>\n",
       "      <td>0.022028</td>\n",
       "      <td>0.0</td>\n",
       "      <td>0.007240</td>\n",
       "      <td>0.001963</td>\n",
       "      <td>0.006861</td>\n",
       "      <td>...</td>\n",
       "      <td>0.003021</td>\n",
       "      <td>0.000738</td>\n",
       "      <td>0.005364</td>\n",
       "      <td>0.003475</td>\n",
       "      <td>0.013094</td>\n",
       "      <td>0.0</td>\n",
       "      <td>0.012376</td>\n",
       "      <td>0.009761</td>\n",
       "      <td>0.011283</td>\n",
       "      <td>0.003858</td>\n",
       "    </tr>\n",
       "  </tbody>\n",
       "</table>\n",
       "<p>8 rows × 22 columns</p>\n",
       "</div>"
      ],
      "text/plain": [
       "       B cells naive  B cells memory  Plasma cells  T cells CD8  \\\n",
       "count       3.000000        3.000000           3.0          3.0   \n",
       "mean       -0.144928        0.071815           0.0          0.0   \n",
       "std         0.010000        0.001922           0.0          0.0   \n",
       "min        -0.156374        0.069617           0.0          0.0   \n",
       "25%        -0.148448        0.071133           0.0          0.0   \n",
       "50%        -0.140522        0.072649           0.0          0.0   \n",
       "75%        -0.139205        0.072914           0.0          0.0   \n",
       "max        -0.137888        0.073179           0.0          0.0   \n",
       "\n",
       "       T cells CD4 naive  T cells CD4 memory resting  \\\n",
       "count                3.0                    3.000000   \n",
       "mean                 0.0                    0.017907   \n",
       "std                  0.0                    0.003613   \n",
       "min                  0.0                    0.015283   \n",
       "25%                  0.0                    0.015847   \n",
       "50%                  0.0                    0.016411   \n",
       "75%                  0.0                    0.019220   \n",
       "max                  0.0                    0.022028   \n",
       "\n",
       "       T cells CD4 memory activated  T cells follicular helper  \\\n",
       "count                           3.0                   3.000000   \n",
       "mean                            0.0                   0.006635   \n",
       "std                             0.0                   0.000529   \n",
       "min                             0.0                   0.006256   \n",
       "25%                             0.0                   0.006332   \n",
       "50%                             0.0                   0.006408   \n",
       "75%                             0.0                   0.006824   \n",
       "max                             0.0                   0.007240   \n",
       "\n",
       "       T cells regulatory (Tregs)  T cells gamma delta     ...       \\\n",
       "count                    3.000000             3.000000     ...        \n",
       "mean                     0.001258             0.004441     ...        \n",
       "std                      0.000877             0.003851     ...        \n",
       "min                      0.000277             0.000000     ...        \n",
       "25%                      0.000906             0.003231     ...        \n",
       "50%                      0.001535             0.006461     ...        \n",
       "75%                      0.001749             0.006661     ...        \n",
       "max                      0.001963             0.006861     ...        \n",
       "\n",
       "       Monocytes  Macrophages M0  Macrophages M1  Macrophages M2  \\\n",
       "count   3.000000        3.000000        3.000000        3.000000   \n",
       "mean    0.001776        0.000246        0.004463        0.001158   \n",
       "std     0.001579        0.000426        0.001377        0.002006   \n",
       "min     0.000000        0.000000        0.002878        0.000000   \n",
       "25%     0.001154        0.000000        0.004012        0.000000   \n",
       "50%     0.002307        0.000000        0.005147        0.000000   \n",
       "75%     0.002664        0.000369        0.005255        0.001738   \n",
       "max     0.003021        0.000738        0.005364        0.003475   \n",
       "\n",
       "       Dendritic cells resting  Dendritic cells activated  Mast cells resting  \\\n",
       "count                 3.000000                        3.0            3.000000   \n",
       "mean                  0.011677                        0.0            0.004125   \n",
       "std                   0.002181                        0.0            0.007145   \n",
       "min                   0.009166                        0.0            0.000000   \n",
       "25%                   0.010969                        0.0            0.000000   \n",
       "50%                   0.012771                        0.0            0.000000   \n",
       "75%                   0.012933                        0.0            0.006188   \n",
       "max                   0.013094                        0.0            0.012376   \n",
       "\n",
       "       Mast cells activated  Eosinophils  Neutrophils  \n",
       "count              3.000000     3.000000     3.000000  \n",
       "mean               0.006492     0.006783     0.001619  \n",
       "std                0.005622     0.003898     0.001939  \n",
       "min                0.000000     0.004423     0.000482  \n",
       "25%                0.004858     0.004533     0.000499  \n",
       "50%                0.009716     0.004643     0.000517  \n",
       "75%                0.009738     0.007963     0.002187  \n",
       "max                0.009761     0.011283     0.003858  \n",
       "\n",
       "[8 rows x 22 columns]"
      ]
     },
     "execution_count": 279,
     "metadata": {},
     "output_type": "execute_result"
    },
    {
     "data": {
      "image/png": "[encoded data removed]",
      "text/plain": [
       "<matplotlib.figure.Figure at 0x7fd2895c6f10>"
      ]
     },
     "metadata": {},
     "output_type": "display_data"
    }
   ],
   "source": [
    "print 'absolute difference from ground truth, summarized by column:'\n",
    "(results4_dat - hard_ref_weights).describe().loc['mean'].hist()\n",
    "plt.title('mean absolute differences for columns across all mixtures')\n",
    "(results4_dat - hard_ref_weights).describe()"
   ]
  },
  {
   "cell_type": "code",
   "execution_count": 280,
   "metadata": {
    "collapsed": false,
    "run_control": {
     "frozen": false,
     "read_only": false
    }
   },
   "outputs": [
    {
     "data": {
      "image/png": "[encoded data removed]",
      "text/plain": [
       "<matplotlib.figure.Figure at 0x7fd28989f0d0>"
      ]
     },
     "metadata": {},
     "output_type": "display_data"
    },
    {
     "data": {
      "image/png": "[encoded data removed]",
      "text/plain": [
       "<matplotlib.figure.Figure at 0x7fd28940c3d0>"
      ]
     },
     "metadata": {},
     "output_type": "display_data"
    },
    {
     "data": {
      "image/png": "[encoded data removed]",
      "text/plain": [
       "<matplotlib.figure.Figure at 0x7fd2890f9390>"
      ]
     },
     "metadata": {},
     "output_type": "display_data"
    }
   ],
   "source": [
    "for _, row in (results4_dat - hard_ref_weights).iterrows():\n",
    "    plt.figure()\n",
    "    row.hist()\n",
    "    plt.title('mixture %d absolute differences' % row.name)"
   ]
  },
  {
   "cell_type": "code",
   "execution_count": 281,
   "metadata": {
    "collapsed": false,
    "run_control": {
     "frozen": false,
     "read_only": false
    }
   },
   "outputs": [
    {
     "data": {
      "image/png": "[encoded data removed]",
      "text/plain": [
       "<matplotlib.figure.Figure at 0x7fd2891d69d0>"
      ]
     },
     "metadata": {},
     "output_type": "display_data"
    },
    {
     "data": {
      "image/png": "[encoded data removed]",
      "text/plain": [
       "<matplotlib.figure.Figure at 0x7fd2899ea5d0>"
      ]
     },
     "metadata": {},
     "output_type": "display_data"
    },
    {
     "data": {
      "image/png": "[encoded data removed]",
      "text/plain": [
       "<matplotlib.figure.Figure at 0x7fd289a63c50>"
      ]
     },
     "metadata": {},
     "output_type": "display_data"
    }
   ],
   "source": [
    "for _, row in (results4_dat - hard_ref_weights).iterrows():\n",
    "    plt.figure()\n",
    "    row[hard_cols].hist()\n",
    "    plt.title('mixture %d absolute differences -- correct cell types only' % row.name)"
   ]
  },
  {
   "cell_type": "code",
   "execution_count": 282,
   "metadata": {
    "collapsed": false,
    "run_control": {
     "frozen": false,
     "read_only": false
    }
   },
   "outputs": [
    {
     "data": {
      "image/png": "[encoded data removed]",
      "text/plain": [
       "<matplotlib.figure.Figure at 0x7fd289baed90>"
      ]
     },
     "metadata": {},
     "output_type": "display_data"
    },
    {
     "data": {
      "image/png": "[encoded data removed]",
      "text/plain": [
       "<matplotlib.figure.Figure at 0x7fd28933d990>"
      ]
     },
     "metadata": {},
     "output_type": "display_data"
    },
    {
     "data": {
      "image/png": "[encoded data removed]",
      "text/plain": [
       "<matplotlib.figure.Figure at 0x7fd28984bc90>"
      ]
     },
     "metadata": {},
     "output_type": "display_data"
    }
   ],
   "source": [
    "other_cols = set(results4_dat.columns) - set(hard_cols)\n",
    "for _, row in (results4_dat - hard_ref_weights).iterrows():\n",
    "    plt.figure()\n",
    "    row[other_cols].hist()\n",
    "    plt.title('mixture %d absolute differences -- incorrect cell types only' % row.name)"
   ]
  },
  {
   "cell_type": "code",
   "execution_count": 283,
   "metadata": {
    "collapsed": false,
    "run_control": {
     "frozen": false,
     "read_only": false
    }
   },
   "outputs": [
    {
     "data": {
      "text/html": [
       "<div>\n",
       "<table border=\"1\" class=\"dataframe\">\n",
       "  <thead>\n",
       "    <tr style=\"text-align: right;\">\n",
       "      <th></th>\n",
       "      <th>B cells naive</th>\n",
       "      <th>B cells memory</th>\n",
       "    </tr>\n",
       "  </thead>\n",
       "  <tbody>\n",
       "    <tr>\n",
       "      <th>0</th>\n",
       "      <td>-0.140522</td>\n",
       "      <td>0.073179</td>\n",
       "    </tr>\n",
       "    <tr>\n",
       "      <th>1</th>\n",
       "      <td>-0.137888</td>\n",
       "      <td>0.069617</td>\n",
       "    </tr>\n",
       "    <tr>\n",
       "      <th>2</th>\n",
       "      <td>-0.156374</td>\n",
       "      <td>0.072649</td>\n",
       "    </tr>\n",
       "  </tbody>\n",
       "</table>\n",
       "</div>"
      ],
      "text/plain": [
       "   B cells naive  B cells memory\n",
       "0      -0.140522        0.073179\n",
       "1      -0.137888        0.069617\n",
       "2      -0.156374        0.072649"
      ]
     },
     "execution_count": 283,
     "metadata": {},
     "output_type": "execute_result"
    }
   ],
   "source": [
    "(results4_dat - hard_ref_weights)[hard_cols]"
   ]
  },
  {
   "cell_type": "code",
   "execution_count": 284,
   "metadata": {
    "collapsed": false,
    "run_control": {
     "frozen": false,
     "read_only": false
    }
   },
   "outputs": [
    {
     "data": {
      "text/plain": [
       "0    0.0\n",
       "1    0.0\n",
       "2    0.0\n",
       "Name: P-value, dtype: float64"
      ]
     },
     "execution_count": 284,
     "metadata": {},
     "output_type": "execute_result"
    }
   ],
   "source": [
    "results4['P-value']"
   ]
  },
  {
   "cell_type": "markdown",
   "metadata": {},
   "source": [
    "Very little changes with noise here. We still get good correlation, but deconvolution is not good: consistently off on the important columns by .07, .15. Correlation is the wrong way to measure. Incorrect columns not thrown in much, because other cell types aren't very close."
   ]
  },
  {
   "cell_type": "code",
   "execution_count": 293,
   "metadata": {
    "collapsed": false,
    "run_control": {
     "frozen": false,
     "read_only": false
    }
   },
   "outputs": [
    {
     "name": "stdout",
     "output_type": "stream",
     "text": [
      "RMSE \t R^2 \t per mixture\n",
      "0.0342 \t 0.9433\n",
      "0.0334 \t 0.9461\n",
      "0.0374 \t 0.9323\n"
     ]
    }
   ],
   "source": [
    "print 'RMSE \\t R^2 \\t per mixture'\n",
    "from sklearn.metrics import mean_squared_error as mse, r2_score\n",
    "for (_, y_true),(_, y_pred) in zip(hard_ref_weights.iterrows(), results4_dat.iterrows()):\n",
    "    print '%0.4f \\t %0.4f' % (np.sqrt(mse(y_true, y_pred)), r2_score(y_true, y_pred))"
   ]
  },
  {
   "cell_type": "code",
   "execution_count": null,
   "metadata": {
    "collapsed": true,
    "run_control": {
     "frozen": false,
     "read_only": false
    }
   },
   "outputs": [],
   "source": []
  }
 ],
 "metadata": {
  "kernelspec": {
   "display_name": "Python 2",
   "language": "python",
   "name": "python2"
  },
  "language_info": {
   "codemirror_mode": {
    "name": "ipython",
    "version": 2
   },
   "file_extension": ".py",
   "mimetype": "text/x-python",
   "name": "python",
   "nbconvert_exporter": "python",
   "pygments_lexer": "ipython2",
   "version": "2.7.11"
  },
  "nav_menu": {},
  "toc": {
   "navigate_menu": true,
   "number_sections": true,
   "sideBar": false,
   "threshold": 6,
   "toc_cell": true,
   "toc_section_display": "none",
   "toc_window_display": true
  },
  "toc_position": {
   "height": "612px",
   "left": "1px",
   "right": "20px",
   "top": "103px",
   "width": "212px"
  }
 },
 "nbformat": 4,
 "nbformat_minor": 0
}
