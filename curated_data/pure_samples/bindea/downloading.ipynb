{
 "cells": [
  {
   "cell_type": "markdown",
   "metadata": {},
   "source": [
    "## Garvan institute data download\n",
    "\n",
    "This data is not available directly from geo. Links are encoded in html tables, and we have a list of filenames we want.\n",
    "\n",
    "This notebook finds the links for the filenames we want, and also finds cell type+subtype information surrounding those links.\n",
    "\n",
    "We download those files into `garvan/`, and export `cell_type_in_each_sample.tsv` with cell type information for the garvan data as well as for other subdirectories."
   ]
  },
  {
   "cell_type": "code",
   "execution_count": 1,
   "metadata": {
    "collapsed": true
   },
   "outputs": [],
   "source": [
    "# %load ~/ipyhead\n",
    "import numpy as np\n",
    "import matplotlib.pyplot as plt\n",
    "import pandas as pd\n",
    "%matplotlib inline\n",
    "import seaborn as sns"
   ]
  },
  {
   "cell_type": "code",
   "execution_count": 2,
   "metadata": {
    "collapsed": false
   },
   "outputs": [],
   "source": [
    "import urllib2\n",
    "from bs4 import BeautifulSoup\n",
    "\n",
    "# http://stackoverflow.com/questions/15517483/how-to-extract-urls-from-a-html-page-in-python\n",
    "def get_all_links(url):\n",
    "    conn = urllib2.urlopen(url)\n",
    "    html = conn.read()\n",
    "\n",
    "    soup = BeautifulSoup(html)\n",
    "    return extract_links_from_soup(soup)\n",
    "def extract_links_from_soup(soup):\n",
    "    links = soup.find_all('a')\n",
    "    \n",
    "    links = [tag.get('href', None) for tag in links]\n",
    "    return [l for l in links if l is not None]"
   ]
  },
  {
   "cell_type": "code",
   "execution_count": 3,
   "metadata": {
    "collapsed": false
   },
   "outputs": [],
   "source": [
    "# http://www.cell.com/cms/attachment/2009216772/2031846530/mmc1.pdf\n",
    "\n",
    "to_scan = [\n",
    "('http://linkage.garvan.unsw.edu.au/public/microarrays/Arthritis_Inflammation/human/dentritic/index.html', 'dendritic'),\n",
    "('http://linkage.garvan.unsw.edu.au/public/microarrays/Arthritis_Inflammation/human/macrophages/index.html', 'macrophage'),\n",
    "('http://linkage.garvan.unsw.edu.au/public/microarrays/Arthritis_Inflammation/human/Tcells/index.html', 'Tcell'),\n",
    "('http://linkage.garvan.unsw.edu.au/public/microarrays/Arthritis_Inflammation/human/mastcell/index.html', 'Mastcell'),\n",
    "('http://linkage.garvan.unsw.edu.au/public/microarrays/Arthritis_Inflammation/human/Bcells/index.html', 'Bcell'),\n",
    "('http://linkage.garvan.unsw.edu.au/public/microarrays/Arthritis_Inflammation/human/eosinophils/index.html', 'eosinophils'),\n",
    "('http://linkage.garvan.unsw.edu.au/public/microarrays/Arthritis_Inflammation/human/neutrophils/index.html','neutrophils'),\n",
    "('http://linkage.garvan.unsw.edu.au/public/microarrays/Arthritis_Inflammation/human/basophils/index.html','basophils'),\n",
    "('http://linkage.garvan.unsw.edu.au/public/microarrays/Arthritis_Inflammation/human/RA/index.html', 'synoviocytes'),\n",
    "]\n",
    "\n"
   ]
  },
  {
   "cell_type": "code",
   "execution_count": 4,
   "metadata": {
    "collapsed": true
   },
   "outputs": [],
   "source": [
    "filenames = ['A_TS_RN_CD19+_U133A_130104.CEL',\n",
    "'A_TS_2CD19+_U133A_180204.CEL',\n",
    "'A_LW_imDC_U133A_200503.CEL',\n",
    "'A_SZ_imDC2_U133A_250603.CEL',\n",
    "'A_LW_DC6hLPS_U133A_200503.CEL',\n",
    "'A_SZ_6hLPSDC2_U133A_250603.CEL',\n",
    "'A_SZ_6hLPS_HCDC2_U133A.CEL',\n",
    "'A_LW_DC6hLPS_HC_U133A.CEL',\n",
    "'A_LW_DC48hLPS_U133A_200503.CEL',\n",
    "'A_SZ_48hLPSDC2_U133A_250603.CEL',\n",
    "'A_LW_DC48hLPS_HC_U133A.CEL',\n",
    "'A_SZ_48hLPS_HCDC2_U133A.CEL',\n",
    "'A_MF_ControlEosinophil.CEL',\n",
    "'A_MF_2hrEosinophils.CEL',\n",
    "'A_LW_macroctrl_U133A_130503.CEL',\n",
    "'A_SZ_mac2cont_U133A_240603.CEL',\n",
    "'A_LW_macro_LPS_U133A_130503.CEL',\n",
    "'A_SZ_mac2LPS_U133A_240603.CEL',\n",
    "'A_LW_macro_LPS_HC_U133A.CEL',\n",
    "'A_SZ_mac2LPS_HC_U133A.CEL',\n",
    "'A_MF_ControlMASTCELL_U133A.CEL',\n",
    "'A_LW_mastcellctrl_U133A.CEL',\n",
    "'A_MF_IgEMASTCELL_U133A.CEL',\n",
    "'A_LW_mastcellIgE_U133A.CEL',\n",
    "'A_LW_neutrophil_U133A.CEL',\n",
    "'A_MF_neutrophils_U133A.CEL',\n",
    "'A_TS_MSNeutroLPS_U133A.CEL',\n",
    "'A_TS_RN_gdTcells_U133A.CEL',\n",
    "'A_TS_RN_gdTcellsREP_A.CEL',\n",
    "'A_MF_CCR7+_U133A_190202.CEL',\n",
    "'A_MF_CCR7-_U133A_190202.CEL',\n",
    "'A_MF_TH1human_U133A_290502.CEL',\n",
    "'A_TS_TC_Th1_U133A_141003.CEL',\n",
    "'A_MF_TH2human_U133A_290502.CEL',\n",
    "'A_TS_TC_Th2_U133A_141003.CEL',\n",
    "'A_LW_CD57+_U133A_030603.CEL',\n",
    "'A_LW_CD57+_U133A_121102.CEL',\n",
    "'A_MF_CD57+_U133A_010502.CEL',]"
   ]
  },
  {
   "cell_type": "markdown",
   "metadata": {},
   "source": [
    "Per MSK paper, need to remove:\n",
    "\n",
    "* T gamma delta cells: filenames with `gdTcells`\n",
    "* T follicular helper cells: filenames with `CD57+`"
   ]
  },
  {
   "cell_type": "code",
   "execution_count": 5,
   "metadata": {
    "collapsed": false
   },
   "outputs": [
    {
     "name": "stdout",
     "output_type": "stream",
     "text": [
      "A_TS_RN_gdTcells_U133A.CEL\n",
      "A_TS_RN_gdTcellsREP_A.CEL\n",
      "A_LW_CD57+_U133A_030603.CEL\n",
      "A_LW_CD57+_U133A_121102.CEL\n",
      "A_MF_CD57+_U133A_010502.CEL\n",
      "['A_TS_RN_gdTcells_U133A.CEL', 'A_TS_RN_gdTcellsREP_A.CEL', 'A_LW_CD57+_U133A_030603.CEL', 'A_LW_CD57+_U133A_121102.CEL', 'A_MF_CD57+_U133A_010502.CEL']\n"
     ]
    }
   ],
   "source": [
    "dels = []\n",
    "for f in filenames:\n",
    "    if 'gdtcells' in f.lower() or 'cd57+' in f.lower():\n",
    "        dels.append(f)\n",
    "        print f\n",
    "print dels\n",
    "for d in dels:\n",
    "    filenames.remove(d)"
   ]
  },
  {
   "cell_type": "code",
   "execution_count": 6,
   "metadata": {
    "collapsed": false
   },
   "outputs": [
    {
     "data": {
      "text/plain": [
       "(9, 33)"
      ]
     },
     "execution_count": 6,
     "metadata": {},
     "output_type": "execute_result"
    }
   ],
   "source": [
    "len(to_scan), len(filenames)"
   ]
  },
  {
   "cell_type": "code",
   "execution_count": 7,
   "metadata": {
    "collapsed": false
   },
   "outputs": [
    {
     "data": {
      "text/plain": [
       "'A_TS_2CD19+_U133A_180204.CEL'"
      ]
     },
     "execution_count": 7,
     "metadata": {},
     "output_type": "execute_result"
    }
   ],
   "source": [
    "urllib2.unquote('A_TS_2CD19%2B_U133A_180204.CEL')"
   ]
  },
  {
   "cell_type": "code",
   "execution_count": 21,
   "metadata": {
    "collapsed": false
   },
   "outputs": [
    {
     "name": "stdout",
     "output_type": "stream",
     "text": [
      "['http://linkage.garvan.unsw.edu.au/public/microarrays/Arthritis_Inflammation/human/dentritic/6hrLPS/exp1/A_LW_DC6hLPS_U133A_200503.CEL', 'http://linkage.garvan.unsw.edu.au/public/microarrays/Arthritis_Inflammation/human/dentritic/6hrLPS/exp2/A_SZ_6hLPSDC2_U133A_250603.CEL', 'http://linkage.garvan.unsw.edu.au/public/microarrays/Arthritis_Inflammation/human/dentritic/48hrLPS/exp1/A_LW_DC48hLPS_U133A_200503.CEL', 'http://linkage.garvan.unsw.edu.au/public/microarrays/Arthritis_Inflammation/human/dentritic/48hrLPS/exp2/A_SZ_48hLPSDC2_U133A_250603.CEL', 'http://linkage.garvan.unsw.edu.au/public/microarrays/Arthritis_Inflammation/human/dentritic/6hrLPS%2BHC/exp1/A_LW_DC6hLPS_HC_U133A.CEL', 'http://linkage.garvan.unsw.edu.au/public/microarrays/Arthritis_Inflammation/human/dentritic/6hrLPS%2BHC/exp2/A_SZ_6hLPS_HCDC2_U133A.CEL', 'http://linkage.garvan.unsw.edu.au/public/microarrays/Arthritis_Inflammation/human/dentritic/48hrLPS%2BHC/exp1/A_LW_DC48hLPS_HC_U133A.CEL', 'http://linkage.garvan.unsw.edu.au/public/microarrays/Arthritis_Inflammation/human/dentritic/48hrLPS%2BHC/exp2/A_SZ_48hLPS_HCDC2_U133A.CEL', 'http://linkage.garvan.unsw.edu.au/public/microarrays/Arthritis_Inflammation/human/dentritic/immature%20DCs/exp1/A_LW_imDC_U133A_200503.CEL', 'http://linkage.garvan.unsw.edu.au/public/microarrays/Arthritis_Inflammation/human/dentritic/immature%20DCs/exp2/A_SZ_imDC2_U133A_250603.CEL', 'http://linkage.garvan.unsw.edu.au/public/microarrays/Arthritis_Inflammation/human/macrophages/control/exp1/A_LW_macroctrl_U133A_130503.CEL', 'http://linkage.garvan.unsw.edu.au/public/microarrays/Arthritis_Inflammation/human/macrophages/control/exp2/A_SZ_mac2cont_U133A_240603.CEL', 'http://linkage.garvan.unsw.edu.au/public/microarrays/Arthritis_Inflammation/human/macrophages/LPS/exp1/A_LW_macro_LPS_U133A_130503.CEL', 'http://linkage.garvan.unsw.edu.au/public/microarrays/Arthritis_Inflammation/human/macrophages/LPS/exp2/A_SZ_mac2LPS_U133A_240603.CEL', 'http://linkage.garvan.unsw.edu.au/public/microarrays/Arthritis_Inflammation/human/macrophages/LPS%2BHC/exp1/A_LW_macro_LPS_HC_U133A.CEL', 'http://linkage.garvan.unsw.edu.au/public/microarrays/Arthritis_Inflammation/human/macrophages/LPS%2BHC/exp2/A_SZ_mac2LPS_HC_U133A.CEL', 'http://linkage.garvan.unsw.edu.au/public/microarrays/Arthritis_Inflammation/human/Tcells/Th1/exp1/A_MF_TH1human_U133A_290502.CEL', 'http://linkage.garvan.unsw.edu.au/public/microarrays/Arthritis_Inflammation/human/Tcells/Th1/exp2/A_TS_TC_Th1_U133A_141003.CEL', 'http://linkage.garvan.unsw.edu.au/public/microarrays/Arthritis_Inflammation/human/Tcells/Th2/exp1/A_MF_TH2human_U133A_290502.CEL', 'http://linkage.garvan.unsw.edu.au/public/microarrays/Arthritis_Inflammation/human/Tcells/Th2/exp2/A_TS_TC_Th2_U133A_141003.CEL', 'http://linkage.garvan.unsw.edu.au/public/microarrays/Arthritis_Inflammation/human/Tcells/CCR7_/A_MF_CCR7-_U133A_190202.CEL', 'http://linkage.garvan.unsw.edu.au/public/microarrays/Arthritis_Inflammation/human/Tcells/CCR7%2B/A_MF_CCR7%2B_U133A_190202.CEL', 'http://linkage.garvan.unsw.edu.au/public/microarrays/Arthritis_Inflammation/human/mastcell/Control/exp1/A_MF_ControlMASTCELL_U133A.CEL', 'http://linkage.garvan.unsw.edu.au/public/microarrays/Arthritis_Inflammation/human/mastcell/Control/exp2/A_LW_mastcellctrl_U133A.CEL', 'http://linkage.garvan.unsw.edu.au/public/microarrays/Arthritis_Inflammation/human/mastcell/IgE/exp1/A_MF_IgEMASTCELL_U133A.CEL', 'http://linkage.garvan.unsw.edu.au/public/microarrays/Arthritis_Inflammation/human/mastcell/IgE/exp2/A_LW_mastcellIgE_U133A.CEL', 'http://linkage.garvan.unsw.edu.au/public/microarrays/Arthritis_Inflammation/human/Bcells/CD19%2B/A_TS_RN_CD19%2B_U133A_130104.CEL', 'http://linkage.garvan.unsw.edu.au/public/microarrays/Arthritis_Inflammation/human/Bcells/CD19%2B/A_TS_2CD19%2B_U133A_180204.CEL', 'http://linkage.garvan.unsw.edu.au/public/microarrays/Arthritis_Inflammation/human/eosinophils/control/A_MF_ControlEosinophil.CEL', 'http://linkage.garvan.unsw.edu.au/public/microarrays/Arthritis_Inflammation/human/eosinophils/pma/A_MF_2hrEosinophils.CEL', 'http://linkage.garvan.unsw.edu.au/public/microarrays/Arthritis_Inflammation/human/neutrophils/control/exp1/A_MF_neutrophils_U133A.CEL', 'http://linkage.garvan.unsw.edu.au/public/microarrays/Arthritis_Inflammation/human/neutrophils/control/exp2/A_LW_neutrophil_U133A.CEL', 'http://linkage.garvan.unsw.edu.au/public/microarrays/Arthritis_Inflammation/human/neutrophils/LPS/A_TS_MSNeutroLPS_U133A.CEL']\n"
     ]
    }
   ],
   "source": [
    "matches = []\n",
    "for url,_ in to_scan:\n",
    "    for l in get_all_links(url):\n",
    "        for f in filenames:\n",
    "            if f.lower() in urllib2.unquote(l).lower():\n",
    "                matches.append(url.replace('index.html', '') + l)\n",
    "print matches"
   ]
  },
  {
   "cell_type": "code",
   "execution_count": 23,
   "metadata": {
    "collapsed": false
   },
   "outputs": [],
   "source": [
    "assert len(matches) == len(filenames), len(matches)"
   ]
  },
  {
   "cell_type": "code",
   "execution_count": 24,
   "metadata": {
    "collapsed": false
   },
   "outputs": [],
   "source": [
    "pd.Series(matches).to_csv('urls.txt', index=None)"
   ]
  },
  {
   "cell_type": "markdown",
   "metadata": {},
   "source": [
    "Now do: `cd garvan && wget -i ../urls.txt`\n",
    "\n",
    "## Go back and reparse html to get cell type/subtype info for each sample"
   ]
  },
  {
   "cell_type": "code",
   "execution_count": 8,
   "metadata": {
    "collapsed": false
   },
   "outputs": [
    {
     "name": "stdout",
     "output_type": "stream",
     "text": [
      "[1, 2, 3, 4, 5, 'hi', 6, 7, 'hello']\n"
     ]
    }
   ],
   "source": [
    "# flattening arbitrarily nested lists\n",
    "# http://stackoverflow.com/a/10824420/130164\n",
    "\n",
    "nests = [1, 2, [3, 4, [5],['hi']], [6, [[[7, 'hello']]]]]\n",
    "\n",
    "def flatten(container):\n",
    "    for i in container:\n",
    "        if isinstance(i, (list,tuple)):\n",
    "            for j in flatten(i):\n",
    "                yield j\n",
    "        else:\n",
    "            yield i\n",
    "\n",
    "print list(flatten(nests))"
   ]
  },
  {
   "cell_type": "code",
   "execution_count": 9,
   "metadata": {
    "collapsed": false
   },
   "outputs": [
    {
     "name": "stdout",
     "output_type": "stream",
     "text": [
      "************************************************************\n",
      "http://linkage.garvan.unsw.edu.au/public/microarrays/Arthritis_Inflammation/human/dentritic/index.html dendritic\n",
      "3 new class: 6hr LPS\n",
      "7 new class: 48hr LPS\n",
      "11 new class: 6hr LPS + HC\n",
      "15 new class: 48hr LPS + HC\n",
      "19 new class: Immature\n",
      "23 new class: -BAFF\n",
      "27 new class: +BAFF\n",
      "[['dendritic', u'6hr LPS', 3, 7], ['dendritic', u'48hr LPS', 7, 11], ['dendritic', u'6hr LPS + HC', 11, 15], ['dendritic', u'48hr LPS + HC', 15, 19], ['dendritic', u'Immature', 19, 23], ['dendritic', u'-BAFF', 23, 27], ['dendritic', u'+BAFF', 27, 31]]\n",
      "8 ['6hrLPS/exp1/A_LW_DC6hLPS_U133A_200503.DAT', '6hrLPS/exp1/A_TS_SZ6hrLPSDC_1_U133B.DAT', '6hrLPS/exp1/A_LW_DC6hLPS_U133A_200503.CEL', '6hrLPS/exp1/A_TS_SZ6hrLPSDC_1_U133B.CEL', '6hrLPS/exp2/A_SZ_6hLPSDC2_U133A_250603.DAT', '6hrLPS/exp2/A_TS_SZ6hrLPSDC_2_U133B.DAT', '6hrLPS/exp2/A_SZ_6hLPSDC2_U133A_250603.CEL', '6hrLPS/exp2/A_TS_SZ6hrLPSDC_2_U133B.CEL']\n",
      "\n",
      "8 ['48hrLPS/exp1/A_LW_DC48hLPS_U133A_200503.DAT', '48hrLPS/exp1/A_LW_DC48LPS_U133B_270503.DAT', '48hrLPS/exp1/A_LW_DC48hLPS_U133A_200503.CEL', '48hrLPS/exp1/A_LW_DC48LPS_U133B_270503.CEL', '48hrLPS/exp2/A_SZ_48hLPSDC2_U133A_250603.DAT', '48hrLPS/exp2/A_TS_SZDC48LPS_U133B.DAT', '48hrLPS/exp2/A_SZ_48hLPSDC2_U133A_250603.CEL', '48hrLPS/exp2/A_TS_SZDC48LPS_U133B.CEL']\n",
      "\n",
      "4 ['6hrLPS%2BHC/exp1/A_LW_DC6hLPS_HC_U133A.DAT', '6hrLPS%2BHC/exp1/A_LW_DC6hLPS_HC_U133A.CEL', '6hrLPS%2BHC/exp2/A_SZ_6hLPS_HCDC2_U133A.DAT', '6hrLPS%2BHC/exp2/A_SZ_6hLPS_HCDC2_U133A.CEL']\n",
      "\n",
      "4 ['48hrLPS%2BHC/exp1/A_LW_DC48hLPS_HC_U133A.DAT', '48hrLPS%2BHC/exp1/A_LW_DC48hLPS_HC_U133A.CEL', '48hrLPS%2BHC/exp2/A_SZ_48hLPS_HCDC2_U133A.DAT', '48hrLPS%2BHC/exp2/A_SZ_48hLPS_HCDC2_U133A.CEL']\n",
      "\n",
      "8 ['immature%20DCs/exp1/A_LW_imDC_U133A_200503.DAT', 'immature%20DCs/exp1/A_LW_imDC_U133B_270503.DAT', 'immature%20DCs/exp1/A_LW_imDC_U133A_200503.CEL', 'immature%20DCs/exp1/A_LW_imDC_U133B_270503.CEL', 'immature%20DCs/exp2/A_SZ_imDC2_U133A_250603.DAT', 'immature%20DCs/exp2/A_TS_SZImmatureDC_U133B.DAT', 'immature%20DCs/exp2/A_SZ_imDC2_U133A_250603.CEL', 'immature%20DCs/exp2/A_TS_SZImmatureDC_U133B.CEL']\n",
      "\n",
      "4 ['BAFF/A_TS_MDDC4ws-BAFF_U133A.DAT', 'BAFF/A_TS_MDDC4ws-BAFF_U133A.CEL', 'BAFF/A_LW_DC-BAFF_U133A_250304.DAT', 'BAFF/A_LW_DC-BAFF_U133A_250304.CEL']\n",
      "\n",
      "4 ['BAFF/A_TS_MDDC4ws%2BBAFF_U133A.DAT', 'BAFF/A_TS_MDDC4ws%2BBAFF_U133A.CEL', 'BAFF/A_LW_DC%2BBAFF_U133A_250304.DAT', 'BAFF/A_LW_DC%2BBAFF_U133A_250304.CEL']\n",
      "\n",
      "************************************************************\n",
      "http://linkage.garvan.unsw.edu.au/public/microarrays/Arthritis_Inflammation/human/macrophages/index.html macrophage\n",
      "3 new class: contorl\n",
      "7 new class: LPS\n",
      "11 new class: LPS + HC\n",
      "[['macrophage', u'contorl', 3, 7], ['macrophage', u'LPS', 7, 11], ['macrophage', u'LPS + HC', 11, 15]]\n",
      "8 ['control/exp1/A_LW_macroctrl_U133A_130503.DAT', 'control/exp1/A_LW_macroctrl_U133B_270503.DAT', 'control/exp1/A_LW_macroctrl_U133A_130503.CEL', 'control/exp1/A_LW_macroctrl_U133B_270503.CEL', 'control/exp2/A_SZ_mac2cont_U133A_240603.DAT', 'control/exp2/Sabine_mac2cont_U133B.DAT', 'control/exp2/A_SZ_mac2cont_U133A_240603.CEL', 'control/exp2/Sabine_mac2cont_U133B.CEL']\n",
      "\n",
      "8 ['LPS/exp1/A_LW_macro_LPS_U133A_130503.DAT', 'LPS/exp1/A_TS_SZMacLPS(1)_U133B.DAT', 'LPS/exp1/A_LW_macro_LPS_U133A_130503.CEL', 'LPS/exp1/A_TS_SZMacLPS(1)_U133B.CEL', 'LPS/exp2/A_SZ_mac2LPS_U133A_240603.DAT', 'LPS/exp2/A_TS_SZMacLPS(2)_U133B.DAT', 'LPS/exp2/A_SZ_mac2LPS_U133A_240603.CEL', 'LPS/exp2/A_TS_SZMacLPS(2)_U133B.CEL']\n",
      "\n",
      "4 ['LPS%2BHC/exp1/A_LW_macro_LPS_HC_U133A.DAT', 'LPS%2BHC/exp1/A_LW_macro_LPS_HC_U133A.CEL', 'LPS%2BHC/exp2/A_SZ_mac2LPS_HC_U133A.DAT', 'LPS%2BHC/exp2/A_SZ_mac2LPS_HC_U133A.CEL']\n",
      "\n",
      "************************************************************\n",
      "http://linkage.garvan.unsw.edu.au/public/microarrays/Arthritis_Inflammation/human/Tcells/index.html Tcell\n",
      "3 new class: Th1\n",
      "7 new class: Th2\n",
      "11 new class: CD57-\n",
      "17 new class: CD57+\n",
      "23 new class: CCR7-\n",
      "25 new class: CCR7+\n",
      "27 new class: RO-\n",
      "29 new class: RO+\n",
      "31 new class: gd T cells\n",
      "35 new class: -BAFF\n",
      "39 new class: +BAFF\n",
      "43 no rowspan, dying\n",
      "[['Tcell', u'Th1', 3, 7], ['Tcell', u'Th2', 7, 11], ['Tcell', u'CD57-', 11, 17], ['Tcell', u'CD57+', 17, 23], ['Tcell', u'CCR7-', 23, 25], ['Tcell', u'CCR7+', 25, 27], ['Tcell', u'RO-', 27, 29], ['Tcell', u'RO+', 29, 31], ['Tcell', u'gd T cells', 31, 35], ['Tcell', u'-BAFF', 35, 39], ['Tcell', u'+BAFF', 39, 43]]\n",
      "8 ['Th1/exp1/A_MF_TH1human_U133A_290502.DAT', 'Th1/exp1/A_LW_Th1_U133B_241202.DAT', 'Th1/exp1/A_MF_TH1human_U133A_290502.CEL', 'Th1/exp1/A_LW_Th1_U133B_241202.CEL', 'Th1/exp2/A_TS_TC_Th1_U133A_141003.DAT', 'Th1/exp2/A_TS_TC_Th1_U133B_161003.DAT', 'Th1/exp2/A_TS_TC_Th1_U133A_141003.CEL', 'Th1/exp2/A_TS_TC_Th1_U133B_161003.CEL']\n",
      "\n",
      "8 ['Th2/exp1/A_MF_TH2human_U133A_290502.DAT', 'Th2/exp1/A_LW_Th2_U133B_241202.DAT', 'Th2/exp1/A_MF_TH2human_U133A_290502.CEL', 'Th2/exp1/A_LW_Th2_U133B_241202.CEL', 'Th2/exp2/A_TS_TC_Th2_U133A_141003.DAT', 'Th2/exp2/A_TS_TC_Th2_U133B_161003.DAT', 'Th2/exp2/A_TS_TC_Th2_U133A_141003.CEL', 'Th2/exp2/A_TS_TC_Th2_U133B_161003.CEL']\n",
      "\n",
      "10 ['CD57-/exp1/A_MF_CD57-_U133A_010502.DAT', 'CD57-/exp1/A_LW_CD57-_U133B_010503.DAT', 'CD57-/exp1/A_MF_CD57-_U133A_010502.CEL', 'CD57-/exp1/A_LW_CD57-_U133B_010503.CEL', 'CD57-/exp2/A_LW_CD57-_U133A_121102.DAT', 'CD57-/exp2/A_LW_CD57-_U133A_121102.CEL', 'CD57-/exp3/A_LW_CD57-_U133A_030603.DAT', 'CD57-/exp3/Tanya_CD57-_U133B.DAT', 'CD57-/exp3/A_LW_CD57-_U133A_030603.CEL', 'CD57-/exp3/Tanya_CD57-_U133B.CEL']\n",
      "\n",
      "10 ['CD57%2B/exp1/A_MF_CD57%2B_U133A_010502.DAT', 'CD57%2B/exp1/A_LW_CD57%2B_U133B_010503.DAT', 'CD57%2B/exp1/A_MF_CD57%2B_U133A_010502.CEL', 'CD57%2B/exp1/A_LW_CD57%2B_U133B_010503.CEL', 'CD57%2B/exp2/A_LW_CD57%2B_U133A_121102.DAT', 'CD57%2B/exp2/A_LW_CD57%2B_U133A_121102.CEL', 'CD57%2B/exp3/A_LW_CD57%2B_U133A_030603.DAT', 'CD57%2B/exp3/Tanya_CD57%2B_U133B.DAT', 'CD57%2B/exp3/A_LW_CD57%2B_U133A_030603.CEL', 'CD57%2B/exp3/Tanya_CD57%2B_U133B.CEL']\n",
      "\n",
      "4 ['CCR7_/A_MF_CCR7-_U133A_190202.DAT', 'CCR7_/A_MF_CCR7-_U133B_280202.DAT', 'CCR7_/A_MF_CCR7-_U133A_190202.CEL', 'CCR7_/A_MF_CCR7-_U133B_280202.CEL']\n",
      "\n",
      "4 ['CCR7%2B/A_MF_CCR7%2B_U133A_190202.DAT', 'CCR7%2B/A_MF_CCR7%2B_U133B_280202.DAT', 'CCR7%2B/A_MF_CCR7%2B_U133A_190202.CEL', 'CCR7%2B/A_MF_CCR7%2B_U133B_280202.CEL']\n",
      "\n",
      "1 ['RO/A_MF_CD8%2BCCR7-RO-_U133A.DAT']\n",
      "\n",
      "1 ['RO/A_MF_CD8%2BCCR7-RO%2B_U133A.DAT']\n",
      "\n",
      "8 ['gamma%20delta/A_TS_RN_gdTcells_U133A.DAT', 'gamma%20delta/A_TS_RN_gdTcells_U133B.DAT', 'gamma%20delta/A_TS_RN_gdTcells_U133A.CEL', 'gamma%20delta/A_TS_RN_gdTcells_U133B.CEL', 'gamma%20delta/A_TS_RN_gdTcellsREP_A.DAT', 'gamma%20delta/A_TS_RN_gdTcellsREP_B.DAT', 'gamma%20delta/A_TS_RN_gdTcellsREP_A.CEL', 'gamma%20delta/A_TS_RN_gdTcellsREP_B.CEL']\n",
      "\n",
      "4 ['Baff/A_LW_-BAFF_U133A_70303.DAT', 'Baff/A_LW_-BAFF_U133A_70303.CEL', 'Baff/A_LW_-BAFF_U133A_250303.DAT', 'Baff/A_LW_-BAFF_U133A_250303.CEL']\n",
      "\n",
      "4 ['Baff/A_LW_%2BBAFF_U133A_70303.DAT', 'Baff/A_LW_%2BBAFF_U133A_70303.CEL', 'Baff/A_LW_%2BBAFF_U133A_250303.DAT', 'Baff/A_LW_%2BBAFF_U133A_250303.CEL']\n",
      "\n",
      "************************************************************\n",
      "http://linkage.garvan.unsw.edu.au/public/microarrays/Arthritis_Inflammation/human/mastcell/index.html Mastcell\n",
      "3 new class: Contrl\n",
      "7 new class: IgE\n",
      "[['Mastcell', u'Contrl', 3, 7], ['Mastcell', u'IgE', 7, 11]]\n",
      "8 ['Control/exp1/A_MF_ControlMASTCELL_U133A.DAT', 'Control/exp1/A_LW_mastcellctrl_U133B.DAT', 'Control/exp1/A_MF_ControlMASTCELL_U133A.CEL', 'Control/exp1/A_LW_mastcellctrl_U133B.CEL', 'Control/exp2/A_LW_mastcellctrl_U133A.DAT', 'Control/exp2/A_LW_mastcellctrl_U133B.DAT', 'Control/exp2/A_LW_mastcellctrl_U133A.CEL', 'Control/exp2/A_LW_mastcellctrl_U133B.CEL']\n",
      "\n",
      "8 ['IgE/exp1/A_MF_IgEMASTCELL_U133A.DAT', 'IgE/exp1/A_LW_mastcellIgE_U133B.DAT', 'IgE/exp1/A_MF_IgEMASTCELL_U133A.CEL', 'IgE/exp1/A_LW_mastcellIgE_U133B.CEL', 'IgE/exp2/A_LW_mastcellIgE_U133A.DAT', 'IgE/exp2/A_LW_mastcellIgE_U133B.DAT', 'IgE/exp2/A_LW_mastcellIgE_U133A.CEL', 'IgE/exp2/A_LW_mastcellIgE_U133B.CEL']\n",
      "\n",
      "************************************************************\n",
      "http://linkage.garvan.unsw.edu.au/public/microarrays/Arthritis_Inflammation/human/Bcells/index.html Bcell\n",
      "3 new class: CD19+\n",
      "7 new class:  \n",
      "[['Bcell', u'CD19+', 3, 7], ['Bcell', u'\\xa0', 7, 11]]\n",
      "8 ['CD19%2B/A_TS_RN_CD19%2B_U133A_130104.DAT', 'CD19%2B/A_TS_RN_CD19%2B_U133B_150104.DAT', 'CD19%2B/A_TS_RN_CD19%2B_U133A_130104.CEL', 'CD19%2B/A_TS_RN_CD19%2B_U133B_150104.CEL', 'CD19%2B/A_TS_2CD19%2B_U133A_180204.DAT', 'CD19%2B/A_TS_2CD19%2B_U133B_190204.DAT', 'CD19%2B/A_TS_2CD19%2B_U133A_180204.CEL', 'CD19%2B/A_TS_2CD19%2B_U133B_190204.CEL']\n",
      "\n",
      "0 []\n",
      "\n",
      "************************************************************\n",
      "http://linkage.garvan.unsw.edu.au/public/microarrays/Arthritis_Inflammation/human/eosinophils/index.html eosinophils\n",
      "3 new class: Control\n",
      "5 new class: PMA\n",
      "[['eosinophils', u'Control', 3, 5], ['eosinophils', u'PMA', 5, 7]]\n",
      "4 ['control/A_MF_ControlEosinophil.DAT', 'control/Ar_LW_eosctrl_U133B_191202.DAT', 'control/A_MF_ControlEosinophil.CEL', 'control/Ar_LW_eosctrl_U133B_191202.CEL']\n",
      "\n",
      "4 ['pma/A_MF_2hrEosinophils.DAT', 'pma/Ar_LW_eospma_U133B_191202.DAT', 'pma/A_MF_2hrEosinophils.CEL', 'pma/Ar_LW_eospma_U133B_191202.CEL']\n",
      "\n",
      "************************************************************\n",
      "http://linkage.garvan.unsw.edu.au/public/microarrays/Arthritis_Inflammation/human/neutrophils/index.html neutrophils\n",
      "3 new class: Contrl\n",
      "7 new class: LPS\n",
      "[['neutrophils', u'Contrl', 3, 7], ['neutrophils', u'LPS', 7, 9]]\n",
      "8 ['control/exp1/A_MF_neutrophils_U133A.DAT', 'control/exp1/Ar_LW_neutrp_U133B_191202.DAT', 'control/exp1/A_MF_neutrophils_U133A.CEL', 'control/exp1/Ar_LW_neutrp_U133B_191202.CEL', 'control/exp2/A_LW_neutrophil_U133A.DAT', 'control/exp2/A_LW_neutro_U133B_220503.DAT', 'control/exp2/A_LW_neutrophil_U133A.CEL', 'control/exp2/A_LW_neutro_U133B_220503.CEL']\n",
      "\n",
      "4 ['LPS/A_TS_MSNeutroLPS_U133A.DAT', 'LPS/A_TS_MSNeutroLPS_U133B.DAT', 'LPS/A_TS_MSNeutroLPS_U133A.CEL', 'LPS/A_TS_MSNeutroLPS_U133B.CEL']\n",
      "\n",
      "************************************************************\n",
      "http://linkage.garvan.unsw.edu.au/public/microarrays/Arthritis_Inflammation/human/basophils/index.html basophils\n",
      "3 new class: Control\n",
      "5 new class:  \n",
      "[['basophils', u'Control', 3, 5], ['basophils', u'\\xa0', 5, 7]]\n",
      "0 []\n",
      "\n",
      "0 []\n",
      "\n",
      "************************************************************\n",
      "http://linkage.garvan.unsw.edu.au/public/microarrays/Arthritis_Inflammation/human/RA/index.html synoviocytes\n",
      "3 new class: Control\n",
      "7 new class: TNFa\n",
      "11 new class: IL-1b\n",
      "[['synoviocytes', u'Control', 3, 7], ['synoviocytes', u'TNFa', 7, 11], ['synoviocytes', u'IL-1b', 11, 15]]\n",
      "3 ['exp1/A_AS_RAcont_U95A2_231100.DAT', 'exp1/A_AS_RAcont_U95A2_231100.CEL', 'exp2/A_MF_RAControl_U95AV2_1262.DAT']\n",
      "\n",
      "3 ['exp1/A_MF_RATNF_U95A2_230701.DAT', 'exp1/A_MF_RATNF_U95A2_230701.CEL', 'exp2/A_MF_TNFRA_U95AV2_120602.DAT']\n",
      "\n",
      "3 ['exp1/A_AS_RAIL-1_U95A2_231100.DAT', 'exp1/A_AS_RAIL-1_U95A2_231100.CEL', 'exp2/A_MF_Il1BRA_U95AV2_120602.DAT']\n",
      "\n"
     ]
    }
   ],
   "source": [
    "# scrape class names as well\n",
    "files_in_class = [] # format for dataframe\n",
    "for url,cell_type in to_scan:\n",
    "    print '*' * 60\n",
    "    print url, cell_type\n",
    "    conn = urllib2.urlopen(url)\n",
    "    html = conn.read()\n",
    "    soup = BeautifulSoup(html)\n",
    "    rows = soup.findAll('tr')\n",
    "    \n",
    "    rows_belonging_to_each_class = []\n",
    "    next_header_row = -1\n",
    "    \n",
    "    for ix, tr in enumerate(rows):\n",
    "        cols = tr.findAll('td')\n",
    "        if (next_header_row == -1 and 'rowspan' in cols[0].attrs and int(cols[0].attrs['rowspan']) >= 2) \\\n",
    "        or (next_header_row == ix): # find the header rows for classes\n",
    "            if 'rowspan' not in cols[0].attrs:\n",
    "                print ix, 'no rowspan, dying'\n",
    "                break\n",
    "            print ix, 'new class:', cols[0].text\n",
    "            next_header_row = ix + int(cols[0].attrs['rowspan'])\n",
    "            rows_belonging_to_each_class.append([cell_type, cols[0].text, ix, next_header_row])\n",
    "    \n",
    "#     for i in range(len(rows_belonging_to_each_class)-1):\n",
    "#         rows_belonging_to_each_class[i].append(rows_belonging_to_each_class[i+1][1])\n",
    "        \n",
    "#     rows_belonging_to_each_class[-1].append(len(rows))\n",
    "    print rows_belonging_to_each_class\n",
    "    \n",
    "    for typ, c, start, end in rows_belonging_to_each_class:\n",
    "        files_found = list(flatten([extract_links_from_soup(r) for r in rows[start:end]]))\n",
    "        print len(files_found), files_found\n",
    "        print\n",
    "        files_found = [f.rsplit('/', 1)[-1] for f in files_found] # get filenames (via SO)\n",
    "        files_in_class.extend([(typ, c,f) for f in files_found])"
   ]
  },
  {
   "cell_type": "code",
   "execution_count": 10,
   "metadata": {
    "collapsed": false
   },
   "outputs": [
    {
     "data": {
      "text/plain": [
       "[('dendritic', u'6hr LPS', 'A_LW_DC6hLPS_U133A_200503.DAT'),\n",
       " ('dendritic', u'6hr LPS', 'A_TS_SZ6hrLPSDC_1_U133B.DAT'),\n",
       " ('dendritic', u'6hr LPS', 'A_LW_DC6hLPS_U133A_200503.CEL'),\n",
       " ('dendritic', u'6hr LPS', 'A_TS_SZ6hrLPSDC_1_U133B.CEL'),\n",
       " ('dendritic', u'6hr LPS', 'A_SZ_6hLPSDC2_U133A_250603.DAT'),\n",
       " ('dendritic', u'6hr LPS', 'A_TS_SZ6hrLPSDC_2_U133B.DAT'),\n",
       " ('dendritic', u'6hr LPS', 'A_SZ_6hLPSDC2_U133A_250603.CEL'),\n",
       " ('dendritic', u'6hr LPS', 'A_TS_SZ6hrLPSDC_2_U133B.CEL'),\n",
       " ('dendritic', u'48hr LPS', 'A_LW_DC48hLPS_U133A_200503.DAT'),\n",
       " ('dendritic', u'48hr LPS', 'A_LW_DC48LPS_U133B_270503.DAT'),\n",
       " ('dendritic', u'48hr LPS', 'A_LW_DC48hLPS_U133A_200503.CEL'),\n",
       " ('dendritic', u'48hr LPS', 'A_LW_DC48LPS_U133B_270503.CEL'),\n",
       " ('dendritic', u'48hr LPS', 'A_SZ_48hLPSDC2_U133A_250603.DAT'),\n",
       " ('dendritic', u'48hr LPS', 'A_TS_SZDC48LPS_U133B.DAT'),\n",
       " ('dendritic', u'48hr LPS', 'A_SZ_48hLPSDC2_U133A_250603.CEL'),\n",
       " ('dendritic', u'48hr LPS', 'A_TS_SZDC48LPS_U133B.CEL'),\n",
       " ('dendritic', u'6hr LPS + HC', 'A_LW_DC6hLPS_HC_U133A.DAT'),\n",
       " ('dendritic', u'6hr LPS + HC', 'A_LW_DC6hLPS_HC_U133A.CEL'),\n",
       " ('dendritic', u'6hr LPS + HC', 'A_SZ_6hLPS_HCDC2_U133A.DAT'),\n",
       " ('dendritic', u'6hr LPS + HC', 'A_SZ_6hLPS_HCDC2_U133A.CEL'),\n",
       " ('dendritic', u'48hr LPS + HC', 'A_LW_DC48hLPS_HC_U133A.DAT'),\n",
       " ('dendritic', u'48hr LPS + HC', 'A_LW_DC48hLPS_HC_U133A.CEL'),\n",
       " ('dendritic', u'48hr LPS + HC', 'A_SZ_48hLPS_HCDC2_U133A.DAT'),\n",
       " ('dendritic', u'48hr LPS + HC', 'A_SZ_48hLPS_HCDC2_U133A.CEL'),\n",
       " ('dendritic', u'Immature', 'A_LW_imDC_U133A_200503.DAT'),\n",
       " ('dendritic', u'Immature', 'A_LW_imDC_U133B_270503.DAT'),\n",
       " ('dendritic', u'Immature', 'A_LW_imDC_U133A_200503.CEL'),\n",
       " ('dendritic', u'Immature', 'A_LW_imDC_U133B_270503.CEL'),\n",
       " ('dendritic', u'Immature', 'A_SZ_imDC2_U133A_250603.DAT'),\n",
       " ('dendritic', u'Immature', 'A_TS_SZImmatureDC_U133B.DAT'),\n",
       " ('dendritic', u'Immature', 'A_SZ_imDC2_U133A_250603.CEL'),\n",
       " ('dendritic', u'Immature', 'A_TS_SZImmatureDC_U133B.CEL'),\n",
       " ('dendritic', u'-BAFF', 'A_TS_MDDC4ws-BAFF_U133A.DAT'),\n",
       " ('dendritic', u'-BAFF', 'A_TS_MDDC4ws-BAFF_U133A.CEL'),\n",
       " ('dendritic', u'-BAFF', 'A_LW_DC-BAFF_U133A_250304.DAT'),\n",
       " ('dendritic', u'-BAFF', 'A_LW_DC-BAFF_U133A_250304.CEL'),\n",
       " ('dendritic', u'+BAFF', 'A_TS_MDDC4ws%2BBAFF_U133A.DAT'),\n",
       " ('dendritic', u'+BAFF', 'A_TS_MDDC4ws%2BBAFF_U133A.CEL'),\n",
       " ('dendritic', u'+BAFF', 'A_LW_DC%2BBAFF_U133A_250304.DAT'),\n",
       " ('dendritic', u'+BAFF', 'A_LW_DC%2BBAFF_U133A_250304.CEL'),\n",
       " ('macrophage', u'contorl', 'A_LW_macroctrl_U133A_130503.DAT'),\n",
       " ('macrophage', u'contorl', 'A_LW_macroctrl_U133B_270503.DAT'),\n",
       " ('macrophage', u'contorl', 'A_LW_macroctrl_U133A_130503.CEL'),\n",
       " ('macrophage', u'contorl', 'A_LW_macroctrl_U133B_270503.CEL'),\n",
       " ('macrophage', u'contorl', 'A_SZ_mac2cont_U133A_240603.DAT'),\n",
       " ('macrophage', u'contorl', 'Sabine_mac2cont_U133B.DAT'),\n",
       " ('macrophage', u'contorl', 'A_SZ_mac2cont_U133A_240603.CEL'),\n",
       " ('macrophage', u'contorl', 'Sabine_mac2cont_U133B.CEL'),\n",
       " ('macrophage', u'LPS', 'A_LW_macro_LPS_U133A_130503.DAT'),\n",
       " ('macrophage', u'LPS', 'A_TS_SZMacLPS(1)_U133B.DAT'),\n",
       " ('macrophage', u'LPS', 'A_LW_macro_LPS_U133A_130503.CEL'),\n",
       " ('macrophage', u'LPS', 'A_TS_SZMacLPS(1)_U133B.CEL'),\n",
       " ('macrophage', u'LPS', 'A_SZ_mac2LPS_U133A_240603.DAT'),\n",
       " ('macrophage', u'LPS', 'A_TS_SZMacLPS(2)_U133B.DAT'),\n",
       " ('macrophage', u'LPS', 'A_SZ_mac2LPS_U133A_240603.CEL'),\n",
       " ('macrophage', u'LPS', 'A_TS_SZMacLPS(2)_U133B.CEL'),\n",
       " ('macrophage', u'LPS + HC', 'A_LW_macro_LPS_HC_U133A.DAT'),\n",
       " ('macrophage', u'LPS + HC', 'A_LW_macro_LPS_HC_U133A.CEL'),\n",
       " ('macrophage', u'LPS + HC', 'A_SZ_mac2LPS_HC_U133A.DAT'),\n",
       " ('macrophage', u'LPS + HC', 'A_SZ_mac2LPS_HC_U133A.CEL'),\n",
       " ('Tcell', u'Th1', 'A_MF_TH1human_U133A_290502.DAT'),\n",
       " ('Tcell', u'Th1', 'A_LW_Th1_U133B_241202.DAT'),\n",
       " ('Tcell', u'Th1', 'A_MF_TH1human_U133A_290502.CEL'),\n",
       " ('Tcell', u'Th1', 'A_LW_Th1_U133B_241202.CEL'),\n",
       " ('Tcell', u'Th1', 'A_TS_TC_Th1_U133A_141003.DAT'),\n",
       " ('Tcell', u'Th1', 'A_TS_TC_Th1_U133B_161003.DAT'),\n",
       " ('Tcell', u'Th1', 'A_TS_TC_Th1_U133A_141003.CEL'),\n",
       " ('Tcell', u'Th1', 'A_TS_TC_Th1_U133B_161003.CEL'),\n",
       " ('Tcell', u'Th2', 'A_MF_TH2human_U133A_290502.DAT'),\n",
       " ('Tcell', u'Th2', 'A_LW_Th2_U133B_241202.DAT'),\n",
       " ('Tcell', u'Th2', 'A_MF_TH2human_U133A_290502.CEL'),\n",
       " ('Tcell', u'Th2', 'A_LW_Th2_U133B_241202.CEL'),\n",
       " ('Tcell', u'Th2', 'A_TS_TC_Th2_U133A_141003.DAT'),\n",
       " ('Tcell', u'Th2', 'A_TS_TC_Th2_U133B_161003.DAT'),\n",
       " ('Tcell', u'Th2', 'A_TS_TC_Th2_U133A_141003.CEL'),\n",
       " ('Tcell', u'Th2', 'A_TS_TC_Th2_U133B_161003.CEL'),\n",
       " ('Tcell', u'CD57-', 'A_MF_CD57-_U133A_010502.DAT'),\n",
       " ('Tcell', u'CD57-', 'A_LW_CD57-_U133B_010503.DAT'),\n",
       " ('Tcell', u'CD57-', 'A_MF_CD57-_U133A_010502.CEL'),\n",
       " ('Tcell', u'CD57-', 'A_LW_CD57-_U133B_010503.CEL'),\n",
       " ('Tcell', u'CD57-', 'A_LW_CD57-_U133A_121102.DAT'),\n",
       " ('Tcell', u'CD57-', 'A_LW_CD57-_U133A_121102.CEL'),\n",
       " ('Tcell', u'CD57-', 'A_LW_CD57-_U133A_030603.DAT'),\n",
       " ('Tcell', u'CD57-', 'Tanya_CD57-_U133B.DAT'),\n",
       " ('Tcell', u'CD57-', 'A_LW_CD57-_U133A_030603.CEL'),\n",
       " ('Tcell', u'CD57-', 'Tanya_CD57-_U133B.CEL'),\n",
       " ('Tcell', u'CD57+', 'A_MF_CD57%2B_U133A_010502.DAT'),\n",
       " ('Tcell', u'CD57+', 'A_LW_CD57%2B_U133B_010503.DAT'),\n",
       " ('Tcell', u'CD57+', 'A_MF_CD57%2B_U133A_010502.CEL'),\n",
       " ('Tcell', u'CD57+', 'A_LW_CD57%2B_U133B_010503.CEL'),\n",
       " ('Tcell', u'CD57+', 'A_LW_CD57%2B_U133A_121102.DAT'),\n",
       " ('Tcell', u'CD57+', 'A_LW_CD57%2B_U133A_121102.CEL'),\n",
       " ('Tcell', u'CD57+', 'A_LW_CD57%2B_U133A_030603.DAT'),\n",
       " ('Tcell', u'CD57+', 'Tanya_CD57%2B_U133B.DAT'),\n",
       " ('Tcell', u'CD57+', 'A_LW_CD57%2B_U133A_030603.CEL'),\n",
       " ('Tcell', u'CD57+', 'Tanya_CD57%2B_U133B.CEL'),\n",
       " ('Tcell', u'CCR7-', 'A_MF_CCR7-_U133A_190202.DAT'),\n",
       " ('Tcell', u'CCR7-', 'A_MF_CCR7-_U133B_280202.DAT'),\n",
       " ('Tcell', u'CCR7-', 'A_MF_CCR7-_U133A_190202.CEL'),\n",
       " ('Tcell', u'CCR7-', 'A_MF_CCR7-_U133B_280202.CEL'),\n",
       " ('Tcell', u'CCR7+', 'A_MF_CCR7%2B_U133A_190202.DAT'),\n",
       " ('Tcell', u'CCR7+', 'A_MF_CCR7%2B_U133B_280202.DAT'),\n",
       " ('Tcell', u'CCR7+', 'A_MF_CCR7%2B_U133A_190202.CEL'),\n",
       " ('Tcell', u'CCR7+', 'A_MF_CCR7%2B_U133B_280202.CEL'),\n",
       " ('Tcell', u'RO-', 'A_MF_CD8%2BCCR7-RO-_U133A.DAT'),\n",
       " ('Tcell', u'RO+', 'A_MF_CD8%2BCCR7-RO%2B_U133A.DAT'),\n",
       " ('Tcell', u'gd T cells', 'A_TS_RN_gdTcells_U133A.DAT'),\n",
       " ('Tcell', u'gd T cells', 'A_TS_RN_gdTcells_U133B.DAT'),\n",
       " ('Tcell', u'gd T cells', 'A_TS_RN_gdTcells_U133A.CEL'),\n",
       " ('Tcell', u'gd T cells', 'A_TS_RN_gdTcells_U133B.CEL'),\n",
       " ('Tcell', u'gd T cells', 'A_TS_RN_gdTcellsREP_A.DAT'),\n",
       " ('Tcell', u'gd T cells', 'A_TS_RN_gdTcellsREP_B.DAT'),\n",
       " ('Tcell', u'gd T cells', 'A_TS_RN_gdTcellsREP_A.CEL'),\n",
       " ('Tcell', u'gd T cells', 'A_TS_RN_gdTcellsREP_B.CEL'),\n",
       " ('Tcell', u'-BAFF', 'A_LW_-BAFF_U133A_70303.DAT'),\n",
       " ('Tcell', u'-BAFF', 'A_LW_-BAFF_U133A_70303.CEL'),\n",
       " ('Tcell', u'-BAFF', 'A_LW_-BAFF_U133A_250303.DAT'),\n",
       " ('Tcell', u'-BAFF', 'A_LW_-BAFF_U133A_250303.CEL'),\n",
       " ('Tcell', u'+BAFF', 'A_LW_%2BBAFF_U133A_70303.DAT'),\n",
       " ('Tcell', u'+BAFF', 'A_LW_%2BBAFF_U133A_70303.CEL'),\n",
       " ('Tcell', u'+BAFF', 'A_LW_%2BBAFF_U133A_250303.DAT'),\n",
       " ('Tcell', u'+BAFF', 'A_LW_%2BBAFF_U133A_250303.CEL'),\n",
       " ('Mastcell', u'Contrl', 'A_MF_ControlMASTCELL_U133A.DAT'),\n",
       " ('Mastcell', u'Contrl', 'A_LW_mastcellctrl_U133B.DAT'),\n",
       " ('Mastcell', u'Contrl', 'A_MF_ControlMASTCELL_U133A.CEL'),\n",
       " ('Mastcell', u'Contrl', 'A_LW_mastcellctrl_U133B.CEL'),\n",
       " ('Mastcell', u'Contrl', 'A_LW_mastcellctrl_U133A.DAT'),\n",
       " ('Mastcell', u'Contrl', 'A_LW_mastcellctrl_U133B.DAT'),\n",
       " ('Mastcell', u'Contrl', 'A_LW_mastcellctrl_U133A.CEL'),\n",
       " ('Mastcell', u'Contrl', 'A_LW_mastcellctrl_U133B.CEL'),\n",
       " ('Mastcell', u'IgE', 'A_MF_IgEMASTCELL_U133A.DAT'),\n",
       " ('Mastcell', u'IgE', 'A_LW_mastcellIgE_U133B.DAT'),\n",
       " ('Mastcell', u'IgE', 'A_MF_IgEMASTCELL_U133A.CEL'),\n",
       " ('Mastcell', u'IgE', 'A_LW_mastcellIgE_U133B.CEL'),\n",
       " ('Mastcell', u'IgE', 'A_LW_mastcellIgE_U133A.DAT'),\n",
       " ('Mastcell', u'IgE', 'A_LW_mastcellIgE_U133B.DAT'),\n",
       " ('Mastcell', u'IgE', 'A_LW_mastcellIgE_U133A.CEL'),\n",
       " ('Mastcell', u'IgE', 'A_LW_mastcellIgE_U133B.CEL'),\n",
       " ('Bcell', u'CD19+', 'A_TS_RN_CD19%2B_U133A_130104.DAT'),\n",
       " ('Bcell', u'CD19+', 'A_TS_RN_CD19%2B_U133B_150104.DAT'),\n",
       " ('Bcell', u'CD19+', 'A_TS_RN_CD19%2B_U133A_130104.CEL'),\n",
       " ('Bcell', u'CD19+', 'A_TS_RN_CD19%2B_U133B_150104.CEL'),\n",
       " ('Bcell', u'CD19+', 'A_TS_2CD19%2B_U133A_180204.DAT'),\n",
       " ('Bcell', u'CD19+', 'A_TS_2CD19%2B_U133B_190204.DAT'),\n",
       " ('Bcell', u'CD19+', 'A_TS_2CD19%2B_U133A_180204.CEL'),\n",
       " ('Bcell', u'CD19+', 'A_TS_2CD19%2B_U133B_190204.CEL'),\n",
       " ('eosinophils', u'Control', 'A_MF_ControlEosinophil.DAT'),\n",
       " ('eosinophils', u'Control', 'Ar_LW_eosctrl_U133B_191202.DAT'),\n",
       " ('eosinophils', u'Control', 'A_MF_ControlEosinophil.CEL'),\n",
       " ('eosinophils', u'Control', 'Ar_LW_eosctrl_U133B_191202.CEL'),\n",
       " ('eosinophils', u'PMA', 'A_MF_2hrEosinophils.DAT'),\n",
       " ('eosinophils', u'PMA', 'Ar_LW_eospma_U133B_191202.DAT'),\n",
       " ('eosinophils', u'PMA', 'A_MF_2hrEosinophils.CEL'),\n",
       " ('eosinophils', u'PMA', 'Ar_LW_eospma_U133B_191202.CEL'),\n",
       " ('neutrophils', u'Contrl', 'A_MF_neutrophils_U133A.DAT'),\n",
       " ('neutrophils', u'Contrl', 'Ar_LW_neutrp_U133B_191202.DAT'),\n",
       " ('neutrophils', u'Contrl', 'A_MF_neutrophils_U133A.CEL'),\n",
       " ('neutrophils', u'Contrl', 'Ar_LW_neutrp_U133B_191202.CEL'),\n",
       " ('neutrophils', u'Contrl', 'A_LW_neutrophil_U133A.DAT'),\n",
       " ('neutrophils', u'Contrl', 'A_LW_neutro_U133B_220503.DAT'),\n",
       " ('neutrophils', u'Contrl', 'A_LW_neutrophil_U133A.CEL'),\n",
       " ('neutrophils', u'Contrl', 'A_LW_neutro_U133B_220503.CEL'),\n",
       " ('neutrophils', u'LPS', 'A_TS_MSNeutroLPS_U133A.DAT'),\n",
       " ('neutrophils', u'LPS', 'A_TS_MSNeutroLPS_U133B.DAT'),\n",
       " ('neutrophils', u'LPS', 'A_TS_MSNeutroLPS_U133A.CEL'),\n",
       " ('neutrophils', u'LPS', 'A_TS_MSNeutroLPS_U133B.CEL'),\n",
       " ('synoviocytes', u'Control', 'A_AS_RAcont_U95A2_231100.DAT'),\n",
       " ('synoviocytes', u'Control', 'A_AS_RAcont_U95A2_231100.CEL'),\n",
       " ('synoviocytes', u'Control', 'A_MF_RAControl_U95AV2_1262.DAT'),\n",
       " ('synoviocytes', u'TNFa', 'A_MF_RATNF_U95A2_230701.DAT'),\n",
       " ('synoviocytes', u'TNFa', 'A_MF_RATNF_U95A2_230701.CEL'),\n",
       " ('synoviocytes', u'TNFa', 'A_MF_TNFRA_U95AV2_120602.DAT'),\n",
       " ('synoviocytes', u'IL-1b', 'A_AS_RAIL-1_U95A2_231100.DAT'),\n",
       " ('synoviocytes', u'IL-1b', 'A_AS_RAIL-1_U95A2_231100.CEL'),\n",
       " ('synoviocytes', u'IL-1b', 'A_MF_Il1BRA_U95AV2_120602.DAT')]"
      ]
     },
     "execution_count": 10,
     "metadata": {},
     "output_type": "execute_result"
    }
   ],
   "source": [
    "files_in_class"
   ]
  },
  {
   "cell_type": "code",
   "execution_count": 11,
   "metadata": {
    "collapsed": false
   },
   "outputs": [
    {
     "data": {
      "text/html": [
       "<div style=\"max-height:1000px;max-width:1500px;overflow:auto;\">\n",
       "<table border=\"1\" class=\"dataframe\">\n",
       "  <thead>\n",
       "    <tr style=\"text-align: right;\">\n",
       "      <th></th>\n",
       "      <th>type</th>\n",
       "      <th>subtype</th>\n",
       "      <th>filename</th>\n",
       "    </tr>\n",
       "  </thead>\n",
       "  <tbody>\n",
       "    <tr>\n",
       "      <th>0</th>\n",
       "      <td> dendritic</td>\n",
       "      <td> 6hr LPS</td>\n",
       "      <td>  A_LW_DC6hLPS_U133A_200503.DAT</td>\n",
       "    </tr>\n",
       "    <tr>\n",
       "      <th>1</th>\n",
       "      <td> dendritic</td>\n",
       "      <td> 6hr LPS</td>\n",
       "      <td>    A_TS_SZ6hrLPSDC_1_U133B.DAT</td>\n",
       "    </tr>\n",
       "    <tr>\n",
       "      <th>2</th>\n",
       "      <td> dendritic</td>\n",
       "      <td> 6hr LPS</td>\n",
       "      <td>  A_LW_DC6hLPS_U133A_200503.CEL</td>\n",
       "    </tr>\n",
       "    <tr>\n",
       "      <th>3</th>\n",
       "      <td> dendritic</td>\n",
       "      <td> 6hr LPS</td>\n",
       "      <td>    A_TS_SZ6hrLPSDC_1_U133B.CEL</td>\n",
       "    </tr>\n",
       "    <tr>\n",
       "      <th>4</th>\n",
       "      <td> dendritic</td>\n",
       "      <td> 6hr LPS</td>\n",
       "      <td> A_SZ_6hLPSDC2_U133A_250603.DAT</td>\n",
       "    </tr>\n",
       "  </tbody>\n",
       "</table>\n",
       "</div>"
      ],
      "text/plain": [
       "        type  subtype                        filename\n",
       "0  dendritic  6hr LPS   A_LW_DC6hLPS_U133A_200503.DAT\n",
       "1  dendritic  6hr LPS     A_TS_SZ6hrLPSDC_1_U133B.DAT\n",
       "2  dendritic  6hr LPS   A_LW_DC6hLPS_U133A_200503.CEL\n",
       "3  dendritic  6hr LPS     A_TS_SZ6hrLPSDC_1_U133B.CEL\n",
       "4  dendritic  6hr LPS  A_SZ_6hLPSDC2_U133A_250603.DAT"
      ]
     },
     "execution_count": 11,
     "metadata": {},
     "output_type": "execute_result"
    }
   ],
   "source": [
    "files_in_class = pd.DataFrame(files_in_class)\n",
    "files_in_class.columns = ['type', 'subtype', 'filename']\n",
    "files_in_class.head()"
   ]
  },
  {
   "cell_type": "code",
   "execution_count": 13,
   "metadata": {
    "collapsed": false
   },
   "outputs": [],
   "source": [
    "files_in_class['filename'] = files_in_class['filename'].apply(urllib2.unquote)"
   ]
  },
  {
   "cell_type": "code",
   "execution_count": 14,
   "metadata": {
    "collapsed": false
   },
   "outputs": [
    {
     "data": {
      "text/html": [
       "<div style=\"max-height:1000px;max-width:1500px;overflow:auto;\">\n",
       "<table border=\"1\" class=\"dataframe\">\n",
       "  <thead>\n",
       "    <tr style=\"text-align: right;\">\n",
       "      <th></th>\n",
       "      <th>type</th>\n",
       "      <th>subtype</th>\n",
       "      <th>filename</th>\n",
       "      <th>filename_low</th>\n",
       "    </tr>\n",
       "  </thead>\n",
       "  <tbody>\n",
       "    <tr>\n",
       "      <th>0</th>\n",
       "      <td> dendritic</td>\n",
       "      <td> 6hr LPS</td>\n",
       "      <td>  A_LW_DC6hLPS_U133A_200503.DAT</td>\n",
       "      <td>  a_lw_dc6hlps_u133a_200503.dat</td>\n",
       "    </tr>\n",
       "    <tr>\n",
       "      <th>1</th>\n",
       "      <td> dendritic</td>\n",
       "      <td> 6hr LPS</td>\n",
       "      <td>    A_TS_SZ6hrLPSDC_1_U133B.DAT</td>\n",
       "      <td>    a_ts_sz6hrlpsdc_1_u133b.dat</td>\n",
       "    </tr>\n",
       "    <tr>\n",
       "      <th>2</th>\n",
       "      <td> dendritic</td>\n",
       "      <td> 6hr LPS</td>\n",
       "      <td>  A_LW_DC6hLPS_U133A_200503.CEL</td>\n",
       "      <td>  a_lw_dc6hlps_u133a_200503.cel</td>\n",
       "    </tr>\n",
       "    <tr>\n",
       "      <th>3</th>\n",
       "      <td> dendritic</td>\n",
       "      <td> 6hr LPS</td>\n",
       "      <td>    A_TS_SZ6hrLPSDC_1_U133B.CEL</td>\n",
       "      <td>    a_ts_sz6hrlpsdc_1_u133b.cel</td>\n",
       "    </tr>\n",
       "    <tr>\n",
       "      <th>4</th>\n",
       "      <td> dendritic</td>\n",
       "      <td> 6hr LPS</td>\n",
       "      <td> A_SZ_6hLPSDC2_U133A_250603.DAT</td>\n",
       "      <td> a_sz_6hlpsdc2_u133a_250603.dat</td>\n",
       "    </tr>\n",
       "  </tbody>\n",
       "</table>\n",
       "</div>"
      ],
      "text/plain": [
       "        type  subtype                        filename  \\\n",
       "0  dendritic  6hr LPS   A_LW_DC6hLPS_U133A_200503.DAT   \n",
       "1  dendritic  6hr LPS     A_TS_SZ6hrLPSDC_1_U133B.DAT   \n",
       "2  dendritic  6hr LPS   A_LW_DC6hLPS_U133A_200503.CEL   \n",
       "3  dendritic  6hr LPS     A_TS_SZ6hrLPSDC_1_U133B.CEL   \n",
       "4  dendritic  6hr LPS  A_SZ_6hLPSDC2_U133A_250603.DAT   \n",
       "\n",
       "                     filename_low  \n",
       "0   a_lw_dc6hlps_u133a_200503.dat  \n",
       "1     a_ts_sz6hrlpsdc_1_u133b.dat  \n",
       "2   a_lw_dc6hlps_u133a_200503.cel  \n",
       "3     a_ts_sz6hrlpsdc_1_u133b.cel  \n",
       "4  a_sz_6hlpsdc2_u133a_250603.dat  "
      ]
     },
     "execution_count": 14,
     "metadata": {},
     "output_type": "execute_result"
    }
   ],
   "source": [
    "files_in_class['filename_low'] = files_in_class.filename.str.lower()\n",
    "files_in_class.head()"
   ]
  },
  {
   "cell_type": "code",
   "execution_count": 15,
   "metadata": {
    "collapsed": false
   },
   "outputs": [
    {
     "name": "stdout",
     "output_type": "stream",
     "text": [
      "(33, 4)\n"
     ]
    },
    {
     "data": {
      "text/html": [
       "<div style=\"max-height:1000px;max-width:1500px;overflow:auto;\">\n",
       "<table border=\"1\" class=\"dataframe\">\n",
       "  <thead>\n",
       "    <tr style=\"text-align: right;\">\n",
       "      <th></th>\n",
       "      <th>type</th>\n",
       "      <th>subtype</th>\n",
       "      <th>filename</th>\n",
       "      <th>filename_low</th>\n",
       "    </tr>\n",
       "  </thead>\n",
       "  <tbody>\n",
       "    <tr>\n",
       "      <th>2 </th>\n",
       "      <td> dendritic</td>\n",
       "      <td>      6hr LPS</td>\n",
       "      <td>   A_LW_DC6hLPS_U133A_200503.CEL</td>\n",
       "      <td>   a_lw_dc6hlps_u133a_200503.cel</td>\n",
       "    </tr>\n",
       "    <tr>\n",
       "      <th>6 </th>\n",
       "      <td> dendritic</td>\n",
       "      <td>      6hr LPS</td>\n",
       "      <td>  A_SZ_6hLPSDC2_U133A_250603.CEL</td>\n",
       "      <td>  a_sz_6hlpsdc2_u133a_250603.cel</td>\n",
       "    </tr>\n",
       "    <tr>\n",
       "      <th>10</th>\n",
       "      <td> dendritic</td>\n",
       "      <td>     48hr LPS</td>\n",
       "      <td>  A_LW_DC48hLPS_U133A_200503.CEL</td>\n",
       "      <td>  a_lw_dc48hlps_u133a_200503.cel</td>\n",
       "    </tr>\n",
       "    <tr>\n",
       "      <th>14</th>\n",
       "      <td> dendritic</td>\n",
       "      <td>     48hr LPS</td>\n",
       "      <td> A_SZ_48hLPSDC2_U133A_250603.CEL</td>\n",
       "      <td> a_sz_48hlpsdc2_u133a_250603.cel</td>\n",
       "    </tr>\n",
       "    <tr>\n",
       "      <th>17</th>\n",
       "      <td> dendritic</td>\n",
       "      <td> 6hr LPS + HC</td>\n",
       "      <td>       A_LW_DC6hLPS_HC_U133A.CEL</td>\n",
       "      <td>       a_lw_dc6hlps_hc_u133a.cel</td>\n",
       "    </tr>\n",
       "  </tbody>\n",
       "</table>\n",
       "</div>"
      ],
      "text/plain": [
       "         type       subtype                         filename  \\\n",
       "2   dendritic       6hr LPS    A_LW_DC6hLPS_U133A_200503.CEL   \n",
       "6   dendritic       6hr LPS   A_SZ_6hLPSDC2_U133A_250603.CEL   \n",
       "10  dendritic      48hr LPS   A_LW_DC48hLPS_U133A_200503.CEL   \n",
       "14  dendritic      48hr LPS  A_SZ_48hLPSDC2_U133A_250603.CEL   \n",
       "17  dendritic  6hr LPS + HC        A_LW_DC6hLPS_HC_U133A.CEL   \n",
       "\n",
       "                       filename_low  \n",
       "2     a_lw_dc6hlps_u133a_200503.cel  \n",
       "6    a_sz_6hlpsdc2_u133a_250603.cel  \n",
       "10   a_lw_dc48hlps_u133a_200503.cel  \n",
       "14  a_sz_48hlpsdc2_u133a_250603.cel  \n",
       "17        a_lw_dc6hlps_hc_u133a.cel  "
      ]
     },
     "execution_count": 15,
     "metadata": {},
     "output_type": "execute_result"
    }
   ],
   "source": [
    "# filter to filenames we use\n",
    "selected = files_in_class[files_in_class['filename_low'].isin([f.lower() for f in filenames])]\n",
    "print selected.shape\n",
    "selected.head()"
   ]
  },
  {
   "cell_type": "code",
   "execution_count": 16,
   "metadata": {
    "collapsed": false
   },
   "outputs": [
    {
     "data": {
      "text/plain": [
       "type         subtype      \n",
       "Bcell        CD19+            2\n",
       "Mastcell     Contrl           2\n",
       "             IgE              2\n",
       "Tcell        CCR7+            1\n",
       "             CCR7-            1\n",
       "             Th1              2\n",
       "             Th2              2\n",
       "dendritic    48hr LPS         2\n",
       "             48hr LPS + HC    2\n",
       "             6hr LPS          2\n",
       "             6hr LPS + HC     2\n",
       "             Immature         2\n",
       "eosinophils  Control          1\n",
       "             PMA              1\n",
       "macrophage   LPS              2\n",
       "             LPS + HC         2\n",
       "             contorl          2\n",
       "neutrophils  Contrl           2\n",
       "             LPS              1\n",
       "dtype: int64"
      ]
     },
     "execution_count": 16,
     "metadata": {},
     "output_type": "execute_result"
    }
   ],
   "source": [
    "selected.groupby(['type', 'subtype']).size()"
   ]
  },
  {
   "cell_type": "code",
   "execution_count": 17,
   "metadata": {
    "collapsed": false
   },
   "outputs": [],
   "source": [
    "assert len(set(selected.filename_low.unique()) - set([f.lower() for f in filenames])) == 0"
   ]
  },
  {
   "cell_type": "code",
   "execution_count": 19,
   "metadata": {
    "collapsed": false
   },
   "outputs": [],
   "source": [
    "assert len(set([f.lower() for f in filenames]) - set(selected.filename_low.unique())) == 0"
   ]
  },
  {
   "cell_type": "markdown",
   "metadata": {},
   "source": [
    "### add info for other subdirs\n",
    "\n",
    "the desired list of categories is (from https://docs.google.com/spreadsheets/d/1gUmc6RoTVcpXBsj5Ypc2RKX3-wPrbVhznQjLj6hJkOw/edit#gid=750136295):\n",
    "\n",
    "```\n",
    "aDC\n",
    "B cells\n",
    "Blood vessels\n",
    "CD8 T cells\n",
    "Cytotoxic cells\n",
    "DC\n",
    "Eosinophils\n",
    "iDC\n",
    "Lymph vessels\n",
    "Macrophages\n",
    "Mast cells\n",
    "Neutrophils\n",
    "NK CD56bright cells\n",
    "NK CD56dim cells\n",
    "NK cells\n",
    "Normal mucosa\n",
    "pDC\n",
    "SW480 cancer cells\n",
    "T cells\n",
    "T helper cells\n",
    "Tcm\n",
    "Tem\n",
    "TFH\n",
    "Tgd\n",
    "Th1 cells\n",
    "Th17 cells\n",
    "Th2 cells\n",
    "TReg\n",
    "```\n"
   ]
  },
  {
   "cell_type": "code",
   "execution_count": 21,
   "metadata": {
    "collapsed": true
   },
   "outputs": [],
   "source": [
    "import glob"
   ]
  },
  {
   "cell_type": "code",
   "execution_count": 58,
   "metadata": {
    "collapsed": true
   },
   "outputs": [],
   "source": [
    "# collect new info here\n",
    "extra = []\n",
    "import ntpath"
   ]
  },
  {
   "cell_type": "code",
   "execution_count": 59,
   "metadata": {
    "collapsed": false
   },
   "outputs": [],
   "source": [
    "extra.extend([('Tcell', 'CD8', ntpath.basename(x), None) for x in glob.glob('CD8_GSE6740/*.cel*')])"
   ]
  },
  {
   "cell_type": "code",
   "execution_count": 60,
   "metadata": {
    "collapsed": true
   },
   "outputs": [],
   "source": [
    "extra.extend([('SW480 cancer cells', None, ntpath.basename(x), None) for x in glob.glob('coloncancer*/*.cel*')])"
   ]
  },
  {
   "cell_type": "code",
   "execution_count": 61,
   "metadata": {
    "collapsed": true
   },
   "outputs": [],
   "source": [
    "# http://www.ebi.ac.uk/arrayexpress/experiments/E-MEXP-380/samples/\n",
    "extra.extend([('NK cells', 'CD56dim', ntpath.basename(x), None) for x in glob.glob('NK_E-MEXP-380/*0210*.CEL*')])\n",
    "extra.extend([('NK cells', 'CD56dim', ntpath.basename(x), None) for x in glob.glob('NK_E-MEXP-380/*0248*.CEL*')])\n",
    "extra.extend([('NK cells', 'CD56bright', ntpath.basename(x), None) for x in glob.glob('NK_E-MEXP-380/*0211*.CEL*')])\n",
    "extra.extend([('NK cells', 'CD56bright', ntpath.basename(x), None) for x in glob.glob('NK_E-MEXP-380/*0249*.CEL*')])"
   ]
  },
  {
   "cell_type": "code",
   "execution_count": 62,
   "metadata": {
    "collapsed": true
   },
   "outputs": [],
   "source": [
    "extra.extend([('Normal mucosa', 'Colon', ntpath.basename(x), None) for x in glob.glob('normalcolon*/*.cel*')])"
   ]
  },
  {
   "cell_type": "code",
   "execution_count": 63,
   "metadata": {
    "collapsed": false
   },
   "outputs": [
    {
     "data": {
      "text/plain": [
       "[('Tcell', 'CD8', 'GSM155229.CEL.gz', None),\n",
       " ('Tcell', 'CD8', 'GSM155232.CEL.gz', None),\n",
       " ('Tcell', 'CD8', 'GSM155234.CEL.gz', None),\n",
       " ('Tcell', 'CD8', 'GSM155236.CEL.gz', None),\n",
       " ('Tcell', 'CD8', 'GSM155238.CEL.gz', None),\n",
       " ('SW480 cancer cells', None, 'GSM21712.CEL.gz', None),\n",
       " ('SW480 cancer cells', None, 'GSM21713.CEL.gz', None),\n",
       " ('SW480 cancer cells', None, 'GSM21714.CEL.gz', None),\n",
       " ('NK cells', 'CD56dim', 'MHH0210HG_U133A.CEL', None),\n",
       " ('NK cells', 'CD56dim', 'MHH0248HG-U133A.CEL', None),\n",
       " ('NK cells', 'CD56bright', 'MHH0211HG_U133A.CEL', None),\n",
       " ('NK cells', 'CD56bright', 'MHH0249HG-U133A.CEL', None),\n",
       " ('Normal mucosa', 'Colon', 'CSS_COLON_N_1.CEL', None),\n",
       " ('Normal mucosa', 'Colon', 'CSS_COLON_N_10.CEL', None),\n",
       " ('Normal mucosa', 'Colon', 'CSS_COLON_N_11.CEL', None),\n",
       " ('Normal mucosa', 'Colon', 'CSS_COLON_N_12.CEL', None),\n",
       " ('Normal mucosa', 'Colon', 'CSS_COLON_N_13.CEL', None),\n",
       " ('Normal mucosa', 'Colon', 'CSS_COLON_N_14.CEL', None),\n",
       " ('Normal mucosa', 'Colon', 'CSS_COLON_N_15.CEL', None),\n",
       " ('Normal mucosa', 'Colon', 'CSS_COLON_N_16.CEL', None),\n",
       " ('Normal mucosa', 'Colon', 'CSS_COLON_N_17.CEL', None),\n",
       " ('Normal mucosa', 'Colon', 'CSS_COLON_N_18.CEL', None),\n",
       " ('Normal mucosa', 'Colon', 'CSS_COLON_N_19.CEL', None),\n",
       " ('Normal mucosa', 'Colon', 'CSS_COLON_N_2.CEL', None),\n",
       " ('Normal mucosa', 'Colon', 'CSS_COLON_N_20.CEL', None),\n",
       " ('Normal mucosa', 'Colon', 'CSS_COLON_N_21.CEL', None),\n",
       " ('Normal mucosa', 'Colon', 'CSS_COLON_N_22.CEL', None),\n",
       " ('Normal mucosa', 'Colon', 'CSS_COLON_N_23.CEL', None),\n",
       " ('Normal mucosa', 'Colon', 'CSS_COLON_N_3.CEL', None),\n",
       " ('Normal mucosa', 'Colon', 'CSS_COLON_N_4.CEL', None),\n",
       " ('Normal mucosa', 'Colon', 'CSS_COLON_N_5.CEL', None),\n",
       " ('Normal mucosa', 'Colon', 'CSS_COLON_N_6.CEL', None),\n",
       " ('Normal mucosa', 'Colon', 'CSS_COLON_N_7.CEL', None),\n",
       " ('Normal mucosa', 'Colon', 'CSS_COLON_N_9.CEL', None)]"
      ]
     },
     "execution_count": 63,
     "metadata": {},
     "output_type": "execute_result"
    }
   ],
   "source": [
    "extra"
   ]
  },
  {
   "cell_type": "code",
   "execution_count": 64,
   "metadata": {
    "collapsed": false
   },
   "outputs": [
    {
     "name": "stdout",
     "output_type": "stream",
     "text": [
      "(67, 4)\n"
     ]
    },
    {
     "data": {
      "text/html": [
       "<div style=\"max-height:1000px;max-width:1500px;overflow:auto;\">\n",
       "<table border=\"1\" class=\"dataframe\">\n",
       "  <thead>\n",
       "    <tr style=\"text-align: right;\">\n",
       "      <th></th>\n",
       "      <th>type</th>\n",
       "      <th>subtype</th>\n",
       "      <th>filename</th>\n",
       "      <th>filename_low</th>\n",
       "    </tr>\n",
       "  </thead>\n",
       "  <tbody>\n",
       "    <tr>\n",
       "      <th>2 </th>\n",
       "      <td> dendritic</td>\n",
       "      <td>      6hr LPS</td>\n",
       "      <td>   A_LW_DC6hLPS_U133A_200503.CEL</td>\n",
       "      <td>   a_lw_dc6hlps_u133a_200503.cel</td>\n",
       "    </tr>\n",
       "    <tr>\n",
       "      <th>6 </th>\n",
       "      <td> dendritic</td>\n",
       "      <td>      6hr LPS</td>\n",
       "      <td>  A_SZ_6hLPSDC2_U133A_250603.CEL</td>\n",
       "      <td>  a_sz_6hlpsdc2_u133a_250603.cel</td>\n",
       "    </tr>\n",
       "    <tr>\n",
       "      <th>10</th>\n",
       "      <td> dendritic</td>\n",
       "      <td>     48hr LPS</td>\n",
       "      <td>  A_LW_DC48hLPS_U133A_200503.CEL</td>\n",
       "      <td>  a_lw_dc48hlps_u133a_200503.cel</td>\n",
       "    </tr>\n",
       "    <tr>\n",
       "      <th>14</th>\n",
       "      <td> dendritic</td>\n",
       "      <td>     48hr LPS</td>\n",
       "      <td> A_SZ_48hLPSDC2_U133A_250603.CEL</td>\n",
       "      <td> a_sz_48hlpsdc2_u133a_250603.cel</td>\n",
       "    </tr>\n",
       "    <tr>\n",
       "      <th>17</th>\n",
       "      <td> dendritic</td>\n",
       "      <td> 6hr LPS + HC</td>\n",
       "      <td>       A_LW_DC6hLPS_HC_U133A.CEL</td>\n",
       "      <td>       a_lw_dc6hlps_hc_u133a.cel</td>\n",
       "    </tr>\n",
       "  </tbody>\n",
       "</table>\n",
       "</div>"
      ],
      "text/plain": [
       "         type       subtype                         filename  \\\n",
       "2   dendritic       6hr LPS    A_LW_DC6hLPS_U133A_200503.CEL   \n",
       "6   dendritic       6hr LPS   A_SZ_6hLPSDC2_U133A_250603.CEL   \n",
       "10  dendritic      48hr LPS   A_LW_DC48hLPS_U133A_200503.CEL   \n",
       "14  dendritic      48hr LPS  A_SZ_48hLPSDC2_U133A_250603.CEL   \n",
       "17  dendritic  6hr LPS + HC        A_LW_DC6hLPS_HC_U133A.CEL   \n",
       "\n",
       "                       filename_low  \n",
       "2     a_lw_dc6hlps_u133a_200503.cel  \n",
       "6    a_sz_6hlpsdc2_u133a_250603.cel  \n",
       "10   a_lw_dc48hlps_u133a_200503.cel  \n",
       "14  a_sz_48hlpsdc2_u133a_250603.cel  \n",
       "17        a_lw_dc6hlps_hc_u133a.cel  "
      ]
     },
     "execution_count": 64,
     "metadata": {},
     "output_type": "execute_result"
    }
   ],
   "source": [
    "all_bindea_samples = pd.concat([selected, pd.DataFrame(extra,columns=selected.columns)])\n",
    "print all_bindea_samples.shape\n",
    "all_bindea_samples.head()"
   ]
  },
  {
   "cell_type": "markdown",
   "metadata": {},
   "source": [
    "### done. export"
   ]
  },
  {
   "cell_type": "code",
   "execution_count": 65,
   "metadata": {
    "collapsed": true
   },
   "outputs": [],
   "source": [
    "all_bindea_samples.to_csv('cell_type_in_each_sample.tsv', sep='\\t')"
   ]
  },
  {
   "cell_type": "code",
   "execution_count": 66,
   "metadata": {
    "collapsed": false
   },
   "outputs": [
    {
     "data": {
      "text/plain": [
       "type                subtype      \n",
       "Bcell               CD19+             2\n",
       "Mastcell            Contrl            2\n",
       "                    IgE               2\n",
       "NK cells            CD56bright        2\n",
       "                    CD56dim           2\n",
       "Normal mucosa       Colon            22\n",
       "SW480 cancer cells  0                 3\n",
       "Tcell               CCR7+             1\n",
       "                    CCR7-             1\n",
       "                    CD8               5\n",
       "                    Th1               2\n",
       "                    Th2               2\n",
       "dendritic           48hr LPS          2\n",
       "                    48hr LPS + HC     2\n",
       "                    6hr LPS           2\n",
       "                    6hr LPS + HC      2\n",
       "                    Immature          2\n",
       "eosinophils         Control           1\n",
       "                    PMA               1\n",
       "macrophage          LPS               2\n",
       "                    LPS + HC          2\n",
       "                    contorl           2\n",
       "neutrophils         Contrl            2\n",
       "                    LPS               1\n",
       "dtype: int64"
      ]
     },
     "execution_count": 66,
     "metadata": {},
     "output_type": "execute_result"
    }
   ],
   "source": [
    "all_bindea_samples.fillna(0).groupby(['type', 'subtype']).size() # groupby throws out nulls"
   ]
  },
  {
   "cell_type": "code",
   "execution_count": 68,
   "metadata": {
    "collapsed": true
   },
   "outputs": [],
   "source": [
    "df=all_bindea_samples"
   ]
  },
  {
   "cell_type": "markdown",
   "metadata": {
    "collapsed": true
   },
   "source": [
    "## classifying the types further\n",
    "\n",
    "<img src=\"https://upload.wikimedia.org/wikipedia/commons/thumb/f/f0/Hematopoiesis_simple.svg/2000px-Hematopoiesis_simple.svg.png\" width=\"75%\" />\n",
    "\n",
    "Notes:\n",
    "\n",
    "* mature DC = activated.\n",
    "* Tcm: T central memory -- express CCR7\n",
    "* Tem: T effector memory -- do not express CCR7\n",
    "* T helper cells encompass Th1, Th2, Th17. They express CD4 -- thus called CD4+.\n",
    "* cytotoxic cells: CD8+ T cell, NK cells\n",
    "* blood vessels: same as myeloid cells, which give monocytes, macrophages, dendritic cells, neutrophils, eosinophils (myeloid is innate immune sys)\n",
    "* lymph vessels: same as lymphoid cells, meaning T,B,NK (lymphoid is adaptive immune sys)\n",
    "* dendritic cells are either lymphoid or myeloid???\n",
    ">  CD8alpha+ DCs and CD8alpha- DCs are\n",
    "considered as lymphoid- and myeloidderived,\n",
    "respectively, because CD8a1 but\n",
    "not CD8a2 splenic DCs were generated\n",
    "from lymphoid CD4low precursors, devoid\n",
    "of myeloid reconstitution potential. Although\n",
    "CD8a2 DCs were first described\n",
    "as negative for CD4, our results demonstrate\n",
    "that approximately 70% of them are\n",
    "CD41. (http://www.bloodjournal.org/content/bloodjournal/96/7/2511.full.pdf?sso-checked=true)\n",
    "    * but http://linkage.garvan.unsw.edu.au/public/microarrays/Arthritis_Inflammation/human/dentritic/index.html says they were generated from monocytes, so these dendritic samples are myeloid\n",
    "\n",
    "**Where are the following???**\n",
    "\n",
    "* pDC: dednritic cells CD123+ CD303+ CD304+ CD11c- CD14-\n",
    "* Th17\n",
    "* TReg (regulatory T cells, which express CD4, Foxp3, CD25)\n",
    "\n",
    "-----\n",
    "\n",
    "Let's produce a list of samples for each type."
   ]
  },
  {
   "cell_type": "code",
   "execution_count": 81,
   "metadata": {
    "collapsed": false
   },
   "outputs": [],
   "source": [
    "Thelper=df[(df['type']=='Tcell') & (df['subtype'].isin(['Th1','Th2', 'Th17']))]\n",
    "myeloid=df[(df['type'].isin(['Mastcell','eosinophils', 'macrophage', 'neutrophils', 'dendritic']))]\n",
    "lymphoid=df[(df['type'].isin(['Tcell','Bcell', 'NK cells']))]"
   ]
  },
  {
   "cell_type": "code",
   "execution_count": null,
   "metadata": {
    "collapsed": true
   },
   "outputs": [],
   "source": []
  },
  {
   "cell_type": "code",
   "execution_count": null,
   "metadata": {
    "collapsed": true
   },
   "outputs": [],
   "source": []
  },
  {
   "cell_type": "code",
   "execution_count": null,
   "metadata": {
    "collapsed": true
   },
   "outputs": [],
   "source": []
  },
  {
   "cell_type": "code",
   "execution_count": 75,
   "metadata": {
    "collapsed": false
   },
   "outputs": [
    {
     "data": {
      "text/html": [
       "<div style=\"max-height:1000px;max-width:1500px;overflow:auto;\">\n",
       "<table border=\"1\" class=\"dataframe\">\n",
       "  <thead>\n",
       "    <tr style=\"text-align: right;\">\n",
       "      <th></th>\n",
       "      <th>type</th>\n",
       "      <th>subtype</th>\n",
       "      <th>filename</th>\n",
       "      <th>filename_low</th>\n",
       "    </tr>\n",
       "  </thead>\n",
       "  <tbody>\n",
       "    <tr>\n",
       "      <th>0</th>\n",
       "      <td> Tcell</td>\n",
       "      <td> CD8</td>\n",
       "      <td> GSM155229.CEL.gz</td>\n",
       "      <td> None</td>\n",
       "    </tr>\n",
       "    <tr>\n",
       "      <th>1</th>\n",
       "      <td> Tcell</td>\n",
       "      <td> CD8</td>\n",
       "      <td> GSM155232.CEL.gz</td>\n",
       "      <td> None</td>\n",
       "    </tr>\n",
       "    <tr>\n",
       "      <th>2</th>\n",
       "      <td> Tcell</td>\n",
       "      <td> CD8</td>\n",
       "      <td> GSM155234.CEL.gz</td>\n",
       "      <td> None</td>\n",
       "    </tr>\n",
       "    <tr>\n",
       "      <th>3</th>\n",
       "      <td> Tcell</td>\n",
       "      <td> CD8</td>\n",
       "      <td> GSM155236.CEL.gz</td>\n",
       "      <td> None</td>\n",
       "    </tr>\n",
       "    <tr>\n",
       "      <th>4</th>\n",
       "      <td> Tcell</td>\n",
       "      <td> CD8</td>\n",
       "      <td> GSM155238.CEL.gz</td>\n",
       "      <td> None</td>\n",
       "    </tr>\n",
       "  </tbody>\n",
       "</table>\n",
       "</div>"
      ],
      "text/plain": [
       "    type subtype          filename filename_low\n",
       "0  Tcell     CD8  GSM155229.CEL.gz         None\n",
       "1  Tcell     CD8  GSM155232.CEL.gz         None\n",
       "2  Tcell     CD8  GSM155234.CEL.gz         None\n",
       "3  Tcell     CD8  GSM155236.CEL.gz         None\n",
       "4  Tcell     CD8  GSM155238.CEL.gz         None"
      ]
     },
     "execution_count": 75,
     "metadata": {},
     "output_type": "execute_result"
    }
   ],
   "source": [
    "Bcell = df[df['type']=='Bcell']\n",
    "Tcell=df[df['type']=='Tcell']\n",
    "Tcm=df[(df['type']=='Tcell') & (df['subtype']=='CCR7+')]\n",
    "Tem=df[(df['type']=='Tcell') & (df['subtype']=='CCR7-')]\n",
    "Tkiller=df[(df['type']=='Tcell') & (df['subtype']=='CD8')]\n"
   ]
  },
  {
   "cell_type": "code",
   "execution_count": null,
   "metadata": {
    "collapsed": true
   },
   "outputs": [],
   "source": []
  }
 ],
 "metadata": {
  "kernelspec": {
   "display_name": "Python 2",
   "language": "python",
   "name": "python2"
  },
  "language_info": {
   "codemirror_mode": {
    "name": "ipython",
    "version": 2
   },
   "file_extension": ".py",
   "mimetype": "text/x-python",
   "name": "python",
   "nbconvert_exporter": "python",
   "pygments_lexer": "ipython2",
   "version": "2.7.11"
  }
 },
 "nbformat": 4,
 "nbformat_minor": 0
}
