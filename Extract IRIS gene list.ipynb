{
 "cells": [
  {
   "cell_type": "code",
   "execution_count": 2,
   "metadata": {
    "collapsed": true
   },
   "outputs": [],
   "source": [
    "# %load ~/ipyhead\n",
    "import numpy as np\n",
    "import matplotlib.pyplot as plt\n",
    "import pandas as pd\n",
    "%matplotlib inline\n",
    "import seaborn as sns"
   ]
  },
  {
   "cell_type": "code",
   "execution_count": 6,
   "metadata": {
    "collapsed": false
   },
   "outputs": [
    {
     "data": {
      "text/html": [
       "<div style=\"max-height:1000px;max-width:1500px;overflow:auto;\">\n",
       "<table border=\"1\" class=\"dataframe\">\n",
       "  <thead>\n",
       "    <tr style=\"text-align: right;\">\n",
       "      <th></th>\n",
       "      <th>probe</th>\n",
       "      <th>unq</th>\n",
       "      <th>reference</th>\n",
       "      <th>name</th>\n",
       "      <th>description</th>\n",
       "      <th>category</th>\n",
       "      <th>highest immune level</th>\n",
       "      <th>immune/non-immune ratio</th>\n",
       "    </tr>\n",
       "  </thead>\n",
       "  <tbody>\n",
       "    <tr>\n",
       "      <th>0</th>\n",
       "      <td>   226416_at</td>\n",
       "      <td> UNQ21152</td>\n",
       "      <td>  LL:90459</td>\n",
       "      <td>  3'HEXO</td>\n",
       "      <td>                                3' exoribonuclease</td>\n",
       "      <td>       Multiple</td>\n",
       "      <td>  4764</td>\n",
       "      <td>  5.64</td>\n",
       "    </tr>\n",
       "    <tr>\n",
       "      <th>1</th>\n",
       "      <td>   231852_at</td>\n",
       "      <td> UNQ21152</td>\n",
       "      <td>  LL:90459</td>\n",
       "      <td>  3'HEXO</td>\n",
       "      <td>                                3' exoribonuclease</td>\n",
       "      <td>     Lymphocyte</td>\n",
       "      <td>  2471</td>\n",
       "      <td> 15.94</td>\n",
       "    </tr>\n",
       "    <tr>\n",
       "      <th>2</th>\n",
       "      <td>   228376_at</td>\n",
       "      <td> UNQ12525</td>\n",
       "      <td> LL:138121</td>\n",
       "      <td> a1/3GTP</td>\n",
       "      <td>        alpha-1,3-galactosyltransferase pseudogene</td>\n",
       "      <td> Dendritic Cell</td>\n",
       "      <td> 11008</td>\n",
       "      <td>  5.18</td>\n",
       "    </tr>\n",
       "    <tr>\n",
       "      <th>3</th>\n",
       "      <td> 216384_x_at</td>\n",
       "      <td> UNQ26094</td>\n",
       "      <td>      LL:3</td>\n",
       "      <td>    A2MP</td>\n",
       "      <td>                  alpha-2-macroglobulin pseudogene</td>\n",
       "      <td>       Multiple</td>\n",
       "      <td>  9331</td>\n",
       "      <td>  3.65</td>\n",
       "    </tr>\n",
       "    <tr>\n",
       "      <th>4</th>\n",
       "      <td>   202804_at</td>\n",
       "      <td>  UNQ4185</td>\n",
       "      <td>   LL:4363</td>\n",
       "      <td>   ABCC1</td>\n",
       "      <td> ATP-binding cassette, sub-family C (CFTR/MRP),...</td>\n",
       "      <td>        Myeloid</td>\n",
       "      <td>  4399</td>\n",
       "      <td>  3.98</td>\n",
       "    </tr>\n",
       "  </tbody>\n",
       "</table>\n",
       "</div>"
      ],
      "text/plain": [
       "         probe       unq  reference     name  \\\n",
       "0    226416_at  UNQ21152   LL:90459   3'HEXO   \n",
       "1    231852_at  UNQ21152   LL:90459   3'HEXO   \n",
       "2    228376_at  UNQ12525  LL:138121  a1/3GTP   \n",
       "3  216384_x_at  UNQ26094       LL:3     A2MP   \n",
       "4    202804_at   UNQ4185    LL:4363    ABCC1   \n",
       "\n",
       "                                         description        category  \\\n",
       "0                                 3' exoribonuclease        Multiple   \n",
       "1                                 3' exoribonuclease      Lymphocyte   \n",
       "2         alpha-1,3-galactosyltransferase pseudogene  Dendritic Cell   \n",
       "3                   alpha-2-macroglobulin pseudogene        Multiple   \n",
       "4  ATP-binding cassette, sub-family C (CFTR/MRP),...         Myeloid   \n",
       "\n",
       "   highest immune level  immune/non-immune ratio  \n",
       "0                  4764                     5.64  \n",
       "1                  2471                    15.94  \n",
       "2                 11008                     5.18  \n",
       "3                  9331                     3.65  \n",
       "4                  4399                     3.98  "
      ]
     },
     "execution_count": 6,
     "metadata": {},
     "output_type": "execute_result"
    }
   ],
   "source": [
    "df = pd.read_csv('iris.tsv', sep='\\t')\n",
    "df.columns = map(str.lower, df.columns)\n",
    "df.head()"
   ]
  },
  {
   "cell_type": "markdown",
   "metadata": {},
   "source": [
    "### Extract list of genes by cell type\n",
    "\n",
    "Output is in `iris_genes_by_category.csv`. Open in excel and copy-paste any column into DAVID. Probe column is Affymetrix 3' IVT ID.\n",
    "\n",
    "DAVID is at : https://david-d.ncifcrf.gov\n",
    "\n",
    "Use `Functional Annotation Chart`. Enable FDR in options (divide it by 100 to get proper FDR)."
   ]
  },
  {
   "cell_type": "code",
   "execution_count": 7,
   "metadata": {
    "collapsed": false
   },
   "outputs": [
    {
     "data": {
      "text/plain": [
       "Multiple          1037\n",
       "Myeloid            449\n",
       "Lymphocyte         302\n",
       "B Cell             121\n",
       "Monocyte           103\n",
       "T Cell              94\n",
       "Dendritic Cell      86\n",
       "Neutrophil          55\n",
       "NK Cell             24\n",
       "dtype: int64"
      ]
     },
     "execution_count": 7,
     "metadata": {},
     "output_type": "execute_result"
    }
   ],
   "source": [
    "df.category.value_counts()"
   ]
  },
  {
   "cell_type": "code",
   "execution_count": 14,
   "metadata": {
    "collapsed": false
   },
   "outputs": [
    {
     "data": {
      "text/plain": [
       "array(['57082_at', '221790_s_at', '219918_s_at', '219528_s_at',\n",
       "       '228597_at', '241871_at', '225297_at', '203418_at', '213226_at',\n",
       "       '214710_s_at', '228729_at', '202705_at', '213539_at', '205456_at',\n",
       "       '206804_at', '230489_at', '213958_at', '211900_x_at', '211893_x_at',\n",
       "       '205758_at', '207979_s_at', '215332_s_at', '210559_s_at',\n",
       "       '203214_x_at', '203213_at', '223381_at', '226661_at', '224753_at',\n",
       "       '204172_at', '236341_at', '234362_s_at', '231794_at', '221331_x_at',\n",
       "       '211469_s_at', '206974_at', '203385_at', '211272_s_at', '222875_at',\n",
       "       '227607_at', '200664_s_at', '228069_at', '204794_at', '222847_s_at',\n",
       "       '236787_at', '234440_at', '228273_at', '224634_at', '225520_at',\n",
       "       '208524_at', '206666_at', '205436_s_at', '228266_s_at', '221756_at',\n",
       "       '207165_at', '223229_at', '210439_at', '234408_at', '222974_at',\n",
       "       '208193_at', '235046_at', '236641_at', '206486_at', '221558_s_at',\n",
       "       '202595_s_at', '209840_s_at', '204825_at', '227686_at', '227598_at',\n",
       "       '222728_s_at', '212021_s_at', '224799_at', '226008_at',\n",
       "       '201013_s_at', '218009_s_at', '222740_at', '226034_at',\n",
       "       '201476_s_at', '222958_s_at', '204092_s_at', '205255_x_at',\n",
       "       '210972_x_at', '209671_x_at', '209670_at', '211902_x_at',\n",
       "       '234013_at', '201292_at', '210052_s_at', '217147_s_at', '227801_at',\n",
       "       '202954_at', '202779_s_at', '219836_at', '223383_at', '204026_s_at'], dtype=object)"
      ]
     },
     "execution_count": 14,
     "metadata": {},
     "output_type": "execute_result"
    }
   ],
   "source": [
    "df[df['category'] == 'T Cell'].probe.unique()"
   ]
  },
  {
   "cell_type": "code",
   "execution_count": 45,
   "metadata": {
    "collapsed": false
   },
   "outputs": [
    {
     "data": {
      "text/html": [
       "<div style=\"max-height:1000px;max-width:1500px;overflow:auto;\">\n",
       "<table border=\"1\" class=\"dataframe\">\n",
       "  <thead>\n",
       "    <tr style=\"text-align: right;\">\n",
       "      <th>category</th>\n",
       "      <th>B Cell</th>\n",
       "      <th>Dendritic Cell</th>\n",
       "      <th>Lymphocyte</th>\n",
       "      <th>Monocyte</th>\n",
       "      <th>Multiple</th>\n",
       "      <th>Myeloid</th>\n",
       "      <th>NK Cell</th>\n",
       "      <th>Neutrophil</th>\n",
       "      <th>T Cell</th>\n",
       "    </tr>\n",
       "  </thead>\n",
       "  <tbody>\n",
       "    <tr>\n",
       "      <th>probe</th>\n",
       "      <td> [222556_at, 206121_at, 213281_at, 238117_at, 2...</td>\n",
       "      <td> [228376_at, 213497_at, 202952_s_at, 207328_at,...</td>\n",
       "      <td> [231852_at, 206513_at, 227877_at, 221505_at, 2...</td>\n",
       "      <td> [219558_at, 212297_at, 242853_at, 203300_x_at,...</td>\n",
       "      <td> [226416_at, 216384_x_at, 227621_at, 200728_at,...</td>\n",
       "      <td> [202804_at, 228490_at, 226893_at, 204638_at, 2...</td>\n",
       "      <td> [220307_at, 222786_at, 219529_at, 206245_s_at,...</td>\n",
       "      <td> [229164_s_at, 226442_at, 212360_at, 218023_s_a...</td>\n",
       "      <td> [57082_at, 221790_s_at, 219918_s_at, 219528_s_...</td>\n",
       "    </tr>\n",
       "  </tbody>\n",
       "</table>\n",
       "</div>"
      ],
      "text/plain": [
       "category                                             B Cell  \\\n",
       "probe     [222556_at, 206121_at, 213281_at, 238117_at, 2...   \n",
       "\n",
       "category                                     Dendritic Cell  \\\n",
       "probe     [228376_at, 213497_at, 202952_s_at, 207328_at,...   \n",
       "\n",
       "category                                         Lymphocyte  \\\n",
       "probe     [231852_at, 206513_at, 227877_at, 221505_at, 2...   \n",
       "\n",
       "category                                           Monocyte  \\\n",
       "probe     [219558_at, 212297_at, 242853_at, 203300_x_at,...   \n",
       "\n",
       "category                                           Multiple  \\\n",
       "probe     [226416_at, 216384_x_at, 227621_at, 200728_at,...   \n",
       "\n",
       "category                                            Myeloid  \\\n",
       "probe     [202804_at, 228490_at, 226893_at, 204638_at, 2...   \n",
       "\n",
       "category                                            NK Cell  \\\n",
       "probe     [220307_at, 222786_at, 219529_at, 206245_s_at,...   \n",
       "\n",
       "category                                         Neutrophil  \\\n",
       "probe     [229164_s_at, 226442_at, 212360_at, 218023_s_a...   \n",
       "\n",
       "category                                             T Cell  \n",
       "probe     [57082_at, 221790_s_at, 219918_s_at, 219528_s_...  "
      ]
     },
     "execution_count": 45,
     "metadata": {},
     "output_type": "execute_result"
    }
   ],
   "source": [
    "genes_by_category = pd.DataFrame(df.groupby('category').probe.unique()).transpose()\n",
    "genes_by_category.head()"
   ]
  },
  {
   "cell_type": "code",
   "execution_count": 47,
   "metadata": {
    "collapsed": false
   },
   "outputs": [
    {
     "data": {
      "text/html": [
       "<div style=\"max-height:1000px;max-width:1500px;overflow:auto;\">\n",
       "<table border=\"1\" class=\"dataframe\">\n",
       "  <thead>\n",
       "    <tr style=\"text-align: right;\">\n",
       "      <th>category</th>\n",
       "      <th>B Cell</th>\n",
       "      <th>Dendritic Cell</th>\n",
       "      <th>Lymphocyte</th>\n",
       "      <th>Monocyte</th>\n",
       "      <th>Multiple</th>\n",
       "      <th>Myeloid</th>\n",
       "      <th>NK Cell</th>\n",
       "      <th>Neutrophil</th>\n",
       "      <th>T Cell</th>\n",
       "    </tr>\n",
       "  </thead>\n",
       "  <tbody>\n",
       "    <tr>\n",
       "      <th>0</th>\n",
       "      <td> 222556_at</td>\n",
       "      <td>   228376_at</td>\n",
       "      <td>   231852_at</td>\n",
       "      <td>   219558_at</td>\n",
       "      <td>   226416_at</td>\n",
       "      <td>   202804_at</td>\n",
       "      <td>   220307_at</td>\n",
       "      <td> 229164_s_at</td>\n",
       "      <td>    57082_at</td>\n",
       "    </tr>\n",
       "    <tr>\n",
       "      <th>1</th>\n",
       "      <td> 206121_at</td>\n",
       "      <td>   213497_at</td>\n",
       "      <td>   206513_at</td>\n",
       "      <td>   212297_at</td>\n",
       "      <td> 216384_x_at</td>\n",
       "      <td>   228490_at</td>\n",
       "      <td>   222786_at</td>\n",
       "      <td>   226442_at</td>\n",
       "      <td> 221790_s_at</td>\n",
       "    </tr>\n",
       "    <tr>\n",
       "      <th>2</th>\n",
       "      <td> 213281_at</td>\n",
       "      <td> 202952_s_at</td>\n",
       "      <td>   227877_at</td>\n",
       "      <td>   242853_at</td>\n",
       "      <td>   227621_at</td>\n",
       "      <td>   226893_at</td>\n",
       "      <td>   219529_at</td>\n",
       "      <td>   212360_at</td>\n",
       "      <td> 219918_s_at</td>\n",
       "    </tr>\n",
       "    <tr>\n",
       "      <th>3</th>\n",
       "      <td> 238117_at</td>\n",
       "      <td>   207328_at</td>\n",
       "      <td>   221505_at</td>\n",
       "      <td> 203300_x_at</td>\n",
       "      <td>   200728_at</td>\n",
       "      <td>   204638_at</td>\n",
       "      <td> 206245_s_at</td>\n",
       "      <td> 218023_s_at</td>\n",
       "      <td> 219528_s_at</td>\n",
       "    </tr>\n",
       "    <tr>\n",
       "      <th>4</th>\n",
       "      <td> 243780_at</td>\n",
       "      <td>   205379_at</td>\n",
       "      <td> 208103_s_at</td>\n",
       "      <td> 221530_s_at</td>\n",
       "      <td> 200729_s_at</td>\n",
       "      <td> 205013_s_at</td>\n",
       "      <td> 201363_s_at</td>\n",
       "      <td>   208304_at</td>\n",
       "      <td>   228597_at</td>\n",
       "    </tr>\n",
       "  </tbody>\n",
       "</table>\n",
       "</div>"
      ],
      "text/plain": [
       "category     B Cell Dendritic Cell   Lymphocyte     Monocyte     Multiple  \\\n",
       "0         222556_at      228376_at    231852_at    219558_at    226416_at   \n",
       "1         206121_at      213497_at    206513_at    212297_at  216384_x_at   \n",
       "2         213281_at    202952_s_at    227877_at    242853_at    227621_at   \n",
       "3         238117_at      207328_at    221505_at  203300_x_at    200728_at   \n",
       "4         243780_at      205379_at  208103_s_at  221530_s_at  200729_s_at   \n",
       "\n",
       "category      Myeloid      NK Cell   Neutrophil       T Cell  \n",
       "0           202804_at    220307_at  229164_s_at     57082_at  \n",
       "1           228490_at    222786_at    226442_at  221790_s_at  \n",
       "2           226893_at    219529_at    212360_at  219918_s_at  \n",
       "3           204638_at  206245_s_at  218023_s_at  219528_s_at  \n",
       "4         205013_s_at  201363_s_at    208304_at    228597_at  "
      ]
     },
     "execution_count": 47,
     "metadata": {},
     "output_type": "execute_result"
    }
   ],
   "source": [
    "#pd.DataFrame({'B cell': test['B Cell'].iloc[0]})\n",
    "genes = pd.DataFrame([genes_by_category[c].iloc[0] for c in genes_by_category]).transpose()\n",
    "genes.columns = genes_by_category.columns\n",
    "genes.head()"
   ]
  },
  {
   "cell_type": "code",
   "execution_count": 48,
   "metadata": {
    "collapsed": false
   },
   "outputs": [
    {
     "data": {
      "text/html": [
       "<div style=\"max-height:1000px;max-width:1500px;overflow:auto;\">\n",
       "<table border=\"1\" class=\"dataframe\">\n",
       "  <thead>\n",
       "    <tr style=\"text-align: right;\">\n",
       "      <th>category</th>\n",
       "      <th>B Cell</th>\n",
       "      <th>Dendritic Cell</th>\n",
       "      <th>Lymphocyte</th>\n",
       "      <th>Monocyte</th>\n",
       "      <th>Multiple</th>\n",
       "      <th>Myeloid</th>\n",
       "      <th>NK Cell</th>\n",
       "      <th>Neutrophil</th>\n",
       "      <th>T Cell</th>\n",
       "    </tr>\n",
       "  </thead>\n",
       "  <tbody>\n",
       "    <tr>\n",
       "      <th>1032</th>\n",
       "      <td> None</td>\n",
       "      <td> None</td>\n",
       "      <td> None</td>\n",
       "      <td> None</td>\n",
       "      <td>   203739_at</td>\n",
       "      <td> None</td>\n",
       "      <td> None</td>\n",
       "      <td> None</td>\n",
       "      <td> None</td>\n",
       "    </tr>\n",
       "    <tr>\n",
       "      <th>1033</th>\n",
       "      <td> None</td>\n",
       "      <td> None</td>\n",
       "      <td> None</td>\n",
       "      <td> None</td>\n",
       "      <td>   240013_at</td>\n",
       "      <td> None</td>\n",
       "      <td> None</td>\n",
       "      <td> None</td>\n",
       "      <td> None</td>\n",
       "    </tr>\n",
       "    <tr>\n",
       "      <th>1034</th>\n",
       "      <td> None</td>\n",
       "      <td> None</td>\n",
       "      <td> None</td>\n",
       "      <td> None</td>\n",
       "      <td> 205039_s_at</td>\n",
       "      <td> None</td>\n",
       "      <td> None</td>\n",
       "      <td> None</td>\n",
       "      <td> None</td>\n",
       "    </tr>\n",
       "    <tr>\n",
       "      <th>1035</th>\n",
       "      <td> None</td>\n",
       "      <td> None</td>\n",
       "      <td> None</td>\n",
       "      <td> None</td>\n",
       "      <td> 223382_s_at</td>\n",
       "      <td> None</td>\n",
       "      <td> None</td>\n",
       "      <td> None</td>\n",
       "      <td> None</td>\n",
       "    </tr>\n",
       "    <tr>\n",
       "      <th>1036</th>\n",
       "      <td> None</td>\n",
       "      <td> None</td>\n",
       "      <td> None</td>\n",
       "      <td> None</td>\n",
       "      <td>   236125_at</td>\n",
       "      <td> None</td>\n",
       "      <td> None</td>\n",
       "      <td> None</td>\n",
       "      <td> None</td>\n",
       "    </tr>\n",
       "  </tbody>\n",
       "</table>\n",
       "</div>"
      ],
      "text/plain": [
       "category B Cell Dendritic Cell Lymphocyte Monocyte     Multiple Myeloid  \\\n",
       "1032       None           None       None     None    203739_at    None   \n",
       "1033       None           None       None     None    240013_at    None   \n",
       "1034       None           None       None     None  205039_s_at    None   \n",
       "1035       None           None       None     None  223382_s_at    None   \n",
       "1036       None           None       None     None    236125_at    None   \n",
       "\n",
       "category NK Cell Neutrophil T Cell  \n",
       "1032        None       None   None  \n",
       "1033        None       None   None  \n",
       "1034        None       None   None  \n",
       "1035        None       None   None  \n",
       "1036        None       None   None  "
      ]
     },
     "execution_count": 48,
     "metadata": {},
     "output_type": "execute_result"
    }
   ],
   "source": [
    "genes.tail()"
   ]
  },
  {
   "cell_type": "code",
   "execution_count": 49,
   "metadata": {
    "collapsed": true
   },
   "outputs": [],
   "source": [
    "genes.to_csv('iris_genes_by_category.csv')"
   ]
  },
  {
   "cell_type": "code",
   "execution_count": null,
   "metadata": {
    "collapsed": true
   },
   "outputs": [],
   "source": []
  }
 ],
 "metadata": {
  "kernelspec": {
   "display_name": "Python 2",
   "language": "python",
   "name": "python2"
  },
  "language_info": {
   "codemirror_mode": {
    "name": "ipython",
    "version": 2
   },
   "file_extension": ".py",
   "mimetype": "text/x-python",
   "name": "python",
   "nbconvert_exporter": "python",
   "pygments_lexer": "ipython2",
   "version": "2.7.11"
  }
 },
 "nbformat": 4,
 "nbformat_minor": 0
}
