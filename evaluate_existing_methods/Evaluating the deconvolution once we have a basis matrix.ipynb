{
 "cells": [
  {
   "cell_type": "markdown",
   "metadata": {
    "toc": "true"
   },
   "source": [
    "# Table of Contents\n",
    " <p><div class=\"lev1 toc-item\"><a href=\"#Overview\" data-toc-modified-id=\"Overview-1\"><span class=\"toc-item-num\">1&nbsp;&nbsp;</span>Overview</a></div><div class=\"lev1 toc-item\"><a href=\"#Mixtures-that-come-with-Cibersort\" data-toc-modified-id=\"Mixtures-that-come-with-Cibersort-2\"><span class=\"toc-item-num\">2&nbsp;&nbsp;</span>Mixtures that come with Cibersort</a></div><div class=\"lev4 toc-item\"><a href=\"#Investigating-how-to-make-a-mixture-like-this\" data-toc-modified-id=\"Investigating-how-to-make-a-mixture-like-this-2001\"><span class=\"toc-item-num\">2.0.0.1&nbsp;&nbsp;</span>Investigating how to make a mixture like this</a></div><div class=\"lev1 toc-item\"><a href=\"#Simple-mixtures\" data-toc-modified-id=\"Simple-mixtures-3\"><span class=\"toc-item-num\">3&nbsp;&nbsp;</span>Simple mixtures</a></div><div class=\"lev2 toc-item\"><a href=\"#reference-profiles,-w/o-noise-and-w/-two-types-of-noise\" data-toc-modified-id=\"reference-profiles,-w/o-noise-and-w/-two-types-of-noise-31\"><span class=\"toc-item-num\">3.1&nbsp;&nbsp;</span>reference profiles, w/o noise and w/ two types of noise</a></div><div class=\"lev3 toc-item\"><a href=\"#run-this-through-cibersort\" data-toc-modified-id=\"run-this-through-cibersort-311\"><span class=\"toc-item-num\">3.1.1&nbsp;&nbsp;</span>run this through cibersort</a></div><div class=\"lev2 toc-item\"><a href=\"#2-raw-lines-from-same-publication-(Cib)\" data-toc-modified-id=\"2-raw-lines-from-same-publication-(Cib)-32\"><span class=\"toc-item-num\">3.2&nbsp;&nbsp;</span>2 raw lines from same publication (Cib)</a></div><div class=\"lev3 toc-item\"><a href=\"#run-cibersort-on-this\" data-toc-modified-id=\"run-cibersort-on-this-321\"><span class=\"toc-item-num\">3.2.1&nbsp;&nbsp;</span>run cibersort on this</a></div><div class=\"lev1 toc-item\"><a href=\"#Give-Cibersort-a-hard-time\" data-toc-modified-id=\"Give-Cibersort-a-hard-time-4\"><span class=\"toc-item-num\">4&nbsp;&nbsp;</span>Give Cibersort a hard time</a></div><div class=\"lev2 toc-item\"><a href=\"#reference-profiles-(warmup)\" data-toc-modified-id=\"reference-profiles-(warmup)-41\"><span class=\"toc-item-num\">4.1&nbsp;&nbsp;</span>reference profiles (warmup)</a></div><div class=\"lev3 toc-item\"><a href=\"#run-through-cibersort\" data-toc-modified-id=\"run-through-cibersort-411\"><span class=\"toc-item-num\">4.1.1&nbsp;&nbsp;</span>run through cibersort</a></div><div class=\"lev2 toc-item\"><a href=\"#raw-lines-(should-be-quite-hard)\" data-toc-modified-id=\"raw-lines-(should-be-quite-hard)-42\"><span class=\"toc-item-num\">4.2&nbsp;&nbsp;</span>raw lines (should be quite hard)</a></div><div class=\"lev3 toc-item\"><a href=\"#run-through-cibersort\" data-toc-modified-id=\"run-through-cibersort-421\"><span class=\"toc-item-num\">4.2.1&nbsp;&nbsp;</span>run through cibersort</a></div><div class=\"lev1 toc-item\"><a href=\"#Superset-classification\" data-toc-modified-id=\"Superset-classification-5\"><span class=\"toc-item-num\">5&nbsp;&nbsp;</span>Superset classification</a></div><div class=\"lev2 toc-item\"><a href=\"#run-through-cibersort\" data-toc-modified-id=\"run-through-cibersort-51\"><span class=\"toc-item-num\">5.1&nbsp;&nbsp;</span>run through cibersort</a></div><div class=\"lev2 toc-item\"><a href=\"#analyze-as-above\" data-toc-modified-id=\"analyze-as-above-52\"><span class=\"toc-item-num\">5.2&nbsp;&nbsp;</span>analyze as above</a></div><div class=\"lev3 toc-item\"><a href=\"#Observations:\" data-toc-modified-id=\"Observations:-521\"><span class=\"toc-item-num\">5.2.1&nbsp;&nbsp;</span>Observations:</a></div>"
   ]
  },
  {
   "cell_type": "code",
   "execution_count": 4,
   "metadata": {
    "ExecuteTime": {
     "end_time": "2016-12-08T21:12:41.021384",
     "start_time": "2016-12-08T21:12:41.013210"
    },
    "code_folding": [],
    "collapsed": true,
    "init_cell": true,
    "run_control": {
     "frozen": false,
     "read_only": false
    }
   },
   "outputs": [],
   "source": [
    "# %load ~/ipyhead\n",
    "import numpy as np\n",
    "import matplotlib.pyplot as plt\n",
    "import pandas as pd\n",
    "%matplotlib inline\n",
    "import seaborn as sns"
   ]
  },
  {
   "cell_type": "code",
   "execution_count": 5,
   "metadata": {
    "ExecuteTime": {
     "end_time": "2016-12-08T21:12:41.045893",
     "start_time": "2016-12-08T21:12:41.024554"
    },
    "collapsed": true,
    "init_cell": true,
    "run_control": {
     "frozen": false,
     "read_only": false
    }
   },
   "outputs": [],
   "source": [
    "from io import StringIO"
   ]
  },
  {
   "cell_type": "markdown",
   "metadata": {},
   "source": [
    "# Overview\n",
    "\n",
    "Let's try using LM22 to deconvolve some mixtures that we can create.\n",
    "\n",
    "Here is an example of how to call CIBERSORT: \n",
    "`java -Xmx3g -Xms3g -jar CIBERSORT.jar -M ExampleMixtures-GEPs.txt -B LM22.txt`\n",
    "\n",
    "Just have to do this from R console first:\n",
    "```\n",
    "library(Rserve)\n",
    "Rserve(args=\"--no-save\")\n",
    "```\n",
    "\n",
    "\n",
    "# Mixtures that come with Cibersort\n"
   ]
  },
  {
   "cell_type": "code",
   "execution_count": 9,
   "metadata": {
    "collapsed": false,
    "run_control": {
     "frozen": false,
     "read_only": false
    }
   },
   "outputs": [
    {
     "data": {
      "text/html": [
       "<div>\n",
       "<table border=\"1\" class=\"dataframe\">\n",
       "  <thead>\n",
       "    <tr style=\"text-align: right;\">\n",
       "      <th></th>\n",
       "      <th>0</th>\n",
       "      <th>1</th>\n",
       "      <th>2</th>\n",
       "      <th>3</th>\n",
       "      <th>4</th>\n",
       "      <th>5</th>\n",
       "      <th>6</th>\n",
       "      <th>7</th>\n",
       "      <th>8</th>\n",
       "      <th>9</th>\n",
       "      <th>...</th>\n",
       "      <th>12</th>\n",
       "      <th>13</th>\n",
       "      <th>14</th>\n",
       "      <th>15</th>\n",
       "      <th>16</th>\n",
       "      <th>17</th>\n",
       "      <th>18</th>\n",
       "      <th>19</th>\n",
       "      <th>20</th>\n",
       "      <th>21</th>\n",
       "    </tr>\n",
       "  </thead>\n",
       "  <tbody>\n",
       "    <tr>\n",
       "      <th>0</th>\n",
       "      <td>0.18</td>\n",
       "      <td>0.16</td>\n",
       "      <td>0.13</td>\n",
       "      <td>0.11</td>\n",
       "      <td>0.09</td>\n",
       "      <td>0.07</td>\n",
       "      <td>0.06</td>\n",
       "      <td>0.05</td>\n",
       "      <td>0.04</td>\n",
       "      <td>0.03</td>\n",
       "      <td>...</td>\n",
       "      <td>0.01</td>\n",
       "      <td>0.01</td>\n",
       "      <td>0.01</td>\n",
       "      <td>0.01</td>\n",
       "      <td>0.00</td>\n",
       "      <td>0.00</td>\n",
       "      <td>0.00</td>\n",
       "      <td>0.00</td>\n",
       "      <td>0.00</td>\n",
       "      <td>0.00</td>\n",
       "    </tr>\n",
       "    <tr>\n",
       "      <th>1</th>\n",
       "      <td>0.20</td>\n",
       "      <td>0.00</td>\n",
       "      <td>0.19</td>\n",
       "      <td>0.00</td>\n",
       "      <td>0.18</td>\n",
       "      <td>0.00</td>\n",
       "      <td>0.10</td>\n",
       "      <td>0.00</td>\n",
       "      <td>0.09</td>\n",
       "      <td>0.00</td>\n",
       "      <td>...</td>\n",
       "      <td>0.05</td>\n",
       "      <td>0.00</td>\n",
       "      <td>0.04</td>\n",
       "      <td>0.00</td>\n",
       "      <td>0.04</td>\n",
       "      <td>0.00</td>\n",
       "      <td>0.02</td>\n",
       "      <td>0.00</td>\n",
       "      <td>0.02</td>\n",
       "      <td>0.00</td>\n",
       "    </tr>\n",
       "    <tr>\n",
       "      <th>2</th>\n",
       "      <td>0.00</td>\n",
       "      <td>0.00</td>\n",
       "      <td>0.01</td>\n",
       "      <td>0.01</td>\n",
       "      <td>0.01</td>\n",
       "      <td>0.02</td>\n",
       "      <td>0.03</td>\n",
       "      <td>0.05</td>\n",
       "      <td>0.07</td>\n",
       "      <td>0.11</td>\n",
       "      <td>...</td>\n",
       "      <td>0.11</td>\n",
       "      <td>0.07</td>\n",
       "      <td>0.05</td>\n",
       "      <td>0.03</td>\n",
       "      <td>0.02</td>\n",
       "      <td>0.01</td>\n",
       "      <td>0.01</td>\n",
       "      <td>0.01</td>\n",
       "      <td>0.00</td>\n",
       "      <td>0.00</td>\n",
       "    </tr>\n",
       "    <tr>\n",
       "      <th>3</th>\n",
       "      <td>0.17</td>\n",
       "      <td>0.12</td>\n",
       "      <td>0.08</td>\n",
       "      <td>0.06</td>\n",
       "      <td>0.03</td>\n",
       "      <td>0.02</td>\n",
       "      <td>0.01</td>\n",
       "      <td>0.00</td>\n",
       "      <td>0.00</td>\n",
       "      <td>0.00</td>\n",
       "      <td>...</td>\n",
       "      <td>0.00</td>\n",
       "      <td>0.00</td>\n",
       "      <td>0.00</td>\n",
       "      <td>0.01</td>\n",
       "      <td>0.02</td>\n",
       "      <td>0.03</td>\n",
       "      <td>0.06</td>\n",
       "      <td>0.08</td>\n",
       "      <td>0.12</td>\n",
       "      <td>0.17</td>\n",
       "    </tr>\n",
       "    <tr>\n",
       "      <th>4</th>\n",
       "      <td>0.00</td>\n",
       "      <td>0.00</td>\n",
       "      <td>0.00</td>\n",
       "      <td>0.00</td>\n",
       "      <td>0.00</td>\n",
       "      <td>0.00</td>\n",
       "      <td>0.00</td>\n",
       "      <td>0.01</td>\n",
       "      <td>0.03</td>\n",
       "      <td>0.04</td>\n",
       "      <td>...</td>\n",
       "      <td>0.02</td>\n",
       "      <td>0.04</td>\n",
       "      <td>0.09</td>\n",
       "      <td>0.11</td>\n",
       "      <td>0.08</td>\n",
       "      <td>0.05</td>\n",
       "      <td>0.04</td>\n",
       "      <td>0.07</td>\n",
       "      <td>0.14</td>\n",
       "      <td>0.20</td>\n",
       "    </tr>\n",
       "  </tbody>\n",
       "</table>\n",
       "<p>5 rows × 22 columns</p>\n",
       "</div>"
      ],
      "text/plain": [
       "     0     1     2     3     4     5     6     7     8     9   ...     12  \\\n",
       "0  0.18  0.16  0.13  0.11  0.09  0.07  0.06  0.05  0.04  0.03  ...   0.01   \n",
       "1  0.20  0.00  0.19  0.00  0.18  0.00  0.10  0.00  0.09  0.00  ...   0.05   \n",
       "2  0.00  0.00  0.01  0.01  0.01  0.02  0.03  0.05  0.07  0.11  ...   0.11   \n",
       "3  0.17  0.12  0.08  0.06  0.03  0.02  0.01  0.00  0.00  0.00  ...   0.00   \n",
       "4  0.00  0.00  0.00  0.00  0.00  0.00  0.00  0.01  0.03  0.04  ...   0.02   \n",
       "\n",
       "     13    14    15    16    17    18    19    20    21  \n",
       "0  0.01  0.01  0.01  0.00  0.00  0.00  0.00  0.00  0.00  \n",
       "1  0.00  0.04  0.00  0.04  0.00  0.02  0.00  0.02  0.00  \n",
       "2  0.07  0.05  0.03  0.02  0.01  0.01  0.01  0.00  0.00  \n",
       "3  0.00  0.00  0.01  0.02  0.03  0.06  0.08  0.12  0.17  \n",
       "4  0.04  0.09  0.11  0.08  0.05  0.04  0.07  0.14  0.20  \n",
       "\n",
       "[5 rows x 22 columns]"
      ]
     },
     "execution_count": 9,
     "metadata": {},
     "output_type": "execute_result"
    }
   ],
   "source": [
    "example_gt = pd.read_csv('~/CIBERSORT_package/ExampleMixtures-GroundTruth.txt', sep='\\t', header=None)\n",
    "example_gt.head()"
   ]
  },
  {
   "cell_type": "code",
   "execution_count": 5,
   "metadata": {
    "collapsed": false,
    "run_control": {
     "frozen": false,
     "read_only": false
    }
   },
   "outputs": [
    {
     "name": "stdout",
     "output_type": "stream",
     "text": [
      ">===================Settings====================\n",
      ">Mixture file: /home/maxim/CIBERSORT_package/ExampleMixtures-GEPs.txt\n",
      ">Signature matrix file: LM22.txt\n",
      ">===============================================\n",
      ">R version 3.2.2 (2015-08-14)\n",
      ">==================CIBERSORT====================\n",
      "Column\tB cells naive\tB cells memory\tPlasma cells\tT cells CD8\tT cells CD4 naive\tT cells CD4 memory resting\tT cells CD4 memory activated\tT cells follicular helper\tT cells regulatory (Tregs)\tT cells gamma delta\tNK cells resting\tNK cells activated\tMonocytes\tMacrophages M0\tMacrophages M1\tMacrophages M2\tDendritic cells resting\tDendritic cells activated\tMast cells resting\tMast cells activated\tEosinophils\tNeutrophils\tP-value\tPearson Correlation\tRMSE\t\n",
      "0\t0.18036348084728407\t0.1597201742966229\t0.1229443677357994\t0.11118115089840458\t0.08789475799695583\t0.07119276840081966\t0.061376704067022954\t0.052551521180425255\t0.038872128994223445\t0.03155616550195219\t0.019968249814539235\t0.019982174035572457\t0.010548346395201084\t0.010333316456025126\t0.010068661234469265\t0.010470882954216486\t1.4235750966122825E-4\t6.249944440062222E-5\t4.8083995949245483E-4\t0\t2.894522769117787E-4\t0\t0.0\t0.99948437366549\t0.4138379498512216\n",
      "1\t0.19952126382734467\t0\t0.18314677175615052\t3.196542703558663E-4\t0.17945837162752415\t0\t0.09802727158878477\t1.0119056586276611E-5\t0.09028046784038297\t5.419937687356133E-4\t0.07936027067848477\t0\t0.04968384870126321\t6.988820765432083E-5\t0.04011764266163714\t0\t0.039596215058564324\t0\t0.020101611956682686\t0\t0.019764608999848783\t0\t0.0\t0.9998562567350834\t0.48203598712030593\n",
      "2\t0\t4.3969196623430516E-4\t0.010197052069923444\t0.010333383824855978\t0.011008942990605428\t0.020035292524956776\t0.030857566129407675\t0.05167674999714037\t0.07306026042232197\t0.1129706229302327\t0.17689189212855125\t0.1788755688720893\t0.11400559867801092\t0.07256876092998803\t0.052228385585140605\t0.03170041048368853\t0.021063580239782585\t0.010642836466773102\t0.009706743051860388\t0.011311251136560374\t5.642333564765483E-5\t3.6898623622861037E-4\t0.0\t0.9997179070135496\t0.3966025254782171\n",
      "3\t0.17512305409244386\t0.12353092238537257\t0.0782721763862743\t0.061083932423861294\t0.030512862746376435\t0.020227702510555973\t0.010045107768656211\t1.2750842320041156E-4\t0\t0\t0\t1.649361535303503E-4\t0\t0\t0\t0.009935390986309857\t0.02005374971332987\t0.030590045609884715\t0.06277031932004322\t0.08218254012667592\t0.12111314980370896\t0.17426660154977608\t0.0\t0.9999000049279075\t0.49107564921358327\n",
      "4\t3.092443373997152E-5\t0\t1.3394367932660624E-5\t1.0013758515406707E-4\t0\t0\t0\t0.01042010032556974\t0.030981960317758527\t0.040364904881237645\t0.03003781323381484\t0.02112628766075651\t0.019843579626375764\t0.041334076952836085\t0.09359418541829248\t0.11378456540707504\t0.08078342096864656\t0.050982422582159535\t0.03966975550193656\t0.07392633690245791\t0.14436526001845174\t0.20864087381580432\t0.0\t0.9996213624490291\t0.5123059526710043\n"
     ]
    }
   ],
   "source": [
    "!java -Xmx3g -Xms3g -jar ~/CIBERSORT_package/CIBERSORT.jar -M ~/CIBERSORT_package/ExampleMixtures-GEPs.txt -B LM22.txt"
   ]
  },
  {
   "cell_type": "code",
   "execution_count": 12,
   "metadata": {
    "collapsed": false,
    "run_control": {
     "frozen": false,
     "read_only": false
    }
   },
   "outputs": [
    {
     "data": {
      "text/html": [
       "<div>\n",
       "<table border=\"1\" class=\"dataframe\">\n",
       "  <thead>\n",
       "    <tr style=\"text-align: right;\">\n",
       "      <th></th>\n",
       "      <th>Column</th>\n",
       "      <th>B cells naive</th>\n",
       "      <th>B cells memory</th>\n",
       "      <th>Plasma cells</th>\n",
       "      <th>T cells CD8</th>\n",
       "      <th>T cells CD4 naive</th>\n",
       "      <th>T cells CD4 memory resting</th>\n",
       "      <th>T cells CD4 memory activated</th>\n",
       "      <th>T cells follicular helper</th>\n",
       "      <th>T cells regulatory (Tregs)</th>\n",
       "      <th>...</th>\n",
       "      <th>Dendritic cells resting</th>\n",
       "      <th>Dendritic cells activated</th>\n",
       "      <th>Mast cells resting</th>\n",
       "      <th>Mast cells activated</th>\n",
       "      <th>Eosinophils</th>\n",
       "      <th>Neutrophils</th>\n",
       "      <th>P-value</th>\n",
       "      <th>Pearson Correlation</th>\n",
       "      <th>RMSE</th>\n",
       "      <th>Unnamed: 26</th>\n",
       "    </tr>\n",
       "  </thead>\n",
       "  <tbody>\n",
       "    <tr>\n",
       "      <th>0</th>\n",
       "      <td>0</td>\n",
       "      <td>0.180363</td>\n",
       "      <td>0.159720</td>\n",
       "      <td>0.122944</td>\n",
       "      <td>0.111181</td>\n",
       "      <td>0.087895</td>\n",
       "      <td>0.071193</td>\n",
       "      <td>0.061377</td>\n",
       "      <td>0.052552</td>\n",
       "      <td>0.038872</td>\n",
       "      <td>...</td>\n",
       "      <td>0.000142</td>\n",
       "      <td>0.000062</td>\n",
       "      <td>0.000481</td>\n",
       "      <td>0.000000</td>\n",
       "      <td>0.000289</td>\n",
       "      <td>0.000000</td>\n",
       "      <td>0.0</td>\n",
       "      <td>0.999484</td>\n",
       "      <td>0.413838</td>\n",
       "      <td>NaN</td>\n",
       "    </tr>\n",
       "    <tr>\n",
       "      <th>1</th>\n",
       "      <td>1</td>\n",
       "      <td>0.199521</td>\n",
       "      <td>0.000000</td>\n",
       "      <td>0.183147</td>\n",
       "      <td>0.000320</td>\n",
       "      <td>0.179458</td>\n",
       "      <td>0.000000</td>\n",
       "      <td>0.098027</td>\n",
       "      <td>0.000010</td>\n",
       "      <td>0.090280</td>\n",
       "      <td>...</td>\n",
       "      <td>0.039596</td>\n",
       "      <td>0.000000</td>\n",
       "      <td>0.020102</td>\n",
       "      <td>0.000000</td>\n",
       "      <td>0.019765</td>\n",
       "      <td>0.000000</td>\n",
       "      <td>0.0</td>\n",
       "      <td>0.999856</td>\n",
       "      <td>0.482036</td>\n",
       "      <td>NaN</td>\n",
       "    </tr>\n",
       "    <tr>\n",
       "      <th>2</th>\n",
       "      <td>2</td>\n",
       "      <td>0.000000</td>\n",
       "      <td>0.000440</td>\n",
       "      <td>0.010197</td>\n",
       "      <td>0.010333</td>\n",
       "      <td>0.011009</td>\n",
       "      <td>0.020035</td>\n",
       "      <td>0.030858</td>\n",
       "      <td>0.051677</td>\n",
       "      <td>0.073060</td>\n",
       "      <td>...</td>\n",
       "      <td>0.021064</td>\n",
       "      <td>0.010643</td>\n",
       "      <td>0.009707</td>\n",
       "      <td>0.011311</td>\n",
       "      <td>0.000056</td>\n",
       "      <td>0.000369</td>\n",
       "      <td>0.0</td>\n",
       "      <td>0.999718</td>\n",
       "      <td>0.396603</td>\n",
       "      <td>NaN</td>\n",
       "    </tr>\n",
       "    <tr>\n",
       "      <th>3</th>\n",
       "      <td>3</td>\n",
       "      <td>0.175123</td>\n",
       "      <td>0.123531</td>\n",
       "      <td>0.078272</td>\n",
       "      <td>0.061084</td>\n",
       "      <td>0.030513</td>\n",
       "      <td>0.020228</td>\n",
       "      <td>0.010045</td>\n",
       "      <td>0.000128</td>\n",
       "      <td>0.000000</td>\n",
       "      <td>...</td>\n",
       "      <td>0.020054</td>\n",
       "      <td>0.030590</td>\n",
       "      <td>0.062770</td>\n",
       "      <td>0.082183</td>\n",
       "      <td>0.121113</td>\n",
       "      <td>0.174267</td>\n",
       "      <td>0.0</td>\n",
       "      <td>0.999900</td>\n",
       "      <td>0.491076</td>\n",
       "      <td>NaN</td>\n",
       "    </tr>\n",
       "    <tr>\n",
       "      <th>4</th>\n",
       "      <td>4</td>\n",
       "      <td>0.000031</td>\n",
       "      <td>0.000000</td>\n",
       "      <td>0.000013</td>\n",
       "      <td>0.000100</td>\n",
       "      <td>0.000000</td>\n",
       "      <td>0.000000</td>\n",
       "      <td>0.000000</td>\n",
       "      <td>0.010420</td>\n",
       "      <td>0.030982</td>\n",
       "      <td>...</td>\n",
       "      <td>0.080783</td>\n",
       "      <td>0.050982</td>\n",
       "      <td>0.039670</td>\n",
       "      <td>0.073926</td>\n",
       "      <td>0.144365</td>\n",
       "      <td>0.208641</td>\n",
       "      <td>0.0</td>\n",
       "      <td>0.999621</td>\n",
       "      <td>0.512306</td>\n",
       "      <td>NaN</td>\n",
       "    </tr>\n",
       "  </tbody>\n",
       "</table>\n",
       "<p>5 rows × 27 columns</p>\n",
       "</div>"
      ],
      "text/plain": [
       "   Column  B cells naive  B cells memory  Plasma cells  T cells CD8  \\\n",
       "0       0       0.180363        0.159720      0.122944     0.111181   \n",
       "1       1       0.199521        0.000000      0.183147     0.000320   \n",
       "2       2       0.000000        0.000440      0.010197     0.010333   \n",
       "3       3       0.175123        0.123531      0.078272     0.061084   \n",
       "4       4       0.000031        0.000000      0.000013     0.000100   \n",
       "\n",
       "   T cells CD4 naive  T cells CD4 memory resting  \\\n",
       "0           0.087895                    0.071193   \n",
       "1           0.179458                    0.000000   \n",
       "2           0.011009                    0.020035   \n",
       "3           0.030513                    0.020228   \n",
       "4           0.000000                    0.000000   \n",
       "\n",
       "   T cells CD4 memory activated  T cells follicular helper  \\\n",
       "0                      0.061377                   0.052552   \n",
       "1                      0.098027                   0.000010   \n",
       "2                      0.030858                   0.051677   \n",
       "3                      0.010045                   0.000128   \n",
       "4                      0.000000                   0.010420   \n",
       "\n",
       "   T cells regulatory (Tregs)     ...       Dendritic cells resting  \\\n",
       "0                    0.038872     ...                      0.000142   \n",
       "1                    0.090280     ...                      0.039596   \n",
       "2                    0.073060     ...                      0.021064   \n",
       "3                    0.000000     ...                      0.020054   \n",
       "4                    0.030982     ...                      0.080783   \n",
       "\n",
       "   Dendritic cells activated  Mast cells resting  Mast cells activated  \\\n",
       "0                   0.000062            0.000481              0.000000   \n",
       "1                   0.000000            0.020102              0.000000   \n",
       "2                   0.010643            0.009707              0.011311   \n",
       "3                   0.030590            0.062770              0.082183   \n",
       "4                   0.050982            0.039670              0.073926   \n",
       "\n",
       "   Eosinophils  Neutrophils  P-value  Pearson Correlation      RMSE  \\\n",
       "0     0.000289     0.000000      0.0             0.999484  0.413838   \n",
       "1     0.019765     0.000000      0.0             0.999856  0.482036   \n",
       "2     0.000056     0.000369      0.0             0.999718  0.396603   \n",
       "3     0.121113     0.174267      0.0             0.999900  0.491076   \n",
       "4     0.144365     0.208641      0.0             0.999621  0.512306   \n",
       "\n",
       "   Unnamed: 26  \n",
       "0          NaN  \n",
       "1          NaN  \n",
       "2          NaN  \n",
       "3          NaN  \n",
       "4          NaN  \n",
       "\n",
       "[5 rows x 27 columns]"
      ]
     },
     "execution_count": 12,
     "metadata": {},
     "output_type": "execute_result"
    }
   ],
   "source": [
    "example_result = \"\"\"\n",
    "Column\tB cells naive\tB cells memory\tPlasma cells\tT cells CD8\tT cells CD4 naive\tT cells CD4 memory resting\tT cells CD4 memory activated\tT cells follicular helper\tT cells regulatory (Tregs)\tT cells gamma delta\tNK cells resting\tNK cells activated\tMonocytes\tMacrophages M0\tMacrophages M1\tMacrophages M2\tDendritic cells resting\tDendritic cells activated\tMast cells resting\tMast cells activated\tEosinophils\tNeutrophils\tP-value\tPearson Correlation\tRMSE\t\n",
    "0\t0.18036348084728407\t0.1597201742966229\t0.1229443677357994\t0.11118115089840458\t0.08789475799695583\t0.07119276840081966\t0.061376704067022954\t0.052551521180425255\t0.038872128994223445\t0.03155616550195219\t0.019968249814539235\t0.019982174035572457\t0.010548346395201084\t0.010333316456025126\t0.010068661234469265\t0.010470882954216486\t1.4235750966122825E-4\t6.249944440062222E-5\t4.8083995949245483E-4\t0\t2.894522769117787E-4\t0\t0.0\t0.99948437366549\t0.4138379498512216\n",
    "1\t0.19952126382734467\t0\t0.18314677175615052\t3.196542703558663E-4\t0.17945837162752415\t0\t0.09802727158878477\t1.0119056586276611E-5\t0.09028046784038297\t5.419937687356133E-4\t0.07936027067848477\t0\t0.04968384870126321\t6.988820765432083E-5\t0.04011764266163714\t0\t0.039596215058564324\t0\t0.020101611956682686\t0\t0.019764608999848783\t0\t0.0\t0.9998562567350834\t0.48203598712030593\n",
    "2\t0\t4.3969196623430516E-4\t0.010197052069923444\t0.010333383824855978\t0.011008942990605428\t0.020035292524956776\t0.030857566129407675\t0.05167674999714037\t0.07306026042232197\t0.1129706229302327\t0.17689189212855125\t0.1788755688720893\t0.11400559867801092\t0.07256876092998803\t0.052228385585140605\t0.03170041048368853\t0.021063580239782585\t0.010642836466773102\t0.009706743051860388\t0.011311251136560374\t5.642333564765483E-5\t3.6898623622861037E-4\t0.0\t0.9997179070135496\t0.3966025254782171\n",
    "3\t0.17512305409244386\t0.12353092238537257\t0.0782721763862743\t0.061083932423861294\t0.030512862746376435\t0.020227702510555973\t0.010045107768656211\t1.2750842320041156E-4\t0\t0\t0\t1.649361535303503E-4\t0\t0\t0\t0.009935390986309857\t0.02005374971332987\t0.030590045609884715\t0.06277031932004322\t0.08218254012667592\t0.12111314980370896\t0.17426660154977608\t0.0\t0.9999000049279075\t0.49107564921358327\n",
    "4\t3.092443373997152E-5\t0\t1.3394367932660624E-5\t1.0013758515406707E-4\t0\t0\t0\t0.01042010032556974\t0.030981960317758527\t0.040364904881237645\t0.03003781323381484\t0.02112628766075651\t0.019843579626375764\t0.041334076952836085\t0.09359418541829248\t0.11378456540707504\t0.08078342096864656\t0.050982422582159535\t0.03966975550193656\t0.07392633690245791\t0.14436526001845174\t0.20864087381580432\t0.0\t0.9996213624490291\t0.5123059526710043\n",
    "\"\"\"\n",
    "example_result = pd.read_csv(StringIO(example_result), sep='\\t')\n",
    "example_result.head()"
   ]
  },
  {
   "cell_type": "code",
   "execution_count": 18,
   "metadata": {
    "collapsed": true,
    "run_control": {
     "frozen": false,
     "read_only": false
    }
   },
   "outputs": [],
   "source": [
    "del example_result['Unnamed: 26']"
   ]
  },
  {
   "cell_type": "code",
   "execution_count": 19,
   "metadata": {
    "collapsed": false,
    "run_control": {
     "frozen": false,
     "read_only": false
    }
   },
   "outputs": [
    {
     "name": "stdout",
     "output_type": "stream",
     "text": [
      "(5, 22) (5, 26)\n"
     ]
    }
   ],
   "source": [
    "print(example_gt.shape, example_result.shape)"
   ]
  },
  {
   "cell_type": "code",
   "execution_count": 24,
   "metadata": {
    "collapsed": false,
    "run_control": {
     "frozen": false,
     "read_only": false
    }
   },
   "outputs": [
    {
     "data": {
      "text/html": [
       "<div>\n",
       "<table border=\"1\" class=\"dataframe\">\n",
       "  <thead>\n",
       "    <tr style=\"text-align: right;\">\n",
       "      <th></th>\n",
       "      <th>B cells naive</th>\n",
       "      <th>B cells memory</th>\n",
       "      <th>Plasma cells</th>\n",
       "      <th>T cells CD8</th>\n",
       "      <th>T cells CD4 naive</th>\n",
       "      <th>T cells CD4 memory resting</th>\n",
       "      <th>T cells CD4 memory activated</th>\n",
       "      <th>T cells follicular helper</th>\n",
       "      <th>T cells regulatory (Tregs)</th>\n",
       "      <th>T cells gamma delta</th>\n",
       "      <th>...</th>\n",
       "      <th>Monocytes</th>\n",
       "      <th>Macrophages M0</th>\n",
       "      <th>Macrophages M1</th>\n",
       "      <th>Macrophages M2</th>\n",
       "      <th>Dendritic cells resting</th>\n",
       "      <th>Dendritic cells activated</th>\n",
       "      <th>Mast cells resting</th>\n",
       "      <th>Mast cells activated</th>\n",
       "      <th>Eosinophils</th>\n",
       "      <th>Neutrophils</th>\n",
       "    </tr>\n",
       "  </thead>\n",
       "  <tbody>\n",
       "    <tr>\n",
       "      <th>0</th>\n",
       "      <td>0.18</td>\n",
       "      <td>0.16</td>\n",
       "      <td>0.13</td>\n",
       "      <td>0.11</td>\n",
       "      <td>0.09</td>\n",
       "      <td>0.07</td>\n",
       "      <td>0.06</td>\n",
       "      <td>0.05</td>\n",
       "      <td>0.04</td>\n",
       "      <td>0.03</td>\n",
       "      <td>...</td>\n",
       "      <td>0.01</td>\n",
       "      <td>0.01</td>\n",
       "      <td>0.01</td>\n",
       "      <td>0.01</td>\n",
       "      <td>0.00</td>\n",
       "      <td>0.00</td>\n",
       "      <td>0.00</td>\n",
       "      <td>0.00</td>\n",
       "      <td>0.00</td>\n",
       "      <td>0.00</td>\n",
       "    </tr>\n",
       "    <tr>\n",
       "      <th>1</th>\n",
       "      <td>0.20</td>\n",
       "      <td>0.00</td>\n",
       "      <td>0.19</td>\n",
       "      <td>0.00</td>\n",
       "      <td>0.18</td>\n",
       "      <td>0.00</td>\n",
       "      <td>0.10</td>\n",
       "      <td>0.00</td>\n",
       "      <td>0.09</td>\n",
       "      <td>0.00</td>\n",
       "      <td>...</td>\n",
       "      <td>0.05</td>\n",
       "      <td>0.00</td>\n",
       "      <td>0.04</td>\n",
       "      <td>0.00</td>\n",
       "      <td>0.04</td>\n",
       "      <td>0.00</td>\n",
       "      <td>0.02</td>\n",
       "      <td>0.00</td>\n",
       "      <td>0.02</td>\n",
       "      <td>0.00</td>\n",
       "    </tr>\n",
       "    <tr>\n",
       "      <th>2</th>\n",
       "      <td>0.00</td>\n",
       "      <td>0.00</td>\n",
       "      <td>0.01</td>\n",
       "      <td>0.01</td>\n",
       "      <td>0.01</td>\n",
       "      <td>0.02</td>\n",
       "      <td>0.03</td>\n",
       "      <td>0.05</td>\n",
       "      <td>0.07</td>\n",
       "      <td>0.11</td>\n",
       "      <td>...</td>\n",
       "      <td>0.11</td>\n",
       "      <td>0.07</td>\n",
       "      <td>0.05</td>\n",
       "      <td>0.03</td>\n",
       "      <td>0.02</td>\n",
       "      <td>0.01</td>\n",
       "      <td>0.01</td>\n",
       "      <td>0.01</td>\n",
       "      <td>0.00</td>\n",
       "      <td>0.00</td>\n",
       "    </tr>\n",
       "    <tr>\n",
       "      <th>3</th>\n",
       "      <td>0.17</td>\n",
       "      <td>0.12</td>\n",
       "      <td>0.08</td>\n",
       "      <td>0.06</td>\n",
       "      <td>0.03</td>\n",
       "      <td>0.02</td>\n",
       "      <td>0.01</td>\n",
       "      <td>0.00</td>\n",
       "      <td>0.00</td>\n",
       "      <td>0.00</td>\n",
       "      <td>...</td>\n",
       "      <td>0.00</td>\n",
       "      <td>0.00</td>\n",
       "      <td>0.00</td>\n",
       "      <td>0.01</td>\n",
       "      <td>0.02</td>\n",
       "      <td>0.03</td>\n",
       "      <td>0.06</td>\n",
       "      <td>0.08</td>\n",
       "      <td>0.12</td>\n",
       "      <td>0.17</td>\n",
       "    </tr>\n",
       "    <tr>\n",
       "      <th>4</th>\n",
       "      <td>0.00</td>\n",
       "      <td>0.00</td>\n",
       "      <td>0.00</td>\n",
       "      <td>0.00</td>\n",
       "      <td>0.00</td>\n",
       "      <td>0.00</td>\n",
       "      <td>0.00</td>\n",
       "      <td>0.01</td>\n",
       "      <td>0.03</td>\n",
       "      <td>0.04</td>\n",
       "      <td>...</td>\n",
       "      <td>0.02</td>\n",
       "      <td>0.04</td>\n",
       "      <td>0.09</td>\n",
       "      <td>0.11</td>\n",
       "      <td>0.08</td>\n",
       "      <td>0.05</td>\n",
       "      <td>0.04</td>\n",
       "      <td>0.07</td>\n",
       "      <td>0.14</td>\n",
       "      <td>0.20</td>\n",
       "    </tr>\n",
       "  </tbody>\n",
       "</table>\n",
       "<p>5 rows × 22 columns</p>\n",
       "</div>"
      ],
      "text/plain": [
       "   B cells naive  B cells memory  Plasma cells  T cells CD8  \\\n",
       "0           0.18            0.16          0.13         0.11   \n",
       "1           0.20            0.00          0.19         0.00   \n",
       "2           0.00            0.00          0.01         0.01   \n",
       "3           0.17            0.12          0.08         0.06   \n",
       "4           0.00            0.00          0.00         0.00   \n",
       "\n",
       "   T cells CD4 naive  T cells CD4 memory resting  \\\n",
       "0               0.09                        0.07   \n",
       "1               0.18                        0.00   \n",
       "2               0.01                        0.02   \n",
       "3               0.03                        0.02   \n",
       "4               0.00                        0.00   \n",
       "\n",
       "   T cells CD4 memory activated  T cells follicular helper  \\\n",
       "0                          0.06                       0.05   \n",
       "1                          0.10                       0.00   \n",
       "2                          0.03                       0.05   \n",
       "3                          0.01                       0.00   \n",
       "4                          0.00                       0.01   \n",
       "\n",
       "   T cells regulatory (Tregs)  T cells gamma delta     ...       Monocytes  \\\n",
       "0                        0.04                 0.03     ...            0.01   \n",
       "1                        0.09                 0.00     ...            0.05   \n",
       "2                        0.07                 0.11     ...            0.11   \n",
       "3                        0.00                 0.00     ...            0.00   \n",
       "4                        0.03                 0.04     ...            0.02   \n",
       "\n",
       "   Macrophages M0  Macrophages M1  Macrophages M2  Dendritic cells resting  \\\n",
       "0            0.01            0.01            0.01                     0.00   \n",
       "1            0.00            0.04            0.00                     0.04   \n",
       "2            0.07            0.05            0.03                     0.02   \n",
       "3            0.00            0.00            0.01                     0.02   \n",
       "4            0.04            0.09            0.11                     0.08   \n",
       "\n",
       "   Dendritic cells activated  Mast cells resting  Mast cells activated  \\\n",
       "0                       0.00                0.00                  0.00   \n",
       "1                       0.00                0.02                  0.00   \n",
       "2                       0.01                0.01                  0.01   \n",
       "3                       0.03                0.06                  0.08   \n",
       "4                       0.05                0.04                  0.07   \n",
       "\n",
       "   Eosinophils  Neutrophils  \n",
       "0         0.00         0.00  \n",
       "1         0.02         0.00  \n",
       "2         0.00         0.00  \n",
       "3         0.12         0.17  \n",
       "4         0.14         0.20  \n",
       "\n",
       "[5 rows x 22 columns]"
      ]
     },
     "execution_count": 24,
     "metadata": {},
     "output_type": "execute_result"
    }
   ],
   "source": [
    "example_gt.columns = example_result.columns[1:-3]\n",
    "example_gt.head()"
   ]
  },
  {
   "cell_type": "code",
   "execution_count": 25,
   "metadata": {
    "collapsed": false,
    "run_control": {
     "frozen": false,
     "read_only": false
    }
   },
   "outputs": [
    {
     "data": {
      "text/html": [
       "<div>\n",
       "<table border=\"1\" class=\"dataframe\">\n",
       "  <thead>\n",
       "    <tr style=\"text-align: right;\">\n",
       "      <th></th>\n",
       "      <th>B cells naive</th>\n",
       "      <th>B cells memory</th>\n",
       "      <th>Plasma cells</th>\n",
       "      <th>T cells CD8</th>\n",
       "      <th>T cells CD4 naive</th>\n",
       "      <th>T cells CD4 memory resting</th>\n",
       "      <th>T cells CD4 memory activated</th>\n",
       "      <th>T cells follicular helper</th>\n",
       "      <th>T cells regulatory (Tregs)</th>\n",
       "      <th>T cells gamma delta</th>\n",
       "      <th>...</th>\n",
       "      <th>Monocytes</th>\n",
       "      <th>Macrophages M0</th>\n",
       "      <th>Macrophages M1</th>\n",
       "      <th>Macrophages M2</th>\n",
       "      <th>Dendritic cells resting</th>\n",
       "      <th>Dendritic cells activated</th>\n",
       "      <th>Mast cells resting</th>\n",
       "      <th>Mast cells activated</th>\n",
       "      <th>Eosinophils</th>\n",
       "      <th>Neutrophils</th>\n",
       "    </tr>\n",
       "  </thead>\n",
       "  <tbody>\n",
       "    <tr>\n",
       "      <th>0</th>\n",
       "      <td>0.180363</td>\n",
       "      <td>0.159720</td>\n",
       "      <td>0.122944</td>\n",
       "      <td>0.111181</td>\n",
       "      <td>0.087895</td>\n",
       "      <td>0.071193</td>\n",
       "      <td>0.061377</td>\n",
       "      <td>0.052552</td>\n",
       "      <td>0.038872</td>\n",
       "      <td>0.031556</td>\n",
       "      <td>...</td>\n",
       "      <td>0.010548</td>\n",
       "      <td>0.010333</td>\n",
       "      <td>0.010069</td>\n",
       "      <td>0.010471</td>\n",
       "      <td>0.000142</td>\n",
       "      <td>0.000062</td>\n",
       "      <td>0.000481</td>\n",
       "      <td>0.000000</td>\n",
       "      <td>0.000289</td>\n",
       "      <td>0.000000</td>\n",
       "    </tr>\n",
       "    <tr>\n",
       "      <th>1</th>\n",
       "      <td>0.199521</td>\n",
       "      <td>0.000000</td>\n",
       "      <td>0.183147</td>\n",
       "      <td>0.000320</td>\n",
       "      <td>0.179458</td>\n",
       "      <td>0.000000</td>\n",
       "      <td>0.098027</td>\n",
       "      <td>0.000010</td>\n",
       "      <td>0.090280</td>\n",
       "      <td>0.000542</td>\n",
       "      <td>...</td>\n",
       "      <td>0.049684</td>\n",
       "      <td>0.000070</td>\n",
       "      <td>0.040118</td>\n",
       "      <td>0.000000</td>\n",
       "      <td>0.039596</td>\n",
       "      <td>0.000000</td>\n",
       "      <td>0.020102</td>\n",
       "      <td>0.000000</td>\n",
       "      <td>0.019765</td>\n",
       "      <td>0.000000</td>\n",
       "    </tr>\n",
       "    <tr>\n",
       "      <th>2</th>\n",
       "      <td>0.000000</td>\n",
       "      <td>0.000440</td>\n",
       "      <td>0.010197</td>\n",
       "      <td>0.010333</td>\n",
       "      <td>0.011009</td>\n",
       "      <td>0.020035</td>\n",
       "      <td>0.030858</td>\n",
       "      <td>0.051677</td>\n",
       "      <td>0.073060</td>\n",
       "      <td>0.112971</td>\n",
       "      <td>...</td>\n",
       "      <td>0.114006</td>\n",
       "      <td>0.072569</td>\n",
       "      <td>0.052228</td>\n",
       "      <td>0.031700</td>\n",
       "      <td>0.021064</td>\n",
       "      <td>0.010643</td>\n",
       "      <td>0.009707</td>\n",
       "      <td>0.011311</td>\n",
       "      <td>0.000056</td>\n",
       "      <td>0.000369</td>\n",
       "    </tr>\n",
       "    <tr>\n",
       "      <th>3</th>\n",
       "      <td>0.175123</td>\n",
       "      <td>0.123531</td>\n",
       "      <td>0.078272</td>\n",
       "      <td>0.061084</td>\n",
       "      <td>0.030513</td>\n",
       "      <td>0.020228</td>\n",
       "      <td>0.010045</td>\n",
       "      <td>0.000128</td>\n",
       "      <td>0.000000</td>\n",
       "      <td>0.000000</td>\n",
       "      <td>...</td>\n",
       "      <td>0.000000</td>\n",
       "      <td>0.000000</td>\n",
       "      <td>0.000000</td>\n",
       "      <td>0.009935</td>\n",
       "      <td>0.020054</td>\n",
       "      <td>0.030590</td>\n",
       "      <td>0.062770</td>\n",
       "      <td>0.082183</td>\n",
       "      <td>0.121113</td>\n",
       "      <td>0.174267</td>\n",
       "    </tr>\n",
       "    <tr>\n",
       "      <th>4</th>\n",
       "      <td>0.000031</td>\n",
       "      <td>0.000000</td>\n",
       "      <td>0.000013</td>\n",
       "      <td>0.000100</td>\n",
       "      <td>0.000000</td>\n",
       "      <td>0.000000</td>\n",
       "      <td>0.000000</td>\n",
       "      <td>0.010420</td>\n",
       "      <td>0.030982</td>\n",
       "      <td>0.040365</td>\n",
       "      <td>...</td>\n",
       "      <td>0.019844</td>\n",
       "      <td>0.041334</td>\n",
       "      <td>0.093594</td>\n",
       "      <td>0.113785</td>\n",
       "      <td>0.080783</td>\n",
       "      <td>0.050982</td>\n",
       "      <td>0.039670</td>\n",
       "      <td>0.073926</td>\n",
       "      <td>0.144365</td>\n",
       "      <td>0.208641</td>\n",
       "    </tr>\n",
       "  </tbody>\n",
       "</table>\n",
       "<p>5 rows × 22 columns</p>\n",
       "</div>"
      ],
      "text/plain": [
       "   B cells naive  B cells memory  Plasma cells  T cells CD8  \\\n",
       "0       0.180363        0.159720      0.122944     0.111181   \n",
       "1       0.199521        0.000000      0.183147     0.000320   \n",
       "2       0.000000        0.000440      0.010197     0.010333   \n",
       "3       0.175123        0.123531      0.078272     0.061084   \n",
       "4       0.000031        0.000000      0.000013     0.000100   \n",
       "\n",
       "   T cells CD4 naive  T cells CD4 memory resting  \\\n",
       "0           0.087895                    0.071193   \n",
       "1           0.179458                    0.000000   \n",
       "2           0.011009                    0.020035   \n",
       "3           0.030513                    0.020228   \n",
       "4           0.000000                    0.000000   \n",
       "\n",
       "   T cells CD4 memory activated  T cells follicular helper  \\\n",
       "0                      0.061377                   0.052552   \n",
       "1                      0.098027                   0.000010   \n",
       "2                      0.030858                   0.051677   \n",
       "3                      0.010045                   0.000128   \n",
       "4                      0.000000                   0.010420   \n",
       "\n",
       "   T cells regulatory (Tregs)  T cells gamma delta     ...       Monocytes  \\\n",
       "0                    0.038872             0.031556     ...        0.010548   \n",
       "1                    0.090280             0.000542     ...        0.049684   \n",
       "2                    0.073060             0.112971     ...        0.114006   \n",
       "3                    0.000000             0.000000     ...        0.000000   \n",
       "4                    0.030982             0.040365     ...        0.019844   \n",
       "\n",
       "   Macrophages M0  Macrophages M1  Macrophages M2  Dendritic cells resting  \\\n",
       "0        0.010333        0.010069        0.010471                 0.000142   \n",
       "1        0.000070        0.040118        0.000000                 0.039596   \n",
       "2        0.072569        0.052228        0.031700                 0.021064   \n",
       "3        0.000000        0.000000        0.009935                 0.020054   \n",
       "4        0.041334        0.093594        0.113785                 0.080783   \n",
       "\n",
       "   Dendritic cells activated  Mast cells resting  Mast cells activated  \\\n",
       "0                   0.000062            0.000481              0.000000   \n",
       "1                   0.000000            0.020102              0.000000   \n",
       "2                   0.010643            0.009707              0.011311   \n",
       "3                   0.030590            0.062770              0.082183   \n",
       "4                   0.050982            0.039670              0.073926   \n",
       "\n",
       "   Eosinophils  Neutrophils  \n",
       "0     0.000289     0.000000  \n",
       "1     0.019765     0.000000  \n",
       "2     0.000056     0.000369  \n",
       "3     0.121113     0.174267  \n",
       "4     0.144365     0.208641  \n",
       "\n",
       "[5 rows x 22 columns]"
      ]
     },
     "execution_count": 25,
     "metadata": {},
     "output_type": "execute_result"
    }
   ],
   "source": [
    "example_result_dat = example_result[example_result.columns[1:-3]]\n",
    "example_result_dat.head()"
   ]
  },
  {
   "cell_type": "code",
   "execution_count": 34,
   "metadata": {
    "collapsed": false,
    "run_control": {
     "frozen": false,
     "read_only": false
    }
   },
   "outputs": [
    {
     "name": "stdout",
     "output_type": "stream",
     "text": [
      "absolute difference from ground truth, summarized by column:\n"
     ]
    },
    {
     "data": {
      "text/html": [
       "<div>\n",
       "<table border=\"1\" class=\"dataframe\">\n",
       "  <thead>\n",
       "    <tr style=\"text-align: right;\">\n",
       "      <th></th>\n",
       "      <th>B cells naive</th>\n",
       "      <th>B cells memory</th>\n",
       "      <th>Plasma cells</th>\n",
       "      <th>T cells CD8</th>\n",
       "      <th>T cells CD4 naive</th>\n",
       "      <th>T cells CD4 memory resting</th>\n",
       "      <th>T cells CD4 memory activated</th>\n",
       "      <th>T cells follicular helper</th>\n",
       "      <th>T cells regulatory (Tregs)</th>\n",
       "      <th>T cells gamma delta</th>\n",
       "      <th>...</th>\n",
       "      <th>Monocytes</th>\n",
       "      <th>Macrophages M0</th>\n",
       "      <th>Macrophages M1</th>\n",
       "      <th>Macrophages M2</th>\n",
       "      <th>Dendritic cells resting</th>\n",
       "      <th>Dendritic cells activated</th>\n",
       "      <th>Mast cells resting</th>\n",
       "      <th>Mast cells activated</th>\n",
       "      <th>Eosinophils</th>\n",
       "      <th>Neutrophils</th>\n",
       "    </tr>\n",
       "  </thead>\n",
       "  <tbody>\n",
       "    <tr>\n",
       "      <th>count</th>\n",
       "      <td>5.000000</td>\n",
       "      <td>5.000000</td>\n",
       "      <td>5.000000</td>\n",
       "      <td>5.000000</td>\n",
       "      <td>5.000000</td>\n",
       "      <td>5.000000</td>\n",
       "      <td>5.000000</td>\n",
       "      <td>5.000000</td>\n",
       "      <td>5.000000</td>\n",
       "      <td>5.000000</td>\n",
       "      <td>...</td>\n",
       "      <td>5.000000</td>\n",
       "      <td>5.000000</td>\n",
       "      <td>5.000000</td>\n",
       "      <td>5.000000</td>\n",
       "      <td>5.000000</td>\n",
       "      <td>5.000000</td>\n",
       "      <td>5.000000</td>\n",
       "      <td>5.000000</td>\n",
       "      <td>5.000000</td>\n",
       "      <td>5.000000</td>\n",
       "    </tr>\n",
       "    <tr>\n",
       "      <th>mean</th>\n",
       "      <td>0.001008</td>\n",
       "      <td>0.000738</td>\n",
       "      <td>-0.003085</td>\n",
       "      <td>0.000604</td>\n",
       "      <td>-0.000225</td>\n",
       "      <td>0.000291</td>\n",
       "      <td>0.000061</td>\n",
       "      <td>0.000957</td>\n",
       "      <td>0.000639</td>\n",
       "      <td>0.001087</td>\n",
       "      <td>...</td>\n",
       "      <td>0.000816</td>\n",
       "      <td>0.000861</td>\n",
       "      <td>0.001202</td>\n",
       "      <td>0.001178</td>\n",
       "      <td>0.000328</td>\n",
       "      <td>0.000456</td>\n",
       "      <td>0.000546</td>\n",
       "      <td>0.001484</td>\n",
       "      <td>0.001118</td>\n",
       "      <td>0.002655</td>\n",
       "    </tr>\n",
       "    <tr>\n",
       "      <th>std</th>\n",
       "      <td>0.002320</td>\n",
       "      <td>0.001582</td>\n",
       "      <td>0.003612</td>\n",
       "      <td>0.000493</td>\n",
       "      <td>0.001199</td>\n",
       "      <td>0.000513</td>\n",
       "      <td>0.001275</td>\n",
       "      <td>0.001111</td>\n",
       "      <td>0.001552</td>\n",
       "      <td>0.001201</td>\n",
       "      <td>...</td>\n",
       "      <td>0.001812</td>\n",
       "      <td>0.001094</td>\n",
       "      <td>0.001634</td>\n",
       "      <td>0.001620</td>\n",
       "      <td>0.000590</td>\n",
       "      <td>0.000416</td>\n",
       "      <td>0.001287</td>\n",
       "      <td>0.001650</td>\n",
       "      <td>0.001883</td>\n",
       "      <td>0.003800</td>\n",
       "    </tr>\n",
       "    <tr>\n",
       "      <th>min</th>\n",
       "      <td>-0.000479</td>\n",
       "      <td>-0.000280</td>\n",
       "      <td>-0.007056</td>\n",
       "      <td>0.000100</td>\n",
       "      <td>-0.002105</td>\n",
       "      <td>0.000000</td>\n",
       "      <td>-0.001973</td>\n",
       "      <td>0.000010</td>\n",
       "      <td>-0.001128</td>\n",
       "      <td>0.000000</td>\n",
       "      <td>...</td>\n",
       "      <td>-0.000316</td>\n",
       "      <td>0.000000</td>\n",
       "      <td>0.000000</td>\n",
       "      <td>-0.000065</td>\n",
       "      <td>-0.000404</td>\n",
       "      <td>0.000000</td>\n",
       "      <td>-0.000330</td>\n",
       "      <td>0.000000</td>\n",
       "      <td>-0.000235</td>\n",
       "      <td>0.000000</td>\n",
       "    </tr>\n",
       "    <tr>\n",
       "      <th>25%</th>\n",
       "      <td>0.000000</td>\n",
       "      <td>0.000000</td>\n",
       "      <td>-0.006853</td>\n",
       "      <td>0.000320</td>\n",
       "      <td>-0.000542</td>\n",
       "      <td>0.000000</td>\n",
       "      <td>0.000000</td>\n",
       "      <td>0.000128</td>\n",
       "      <td>0.000000</td>\n",
       "      <td>0.000365</td>\n",
       "      <td>...</td>\n",
       "      <td>-0.000156</td>\n",
       "      <td>0.000070</td>\n",
       "      <td>0.000069</td>\n",
       "      <td>0.000000</td>\n",
       "      <td>0.000054</td>\n",
       "      <td>0.000062</td>\n",
       "      <td>-0.000293</td>\n",
       "      <td>0.000000</td>\n",
       "      <td>0.000056</td>\n",
       "      <td>0.000000</td>\n",
       "    </tr>\n",
       "    <tr>\n",
       "      <th>50%</th>\n",
       "      <td>0.000031</td>\n",
       "      <td>0.000000</td>\n",
       "      <td>-0.001728</td>\n",
       "      <td>0.000333</td>\n",
       "      <td>0.000000</td>\n",
       "      <td>0.000035</td>\n",
       "      <td>0.000045</td>\n",
       "      <td>0.000420</td>\n",
       "      <td>0.000280</td>\n",
       "      <td>0.000542</td>\n",
       "      <td>...</td>\n",
       "      <td>0.000000</td>\n",
       "      <td>0.000333</td>\n",
       "      <td>0.000118</td>\n",
       "      <td>0.000471</td>\n",
       "      <td>0.000142</td>\n",
       "      <td>0.000590</td>\n",
       "      <td>0.000102</td>\n",
       "      <td>0.001311</td>\n",
       "      <td>0.000289</td>\n",
       "      <td>0.000369</td>\n",
       "    </tr>\n",
       "    <tr>\n",
       "      <th>75%</th>\n",
       "      <td>0.000363</td>\n",
       "      <td>0.000440</td>\n",
       "      <td>0.000013</td>\n",
       "      <td>0.001084</td>\n",
       "      <td>0.000513</td>\n",
       "      <td>0.000228</td>\n",
       "      <td>0.000858</td>\n",
       "      <td>0.001677</td>\n",
       "      <td>0.000982</td>\n",
       "      <td>0.001556</td>\n",
       "      <td>...</td>\n",
       "      <td>0.000548</td>\n",
       "      <td>0.001334</td>\n",
       "      <td>0.002228</td>\n",
       "      <td>0.001700</td>\n",
       "      <td>0.000783</td>\n",
       "      <td>0.000643</td>\n",
       "      <td>0.000481</td>\n",
       "      <td>0.002183</td>\n",
       "      <td>0.001113</td>\n",
       "      <td>0.004267</td>\n",
       "    </tr>\n",
       "    <tr>\n",
       "      <th>max</th>\n",
       "      <td>0.005123</td>\n",
       "      <td>0.003531</td>\n",
       "      <td>0.000197</td>\n",
       "      <td>0.001181</td>\n",
       "      <td>0.001009</td>\n",
       "      <td>0.001193</td>\n",
       "      <td>0.001377</td>\n",
       "      <td>0.002552</td>\n",
       "      <td>0.003060</td>\n",
       "      <td>0.002971</td>\n",
       "      <td>...</td>\n",
       "      <td>0.004006</td>\n",
       "      <td>0.002569</td>\n",
       "      <td>0.003594</td>\n",
       "      <td>0.003785</td>\n",
       "      <td>0.001064</td>\n",
       "      <td>0.000982</td>\n",
       "      <td>0.002770</td>\n",
       "      <td>0.003926</td>\n",
       "      <td>0.004365</td>\n",
       "      <td>0.008641</td>\n",
       "    </tr>\n",
       "  </tbody>\n",
       "</table>\n",
       "<p>8 rows × 22 columns</p>\n",
       "</div>"
      ],
      "text/plain": [
       "       B cells naive  B cells memory  Plasma cells  T cells CD8  \\\n",
       "count       5.000000        5.000000      5.000000     5.000000   \n",
       "mean        0.001008        0.000738     -0.003085     0.000604   \n",
       "std         0.002320        0.001582      0.003612     0.000493   \n",
       "min        -0.000479       -0.000280     -0.007056     0.000100   \n",
       "25%         0.000000        0.000000     -0.006853     0.000320   \n",
       "50%         0.000031        0.000000     -0.001728     0.000333   \n",
       "75%         0.000363        0.000440      0.000013     0.001084   \n",
       "max         0.005123        0.003531      0.000197     0.001181   \n",
       "\n",
       "       T cells CD4 naive  T cells CD4 memory resting  \\\n",
       "count           5.000000                    5.000000   \n",
       "mean           -0.000225                    0.000291   \n",
       "std             0.001199                    0.000513   \n",
       "min            -0.002105                    0.000000   \n",
       "25%            -0.000542                    0.000000   \n",
       "50%             0.000000                    0.000035   \n",
       "75%             0.000513                    0.000228   \n",
       "max             0.001009                    0.001193   \n",
       "\n",
       "       T cells CD4 memory activated  T cells follicular helper  \\\n",
       "count                      5.000000                   5.000000   \n",
       "mean                       0.000061                   0.000957   \n",
       "std                        0.001275                   0.001111   \n",
       "min                       -0.001973                   0.000010   \n",
       "25%                        0.000000                   0.000128   \n",
       "50%                        0.000045                   0.000420   \n",
       "75%                        0.000858                   0.001677   \n",
       "max                        0.001377                   0.002552   \n",
       "\n",
       "       T cells regulatory (Tregs)  T cells gamma delta     ...       \\\n",
       "count                    5.000000             5.000000     ...        \n",
       "mean                     0.000639             0.001087     ...        \n",
       "std                      0.001552             0.001201     ...        \n",
       "min                     -0.001128             0.000000     ...        \n",
       "25%                      0.000000             0.000365     ...        \n",
       "50%                      0.000280             0.000542     ...        \n",
       "75%                      0.000982             0.001556     ...        \n",
       "max                      0.003060             0.002971     ...        \n",
       "\n",
       "       Monocytes  Macrophages M0  Macrophages M1  Macrophages M2  \\\n",
       "count   5.000000        5.000000        5.000000        5.000000   \n",
       "mean    0.000816        0.000861        0.001202        0.001178   \n",
       "std     0.001812        0.001094        0.001634        0.001620   \n",
       "min    -0.000316        0.000000        0.000000       -0.000065   \n",
       "25%    -0.000156        0.000070        0.000069        0.000000   \n",
       "50%     0.000000        0.000333        0.000118        0.000471   \n",
       "75%     0.000548        0.001334        0.002228        0.001700   \n",
       "max     0.004006        0.002569        0.003594        0.003785   \n",
       "\n",
       "       Dendritic cells resting  Dendritic cells activated  Mast cells resting  \\\n",
       "count                 5.000000                   5.000000            5.000000   \n",
       "mean                  0.000328                   0.000456            0.000546   \n",
       "std                   0.000590                   0.000416            0.001287   \n",
       "min                  -0.000404                   0.000000           -0.000330   \n",
       "25%                   0.000054                   0.000062           -0.000293   \n",
       "50%                   0.000142                   0.000590            0.000102   \n",
       "75%                   0.000783                   0.000643            0.000481   \n",
       "max                   0.001064                   0.000982            0.002770   \n",
       "\n",
       "       Mast cells activated  Eosinophils  Neutrophils  \n",
       "count              5.000000     5.000000     5.000000  \n",
       "mean               0.001484     0.001118     0.002655  \n",
       "std                0.001650     0.001883     0.003800  \n",
       "min                0.000000    -0.000235     0.000000  \n",
       "25%                0.000000     0.000056     0.000000  \n",
       "50%                0.001311     0.000289     0.000369  \n",
       "75%                0.002183     0.001113     0.004267  \n",
       "max                0.003926     0.004365     0.008641  \n",
       "\n",
       "[8 rows x 22 columns]"
      ]
     },
     "execution_count": 34,
     "metadata": {},
     "output_type": "execute_result"
    }
   ],
   "source": [
    "print('absolute difference from ground truth, summarized by column:')\n",
    "(example_result_dat - example_gt).describe()"
   ]
  },
  {
   "cell_type": "code",
   "execution_count": 31,
   "metadata": {
    "collapsed": false,
    "run_control": {
     "frozen": false,
     "read_only": false
    }
   },
   "outputs": [
    {
     "name": "stdout",
     "output_type": "stream",
     "text": [
      "correlation between GT and estimate per cell type\n"
     ]
    },
    {
     "data": {
      "text/plain": [
       "B cells naive                   0.999764\n",
       "B cells memory                  0.999822\n",
       "Plasma cells                    0.999869\n",
       "T cells CD8                     0.999994\n",
       "T cells CD4 naive               0.999906\n",
       "T cells CD4 memory resting      0.999990\n",
       "T cells CD4 memory activated    0.999612\n",
       "T cells follicular helper       0.999933\n",
       "T cells regulatory (Tregs)      0.999170\n",
       "T cells gamma delta             0.999929\n",
       "NK cells resting                0.999747\n",
       "NK cells activated              0.999978\n",
       "Monocytes                       0.999778\n",
       "Macrophages M0                  0.999998\n",
       "Macrophages M1                  0.999833\n",
       "Macrophages M2                  0.999966\n",
       "Dendritic cells resting         0.999822\n",
       "Dendritic cells activated       0.999964\n",
       "Mast cells resting              0.999240\n",
       "Mast cells activated            0.999791\n",
       "Eosinophils                     0.999886\n",
       "Neutrophils                     0.999937\n",
       "dtype: float64"
      ]
     },
     "execution_count": 31,
     "metadata": {},
     "output_type": "execute_result"
    }
   ],
   "source": [
    "print('correlation between GT and estimate per cell type')\n",
    "example_result_dat.corrwith(example_gt)"
   ]
  },
  {
   "cell_type": "code",
   "execution_count": 32,
   "metadata": {
    "collapsed": false,
    "run_control": {
     "frozen": false,
     "read_only": false
    }
   },
   "outputs": [
    {
     "name": "stdout",
     "output_type": "stream",
     "text": [
      "correlation between GT and estimate per mixture\n"
     ]
    },
    {
     "data": {
      "text/plain": [
       "0    0.999494\n",
       "1    0.999833\n",
       "2    0.999923\n",
       "3    0.999856\n",
       "4    0.999884\n",
       "dtype: float64"
      ]
     },
     "execution_count": 32,
     "metadata": {},
     "output_type": "execute_result"
    }
   ],
   "source": [
    "print('correlation between GT and estimate per mixture')\n",
    "example_result_dat.corrwith(example_gt, axis=1)"
   ]
  },
  {
   "cell_type": "code",
   "execution_count": 296,
   "metadata": {
    "collapsed": false,
    "run_control": {
     "frozen": false,
     "read_only": false
    }
   },
   "outputs": [
    {
     "name": "stdout",
     "output_type": "stream",
     "text": [
      "RMSE \t R^2 \t per mixture\n",
      "0.0018 \t 0.9989\n",
      "0.0015 \t 0.9994\n",
      "0.0029 \t 0.9968\n",
      "0.0019 \t 0.9989\n",
      "0.0025 \t 0.9976\n"
     ]
    }
   ],
   "source": [
    "print('RMSE \\t R^2 \\t per mixture')\n",
    "from sklearn.metrics import mean_squared_error as mse, r2_score\n",
    "for (_, y_true),(_, y_pred) in zip(example_gt.iterrows(), example_result_dat.iterrows()):\n",
    "    print('%0.4f \\t %0.4f' % (np.sqrt(mse(y_true, y_pred)), r2_score(y_true, y_pred)))"
   ]
  },
  {
   "cell_type": "code",
   "execution_count": 145,
   "metadata": {
    "collapsed": false,
    "run_control": {
     "frozen": false,
     "read_only": false
    }
   },
   "outputs": [
    {
     "name": "stdout",
     "output_type": "stream",
     "text": [
      "P vals are all 0\n"
     ]
    },
    {
     "data": {
      "text/plain": [
       "0    0.0\n",
       "1    0.0\n",
       "2    0.0\n",
       "3    0.0\n",
       "4    0.0\n",
       "Name: P-value, dtype: float64"
      ]
     },
     "execution_count": 145,
     "metadata": {},
     "output_type": "execute_result"
    }
   ],
   "source": [
    "print('P vals are all 0')\n",
    "example_result['P-value']"
   ]
  },
  {
   "cell_type": "markdown",
   "metadata": {},
   "source": [
    "#### Investigating how to make a mixture like this\n",
    "\n",
    "Sanity checking the weighted sum"
   ]
  },
  {
   "cell_type": "code",
   "execution_count": 6,
   "metadata": {
    "ExecuteTime": {
     "end_time": "2016-12-08T21:12:41.196916",
     "start_time": "2016-12-08T21:12:41.050950"
    },
    "collapsed": false,
    "init_cell": true,
    "run_control": {
     "frozen": false,
     "read_only": false
    }
   },
   "outputs": [
    {
     "name": "stdout",
     "output_type": "stream",
     "text": [
      "(547, 22)\n"
     ]
    },
    {
     "data": {
      "text/html": [
       "<div>\n",
       "<table border=\"1\" class=\"dataframe\">\n",
       "  <thead>\n",
       "    <tr style=\"text-align: right;\">\n",
       "      <th></th>\n",
       "      <th>B cells naive</th>\n",
       "      <th>B cells memory</th>\n",
       "      <th>Plasma cells</th>\n",
       "      <th>T cells CD8</th>\n",
       "      <th>T cells CD4 naive</th>\n",
       "      <th>T cells CD4 memory resting</th>\n",
       "      <th>T cells CD4 memory activated</th>\n",
       "      <th>T cells follicular helper</th>\n",
       "      <th>T cells regulatory (Tregs)</th>\n",
       "      <th>T cells gamma delta</th>\n",
       "      <th>...</th>\n",
       "      <th>Monocytes</th>\n",
       "      <th>Macrophages M0</th>\n",
       "      <th>Macrophages M1</th>\n",
       "      <th>Macrophages M2</th>\n",
       "      <th>Dendritic cells resting</th>\n",
       "      <th>Dendritic cells activated</th>\n",
       "      <th>Mast cells resting</th>\n",
       "      <th>Mast cells activated</th>\n",
       "      <th>Eosinophils</th>\n",
       "      <th>Neutrophils</th>\n",
       "    </tr>\n",
       "    <tr>\n",
       "      <th>Gene symbol</th>\n",
       "      <th></th>\n",
       "      <th></th>\n",
       "      <th></th>\n",
       "      <th></th>\n",
       "      <th></th>\n",
       "      <th></th>\n",
       "      <th></th>\n",
       "      <th></th>\n",
       "      <th></th>\n",
       "      <th></th>\n",
       "      <th></th>\n",
       "      <th></th>\n",
       "      <th></th>\n",
       "      <th></th>\n",
       "      <th></th>\n",
       "      <th></th>\n",
       "      <th></th>\n",
       "      <th></th>\n",
       "      <th></th>\n",
       "      <th></th>\n",
       "      <th></th>\n",
       "    </tr>\n",
       "  </thead>\n",
       "  <tbody>\n",
       "    <tr>\n",
       "      <th>ABCB4</th>\n",
       "      <td>555.713449</td>\n",
       "      <td>10.744235</td>\n",
       "      <td>7.225819</td>\n",
       "      <td>4.311280</td>\n",
       "      <td>4.605860</td>\n",
       "      <td>7.406442</td>\n",
       "      <td>8.043976</td>\n",
       "      <td>6.469993</td>\n",
       "      <td>7.833082</td>\n",
       "      <td>9.312295</td>\n",
       "      <td>...</td>\n",
       "      <td>6.202496</td>\n",
       "      <td>7.951360</td>\n",
       "      <td>27.557710</td>\n",
       "      <td>121.432277</td>\n",
       "      <td>114.636747</td>\n",
       "      <td>4.872184</td>\n",
       "      <td>4.727985</td>\n",
       "      <td>34.113659</td>\n",
       "      <td>15.030530</td>\n",
       "      <td>14.906888</td>\n",
       "    </tr>\n",
       "    <tr>\n",
       "      <th>ABCB9</th>\n",
       "      <td>15.603544</td>\n",
       "      <td>22.094787</td>\n",
       "      <td>653.392328</td>\n",
       "      <td>24.223723</td>\n",
       "      <td>35.671507</td>\n",
       "      <td>30.048192</td>\n",
       "      <td>38.455423</td>\n",
       "      <td>17.604795</td>\n",
       "      <td>46.073657</td>\n",
       "      <td>19.715722</td>\n",
       "      <td>...</td>\n",
       "      <td>20.309426</td>\n",
       "      <td>56.251887</td>\n",
       "      <td>29.380878</td>\n",
       "      <td>40.390260</td>\n",
       "      <td>123.993305</td>\n",
       "      <td>23.384603</td>\n",
       "      <td>53.466757</td>\n",
       "      <td>23.615746</td>\n",
       "      <td>29.786442</td>\n",
       "      <td>33.679147</td>\n",
       "    </tr>\n",
       "    <tr>\n",
       "      <th>ACAP1</th>\n",
       "      <td>215.305951</td>\n",
       "      <td>321.621021</td>\n",
       "      <td>38.616872</td>\n",
       "      <td>1055.613378</td>\n",
       "      <td>1790.097170</td>\n",
       "      <td>922.152747</td>\n",
       "      <td>340.883424</td>\n",
       "      <td>1107.798265</td>\n",
       "      <td>1995.482601</td>\n",
       "      <td>280.075719</td>\n",
       "      <td>...</td>\n",
       "      <td>190.879024</td>\n",
       "      <td>48.972217</td>\n",
       "      <td>30.974254</td>\n",
       "      <td>23.055150</td>\n",
       "      <td>61.386550</td>\n",
       "      <td>26.412923</td>\n",
       "      <td>104.200198</td>\n",
       "      <td>73.607932</td>\n",
       "      <td>696.442802</td>\n",
       "      <td>596.025961</td>\n",
       "    </tr>\n",
       "    <tr>\n",
       "      <th>ACHE</th>\n",
       "      <td>15.117949</td>\n",
       "      <td>16.648847</td>\n",
       "      <td>22.123737</td>\n",
       "      <td>13.428288</td>\n",
       "      <td>27.187732</td>\n",
       "      <td>18.444927</td>\n",
       "      <td>13.441268</td>\n",
       "      <td>14.805542</td>\n",
       "      <td>24.652712</td>\n",
       "      <td>33.658448</td>\n",
       "      <td>...</td>\n",
       "      <td>16.375268</td>\n",
       "      <td>13.692963</td>\n",
       "      <td>1373.069620</td>\n",
       "      <td>48.585761</td>\n",
       "      <td>16.715474</td>\n",
       "      <td>193.159977</td>\n",
       "      <td>13.948778</td>\n",
       "      <td>20.501249</td>\n",
       "      <td>40.414927</td>\n",
       "      <td>22.766494</td>\n",
       "    </tr>\n",
       "    <tr>\n",
       "      <th>ACP5</th>\n",
       "      <td>605.897384</td>\n",
       "      <td>1935.201479</td>\n",
       "      <td>1120.104684</td>\n",
       "      <td>306.312519</td>\n",
       "      <td>744.656599</td>\n",
       "      <td>557.819820</td>\n",
       "      <td>248.546932</td>\n",
       "      <td>711.949744</td>\n",
       "      <td>958.916018</td>\n",
       "      <td>493.969120</td>\n",
       "      <td>...</td>\n",
       "      <td>512.931382</td>\n",
       "      <td>13644.172300</td>\n",
       "      <td>1062.475909</td>\n",
       "      <td>7633.960182</td>\n",
       "      <td>13825.053630</td>\n",
       "      <td>3989.865169</td>\n",
       "      <td>263.497930</td>\n",
       "      <td>323.381277</td>\n",
       "      <td>860.563374</td>\n",
       "      <td>307.142798</td>\n",
       "    </tr>\n",
       "  </tbody>\n",
       "</table>\n",
       "<p>5 rows × 22 columns</p>\n",
       "</div>"
      ],
      "text/plain": [
       "             B cells naive  B cells memory  Plasma cells  T cells CD8  \\\n",
       "Gene symbol                                                             \n",
       "ABCB4           555.713449       10.744235      7.225819     4.311280   \n",
       "ABCB9            15.603544       22.094787    653.392328    24.223723   \n",
       "ACAP1           215.305951      321.621021     38.616872  1055.613378   \n",
       "ACHE             15.117949       16.648847     22.123737    13.428288   \n",
       "ACP5            605.897384     1935.201479   1120.104684   306.312519   \n",
       "\n",
       "             T cells CD4 naive  T cells CD4 memory resting  \\\n",
       "Gene symbol                                                  \n",
       "ABCB4                 4.605860                    7.406442   \n",
       "ABCB9                35.671507                   30.048192   \n",
       "ACAP1              1790.097170                  922.152747   \n",
       "ACHE                 27.187732                   18.444927   \n",
       "ACP5                744.656599                  557.819820   \n",
       "\n",
       "             T cells CD4 memory activated  T cells follicular helper  \\\n",
       "Gene symbol                                                            \n",
       "ABCB4                            8.043976                   6.469993   \n",
       "ABCB9                           38.455423                  17.604795   \n",
       "ACAP1                          340.883424                1107.798265   \n",
       "ACHE                            13.441268                  14.805542   \n",
       "ACP5                           248.546932                 711.949744   \n",
       "\n",
       "             T cells regulatory (Tregs)  T cells gamma delta     ...       \\\n",
       "Gene symbol                                                      ...        \n",
       "ABCB4                          7.833082             9.312295     ...        \n",
       "ABCB9                         46.073657            19.715722     ...        \n",
       "ACAP1                       1995.482601           280.075719     ...        \n",
       "ACHE                          24.652712            33.658448     ...        \n",
       "ACP5                         958.916018           493.969120     ...        \n",
       "\n",
       "              Monocytes  Macrophages M0  Macrophages M1  Macrophages M2  \\\n",
       "Gene symbol                                                               \n",
       "ABCB4          6.202496        7.951360       27.557710      121.432277   \n",
       "ABCB9         20.309426       56.251887       29.380878       40.390260   \n",
       "ACAP1        190.879024       48.972217       30.974254       23.055150   \n",
       "ACHE          16.375268       13.692963     1373.069620       48.585761   \n",
       "ACP5         512.931382    13644.172300     1062.475909     7633.960182   \n",
       "\n",
       "             Dendritic cells resting  Dendritic cells activated  \\\n",
       "Gene symbol                                                       \n",
       "ABCB4                     114.636747                   4.872184   \n",
       "ABCB9                     123.993305                  23.384603   \n",
       "ACAP1                      61.386550                  26.412923   \n",
       "ACHE                       16.715474                 193.159977   \n",
       "ACP5                    13825.053630                3989.865169   \n",
       "\n",
       "             Mast cells resting  Mast cells activated  Eosinophils  \\\n",
       "Gene symbol                                                          \n",
       "ABCB4                  4.727985             34.113659    15.030530   \n",
       "ABCB9                 53.466757             23.615746    29.786442   \n",
       "ACAP1                104.200198             73.607932   696.442802   \n",
       "ACHE                  13.948778             20.501249    40.414927   \n",
       "ACP5                 263.497930            323.381277   860.563374   \n",
       "\n",
       "             Neutrophils  \n",
       "Gene symbol               \n",
       "ABCB4          14.906888  \n",
       "ABCB9          33.679147  \n",
       "ACAP1         596.025961  \n",
       "ACHE           22.766494  \n",
       "ACP5          307.142798  \n",
       "\n",
       "[5 rows x 22 columns]"
      ]
     },
     "execution_count": 6,
     "metadata": {},
     "output_type": "execute_result"
    }
   ],
   "source": [
    "reference = pd.read_csv('LM22.txt', sep='\\t').set_index('Gene symbol')\n",
    "print(reference.shape)\n",
    "reference.head()"
   ]
  },
  {
   "cell_type": "code",
   "execution_count": 79,
   "metadata": {
    "collapsed": false,
    "run_control": {
     "frozen": false,
     "read_only": false
    }
   },
   "outputs": [
    {
     "name": "stdout",
     "output_type": "stream",
     "text": [
      "weights (mixture 1)\n"
     ]
    },
    {
     "data": {
      "text/plain": [
       "B cells naive                   0.180363\n",
       "B cells memory                  0.159720\n",
       "Plasma cells                    0.122944\n",
       "T cells CD8                     0.111181\n",
       "T cells CD4 naive               0.087895\n",
       "T cells CD4 memory resting      0.071193\n",
       "T cells CD4 memory activated    0.061377\n",
       "T cells follicular helper       0.052552\n",
       "T cells regulatory (Tregs)      0.038872\n",
       "T cells gamma delta             0.031556\n",
       "NK cells resting                0.019968\n",
       "NK cells activated              0.019982\n",
       "Monocytes                       0.010548\n",
       "Macrophages M0                  0.010333\n",
       "Macrophages M1                  0.010069\n",
       "Macrophages M2                  0.010471\n",
       "Dendritic cells resting         0.000142\n",
       "Dendritic cells activated       0.000062\n",
       "Mast cells resting              0.000481\n",
       "Mast cells activated            0.000000\n",
       "Eosinophils                     0.000289\n",
       "Neutrophils                     0.000000\n",
       "Name: 0, dtype: float64"
      ]
     },
     "execution_count": 79,
     "metadata": {},
     "output_type": "execute_result"
    }
   ],
   "source": [
    "print('weights (mixture 1)')\n",
    "example_result_dat.iloc[0]"
   ]
  },
  {
   "cell_type": "code",
   "execution_count": 50,
   "metadata": {
    "collapsed": false,
    "run_control": {
     "frozen": false,
     "read_only": false
    }
   },
   "outputs": [
    {
     "name": "stdout",
     "output_type": "stream",
     "text": [
      "reweighted\n"
     ]
    },
    {
     "data": {
      "text/html": [
       "<div>\n",
       "<table border=\"1\" class=\"dataframe\">\n",
       "  <thead>\n",
       "    <tr style=\"text-align: right;\">\n",
       "      <th></th>\n",
       "      <th>B cells naive</th>\n",
       "      <th>B cells memory</th>\n",
       "      <th>Plasma cells</th>\n",
       "      <th>T cells CD8</th>\n",
       "      <th>T cells CD4 naive</th>\n",
       "      <th>T cells CD4 memory resting</th>\n",
       "      <th>T cells CD4 memory activated</th>\n",
       "      <th>T cells follicular helper</th>\n",
       "      <th>T cells regulatory (Tregs)</th>\n",
       "      <th>T cells gamma delta</th>\n",
       "      <th>...</th>\n",
       "      <th>Monocytes</th>\n",
       "      <th>Macrophages M0</th>\n",
       "      <th>Macrophages M1</th>\n",
       "      <th>Macrophages M2</th>\n",
       "      <th>Dendritic cells resting</th>\n",
       "      <th>Dendritic cells activated</th>\n",
       "      <th>Mast cells resting</th>\n",
       "      <th>Mast cells activated</th>\n",
       "      <th>Eosinophils</th>\n",
       "      <th>Neutrophils</th>\n",
       "    </tr>\n",
       "    <tr>\n",
       "      <th>Gene symbol</th>\n",
       "      <th></th>\n",
       "      <th></th>\n",
       "      <th></th>\n",
       "      <th></th>\n",
       "      <th></th>\n",
       "      <th></th>\n",
       "      <th></th>\n",
       "      <th></th>\n",
       "      <th></th>\n",
       "      <th></th>\n",
       "      <th></th>\n",
       "      <th></th>\n",
       "      <th></th>\n",
       "      <th></th>\n",
       "      <th></th>\n",
       "      <th></th>\n",
       "      <th></th>\n",
       "      <th></th>\n",
       "      <th></th>\n",
       "      <th></th>\n",
       "      <th></th>\n",
       "    </tr>\n",
       "  </thead>\n",
       "  <tbody>\n",
       "    <tr>\n",
       "      <th>ABCB4</th>\n",
       "      <td>100.230412</td>\n",
       "      <td>1.716071</td>\n",
       "      <td>0.888374</td>\n",
       "      <td>0.479333</td>\n",
       "      <td>0.404831</td>\n",
       "      <td>0.527285</td>\n",
       "      <td>0.493713</td>\n",
       "      <td>0.340008</td>\n",
       "      <td>0.304489</td>\n",
       "      <td>0.293860</td>\n",
       "      <td>...</td>\n",
       "      <td>0.065426</td>\n",
       "      <td>0.082164</td>\n",
       "      <td>0.277469</td>\n",
       "      <td>1.271503</td>\n",
       "      <td>0.016319</td>\n",
       "      <td>0.000305</td>\n",
       "      <td>0.002273</td>\n",
       "      <td>0.0</td>\n",
       "      <td>0.004351</td>\n",
       "      <td>0.0</td>\n",
       "    </tr>\n",
       "    <tr>\n",
       "      <th>ABCB9</th>\n",
       "      <td>2.814309</td>\n",
       "      <td>3.528983</td>\n",
       "      <td>80.330907</td>\n",
       "      <td>2.693221</td>\n",
       "      <td>3.135338</td>\n",
       "      <td>2.139214</td>\n",
       "      <td>2.360267</td>\n",
       "      <td>0.925159</td>\n",
       "      <td>1.790981</td>\n",
       "      <td>0.622153</td>\n",
       "      <td>...</td>\n",
       "      <td>0.214231</td>\n",
       "      <td>0.581269</td>\n",
       "      <td>0.295826</td>\n",
       "      <td>0.422922</td>\n",
       "      <td>0.017651</td>\n",
       "      <td>0.001462</td>\n",
       "      <td>0.025709</td>\n",
       "      <td>0.0</td>\n",
       "      <td>0.008622</td>\n",
       "      <td>0.0</td>\n",
       "    </tr>\n",
       "    <tr>\n",
       "      <th>ACAP1</th>\n",
       "      <td>38.833331</td>\n",
       "      <td>51.369365</td>\n",
       "      <td>4.747727</td>\n",
       "      <td>117.364310</td>\n",
       "      <td>157.340158</td>\n",
       "      <td>65.650607</td>\n",
       "      <td>20.922301</td>\n",
       "      <td>58.216484</td>\n",
       "      <td>77.568657</td>\n",
       "      <td>8.838116</td>\n",
       "      <td>...</td>\n",
       "      <td>2.013458</td>\n",
       "      <td>0.506045</td>\n",
       "      <td>0.311869</td>\n",
       "      <td>0.241408</td>\n",
       "      <td>0.008739</td>\n",
       "      <td>0.001651</td>\n",
       "      <td>0.050104</td>\n",
       "      <td>0.0</td>\n",
       "      <td>0.201587</td>\n",
       "      <td>0.0</td>\n",
       "    </tr>\n",
       "    <tr>\n",
       "      <th>ACHE</th>\n",
       "      <td>2.726726</td>\n",
       "      <td>2.659157</td>\n",
       "      <td>2.719989</td>\n",
       "      <td>1.492973</td>\n",
       "      <td>2.389659</td>\n",
       "      <td>1.313145</td>\n",
       "      <td>0.824981</td>\n",
       "      <td>0.778054</td>\n",
       "      <td>0.958303</td>\n",
       "      <td>1.062132</td>\n",
       "      <td>...</td>\n",
       "      <td>0.172732</td>\n",
       "      <td>0.141494</td>\n",
       "      <td>13.824973</td>\n",
       "      <td>0.508736</td>\n",
       "      <td>0.002380</td>\n",
       "      <td>0.012072</td>\n",
       "      <td>0.006707</td>\n",
       "      <td>0.0</td>\n",
       "      <td>0.011698</td>\n",
       "      <td>0.0</td>\n",
       "    </tr>\n",
       "    <tr>\n",
       "      <th>ACP5</th>\n",
       "      <td>109.281761</td>\n",
       "      <td>309.090718</td>\n",
       "      <td>137.710562</td>\n",
       "      <td>34.056178</td>\n",
       "      <td>65.451412</td>\n",
       "      <td>39.712737</td>\n",
       "      <td>15.254991</td>\n",
       "      <td>37.414042</td>\n",
       "      <td>37.275107</td>\n",
       "      <td>15.587771</td>\n",
       "      <td>...</td>\n",
       "      <td>5.410578</td>\n",
       "      <td>140.989550</td>\n",
       "      <td>10.697710</td>\n",
       "      <td>79.934304</td>\n",
       "      <td>1.968100</td>\n",
       "      <td>0.249364</td>\n",
       "      <td>0.126700</td>\n",
       "      <td>0.0</td>\n",
       "      <td>0.249092</td>\n",
       "      <td>0.0</td>\n",
       "    </tr>\n",
       "  </tbody>\n",
       "</table>\n",
       "<p>5 rows × 22 columns</p>\n",
       "</div>"
      ],
      "text/plain": [
       "             B cells naive  B cells memory  Plasma cells  T cells CD8  \\\n",
       "Gene symbol                                                             \n",
       "ABCB4           100.230412        1.716071      0.888374     0.479333   \n",
       "ABCB9             2.814309        3.528983     80.330907     2.693221   \n",
       "ACAP1            38.833331       51.369365      4.747727   117.364310   \n",
       "ACHE              2.726726        2.659157      2.719989     1.492973   \n",
       "ACP5            109.281761      309.090718    137.710562    34.056178   \n",
       "\n",
       "             T cells CD4 naive  T cells CD4 memory resting  \\\n",
       "Gene symbol                                                  \n",
       "ABCB4                 0.404831                    0.527285   \n",
       "ABCB9                 3.135338                    2.139214   \n",
       "ACAP1               157.340158                   65.650607   \n",
       "ACHE                  2.389659                    1.313145   \n",
       "ACP5                 65.451412                   39.712737   \n",
       "\n",
       "             T cells CD4 memory activated  T cells follicular helper  \\\n",
       "Gene symbol                                                            \n",
       "ABCB4                            0.493713                   0.340008   \n",
       "ABCB9                            2.360267                   0.925159   \n",
       "ACAP1                           20.922301                  58.216484   \n",
       "ACHE                             0.824981                   0.778054   \n",
       "ACP5                            15.254991                  37.414042   \n",
       "\n",
       "             T cells regulatory (Tregs)  T cells gamma delta     ...       \\\n",
       "Gene symbol                                                      ...        \n",
       "ABCB4                          0.304489             0.293860     ...        \n",
       "ABCB9                          1.790981             0.622153     ...        \n",
       "ACAP1                         77.568657             8.838116     ...        \n",
       "ACHE                           0.958303             1.062132     ...        \n",
       "ACP5                          37.275107            15.587771     ...        \n",
       "\n",
       "             Monocytes  Macrophages M0  Macrophages M1  Macrophages M2  \\\n",
       "Gene symbol                                                              \n",
       "ABCB4         0.065426        0.082164        0.277469        1.271503   \n",
       "ABCB9         0.214231        0.581269        0.295826        0.422922   \n",
       "ACAP1         2.013458        0.506045        0.311869        0.241408   \n",
       "ACHE          0.172732        0.141494       13.824973        0.508736   \n",
       "ACP5          5.410578      140.989550       10.697710       79.934304   \n",
       "\n",
       "             Dendritic cells resting  Dendritic cells activated  \\\n",
       "Gene symbol                                                       \n",
       "ABCB4                       0.016319                   0.000305   \n",
       "ABCB9                       0.017651                   0.001462   \n",
       "ACAP1                       0.008739                   0.001651   \n",
       "ACHE                        0.002380                   0.012072   \n",
       "ACP5                        1.968100                   0.249364   \n",
       "\n",
       "             Mast cells resting  Mast cells activated  Eosinophils  \\\n",
       "Gene symbol                                                          \n",
       "ABCB4                  0.002273                   0.0     0.004351   \n",
       "ABCB9                  0.025709                   0.0     0.008622   \n",
       "ACAP1                  0.050104                   0.0     0.201587   \n",
       "ACHE                   0.006707                   0.0     0.011698   \n",
       "ACP5                   0.126700                   0.0     0.249092   \n",
       "\n",
       "             Neutrophils  \n",
       "Gene symbol               \n",
       "ABCB4                0.0  \n",
       "ABCB9                0.0  \n",
       "ACAP1                0.0  \n",
       "ACHE                 0.0  \n",
       "ACP5                 0.0  \n",
       "\n",
       "[5 rows x 22 columns]"
      ]
     },
     "execution_count": 50,
     "metadata": {},
     "output_type": "execute_result"
    }
   ],
   "source": [
    "print('reweighted')\n",
    "(example_result_dat.iloc[0] * reference).head()"
   ]
  },
  {
   "cell_type": "code",
   "execution_count": 67,
   "metadata": {
    "collapsed": false,
    "run_control": {
     "frozen": false,
     "read_only": false
    }
   },
   "outputs": [
    {
     "name": "stdout",
     "output_type": "stream",
     "text": [
      "reconstructed mixture\n",
      "(547,)\n"
     ]
    },
    {
     "data": {
      "text/plain": [
       "Gene symbol\n",
       "ABCB4     107.762461\n",
       "ABCB9     102.672434\n",
       "ACAP1     622.167104\n",
       "ACHE       32.207042\n",
       "ACP5     1052.047536\n",
       "dtype: float64"
      ]
     },
     "execution_count": 67,
     "metadata": {},
     "output_type": "execute_result"
    }
   ],
   "source": [
    "print('reconstructed mixture')\n",
    "mix=(example_result_dat.iloc[0] * reference).sum(axis=1)\n",
    "print(mix.shape)\n",
    "mix.head()"
   ]
  },
  {
   "cell_type": "code",
   "execution_count": 68,
   "metadata": {
    "collapsed": false,
    "run_control": {
     "frozen": false,
     "read_only": false
    }
   },
   "outputs": [
    {
     "name": "stdout",
     "output_type": "stream",
     "text": [
      "actual input mixture\n",
      "(11866,)\n"
     ]
    },
    {
     "data": {
      "text/plain": [
       "GeneSymbol\n",
       "A1CF      317.722091\n",
       "A2M       151.455508\n",
       "A4GALT     73.512724\n",
       "A4GNT     288.295490\n",
       "AAAS      108.864797\n",
       "Name: Mix1, dtype: float64"
      ]
     },
     "execution_count": 68,
     "metadata": {},
     "output_type": "execute_result"
    }
   ],
   "source": [
    "print('actual input mixture')\n",
    "input_mixture = pd.read_csv('~/CIBERSORT_package/ExampleMixtures-GEPs.txt', sep='\\t').set_index('GeneSymbol')['Mix1']\n",
    "print(input_mixture.shape)\n",
    "input_mixture.head()"
   ]
  },
  {
   "cell_type": "code",
   "execution_count": 66,
   "metadata": {
    "collapsed": false,
    "run_control": {
     "frozen": false,
     "read_only": false
    }
   },
   "outputs": [
    {
     "data": {
      "text/html": [
       "<div>\n",
       "<table border=\"1\" class=\"dataframe\">\n",
       "  <thead>\n",
       "    <tr style=\"text-align: right;\">\n",
       "      <th></th>\n",
       "      <th>0</th>\n",
       "      <th>Mix1</th>\n",
       "    </tr>\n",
       "  </thead>\n",
       "  <tbody>\n",
       "    <tr>\n",
       "      <th>ABCB4</th>\n",
       "      <td>107.762461</td>\n",
       "      <td>107.030333</td>\n",
       "    </tr>\n",
       "    <tr>\n",
       "      <th>ABCB9</th>\n",
       "      <td>102.672434</td>\n",
       "      <td>106.405051</td>\n",
       "    </tr>\n",
       "    <tr>\n",
       "      <th>ACAP1</th>\n",
       "      <td>622.167104</td>\n",
       "      <td>622.065301</td>\n",
       "    </tr>\n",
       "    <tr>\n",
       "      <th>ACHE</th>\n",
       "      <td>32.207042</td>\n",
       "      <td>32.112930</td>\n",
       "    </tr>\n",
       "    <tr>\n",
       "      <th>ACP5</th>\n",
       "      <td>1052.047536</td>\n",
       "      <td>1045.560791</td>\n",
       "    </tr>\n",
       "  </tbody>\n",
       "</table>\n",
       "</div>"
      ],
      "text/plain": [
       "                 0         Mix1\n",
       "ABCB4   107.762461   107.030333\n",
       "ABCB9   102.672434   106.405051\n",
       "ACAP1   622.167104   622.065301\n",
       "ACHE     32.207042    32.112930\n",
       "ACP5   1052.047536  1045.560791"
      ]
     },
     "execution_count": 66,
     "metadata": {},
     "output_type": "execute_result"
    }
   ],
   "source": [
    "intersect = pd.merge(pd.DataFrame(mix),pd.DataFrame(input_mixture), left_index=True, right_index=True, how='inner')\n",
    "intersect.head()"
   ]
  },
  {
   "cell_type": "code",
   "execution_count": 72,
   "metadata": {
    "collapsed": false,
    "run_control": {
     "frozen": false,
     "read_only": false
    }
   },
   "outputs": [
    {
     "name": "stdout",
     "output_type": "stream",
     "text": [
      "absolute differences\n"
     ]
    },
    {
     "data": {
      "text/plain": [
       "<matplotlib.axes._subplots.AxesSubplot at 0x7fd2a1f49d90>"
      ]
     },
     "execution_count": 72,
     "metadata": {},
     "output_type": "execute_result"
    },
    {
     "data": {
      "image/png": "[encoded data removed]",
      "text/plain": [
       "<matplotlib.figure.Figure at 0x7fd2a1f49ad0>"
      ]
     },
     "metadata": {},
     "output_type": "display_data"
    }
   ],
   "source": [
    "print('absolute differences')\n",
    "(intersect.diff(axis=1)['Mix1']).hist()"
   ]
  },
  {
   "cell_type": "code",
   "execution_count": 78,
   "metadata": {
    "collapsed": false,
    "run_control": {
     "frozen": false,
     "read_only": false
    }
   },
   "outputs": [
    {
     "name": "stdout",
     "output_type": "stream",
     "text": [
      "correlation\n"
     ]
    },
    {
     "data": {
      "text/html": [
       "<div>\n",
       "<table border=\"1\" class=\"dataframe\">\n",
       "  <thead>\n",
       "    <tr style=\"text-align: right;\">\n",
       "      <th></th>\n",
       "      <th>0</th>\n",
       "      <th>Mix1</th>\n",
       "    </tr>\n",
       "  </thead>\n",
       "  <tbody>\n",
       "    <tr>\n",
       "      <th>0</th>\n",
       "      <td>1.000000</td>\n",
       "      <td>0.999914</td>\n",
       "    </tr>\n",
       "    <tr>\n",
       "      <th>Mix1</th>\n",
       "      <td>0.999914</td>\n",
       "      <td>1.000000</td>\n",
       "    </tr>\n",
       "  </tbody>\n",
       "</table>\n",
       "</div>"
      ],
      "text/plain": [
       "             0      Mix1\n",
       "0     1.000000  0.999914\n",
       "Mix1  0.999914  1.000000"
      ]
     },
     "execution_count": 78,
     "metadata": {},
     "output_type": "execute_result"
    }
   ],
   "source": [
    "print('correlation')\n",
    "intersect.corr()"
   ]
  },
  {
   "cell_type": "markdown",
   "metadata": {},
   "source": [
    "0 is the reconstructed mixture from Cibersort's output; Mix1 is the actual input mixture.\n",
    "\n",
    "We just sanity checked the weighted sum: absolute differences are small, and correlation is very high\n"
   ]
  },
  {
   "cell_type": "markdown",
   "metadata": {},
   "source": [
    "# Simple mixtures\n",
    "\n",
    "Make a fake mixture by adding:\n",
    "\n",
    "1. 2 reference profiles\n",
    "2. \" with noise -- noise is either after the weighted sum or on the weights as applied to each gene\n",
    "3. 2 raw lines from same publication\n",
    "4. \" with noise\n",
    "5. 2 raw lines from another publication\n",
    "4. \" with noise\n",
    "\n",
    "Randomly chose to do this with naive B cells and Tregs\n",
    "\n",
    "\n",
    "## reference profiles, w/o noise and w/ two types of noise"
   ]
  },
  {
   "cell_type": "code",
   "execution_count": 7,
   "metadata": {
    "ExecuteTime": {
     "end_time": "2016-12-08T21:12:41.238221",
     "start_time": "2016-12-08T21:12:41.203603"
    },
    "collapsed": false,
    "init_cell": true,
    "run_control": {
     "frozen": false,
     "read_only": false
    }
   },
   "outputs": [
    {
     "data": {
      "text/plain": [
       "(547, 2)"
      ]
     },
     "execution_count": 7,
     "metadata": {},
     "output_type": "execute_result"
    }
   ],
   "source": [
    "simple_cols = ['B cells naive', 'T cells regulatory (Tregs)']\n",
    "reference[simple_cols].shape"
   ]
  },
  {
   "cell_type": "code",
   "execution_count": 90,
   "metadata": {
    "ExecuteTime": {
     "end_time": "2016-07-06T11:58:27.303558",
     "start_time": "2016-07-06T11:58:27.143781"
    },
    "collapsed": true,
    "run_control": {
     "frozen": false,
     "read_only": false
    }
   },
   "outputs": [],
   "source": [
    "!mkdir -p test_mixtures"
   ]
  },
  {
   "cell_type": "code",
   "execution_count": 8,
   "metadata": {
    "ExecuteTime": {
     "end_time": "2016-12-08T21:12:41.248012",
     "start_time": "2016-12-08T21:12:41.243475"
    },
    "collapsed": true,
    "init_cell": true,
    "run_control": {
     "frozen": false,
     "read_only": false
    }
   },
   "outputs": [],
   "source": [
    "weights = [.25, .75]"
   ]
  },
  {
   "cell_type": "code",
   "execution_count": 92,
   "metadata": {
    "ExecuteTime": {
     "end_time": "2016-07-06T11:58:35.630517",
     "start_time": "2016-07-06T11:58:35.590180"
    },
    "collapsed": false,
    "run_control": {
     "frozen": false,
     "read_only": false
    }
   },
   "outputs": [
    {
     "data": {
      "text/plain": [
       "Gene symbol\n",
       "ABCB4     144.803173\n",
       "ABCB9      38.456129\n",
       "ACAP1    1550.438439\n",
       "ACHE       22.269021\n",
       "ACP5      870.661360\n",
       "dtype: float64"
      ]
     },
     "execution_count": 92,
     "metadata": {},
     "output_type": "execute_result"
    }
   ],
   "source": [
    "mix1=(reference[simple_cols] * weights).sum(axis=1)\n",
    "mix1.head()"
   ]
  },
  {
   "cell_type": "code",
   "execution_count": 93,
   "metadata": {
    "ExecuteTime": {
     "end_time": "2016-07-06T11:58:37.095632",
     "start_time": "2016-07-06T11:58:37.071330"
    },
    "collapsed": false,
    "run_control": {
     "frozen": false,
     "read_only": false
    }
   },
   "outputs": [
    {
     "data": {
      "text/plain": [
       "Gene symbol\n",
       "ABCB4     144.517465\n",
       "ABCB9      38.184898\n",
       "ACAP1    1548.624683\n",
       "ACHE       23.237140\n",
       "ACP5      871.332040\n",
       "dtype: float64"
      ]
     },
     "execution_count": 93,
     "metadata": {},
     "output_type": "execute_result"
    }
   ],
   "source": [
    "mix2 = mix1 + np.random.normal(0,1,len(mix1))\n",
    "mix2.head()"
   ]
  },
  {
   "cell_type": "code",
   "execution_count": 95,
   "metadata": {
    "ExecuteTime": {
     "end_time": "2016-07-06T11:59:32.463853",
     "start_time": "2016-07-06T11:59:32.434557"
    },
    "collapsed": false,
    "run_control": {
     "frozen": false,
     "read_only": false
    }
   },
   "outputs": [
    {
     "data": {
      "text/plain": [
       "array([[ 0.25,  0.75],\n",
       "       [ 0.25,  0.75],\n",
       "       [ 0.25,  0.75],\n",
       "       ..., \n",
       "       [ 0.25,  0.75],\n",
       "       [ 0.25,  0.75],\n",
       "       [ 0.25,  0.75]])"
      ]
     },
     "execution_count": 95,
     "metadata": {},
     "output_type": "execute_result"
    }
   ],
   "source": [
    "weights_noisy = np.reshape(weights*len(mix1), reference[simple_cols].shape)\n",
    "weights_noisy"
   ]
  },
  {
   "cell_type": "code",
   "execution_count": 96,
   "metadata": {
    "ExecuteTime": {
     "end_time": "2016-07-06T11:59:34.916690",
     "start_time": "2016-07-06T11:59:34.889373"
    },
    "collapsed": false,
    "run_control": {
     "frozen": false,
     "read_only": false
    }
   },
   "outputs": [
    {
     "data": {
      "text/plain": [
       "array([[ 0.25226591,  0.96622808],\n",
       "       [ 0.27957567,  0.93687158],\n",
       "       [ 0.36977254,  0.90043202],\n",
       "       ..., \n",
       "       [ 0.25172326,  0.86555592],\n",
       "       [ 0.31736847,  0.76659725],\n",
       "       [ 0.38896076,  0.86173159]])"
      ]
     },
     "execution_count": 96,
     "metadata": {},
     "output_type": "execute_result"
    }
   ],
   "source": [
    "weights_noisy += np.abs(np.random.normal(0,0.1, weights_noisy.shape))\n",
    "weights_noisy"
   ]
  },
  {
   "cell_type": "code",
   "execution_count": 97,
   "metadata": {
    "ExecuteTime": {
     "end_time": "2016-07-06T11:59:36.874459",
     "start_time": "2016-07-06T11:59:36.864295"
    },
    "collapsed": false,
    "run_control": {
     "frozen": false,
     "read_only": false
    }
   },
   "outputs": [],
   "source": [
    "weights_noisy = weights_noisy.clip(0,1)"
   ]
  },
  {
   "cell_type": "code",
   "execution_count": 98,
   "metadata": {
    "ExecuteTime": {
     "end_time": "2016-07-06T11:59:37.590718",
     "start_time": "2016-07-06T11:59:37.574246"
    },
    "collapsed": false,
    "run_control": {
     "frozen": false,
     "read_only": false
    }
   },
   "outputs": [
    {
     "data": {
      "text/plain": [
       "array([[ 0.25226591,  0.96622808],\n",
       "       [ 0.27957567,  0.93687158],\n",
       "       [ 0.36977254,  0.90043202],\n",
       "       ..., \n",
       "       [ 0.25172326,  0.86555592],\n",
       "       [ 0.31736847,  0.76659725],\n",
       "       [ 0.38896076,  0.86173159]])"
      ]
     },
     "execution_count": 98,
     "metadata": {},
     "output_type": "execute_result"
    }
   ],
   "source": [
    "weights_noisy"
   ]
  },
  {
   "cell_type": "code",
   "execution_count": 99,
   "metadata": {
    "ExecuteTime": {
     "end_time": "2016-07-06T11:59:38.622344",
     "start_time": "2016-07-06T11:59:38.592085"
    },
    "collapsed": false,
    "run_control": {
     "frozen": false,
     "read_only": false
    }
   },
   "outputs": [
    {
     "data": {
      "text/plain": [
       "Gene symbol\n",
       "ABCB4     147.756105\n",
       "ABCB9      47.527471\n",
       "ACAP1    1876.410648\n",
       "ACHE       26.011304\n",
       "ACP5     1046.063450\n",
       "dtype: float64"
      ]
     },
     "execution_count": 99,
     "metadata": {},
     "output_type": "execute_result"
    }
   ],
   "source": [
    "mix3=(weights_noisy * reference[simple_cols]).sum(axis=1)\n",
    "mix3.head()"
   ]
  },
  {
   "cell_type": "code",
   "execution_count": 100,
   "metadata": {
    "ExecuteTime": {
     "end_time": "2016-07-06T11:59:41.612101",
     "start_time": "2016-07-06T11:59:41.538174"
    },
    "collapsed": false,
    "run_control": {
     "frozen": false,
     "read_only": false
    }
   },
   "outputs": [
    {
     "name": "stdout",
     "output_type": "stream",
     "text": [
      "(547, 3)\n"
     ]
    },
    {
     "data": {
      "text/html": [
       "<div>\n",
       "<table border=\"1\" class=\"dataframe\">\n",
       "  <thead>\n",
       "    <tr style=\"text-align: right;\">\n",
       "      <th></th>\n",
       "      <th>1 NoNoise</th>\n",
       "      <th>2 SimpleNoise</th>\n",
       "      <th>3 ComplexNoise</th>\n",
       "    </tr>\n",
       "    <tr>\n",
       "      <th>GeneSymbol</th>\n",
       "      <th></th>\n",
       "      <th></th>\n",
       "      <th></th>\n",
       "    </tr>\n",
       "  </thead>\n",
       "  <tbody>\n",
       "    <tr>\n",
       "      <th>ABCB4</th>\n",
       "      <td>144.803173</td>\n",
       "      <td>144.517465</td>\n",
       "      <td>147.756105</td>\n",
       "    </tr>\n",
       "    <tr>\n",
       "      <th>ABCB9</th>\n",
       "      <td>38.456129</td>\n",
       "      <td>38.184898</td>\n",
       "      <td>47.527471</td>\n",
       "    </tr>\n",
       "    <tr>\n",
       "      <th>ACAP1</th>\n",
       "      <td>1550.438439</td>\n",
       "      <td>1548.624683</td>\n",
       "      <td>1876.410648</td>\n",
       "    </tr>\n",
       "    <tr>\n",
       "      <th>ACHE</th>\n",
       "      <td>22.269021</td>\n",
       "      <td>23.237140</td>\n",
       "      <td>26.011304</td>\n",
       "    </tr>\n",
       "    <tr>\n",
       "      <th>ACP5</th>\n",
       "      <td>870.661360</td>\n",
       "      <td>871.332040</td>\n",
       "      <td>1046.063450</td>\n",
       "    </tr>\n",
       "  </tbody>\n",
       "</table>\n",
       "</div>"
      ],
      "text/plain": [
       "              1 NoNoise  2 SimpleNoise  3 ComplexNoise\n",
       "GeneSymbol                                            \n",
       "ABCB4        144.803173     144.517465      147.756105\n",
       "ABCB9         38.456129      38.184898       47.527471\n",
       "ACAP1       1550.438439    1548.624683     1876.410648\n",
       "ACHE          22.269021      23.237140       26.011304\n",
       "ACP5         870.661360     871.332040     1046.063450"
      ]
     },
     "execution_count": 100,
     "metadata": {},
     "output_type": "execute_result"
    }
   ],
   "source": [
    "# write out the reference profile mixtures\n",
    "# we use 1,etc. to order them properly so that we can interpret cibersort output in the same order\n",
    "ref_prof_mixtures = pd.DataFrame({'1 NoNoise':mix1, '2 SimpleNoise': mix2, '3 ComplexNoise': mix3})\n",
    "ref_prof_mixtures.index.name='GeneSymbol'\n",
    "ref_prof_mixtures.to_csv('test_mixtures/reference_profile_mixtures.txt', sep='\\t')\n",
    "print(ref_prof_mixtures.shape)\n",
    "ref_prof_mixtures.head()"
   ]
  },
  {
   "cell_type": "code",
   "execution_count": 101,
   "metadata": {
    "ExecuteTime": {
     "end_time": "2016-07-06T11:59:45.130442",
     "start_time": "2016-07-06T11:59:44.998457"
    },
    "collapsed": false,
    "run_control": {
     "frozen": false,
     "read_only": false
    }
   },
   "outputs": [
    {
     "name": "stdout",
     "output_type": "stream",
     "text": [
      "GeneSymbol\t1 NoNoise\t2 SimpleNoise\t3 ComplexNoise\r\n",
      "ABCB4\t144.80317346\t144.51746513\t147.756104751\r\n",
      "ABCB9\t38.456128555\t38.1848984585\t47.5274708782\r\n",
      "ACAP1\t1550.43843855\t1548.62468263\t1876.41064754\r\n",
      "ACHE\t22.2690212975\t23.2371404942\t26.0113036504\r\n",
      "ACP5\t870.66135965\t871.332039721\t1046.06344957\r\n",
      "ADAM28\t542.010426007\t541.185177756\t690.509399757\r\n",
      "ADAMDEC1\t210.28913955\t210.333623496\t243.933244509\r\n",
      "ADAMTS3\t93.75935526\t94.6751676958\t133.870699547\r\n",
      "ADRB2\t284.383031725\t286.196401416\t350.430764868\r\n"
     ]
    }
   ],
   "source": [
    "!head test_mixtures/reference_profile_mixtures.txt"
   ]
  },
  {
   "cell_type": "markdown",
   "metadata": {},
   "source": [
    "### run this through cibersort"
   ]
  },
  {
   "cell_type": "code",
   "execution_count": 103,
   "metadata": {
    "ExecuteTime": {
     "end_time": "2016-07-06T12:04:27.504116",
     "start_time": "2016-07-06T12:03:16.379463"
    },
    "collapsed": false,
    "run_control": {
     "frozen": false,
     "read_only": false
    }
   },
   "outputs": [],
   "source": [
    "!java -Xmx3g -Xms3g -jar ~/CIBERSORT_package/CIBERSORT.jar -M test_mixtures/reference_profile_mixtures.txt -B LM22.txt > test_mixtures/out/c1"
   ]
  },
  {
   "cell_type": "code",
   "execution_count": 105,
   "metadata": {
    "ExecuteTime": {
     "end_time": "2016-07-06T12:07:13.153643",
     "start_time": "2016-07-06T12:07:13.064958"
    },
    "collapsed": false,
    "run_control": {
     "frozen": false,
     "read_only": false
    }
   },
   "outputs": [
    {
     "data": {
      "text/html": [
       "<div>\n",
       "<table border=\"1\" class=\"dataframe\">\n",
       "  <thead>\n",
       "    <tr style=\"text-align: right;\">\n",
       "      <th></th>\n",
       "      <th>Column</th>\n",
       "      <th>B cells naive</th>\n",
       "      <th>B cells memory</th>\n",
       "      <th>Plasma cells</th>\n",
       "      <th>T cells CD8</th>\n",
       "      <th>T cells CD4 naive</th>\n",
       "      <th>T cells CD4 memory resting</th>\n",
       "      <th>T cells CD4 memory activated</th>\n",
       "      <th>T cells follicular helper</th>\n",
       "      <th>T cells regulatory (Tregs)</th>\n",
       "      <th>...</th>\n",
       "      <th>Dendritic cells resting</th>\n",
       "      <th>Dendritic cells activated</th>\n",
       "      <th>Mast cells resting</th>\n",
       "      <th>Mast cells activated</th>\n",
       "      <th>Eosinophils</th>\n",
       "      <th>Neutrophils</th>\n",
       "      <th>P-value</th>\n",
       "      <th>Pearson Correlation</th>\n",
       "      <th>RMSE</th>\n",
       "      <th>Unnamed: 26</th>\n",
       "    </tr>\n",
       "  </thead>\n",
       "  <tbody>\n",
       "    <tr>\n",
       "      <th>0</th>\n",
       "      <td>0</td>\n",
       "      <td>0.248937</td>\n",
       "      <td>0.000415</td>\n",
       "      <td>0</td>\n",
       "      <td>0.000000</td>\n",
       "      <td>0.000000</td>\n",
       "      <td>0.000256</td>\n",
       "      <td>0</td>\n",
       "      <td>0.000000</td>\n",
       "      <td>0.749696</td>\n",
       "      <td>...</td>\n",
       "      <td>0</td>\n",
       "      <td>0.000044</td>\n",
       "      <td>0.000000</td>\n",
       "      <td>0.000048</td>\n",
       "      <td>0.000048</td>\n",
       "      <td>0.000000</td>\n",
       "      <td>0.0</td>\n",
       "      <td>0.999721</td>\n",
       "      <td>0.273824</td>\n",
       "      <td>NaN</td>\n",
       "    </tr>\n",
       "    <tr>\n",
       "      <th>1</th>\n",
       "      <td>1</td>\n",
       "      <td>0.248427</td>\n",
       "      <td>0.000749</td>\n",
       "      <td>0</td>\n",
       "      <td>0.000085</td>\n",
       "      <td>0.000000</td>\n",
       "      <td>0.000376</td>\n",
       "      <td>0</td>\n",
       "      <td>0.000092</td>\n",
       "      <td>0.749502</td>\n",
       "      <td>...</td>\n",
       "      <td>0</td>\n",
       "      <td>0.000060</td>\n",
       "      <td>0.000000</td>\n",
       "      <td>0.000182</td>\n",
       "      <td>0.000026</td>\n",
       "      <td>0.000052</td>\n",
       "      <td>0.0</td>\n",
       "      <td>0.999718</td>\n",
       "      <td>0.273964</td>\n",
       "      <td>NaN</td>\n",
       "    </tr>\n",
       "    <tr>\n",
       "      <th>2</th>\n",
       "      <td>2</td>\n",
       "      <td>0.236681</td>\n",
       "      <td>0.037924</td>\n",
       "      <td>0</td>\n",
       "      <td>0.000000</td>\n",
       "      <td>0.000354</td>\n",
       "      <td>0.001472</td>\n",
       "      <td>0</td>\n",
       "      <td>0.000364</td>\n",
       "      <td>0.717744</td>\n",
       "      <td>...</td>\n",
       "      <td>0</td>\n",
       "      <td>0.000000</td>\n",
       "      <td>0.000286</td>\n",
       "      <td>0.000970</td>\n",
       "      <td>0.000000</td>\n",
       "      <td>0.000000</td>\n",
       "      <td>0.0</td>\n",
       "      <td>0.997885</td>\n",
       "      <td>0.291073</td>\n",
       "      <td>NaN</td>\n",
       "    </tr>\n",
       "  </tbody>\n",
       "</table>\n",
       "<p>3 rows × 27 columns</p>\n",
       "</div>"
      ],
      "text/plain": [
       "   Column  B cells naive  B cells memory  Plasma cells  T cells CD8  \\\n",
       "0       0       0.248937        0.000415             0     0.000000   \n",
       "1       1       0.248427        0.000749             0     0.000085   \n",
       "2       2       0.236681        0.037924             0     0.000000   \n",
       "\n",
       "   T cells CD4 naive  T cells CD4 memory resting  \\\n",
       "0           0.000000                    0.000256   \n",
       "1           0.000000                    0.000376   \n",
       "2           0.000354                    0.001472   \n",
       "\n",
       "   T cells CD4 memory activated  T cells follicular helper  \\\n",
       "0                             0                   0.000000   \n",
       "1                             0                   0.000092   \n",
       "2                             0                   0.000364   \n",
       "\n",
       "   T cells regulatory (Tregs)     ...       Dendritic cells resting  \\\n",
       "0                    0.749696     ...                             0   \n",
       "1                    0.749502     ...                             0   \n",
       "2                    0.717744     ...                             0   \n",
       "\n",
       "   Dendritic cells activated  Mast cells resting  Mast cells activated  \\\n",
       "0                   0.000044            0.000000              0.000048   \n",
       "1                   0.000060            0.000000              0.000182   \n",
       "2                   0.000000            0.000286              0.000970   \n",
       "\n",
       "   Eosinophils  Neutrophils  P-value  Pearson Correlation      RMSE  \\\n",
       "0     0.000048     0.000000      0.0             0.999721  0.273824   \n",
       "1     0.000026     0.000052      0.0             0.999718  0.273964   \n",
       "2     0.000000     0.000000      0.0             0.997885  0.291073   \n",
       "\n",
       "   Unnamed: 26  \n",
       "0          NaN  \n",
       "1          NaN  \n",
       "2          NaN  \n",
       "\n",
       "[3 rows x 27 columns]"
      ]
     },
     "execution_count": 105,
     "metadata": {},
     "output_type": "execute_result"
    }
   ],
   "source": [
    "results = pd.read_csv('test_mixtures/out/c1', skiprows=list(range(6)), sep='\\t')\n",
    "results.head()"
   ]
  },
  {
   "cell_type": "code",
   "execution_count": 106,
   "metadata": {
    "ExecuteTime": {
     "end_time": "2016-07-06T12:07:18.170855",
     "start_time": "2016-07-06T12:07:18.091084"
    },
    "collapsed": false,
    "run_control": {
     "frozen": false,
     "read_only": false
    }
   },
   "outputs": [
    {
     "name": "stdout",
     "output_type": "stream",
     "text": [
      "(3, 26) (3, 22)\n"
     ]
    },
    {
     "data": {
      "text/html": [
       "<div>\n",
       "<table border=\"1\" class=\"dataframe\">\n",
       "  <thead>\n",
       "    <tr style=\"text-align: right;\">\n",
       "      <th></th>\n",
       "      <th>B cells naive</th>\n",
       "      <th>B cells memory</th>\n",
       "      <th>Plasma cells</th>\n",
       "      <th>T cells CD8</th>\n",
       "      <th>T cells CD4 naive</th>\n",
       "      <th>T cells CD4 memory resting</th>\n",
       "      <th>T cells CD4 memory activated</th>\n",
       "      <th>T cells follicular helper</th>\n",
       "      <th>T cells regulatory (Tregs)</th>\n",
       "      <th>T cells gamma delta</th>\n",
       "      <th>...</th>\n",
       "      <th>Monocytes</th>\n",
       "      <th>Macrophages M0</th>\n",
       "      <th>Macrophages M1</th>\n",
       "      <th>Macrophages M2</th>\n",
       "      <th>Dendritic cells resting</th>\n",
       "      <th>Dendritic cells activated</th>\n",
       "      <th>Mast cells resting</th>\n",
       "      <th>Mast cells activated</th>\n",
       "      <th>Eosinophils</th>\n",
       "      <th>Neutrophils</th>\n",
       "    </tr>\n",
       "  </thead>\n",
       "  <tbody>\n",
       "    <tr>\n",
       "      <th>0</th>\n",
       "      <td>0.248937</td>\n",
       "      <td>0.000415</td>\n",
       "      <td>0</td>\n",
       "      <td>0.000000</td>\n",
       "      <td>0.000000</td>\n",
       "      <td>0.000256</td>\n",
       "      <td>0</td>\n",
       "      <td>0.000000</td>\n",
       "      <td>0.749696</td>\n",
       "      <td>0.000000</td>\n",
       "      <td>...</td>\n",
       "      <td>0</td>\n",
       "      <td>0</td>\n",
       "      <td>0.000000</td>\n",
       "      <td>0</td>\n",
       "      <td>0</td>\n",
       "      <td>0.000044</td>\n",
       "      <td>0.000000</td>\n",
       "      <td>0.000048</td>\n",
       "      <td>0.000048</td>\n",
       "      <td>0.000000</td>\n",
       "    </tr>\n",
       "    <tr>\n",
       "      <th>1</th>\n",
       "      <td>0.248427</td>\n",
       "      <td>0.000749</td>\n",
       "      <td>0</td>\n",
       "      <td>0.000085</td>\n",
       "      <td>0.000000</td>\n",
       "      <td>0.000376</td>\n",
       "      <td>0</td>\n",
       "      <td>0.000092</td>\n",
       "      <td>0.749502</td>\n",
       "      <td>0.000000</td>\n",
       "      <td>...</td>\n",
       "      <td>0</td>\n",
       "      <td>0</td>\n",
       "      <td>0.000000</td>\n",
       "      <td>0</td>\n",
       "      <td>0</td>\n",
       "      <td>0.000060</td>\n",
       "      <td>0.000000</td>\n",
       "      <td>0.000182</td>\n",
       "      <td>0.000026</td>\n",
       "      <td>0.000052</td>\n",
       "    </tr>\n",
       "    <tr>\n",
       "      <th>2</th>\n",
       "      <td>0.236681</td>\n",
       "      <td>0.037924</td>\n",
       "      <td>0</td>\n",
       "      <td>0.000000</td>\n",
       "      <td>0.000354</td>\n",
       "      <td>0.001472</td>\n",
       "      <td>0</td>\n",
       "      <td>0.000364</td>\n",
       "      <td>0.717744</td>\n",
       "      <td>0.000674</td>\n",
       "      <td>...</td>\n",
       "      <td>0</td>\n",
       "      <td>0</td>\n",
       "      <td>0.000466</td>\n",
       "      <td>0</td>\n",
       "      <td>0</td>\n",
       "      <td>0.000000</td>\n",
       "      <td>0.000286</td>\n",
       "      <td>0.000970</td>\n",
       "      <td>0.000000</td>\n",
       "      <td>0.000000</td>\n",
       "    </tr>\n",
       "  </tbody>\n",
       "</table>\n",
       "<p>3 rows × 22 columns</p>\n",
       "</div>"
      ],
      "text/plain": [
       "   B cells naive  B cells memory  Plasma cells  T cells CD8  \\\n",
       "0       0.248937        0.000415             0     0.000000   \n",
       "1       0.248427        0.000749             0     0.000085   \n",
       "2       0.236681        0.037924             0     0.000000   \n",
       "\n",
       "   T cells CD4 naive  T cells CD4 memory resting  \\\n",
       "0           0.000000                    0.000256   \n",
       "1           0.000000                    0.000376   \n",
       "2           0.000354                    0.001472   \n",
       "\n",
       "   T cells CD4 memory activated  T cells follicular helper  \\\n",
       "0                             0                   0.000000   \n",
       "1                             0                   0.000092   \n",
       "2                             0                   0.000364   \n",
       "\n",
       "   T cells regulatory (Tregs)  T cells gamma delta     ...       Monocytes  \\\n",
       "0                    0.749696             0.000000     ...               0   \n",
       "1                    0.749502             0.000000     ...               0   \n",
       "2                    0.717744             0.000674     ...               0   \n",
       "\n",
       "   Macrophages M0  Macrophages M1  Macrophages M2  Dendritic cells resting  \\\n",
       "0               0        0.000000               0                        0   \n",
       "1               0        0.000000               0                        0   \n",
       "2               0        0.000466               0                        0   \n",
       "\n",
       "   Dendritic cells activated  Mast cells resting  Mast cells activated  \\\n",
       "0                   0.000044            0.000000              0.000048   \n",
       "1                   0.000060            0.000000              0.000182   \n",
       "2                   0.000000            0.000286              0.000970   \n",
       "\n",
       "   Eosinophils  Neutrophils  \n",
       "0     0.000048     0.000000  \n",
       "1     0.000026     0.000052  \n",
       "2     0.000000     0.000000  \n",
       "\n",
       "[3 rows x 22 columns]"
      ]
     },
     "execution_count": 106,
     "metadata": {},
     "output_type": "execute_result"
    }
   ],
   "source": [
    "del results['Unnamed: 26']\n",
    "results_dat = results[results.columns[1:-3]]\n",
    "print(results.shape, results_dat.shape)\n",
    "results_dat.head()"
   ]
  },
  {
   "cell_type": "code",
   "execution_count": 107,
   "metadata": {
    "ExecuteTime": {
     "end_time": "2016-07-06T12:07:28.748915",
     "start_time": "2016-07-06T12:07:28.693478"
    },
    "collapsed": false,
    "run_control": {
     "frozen": false,
     "read_only": false
    }
   },
   "outputs": [
    {
     "data": {
      "text/html": [
       "<div>\n",
       "<table border=\"1\" class=\"dataframe\">\n",
       "  <thead>\n",
       "    <tr style=\"text-align: right;\">\n",
       "      <th></th>\n",
       "      <th>B cells naive</th>\n",
       "      <th>B cells memory</th>\n",
       "      <th>Plasma cells</th>\n",
       "      <th>T cells CD8</th>\n",
       "      <th>T cells CD4 naive</th>\n",
       "      <th>T cells CD4 memory resting</th>\n",
       "      <th>T cells CD4 memory activated</th>\n",
       "      <th>T cells follicular helper</th>\n",
       "      <th>T cells regulatory (Tregs)</th>\n",
       "      <th>T cells gamma delta</th>\n",
       "      <th>...</th>\n",
       "      <th>Monocytes</th>\n",
       "      <th>Macrophages M0</th>\n",
       "      <th>Macrophages M1</th>\n",
       "      <th>Macrophages M2</th>\n",
       "      <th>Dendritic cells resting</th>\n",
       "      <th>Dendritic cells activated</th>\n",
       "      <th>Mast cells resting</th>\n",
       "      <th>Mast cells activated</th>\n",
       "      <th>Eosinophils</th>\n",
       "      <th>Neutrophils</th>\n",
       "    </tr>\n",
       "  </thead>\n",
       "  <tbody>\n",
       "    <tr>\n",
       "      <th>0</th>\n",
       "      <td>0.25</td>\n",
       "      <td>0.0</td>\n",
       "      <td>0.0</td>\n",
       "      <td>0.0</td>\n",
       "      <td>0.0</td>\n",
       "      <td>0.0</td>\n",
       "      <td>0.0</td>\n",
       "      <td>0.0</td>\n",
       "      <td>0.75</td>\n",
       "      <td>0.0</td>\n",
       "      <td>...</td>\n",
       "      <td>0.0</td>\n",
       "      <td>0.0</td>\n",
       "      <td>0.0</td>\n",
       "      <td>0.0</td>\n",
       "      <td>0.0</td>\n",
       "      <td>0.0</td>\n",
       "      <td>0.0</td>\n",
       "      <td>0.0</td>\n",
       "      <td>0.0</td>\n",
       "      <td>0.0</td>\n",
       "    </tr>\n",
       "    <tr>\n",
       "      <th>1</th>\n",
       "      <td>0.25</td>\n",
       "      <td>0.0</td>\n",
       "      <td>0.0</td>\n",
       "      <td>0.0</td>\n",
       "      <td>0.0</td>\n",
       "      <td>0.0</td>\n",
       "      <td>0.0</td>\n",
       "      <td>0.0</td>\n",
       "      <td>0.75</td>\n",
       "      <td>0.0</td>\n",
       "      <td>...</td>\n",
       "      <td>0.0</td>\n",
       "      <td>0.0</td>\n",
       "      <td>0.0</td>\n",
       "      <td>0.0</td>\n",
       "      <td>0.0</td>\n",
       "      <td>0.0</td>\n",
       "      <td>0.0</td>\n",
       "      <td>0.0</td>\n",
       "      <td>0.0</td>\n",
       "      <td>0.0</td>\n",
       "    </tr>\n",
       "    <tr>\n",
       "      <th>2</th>\n",
       "      <td>0.25</td>\n",
       "      <td>0.0</td>\n",
       "      <td>0.0</td>\n",
       "      <td>0.0</td>\n",
       "      <td>0.0</td>\n",
       "      <td>0.0</td>\n",
       "      <td>0.0</td>\n",
       "      <td>0.0</td>\n",
       "      <td>0.75</td>\n",
       "      <td>0.0</td>\n",
       "      <td>...</td>\n",
       "      <td>0.0</td>\n",
       "      <td>0.0</td>\n",
       "      <td>0.0</td>\n",
       "      <td>0.0</td>\n",
       "      <td>0.0</td>\n",
       "      <td>0.0</td>\n",
       "      <td>0.0</td>\n",
       "      <td>0.0</td>\n",
       "      <td>0.0</td>\n",
       "      <td>0.0</td>\n",
       "    </tr>\n",
       "  </tbody>\n",
       "</table>\n",
       "<p>3 rows × 22 columns</p>\n",
       "</div>"
      ],
      "text/plain": [
       "   B cells naive  B cells memory  Plasma cells  T cells CD8  \\\n",
       "0           0.25             0.0           0.0          0.0   \n",
       "1           0.25             0.0           0.0          0.0   \n",
       "2           0.25             0.0           0.0          0.0   \n",
       "\n",
       "   T cells CD4 naive  T cells CD4 memory resting  \\\n",
       "0                0.0                         0.0   \n",
       "1                0.0                         0.0   \n",
       "2                0.0                         0.0   \n",
       "\n",
       "   T cells CD4 memory activated  T cells follicular helper  \\\n",
       "0                           0.0                        0.0   \n",
       "1                           0.0                        0.0   \n",
       "2                           0.0                        0.0   \n",
       "\n",
       "   T cells regulatory (Tregs)  T cells gamma delta     ...       Monocytes  \\\n",
       "0                        0.75                  0.0     ...             0.0   \n",
       "1                        0.75                  0.0     ...             0.0   \n",
       "2                        0.75                  0.0     ...             0.0   \n",
       "\n",
       "   Macrophages M0  Macrophages M1  Macrophages M2  Dendritic cells resting  \\\n",
       "0             0.0             0.0             0.0                      0.0   \n",
       "1             0.0             0.0             0.0                      0.0   \n",
       "2             0.0             0.0             0.0                      0.0   \n",
       "\n",
       "   Dendritic cells activated  Mast cells resting  Mast cells activated  \\\n",
       "0                        0.0                 0.0                   0.0   \n",
       "1                        0.0                 0.0                   0.0   \n",
       "2                        0.0                 0.0                   0.0   \n",
       "\n",
       "   Eosinophils  Neutrophils  \n",
       "0          0.0          0.0  \n",
       "1          0.0          0.0  \n",
       "2          0.0          0.0  \n",
       "\n",
       "[3 rows x 22 columns]"
      ]
     },
     "execution_count": 107,
     "metadata": {},
     "output_type": "execute_result"
    }
   ],
   "source": [
    "ref_prof_weights = pd.DataFrame(np.zeros(results_dat.shape),columns=results_dat.columns)\n",
    "ref_prof_weights.loc[:,simple_cols] = weights\n",
    "ref_prof_weights"
   ]
  },
  {
   "cell_type": "code",
   "execution_count": 108,
   "metadata": {
    "ExecuteTime": {
     "end_time": "2016-07-06T12:07:32.248770",
     "start_time": "2016-07-06T12:07:32.211935"
    },
    "collapsed": false,
    "run_control": {
     "frozen": false,
     "read_only": false
    }
   },
   "outputs": [
    {
     "name": "stdout",
     "output_type": "stream",
     "text": [
      "correlation between GT and estimate per mixture\n",
      "0    0.999999\n",
      "1    0.999998\n",
      "2    0.998707\n",
      "dtype: float64\n"
     ]
    }
   ],
   "source": [
    "print('correlation between GT and estimate per mixture')\n",
    "print(results_dat.corrwith(ref_prof_weights, axis=1))"
   ]
  },
  {
   "cell_type": "markdown",
   "metadata": {},
   "source": [
    "Why is the deconvolution better when we have noise?"
   ]
  },
  {
   "cell_type": "code",
   "execution_count": 109,
   "metadata": {
    "ExecuteTime": {
     "end_time": "2016-07-06T12:07:36.137592",
     "start_time": "2016-07-06T12:07:35.371893"
    },
    "collapsed": false,
    "run_control": {
     "frozen": false,
     "read_only": false
    }
   },
   "outputs": [
    {
     "name": "stdout",
     "output_type": "stream",
     "text": [
      "absolute difference from ground truth, summarized by column:\n"
     ]
    },
    {
     "data": {
      "text/html": [
       "<div>\n",
       "<table border=\"1\" class=\"dataframe\">\n",
       "  <thead>\n",
       "    <tr style=\"text-align: right;\">\n",
       "      <th></th>\n",
       "      <th>B cells naive</th>\n",
       "      <th>B cells memory</th>\n",
       "      <th>Plasma cells</th>\n",
       "      <th>T cells CD8</th>\n",
       "      <th>T cells CD4 naive</th>\n",
       "      <th>T cells CD4 memory resting</th>\n",
       "      <th>T cells CD4 memory activated</th>\n",
       "      <th>T cells follicular helper</th>\n",
       "      <th>T cells regulatory (Tregs)</th>\n",
       "      <th>T cells gamma delta</th>\n",
       "      <th>...</th>\n",
       "      <th>Monocytes</th>\n",
       "      <th>Macrophages M0</th>\n",
       "      <th>Macrophages M1</th>\n",
       "      <th>Macrophages M2</th>\n",
       "      <th>Dendritic cells resting</th>\n",
       "      <th>Dendritic cells activated</th>\n",
       "      <th>Mast cells resting</th>\n",
       "      <th>Mast cells activated</th>\n",
       "      <th>Eosinophils</th>\n",
       "      <th>Neutrophils</th>\n",
       "    </tr>\n",
       "  </thead>\n",
       "  <tbody>\n",
       "    <tr>\n",
       "      <th>count</th>\n",
       "      <td>3.000000</td>\n",
       "      <td>3.000000</td>\n",
       "      <td>3.0</td>\n",
       "      <td>3.000000</td>\n",
       "      <td>3.000000</td>\n",
       "      <td>3.000000</td>\n",
       "      <td>3.0</td>\n",
       "      <td>3.000000</td>\n",
       "      <td>3.000000</td>\n",
       "      <td>3.000000</td>\n",
       "      <td>...</td>\n",
       "      <td>3.0</td>\n",
       "      <td>3.0</td>\n",
       "      <td>3.000000</td>\n",
       "      <td>3.0</td>\n",
       "      <td>3.0</td>\n",
       "      <td>3.000000</td>\n",
       "      <td>3.000000</td>\n",
       "      <td>3.000000</td>\n",
       "      <td>3.000000</td>\n",
       "      <td>3.000000</td>\n",
       "    </tr>\n",
       "    <tr>\n",
       "      <th>mean</th>\n",
       "      <td>-0.005318</td>\n",
       "      <td>0.013029</td>\n",
       "      <td>0.0</td>\n",
       "      <td>0.000028</td>\n",
       "      <td>0.000118</td>\n",
       "      <td>0.000701</td>\n",
       "      <td>0.0</td>\n",
       "      <td>0.000152</td>\n",
       "      <td>-0.011019</td>\n",
       "      <td>0.000225</td>\n",
       "      <td>...</td>\n",
       "      <td>0.0</td>\n",
       "      <td>0.0</td>\n",
       "      <td>0.000155</td>\n",
       "      <td>0.0</td>\n",
       "      <td>0.0</td>\n",
       "      <td>0.000034</td>\n",
       "      <td>0.000095</td>\n",
       "      <td>0.000400</td>\n",
       "      <td>0.000025</td>\n",
       "      <td>0.000017</td>\n",
       "    </tr>\n",
       "    <tr>\n",
       "      <th>std</th>\n",
       "      <td>0.006933</td>\n",
       "      <td>0.021560</td>\n",
       "      <td>0.0</td>\n",
       "      <td>0.000049</td>\n",
       "      <td>0.000204</td>\n",
       "      <td>0.000670</td>\n",
       "      <td>0.0</td>\n",
       "      <td>0.000189</td>\n",
       "      <td>0.018392</td>\n",
       "      <td>0.000389</td>\n",
       "      <td>...</td>\n",
       "      <td>0.0</td>\n",
       "      <td>0.0</td>\n",
       "      <td>0.000269</td>\n",
       "      <td>0.0</td>\n",
       "      <td>0.0</td>\n",
       "      <td>0.000031</td>\n",
       "      <td>0.000165</td>\n",
       "      <td>0.000498</td>\n",
       "      <td>0.000024</td>\n",
       "      <td>0.000030</td>\n",
       "    </tr>\n",
       "    <tr>\n",
       "      <th>min</th>\n",
       "      <td>-0.013319</td>\n",
       "      <td>0.000415</td>\n",
       "      <td>0.0</td>\n",
       "      <td>0.000000</td>\n",
       "      <td>0.000000</td>\n",
       "      <td>0.000256</td>\n",
       "      <td>0.0</td>\n",
       "      <td>0.000000</td>\n",
       "      <td>-0.032256</td>\n",
       "      <td>0.000000</td>\n",
       "      <td>...</td>\n",
       "      <td>0.0</td>\n",
       "      <td>0.0</td>\n",
       "      <td>0.000000</td>\n",
       "      <td>0.0</td>\n",
       "      <td>0.0</td>\n",
       "      <td>0.000000</td>\n",
       "      <td>0.000000</td>\n",
       "      <td>0.000048</td>\n",
       "      <td>0.000000</td>\n",
       "      <td>0.000000</td>\n",
       "    </tr>\n",
       "    <tr>\n",
       "      <th>25%</th>\n",
       "      <td>-0.007446</td>\n",
       "      <td>0.000582</td>\n",
       "      <td>0.0</td>\n",
       "      <td>0.000000</td>\n",
       "      <td>0.000000</td>\n",
       "      <td>0.000316</td>\n",
       "      <td>0.0</td>\n",
       "      <td>0.000046</td>\n",
       "      <td>-0.016377</td>\n",
       "      <td>0.000000</td>\n",
       "      <td>...</td>\n",
       "      <td>0.0</td>\n",
       "      <td>0.0</td>\n",
       "      <td>0.000000</td>\n",
       "      <td>0.0</td>\n",
       "      <td>0.0</td>\n",
       "      <td>0.000022</td>\n",
       "      <td>0.000000</td>\n",
       "      <td>0.000115</td>\n",
       "      <td>0.000013</td>\n",
       "      <td>0.000000</td>\n",
       "    </tr>\n",
       "    <tr>\n",
       "      <th>50%</th>\n",
       "      <td>-0.001573</td>\n",
       "      <td>0.000749</td>\n",
       "      <td>0.0</td>\n",
       "      <td>0.000000</td>\n",
       "      <td>0.000000</td>\n",
       "      <td>0.000376</td>\n",
       "      <td>0.0</td>\n",
       "      <td>0.000092</td>\n",
       "      <td>-0.000498</td>\n",
       "      <td>0.000000</td>\n",
       "      <td>...</td>\n",
       "      <td>0.0</td>\n",
       "      <td>0.0</td>\n",
       "      <td>0.000000</td>\n",
       "      <td>0.0</td>\n",
       "      <td>0.0</td>\n",
       "      <td>0.000044</td>\n",
       "      <td>0.000000</td>\n",
       "      <td>0.000182</td>\n",
       "      <td>0.000026</td>\n",
       "      <td>0.000000</td>\n",
       "    </tr>\n",
       "    <tr>\n",
       "      <th>75%</th>\n",
       "      <td>-0.001318</td>\n",
       "      <td>0.019336</td>\n",
       "      <td>0.0</td>\n",
       "      <td>0.000042</td>\n",
       "      <td>0.000177</td>\n",
       "      <td>0.000924</td>\n",
       "      <td>0.0</td>\n",
       "      <td>0.000228</td>\n",
       "      <td>-0.000401</td>\n",
       "      <td>0.000337</td>\n",
       "      <td>...</td>\n",
       "      <td>0.0</td>\n",
       "      <td>0.0</td>\n",
       "      <td>0.000233</td>\n",
       "      <td>0.0</td>\n",
       "      <td>0.0</td>\n",
       "      <td>0.000052</td>\n",
       "      <td>0.000143</td>\n",
       "      <td>0.000576</td>\n",
       "      <td>0.000037</td>\n",
       "      <td>0.000026</td>\n",
       "    </tr>\n",
       "    <tr>\n",
       "      <th>max</th>\n",
       "      <td>-0.001063</td>\n",
       "      <td>0.037924</td>\n",
       "      <td>0.0</td>\n",
       "      <td>0.000085</td>\n",
       "      <td>0.000354</td>\n",
       "      <td>0.001472</td>\n",
       "      <td>0.0</td>\n",
       "      <td>0.000364</td>\n",
       "      <td>-0.000304</td>\n",
       "      <td>0.000674</td>\n",
       "      <td>...</td>\n",
       "      <td>0.0</td>\n",
       "      <td>0.0</td>\n",
       "      <td>0.000466</td>\n",
       "      <td>0.0</td>\n",
       "      <td>0.0</td>\n",
       "      <td>0.000060</td>\n",
       "      <td>0.000286</td>\n",
       "      <td>0.000970</td>\n",
       "      <td>0.000048</td>\n",
       "      <td>0.000052</td>\n",
       "    </tr>\n",
       "  </tbody>\n",
       "</table>\n",
       "<p>8 rows × 22 columns</p>\n",
       "</div>"
      ],
      "text/plain": [
       "       B cells naive  B cells memory  Plasma cells  T cells CD8  \\\n",
       "count       3.000000        3.000000           3.0     3.000000   \n",
       "mean       -0.005318        0.013029           0.0     0.000028   \n",
       "std         0.006933        0.021560           0.0     0.000049   \n",
       "min        -0.013319        0.000415           0.0     0.000000   \n",
       "25%        -0.007446        0.000582           0.0     0.000000   \n",
       "50%        -0.001573        0.000749           0.0     0.000000   \n",
       "75%        -0.001318        0.019336           0.0     0.000042   \n",
       "max        -0.001063        0.037924           0.0     0.000085   \n",
       "\n",
       "       T cells CD4 naive  T cells CD4 memory resting  \\\n",
       "count           3.000000                    3.000000   \n",
       "mean            0.000118                    0.000701   \n",
       "std             0.000204                    0.000670   \n",
       "min             0.000000                    0.000256   \n",
       "25%             0.000000                    0.000316   \n",
       "50%             0.000000                    0.000376   \n",
       "75%             0.000177                    0.000924   \n",
       "max             0.000354                    0.001472   \n",
       "\n",
       "       T cells CD4 memory activated  T cells follicular helper  \\\n",
       "count                           3.0                   3.000000   \n",
       "mean                            0.0                   0.000152   \n",
       "std                             0.0                   0.000189   \n",
       "min                             0.0                   0.000000   \n",
       "25%                             0.0                   0.000046   \n",
       "50%                             0.0                   0.000092   \n",
       "75%                             0.0                   0.000228   \n",
       "max                             0.0                   0.000364   \n",
       "\n",
       "       T cells regulatory (Tregs)  T cells gamma delta     ...       \\\n",
       "count                    3.000000             3.000000     ...        \n",
       "mean                    -0.011019             0.000225     ...        \n",
       "std                      0.018392             0.000389     ...        \n",
       "min                     -0.032256             0.000000     ...        \n",
       "25%                     -0.016377             0.000000     ...        \n",
       "50%                     -0.000498             0.000000     ...        \n",
       "75%                     -0.000401             0.000337     ...        \n",
       "max                     -0.000304             0.000674     ...        \n",
       "\n",
       "       Monocytes  Macrophages M0  Macrophages M1  Macrophages M2  \\\n",
       "count        3.0             3.0        3.000000             3.0   \n",
       "mean         0.0             0.0        0.000155             0.0   \n",
       "std          0.0             0.0        0.000269             0.0   \n",
       "min          0.0             0.0        0.000000             0.0   \n",
       "25%          0.0             0.0        0.000000             0.0   \n",
       "50%          0.0             0.0        0.000000             0.0   \n",
       "75%          0.0             0.0        0.000233             0.0   \n",
       "max          0.0             0.0        0.000466             0.0   \n",
       "\n",
       "       Dendritic cells resting  Dendritic cells activated  Mast cells resting  \\\n",
       "count                      3.0                   3.000000            3.000000   \n",
       "mean                       0.0                   0.000034            0.000095   \n",
       "std                        0.0                   0.000031            0.000165   \n",
       "min                        0.0                   0.000000            0.000000   \n",
       "25%                        0.0                   0.000022            0.000000   \n",
       "50%                        0.0                   0.000044            0.000000   \n",
       "75%                        0.0                   0.000052            0.000143   \n",
       "max                        0.0                   0.000060            0.000286   \n",
       "\n",
       "       Mast cells activated  Eosinophils  Neutrophils  \n",
       "count              3.000000     3.000000     3.000000  \n",
       "mean               0.000400     0.000025     0.000017  \n",
       "std                0.000498     0.000024     0.000030  \n",
       "min                0.000048     0.000000     0.000000  \n",
       "25%                0.000115     0.000013     0.000000  \n",
       "50%                0.000182     0.000026     0.000000  \n",
       "75%                0.000576     0.000037     0.000026  \n",
       "max                0.000970     0.000048     0.000052  \n",
       "\n",
       "[8 rows x 22 columns]"
      ]
     },
     "execution_count": 109,
     "metadata": {},
     "output_type": "execute_result"
    },
    {
     "data": {
      "image/png": "[encoded data removed]",
      "text/plain": [
       "<matplotlib.figure.Figure at 0x7fa3d582bbd0>"
      ]
     },
     "metadata": {},
     "output_type": "display_data"
    }
   ],
   "source": [
    "print('absolute difference from ground truth, summarized by column:')\n",
    "(results_dat - ref_prof_weights).describe().loc['mean'].hist()\n",
    "plt.title('mean absolute differences for columns across all mixtures')\n",
    "(results_dat - ref_prof_weights).describe()"
   ]
  },
  {
   "cell_type": "code",
   "execution_count": 110,
   "metadata": {
    "ExecuteTime": {
     "end_time": "2016-07-06T12:07:42.370202",
     "start_time": "2016-07-06T12:07:41.513873"
    },
    "collapsed": false,
    "run_control": {
     "frozen": false,
     "read_only": false
    }
   },
   "outputs": [
    {
     "data": {
      "image/png": "[encoded data removed]",
      "text/plain": [
       "<matplotlib.figure.Figure at 0x7fa3d3c48d90>"
      ]
     },
     "metadata": {},
     "output_type": "display_data"
    },
    {
     "data": {
      "image/png": "[encoded data removed]",
      "text/plain": [
       "<matplotlib.figure.Figure at 0x7fa3d3733410>"
      ]
     },
     "metadata": {},
     "output_type": "display_data"
    },
    {
     "data": {
      "image/png": "[encoded data removed]",
      "text/plain": [
       "<matplotlib.figure.Figure at 0x7fa3d2af9510>"
      ]
     },
     "metadata": {},
     "output_type": "display_data"
    }
   ],
   "source": [
    "for _, row in (results_dat - ref_prof_weights).iterrows():\n",
    "    plt.figure()\n",
    "    row.hist()\n",
    "    plt.title('mixture %d absolute differences' % row.name)"
   ]
  },
  {
   "cell_type": "markdown",
   "metadata": {},
   "source": [
    "The introduction of noise adds significant error. Which columns have error?"
   ]
  },
  {
   "cell_type": "code",
   "execution_count": 112,
   "metadata": {
    "ExecuteTime": {
     "end_time": "2016-07-06T12:08:28.708011",
     "start_time": "2016-07-06T12:08:26.443998"
    },
    "collapsed": false,
    "run_control": {
     "frozen": false,
     "read_only": false
    }
   },
   "outputs": [
    {
     "data": {
      "image/png": "[encoded data removed]",
      "text/plain": [
       "<matplotlib.figure.Figure at 0x7fa3d2b64c50>"
      ]
     },
     "metadata": {},
     "output_type": "display_data"
    },
    {
     "data": {
      "image/png": "[encoded data removed]",
      "text/plain": [
       "<matplotlib.figure.Figure at 0x7fa3d2681c10>"
      ]
     },
     "metadata": {},
     "output_type": "display_data"
    },
    {
     "data": {
      "image/png": "[encoded data removed]",
      "text/plain": [
       "<matplotlib.figure.Figure at 0x7fa3d26cca10>"
      ]
     },
     "metadata": {},
     "output_type": "display_data"
    }
   ],
   "source": [
    "for _, row in (results_dat - ref_prof_weights).iterrows():\n",
    "    plt.figure()\n",
    "    row[simple_cols].hist()\n",
    "    plt.title('mixture %d absolute differences -- correct cell types only' % row.name)"
   ]
  },
  {
   "cell_type": "code",
   "execution_count": 113,
   "metadata": {
    "ExecuteTime": {
     "end_time": "2016-07-06T12:08:42.661994",
     "start_time": "2016-07-06T12:08:41.859463"
    },
    "collapsed": false,
    "run_control": {
     "frozen": false,
     "read_only": false
    }
   },
   "outputs": [
    {
     "data": {
      "image/png": "[encoded data removed]",
      "text/plain": [
       "<matplotlib.figure.Figure at 0x7fa3d2b27d50>"
      ]
     },
     "metadata": {},
     "output_type": "display_data"
    },
    {
     "data": {
      "image/png": "[encoded data removed]",
      "text/plain": [
       "<matplotlib.figure.Figure at 0x7fa3d4161dd0>"
      ]
     },
     "metadata": {},
     "output_type": "display_data"
    },
    {
     "data": {
      "image/png": "[encoded data removed]",
      "text/plain": [
       "<matplotlib.figure.Figure at 0x7fa3d3971050>"
      ]
     },
     "metadata": {},
     "output_type": "display_data"
    }
   ],
   "source": [
    "other_cols = set(results_dat.columns) - set(simple_cols)\n",
    "for _, row in (results_dat - ref_prof_weights).iterrows():\n",
    "    plt.figure()\n",
    "    row[other_cols].hist()\n",
    "    plt.title('mixture %d absolute differences -- incorrect cell types only' % row.name)"
   ]
  },
  {
   "cell_type": "markdown",
   "metadata": {},
   "source": [
    "There's error in correct and incorrect cell types with noise. Cibersort makes a at-most-4% mistake on real cell type or hallucination on fake cell type."
   ]
  },
  {
   "cell_type": "markdown",
   "metadata": {},
   "source": [
    "What are the P values of Cibersort w/ and w/o noise? Always 0:"
   ]
  },
  {
   "cell_type": "code",
   "execution_count": 114,
   "metadata": {
    "ExecuteTime": {
     "end_time": "2016-07-06T12:09:47.692164",
     "start_time": "2016-07-06T12:09:47.676043"
    },
    "collapsed": false,
    "run_control": {
     "frozen": false,
     "read_only": false
    }
   },
   "outputs": [
    {
     "data": {
      "text/plain": [
       "0    0.0\n",
       "1    0.0\n",
       "2    0.0\n",
       "Name: P-value, dtype: float64"
      ]
     },
     "execution_count": 114,
     "metadata": {},
     "output_type": "execute_result"
    }
   ],
   "source": [
    "results['P-value']"
   ]
  },
  {
   "cell_type": "code",
   "execution_count": 115,
   "metadata": {
    "ExecuteTime": {
     "end_time": "2016-07-06T12:09:49.005671",
     "start_time": "2016-07-06T12:09:48.981180"
    },
    "collapsed": false,
    "run_control": {
     "frozen": false,
     "read_only": false
    }
   },
   "outputs": [
    {
     "name": "stdout",
     "output_type": "stream",
     "text": [
      "RMSE \t R^2 \t per mixture\n",
      "0.0003 \t 1.0000\n",
      "0.0004 \t 1.0000\n",
      "0.0110 \t 0.9954\n"
     ]
    }
   ],
   "source": [
    "print('RMSE \\t R^2 \\t per mixture')\n",
    "from sklearn.metrics import mean_squared_error as mse, r2_score\n",
    "for (_, y_true),(_, y_pred) in zip(ref_prof_weights.iterrows(), results_dat.iterrows()):\n",
    "    print('%0.4f \\t %0.4f' % (np.sqrt(mse(y_true, y_pred)), r2_score(y_true, y_pred)))"
   ]
  },
  {
   "cell_type": "code",
   "execution_count": 116,
   "metadata": {
    "ExecuteTime": {
     "end_time": "2016-07-06T12:09:54.004039",
     "start_time": "2016-07-06T12:09:53.973346"
    },
    "collapsed": false,
    "run_control": {
     "frozen": false,
     "read_only": false
    }
   },
   "outputs": [
    {
     "data": {
      "text/html": [
       "<div>\n",
       "<table border=\"1\" class=\"dataframe\">\n",
       "  <thead>\n",
       "    <tr style=\"text-align: right;\">\n",
       "      <th></th>\n",
       "      <th>B cells naive</th>\n",
       "      <th>T cells regulatory (Tregs)</th>\n",
       "    </tr>\n",
       "  </thead>\n",
       "  <tbody>\n",
       "    <tr>\n",
       "      <th>0</th>\n",
       "      <td>-0.001063</td>\n",
       "      <td>-0.000304</td>\n",
       "    </tr>\n",
       "    <tr>\n",
       "      <th>1</th>\n",
       "      <td>-0.001573</td>\n",
       "      <td>-0.000498</td>\n",
       "    </tr>\n",
       "    <tr>\n",
       "      <th>2</th>\n",
       "      <td>-0.013319</td>\n",
       "      <td>-0.032256</td>\n",
       "    </tr>\n",
       "  </tbody>\n",
       "</table>\n",
       "</div>"
      ],
      "text/plain": [
       "   B cells naive  T cells regulatory (Tregs)\n",
       "0      -0.001063                   -0.000304\n",
       "1      -0.001573                   -0.000498\n",
       "2      -0.013319                   -0.032256"
      ]
     },
     "execution_count": 116,
     "metadata": {},
     "output_type": "execute_result"
    }
   ],
   "source": [
    "(results_dat - ref_prof_weights)[simple_cols]"
   ]
  },
  {
   "cell_type": "markdown",
   "metadata": {},
   "source": [
    "## 2 raw lines from same publication (Cib)"
   ]
  },
  {
   "cell_type": "code",
   "execution_count": 117,
   "metadata": {
    "ExecuteTime": {
     "end_time": "2016-07-06T12:10:31.984743",
     "start_time": "2016-07-06T12:10:31.443441"
    },
    "collapsed": false,
    "run_control": {
     "frozen": false,
     "read_only": false
    }
   },
   "outputs": [
    {
     "data": {
      "text/html": [
       "<div>\n",
       "<table border=\"1\" class=\"dataframe\">\n",
       "  <thead>\n",
       "    <tr style=\"text-align: right;\">\n",
       "      <th></th>\n",
       "      <th>Relabel</th>\n",
       "      <th>A_LW_+BAFF_U133A_250303 [Chtanova_immune|A_LW_+BAFF_U133A_250303]</th>\n",
       "      <th>A_LW_+BAFF_U133A_70303 [Chtanova_immune|A_LW_+BAFF_U133A_70303]</th>\n",
       "      <th>A_LW_-BAFF_U133A_250303 [Chtanova_immune|A_LW_-BAFF_U133A_250303]</th>\n",
       "      <th>A_LW_-BAFF_U133A_70303 [Chtanova_immune|A_LW_-BAFF_U133A_70303]</th>\n",
       "      <th>A_LW_CD57+_U133A_030603 [Chtanova_immune|A_LW_CD57+_U133A_030603]</th>\n",
       "      <th>A_LW_CD57+_U133A_121102 [Chtanova_immune|A_LW_CD57+_U133A_121102]</th>\n",
       "      <th>A_LW_CD57-_U133A_030603 [Chtanova_immune|A_LW_CD57-_U133A_030603]</th>\n",
       "      <th>A_LW_CD57-_U133A_121102 [Chtanova_immune|A_LW_CD57-_U133A_121102]</th>\n",
       "      <th>A_LW_DC+BAFF_U133A_250304 [Chtanova_immune|A_LW_DC+BAFF_U133A_250304]</th>\n",
       "      <th>...</th>\n",
       "      <th>TEM_U133A_1 [TFH_E-MEXP-750|TEM_U133A_1]</th>\n",
       "      <th>TEM_U133A_2 [TFH_E-MEXP-750|TEM_U133A_2]</th>\n",
       "      <th>TEM_U133A_3 [TFH_E-MEXP-750|TEM_U133A_3]</th>\n",
       "      <th>TN_U133A_1 [TFH_E-MEXP-750|TN_U133A_1]</th>\n",
       "      <th>TN_U133A_2 [TFH_E-MEXP-750|TN_U133A_2]</th>\n",
       "      <th>TN_U133A_3 [TFH_E-MEXP-750|TN_U133A_3]</th>\n",
       "      <th>TH_1 [TREGs_GSE4527|GSM101518]</th>\n",
       "      <th>Treg_1 [TREGs_GSE4527|GSM101519]</th>\n",
       "      <th>TH_2 [TREGs_GSE4527|GSM101520]</th>\n",
       "      <th>Treg_2 [TREGs_GSE4527|GSM101521]</th>\n",
       "    </tr>\n",
       "  </thead>\n",
       "  <tbody>\n",
       "    <tr>\n",
       "      <th>0</th>\n",
       "      <td>A1CF</td>\n",
       "      <td>123.126291</td>\n",
       "      <td>200.096593</td>\n",
       "      <td>98.131873</td>\n",
       "      <td>101.011423</td>\n",
       "      <td>127.567885</td>\n",
       "      <td>109.295918</td>\n",
       "      <td>48.352882</td>\n",
       "      <td>328.453377</td>\n",
       "      <td>370.158338</td>\n",
       "      <td>...</td>\n",
       "      <td>27.752002</td>\n",
       "      <td>81.227451</td>\n",
       "      <td>25.180355</td>\n",
       "      <td>285.075510</td>\n",
       "      <td>172.215727</td>\n",
       "      <td>201.051021</td>\n",
       "      <td>736.149237</td>\n",
       "      <td>400.456332</td>\n",
       "      <td>187.566155</td>\n",
       "      <td>414.069368</td>\n",
       "    </tr>\n",
       "    <tr>\n",
       "      <th>1</th>\n",
       "      <td>A2M</td>\n",
       "      <td>6.717625</td>\n",
       "      <td>20.118036</td>\n",
       "      <td>66.069727</td>\n",
       "      <td>92.850207</td>\n",
       "      <td>56.525064</td>\n",
       "      <td>11.575293</td>\n",
       "      <td>73.481899</td>\n",
       "      <td>31.083799</td>\n",
       "      <td>8579.063240</td>\n",
       "      <td>...</td>\n",
       "      <td>10.950348</td>\n",
       "      <td>6.779301</td>\n",
       "      <td>85.101667</td>\n",
       "      <td>18.227925</td>\n",
       "      <td>16.924983</td>\n",
       "      <td>9.039432</td>\n",
       "      <td>129.643861</td>\n",
       "      <td>75.252245</td>\n",
       "      <td>28.603811</td>\n",
       "      <td>22.338213</td>\n",
       "    </tr>\n",
       "    <tr>\n",
       "      <th>2</th>\n",
       "      <td>A4GALT</td>\n",
       "      <td>99.776993</td>\n",
       "      <td>56.050865</td>\n",
       "      <td>52.735724</td>\n",
       "      <td>62.908979</td>\n",
       "      <td>115.173360</td>\n",
       "      <td>86.849782</td>\n",
       "      <td>67.478214</td>\n",
       "      <td>172.369277</td>\n",
       "      <td>112.346538</td>\n",
       "      <td>...</td>\n",
       "      <td>22.164461</td>\n",
       "      <td>41.200690</td>\n",
       "      <td>24.504919</td>\n",
       "      <td>145.190417</td>\n",
       "      <td>135.992279</td>\n",
       "      <td>62.335556</td>\n",
       "      <td>232.214201</td>\n",
       "      <td>335.890507</td>\n",
       "      <td>207.934712</td>\n",
       "      <td>56.080230</td>\n",
       "    </tr>\n",
       "    <tr>\n",
       "      <th>3</th>\n",
       "      <td>A4GNT</td>\n",
       "      <td>155.687079</td>\n",
       "      <td>277.949173</td>\n",
       "      <td>186.486014</td>\n",
       "      <td>147.002254</td>\n",
       "      <td>165.954151</td>\n",
       "      <td>102.583059</td>\n",
       "      <td>95.945725</td>\n",
       "      <td>231.328049</td>\n",
       "      <td>151.153031</td>\n",
       "      <td>...</td>\n",
       "      <td>127.732540</td>\n",
       "      <td>100.458390</td>\n",
       "      <td>341.302205</td>\n",
       "      <td>411.623288</td>\n",
       "      <td>216.770728</td>\n",
       "      <td>141.512782</td>\n",
       "      <td>384.736274</td>\n",
       "      <td>510.736942</td>\n",
       "      <td>203.089268</td>\n",
       "      <td>539.912283</td>\n",
       "    </tr>\n",
       "    <tr>\n",
       "      <th>4</th>\n",
       "      <td>AAAS</td>\n",
       "      <td>11.966722</td>\n",
       "      <td>20.671809</td>\n",
       "      <td>25.856604</td>\n",
       "      <td>9.910548</td>\n",
       "      <td>126.638097</td>\n",
       "      <td>24.107794</td>\n",
       "      <td>159.323152</td>\n",
       "      <td>35.289550</td>\n",
       "      <td>20.363367</td>\n",
       "      <td>...</td>\n",
       "      <td>216.557256</td>\n",
       "      <td>108.114573</td>\n",
       "      <td>126.690956</td>\n",
       "      <td>423.425075</td>\n",
       "      <td>162.619165</td>\n",
       "      <td>151.616733</td>\n",
       "      <td>96.051241</td>\n",
       "      <td>176.780559</td>\n",
       "      <td>248.657488</td>\n",
       "      <td>89.153691</td>\n",
       "    </tr>\n",
       "  </tbody>\n",
       "</table>\n",
       "<p>5 rows × 195 columns</p>\n",
       "</div>"
      ],
      "text/plain": [
       "  Relabel  A_LW_+BAFF_U133A_250303 [Chtanova_immune|A_LW_+BAFF_U133A_250303]  \\\n",
       "0    A1CF                                         123.126291                   \n",
       "1     A2M                                           6.717625                   \n",
       "2  A4GALT                                          99.776993                   \n",
       "3   A4GNT                                         155.687079                   \n",
       "4    AAAS                                          11.966722                   \n",
       "\n",
       "   A_LW_+BAFF_U133A_70303 [Chtanova_immune|A_LW_+BAFF_U133A_70303]  \\\n",
       "0                                         200.096593                 \n",
       "1                                          20.118036                 \n",
       "2                                          56.050865                 \n",
       "3                                         277.949173                 \n",
       "4                                          20.671809                 \n",
       "\n",
       "   A_LW_-BAFF_U133A_250303 [Chtanova_immune|A_LW_-BAFF_U133A_250303]  \\\n",
       "0                                          98.131873                   \n",
       "1                                          66.069727                   \n",
       "2                                          52.735724                   \n",
       "3                                         186.486014                   \n",
       "4                                          25.856604                   \n",
       "\n",
       "   A_LW_-BAFF_U133A_70303 [Chtanova_immune|A_LW_-BAFF_U133A_70303]  \\\n",
       "0                                         101.011423                 \n",
       "1                                          92.850207                 \n",
       "2                                          62.908979                 \n",
       "3                                         147.002254                 \n",
       "4                                           9.910548                 \n",
       "\n",
       "   A_LW_CD57+_U133A_030603 [Chtanova_immune|A_LW_CD57+_U133A_030603]  \\\n",
       "0                                         127.567885                   \n",
       "1                                          56.525064                   \n",
       "2                                         115.173360                   \n",
       "3                                         165.954151                   \n",
       "4                                         126.638097                   \n",
       "\n",
       "   A_LW_CD57+_U133A_121102 [Chtanova_immune|A_LW_CD57+_U133A_121102]  \\\n",
       "0                                         109.295918                   \n",
       "1                                          11.575293                   \n",
       "2                                          86.849782                   \n",
       "3                                         102.583059                   \n",
       "4                                          24.107794                   \n",
       "\n",
       "   A_LW_CD57-_U133A_030603 [Chtanova_immune|A_LW_CD57-_U133A_030603]  \\\n",
       "0                                          48.352882                   \n",
       "1                                          73.481899                   \n",
       "2                                          67.478214                   \n",
       "3                                          95.945725                   \n",
       "4                                         159.323152                   \n",
       "\n",
       "   A_LW_CD57-_U133A_121102 [Chtanova_immune|A_LW_CD57-_U133A_121102]  \\\n",
       "0                                         328.453377                   \n",
       "1                                          31.083799                   \n",
       "2                                         172.369277                   \n",
       "3                                         231.328049                   \n",
       "4                                          35.289550                   \n",
       "\n",
       "   A_LW_DC+BAFF_U133A_250304 [Chtanova_immune|A_LW_DC+BAFF_U133A_250304]  \\\n",
       "0                                         370.158338                       \n",
       "1                                        8579.063240                       \n",
       "2                                         112.346538                       \n",
       "3                                         151.153031                       \n",
       "4                                          20.363367                       \n",
       "\n",
       "                 ...                 TEM_U133A_1 [TFH_E-MEXP-750|TEM_U133A_1]  \\\n",
       "0                ...                                                27.752002   \n",
       "1                ...                                                10.950348   \n",
       "2                ...                                                22.164461   \n",
       "3                ...                                               127.732540   \n",
       "4                ...                                               216.557256   \n",
       "\n",
       "   TEM_U133A_2 [TFH_E-MEXP-750|TEM_U133A_2]  \\\n",
       "0                                 81.227451   \n",
       "1                                  6.779301   \n",
       "2                                 41.200690   \n",
       "3                                100.458390   \n",
       "4                                108.114573   \n",
       "\n",
       "   TEM_U133A_3 [TFH_E-MEXP-750|TEM_U133A_3]  \\\n",
       "0                                 25.180355   \n",
       "1                                 85.101667   \n",
       "2                                 24.504919   \n",
       "3                                341.302205   \n",
       "4                                126.690956   \n",
       "\n",
       "   TN_U133A_1 [TFH_E-MEXP-750|TN_U133A_1]  \\\n",
       "0                              285.075510   \n",
       "1                               18.227925   \n",
       "2                              145.190417   \n",
       "3                              411.623288   \n",
       "4                              423.425075   \n",
       "\n",
       "   TN_U133A_2 [TFH_E-MEXP-750|TN_U133A_2]  \\\n",
       "0                              172.215727   \n",
       "1                               16.924983   \n",
       "2                              135.992279   \n",
       "3                              216.770728   \n",
       "4                              162.619165   \n",
       "\n",
       "   TN_U133A_3 [TFH_E-MEXP-750|TN_U133A_3]  TH_1 [TREGs_GSE4527|GSM101518]  \\\n",
       "0                              201.051021                      736.149237   \n",
       "1                                9.039432                      129.643861   \n",
       "2                               62.335556                      232.214201   \n",
       "3                              141.512782                      384.736274   \n",
       "4                              151.616733                       96.051241   \n",
       "\n",
       "   Treg_1 [TREGs_GSE4527|GSM101519]  TH_2 [TREGs_GSE4527|GSM101520]  \\\n",
       "0                        400.456332                      187.566155   \n",
       "1                         75.252245                       28.603811   \n",
       "2                        335.890507                      207.934712   \n",
       "3                        510.736942                      203.089268   \n",
       "4                        176.780559                      248.657488   \n",
       "\n",
       "   Treg_2 [TREGs_GSE4527|GSM101521]  \n",
       "0                        414.069368  \n",
       "1                         22.338213  \n",
       "2                         56.080230  \n",
       "3                        539.912283  \n",
       "4                         89.153691  \n",
       "\n",
       "[5 rows x 195 columns]"
      ]
     },
     "execution_count": 117,
     "metadata": {},
     "output_type": "execute_result"
    }
   ],
   "source": [
    "cib_raw = pd.read_csv('curated_data/pure_samples/cibersort/LM22-ref-sample.txt', sep='\\t')\n",
    "cib_raw.head()"
   ]
  },
  {
   "cell_type": "code",
   "execution_count": 118,
   "metadata": {
    "ExecuteTime": {
     "end_time": "2016-07-06T12:10:33.345882",
     "start_time": "2016-07-06T12:10:32.831991"
    },
    "collapsed": false,
    "run_control": {
     "frozen": false,
     "read_only": false
    }
   },
   "outputs": [
    {
     "name": "stdout",
     "output_type": "stream",
     "text": [
      "Index([u'Relabel',\n",
      "       u'A_LW_+BAFF_U133A_250303 [Chtanova_immune|A_LW_+BAFF_U133A_250303]',\n",
      "       u'A_LW_+BAFF_U133A_70303 [Chtanova_immune|A_LW_+BAFF_U133A_70303]',\n",
      "       u'A_LW_-BAFF_U133A_250303 [Chtanova_immune|A_LW_-BAFF_U133A_250303]',\n",
      "       u'A_LW_-BAFF_U133A_70303 [Chtanova_immune|A_LW_-BAFF_U133A_70303]',\n",
      "       u'A_LW_CD57+_U133A_030603 [Chtanova_immune|A_LW_CD57+_U133A_030603]',\n",
      "       u'A_LW_CD57+_U133A_121102 [Chtanova_immune|A_LW_CD57+_U133A_121102]',\n",
      "       u'A_LW_CD57-_U133A_030603 [Chtanova_immune|A_LW_CD57-_U133A_030603]',\n",
      "       u'A_LW_CD57-_U133A_121102 [Chtanova_immune|A_LW_CD57-_U133A_121102]',\n",
      "       u'A_LW_DC+BAFF_U133A_250304 [Chtanova_immune|A_LW_DC+BAFF_U133A_250304]',\n",
      "       ...\n",
      "       u'TEM_U133A_1 [TFH_E-MEXP-750|TEM_U133A_1]',\n",
      "       u'TEM_U133A_2 [TFH_E-MEXP-750|TEM_U133A_2]',\n",
      "       u'TEM_U133A_3 [TFH_E-MEXP-750|TEM_U133A_3]',\n",
      "       u'TN_U133A_1 [TFH_E-MEXP-750|TN_U133A_1]',\n",
      "       u'TN_U133A_2 [TFH_E-MEXP-750|TN_U133A_2]',\n",
      "       u'TN_U133A_3 [TFH_E-MEXP-750|TN_U133A_3]',\n",
      "       u'TH_1 [TREGs_GSE4527|GSM101518]', u'Treg_1 [TREGs_GSE4527|GSM101519]',\n",
      "       u'TH_2 [TREGs_GSE4527|GSM101520]', u'Treg_2 [TREGs_GSE4527|GSM101521]'],\n",
      "      dtype='object', length=195)\n"
     ]
    },
    {
     "data": {
      "text/html": [
       "<div>\n",
       "<table border=\"1\" class=\"dataframe\">\n",
       "  <thead>\n",
       "    <tr style=\"text-align: right;\">\n",
       "      <th></th>\n",
       "      <th>0</th>\n",
       "      <th>1</th>\n",
       "      <th>2</th>\n",
       "      <th>3</th>\n",
       "      <th>4</th>\n",
       "      <th>5</th>\n",
       "      <th>6</th>\n",
       "      <th>7</th>\n",
       "      <th>8</th>\n",
       "      <th>9</th>\n",
       "      <th>...</th>\n",
       "      <th>185</th>\n",
       "      <th>186</th>\n",
       "      <th>187</th>\n",
       "      <th>188</th>\n",
       "      <th>189</th>\n",
       "      <th>190</th>\n",
       "      <th>191</th>\n",
       "      <th>192</th>\n",
       "      <th>193</th>\n",
       "      <th>194</th>\n",
       "    </tr>\n",
       "  </thead>\n",
       "  <tbody>\n",
       "    <tr>\n",
       "      <th>0</th>\n",
       "      <td>B cells naive</td>\n",
       "      <td>0</td>\n",
       "      <td>0</td>\n",
       "      <td>0</td>\n",
       "      <td>0</td>\n",
       "      <td>0</td>\n",
       "      <td>0</td>\n",
       "      <td>0</td>\n",
       "      <td>0</td>\n",
       "      <td>0</td>\n",
       "      <td>...</td>\n",
       "      <td>0</td>\n",
       "      <td>0</td>\n",
       "      <td>0</td>\n",
       "      <td>2</td>\n",
       "      <td>2</td>\n",
       "      <td>2</td>\n",
       "      <td>0</td>\n",
       "      <td>2</td>\n",
       "      <td>0</td>\n",
       "      <td>2</td>\n",
       "    </tr>\n",
       "    <tr>\n",
       "      <th>1</th>\n",
       "      <td>B cells memory</td>\n",
       "      <td>0</td>\n",
       "      <td>0</td>\n",
       "      <td>0</td>\n",
       "      <td>0</td>\n",
       "      <td>0</td>\n",
       "      <td>0</td>\n",
       "      <td>0</td>\n",
       "      <td>0</td>\n",
       "      <td>0</td>\n",
       "      <td>...</td>\n",
       "      <td>0</td>\n",
       "      <td>0</td>\n",
       "      <td>0</td>\n",
       "      <td>2</td>\n",
       "      <td>2</td>\n",
       "      <td>2</td>\n",
       "      <td>0</td>\n",
       "      <td>2</td>\n",
       "      <td>0</td>\n",
       "      <td>2</td>\n",
       "    </tr>\n",
       "    <tr>\n",
       "      <th>2</th>\n",
       "      <td>Plasma cells</td>\n",
       "      <td>0</td>\n",
       "      <td>0</td>\n",
       "      <td>0</td>\n",
       "      <td>0</td>\n",
       "      <td>0</td>\n",
       "      <td>0</td>\n",
       "      <td>0</td>\n",
       "      <td>0</td>\n",
       "      <td>0</td>\n",
       "      <td>...</td>\n",
       "      <td>0</td>\n",
       "      <td>0</td>\n",
       "      <td>0</td>\n",
       "      <td>2</td>\n",
       "      <td>2</td>\n",
       "      <td>2</td>\n",
       "      <td>0</td>\n",
       "      <td>2</td>\n",
       "      <td>0</td>\n",
       "      <td>2</td>\n",
       "    </tr>\n",
       "    <tr>\n",
       "      <th>3</th>\n",
       "      <td>T cells CD8</td>\n",
       "      <td>0</td>\n",
       "      <td>0</td>\n",
       "      <td>0</td>\n",
       "      <td>0</td>\n",
       "      <td>0</td>\n",
       "      <td>0</td>\n",
       "      <td>0</td>\n",
       "      <td>0</td>\n",
       "      <td>0</td>\n",
       "      <td>...</td>\n",
       "      <td>0</td>\n",
       "      <td>0</td>\n",
       "      <td>0</td>\n",
       "      <td>2</td>\n",
       "      <td>2</td>\n",
       "      <td>2</td>\n",
       "      <td>0</td>\n",
       "      <td>2</td>\n",
       "      <td>0</td>\n",
       "      <td>2</td>\n",
       "    </tr>\n",
       "    <tr>\n",
       "      <th>4</th>\n",
       "      <td>T cells CD4 naive</td>\n",
       "      <td>0</td>\n",
       "      <td>0</td>\n",
       "      <td>0</td>\n",
       "      <td>0</td>\n",
       "      <td>0</td>\n",
       "      <td>0</td>\n",
       "      <td>0</td>\n",
       "      <td>0</td>\n",
       "      <td>0</td>\n",
       "      <td>...</td>\n",
       "      <td>0</td>\n",
       "      <td>0</td>\n",
       "      <td>0</td>\n",
       "      <td>1</td>\n",
       "      <td>1</td>\n",
       "      <td>1</td>\n",
       "      <td>0</td>\n",
       "      <td>2</td>\n",
       "      <td>0</td>\n",
       "      <td>2</td>\n",
       "    </tr>\n",
       "  </tbody>\n",
       "</table>\n",
       "<p>5 rows × 195 columns</p>\n",
       "</div>"
      ],
      "text/plain": [
       "                 0    1    2    3    4    5    6    7    8    9   ...   185  \\\n",
       "0      B cells naive    0    0    0    0    0    0    0    0    0 ...     0   \n",
       "1     B cells memory    0    0    0    0    0    0    0    0    0 ...     0   \n",
       "2       Plasma cells    0    0    0    0    0    0    0    0    0 ...     0   \n",
       "3        T cells CD8    0    0    0    0    0    0    0    0    0 ...     0   \n",
       "4  T cells CD4 naive    0    0    0    0    0    0    0    0    0 ...     0   \n",
       "\n",
       "   186  187  188  189  190  191  192  193  194  \n",
       "0    0    0    2    2    2    0    2    0    2  \n",
       "1    0    0    2    2    2    0    2    0    2  \n",
       "2    0    0    2    2    2    0    2    0    2  \n",
       "3    0    0    2    2    2    0    2    0    2  \n",
       "4    0    0    1    1    1    0    2    0    2  \n",
       "\n",
       "[5 rows x 195 columns]"
      ]
     },
     "execution_count": 118,
     "metadata": {},
     "output_type": "execute_result"
    }
   ],
   "source": [
    "# copied from Variance....ipynb\n",
    "cols_4 = pd.read_csv('curated_data/pure_samples/cibersort/LM22-classes.txt', sep='\\t', header=None)\n",
    "cols_4_orig = pd.read_csv('curated_data/pure_samples/cibersort/LM22-ref-sample.txt', sep='\\t').columns\n",
    "print(cols_4_orig)\n",
    "cols_4.head()"
   ]
  },
  {
   "cell_type": "code",
   "execution_count": 119,
   "metadata": {
    "ExecuteTime": {
     "end_time": "2016-07-06T12:10:53.578253",
     "start_time": "2016-07-06T12:10:53.529703"
    },
    "collapsed": false,
    "run_control": {
     "frozen": false,
     "read_only": false
    }
   },
   "outputs": [
    {
     "name": "stdout",
     "output_type": "stream",
     "text": [
      "B cells naive\n",
      "B cells memory\n",
      "Plasma cells\n",
      "T cells CD8\n",
      "T cells CD4 naive\n",
      "T cells CD4 memory resting\n",
      "T cells CD4 memory activated\n",
      "T cells follicular helper\n",
      "T cells gamma delta\n",
      "T cells regulatory (Tregs)\n",
      "NK cells resting\n",
      "NK cells activated\n",
      "Monocytes\n",
      "Macrophages M0\n",
      "Macrophages M1\n",
      "Macrophages M2\n",
      "Dendritic cells resting\n",
      "Dendritic cells activated\n",
      "Mast cells resting\n",
      "Mast cells activated\n",
      "Eosinophils\n",
      "Neutrophils\n"
     ]
    }
   ],
   "source": [
    "column_mappings = {}\n",
    "for _,row in cols_4.iterrows():\n",
    "    # print row[row==1].index\n",
    "    print(row[0])\n",
    "    #print cols_4_orig[row[row==1].index]\n",
    "    for ix, s in enumerate(cols_4_orig[row[row==1].index]):\n",
    "        column_mappings[s] = row[0] + \"_%d\" % (ix+1)\n",
    "    #break"
   ]
  },
  {
   "cell_type": "code",
   "execution_count": 120,
   "metadata": {
    "ExecuteTime": {
     "end_time": "2016-07-06T12:10:54.499852",
     "start_time": "2016-07-06T12:10:54.466886"
    },
    "collapsed": false,
    "run_control": {
     "frozen": false,
     "read_only": false
    }
   },
   "outputs": [
    {
     "data": {
      "text/plain": [
       "{'A_LW_mastcellIgE_U133A [Chtanova_immune|A_LW_mastcellIgE_U133A]': 'Mast cells activated_1',\n",
       " 'A_LW_mastcellctrl_U133A [Chtanova_immune|A_LW_mastcellctrl_U133A]': 'Mast cells resting_1',\n",
       " 'A_LW_neutrophil_U133A [Chtanova_immune|A_LW_neutrophil_U133A]': 'Neutrophils_1',\n",
       " 'A_MF_2hrEosinophils_U133A [Chtanova_immune|A_MF_2hrEosinophils_U133A]': 'Eosinophils_1',\n",
       " 'A_MF_ControlEosinophil [Chtanova_immune|A_MF_ControlEosinophil]': 'Eosinophils_2',\n",
       " 'A_MF_ControlMASTCELL_U133A [Chtanova_immune|A_MF_ControlMASTCELL_U133A]': 'Mast cells resting_2',\n",
       " 'A_MF_IgEMASTCELL_U133A [Chtanova_immune|A_MF_IgEMASTCELL_U133A]': 'Mast cells activated_2',\n",
       " 'A_MF_neutrophils_U133A [Chtanova_immune|A_MF_neutrophils_U133A]': 'Neutrophils_2',\n",
       " 'A_TS_MSNeutroLPS_U133A [Chtanova_immune|A_TS_MSNeutroLPS_U133A]': 'Neutrophils_3',\n",
       " 'A_TS_RN_gdTcellsREP_A [Chtanova_immune|A_TS_RN_gdTcellsREP_A]': 'T cells gamma delta_2',\n",
       " 'A_TS_RN_gdTcells_U133A [Chtanova_immune|A_TS_RN_gdTcells_U133A]': 'T cells gamma delta_1',\n",
       " 'Alternative or M2 activated macrophages, biological rep1 HG-U133A [M1_M2_GSE7138|GSM115058]': 'Macrophages M2_1',\n",
       " 'Alternative or M2 activated macrophages, biological rep2 HG-U133A [M1_M2_GSE7138|GSM115059]': 'Macrophages M2_2',\n",
       " 'Alternative or M2 activated macrophages, biological rep3 HG-U133A [M1_M2_GSE7138|GSM115060]': 'Macrophages M2_3',\n",
       " 'Bcell-Memory_IgG_IgA-1 [HG-U133A] [IRIS_GSE22886|GSM565315]': 'B cells memory_1',\n",
       " 'Bcell-Memory_IgG_IgA-2 [HG-U133A] [IRIS_GSE22886|GSM565316]': 'B cells memory_2',\n",
       " 'Bcell-Memory_IgG_IgA-3 [HG-U133A] [IRIS_GSE22886|GSM565317]': 'B cells memory_3',\n",
       " 'Bcell-Memory_IgG_IgA-4 [HG-U133A] [IRIS_GSE22886|GSM565318]': 'B cells memory_4',\n",
       " 'Bcell-Memory_IgM-1 [HG-U133A] [IRIS_GSE22886|GSM565319]': 'B cells memory_5',\n",
       " 'Bcell-Memory_IgM-2 [HG-U133A] [IRIS_GSE22886|GSM565320]': 'B cells memory_6',\n",
       " 'Bcell-Memory_IgM-3 [HG-U133A] [IRIS_GSE22886|GSM565321]': 'B cells memory_7',\n",
       " 'Bcell-Memory_IgM-4 [HG-U133A] [IRIS_GSE22886|GSM565322]': 'B cells memory_8',\n",
       " 'Bcell-naive-1 [HG-U133A] [IRIS_GSE22886|GSM565308]': 'B cells naive_1',\n",
       " 'Bcell-naive-2 [HG-U133A] [IRIS_GSE22886|GSM565309]': 'B cells naive_2',\n",
       " 'Bcell-naive-3 [HG-U133A] [IRIS_GSE22886|GSM565310]': 'B cells naive_3',\n",
       " 'Bcell-naive-4 [HG-U133A] [IRIS_GSE22886|GSM565311]': 'B cells naive_4',\n",
       " 'Bcell-naive-5 [HG-U133A] [IRIS_GSE22886|GSM565312]': 'B cells naive_5',\n",
       " 'Bcell-naive-6 [HG-U133A] [IRIS_GSE22886|GSM565313]': 'B cells naive_6',\n",
       " 'Bcell-naive-7 [HG-U133A] [IRIS_GSE22886|GSM565314]': 'B cells naive_7',\n",
       " 'CD8Tcell-N0-1 [HG-U133A] [IRIS_GSE22886|GSM565269]': 'T cells CD8_1',\n",
       " 'CD8Tcell-N0-2 [HG-U133A] [IRIS_GSE22886|GSM565270]': 'T cells CD8_2',\n",
       " 'CD8Tcell-N0-3 [HG-U133A] [IRIS_GSE22886|GSM565271]': 'T cells CD8_3',\n",
       " 'CD8Tcell-N0-4 [HG-U133A] [IRIS_GSE22886|GSM565272]': 'T cells CD8_4',\n",
       " 'CXCR5hiICOShi_U133A_1 [TFH_E-MEXP-750|CXCR5hiICOShi_U133A_1]': 'T cells follicular helper_1',\n",
       " 'CXCR5hiICOShi_U133A_2 [TFH_E-MEXP-750|CXCR5hiICOShi_U133A_2]': 'T cells follicular helper_2',\n",
       " 'CXCR5hiICOShi_U133A_3 [TFH_E-MEXP-750|CXCR5hiICOShi_U133A_3]': 'T cells follicular helper_3',\n",
       " 'DendriticCell-Control-1 [HG-U133A] [IRIS_GSE22886|GSM565366]': 'Dendritic cells resting_1',\n",
       " 'DendriticCell-Control-2 [HG-U133A] [IRIS_GSE22886|GSM565367]': 'Dendritic cells resting_2',\n",
       " 'DendriticCell-Control-3 [HG-U133A] [IRIS_GSE22886|GSM565368]': 'Dendritic cells resting_3',\n",
       " 'DendriticCell-Control-4 [HG-U133A] [IRIS_GSE22886|GSM565369]': 'Dendritic cells resting_4',\n",
       " 'DendriticCell-Control-5 [HG-U133A] [IRIS_GSE22886|GSM565370]': 'Dendritic cells resting_5',\n",
       " 'DendriticCell-Control-6 [HG-U133A] [IRIS_GSE22886|GSM565371]': 'Dendritic cells resting_6',\n",
       " 'DendriticCell-LPSstimulated-1 [HG-U133A] [IRIS_GSE22886|GSM565372]': 'Dendritic cells activated_1',\n",
       " 'DendriticCell-LPSstimulated-2 [HG-U133A] [IRIS_GSE22886|GSM565373]': 'Dendritic cells activated_2',\n",
       " 'DendriticCell-LPSstimulated-3 [HG-U133A] [IRIS_GSE22886|GSM565374]': 'Dendritic cells activated_3',\n",
       " 'DendriticCell-LPSstimulated-4 [HG-U133A] [IRIS_GSE22886|GSM565375]': 'Dendritic cells activated_4',\n",
       " 'DendriticCell-LPSstimulated-5 [HG-U133A] [IRIS_GSE22886|GSM565376]': 'Dendritic cells activated_5',\n",
       " 'DendriticCell-LPSstimulated-6 [HG-U133A] [IRIS_GSE22886|GSM565377]': 'Dendritic cells activated_6',\n",
       " 'MemoryTcell-RO-activated-1 [HG-U133A] [IRIS_GSE22886|GSM565290]': 'T cells CD4 memory activated_1',\n",
       " 'MemoryTcell-RO-activated-2 [HG-U133A] [IRIS_GSE22886|GSM565291]': 'T cells CD4 memory activated_2',\n",
       " 'MemoryTcell-RO-activated-3 [HG-U133A] [IRIS_GSE22886|GSM565292]': 'T cells CD4 memory activated_3',\n",
       " 'MemoryTcell-RO-unactivated-1 [HG-U133A] [IRIS_GSE22886|GSM565287]': 'T cells CD4 memory resting_1',\n",
       " 'MemoryTcell-RO-unactivated-2 [HG-U133A] [IRIS_GSE22886|GSM565288]': 'T cells CD4 memory resting_2',\n",
       " 'MemoryTcell-RO-unactivated-3 [HG-U133A] [IRIS_GSE22886|GSM565289]': 'T cells CD4 memory resting_3',\n",
       " 'Monocyte-Day0-1 [HG-U133A] [IRIS_GSE22886|GSM565330]': 'Monocytes_1',\n",
       " 'Monocyte-Day0-10 [HG-U133A] [IRIS_GSE22886|GSM565339]': 'Monocytes_10',\n",
       " 'Monocyte-Day0-11 [HG-U133A] [IRIS_GSE22886|GSM565340]': 'Monocytes_11',\n",
       " 'Monocyte-Day0-12 [HG-U133A] [IRIS_GSE22886|GSM565341]': 'Monocytes_12',\n",
       " 'Monocyte-Day0-2 [HG-U133A] [IRIS_GSE22886|GSM565331]': 'Monocytes_2',\n",
       " 'Monocyte-Day0-3 [HG-U133A] [IRIS_GSE22886|GSM565332]': 'Monocytes_3',\n",
       " 'Monocyte-Day0-4 [HG-U133A] [IRIS_GSE22886|GSM565333]': 'Monocytes_4',\n",
       " 'Monocyte-Day0-5 [HG-U133A] [IRIS_GSE22886|GSM565334]': 'Monocytes_5',\n",
       " 'Monocyte-Day0-6 [HG-U133A] [IRIS_GSE22886|GSM565335]': 'Monocytes_6',\n",
       " 'Monocyte-Day0-7 [HG-U133A] [IRIS_GSE22886|GSM565336]': 'Monocytes_7',\n",
       " 'Monocyte-Day0-8 [HG-U133A] [IRIS_GSE22886|GSM565337]': 'Monocytes_8',\n",
       " 'Monocyte-Day0-9 [HG-U133A] [IRIS_GSE22886|GSM565338]': 'Monocytes_9',\n",
       " 'Monocyte-Day7-1 [HG-U133A] [IRIS_GSE22886|GSM565354]': 'Macrophages M0_1',\n",
       " 'Monocyte-Day7-10 [HG-U133A] [IRIS_GSE22886|GSM565363]': 'Macrophages M0_10',\n",
       " 'Monocyte-Day7-11 [HG-U133A] [IRIS_GSE22886|GSM565364]': 'Macrophages M0_11',\n",
       " 'Monocyte-Day7-12 [HG-U133A] [IRIS_GSE22886|GSM565365]': 'Macrophages M0_12',\n",
       " 'Monocyte-Day7-2 [HG-U133A] [IRIS_GSE22886|GSM565355]': 'Macrophages M0_2',\n",
       " 'Monocyte-Day7-3 [HG-U133A] [IRIS_GSE22886|GSM565356]': 'Macrophages M0_3',\n",
       " 'Monocyte-Day7-4 [HG-U133A] [IRIS_GSE22886|GSM565357]': 'Macrophages M0_4',\n",
       " 'Monocyte-Day7-5 [HG-U133A] [IRIS_GSE22886|GSM565358]': 'Macrophages M0_5',\n",
       " 'Monocyte-Day7-6 [HG-U133A] [IRIS_GSE22886|GSM565359]': 'Macrophages M0_6',\n",
       " 'Monocyte-Day7-7 [HG-U133A] [IRIS_GSE22886|GSM565360]': 'Macrophages M0_7',\n",
       " 'Monocyte-Day7-8 [HG-U133A] [IRIS_GSE22886|GSM565361]': 'Macrophages M0_8',\n",
       " 'Monocyte-Day7-9 [HG-U133A] [IRIS_GSE22886|GSM565362]': 'Macrophages M0_9',\n",
       " 'NKcell-IL15stimulated-1 [HG-U133A] [IRIS_GSE22886|GSM565302]': 'NK cells activated_6',\n",
       " 'NKcell-IL15stimulated-2 [HG-U133A] [IRIS_GSE22886|GSM565303]': 'NK cells activated_7',\n",
       " 'NKcell-IL15stimulated-3 [HG-U133A] [IRIS_GSE22886|GSM565304]': 'NK cells activated_8',\n",
       " 'NKcell-IL15stimulated-4 [HG-U133A] [IRIS_GSE22886|GSM565305]': 'NK cells activated_9',\n",
       " 'NKcell-IL15stimulated-5 [HG-U133A] [IRIS_GSE22886|GSM565306]': 'NK cells activated_10',\n",
       " 'NKcell-IL15stimulated-6 [HG-U133A] [IRIS_GSE22886|GSM565307]': 'NK cells activated_11',\n",
       " 'NKcell-IL2stimulated-1 [HG-U133A] [IRIS_GSE22886|GSM565297]': 'NK cells activated_1',\n",
       " 'NKcell-IL2stimulated-2 [HG-U133A] [IRIS_GSE22886|GSM565298]': 'NK cells activated_2',\n",
       " 'NKcell-IL2stimulated-3 [HG-U133A] [IRIS_GSE22886|GSM565299]': 'NK cells activated_3',\n",
       " 'NKcell-IL2stimulated-4 [HG-U133A] [IRIS_GSE22886|GSM565300]': 'NK cells activated_4',\n",
       " 'NKcell-IL2stimulated-5 [HG-U133A] [IRIS_GSE22886|GSM565301]': 'NK cells activated_5',\n",
       " 'NKcell-control-1 [HG-U133A] [IRIS_GSE22886|GSM565293]': 'NK cells resting_1',\n",
       " 'NKcell-control-2 [HG-U133A] [IRIS_GSE22886|GSM565294]': 'NK cells resting_2',\n",
       " 'NKcell-control-3 [HG-U133A] [IRIS_GSE22886|GSM565295]': 'NK cells resting_3',\n",
       " 'NKcell-control-4 [HG-U133A] [IRIS_GSE22886|GSM565296]': 'NK cells resting_4',\n",
       " 'Neutrophil-Resting-1 [HG-U133A] [IRIS_GSE22886|GSM565378]': 'Neutrophils_4',\n",
       " 'Neutrophil-Resting-2 [HG-U133A] [IRIS_GSE22886|GSM565379]': 'Neutrophils_5',\n",
       " 'Neutrophil-Resting-3 [HG-U133A] [IRIS_GSE22886|GSM565380]': 'Neutrophils_6',\n",
       " 'Neutrophil-Resting-4 [HG-U133A] [IRIS_GSE22886|GSM565381]': 'Neutrophils_7',\n",
       " 'Neutrophil-Resting-5 [HG-U133A] [IRIS_GSE22886|GSM565382]': 'Neutrophils_8',\n",
       " 'PlasmaCell-FromBoneMarrow-1 [HG-U133A] [IRIS_GSE22886|GSM565326]': 'Plasma cells_4',\n",
       " 'PlasmaCell-FromBoneMarrow-2 [HG-U133A] [IRIS_GSE22886|GSM565327]': 'Plasma cells_5',\n",
       " 'PlasmaCell-FromBoneMarrow-3 [HG-U133A] [IRIS_GSE22886|GSM565328]': 'Plasma cells_6',\n",
       " 'PlasmaCell-FromBoneMarrow-4 [HG-U133A] [IRIS_GSE22886|GSM565329]': 'Plasma cells_7',\n",
       " 'PlasmaCell-FromPBMC-1 [HG-U133A] [IRIS_GSE22886|GSM565323]': 'Plasma cells_1',\n",
       " 'PlasmaCell-FromPBMC-2 [HG-U133A] [IRIS_GSE22886|GSM565324]': 'Plasma cells_2',\n",
       " 'PlasmaCell-FromPBMC-3 [HG-U133A] [IRIS_GSE22886|GSM565325]': 'Plasma cells_3',\n",
       " 'TN_U133A_1 [TFH_E-MEXP-750|TN_U133A_1]': 'T cells CD4 naive_1',\n",
       " 'TN_U133A_2 [TFH_E-MEXP-750|TN_U133A_2]': 'T cells CD4 naive_2',\n",
       " 'TN_U133A_3 [TFH_E-MEXP-750|TN_U133A_3]': 'T cells CD4 naive_3',\n",
       " 'Treg_1 [TREGs_GSE4527|GSM101519]': 'T cells regulatory (Tregs)_1',\n",
       " 'Treg_2 [TREGs_GSE4527|GSM101521]': 'T cells regulatory (Tregs)_2',\n",
       " 'classical or M1 activated macrophages, biological rep1 HG-U133A [M1_M2_GSE7138|GSM115055]': 'Macrophages M1_1',\n",
       " 'classical or M1 activated macrophages, biological rep2 HG-U133A [M1_M2_GSE7138|GSM115056]': 'Macrophages M1_2',\n",
       " 'classical or M1 activated macrophages, biological rep3 HG-U133A [M1_M2_GSE7138|GSM115057]': 'Macrophages M1_3'}"
      ]
     },
     "execution_count": 120,
     "metadata": {},
     "output_type": "execute_result"
    }
   ],
   "source": [
    "column_mappings"
   ]
  },
  {
   "cell_type": "code",
   "execution_count": 121,
   "metadata": {
    "ExecuteTime": {
     "end_time": "2016-07-06T12:10:55.395505",
     "start_time": "2016-07-06T12:10:55.334347"
    },
    "collapsed": false,
    "run_control": {
     "frozen": false,
     "read_only": false
    }
   },
   "outputs": [
    {
     "data": {
      "text/html": [
       "<div>\n",
       "<table border=\"1\" class=\"dataframe\">\n",
       "  <thead>\n",
       "    <tr style=\"text-align: right;\">\n",
       "      <th></th>\n",
       "      <th>Relabel</th>\n",
       "      <th>A_LW_+BAFF_U133A_250303 [Chtanova_immune|A_LW_+BAFF_U133A_250303]</th>\n",
       "      <th>A_LW_+BAFF_U133A_70303 [Chtanova_immune|A_LW_+BAFF_U133A_70303]</th>\n",
       "      <th>A_LW_-BAFF_U133A_250303 [Chtanova_immune|A_LW_-BAFF_U133A_250303]</th>\n",
       "      <th>A_LW_-BAFF_U133A_70303 [Chtanova_immune|A_LW_-BAFF_U133A_70303]</th>\n",
       "      <th>A_LW_CD57+_U133A_030603 [Chtanova_immune|A_LW_CD57+_U133A_030603]</th>\n",
       "      <th>A_LW_CD57+_U133A_121102 [Chtanova_immune|A_LW_CD57+_U133A_121102]</th>\n",
       "      <th>A_LW_CD57-_U133A_030603 [Chtanova_immune|A_LW_CD57-_U133A_030603]</th>\n",
       "      <th>A_LW_CD57-_U133A_121102 [Chtanova_immune|A_LW_CD57-_U133A_121102]</th>\n",
       "      <th>A_LW_DC+BAFF_U133A_250304 [Chtanova_immune|A_LW_DC+BAFF_U133A_250304]</th>\n",
       "      <th>...</th>\n",
       "      <th>TEM_U133A_1 [TFH_E-MEXP-750|TEM_U133A_1]</th>\n",
       "      <th>TEM_U133A_2 [TFH_E-MEXP-750|TEM_U133A_2]</th>\n",
       "      <th>TEM_U133A_3 [TFH_E-MEXP-750|TEM_U133A_3]</th>\n",
       "      <th>T cells CD4 naive_1</th>\n",
       "      <th>T cells CD4 naive_2</th>\n",
       "      <th>T cells CD4 naive_3</th>\n",
       "      <th>TH_1 [TREGs_GSE4527|GSM101518]</th>\n",
       "      <th>T cells regulatory (Tregs)_1</th>\n",
       "      <th>TH_2 [TREGs_GSE4527|GSM101520]</th>\n",
       "      <th>T cells regulatory (Tregs)_2</th>\n",
       "    </tr>\n",
       "  </thead>\n",
       "  <tbody>\n",
       "    <tr>\n",
       "      <th>0</th>\n",
       "      <td>A1CF</td>\n",
       "      <td>123.126291</td>\n",
       "      <td>200.096593</td>\n",
       "      <td>98.131873</td>\n",
       "      <td>101.011423</td>\n",
       "      <td>127.567885</td>\n",
       "      <td>109.295918</td>\n",
       "      <td>48.352882</td>\n",
       "      <td>328.453377</td>\n",
       "      <td>370.158338</td>\n",
       "      <td>...</td>\n",
       "      <td>27.752002</td>\n",
       "      <td>81.227451</td>\n",
       "      <td>25.180355</td>\n",
       "      <td>285.075510</td>\n",
       "      <td>172.215727</td>\n",
       "      <td>201.051021</td>\n",
       "      <td>736.149237</td>\n",
       "      <td>400.456332</td>\n",
       "      <td>187.566155</td>\n",
       "      <td>414.069368</td>\n",
       "    </tr>\n",
       "    <tr>\n",
       "      <th>1</th>\n",
       "      <td>A2M</td>\n",
       "      <td>6.717625</td>\n",
       "      <td>20.118036</td>\n",
       "      <td>66.069727</td>\n",
       "      <td>92.850207</td>\n",
       "      <td>56.525064</td>\n",
       "      <td>11.575293</td>\n",
       "      <td>73.481899</td>\n",
       "      <td>31.083799</td>\n",
       "      <td>8579.063240</td>\n",
       "      <td>...</td>\n",
       "      <td>10.950348</td>\n",
       "      <td>6.779301</td>\n",
       "      <td>85.101667</td>\n",
       "      <td>18.227925</td>\n",
       "      <td>16.924983</td>\n",
       "      <td>9.039432</td>\n",
       "      <td>129.643861</td>\n",
       "      <td>75.252245</td>\n",
       "      <td>28.603811</td>\n",
       "      <td>22.338213</td>\n",
       "    </tr>\n",
       "    <tr>\n",
       "      <th>2</th>\n",
       "      <td>A4GALT</td>\n",
       "      <td>99.776993</td>\n",
       "      <td>56.050865</td>\n",
       "      <td>52.735724</td>\n",
       "      <td>62.908979</td>\n",
       "      <td>115.173360</td>\n",
       "      <td>86.849782</td>\n",
       "      <td>67.478214</td>\n",
       "      <td>172.369277</td>\n",
       "      <td>112.346538</td>\n",
       "      <td>...</td>\n",
       "      <td>22.164461</td>\n",
       "      <td>41.200690</td>\n",
       "      <td>24.504919</td>\n",
       "      <td>145.190417</td>\n",
       "      <td>135.992279</td>\n",
       "      <td>62.335556</td>\n",
       "      <td>232.214201</td>\n",
       "      <td>335.890507</td>\n",
       "      <td>207.934712</td>\n",
       "      <td>56.080230</td>\n",
       "    </tr>\n",
       "    <tr>\n",
       "      <th>3</th>\n",
       "      <td>A4GNT</td>\n",
       "      <td>155.687079</td>\n",
       "      <td>277.949173</td>\n",
       "      <td>186.486014</td>\n",
       "      <td>147.002254</td>\n",
       "      <td>165.954151</td>\n",
       "      <td>102.583059</td>\n",
       "      <td>95.945725</td>\n",
       "      <td>231.328049</td>\n",
       "      <td>151.153031</td>\n",
       "      <td>...</td>\n",
       "      <td>127.732540</td>\n",
       "      <td>100.458390</td>\n",
       "      <td>341.302205</td>\n",
       "      <td>411.623288</td>\n",
       "      <td>216.770728</td>\n",
       "      <td>141.512782</td>\n",
       "      <td>384.736274</td>\n",
       "      <td>510.736942</td>\n",
       "      <td>203.089268</td>\n",
       "      <td>539.912283</td>\n",
       "    </tr>\n",
       "    <tr>\n",
       "      <th>4</th>\n",
       "      <td>AAAS</td>\n",
       "      <td>11.966722</td>\n",
       "      <td>20.671809</td>\n",
       "      <td>25.856604</td>\n",
       "      <td>9.910548</td>\n",
       "      <td>126.638097</td>\n",
       "      <td>24.107794</td>\n",
       "      <td>159.323152</td>\n",
       "      <td>35.289550</td>\n",
       "      <td>20.363367</td>\n",
       "      <td>...</td>\n",
       "      <td>216.557256</td>\n",
       "      <td>108.114573</td>\n",
       "      <td>126.690956</td>\n",
       "      <td>423.425075</td>\n",
       "      <td>162.619165</td>\n",
       "      <td>151.616733</td>\n",
       "      <td>96.051241</td>\n",
       "      <td>176.780559</td>\n",
       "      <td>248.657488</td>\n",
       "      <td>89.153691</td>\n",
       "    </tr>\n",
       "  </tbody>\n",
       "</table>\n",
       "<p>5 rows × 195 columns</p>\n",
       "</div>"
      ],
      "text/plain": [
       "  Relabel  A_LW_+BAFF_U133A_250303 [Chtanova_immune|A_LW_+BAFF_U133A_250303]  \\\n",
       "0    A1CF                                         123.126291                   \n",
       "1     A2M                                           6.717625                   \n",
       "2  A4GALT                                          99.776993                   \n",
       "3   A4GNT                                         155.687079                   \n",
       "4    AAAS                                          11.966722                   \n",
       "\n",
       "   A_LW_+BAFF_U133A_70303 [Chtanova_immune|A_LW_+BAFF_U133A_70303]  \\\n",
       "0                                         200.096593                 \n",
       "1                                          20.118036                 \n",
       "2                                          56.050865                 \n",
       "3                                         277.949173                 \n",
       "4                                          20.671809                 \n",
       "\n",
       "   A_LW_-BAFF_U133A_250303 [Chtanova_immune|A_LW_-BAFF_U133A_250303]  \\\n",
       "0                                          98.131873                   \n",
       "1                                          66.069727                   \n",
       "2                                          52.735724                   \n",
       "3                                         186.486014                   \n",
       "4                                          25.856604                   \n",
       "\n",
       "   A_LW_-BAFF_U133A_70303 [Chtanova_immune|A_LW_-BAFF_U133A_70303]  \\\n",
       "0                                         101.011423                 \n",
       "1                                          92.850207                 \n",
       "2                                          62.908979                 \n",
       "3                                         147.002254                 \n",
       "4                                           9.910548                 \n",
       "\n",
       "   A_LW_CD57+_U133A_030603 [Chtanova_immune|A_LW_CD57+_U133A_030603]  \\\n",
       "0                                         127.567885                   \n",
       "1                                          56.525064                   \n",
       "2                                         115.173360                   \n",
       "3                                         165.954151                   \n",
       "4                                         126.638097                   \n",
       "\n",
       "   A_LW_CD57+_U133A_121102 [Chtanova_immune|A_LW_CD57+_U133A_121102]  \\\n",
       "0                                         109.295918                   \n",
       "1                                          11.575293                   \n",
       "2                                          86.849782                   \n",
       "3                                         102.583059                   \n",
       "4                                          24.107794                   \n",
       "\n",
       "   A_LW_CD57-_U133A_030603 [Chtanova_immune|A_LW_CD57-_U133A_030603]  \\\n",
       "0                                          48.352882                   \n",
       "1                                          73.481899                   \n",
       "2                                          67.478214                   \n",
       "3                                          95.945725                   \n",
       "4                                         159.323152                   \n",
       "\n",
       "   A_LW_CD57-_U133A_121102 [Chtanova_immune|A_LW_CD57-_U133A_121102]  \\\n",
       "0                                         328.453377                   \n",
       "1                                          31.083799                   \n",
       "2                                         172.369277                   \n",
       "3                                         231.328049                   \n",
       "4                                          35.289550                   \n",
       "\n",
       "   A_LW_DC+BAFF_U133A_250304 [Chtanova_immune|A_LW_DC+BAFF_U133A_250304]  \\\n",
       "0                                         370.158338                       \n",
       "1                                        8579.063240                       \n",
       "2                                         112.346538                       \n",
       "3                                         151.153031                       \n",
       "4                                          20.363367                       \n",
       "\n",
       "               ...               TEM_U133A_1 [TFH_E-MEXP-750|TEM_U133A_1]  \\\n",
       "0              ...                                              27.752002   \n",
       "1              ...                                              10.950348   \n",
       "2              ...                                              22.164461   \n",
       "3              ...                                             127.732540   \n",
       "4              ...                                             216.557256   \n",
       "\n",
       "   TEM_U133A_2 [TFH_E-MEXP-750|TEM_U133A_2]  \\\n",
       "0                                 81.227451   \n",
       "1                                  6.779301   \n",
       "2                                 41.200690   \n",
       "3                                100.458390   \n",
       "4                                108.114573   \n",
       "\n",
       "   TEM_U133A_3 [TFH_E-MEXP-750|TEM_U133A_3]  T cells CD4 naive_1  \\\n",
       "0                                 25.180355           285.075510   \n",
       "1                                 85.101667            18.227925   \n",
       "2                                 24.504919           145.190417   \n",
       "3                                341.302205           411.623288   \n",
       "4                                126.690956           423.425075   \n",
       "\n",
       "   T cells CD4 naive_2  T cells CD4 naive_3  TH_1 [TREGs_GSE4527|GSM101518]  \\\n",
       "0           172.215727           201.051021                      736.149237   \n",
       "1            16.924983             9.039432                      129.643861   \n",
       "2           135.992279            62.335556                      232.214201   \n",
       "3           216.770728           141.512782                      384.736274   \n",
       "4           162.619165           151.616733                       96.051241   \n",
       "\n",
       "   T cells regulatory (Tregs)_1  TH_2 [TREGs_GSE4527|GSM101520]  \\\n",
       "0                    400.456332                      187.566155   \n",
       "1                     75.252245                       28.603811   \n",
       "2                    335.890507                      207.934712   \n",
       "3                    510.736942                      203.089268   \n",
       "4                    176.780559                      248.657488   \n",
       "\n",
       "   T cells regulatory (Tregs)_2  \n",
       "0                    414.069368  \n",
       "1                     22.338213  \n",
       "2                     56.080230  \n",
       "3                    539.912283  \n",
       "4                     89.153691  \n",
       "\n",
       "[5 rows x 195 columns]"
      ]
     },
     "execution_count": 121,
     "metadata": {},
     "output_type": "execute_result"
    }
   ],
   "source": [
    "cib_raw = cib_raw.rename(columns=lambda x: column_mappings[x] if x in column_mappings else x)\n",
    "cib_raw.head()"
   ]
  },
  {
   "cell_type": "code",
   "execution_count": 122,
   "metadata": {
    "ExecuteTime": {
     "end_time": "2016-07-06T12:10:56.359004",
     "start_time": "2016-07-06T12:10:56.290848"
    },
    "collapsed": false,
    "run_control": {
     "frozen": false,
     "read_only": false
    }
   },
   "outputs": [
    {
     "data": {
      "text/html": [
       "<div>\n",
       "<table border=\"1\" class=\"dataframe\">\n",
       "  <thead>\n",
       "    <tr style=\"text-align: right;\">\n",
       "      <th></th>\n",
       "      <th>A_LW_+BAFF_U133A_250303 [Chtanova_immune|A_LW_+BAFF_U133A_250303]</th>\n",
       "      <th>A_LW_+BAFF_U133A_70303 [Chtanova_immune|A_LW_+BAFF_U133A_70303]</th>\n",
       "      <th>A_LW_-BAFF_U133A_250303 [Chtanova_immune|A_LW_-BAFF_U133A_250303]</th>\n",
       "      <th>A_LW_-BAFF_U133A_70303 [Chtanova_immune|A_LW_-BAFF_U133A_70303]</th>\n",
       "      <th>A_LW_CD57+_U133A_030603 [Chtanova_immune|A_LW_CD57+_U133A_030603]</th>\n",
       "      <th>A_LW_CD57+_U133A_121102 [Chtanova_immune|A_LW_CD57+_U133A_121102]</th>\n",
       "      <th>A_LW_CD57-_U133A_030603 [Chtanova_immune|A_LW_CD57-_U133A_030603]</th>\n",
       "      <th>A_LW_CD57-_U133A_121102 [Chtanova_immune|A_LW_CD57-_U133A_121102]</th>\n",
       "      <th>A_LW_DC+BAFF_U133A_250304 [Chtanova_immune|A_LW_DC+BAFF_U133A_250304]</th>\n",
       "      <th>A_LW_DC-BAFF_U133A_250304 [Chtanova_immune|A_LW_DC-BAFF_U133A_250304]</th>\n",
       "      <th>...</th>\n",
       "      <th>TEM_U133A_1 [TFH_E-MEXP-750|TEM_U133A_1]</th>\n",
       "      <th>TEM_U133A_2 [TFH_E-MEXP-750|TEM_U133A_2]</th>\n",
       "      <th>TEM_U133A_3 [TFH_E-MEXP-750|TEM_U133A_3]</th>\n",
       "      <th>T cells CD4 naive_1</th>\n",
       "      <th>T cells CD4 naive_2</th>\n",
       "      <th>T cells CD4 naive_3</th>\n",
       "      <th>TH_1 [TREGs_GSE4527|GSM101518]</th>\n",
       "      <th>T cells regulatory (Tregs)_1</th>\n",
       "      <th>TH_2 [TREGs_GSE4527|GSM101520]</th>\n",
       "      <th>T cells regulatory (Tregs)_2</th>\n",
       "    </tr>\n",
       "    <tr>\n",
       "      <th>Relabel</th>\n",
       "      <th></th>\n",
       "      <th></th>\n",
       "      <th></th>\n",
       "      <th></th>\n",
       "      <th></th>\n",
       "      <th></th>\n",
       "      <th></th>\n",
       "      <th></th>\n",
       "      <th></th>\n",
       "      <th></th>\n",
       "      <th></th>\n",
       "      <th></th>\n",
       "      <th></th>\n",
       "      <th></th>\n",
       "      <th></th>\n",
       "      <th></th>\n",
       "      <th></th>\n",
       "      <th></th>\n",
       "      <th></th>\n",
       "      <th></th>\n",
       "      <th></th>\n",
       "    </tr>\n",
       "  </thead>\n",
       "  <tbody>\n",
       "    <tr>\n",
       "      <th>A1CF</th>\n",
       "      <td>123.126291</td>\n",
       "      <td>200.096593</td>\n",
       "      <td>98.131873</td>\n",
       "      <td>101.011423</td>\n",
       "      <td>127.567885</td>\n",
       "      <td>109.295918</td>\n",
       "      <td>48.352882</td>\n",
       "      <td>328.453377</td>\n",
       "      <td>370.158338</td>\n",
       "      <td>313.799840</td>\n",
       "      <td>...</td>\n",
       "      <td>27.752002</td>\n",
       "      <td>81.227451</td>\n",
       "      <td>25.180355</td>\n",
       "      <td>285.075510</td>\n",
       "      <td>172.215727</td>\n",
       "      <td>201.051021</td>\n",
       "      <td>736.149237</td>\n",
       "      <td>400.456332</td>\n",
       "      <td>187.566155</td>\n",
       "      <td>414.069368</td>\n",
       "    </tr>\n",
       "    <tr>\n",
       "      <th>A2M</th>\n",
       "      <td>6.717625</td>\n",
       "      <td>20.118036</td>\n",
       "      <td>66.069727</td>\n",
       "      <td>92.850207</td>\n",
       "      <td>56.525064</td>\n",
       "      <td>11.575293</td>\n",
       "      <td>73.481899</td>\n",
       "      <td>31.083799</td>\n",
       "      <td>8579.063240</td>\n",
       "      <td>10105.476910</td>\n",
       "      <td>...</td>\n",
       "      <td>10.950348</td>\n",
       "      <td>6.779301</td>\n",
       "      <td>85.101667</td>\n",
       "      <td>18.227925</td>\n",
       "      <td>16.924983</td>\n",
       "      <td>9.039432</td>\n",
       "      <td>129.643861</td>\n",
       "      <td>75.252245</td>\n",
       "      <td>28.603811</td>\n",
       "      <td>22.338213</td>\n",
       "    </tr>\n",
       "    <tr>\n",
       "      <th>A4GALT</th>\n",
       "      <td>99.776993</td>\n",
       "      <td>56.050865</td>\n",
       "      <td>52.735724</td>\n",
       "      <td>62.908979</td>\n",
       "      <td>115.173360</td>\n",
       "      <td>86.849782</td>\n",
       "      <td>67.478214</td>\n",
       "      <td>172.369277</td>\n",
       "      <td>112.346538</td>\n",
       "      <td>37.343273</td>\n",
       "      <td>...</td>\n",
       "      <td>22.164461</td>\n",
       "      <td>41.200690</td>\n",
       "      <td>24.504919</td>\n",
       "      <td>145.190417</td>\n",
       "      <td>135.992279</td>\n",
       "      <td>62.335556</td>\n",
       "      <td>232.214201</td>\n",
       "      <td>335.890507</td>\n",
       "      <td>207.934712</td>\n",
       "      <td>56.080230</td>\n",
       "    </tr>\n",
       "    <tr>\n",
       "      <th>A4GNT</th>\n",
       "      <td>155.687079</td>\n",
       "      <td>277.949173</td>\n",
       "      <td>186.486014</td>\n",
       "      <td>147.002254</td>\n",
       "      <td>165.954151</td>\n",
       "      <td>102.583059</td>\n",
       "      <td>95.945725</td>\n",
       "      <td>231.328049</td>\n",
       "      <td>151.153031</td>\n",
       "      <td>87.579816</td>\n",
       "      <td>...</td>\n",
       "      <td>127.732540</td>\n",
       "      <td>100.458390</td>\n",
       "      <td>341.302205</td>\n",
       "      <td>411.623288</td>\n",
       "      <td>216.770728</td>\n",
       "      <td>141.512782</td>\n",
       "      <td>384.736274</td>\n",
       "      <td>510.736942</td>\n",
       "      <td>203.089268</td>\n",
       "      <td>539.912283</td>\n",
       "    </tr>\n",
       "    <tr>\n",
       "      <th>AAAS</th>\n",
       "      <td>11.966722</td>\n",
       "      <td>20.671809</td>\n",
       "      <td>25.856604</td>\n",
       "      <td>9.910548</td>\n",
       "      <td>126.638097</td>\n",
       "      <td>24.107794</td>\n",
       "      <td>159.323152</td>\n",
       "      <td>35.289550</td>\n",
       "      <td>20.363367</td>\n",
       "      <td>45.995957</td>\n",
       "      <td>...</td>\n",
       "      <td>216.557256</td>\n",
       "      <td>108.114573</td>\n",
       "      <td>126.690956</td>\n",
       "      <td>423.425075</td>\n",
       "      <td>162.619165</td>\n",
       "      <td>151.616733</td>\n",
       "      <td>96.051241</td>\n",
       "      <td>176.780559</td>\n",
       "      <td>248.657488</td>\n",
       "      <td>89.153691</td>\n",
       "    </tr>\n",
       "  </tbody>\n",
       "</table>\n",
       "<p>5 rows × 194 columns</p>\n",
       "</div>"
      ],
      "text/plain": [
       "         A_LW_+BAFF_U133A_250303 [Chtanova_immune|A_LW_+BAFF_U133A_250303]  \\\n",
       "Relabel                                                                      \n",
       "A1CF                                            123.126291                   \n",
       "A2M                                               6.717625                   \n",
       "A4GALT                                           99.776993                   \n",
       "A4GNT                                           155.687079                   \n",
       "AAAS                                             11.966722                   \n",
       "\n",
       "         A_LW_+BAFF_U133A_70303 [Chtanova_immune|A_LW_+BAFF_U133A_70303]  \\\n",
       "Relabel                                                                    \n",
       "A1CF                                            200.096593                 \n",
       "A2M                                              20.118036                 \n",
       "A4GALT                                           56.050865                 \n",
       "A4GNT                                           277.949173                 \n",
       "AAAS                                             20.671809                 \n",
       "\n",
       "         A_LW_-BAFF_U133A_250303 [Chtanova_immune|A_LW_-BAFF_U133A_250303]  \\\n",
       "Relabel                                                                      \n",
       "A1CF                                             98.131873                   \n",
       "A2M                                              66.069727                   \n",
       "A4GALT                                           52.735724                   \n",
       "A4GNT                                           186.486014                   \n",
       "AAAS                                             25.856604                   \n",
       "\n",
       "         A_LW_-BAFF_U133A_70303 [Chtanova_immune|A_LW_-BAFF_U133A_70303]  \\\n",
       "Relabel                                                                    \n",
       "A1CF                                            101.011423                 \n",
       "A2M                                              92.850207                 \n",
       "A4GALT                                           62.908979                 \n",
       "A4GNT                                           147.002254                 \n",
       "AAAS                                              9.910548                 \n",
       "\n",
       "         A_LW_CD57+_U133A_030603 [Chtanova_immune|A_LW_CD57+_U133A_030603]  \\\n",
       "Relabel                                                                      \n",
       "A1CF                                            127.567885                   \n",
       "A2M                                              56.525064                   \n",
       "A4GALT                                          115.173360                   \n",
       "A4GNT                                           165.954151                   \n",
       "AAAS                                            126.638097                   \n",
       "\n",
       "         A_LW_CD57+_U133A_121102 [Chtanova_immune|A_LW_CD57+_U133A_121102]  \\\n",
       "Relabel                                                                      \n",
       "A1CF                                            109.295918                   \n",
       "A2M                                              11.575293                   \n",
       "A4GALT                                           86.849782                   \n",
       "A4GNT                                           102.583059                   \n",
       "AAAS                                             24.107794                   \n",
       "\n",
       "         A_LW_CD57-_U133A_030603 [Chtanova_immune|A_LW_CD57-_U133A_030603]  \\\n",
       "Relabel                                                                      \n",
       "A1CF                                             48.352882                   \n",
       "A2M                                              73.481899                   \n",
       "A4GALT                                           67.478214                   \n",
       "A4GNT                                            95.945725                   \n",
       "AAAS                                            159.323152                   \n",
       "\n",
       "         A_LW_CD57-_U133A_121102 [Chtanova_immune|A_LW_CD57-_U133A_121102]  \\\n",
       "Relabel                                                                      \n",
       "A1CF                                            328.453377                   \n",
       "A2M                                              31.083799                   \n",
       "A4GALT                                          172.369277                   \n",
       "A4GNT                                           231.328049                   \n",
       "AAAS                                             35.289550                   \n",
       "\n",
       "         A_LW_DC+BAFF_U133A_250304 [Chtanova_immune|A_LW_DC+BAFF_U133A_250304]  \\\n",
       "Relabel                                                                          \n",
       "A1CF                                            370.158338                       \n",
       "A2M                                            8579.063240                       \n",
       "A4GALT                                          112.346538                       \n",
       "A4GNT                                           151.153031                       \n",
       "AAAS                                             20.363367                       \n",
       "\n",
       "         A_LW_DC-BAFF_U133A_250304 [Chtanova_immune|A_LW_DC-BAFF_U133A_250304]  \\\n",
       "Relabel                                                                          \n",
       "A1CF                                            313.799840                       \n",
       "A2M                                           10105.476910                       \n",
       "A4GALT                                           37.343273                       \n",
       "A4GNT                                            87.579816                       \n",
       "AAAS                                             45.995957                       \n",
       "\n",
       "                     ...               \\\n",
       "Relabel              ...                \n",
       "A1CF                 ...                \n",
       "A2M                  ...                \n",
       "A4GALT               ...                \n",
       "A4GNT                ...                \n",
       "AAAS                 ...                \n",
       "\n",
       "         TEM_U133A_1 [TFH_E-MEXP-750|TEM_U133A_1]  \\\n",
       "Relabel                                             \n",
       "A1CF                                    27.752002   \n",
       "A2M                                     10.950348   \n",
       "A4GALT                                  22.164461   \n",
       "A4GNT                                  127.732540   \n",
       "AAAS                                   216.557256   \n",
       "\n",
       "         TEM_U133A_2 [TFH_E-MEXP-750|TEM_U133A_2]  \\\n",
       "Relabel                                             \n",
       "A1CF                                    81.227451   \n",
       "A2M                                      6.779301   \n",
       "A4GALT                                  41.200690   \n",
       "A4GNT                                  100.458390   \n",
       "AAAS                                   108.114573   \n",
       "\n",
       "         TEM_U133A_3 [TFH_E-MEXP-750|TEM_U133A_3]  T cells CD4 naive_1  \\\n",
       "Relabel                                                                  \n",
       "A1CF                                    25.180355           285.075510   \n",
       "A2M                                     85.101667            18.227925   \n",
       "A4GALT                                  24.504919           145.190417   \n",
       "A4GNT                                  341.302205           411.623288   \n",
       "AAAS                                   126.690956           423.425075   \n",
       "\n",
       "         T cells CD4 naive_2  T cells CD4 naive_3  \\\n",
       "Relabel                                             \n",
       "A1CF              172.215727           201.051021   \n",
       "A2M                16.924983             9.039432   \n",
       "A4GALT            135.992279            62.335556   \n",
       "A4GNT             216.770728           141.512782   \n",
       "AAAS              162.619165           151.616733   \n",
       "\n",
       "         TH_1 [TREGs_GSE4527|GSM101518]  T cells regulatory (Tregs)_1  \\\n",
       "Relabel                                                                 \n",
       "A1CF                         736.149237                    400.456332   \n",
       "A2M                          129.643861                     75.252245   \n",
       "A4GALT                       232.214201                    335.890507   \n",
       "A4GNT                        384.736274                    510.736942   \n",
       "AAAS                          96.051241                    176.780559   \n",
       "\n",
       "         TH_2 [TREGs_GSE4527|GSM101520]  T cells regulatory (Tregs)_2  \n",
       "Relabel                                                                \n",
       "A1CF                         187.566155                    414.069368  \n",
       "A2M                           28.603811                     22.338213  \n",
       "A4GALT                       207.934712                     56.080230  \n",
       "A4GNT                        203.089268                    539.912283  \n",
       "AAAS                         248.657488                     89.153691  \n",
       "\n",
       "[5 rows x 194 columns]"
      ]
     },
     "execution_count": 122,
     "metadata": {},
     "output_type": "execute_result"
    }
   ],
   "source": [
    "cib_raw = cib_raw.set_index('Relabel')\n",
    "cib_raw.head()"
   ]
  },
  {
   "cell_type": "code",
   "execution_count": 123,
   "metadata": {
    "ExecuteTime": {
     "end_time": "2016-07-06T12:10:57.273695",
     "start_time": "2016-07-06T12:10:57.265997"
    },
    "collapsed": false,
    "run_control": {
     "frozen": false,
     "read_only": false
    }
   },
   "outputs": [
    {
     "name": "stdout",
     "output_type": "stream",
     "text": [
      "B cells naive_1\n",
      "B cells naive_2\n",
      "B cells naive_3\n",
      "B cells naive_4\n",
      "B cells naive_5\n",
      "B cells naive_6\n",
      "B cells naive_7\n",
      "TH_1 [TREGs_GSE4527|GSM101518]\n",
      "T cells regulatory (Tregs)_1\n",
      "TH_2 [TREGs_GSE4527|GSM101520]\n",
      "T cells regulatory (Tregs)_2\n"
     ]
    }
   ],
   "source": [
    "for c in cib_raw.columns:\n",
    "    if 'b cells naive' in c.lower():\n",
    "        print(c)\n",
    "    if 'reg' in c.lower():\n",
    "        print(c)"
   ]
  },
  {
   "cell_type": "code",
   "execution_count": 9,
   "metadata": {
    "ExecuteTime": {
     "end_time": "2016-12-08T21:12:41.268482",
     "start_time": "2016-12-08T21:12:41.256398"
    },
    "collapsed": false,
    "init_cell": true,
    "run_control": {
     "frozen": false,
     "read_only": false
    }
   },
   "outputs": [
    {
     "data": {
      "text/plain": [
       "([0.25, 0.75],\n",
       " ['B cells naive', 'T cells regulatory (Tregs)'],\n",
       " ['B cells naive_3', 'T cells regulatory (Tregs)_2'])"
      ]
     },
     "execution_count": 9,
     "metadata": {},
     "output_type": "execute_result"
    }
   ],
   "source": [
    "raw_cols = ['B cells naive_3', 'T cells regulatory (Tregs)_2']\n",
    "weights, simple_cols, raw_cols"
   ]
  },
  {
   "cell_type": "code",
   "execution_count": 125,
   "metadata": {
    "ExecuteTime": {
     "end_time": "2016-07-06T12:11:03.884988",
     "start_time": "2016-07-06T12:11:03.856815"
    },
    "collapsed": false,
    "run_control": {
     "frozen": false,
     "read_only": false
    }
   },
   "outputs": [
    {
     "name": "stdout",
     "output_type": "stream",
     "text": [
      "(11866,)\n"
     ]
    },
    {
     "data": {
      "text/plain": [
       "Relabel\n",
       "A1CF      493.685475\n",
       "A2M        22.739216\n",
       "A4GALT     57.807608\n",
       "A4GNT     534.460926\n",
       "AAAS       78.027542\n",
       "dtype: float64"
      ]
     },
     "execution_count": 125,
     "metadata": {},
     "output_type": "execute_result"
    }
   ],
   "source": [
    "mix4=(cib_raw[raw_cols] * weights).sum(axis=1)\n",
    "print(mix4.shape)\n",
    "mix4.head()"
   ]
  },
  {
   "cell_type": "code",
   "execution_count": 126,
   "metadata": {
    "ExecuteTime": {
     "end_time": "2016-07-06T12:11:05.230636",
     "start_time": "2016-07-06T12:11:05.207279"
    },
    "collapsed": false,
    "run_control": {
     "frozen": false,
     "read_only": false
    }
   },
   "outputs": [
    {
     "name": "stdout",
     "output_type": "stream",
     "text": [
      "(11866,)\n"
     ]
    },
    {
     "data": {
      "text/plain": [
       "Relabel\n",
       "A1CF      496.486114\n",
       "A2M        21.604760\n",
       "A4GALT     58.683383\n",
       "A4GNT     532.644481\n",
       "AAAS       78.718120\n",
       "dtype: float64"
      ]
     },
     "execution_count": 126,
     "metadata": {},
     "output_type": "execute_result"
    }
   ],
   "source": [
    "mix5 = mix4 + np.random.normal(0,1,len(mix4))\n",
    "print(mix5.shape)\n",
    "mix5.head()"
   ]
  },
  {
   "cell_type": "code",
   "execution_count": 127,
   "metadata": {
    "ExecuteTime": {
     "end_time": "2016-07-06T12:11:20.217343",
     "start_time": "2016-07-06T12:11:20.170648"
    },
    "collapsed": false,
    "run_control": {
     "frozen": false,
     "read_only": false
    }
   },
   "outputs": [
    {
     "name": "stdout",
     "output_type": "stream",
     "text": [
      "(11866,)\n"
     ]
    },
    {
     "data": {
      "text/plain": [
       "Relabel\n",
       "A1CF      646.423396\n",
       "A2M        25.475507\n",
       "A4GALT     69.634071\n",
       "A4GNT     602.147345\n",
       "AAAS       86.063089\n",
       "dtype: float64"
      ]
     },
     "execution_count": 127,
     "metadata": {},
     "output_type": "execute_result"
    }
   ],
   "source": [
    "weights_noisy2 = np.reshape(weights*len(mix4), cib_raw[raw_cols].shape)\n",
    "weights_noisy2 += np.abs(np.random.normal(0,0.1, weights_noisy2.shape))\n",
    "weights_noisy2 = weights_noisy2.clip(0,1)\n",
    "mix6=(weights_noisy2 * cib_raw[raw_cols]).sum(axis=1)\n",
    "print(mix6.shape)\n",
    "mix6.head()"
   ]
  },
  {
   "cell_type": "code",
   "execution_count": 128,
   "metadata": {
    "ExecuteTime": {
     "end_time": "2016-07-06T12:11:21.993251",
     "start_time": "2016-07-06T12:11:21.887269"
    },
    "collapsed": false,
    "run_control": {
     "frozen": false,
     "read_only": false
    }
   },
   "outputs": [
    {
     "data": {
      "text/html": [
       "<div>\n",
       "<table border=\"1\" class=\"dataframe\">\n",
       "  <thead>\n",
       "    <tr style=\"text-align: right;\">\n",
       "      <th></th>\n",
       "      <th>4 NoNoise</th>\n",
       "      <th>5 SimpleNoise</th>\n",
       "      <th>6 ComplexNoise</th>\n",
       "    </tr>\n",
       "    <tr>\n",
       "      <th>GeneSymbol</th>\n",
       "      <th></th>\n",
       "      <th></th>\n",
       "      <th></th>\n",
       "    </tr>\n",
       "  </thead>\n",
       "  <tbody>\n",
       "    <tr>\n",
       "      <th>A1CF</th>\n",
       "      <td>493.685475</td>\n",
       "      <td>496.486114</td>\n",
       "      <td>646.423396</td>\n",
       "    </tr>\n",
       "    <tr>\n",
       "      <th>A2M</th>\n",
       "      <td>22.739216</td>\n",
       "      <td>21.604760</td>\n",
       "      <td>25.475507</td>\n",
       "    </tr>\n",
       "    <tr>\n",
       "      <th>A4GALT</th>\n",
       "      <td>57.807608</td>\n",
       "      <td>58.683383</td>\n",
       "      <td>69.634071</td>\n",
       "    </tr>\n",
       "    <tr>\n",
       "      <th>A4GNT</th>\n",
       "      <td>534.460926</td>\n",
       "      <td>532.644481</td>\n",
       "      <td>602.147345</td>\n",
       "    </tr>\n",
       "    <tr>\n",
       "      <th>AAAS</th>\n",
       "      <td>78.027542</td>\n",
       "      <td>78.718120</td>\n",
       "      <td>86.063089</td>\n",
       "    </tr>\n",
       "  </tbody>\n",
       "</table>\n",
       "</div>"
      ],
      "text/plain": [
       "             4 NoNoise  5 SimpleNoise  6 ComplexNoise\n",
       "GeneSymbol                                           \n",
       "A1CF        493.685475     496.486114      646.423396\n",
       "A2M          22.739216      21.604760       25.475507\n",
       "A4GALT       57.807608      58.683383       69.634071\n",
       "A4GNT       534.460926     532.644481      602.147345\n",
       "AAAS         78.027542      78.718120       86.063089"
      ]
     },
     "execution_count": 128,
     "metadata": {},
     "output_type": "execute_result"
    }
   ],
   "source": [
    "raw_line_mixtures = pd.DataFrame({'4 NoNoise':mix4, '5 SimpleNoise': mix5, '6 ComplexNoise': mix6})\n",
    "raw_line_mixtures.index.name='GeneSymbol'\n",
    "raw_line_mixtures.to_csv('test_mixtures/raw_line_mixtures.txt', sep='\\t')\n",
    "raw_line_mixtures.head()"
   ]
  },
  {
   "cell_type": "code",
   "execution_count": 129,
   "metadata": {
    "ExecuteTime": {
     "end_time": "2016-07-06T12:11:23.474573",
     "start_time": "2016-07-06T12:11:23.467976"
    },
    "collapsed": false,
    "run_control": {
     "frozen": false,
     "read_only": false
    }
   },
   "outputs": [
    {
     "data": {
      "text/plain": [
       "(11866, 3)"
      ]
     },
     "execution_count": 129,
     "metadata": {},
     "output_type": "execute_result"
    }
   ],
   "source": [
    "raw_line_mixtures.shape"
   ]
  },
  {
   "cell_type": "markdown",
   "metadata": {},
   "source": [
    "### run cibersort on this"
   ]
  },
  {
   "cell_type": "code",
   "execution_count": 130,
   "metadata": {
    "ExecuteTime": {
     "end_time": "2016-07-06T12:12:18.083366",
     "start_time": "2016-07-06T12:11:31.344882"
    },
    "collapsed": false,
    "run_control": {
     "frozen": false,
     "read_only": false
    }
   },
   "outputs": [],
   "source": [
    "!java -Xmx3g -Xms3g -jar ~/CIBERSORT_package/CIBERSORT.jar -M test_mixtures/raw_line_mixtures.txt -B LM22.txt > test_mixtures/out/c2"
   ]
  },
  {
   "cell_type": "code",
   "execution_count": 20,
   "metadata": {
    "ExecuteTime": {
     "end_time": "2016-07-07T15:18:55.317394",
     "start_time": "2016-07-07T15:18:55.245207"
    },
    "collapsed": false,
    "run_control": {
     "frozen": false,
     "read_only": false
    }
   },
   "outputs": [
    {
     "data": {
      "text/html": [
       "<div>\n",
       "<table border=\"1\" class=\"dataframe\">\n",
       "  <thead>\n",
       "    <tr style=\"text-align: right;\">\n",
       "      <th></th>\n",
       "      <th>Column</th>\n",
       "      <th>B cells naive</th>\n",
       "      <th>B cells memory</th>\n",
       "      <th>Plasma cells</th>\n",
       "      <th>T cells CD8</th>\n",
       "      <th>T cells CD4 naive</th>\n",
       "      <th>T cells CD4 memory resting</th>\n",
       "      <th>T cells CD4 memory activated</th>\n",
       "      <th>T cells follicular helper</th>\n",
       "      <th>T cells regulatory (Tregs)</th>\n",
       "      <th>...</th>\n",
       "      <th>Dendritic cells resting</th>\n",
       "      <th>Dendritic cells activated</th>\n",
       "      <th>Mast cells resting</th>\n",
       "      <th>Mast cells activated</th>\n",
       "      <th>Eosinophils</th>\n",
       "      <th>Neutrophils</th>\n",
       "      <th>P-value</th>\n",
       "      <th>Pearson Correlation</th>\n",
       "      <th>RMSE</th>\n",
       "      <th>Unnamed: 26</th>\n",
       "    </tr>\n",
       "  </thead>\n",
       "  <tbody>\n",
       "    <tr>\n",
       "      <th>0</th>\n",
       "      <td>0</td>\n",
       "      <td>0.143895</td>\n",
       "      <td>0.021186</td>\n",
       "      <td>0</td>\n",
       "      <td>0.006826</td>\n",
       "      <td>0</td>\n",
       "      <td>0.013391</td>\n",
       "      <td>0.000138</td>\n",
       "      <td>0.043271</td>\n",
       "      <td>0.739318</td>\n",
       "      <td>...</td>\n",
       "      <td>0.005486</td>\n",
       "      <td>0</td>\n",
       "      <td>0.007973</td>\n",
       "      <td>0</td>\n",
       "      <td>0.000000</td>\n",
       "      <td>0.001104</td>\n",
       "      <td>0.0</td>\n",
       "      <td>0.927240</td>\n",
       "      <td>0.426813</td>\n",
       "      <td>NaN</td>\n",
       "    </tr>\n",
       "    <tr>\n",
       "      <th>1</th>\n",
       "      <td>1</td>\n",
       "      <td>0.142488</td>\n",
       "      <td>0.023309</td>\n",
       "      <td>0</td>\n",
       "      <td>0.006816</td>\n",
       "      <td>0</td>\n",
       "      <td>0.012991</td>\n",
       "      <td>0.000439</td>\n",
       "      <td>0.044329</td>\n",
       "      <td>0.738859</td>\n",
       "      <td>...</td>\n",
       "      <td>0.004869</td>\n",
       "      <td>0</td>\n",
       "      <td>0.007722</td>\n",
       "      <td>0</td>\n",
       "      <td>0.000000</td>\n",
       "      <td>0.000996</td>\n",
       "      <td>0.0</td>\n",
       "      <td>0.927291</td>\n",
       "      <td>0.426584</td>\n",
       "      <td>NaN</td>\n",
       "    </tr>\n",
       "    <tr>\n",
       "      <th>2</th>\n",
       "      <td>2</td>\n",
       "      <td>0.160314</td>\n",
       "      <td>0.006852</td>\n",
       "      <td>0</td>\n",
       "      <td>0.012942</td>\n",
       "      <td>0</td>\n",
       "      <td>0.011825</td>\n",
       "      <td>0.000000</td>\n",
       "      <td>0.047165</td>\n",
       "      <td>0.718448</td>\n",
       "      <td>...</td>\n",
       "      <td>0.010054</td>\n",
       "      <td>0</td>\n",
       "      <td>0.009618</td>\n",
       "      <td>0</td>\n",
       "      <td>0.001232</td>\n",
       "      <td>0.000000</td>\n",
       "      <td>0.0</td>\n",
       "      <td>0.927102</td>\n",
       "      <td>0.431932</td>\n",
       "      <td>NaN</td>\n",
       "    </tr>\n",
       "  </tbody>\n",
       "</table>\n",
       "<p>3 rows × 27 columns</p>\n",
       "</div>"
      ],
      "text/plain": [
       "   Column  B cells naive  B cells memory  Plasma cells  T cells CD8  \\\n",
       "0       0       0.143895        0.021186             0     0.006826   \n",
       "1       1       0.142488        0.023309             0     0.006816   \n",
       "2       2       0.160314        0.006852             0     0.012942   \n",
       "\n",
       "   T cells CD4 naive  T cells CD4 memory resting  \\\n",
       "0                  0                    0.013391   \n",
       "1                  0                    0.012991   \n",
       "2                  0                    0.011825   \n",
       "\n",
       "   T cells CD4 memory activated  T cells follicular helper  \\\n",
       "0                      0.000138                   0.043271   \n",
       "1                      0.000439                   0.044329   \n",
       "2                      0.000000                   0.047165   \n",
       "\n",
       "   T cells regulatory (Tregs)     ...       Dendritic cells resting  \\\n",
       "0                    0.739318     ...                      0.005486   \n",
       "1                    0.738859     ...                      0.004869   \n",
       "2                    0.718448     ...                      0.010054   \n",
       "\n",
       "   Dendritic cells activated  Mast cells resting  Mast cells activated  \\\n",
       "0                          0            0.007973                     0   \n",
       "1                          0            0.007722                     0   \n",
       "2                          0            0.009618                     0   \n",
       "\n",
       "   Eosinophils  Neutrophils  P-value  Pearson Correlation      RMSE  \\\n",
       "0     0.000000     0.001104      0.0             0.927240  0.426813   \n",
       "1     0.000000     0.000996      0.0             0.927291  0.426584   \n",
       "2     0.001232     0.000000      0.0             0.927102  0.431932   \n",
       "\n",
       "   Unnamed: 26  \n",
       "0          NaN  \n",
       "1          NaN  \n",
       "2          NaN  \n",
       "\n",
       "[3 rows x 27 columns]"
      ]
     },
     "execution_count": 20,
     "metadata": {},
     "output_type": "execute_result"
    }
   ],
   "source": [
    "results2 = pd.read_csv('test_mixtures/out/c2', skiprows=list(range(6)), sep='\\t')\n",
    "results2.head()"
   ]
  },
  {
   "cell_type": "code",
   "execution_count": 21,
   "metadata": {
    "ExecuteTime": {
     "end_time": "2016-07-07T15:18:56.529304",
     "start_time": "2016-07-07T15:18:56.476951"
    },
    "collapsed": false,
    "run_control": {
     "frozen": false,
     "read_only": false
    }
   },
   "outputs": [
    {
     "name": "stdout",
     "output_type": "stream",
     "text": [
      "(3, 26) (3, 22)\n"
     ]
    },
    {
     "data": {
      "text/html": [
       "<div>\n",
       "<table border=\"1\" class=\"dataframe\">\n",
       "  <thead>\n",
       "    <tr style=\"text-align: right;\">\n",
       "      <th></th>\n",
       "      <th>B cells naive</th>\n",
       "      <th>B cells memory</th>\n",
       "      <th>Plasma cells</th>\n",
       "      <th>T cells CD8</th>\n",
       "      <th>T cells CD4 naive</th>\n",
       "      <th>T cells CD4 memory resting</th>\n",
       "      <th>T cells CD4 memory activated</th>\n",
       "      <th>T cells follicular helper</th>\n",
       "      <th>T cells regulatory (Tregs)</th>\n",
       "      <th>T cells gamma delta</th>\n",
       "      <th>...</th>\n",
       "      <th>Monocytes</th>\n",
       "      <th>Macrophages M0</th>\n",
       "      <th>Macrophages M1</th>\n",
       "      <th>Macrophages M2</th>\n",
       "      <th>Dendritic cells resting</th>\n",
       "      <th>Dendritic cells activated</th>\n",
       "      <th>Mast cells resting</th>\n",
       "      <th>Mast cells activated</th>\n",
       "      <th>Eosinophils</th>\n",
       "      <th>Neutrophils</th>\n",
       "    </tr>\n",
       "  </thead>\n",
       "  <tbody>\n",
       "    <tr>\n",
       "      <th>0</th>\n",
       "      <td>0.143895</td>\n",
       "      <td>0.021186</td>\n",
       "      <td>0</td>\n",
       "      <td>0.006826</td>\n",
       "      <td>0</td>\n",
       "      <td>0.013391</td>\n",
       "      <td>0.000138</td>\n",
       "      <td>0.043271</td>\n",
       "      <td>0.739318</td>\n",
       "      <td>0</td>\n",
       "      <td>...</td>\n",
       "      <td>0.002995</td>\n",
       "      <td>0.002519</td>\n",
       "      <td>0.002865</td>\n",
       "      <td>0.000000</td>\n",
       "      <td>0.005486</td>\n",
       "      <td>0</td>\n",
       "      <td>0.007973</td>\n",
       "      <td>0</td>\n",
       "      <td>0.000000</td>\n",
       "      <td>0.001104</td>\n",
       "    </tr>\n",
       "    <tr>\n",
       "      <th>1</th>\n",
       "      <td>0.142488</td>\n",
       "      <td>0.023309</td>\n",
       "      <td>0</td>\n",
       "      <td>0.006816</td>\n",
       "      <td>0</td>\n",
       "      <td>0.012991</td>\n",
       "      <td>0.000439</td>\n",
       "      <td>0.044329</td>\n",
       "      <td>0.738859</td>\n",
       "      <td>0</td>\n",
       "      <td>...</td>\n",
       "      <td>0.002975</td>\n",
       "      <td>0.002309</td>\n",
       "      <td>0.002844</td>\n",
       "      <td>0.000393</td>\n",
       "      <td>0.004869</td>\n",
       "      <td>0</td>\n",
       "      <td>0.007722</td>\n",
       "      <td>0</td>\n",
       "      <td>0.000000</td>\n",
       "      <td>0.000996</td>\n",
       "    </tr>\n",
       "    <tr>\n",
       "      <th>2</th>\n",
       "      <td>0.160314</td>\n",
       "      <td>0.006852</td>\n",
       "      <td>0</td>\n",
       "      <td>0.012942</td>\n",
       "      <td>0</td>\n",
       "      <td>0.011825</td>\n",
       "      <td>0.000000</td>\n",
       "      <td>0.047165</td>\n",
       "      <td>0.718448</td>\n",
       "      <td>0</td>\n",
       "      <td>...</td>\n",
       "      <td>0.002122</td>\n",
       "      <td>0.002254</td>\n",
       "      <td>0.004367</td>\n",
       "      <td>0.000000</td>\n",
       "      <td>0.010054</td>\n",
       "      <td>0</td>\n",
       "      <td>0.009618</td>\n",
       "      <td>0</td>\n",
       "      <td>0.001232</td>\n",
       "      <td>0.000000</td>\n",
       "    </tr>\n",
       "  </tbody>\n",
       "</table>\n",
       "<p>3 rows × 22 columns</p>\n",
       "</div>"
      ],
      "text/plain": [
       "   B cells naive  B cells memory  Plasma cells  T cells CD8  \\\n",
       "0       0.143895        0.021186             0     0.006826   \n",
       "1       0.142488        0.023309             0     0.006816   \n",
       "2       0.160314        0.006852             0     0.012942   \n",
       "\n",
       "   T cells CD4 naive  T cells CD4 memory resting  \\\n",
       "0                  0                    0.013391   \n",
       "1                  0                    0.012991   \n",
       "2                  0                    0.011825   \n",
       "\n",
       "   T cells CD4 memory activated  T cells follicular helper  \\\n",
       "0                      0.000138                   0.043271   \n",
       "1                      0.000439                   0.044329   \n",
       "2                      0.000000                   0.047165   \n",
       "\n",
       "   T cells regulatory (Tregs)  T cells gamma delta     ...       Monocytes  \\\n",
       "0                    0.739318                    0     ...        0.002995   \n",
       "1                    0.738859                    0     ...        0.002975   \n",
       "2                    0.718448                    0     ...        0.002122   \n",
       "\n",
       "   Macrophages M0  Macrophages M1  Macrophages M2  Dendritic cells resting  \\\n",
       "0        0.002519        0.002865        0.000000                 0.005486   \n",
       "1        0.002309        0.002844        0.000393                 0.004869   \n",
       "2        0.002254        0.004367        0.000000                 0.010054   \n",
       "\n",
       "   Dendritic cells activated  Mast cells resting  Mast cells activated  \\\n",
       "0                          0            0.007973                     0   \n",
       "1                          0            0.007722                     0   \n",
       "2                          0            0.009618                     0   \n",
       "\n",
       "   Eosinophils  Neutrophils  \n",
       "0     0.000000     0.001104  \n",
       "1     0.000000     0.000996  \n",
       "2     0.001232     0.000000  \n",
       "\n",
       "[3 rows x 22 columns]"
      ]
     },
     "execution_count": 21,
     "metadata": {},
     "output_type": "execute_result"
    }
   ],
   "source": [
    "del results2['Unnamed: 26']\n",
    "results2_dat = results2[results2.columns[1:-3]]\n",
    "print(results2.shape, results2_dat.shape)\n",
    "results2_dat.head()"
   ]
  },
  {
   "cell_type": "code",
   "execution_count": 22,
   "metadata": {
    "ExecuteTime": {
     "end_time": "2016-07-07T15:19:00.819551",
     "start_time": "2016-07-07T15:19:00.708045"
    },
    "collapsed": false,
    "run_control": {
     "frozen": false,
     "read_only": false
    }
   },
   "outputs": [
    {
     "data": {
      "text/html": [
       "<div>\n",
       "<table border=\"1\" class=\"dataframe\">\n",
       "  <thead>\n",
       "    <tr style=\"text-align: right;\">\n",
       "      <th></th>\n",
       "      <th>B cells naive</th>\n",
       "      <th>B cells memory</th>\n",
       "      <th>Plasma cells</th>\n",
       "      <th>T cells CD8</th>\n",
       "      <th>T cells CD4 naive</th>\n",
       "      <th>T cells CD4 memory resting</th>\n",
       "      <th>T cells CD4 memory activated</th>\n",
       "      <th>T cells follicular helper</th>\n",
       "      <th>T cells regulatory (Tregs)</th>\n",
       "      <th>T cells gamma delta</th>\n",
       "      <th>...</th>\n",
       "      <th>Monocytes</th>\n",
       "      <th>Macrophages M0</th>\n",
       "      <th>Macrophages M1</th>\n",
       "      <th>Macrophages M2</th>\n",
       "      <th>Dendritic cells resting</th>\n",
       "      <th>Dendritic cells activated</th>\n",
       "      <th>Mast cells resting</th>\n",
       "      <th>Mast cells activated</th>\n",
       "      <th>Eosinophils</th>\n",
       "      <th>Neutrophils</th>\n",
       "    </tr>\n",
       "  </thead>\n",
       "  <tbody>\n",
       "    <tr>\n",
       "      <th>0</th>\n",
       "      <td>0.25</td>\n",
       "      <td>0.0</td>\n",
       "      <td>0.0</td>\n",
       "      <td>0.0</td>\n",
       "      <td>0.0</td>\n",
       "      <td>0.0</td>\n",
       "      <td>0.0</td>\n",
       "      <td>0.0</td>\n",
       "      <td>0.75</td>\n",
       "      <td>0.0</td>\n",
       "      <td>...</td>\n",
       "      <td>0.0</td>\n",
       "      <td>0.0</td>\n",
       "      <td>0.0</td>\n",
       "      <td>0.0</td>\n",
       "      <td>0.0</td>\n",
       "      <td>0.0</td>\n",
       "      <td>0.0</td>\n",
       "      <td>0.0</td>\n",
       "      <td>0.0</td>\n",
       "      <td>0.0</td>\n",
       "    </tr>\n",
       "    <tr>\n",
       "      <th>1</th>\n",
       "      <td>0.25</td>\n",
       "      <td>0.0</td>\n",
       "      <td>0.0</td>\n",
       "      <td>0.0</td>\n",
       "      <td>0.0</td>\n",
       "      <td>0.0</td>\n",
       "      <td>0.0</td>\n",
       "      <td>0.0</td>\n",
       "      <td>0.75</td>\n",
       "      <td>0.0</td>\n",
       "      <td>...</td>\n",
       "      <td>0.0</td>\n",
       "      <td>0.0</td>\n",
       "      <td>0.0</td>\n",
       "      <td>0.0</td>\n",
       "      <td>0.0</td>\n",
       "      <td>0.0</td>\n",
       "      <td>0.0</td>\n",
       "      <td>0.0</td>\n",
       "      <td>0.0</td>\n",
       "      <td>0.0</td>\n",
       "    </tr>\n",
       "    <tr>\n",
       "      <th>2</th>\n",
       "      <td>0.25</td>\n",
       "      <td>0.0</td>\n",
       "      <td>0.0</td>\n",
       "      <td>0.0</td>\n",
       "      <td>0.0</td>\n",
       "      <td>0.0</td>\n",
       "      <td>0.0</td>\n",
       "      <td>0.0</td>\n",
       "      <td>0.75</td>\n",
       "      <td>0.0</td>\n",
       "      <td>...</td>\n",
       "      <td>0.0</td>\n",
       "      <td>0.0</td>\n",
       "      <td>0.0</td>\n",
       "      <td>0.0</td>\n",
       "      <td>0.0</td>\n",
       "      <td>0.0</td>\n",
       "      <td>0.0</td>\n",
       "      <td>0.0</td>\n",
       "      <td>0.0</td>\n",
       "      <td>0.0</td>\n",
       "    </tr>\n",
       "  </tbody>\n",
       "</table>\n",
       "<p>3 rows × 22 columns</p>\n",
       "</div>"
      ],
      "text/plain": [
       "   B cells naive  B cells memory  Plasma cells  T cells CD8  \\\n",
       "0           0.25             0.0           0.0          0.0   \n",
       "1           0.25             0.0           0.0          0.0   \n",
       "2           0.25             0.0           0.0          0.0   \n",
       "\n",
       "   T cells CD4 naive  T cells CD4 memory resting  \\\n",
       "0                0.0                         0.0   \n",
       "1                0.0                         0.0   \n",
       "2                0.0                         0.0   \n",
       "\n",
       "   T cells CD4 memory activated  T cells follicular helper  \\\n",
       "0                           0.0                        0.0   \n",
       "1                           0.0                        0.0   \n",
       "2                           0.0                        0.0   \n",
       "\n",
       "   T cells regulatory (Tregs)  T cells gamma delta     ...       Monocytes  \\\n",
       "0                        0.75                  0.0     ...             0.0   \n",
       "1                        0.75                  0.0     ...             0.0   \n",
       "2                        0.75                  0.0     ...             0.0   \n",
       "\n",
       "   Macrophages M0  Macrophages M1  Macrophages M2  Dendritic cells resting  \\\n",
       "0             0.0             0.0             0.0                      0.0   \n",
       "1             0.0             0.0             0.0                      0.0   \n",
       "2             0.0             0.0             0.0                      0.0   \n",
       "\n",
       "   Dendritic cells activated  Mast cells resting  Mast cells activated  \\\n",
       "0                        0.0                 0.0                   0.0   \n",
       "1                        0.0                 0.0                   0.0   \n",
       "2                        0.0                 0.0                   0.0   \n",
       "\n",
       "   Eosinophils  Neutrophils  \n",
       "0          0.0          0.0  \n",
       "1          0.0          0.0  \n",
       "2          0.0          0.0  \n",
       "\n",
       "[3 rows x 22 columns]"
      ]
     },
     "execution_count": 22,
     "metadata": {},
     "output_type": "execute_result"
    }
   ],
   "source": [
    "raw_line_weights = pd.DataFrame(np.zeros(results2_dat.shape),columns=results2_dat.columns)\n",
    "raw_line_weights.loc[:,simple_cols] = weights\n",
    "raw_line_weights\n"
   ]
  },
  {
   "cell_type": "code",
   "execution_count": 23,
   "metadata": {
    "ExecuteTime": {
     "end_time": "2016-07-07T15:19:03.476073",
     "start_time": "2016-07-07T15:19:03.456328"
    },
    "collapsed": false,
    "run_control": {
     "frozen": false,
     "read_only": false
    }
   },
   "outputs": [
    {
     "name": "stdout",
     "output_type": "stream",
     "text": [
      "correlation between GT and estimate per mixture\n",
      "0    0.988437\n",
      "1    0.988045\n",
      "2    0.991614\n",
      "dtype: float64\n"
     ]
    }
   ],
   "source": [
    "print('correlation between GT and estimate per mixture')\n",
    "print(results2_dat.corrwith(raw_line_weights, axis=1))\n"
   ]
  },
  {
   "cell_type": "markdown",
   "metadata": {},
   "source": [
    "Correlation is a misleading metric maybe, because noise seems to help..."
   ]
  },
  {
   "cell_type": "code",
   "execution_count": 24,
   "metadata": {
    "ExecuteTime": {
     "end_time": "2016-07-07T15:19:07.169148",
     "start_time": "2016-07-07T15:19:06.518354"
    },
    "collapsed": false,
    "run_control": {
     "frozen": false,
     "read_only": false
    }
   },
   "outputs": [
    {
     "name": "stdout",
     "output_type": "stream",
     "text": [
      "absolute difference from ground truth, summarized by column:\n"
     ]
    },
    {
     "name": "stderr",
     "output_type": "stream",
     "text": [
      "/home/maxim/anaconda2/lib/python2.7/site-packages/ipykernel/__main__.py:4: FutureWarning: sort(columns=....) is deprecated, use sort_values(by=.....)\n"
     ]
    },
    {
     "data": {
      "text/html": [
       "<div>\n",
       "<table border=\"1\" class=\"dataframe\">\n",
       "  <thead>\n",
       "    <tr style=\"text-align: right;\">\n",
       "      <th></th>\n",
       "      <th>count</th>\n",
       "      <th>mean</th>\n",
       "      <th>std</th>\n",
       "      <th>min</th>\n",
       "      <th>25%</th>\n",
       "      <th>50%</th>\n",
       "      <th>75%</th>\n",
       "      <th>max</th>\n",
       "    </tr>\n",
       "  </thead>\n",
       "  <tbody>\n",
       "    <tr>\n",
       "      <th>B cells naive</th>\n",
       "      <td>3.0</td>\n",
       "      <td>-0.101101</td>\n",
       "      <td>0.009911</td>\n",
       "      <td>-0.107512</td>\n",
       "      <td>-0.106808</td>\n",
       "      <td>-0.106105</td>\n",
       "      <td>-0.097895</td>\n",
       "      <td>-0.089686</td>\n",
       "    </tr>\n",
       "    <tr>\n",
       "      <th>T cells regulatory (Tregs)</th>\n",
       "      <td>3.0</td>\n",
       "      <td>-0.017792</td>\n",
       "      <td>0.011919</td>\n",
       "      <td>-0.031552</td>\n",
       "      <td>-0.021347</td>\n",
       "      <td>-0.011141</td>\n",
       "      <td>-0.010912</td>\n",
       "      <td>-0.010682</td>\n",
       "    </tr>\n",
       "    <tr>\n",
       "      <th>Mast cells activated</th>\n",
       "      <td>3.0</td>\n",
       "      <td>0.000000</td>\n",
       "      <td>0.000000</td>\n",
       "      <td>0.000000</td>\n",
       "      <td>0.000000</td>\n",
       "      <td>0.000000</td>\n",
       "      <td>0.000000</td>\n",
       "      <td>0.000000</td>\n",
       "    </tr>\n",
       "    <tr>\n",
       "      <th>Dendritic cells activated</th>\n",
       "      <td>3.0</td>\n",
       "      <td>0.000000</td>\n",
       "      <td>0.000000</td>\n",
       "      <td>0.000000</td>\n",
       "      <td>0.000000</td>\n",
       "      <td>0.000000</td>\n",
       "      <td>0.000000</td>\n",
       "      <td>0.000000</td>\n",
       "    </tr>\n",
       "    <tr>\n",
       "      <th>T cells gamma delta</th>\n",
       "      <td>3.0</td>\n",
       "      <td>0.000000</td>\n",
       "      <td>0.000000</td>\n",
       "      <td>0.000000</td>\n",
       "      <td>0.000000</td>\n",
       "      <td>0.000000</td>\n",
       "      <td>0.000000</td>\n",
       "      <td>0.000000</td>\n",
       "    </tr>\n",
       "    <tr>\n",
       "      <th>NK cells resting</th>\n",
       "      <td>3.0</td>\n",
       "      <td>0.000000</td>\n",
       "      <td>0.000000</td>\n",
       "      <td>0.000000</td>\n",
       "      <td>0.000000</td>\n",
       "      <td>0.000000</td>\n",
       "      <td>0.000000</td>\n",
       "      <td>0.000000</td>\n",
       "    </tr>\n",
       "    <tr>\n",
       "      <th>T cells CD4 naive</th>\n",
       "      <td>3.0</td>\n",
       "      <td>0.000000</td>\n",
       "      <td>0.000000</td>\n",
       "      <td>0.000000</td>\n",
       "      <td>0.000000</td>\n",
       "      <td>0.000000</td>\n",
       "      <td>0.000000</td>\n",
       "      <td>0.000000</td>\n",
       "    </tr>\n",
       "    <tr>\n",
       "      <th>Plasma cells</th>\n",
       "      <td>3.0</td>\n",
       "      <td>0.000000</td>\n",
       "      <td>0.000000</td>\n",
       "      <td>0.000000</td>\n",
       "      <td>0.000000</td>\n",
       "      <td>0.000000</td>\n",
       "      <td>0.000000</td>\n",
       "      <td>0.000000</td>\n",
       "    </tr>\n",
       "    <tr>\n",
       "      <th>Macrophages M2</th>\n",
       "      <td>3.0</td>\n",
       "      <td>0.000131</td>\n",
       "      <td>0.000227</td>\n",
       "      <td>0.000000</td>\n",
       "      <td>0.000000</td>\n",
       "      <td>0.000000</td>\n",
       "      <td>0.000196</td>\n",
       "      <td>0.000393</td>\n",
       "    </tr>\n",
       "    <tr>\n",
       "      <th>T cells CD4 memory activated</th>\n",
       "      <td>3.0</td>\n",
       "      <td>0.000193</td>\n",
       "      <td>0.000224</td>\n",
       "      <td>0.000000</td>\n",
       "      <td>0.000069</td>\n",
       "      <td>0.000138</td>\n",
       "      <td>0.000289</td>\n",
       "      <td>0.000439</td>\n",
       "    </tr>\n",
       "    <tr>\n",
       "      <th>Eosinophils</th>\n",
       "      <td>3.0</td>\n",
       "      <td>0.000411</td>\n",
       "      <td>0.000711</td>\n",
       "      <td>0.000000</td>\n",
       "      <td>0.000000</td>\n",
       "      <td>0.000000</td>\n",
       "      <td>0.000616</td>\n",
       "      <td>0.001232</td>\n",
       "    </tr>\n",
       "    <tr>\n",
       "      <th>Neutrophils</th>\n",
       "      <td>3.0</td>\n",
       "      <td>0.000700</td>\n",
       "      <td>0.000609</td>\n",
       "      <td>0.000000</td>\n",
       "      <td>0.000498</td>\n",
       "      <td>0.000996</td>\n",
       "      <td>0.001050</td>\n",
       "      <td>0.001104</td>\n",
       "    </tr>\n",
       "    <tr>\n",
       "      <th>Macrophages M0</th>\n",
       "      <td>3.0</td>\n",
       "      <td>0.002361</td>\n",
       "      <td>0.000140</td>\n",
       "      <td>0.002254</td>\n",
       "      <td>0.002281</td>\n",
       "      <td>0.002309</td>\n",
       "      <td>0.002414</td>\n",
       "      <td>0.002519</td>\n",
       "    </tr>\n",
       "    <tr>\n",
       "      <th>Monocytes</th>\n",
       "      <td>3.0</td>\n",
       "      <td>0.002698</td>\n",
       "      <td>0.000498</td>\n",
       "      <td>0.002122</td>\n",
       "      <td>0.002549</td>\n",
       "      <td>0.002975</td>\n",
       "      <td>0.002985</td>\n",
       "      <td>0.002995</td>\n",
       "    </tr>\n",
       "    <tr>\n",
       "      <th>Macrophages M1</th>\n",
       "      <td>3.0</td>\n",
       "      <td>0.003359</td>\n",
       "      <td>0.000873</td>\n",
       "      <td>0.002844</td>\n",
       "      <td>0.002854</td>\n",
       "      <td>0.002865</td>\n",
       "      <td>0.003616</td>\n",
       "      <td>0.004367</td>\n",
       "    </tr>\n",
       "    <tr>\n",
       "      <th>Dendritic cells resting</th>\n",
       "      <td>3.0</td>\n",
       "      <td>0.006803</td>\n",
       "      <td>0.002832</td>\n",
       "      <td>0.004869</td>\n",
       "      <td>0.005178</td>\n",
       "      <td>0.005486</td>\n",
       "      <td>0.007770</td>\n",
       "      <td>0.010054</td>\n",
       "    </tr>\n",
       "    <tr>\n",
       "      <th>Mast cells resting</th>\n",
       "      <td>3.0</td>\n",
       "      <td>0.008438</td>\n",
       "      <td>0.001030</td>\n",
       "      <td>0.007722</td>\n",
       "      <td>0.007848</td>\n",
       "      <td>0.007973</td>\n",
       "      <td>0.008796</td>\n",
       "      <td>0.009618</td>\n",
       "    </tr>\n",
       "    <tr>\n",
       "      <th>T cells CD8</th>\n",
       "      <td>3.0</td>\n",
       "      <td>0.008861</td>\n",
       "      <td>0.003534</td>\n",
       "      <td>0.006816</td>\n",
       "      <td>0.006821</td>\n",
       "      <td>0.006826</td>\n",
       "      <td>0.009884</td>\n",
       "      <td>0.012942</td>\n",
       "    </tr>\n",
       "    <tr>\n",
       "      <th>NK cells activated</th>\n",
       "      <td>3.0</td>\n",
       "      <td>0.010166</td>\n",
       "      <td>0.002294</td>\n",
       "      <td>0.008661</td>\n",
       "      <td>0.008846</td>\n",
       "      <td>0.009032</td>\n",
       "      <td>0.010919</td>\n",
       "      <td>0.012806</td>\n",
       "    </tr>\n",
       "    <tr>\n",
       "      <th>T cells CD4 memory resting</th>\n",
       "      <td>3.0</td>\n",
       "      <td>0.012736</td>\n",
       "      <td>0.000813</td>\n",
       "      <td>0.011825</td>\n",
       "      <td>0.012408</td>\n",
       "      <td>0.012991</td>\n",
       "      <td>0.013191</td>\n",
       "      <td>0.013391</td>\n",
       "    </tr>\n",
       "    <tr>\n",
       "      <th>B cells memory</th>\n",
       "      <td>3.0</td>\n",
       "      <td>0.017116</td>\n",
       "      <td>0.008952</td>\n",
       "      <td>0.006852</td>\n",
       "      <td>0.014019</td>\n",
       "      <td>0.021186</td>\n",
       "      <td>0.022248</td>\n",
       "      <td>0.023309</td>\n",
       "    </tr>\n",
       "    <tr>\n",
       "      <th>T cells follicular helper</th>\n",
       "      <td>3.0</td>\n",
       "      <td>0.044922</td>\n",
       "      <td>0.002014</td>\n",
       "      <td>0.043271</td>\n",
       "      <td>0.043800</td>\n",
       "      <td>0.044329</td>\n",
       "      <td>0.045747</td>\n",
       "      <td>0.047165</td>\n",
       "    </tr>\n",
       "  </tbody>\n",
       "</table>\n",
       "</div>"
      ],
      "text/plain": [
       "                              count      mean       std       min       25%  \\\n",
       "B cells naive                   3.0 -0.101101  0.009911 -0.107512 -0.106808   \n",
       "T cells regulatory (Tregs)      3.0 -0.017792  0.011919 -0.031552 -0.021347   \n",
       "Mast cells activated            3.0  0.000000  0.000000  0.000000  0.000000   \n",
       "Dendritic cells activated       3.0  0.000000  0.000000  0.000000  0.000000   \n",
       "T cells gamma delta             3.0  0.000000  0.000000  0.000000  0.000000   \n",
       "NK cells resting                3.0  0.000000  0.000000  0.000000  0.000000   \n",
       "T cells CD4 naive               3.0  0.000000  0.000000  0.000000  0.000000   \n",
       "Plasma cells                    3.0  0.000000  0.000000  0.000000  0.000000   \n",
       "Macrophages M2                  3.0  0.000131  0.000227  0.000000  0.000000   \n",
       "T cells CD4 memory activated    3.0  0.000193  0.000224  0.000000  0.000069   \n",
       "Eosinophils                     3.0  0.000411  0.000711  0.000000  0.000000   \n",
       "Neutrophils                     3.0  0.000700  0.000609  0.000000  0.000498   \n",
       "Macrophages M0                  3.0  0.002361  0.000140  0.002254  0.002281   \n",
       "Monocytes                       3.0  0.002698  0.000498  0.002122  0.002549   \n",
       "Macrophages M1                  3.0  0.003359  0.000873  0.002844  0.002854   \n",
       "Dendritic cells resting         3.0  0.006803  0.002832  0.004869  0.005178   \n",
       "Mast cells resting              3.0  0.008438  0.001030  0.007722  0.007848   \n",
       "T cells CD8                     3.0  0.008861  0.003534  0.006816  0.006821   \n",
       "NK cells activated              3.0  0.010166  0.002294  0.008661  0.008846   \n",
       "T cells CD4 memory resting      3.0  0.012736  0.000813  0.011825  0.012408   \n",
       "B cells memory                  3.0  0.017116  0.008952  0.006852  0.014019   \n",
       "T cells follicular helper       3.0  0.044922  0.002014  0.043271  0.043800   \n",
       "\n",
       "                                   50%       75%       max  \n",
       "B cells naive                -0.106105 -0.097895 -0.089686  \n",
       "T cells regulatory (Tregs)   -0.011141 -0.010912 -0.010682  \n",
       "Mast cells activated          0.000000  0.000000  0.000000  \n",
       "Dendritic cells activated     0.000000  0.000000  0.000000  \n",
       "T cells gamma delta           0.000000  0.000000  0.000000  \n",
       "NK cells resting              0.000000  0.000000  0.000000  \n",
       "T cells CD4 naive             0.000000  0.000000  0.000000  \n",
       "Plasma cells                  0.000000  0.000000  0.000000  \n",
       "Macrophages M2                0.000000  0.000196  0.000393  \n",
       "T cells CD4 memory activated  0.000138  0.000289  0.000439  \n",
       "Eosinophils                   0.000000  0.000616  0.001232  \n",
       "Neutrophils                   0.000996  0.001050  0.001104  \n",
       "Macrophages M0                0.002309  0.002414  0.002519  \n",
       "Monocytes                     0.002975  0.002985  0.002995  \n",
       "Macrophages M1                0.002865  0.003616  0.004367  \n",
       "Dendritic cells resting       0.005486  0.007770  0.010054  \n",
       "Mast cells resting            0.007973  0.008796  0.009618  \n",
       "T cells CD8                   0.006826  0.009884  0.012942  \n",
       "NK cells activated            0.009032  0.010919  0.012806  \n",
       "T cells CD4 memory resting    0.012991  0.013191  0.013391  \n",
       "B cells memory                0.021186  0.022248  0.023309  \n",
       "T cells follicular helper     0.044329  0.045747  0.047165  "
      ]
     },
     "execution_count": 24,
     "metadata": {},
     "output_type": "execute_result"
    },
    {
     "data": {
      "image/png": "[encoded data removed]",
      "text/plain": [
       "<matplotlib.figure.Figure at 0x7f765e8d1a90>"
      ]
     },
     "metadata": {},
     "output_type": "display_data"
    }
   ],
   "source": [
    "print('absolute difference from ground truth, summarized by column:')\n",
    "(results2_dat - raw_line_weights).describe().loc['mean'].hist()\n",
    "plt.title('mean absolute differences for columns across all mixtures')\n",
    "(results2_dat - raw_line_weights).describe().T.sort('mean')\n"
   ]
  },
  {
   "cell_type": "code",
   "execution_count": 25,
   "metadata": {
    "ExecuteTime": {
     "end_time": "2016-07-07T15:19:10.389741",
     "start_time": "2016-07-07T15:19:08.021026"
    },
    "collapsed": false,
    "run_control": {
     "frozen": false,
     "read_only": false
    }
   },
   "outputs": [
    {
     "data": {
      "image/png": "[encoded data removed]",
      "text/plain": [
       "<matplotlib.figure.Figure at 0x7f765e885850>"
      ]
     },
     "metadata": {},
     "output_type": "display_data"
    },
    {
     "data": {
      "image/png": "[encoded data removed]",
      "text/plain": [
       "<matplotlib.figure.Figure at 0x7f765e885150>"
      ]
     },
     "metadata": {},
     "output_type": "display_data"
    },
    {
     "data": {
      "image/png": "[encoded data removed]",
      "text/plain": [
       "<matplotlib.figure.Figure at 0x7f765c06da10>"
      ]
     },
     "metadata": {},
     "output_type": "display_data"
    }
   ],
   "source": [
    "for _, row in (results2_dat - raw_line_weights).iterrows():\n",
    "    plt.figure()\n",
    "    row.hist()\n",
    "    plt.title('mixture %d absolute differences' % row.name)\n"
   ]
  },
  {
   "cell_type": "markdown",
   "metadata": {},
   "source": [
    "The errors per column look about the same magnitudes regardless of noise status: at most 10%. Some columns worse than others consistently. Noise condition has lower max error (by chance perhaps) but not as concentrated at 0.\n",
    "\n",
    "Let's see error/column by whether the column is from correct or incorrect cell type:\n"
   ]
  },
  {
   "cell_type": "code",
   "execution_count": 26,
   "metadata": {
    "ExecuteTime": {
     "end_time": "2016-07-07T15:19:11.908710",
     "start_time": "2016-07-07T15:19:10.928661"
    },
    "collapsed": false,
    "run_control": {
     "frozen": false,
     "read_only": false
    }
   },
   "outputs": [
    {
     "data": {
      "image/png": "[encoded data removed]",
      "text/plain": [
       "<matplotlib.figure.Figure at 0x7f765c0a3910>"
      ]
     },
     "metadata": {},
     "output_type": "display_data"
    },
    {
     "data": {
      "image/png": "[encoded data removed]",
      "text/plain": [
       "<matplotlib.figure.Figure at 0x7f765be4d710>"
      ]
     },
     "metadata": {},
     "output_type": "display_data"
    },
    {
     "data": {
      "image/png": "[encoded data removed]",
      "text/plain": [
       "<matplotlib.figure.Figure at 0x7f765be2f7d0>"
      ]
     },
     "metadata": {},
     "output_type": "display_data"
    }
   ],
   "source": [
    "for _, row in (results2_dat - raw_line_weights).iterrows():\n",
    "    plt.figure()\n",
    "    row[simple_cols].hist()\n",
    "    plt.title('mixture %d absolute differences -- correct cell types only' % row.name)\n"
   ]
  },
  {
   "cell_type": "code",
   "execution_count": 27,
   "metadata": {
    "ExecuteTime": {
     "end_time": "2016-07-07T15:19:12.779084",
     "start_time": "2016-07-07T15:19:11.911405"
    },
    "collapsed": false,
    "run_control": {
     "frozen": false,
     "read_only": false
    }
   },
   "outputs": [
    {
     "data": {
      "image/png": "[encoded data removed]",
      "text/plain": [
       "<matplotlib.figure.Figure at 0x7f765be94f90>"
      ]
     },
     "metadata": {},
     "output_type": "display_data"
    },
    {
     "data": {
      "image/png": "[encoded data removed]",
      "text/plain": [
       "<matplotlib.figure.Figure at 0x7f765c099f90>"
      ]
     },
     "metadata": {},
     "output_type": "display_data"
    },
    {
     "data": {
      "image/png": "[encoded data removed]",
      "text/plain": [
       "<matplotlib.figure.Figure at 0x7f765beba950>"
      ]
     },
     "metadata": {},
     "output_type": "display_data"
    }
   ],
   "source": [
    "other_cols = set(results2_dat.columns) - set(simple_cols)\n",
    "for _, row in (results2_dat - raw_line_weights).iterrows():\n",
    "    plt.figure()\n",
    "    row[other_cols].hist()\n",
    "    plt.title('mixture %d absolute differences -- incorrect cell types only' % row.name)\n"
   ]
  },
  {
   "cell_type": "code",
   "execution_count": 28,
   "metadata": {
    "ExecuteTime": {
     "end_time": "2016-07-07T15:19:16.554363",
     "start_time": "2016-07-07T15:19:16.494526"
    },
    "collapsed": false,
    "run_control": {
     "frozen": false,
     "read_only": false
    }
   },
   "outputs": [
    {
     "data": {
      "text/html": [
       "<div>\n",
       "<table border=\"1\" class=\"dataframe\">\n",
       "  <thead>\n",
       "    <tr style=\"text-align: right;\">\n",
       "      <th></th>\n",
       "      <th>B cells naive</th>\n",
       "      <th>T cells regulatory (Tregs)</th>\n",
       "    </tr>\n",
       "  </thead>\n",
       "  <tbody>\n",
       "    <tr>\n",
       "      <th>0</th>\n",
       "      <td>-0.106105</td>\n",
       "      <td>-0.010682</td>\n",
       "    </tr>\n",
       "    <tr>\n",
       "      <th>1</th>\n",
       "      <td>-0.107512</td>\n",
       "      <td>-0.011141</td>\n",
       "    </tr>\n",
       "    <tr>\n",
       "      <th>2</th>\n",
       "      <td>-0.089686</td>\n",
       "      <td>-0.031552</td>\n",
       "    </tr>\n",
       "  </tbody>\n",
       "</table>\n",
       "</div>"
      ],
      "text/plain": [
       "   B cells naive  T cells regulatory (Tregs)\n",
       "0      -0.106105                   -0.010682\n",
       "1      -0.107512                   -0.011141\n",
       "2      -0.089686                   -0.031552"
      ]
     },
     "execution_count": 28,
     "metadata": {},
     "output_type": "execute_result"
    }
   ],
   "source": [
    "(results2_dat - raw_line_weights)[simple_cols]"
   ]
  },
  {
   "cell_type": "markdown",
   "metadata": {},
   "source": [
    "B cells naive are always off (9-11%) -- why is this? Perhaps there is a similar cell types. \n",
    "\n",
    "Incorrect columns (with true fraction `= 0`): one is consistently 4% hallucinated. B cells memory has 2% hallucination, the 4% is T cells follicular memory.\n",
    "\n",
    "Below: P vals all 0, R^2's all high -- noise does not change significantly."
   ]
  },
  {
   "cell_type": "code",
   "execution_count": 29,
   "metadata": {
    "ExecuteTime": {
     "end_time": "2016-07-07T15:19:18.012287",
     "start_time": "2016-07-07T15:19:17.995520"
    },
    "collapsed": false,
    "run_control": {
     "frozen": false,
     "read_only": false
    }
   },
   "outputs": [
    {
     "data": {
      "text/plain": [
       "0    0.0\n",
       "1    0.0\n",
       "2    0.0\n",
       "Name: P-value, dtype: float64"
      ]
     },
     "execution_count": 29,
     "metadata": {},
     "output_type": "execute_result"
    }
   ],
   "source": [
    "results2['P-value']"
   ]
  },
  {
   "cell_type": "code",
   "execution_count": 30,
   "metadata": {
    "ExecuteTime": {
     "end_time": "2016-07-07T15:19:19.936213",
     "start_time": "2016-07-07T15:19:19.871399"
    },
    "collapsed": false,
    "run_control": {
     "frozen": false,
     "read_only": false
    }
   },
   "outputs": [
    {
     "name": "stdout",
     "output_type": "stream",
     "text": [
      "RMSE \t R^2 \t per mixture\n",
      "0.0253 \t 0.9756\n",
      "0.0258 \t 0.9748\n",
      "0.0234 \t 0.9793\n"
     ]
    }
   ],
   "source": [
    "print('RMSE \\t R^2 \\t per mixture')\n",
    "from sklearn.metrics import mean_squared_error as mse, r2_score\n",
    "for (_, y_true),(_, y_pred) in zip(raw_line_weights.iterrows(), results2_dat.iterrows()):\n",
    "    print('%0.4f \\t %0.4f' % (np.sqrt(mse(y_true, y_pred)), r2_score(y_true, y_pred)))"
   ]
  },
  {
   "cell_type": "code",
   "execution_count": 31,
   "metadata": {
    "ExecuteTime": {
     "end_time": "2016-07-07T15:19:44.106055",
     "start_time": "2016-07-07T15:19:44.092045"
    },
    "collapsed": false,
    "run_control": {
     "frozen": false,
     "read_only": false
    }
   },
   "outputs": [
    {
     "name": "stdout",
     "output_type": "stream",
     "text": [
      "RMSE \t R^2 \t per mixture if we multiply everything by 100\n",
      "2.5334 \t 0.9756\n",
      "2.5751 \t 0.9748\n",
      "2.3360 \t 0.9793\n"
     ]
    }
   ],
   "source": [
    "print('RMSE \\t R^2 \\t per mixture if we multiply everything by 100')\n",
    "from sklearn.metrics import mean_squared_error as mse, r2_score\n",
    "for (_, y_true),(_, y_pred) in zip(raw_line_weights.iterrows(), results2_dat.iterrows()):\n",
    "    print('%0.4f \\t %0.4f' % (np.sqrt(mse(y_true * 100, y_pred * 100)), r2_score(y_true * 100, y_pred * 100)))"
   ]
  },
  {
   "cell_type": "markdown",
   "metadata": {},
   "source": [
    "# Give Cibersort a hard time\n",
    "\n",
    "Do exactly the above, but for types that are hard to tell about.\n",
    "\n",
    "Take the two most similar types.\n",
    "Mix them together, with and without noise.\n",
    "First do this with reference profiles, then with raw data.\n",
    "\n",
    "Expected results:\n",
    "* Cibersort will probably do great on reference profiles w/o noise or w/ simple noise\n",
    "* Slightly less well on reference profiles w/ complex noise -- still good performance but worse than Cibersort on reference profiles of very distinct cell types w/ complex noise\n",
    "* Same pattern for raw, but perhaps an even larger difference with noise.\n",
    "\n",
    "The two cell types we choose (see writeup pdf):\n",
    "* B cells naive\n",
    "* B cells memory\n",
    "\n",
    "\n",
    "## reference profiles (warmup)"
   ]
  },
  {
   "cell_type": "code",
   "execution_count": 151,
   "metadata": {
    "ExecuteTime": {
     "end_time": "2016-07-06T12:20:31.072628",
     "start_time": "2016-07-06T12:20:31.054085"
    },
    "collapsed": false,
    "run_control": {
     "frozen": false,
     "read_only": false
    }
   },
   "outputs": [
    {
     "data": {
      "text/plain": [
       "(547, 2)"
      ]
     },
     "execution_count": 151,
     "metadata": {},
     "output_type": "execute_result"
    }
   ],
   "source": [
    "hard_cols = ['B cells naive', 'B cells memory']\n",
    "reference[hard_cols].shape"
   ]
  },
  {
   "cell_type": "code",
   "execution_count": 152,
   "metadata": {
    "ExecuteTime": {
     "end_time": "2016-07-06T12:21:03.683046",
     "start_time": "2016-07-06T12:21:03.651148"
    },
    "collapsed": false,
    "run_control": {
     "frozen": false,
     "read_only": false
    }
   },
   "outputs": [
    {
     "data": {
      "text/plain": [
       "GeneSymbol\n",
       "ABCB4     283.228842\n",
       "ABCB9      18.849165\n",
       "ACAP1     268.463486\n",
       "ACHE       15.883398\n",
       "ACP5     1270.549432\n",
       "dtype: float64"
      ]
     },
     "execution_count": 152,
     "metadata": {},
     "output_type": "execute_result"
    }
   ],
   "source": [
    "weights = [.5, .5] # as confusing as we can make it -- a direct average\n",
    "mix7=(reference[hard_cols] * weights).sum(axis=1)\n",
    "mix7.head()"
   ]
  },
  {
   "cell_type": "code",
   "execution_count": 153,
   "metadata": {
    "ExecuteTime": {
     "end_time": "2016-07-06T12:21:04.565137",
     "start_time": "2016-07-06T12:21:04.548205"
    },
    "collapsed": false,
    "run_control": {
     "frozen": false,
     "read_only": false
    }
   },
   "outputs": [
    {
     "data": {
      "text/plain": [
       "GeneSymbol\n",
       "ABCB4     281.877613\n",
       "ABCB9      17.341792\n",
       "ACAP1     269.652332\n",
       "ACHE       14.706061\n",
       "ACP5     1270.305885\n",
       "dtype: float64"
      ]
     },
     "execution_count": 153,
     "metadata": {},
     "output_type": "execute_result"
    }
   ],
   "source": [
    "mix8 = mix7 + np.random.normal(0,1,len(mix7))\n",
    "mix8.head()\n"
   ]
  },
  {
   "cell_type": "code",
   "execution_count": 154,
   "metadata": {
    "ExecuteTime": {
     "end_time": "2016-07-06T12:21:05.409418",
     "start_time": "2016-07-06T12:21:05.398010"
    },
    "collapsed": false,
    "run_control": {
     "frozen": false,
     "read_only": false
    }
   },
   "outputs": [
    {
     "data": {
      "text/plain": [
       "(547,)"
      ]
     },
     "execution_count": 154,
     "metadata": {},
     "output_type": "execute_result"
    }
   ],
   "source": [
    "weights_noisy3 = np.reshape(weights*len(mix7), reference[hard_cols].shape)\n",
    "weights_noisy3 += np.abs(np.random.normal(0,0.1, weights_noisy3.shape)) # using absolute value error\n",
    "weights_noisy3 = weights_noisy3.clip(0,1)\n",
    "mix9=(weights_noisy3 * reference[hard_cols]).sum(axis=1)\n",
    "mix9.shape"
   ]
  },
  {
   "cell_type": "code",
   "execution_count": 155,
   "metadata": {
    "ExecuteTime": {
     "end_time": "2016-07-06T12:21:08.645385",
     "start_time": "2016-07-06T12:21:08.613162"
    },
    "collapsed": false,
    "run_control": {
     "frozen": false,
     "read_only": false
    }
   },
   "outputs": [
    {
     "name": "stdout",
     "output_type": "stream",
     "text": [
      "(547, 3)\n"
     ]
    },
    {
     "data": {
      "text/html": [
       "<div>\n",
       "<table border=\"1\" class=\"dataframe\">\n",
       "  <thead>\n",
       "    <tr style=\"text-align: right;\">\n",
       "      <th></th>\n",
       "      <th>7 NoNoise</th>\n",
       "      <th>8 SimpleNoise</th>\n",
       "      <th>9 ComplexNoise</th>\n",
       "    </tr>\n",
       "    <tr>\n",
       "      <th>GeneSymbol</th>\n",
       "      <th></th>\n",
       "      <th></th>\n",
       "      <th></th>\n",
       "    </tr>\n",
       "  </thead>\n",
       "  <tbody>\n",
       "    <tr>\n",
       "      <th>ABCB4</th>\n",
       "      <td>283.228842</td>\n",
       "      <td>281.877613</td>\n",
       "      <td>367.980015</td>\n",
       "    </tr>\n",
       "    <tr>\n",
       "      <th>ABCB9</th>\n",
       "      <td>18.849165</td>\n",
       "      <td>17.341792</td>\n",
       "      <td>22.014922</td>\n",
       "    </tr>\n",
       "    <tr>\n",
       "      <th>ACAP1</th>\n",
       "      <td>268.463486</td>\n",
       "      <td>269.652332</td>\n",
       "      <td>299.624897</td>\n",
       "    </tr>\n",
       "    <tr>\n",
       "      <th>ACHE</th>\n",
       "      <td>15.883398</td>\n",
       "      <td>14.706061</td>\n",
       "      <td>19.919718</td>\n",
       "    </tr>\n",
       "    <tr>\n",
       "      <th>ACP5</th>\n",
       "      <td>1270.549432</td>\n",
       "      <td>1270.305885</td>\n",
       "      <td>1606.157248</td>\n",
       "    </tr>\n",
       "  </tbody>\n",
       "</table>\n",
       "</div>"
      ],
      "text/plain": [
       "              7 NoNoise  8 SimpleNoise  9 ComplexNoise\n",
       "GeneSymbol                                            \n",
       "ABCB4        283.228842     281.877613      367.980015\n",
       "ABCB9         18.849165      17.341792       22.014922\n",
       "ACAP1        268.463486     269.652332      299.624897\n",
       "ACHE          15.883398      14.706061       19.919718\n",
       "ACP5        1270.549432    1270.305885     1606.157248"
      ]
     },
     "execution_count": 155,
     "metadata": {},
     "output_type": "execute_result"
    }
   ],
   "source": [
    "# write out the reference profile mixtures\n",
    "hard_mixtures_refprof = pd.DataFrame({'7 NoNoise':mix7, '8 SimpleNoise': mix8, '9 ComplexNoise': mix9})\n",
    "hard_mixtures_refprof.index.name='GeneSymbol'\n",
    "hard_mixtures_refprof.to_csv('test_mixtures/hard_reference_profile_mixtures.txt', sep='\\t')\n",
    "print(hard_mixtures_refprof.shape)\n",
    "hard_mixtures_refprof.head()"
   ]
  },
  {
   "cell_type": "markdown",
   "metadata": {},
   "source": [
    "### run through cibersort"
   ]
  },
  {
   "cell_type": "code",
   "execution_count": 156,
   "metadata": {
    "ExecuteTime": {
     "end_time": "2016-07-06T12:23:03.127881",
     "start_time": "2016-07-06T12:21:16.095873"
    },
    "collapsed": false,
    "run_control": {
     "frozen": false,
     "read_only": false
    }
   },
   "outputs": [],
   "source": [
    "!java -Xmx3g -Xms3g -jar ~/CIBERSORT_package/CIBERSORT.jar -M test_mixtures/hard_reference_profile_mixtures.txt -B LM22.txt > test_mixtures/out/c3"
   ]
  },
  {
   "cell_type": "code",
   "execution_count": 157,
   "metadata": {
    "ExecuteTime": {
     "end_time": "2016-07-06T12:24:08.638772",
     "start_time": "2016-07-06T12:24:08.571828"
    },
    "collapsed": false,
    "run_control": {
     "frozen": false,
     "read_only": false
    }
   },
   "outputs": [
    {
     "data": {
      "text/html": [
       "<div>\n",
       "<table border=\"1\" class=\"dataframe\">\n",
       "  <thead>\n",
       "    <tr style=\"text-align: right;\">\n",
       "      <th></th>\n",
       "      <th>Column</th>\n",
       "      <th>B cells naive</th>\n",
       "      <th>B cells memory</th>\n",
       "      <th>Plasma cells</th>\n",
       "      <th>T cells CD8</th>\n",
       "      <th>T cells CD4 naive</th>\n",
       "      <th>T cells CD4 memory resting</th>\n",
       "      <th>T cells CD4 memory activated</th>\n",
       "      <th>T cells follicular helper</th>\n",
       "      <th>T cells regulatory (Tregs)</th>\n",
       "      <th>...</th>\n",
       "      <th>Dendritic cells resting</th>\n",
       "      <th>Dendritic cells activated</th>\n",
       "      <th>Mast cells resting</th>\n",
       "      <th>Mast cells activated</th>\n",
       "      <th>Eosinophils</th>\n",
       "      <th>Neutrophils</th>\n",
       "      <th>P-value</th>\n",
       "      <th>Pearson Correlation</th>\n",
       "      <th>RMSE</th>\n",
       "      <th>Unnamed: 26</th>\n",
       "    </tr>\n",
       "  </thead>\n",
       "  <tbody>\n",
       "    <tr>\n",
       "      <th>0</th>\n",
       "      <td>0</td>\n",
       "      <td>0.500715</td>\n",
       "      <td>0.498280</td>\n",
       "      <td>0.000150</td>\n",
       "      <td>0</td>\n",
       "      <td>0.000205</td>\n",
       "      <td>0.000042</td>\n",
       "      <td>0.000045</td>\n",
       "      <td>0</td>\n",
       "      <td>0</td>\n",
       "      <td>...</td>\n",
       "      <td>0.000035</td>\n",
       "      <td>0.000031</td>\n",
       "      <td>0</td>\n",
       "      <td>0</td>\n",
       "      <td>0.000031</td>\n",
       "      <td>0.000000</td>\n",
       "      <td>0.0</td>\n",
       "      <td>0.999906</td>\n",
       "      <td>0.039525</td>\n",
       "      <td>NaN</td>\n",
       "    </tr>\n",
       "    <tr>\n",
       "      <th>1</th>\n",
       "      <td>1</td>\n",
       "      <td>0.500361</td>\n",
       "      <td>0.498309</td>\n",
       "      <td>0.000279</td>\n",
       "      <td>0</td>\n",
       "      <td>0.000249</td>\n",
       "      <td>0.000032</td>\n",
       "      <td>0.000120</td>\n",
       "      <td>0</td>\n",
       "      <td>0</td>\n",
       "      <td>...</td>\n",
       "      <td>0.000186</td>\n",
       "      <td>0.000043</td>\n",
       "      <td>0</td>\n",
       "      <td>0</td>\n",
       "      <td>0.000056</td>\n",
       "      <td>0.000028</td>\n",
       "      <td>0.0</td>\n",
       "      <td>0.999906</td>\n",
       "      <td>0.039696</td>\n",
       "      <td>NaN</td>\n",
       "    </tr>\n",
       "    <tr>\n",
       "      <th>2</th>\n",
       "      <td>2</td>\n",
       "      <td>0.492859</td>\n",
       "      <td>0.500923</td>\n",
       "      <td>0.000000</td>\n",
       "      <td>0</td>\n",
       "      <td>0.001332</td>\n",
       "      <td>0.000000</td>\n",
       "      <td>0.001114</td>\n",
       "      <td>0</td>\n",
       "      <td>0</td>\n",
       "      <td>...</td>\n",
       "      <td>0.000810</td>\n",
       "      <td>0.000000</td>\n",
       "      <td>0</td>\n",
       "      <td>0</td>\n",
       "      <td>0.000000</td>\n",
       "      <td>0.000000</td>\n",
       "      <td>0.0</td>\n",
       "      <td>0.998445</td>\n",
       "      <td>0.068860</td>\n",
       "      <td>NaN</td>\n",
       "    </tr>\n",
       "  </tbody>\n",
       "</table>\n",
       "<p>3 rows × 27 columns</p>\n",
       "</div>"
      ],
      "text/plain": [
       "   Column  B cells naive  B cells memory  Plasma cells  T cells CD8  \\\n",
       "0       0       0.500715        0.498280      0.000150            0   \n",
       "1       1       0.500361        0.498309      0.000279            0   \n",
       "2       2       0.492859        0.500923      0.000000            0   \n",
       "\n",
       "   T cells CD4 naive  T cells CD4 memory resting  \\\n",
       "0           0.000205                    0.000042   \n",
       "1           0.000249                    0.000032   \n",
       "2           0.001332                    0.000000   \n",
       "\n",
       "   T cells CD4 memory activated  T cells follicular helper  \\\n",
       "0                      0.000045                          0   \n",
       "1                      0.000120                          0   \n",
       "2                      0.001114                          0   \n",
       "\n",
       "   T cells regulatory (Tregs)     ...       Dendritic cells resting  \\\n",
       "0                           0     ...                      0.000035   \n",
       "1                           0     ...                      0.000186   \n",
       "2                           0     ...                      0.000810   \n",
       "\n",
       "   Dendritic cells activated  Mast cells resting  Mast cells activated  \\\n",
       "0                   0.000031                   0                     0   \n",
       "1                   0.000043                   0                     0   \n",
       "2                   0.000000                   0                     0   \n",
       "\n",
       "   Eosinophils  Neutrophils  P-value  Pearson Correlation      RMSE  \\\n",
       "0     0.000031     0.000000      0.0             0.999906  0.039525   \n",
       "1     0.000056     0.000028      0.0             0.999906  0.039696   \n",
       "2     0.000000     0.000000      0.0             0.998445  0.068860   \n",
       "\n",
       "   Unnamed: 26  \n",
       "0          NaN  \n",
       "1          NaN  \n",
       "2          NaN  \n",
       "\n",
       "[3 rows x 27 columns]"
      ]
     },
     "execution_count": 157,
     "metadata": {},
     "output_type": "execute_result"
    }
   ],
   "source": [
    "results3 = pd.read_csv('test_mixtures/out/c3', skiprows=list(range(6)), sep='\\t')\n",
    "results3.head()"
   ]
  },
  {
   "cell_type": "code",
   "execution_count": 158,
   "metadata": {
    "ExecuteTime": {
     "end_time": "2016-07-06T12:24:10.460003",
     "start_time": "2016-07-06T12:24:10.406778"
    },
    "collapsed": false,
    "run_control": {
     "frozen": false,
     "read_only": false
    }
   },
   "outputs": [
    {
     "name": "stdout",
     "output_type": "stream",
     "text": [
      "(3, 26) (3, 22)\n"
     ]
    },
    {
     "data": {
      "text/html": [
       "<div>\n",
       "<table border=\"1\" class=\"dataframe\">\n",
       "  <thead>\n",
       "    <tr style=\"text-align: right;\">\n",
       "      <th></th>\n",
       "      <th>B cells naive</th>\n",
       "      <th>B cells memory</th>\n",
       "      <th>Plasma cells</th>\n",
       "      <th>T cells CD8</th>\n",
       "      <th>T cells CD4 naive</th>\n",
       "      <th>T cells CD4 memory resting</th>\n",
       "      <th>T cells CD4 memory activated</th>\n",
       "      <th>T cells follicular helper</th>\n",
       "      <th>T cells regulatory (Tregs)</th>\n",
       "      <th>T cells gamma delta</th>\n",
       "      <th>...</th>\n",
       "      <th>Monocytes</th>\n",
       "      <th>Macrophages M0</th>\n",
       "      <th>Macrophages M1</th>\n",
       "      <th>Macrophages M2</th>\n",
       "      <th>Dendritic cells resting</th>\n",
       "      <th>Dendritic cells activated</th>\n",
       "      <th>Mast cells resting</th>\n",
       "      <th>Mast cells activated</th>\n",
       "      <th>Eosinophils</th>\n",
       "      <th>Neutrophils</th>\n",
       "    </tr>\n",
       "  </thead>\n",
       "  <tbody>\n",
       "    <tr>\n",
       "      <th>0</th>\n",
       "      <td>0.500715</td>\n",
       "      <td>0.498280</td>\n",
       "      <td>0.000150</td>\n",
       "      <td>0</td>\n",
       "      <td>0.000205</td>\n",
       "      <td>0.000042</td>\n",
       "      <td>0.000045</td>\n",
       "      <td>0</td>\n",
       "      <td>0</td>\n",
       "      <td>0.000000</td>\n",
       "      <td>...</td>\n",
       "      <td>0.000073</td>\n",
       "      <td>0.000000</td>\n",
       "      <td>0</td>\n",
       "      <td>0.000071</td>\n",
       "      <td>0.000035</td>\n",
       "      <td>0.000031</td>\n",
       "      <td>0</td>\n",
       "      <td>0</td>\n",
       "      <td>0.000031</td>\n",
       "      <td>0.000000</td>\n",
       "    </tr>\n",
       "    <tr>\n",
       "      <th>1</th>\n",
       "      <td>0.500361</td>\n",
       "      <td>0.498309</td>\n",
       "      <td>0.000279</td>\n",
       "      <td>0</td>\n",
       "      <td>0.000249</td>\n",
       "      <td>0.000032</td>\n",
       "      <td>0.000120</td>\n",
       "      <td>0</td>\n",
       "      <td>0</td>\n",
       "      <td>0.000000</td>\n",
       "      <td>...</td>\n",
       "      <td>0.000014</td>\n",
       "      <td>0.000000</td>\n",
       "      <td>0</td>\n",
       "      <td>0.000025</td>\n",
       "      <td>0.000186</td>\n",
       "      <td>0.000043</td>\n",
       "      <td>0</td>\n",
       "      <td>0</td>\n",
       "      <td>0.000056</td>\n",
       "      <td>0.000028</td>\n",
       "    </tr>\n",
       "    <tr>\n",
       "      <th>2</th>\n",
       "      <td>0.492859</td>\n",
       "      <td>0.500923</td>\n",
       "      <td>0.000000</td>\n",
       "      <td>0</td>\n",
       "      <td>0.001332</td>\n",
       "      <td>0.000000</td>\n",
       "      <td>0.001114</td>\n",
       "      <td>0</td>\n",
       "      <td>0</td>\n",
       "      <td>0.000013</td>\n",
       "      <td>...</td>\n",
       "      <td>0.000059</td>\n",
       "      <td>0.000251</td>\n",
       "      <td>0</td>\n",
       "      <td>0.000000</td>\n",
       "      <td>0.000810</td>\n",
       "      <td>0.000000</td>\n",
       "      <td>0</td>\n",
       "      <td>0</td>\n",
       "      <td>0.000000</td>\n",
       "      <td>0.000000</td>\n",
       "    </tr>\n",
       "  </tbody>\n",
       "</table>\n",
       "<p>3 rows × 22 columns</p>\n",
       "</div>"
      ],
      "text/plain": [
       "   B cells naive  B cells memory  Plasma cells  T cells CD8  \\\n",
       "0       0.500715        0.498280      0.000150            0   \n",
       "1       0.500361        0.498309      0.000279            0   \n",
       "2       0.492859        0.500923      0.000000            0   \n",
       "\n",
       "   T cells CD4 naive  T cells CD4 memory resting  \\\n",
       "0           0.000205                    0.000042   \n",
       "1           0.000249                    0.000032   \n",
       "2           0.001332                    0.000000   \n",
       "\n",
       "   T cells CD4 memory activated  T cells follicular helper  \\\n",
       "0                      0.000045                          0   \n",
       "1                      0.000120                          0   \n",
       "2                      0.001114                          0   \n",
       "\n",
       "   T cells regulatory (Tregs)  T cells gamma delta     ...       Monocytes  \\\n",
       "0                           0             0.000000     ...        0.000073   \n",
       "1                           0             0.000000     ...        0.000014   \n",
       "2                           0             0.000013     ...        0.000059   \n",
       "\n",
       "   Macrophages M0  Macrophages M1  Macrophages M2  Dendritic cells resting  \\\n",
       "0        0.000000               0        0.000071                 0.000035   \n",
       "1        0.000000               0        0.000025                 0.000186   \n",
       "2        0.000251               0        0.000000                 0.000810   \n",
       "\n",
       "   Dendritic cells activated  Mast cells resting  Mast cells activated  \\\n",
       "0                   0.000031                   0                     0   \n",
       "1                   0.000043                   0                     0   \n",
       "2                   0.000000                   0                     0   \n",
       "\n",
       "   Eosinophils  Neutrophils  \n",
       "0     0.000031     0.000000  \n",
       "1     0.000056     0.000028  \n",
       "2     0.000000     0.000000  \n",
       "\n",
       "[3 rows x 22 columns]"
      ]
     },
     "execution_count": 158,
     "metadata": {},
     "output_type": "execute_result"
    }
   ],
   "source": [
    "del results3['Unnamed: 26']\n",
    "results3_dat = results3[results3.columns[1:-3]]\n",
    "print(results3.shape, results3_dat.shape)\n",
    "results3_dat.head()"
   ]
  },
  {
   "cell_type": "code",
   "execution_count": 159,
   "metadata": {
    "ExecuteTime": {
     "end_time": "2016-07-06T12:24:12.466469",
     "start_time": "2016-07-06T12:24:12.418753"
    },
    "collapsed": false,
    "run_control": {
     "frozen": false,
     "read_only": false
    }
   },
   "outputs": [
    {
     "data": {
      "text/html": [
       "<div>\n",
       "<table border=\"1\" class=\"dataframe\">\n",
       "  <thead>\n",
       "    <tr style=\"text-align: right;\">\n",
       "      <th></th>\n",
       "      <th>B cells naive</th>\n",
       "      <th>B cells memory</th>\n",
       "      <th>Plasma cells</th>\n",
       "      <th>T cells CD8</th>\n",
       "      <th>T cells CD4 naive</th>\n",
       "      <th>T cells CD4 memory resting</th>\n",
       "      <th>T cells CD4 memory activated</th>\n",
       "      <th>T cells follicular helper</th>\n",
       "      <th>T cells regulatory (Tregs)</th>\n",
       "      <th>T cells gamma delta</th>\n",
       "      <th>...</th>\n",
       "      <th>Monocytes</th>\n",
       "      <th>Macrophages M0</th>\n",
       "      <th>Macrophages M1</th>\n",
       "      <th>Macrophages M2</th>\n",
       "      <th>Dendritic cells resting</th>\n",
       "      <th>Dendritic cells activated</th>\n",
       "      <th>Mast cells resting</th>\n",
       "      <th>Mast cells activated</th>\n",
       "      <th>Eosinophils</th>\n",
       "      <th>Neutrophils</th>\n",
       "    </tr>\n",
       "  </thead>\n",
       "  <tbody>\n",
       "    <tr>\n",
       "      <th>0</th>\n",
       "      <td>0.5</td>\n",
       "      <td>0.5</td>\n",
       "      <td>0.0</td>\n",
       "      <td>0.0</td>\n",
       "      <td>0.0</td>\n",
       "      <td>0.0</td>\n",
       "      <td>0.0</td>\n",
       "      <td>0.0</td>\n",
       "      <td>0.0</td>\n",
       "      <td>0.0</td>\n",
       "      <td>...</td>\n",
       "      <td>0.0</td>\n",
       "      <td>0.0</td>\n",
       "      <td>0.0</td>\n",
       "      <td>0.0</td>\n",
       "      <td>0.0</td>\n",
       "      <td>0.0</td>\n",
       "      <td>0.0</td>\n",
       "      <td>0.0</td>\n",
       "      <td>0.0</td>\n",
       "      <td>0.0</td>\n",
       "    </tr>\n",
       "    <tr>\n",
       "      <th>1</th>\n",
       "      <td>0.5</td>\n",
       "      <td>0.5</td>\n",
       "      <td>0.0</td>\n",
       "      <td>0.0</td>\n",
       "      <td>0.0</td>\n",
       "      <td>0.0</td>\n",
       "      <td>0.0</td>\n",
       "      <td>0.0</td>\n",
       "      <td>0.0</td>\n",
       "      <td>0.0</td>\n",
       "      <td>...</td>\n",
       "      <td>0.0</td>\n",
       "      <td>0.0</td>\n",
       "      <td>0.0</td>\n",
       "      <td>0.0</td>\n",
       "      <td>0.0</td>\n",
       "      <td>0.0</td>\n",
       "      <td>0.0</td>\n",
       "      <td>0.0</td>\n",
       "      <td>0.0</td>\n",
       "      <td>0.0</td>\n",
       "    </tr>\n",
       "    <tr>\n",
       "      <th>2</th>\n",
       "      <td>0.5</td>\n",
       "      <td>0.5</td>\n",
       "      <td>0.0</td>\n",
       "      <td>0.0</td>\n",
       "      <td>0.0</td>\n",
       "      <td>0.0</td>\n",
       "      <td>0.0</td>\n",
       "      <td>0.0</td>\n",
       "      <td>0.0</td>\n",
       "      <td>0.0</td>\n",
       "      <td>...</td>\n",
       "      <td>0.0</td>\n",
       "      <td>0.0</td>\n",
       "      <td>0.0</td>\n",
       "      <td>0.0</td>\n",
       "      <td>0.0</td>\n",
       "      <td>0.0</td>\n",
       "      <td>0.0</td>\n",
       "      <td>0.0</td>\n",
       "      <td>0.0</td>\n",
       "      <td>0.0</td>\n",
       "    </tr>\n",
       "  </tbody>\n",
       "</table>\n",
       "<p>3 rows × 22 columns</p>\n",
       "</div>"
      ],
      "text/plain": [
       "   B cells naive  B cells memory  Plasma cells  T cells CD8  \\\n",
       "0            0.5             0.5           0.0          0.0   \n",
       "1            0.5             0.5           0.0          0.0   \n",
       "2            0.5             0.5           0.0          0.0   \n",
       "\n",
       "   T cells CD4 naive  T cells CD4 memory resting  \\\n",
       "0                0.0                         0.0   \n",
       "1                0.0                         0.0   \n",
       "2                0.0                         0.0   \n",
       "\n",
       "   T cells CD4 memory activated  T cells follicular helper  \\\n",
       "0                           0.0                        0.0   \n",
       "1                           0.0                        0.0   \n",
       "2                           0.0                        0.0   \n",
       "\n",
       "   T cells regulatory (Tregs)  T cells gamma delta     ...       Monocytes  \\\n",
       "0                         0.0                  0.0     ...             0.0   \n",
       "1                         0.0                  0.0     ...             0.0   \n",
       "2                         0.0                  0.0     ...             0.0   \n",
       "\n",
       "   Macrophages M0  Macrophages M1  Macrophages M2  Dendritic cells resting  \\\n",
       "0             0.0             0.0             0.0                      0.0   \n",
       "1             0.0             0.0             0.0                      0.0   \n",
       "2             0.0             0.0             0.0                      0.0   \n",
       "\n",
       "   Dendritic cells activated  Mast cells resting  Mast cells activated  \\\n",
       "0                        0.0                 0.0                   0.0   \n",
       "1                        0.0                 0.0                   0.0   \n",
       "2                        0.0                 0.0                   0.0   \n",
       "\n",
       "   Eosinophils  Neutrophils  \n",
       "0          0.0          0.0  \n",
       "1          0.0          0.0  \n",
       "2          0.0          0.0  \n",
       "\n",
       "[3 rows x 22 columns]"
      ]
     },
     "execution_count": 159,
     "metadata": {},
     "output_type": "execute_result"
    }
   ],
   "source": [
    "hard_ref_weights = pd.DataFrame(np.zeros(results3_dat.shape),columns=results3_dat.columns)\n",
    "hard_ref_weights.loc[:,hard_cols] = weights\n",
    "hard_ref_weights"
   ]
  },
  {
   "cell_type": "code",
   "execution_count": 160,
   "metadata": {
    "ExecuteTime": {
     "end_time": "2016-07-06T12:24:13.956587",
     "start_time": "2016-07-06T12:24:13.938753"
    },
    "collapsed": false,
    "run_control": {
     "frozen": false,
     "read_only": false
    }
   },
   "outputs": [
    {
     "name": "stdout",
     "output_type": "stream",
     "text": [
      "correlation between GT and estimate per mixture\n",
      "0    0.999997\n",
      "1    0.999997\n",
      "2    0.999954\n",
      "dtype: float64\n"
     ]
    }
   ],
   "source": [
    "print('correlation between GT and estimate per mixture')\n",
    "print(results3_dat.corrwith(hard_ref_weights, axis=1))"
   ]
  },
  {
   "cell_type": "markdown",
   "metadata": {},
   "source": [
    "Noise again does nothing"
   ]
  },
  {
   "cell_type": "code",
   "execution_count": 162,
   "metadata": {
    "ExecuteTime": {
     "end_time": "2016-07-06T12:24:34.535244",
     "start_time": "2016-07-06T12:24:34.019688"
    },
    "collapsed": false,
    "run_control": {
     "frozen": false,
     "read_only": false
    }
   },
   "outputs": [
    {
     "name": "stdout",
     "output_type": "stream",
     "text": [
      "absolute difference from ground truth, summarized by column:\n"
     ]
    },
    {
     "name": "stderr",
     "output_type": "stream",
     "text": [
      "/home/maxim/anaconda2/lib/python2.7/site-packages/ipykernel/__main__.py:4: FutureWarning: sort(columns=....) is deprecated, use sort_values(by=.....)\n"
     ]
    },
    {
     "data": {
      "text/html": [
       "<div>\n",
       "<table border=\"1\" class=\"dataframe\">\n",
       "  <thead>\n",
       "    <tr style=\"text-align: right;\">\n",
       "      <th></th>\n",
       "      <th>count</th>\n",
       "      <th>mean</th>\n",
       "      <th>std</th>\n",
       "      <th>min</th>\n",
       "      <th>25%</th>\n",
       "      <th>50%</th>\n",
       "      <th>75%</th>\n",
       "      <th>max</th>\n",
       "    </tr>\n",
       "  </thead>\n",
       "  <tbody>\n",
       "    <tr>\n",
       "      <th>B cells naive</th>\n",
       "      <td>3.0</td>\n",
       "      <td>-0.002022</td>\n",
       "      <td>0.004437</td>\n",
       "      <td>-0.007141</td>\n",
       "      <td>-0.003390</td>\n",
       "      <td>0.000361</td>\n",
       "      <td>0.000538</td>\n",
       "      <td>0.000715</td>\n",
       "    </tr>\n",
       "    <tr>\n",
       "      <th>B cells memory</th>\n",
       "      <td>3.0</td>\n",
       "      <td>-0.000829</td>\n",
       "      <td>0.001518</td>\n",
       "      <td>-0.001720</td>\n",
       "      <td>-0.001706</td>\n",
       "      <td>-0.001691</td>\n",
       "      <td>-0.000384</td>\n",
       "      <td>0.000923</td>\n",
       "    </tr>\n",
       "    <tr>\n",
       "      <th>Mast cells activated</th>\n",
       "      <td>3.0</td>\n",
       "      <td>0.000000</td>\n",
       "      <td>0.000000</td>\n",
       "      <td>0.000000</td>\n",
       "      <td>0.000000</td>\n",
       "      <td>0.000000</td>\n",
       "      <td>0.000000</td>\n",
       "      <td>0.000000</td>\n",
       "    </tr>\n",
       "    <tr>\n",
       "      <th>T cells CD8</th>\n",
       "      <td>3.0</td>\n",
       "      <td>0.000000</td>\n",
       "      <td>0.000000</td>\n",
       "      <td>0.000000</td>\n",
       "      <td>0.000000</td>\n",
       "      <td>0.000000</td>\n",
       "      <td>0.000000</td>\n",
       "      <td>0.000000</td>\n",
       "    </tr>\n",
       "    <tr>\n",
       "      <th>Mast cells resting</th>\n",
       "      <td>3.0</td>\n",
       "      <td>0.000000</td>\n",
       "      <td>0.000000</td>\n",
       "      <td>0.000000</td>\n",
       "      <td>0.000000</td>\n",
       "      <td>0.000000</td>\n",
       "      <td>0.000000</td>\n",
       "      <td>0.000000</td>\n",
       "    </tr>\n",
       "    <tr>\n",
       "      <th>Macrophages M1</th>\n",
       "      <td>3.0</td>\n",
       "      <td>0.000000</td>\n",
       "      <td>0.000000</td>\n",
       "      <td>0.000000</td>\n",
       "      <td>0.000000</td>\n",
       "      <td>0.000000</td>\n",
       "      <td>0.000000</td>\n",
       "      <td>0.000000</td>\n",
       "    </tr>\n",
       "    <tr>\n",
       "      <th>NK cells activated</th>\n",
       "      <td>3.0</td>\n",
       "      <td>0.000000</td>\n",
       "      <td>0.000000</td>\n",
       "      <td>0.000000</td>\n",
       "      <td>0.000000</td>\n",
       "      <td>0.000000</td>\n",
       "      <td>0.000000</td>\n",
       "      <td>0.000000</td>\n",
       "    </tr>\n",
       "    <tr>\n",
       "      <th>T cells follicular helper</th>\n",
       "      <td>3.0</td>\n",
       "      <td>0.000000</td>\n",
       "      <td>0.000000</td>\n",
       "      <td>0.000000</td>\n",
       "      <td>0.000000</td>\n",
       "      <td>0.000000</td>\n",
       "      <td>0.000000</td>\n",
       "      <td>0.000000</td>\n",
       "    </tr>\n",
       "    <tr>\n",
       "      <th>T cells regulatory (Tregs)</th>\n",
       "      <td>3.0</td>\n",
       "      <td>0.000000</td>\n",
       "      <td>0.000000</td>\n",
       "      <td>0.000000</td>\n",
       "      <td>0.000000</td>\n",
       "      <td>0.000000</td>\n",
       "      <td>0.000000</td>\n",
       "      <td>0.000000</td>\n",
       "    </tr>\n",
       "    <tr>\n",
       "      <th>T cells gamma delta</th>\n",
       "      <td>3.0</td>\n",
       "      <td>0.000004</td>\n",
       "      <td>0.000007</td>\n",
       "      <td>0.000000</td>\n",
       "      <td>0.000000</td>\n",
       "      <td>0.000000</td>\n",
       "      <td>0.000006</td>\n",
       "      <td>0.000013</td>\n",
       "    </tr>\n",
       "    <tr>\n",
       "      <th>Neutrophils</th>\n",
       "      <td>3.0</td>\n",
       "      <td>0.000009</td>\n",
       "      <td>0.000016</td>\n",
       "      <td>0.000000</td>\n",
       "      <td>0.000000</td>\n",
       "      <td>0.000000</td>\n",
       "      <td>0.000014</td>\n",
       "      <td>0.000028</td>\n",
       "    </tr>\n",
       "    <tr>\n",
       "      <th>Dendritic cells activated</th>\n",
       "      <td>3.0</td>\n",
       "      <td>0.000024</td>\n",
       "      <td>0.000022</td>\n",
       "      <td>0.000000</td>\n",
       "      <td>0.000015</td>\n",
       "      <td>0.000031</td>\n",
       "      <td>0.000037</td>\n",
       "      <td>0.000043</td>\n",
       "    </tr>\n",
       "    <tr>\n",
       "      <th>T cells CD4 memory resting</th>\n",
       "      <td>3.0</td>\n",
       "      <td>0.000025</td>\n",
       "      <td>0.000022</td>\n",
       "      <td>0.000000</td>\n",
       "      <td>0.000016</td>\n",
       "      <td>0.000032</td>\n",
       "      <td>0.000037</td>\n",
       "      <td>0.000042</td>\n",
       "    </tr>\n",
       "    <tr>\n",
       "      <th>Eosinophils</th>\n",
       "      <td>3.0</td>\n",
       "      <td>0.000029</td>\n",
       "      <td>0.000028</td>\n",
       "      <td>0.000000</td>\n",
       "      <td>0.000015</td>\n",
       "      <td>0.000031</td>\n",
       "      <td>0.000043</td>\n",
       "      <td>0.000056</td>\n",
       "    </tr>\n",
       "    <tr>\n",
       "      <th>Macrophages M2</th>\n",
       "      <td>3.0</td>\n",
       "      <td>0.000032</td>\n",
       "      <td>0.000036</td>\n",
       "      <td>0.000000</td>\n",
       "      <td>0.000013</td>\n",
       "      <td>0.000025</td>\n",
       "      <td>0.000048</td>\n",
       "      <td>0.000071</td>\n",
       "    </tr>\n",
       "    <tr>\n",
       "      <th>Monocytes</th>\n",
       "      <td>3.0</td>\n",
       "      <td>0.000048</td>\n",
       "      <td>0.000031</td>\n",
       "      <td>0.000014</td>\n",
       "      <td>0.000036</td>\n",
       "      <td>0.000059</td>\n",
       "      <td>0.000066</td>\n",
       "      <td>0.000073</td>\n",
       "    </tr>\n",
       "    <tr>\n",
       "      <th>Macrophages M0</th>\n",
       "      <td>3.0</td>\n",
       "      <td>0.000084</td>\n",
       "      <td>0.000145</td>\n",
       "      <td>0.000000</td>\n",
       "      <td>0.000000</td>\n",
       "      <td>0.000000</td>\n",
       "      <td>0.000126</td>\n",
       "      <td>0.000251</td>\n",
       "    </tr>\n",
       "    <tr>\n",
       "      <th>Plasma cells</th>\n",
       "      <td>3.0</td>\n",
       "      <td>0.000143</td>\n",
       "      <td>0.000140</td>\n",
       "      <td>0.000000</td>\n",
       "      <td>0.000075</td>\n",
       "      <td>0.000150</td>\n",
       "      <td>0.000215</td>\n",
       "      <td>0.000279</td>\n",
       "    </tr>\n",
       "    <tr>\n",
       "      <th>Dendritic cells resting</th>\n",
       "      <td>3.0</td>\n",
       "      <td>0.000344</td>\n",
       "      <td>0.000411</td>\n",
       "      <td>0.000035</td>\n",
       "      <td>0.000110</td>\n",
       "      <td>0.000186</td>\n",
       "      <td>0.000498</td>\n",
       "      <td>0.000810</td>\n",
       "    </tr>\n",
       "    <tr>\n",
       "      <th>T cells CD4 memory activated</th>\n",
       "      <td>3.0</td>\n",
       "      <td>0.000426</td>\n",
       "      <td>0.000597</td>\n",
       "      <td>0.000045</td>\n",
       "      <td>0.000082</td>\n",
       "      <td>0.000120</td>\n",
       "      <td>0.000617</td>\n",
       "      <td>0.001114</td>\n",
       "    </tr>\n",
       "    <tr>\n",
       "      <th>T cells CD4 naive</th>\n",
       "      <td>3.0</td>\n",
       "      <td>0.000595</td>\n",
       "      <td>0.000639</td>\n",
       "      <td>0.000205</td>\n",
       "      <td>0.000227</td>\n",
       "      <td>0.000249</td>\n",
       "      <td>0.000790</td>\n",
       "      <td>0.001332</td>\n",
       "    </tr>\n",
       "    <tr>\n",
       "      <th>NK cells resting</th>\n",
       "      <td>3.0</td>\n",
       "      <td>0.001077</td>\n",
       "      <td>0.001352</td>\n",
       "      <td>0.000293</td>\n",
       "      <td>0.000296</td>\n",
       "      <td>0.000300</td>\n",
       "      <td>0.001469</td>\n",
       "      <td>0.002638</td>\n",
       "    </tr>\n",
       "  </tbody>\n",
       "</table>\n",
       "</div>"
      ],
      "text/plain": [
       "                              count      mean       std       min       25%  \\\n",
       "B cells naive                   3.0 -0.002022  0.004437 -0.007141 -0.003390   \n",
       "B cells memory                  3.0 -0.000829  0.001518 -0.001720 -0.001706   \n",
       "Mast cells activated            3.0  0.000000  0.000000  0.000000  0.000000   \n",
       "T cells CD8                     3.0  0.000000  0.000000  0.000000  0.000000   \n",
       "Mast cells resting              3.0  0.000000  0.000000  0.000000  0.000000   \n",
       "Macrophages M1                  3.0  0.000000  0.000000  0.000000  0.000000   \n",
       "NK cells activated              3.0  0.000000  0.000000  0.000000  0.000000   \n",
       "T cells follicular helper       3.0  0.000000  0.000000  0.000000  0.000000   \n",
       "T cells regulatory (Tregs)      3.0  0.000000  0.000000  0.000000  0.000000   \n",
       "T cells gamma delta             3.0  0.000004  0.000007  0.000000  0.000000   \n",
       "Neutrophils                     3.0  0.000009  0.000016  0.000000  0.000000   \n",
       "Dendritic cells activated       3.0  0.000024  0.000022  0.000000  0.000015   \n",
       "T cells CD4 memory resting      3.0  0.000025  0.000022  0.000000  0.000016   \n",
       "Eosinophils                     3.0  0.000029  0.000028  0.000000  0.000015   \n",
       "Macrophages M2                  3.0  0.000032  0.000036  0.000000  0.000013   \n",
       "Monocytes                       3.0  0.000048  0.000031  0.000014  0.000036   \n",
       "Macrophages M0                  3.0  0.000084  0.000145  0.000000  0.000000   \n",
       "Plasma cells                    3.0  0.000143  0.000140  0.000000  0.000075   \n",
       "Dendritic cells resting         3.0  0.000344  0.000411  0.000035  0.000110   \n",
       "T cells CD4 memory activated    3.0  0.000426  0.000597  0.000045  0.000082   \n",
       "T cells CD4 naive               3.0  0.000595  0.000639  0.000205  0.000227   \n",
       "NK cells resting                3.0  0.001077  0.001352  0.000293  0.000296   \n",
       "\n",
       "                                   50%       75%       max  \n",
       "B cells naive                 0.000361  0.000538  0.000715  \n",
       "B cells memory               -0.001691 -0.000384  0.000923  \n",
       "Mast cells activated          0.000000  0.000000  0.000000  \n",
       "T cells CD8                   0.000000  0.000000  0.000000  \n",
       "Mast cells resting            0.000000  0.000000  0.000000  \n",
       "Macrophages M1                0.000000  0.000000  0.000000  \n",
       "NK cells activated            0.000000  0.000000  0.000000  \n",
       "T cells follicular helper     0.000000  0.000000  0.000000  \n",
       "T cells regulatory (Tregs)    0.000000  0.000000  0.000000  \n",
       "T cells gamma delta           0.000000  0.000006  0.000013  \n",
       "Neutrophils                   0.000000  0.000014  0.000028  \n",
       "Dendritic cells activated     0.000031  0.000037  0.000043  \n",
       "T cells CD4 memory resting    0.000032  0.000037  0.000042  \n",
       "Eosinophils                   0.000031  0.000043  0.000056  \n",
       "Macrophages M2                0.000025  0.000048  0.000071  \n",
       "Monocytes                     0.000059  0.000066  0.000073  \n",
       "Macrophages M0                0.000000  0.000126  0.000251  \n",
       "Plasma cells                  0.000150  0.000215  0.000279  \n",
       "Dendritic cells resting       0.000186  0.000498  0.000810  \n",
       "T cells CD4 memory activated  0.000120  0.000617  0.001114  \n",
       "T cells CD4 naive             0.000249  0.000790  0.001332  \n",
       "NK cells resting              0.000300  0.001469  0.002638  "
      ]
     },
     "execution_count": 162,
     "metadata": {},
     "output_type": "execute_result"
    },
    {
     "data": {
      "image/png": "[encoded data removed]",
      "text/plain": [
       "<matplotlib.figure.Figure at 0x7fa3d2367c50>"
      ]
     },
     "metadata": {},
     "output_type": "display_data"
    }
   ],
   "source": [
    "print('absolute difference from ground truth, summarized by column:')\n",
    "(results3_dat - hard_ref_weights).describe().loc['mean'].hist()\n",
    "plt.title('mean absolute differences for columns across all mixtures')\n",
    "(results3_dat - hard_ref_weights).describe().T.sort('mean')"
   ]
  },
  {
   "cell_type": "code",
   "execution_count": 163,
   "metadata": {
    "ExecuteTime": {
     "end_time": "2016-07-06T12:25:03.728700",
     "start_time": "2016-07-06T12:25:02.817920"
    },
    "collapsed": false,
    "run_control": {
     "frozen": false,
     "read_only": false
    }
   },
   "outputs": [
    {
     "data": {
      "image/png": "[encoded data removed]",
      "text/plain": [
       "<matplotlib.figure.Figure at 0x7fa3d3c09390>"
      ]
     },
     "metadata": {},
     "output_type": "display_data"
    },
    {
     "data": {
      "image/png": "[encoded data removed]",
      "text/plain": [
       "<matplotlib.figure.Figure at 0x7fa3d3e3d450>"
      ]
     },
     "metadata": {},
     "output_type": "display_data"
    },
    {
     "data": {
      "image/png": "[encoded data removed]",
      "text/plain": [
       "<matplotlib.figure.Figure at 0x7fa3d2947f50>"
      ]
     },
     "metadata": {},
     "output_type": "display_data"
    }
   ],
   "source": [
    "for _, row in (results3_dat - hard_ref_weights).iterrows():\n",
    "    plt.figure()\n",
    "    row.hist()\n",
    "    plt.title('mixture %d absolute differences' % row.name)"
   ]
  },
  {
   "cell_type": "code",
   "execution_count": 164,
   "metadata": {
    "ExecuteTime": {
     "end_time": "2016-07-06T12:25:07.302198",
     "start_time": "2016-07-06T12:25:06.266931"
    },
    "collapsed": false,
    "run_control": {
     "frozen": false,
     "read_only": false
    }
   },
   "outputs": [
    {
     "data": {
      "image/png": "[encoded data removed]",
      "text/plain": [
       "<matplotlib.figure.Figure at 0x7fa3d283d590>"
      ]
     },
     "metadata": {},
     "output_type": "display_data"
    },
    {
     "data": {
      "image/png": "[encoded data removed]",
      "text/plain": [
       "<matplotlib.figure.Figure at 0x7fa3d2b1abd0>"
      ]
     },
     "metadata": {},
     "output_type": "display_data"
    },
    {
     "data": {
      "image/png": "[encoded data removed]",
      "text/plain": [
       "<matplotlib.figure.Figure at 0x7fa3d23e3790>"
      ]
     },
     "metadata": {},
     "output_type": "display_data"
    }
   ],
   "source": [
    "for _, row in (results3_dat - hard_ref_weights).iterrows():\n",
    "    plt.figure()\n",
    "    row[hard_cols].hist()\n",
    "    plt.title('mixture %d absolute differences -- correct cell types only' % row.name)"
   ]
  },
  {
   "cell_type": "code",
   "execution_count": 165,
   "metadata": {
    "ExecuteTime": {
     "end_time": "2016-07-06T12:25:23.238725",
     "start_time": "2016-07-06T12:25:22.307337"
    },
    "collapsed": false,
    "run_control": {
     "frozen": false,
     "read_only": false
    }
   },
   "outputs": [
    {
     "data": {
      "image/png": "[encoded data removed]",
      "text/plain": [
       "<matplotlib.figure.Figure at 0x7fa3d3e6fcd0>"
      ]
     },
     "metadata": {},
     "output_type": "display_data"
    },
    {
     "data": {
      "image/png": "[encoded data removed]",
      "text/plain": [
       "<matplotlib.figure.Figure at 0x7fa3d292ac50>"
      ]
     },
     "metadata": {},
     "output_type": "display_data"
    },
    {
     "data": {
      "image/png": "[encoded data removed]",
      "text/plain": [
       "<matplotlib.figure.Figure at 0x7fa3d35ccd10>"
      ]
     },
     "metadata": {},
     "output_type": "display_data"
    }
   ],
   "source": [
    "other_cols = set(results3_dat.columns) - set(hard_cols)\n",
    "for _, row in (results3_dat - hard_ref_weights).iterrows():\n",
    "    plt.figure()\n",
    "    row[other_cols].hist()\n",
    "    plt.title('mixture %d absolute differences -- incorrect cell types only' % row.name)"
   ]
  },
  {
   "cell_type": "code",
   "execution_count": 166,
   "metadata": {
    "ExecuteTime": {
     "end_time": "2016-07-06T12:25:27.153307",
     "start_time": "2016-07-06T12:25:27.129086"
    },
    "collapsed": false,
    "run_control": {
     "frozen": false,
     "read_only": false
    }
   },
   "outputs": [
    {
     "data": {
      "text/html": [
       "<div>\n",
       "<table border=\"1\" class=\"dataframe\">\n",
       "  <thead>\n",
       "    <tr style=\"text-align: right;\">\n",
       "      <th></th>\n",
       "      <th>B cells naive</th>\n",
       "      <th>B cells memory</th>\n",
       "    </tr>\n",
       "  </thead>\n",
       "  <tbody>\n",
       "    <tr>\n",
       "      <th>0</th>\n",
       "      <td>0.000715</td>\n",
       "      <td>-0.001720</td>\n",
       "    </tr>\n",
       "    <tr>\n",
       "      <th>1</th>\n",
       "      <td>0.000361</td>\n",
       "      <td>-0.001691</td>\n",
       "    </tr>\n",
       "    <tr>\n",
       "      <th>2</th>\n",
       "      <td>-0.007141</td>\n",
       "      <td>0.000923</td>\n",
       "    </tr>\n",
       "  </tbody>\n",
       "</table>\n",
       "</div>"
      ],
      "text/plain": [
       "   B cells naive  B cells memory\n",
       "0       0.000715       -0.001720\n",
       "1       0.000361       -0.001691\n",
       "2      -0.007141        0.000923"
      ]
     },
     "execution_count": 166,
     "metadata": {},
     "output_type": "execute_result"
    }
   ],
   "source": [
    "(results3_dat - hard_ref_weights)[hard_cols]"
   ]
  },
  {
   "cell_type": "markdown",
   "metadata": {},
   "source": [
    "Perfect deconvolution, even with noise. Reference profiles are distinct enough."
   ]
  },
  {
   "cell_type": "code",
   "execution_count": 167,
   "metadata": {
    "ExecuteTime": {
     "end_time": "2016-07-06T12:25:36.575053",
     "start_time": "2016-07-06T12:25:36.565058"
    },
    "collapsed": false,
    "run_control": {
     "frozen": false,
     "read_only": false
    }
   },
   "outputs": [
    {
     "data": {
      "text/plain": [
       "0    0.0\n",
       "1    0.0\n",
       "2    0.0\n",
       "Name: P-value, dtype: float64"
      ]
     },
     "execution_count": 167,
     "metadata": {},
     "output_type": "execute_result"
    }
   ],
   "source": [
    "results3['P-value']"
   ]
  },
  {
   "cell_type": "markdown",
   "metadata": {},
   "source": [
    "Here is RMSE and R^2"
   ]
  },
  {
   "cell_type": "code",
   "execution_count": 169,
   "metadata": {
    "ExecuteTime": {
     "end_time": "2016-07-06T12:26:05.196260",
     "start_time": "2016-07-06T12:26:05.187580"
    },
    "collapsed": false,
    "run_control": {
     "frozen": false,
     "read_only": false
    }
   },
   "outputs": [
    {
     "name": "stdout",
     "output_type": "stream",
     "text": [
      "RMSE \t R^2 \t per mixture\n",
      "0.0004 \t 1.0000\n",
      "0.0004 \t 1.0000\n",
      "0.0017 \t 0.9999\n"
     ]
    }
   ],
   "source": [
    "print('RMSE \\t R^2 \\t per mixture')\n",
    "from sklearn.metrics import mean_squared_error as mse, r2_score\n",
    "for (_, y_true),(_, y_pred) in zip(hard_ref_weights.iterrows(), results3_dat.iterrows()):\n",
    "    print('%0.4f \\t %0.4f' % (np.sqrt(mse(y_true, y_pred)), r2_score(y_true, y_pred)))"
   ]
  },
  {
   "cell_type": "markdown",
   "metadata": {},
   "source": [
    "## raw lines (should be quite hard)"
   ]
  },
  {
   "cell_type": "code",
   "execution_count": 170,
   "metadata": {
    "ExecuteTime": {
     "end_time": "2016-07-06T12:26:06.647641",
     "start_time": "2016-07-06T12:26:06.642246"
    },
    "collapsed": false,
    "run_control": {
     "frozen": false,
     "read_only": false
    }
   },
   "outputs": [
    {
     "name": "stdout",
     "output_type": "stream",
     "text": [
      "B cells naive_1\n",
      "B cells naive_2\n",
      "B cells naive_3\n",
      "B cells naive_4\n",
      "B cells naive_5\n",
      "B cells naive_6\n",
      "B cells naive_7\n",
      "B cells memory_1\n",
      "B cells memory_2\n",
      "B cells memory_3\n",
      "B cells memory_4\n",
      "B cells memory_5\n",
      "B cells memory_6\n",
      "B cells memory_7\n",
      "B cells memory_8\n"
     ]
    }
   ],
   "source": [
    "for c in cib_raw.columns:\n",
    "    if 'b cells' in c.lower():\n",
    "        print(c)"
   ]
  },
  {
   "cell_type": "code",
   "execution_count": 171,
   "metadata": {
    "ExecuteTime": {
     "end_time": "2016-07-06T12:26:07.615089",
     "start_time": "2016-07-06T12:26:07.606107"
    },
    "collapsed": false,
    "run_control": {
     "frozen": false,
     "read_only": false
    }
   },
   "outputs": [
    {
     "data": {
      "text/plain": [
       "([0.5, 0.5],\n",
       " ['B cells naive', 'B cells memory'],\n",
       " ['B cells naive_3', 'B cells memory_6'])"
      ]
     },
     "execution_count": 171,
     "metadata": {},
     "output_type": "execute_result"
    }
   ],
   "source": [
    "raw_cols = ['B cells naive_3', 'B cells memory_6']\n",
    "weights, hard_cols, raw_cols"
   ]
  },
  {
   "cell_type": "code",
   "execution_count": 172,
   "metadata": {
    "ExecuteTime": {
     "end_time": "2016-07-06T12:26:11.343431",
     "start_time": "2016-07-06T12:26:11.333346"
    },
    "collapsed": false,
    "run_control": {
     "frozen": false,
     "read_only": false
    }
   },
   "outputs": [
    {
     "data": {
      "text/plain": [
       "(547, 2)"
      ]
     },
     "execution_count": 172,
     "metadata": {},
     "output_type": "execute_result"
    }
   ],
   "source": [
    "reference[hard_cols].shape"
   ]
  },
  {
   "cell_type": "code",
   "execution_count": 173,
   "metadata": {
    "ExecuteTime": {
     "end_time": "2016-07-06T12:26:11.922818",
     "start_time": "2016-07-06T12:26:11.903221"
    },
    "collapsed": false,
    "run_control": {
     "frozen": false,
     "read_only": false
    }
   },
   "outputs": [
    {
     "name": "stdout",
     "output_type": "stream",
     "text": [
      "(11866,)\n"
     ]
    },
    {
     "data": {
      "text/plain": [
       "GeneSymbol\n",
       "A1CF      650.884112\n",
       "A2M        27.123923\n",
       "A4GALT     83.424552\n",
       "A4GNT     446.775751\n",
       "AAAS       48.353998\n",
       "dtype: float64"
      ]
     },
     "execution_count": 173,
     "metadata": {},
     "output_type": "execute_result"
    }
   ],
   "source": [
    "mix10=(cib_raw[raw_cols] * weights).sum(axis=1)\n",
    "print(mix10.shape)\n",
    "mix10.head()"
   ]
  },
  {
   "cell_type": "code",
   "execution_count": 174,
   "metadata": {
    "ExecuteTime": {
     "end_time": "2016-07-06T12:26:12.604930",
     "start_time": "2016-07-06T12:26:12.594188"
    },
    "collapsed": false,
    "run_control": {
     "frozen": false,
     "read_only": false
    }
   },
   "outputs": [
    {
     "name": "stdout",
     "output_type": "stream",
     "text": [
      "(11866,)\n"
     ]
    },
    {
     "data": {
      "text/plain": [
       "GeneSymbol\n",
       "A1CF      651.032531\n",
       "A2M        27.661211\n",
       "A4GALT     83.560924\n",
       "A4GNT     446.588066\n",
       "AAAS       48.941654\n",
       "dtype: float64"
      ]
     },
     "execution_count": 174,
     "metadata": {},
     "output_type": "execute_result"
    }
   ],
   "source": [
    "mix11 = mix10 + np.random.normal(0,1,len(mix10))\n",
    "print(mix11.shape)\n",
    "mix11.head()"
   ]
  },
  {
   "cell_type": "code",
   "execution_count": 175,
   "metadata": {
    "ExecuteTime": {
     "end_time": "2016-07-06T12:26:13.662511",
     "start_time": "2016-07-06T12:26:13.647164"
    },
    "collapsed": false,
    "run_control": {
     "frozen": false,
     "read_only": false
    }
   },
   "outputs": [
    {
     "name": "stdout",
     "output_type": "stream",
     "text": [
      "(11866,)\n"
     ]
    },
    {
     "data": {
      "text/plain": [
       "GeneSymbol\n",
       "A1CF      857.619128\n",
       "A2M        28.258246\n",
       "A4GALT     86.328255\n",
       "A4GNT     546.221032\n",
       "AAAS       53.313285\n",
       "dtype: float64"
      ]
     },
     "execution_count": 175,
     "metadata": {},
     "output_type": "execute_result"
    }
   ],
   "source": [
    "weights_noisy4 = np.reshape(weights*len(mix10), cib_raw[raw_cols].shape)\n",
    "weights_noisy4 += np.abs(np.random.normal(0,0.1, weights_noisy4.shape)) # using absolute value error\n",
    "weights_noisy4 = weights_noisy4.clip(0,1)\n",
    "mix12=(weights_noisy4 * cib_raw[raw_cols]).sum(axis=1)\n",
    "print(mix12.shape)\n",
    "mix12.head()"
   ]
  },
  {
   "cell_type": "code",
   "execution_count": 176,
   "metadata": {
    "ExecuteTime": {
     "end_time": "2016-07-06T12:26:28.692812",
     "start_time": "2016-07-06T12:26:28.553795"
    },
    "collapsed": false,
    "run_control": {
     "frozen": false,
     "read_only": false
    }
   },
   "outputs": [
    {
     "name": "stdout",
     "output_type": "stream",
     "text": [
      "(11866, 3)\n"
     ]
    },
    {
     "data": {
      "text/html": [
       "<div>\n",
       "<table border=\"1\" class=\"dataframe\">\n",
       "  <thead>\n",
       "    <tr style=\"text-align: right;\">\n",
       "      <th></th>\n",
       "      <th>10 NoNoise</th>\n",
       "      <th>11 SimpleNoise</th>\n",
       "      <th>12 ComplexNoise</th>\n",
       "    </tr>\n",
       "    <tr>\n",
       "      <th>GeneSymbol</th>\n",
       "      <th></th>\n",
       "      <th></th>\n",
       "      <th></th>\n",
       "    </tr>\n",
       "  </thead>\n",
       "  <tbody>\n",
       "    <tr>\n",
       "      <th>A1CF</th>\n",
       "      <td>650.884112</td>\n",
       "      <td>651.032531</td>\n",
       "      <td>857.619128</td>\n",
       "    </tr>\n",
       "    <tr>\n",
       "      <th>A2M</th>\n",
       "      <td>27.123923</td>\n",
       "      <td>27.661211</td>\n",
       "      <td>28.258246</td>\n",
       "    </tr>\n",
       "    <tr>\n",
       "      <th>A4GALT</th>\n",
       "      <td>83.424552</td>\n",
       "      <td>83.560924</td>\n",
       "      <td>86.328255</td>\n",
       "    </tr>\n",
       "    <tr>\n",
       "      <th>A4GNT</th>\n",
       "      <td>446.775751</td>\n",
       "      <td>446.588066</td>\n",
       "      <td>546.221032</td>\n",
       "    </tr>\n",
       "    <tr>\n",
       "      <th>AAAS</th>\n",
       "      <td>48.353998</td>\n",
       "      <td>48.941654</td>\n",
       "      <td>53.313285</td>\n",
       "    </tr>\n",
       "  </tbody>\n",
       "</table>\n",
       "</div>"
      ],
      "text/plain": [
       "            10 NoNoise  11 SimpleNoise  12 ComplexNoise\n",
       "GeneSymbol                                             \n",
       "A1CF        650.884112      651.032531       857.619128\n",
       "A2M          27.123923       27.661211        28.258246\n",
       "A4GALT       83.424552       83.560924        86.328255\n",
       "A4GNT       446.775751      446.588066       546.221032\n",
       "AAAS         48.353998       48.941654        53.313285"
      ]
     },
     "execution_count": 176,
     "metadata": {},
     "output_type": "execute_result"
    }
   ],
   "source": [
    "# write out the reference profile mixtures\n",
    "hard_mixtures_rawline = pd.DataFrame({'10 NoNoise':mix10, '11 SimpleNoise': mix11, '12 ComplexNoise': mix12})\n",
    "hard_mixtures_rawline.index.name='GeneSymbol'\n",
    "hard_mixtures_rawline.to_csv('test_mixtures/hard_rawline_mixtures.txt', sep='\\t')\n",
    "print(hard_mixtures_rawline.shape)\n",
    "hard_mixtures_rawline.head()"
   ]
  },
  {
   "cell_type": "markdown",
   "metadata": {},
   "source": [
    "### run through cibersort"
   ]
  },
  {
   "cell_type": "code",
   "execution_count": 177,
   "metadata": {
    "ExecuteTime": {
     "end_time": "2016-07-06T12:27:43.570974",
     "start_time": "2016-07-06T12:26:54.991748"
    },
    "collapsed": false,
    "run_control": {
     "frozen": false,
     "read_only": false
    }
   },
   "outputs": [],
   "source": [
    "!java -Xmx3g -Xms3g -jar ~/CIBERSORT_package/CIBERSORT.jar -M test_mixtures/hard_rawline_mixtures.txt -B LM22.txt > test_mixtures/out/c4"
   ]
  },
  {
   "cell_type": "code",
   "execution_count": 178,
   "metadata": {
    "ExecuteTime": {
     "end_time": "2016-07-06T12:27:43.630608",
     "start_time": "2016-07-06T12:27:43.573418"
    },
    "collapsed": false,
    "run_control": {
     "frozen": false,
     "read_only": false
    }
   },
   "outputs": [
    {
     "data": {
      "text/html": [
       "<div>\n",
       "<table border=\"1\" class=\"dataframe\">\n",
       "  <thead>\n",
       "    <tr style=\"text-align: right;\">\n",
       "      <th></th>\n",
       "      <th>Column</th>\n",
       "      <th>B cells naive</th>\n",
       "      <th>B cells memory</th>\n",
       "      <th>Plasma cells</th>\n",
       "      <th>T cells CD8</th>\n",
       "      <th>T cells CD4 naive</th>\n",
       "      <th>T cells CD4 memory resting</th>\n",
       "      <th>T cells CD4 memory activated</th>\n",
       "      <th>T cells follicular helper</th>\n",
       "      <th>T cells regulatory (Tregs)</th>\n",
       "      <th>...</th>\n",
       "      <th>Dendritic cells resting</th>\n",
       "      <th>Dendritic cells activated</th>\n",
       "      <th>Mast cells resting</th>\n",
       "      <th>Mast cells activated</th>\n",
       "      <th>Eosinophils</th>\n",
       "      <th>Neutrophils</th>\n",
       "      <th>P-value</th>\n",
       "      <th>Pearson Correlation</th>\n",
       "      <th>RMSE</th>\n",
       "      <th>Unnamed: 26</th>\n",
       "    </tr>\n",
       "  </thead>\n",
       "  <tbody>\n",
       "    <tr>\n",
       "      <th>0</th>\n",
       "      <td>0</td>\n",
       "      <td>0.393882</td>\n",
       "      <td>0.535980</td>\n",
       "      <td>0</td>\n",
       "      <td>0</td>\n",
       "      <td>0</td>\n",
       "      <td>0.012840</td>\n",
       "      <td>0</td>\n",
       "      <td>0.006687</td>\n",
       "      <td>0.001908</td>\n",
       "      <td>...</td>\n",
       "      <td>0.012705</td>\n",
       "      <td>0</td>\n",
       "      <td>0.000000</td>\n",
       "      <td>0.009541</td>\n",
       "      <td>0.004982</td>\n",
       "      <td>0.000430</td>\n",
       "      <td>0.0</td>\n",
       "      <td>0.952778</td>\n",
       "      <td>0.308847</td>\n",
       "      <td>NaN</td>\n",
       "    </tr>\n",
       "    <tr>\n",
       "      <th>1</th>\n",
       "      <td>1</td>\n",
       "      <td>0.395699</td>\n",
       "      <td>0.536218</td>\n",
       "      <td>0</td>\n",
       "      <td>0</td>\n",
       "      <td>0</td>\n",
       "      <td>0.013131</td>\n",
       "      <td>0</td>\n",
       "      <td>0.006515</td>\n",
       "      <td>0.002048</td>\n",
       "      <td>...</td>\n",
       "      <td>0.012098</td>\n",
       "      <td>0</td>\n",
       "      <td>0.000000</td>\n",
       "      <td>0.009604</td>\n",
       "      <td>0.004693</td>\n",
       "      <td>0.000430</td>\n",
       "      <td>0.0</td>\n",
       "      <td>0.952767</td>\n",
       "      <td>0.308529</td>\n",
       "      <td>NaN</td>\n",
       "    </tr>\n",
       "    <tr>\n",
       "      <th>2</th>\n",
       "      <td>2</td>\n",
       "      <td>0.409547</td>\n",
       "      <td>0.505164</td>\n",
       "      <td>0</td>\n",
       "      <td>0</td>\n",
       "      <td>0</td>\n",
       "      <td>0.024600</td>\n",
       "      <td>0</td>\n",
       "      <td>0.011651</td>\n",
       "      <td>0.001387</td>\n",
       "      <td>...</td>\n",
       "      <td>0.014114</td>\n",
       "      <td>0</td>\n",
       "      <td>0.006186</td>\n",
       "      <td>0.001995</td>\n",
       "      <td>0.007005</td>\n",
       "      <td>0.004249</td>\n",
       "      <td>0.0</td>\n",
       "      <td>0.948466</td>\n",
       "      <td>0.322878</td>\n",
       "      <td>NaN</td>\n",
       "    </tr>\n",
       "  </tbody>\n",
       "</table>\n",
       "<p>3 rows × 27 columns</p>\n",
       "</div>"
      ],
      "text/plain": [
       "   Column  B cells naive  B cells memory  Plasma cells  T cells CD8  \\\n",
       "0       0       0.393882        0.535980             0            0   \n",
       "1       1       0.395699        0.536218             0            0   \n",
       "2       2       0.409547        0.505164             0            0   \n",
       "\n",
       "   T cells CD4 naive  T cells CD4 memory resting  \\\n",
       "0                  0                    0.012840   \n",
       "1                  0                    0.013131   \n",
       "2                  0                    0.024600   \n",
       "\n",
       "   T cells CD4 memory activated  T cells follicular helper  \\\n",
       "0                             0                   0.006687   \n",
       "1                             0                   0.006515   \n",
       "2                             0                   0.011651   \n",
       "\n",
       "   T cells regulatory (Tregs)     ...       Dendritic cells resting  \\\n",
       "0                    0.001908     ...                      0.012705   \n",
       "1                    0.002048     ...                      0.012098   \n",
       "2                    0.001387     ...                      0.014114   \n",
       "\n",
       "   Dendritic cells activated  Mast cells resting  Mast cells activated  \\\n",
       "0                          0            0.000000              0.009541   \n",
       "1                          0            0.000000              0.009604   \n",
       "2                          0            0.006186              0.001995   \n",
       "\n",
       "   Eosinophils  Neutrophils  P-value  Pearson Correlation      RMSE  \\\n",
       "0     0.004982     0.000430      0.0             0.952778  0.308847   \n",
       "1     0.004693     0.000430      0.0             0.952767  0.308529   \n",
       "2     0.007005     0.004249      0.0             0.948466  0.322878   \n",
       "\n",
       "   Unnamed: 26  \n",
       "0          NaN  \n",
       "1          NaN  \n",
       "2          NaN  \n",
       "\n",
       "[3 rows x 27 columns]"
      ]
     },
     "execution_count": 178,
     "metadata": {},
     "output_type": "execute_result"
    }
   ],
   "source": [
    "results4 = pd.read_csv('test_mixtures/out/c4', skiprows=list(range(6)), sep='\\t')\n",
    "results4.head()"
   ]
  },
  {
   "cell_type": "code",
   "execution_count": 179,
   "metadata": {
    "ExecuteTime": {
     "end_time": "2016-07-06T12:27:43.698047",
     "start_time": "2016-07-06T12:27:43.633104"
    },
    "collapsed": false,
    "run_control": {
     "frozen": false,
     "read_only": false
    }
   },
   "outputs": [
    {
     "name": "stdout",
     "output_type": "stream",
     "text": [
      "(3, 26) (3, 22)\n"
     ]
    },
    {
     "data": {
      "text/html": [
       "<div>\n",
       "<table border=\"1\" class=\"dataframe\">\n",
       "  <thead>\n",
       "    <tr style=\"text-align: right;\">\n",
       "      <th></th>\n",
       "      <th>B cells naive</th>\n",
       "      <th>B cells memory</th>\n",
       "      <th>Plasma cells</th>\n",
       "      <th>T cells CD8</th>\n",
       "      <th>T cells CD4 naive</th>\n",
       "      <th>T cells CD4 memory resting</th>\n",
       "      <th>T cells CD4 memory activated</th>\n",
       "      <th>T cells follicular helper</th>\n",
       "      <th>T cells regulatory (Tregs)</th>\n",
       "      <th>T cells gamma delta</th>\n",
       "      <th>...</th>\n",
       "      <th>Monocytes</th>\n",
       "      <th>Macrophages M0</th>\n",
       "      <th>Macrophages M1</th>\n",
       "      <th>Macrophages M2</th>\n",
       "      <th>Dendritic cells resting</th>\n",
       "      <th>Dendritic cells activated</th>\n",
       "      <th>Mast cells resting</th>\n",
       "      <th>Mast cells activated</th>\n",
       "      <th>Eosinophils</th>\n",
       "      <th>Neutrophils</th>\n",
       "    </tr>\n",
       "  </thead>\n",
       "  <tbody>\n",
       "    <tr>\n",
       "      <th>0</th>\n",
       "      <td>0.393882</td>\n",
       "      <td>0.535980</td>\n",
       "      <td>0</td>\n",
       "      <td>0</td>\n",
       "      <td>0</td>\n",
       "      <td>0.012840</td>\n",
       "      <td>0</td>\n",
       "      <td>0.006687</td>\n",
       "      <td>0.001908</td>\n",
       "      <td>0.004782</td>\n",
       "      <td>...</td>\n",
       "      <td>0.004679</td>\n",
       "      <td>0.00000</td>\n",
       "      <td>0.005447</td>\n",
       "      <td>0</td>\n",
       "      <td>0.012705</td>\n",
       "      <td>0</td>\n",
       "      <td>0.000000</td>\n",
       "      <td>0.009541</td>\n",
       "      <td>0.004982</td>\n",
       "      <td>0.000430</td>\n",
       "    </tr>\n",
       "    <tr>\n",
       "      <th>1</th>\n",
       "      <td>0.395699</td>\n",
       "      <td>0.536218</td>\n",
       "      <td>0</td>\n",
       "      <td>0</td>\n",
       "      <td>0</td>\n",
       "      <td>0.013131</td>\n",
       "      <td>0</td>\n",
       "      <td>0.006515</td>\n",
       "      <td>0.002048</td>\n",
       "      <td>0.004932</td>\n",
       "      <td>...</td>\n",
       "      <td>0.002916</td>\n",
       "      <td>0.00000</td>\n",
       "      <td>0.005651</td>\n",
       "      <td>0</td>\n",
       "      <td>0.012098</td>\n",
       "      <td>0</td>\n",
       "      <td>0.000000</td>\n",
       "      <td>0.009604</td>\n",
       "      <td>0.004693</td>\n",
       "      <td>0.000430</td>\n",
       "    </tr>\n",
       "    <tr>\n",
       "      <th>2</th>\n",
       "      <td>0.409547</td>\n",
       "      <td>0.505164</td>\n",
       "      <td>0</td>\n",
       "      <td>0</td>\n",
       "      <td>0</td>\n",
       "      <td>0.024600</td>\n",
       "      <td>0</td>\n",
       "      <td>0.011651</td>\n",
       "      <td>0.001387</td>\n",
       "      <td>0.000672</td>\n",
       "      <td>...</td>\n",
       "      <td>0.000000</td>\n",
       "      <td>0.00081</td>\n",
       "      <td>0.004431</td>\n",
       "      <td>0</td>\n",
       "      <td>0.014114</td>\n",
       "      <td>0</td>\n",
       "      <td>0.006186</td>\n",
       "      <td>0.001995</td>\n",
       "      <td>0.007005</td>\n",
       "      <td>0.004249</td>\n",
       "    </tr>\n",
       "  </tbody>\n",
       "</table>\n",
       "<p>3 rows × 22 columns</p>\n",
       "</div>"
      ],
      "text/plain": [
       "   B cells naive  B cells memory  Plasma cells  T cells CD8  \\\n",
       "0       0.393882        0.535980             0            0   \n",
       "1       0.395699        0.536218             0            0   \n",
       "2       0.409547        0.505164             0            0   \n",
       "\n",
       "   T cells CD4 naive  T cells CD4 memory resting  \\\n",
       "0                  0                    0.012840   \n",
       "1                  0                    0.013131   \n",
       "2                  0                    0.024600   \n",
       "\n",
       "   T cells CD4 memory activated  T cells follicular helper  \\\n",
       "0                             0                   0.006687   \n",
       "1                             0                   0.006515   \n",
       "2                             0                   0.011651   \n",
       "\n",
       "   T cells regulatory (Tregs)  T cells gamma delta     ...       Monocytes  \\\n",
       "0                    0.001908             0.004782     ...        0.004679   \n",
       "1                    0.002048             0.004932     ...        0.002916   \n",
       "2                    0.001387             0.000672     ...        0.000000   \n",
       "\n",
       "   Macrophages M0  Macrophages M1  Macrophages M2  Dendritic cells resting  \\\n",
       "0         0.00000        0.005447               0                 0.012705   \n",
       "1         0.00000        0.005651               0                 0.012098   \n",
       "2         0.00081        0.004431               0                 0.014114   \n",
       "\n",
       "   Dendritic cells activated  Mast cells resting  Mast cells activated  \\\n",
       "0                          0            0.000000              0.009541   \n",
       "1                          0            0.000000              0.009604   \n",
       "2                          0            0.006186              0.001995   \n",
       "\n",
       "   Eosinophils  Neutrophils  \n",
       "0     0.004982     0.000430  \n",
       "1     0.004693     0.000430  \n",
       "2     0.007005     0.004249  \n",
       "\n",
       "[3 rows x 22 columns]"
      ]
     },
     "execution_count": 179,
     "metadata": {},
     "output_type": "execute_result"
    }
   ],
   "source": [
    "del results4['Unnamed: 26']\n",
    "results4_dat = results4[results4.columns[1:-3]]\n",
    "print(results4.shape, results4_dat.shape)\n",
    "results4_dat.head()"
   ]
  },
  {
   "cell_type": "code",
   "execution_count": 180,
   "metadata": {
    "ExecuteTime": {
     "end_time": "2016-07-06T12:27:43.769184",
     "start_time": "2016-07-06T12:27:43.701753"
    },
    "collapsed": false,
    "run_control": {
     "frozen": false,
     "read_only": false
    }
   },
   "outputs": [
    {
     "data": {
      "text/html": [
       "<div>\n",
       "<table border=\"1\" class=\"dataframe\">\n",
       "  <thead>\n",
       "    <tr style=\"text-align: right;\">\n",
       "      <th></th>\n",
       "      <th>B cells naive</th>\n",
       "      <th>B cells memory</th>\n",
       "      <th>Plasma cells</th>\n",
       "      <th>T cells CD8</th>\n",
       "      <th>T cells CD4 naive</th>\n",
       "      <th>T cells CD4 memory resting</th>\n",
       "      <th>T cells CD4 memory activated</th>\n",
       "      <th>T cells follicular helper</th>\n",
       "      <th>T cells regulatory (Tregs)</th>\n",
       "      <th>T cells gamma delta</th>\n",
       "      <th>...</th>\n",
       "      <th>Monocytes</th>\n",
       "      <th>Macrophages M0</th>\n",
       "      <th>Macrophages M1</th>\n",
       "      <th>Macrophages M2</th>\n",
       "      <th>Dendritic cells resting</th>\n",
       "      <th>Dendritic cells activated</th>\n",
       "      <th>Mast cells resting</th>\n",
       "      <th>Mast cells activated</th>\n",
       "      <th>Eosinophils</th>\n",
       "      <th>Neutrophils</th>\n",
       "    </tr>\n",
       "  </thead>\n",
       "  <tbody>\n",
       "    <tr>\n",
       "      <th>0</th>\n",
       "      <td>0.5</td>\n",
       "      <td>0.5</td>\n",
       "      <td>0.0</td>\n",
       "      <td>0.0</td>\n",
       "      <td>0.0</td>\n",
       "      <td>0.0</td>\n",
       "      <td>0.0</td>\n",
       "      <td>0.0</td>\n",
       "      <td>0.0</td>\n",
       "      <td>0.0</td>\n",
       "      <td>...</td>\n",
       "      <td>0.0</td>\n",
       "      <td>0.0</td>\n",
       "      <td>0.0</td>\n",
       "      <td>0.0</td>\n",
       "      <td>0.0</td>\n",
       "      <td>0.0</td>\n",
       "      <td>0.0</td>\n",
       "      <td>0.0</td>\n",
       "      <td>0.0</td>\n",
       "      <td>0.0</td>\n",
       "    </tr>\n",
       "    <tr>\n",
       "      <th>1</th>\n",
       "      <td>0.5</td>\n",
       "      <td>0.5</td>\n",
       "      <td>0.0</td>\n",
       "      <td>0.0</td>\n",
       "      <td>0.0</td>\n",
       "      <td>0.0</td>\n",
       "      <td>0.0</td>\n",
       "      <td>0.0</td>\n",
       "      <td>0.0</td>\n",
       "      <td>0.0</td>\n",
       "      <td>...</td>\n",
       "      <td>0.0</td>\n",
       "      <td>0.0</td>\n",
       "      <td>0.0</td>\n",
       "      <td>0.0</td>\n",
       "      <td>0.0</td>\n",
       "      <td>0.0</td>\n",
       "      <td>0.0</td>\n",
       "      <td>0.0</td>\n",
       "      <td>0.0</td>\n",
       "      <td>0.0</td>\n",
       "    </tr>\n",
       "    <tr>\n",
       "      <th>2</th>\n",
       "      <td>0.5</td>\n",
       "      <td>0.5</td>\n",
       "      <td>0.0</td>\n",
       "      <td>0.0</td>\n",
       "      <td>0.0</td>\n",
       "      <td>0.0</td>\n",
       "      <td>0.0</td>\n",
       "      <td>0.0</td>\n",
       "      <td>0.0</td>\n",
       "      <td>0.0</td>\n",
       "      <td>...</td>\n",
       "      <td>0.0</td>\n",
       "      <td>0.0</td>\n",
       "      <td>0.0</td>\n",
       "      <td>0.0</td>\n",
       "      <td>0.0</td>\n",
       "      <td>0.0</td>\n",
       "      <td>0.0</td>\n",
       "      <td>0.0</td>\n",
       "      <td>0.0</td>\n",
       "      <td>0.0</td>\n",
       "    </tr>\n",
       "  </tbody>\n",
       "</table>\n",
       "<p>3 rows × 22 columns</p>\n",
       "</div>"
      ],
      "text/plain": [
       "   B cells naive  B cells memory  Plasma cells  T cells CD8  \\\n",
       "0            0.5             0.5           0.0          0.0   \n",
       "1            0.5             0.5           0.0          0.0   \n",
       "2            0.5             0.5           0.0          0.0   \n",
       "\n",
       "   T cells CD4 naive  T cells CD4 memory resting  \\\n",
       "0                0.0                         0.0   \n",
       "1                0.0                         0.0   \n",
       "2                0.0                         0.0   \n",
       "\n",
       "   T cells CD4 memory activated  T cells follicular helper  \\\n",
       "0                           0.0                        0.0   \n",
       "1                           0.0                        0.0   \n",
       "2                           0.0                        0.0   \n",
       "\n",
       "   T cells regulatory (Tregs)  T cells gamma delta     ...       Monocytes  \\\n",
       "0                         0.0                  0.0     ...             0.0   \n",
       "1                         0.0                  0.0     ...             0.0   \n",
       "2                         0.0                  0.0     ...             0.0   \n",
       "\n",
       "   Macrophages M0  Macrophages M1  Macrophages M2  Dendritic cells resting  \\\n",
       "0             0.0             0.0             0.0                      0.0   \n",
       "1             0.0             0.0             0.0                      0.0   \n",
       "2             0.0             0.0             0.0                      0.0   \n",
       "\n",
       "   Dendritic cells activated  Mast cells resting  Mast cells activated  \\\n",
       "0                        0.0                 0.0                   0.0   \n",
       "1                        0.0                 0.0                   0.0   \n",
       "2                        0.0                 0.0                   0.0   \n",
       "\n",
       "   Eosinophils  Neutrophils  \n",
       "0          0.0          0.0  \n",
       "1          0.0          0.0  \n",
       "2          0.0          0.0  \n",
       "\n",
       "[3 rows x 22 columns]"
      ]
     },
     "execution_count": 180,
     "metadata": {},
     "output_type": "execute_result"
    }
   ],
   "source": [
    "hard_ref_weights"
   ]
  },
  {
   "cell_type": "code",
   "execution_count": 181,
   "metadata": {
    "ExecuteTime": {
     "end_time": "2016-07-06T12:27:55.985120",
     "start_time": "2016-07-06T12:27:55.961030"
    },
    "collapsed": false,
    "run_control": {
     "frozen": false,
     "read_only": false
    }
   },
   "outputs": [
    {
     "name": "stdout",
     "output_type": "stream",
     "text": [
      "correlation between GT and estimate per mixture\n",
      "0    0.986767\n",
      "1    0.987114\n",
      "2    0.992914\n",
      "dtype: float64\n"
     ]
    }
   ],
   "source": [
    "print('correlation between GT and estimate per mixture')\n",
    "print(results4_dat.corrwith(hard_ref_weights, axis=1))"
   ]
  },
  {
   "cell_type": "code",
   "execution_count": 183,
   "metadata": {
    "ExecuteTime": {
     "end_time": "2016-07-06T12:28:05.520168",
     "start_time": "2016-07-06T12:28:05.005413"
    },
    "collapsed": false,
    "run_control": {
     "frozen": false,
     "read_only": false
    }
   },
   "outputs": [
    {
     "name": "stdout",
     "output_type": "stream",
     "text": [
      "absolute difference from ground truth, summarized by column:\n"
     ]
    },
    {
     "name": "stderr",
     "output_type": "stream",
     "text": [
      "/home/maxim/anaconda2/lib/python2.7/site-packages/ipykernel/__main__.py:4: FutureWarning: sort(columns=....) is deprecated, use sort_values(by=.....)\n"
     ]
    },
    {
     "data": {
      "text/html": [
       "<div>\n",
       "<table border=\"1\" class=\"dataframe\">\n",
       "  <thead>\n",
       "    <tr style=\"text-align: right;\">\n",
       "      <th></th>\n",
       "      <th>count</th>\n",
       "      <th>mean</th>\n",
       "      <th>std</th>\n",
       "      <th>min</th>\n",
       "      <th>25%</th>\n",
       "      <th>50%</th>\n",
       "      <th>75%</th>\n",
       "      <th>max</th>\n",
       "    </tr>\n",
       "  </thead>\n",
       "  <tbody>\n",
       "    <tr>\n",
       "      <th>B cells naive</th>\n",
       "      <td>3.0</td>\n",
       "      <td>-0.100291</td>\n",
       "      <td>0.008568</td>\n",
       "      <td>-0.106118</td>\n",
       "      <td>-0.105209</td>\n",
       "      <td>-0.104301</td>\n",
       "      <td>-0.097377</td>\n",
       "      <td>-0.090453</td>\n",
       "    </tr>\n",
       "    <tr>\n",
       "      <th>Dendritic cells activated</th>\n",
       "      <td>3.0</td>\n",
       "      <td>0.000000</td>\n",
       "      <td>0.000000</td>\n",
       "      <td>0.000000</td>\n",
       "      <td>0.000000</td>\n",
       "      <td>0.000000</td>\n",
       "      <td>0.000000</td>\n",
       "      <td>0.000000</td>\n",
       "    </tr>\n",
       "    <tr>\n",
       "      <th>Plasma cells</th>\n",
       "      <td>3.0</td>\n",
       "      <td>0.000000</td>\n",
       "      <td>0.000000</td>\n",
       "      <td>0.000000</td>\n",
       "      <td>0.000000</td>\n",
       "      <td>0.000000</td>\n",
       "      <td>0.000000</td>\n",
       "      <td>0.000000</td>\n",
       "    </tr>\n",
       "    <tr>\n",
       "      <th>T cells CD8</th>\n",
       "      <td>3.0</td>\n",
       "      <td>0.000000</td>\n",
       "      <td>0.000000</td>\n",
       "      <td>0.000000</td>\n",
       "      <td>0.000000</td>\n",
       "      <td>0.000000</td>\n",
       "      <td>0.000000</td>\n",
       "      <td>0.000000</td>\n",
       "    </tr>\n",
       "    <tr>\n",
       "      <th>T cells CD4 naive</th>\n",
       "      <td>3.0</td>\n",
       "      <td>0.000000</td>\n",
       "      <td>0.000000</td>\n",
       "      <td>0.000000</td>\n",
       "      <td>0.000000</td>\n",
       "      <td>0.000000</td>\n",
       "      <td>0.000000</td>\n",
       "      <td>0.000000</td>\n",
       "    </tr>\n",
       "    <tr>\n",
       "      <th>Macrophages M2</th>\n",
       "      <td>3.0</td>\n",
       "      <td>0.000000</td>\n",
       "      <td>0.000000</td>\n",
       "      <td>0.000000</td>\n",
       "      <td>0.000000</td>\n",
       "      <td>0.000000</td>\n",
       "      <td>0.000000</td>\n",
       "      <td>0.000000</td>\n",
       "    </tr>\n",
       "    <tr>\n",
       "      <th>T cells CD4 memory activated</th>\n",
       "      <td>3.0</td>\n",
       "      <td>0.000000</td>\n",
       "      <td>0.000000</td>\n",
       "      <td>0.000000</td>\n",
       "      <td>0.000000</td>\n",
       "      <td>0.000000</td>\n",
       "      <td>0.000000</td>\n",
       "      <td>0.000000</td>\n",
       "    </tr>\n",
       "    <tr>\n",
       "      <th>Macrophages M0</th>\n",
       "      <td>3.0</td>\n",
       "      <td>0.000270</td>\n",
       "      <td>0.000468</td>\n",
       "      <td>0.000000</td>\n",
       "      <td>0.000000</td>\n",
       "      <td>0.000000</td>\n",
       "      <td>0.000405</td>\n",
       "      <td>0.000810</td>\n",
       "    </tr>\n",
       "    <tr>\n",
       "      <th>Neutrophils</th>\n",
       "      <td>3.0</td>\n",
       "      <td>0.001703</td>\n",
       "      <td>0.002205</td>\n",
       "      <td>0.000430</td>\n",
       "      <td>0.000430</td>\n",
       "      <td>0.000430</td>\n",
       "      <td>0.002340</td>\n",
       "      <td>0.004249</td>\n",
       "    </tr>\n",
       "    <tr>\n",
       "      <th>T cells regulatory (Tregs)</th>\n",
       "      <td>3.0</td>\n",
       "      <td>0.001781</td>\n",
       "      <td>0.000348</td>\n",
       "      <td>0.001387</td>\n",
       "      <td>0.001647</td>\n",
       "      <td>0.001908</td>\n",
       "      <td>0.001978</td>\n",
       "      <td>0.002048</td>\n",
       "    </tr>\n",
       "    <tr>\n",
       "      <th>Mast cells resting</th>\n",
       "      <td>3.0</td>\n",
       "      <td>0.002062</td>\n",
       "      <td>0.003571</td>\n",
       "      <td>0.000000</td>\n",
       "      <td>0.000000</td>\n",
       "      <td>0.000000</td>\n",
       "      <td>0.003093</td>\n",
       "      <td>0.006186</td>\n",
       "    </tr>\n",
       "    <tr>\n",
       "      <th>Monocytes</th>\n",
       "      <td>3.0</td>\n",
       "      <td>0.002532</td>\n",
       "      <td>0.002363</td>\n",
       "      <td>0.000000</td>\n",
       "      <td>0.001458</td>\n",
       "      <td>0.002916</td>\n",
       "      <td>0.003797</td>\n",
       "      <td>0.004679</td>\n",
       "    </tr>\n",
       "    <tr>\n",
       "      <th>NK cells activated</th>\n",
       "      <td>3.0</td>\n",
       "      <td>0.002730</td>\n",
       "      <td>0.004728</td>\n",
       "      <td>0.000000</td>\n",
       "      <td>0.000000</td>\n",
       "      <td>0.000000</td>\n",
       "      <td>0.004094</td>\n",
       "      <td>0.008189</td>\n",
       "    </tr>\n",
       "    <tr>\n",
       "      <th>T cells gamma delta</th>\n",
       "      <td>3.0</td>\n",
       "      <td>0.003462</td>\n",
       "      <td>0.002417</td>\n",
       "      <td>0.000672</td>\n",
       "      <td>0.002727</td>\n",
       "      <td>0.004782</td>\n",
       "      <td>0.004857</td>\n",
       "      <td>0.004932</td>\n",
       "    </tr>\n",
       "    <tr>\n",
       "      <th>NK cells resting</th>\n",
       "      <td>3.0</td>\n",
       "      <td>0.004067</td>\n",
       "      <td>0.003522</td>\n",
       "      <td>0.000000</td>\n",
       "      <td>0.003032</td>\n",
       "      <td>0.006064</td>\n",
       "      <td>0.006101</td>\n",
       "      <td>0.006137</td>\n",
       "    </tr>\n",
       "    <tr>\n",
       "      <th>Macrophages M1</th>\n",
       "      <td>3.0</td>\n",
       "      <td>0.005176</td>\n",
       "      <td>0.000654</td>\n",
       "      <td>0.004431</td>\n",
       "      <td>0.004939</td>\n",
       "      <td>0.005447</td>\n",
       "      <td>0.005549</td>\n",
       "      <td>0.005651</td>\n",
       "    </tr>\n",
       "    <tr>\n",
       "      <th>Eosinophils</th>\n",
       "      <td>3.0</td>\n",
       "      <td>0.005560</td>\n",
       "      <td>0.001260</td>\n",
       "      <td>0.004693</td>\n",
       "      <td>0.004838</td>\n",
       "      <td>0.004982</td>\n",
       "      <td>0.005994</td>\n",
       "      <td>0.007005</td>\n",
       "    </tr>\n",
       "    <tr>\n",
       "      <th>Mast cells activated</th>\n",
       "      <td>3.0</td>\n",
       "      <td>0.007046</td>\n",
       "      <td>0.004375</td>\n",
       "      <td>0.001995</td>\n",
       "      <td>0.005768</td>\n",
       "      <td>0.009541</td>\n",
       "      <td>0.009572</td>\n",
       "      <td>0.009604</td>\n",
       "    </tr>\n",
       "    <tr>\n",
       "      <th>T cells follicular helper</th>\n",
       "      <td>3.0</td>\n",
       "      <td>0.008284</td>\n",
       "      <td>0.002917</td>\n",
       "      <td>0.006515</td>\n",
       "      <td>0.006601</td>\n",
       "      <td>0.006687</td>\n",
       "      <td>0.009169</td>\n",
       "      <td>0.011651</td>\n",
       "    </tr>\n",
       "    <tr>\n",
       "      <th>Dendritic cells resting</th>\n",
       "      <td>3.0</td>\n",
       "      <td>0.012972</td>\n",
       "      <td>0.001034</td>\n",
       "      <td>0.012098</td>\n",
       "      <td>0.012402</td>\n",
       "      <td>0.012705</td>\n",
       "      <td>0.013409</td>\n",
       "      <td>0.014114</td>\n",
       "    </tr>\n",
       "    <tr>\n",
       "      <th>T cells CD4 memory resting</th>\n",
       "      <td>3.0</td>\n",
       "      <td>0.016857</td>\n",
       "      <td>0.006707</td>\n",
       "      <td>0.012840</td>\n",
       "      <td>0.012985</td>\n",
       "      <td>0.013131</td>\n",
       "      <td>0.018865</td>\n",
       "      <td>0.024600</td>\n",
       "    </tr>\n",
       "    <tr>\n",
       "      <th>B cells memory</th>\n",
       "      <td>3.0</td>\n",
       "      <td>0.025788</td>\n",
       "      <td>0.017861</td>\n",
       "      <td>0.005164</td>\n",
       "      <td>0.020572</td>\n",
       "      <td>0.035980</td>\n",
       "      <td>0.036099</td>\n",
       "      <td>0.036218</td>\n",
       "    </tr>\n",
       "  </tbody>\n",
       "</table>\n",
       "</div>"
      ],
      "text/plain": [
       "                              count      mean       std       min       25%  \\\n",
       "B cells naive                   3.0 -0.100291  0.008568 -0.106118 -0.105209   \n",
       "Dendritic cells activated       3.0  0.000000  0.000000  0.000000  0.000000   \n",
       "Plasma cells                    3.0  0.000000  0.000000  0.000000  0.000000   \n",
       "T cells CD8                     3.0  0.000000  0.000000  0.000000  0.000000   \n",
       "T cells CD4 naive               3.0  0.000000  0.000000  0.000000  0.000000   \n",
       "Macrophages M2                  3.0  0.000000  0.000000  0.000000  0.000000   \n",
       "T cells CD4 memory activated    3.0  0.000000  0.000000  0.000000  0.000000   \n",
       "Macrophages M0                  3.0  0.000270  0.000468  0.000000  0.000000   \n",
       "Neutrophils                     3.0  0.001703  0.002205  0.000430  0.000430   \n",
       "T cells regulatory (Tregs)      3.0  0.001781  0.000348  0.001387  0.001647   \n",
       "Mast cells resting              3.0  0.002062  0.003571  0.000000  0.000000   \n",
       "Monocytes                       3.0  0.002532  0.002363  0.000000  0.001458   \n",
       "NK cells activated              3.0  0.002730  0.004728  0.000000  0.000000   \n",
       "T cells gamma delta             3.0  0.003462  0.002417  0.000672  0.002727   \n",
       "NK cells resting                3.0  0.004067  0.003522  0.000000  0.003032   \n",
       "Macrophages M1                  3.0  0.005176  0.000654  0.004431  0.004939   \n",
       "Eosinophils                     3.0  0.005560  0.001260  0.004693  0.004838   \n",
       "Mast cells activated            3.0  0.007046  0.004375  0.001995  0.005768   \n",
       "T cells follicular helper       3.0  0.008284  0.002917  0.006515  0.006601   \n",
       "Dendritic cells resting         3.0  0.012972  0.001034  0.012098  0.012402   \n",
       "T cells CD4 memory resting      3.0  0.016857  0.006707  0.012840  0.012985   \n",
       "B cells memory                  3.0  0.025788  0.017861  0.005164  0.020572   \n",
       "\n",
       "                                   50%       75%       max  \n",
       "B cells naive                -0.104301 -0.097377 -0.090453  \n",
       "Dendritic cells activated     0.000000  0.000000  0.000000  \n",
       "Plasma cells                  0.000000  0.000000  0.000000  \n",
       "T cells CD8                   0.000000  0.000000  0.000000  \n",
       "T cells CD4 naive             0.000000  0.000000  0.000000  \n",
       "Macrophages M2                0.000000  0.000000  0.000000  \n",
       "T cells CD4 memory activated  0.000000  0.000000  0.000000  \n",
       "Macrophages M0                0.000000  0.000405  0.000810  \n",
       "Neutrophils                   0.000430  0.002340  0.004249  \n",
       "T cells regulatory (Tregs)    0.001908  0.001978  0.002048  \n",
       "Mast cells resting            0.000000  0.003093  0.006186  \n",
       "Monocytes                     0.002916  0.003797  0.004679  \n",
       "NK cells activated            0.000000  0.004094  0.008189  \n",
       "T cells gamma delta           0.004782  0.004857  0.004932  \n",
       "NK cells resting              0.006064  0.006101  0.006137  \n",
       "Macrophages M1                0.005447  0.005549  0.005651  \n",
       "Eosinophils                   0.004982  0.005994  0.007005  \n",
       "Mast cells activated          0.009541  0.009572  0.009604  \n",
       "T cells follicular helper     0.006687  0.009169  0.011651  \n",
       "Dendritic cells resting       0.012705  0.013409  0.014114  \n",
       "T cells CD4 memory resting    0.013131  0.018865  0.024600  \n",
       "B cells memory                0.035980  0.036099  0.036218  "
      ]
     },
     "execution_count": 183,
     "metadata": {},
     "output_type": "execute_result"
    },
    {
     "data": {
      "image/png": "[encoded data removed]",
      "text/plain": [
       "<matplotlib.figure.Figure at 0x7fa3d2f30950>"
      ]
     },
     "metadata": {},
     "output_type": "display_data"
    }
   ],
   "source": [
    "print('absolute difference from ground truth, summarized by column:')\n",
    "(results4_dat - hard_ref_weights).describe().loc['mean'].hist()\n",
    "plt.title('mean absolute differences for columns across all mixtures')\n",
    "(results4_dat - hard_ref_weights).describe().T.sort('mean')"
   ]
  },
  {
   "cell_type": "code",
   "execution_count": 184,
   "metadata": {
    "ExecuteTime": {
     "end_time": "2016-07-06T12:28:18.213180",
     "start_time": "2016-07-06T12:28:17.030304"
    },
    "collapsed": false,
    "run_control": {
     "frozen": false,
     "read_only": false
    }
   },
   "outputs": [
    {
     "data": {
      "image/png": "[encoded data removed]",
      "text/plain": [
       "<matplotlib.figure.Figure at 0x7fa3d27f7d50>"
      ]
     },
     "metadata": {},
     "output_type": "display_data"
    },
    {
     "data": {
      "image/png": "[encoded data removed]",
      "text/plain": [
       "<matplotlib.figure.Figure at 0x7fa3d3fc5dd0>"
      ]
     },
     "metadata": {},
     "output_type": "display_data"
    },
    {
     "data": {
      "image/png": "[encoded data removed]",
      "text/plain": [
       "<matplotlib.figure.Figure at 0x7fa3d23a09d0>"
      ]
     },
     "metadata": {},
     "output_type": "display_data"
    }
   ],
   "source": [
    "for _, row in (results4_dat - hard_ref_weights).iterrows():\n",
    "    plt.figure()\n",
    "    row.hist()\n",
    "    plt.title('mixture %d absolute differences' % row.name)"
   ]
  },
  {
   "cell_type": "code",
   "execution_count": 185,
   "metadata": {
    "ExecuteTime": {
     "end_time": "2016-07-06T12:28:19.121018",
     "start_time": "2016-07-06T12:28:18.216149"
    },
    "collapsed": false,
    "run_control": {
     "frozen": false,
     "read_only": false
    }
   },
   "outputs": [
    {
     "data": {
      "image/png": "[encoded data removed]",
      "text/plain": [
       "<matplotlib.figure.Figure at 0x7fa3d29e9c10>"
      ]
     },
     "metadata": {},
     "output_type": "display_data"
    },
    {
     "data": {
      "image/png": "[encoded data removed]",
      "text/plain": [
       "<matplotlib.figure.Figure at 0x7fa3d29f6f90>"
      ]
     },
     "metadata": {},
     "output_type": "display_data"
    },
    {
     "data": {
      "image/png": "[encoded data removed]",
      "text/plain": [
       "<matplotlib.figure.Figure at 0x7fa3d80903d0>"
      ]
     },
     "metadata": {},
     "output_type": "display_data"
    }
   ],
   "source": [
    "for _, row in (results4_dat - hard_ref_weights).iterrows():\n",
    "    plt.figure()\n",
    "    row[hard_cols].hist()\n",
    "    plt.title('mixture %d absolute differences -- correct cell types only' % row.name)"
   ]
  },
  {
   "cell_type": "code",
   "execution_count": 186,
   "metadata": {
    "ExecuteTime": {
     "end_time": "2016-07-06T12:28:24.135348",
     "start_time": "2016-07-06T12:28:23.216302"
    },
    "collapsed": false,
    "run_control": {
     "frozen": false,
     "read_only": false
    }
   },
   "outputs": [
    {
     "data": {
      "image/png": "[encoded data removed]",
      "text/plain": [
       "<matplotlib.figure.Figure at 0x7fa3d2917190>"
      ]
     },
     "metadata": {},
     "output_type": "display_data"
    },
    {
     "data": {
      "image/png": "[encoded data removed]",
      "text/plain": [
       "<matplotlib.figure.Figure at 0x7fa3d23fb390>"
      ]
     },
     "metadata": {},
     "output_type": "display_data"
    },
    {
     "data": {
      "image/png": "[encoded data removed]",
      "text/plain": [
       "<matplotlib.figure.Figure at 0x7fa3d2aa12d0>"
      ]
     },
     "metadata": {},
     "output_type": "display_data"
    }
   ],
   "source": [
    "other_cols = set(results4_dat.columns) - set(hard_cols)\n",
    "for _, row in (results4_dat - hard_ref_weights).iterrows():\n",
    "    plt.figure()\n",
    "    row[other_cols].hist()\n",
    "    plt.title('mixture %d absolute differences -- incorrect cell types only' % row.name)"
   ]
  },
  {
   "cell_type": "code",
   "execution_count": 187,
   "metadata": {
    "ExecuteTime": {
     "end_time": "2016-07-06T12:28:24.963130",
     "start_time": "2016-07-06T12:28:24.939282"
    },
    "collapsed": false,
    "run_control": {
     "frozen": false,
     "read_only": false
    }
   },
   "outputs": [
    {
     "data": {
      "text/html": [
       "<div>\n",
       "<table border=\"1\" class=\"dataframe\">\n",
       "  <thead>\n",
       "    <tr style=\"text-align: right;\">\n",
       "      <th></th>\n",
       "      <th>B cells naive</th>\n",
       "      <th>B cells memory</th>\n",
       "    </tr>\n",
       "  </thead>\n",
       "  <tbody>\n",
       "    <tr>\n",
       "      <th>0</th>\n",
       "      <td>-0.106118</td>\n",
       "      <td>0.035980</td>\n",
       "    </tr>\n",
       "    <tr>\n",
       "      <th>1</th>\n",
       "      <td>-0.104301</td>\n",
       "      <td>0.036218</td>\n",
       "    </tr>\n",
       "    <tr>\n",
       "      <th>2</th>\n",
       "      <td>-0.090453</td>\n",
       "      <td>0.005164</td>\n",
       "    </tr>\n",
       "  </tbody>\n",
       "</table>\n",
       "</div>"
      ],
      "text/plain": [
       "   B cells naive  B cells memory\n",
       "0      -0.106118        0.035980\n",
       "1      -0.104301        0.036218\n",
       "2      -0.090453        0.005164"
      ]
     },
     "execution_count": 187,
     "metadata": {},
     "output_type": "execute_result"
    }
   ],
   "source": [
    "(results4_dat - hard_ref_weights)[hard_cols]"
   ]
  },
  {
   "cell_type": "code",
   "execution_count": 188,
   "metadata": {
    "ExecuteTime": {
     "end_time": "2016-07-06T12:28:27.763743",
     "start_time": "2016-07-06T12:28:27.757050"
    },
    "collapsed": false,
    "run_control": {
     "frozen": false,
     "read_only": false
    }
   },
   "outputs": [
    {
     "data": {
      "text/plain": [
       "0    0.0\n",
       "1    0.0\n",
       "2    0.0\n",
       "Name: P-value, dtype: float64"
      ]
     },
     "execution_count": 188,
     "metadata": {},
     "output_type": "execute_result"
    }
   ],
   "source": [
    "results4['P-value']"
   ]
  },
  {
   "cell_type": "code",
   "execution_count": 189,
   "metadata": {
    "ExecuteTime": {
     "end_time": "2016-07-06T12:28:36.305302",
     "start_time": "2016-07-06T12:28:36.288502"
    },
    "collapsed": false,
    "run_control": {
     "frozen": false,
     "read_only": false
    }
   },
   "outputs": [
    {
     "name": "stdout",
     "output_type": "stream",
     "text": [
      "RMSE \t R^2 \t per mixture\n",
      "0.0245 \t 0.9711\n",
      "0.0241 \t 0.9719\n",
      "0.0206 \t 0.9794\n"
     ]
    }
   ],
   "source": [
    "print('RMSE \\t R^2 \\t per mixture')\n",
    "from sklearn.metrics import mean_squared_error as mse, r2_score\n",
    "for (_, y_true),(_, y_pred) in zip(hard_ref_weights.iterrows(), results4_dat.iterrows()):\n",
    "    print('%0.4f \\t %0.4f' % (np.sqrt(mse(y_true, y_pred)), r2_score(y_true, y_pred)))"
   ]
  },
  {
   "cell_type": "markdown",
   "metadata": {},
   "source": [
    "Consistently 10% off with at least one category. Diagnostics don't reveal that -- especially P value. Cibersort thinks it did a great job, but it did not.\n",
    "\n",
    "Also, have hallucination of CD4 memory resting T cells (1.7%), resting dendritic cells (1.3%). (All others are at < 1%)\n"
   ]
  },
  {
   "cell_type": "code",
   "execution_count": null,
   "metadata": {
    "collapsed": true,
    "run_control": {
     "frozen": false,
     "read_only": false
    }
   },
   "outputs": [],
   "source": []
  },
  {
   "cell_type": "markdown",
   "metadata": {},
   "source": [
    "\n",
    "# Superset classification\n",
    "\n",
    "The classification:\n",
    "\n",
    "<img src=\"https://upload.wikimedia.org/wikipedia/commons/thumb/f/f0/Hematopoiesis_simple.svg/2000px-Hematopoiesis_simple.svg.png\" width=\"75%\" />\n",
    "\n",
    "How LM22 reproduces it (partially):\n",
    "\n",
    "![Hierarchical clustering of Cibersort's LM22](lm22.png)\n",
    "\n"
   ]
  },
  {
   "cell_type": "markdown",
   "metadata": {},
   "source": [
    "\n",
    "A good test case may be:\n",
    "\n",
    "* B cells: \"plasma cells\" and \"B cells*\"\n",
    "* Myeloblasts: \"Monocytes\" + \"Macrophages.M0\" + \"Eosinophils\" + \"Neutrophils\"\n",
    "* T cells: \"T cells*\"\n",
    "\n",
    "These types are biologically relevant and also seem to be reproduced in the hierarchical clustering above, for the most part.\n",
    "\n",
    "We want a superset profile of what is in common between cell types -- not an average.\n",
    "So pass in all T cells together to the Cibersort basis construction mechanism, for example."
   ]
  },
  {
   "cell_type": "code",
   "execution_count": 190,
   "metadata": {
    "ExecuteTime": {
     "end_time": "2016-07-06T14:09:25.323612",
     "start_time": "2016-07-06T14:09:25.262158"
    },
    "collapsed": false,
    "run_control": {
     "frozen": false,
     "read_only": false
    }
   },
   "outputs": [
    {
     "data": {
      "text/html": [
       "<div>\n",
       "<table border=\"1\" class=\"dataframe\">\n",
       "  <thead>\n",
       "    <tr style=\"text-align: right;\">\n",
       "      <th></th>\n",
       "      <th>1</th>\n",
       "      <th>2</th>\n",
       "      <th>3</th>\n",
       "      <th>4</th>\n",
       "      <th>5</th>\n",
       "      <th>6</th>\n",
       "      <th>7</th>\n",
       "      <th>8</th>\n",
       "      <th>9</th>\n",
       "      <th>10</th>\n",
       "      <th>...</th>\n",
       "      <th>185</th>\n",
       "      <th>186</th>\n",
       "      <th>187</th>\n",
       "      <th>188</th>\n",
       "      <th>189</th>\n",
       "      <th>190</th>\n",
       "      <th>191</th>\n",
       "      <th>192</th>\n",
       "      <th>193</th>\n",
       "      <th>194</th>\n",
       "    </tr>\n",
       "    <tr>\n",
       "      <th>0</th>\n",
       "      <th></th>\n",
       "      <th></th>\n",
       "      <th></th>\n",
       "      <th></th>\n",
       "      <th></th>\n",
       "      <th></th>\n",
       "      <th></th>\n",
       "      <th></th>\n",
       "      <th></th>\n",
       "      <th></th>\n",
       "      <th></th>\n",
       "      <th></th>\n",
       "      <th></th>\n",
       "      <th></th>\n",
       "      <th></th>\n",
       "      <th></th>\n",
       "      <th></th>\n",
       "      <th></th>\n",
       "      <th></th>\n",
       "      <th></th>\n",
       "      <th></th>\n",
       "    </tr>\n",
       "  </thead>\n",
       "  <tbody>\n",
       "    <tr>\n",
       "      <th>B cells naive</th>\n",
       "      <td>0</td>\n",
       "      <td>0</td>\n",
       "      <td>0</td>\n",
       "      <td>0</td>\n",
       "      <td>0</td>\n",
       "      <td>0</td>\n",
       "      <td>0</td>\n",
       "      <td>0</td>\n",
       "      <td>0</td>\n",
       "      <td>0</td>\n",
       "      <td>...</td>\n",
       "      <td>0</td>\n",
       "      <td>0</td>\n",
       "      <td>0</td>\n",
       "      <td>2</td>\n",
       "      <td>2</td>\n",
       "      <td>2</td>\n",
       "      <td>0</td>\n",
       "      <td>2</td>\n",
       "      <td>0</td>\n",
       "      <td>2</td>\n",
       "    </tr>\n",
       "    <tr>\n",
       "      <th>B cells memory</th>\n",
       "      <td>0</td>\n",
       "      <td>0</td>\n",
       "      <td>0</td>\n",
       "      <td>0</td>\n",
       "      <td>0</td>\n",
       "      <td>0</td>\n",
       "      <td>0</td>\n",
       "      <td>0</td>\n",
       "      <td>0</td>\n",
       "      <td>0</td>\n",
       "      <td>...</td>\n",
       "      <td>0</td>\n",
       "      <td>0</td>\n",
       "      <td>0</td>\n",
       "      <td>2</td>\n",
       "      <td>2</td>\n",
       "      <td>2</td>\n",
       "      <td>0</td>\n",
       "      <td>2</td>\n",
       "      <td>0</td>\n",
       "      <td>2</td>\n",
       "    </tr>\n",
       "    <tr>\n",
       "      <th>Plasma cells</th>\n",
       "      <td>0</td>\n",
       "      <td>0</td>\n",
       "      <td>0</td>\n",
       "      <td>0</td>\n",
       "      <td>0</td>\n",
       "      <td>0</td>\n",
       "      <td>0</td>\n",
       "      <td>0</td>\n",
       "      <td>0</td>\n",
       "      <td>0</td>\n",
       "      <td>...</td>\n",
       "      <td>0</td>\n",
       "      <td>0</td>\n",
       "      <td>0</td>\n",
       "      <td>2</td>\n",
       "      <td>2</td>\n",
       "      <td>2</td>\n",
       "      <td>0</td>\n",
       "      <td>2</td>\n",
       "      <td>0</td>\n",
       "      <td>2</td>\n",
       "    </tr>\n",
       "    <tr>\n",
       "      <th>T cells CD8</th>\n",
       "      <td>0</td>\n",
       "      <td>0</td>\n",
       "      <td>0</td>\n",
       "      <td>0</td>\n",
       "      <td>0</td>\n",
       "      <td>0</td>\n",
       "      <td>0</td>\n",
       "      <td>0</td>\n",
       "      <td>0</td>\n",
       "      <td>0</td>\n",
       "      <td>...</td>\n",
       "      <td>0</td>\n",
       "      <td>0</td>\n",
       "      <td>0</td>\n",
       "      <td>2</td>\n",
       "      <td>2</td>\n",
       "      <td>2</td>\n",
       "      <td>0</td>\n",
       "      <td>2</td>\n",
       "      <td>0</td>\n",
       "      <td>2</td>\n",
       "    </tr>\n",
       "    <tr>\n",
       "      <th>T cells CD4 naive</th>\n",
       "      <td>0</td>\n",
       "      <td>0</td>\n",
       "      <td>0</td>\n",
       "      <td>0</td>\n",
       "      <td>0</td>\n",
       "      <td>0</td>\n",
       "      <td>0</td>\n",
       "      <td>0</td>\n",
       "      <td>0</td>\n",
       "      <td>0</td>\n",
       "      <td>...</td>\n",
       "      <td>0</td>\n",
       "      <td>0</td>\n",
       "      <td>0</td>\n",
       "      <td>1</td>\n",
       "      <td>1</td>\n",
       "      <td>1</td>\n",
       "      <td>0</td>\n",
       "      <td>2</td>\n",
       "      <td>0</td>\n",
       "      <td>2</td>\n",
       "    </tr>\n",
       "  </tbody>\n",
       "</table>\n",
       "<p>5 rows × 194 columns</p>\n",
       "</div>"
      ],
      "text/plain": [
       "                   1    2    3    4    5    6    7    8    9    10  ...   185  \\\n",
       "0                                                                   ...         \n",
       "B cells naive        0    0    0    0    0    0    0    0    0    0 ...     0   \n",
       "B cells memory       0    0    0    0    0    0    0    0    0    0 ...     0   \n",
       "Plasma cells         0    0    0    0    0    0    0    0    0    0 ...     0   \n",
       "T cells CD8          0    0    0    0    0    0    0    0    0    0 ...     0   \n",
       "T cells CD4 naive    0    0    0    0    0    0    0    0    0    0 ...     0   \n",
       "\n",
       "                   186  187  188  189  190  191  192  193  194  \n",
       "0                                                               \n",
       "B cells naive        0    0    2    2    2    0    2    0    2  \n",
       "B cells memory       0    0    2    2    2    0    2    0    2  \n",
       "Plasma cells         0    0    2    2    2    0    2    0    2  \n",
       "T cells CD8          0    0    2    2    2    0    2    0    2  \n",
       "T cells CD4 naive    0    0    1    1    1    0    2    0    2  \n",
       "\n",
       "[5 rows x 194 columns]"
      ]
     },
     "execution_count": 190,
     "metadata": {},
     "output_type": "execute_result"
    }
   ],
   "source": [
    "# from Variance\\ within\\ and\\ between\\ cell\\ types.ipynb\n",
    "lm22_orig_classes = pd.read_csv('curated_data/pure_samples/cibersort/LM22-classes.txt', sep='\\t', header=None)\n",
    "lm22_orig_classes = lm22_orig_classes.set_index(0)\n",
    "lm22_orig_classes.head()"
   ]
  },
  {
   "cell_type": "code",
   "execution_count": 38,
   "metadata": {
    "ExecuteTime": {
     "end_time": "2016-07-05T14:26:59.258458",
     "start_time": "2016-07-05T14:26:58.647800"
    },
    "collapsed": false,
    "run_control": {
     "frozen": false,
     "read_only": false
    }
   },
   "outputs": [
    {
     "data": {
      "text/plain": [
       "Index([u'Relabel',\n",
       "       u'A_LW_+BAFF_U133A_250303 [Chtanova_immune|A_LW_+BAFF_U133A_250303]',\n",
       "       u'A_LW_+BAFF_U133A_70303 [Chtanova_immune|A_LW_+BAFF_U133A_70303]',\n",
       "       u'A_LW_-BAFF_U133A_250303 [Chtanova_immune|A_LW_-BAFF_U133A_250303]',\n",
       "       u'A_LW_-BAFF_U133A_70303 [Chtanova_immune|A_LW_-BAFF_U133A_70303]',\n",
       "       u'A_LW_CD57+_U133A_030603 [Chtanova_immune|A_LW_CD57+_U133A_030603]',\n",
       "       u'A_LW_CD57+_U133A_121102 [Chtanova_immune|A_LW_CD57+_U133A_121102]',\n",
       "       u'A_LW_CD57-_U133A_030603 [Chtanova_immune|A_LW_CD57-_U133A_030603]',\n",
       "       u'A_LW_CD57-_U133A_121102 [Chtanova_immune|A_LW_CD57-_U133A_121102]',\n",
       "       u'A_LW_DC+BAFF_U133A_250304 [Chtanova_immune|A_LW_DC+BAFF_U133A_250304]',\n",
       "       ...\n",
       "       u'TEM_U133A_1 [TFH_E-MEXP-750|TEM_U133A_1]',\n",
       "       u'TEM_U133A_2 [TFH_E-MEXP-750|TEM_U133A_2]',\n",
       "       u'TEM_U133A_3 [TFH_E-MEXP-750|TEM_U133A_3]',\n",
       "       u'TN_U133A_1 [TFH_E-MEXP-750|TN_U133A_1]',\n",
       "       u'TN_U133A_2 [TFH_E-MEXP-750|TN_U133A_2]',\n",
       "       u'TN_U133A_3 [TFH_E-MEXP-750|TN_U133A_3]',\n",
       "       u'TH_1 [TREGs_GSE4527|GSM101518]', u'Treg_1 [TREGs_GSE4527|GSM101519]',\n",
       "       u'TH_2 [TREGs_GSE4527|GSM101520]', u'Treg_2 [TREGs_GSE4527|GSM101521]'],\n",
       "      dtype='object', length=195)"
      ]
     },
     "execution_count": 38,
     "metadata": {},
     "output_type": "execute_result"
    }
   ],
   "source": [
    "sample_names = pd.read_csv('curated_data/pure_samples/cibersort/LM22-ref-sample.txt', sep='\\t').columns\n",
    "sample_names"
   ]
  },
  {
   "cell_type": "code",
   "execution_count": 30,
   "metadata": {
    "ExecuteTime": {
     "end_time": "2016-07-05T13:54:06.804256",
     "start_time": "2016-07-05T13:54:06.760504"
    },
    "collapsed": false,
    "run_control": {
     "frozen": false,
     "read_only": false
    }
   },
   "outputs": [
    {
     "data": {
      "text/html": [
       "<div>\n",
       "<table border=\"1\" class=\"dataframe\">\n",
       "  <thead>\n",
       "    <tr style=\"text-align: right;\">\n",
       "      <th></th>\n",
       "      <th>1</th>\n",
       "      <th>2</th>\n",
       "      <th>3</th>\n",
       "      <th>4</th>\n",
       "      <th>5</th>\n",
       "      <th>6</th>\n",
       "      <th>7</th>\n",
       "      <th>8</th>\n",
       "      <th>9</th>\n",
       "      <th>10</th>\n",
       "      <th>...</th>\n",
       "      <th>185</th>\n",
       "      <th>186</th>\n",
       "      <th>187</th>\n",
       "      <th>188</th>\n",
       "      <th>189</th>\n",
       "      <th>190</th>\n",
       "      <th>191</th>\n",
       "      <th>192</th>\n",
       "      <th>193</th>\n",
       "      <th>194</th>\n",
       "    </tr>\n",
       "    <tr>\n",
       "      <th>0</th>\n",
       "      <th></th>\n",
       "      <th></th>\n",
       "      <th></th>\n",
       "      <th></th>\n",
       "      <th></th>\n",
       "      <th></th>\n",
       "      <th></th>\n",
       "      <th></th>\n",
       "      <th></th>\n",
       "      <th></th>\n",
       "      <th></th>\n",
       "      <th></th>\n",
       "      <th></th>\n",
       "      <th></th>\n",
       "      <th></th>\n",
       "      <th></th>\n",
       "      <th></th>\n",
       "      <th></th>\n",
       "      <th></th>\n",
       "      <th></th>\n",
       "      <th></th>\n",
       "    </tr>\n",
       "  </thead>\n",
       "  <tbody>\n",
       "    <tr>\n",
       "      <th>B cells naive</th>\n",
       "      <td>0</td>\n",
       "      <td>0</td>\n",
       "      <td>0</td>\n",
       "      <td>0</td>\n",
       "      <td>0</td>\n",
       "      <td>0</td>\n",
       "      <td>0</td>\n",
       "      <td>0</td>\n",
       "      <td>0</td>\n",
       "      <td>0</td>\n",
       "      <td>...</td>\n",
       "      <td>0</td>\n",
       "      <td>0</td>\n",
       "      <td>0</td>\n",
       "      <td>2</td>\n",
       "      <td>2</td>\n",
       "      <td>2</td>\n",
       "      <td>0</td>\n",
       "      <td>2</td>\n",
       "      <td>0</td>\n",
       "      <td>2</td>\n",
       "    </tr>\n",
       "    <tr>\n",
       "      <th>B cells memory</th>\n",
       "      <td>0</td>\n",
       "      <td>0</td>\n",
       "      <td>0</td>\n",
       "      <td>0</td>\n",
       "      <td>0</td>\n",
       "      <td>0</td>\n",
       "      <td>0</td>\n",
       "      <td>0</td>\n",
       "      <td>0</td>\n",
       "      <td>0</td>\n",
       "      <td>...</td>\n",
       "      <td>0</td>\n",
       "      <td>0</td>\n",
       "      <td>0</td>\n",
       "      <td>2</td>\n",
       "      <td>2</td>\n",
       "      <td>2</td>\n",
       "      <td>0</td>\n",
       "      <td>2</td>\n",
       "      <td>0</td>\n",
       "      <td>2</td>\n",
       "    </tr>\n",
       "    <tr>\n",
       "      <th>Plasma cells</th>\n",
       "      <td>0</td>\n",
       "      <td>0</td>\n",
       "      <td>0</td>\n",
       "      <td>0</td>\n",
       "      <td>0</td>\n",
       "      <td>0</td>\n",
       "      <td>0</td>\n",
       "      <td>0</td>\n",
       "      <td>0</td>\n",
       "      <td>0</td>\n",
       "      <td>...</td>\n",
       "      <td>0</td>\n",
       "      <td>0</td>\n",
       "      <td>0</td>\n",
       "      <td>2</td>\n",
       "      <td>2</td>\n",
       "      <td>2</td>\n",
       "      <td>0</td>\n",
       "      <td>2</td>\n",
       "      <td>0</td>\n",
       "      <td>2</td>\n",
       "    </tr>\n",
       "  </tbody>\n",
       "</table>\n",
       "<p>3 rows × 194 columns</p>\n",
       "</div>"
      ],
      "text/plain": [
       "                1    2    3    4    5    6    7    8    9    10  ...   185  \\\n",
       "0                                                                ...         \n",
       "B cells naive     0    0    0    0    0    0    0    0    0    0 ...     0   \n",
       "B cells memory    0    0    0    0    0    0    0    0    0    0 ...     0   \n",
       "Plasma cells      0    0    0    0    0    0    0    0    0    0 ...     0   \n",
       "\n",
       "                186  187  188  189  190  191  192  193  194  \n",
       "0                                                            \n",
       "B cells naive     0    0    2    2    2    0    2    0    2  \n",
       "B cells memory    0    0    2    2    2    0    2    0    2  \n",
       "Plasma cells      0    0    2    2    2    0    2    0    2  \n",
       "\n",
       "[3 rows x 194 columns]"
      ]
     },
     "execution_count": 30,
     "metadata": {},
     "output_type": "execute_result"
    }
   ],
   "source": [
    "bcells = lm22_orig_classes.loc[['B cells naive', 'B cells memory', 'Plasma cells'], :]\n",
    "bcells.head()"
   ]
  },
  {
   "cell_type": "code",
   "execution_count": 40,
   "metadata": {
    "ExecuteTime": {
     "end_time": "2016-07-05T14:27:58.722387",
     "start_time": "2016-07-05T14:27:58.683239"
    },
    "collapsed": false,
    "run_control": {
     "frozen": false,
     "read_only": false
    }
   },
   "outputs": [
    {
     "name": "stdout",
     "output_type": "stream",
     "text": [
      "Bcell-naive-1 [HG-U133A] [IRIS_GSE22886|GSM565308] 89\n",
      "Bcell-naive-2 [HG-U133A] [IRIS_GSE22886|GSM565309] 90\n",
      "Bcell-naive-3 [HG-U133A] [IRIS_GSE22886|GSM565310] 91\n",
      "Bcell-naive-4 [HG-U133A] [IRIS_GSE22886|GSM565311] 92\n",
      "Bcell-naive-5 [HG-U133A] [IRIS_GSE22886|GSM565312] 93\n",
      "Bcell-naive-6 [HG-U133A] [IRIS_GSE22886|GSM565313] 94\n",
      "Bcell-naive-7 [HG-U133A] [IRIS_GSE22886|GSM565314] 95\n",
      "Bcell-Memory_IgG_IgA-1 [HG-U133A] [IRIS_GSE22886|GSM565315] 96\n",
      "Bcell-Memory_IgG_IgA-2 [HG-U133A] [IRIS_GSE22886|GSM565316] 97\n",
      "Bcell-Memory_IgG_IgA-3 [HG-U133A] [IRIS_GSE22886|GSM565317] 98\n",
      "Bcell-Memory_IgG_IgA-4 [HG-U133A] [IRIS_GSE22886|GSM565318] 99\n",
      "Bcell-Memory_IgM-1 [HG-U133A] [IRIS_GSE22886|GSM565319] 100\n",
      "Bcell-Memory_IgM-2 [HG-U133A] [IRIS_GSE22886|GSM565320] 101\n",
      "Bcell-Memory_IgM-3 [HG-U133A] [IRIS_GSE22886|GSM565321] 102\n",
      "Bcell-Memory_IgM-4 [HG-U133A] [IRIS_GSE22886|GSM565322] 103\n",
      "PlasmaCell-FromPBMC-1 [HG-U133A] [IRIS_GSE22886|GSM565323] 104\n",
      "PlasmaCell-FromPBMC-2 [HG-U133A] [IRIS_GSE22886|GSM565324] 105\n",
      "PlasmaCell-FromPBMC-3 [HG-U133A] [IRIS_GSE22886|GSM565325] 106\n",
      "PlasmaCell-FromBoneMarrow-1 [HG-U133A] [IRIS_GSE22886|GSM565326] 107\n",
      "PlasmaCell-FromBoneMarrow-2 [HG-U133A] [IRIS_GSE22886|GSM565327] 108\n",
      "PlasmaCell-FromBoneMarrow-3 [HG-U133A] [IRIS_GSE22886|GSM565328] 109\n",
      "PlasmaCell-FromBoneMarrow-4 [HG-U133A] [IRIS_GSE22886|GSM565329] 110\n"
     ]
    },
    {
     "data": {
      "text/plain": [
       "array([0, 2, 1])"
      ]
     },
     "execution_count": 40,
     "metadata": {},
     "output_type": "execute_result"
    }
   ],
   "source": [
    "def combine_rows(col):\n",
    "    if (1 in col.unique() and 2 in col.unique()):\n",
    "        print(sample_names[col.name], col.name)\n",
    "    if 1 in col.unique():\n",
    "        return 1\n",
    "    if 2 in col.unique():\n",
    "        return 2\n",
    "    return 0\n",
    "bcells.apply(combine_rows).unique()"
   ]
  },
  {
   "cell_type": "code",
   "execution_count": 41,
   "metadata": {
    "ExecuteTime": {
     "end_time": "2016-07-05T14:28:10.983890",
     "start_time": "2016-07-05T14:28:10.925365"
    },
    "collapsed": false,
    "run_control": {
     "frozen": false,
     "read_only": false
    }
   },
   "outputs": [
    {
     "data": {
      "text/html": [
       "<div>\n",
       "<table border=\"1\" class=\"dataframe\">\n",
       "  <thead>\n",
       "    <tr style=\"text-align: right;\">\n",
       "      <th></th>\n",
       "      <th>89</th>\n",
       "      <th>90</th>\n",
       "      <th>91</th>\n",
       "      <th>92</th>\n",
       "      <th>93</th>\n",
       "      <th>94</th>\n",
       "      <th>95</th>\n",
       "      <th>96</th>\n",
       "      <th>97</th>\n",
       "      <th>98</th>\n",
       "      <th>...</th>\n",
       "      <th>100</th>\n",
       "      <th>101</th>\n",
       "      <th>102</th>\n",
       "      <th>103</th>\n",
       "      <th>104</th>\n",
       "      <th>105</th>\n",
       "      <th>106</th>\n",
       "      <th>107</th>\n",
       "      <th>108</th>\n",
       "      <th>109</th>\n",
       "    </tr>\n",
       "    <tr>\n",
       "      <th>0</th>\n",
       "      <th></th>\n",
       "      <th></th>\n",
       "      <th></th>\n",
       "      <th></th>\n",
       "      <th></th>\n",
       "      <th></th>\n",
       "      <th></th>\n",
       "      <th></th>\n",
       "      <th></th>\n",
       "      <th></th>\n",
       "      <th></th>\n",
       "      <th></th>\n",
       "      <th></th>\n",
       "      <th></th>\n",
       "      <th></th>\n",
       "      <th></th>\n",
       "      <th></th>\n",
       "      <th></th>\n",
       "      <th></th>\n",
       "      <th></th>\n",
       "      <th></th>\n",
       "    </tr>\n",
       "  </thead>\n",
       "  <tbody>\n",
       "    <tr>\n",
       "      <th>B cells naive</th>\n",
       "      <td>1</td>\n",
       "      <td>1</td>\n",
       "      <td>1</td>\n",
       "      <td>1</td>\n",
       "      <td>1</td>\n",
       "      <td>1</td>\n",
       "      <td>1</td>\n",
       "      <td>2</td>\n",
       "      <td>2</td>\n",
       "      <td>2</td>\n",
       "      <td>...</td>\n",
       "      <td>2</td>\n",
       "      <td>2</td>\n",
       "      <td>2</td>\n",
       "      <td>2</td>\n",
       "      <td>2</td>\n",
       "      <td>2</td>\n",
       "      <td>2</td>\n",
       "      <td>2</td>\n",
       "      <td>2</td>\n",
       "      <td>2</td>\n",
       "    </tr>\n",
       "    <tr>\n",
       "      <th>B cells memory</th>\n",
       "      <td>2</td>\n",
       "      <td>2</td>\n",
       "      <td>2</td>\n",
       "      <td>2</td>\n",
       "      <td>2</td>\n",
       "      <td>2</td>\n",
       "      <td>2</td>\n",
       "      <td>1</td>\n",
       "      <td>1</td>\n",
       "      <td>1</td>\n",
       "      <td>...</td>\n",
       "      <td>1</td>\n",
       "      <td>1</td>\n",
       "      <td>1</td>\n",
       "      <td>1</td>\n",
       "      <td>2</td>\n",
       "      <td>2</td>\n",
       "      <td>2</td>\n",
       "      <td>2</td>\n",
       "      <td>2</td>\n",
       "      <td>2</td>\n",
       "    </tr>\n",
       "    <tr>\n",
       "      <th>Plasma cells</th>\n",
       "      <td>2</td>\n",
       "      <td>2</td>\n",
       "      <td>2</td>\n",
       "      <td>2</td>\n",
       "      <td>2</td>\n",
       "      <td>2</td>\n",
       "      <td>2</td>\n",
       "      <td>2</td>\n",
       "      <td>2</td>\n",
       "      <td>2</td>\n",
       "      <td>...</td>\n",
       "      <td>2</td>\n",
       "      <td>2</td>\n",
       "      <td>2</td>\n",
       "      <td>2</td>\n",
       "      <td>1</td>\n",
       "      <td>1</td>\n",
       "      <td>1</td>\n",
       "      <td>1</td>\n",
       "      <td>1</td>\n",
       "      <td>1</td>\n",
       "    </tr>\n",
       "  </tbody>\n",
       "</table>\n",
       "<p>3 rows × 21 columns</p>\n",
       "</div>"
      ],
      "text/plain": [
       "                89   90   91   92   93   94   95   96   97   98  ...   100  \\\n",
       "0                                                                ...         \n",
       "B cells naive     1    1    1    1    1    1    1    2    2    2 ...     2   \n",
       "B cells memory    2    2    2    2    2    2    2    1    1    1 ...     1   \n",
       "Plasma cells      2    2    2    2    2    2    2    2    2    2 ...     2   \n",
       "\n",
       "                101  102  103  104  105  106  107  108  109  \n",
       "0                                                            \n",
       "B cells naive     2    2    2    2    2    2    2    2    2  \n",
       "B cells memory    1    1    1    2    2    2    2    2    2  \n",
       "Plasma cells      2    2    2    1    1    1    1    1    1  \n",
       "\n",
       "[3 rows x 21 columns]"
      ]
     },
     "execution_count": 41,
     "metadata": {},
     "output_type": "execute_result"
    }
   ],
   "source": [
    "bcells[list(range(89,110))]"
   ]
  },
  {
   "cell_type": "code",
   "execution_count": 49,
   "metadata": {
    "ExecuteTime": {
     "end_time": "2016-07-05T14:43:43.820956",
     "start_time": "2016-07-05T14:43:43.690936"
    },
    "collapsed": false,
    "run_control": {
     "frozen": false,
     "read_only": false
    }
   },
   "outputs": [
    {
     "name": "stdout",
     "output_type": "stream",
     "text": [
      "columns that are all 0\n",
      "A_LW_+BAFF_U133A_250303 [Chtanova_immune|A_LW_+BAFF_U133A_250303]\n",
      "A_LW_+BAFF_U133A_70303 [Chtanova_immune|A_LW_+BAFF_U133A_70303]\n",
      "A_LW_-BAFF_U133A_250303 [Chtanova_immune|A_LW_-BAFF_U133A_250303]\n",
      "A_LW_-BAFF_U133A_70303 [Chtanova_immune|A_LW_-BAFF_U133A_70303]\n",
      "A_LW_CD57+_U133A_030603 [Chtanova_immune|A_LW_CD57+_U133A_030603]\n",
      "A_LW_CD57+_U133A_121102 [Chtanova_immune|A_LW_CD57+_U133A_121102]\n",
      "A_LW_CD57-_U133A_030603 [Chtanova_immune|A_LW_CD57-_U133A_030603]\n",
      "A_LW_CD57-_U133A_121102 [Chtanova_immune|A_LW_CD57-_U133A_121102]\n",
      "A_LW_DC+BAFF_U133A_250304 [Chtanova_immune|A_LW_DC+BAFF_U133A_250304]\n",
      "A_LW_DC-BAFF_U133A_250304 [Chtanova_immune|A_LW_DC-BAFF_U133A_250304]\n",
      "A_LW_DC48hLPS_HC_U133A [Chtanova_immune|A_LW_DC48hLPS_HC_U133A]\n",
      "A_LW_DC48hLPS_U133A_200503 [Chtanova_immune|A_LW_DC48hLPS_U133A_200503]\n",
      "A_LW_DC6hLPS_HC_U133A [Chtanova_immune|A_LW_DC6hLPS_HC_U133A]\n",
      "A_LW_DC6hLPS_U133A_200503 [Chtanova_immune|A_LW_DC6hLPS_U133A_200503]\n",
      "A_LW_imDC_U133A_200503 [Chtanova_immune|A_LW_imDC_U133A_200503]\n",
      "A_LW_macro_LPS_HC_U133A [Chtanova_immune|A_LW_macro_LPS_HC_U133A]\n",
      "A_LW_macro_LPS_U133A_130503 [Chtanova_immune|A_LW_macro_LPS_U133A_130503]\n",
      "A_LW_macroctrl_U133A_130503 [Chtanova_immune|A_LW_macroctrl_U133A_130503]\n",
      "A_MF_CCR7+_U133A_190202 [Chtanova_immune|A_MF_CCR7+_U133A_190202]\n",
      "A_MF_CCR7-_U133A_190202 [Chtanova_immune|A_MF_CCR7-_U133A_190202]\n",
      "A_MF_CD57+_U133A_010502 [Chtanova_immune|A_MF_CD57+_U133A_010502]\n",
      "A_MF_CD57-_U133A_010502 [Chtanova_immune|A_MF_CD57-_U133A_010502]\n",
      "A_MF_TH1human_U133A_290502 [Chtanova_immune|A_MF_TH1human_U133A_290502]\n",
      "A_MF_TH2human_U133A_290502 [Chtanova_immune|A_MF_TH2human_U133A_290502]\n",
      "A_SZ_48hLPS_HCDC2_U133A [Chtanova_immune|A_SZ_48hLPS_HCDC2_U133A]\n",
      "A_SZ_48hLPSDC2_U133A_250603 [Chtanova_immune|A_SZ_48hLPSDC2_U133A_250603]\n",
      "A_SZ_6hLPS_HCDC2_U133A [Chtanova_immune|A_SZ_6hLPS_HCDC2_U133A]\n",
      "A_SZ_6hLPSDC2_U133A_250603 [Chtanova_immune|A_SZ_6hLPSDC2_U133A_250603]\n",
      "A_SZ_imDC2_U133A_250603 [Chtanova_immune|A_SZ_imDC2_U133A_250603]\n",
      "A_SZ_mac2cont_U133A_240603 [Chtanova_immune|A_SZ_mac2cont_U133A_240603]\n",
      "A_SZ_mac2LPS_HC_U133A [Chtanova_immune|A_SZ_mac2LPS_HC_U133A]\n",
      "A_SZ_mac2LPS_U133A_240603 [Chtanova_immune|A_SZ_mac2LPS_U133A_240603]\n",
      "A_TS_2CD19+_U133A_180204 [Chtanova_immune|A_TS_2CD19+_U133A_180204]\n",
      "A_TS_MDDC4ws+BAFF_U133A [Chtanova_immune|A_TS_MDDC4ws+BAFF_U133A]\n",
      "A_TS_MDDC4ws-BAFF_U133A [Chtanova_immune|A_TS_MDDC4ws-BAFF_U133A]\n",
      "A_TS_RN_CD19+_U133A_130104 [Chtanova_immune|A_TS_RN_CD19+_U133A_130104]\n",
      "A_TS_TC_Th1_U133A_141003 [Chtanova_immune|A_TS_TC_Th1_U133A_141003]\n",
      "A_TS_TC_Th2_U133A_141003 [Chtanova_immune|A_TS_TC_Th2_U133A_141003]\n",
      "CD4Tcell-N0-1 [HG-U133A] [IRIS_GSE22886|GSM565273]\n",
      "CD4Tcell-N0-2 [HG-U133A] [IRIS_GSE22886|GSM565274]\n",
      "CD4Tcell-N0-3 [HG-U133A] [IRIS_GSE22886|GSM565275]\n",
      "CD4Tcell-Th1-restimulated12hour-1 [HG-U133A] [IRIS_GSE22886|GSM565276]\n",
      "CD4Tcell-Th1-restimulated12hour-2 [HG-U133A] [IRIS_GSE22886|GSM565277]\n",
      "CD4Tcell-Th1-restimulated48hour-1 [HG-U133A] [IRIS_GSE22886|GSM565278]\n",
      "CD4Tcell-Th1-restimulated48hour-2 [HG-U133A] [IRIS_GSE22886|GSM565279]\n",
      "CD4Tcell-Th1-restimulated48hour-3 [HG-U133A] [IRIS_GSE22886|GSM565280]\n",
      "CD4Tcell-Th2-restimulated12hour-1 [HG-U133A] [IRIS_GSE22886|GSM565281]\n",
      "CD4Tcell-Th2-restimulated12hour-2 [HG-U133A] [IRIS_GSE22886|GSM565282]\n",
      "CD4Tcell-Th2-restimulated12hour-3 [HG-U133A] [IRIS_GSE22886|GSM565283]\n",
      "CD4Tcell-Th2-restimulated48hour-1 [HG-U133A] [IRIS_GSE22886|GSM565284]\n",
      "CD4Tcell-Th2-restimulated48hour-2 [HG-U133A] [IRIS_GSE22886|GSM565285]\n",
      "CD4Tcell-Th2-restimulated48hour-3 [HG-U133A] [IRIS_GSE22886|GSM565286]\n",
      "Monocyte-Day1-1 [HG-U133A] [IRIS_GSE22886|GSM565342]\n",
      "Monocyte-Day1-2 [HG-U133A] [IRIS_GSE22886|GSM565343]\n",
      "Monocyte-Day1-3 [HG-U133A] [IRIS_GSE22886|GSM565344]\n",
      "Monocyte-Day1-4 [HG-U133A] [IRIS_GSE22886|GSM565345]\n",
      "Monocyte-Day1-5 [HG-U133A] [IRIS_GSE22886|GSM565346]\n",
      "Monocyte-Day1-6 [HG-U133A] [IRIS_GSE22886|GSM565347]\n",
      "Monocyte-Day1-7 [HG-U133A] [IRIS_GSE22886|GSM565348]\n",
      "Monocyte-Day1-8 [HG-U133A] [IRIS_GSE22886|GSM565349]\n",
      "Monocyte-Day1-9 [HG-U133A] [IRIS_GSE22886|GSM565350]\n",
      "Monocyte-Day1-10 [HG-U133A] [IRIS_GSE22886|GSM565351]\n",
      "Monocyte-Day1-11 [HG-U133A] [IRIS_GSE22886|GSM565352]\n",
      "Monocyte-Day1-12 [HG-U133A] [IRIS_GSE22886|GSM565353]\n",
      "CXCR5-ICOS-lo_U133A_1 [TFH_E-MEXP-750|CXCR5-ICOS-lo_U133A_1]\n",
      "CXCR5-ICOS-lo_U133A_2 [TFH_E-MEXP-750|CXCR5-ICOS-lo_U133A_2]\n",
      "CXCR5-ICOS-lo_U133A_3 [TFH_E-MEXP-750|CXCR5-ICOS-lo_U133A_3]\n",
      "CXCR5loICOSint_U133A_1 [TFH_E-MEXP-750|CXCR5loICOSint_U133A_1]\n",
      "CXCR5loICOSint_U133A_2 [TFH_E-MEXP-750|CXCR5loICOSint_U133A_2]\n",
      "CXCR5loICOSint_U133A_3 [TFH_E-MEXP-750|CXCR5loICOSint_U133A_3]\n",
      "TCM1_U133A_1 [TFH_E-MEXP-750|TCM1_U133A_1]\n",
      "TCM1_U133A_2 [TFH_E-MEXP-750|TCM1_U133A_2]\n",
      "TCM1_U133A_3 [TFH_E-MEXP-750|TCM1_U133A_3]\n",
      "TCM_U133A_1 [TFH_E-MEXP-750|TCM_U133A_1]\n",
      "TCM_U133A_2 [TFH_E-MEXP-750|TCM_U133A_2]\n",
      "TCM_U133A_3 [TFH_E-MEXP-750|TCM_U133A_3]\n",
      "TEM_U133A_1 [TFH_E-MEXP-750|TEM_U133A_1]\n",
      "TEM_U133A_2 [TFH_E-MEXP-750|TEM_U133A_2]\n",
      "TEM_U133A_3 [TFH_E-MEXP-750|TEM_U133A_3]\n",
      "TH_1 [TREGs_GSE4527|GSM101518]\n",
      "TH_2 [TREGs_GSE4527|GSM101520]\n",
      "\n",
      "columns that have some 0s, 1s, and 2s\n",
      "\n",
      "columns that are all 0s and 1s\n",
      "\n",
      "columns that are all 1s and 2s\n",
      "A_LW_mastcellctrl_U133A [Chtanova_immune|A_LW_mastcellctrl_U133A]\n",
      "A_LW_mastcellIgE_U133A [Chtanova_immune|A_LW_mastcellIgE_U133A]\n",
      "A_LW_neutrophil_U133A [Chtanova_immune|A_LW_neutrophil_U133A]\n",
      "A_MF_2hrEosinophils_U133A [Chtanova_immune|A_MF_2hrEosinophils_U133A]\n",
      "A_MF_ControlEosinophil [Chtanova_immune|A_MF_ControlEosinophil]\n",
      "A_MF_ControlMASTCELL_U133A [Chtanova_immune|A_MF_ControlMASTCELL_U133A]\n",
      "A_MF_IgEMASTCELL_U133A [Chtanova_immune|A_MF_IgEMASTCELL_U133A]\n",
      "A_MF_neutrophils_U133A [Chtanova_immune|A_MF_neutrophils_U133A]\n",
      "A_TS_MSNeutroLPS_U133A [Chtanova_immune|A_TS_MSNeutroLPS_U133A]\n",
      "A_TS_RN_gdTcells_U133A [Chtanova_immune|A_TS_RN_gdTcells_U133A]\n",
      "A_TS_RN_gdTcellsREP_A [Chtanova_immune|A_TS_RN_gdTcellsREP_A]\n",
      "CD8Tcell-N0-1 [HG-U133A] [IRIS_GSE22886|GSM565269]\n",
      "CD8Tcell-N0-2 [HG-U133A] [IRIS_GSE22886|GSM565270]\n",
      "CD8Tcell-N0-3 [HG-U133A] [IRIS_GSE22886|GSM565271]\n",
      "CD8Tcell-N0-4 [HG-U133A] [IRIS_GSE22886|GSM565272]\n",
      "MemoryTcell-RO-unactivated-1 [HG-U133A] [IRIS_GSE22886|GSM565287]\n",
      "MemoryTcell-RO-unactivated-2 [HG-U133A] [IRIS_GSE22886|GSM565288]\n",
      "MemoryTcell-RO-unactivated-3 [HG-U133A] [IRIS_GSE22886|GSM565289]\n",
      "MemoryTcell-RO-activated-1 [HG-U133A] [IRIS_GSE22886|GSM565290]\n",
      "MemoryTcell-RO-activated-2 [HG-U133A] [IRIS_GSE22886|GSM565291]\n",
      "MemoryTcell-RO-activated-3 [HG-U133A] [IRIS_GSE22886|GSM565292]\n",
      "NKcell-control-1 [HG-U133A] [IRIS_GSE22886|GSM565293]\n",
      "NKcell-control-2 [HG-U133A] [IRIS_GSE22886|GSM565294]\n",
      "NKcell-control-3 [HG-U133A] [IRIS_GSE22886|GSM565295]\n",
      "NKcell-control-4 [HG-U133A] [IRIS_GSE22886|GSM565296]\n",
      "NKcell-IL2stimulated-1 [HG-U133A] [IRIS_GSE22886|GSM565297]\n",
      "NKcell-IL2stimulated-2 [HG-U133A] [IRIS_GSE22886|GSM565298]\n",
      "NKcell-IL2stimulated-3 [HG-U133A] [IRIS_GSE22886|GSM565299]\n",
      "NKcell-IL2stimulated-4 [HG-U133A] [IRIS_GSE22886|GSM565300]\n",
      "NKcell-IL2stimulated-5 [HG-U133A] [IRIS_GSE22886|GSM565301]\n",
      "NKcell-IL15stimulated-1 [HG-U133A] [IRIS_GSE22886|GSM565302]\n",
      "NKcell-IL15stimulated-2 [HG-U133A] [IRIS_GSE22886|GSM565303]\n",
      "NKcell-IL15stimulated-3 [HG-U133A] [IRIS_GSE22886|GSM565304]\n",
      "NKcell-IL15stimulated-4 [HG-U133A] [IRIS_GSE22886|GSM565305]\n",
      "NKcell-IL15stimulated-5 [HG-U133A] [IRIS_GSE22886|GSM565306]\n",
      "NKcell-IL15stimulated-6 [HG-U133A] [IRIS_GSE22886|GSM565307]\n",
      "Bcell-naive-1 [HG-U133A] [IRIS_GSE22886|GSM565308]\n",
      "Bcell-naive-2 [HG-U133A] [IRIS_GSE22886|GSM565309]\n",
      "Bcell-naive-3 [HG-U133A] [IRIS_GSE22886|GSM565310]\n",
      "Bcell-naive-4 [HG-U133A] [IRIS_GSE22886|GSM565311]\n",
      "Bcell-naive-5 [HG-U133A] [IRIS_GSE22886|GSM565312]\n",
      "Bcell-naive-6 [HG-U133A] [IRIS_GSE22886|GSM565313]\n",
      "Bcell-naive-7 [HG-U133A] [IRIS_GSE22886|GSM565314]\n",
      "Bcell-Memory_IgG_IgA-1 [HG-U133A] [IRIS_GSE22886|GSM565315]\n",
      "Bcell-Memory_IgG_IgA-2 [HG-U133A] [IRIS_GSE22886|GSM565316]\n",
      "Bcell-Memory_IgG_IgA-3 [HG-U133A] [IRIS_GSE22886|GSM565317]\n",
      "Bcell-Memory_IgG_IgA-4 [HG-U133A] [IRIS_GSE22886|GSM565318]\n",
      "Bcell-Memory_IgM-1 [HG-U133A] [IRIS_GSE22886|GSM565319]\n",
      "Bcell-Memory_IgM-2 [HG-U133A] [IRIS_GSE22886|GSM565320]\n",
      "Bcell-Memory_IgM-3 [HG-U133A] [IRIS_GSE22886|GSM565321]\n",
      "Bcell-Memory_IgM-4 [HG-U133A] [IRIS_GSE22886|GSM565322]\n",
      "PlasmaCell-FromPBMC-1 [HG-U133A] [IRIS_GSE22886|GSM565323]\n",
      "PlasmaCell-FromPBMC-2 [HG-U133A] [IRIS_GSE22886|GSM565324]\n",
      "PlasmaCell-FromPBMC-3 [HG-U133A] [IRIS_GSE22886|GSM565325]\n",
      "PlasmaCell-FromBoneMarrow-1 [HG-U133A] [IRIS_GSE22886|GSM565326]\n",
      "PlasmaCell-FromBoneMarrow-2 [HG-U133A] [IRIS_GSE22886|GSM565327]\n",
      "PlasmaCell-FromBoneMarrow-3 [HG-U133A] [IRIS_GSE22886|GSM565328]\n",
      "PlasmaCell-FromBoneMarrow-4 [HG-U133A] [IRIS_GSE22886|GSM565329]\n",
      "Monocyte-Day0-1 [HG-U133A] [IRIS_GSE22886|GSM565330]\n",
      "Monocyte-Day0-2 [HG-U133A] [IRIS_GSE22886|GSM565331]\n",
      "Monocyte-Day0-3 [HG-U133A] [IRIS_GSE22886|GSM565332]\n",
      "Monocyte-Day0-4 [HG-U133A] [IRIS_GSE22886|GSM565333]\n",
      "Monocyte-Day0-5 [HG-U133A] [IRIS_GSE22886|GSM565334]\n",
      "Monocyte-Day0-6 [HG-U133A] [IRIS_GSE22886|GSM565335]\n",
      "Monocyte-Day0-7 [HG-U133A] [IRIS_GSE22886|GSM565336]\n",
      "Monocyte-Day0-8 [HG-U133A] [IRIS_GSE22886|GSM565337]\n",
      "Monocyte-Day0-9 [HG-U133A] [IRIS_GSE22886|GSM565338]\n",
      "Monocyte-Day0-10 [HG-U133A] [IRIS_GSE22886|GSM565339]\n",
      "Monocyte-Day0-11 [HG-U133A] [IRIS_GSE22886|GSM565340]\n",
      "Monocyte-Day0-12 [HG-U133A] [IRIS_GSE22886|GSM565341]\n",
      "Monocyte-Day7-1 [HG-U133A] [IRIS_GSE22886|GSM565354]\n",
      "Monocyte-Day7-2 [HG-U133A] [IRIS_GSE22886|GSM565355]\n",
      "Monocyte-Day7-3 [HG-U133A] [IRIS_GSE22886|GSM565356]\n",
      "Monocyte-Day7-4 [HG-U133A] [IRIS_GSE22886|GSM565357]\n",
      "Monocyte-Day7-5 [HG-U133A] [IRIS_GSE22886|GSM565358]\n",
      "Monocyte-Day7-6 [HG-U133A] [IRIS_GSE22886|GSM565359]\n",
      "Monocyte-Day7-7 [HG-U133A] [IRIS_GSE22886|GSM565360]\n",
      "Monocyte-Day7-8 [HG-U133A] [IRIS_GSE22886|GSM565361]\n",
      "Monocyte-Day7-9 [HG-U133A] [IRIS_GSE22886|GSM565362]\n",
      "Monocyte-Day7-10 [HG-U133A] [IRIS_GSE22886|GSM565363]\n",
      "Monocyte-Day7-11 [HG-U133A] [IRIS_GSE22886|GSM565364]\n",
      "Monocyte-Day7-12 [HG-U133A] [IRIS_GSE22886|GSM565365]\n",
      "DendriticCell-Control-1 [HG-U133A] [IRIS_GSE22886|GSM565366]\n",
      "DendriticCell-Control-2 [HG-U133A] [IRIS_GSE22886|GSM565367]\n",
      "DendriticCell-Control-3 [HG-U133A] [IRIS_GSE22886|GSM565368]\n",
      "DendriticCell-Control-4 [HG-U133A] [IRIS_GSE22886|GSM565369]\n",
      "DendriticCell-Control-5 [HG-U133A] [IRIS_GSE22886|GSM565370]\n",
      "DendriticCell-Control-6 [HG-U133A] [IRIS_GSE22886|GSM565371]\n",
      "DendriticCell-LPSstimulated-1 [HG-U133A] [IRIS_GSE22886|GSM565372]\n",
      "DendriticCell-LPSstimulated-2 [HG-U133A] [IRIS_GSE22886|GSM565373]\n",
      "DendriticCell-LPSstimulated-3 [HG-U133A] [IRIS_GSE22886|GSM565374]\n",
      "DendriticCell-LPSstimulated-4 [HG-U133A] [IRIS_GSE22886|GSM565375]\n",
      "DendriticCell-LPSstimulated-5 [HG-U133A] [IRIS_GSE22886|GSM565376]\n",
      "DendriticCell-LPSstimulated-6 [HG-U133A] [IRIS_GSE22886|GSM565377]\n",
      "Neutrophil-Resting-1 [HG-U133A] [IRIS_GSE22886|GSM565378]\n",
      "Neutrophil-Resting-2 [HG-U133A] [IRIS_GSE22886|GSM565379]\n",
      "Neutrophil-Resting-3 [HG-U133A] [IRIS_GSE22886|GSM565380]\n",
      "Neutrophil-Resting-4 [HG-U133A] [IRIS_GSE22886|GSM565381]\n",
      "Neutrophil-Resting-5 [HG-U133A] [IRIS_GSE22886|GSM565382]\n",
      "classical or M1 activated macrophages, biological rep1 HG-U133A [M1_M2_GSE7138|GSM115055]\n",
      "classical or M1 activated macrophages, biological rep2 HG-U133A [M1_M2_GSE7138|GSM115056]\n",
      "classical or M1 activated macrophages, biological rep3 HG-U133A [M1_M2_GSE7138|GSM115057]\n",
      "Alternative or M2 activated macrophages, biological rep1 HG-U133A [M1_M2_GSE7138|GSM115058]\n",
      "Alternative or M2 activated macrophages, biological rep2 HG-U133A [M1_M2_GSE7138|GSM115059]\n",
      "Alternative or M2 activated macrophages, biological rep3 HG-U133A [M1_M2_GSE7138|GSM115060]\n",
      "CXCR5hiICOShi_U133A_1 [TFH_E-MEXP-750|CXCR5hiICOShi_U133A_1]\n",
      "CXCR5hiICOShi_U133A_2 [TFH_E-MEXP-750|CXCR5hiICOShi_U133A_2]\n",
      "CXCR5hiICOShi_U133A_3 [TFH_E-MEXP-750|CXCR5hiICOShi_U133A_3]\n",
      "TN_U133A_1 [TFH_E-MEXP-750|TN_U133A_1]\n",
      "TN_U133A_2 [TFH_E-MEXP-750|TN_U133A_2]\n",
      "TN_U133A_3 [TFH_E-MEXP-750|TN_U133A_3]\n",
      "Treg_1 [TREGs_GSE4527|GSM101519]\n",
      "Treg_2 [TREGs_GSE4527|GSM101521]\n"
     ]
    }
   ],
   "source": [
    "def test_f(col):\n",
    "    if all(col == 0):\n",
    "        print(sample_names[col.name])\n",
    "print('columns that are all 0')\n",
    "_ = lm22_orig_classes.apply(test_f)\n",
    "\n",
    "print()\n",
    "\n",
    "def test_f2(col):\n",
    "    if len(col.unique()) == 3:\n",
    "        print(sample_names[col.name])\n",
    "print('columns that have some 0s, 1s, and 2s')\n",
    "_ = lm22_orig_classes.apply(test_f2)\n",
    "\n",
    "print()\n",
    "\n",
    "def test_f3(col):\n",
    "    if len(col.unique()) == 2 and not any(col==2):\n",
    "        print(sample_names[col.name])\n",
    "print('columns that are all 0s and 1s')\n",
    "_ = lm22_orig_classes.apply(test_f3)\n",
    "\n",
    "print()\n",
    "\n",
    "def test_f4(col):\n",
    "    if len(col.unique()) == 2 and not any(col==0):\n",
    "        print(sample_names[col.name])\n",
    "print('columns that are all 1s and 2s')\n",
    "_ = lm22_orig_classes.apply(test_f4)\n"
   ]
  },
  {
   "cell_type": "markdown",
   "metadata": {},
   "source": [
    "\n",
    "What do 0,1,2 mean? No columns have all three and no columns have only 0s and 1s. All columns either have all 1s and 2s or all 0s. Columns with all 0s are never compared against.\n",
    "\n",
    "So to form our own classes we want to keep columns that are all 0s as all 0s, put 1s for columns we care about, and 2s for everything else."
   ]
  },
  {
   "cell_type": "code",
   "execution_count": 51,
   "metadata": {
    "ExecuteTime": {
     "end_time": "2016-07-05T14:49:16.815975",
     "start_time": "2016-07-05T14:49:16.789249"
    },
    "collapsed": false,
    "run_control": {
     "frozen": false,
     "read_only": false
    }
   },
   "outputs": [
    {
     "data": {
      "text/plain": [
       "array([0, 2, 1])"
      ]
     },
     "execution_count": 51,
     "metadata": {},
     "output_type": "execute_result"
    }
   ],
   "source": [
    "def combine_rows(col):\n",
    "    # if we have at least 1 zero in this filtered list, then it's a column of all 0s \n",
    "    # keep it that way\n",
    "    if 0 in col.unique():\n",
    "        return 0\n",
    "    if 1 in col.unique():\n",
    "        return 1\n",
    "    return 2\n",
    "bcells.apply(combine_rows).unique()"
   ]
  },
  {
   "cell_type": "code",
   "execution_count": 57,
   "metadata": {
    "ExecuteTime": {
     "end_time": "2016-07-05T14:53:50.561970",
     "start_time": "2016-07-05T14:53:50.552534"
    },
    "collapsed": false,
    "run_control": {
     "frozen": false,
     "read_only": false
    }
   },
   "outputs": [
    {
     "name": "stdout",
     "output_type": "stream",
     "text": [
      "T cells CD8\n",
      "T cells CD4 naive\n",
      "T cells CD4 memory resting\n",
      "T cells CD4 memory activated\n",
      "T cells follicular helper\n",
      "T cells gamma delta\n",
      "T cells regulatory (Tregs)\n"
     ]
    }
   ],
   "source": [
    "for c in lm22_orig_classes.index:\n",
    "    if 'T cell' in c:\n",
    "        print(c)"
   ]
  },
  {
   "cell_type": "code",
   "execution_count": 58,
   "metadata": {
    "ExecuteTime": {
     "end_time": "2016-07-05T14:55:01.407732",
     "start_time": "2016-07-05T14:55:01.319239"
    },
    "collapsed": false,
    "run_control": {
     "frozen": false,
     "read_only": false
    }
   },
   "outputs": [
    {
     "data": {
      "text/html": [
       "<div>\n",
       "<table border=\"1\" class=\"dataframe\">\n",
       "  <thead>\n",
       "    <tr style=\"text-align: right;\">\n",
       "      <th></th>\n",
       "      <th>1</th>\n",
       "      <th>2</th>\n",
       "      <th>3</th>\n",
       "      <th>4</th>\n",
       "      <th>5</th>\n",
       "      <th>6</th>\n",
       "      <th>7</th>\n",
       "      <th>8</th>\n",
       "      <th>9</th>\n",
       "      <th>10</th>\n",
       "      <th>...</th>\n",
       "      <th>185</th>\n",
       "      <th>186</th>\n",
       "      <th>187</th>\n",
       "      <th>188</th>\n",
       "      <th>189</th>\n",
       "      <th>190</th>\n",
       "      <th>191</th>\n",
       "      <th>192</th>\n",
       "      <th>193</th>\n",
       "      <th>194</th>\n",
       "    </tr>\n",
       "    <tr>\n",
       "      <th>0</th>\n",
       "      <th></th>\n",
       "      <th></th>\n",
       "      <th></th>\n",
       "      <th></th>\n",
       "      <th></th>\n",
       "      <th></th>\n",
       "      <th></th>\n",
       "      <th></th>\n",
       "      <th></th>\n",
       "      <th></th>\n",
       "      <th></th>\n",
       "      <th></th>\n",
       "      <th></th>\n",
       "      <th></th>\n",
       "      <th></th>\n",
       "      <th></th>\n",
       "      <th></th>\n",
       "      <th></th>\n",
       "      <th></th>\n",
       "      <th></th>\n",
       "      <th></th>\n",
       "    </tr>\n",
       "  </thead>\n",
       "  <tbody>\n",
       "    <tr>\n",
       "      <th>T cells CD8</th>\n",
       "      <td>0</td>\n",
       "      <td>0</td>\n",
       "      <td>0</td>\n",
       "      <td>0</td>\n",
       "      <td>0</td>\n",
       "      <td>0</td>\n",
       "      <td>0</td>\n",
       "      <td>0</td>\n",
       "      <td>0</td>\n",
       "      <td>0</td>\n",
       "      <td>...</td>\n",
       "      <td>0</td>\n",
       "      <td>0</td>\n",
       "      <td>0</td>\n",
       "      <td>2</td>\n",
       "      <td>2</td>\n",
       "      <td>2</td>\n",
       "      <td>0</td>\n",
       "      <td>2</td>\n",
       "      <td>0</td>\n",
       "      <td>2</td>\n",
       "    </tr>\n",
       "    <tr>\n",
       "      <th>T cells CD4 naive</th>\n",
       "      <td>0</td>\n",
       "      <td>0</td>\n",
       "      <td>0</td>\n",
       "      <td>0</td>\n",
       "      <td>0</td>\n",
       "      <td>0</td>\n",
       "      <td>0</td>\n",
       "      <td>0</td>\n",
       "      <td>0</td>\n",
       "      <td>0</td>\n",
       "      <td>...</td>\n",
       "      <td>0</td>\n",
       "      <td>0</td>\n",
       "      <td>0</td>\n",
       "      <td>1</td>\n",
       "      <td>1</td>\n",
       "      <td>1</td>\n",
       "      <td>0</td>\n",
       "      <td>2</td>\n",
       "      <td>0</td>\n",
       "      <td>2</td>\n",
       "    </tr>\n",
       "    <tr>\n",
       "      <th>T cells CD4 memory resting</th>\n",
       "      <td>0</td>\n",
       "      <td>0</td>\n",
       "      <td>0</td>\n",
       "      <td>0</td>\n",
       "      <td>0</td>\n",
       "      <td>0</td>\n",
       "      <td>0</td>\n",
       "      <td>0</td>\n",
       "      <td>0</td>\n",
       "      <td>0</td>\n",
       "      <td>...</td>\n",
       "      <td>0</td>\n",
       "      <td>0</td>\n",
       "      <td>0</td>\n",
       "      <td>2</td>\n",
       "      <td>2</td>\n",
       "      <td>2</td>\n",
       "      <td>0</td>\n",
       "      <td>2</td>\n",
       "      <td>0</td>\n",
       "      <td>2</td>\n",
       "    </tr>\n",
       "    <tr>\n",
       "      <th>T cells CD4 memory activated</th>\n",
       "      <td>0</td>\n",
       "      <td>0</td>\n",
       "      <td>0</td>\n",
       "      <td>0</td>\n",
       "      <td>0</td>\n",
       "      <td>0</td>\n",
       "      <td>0</td>\n",
       "      <td>0</td>\n",
       "      <td>0</td>\n",
       "      <td>0</td>\n",
       "      <td>...</td>\n",
       "      <td>0</td>\n",
       "      <td>0</td>\n",
       "      <td>0</td>\n",
       "      <td>2</td>\n",
       "      <td>2</td>\n",
       "      <td>2</td>\n",
       "      <td>0</td>\n",
       "      <td>2</td>\n",
       "      <td>0</td>\n",
       "      <td>2</td>\n",
       "    </tr>\n",
       "    <tr>\n",
       "      <th>T cells follicular helper</th>\n",
       "      <td>0</td>\n",
       "      <td>0</td>\n",
       "      <td>0</td>\n",
       "      <td>0</td>\n",
       "      <td>0</td>\n",
       "      <td>0</td>\n",
       "      <td>0</td>\n",
       "      <td>0</td>\n",
       "      <td>0</td>\n",
       "      <td>0</td>\n",
       "      <td>...</td>\n",
       "      <td>0</td>\n",
       "      <td>0</td>\n",
       "      <td>0</td>\n",
       "      <td>2</td>\n",
       "      <td>2</td>\n",
       "      <td>2</td>\n",
       "      <td>0</td>\n",
       "      <td>2</td>\n",
       "      <td>0</td>\n",
       "      <td>2</td>\n",
       "    </tr>\n",
       "  </tbody>\n",
       "</table>\n",
       "<p>5 rows × 194 columns</p>\n",
       "</div>"
      ],
      "text/plain": [
       "                              1    2    3    4    5    6    7    8    9    \\\n",
       "0                                                                           \n",
       "T cells CD8                     0    0    0    0    0    0    0    0    0   \n",
       "T cells CD4 naive               0    0    0    0    0    0    0    0    0   \n",
       "T cells CD4 memory resting      0    0    0    0    0    0    0    0    0   \n",
       "T cells CD4 memory activated    0    0    0    0    0    0    0    0    0   \n",
       "T cells follicular helper       0    0    0    0    0    0    0    0    0   \n",
       "\n",
       "                              10  ...   185  186  187  188  189  190  191  \\\n",
       "0                                 ...                                       \n",
       "T cells CD8                     0 ...     0    0    0    2    2    2    0   \n",
       "T cells CD4 naive               0 ...     0    0    0    1    1    1    0   \n",
       "T cells CD4 memory resting      0 ...     0    0    0    2    2    2    0   \n",
       "T cells CD4 memory activated    0 ...     0    0    0    2    2    2    0   \n",
       "T cells follicular helper       0 ...     0    0    0    2    2    2    0   \n",
       "\n",
       "                              192  193  194  \n",
       "0                                            \n",
       "T cells CD8                     2    0    2  \n",
       "T cells CD4 naive               2    0    2  \n",
       "T cells CD4 memory resting      2    0    2  \n",
       "T cells CD4 memory activated    2    0    2  \n",
       "T cells follicular helper       2    0    2  \n",
       "\n",
       "[5 rows x 194 columns]"
      ]
     },
     "execution_count": 58,
     "metadata": {},
     "output_type": "execute_result"
    }
   ],
   "source": [
    "tcells = lm22_orig_classes.loc[[\n",
    "        'T cells CD8',\n",
    "        'T cells CD4 naive',\n",
    "        'T cells CD4 memory resting',\n",
    "        'T cells CD4 memory activated',\n",
    "        'T cells follicular helper',\n",
    "        #'T cells gamma delta', # exclude because these are weird\n",
    "        'T cells regulatory (Tregs)'\n",
    "                               ], :]\n",
    "tcells.head()"
   ]
  },
  {
   "cell_type": "code",
   "execution_count": 60,
   "metadata": {
    "ExecuteTime": {
     "end_time": "2016-07-05T14:55:48.094268",
     "start_time": "2016-07-05T14:55:48.079684"
    },
    "collapsed": false,
    "run_control": {
     "frozen": false,
     "read_only": false
    }
   },
   "outputs": [
    {
     "name": "stdout",
     "output_type": "stream",
     "text": [
      "Index([u'B cells naive', u'B cells memory', u'Plasma cells', u'T cells CD8',\n",
      "       u'T cells CD4 naive', u'T cells CD4 memory resting',\n",
      "       u'T cells CD4 memory activated', u'T cells follicular helper',\n",
      "       u'T cells gamma delta', u'T cells regulatory (Tregs)',\n",
      "       u'NK cells resting', u'NK cells activated', u'Monocytes',\n",
      "       u'Macrophages M0', u'Macrophages M1', u'Macrophages M2',\n",
      "       u'Dendritic cells resting', u'Dendritic cells activated',\n",
      "       u'Mast cells resting', u'Mast cells activated', u'Eosinophils',\n",
      "       u'Neutrophils'],\n",
      "      dtype='object', name=0)\n"
     ]
    }
   ],
   "source": [
    "print(lm22_orig_classes.index)"
   ]
  },
  {
   "cell_type": "code",
   "execution_count": 61,
   "metadata": {
    "ExecuteTime": {
     "end_time": "2016-07-05T14:56:59.302883",
     "start_time": "2016-07-05T14:56:59.207142"
    },
    "collapsed": false,
    "run_control": {
     "frozen": false,
     "read_only": false
    }
   },
   "outputs": [
    {
     "data": {
      "text/html": [
       "<div>\n",
       "<table border=\"1\" class=\"dataframe\">\n",
       "  <thead>\n",
       "    <tr style=\"text-align: right;\">\n",
       "      <th></th>\n",
       "      <th>1</th>\n",
       "      <th>2</th>\n",
       "      <th>3</th>\n",
       "      <th>4</th>\n",
       "      <th>5</th>\n",
       "      <th>6</th>\n",
       "      <th>7</th>\n",
       "      <th>8</th>\n",
       "      <th>9</th>\n",
       "      <th>10</th>\n",
       "      <th>...</th>\n",
       "      <th>185</th>\n",
       "      <th>186</th>\n",
       "      <th>187</th>\n",
       "      <th>188</th>\n",
       "      <th>189</th>\n",
       "      <th>190</th>\n",
       "      <th>191</th>\n",
       "      <th>192</th>\n",
       "      <th>193</th>\n",
       "      <th>194</th>\n",
       "    </tr>\n",
       "    <tr>\n",
       "      <th>0</th>\n",
       "      <th></th>\n",
       "      <th></th>\n",
       "      <th></th>\n",
       "      <th></th>\n",
       "      <th></th>\n",
       "      <th></th>\n",
       "      <th></th>\n",
       "      <th></th>\n",
       "      <th></th>\n",
       "      <th></th>\n",
       "      <th></th>\n",
       "      <th></th>\n",
       "      <th></th>\n",
       "      <th></th>\n",
       "      <th></th>\n",
       "      <th></th>\n",
       "      <th></th>\n",
       "      <th></th>\n",
       "      <th></th>\n",
       "      <th></th>\n",
       "      <th></th>\n",
       "    </tr>\n",
       "  </thead>\n",
       "  <tbody>\n",
       "    <tr>\n",
       "      <th>Monocytes</th>\n",
       "      <td>0</td>\n",
       "      <td>0</td>\n",
       "      <td>0</td>\n",
       "      <td>0</td>\n",
       "      <td>0</td>\n",
       "      <td>0</td>\n",
       "      <td>0</td>\n",
       "      <td>0</td>\n",
       "      <td>0</td>\n",
       "      <td>0</td>\n",
       "      <td>...</td>\n",
       "      <td>0</td>\n",
       "      <td>0</td>\n",
       "      <td>0</td>\n",
       "      <td>2</td>\n",
       "      <td>2</td>\n",
       "      <td>2</td>\n",
       "      <td>0</td>\n",
       "      <td>2</td>\n",
       "      <td>0</td>\n",
       "      <td>2</td>\n",
       "    </tr>\n",
       "    <tr>\n",
       "      <th>Macrophages M0</th>\n",
       "      <td>0</td>\n",
       "      <td>0</td>\n",
       "      <td>0</td>\n",
       "      <td>0</td>\n",
       "      <td>0</td>\n",
       "      <td>0</td>\n",
       "      <td>0</td>\n",
       "      <td>0</td>\n",
       "      <td>0</td>\n",
       "      <td>0</td>\n",
       "      <td>...</td>\n",
       "      <td>0</td>\n",
       "      <td>0</td>\n",
       "      <td>0</td>\n",
       "      <td>2</td>\n",
       "      <td>2</td>\n",
       "      <td>2</td>\n",
       "      <td>0</td>\n",
       "      <td>2</td>\n",
       "      <td>0</td>\n",
       "      <td>2</td>\n",
       "    </tr>\n",
       "    <tr>\n",
       "      <th>Eosinophils</th>\n",
       "      <td>0</td>\n",
       "      <td>0</td>\n",
       "      <td>0</td>\n",
       "      <td>0</td>\n",
       "      <td>0</td>\n",
       "      <td>0</td>\n",
       "      <td>0</td>\n",
       "      <td>0</td>\n",
       "      <td>0</td>\n",
       "      <td>0</td>\n",
       "      <td>...</td>\n",
       "      <td>0</td>\n",
       "      <td>0</td>\n",
       "      <td>0</td>\n",
       "      <td>2</td>\n",
       "      <td>2</td>\n",
       "      <td>2</td>\n",
       "      <td>0</td>\n",
       "      <td>2</td>\n",
       "      <td>0</td>\n",
       "      <td>2</td>\n",
       "    </tr>\n",
       "    <tr>\n",
       "      <th>Neutrophils</th>\n",
       "      <td>0</td>\n",
       "      <td>0</td>\n",
       "      <td>0</td>\n",
       "      <td>0</td>\n",
       "      <td>0</td>\n",
       "      <td>0</td>\n",
       "      <td>0</td>\n",
       "      <td>0</td>\n",
       "      <td>0</td>\n",
       "      <td>0</td>\n",
       "      <td>...</td>\n",
       "      <td>0</td>\n",
       "      <td>0</td>\n",
       "      <td>0</td>\n",
       "      <td>2</td>\n",
       "      <td>2</td>\n",
       "      <td>2</td>\n",
       "      <td>0</td>\n",
       "      <td>2</td>\n",
       "      <td>0</td>\n",
       "      <td>2</td>\n",
       "    </tr>\n",
       "  </tbody>\n",
       "</table>\n",
       "<p>4 rows × 194 columns</p>\n",
       "</div>"
      ],
      "text/plain": [
       "                1    2    3    4    5    6    7    8    9    10  ...   185  \\\n",
       "0                                                                ...         \n",
       "Monocytes         0    0    0    0    0    0    0    0    0    0 ...     0   \n",
       "Macrophages M0    0    0    0    0    0    0    0    0    0    0 ...     0   \n",
       "Eosinophils       0    0    0    0    0    0    0    0    0    0 ...     0   \n",
       "Neutrophils       0    0    0    0    0    0    0    0    0    0 ...     0   \n",
       "\n",
       "                186  187  188  189  190  191  192  193  194  \n",
       "0                                                            \n",
       "Monocytes         0    0    2    2    2    0    2    0    2  \n",
       "Macrophages M0    0    0    2    2    2    0    2    0    2  \n",
       "Eosinophils       0    0    2    2    2    0    2    0    2  \n",
       "Neutrophils       0    0    2    2    2    0    2    0    2  \n",
       "\n",
       "[4 rows x 194 columns]"
      ]
     },
     "execution_count": 61,
     "metadata": {},
     "output_type": "execute_result"
    }
   ],
   "source": [
    "myeloblasts = lm22_orig_classes.loc[['Monocytes',\n",
    "                                     'Macrophages M0',\n",
    "                                     'Eosinophils',\n",
    "                                     'Neutrophils'\n",
    "                                    ], :]\n",
    "myeloblasts.head()"
   ]
  },
  {
   "cell_type": "code",
   "execution_count": 64,
   "metadata": {
    "ExecuteTime": {
     "end_time": "2016-07-05T14:58:21.851762",
     "start_time": "2016-07-05T14:58:21.767859"
    },
    "collapsed": false,
    "run_control": {
     "frozen": false,
     "read_only": false
    }
   },
   "outputs": [
    {
     "data": {
      "text/html": [
       "<div>\n",
       "<table border=\"1\" class=\"dataframe\">\n",
       "  <thead>\n",
       "    <tr style=\"text-align: right;\">\n",
       "      <th></th>\n",
       "      <th>1</th>\n",
       "      <th>2</th>\n",
       "      <th>3</th>\n",
       "      <th>4</th>\n",
       "      <th>5</th>\n",
       "      <th>6</th>\n",
       "      <th>7</th>\n",
       "      <th>8</th>\n",
       "      <th>9</th>\n",
       "      <th>10</th>\n",
       "      <th>...</th>\n",
       "      <th>185</th>\n",
       "      <th>186</th>\n",
       "      <th>187</th>\n",
       "      <th>188</th>\n",
       "      <th>189</th>\n",
       "      <th>190</th>\n",
       "      <th>191</th>\n",
       "      <th>192</th>\n",
       "      <th>193</th>\n",
       "      <th>194</th>\n",
       "    </tr>\n",
       "  </thead>\n",
       "  <tbody>\n",
       "    <tr>\n",
       "      <th>B cells</th>\n",
       "      <td>0</td>\n",
       "      <td>0</td>\n",
       "      <td>0</td>\n",
       "      <td>0</td>\n",
       "      <td>0</td>\n",
       "      <td>0</td>\n",
       "      <td>0</td>\n",
       "      <td>0</td>\n",
       "      <td>0</td>\n",
       "      <td>0</td>\n",
       "      <td>...</td>\n",
       "      <td>0</td>\n",
       "      <td>0</td>\n",
       "      <td>0</td>\n",
       "      <td>2</td>\n",
       "      <td>2</td>\n",
       "      <td>2</td>\n",
       "      <td>0</td>\n",
       "      <td>2</td>\n",
       "      <td>0</td>\n",
       "      <td>2</td>\n",
       "    </tr>\n",
       "    <tr>\n",
       "      <th>Myeloblasts</th>\n",
       "      <td>0</td>\n",
       "      <td>0</td>\n",
       "      <td>0</td>\n",
       "      <td>0</td>\n",
       "      <td>0</td>\n",
       "      <td>0</td>\n",
       "      <td>0</td>\n",
       "      <td>0</td>\n",
       "      <td>0</td>\n",
       "      <td>0</td>\n",
       "      <td>...</td>\n",
       "      <td>0</td>\n",
       "      <td>0</td>\n",
       "      <td>0</td>\n",
       "      <td>2</td>\n",
       "      <td>2</td>\n",
       "      <td>2</td>\n",
       "      <td>0</td>\n",
       "      <td>2</td>\n",
       "      <td>0</td>\n",
       "      <td>2</td>\n",
       "    </tr>\n",
       "    <tr>\n",
       "      <th>T cells</th>\n",
       "      <td>0</td>\n",
       "      <td>0</td>\n",
       "      <td>0</td>\n",
       "      <td>0</td>\n",
       "      <td>0</td>\n",
       "      <td>0</td>\n",
       "      <td>0</td>\n",
       "      <td>0</td>\n",
       "      <td>0</td>\n",
       "      <td>0</td>\n",
       "      <td>...</td>\n",
       "      <td>0</td>\n",
       "      <td>0</td>\n",
       "      <td>0</td>\n",
       "      <td>1</td>\n",
       "      <td>1</td>\n",
       "      <td>1</td>\n",
       "      <td>0</td>\n",
       "      <td>1</td>\n",
       "      <td>0</td>\n",
       "      <td>1</td>\n",
       "    </tr>\n",
       "  </tbody>\n",
       "</table>\n",
       "<p>3 rows × 194 columns</p>\n",
       "</div>"
      ],
      "text/plain": [
       "             1    2    3    4    5    6    7    8    9    10  ...   185  186  \\\n",
       "B cells        0    0    0    0    0    0    0    0    0    0 ...     0    0   \n",
       "Myeloblasts    0    0    0    0    0    0    0    0    0    0 ...     0    0   \n",
       "T cells        0    0    0    0    0    0    0    0    0    0 ...     0    0   \n",
       "\n",
       "             187  188  189  190  191  192  193  194  \n",
       "B cells        0    2    2    2    0    2    0    2  \n",
       "Myeloblasts    0    2    2    2    0    2    0    2  \n",
       "T cells        0    1    1    1    0    1    0    1  \n",
       "\n",
       "[3 rows x 194 columns]"
      ]
     },
     "execution_count": 64,
     "metadata": {},
     "output_type": "execute_result"
    }
   ],
   "source": [
    "new_classes = pd.DataFrame({'B cells': bcells.apply(combine_rows),\n",
    "             'T cells': tcells.apply(combine_rows),\n",
    "             'Myeloblasts': myeloblasts.apply(combine_rows)}).T\n",
    "new_classes"
   ]
  },
  {
   "cell_type": "code",
   "execution_count": 65,
   "metadata": {
    "ExecuteTime": {
     "end_time": "2016-07-05T14:58:59.110546",
     "start_time": "2016-07-05T14:58:59.100262"
    },
    "collapsed": true,
    "run_control": {
     "frozen": false,
     "read_only": false
    }
   },
   "outputs": [],
   "source": [
    "new_classes.to_csv('test_mixtures/newclasses.txt', sep='\\t', header=None)"
   ]
  },
  {
   "cell_type": "markdown",
   "metadata": {
    "collapsed": true,
    "run_control": {
     "frozen": false,
     "read_only": false
    }
   },
   "source": [
    "\n",
    "## run through cibersort\n",
    "\n",
    "we keep the option to do post-processing of genes enabled\n",
    "\n",
    "first, make the signature matrix (specify any mixture). then, run through the following mixtures:\n",
    "\n",
    "* B cell naive, Treg\n",
    "\t* test_mixtures/reference_profile_mixtures.txt\n",
    "\t* test_mixtures/raw_line_mixtures.txt\n",
    "* B cell naive, B cell memory\n",
    "\t* test_mixtures/hard_reference_profile_mixtures.txt\n",
    "\t* test_mixtures/hard_rawline_mixtures.txt"
   ]
  },
  {
   "cell_type": "code",
   "execution_count": 191,
   "metadata": {
    "ExecuteTime": {
     "end_time": "2016-07-06T14:09:43.577021",
     "start_time": "2016-07-06T14:09:35.027821"
    },
    "collapsed": false,
    "run_control": {
     "frozen": false,
     "read_only": false
    }
   },
   "outputs": [
    {
     "name": "stdout",
     "output_type": "stream",
     "text": [
      ">===================Settings====================\n",
      ">Mixture file: test_mixtures/reference_profile_mixtures.txt\n",
      ">Pure samples file: curated_data/pure_samples/cibersort/LM22-ref-sample.txt\n",
      ">Phenotype classes file: test_mixtures/newclasses.txt\n",
      ">Number of permutations set to: 100\n",
      ">Enable verbose output\n",
      ">Q-value for signature matrix construction set to: 0.3\n",
      ">Maximum kappa set to: 999.0\n",
      ">Minimum number of DEGs to consider from each phenotype for signature matrix set to: 50\n",
      ">Maximum number of DEGs to consider from each phenotype for signature matrix set to: 150\n",
      ">Enable signature matrix filtration (non-hematopoietic genes will be removed)\n",
      ">===============================================\n",
      ">R version 3.2.3 (2015-12-10)\n",
      ">Loaded 194 columns and 11845 rows\n",
      "^C\n"
     ]
    }
   ],
   "source": [
    "!java -Xmx3g -Xms3g -jar ~/CIBERSORT_package/CIBERSORT.jar -M test_mixtures/reference_profile_mixtures.txt -P curated_data/pure_samples/cibersort/LM22-ref-sample.txt -c test_mixtures/newclasses.txt -n 100 -v -q 0.3 -k 999 -m 50 -x 150 -f True"
   ]
  },
  {
   "cell_type": "code",
   "execution_count": 7,
   "metadata": {
    "ExecuteTime": {
     "end_time": "2016-07-05T15:37:43.906184",
     "start_time": "2016-07-05T15:37:43.784131"
    },
    "collapsed": false,
    "run_control": {
     "frozen": false,
     "read_only": false
    }
   },
   "outputs": [],
   "source": [
    "!mv \"curated_data/pure_samples/cibersort/newclasses.LM22-ref-sample.bm.K999.0.txt\" test_mixtures/"
   ]
  },
  {
   "cell_type": "code",
   "execution_count": 8,
   "metadata": {
    "ExecuteTime": {
     "end_time": "2016-07-05T15:37:54.098149",
     "start_time": "2016-07-05T15:37:53.977405"
    },
    "collapsed": true,
    "run_control": {
     "frozen": false,
     "read_only": false
    }
   },
   "outputs": [],
   "source": [
    "!mv \"curated_data/pure_samples/cibersort/newclasses.LM22-ref-sample.bm.heatmap.K999.0.pdf\" test_mixtures/"
   ]
  },
  {
   "cell_type": "code",
   "execution_count": 10,
   "metadata": {
    "ExecuteTime": {
     "end_time": "2016-07-05T15:39:17.541023",
     "start_time": "2016-07-05T15:39:17.415801"
    },
    "collapsed": true,
    "run_control": {
     "frozen": false,
     "read_only": false
    }
   },
   "outputs": [],
   "source": [
    "!mkdir -p test_mixtures/out"
   ]
  },
  {
   "cell_type": "code",
   "execution_count": 192,
   "metadata": {
    "ExecuteTime": {
     "end_time": "2016-07-06T14:09:57.374662",
     "start_time": "2016-07-06T14:09:53.147077"
    },
    "collapsed": false,
    "run_control": {
     "frozen": false,
     "read_only": false
    }
   },
   "outputs": [],
   "source": [
    "!java -Xmx3g -Xms3g -jar ~/CIBERSORT_package/CIBERSORT.jar -M test_mixtures/reference_profile_mixtures.txt -B test_mixtures/newclasses.LM22-ref-sample.bm.K999.0.txt > test_mixtures/out/NC1"
   ]
  },
  {
   "cell_type": "code",
   "execution_count": 193,
   "metadata": {
    "ExecuteTime": {
     "end_time": "2016-07-06T14:10:02.302213",
     "start_time": "2016-07-06T14:09:57.377067"
    },
    "collapsed": true,
    "run_control": {
     "frozen": false,
     "read_only": false
    }
   },
   "outputs": [],
   "source": [
    "!java -Xmx3g -Xms3g -jar ~/CIBERSORT_package/CIBERSORT.jar -M test_mixtures/raw_line_mixtures.txt -B test_mixtures/newclasses.LM22-ref-sample.bm.K999.0.txt > test_mixtures/out/NC2"
   ]
  },
  {
   "cell_type": "code",
   "execution_count": 194,
   "metadata": {
    "ExecuteTime": {
     "end_time": "2016-07-06T14:10:06.418967",
     "start_time": "2016-07-06T14:10:02.308509"
    },
    "collapsed": true,
    "run_control": {
     "frozen": false,
     "read_only": false
    }
   },
   "outputs": [],
   "source": [
    "!java -Xmx3g -Xms3g -jar ~/CIBERSORT_package/CIBERSORT.jar -M test_mixtures/hard_reference_profile_mixtures.txt -B test_mixtures/newclasses.LM22-ref-sample.bm.K999.0.txt > test_mixtures/out/NC3"
   ]
  },
  {
   "cell_type": "code",
   "execution_count": 195,
   "metadata": {
    "ExecuteTime": {
     "end_time": "2016-07-06T14:10:11.011755",
     "start_time": "2016-07-06T14:10:06.424047"
    },
    "collapsed": true,
    "run_control": {
     "frozen": false,
     "read_only": false
    }
   },
   "outputs": [],
   "source": [
    "!java -Xmx3g -Xms3g -jar ~/CIBERSORT_package/CIBERSORT.jar -M test_mixtures/hard_rawline_mixtures.txt -B test_mixtures/newclasses.LM22-ref-sample.bm.K999.0.txt > test_mixtures/out/NC4"
   ]
  },
  {
   "cell_type": "code",
   "execution_count": 196,
   "metadata": {
    "ExecuteTime": {
     "end_time": "2016-07-06T14:11:34.309132",
     "start_time": "2016-07-06T14:11:34.183661"
    },
    "collapsed": false,
    "run_control": {
     "frozen": false,
     "read_only": false
    }
   },
   "outputs": [
    {
     "name": "stdout",
     "output_type": "stream",
     "text": [
      ">===================Settings====================\r\n",
      ">Mixture file: test_mixtures/hard_rawline_mixtures.txt\r\n",
      ">Signature matrix file: test_mixtures/newclasses.LM22-ref-sample.bm.K999.0.txt\r\n",
      ">===============================================\r\n",
      ">R version 3.2.3 (2015-12-10)\r\n",
      ">==================CIBERSORT====================\r\n",
      "Column\tB cells\tMyeloblasts\tT cells\tP-value\tPearson Correlation\tRMSE\t\r\n",
      "0\t0.9654110306870105\t0.020131155134812014\t0.014457814178177491\t0.0\t0.9624429898696041\t0.3925547691360565\r\n",
      "1\t0.9656096410966829\t0.020135681992628388\t0.014254676910688675\t0.0\t0.9624487592440291\t0.3927097171474575\r\n",
      "2\t0.9744789639479781\t0.02552103605202189\t0\t0.0\t0.9617012824677748\t0.40233635268131984\r\n"
     ]
    }
   ],
   "source": [
    "!cat test_mixtures/out/NC4"
   ]
  },
  {
   "cell_type": "code",
   "execution_count": 197,
   "metadata": {
    "ExecuteTime": {
     "end_time": "2016-07-06T14:11:36.850967",
     "start_time": "2016-07-06T14:11:36.814725"
    },
    "collapsed": false,
    "run_control": {
     "frozen": false,
     "read_only": false
    }
   },
   "outputs": [],
   "source": [
    "results = []\n",
    "results_dats=[]\n",
    "for i in range(1,5):\n",
    "    dftmp = pd.read_csv('test_mixtures/out/NC%d' % i, skiprows=list(range(6)), sep='\\t')\n",
    "    del dftmp['Unnamed: 7']\n",
    "    results.append(dftmp)\n",
    "    results_dats.append(dftmp[dftmp.columns[1:-3]])"
   ]
  },
  {
   "cell_type": "code",
   "execution_count": 198,
   "metadata": {
    "ExecuteTime": {
     "end_time": "2016-07-06T14:11:37.492232",
     "start_time": "2016-07-06T14:11:37.487942"
    },
    "collapsed": false,
    "run_control": {
     "frozen": false,
     "read_only": false
    }
   },
   "outputs": [],
   "source": [
    "assert len(results) == len(results_dats) == 4"
   ]
  },
  {
   "cell_type": "markdown",
   "metadata": {},
   "source": [
    "\n",
    "## analyze as above\n",
    "\n",
    "NC1,NC2 have weights .2,.6 for B cell naive, Treg. NC3, NC4 have weights .5, .5 for B cell naive, memory."
   ]
  },
  {
   "cell_type": "code",
   "execution_count": 199,
   "metadata": {
    "ExecuteTime": {
     "end_time": "2016-07-06T14:11:44.118514",
     "start_time": "2016-07-06T14:11:44.087837"
    },
    "collapsed": false,
    "run_control": {
     "frozen": false,
     "read_only": false
    }
   },
   "outputs": [
    {
     "data": {
      "text/html": [
       "<div>\n",
       "<table border=\"1\" class=\"dataframe\">\n",
       "  <thead>\n",
       "    <tr style=\"text-align: right;\">\n",
       "      <th></th>\n",
       "      <th>B cells</th>\n",
       "      <th>Myeloblasts</th>\n",
       "      <th>T cells</th>\n",
       "    </tr>\n",
       "  </thead>\n",
       "  <tbody>\n",
       "    <tr>\n",
       "      <th>0</th>\n",
       "      <td>0.25</td>\n",
       "      <td>0.0</td>\n",
       "      <td>0.75</td>\n",
       "    </tr>\n",
       "    <tr>\n",
       "      <th>1</th>\n",
       "      <td>0.25</td>\n",
       "      <td>0.0</td>\n",
       "      <td>0.75</td>\n",
       "    </tr>\n",
       "    <tr>\n",
       "      <th>2</th>\n",
       "      <td>0.25</td>\n",
       "      <td>0.0</td>\n",
       "      <td>0.75</td>\n",
       "    </tr>\n",
       "  </tbody>\n",
       "</table>\n",
       "</div>"
      ],
      "text/plain": [
       "   B cells  Myeloblasts  T cells\n",
       "0     0.25          0.0     0.75\n",
       "1     0.25          0.0     0.75\n",
       "2     0.25          0.0     0.75"
      ]
     },
     "execution_count": 199,
     "metadata": {},
     "output_type": "execute_result"
    }
   ],
   "source": [
    "ref_1 = pd.DataFrame(np.zeros(results_dats[0].shape), columns=results_dats[0].columns)\n",
    "ref_1.loc[:, ['B cells', 'T cells']] = [.25, .75]\n",
    "ref_1.head()"
   ]
  },
  {
   "cell_type": "code",
   "execution_count": 200,
   "metadata": {
    "ExecuteTime": {
     "end_time": "2016-07-06T14:11:48.357643",
     "start_time": "2016-07-06T14:11:48.334736"
    },
    "collapsed": false,
    "run_control": {
     "frozen": false,
     "read_only": false
    }
   },
   "outputs": [
    {
     "data": {
      "text/html": [
       "<div>\n",
       "<table border=\"1\" class=\"dataframe\">\n",
       "  <thead>\n",
       "    <tr style=\"text-align: right;\">\n",
       "      <th></th>\n",
       "      <th>B cells</th>\n",
       "      <th>Myeloblasts</th>\n",
       "      <th>T cells</th>\n",
       "    </tr>\n",
       "  </thead>\n",
       "  <tbody>\n",
       "    <tr>\n",
       "      <th>0</th>\n",
       "      <td>1.0</td>\n",
       "      <td>0.0</td>\n",
       "      <td>0.0</td>\n",
       "    </tr>\n",
       "    <tr>\n",
       "      <th>1</th>\n",
       "      <td>1.0</td>\n",
       "      <td>0.0</td>\n",
       "      <td>0.0</td>\n",
       "    </tr>\n",
       "    <tr>\n",
       "      <th>2</th>\n",
       "      <td>1.0</td>\n",
       "      <td>0.0</td>\n",
       "      <td>0.0</td>\n",
       "    </tr>\n",
       "  </tbody>\n",
       "</table>\n",
       "</div>"
      ],
      "text/plain": [
       "   B cells  Myeloblasts  T cells\n",
       "0      1.0          0.0      0.0\n",
       "1      1.0          0.0      0.0\n",
       "2      1.0          0.0      0.0"
      ]
     },
     "execution_count": 200,
     "metadata": {},
     "output_type": "execute_result"
    }
   ],
   "source": [
    "ref_2 = pd.DataFrame(np.zeros(results_dats[2].shape), columns=results_dats[2].columns)\n",
    "ref_2.loc[:, ['B cells']] = 1.0\n",
    "ref_2.head()"
   ]
  },
  {
   "cell_type": "code",
   "execution_count": 201,
   "metadata": {
    "ExecuteTime": {
     "end_time": "2016-07-06T14:11:51.288571",
     "start_time": "2016-07-06T14:11:51.280121"
    },
    "collapsed": true,
    "run_control": {
     "frozen": false,
     "read_only": false
    }
   },
   "outputs": [],
   "source": [
    "experiment_names = [\n",
    "    'B vs T: reference profiles',\n",
    "    'B vs T: raw lines',\n",
    "    'B vs B: reference profiles',\n",
    "    'B vs B: raw lines'\n",
    "]"
   ]
  },
  {
   "cell_type": "code",
   "execution_count": 202,
   "metadata": {
    "ExecuteTime": {
     "end_time": "2016-07-06T14:11:52.194973",
     "start_time": "2016-07-06T14:11:52.191752"
    },
    "collapsed": true,
    "run_control": {
     "frozen": false,
     "read_only": false
    }
   },
   "outputs": [],
   "source": [
    "reference_dats = [ref_1, ref_1, ref_2, ref_2]"
   ]
  },
  {
   "cell_type": "code",
   "execution_count": 203,
   "metadata": {
    "ExecuteTime": {
     "end_time": "2016-07-06T14:11:54.190302",
     "start_time": "2016-07-06T14:11:54.102563"
    },
    "collapsed": false,
    "run_control": {
     "frozen": false,
     "read_only": false
    },
    "scrolled": true
   },
   "outputs": [
    {
     "name": "stdout",
     "output_type": "stream",
     "text": [
      "B vs T: reference profiles\n",
      "p values: 0    0.0\n",
      "1    0.0\n",
      "2    0.0\n",
      "Name: P-value, dtype: float64\n",
      "RMSE \t R^2 \t per mixture\n",
      "0.0071 \t 0.9995\n",
      "0.0071 \t 0.9995\n",
      "0.0237 \t 0.9942\n",
      "absolute difference from ground truth\n",
      "    B cells  Myeloblasts   T cells\n",
      "0 -0.008683          0.0  0.008683\n",
      "1 -0.008703          0.0  0.008703\n",
      "2  0.029078          0.0 -0.029078\n",
      "\n",
      "B vs T: raw lines\n",
      "p values: 0    0.0\n",
      "1    0.0\n",
      "2    0.0\n",
      "Name: P-value, dtype: float64\n",
      "RMSE \t R^2 \t per mixture\n",
      "0.0380 \t 0.9851\n",
      "0.0379 \t 0.9853\n",
      "0.0164 \t 0.9972\n",
      "absolute difference from ground truth\n",
      "    B cells  Myeloblasts   T cells\n",
      "0 -0.046572          0.0  0.046572\n",
      "1 -0.046369          0.0  0.046369\n",
      "2 -0.020146          0.0  0.020146\n",
      "\n",
      "B vs B: reference profiles\n",
      "p values: 0    0.0\n",
      "1    0.0\n",
      "2    0.0\n",
      "Name: P-value, dtype: float64\n",
      "RMSE \t R^2 \t per mixture\n",
      "0.0044 \t 0.9999\n",
      "0.0043 \t 0.9999\n",
      "0.0078 \t 0.9997\n",
      "absolute difference from ground truth\n",
      "    B cells  Myeloblasts   T cells\n",
      "0 -0.005344          0.0  0.005344\n",
      "1 -0.005314          0.0  0.005314\n",
      "2 -0.009587          0.0  0.009587\n",
      "\n",
      "B vs B: raw lines\n",
      "p values: 0    0.0\n",
      "1    0.0\n",
      "2    0.0\n",
      "Name: P-value, dtype: float64\n",
      "RMSE \t R^2 \t per mixture\n",
      "0.0246 \t 0.9973\n",
      "0.0244 \t 0.9973\n",
      "0.0208 \t 0.9980\n",
      "absolute difference from ground truth\n",
      "    B cells  Myeloblasts   T cells\n",
      "0 -0.034589     0.020131  0.014458\n",
      "1 -0.034390     0.020136  0.014255\n",
      "2 -0.025521     0.025521  0.000000\n",
      "\n"
     ]
    }
   ],
   "source": [
    "for experiment_name, result, resultdat, groundtruth in zip(\\\n",
    "        experiment_names, results, results_dats, reference_dats):\n",
    "    print(experiment_name)\n",
    "    \n",
    "    #print 'absolute difference from ground truth, summarized by column:'\n",
    "    #print (resultdat - groundtruth).describe()\n",
    "\n",
    "#     correct_cols = groundtruth.apply(lambda col: not all(col==0))\n",
    "#     correct_cols = correct_cols[correct_cols==True].index.tolist()\n",
    "    \n",
    "#     fig, axarr = plt.subplots(3, 3, figsize=(20,20))\n",
    "\n",
    "#     for (_, row), ax in zip((resultdat - groundtruth).iterrows(), axarr[0,:]):\n",
    "#         row.hist(ax=ax)\n",
    "#         ax.set_title('mixture %d absolute differences' % row.name)\n",
    "\n",
    "\n",
    "#     for (_, row), ax in zip((resultdat - groundtruth).iterrows(), axarr[1,:]):\n",
    "#         row[correct_cols].hist(ax=ax)\n",
    "#         ax.set_title('mixture %d absolute differences -- correct cell types only' % row.name)\n",
    "\n",
    "\n",
    "\n",
    "#     other_cols = set(resultdat.columns) - set(correct_cols)\n",
    "#     for (_, row), ax in zip((resultdat - groundtruth).iterrows(), axarr[2,:]):\n",
    "#         row[other_cols].hist(ax=ax)\n",
    "#         ax.set_title('mixture %d absolute differences -- incorrect cell types only' % row.name)\n",
    "    \n",
    "#     fig.suptitle(experiment_name)\n",
    "\n",
    "    print('p values:', result['P-value'])\n",
    "\n",
    "    print('RMSE \\t R^2 \\t per mixture')\n",
    "    from sklearn.metrics import mean_squared_error as mse, r2_score\n",
    "    for (_, y_true),(_, y_pred) in zip(groundtruth.iterrows(), resultdat.iterrows()):\n",
    "        print('%0.4f \\t %0.4f' % (np.sqrt(mse(y_true, y_pred)), r2_score(y_true, y_pred)))\n",
    "\n",
    "    print('absolute difference from ground truth')\n",
    "    print((resultdat - groundtruth))\n",
    "    \n",
    "    print()"
   ]
  },
  {
   "cell_type": "code",
   "execution_count": 204,
   "metadata": {
    "ExecuteTime": {
     "end_time": "2016-07-06T14:11:55.392740",
     "start_time": "2016-07-06T14:11:55.329627"
    },
    "collapsed": false,
    "run_control": {
     "frozen": false,
     "read_only": false
    },
    "scrolled": true
   },
   "outputs": [
    {
     "name": "stdout",
     "output_type": "stream",
     "text": [
      "B vs T: reference profiles\n",
      "B vs T: raw lines\n",
      "B vs B: reference profiles\n",
      "B vs B: raw lines\n"
     ]
    },
    {
     "data": {
      "text/html": [
       "<div>\n",
       "<table border=\"1\" class=\"dataframe\">\n",
       "  <thead>\n",
       "    <tr style=\"text-align: right;\">\n",
       "      <th></th>\n",
       "      <th>noise_level</th>\n",
       "      <th>cell_type</th>\n",
       "      <th>error</th>\n",
       "      <th>experiment</th>\n",
       "    </tr>\n",
       "  </thead>\n",
       "  <tbody>\n",
       "    <tr>\n",
       "      <th>0</th>\n",
       "      <td>0</td>\n",
       "      <td>B cells</td>\n",
       "      <td>-0.008683</td>\n",
       "      <td>B vs T: reference profiles</td>\n",
       "    </tr>\n",
       "    <tr>\n",
       "      <th>1</th>\n",
       "      <td>1</td>\n",
       "      <td>B cells</td>\n",
       "      <td>-0.008703</td>\n",
       "      <td>B vs T: reference profiles</td>\n",
       "    </tr>\n",
       "    <tr>\n",
       "      <th>2</th>\n",
       "      <td>2</td>\n",
       "      <td>B cells</td>\n",
       "      <td>0.029078</td>\n",
       "      <td>B vs T: reference profiles</td>\n",
       "    </tr>\n",
       "    <tr>\n",
       "      <th>3</th>\n",
       "      <td>0</td>\n",
       "      <td>Myeloblasts</td>\n",
       "      <td>0.000000</td>\n",
       "      <td>B vs T: reference profiles</td>\n",
       "    </tr>\n",
       "    <tr>\n",
       "      <th>4</th>\n",
       "      <td>1</td>\n",
       "      <td>Myeloblasts</td>\n",
       "      <td>0.000000</td>\n",
       "      <td>B vs T: reference profiles</td>\n",
       "    </tr>\n",
       "    <tr>\n",
       "      <th>5</th>\n",
       "      <td>2</td>\n",
       "      <td>Myeloblasts</td>\n",
       "      <td>0.000000</td>\n",
       "      <td>B vs T: reference profiles</td>\n",
       "    </tr>\n",
       "    <tr>\n",
       "      <th>6</th>\n",
       "      <td>0</td>\n",
       "      <td>T cells</td>\n",
       "      <td>0.008683</td>\n",
       "      <td>B vs T: reference profiles</td>\n",
       "    </tr>\n",
       "    <tr>\n",
       "      <th>7</th>\n",
       "      <td>1</td>\n",
       "      <td>T cells</td>\n",
       "      <td>0.008703</td>\n",
       "      <td>B vs T: reference profiles</td>\n",
       "    </tr>\n",
       "    <tr>\n",
       "      <th>8</th>\n",
       "      <td>2</td>\n",
       "      <td>T cells</td>\n",
       "      <td>-0.029078</td>\n",
       "      <td>B vs T: reference profiles</td>\n",
       "    </tr>\n",
       "    <tr>\n",
       "      <th>0</th>\n",
       "      <td>0</td>\n",
       "      <td>B cells</td>\n",
       "      <td>-0.046572</td>\n",
       "      <td>B vs T: raw lines</td>\n",
       "    </tr>\n",
       "    <tr>\n",
       "      <th>1</th>\n",
       "      <td>1</td>\n",
       "      <td>B cells</td>\n",
       "      <td>-0.046369</td>\n",
       "      <td>B vs T: raw lines</td>\n",
       "    </tr>\n",
       "    <tr>\n",
       "      <th>2</th>\n",
       "      <td>2</td>\n",
       "      <td>B cells</td>\n",
       "      <td>-0.020146</td>\n",
       "      <td>B vs T: raw lines</td>\n",
       "    </tr>\n",
       "    <tr>\n",
       "      <th>3</th>\n",
       "      <td>0</td>\n",
       "      <td>Myeloblasts</td>\n",
       "      <td>0.000000</td>\n",
       "      <td>B vs T: raw lines</td>\n",
       "    </tr>\n",
       "    <tr>\n",
       "      <th>4</th>\n",
       "      <td>1</td>\n",
       "      <td>Myeloblasts</td>\n",
       "      <td>0.000000</td>\n",
       "      <td>B vs T: raw lines</td>\n",
       "    </tr>\n",
       "    <tr>\n",
       "      <th>5</th>\n",
       "      <td>2</td>\n",
       "      <td>Myeloblasts</td>\n",
       "      <td>0.000000</td>\n",
       "      <td>B vs T: raw lines</td>\n",
       "    </tr>\n",
       "    <tr>\n",
       "      <th>6</th>\n",
       "      <td>0</td>\n",
       "      <td>T cells</td>\n",
       "      <td>0.046572</td>\n",
       "      <td>B vs T: raw lines</td>\n",
       "    </tr>\n",
       "    <tr>\n",
       "      <th>7</th>\n",
       "      <td>1</td>\n",
       "      <td>T cells</td>\n",
       "      <td>0.046369</td>\n",
       "      <td>B vs T: raw lines</td>\n",
       "    </tr>\n",
       "    <tr>\n",
       "      <th>8</th>\n",
       "      <td>2</td>\n",
       "      <td>T cells</td>\n",
       "      <td>0.020146</td>\n",
       "      <td>B vs T: raw lines</td>\n",
       "    </tr>\n",
       "    <tr>\n",
       "      <th>0</th>\n",
       "      <td>0</td>\n",
       "      <td>B cells</td>\n",
       "      <td>-0.005344</td>\n",
       "      <td>B vs B: reference profiles</td>\n",
       "    </tr>\n",
       "    <tr>\n",
       "      <th>1</th>\n",
       "      <td>1</td>\n",
       "      <td>B cells</td>\n",
       "      <td>-0.005314</td>\n",
       "      <td>B vs B: reference profiles</td>\n",
       "    </tr>\n",
       "    <tr>\n",
       "      <th>2</th>\n",
       "      <td>2</td>\n",
       "      <td>B cells</td>\n",
       "      <td>-0.009587</td>\n",
       "      <td>B vs B: reference profiles</td>\n",
       "    </tr>\n",
       "    <tr>\n",
       "      <th>3</th>\n",
       "      <td>0</td>\n",
       "      <td>Myeloblasts</td>\n",
       "      <td>0.000000</td>\n",
       "      <td>B vs B: reference profiles</td>\n",
       "    </tr>\n",
       "    <tr>\n",
       "      <th>4</th>\n",
       "      <td>1</td>\n",
       "      <td>Myeloblasts</td>\n",
       "      <td>0.000000</td>\n",
       "      <td>B vs B: reference profiles</td>\n",
       "    </tr>\n",
       "    <tr>\n",
       "      <th>5</th>\n",
       "      <td>2</td>\n",
       "      <td>Myeloblasts</td>\n",
       "      <td>0.000000</td>\n",
       "      <td>B vs B: reference profiles</td>\n",
       "    </tr>\n",
       "    <tr>\n",
       "      <th>6</th>\n",
       "      <td>0</td>\n",
       "      <td>T cells</td>\n",
       "      <td>0.005344</td>\n",
       "      <td>B vs B: reference profiles</td>\n",
       "    </tr>\n",
       "    <tr>\n",
       "      <th>7</th>\n",
       "      <td>1</td>\n",
       "      <td>T cells</td>\n",
       "      <td>0.005314</td>\n",
       "      <td>B vs B: reference profiles</td>\n",
       "    </tr>\n",
       "    <tr>\n",
       "      <th>8</th>\n",
       "      <td>2</td>\n",
       "      <td>T cells</td>\n",
       "      <td>0.009587</td>\n",
       "      <td>B vs B: reference profiles</td>\n",
       "    </tr>\n",
       "    <tr>\n",
       "      <th>0</th>\n",
       "      <td>0</td>\n",
       "      <td>B cells</td>\n",
       "      <td>-0.034589</td>\n",
       "      <td>B vs B: raw lines</td>\n",
       "    </tr>\n",
       "    <tr>\n",
       "      <th>1</th>\n",
       "      <td>1</td>\n",
       "      <td>B cells</td>\n",
       "      <td>-0.034390</td>\n",
       "      <td>B vs B: raw lines</td>\n",
       "    </tr>\n",
       "    <tr>\n",
       "      <th>2</th>\n",
       "      <td>2</td>\n",
       "      <td>B cells</td>\n",
       "      <td>-0.025521</td>\n",
       "      <td>B vs B: raw lines</td>\n",
       "    </tr>\n",
       "    <tr>\n",
       "      <th>3</th>\n",
       "      <td>0</td>\n",
       "      <td>Myeloblasts</td>\n",
       "      <td>0.020131</td>\n",
       "      <td>B vs B: raw lines</td>\n",
       "    </tr>\n",
       "    <tr>\n",
       "      <th>4</th>\n",
       "      <td>1</td>\n",
       "      <td>Myeloblasts</td>\n",
       "      <td>0.020136</td>\n",
       "      <td>B vs B: raw lines</td>\n",
       "    </tr>\n",
       "    <tr>\n",
       "      <th>5</th>\n",
       "      <td>2</td>\n",
       "      <td>Myeloblasts</td>\n",
       "      <td>0.025521</td>\n",
       "      <td>B vs B: raw lines</td>\n",
       "    </tr>\n",
       "    <tr>\n",
       "      <th>6</th>\n",
       "      <td>0</td>\n",
       "      <td>T cells</td>\n",
       "      <td>0.014458</td>\n",
       "      <td>B vs B: raw lines</td>\n",
       "    </tr>\n",
       "    <tr>\n",
       "      <th>7</th>\n",
       "      <td>1</td>\n",
       "      <td>T cells</td>\n",
       "      <td>0.014255</td>\n",
       "      <td>B vs B: raw lines</td>\n",
       "    </tr>\n",
       "    <tr>\n",
       "      <th>8</th>\n",
       "      <td>2</td>\n",
       "      <td>T cells</td>\n",
       "      <td>0.000000</td>\n",
       "      <td>B vs B: raw lines</td>\n",
       "    </tr>\n",
       "  </tbody>\n",
       "</table>\n",
       "</div>"
      ],
      "text/plain": [
       "   noise_level    cell_type     error                  experiment\n",
       "0            0      B cells -0.008683  B vs T: reference profiles\n",
       "1            1      B cells -0.008703  B vs T: reference profiles\n",
       "2            2      B cells  0.029078  B vs T: reference profiles\n",
       "3            0  Myeloblasts  0.000000  B vs T: reference profiles\n",
       "4            1  Myeloblasts  0.000000  B vs T: reference profiles\n",
       "5            2  Myeloblasts  0.000000  B vs T: reference profiles\n",
       "6            0      T cells  0.008683  B vs T: reference profiles\n",
       "7            1      T cells  0.008703  B vs T: reference profiles\n",
       "8            2      T cells -0.029078  B vs T: reference profiles\n",
       "0            0      B cells -0.046572           B vs T: raw lines\n",
       "1            1      B cells -0.046369           B vs T: raw lines\n",
       "2            2      B cells -0.020146           B vs T: raw lines\n",
       "3            0  Myeloblasts  0.000000           B vs T: raw lines\n",
       "4            1  Myeloblasts  0.000000           B vs T: raw lines\n",
       "5            2  Myeloblasts  0.000000           B vs T: raw lines\n",
       "6            0      T cells  0.046572           B vs T: raw lines\n",
       "7            1      T cells  0.046369           B vs T: raw lines\n",
       "8            2      T cells  0.020146           B vs T: raw lines\n",
       "0            0      B cells -0.005344  B vs B: reference profiles\n",
       "1            1      B cells -0.005314  B vs B: reference profiles\n",
       "2            2      B cells -0.009587  B vs B: reference profiles\n",
       "3            0  Myeloblasts  0.000000  B vs B: reference profiles\n",
       "4            1  Myeloblasts  0.000000  B vs B: reference profiles\n",
       "5            2  Myeloblasts  0.000000  B vs B: reference profiles\n",
       "6            0      T cells  0.005344  B vs B: reference profiles\n",
       "7            1      T cells  0.005314  B vs B: reference profiles\n",
       "8            2      T cells  0.009587  B vs B: reference profiles\n",
       "0            0      B cells -0.034589           B vs B: raw lines\n",
       "1            1      B cells -0.034390           B vs B: raw lines\n",
       "2            2      B cells -0.025521           B vs B: raw lines\n",
       "3            0  Myeloblasts  0.020131           B vs B: raw lines\n",
       "4            1  Myeloblasts  0.020136           B vs B: raw lines\n",
       "5            2  Myeloblasts  0.025521           B vs B: raw lines\n",
       "6            0      T cells  0.014458           B vs B: raw lines\n",
       "7            1      T cells  0.014255           B vs B: raw lines\n",
       "8            2      T cells  0.000000           B vs B: raw lines"
      ]
     },
     "execution_count": 204,
     "metadata": {},
     "output_type": "execute_result"
    }
   ],
   "source": [
    "dfs = []\n",
    "for experiment_name, result, resultdat, groundtruth in zip(\\\n",
    "        experiment_names, results, results_dats, reference_dats):\n",
    "    print(experiment_name)\n",
    "    \n",
    "    tmp=(resultdat - groundtruth)\n",
    "    tmp['noise_level'] = tmp.index\n",
    "    tmp = pd.melt(tmp, id_vars=['noise_level'], var_name='cell_type', value_name='error')\n",
    "    tmp['experiment'] = experiment_name\n",
    "    dfs.append(tmp)\n",
    "\n",
    "dfs = pd.concat(dfs)\n",
    "dfs"
   ]
  },
  {
   "cell_type": "code",
   "execution_count": 206,
   "metadata": {
    "ExecuteTime": {
     "end_time": "2016-07-06T14:40:44.854923",
     "start_time": "2016-07-06T14:40:41.613289"
    },
    "collapsed": false,
    "run_control": {
     "frozen": false,
     "read_only": false
    }
   },
   "outputs": [
    {
     "name": "stdout",
     "output_type": "stream",
     "text": [
      "Error plot\n"
     ]
    },
    {
     "data": {
      "image/png": "[encoded data removed]",
      "text/plain": [
       "<matplotlib.figure.Figure at 0x7fa3d213e150>"
      ]
     },
     "metadata": {},
     "output_type": "display_data"
    }
   ],
   "source": [
    "print('Error plot')\n",
    "g = sns.factorplot(data=dfs, x=\"noise_level\", y=\"error\", hue=\"cell_type\", col=\"experiment\")\n",
    "g.savefig('plots/superclass_error.png', dpi=300)"
   ]
  },
  {
   "cell_type": "markdown",
   "metadata": {},
   "source": [
    "(Note that \"reference profiles\" means of subtypes)\n",
    "\n",
    "\n",
    "### Observations:\n",
    "\n",
    "We are doing a very simple B vs T and B vs B superclass classification. Threw in myeloblasts in training data as well to measure hallucination of related types.\n",
    "\n",
    "In general we do superclass classification fairly well -- see the scale (max error is 5-6%).\n",
    "This motivates the hierarchy approach. (The remaining question there is whether we have enough confidence to jump one level down -- a Bayesian approach can answer that)\n",
    "\n",
    "In some cases the noise helps, in others it hurts. Still doesn't affect that much -- just 5%.\n",
    "\n",
    "Rightmost plot: some hallucination of myeloblasts.\n",
    "\n",
    "* B vs T when using reference profile: very little error, a little more with noise.\n",
    "* B vs T raw lines: the proportion of T cells is overestimated while B cells underestimated. Why is that? Is that because of the relative weights $(.25,.75)$?\n",
    "* B vs B when using reference profile: very little error, as expected.\n",
    "* B vs B when using a raw line: have some hallucination of myeloblasts especially, but also of T cells. The proportion of B cells is slightly underestimated unfortunately, but still very close to 100%.\n",
    "* Why is noise almost always good at reducing error?\n",
    "\n",
    "Looks like we are doing superclass classification well!"
   ]
  },
  {
   "cell_type": "code",
   "execution_count": null,
   "metadata": {
    "collapsed": true,
    "run_control": {
     "frozen": false,
     "read_only": false
    }
   },
   "outputs": [],
   "source": [
    "|"
   ]
  }
 ],
 "metadata": {
  "celltoolbar": "Initialisation Cell",
  "kernelspec": {
   "display_name": "Python 3",
   "language": "python",
   "name": "python3"
  },
  "language_info": {
   "codemirror_mode": {
    "name": "ipython",
    "version": 3
   },
   "file_extension": ".py",
   "mimetype": "text/x-python",
   "name": "python",
   "nbconvert_exporter": "python",
   "pygments_lexer": "ipython3"
  },
  "nav_menu": {},
  "toc": {
   "colors": {
    "hover_highlight": "#DAA520",
    "running_highlight": "#FF0000",
    "selected_highlight": "#FFD700"
   },
   "moveMenuLeft": true,
   "nav_menu": {
    "height": "333px",
    "width": "252px"
   },
   "navigate_menu": true,
   "number_sections": true,
   "sideBar": false,
   "threshold": 4,
   "toc_cell": true,
   "toc_section_display": "none",
   "toc_window_display": true,
   "widenNotebook": false
  },
  "toc_position": {
   "height": "612px",
   "left": "1px",
   "right": "20px",
   "top": "103px",
   "width": "212px"
  }
 },
 "nbformat": 4,
 "nbformat_minor": 0
}
