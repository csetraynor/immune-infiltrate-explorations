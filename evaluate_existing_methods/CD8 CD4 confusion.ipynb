{
 "cells": [
  {
   "cell_type": "markdown",
   "metadata": {
    "toc": "true"
   },
   "source": [
    "# Table of Contents\n",
    " <p><div class=\"lev1\"><a href=\"#Overview\"><span class=\"toc-item-num\">1&nbsp;&nbsp;</span>Overview</a></div><div class=\"lev1\"><a href=\"#CD8-vs-CD4\"><span class=\"toc-item-num\">2&nbsp;&nbsp;</span>CD8 vs CD4</a></div><div class=\"lev2\"><a href=\"#reference-profiles-(warmup)\"><span class=\"toc-item-num\">2.1&nbsp;&nbsp;</span>reference profiles (warmup)</a></div><div class=\"lev3\"><a href=\"#run-through-cibersort\"><span class=\"toc-item-num\">2.1.1&nbsp;&nbsp;</span>run through cibersort</a></div><div class=\"lev2\"><a href=\"#raw-lines-(should-be-quite-hard)\"><span class=\"toc-item-num\">2.2&nbsp;&nbsp;</span>raw lines (should be quite hard)</a></div><div class=\"lev3\"><a href=\"#run-through-cibersort\"><span class=\"toc-item-num\">2.2.1&nbsp;&nbsp;</span>run through cibersort</a></div><div class=\"lev1\"><a href=\"#Superset-classification\"><span class=\"toc-item-num\">3&nbsp;&nbsp;</span>Superset classification</a></div><div class=\"lev2\"><a href=\"#run-through-cibersort\"><span class=\"toc-item-num\">3.1&nbsp;&nbsp;</span>run through cibersort</a></div><div class=\"lev2\"><a href=\"#analyze-as-above\"><span class=\"toc-item-num\">3.2&nbsp;&nbsp;</span>analyze as above</a></div><div class=\"lev3\"><a href=\"#Observations:\"><span class=\"toc-item-num\">3.2.1&nbsp;&nbsp;</span>Observations:</a></div>"
   ]
  },
  {
   "cell_type": "code",
   "execution_count": 1,
   "metadata": {
    "ExecuteTime": {
     "end_time": "2017-04-03T15:43:08.836388",
     "start_time": "2017-04-03T15:43:07.535060"
    },
    "code_folding": [],
    "collapsed": true,
    "init_cell": true,
    "run_control": {
     "frozen": false,
     "read_only": false
    }
   },
   "outputs": [],
   "source": [
    "# %load ~/ipyhead\n",
    "import numpy as np\n",
    "import matplotlib.pyplot as plt\n",
    "import pandas as pd\n",
    "%matplotlib inline\n",
    "import seaborn as sns"
   ]
  },
  {
   "cell_type": "code",
   "execution_count": 2,
   "metadata": {
    "ExecuteTime": {
     "end_time": "2017-04-03T15:43:08.844269",
     "start_time": "2017-04-03T15:43:08.839385"
    },
    "collapsed": true,
    "init_cell": true,
    "run_control": {
     "frozen": false,
     "read_only": false
    }
   },
   "outputs": [],
   "source": [
    "from StringIO import StringIO"
   ]
  },
  {
   "cell_type": "markdown",
   "metadata": {},
   "source": [
    "# Overview\n",
    "\n",
    "Let's try using LM22 to deconvolve some mixtures that we can create.\n",
    "\n",
    "Here is an example of how to call CIBERSORT: \n",
    "`java -Xmx3g -Xms3g -jar CIBERSORT.jar -M ExampleMixtures-GEPs.txt -B LM22.txt`\n",
    "\n",
    "Just have to do this from R console first:\n",
    "```\n",
    "library(Rserve)\n",
    "Rserve(args=\"--no-save\")\n",
    "```\n",
    "\n",
    "\n"
   ]
  },
  {
   "cell_type": "markdown",
   "metadata": {},
   "source": [
    "# CD8 vs CD4\n",
    "\n",
    "Do exactly the above, but for types that are hard to tell about.\n",
    "\n",
    "Take the two most similar types.\n",
    "Mix them together, with and without noise.\n",
    "First do this with reference profiles, then with raw data.\n",
    "\n",
    "Expected results:\n",
    "* Cibersort will probably do great on reference profiles w/o noise or w/ simple noise\n",
    "* Slightly less well on reference profiles w/ complex noise -- still good performance but worse than Cibersort on reference profiles of very distinct cell types w/ complex noise\n",
    "* Same pattern for raw, but perhaps an even larger difference with noise.\n",
    "\n",
    "The two cell types we choose (see writeup pdf):\n",
    "* B cells naive\n",
    "* B cells memory\n",
    "\n",
    "\n",
    "## reference profiles (warmup)"
   ]
  },
  {
   "cell_type": "code",
   "execution_count": 12,
   "metadata": {
    "ExecuteTime": {
     "end_time": "2016-12-08T21:13:23.914743",
     "start_time": "2016-12-08T21:13:23.861971"
    },
    "collapsed": false,
    "run_control": {
     "frozen": false,
     "read_only": false
    }
   },
   "outputs": [
    {
     "name": "stdout",
     "output_type": "stream",
     "text": [
      "(547, 22)\n"
     ]
    },
    {
     "data": {
      "text/html": [
       "<div>\n",
       "<table border=\"1\" class=\"dataframe\">\n",
       "  <thead>\n",
       "    <tr style=\"text-align: right;\">\n",
       "      <th></th>\n",
       "      <th>B cells naive</th>\n",
       "      <th>B cells memory</th>\n",
       "      <th>Plasma cells</th>\n",
       "      <th>T cells CD8</th>\n",
       "      <th>T cells CD4 naive</th>\n",
       "      <th>T cells CD4 memory resting</th>\n",
       "      <th>T cells CD4 memory activated</th>\n",
       "      <th>T cells follicular helper</th>\n",
       "      <th>T cells regulatory (Tregs)</th>\n",
       "      <th>T cells gamma delta</th>\n",
       "      <th>...</th>\n",
       "      <th>Monocytes</th>\n",
       "      <th>Macrophages M0</th>\n",
       "      <th>Macrophages M1</th>\n",
       "      <th>Macrophages M2</th>\n",
       "      <th>Dendritic cells resting</th>\n",
       "      <th>Dendritic cells activated</th>\n",
       "      <th>Mast cells resting</th>\n",
       "      <th>Mast cells activated</th>\n",
       "      <th>Eosinophils</th>\n",
       "      <th>Neutrophils</th>\n",
       "    </tr>\n",
       "    <tr>\n",
       "      <th>Gene symbol</th>\n",
       "      <th></th>\n",
       "      <th></th>\n",
       "      <th></th>\n",
       "      <th></th>\n",
       "      <th></th>\n",
       "      <th></th>\n",
       "      <th></th>\n",
       "      <th></th>\n",
       "      <th></th>\n",
       "      <th></th>\n",
       "      <th></th>\n",
       "      <th></th>\n",
       "      <th></th>\n",
       "      <th></th>\n",
       "      <th></th>\n",
       "      <th></th>\n",
       "      <th></th>\n",
       "      <th></th>\n",
       "      <th></th>\n",
       "      <th></th>\n",
       "      <th></th>\n",
       "    </tr>\n",
       "  </thead>\n",
       "  <tbody>\n",
       "    <tr>\n",
       "      <th>ABCB4</th>\n",
       "      <td>555.713449</td>\n",
       "      <td>10.744235</td>\n",
       "      <td>7.225819</td>\n",
       "      <td>4.311280</td>\n",
       "      <td>4.605860</td>\n",
       "      <td>7.406442</td>\n",
       "      <td>8.043976</td>\n",
       "      <td>6.469993</td>\n",
       "      <td>7.833082</td>\n",
       "      <td>9.312295</td>\n",
       "      <td>...</td>\n",
       "      <td>6.202496</td>\n",
       "      <td>7.951360</td>\n",
       "      <td>27.557710</td>\n",
       "      <td>121.432277</td>\n",
       "      <td>114.636747</td>\n",
       "      <td>4.872184</td>\n",
       "      <td>4.727985</td>\n",
       "      <td>34.113659</td>\n",
       "      <td>15.030530</td>\n",
       "      <td>14.906888</td>\n",
       "    </tr>\n",
       "    <tr>\n",
       "      <th>ABCB9</th>\n",
       "      <td>15.603544</td>\n",
       "      <td>22.094787</td>\n",
       "      <td>653.392328</td>\n",
       "      <td>24.223723</td>\n",
       "      <td>35.671507</td>\n",
       "      <td>30.048192</td>\n",
       "      <td>38.455423</td>\n",
       "      <td>17.604795</td>\n",
       "      <td>46.073657</td>\n",
       "      <td>19.715722</td>\n",
       "      <td>...</td>\n",
       "      <td>20.309426</td>\n",
       "      <td>56.251887</td>\n",
       "      <td>29.380878</td>\n",
       "      <td>40.390260</td>\n",
       "      <td>123.993305</td>\n",
       "      <td>23.384603</td>\n",
       "      <td>53.466757</td>\n",
       "      <td>23.615746</td>\n",
       "      <td>29.786442</td>\n",
       "      <td>33.679147</td>\n",
       "    </tr>\n",
       "    <tr>\n",
       "      <th>ACAP1</th>\n",
       "      <td>215.305951</td>\n",
       "      <td>321.621021</td>\n",
       "      <td>38.616872</td>\n",
       "      <td>1055.613378</td>\n",
       "      <td>1790.097170</td>\n",
       "      <td>922.152747</td>\n",
       "      <td>340.883424</td>\n",
       "      <td>1107.798265</td>\n",
       "      <td>1995.482601</td>\n",
       "      <td>280.075719</td>\n",
       "      <td>...</td>\n",
       "      <td>190.879024</td>\n",
       "      <td>48.972217</td>\n",
       "      <td>30.974254</td>\n",
       "      <td>23.055150</td>\n",
       "      <td>61.386550</td>\n",
       "      <td>26.412923</td>\n",
       "      <td>104.200198</td>\n",
       "      <td>73.607932</td>\n",
       "      <td>696.442802</td>\n",
       "      <td>596.025961</td>\n",
       "    </tr>\n",
       "    <tr>\n",
       "      <th>ACHE</th>\n",
       "      <td>15.117949</td>\n",
       "      <td>16.648847</td>\n",
       "      <td>22.123737</td>\n",
       "      <td>13.428288</td>\n",
       "      <td>27.187732</td>\n",
       "      <td>18.444927</td>\n",
       "      <td>13.441268</td>\n",
       "      <td>14.805542</td>\n",
       "      <td>24.652712</td>\n",
       "      <td>33.658448</td>\n",
       "      <td>...</td>\n",
       "      <td>16.375268</td>\n",
       "      <td>13.692963</td>\n",
       "      <td>1373.069620</td>\n",
       "      <td>48.585761</td>\n",
       "      <td>16.715474</td>\n",
       "      <td>193.159977</td>\n",
       "      <td>13.948778</td>\n",
       "      <td>20.501249</td>\n",
       "      <td>40.414927</td>\n",
       "      <td>22.766494</td>\n",
       "    </tr>\n",
       "    <tr>\n",
       "      <th>ACP5</th>\n",
       "      <td>605.897384</td>\n",
       "      <td>1935.201479</td>\n",
       "      <td>1120.104684</td>\n",
       "      <td>306.312519</td>\n",
       "      <td>744.656599</td>\n",
       "      <td>557.819820</td>\n",
       "      <td>248.546932</td>\n",
       "      <td>711.949744</td>\n",
       "      <td>958.916018</td>\n",
       "      <td>493.969120</td>\n",
       "      <td>...</td>\n",
       "      <td>512.931382</td>\n",
       "      <td>13644.172300</td>\n",
       "      <td>1062.475909</td>\n",
       "      <td>7633.960182</td>\n",
       "      <td>13825.053630</td>\n",
       "      <td>3989.865169</td>\n",
       "      <td>263.497930</td>\n",
       "      <td>323.381277</td>\n",
       "      <td>860.563374</td>\n",
       "      <td>307.142798</td>\n",
       "    </tr>\n",
       "  </tbody>\n",
       "</table>\n",
       "<p>5 rows × 22 columns</p>\n",
       "</div>"
      ],
      "text/plain": [
       "             B cells naive  B cells memory  Plasma cells  T cells CD8  \\\n",
       "Gene symbol                                                             \n",
       "ABCB4           555.713449       10.744235      7.225819     4.311280   \n",
       "ABCB9            15.603544       22.094787    653.392328    24.223723   \n",
       "ACAP1           215.305951      321.621021     38.616872  1055.613378   \n",
       "ACHE             15.117949       16.648847     22.123737    13.428288   \n",
       "ACP5            605.897384     1935.201479   1120.104684   306.312519   \n",
       "\n",
       "             T cells CD4 naive  T cells CD4 memory resting  \\\n",
       "Gene symbol                                                  \n",
       "ABCB4                 4.605860                    7.406442   \n",
       "ABCB9                35.671507                   30.048192   \n",
       "ACAP1              1790.097170                  922.152747   \n",
       "ACHE                 27.187732                   18.444927   \n",
       "ACP5                744.656599                  557.819820   \n",
       "\n",
       "             T cells CD4 memory activated  T cells follicular helper  \\\n",
       "Gene symbol                                                            \n",
       "ABCB4                            8.043976                   6.469993   \n",
       "ABCB9                           38.455423                  17.604795   \n",
       "ACAP1                          340.883424                1107.798265   \n",
       "ACHE                            13.441268                  14.805542   \n",
       "ACP5                           248.546932                 711.949744   \n",
       "\n",
       "             T cells regulatory (Tregs)  T cells gamma delta     ...       \\\n",
       "Gene symbol                                                      ...        \n",
       "ABCB4                          7.833082             9.312295     ...        \n",
       "ABCB9                         46.073657            19.715722     ...        \n",
       "ACAP1                       1995.482601           280.075719     ...        \n",
       "ACHE                          24.652712            33.658448     ...        \n",
       "ACP5                         958.916018           493.969120     ...        \n",
       "\n",
       "              Monocytes  Macrophages M0  Macrophages M1  Macrophages M2  \\\n",
       "Gene symbol                                                               \n",
       "ABCB4          6.202496        7.951360       27.557710      121.432277   \n",
       "ABCB9         20.309426       56.251887       29.380878       40.390260   \n",
       "ACAP1        190.879024       48.972217       30.974254       23.055150   \n",
       "ACHE          16.375268       13.692963     1373.069620       48.585761   \n",
       "ACP5         512.931382    13644.172300     1062.475909     7633.960182   \n",
       "\n",
       "             Dendritic cells resting  Dendritic cells activated  \\\n",
       "Gene symbol                                                       \n",
       "ABCB4                     114.636747                   4.872184   \n",
       "ABCB9                     123.993305                  23.384603   \n",
       "ACAP1                      61.386550                  26.412923   \n",
       "ACHE                       16.715474                 193.159977   \n",
       "ACP5                    13825.053630                3989.865169   \n",
       "\n",
       "             Mast cells resting  Mast cells activated  Eosinophils  \\\n",
       "Gene symbol                                                          \n",
       "ABCB4                  4.727985             34.113659    15.030530   \n",
       "ABCB9                 53.466757             23.615746    29.786442   \n",
       "ACAP1                104.200198             73.607932   696.442802   \n",
       "ACHE                  13.948778             20.501249    40.414927   \n",
       "ACP5                 263.497930            323.381277   860.563374   \n",
       "\n",
       "             Neutrophils  \n",
       "Gene symbol               \n",
       "ABCB4          14.906888  \n",
       "ABCB9          33.679147  \n",
       "ACAP1         596.025961  \n",
       "ACHE           22.766494  \n",
       "ACP5          307.142798  \n",
       "\n",
       "[5 rows x 22 columns]"
      ]
     },
     "execution_count": 12,
     "metadata": {},
     "output_type": "execute_result"
    }
   ],
   "source": [
    "reference = pd.read_csv('LM22.txt', sep='\\t').set_index('Gene symbol')\n",
    "print reference.shape\n",
    "reference.head()"
   ]
  },
  {
   "cell_type": "code",
   "execution_count": 151,
   "metadata": {
    "ExecuteTime": {
     "end_time": "2016-07-06T12:20:31.072628",
     "start_time": "2016-07-06T12:20:31.054085"
    },
    "collapsed": false,
    "run_control": {
     "frozen": false,
     "read_only": false
    }
   },
   "outputs": [
    {
     "data": {
      "text/plain": [
       "(547, 2)"
      ]
     },
     "execution_count": 151,
     "metadata": {},
     "output_type": "execute_result"
    }
   ],
   "source": [
    "hard_cols = ['T cells CD8', 'T cells CD4 naive']\n",
    "reference[hard_cols].shape"
   ]
  },
  {
   "cell_type": "code",
   "execution_count": 152,
   "metadata": {
    "ExecuteTime": {
     "end_time": "2016-07-06T12:21:03.683046",
     "start_time": "2016-07-06T12:21:03.651148"
    },
    "collapsed": false,
    "run_control": {
     "frozen": false,
     "read_only": false
    }
   },
   "outputs": [
    {
     "data": {
      "text/plain": [
       "GeneSymbol\n",
       "ABCB4     283.228842\n",
       "ABCB9      18.849165\n",
       "ACAP1     268.463486\n",
       "ACHE       15.883398\n",
       "ACP5     1270.549432\n",
       "dtype: float64"
      ]
     },
     "execution_count": 152,
     "metadata": {},
     "output_type": "execute_result"
    }
   ],
   "source": [
    "weights = [.5, .5] # as confusing as we can make it -- a direct average\n",
    "mix7=(reference[hard_cols] * weights).sum(axis=1)\n",
    "mix7.head()"
   ]
  },
  {
   "cell_type": "code",
   "execution_count": 153,
   "metadata": {
    "ExecuteTime": {
     "end_time": "2016-07-06T12:21:04.565137",
     "start_time": "2016-07-06T12:21:04.548205"
    },
    "collapsed": false,
    "run_control": {
     "frozen": false,
     "read_only": false
    }
   },
   "outputs": [
    {
     "data": {
      "text/plain": [
       "GeneSymbol\n",
       "ABCB4     281.877613\n",
       "ABCB9      17.341792\n",
       "ACAP1     269.652332\n",
       "ACHE       14.706061\n",
       "ACP5     1270.305885\n",
       "dtype: float64"
      ]
     },
     "execution_count": 153,
     "metadata": {},
     "output_type": "execute_result"
    }
   ],
   "source": [
    "mix8 = mix7 + np.random.normal(0,1,len(mix7))\n",
    "mix8.head()\n"
   ]
  },
  {
   "cell_type": "code",
   "execution_count": 154,
   "metadata": {
    "ExecuteTime": {
     "end_time": "2016-07-06T12:21:05.409418",
     "start_time": "2016-07-06T12:21:05.398010"
    },
    "collapsed": false,
    "run_control": {
     "frozen": false,
     "read_only": false
    }
   },
   "outputs": [
    {
     "data": {
      "text/plain": [
       "(547,)"
      ]
     },
     "execution_count": 154,
     "metadata": {},
     "output_type": "execute_result"
    }
   ],
   "source": [
    "weights_noisy3 = np.reshape(weights*len(mix7), reference[hard_cols].shape)\n",
    "weights_noisy3 += np.abs(np.random.normal(0,0.1, weights_noisy3.shape)) # using absolute value error\n",
    "weights_noisy3 = weights_noisy3.clip(0,1)\n",
    "mix9=(weights_noisy3 * reference[hard_cols]).sum(axis=1)\n",
    "mix9.shape"
   ]
  },
  {
   "cell_type": "code",
   "execution_count": 155,
   "metadata": {
    "ExecuteTime": {
     "end_time": "2016-07-06T12:21:08.645385",
     "start_time": "2016-07-06T12:21:08.613162"
    },
    "collapsed": false,
    "run_control": {
     "frozen": false,
     "read_only": false
    }
   },
   "outputs": [
    {
     "name": "stdout",
     "output_type": "stream",
     "text": [
      "(547, 3)\n"
     ]
    },
    {
     "data": {
      "text/html": [
       "<div>\n",
       "<table border=\"1\" class=\"dataframe\">\n",
       "  <thead>\n",
       "    <tr style=\"text-align: right;\">\n",
       "      <th></th>\n",
       "      <th>7 NoNoise</th>\n",
       "      <th>8 SimpleNoise</th>\n",
       "      <th>9 ComplexNoise</th>\n",
       "    </tr>\n",
       "    <tr>\n",
       "      <th>GeneSymbol</th>\n",
       "      <th></th>\n",
       "      <th></th>\n",
       "      <th></th>\n",
       "    </tr>\n",
       "  </thead>\n",
       "  <tbody>\n",
       "    <tr>\n",
       "      <th>ABCB4</th>\n",
       "      <td>283.228842</td>\n",
       "      <td>281.877613</td>\n",
       "      <td>367.980015</td>\n",
       "    </tr>\n",
       "    <tr>\n",
       "      <th>ABCB9</th>\n",
       "      <td>18.849165</td>\n",
       "      <td>17.341792</td>\n",
       "      <td>22.014922</td>\n",
       "    </tr>\n",
       "    <tr>\n",
       "      <th>ACAP1</th>\n",
       "      <td>268.463486</td>\n",
       "      <td>269.652332</td>\n",
       "      <td>299.624897</td>\n",
       "    </tr>\n",
       "    <tr>\n",
       "      <th>ACHE</th>\n",
       "      <td>15.883398</td>\n",
       "      <td>14.706061</td>\n",
       "      <td>19.919718</td>\n",
       "    </tr>\n",
       "    <tr>\n",
       "      <th>ACP5</th>\n",
       "      <td>1270.549432</td>\n",
       "      <td>1270.305885</td>\n",
       "      <td>1606.157248</td>\n",
       "    </tr>\n",
       "  </tbody>\n",
       "</table>\n",
       "</div>"
      ],
      "text/plain": [
       "              7 NoNoise  8 SimpleNoise  9 ComplexNoise\n",
       "GeneSymbol                                            \n",
       "ABCB4        283.228842     281.877613      367.980015\n",
       "ABCB9         18.849165      17.341792       22.014922\n",
       "ACAP1        268.463486     269.652332      299.624897\n",
       "ACHE          15.883398      14.706061       19.919718\n",
       "ACP5        1270.549432    1270.305885     1606.157248"
      ]
     },
     "execution_count": 155,
     "metadata": {},
     "output_type": "execute_result"
    }
   ],
   "source": [
    "# write out the reference profile mixtures\n",
    "hard_mixtures_refprof = pd.DataFrame({'7 NoNoise':mix7, '8 SimpleNoise': mix8, '9 ComplexNoise': mix9})\n",
    "hard_mixtures_refprof.index.name='GeneSymbol'\n",
    "hard_mixtures_refprof.to_csv('test_mixtures/hard_reference_profile_mixtures.txt', sep='\\t')\n",
    "print hard_mixtures_refprof.shape\n",
    "hard_mixtures_refprof.head()"
   ]
  },
  {
   "cell_type": "markdown",
   "metadata": {},
   "source": [
    "### run through cibersort"
   ]
  },
  {
   "cell_type": "code",
   "execution_count": 156,
   "metadata": {
    "ExecuteTime": {
     "end_time": "2016-07-06T12:23:03.127881",
     "start_time": "2016-07-06T12:21:16.095873"
    },
    "collapsed": false,
    "run_control": {
     "frozen": false,
     "read_only": false
    }
   },
   "outputs": [],
   "source": [
    "!java -Xmx3g -Xms3g -jar ~/CIBERSORT_package/CIBERSORT.jar -M test_mixtures/hard_reference_profile_mixtures.txt -B LM22.txt > test_mixtures/out/c3"
   ]
  },
  {
   "cell_type": "code",
   "execution_count": 157,
   "metadata": {
    "ExecuteTime": {
     "end_time": "2016-07-06T12:24:08.638772",
     "start_time": "2016-07-06T12:24:08.571828"
    },
    "collapsed": false,
    "run_control": {
     "frozen": false,
     "read_only": false
    }
   },
   "outputs": [
    {
     "data": {
      "text/html": [
       "<div>\n",
       "<table border=\"1\" class=\"dataframe\">\n",
       "  <thead>\n",
       "    <tr style=\"text-align: right;\">\n",
       "      <th></th>\n",
       "      <th>Column</th>\n",
       "      <th>B cells naive</th>\n",
       "      <th>B cells memory</th>\n",
       "      <th>Plasma cells</th>\n",
       "      <th>T cells CD8</th>\n",
       "      <th>T cells CD4 naive</th>\n",
       "      <th>T cells CD4 memory resting</th>\n",
       "      <th>T cells CD4 memory activated</th>\n",
       "      <th>T cells follicular helper</th>\n",
       "      <th>T cells regulatory (Tregs)</th>\n",
       "      <th>...</th>\n",
       "      <th>Dendritic cells resting</th>\n",
       "      <th>Dendritic cells activated</th>\n",
       "      <th>Mast cells resting</th>\n",
       "      <th>Mast cells activated</th>\n",
       "      <th>Eosinophils</th>\n",
       "      <th>Neutrophils</th>\n",
       "      <th>P-value</th>\n",
       "      <th>Pearson Correlation</th>\n",
       "      <th>RMSE</th>\n",
       "      <th>Unnamed: 26</th>\n",
       "    </tr>\n",
       "  </thead>\n",
       "  <tbody>\n",
       "    <tr>\n",
       "      <th>0</th>\n",
       "      <td>0</td>\n",
       "      <td>0.500715</td>\n",
       "      <td>0.498280</td>\n",
       "      <td>0.000150</td>\n",
       "      <td>0</td>\n",
       "      <td>0.000205</td>\n",
       "      <td>0.000042</td>\n",
       "      <td>0.000045</td>\n",
       "      <td>0</td>\n",
       "      <td>0</td>\n",
       "      <td>...</td>\n",
       "      <td>0.000035</td>\n",
       "      <td>0.000031</td>\n",
       "      <td>0</td>\n",
       "      <td>0</td>\n",
       "      <td>0.000031</td>\n",
       "      <td>0.000000</td>\n",
       "      <td>0.0</td>\n",
       "      <td>0.999906</td>\n",
       "      <td>0.039525</td>\n",
       "      <td>NaN</td>\n",
       "    </tr>\n",
       "    <tr>\n",
       "      <th>1</th>\n",
       "      <td>1</td>\n",
       "      <td>0.500361</td>\n",
       "      <td>0.498309</td>\n",
       "      <td>0.000279</td>\n",
       "      <td>0</td>\n",
       "      <td>0.000249</td>\n",
       "      <td>0.000032</td>\n",
       "      <td>0.000120</td>\n",
       "      <td>0</td>\n",
       "      <td>0</td>\n",
       "      <td>...</td>\n",
       "      <td>0.000186</td>\n",
       "      <td>0.000043</td>\n",
       "      <td>0</td>\n",
       "      <td>0</td>\n",
       "      <td>0.000056</td>\n",
       "      <td>0.000028</td>\n",
       "      <td>0.0</td>\n",
       "      <td>0.999906</td>\n",
       "      <td>0.039696</td>\n",
       "      <td>NaN</td>\n",
       "    </tr>\n",
       "    <tr>\n",
       "      <th>2</th>\n",
       "      <td>2</td>\n",
       "      <td>0.492859</td>\n",
       "      <td>0.500923</td>\n",
       "      <td>0.000000</td>\n",
       "      <td>0</td>\n",
       "      <td>0.001332</td>\n",
       "      <td>0.000000</td>\n",
       "      <td>0.001114</td>\n",
       "      <td>0</td>\n",
       "      <td>0</td>\n",
       "      <td>...</td>\n",
       "      <td>0.000810</td>\n",
       "      <td>0.000000</td>\n",
       "      <td>0</td>\n",
       "      <td>0</td>\n",
       "      <td>0.000000</td>\n",
       "      <td>0.000000</td>\n",
       "      <td>0.0</td>\n",
       "      <td>0.998445</td>\n",
       "      <td>0.068860</td>\n",
       "      <td>NaN</td>\n",
       "    </tr>\n",
       "  </tbody>\n",
       "</table>\n",
       "<p>3 rows × 27 columns</p>\n",
       "</div>"
      ],
      "text/plain": [
       "   Column  B cells naive  B cells memory  Plasma cells  T cells CD8  \\\n",
       "0       0       0.500715        0.498280      0.000150            0   \n",
       "1       1       0.500361        0.498309      0.000279            0   \n",
       "2       2       0.492859        0.500923      0.000000            0   \n",
       "\n",
       "   T cells CD4 naive  T cells CD4 memory resting  \\\n",
       "0           0.000205                    0.000042   \n",
       "1           0.000249                    0.000032   \n",
       "2           0.001332                    0.000000   \n",
       "\n",
       "   T cells CD4 memory activated  T cells follicular helper  \\\n",
       "0                      0.000045                          0   \n",
       "1                      0.000120                          0   \n",
       "2                      0.001114                          0   \n",
       "\n",
       "   T cells regulatory (Tregs)     ...       Dendritic cells resting  \\\n",
       "0                           0     ...                      0.000035   \n",
       "1                           0     ...                      0.000186   \n",
       "2                           0     ...                      0.000810   \n",
       "\n",
       "   Dendritic cells activated  Mast cells resting  Mast cells activated  \\\n",
       "0                   0.000031                   0                     0   \n",
       "1                   0.000043                   0                     0   \n",
       "2                   0.000000                   0                     0   \n",
       "\n",
       "   Eosinophils  Neutrophils  P-value  Pearson Correlation      RMSE  \\\n",
       "0     0.000031     0.000000      0.0             0.999906  0.039525   \n",
       "1     0.000056     0.000028      0.0             0.999906  0.039696   \n",
       "2     0.000000     0.000000      0.0             0.998445  0.068860   \n",
       "\n",
       "   Unnamed: 26  \n",
       "0          NaN  \n",
       "1          NaN  \n",
       "2          NaN  \n",
       "\n",
       "[3 rows x 27 columns]"
      ]
     },
     "execution_count": 157,
     "metadata": {},
     "output_type": "execute_result"
    }
   ],
   "source": [
    "results3 = pd.read_csv('test_mixtures/out/c3', skiprows=range(6), sep='\\t')\n",
    "results3.head()"
   ]
  },
  {
   "cell_type": "code",
   "execution_count": 158,
   "metadata": {
    "ExecuteTime": {
     "end_time": "2016-07-06T12:24:10.460003",
     "start_time": "2016-07-06T12:24:10.406778"
    },
    "collapsed": false,
    "run_control": {
     "frozen": false,
     "read_only": false
    }
   },
   "outputs": [
    {
     "name": "stdout",
     "output_type": "stream",
     "text": [
      "(3, 26) (3, 22)\n"
     ]
    },
    {
     "data": {
      "text/html": [
       "<div>\n",
       "<table border=\"1\" class=\"dataframe\">\n",
       "  <thead>\n",
       "    <tr style=\"text-align: right;\">\n",
       "      <th></th>\n",
       "      <th>B cells naive</th>\n",
       "      <th>B cells memory</th>\n",
       "      <th>Plasma cells</th>\n",
       "      <th>T cells CD8</th>\n",
       "      <th>T cells CD4 naive</th>\n",
       "      <th>T cells CD4 memory resting</th>\n",
       "      <th>T cells CD4 memory activated</th>\n",
       "      <th>T cells follicular helper</th>\n",
       "      <th>T cells regulatory (Tregs)</th>\n",
       "      <th>T cells gamma delta</th>\n",
       "      <th>...</th>\n",
       "      <th>Monocytes</th>\n",
       "      <th>Macrophages M0</th>\n",
       "      <th>Macrophages M1</th>\n",
       "      <th>Macrophages M2</th>\n",
       "      <th>Dendritic cells resting</th>\n",
       "      <th>Dendritic cells activated</th>\n",
       "      <th>Mast cells resting</th>\n",
       "      <th>Mast cells activated</th>\n",
       "      <th>Eosinophils</th>\n",
       "      <th>Neutrophils</th>\n",
       "    </tr>\n",
       "  </thead>\n",
       "  <tbody>\n",
       "    <tr>\n",
       "      <th>0</th>\n",
       "      <td>0.500715</td>\n",
       "      <td>0.498280</td>\n",
       "      <td>0.000150</td>\n",
       "      <td>0</td>\n",
       "      <td>0.000205</td>\n",
       "      <td>0.000042</td>\n",
       "      <td>0.000045</td>\n",
       "      <td>0</td>\n",
       "      <td>0</td>\n",
       "      <td>0.000000</td>\n",
       "      <td>...</td>\n",
       "      <td>0.000073</td>\n",
       "      <td>0.000000</td>\n",
       "      <td>0</td>\n",
       "      <td>0.000071</td>\n",
       "      <td>0.000035</td>\n",
       "      <td>0.000031</td>\n",
       "      <td>0</td>\n",
       "      <td>0</td>\n",
       "      <td>0.000031</td>\n",
       "      <td>0.000000</td>\n",
       "    </tr>\n",
       "    <tr>\n",
       "      <th>1</th>\n",
       "      <td>0.500361</td>\n",
       "      <td>0.498309</td>\n",
       "      <td>0.000279</td>\n",
       "      <td>0</td>\n",
       "      <td>0.000249</td>\n",
       "      <td>0.000032</td>\n",
       "      <td>0.000120</td>\n",
       "      <td>0</td>\n",
       "      <td>0</td>\n",
       "      <td>0.000000</td>\n",
       "      <td>...</td>\n",
       "      <td>0.000014</td>\n",
       "      <td>0.000000</td>\n",
       "      <td>0</td>\n",
       "      <td>0.000025</td>\n",
       "      <td>0.000186</td>\n",
       "      <td>0.000043</td>\n",
       "      <td>0</td>\n",
       "      <td>0</td>\n",
       "      <td>0.000056</td>\n",
       "      <td>0.000028</td>\n",
       "    </tr>\n",
       "    <tr>\n",
       "      <th>2</th>\n",
       "      <td>0.492859</td>\n",
       "      <td>0.500923</td>\n",
       "      <td>0.000000</td>\n",
       "      <td>0</td>\n",
       "      <td>0.001332</td>\n",
       "      <td>0.000000</td>\n",
       "      <td>0.001114</td>\n",
       "      <td>0</td>\n",
       "      <td>0</td>\n",
       "      <td>0.000013</td>\n",
       "      <td>...</td>\n",
       "      <td>0.000059</td>\n",
       "      <td>0.000251</td>\n",
       "      <td>0</td>\n",
       "      <td>0.000000</td>\n",
       "      <td>0.000810</td>\n",
       "      <td>0.000000</td>\n",
       "      <td>0</td>\n",
       "      <td>0</td>\n",
       "      <td>0.000000</td>\n",
       "      <td>0.000000</td>\n",
       "    </tr>\n",
       "  </tbody>\n",
       "</table>\n",
       "<p>3 rows × 22 columns</p>\n",
       "</div>"
      ],
      "text/plain": [
       "   B cells naive  B cells memory  Plasma cells  T cells CD8  \\\n",
       "0       0.500715        0.498280      0.000150            0   \n",
       "1       0.500361        0.498309      0.000279            0   \n",
       "2       0.492859        0.500923      0.000000            0   \n",
       "\n",
       "   T cells CD4 naive  T cells CD4 memory resting  \\\n",
       "0           0.000205                    0.000042   \n",
       "1           0.000249                    0.000032   \n",
       "2           0.001332                    0.000000   \n",
       "\n",
       "   T cells CD4 memory activated  T cells follicular helper  \\\n",
       "0                      0.000045                          0   \n",
       "1                      0.000120                          0   \n",
       "2                      0.001114                          0   \n",
       "\n",
       "   T cells regulatory (Tregs)  T cells gamma delta     ...       Monocytes  \\\n",
       "0                           0             0.000000     ...        0.000073   \n",
       "1                           0             0.000000     ...        0.000014   \n",
       "2                           0             0.000013     ...        0.000059   \n",
       "\n",
       "   Macrophages M0  Macrophages M1  Macrophages M2  Dendritic cells resting  \\\n",
       "0        0.000000               0        0.000071                 0.000035   \n",
       "1        0.000000               0        0.000025                 0.000186   \n",
       "2        0.000251               0        0.000000                 0.000810   \n",
       "\n",
       "   Dendritic cells activated  Mast cells resting  Mast cells activated  \\\n",
       "0                   0.000031                   0                     0   \n",
       "1                   0.000043                   0                     0   \n",
       "2                   0.000000                   0                     0   \n",
       "\n",
       "   Eosinophils  Neutrophils  \n",
       "0     0.000031     0.000000  \n",
       "1     0.000056     0.000028  \n",
       "2     0.000000     0.000000  \n",
       "\n",
       "[3 rows x 22 columns]"
      ]
     },
     "execution_count": 158,
     "metadata": {},
     "output_type": "execute_result"
    }
   ],
   "source": [
    "del results3['Unnamed: 26']\n",
    "results3_dat = results3[results3.columns[1:-3]]\n",
    "print results3.shape, results3_dat.shape\n",
    "results3_dat.head()"
   ]
  },
  {
   "cell_type": "code",
   "execution_count": 159,
   "metadata": {
    "ExecuteTime": {
     "end_time": "2016-07-06T12:24:12.466469",
     "start_time": "2016-07-06T12:24:12.418753"
    },
    "collapsed": false,
    "run_control": {
     "frozen": false,
     "read_only": false
    }
   },
   "outputs": [
    {
     "data": {
      "text/html": [
       "<div>\n",
       "<table border=\"1\" class=\"dataframe\">\n",
       "  <thead>\n",
       "    <tr style=\"text-align: right;\">\n",
       "      <th></th>\n",
       "      <th>B cells naive</th>\n",
       "      <th>B cells memory</th>\n",
       "      <th>Plasma cells</th>\n",
       "      <th>T cells CD8</th>\n",
       "      <th>T cells CD4 naive</th>\n",
       "      <th>T cells CD4 memory resting</th>\n",
       "      <th>T cells CD4 memory activated</th>\n",
       "      <th>T cells follicular helper</th>\n",
       "      <th>T cells regulatory (Tregs)</th>\n",
       "      <th>T cells gamma delta</th>\n",
       "      <th>...</th>\n",
       "      <th>Monocytes</th>\n",
       "      <th>Macrophages M0</th>\n",
       "      <th>Macrophages M1</th>\n",
       "      <th>Macrophages M2</th>\n",
       "      <th>Dendritic cells resting</th>\n",
       "      <th>Dendritic cells activated</th>\n",
       "      <th>Mast cells resting</th>\n",
       "      <th>Mast cells activated</th>\n",
       "      <th>Eosinophils</th>\n",
       "      <th>Neutrophils</th>\n",
       "    </tr>\n",
       "  </thead>\n",
       "  <tbody>\n",
       "    <tr>\n",
       "      <th>0</th>\n",
       "      <td>0.5</td>\n",
       "      <td>0.5</td>\n",
       "      <td>0.0</td>\n",
       "      <td>0.0</td>\n",
       "      <td>0.0</td>\n",
       "      <td>0.0</td>\n",
       "      <td>0.0</td>\n",
       "      <td>0.0</td>\n",
       "      <td>0.0</td>\n",
       "      <td>0.0</td>\n",
       "      <td>...</td>\n",
       "      <td>0.0</td>\n",
       "      <td>0.0</td>\n",
       "      <td>0.0</td>\n",
       "      <td>0.0</td>\n",
       "      <td>0.0</td>\n",
       "      <td>0.0</td>\n",
       "      <td>0.0</td>\n",
       "      <td>0.0</td>\n",
       "      <td>0.0</td>\n",
       "      <td>0.0</td>\n",
       "    </tr>\n",
       "    <tr>\n",
       "      <th>1</th>\n",
       "      <td>0.5</td>\n",
       "      <td>0.5</td>\n",
       "      <td>0.0</td>\n",
       "      <td>0.0</td>\n",
       "      <td>0.0</td>\n",
       "      <td>0.0</td>\n",
       "      <td>0.0</td>\n",
       "      <td>0.0</td>\n",
       "      <td>0.0</td>\n",
       "      <td>0.0</td>\n",
       "      <td>...</td>\n",
       "      <td>0.0</td>\n",
       "      <td>0.0</td>\n",
       "      <td>0.0</td>\n",
       "      <td>0.0</td>\n",
       "      <td>0.0</td>\n",
       "      <td>0.0</td>\n",
       "      <td>0.0</td>\n",
       "      <td>0.0</td>\n",
       "      <td>0.0</td>\n",
       "      <td>0.0</td>\n",
       "    </tr>\n",
       "    <tr>\n",
       "      <th>2</th>\n",
       "      <td>0.5</td>\n",
       "      <td>0.5</td>\n",
       "      <td>0.0</td>\n",
       "      <td>0.0</td>\n",
       "      <td>0.0</td>\n",
       "      <td>0.0</td>\n",
       "      <td>0.0</td>\n",
       "      <td>0.0</td>\n",
       "      <td>0.0</td>\n",
       "      <td>0.0</td>\n",
       "      <td>...</td>\n",
       "      <td>0.0</td>\n",
       "      <td>0.0</td>\n",
       "      <td>0.0</td>\n",
       "      <td>0.0</td>\n",
       "      <td>0.0</td>\n",
       "      <td>0.0</td>\n",
       "      <td>0.0</td>\n",
       "      <td>0.0</td>\n",
       "      <td>0.0</td>\n",
       "      <td>0.0</td>\n",
       "    </tr>\n",
       "  </tbody>\n",
       "</table>\n",
       "<p>3 rows × 22 columns</p>\n",
       "</div>"
      ],
      "text/plain": [
       "   B cells naive  B cells memory  Plasma cells  T cells CD8  \\\n",
       "0            0.5             0.5           0.0          0.0   \n",
       "1            0.5             0.5           0.0          0.0   \n",
       "2            0.5             0.5           0.0          0.0   \n",
       "\n",
       "   T cells CD4 naive  T cells CD4 memory resting  \\\n",
       "0                0.0                         0.0   \n",
       "1                0.0                         0.0   \n",
       "2                0.0                         0.0   \n",
       "\n",
       "   T cells CD4 memory activated  T cells follicular helper  \\\n",
       "0                           0.0                        0.0   \n",
       "1                           0.0                        0.0   \n",
       "2                           0.0                        0.0   \n",
       "\n",
       "   T cells regulatory (Tregs)  T cells gamma delta     ...       Monocytes  \\\n",
       "0                         0.0                  0.0     ...             0.0   \n",
       "1                         0.0                  0.0     ...             0.0   \n",
       "2                         0.0                  0.0     ...             0.0   \n",
       "\n",
       "   Macrophages M0  Macrophages M1  Macrophages M2  Dendritic cells resting  \\\n",
       "0             0.0             0.0             0.0                      0.0   \n",
       "1             0.0             0.0             0.0                      0.0   \n",
       "2             0.0             0.0             0.0                      0.0   \n",
       "\n",
       "   Dendritic cells activated  Mast cells resting  Mast cells activated  \\\n",
       "0                        0.0                 0.0                   0.0   \n",
       "1                        0.0                 0.0                   0.0   \n",
       "2                        0.0                 0.0                   0.0   \n",
       "\n",
       "   Eosinophils  Neutrophils  \n",
       "0          0.0          0.0  \n",
       "1          0.0          0.0  \n",
       "2          0.0          0.0  \n",
       "\n",
       "[3 rows x 22 columns]"
      ]
     },
     "execution_count": 159,
     "metadata": {},
     "output_type": "execute_result"
    }
   ],
   "source": [
    "hard_ref_weights = pd.DataFrame(np.zeros(results3_dat.shape),columns=results3_dat.columns)\n",
    "hard_ref_weights.loc[:,hard_cols] = weights\n",
    "hard_ref_weights"
   ]
  },
  {
   "cell_type": "code",
   "execution_count": 160,
   "metadata": {
    "ExecuteTime": {
     "end_time": "2016-07-06T12:24:13.956587",
     "start_time": "2016-07-06T12:24:13.938753"
    },
    "collapsed": false,
    "run_control": {
     "frozen": false,
     "read_only": false
    }
   },
   "outputs": [
    {
     "name": "stdout",
     "output_type": "stream",
     "text": [
      "correlation between GT and estimate per mixture\n",
      "0    0.999997\n",
      "1    0.999997\n",
      "2    0.999954\n",
      "dtype: float64\n"
     ]
    }
   ],
   "source": [
    "print 'correlation between GT and estimate per mixture'\n",
    "print results3_dat.corrwith(hard_ref_weights, axis=1)"
   ]
  },
  {
   "cell_type": "markdown",
   "metadata": {},
   "source": [
    "Noise again does nothing"
   ]
  },
  {
   "cell_type": "code",
   "execution_count": 162,
   "metadata": {
    "ExecuteTime": {
     "end_time": "2016-07-06T12:24:34.535244",
     "start_time": "2016-07-06T12:24:34.019688"
    },
    "collapsed": false,
    "run_control": {
     "frozen": false,
     "read_only": false
    }
   },
   "outputs": [
    {
     "name": "stdout",
     "output_type": "stream",
     "text": [
      "absolute difference from ground truth, summarized by column:\n"
     ]
    },
    {
     "name": "stderr",
     "output_type": "stream",
     "text": [
      "/home/maxim/anaconda2/lib/python2.7/site-packages/ipykernel/__main__.py:4: FutureWarning: sort(columns=....) is deprecated, use sort_values(by=.....)\n"
     ]
    },
    {
     "data": {
      "text/html": [
       "<div>\n",
       "<table border=\"1\" class=\"dataframe\">\n",
       "  <thead>\n",
       "    <tr style=\"text-align: right;\">\n",
       "      <th></th>\n",
       "      <th>count</th>\n",
       "      <th>mean</th>\n",
       "      <th>std</th>\n",
       "      <th>min</th>\n",
       "      <th>25%</th>\n",
       "      <th>50%</th>\n",
       "      <th>75%</th>\n",
       "      <th>max</th>\n",
       "    </tr>\n",
       "  </thead>\n",
       "  <tbody>\n",
       "    <tr>\n",
       "      <th>B cells naive</th>\n",
       "      <td>3.0</td>\n",
       "      <td>-0.002022</td>\n",
       "      <td>0.004437</td>\n",
       "      <td>-0.007141</td>\n",
       "      <td>-0.003390</td>\n",
       "      <td>0.000361</td>\n",
       "      <td>0.000538</td>\n",
       "      <td>0.000715</td>\n",
       "    </tr>\n",
       "    <tr>\n",
       "      <th>B cells memory</th>\n",
       "      <td>3.0</td>\n",
       "      <td>-0.000829</td>\n",
       "      <td>0.001518</td>\n",
       "      <td>-0.001720</td>\n",
       "      <td>-0.001706</td>\n",
       "      <td>-0.001691</td>\n",
       "      <td>-0.000384</td>\n",
       "      <td>0.000923</td>\n",
       "    </tr>\n",
       "    <tr>\n",
       "      <th>Mast cells activated</th>\n",
       "      <td>3.0</td>\n",
       "      <td>0.000000</td>\n",
       "      <td>0.000000</td>\n",
       "      <td>0.000000</td>\n",
       "      <td>0.000000</td>\n",
       "      <td>0.000000</td>\n",
       "      <td>0.000000</td>\n",
       "      <td>0.000000</td>\n",
       "    </tr>\n",
       "    <tr>\n",
       "      <th>T cells CD8</th>\n",
       "      <td>3.0</td>\n",
       "      <td>0.000000</td>\n",
       "      <td>0.000000</td>\n",
       "      <td>0.000000</td>\n",
       "      <td>0.000000</td>\n",
       "      <td>0.000000</td>\n",
       "      <td>0.000000</td>\n",
       "      <td>0.000000</td>\n",
       "    </tr>\n",
       "    <tr>\n",
       "      <th>Mast cells resting</th>\n",
       "      <td>3.0</td>\n",
       "      <td>0.000000</td>\n",
       "      <td>0.000000</td>\n",
       "      <td>0.000000</td>\n",
       "      <td>0.000000</td>\n",
       "      <td>0.000000</td>\n",
       "      <td>0.000000</td>\n",
       "      <td>0.000000</td>\n",
       "    </tr>\n",
       "    <tr>\n",
       "      <th>Macrophages M1</th>\n",
       "      <td>3.0</td>\n",
       "      <td>0.000000</td>\n",
       "      <td>0.000000</td>\n",
       "      <td>0.000000</td>\n",
       "      <td>0.000000</td>\n",
       "      <td>0.000000</td>\n",
       "      <td>0.000000</td>\n",
       "      <td>0.000000</td>\n",
       "    </tr>\n",
       "    <tr>\n",
       "      <th>NK cells activated</th>\n",
       "      <td>3.0</td>\n",
       "      <td>0.000000</td>\n",
       "      <td>0.000000</td>\n",
       "      <td>0.000000</td>\n",
       "      <td>0.000000</td>\n",
       "      <td>0.000000</td>\n",
       "      <td>0.000000</td>\n",
       "      <td>0.000000</td>\n",
       "    </tr>\n",
       "    <tr>\n",
       "      <th>T cells follicular helper</th>\n",
       "      <td>3.0</td>\n",
       "      <td>0.000000</td>\n",
       "      <td>0.000000</td>\n",
       "      <td>0.000000</td>\n",
       "      <td>0.000000</td>\n",
       "      <td>0.000000</td>\n",
       "      <td>0.000000</td>\n",
       "      <td>0.000000</td>\n",
       "    </tr>\n",
       "    <tr>\n",
       "      <th>T cells regulatory (Tregs)</th>\n",
       "      <td>3.0</td>\n",
       "      <td>0.000000</td>\n",
       "      <td>0.000000</td>\n",
       "      <td>0.000000</td>\n",
       "      <td>0.000000</td>\n",
       "      <td>0.000000</td>\n",
       "      <td>0.000000</td>\n",
       "      <td>0.000000</td>\n",
       "    </tr>\n",
       "    <tr>\n",
       "      <th>T cells gamma delta</th>\n",
       "      <td>3.0</td>\n",
       "      <td>0.000004</td>\n",
       "      <td>0.000007</td>\n",
       "      <td>0.000000</td>\n",
       "      <td>0.000000</td>\n",
       "      <td>0.000000</td>\n",
       "      <td>0.000006</td>\n",
       "      <td>0.000013</td>\n",
       "    </tr>\n",
       "    <tr>\n",
       "      <th>Neutrophils</th>\n",
       "      <td>3.0</td>\n",
       "      <td>0.000009</td>\n",
       "      <td>0.000016</td>\n",
       "      <td>0.000000</td>\n",
       "      <td>0.000000</td>\n",
       "      <td>0.000000</td>\n",
       "      <td>0.000014</td>\n",
       "      <td>0.000028</td>\n",
       "    </tr>\n",
       "    <tr>\n",
       "      <th>Dendritic cells activated</th>\n",
       "      <td>3.0</td>\n",
       "      <td>0.000024</td>\n",
       "      <td>0.000022</td>\n",
       "      <td>0.000000</td>\n",
       "      <td>0.000015</td>\n",
       "      <td>0.000031</td>\n",
       "      <td>0.000037</td>\n",
       "      <td>0.000043</td>\n",
       "    </tr>\n",
       "    <tr>\n",
       "      <th>T cells CD4 memory resting</th>\n",
       "      <td>3.0</td>\n",
       "      <td>0.000025</td>\n",
       "      <td>0.000022</td>\n",
       "      <td>0.000000</td>\n",
       "      <td>0.000016</td>\n",
       "      <td>0.000032</td>\n",
       "      <td>0.000037</td>\n",
       "      <td>0.000042</td>\n",
       "    </tr>\n",
       "    <tr>\n",
       "      <th>Eosinophils</th>\n",
       "      <td>3.0</td>\n",
       "      <td>0.000029</td>\n",
       "      <td>0.000028</td>\n",
       "      <td>0.000000</td>\n",
       "      <td>0.000015</td>\n",
       "      <td>0.000031</td>\n",
       "      <td>0.000043</td>\n",
       "      <td>0.000056</td>\n",
       "    </tr>\n",
       "    <tr>\n",
       "      <th>Macrophages M2</th>\n",
       "      <td>3.0</td>\n",
       "      <td>0.000032</td>\n",
       "      <td>0.000036</td>\n",
       "      <td>0.000000</td>\n",
       "      <td>0.000013</td>\n",
       "      <td>0.000025</td>\n",
       "      <td>0.000048</td>\n",
       "      <td>0.000071</td>\n",
       "    </tr>\n",
       "    <tr>\n",
       "      <th>Monocytes</th>\n",
       "      <td>3.0</td>\n",
       "      <td>0.000048</td>\n",
       "      <td>0.000031</td>\n",
       "      <td>0.000014</td>\n",
       "      <td>0.000036</td>\n",
       "      <td>0.000059</td>\n",
       "      <td>0.000066</td>\n",
       "      <td>0.000073</td>\n",
       "    </tr>\n",
       "    <tr>\n",
       "      <th>Macrophages M0</th>\n",
       "      <td>3.0</td>\n",
       "      <td>0.000084</td>\n",
       "      <td>0.000145</td>\n",
       "      <td>0.000000</td>\n",
       "      <td>0.000000</td>\n",
       "      <td>0.000000</td>\n",
       "      <td>0.000126</td>\n",
       "      <td>0.000251</td>\n",
       "    </tr>\n",
       "    <tr>\n",
       "      <th>Plasma cells</th>\n",
       "      <td>3.0</td>\n",
       "      <td>0.000143</td>\n",
       "      <td>0.000140</td>\n",
       "      <td>0.000000</td>\n",
       "      <td>0.000075</td>\n",
       "      <td>0.000150</td>\n",
       "      <td>0.000215</td>\n",
       "      <td>0.000279</td>\n",
       "    </tr>\n",
       "    <tr>\n",
       "      <th>Dendritic cells resting</th>\n",
       "      <td>3.0</td>\n",
       "      <td>0.000344</td>\n",
       "      <td>0.000411</td>\n",
       "      <td>0.000035</td>\n",
       "      <td>0.000110</td>\n",
       "      <td>0.000186</td>\n",
       "      <td>0.000498</td>\n",
       "      <td>0.000810</td>\n",
       "    </tr>\n",
       "    <tr>\n",
       "      <th>T cells CD4 memory activated</th>\n",
       "      <td>3.0</td>\n",
       "      <td>0.000426</td>\n",
       "      <td>0.000597</td>\n",
       "      <td>0.000045</td>\n",
       "      <td>0.000082</td>\n",
       "      <td>0.000120</td>\n",
       "      <td>0.000617</td>\n",
       "      <td>0.001114</td>\n",
       "    </tr>\n",
       "    <tr>\n",
       "      <th>T cells CD4 naive</th>\n",
       "      <td>3.0</td>\n",
       "      <td>0.000595</td>\n",
       "      <td>0.000639</td>\n",
       "      <td>0.000205</td>\n",
       "      <td>0.000227</td>\n",
       "      <td>0.000249</td>\n",
       "      <td>0.000790</td>\n",
       "      <td>0.001332</td>\n",
       "    </tr>\n",
       "    <tr>\n",
       "      <th>NK cells resting</th>\n",
       "      <td>3.0</td>\n",
       "      <td>0.001077</td>\n",
       "      <td>0.001352</td>\n",
       "      <td>0.000293</td>\n",
       "      <td>0.000296</td>\n",
       "      <td>0.000300</td>\n",
       "      <td>0.001469</td>\n",
       "      <td>0.002638</td>\n",
       "    </tr>\n",
       "  </tbody>\n",
       "</table>\n",
       "</div>"
      ],
      "text/plain": [
       "                              count      mean       std       min       25%  \\\n",
       "B cells naive                   3.0 -0.002022  0.004437 -0.007141 -0.003390   \n",
       "B cells memory                  3.0 -0.000829  0.001518 -0.001720 -0.001706   \n",
       "Mast cells activated            3.0  0.000000  0.000000  0.000000  0.000000   \n",
       "T cells CD8                     3.0  0.000000  0.000000  0.000000  0.000000   \n",
       "Mast cells resting              3.0  0.000000  0.000000  0.000000  0.000000   \n",
       "Macrophages M1                  3.0  0.000000  0.000000  0.000000  0.000000   \n",
       "NK cells activated              3.0  0.000000  0.000000  0.000000  0.000000   \n",
       "T cells follicular helper       3.0  0.000000  0.000000  0.000000  0.000000   \n",
       "T cells regulatory (Tregs)      3.0  0.000000  0.000000  0.000000  0.000000   \n",
       "T cells gamma delta             3.0  0.000004  0.000007  0.000000  0.000000   \n",
       "Neutrophils                     3.0  0.000009  0.000016  0.000000  0.000000   \n",
       "Dendritic cells activated       3.0  0.000024  0.000022  0.000000  0.000015   \n",
       "T cells CD4 memory resting      3.0  0.000025  0.000022  0.000000  0.000016   \n",
       "Eosinophils                     3.0  0.000029  0.000028  0.000000  0.000015   \n",
       "Macrophages M2                  3.0  0.000032  0.000036  0.000000  0.000013   \n",
       "Monocytes                       3.0  0.000048  0.000031  0.000014  0.000036   \n",
       "Macrophages M0                  3.0  0.000084  0.000145  0.000000  0.000000   \n",
       "Plasma cells                    3.0  0.000143  0.000140  0.000000  0.000075   \n",
       "Dendritic cells resting         3.0  0.000344  0.000411  0.000035  0.000110   \n",
       "T cells CD4 memory activated    3.0  0.000426  0.000597  0.000045  0.000082   \n",
       "T cells CD4 naive               3.0  0.000595  0.000639  0.000205  0.000227   \n",
       "NK cells resting                3.0  0.001077  0.001352  0.000293  0.000296   \n",
       "\n",
       "                                   50%       75%       max  \n",
       "B cells naive                 0.000361  0.000538  0.000715  \n",
       "B cells memory               -0.001691 -0.000384  0.000923  \n",
       "Mast cells activated          0.000000  0.000000  0.000000  \n",
       "T cells CD8                   0.000000  0.000000  0.000000  \n",
       "Mast cells resting            0.000000  0.000000  0.000000  \n",
       "Macrophages M1                0.000000  0.000000  0.000000  \n",
       "NK cells activated            0.000000  0.000000  0.000000  \n",
       "T cells follicular helper     0.000000  0.000000  0.000000  \n",
       "T cells regulatory (Tregs)    0.000000  0.000000  0.000000  \n",
       "T cells gamma delta           0.000000  0.000006  0.000013  \n",
       "Neutrophils                   0.000000  0.000014  0.000028  \n",
       "Dendritic cells activated     0.000031  0.000037  0.000043  \n",
       "T cells CD4 memory resting    0.000032  0.000037  0.000042  \n",
       "Eosinophils                   0.000031  0.000043  0.000056  \n",
       "Macrophages M2                0.000025  0.000048  0.000071  \n",
       "Monocytes                     0.000059  0.000066  0.000073  \n",
       "Macrophages M0                0.000000  0.000126  0.000251  \n",
       "Plasma cells                  0.000150  0.000215  0.000279  \n",
       "Dendritic cells resting       0.000186  0.000498  0.000810  \n",
       "T cells CD4 memory activated  0.000120  0.000617  0.001114  \n",
       "T cells CD4 naive             0.000249  0.000790  0.001332  \n",
       "NK cells resting              0.000300  0.001469  0.002638  "
      ]
     },
     "execution_count": 162,
     "metadata": {},
     "output_type": "execute_result"
    },
    {
     "data": {
      "image/png": "[encoded data removed]",
      "text/plain": [
       "<matplotlib.figure.Figure at 0x7fa3d2367c50>"
      ]
     },
     "metadata": {},
     "output_type": "display_data"
    }
   ],
   "source": [
    "print 'absolute difference from ground truth, summarized by column:'\n",
    "(results3_dat - hard_ref_weights).describe().loc['mean'].hist()\n",
    "plt.title('mean absolute differences for columns across all mixtures')\n",
    "(results3_dat - hard_ref_weights).describe().T.sort('mean')"
   ]
  },
  {
   "cell_type": "code",
   "execution_count": 163,
   "metadata": {
    "ExecuteTime": {
     "end_time": "2016-07-06T12:25:03.728700",
     "start_time": "2016-07-06T12:25:02.817920"
    },
    "collapsed": false,
    "run_control": {
     "frozen": false,
     "read_only": false
    }
   },
   "outputs": [
    {
     "data": {
      "image/png": "[encoded data removed]",
      "text/plain": [
       "<matplotlib.figure.Figure at 0x7fa3d3c09390>"
      ]
     },
     "metadata": {},
     "output_type": "display_data"
    },
    {
     "data": {
      "image/png": "[encoded data removed]",
      "text/plain": [
       "<matplotlib.figure.Figure at 0x7fa3d3e3d450>"
      ]
     },
     "metadata": {},
     "output_type": "display_data"
    },
    {
     "data": {
      "image/png": "[encoded data removed]",
      "text/plain": [
       "<matplotlib.figure.Figure at 0x7fa3d2947f50>"
      ]
     },
     "metadata": {},
     "output_type": "display_data"
    }
   ],
   "source": [
    "for _, row in (results3_dat - hard_ref_weights).iterrows():\n",
    "    plt.figure()\n",
    "    row.hist()\n",
    "    plt.title('mixture %d absolute differences' % row.name)"
   ]
  },
  {
   "cell_type": "code",
   "execution_count": 164,
   "metadata": {
    "ExecuteTime": {
     "end_time": "2016-07-06T12:25:07.302198",
     "start_time": "2016-07-06T12:25:06.266931"
    },
    "collapsed": false,
    "run_control": {
     "frozen": false,
     "read_only": false
    }
   },
   "outputs": [
    {
     "data": {
      "image/png": "[encoded data removed]",
      "text/plain": [
       "<matplotlib.figure.Figure at 0x7fa3d283d590>"
      ]
     },
     "metadata": {},
     "output_type": "display_data"
    },
    {
     "data": {
      "image/png": "[encoded data removed]",
      "text/plain": [
       "<matplotlib.figure.Figure at 0x7fa3d2b1abd0>"
      ]
     },
     "metadata": {},
     "output_type": "display_data"
    },
    {
     "data": {
      "image/png": "[encoded data removed]",
      "text/plain": [
       "<matplotlib.figure.Figure at 0x7fa3d23e3790>"
      ]
     },
     "metadata": {},
     "output_type": "display_data"
    }
   ],
   "source": [
    "for _, row in (results3_dat - hard_ref_weights).iterrows():\n",
    "    plt.figure()\n",
    "    row[hard_cols].hist()\n",
    "    plt.title('mixture %d absolute differences -- correct cell types only' % row.name)"
   ]
  },
  {
   "cell_type": "code",
   "execution_count": 165,
   "metadata": {
    "ExecuteTime": {
     "end_time": "2016-07-06T12:25:23.238725",
     "start_time": "2016-07-06T12:25:22.307337"
    },
    "collapsed": false,
    "run_control": {
     "frozen": false,
     "read_only": false
    }
   },
   "outputs": [
    {
     "data": {
      "image/png": "[encoded data removed]",
      "text/plain": [
       "<matplotlib.figure.Figure at 0x7fa3d3e6fcd0>"
      ]
     },
     "metadata": {},
     "output_type": "display_data"
    },
    {
     "data": {
      "image/png": "[encoded data removed]",
      "text/plain": [
       "<matplotlib.figure.Figure at 0x7fa3d292ac50>"
      ]
     },
     "metadata": {},
     "output_type": "display_data"
    },
    {
     "data": {
      "image/png": "[encoded data removed]",
      "text/plain": [
       "<matplotlib.figure.Figure at 0x7fa3d35ccd10>"
      ]
     },
     "metadata": {},
     "output_type": "display_data"
    }
   ],
   "source": [
    "other_cols = set(results3_dat.columns) - set(hard_cols)\n",
    "for _, row in (results3_dat - hard_ref_weights).iterrows():\n",
    "    plt.figure()\n",
    "    row[other_cols].hist()\n",
    "    plt.title('mixture %d absolute differences -- incorrect cell types only' % row.name)"
   ]
  },
  {
   "cell_type": "code",
   "execution_count": 166,
   "metadata": {
    "ExecuteTime": {
     "end_time": "2016-07-06T12:25:27.153307",
     "start_time": "2016-07-06T12:25:27.129086"
    },
    "collapsed": false,
    "run_control": {
     "frozen": false,
     "read_only": false
    }
   },
   "outputs": [
    {
     "data": {
      "text/html": [
       "<div>\n",
       "<table border=\"1\" class=\"dataframe\">\n",
       "  <thead>\n",
       "    <tr style=\"text-align: right;\">\n",
       "      <th></th>\n",
       "      <th>B cells naive</th>\n",
       "      <th>B cells memory</th>\n",
       "    </tr>\n",
       "  </thead>\n",
       "  <tbody>\n",
       "    <tr>\n",
       "      <th>0</th>\n",
       "      <td>0.000715</td>\n",
       "      <td>-0.001720</td>\n",
       "    </tr>\n",
       "    <tr>\n",
       "      <th>1</th>\n",
       "      <td>0.000361</td>\n",
       "      <td>-0.001691</td>\n",
       "    </tr>\n",
       "    <tr>\n",
       "      <th>2</th>\n",
       "      <td>-0.007141</td>\n",
       "      <td>0.000923</td>\n",
       "    </tr>\n",
       "  </tbody>\n",
       "</table>\n",
       "</div>"
      ],
      "text/plain": [
       "   B cells naive  B cells memory\n",
       "0       0.000715       -0.001720\n",
       "1       0.000361       -0.001691\n",
       "2      -0.007141        0.000923"
      ]
     },
     "execution_count": 166,
     "metadata": {},
     "output_type": "execute_result"
    }
   ],
   "source": [
    "(results3_dat - hard_ref_weights)[hard_cols]"
   ]
  },
  {
   "cell_type": "markdown",
   "metadata": {},
   "source": [
    "Perfect deconvolution, even with noise. Reference profiles are distinct enough."
   ]
  },
  {
   "cell_type": "code",
   "execution_count": 167,
   "metadata": {
    "ExecuteTime": {
     "end_time": "2016-07-06T12:25:36.575053",
     "start_time": "2016-07-06T12:25:36.565058"
    },
    "collapsed": false,
    "run_control": {
     "frozen": false,
     "read_only": false
    }
   },
   "outputs": [
    {
     "data": {
      "text/plain": [
       "0    0.0\n",
       "1    0.0\n",
       "2    0.0\n",
       "Name: P-value, dtype: float64"
      ]
     },
     "execution_count": 167,
     "metadata": {},
     "output_type": "execute_result"
    }
   ],
   "source": [
    "results3['P-value']"
   ]
  },
  {
   "cell_type": "markdown",
   "metadata": {},
   "source": [
    "Here is RMSE and R^2"
   ]
  },
  {
   "cell_type": "code",
   "execution_count": 169,
   "metadata": {
    "ExecuteTime": {
     "end_time": "2016-07-06T12:26:05.196260",
     "start_time": "2016-07-06T12:26:05.187580"
    },
    "collapsed": false,
    "run_control": {
     "frozen": false,
     "read_only": false
    }
   },
   "outputs": [
    {
     "name": "stdout",
     "output_type": "stream",
     "text": [
      "RMSE \t R^2 \t per mixture\n",
      "0.0004 \t 1.0000\n",
      "0.0004 \t 1.0000\n",
      "0.0017 \t 0.9999\n"
     ]
    }
   ],
   "source": [
    "print 'RMSE \\t R^2 \\t per mixture'\n",
    "from sklearn.metrics import mean_squared_error as mse, r2_score\n",
    "for (_, y_true),(_, y_pred) in zip(hard_ref_weights.iterrows(), results3_dat.iterrows()):\n",
    "    print '%0.4f \\t %0.4f' % (np.sqrt(mse(y_true, y_pred)), r2_score(y_true, y_pred))"
   ]
  },
  {
   "cell_type": "markdown",
   "metadata": {},
   "source": [
    "## raw lines (should be quite hard)"
   ]
  },
  {
   "cell_type": "code",
   "execution_count": 170,
   "metadata": {
    "ExecuteTime": {
     "end_time": "2016-07-06T12:26:06.647641",
     "start_time": "2016-07-06T12:26:06.642246"
    },
    "collapsed": false,
    "run_control": {
     "frozen": false,
     "read_only": false
    }
   },
   "outputs": [
    {
     "name": "stdout",
     "output_type": "stream",
     "text": [
      "B cells naive_1\n",
      "B cells naive_2\n",
      "B cells naive_3\n",
      "B cells naive_4\n",
      "B cells naive_5\n",
      "B cells naive_6\n",
      "B cells naive_7\n",
      "B cells memory_1\n",
      "B cells memory_2\n",
      "B cells memory_3\n",
      "B cells memory_4\n",
      "B cells memory_5\n",
      "B cells memory_6\n",
      "B cells memory_7\n",
      "B cells memory_8\n"
     ]
    }
   ],
   "source": [
    "for c in cib_raw.columns:\n",
    "    if 'b cells' in c.lower():\n",
    "        print c"
   ]
  },
  {
   "cell_type": "code",
   "execution_count": 171,
   "metadata": {
    "ExecuteTime": {
     "end_time": "2016-07-06T12:26:07.615089",
     "start_time": "2016-07-06T12:26:07.606107"
    },
    "collapsed": false,
    "run_control": {
     "frozen": false,
     "read_only": false
    }
   },
   "outputs": [
    {
     "data": {
      "text/plain": [
       "([0.5, 0.5],\n",
       " ['B cells naive', 'B cells memory'],\n",
       " ['B cells naive_3', 'B cells memory_6'])"
      ]
     },
     "execution_count": 171,
     "metadata": {},
     "output_type": "execute_result"
    }
   ],
   "source": [
    "raw_cols = ['B cells naive_3', 'B cells memory_6']\n",
    "weights, hard_cols, raw_cols"
   ]
  },
  {
   "cell_type": "code",
   "execution_count": 172,
   "metadata": {
    "ExecuteTime": {
     "end_time": "2016-07-06T12:26:11.343431",
     "start_time": "2016-07-06T12:26:11.333346"
    },
    "collapsed": false,
    "run_control": {
     "frozen": false,
     "read_only": false
    }
   },
   "outputs": [
    {
     "data": {
      "text/plain": [
       "(547, 2)"
      ]
     },
     "execution_count": 172,
     "metadata": {},
     "output_type": "execute_result"
    }
   ],
   "source": [
    "reference[hard_cols].shape"
   ]
  },
  {
   "cell_type": "code",
   "execution_count": 173,
   "metadata": {
    "ExecuteTime": {
     "end_time": "2016-07-06T12:26:11.922818",
     "start_time": "2016-07-06T12:26:11.903221"
    },
    "collapsed": false,
    "run_control": {
     "frozen": false,
     "read_only": false
    }
   },
   "outputs": [
    {
     "name": "stdout",
     "output_type": "stream",
     "text": [
      "(11866,)\n"
     ]
    },
    {
     "data": {
      "text/plain": [
       "GeneSymbol\n",
       "A1CF      650.884112\n",
       "A2M        27.123923\n",
       "A4GALT     83.424552\n",
       "A4GNT     446.775751\n",
       "AAAS       48.353998\n",
       "dtype: float64"
      ]
     },
     "execution_count": 173,
     "metadata": {},
     "output_type": "execute_result"
    }
   ],
   "source": [
    "mix10=(cib_raw[raw_cols] * weights).sum(axis=1)\n",
    "print mix10.shape\n",
    "mix10.head()"
   ]
  },
  {
   "cell_type": "code",
   "execution_count": 174,
   "metadata": {
    "ExecuteTime": {
     "end_time": "2016-07-06T12:26:12.604930",
     "start_time": "2016-07-06T12:26:12.594188"
    },
    "collapsed": false,
    "run_control": {
     "frozen": false,
     "read_only": false
    }
   },
   "outputs": [
    {
     "name": "stdout",
     "output_type": "stream",
     "text": [
      "(11866,)\n"
     ]
    },
    {
     "data": {
      "text/plain": [
       "GeneSymbol\n",
       "A1CF      651.032531\n",
       "A2M        27.661211\n",
       "A4GALT     83.560924\n",
       "A4GNT     446.588066\n",
       "AAAS       48.941654\n",
       "dtype: float64"
      ]
     },
     "execution_count": 174,
     "metadata": {},
     "output_type": "execute_result"
    }
   ],
   "source": [
    "mix11 = mix10 + np.random.normal(0,1,len(mix10))\n",
    "print mix11.shape\n",
    "mix11.head()"
   ]
  },
  {
   "cell_type": "code",
   "execution_count": 175,
   "metadata": {
    "ExecuteTime": {
     "end_time": "2016-07-06T12:26:13.662511",
     "start_time": "2016-07-06T12:26:13.647164"
    },
    "collapsed": false,
    "run_control": {
     "frozen": false,
     "read_only": false
    }
   },
   "outputs": [
    {
     "name": "stdout",
     "output_type": "stream",
     "text": [
      "(11866,)\n"
     ]
    },
    {
     "data": {
      "text/plain": [
       "GeneSymbol\n",
       "A1CF      857.619128\n",
       "A2M        28.258246\n",
       "A4GALT     86.328255\n",
       "A4GNT     546.221032\n",
       "AAAS       53.313285\n",
       "dtype: float64"
      ]
     },
     "execution_count": 175,
     "metadata": {},
     "output_type": "execute_result"
    }
   ],
   "source": [
    "weights_noisy4 = np.reshape(weights*len(mix10), cib_raw[raw_cols].shape)\n",
    "weights_noisy4 += np.abs(np.random.normal(0,0.1, weights_noisy4.shape)) # using absolute value error\n",
    "weights_noisy4 = weights_noisy4.clip(0,1)\n",
    "mix12=(weights_noisy4 * cib_raw[raw_cols]).sum(axis=1)\n",
    "print mix12.shape\n",
    "mix12.head()"
   ]
  },
  {
   "cell_type": "code",
   "execution_count": 176,
   "metadata": {
    "ExecuteTime": {
     "end_time": "2016-07-06T12:26:28.692812",
     "start_time": "2016-07-06T12:26:28.553795"
    },
    "collapsed": false,
    "run_control": {
     "frozen": false,
     "read_only": false
    }
   },
   "outputs": [
    {
     "name": "stdout",
     "output_type": "stream",
     "text": [
      "(11866, 3)\n"
     ]
    },
    {
     "data": {
      "text/html": [
       "<div>\n",
       "<table border=\"1\" class=\"dataframe\">\n",
       "  <thead>\n",
       "    <tr style=\"text-align: right;\">\n",
       "      <th></th>\n",
       "      <th>10 NoNoise</th>\n",
       "      <th>11 SimpleNoise</th>\n",
       "      <th>12 ComplexNoise</th>\n",
       "    </tr>\n",
       "    <tr>\n",
       "      <th>GeneSymbol</th>\n",
       "      <th></th>\n",
       "      <th></th>\n",
       "      <th></th>\n",
       "    </tr>\n",
       "  </thead>\n",
       "  <tbody>\n",
       "    <tr>\n",
       "      <th>A1CF</th>\n",
       "      <td>650.884112</td>\n",
       "      <td>651.032531</td>\n",
       "      <td>857.619128</td>\n",
       "    </tr>\n",
       "    <tr>\n",
       "      <th>A2M</th>\n",
       "      <td>27.123923</td>\n",
       "      <td>27.661211</td>\n",
       "      <td>28.258246</td>\n",
       "    </tr>\n",
       "    <tr>\n",
       "      <th>A4GALT</th>\n",
       "      <td>83.424552</td>\n",
       "      <td>83.560924</td>\n",
       "      <td>86.328255</td>\n",
       "    </tr>\n",
       "    <tr>\n",
       "      <th>A4GNT</th>\n",
       "      <td>446.775751</td>\n",
       "      <td>446.588066</td>\n",
       "      <td>546.221032</td>\n",
       "    </tr>\n",
       "    <tr>\n",
       "      <th>AAAS</th>\n",
       "      <td>48.353998</td>\n",
       "      <td>48.941654</td>\n",
       "      <td>53.313285</td>\n",
       "    </tr>\n",
       "  </tbody>\n",
       "</table>\n",
       "</div>"
      ],
      "text/plain": [
       "            10 NoNoise  11 SimpleNoise  12 ComplexNoise\n",
       "GeneSymbol                                             \n",
       "A1CF        650.884112      651.032531       857.619128\n",
       "A2M          27.123923       27.661211        28.258246\n",
       "A4GALT       83.424552       83.560924        86.328255\n",
       "A4GNT       446.775751      446.588066       546.221032\n",
       "AAAS         48.353998       48.941654        53.313285"
      ]
     },
     "execution_count": 176,
     "metadata": {},
     "output_type": "execute_result"
    }
   ],
   "source": [
    "# write out the reference profile mixtures\n",
    "hard_mixtures_rawline = pd.DataFrame({'10 NoNoise':mix10, '11 SimpleNoise': mix11, '12 ComplexNoise': mix12})\n",
    "hard_mixtures_rawline.index.name='GeneSymbol'\n",
    "hard_mixtures_rawline.to_csv('test_mixtures/hard_rawline_mixtures.txt', sep='\\t')\n",
    "print hard_mixtures_rawline.shape\n",
    "hard_mixtures_rawline.head()"
   ]
  },
  {
   "cell_type": "markdown",
   "metadata": {},
   "source": [
    "### run through cibersort"
   ]
  },
  {
   "cell_type": "code",
   "execution_count": 177,
   "metadata": {
    "ExecuteTime": {
     "end_time": "2016-07-06T12:27:43.570974",
     "start_time": "2016-07-06T12:26:54.991748"
    },
    "collapsed": false,
    "run_control": {
     "frozen": false,
     "read_only": false
    }
   },
   "outputs": [],
   "source": [
    "!java -Xmx3g -Xms3g -jar ~/CIBERSORT_package/CIBERSORT.jar -M test_mixtures/hard_rawline_mixtures.txt -B LM22.txt > test_mixtures/out/c4"
   ]
  },
  {
   "cell_type": "code",
   "execution_count": 178,
   "metadata": {
    "ExecuteTime": {
     "end_time": "2016-07-06T12:27:43.630608",
     "start_time": "2016-07-06T12:27:43.573418"
    },
    "collapsed": false,
    "run_control": {
     "frozen": false,
     "read_only": false
    }
   },
   "outputs": [
    {
     "data": {
      "text/html": [
       "<div>\n",
       "<table border=\"1\" class=\"dataframe\">\n",
       "  <thead>\n",
       "    <tr style=\"text-align: right;\">\n",
       "      <th></th>\n",
       "      <th>Column</th>\n",
       "      <th>B cells naive</th>\n",
       "      <th>B cells memory</th>\n",
       "      <th>Plasma cells</th>\n",
       "      <th>T cells CD8</th>\n",
       "      <th>T cells CD4 naive</th>\n",
       "      <th>T cells CD4 memory resting</th>\n",
       "      <th>T cells CD4 memory activated</th>\n",
       "      <th>T cells follicular helper</th>\n",
       "      <th>T cells regulatory (Tregs)</th>\n",
       "      <th>...</th>\n",
       "      <th>Dendritic cells resting</th>\n",
       "      <th>Dendritic cells activated</th>\n",
       "      <th>Mast cells resting</th>\n",
       "      <th>Mast cells activated</th>\n",
       "      <th>Eosinophils</th>\n",
       "      <th>Neutrophils</th>\n",
       "      <th>P-value</th>\n",
       "      <th>Pearson Correlation</th>\n",
       "      <th>RMSE</th>\n",
       "      <th>Unnamed: 26</th>\n",
       "    </tr>\n",
       "  </thead>\n",
       "  <tbody>\n",
       "    <tr>\n",
       "      <th>0</th>\n",
       "      <td>0</td>\n",
       "      <td>0.393882</td>\n",
       "      <td>0.535980</td>\n",
       "      <td>0</td>\n",
       "      <td>0</td>\n",
       "      <td>0</td>\n",
       "      <td>0.012840</td>\n",
       "      <td>0</td>\n",
       "      <td>0.006687</td>\n",
       "      <td>0.001908</td>\n",
       "      <td>...</td>\n",
       "      <td>0.012705</td>\n",
       "      <td>0</td>\n",
       "      <td>0.000000</td>\n",
       "      <td>0.009541</td>\n",
       "      <td>0.004982</td>\n",
       "      <td>0.000430</td>\n",
       "      <td>0.0</td>\n",
       "      <td>0.952778</td>\n",
       "      <td>0.308847</td>\n",
       "      <td>NaN</td>\n",
       "    </tr>\n",
       "    <tr>\n",
       "      <th>1</th>\n",
       "      <td>1</td>\n",
       "      <td>0.395699</td>\n",
       "      <td>0.536218</td>\n",
       "      <td>0</td>\n",
       "      <td>0</td>\n",
       "      <td>0</td>\n",
       "      <td>0.013131</td>\n",
       "      <td>0</td>\n",
       "      <td>0.006515</td>\n",
       "      <td>0.002048</td>\n",
       "      <td>...</td>\n",
       "      <td>0.012098</td>\n",
       "      <td>0</td>\n",
       "      <td>0.000000</td>\n",
       "      <td>0.009604</td>\n",
       "      <td>0.004693</td>\n",
       "      <td>0.000430</td>\n",
       "      <td>0.0</td>\n",
       "      <td>0.952767</td>\n",
       "      <td>0.308529</td>\n",
       "      <td>NaN</td>\n",
       "    </tr>\n",
       "    <tr>\n",
       "      <th>2</th>\n",
       "      <td>2</td>\n",
       "      <td>0.409547</td>\n",
       "      <td>0.505164</td>\n",
       "      <td>0</td>\n",
       "      <td>0</td>\n",
       "      <td>0</td>\n",
       "      <td>0.024600</td>\n",
       "      <td>0</td>\n",
       "      <td>0.011651</td>\n",
       "      <td>0.001387</td>\n",
       "      <td>...</td>\n",
       "      <td>0.014114</td>\n",
       "      <td>0</td>\n",
       "      <td>0.006186</td>\n",
       "      <td>0.001995</td>\n",
       "      <td>0.007005</td>\n",
       "      <td>0.004249</td>\n",
       "      <td>0.0</td>\n",
       "      <td>0.948466</td>\n",
       "      <td>0.322878</td>\n",
       "      <td>NaN</td>\n",
       "    </tr>\n",
       "  </tbody>\n",
       "</table>\n",
       "<p>3 rows × 27 columns</p>\n",
       "</div>"
      ],
      "text/plain": [
       "   Column  B cells naive  B cells memory  Plasma cells  T cells CD8  \\\n",
       "0       0       0.393882        0.535980             0            0   \n",
       "1       1       0.395699        0.536218             0            0   \n",
       "2       2       0.409547        0.505164             0            0   \n",
       "\n",
       "   T cells CD4 naive  T cells CD4 memory resting  \\\n",
       "0                  0                    0.012840   \n",
       "1                  0                    0.013131   \n",
       "2                  0                    0.024600   \n",
       "\n",
       "   T cells CD4 memory activated  T cells follicular helper  \\\n",
       "0                             0                   0.006687   \n",
       "1                             0                   0.006515   \n",
       "2                             0                   0.011651   \n",
       "\n",
       "   T cells regulatory (Tregs)     ...       Dendritic cells resting  \\\n",
       "0                    0.001908     ...                      0.012705   \n",
       "1                    0.002048     ...                      0.012098   \n",
       "2                    0.001387     ...                      0.014114   \n",
       "\n",
       "   Dendritic cells activated  Mast cells resting  Mast cells activated  \\\n",
       "0                          0            0.000000              0.009541   \n",
       "1                          0            0.000000              0.009604   \n",
       "2                          0            0.006186              0.001995   \n",
       "\n",
       "   Eosinophils  Neutrophils  P-value  Pearson Correlation      RMSE  \\\n",
       "0     0.004982     0.000430      0.0             0.952778  0.308847   \n",
       "1     0.004693     0.000430      0.0             0.952767  0.308529   \n",
       "2     0.007005     0.004249      0.0             0.948466  0.322878   \n",
       "\n",
       "   Unnamed: 26  \n",
       "0          NaN  \n",
       "1          NaN  \n",
       "2          NaN  \n",
       "\n",
       "[3 rows x 27 columns]"
      ]
     },
     "execution_count": 178,
     "metadata": {},
     "output_type": "execute_result"
    }
   ],
   "source": [
    "results4 = pd.read_csv('test_mixtures/out/c4', skiprows=range(6), sep='\\t')\n",
    "results4.head()"
   ]
  },
  {
   "cell_type": "code",
   "execution_count": 179,
   "metadata": {
    "ExecuteTime": {
     "end_time": "2016-07-06T12:27:43.698047",
     "start_time": "2016-07-06T12:27:43.633104"
    },
    "collapsed": false,
    "run_control": {
     "frozen": false,
     "read_only": false
    }
   },
   "outputs": [
    {
     "name": "stdout",
     "output_type": "stream",
     "text": [
      "(3, 26) (3, 22)\n"
     ]
    },
    {
     "data": {
      "text/html": [
       "<div>\n",
       "<table border=\"1\" class=\"dataframe\">\n",
       "  <thead>\n",
       "    <tr style=\"text-align: right;\">\n",
       "      <th></th>\n",
       "      <th>B cells naive</th>\n",
       "      <th>B cells memory</th>\n",
       "      <th>Plasma cells</th>\n",
       "      <th>T cells CD8</th>\n",
       "      <th>T cells CD4 naive</th>\n",
       "      <th>T cells CD4 memory resting</th>\n",
       "      <th>T cells CD4 memory activated</th>\n",
       "      <th>T cells follicular helper</th>\n",
       "      <th>T cells regulatory (Tregs)</th>\n",
       "      <th>T cells gamma delta</th>\n",
       "      <th>...</th>\n",
       "      <th>Monocytes</th>\n",
       "      <th>Macrophages M0</th>\n",
       "      <th>Macrophages M1</th>\n",
       "      <th>Macrophages M2</th>\n",
       "      <th>Dendritic cells resting</th>\n",
       "      <th>Dendritic cells activated</th>\n",
       "      <th>Mast cells resting</th>\n",
       "      <th>Mast cells activated</th>\n",
       "      <th>Eosinophils</th>\n",
       "      <th>Neutrophils</th>\n",
       "    </tr>\n",
       "  </thead>\n",
       "  <tbody>\n",
       "    <tr>\n",
       "      <th>0</th>\n",
       "      <td>0.393882</td>\n",
       "      <td>0.535980</td>\n",
       "      <td>0</td>\n",
       "      <td>0</td>\n",
       "      <td>0</td>\n",
       "      <td>0.012840</td>\n",
       "      <td>0</td>\n",
       "      <td>0.006687</td>\n",
       "      <td>0.001908</td>\n",
       "      <td>0.004782</td>\n",
       "      <td>...</td>\n",
       "      <td>0.004679</td>\n",
       "      <td>0.00000</td>\n",
       "      <td>0.005447</td>\n",
       "      <td>0</td>\n",
       "      <td>0.012705</td>\n",
       "      <td>0</td>\n",
       "      <td>0.000000</td>\n",
       "      <td>0.009541</td>\n",
       "      <td>0.004982</td>\n",
       "      <td>0.000430</td>\n",
       "    </tr>\n",
       "    <tr>\n",
       "      <th>1</th>\n",
       "      <td>0.395699</td>\n",
       "      <td>0.536218</td>\n",
       "      <td>0</td>\n",
       "      <td>0</td>\n",
       "      <td>0</td>\n",
       "      <td>0.013131</td>\n",
       "      <td>0</td>\n",
       "      <td>0.006515</td>\n",
       "      <td>0.002048</td>\n",
       "      <td>0.004932</td>\n",
       "      <td>...</td>\n",
       "      <td>0.002916</td>\n",
       "      <td>0.00000</td>\n",
       "      <td>0.005651</td>\n",
       "      <td>0</td>\n",
       "      <td>0.012098</td>\n",
       "      <td>0</td>\n",
       "      <td>0.000000</td>\n",
       "      <td>0.009604</td>\n",
       "      <td>0.004693</td>\n",
       "      <td>0.000430</td>\n",
       "    </tr>\n",
       "    <tr>\n",
       "      <th>2</th>\n",
       "      <td>0.409547</td>\n",
       "      <td>0.505164</td>\n",
       "      <td>0</td>\n",
       "      <td>0</td>\n",
       "      <td>0</td>\n",
       "      <td>0.024600</td>\n",
       "      <td>0</td>\n",
       "      <td>0.011651</td>\n",
       "      <td>0.001387</td>\n",
       "      <td>0.000672</td>\n",
       "      <td>...</td>\n",
       "      <td>0.000000</td>\n",
       "      <td>0.00081</td>\n",
       "      <td>0.004431</td>\n",
       "      <td>0</td>\n",
       "      <td>0.014114</td>\n",
       "      <td>0</td>\n",
       "      <td>0.006186</td>\n",
       "      <td>0.001995</td>\n",
       "      <td>0.007005</td>\n",
       "      <td>0.004249</td>\n",
       "    </tr>\n",
       "  </tbody>\n",
       "</table>\n",
       "<p>3 rows × 22 columns</p>\n",
       "</div>"
      ],
      "text/plain": [
       "   B cells naive  B cells memory  Plasma cells  T cells CD8  \\\n",
       "0       0.393882        0.535980             0            0   \n",
       "1       0.395699        0.536218             0            0   \n",
       "2       0.409547        0.505164             0            0   \n",
       "\n",
       "   T cells CD4 naive  T cells CD4 memory resting  \\\n",
       "0                  0                    0.012840   \n",
       "1                  0                    0.013131   \n",
       "2                  0                    0.024600   \n",
       "\n",
       "   T cells CD4 memory activated  T cells follicular helper  \\\n",
       "0                             0                   0.006687   \n",
       "1                             0                   0.006515   \n",
       "2                             0                   0.011651   \n",
       "\n",
       "   T cells regulatory (Tregs)  T cells gamma delta     ...       Monocytes  \\\n",
       "0                    0.001908             0.004782     ...        0.004679   \n",
       "1                    0.002048             0.004932     ...        0.002916   \n",
       "2                    0.001387             0.000672     ...        0.000000   \n",
       "\n",
       "   Macrophages M0  Macrophages M1  Macrophages M2  Dendritic cells resting  \\\n",
       "0         0.00000        0.005447               0                 0.012705   \n",
       "1         0.00000        0.005651               0                 0.012098   \n",
       "2         0.00081        0.004431               0                 0.014114   \n",
       "\n",
       "   Dendritic cells activated  Mast cells resting  Mast cells activated  \\\n",
       "0                          0            0.000000              0.009541   \n",
       "1                          0            0.000000              0.009604   \n",
       "2                          0            0.006186              0.001995   \n",
       "\n",
       "   Eosinophils  Neutrophils  \n",
       "0     0.004982     0.000430  \n",
       "1     0.004693     0.000430  \n",
       "2     0.007005     0.004249  \n",
       "\n",
       "[3 rows x 22 columns]"
      ]
     },
     "execution_count": 179,
     "metadata": {},
     "output_type": "execute_result"
    }
   ],
   "source": [
    "del results4['Unnamed: 26']\n",
    "results4_dat = results4[results4.columns[1:-3]]\n",
    "print results4.shape, results4_dat.shape\n",
    "results4_dat.head()"
   ]
  },
  {
   "cell_type": "code",
   "execution_count": 180,
   "metadata": {
    "ExecuteTime": {
     "end_time": "2016-07-06T12:27:43.769184",
     "start_time": "2016-07-06T12:27:43.701753"
    },
    "collapsed": false,
    "run_control": {
     "frozen": false,
     "read_only": false
    }
   },
   "outputs": [
    {
     "data": {
      "text/html": [
       "<div>\n",
       "<table border=\"1\" class=\"dataframe\">\n",
       "  <thead>\n",
       "    <tr style=\"text-align: right;\">\n",
       "      <th></th>\n",
       "      <th>B cells naive</th>\n",
       "      <th>B cells memory</th>\n",
       "      <th>Plasma cells</th>\n",
       "      <th>T cells CD8</th>\n",
       "      <th>T cells CD4 naive</th>\n",
       "      <th>T cells CD4 memory resting</th>\n",
       "      <th>T cells CD4 memory activated</th>\n",
       "      <th>T cells follicular helper</th>\n",
       "      <th>T cells regulatory (Tregs)</th>\n",
       "      <th>T cells gamma delta</th>\n",
       "      <th>...</th>\n",
       "      <th>Monocytes</th>\n",
       "      <th>Macrophages M0</th>\n",
       "      <th>Macrophages M1</th>\n",
       "      <th>Macrophages M2</th>\n",
       "      <th>Dendritic cells resting</th>\n",
       "      <th>Dendritic cells activated</th>\n",
       "      <th>Mast cells resting</th>\n",
       "      <th>Mast cells activated</th>\n",
       "      <th>Eosinophils</th>\n",
       "      <th>Neutrophils</th>\n",
       "    </tr>\n",
       "  </thead>\n",
       "  <tbody>\n",
       "    <tr>\n",
       "      <th>0</th>\n",
       "      <td>0.5</td>\n",
       "      <td>0.5</td>\n",
       "      <td>0.0</td>\n",
       "      <td>0.0</td>\n",
       "      <td>0.0</td>\n",
       "      <td>0.0</td>\n",
       "      <td>0.0</td>\n",
       "      <td>0.0</td>\n",
       "      <td>0.0</td>\n",
       "      <td>0.0</td>\n",
       "      <td>...</td>\n",
       "      <td>0.0</td>\n",
       "      <td>0.0</td>\n",
       "      <td>0.0</td>\n",
       "      <td>0.0</td>\n",
       "      <td>0.0</td>\n",
       "      <td>0.0</td>\n",
       "      <td>0.0</td>\n",
       "      <td>0.0</td>\n",
       "      <td>0.0</td>\n",
       "      <td>0.0</td>\n",
       "    </tr>\n",
       "    <tr>\n",
       "      <th>1</th>\n",
       "      <td>0.5</td>\n",
       "      <td>0.5</td>\n",
       "      <td>0.0</td>\n",
       "      <td>0.0</td>\n",
       "      <td>0.0</td>\n",
       "      <td>0.0</td>\n",
       "      <td>0.0</td>\n",
       "      <td>0.0</td>\n",
       "      <td>0.0</td>\n",
       "      <td>0.0</td>\n",
       "      <td>...</td>\n",
       "      <td>0.0</td>\n",
       "      <td>0.0</td>\n",
       "      <td>0.0</td>\n",
       "      <td>0.0</td>\n",
       "      <td>0.0</td>\n",
       "      <td>0.0</td>\n",
       "      <td>0.0</td>\n",
       "      <td>0.0</td>\n",
       "      <td>0.0</td>\n",
       "      <td>0.0</td>\n",
       "    </tr>\n",
       "    <tr>\n",
       "      <th>2</th>\n",
       "      <td>0.5</td>\n",
       "      <td>0.5</td>\n",
       "      <td>0.0</td>\n",
       "      <td>0.0</td>\n",
       "      <td>0.0</td>\n",
       "      <td>0.0</td>\n",
       "      <td>0.0</td>\n",
       "      <td>0.0</td>\n",
       "      <td>0.0</td>\n",
       "      <td>0.0</td>\n",
       "      <td>...</td>\n",
       "      <td>0.0</td>\n",
       "      <td>0.0</td>\n",
       "      <td>0.0</td>\n",
       "      <td>0.0</td>\n",
       "      <td>0.0</td>\n",
       "      <td>0.0</td>\n",
       "      <td>0.0</td>\n",
       "      <td>0.0</td>\n",
       "      <td>0.0</td>\n",
       "      <td>0.0</td>\n",
       "    </tr>\n",
       "  </tbody>\n",
       "</table>\n",
       "<p>3 rows × 22 columns</p>\n",
       "</div>"
      ],
      "text/plain": [
       "   B cells naive  B cells memory  Plasma cells  T cells CD8  \\\n",
       "0            0.5             0.5           0.0          0.0   \n",
       "1            0.5             0.5           0.0          0.0   \n",
       "2            0.5             0.5           0.0          0.0   \n",
       "\n",
       "   T cells CD4 naive  T cells CD4 memory resting  \\\n",
       "0                0.0                         0.0   \n",
       "1                0.0                         0.0   \n",
       "2                0.0                         0.0   \n",
       "\n",
       "   T cells CD4 memory activated  T cells follicular helper  \\\n",
       "0                           0.0                        0.0   \n",
       "1                           0.0                        0.0   \n",
       "2                           0.0                        0.0   \n",
       "\n",
       "   T cells regulatory (Tregs)  T cells gamma delta     ...       Monocytes  \\\n",
       "0                         0.0                  0.0     ...             0.0   \n",
       "1                         0.0                  0.0     ...             0.0   \n",
       "2                         0.0                  0.0     ...             0.0   \n",
       "\n",
       "   Macrophages M0  Macrophages M1  Macrophages M2  Dendritic cells resting  \\\n",
       "0             0.0             0.0             0.0                      0.0   \n",
       "1             0.0             0.0             0.0                      0.0   \n",
       "2             0.0             0.0             0.0                      0.0   \n",
       "\n",
       "   Dendritic cells activated  Mast cells resting  Mast cells activated  \\\n",
       "0                        0.0                 0.0                   0.0   \n",
       "1                        0.0                 0.0                   0.0   \n",
       "2                        0.0                 0.0                   0.0   \n",
       "\n",
       "   Eosinophils  Neutrophils  \n",
       "0          0.0          0.0  \n",
       "1          0.0          0.0  \n",
       "2          0.0          0.0  \n",
       "\n",
       "[3 rows x 22 columns]"
      ]
     },
     "execution_count": 180,
     "metadata": {},
     "output_type": "execute_result"
    }
   ],
   "source": [
    "hard_ref_weights"
   ]
  },
  {
   "cell_type": "code",
   "execution_count": 181,
   "metadata": {
    "ExecuteTime": {
     "end_time": "2016-07-06T12:27:55.985120",
     "start_time": "2016-07-06T12:27:55.961030"
    },
    "collapsed": false,
    "run_control": {
     "frozen": false,
     "read_only": false
    }
   },
   "outputs": [
    {
     "name": "stdout",
     "output_type": "stream",
     "text": [
      "correlation between GT and estimate per mixture\n",
      "0    0.986767\n",
      "1    0.987114\n",
      "2    0.992914\n",
      "dtype: float64\n"
     ]
    }
   ],
   "source": [
    "print 'correlation between GT and estimate per mixture'\n",
    "print results4_dat.corrwith(hard_ref_weights, axis=1)"
   ]
  },
  {
   "cell_type": "code",
   "execution_count": 183,
   "metadata": {
    "ExecuteTime": {
     "end_time": "2016-07-06T12:28:05.520168",
     "start_time": "2016-07-06T12:28:05.005413"
    },
    "collapsed": false,
    "run_control": {
     "frozen": false,
     "read_only": false
    }
   },
   "outputs": [
    {
     "name": "stdout",
     "output_type": "stream",
     "text": [
      "absolute difference from ground truth, summarized by column:\n"
     ]
    },
    {
     "name": "stderr",
     "output_type": "stream",
     "text": [
      "/home/maxim/anaconda2/lib/python2.7/site-packages/ipykernel/__main__.py:4: FutureWarning: sort(columns=....) is deprecated, use sort_values(by=.....)\n"
     ]
    },
    {
     "data": {
      "text/html": [
       "<div>\n",
       "<table border=\"1\" class=\"dataframe\">\n",
       "  <thead>\n",
       "    <tr style=\"text-align: right;\">\n",
       "      <th></th>\n",
       "      <th>count</th>\n",
       "      <th>mean</th>\n",
       "      <th>std</th>\n",
       "      <th>min</th>\n",
       "      <th>25%</th>\n",
       "      <th>50%</th>\n",
       "      <th>75%</th>\n",
       "      <th>max</th>\n",
       "    </tr>\n",
       "  </thead>\n",
       "  <tbody>\n",
       "    <tr>\n",
       "      <th>B cells naive</th>\n",
       "      <td>3.0</td>\n",
       "      <td>-0.100291</td>\n",
       "      <td>0.008568</td>\n",
       "      <td>-0.106118</td>\n",
       "      <td>-0.105209</td>\n",
       "      <td>-0.104301</td>\n",
       "      <td>-0.097377</td>\n",
       "      <td>-0.090453</td>\n",
       "    </tr>\n",
       "    <tr>\n",
       "      <th>Dendritic cells activated</th>\n",
       "      <td>3.0</td>\n",
       "      <td>0.000000</td>\n",
       "      <td>0.000000</td>\n",
       "      <td>0.000000</td>\n",
       "      <td>0.000000</td>\n",
       "      <td>0.000000</td>\n",
       "      <td>0.000000</td>\n",
       "      <td>0.000000</td>\n",
       "    </tr>\n",
       "    <tr>\n",
       "      <th>Plasma cells</th>\n",
       "      <td>3.0</td>\n",
       "      <td>0.000000</td>\n",
       "      <td>0.000000</td>\n",
       "      <td>0.000000</td>\n",
       "      <td>0.000000</td>\n",
       "      <td>0.000000</td>\n",
       "      <td>0.000000</td>\n",
       "      <td>0.000000</td>\n",
       "    </tr>\n",
       "    <tr>\n",
       "      <th>T cells CD8</th>\n",
       "      <td>3.0</td>\n",
       "      <td>0.000000</td>\n",
       "      <td>0.000000</td>\n",
       "      <td>0.000000</td>\n",
       "      <td>0.000000</td>\n",
       "      <td>0.000000</td>\n",
       "      <td>0.000000</td>\n",
       "      <td>0.000000</td>\n",
       "    </tr>\n",
       "    <tr>\n",
       "      <th>T cells CD4 naive</th>\n",
       "      <td>3.0</td>\n",
       "      <td>0.000000</td>\n",
       "      <td>0.000000</td>\n",
       "      <td>0.000000</td>\n",
       "      <td>0.000000</td>\n",
       "      <td>0.000000</td>\n",
       "      <td>0.000000</td>\n",
       "      <td>0.000000</td>\n",
       "    </tr>\n",
       "    <tr>\n",
       "      <th>Macrophages M2</th>\n",
       "      <td>3.0</td>\n",
       "      <td>0.000000</td>\n",
       "      <td>0.000000</td>\n",
       "      <td>0.000000</td>\n",
       "      <td>0.000000</td>\n",
       "      <td>0.000000</td>\n",
       "      <td>0.000000</td>\n",
       "      <td>0.000000</td>\n",
       "    </tr>\n",
       "    <tr>\n",
       "      <th>T cells CD4 memory activated</th>\n",
       "      <td>3.0</td>\n",
       "      <td>0.000000</td>\n",
       "      <td>0.000000</td>\n",
       "      <td>0.000000</td>\n",
       "      <td>0.000000</td>\n",
       "      <td>0.000000</td>\n",
       "      <td>0.000000</td>\n",
       "      <td>0.000000</td>\n",
       "    </tr>\n",
       "    <tr>\n",
       "      <th>Macrophages M0</th>\n",
       "      <td>3.0</td>\n",
       "      <td>0.000270</td>\n",
       "      <td>0.000468</td>\n",
       "      <td>0.000000</td>\n",
       "      <td>0.000000</td>\n",
       "      <td>0.000000</td>\n",
       "      <td>0.000405</td>\n",
       "      <td>0.000810</td>\n",
       "    </tr>\n",
       "    <tr>\n",
       "      <th>Neutrophils</th>\n",
       "      <td>3.0</td>\n",
       "      <td>0.001703</td>\n",
       "      <td>0.002205</td>\n",
       "      <td>0.000430</td>\n",
       "      <td>0.000430</td>\n",
       "      <td>0.000430</td>\n",
       "      <td>0.002340</td>\n",
       "      <td>0.004249</td>\n",
       "    </tr>\n",
       "    <tr>\n",
       "      <th>T cells regulatory (Tregs)</th>\n",
       "      <td>3.0</td>\n",
       "      <td>0.001781</td>\n",
       "      <td>0.000348</td>\n",
       "      <td>0.001387</td>\n",
       "      <td>0.001647</td>\n",
       "      <td>0.001908</td>\n",
       "      <td>0.001978</td>\n",
       "      <td>0.002048</td>\n",
       "    </tr>\n",
       "    <tr>\n",
       "      <th>Mast cells resting</th>\n",
       "      <td>3.0</td>\n",
       "      <td>0.002062</td>\n",
       "      <td>0.003571</td>\n",
       "      <td>0.000000</td>\n",
       "      <td>0.000000</td>\n",
       "      <td>0.000000</td>\n",
       "      <td>0.003093</td>\n",
       "      <td>0.006186</td>\n",
       "    </tr>\n",
       "    <tr>\n",
       "      <th>Monocytes</th>\n",
       "      <td>3.0</td>\n",
       "      <td>0.002532</td>\n",
       "      <td>0.002363</td>\n",
       "      <td>0.000000</td>\n",
       "      <td>0.001458</td>\n",
       "      <td>0.002916</td>\n",
       "      <td>0.003797</td>\n",
       "      <td>0.004679</td>\n",
       "    </tr>\n",
       "    <tr>\n",
       "      <th>NK cells activated</th>\n",
       "      <td>3.0</td>\n",
       "      <td>0.002730</td>\n",
       "      <td>0.004728</td>\n",
       "      <td>0.000000</td>\n",
       "      <td>0.000000</td>\n",
       "      <td>0.000000</td>\n",
       "      <td>0.004094</td>\n",
       "      <td>0.008189</td>\n",
       "    </tr>\n",
       "    <tr>\n",
       "      <th>T cells gamma delta</th>\n",
       "      <td>3.0</td>\n",
       "      <td>0.003462</td>\n",
       "      <td>0.002417</td>\n",
       "      <td>0.000672</td>\n",
       "      <td>0.002727</td>\n",
       "      <td>0.004782</td>\n",
       "      <td>0.004857</td>\n",
       "      <td>0.004932</td>\n",
       "    </tr>\n",
       "    <tr>\n",
       "      <th>NK cells resting</th>\n",
       "      <td>3.0</td>\n",
       "      <td>0.004067</td>\n",
       "      <td>0.003522</td>\n",
       "      <td>0.000000</td>\n",
       "      <td>0.003032</td>\n",
       "      <td>0.006064</td>\n",
       "      <td>0.006101</td>\n",
       "      <td>0.006137</td>\n",
       "    </tr>\n",
       "    <tr>\n",
       "      <th>Macrophages M1</th>\n",
       "      <td>3.0</td>\n",
       "      <td>0.005176</td>\n",
       "      <td>0.000654</td>\n",
       "      <td>0.004431</td>\n",
       "      <td>0.004939</td>\n",
       "      <td>0.005447</td>\n",
       "      <td>0.005549</td>\n",
       "      <td>0.005651</td>\n",
       "    </tr>\n",
       "    <tr>\n",
       "      <th>Eosinophils</th>\n",
       "      <td>3.0</td>\n",
       "      <td>0.005560</td>\n",
       "      <td>0.001260</td>\n",
       "      <td>0.004693</td>\n",
       "      <td>0.004838</td>\n",
       "      <td>0.004982</td>\n",
       "      <td>0.005994</td>\n",
       "      <td>0.007005</td>\n",
       "    </tr>\n",
       "    <tr>\n",
       "      <th>Mast cells activated</th>\n",
       "      <td>3.0</td>\n",
       "      <td>0.007046</td>\n",
       "      <td>0.004375</td>\n",
       "      <td>0.001995</td>\n",
       "      <td>0.005768</td>\n",
       "      <td>0.009541</td>\n",
       "      <td>0.009572</td>\n",
       "      <td>0.009604</td>\n",
       "    </tr>\n",
       "    <tr>\n",
       "      <th>T cells follicular helper</th>\n",
       "      <td>3.0</td>\n",
       "      <td>0.008284</td>\n",
       "      <td>0.002917</td>\n",
       "      <td>0.006515</td>\n",
       "      <td>0.006601</td>\n",
       "      <td>0.006687</td>\n",
       "      <td>0.009169</td>\n",
       "      <td>0.011651</td>\n",
       "    </tr>\n",
       "    <tr>\n",
       "      <th>Dendritic cells resting</th>\n",
       "      <td>3.0</td>\n",
       "      <td>0.012972</td>\n",
       "      <td>0.001034</td>\n",
       "      <td>0.012098</td>\n",
       "      <td>0.012402</td>\n",
       "      <td>0.012705</td>\n",
       "      <td>0.013409</td>\n",
       "      <td>0.014114</td>\n",
       "    </tr>\n",
       "    <tr>\n",
       "      <th>T cells CD4 memory resting</th>\n",
       "      <td>3.0</td>\n",
       "      <td>0.016857</td>\n",
       "      <td>0.006707</td>\n",
       "      <td>0.012840</td>\n",
       "      <td>0.012985</td>\n",
       "      <td>0.013131</td>\n",
       "      <td>0.018865</td>\n",
       "      <td>0.024600</td>\n",
       "    </tr>\n",
       "    <tr>\n",
       "      <th>B cells memory</th>\n",
       "      <td>3.0</td>\n",
       "      <td>0.025788</td>\n",
       "      <td>0.017861</td>\n",
       "      <td>0.005164</td>\n",
       "      <td>0.020572</td>\n",
       "      <td>0.035980</td>\n",
       "      <td>0.036099</td>\n",
       "      <td>0.036218</td>\n",
       "    </tr>\n",
       "  </tbody>\n",
       "</table>\n",
       "</div>"
      ],
      "text/plain": [
       "                              count      mean       std       min       25%  \\\n",
       "B cells naive                   3.0 -0.100291  0.008568 -0.106118 -0.105209   \n",
       "Dendritic cells activated       3.0  0.000000  0.000000  0.000000  0.000000   \n",
       "Plasma cells                    3.0  0.000000  0.000000  0.000000  0.000000   \n",
       "T cells CD8                     3.0  0.000000  0.000000  0.000000  0.000000   \n",
       "T cells CD4 naive               3.0  0.000000  0.000000  0.000000  0.000000   \n",
       "Macrophages M2                  3.0  0.000000  0.000000  0.000000  0.000000   \n",
       "T cells CD4 memory activated    3.0  0.000000  0.000000  0.000000  0.000000   \n",
       "Macrophages M0                  3.0  0.000270  0.000468  0.000000  0.000000   \n",
       "Neutrophils                     3.0  0.001703  0.002205  0.000430  0.000430   \n",
       "T cells regulatory (Tregs)      3.0  0.001781  0.000348  0.001387  0.001647   \n",
       "Mast cells resting              3.0  0.002062  0.003571  0.000000  0.000000   \n",
       "Monocytes                       3.0  0.002532  0.002363  0.000000  0.001458   \n",
       "NK cells activated              3.0  0.002730  0.004728  0.000000  0.000000   \n",
       "T cells gamma delta             3.0  0.003462  0.002417  0.000672  0.002727   \n",
       "NK cells resting                3.0  0.004067  0.003522  0.000000  0.003032   \n",
       "Macrophages M1                  3.0  0.005176  0.000654  0.004431  0.004939   \n",
       "Eosinophils                     3.0  0.005560  0.001260  0.004693  0.004838   \n",
       "Mast cells activated            3.0  0.007046  0.004375  0.001995  0.005768   \n",
       "T cells follicular helper       3.0  0.008284  0.002917  0.006515  0.006601   \n",
       "Dendritic cells resting         3.0  0.012972  0.001034  0.012098  0.012402   \n",
       "T cells CD4 memory resting      3.0  0.016857  0.006707  0.012840  0.012985   \n",
       "B cells memory                  3.0  0.025788  0.017861  0.005164  0.020572   \n",
       "\n",
       "                                   50%       75%       max  \n",
       "B cells naive                -0.104301 -0.097377 -0.090453  \n",
       "Dendritic cells activated     0.000000  0.000000  0.000000  \n",
       "Plasma cells                  0.000000  0.000000  0.000000  \n",
       "T cells CD8                   0.000000  0.000000  0.000000  \n",
       "T cells CD4 naive             0.000000  0.000000  0.000000  \n",
       "Macrophages M2                0.000000  0.000000  0.000000  \n",
       "T cells CD4 memory activated  0.000000  0.000000  0.000000  \n",
       "Macrophages M0                0.000000  0.000405  0.000810  \n",
       "Neutrophils                   0.000430  0.002340  0.004249  \n",
       "T cells regulatory (Tregs)    0.001908  0.001978  0.002048  \n",
       "Mast cells resting            0.000000  0.003093  0.006186  \n",
       "Monocytes                     0.002916  0.003797  0.004679  \n",
       "NK cells activated            0.000000  0.004094  0.008189  \n",
       "T cells gamma delta           0.004782  0.004857  0.004932  \n",
       "NK cells resting              0.006064  0.006101  0.006137  \n",
       "Macrophages M1                0.005447  0.005549  0.005651  \n",
       "Eosinophils                   0.004982  0.005994  0.007005  \n",
       "Mast cells activated          0.009541  0.009572  0.009604  \n",
       "T cells follicular helper     0.006687  0.009169  0.011651  \n",
       "Dendritic cells resting       0.012705  0.013409  0.014114  \n",
       "T cells CD4 memory resting    0.013131  0.018865  0.024600  \n",
       "B cells memory                0.035980  0.036099  0.036218  "
      ]
     },
     "execution_count": 183,
     "metadata": {},
     "output_type": "execute_result"
    },
    {
     "data": {
      "image/png": "[encoded data removed]",
      "text/plain": [
       "<matplotlib.figure.Figure at 0x7fa3d2f30950>"
      ]
     },
     "metadata": {},
     "output_type": "display_data"
    }
   ],
   "source": [
    "print 'absolute difference from ground truth, summarized by column:'\n",
    "(results4_dat - hard_ref_weights).describe().loc['mean'].hist()\n",
    "plt.title('mean absolute differences for columns across all mixtures')\n",
    "(results4_dat - hard_ref_weights).describe().T.sort('mean')"
   ]
  },
  {
   "cell_type": "code",
   "execution_count": 184,
   "metadata": {
    "ExecuteTime": {
     "end_time": "2016-07-06T12:28:18.213180",
     "start_time": "2016-07-06T12:28:17.030304"
    },
    "collapsed": false,
    "run_control": {
     "frozen": false,
     "read_only": false
    }
   },
   "outputs": [
    {
     "data": {
      "image/png": "[encoded data removed]",
      "text/plain": [
       "<matplotlib.figure.Figure at 0x7fa3d27f7d50>"
      ]
     },
     "metadata": {},
     "output_type": "display_data"
    },
    {
     "data": {
      "image/png": "[encoded data removed]",
      "text/plain": [
       "<matplotlib.figure.Figure at 0x7fa3d3fc5dd0>"
      ]
     },
     "metadata": {},
     "output_type": "display_data"
    },
    {
     "data": {
      "image/png": "[encoded data removed]",
      "text/plain": [
       "<matplotlib.figure.Figure at 0x7fa3d23a09d0>"
      ]
     },
     "metadata": {},
     "output_type": "display_data"
    }
   ],
   "source": [
    "for _, row in (results4_dat - hard_ref_weights).iterrows():\n",
    "    plt.figure()\n",
    "    row.hist()\n",
    "    plt.title('mixture %d absolute differences' % row.name)"
   ]
  },
  {
   "cell_type": "code",
   "execution_count": 185,
   "metadata": {
    "ExecuteTime": {
     "end_time": "2016-07-06T12:28:19.121018",
     "start_time": "2016-07-06T12:28:18.216149"
    },
    "collapsed": false,
    "run_control": {
     "frozen": false,
     "read_only": false
    }
   },
   "outputs": [
    {
     "data": {
      "image/png": "[encoded data removed]",
      "text/plain": [
       "<matplotlib.figure.Figure at 0x7fa3d29e9c10>"
      ]
     },
     "metadata": {},
     "output_type": "display_data"
    },
    {
     "data": {
      "image/png": "[encoded data removed]",
      "text/plain": [
       "<matplotlib.figure.Figure at 0x7fa3d29f6f90>"
      ]
     },
     "metadata": {},
     "output_type": "display_data"
    },
    {
     "data": {
      "image/png": "[encoded data removed]",
      "text/plain": [
       "<matplotlib.figure.Figure at 0x7fa3d80903d0>"
      ]
     },
     "metadata": {},
     "output_type": "display_data"
    }
   ],
   "source": [
    "for _, row in (results4_dat - hard_ref_weights).iterrows():\n",
    "    plt.figure()\n",
    "    row[hard_cols].hist()\n",
    "    plt.title('mixture %d absolute differences -- correct cell types only' % row.name)"
   ]
  },
  {
   "cell_type": "code",
   "execution_count": 186,
   "metadata": {
    "ExecuteTime": {
     "end_time": "2016-07-06T12:28:24.135348",
     "start_time": "2016-07-06T12:28:23.216302"
    },
    "collapsed": false,
    "run_control": {
     "frozen": false,
     "read_only": false
    }
   },
   "outputs": [
    {
     "data": {
      "image/png": "[encoded data removed]",
      "text/plain": [
       "<matplotlib.figure.Figure at 0x7fa3d2917190>"
      ]
     },
     "metadata": {},
     "output_type": "display_data"
    },
    {
     "data": {
      "image/png": "[encoded data removed]",
      "text/plain": [
       "<matplotlib.figure.Figure at 0x7fa3d23fb390>"
      ]
     },
     "metadata": {},
     "output_type": "display_data"
    },
    {
     "data": {
      "image/png": "[encoded data removed]",
      "text/plain": [
       "<matplotlib.figure.Figure at 0x7fa3d2aa12d0>"
      ]
     },
     "metadata": {},
     "output_type": "display_data"
    }
   ],
   "source": [
    "other_cols = set(results4_dat.columns) - set(hard_cols)\n",
    "for _, row in (results4_dat - hard_ref_weights).iterrows():\n",
    "    plt.figure()\n",
    "    row[other_cols].hist()\n",
    "    plt.title('mixture %d absolute differences -- incorrect cell types only' % row.name)"
   ]
  },
  {
   "cell_type": "code",
   "execution_count": 187,
   "metadata": {
    "ExecuteTime": {
     "end_time": "2016-07-06T12:28:24.963130",
     "start_time": "2016-07-06T12:28:24.939282"
    },
    "collapsed": false,
    "run_control": {
     "frozen": false,
     "read_only": false
    }
   },
   "outputs": [
    {
     "data": {
      "text/html": [
       "<div>\n",
       "<table border=\"1\" class=\"dataframe\">\n",
       "  <thead>\n",
       "    <tr style=\"text-align: right;\">\n",
       "      <th></th>\n",
       "      <th>B cells naive</th>\n",
       "      <th>B cells memory</th>\n",
       "    </tr>\n",
       "  </thead>\n",
       "  <tbody>\n",
       "    <tr>\n",
       "      <th>0</th>\n",
       "      <td>-0.106118</td>\n",
       "      <td>0.035980</td>\n",
       "    </tr>\n",
       "    <tr>\n",
       "      <th>1</th>\n",
       "      <td>-0.104301</td>\n",
       "      <td>0.036218</td>\n",
       "    </tr>\n",
       "    <tr>\n",
       "      <th>2</th>\n",
       "      <td>-0.090453</td>\n",
       "      <td>0.005164</td>\n",
       "    </tr>\n",
       "  </tbody>\n",
       "</table>\n",
       "</div>"
      ],
      "text/plain": [
       "   B cells naive  B cells memory\n",
       "0      -0.106118        0.035980\n",
       "1      -0.104301        0.036218\n",
       "2      -0.090453        0.005164"
      ]
     },
     "execution_count": 187,
     "metadata": {},
     "output_type": "execute_result"
    }
   ],
   "source": [
    "(results4_dat - hard_ref_weights)[hard_cols]"
   ]
  },
  {
   "cell_type": "code",
   "execution_count": 188,
   "metadata": {
    "ExecuteTime": {
     "end_time": "2016-07-06T12:28:27.763743",
     "start_time": "2016-07-06T12:28:27.757050"
    },
    "collapsed": false,
    "run_control": {
     "frozen": false,
     "read_only": false
    }
   },
   "outputs": [
    {
     "data": {
      "text/plain": [
       "0    0.0\n",
       "1    0.0\n",
       "2    0.0\n",
       "Name: P-value, dtype: float64"
      ]
     },
     "execution_count": 188,
     "metadata": {},
     "output_type": "execute_result"
    }
   ],
   "source": [
    "results4['P-value']"
   ]
  },
  {
   "cell_type": "code",
   "execution_count": 189,
   "metadata": {
    "ExecuteTime": {
     "end_time": "2016-07-06T12:28:36.305302",
     "start_time": "2016-07-06T12:28:36.288502"
    },
    "collapsed": false,
    "run_control": {
     "frozen": false,
     "read_only": false
    }
   },
   "outputs": [
    {
     "name": "stdout",
     "output_type": "stream",
     "text": [
      "RMSE \t R^2 \t per mixture\n",
      "0.0245 \t 0.9711\n",
      "0.0241 \t 0.9719\n",
      "0.0206 \t 0.9794\n"
     ]
    }
   ],
   "source": [
    "print 'RMSE \\t R^2 \\t per mixture'\n",
    "from sklearn.metrics import mean_squared_error as mse, r2_score\n",
    "for (_, y_true),(_, y_pred) in zip(hard_ref_weights.iterrows(), results4_dat.iterrows()):\n",
    "    print '%0.4f \\t %0.4f' % (np.sqrt(mse(y_true, y_pred)), r2_score(y_true, y_pred))"
   ]
  },
  {
   "cell_type": "markdown",
   "metadata": {},
   "source": [
    "Consistently 10% off with at least one category. Diagnostics don't reveal that -- especially P value. Cibersort thinks it did a great job, but it did not.\n",
    "\n",
    "Also, have hallucination of CD4 memory resting T cells (1.7%), resting dendritic cells (1.3%). (All others are at < 1%)\n"
   ]
  },
  {
   "cell_type": "code",
   "execution_count": null,
   "metadata": {
    "collapsed": true,
    "run_control": {
     "frozen": false,
     "read_only": false
    }
   },
   "outputs": [],
   "source": []
  },
  {
   "cell_type": "markdown",
   "metadata": {},
   "source": [
    "\n",
    "# Superset classification\n",
    "\n",
    "The classification:\n",
    "\n",
    "<img src=\"https://upload.wikimedia.org/wikipedia/commons/thumb/f/f0/Hematopoiesis_simple.svg/2000px-Hematopoiesis_simple.svg.png\" width=\"75%\" />\n",
    "\n",
    "How LM22 reproduces it (partially):\n",
    "\n",
    "![Hierarchical clustering of Cibersort's LM22](lm22.png)\n",
    "\n"
   ]
  },
  {
   "cell_type": "markdown",
   "metadata": {},
   "source": [
    "\n",
    "A good test case may be:\n",
    "\n",
    "* B cells: \"plasma cells\" and \"B cells*\"\n",
    "* Myeloblasts: \"Monocytes\" + \"Macrophages.M0\" + \"Eosinophils\" + \"Neutrophils\"\n",
    "* T cells: \"T cells*\"\n",
    "\n",
    "These types are biologically relevant and also seem to be reproduced in the hierarchical clustering above, for the most part.\n",
    "\n",
    "We want a superset profile of what is in common between cell types -- not an average.\n",
    "So pass in all T cells together to the Cibersort basis construction mechanism, for example."
   ]
  },
  {
   "cell_type": "code",
   "execution_count": 190,
   "metadata": {
    "ExecuteTime": {
     "end_time": "2016-07-06T14:09:25.323612",
     "start_time": "2016-07-06T14:09:25.262158"
    },
    "collapsed": false,
    "run_control": {
     "frozen": false,
     "read_only": false
    }
   },
   "outputs": [
    {
     "data": {
      "text/html": [
       "<div>\n",
       "<table border=\"1\" class=\"dataframe\">\n",
       "  <thead>\n",
       "    <tr style=\"text-align: right;\">\n",
       "      <th></th>\n",
       "      <th>1</th>\n",
       "      <th>2</th>\n",
       "      <th>3</th>\n",
       "      <th>4</th>\n",
       "      <th>5</th>\n",
       "      <th>6</th>\n",
       "      <th>7</th>\n",
       "      <th>8</th>\n",
       "      <th>9</th>\n",
       "      <th>10</th>\n",
       "      <th>...</th>\n",
       "      <th>185</th>\n",
       "      <th>186</th>\n",
       "      <th>187</th>\n",
       "      <th>188</th>\n",
       "      <th>189</th>\n",
       "      <th>190</th>\n",
       "      <th>191</th>\n",
       "      <th>192</th>\n",
       "      <th>193</th>\n",
       "      <th>194</th>\n",
       "    </tr>\n",
       "    <tr>\n",
       "      <th>0</th>\n",
       "      <th></th>\n",
       "      <th></th>\n",
       "      <th></th>\n",
       "      <th></th>\n",
       "      <th></th>\n",
       "      <th></th>\n",
       "      <th></th>\n",
       "      <th></th>\n",
       "      <th></th>\n",
       "      <th></th>\n",
       "      <th></th>\n",
       "      <th></th>\n",
       "      <th></th>\n",
       "      <th></th>\n",
       "      <th></th>\n",
       "      <th></th>\n",
       "      <th></th>\n",
       "      <th></th>\n",
       "      <th></th>\n",
       "      <th></th>\n",
       "      <th></th>\n",
       "    </tr>\n",
       "  </thead>\n",
       "  <tbody>\n",
       "    <tr>\n",
       "      <th>B cells naive</th>\n",
       "      <td>0</td>\n",
       "      <td>0</td>\n",
       "      <td>0</td>\n",
       "      <td>0</td>\n",
       "      <td>0</td>\n",
       "      <td>0</td>\n",
       "      <td>0</td>\n",
       "      <td>0</td>\n",
       "      <td>0</td>\n",
       "      <td>0</td>\n",
       "      <td>...</td>\n",
       "      <td>0</td>\n",
       "      <td>0</td>\n",
       "      <td>0</td>\n",
       "      <td>2</td>\n",
       "      <td>2</td>\n",
       "      <td>2</td>\n",
       "      <td>0</td>\n",
       "      <td>2</td>\n",
       "      <td>0</td>\n",
       "      <td>2</td>\n",
       "    </tr>\n",
       "    <tr>\n",
       "      <th>B cells memory</th>\n",
       "      <td>0</td>\n",
       "      <td>0</td>\n",
       "      <td>0</td>\n",
       "      <td>0</td>\n",
       "      <td>0</td>\n",
       "      <td>0</td>\n",
       "      <td>0</td>\n",
       "      <td>0</td>\n",
       "      <td>0</td>\n",
       "      <td>0</td>\n",
       "      <td>...</td>\n",
       "      <td>0</td>\n",
       "      <td>0</td>\n",
       "      <td>0</td>\n",
       "      <td>2</td>\n",
       "      <td>2</td>\n",
       "      <td>2</td>\n",
       "      <td>0</td>\n",
       "      <td>2</td>\n",
       "      <td>0</td>\n",
       "      <td>2</td>\n",
       "    </tr>\n",
       "    <tr>\n",
       "      <th>Plasma cells</th>\n",
       "      <td>0</td>\n",
       "      <td>0</td>\n",
       "      <td>0</td>\n",
       "      <td>0</td>\n",
       "      <td>0</td>\n",
       "      <td>0</td>\n",
       "      <td>0</td>\n",
       "      <td>0</td>\n",
       "      <td>0</td>\n",
       "      <td>0</td>\n",
       "      <td>...</td>\n",
       "      <td>0</td>\n",
       "      <td>0</td>\n",
       "      <td>0</td>\n",
       "      <td>2</td>\n",
       "      <td>2</td>\n",
       "      <td>2</td>\n",
       "      <td>0</td>\n",
       "      <td>2</td>\n",
       "      <td>0</td>\n",
       "      <td>2</td>\n",
       "    </tr>\n",
       "    <tr>\n",
       "      <th>T cells CD8</th>\n",
       "      <td>0</td>\n",
       "      <td>0</td>\n",
       "      <td>0</td>\n",
       "      <td>0</td>\n",
       "      <td>0</td>\n",
       "      <td>0</td>\n",
       "      <td>0</td>\n",
       "      <td>0</td>\n",
       "      <td>0</td>\n",
       "      <td>0</td>\n",
       "      <td>...</td>\n",
       "      <td>0</td>\n",
       "      <td>0</td>\n",
       "      <td>0</td>\n",
       "      <td>2</td>\n",
       "      <td>2</td>\n",
       "      <td>2</td>\n",
       "      <td>0</td>\n",
       "      <td>2</td>\n",
       "      <td>0</td>\n",
       "      <td>2</td>\n",
       "    </tr>\n",
       "    <tr>\n",
       "      <th>T cells CD4 naive</th>\n",
       "      <td>0</td>\n",
       "      <td>0</td>\n",
       "      <td>0</td>\n",
       "      <td>0</td>\n",
       "      <td>0</td>\n",
       "      <td>0</td>\n",
       "      <td>0</td>\n",
       "      <td>0</td>\n",
       "      <td>0</td>\n",
       "      <td>0</td>\n",
       "      <td>...</td>\n",
       "      <td>0</td>\n",
       "      <td>0</td>\n",
       "      <td>0</td>\n",
       "      <td>1</td>\n",
       "      <td>1</td>\n",
       "      <td>1</td>\n",
       "      <td>0</td>\n",
       "      <td>2</td>\n",
       "      <td>0</td>\n",
       "      <td>2</td>\n",
       "    </tr>\n",
       "  </tbody>\n",
       "</table>\n",
       "<p>5 rows × 194 columns</p>\n",
       "</div>"
      ],
      "text/plain": [
       "                   1    2    3    4    5    6    7    8    9    10  ...   185  \\\n",
       "0                                                                   ...         \n",
       "B cells naive        0    0    0    0    0    0    0    0    0    0 ...     0   \n",
       "B cells memory       0    0    0    0    0    0    0    0    0    0 ...     0   \n",
       "Plasma cells         0    0    0    0    0    0    0    0    0    0 ...     0   \n",
       "T cells CD8          0    0    0    0    0    0    0    0    0    0 ...     0   \n",
       "T cells CD4 naive    0    0    0    0    0    0    0    0    0    0 ...     0   \n",
       "\n",
       "                   186  187  188  189  190  191  192  193  194  \n",
       "0                                                               \n",
       "B cells naive        0    0    2    2    2    0    2    0    2  \n",
       "B cells memory       0    0    2    2    2    0    2    0    2  \n",
       "Plasma cells         0    0    2    2    2    0    2    0    2  \n",
       "T cells CD8          0    0    2    2    2    0    2    0    2  \n",
       "T cells CD4 naive    0    0    1    1    1    0    2    0    2  \n",
       "\n",
       "[5 rows x 194 columns]"
      ]
     },
     "execution_count": 190,
     "metadata": {},
     "output_type": "execute_result"
    }
   ],
   "source": [
    "# from Variance\\ within\\ and\\ between\\ cell\\ types.ipynb\n",
    "lm22_orig_classes = pd.read_csv('curated_data/pure_samples/cibersort/LM22-classes.txt', sep='\\t', header=None)\n",
    "lm22_orig_classes = lm22_orig_classes.set_index(0)\n",
    "lm22_orig_classes.head()"
   ]
  },
  {
   "cell_type": "code",
   "execution_count": 38,
   "metadata": {
    "ExecuteTime": {
     "end_time": "2016-07-05T14:26:59.258458",
     "start_time": "2016-07-05T14:26:58.647800"
    },
    "collapsed": false,
    "run_control": {
     "frozen": false,
     "read_only": false
    }
   },
   "outputs": [
    {
     "data": {
      "text/plain": [
       "Index([u'Relabel',\n",
       "       u'A_LW_+BAFF_U133A_250303 [Chtanova_immune|A_LW_+BAFF_U133A_250303]',\n",
       "       u'A_LW_+BAFF_U133A_70303 [Chtanova_immune|A_LW_+BAFF_U133A_70303]',\n",
       "       u'A_LW_-BAFF_U133A_250303 [Chtanova_immune|A_LW_-BAFF_U133A_250303]',\n",
       "       u'A_LW_-BAFF_U133A_70303 [Chtanova_immune|A_LW_-BAFF_U133A_70303]',\n",
       "       u'A_LW_CD57+_U133A_030603 [Chtanova_immune|A_LW_CD57+_U133A_030603]',\n",
       "       u'A_LW_CD57+_U133A_121102 [Chtanova_immune|A_LW_CD57+_U133A_121102]',\n",
       "       u'A_LW_CD57-_U133A_030603 [Chtanova_immune|A_LW_CD57-_U133A_030603]',\n",
       "       u'A_LW_CD57-_U133A_121102 [Chtanova_immune|A_LW_CD57-_U133A_121102]',\n",
       "       u'A_LW_DC+BAFF_U133A_250304 [Chtanova_immune|A_LW_DC+BAFF_U133A_250304]',\n",
       "       ...\n",
       "       u'TEM_U133A_1 [TFH_E-MEXP-750|TEM_U133A_1]',\n",
       "       u'TEM_U133A_2 [TFH_E-MEXP-750|TEM_U133A_2]',\n",
       "       u'TEM_U133A_3 [TFH_E-MEXP-750|TEM_U133A_3]',\n",
       "       u'TN_U133A_1 [TFH_E-MEXP-750|TN_U133A_1]',\n",
       "       u'TN_U133A_2 [TFH_E-MEXP-750|TN_U133A_2]',\n",
       "       u'TN_U133A_3 [TFH_E-MEXP-750|TN_U133A_3]',\n",
       "       u'TH_1 [TREGs_GSE4527|GSM101518]', u'Treg_1 [TREGs_GSE4527|GSM101519]',\n",
       "       u'TH_2 [TREGs_GSE4527|GSM101520]', u'Treg_2 [TREGs_GSE4527|GSM101521]'],\n",
       "      dtype='object', length=195)"
      ]
     },
     "execution_count": 38,
     "metadata": {},
     "output_type": "execute_result"
    }
   ],
   "source": [
    "sample_names = pd.read_csv('curated_data/pure_samples/cibersort/LM22-ref-sample.txt', sep='\\t').columns\n",
    "sample_names"
   ]
  },
  {
   "cell_type": "code",
   "execution_count": 30,
   "metadata": {
    "ExecuteTime": {
     "end_time": "2016-07-05T13:54:06.804256",
     "start_time": "2016-07-05T13:54:06.760504"
    },
    "collapsed": false,
    "run_control": {
     "frozen": false,
     "read_only": false
    }
   },
   "outputs": [
    {
     "data": {
      "text/html": [
       "<div>\n",
       "<table border=\"1\" class=\"dataframe\">\n",
       "  <thead>\n",
       "    <tr style=\"text-align: right;\">\n",
       "      <th></th>\n",
       "      <th>1</th>\n",
       "      <th>2</th>\n",
       "      <th>3</th>\n",
       "      <th>4</th>\n",
       "      <th>5</th>\n",
       "      <th>6</th>\n",
       "      <th>7</th>\n",
       "      <th>8</th>\n",
       "      <th>9</th>\n",
       "      <th>10</th>\n",
       "      <th>...</th>\n",
       "      <th>185</th>\n",
       "      <th>186</th>\n",
       "      <th>187</th>\n",
       "      <th>188</th>\n",
       "      <th>189</th>\n",
       "      <th>190</th>\n",
       "      <th>191</th>\n",
       "      <th>192</th>\n",
       "      <th>193</th>\n",
       "      <th>194</th>\n",
       "    </tr>\n",
       "    <tr>\n",
       "      <th>0</th>\n",
       "      <th></th>\n",
       "      <th></th>\n",
       "      <th></th>\n",
       "      <th></th>\n",
       "      <th></th>\n",
       "      <th></th>\n",
       "      <th></th>\n",
       "      <th></th>\n",
       "      <th></th>\n",
       "      <th></th>\n",
       "      <th></th>\n",
       "      <th></th>\n",
       "      <th></th>\n",
       "      <th></th>\n",
       "      <th></th>\n",
       "      <th></th>\n",
       "      <th></th>\n",
       "      <th></th>\n",
       "      <th></th>\n",
       "      <th></th>\n",
       "      <th></th>\n",
       "    </tr>\n",
       "  </thead>\n",
       "  <tbody>\n",
       "    <tr>\n",
       "      <th>B cells naive</th>\n",
       "      <td>0</td>\n",
       "      <td>0</td>\n",
       "      <td>0</td>\n",
       "      <td>0</td>\n",
       "      <td>0</td>\n",
       "      <td>0</td>\n",
       "      <td>0</td>\n",
       "      <td>0</td>\n",
       "      <td>0</td>\n",
       "      <td>0</td>\n",
       "      <td>...</td>\n",
       "      <td>0</td>\n",
       "      <td>0</td>\n",
       "      <td>0</td>\n",
       "      <td>2</td>\n",
       "      <td>2</td>\n",
       "      <td>2</td>\n",
       "      <td>0</td>\n",
       "      <td>2</td>\n",
       "      <td>0</td>\n",
       "      <td>2</td>\n",
       "    </tr>\n",
       "    <tr>\n",
       "      <th>B cells memory</th>\n",
       "      <td>0</td>\n",
       "      <td>0</td>\n",
       "      <td>0</td>\n",
       "      <td>0</td>\n",
       "      <td>0</td>\n",
       "      <td>0</td>\n",
       "      <td>0</td>\n",
       "      <td>0</td>\n",
       "      <td>0</td>\n",
       "      <td>0</td>\n",
       "      <td>...</td>\n",
       "      <td>0</td>\n",
       "      <td>0</td>\n",
       "      <td>0</td>\n",
       "      <td>2</td>\n",
       "      <td>2</td>\n",
       "      <td>2</td>\n",
       "      <td>0</td>\n",
       "      <td>2</td>\n",
       "      <td>0</td>\n",
       "      <td>2</td>\n",
       "    </tr>\n",
       "    <tr>\n",
       "      <th>Plasma cells</th>\n",
       "      <td>0</td>\n",
       "      <td>0</td>\n",
       "      <td>0</td>\n",
       "      <td>0</td>\n",
       "      <td>0</td>\n",
       "      <td>0</td>\n",
       "      <td>0</td>\n",
       "      <td>0</td>\n",
       "      <td>0</td>\n",
       "      <td>0</td>\n",
       "      <td>...</td>\n",
       "      <td>0</td>\n",
       "      <td>0</td>\n",
       "      <td>0</td>\n",
       "      <td>2</td>\n",
       "      <td>2</td>\n",
       "      <td>2</td>\n",
       "      <td>0</td>\n",
       "      <td>2</td>\n",
       "      <td>0</td>\n",
       "      <td>2</td>\n",
       "    </tr>\n",
       "  </tbody>\n",
       "</table>\n",
       "<p>3 rows × 194 columns</p>\n",
       "</div>"
      ],
      "text/plain": [
       "                1    2    3    4    5    6    7    8    9    10  ...   185  \\\n",
       "0                                                                ...         \n",
       "B cells naive     0    0    0    0    0    0    0    0    0    0 ...     0   \n",
       "B cells memory    0    0    0    0    0    0    0    0    0    0 ...     0   \n",
       "Plasma cells      0    0    0    0    0    0    0    0    0    0 ...     0   \n",
       "\n",
       "                186  187  188  189  190  191  192  193  194  \n",
       "0                                                            \n",
       "B cells naive     0    0    2    2    2    0    2    0    2  \n",
       "B cells memory    0    0    2    2    2    0    2    0    2  \n",
       "Plasma cells      0    0    2    2    2    0    2    0    2  \n",
       "\n",
       "[3 rows x 194 columns]"
      ]
     },
     "execution_count": 30,
     "metadata": {},
     "output_type": "execute_result"
    }
   ],
   "source": [
    "bcells = lm22_orig_classes.loc[['B cells naive', 'B cells memory', 'Plasma cells'], :]\n",
    "bcells.head()"
   ]
  },
  {
   "cell_type": "code",
   "execution_count": 40,
   "metadata": {
    "ExecuteTime": {
     "end_time": "2016-07-05T14:27:58.722387",
     "start_time": "2016-07-05T14:27:58.683239"
    },
    "collapsed": false,
    "run_control": {
     "frozen": false,
     "read_only": false
    }
   },
   "outputs": [
    {
     "name": "stdout",
     "output_type": "stream",
     "text": [
      "Bcell-naive-1 [HG-U133A] [IRIS_GSE22886|GSM565308] 89\n",
      "Bcell-naive-2 [HG-U133A] [IRIS_GSE22886|GSM565309] 90\n",
      "Bcell-naive-3 [HG-U133A] [IRIS_GSE22886|GSM565310] 91\n",
      "Bcell-naive-4 [HG-U133A] [IRIS_GSE22886|GSM565311] 92\n",
      "Bcell-naive-5 [HG-U133A] [IRIS_GSE22886|GSM565312] 93\n",
      "Bcell-naive-6 [HG-U133A] [IRIS_GSE22886|GSM565313] 94\n",
      "Bcell-naive-7 [HG-U133A] [IRIS_GSE22886|GSM565314] 95\n",
      "Bcell-Memory_IgG_IgA-1 [HG-U133A] [IRIS_GSE22886|GSM565315] 96\n",
      "Bcell-Memory_IgG_IgA-2 [HG-U133A] [IRIS_GSE22886|GSM565316] 97\n",
      "Bcell-Memory_IgG_IgA-3 [HG-U133A] [IRIS_GSE22886|GSM565317] 98\n",
      "Bcell-Memory_IgG_IgA-4 [HG-U133A] [IRIS_GSE22886|GSM565318] 99\n",
      "Bcell-Memory_IgM-1 [HG-U133A] [IRIS_GSE22886|GSM565319] 100\n",
      "Bcell-Memory_IgM-2 [HG-U133A] [IRIS_GSE22886|GSM565320] 101\n",
      "Bcell-Memory_IgM-3 [HG-U133A] [IRIS_GSE22886|GSM565321] 102\n",
      "Bcell-Memory_IgM-4 [HG-U133A] [IRIS_GSE22886|GSM565322] 103\n",
      "PlasmaCell-FromPBMC-1 [HG-U133A] [IRIS_GSE22886|GSM565323] 104\n",
      "PlasmaCell-FromPBMC-2 [HG-U133A] [IRIS_GSE22886|GSM565324] 105\n",
      "PlasmaCell-FromPBMC-3 [HG-U133A] [IRIS_GSE22886|GSM565325] 106\n",
      "PlasmaCell-FromBoneMarrow-1 [HG-U133A] [IRIS_GSE22886|GSM565326] 107\n",
      "PlasmaCell-FromBoneMarrow-2 [HG-U133A] [IRIS_GSE22886|GSM565327] 108\n",
      "PlasmaCell-FromBoneMarrow-3 [HG-U133A] [IRIS_GSE22886|GSM565328] 109\n",
      "PlasmaCell-FromBoneMarrow-4 [HG-U133A] [IRIS_GSE22886|GSM565329] 110\n"
     ]
    },
    {
     "data": {
      "text/plain": [
       "array([0, 2, 1])"
      ]
     },
     "execution_count": 40,
     "metadata": {},
     "output_type": "execute_result"
    }
   ],
   "source": [
    "def combine_rows(col):\n",
    "    if (1 in col.unique() and 2 in col.unique()):\n",
    "        print sample_names[col.name], col.name\n",
    "    if 1 in col.unique():\n",
    "        return 1\n",
    "    if 2 in col.unique():\n",
    "        return 2\n",
    "    return 0\n",
    "bcells.apply(combine_rows).unique()"
   ]
  },
  {
   "cell_type": "code",
   "execution_count": 41,
   "metadata": {
    "ExecuteTime": {
     "end_time": "2016-07-05T14:28:10.983890",
     "start_time": "2016-07-05T14:28:10.925365"
    },
    "collapsed": false,
    "run_control": {
     "frozen": false,
     "read_only": false
    }
   },
   "outputs": [
    {
     "data": {
      "text/html": [
       "<div>\n",
       "<table border=\"1\" class=\"dataframe\">\n",
       "  <thead>\n",
       "    <tr style=\"text-align: right;\">\n",
       "      <th></th>\n",
       "      <th>89</th>\n",
       "      <th>90</th>\n",
       "      <th>91</th>\n",
       "      <th>92</th>\n",
       "      <th>93</th>\n",
       "      <th>94</th>\n",
       "      <th>95</th>\n",
       "      <th>96</th>\n",
       "      <th>97</th>\n",
       "      <th>98</th>\n",
       "      <th>...</th>\n",
       "      <th>100</th>\n",
       "      <th>101</th>\n",
       "      <th>102</th>\n",
       "      <th>103</th>\n",
       "      <th>104</th>\n",
       "      <th>105</th>\n",
       "      <th>106</th>\n",
       "      <th>107</th>\n",
       "      <th>108</th>\n",
       "      <th>109</th>\n",
       "    </tr>\n",
       "    <tr>\n",
       "      <th>0</th>\n",
       "      <th></th>\n",
       "      <th></th>\n",
       "      <th></th>\n",
       "      <th></th>\n",
       "      <th></th>\n",
       "      <th></th>\n",
       "      <th></th>\n",
       "      <th></th>\n",
       "      <th></th>\n",
       "      <th></th>\n",
       "      <th></th>\n",
       "      <th></th>\n",
       "      <th></th>\n",
       "      <th></th>\n",
       "      <th></th>\n",
       "      <th></th>\n",
       "      <th></th>\n",
       "      <th></th>\n",
       "      <th></th>\n",
       "      <th></th>\n",
       "      <th></th>\n",
       "    </tr>\n",
       "  </thead>\n",
       "  <tbody>\n",
       "    <tr>\n",
       "      <th>B cells naive</th>\n",
       "      <td>1</td>\n",
       "      <td>1</td>\n",
       "      <td>1</td>\n",
       "      <td>1</td>\n",
       "      <td>1</td>\n",
       "      <td>1</td>\n",
       "      <td>1</td>\n",
       "      <td>2</td>\n",
       "      <td>2</td>\n",
       "      <td>2</td>\n",
       "      <td>...</td>\n",
       "      <td>2</td>\n",
       "      <td>2</td>\n",
       "      <td>2</td>\n",
       "      <td>2</td>\n",
       "      <td>2</td>\n",
       "      <td>2</td>\n",
       "      <td>2</td>\n",
       "      <td>2</td>\n",
       "      <td>2</td>\n",
       "      <td>2</td>\n",
       "    </tr>\n",
       "    <tr>\n",
       "      <th>B cells memory</th>\n",
       "      <td>2</td>\n",
       "      <td>2</td>\n",
       "      <td>2</td>\n",
       "      <td>2</td>\n",
       "      <td>2</td>\n",
       "      <td>2</td>\n",
       "      <td>2</td>\n",
       "      <td>1</td>\n",
       "      <td>1</td>\n",
       "      <td>1</td>\n",
       "      <td>...</td>\n",
       "      <td>1</td>\n",
       "      <td>1</td>\n",
       "      <td>1</td>\n",
       "      <td>1</td>\n",
       "      <td>2</td>\n",
       "      <td>2</td>\n",
       "      <td>2</td>\n",
       "      <td>2</td>\n",
       "      <td>2</td>\n",
       "      <td>2</td>\n",
       "    </tr>\n",
       "    <tr>\n",
       "      <th>Plasma cells</th>\n",
       "      <td>2</td>\n",
       "      <td>2</td>\n",
       "      <td>2</td>\n",
       "      <td>2</td>\n",
       "      <td>2</td>\n",
       "      <td>2</td>\n",
       "      <td>2</td>\n",
       "      <td>2</td>\n",
       "      <td>2</td>\n",
       "      <td>2</td>\n",
       "      <td>...</td>\n",
       "      <td>2</td>\n",
       "      <td>2</td>\n",
       "      <td>2</td>\n",
       "      <td>2</td>\n",
       "      <td>1</td>\n",
       "      <td>1</td>\n",
       "      <td>1</td>\n",
       "      <td>1</td>\n",
       "      <td>1</td>\n",
       "      <td>1</td>\n",
       "    </tr>\n",
       "  </tbody>\n",
       "</table>\n",
       "<p>3 rows × 21 columns</p>\n",
       "</div>"
      ],
      "text/plain": [
       "                89   90   91   92   93   94   95   96   97   98  ...   100  \\\n",
       "0                                                                ...         \n",
       "B cells naive     1    1    1    1    1    1    1    2    2    2 ...     2   \n",
       "B cells memory    2    2    2    2    2    2    2    1    1    1 ...     1   \n",
       "Plasma cells      2    2    2    2    2    2    2    2    2    2 ...     2   \n",
       "\n",
       "                101  102  103  104  105  106  107  108  109  \n",
       "0                                                            \n",
       "B cells naive     2    2    2    2    2    2    2    2    2  \n",
       "B cells memory    1    1    1    2    2    2    2    2    2  \n",
       "Plasma cells      2    2    2    1    1    1    1    1    1  \n",
       "\n",
       "[3 rows x 21 columns]"
      ]
     },
     "execution_count": 41,
     "metadata": {},
     "output_type": "execute_result"
    }
   ],
   "source": [
    "bcells[range(89,110)]"
   ]
  },
  {
   "cell_type": "code",
   "execution_count": 49,
   "metadata": {
    "ExecuteTime": {
     "end_time": "2016-07-05T14:43:43.820956",
     "start_time": "2016-07-05T14:43:43.690936"
    },
    "collapsed": false,
    "run_control": {
     "frozen": false,
     "read_only": false
    }
   },
   "outputs": [
    {
     "name": "stdout",
     "output_type": "stream",
     "text": [
      "columns that are all 0\n",
      "A_LW_+BAFF_U133A_250303 [Chtanova_immune|A_LW_+BAFF_U133A_250303]\n",
      "A_LW_+BAFF_U133A_70303 [Chtanova_immune|A_LW_+BAFF_U133A_70303]\n",
      "A_LW_-BAFF_U133A_250303 [Chtanova_immune|A_LW_-BAFF_U133A_250303]\n",
      "A_LW_-BAFF_U133A_70303 [Chtanova_immune|A_LW_-BAFF_U133A_70303]\n",
      "A_LW_CD57+_U133A_030603 [Chtanova_immune|A_LW_CD57+_U133A_030603]\n",
      "A_LW_CD57+_U133A_121102 [Chtanova_immune|A_LW_CD57+_U133A_121102]\n",
      "A_LW_CD57-_U133A_030603 [Chtanova_immune|A_LW_CD57-_U133A_030603]\n",
      "A_LW_CD57-_U133A_121102 [Chtanova_immune|A_LW_CD57-_U133A_121102]\n",
      "A_LW_DC+BAFF_U133A_250304 [Chtanova_immune|A_LW_DC+BAFF_U133A_250304]\n",
      "A_LW_DC-BAFF_U133A_250304 [Chtanova_immune|A_LW_DC-BAFF_U133A_250304]\n",
      "A_LW_DC48hLPS_HC_U133A [Chtanova_immune|A_LW_DC48hLPS_HC_U133A]\n",
      "A_LW_DC48hLPS_U133A_200503 [Chtanova_immune|A_LW_DC48hLPS_U133A_200503]\n",
      "A_LW_DC6hLPS_HC_U133A [Chtanova_immune|A_LW_DC6hLPS_HC_U133A]\n",
      "A_LW_DC6hLPS_U133A_200503 [Chtanova_immune|A_LW_DC6hLPS_U133A_200503]\n",
      "A_LW_imDC_U133A_200503 [Chtanova_immune|A_LW_imDC_U133A_200503]\n",
      "A_LW_macro_LPS_HC_U133A [Chtanova_immune|A_LW_macro_LPS_HC_U133A]\n",
      "A_LW_macro_LPS_U133A_130503 [Chtanova_immune|A_LW_macro_LPS_U133A_130503]\n",
      "A_LW_macroctrl_U133A_130503 [Chtanova_immune|A_LW_macroctrl_U133A_130503]\n",
      "A_MF_CCR7+_U133A_190202 [Chtanova_immune|A_MF_CCR7+_U133A_190202]\n",
      "A_MF_CCR7-_U133A_190202 [Chtanova_immune|A_MF_CCR7-_U133A_190202]\n",
      "A_MF_CD57+_U133A_010502 [Chtanova_immune|A_MF_CD57+_U133A_010502]\n",
      "A_MF_CD57-_U133A_010502 [Chtanova_immune|A_MF_CD57-_U133A_010502]\n",
      "A_MF_TH1human_U133A_290502 [Chtanova_immune|A_MF_TH1human_U133A_290502]\n",
      "A_MF_TH2human_U133A_290502 [Chtanova_immune|A_MF_TH2human_U133A_290502]\n",
      "A_SZ_48hLPS_HCDC2_U133A [Chtanova_immune|A_SZ_48hLPS_HCDC2_U133A]\n",
      "A_SZ_48hLPSDC2_U133A_250603 [Chtanova_immune|A_SZ_48hLPSDC2_U133A_250603]\n",
      "A_SZ_6hLPS_HCDC2_U133A [Chtanova_immune|A_SZ_6hLPS_HCDC2_U133A]\n",
      "A_SZ_6hLPSDC2_U133A_250603 [Chtanova_immune|A_SZ_6hLPSDC2_U133A_250603]\n",
      "A_SZ_imDC2_U133A_250603 [Chtanova_immune|A_SZ_imDC2_U133A_250603]\n",
      "A_SZ_mac2cont_U133A_240603 [Chtanova_immune|A_SZ_mac2cont_U133A_240603]\n",
      "A_SZ_mac2LPS_HC_U133A [Chtanova_immune|A_SZ_mac2LPS_HC_U133A]\n",
      "A_SZ_mac2LPS_U133A_240603 [Chtanova_immune|A_SZ_mac2LPS_U133A_240603]\n",
      "A_TS_2CD19+_U133A_180204 [Chtanova_immune|A_TS_2CD19+_U133A_180204]\n",
      "A_TS_MDDC4ws+BAFF_U133A [Chtanova_immune|A_TS_MDDC4ws+BAFF_U133A]\n",
      "A_TS_MDDC4ws-BAFF_U133A [Chtanova_immune|A_TS_MDDC4ws-BAFF_U133A]\n",
      "A_TS_RN_CD19+_U133A_130104 [Chtanova_immune|A_TS_RN_CD19+_U133A_130104]\n",
      "A_TS_TC_Th1_U133A_141003 [Chtanova_immune|A_TS_TC_Th1_U133A_141003]\n",
      "A_TS_TC_Th2_U133A_141003 [Chtanova_immune|A_TS_TC_Th2_U133A_141003]\n",
      "CD4Tcell-N0-1 [HG-U133A] [IRIS_GSE22886|GSM565273]\n",
      "CD4Tcell-N0-2 [HG-U133A] [IRIS_GSE22886|GSM565274]\n",
      "CD4Tcell-N0-3 [HG-U133A] [IRIS_GSE22886|GSM565275]\n",
      "CD4Tcell-Th1-restimulated12hour-1 [HG-U133A] [IRIS_GSE22886|GSM565276]\n",
      "CD4Tcell-Th1-restimulated12hour-2 [HG-U133A] [IRIS_GSE22886|GSM565277]\n",
      "CD4Tcell-Th1-restimulated48hour-1 [HG-U133A] [IRIS_GSE22886|GSM565278]\n",
      "CD4Tcell-Th1-restimulated48hour-2 [HG-U133A] [IRIS_GSE22886|GSM565279]\n",
      "CD4Tcell-Th1-restimulated48hour-3 [HG-U133A] [IRIS_GSE22886|GSM565280]\n",
      "CD4Tcell-Th2-restimulated12hour-1 [HG-U133A] [IRIS_GSE22886|GSM565281]\n",
      "CD4Tcell-Th2-restimulated12hour-2 [HG-U133A] [IRIS_GSE22886|GSM565282]\n",
      "CD4Tcell-Th2-restimulated12hour-3 [HG-U133A] [IRIS_GSE22886|GSM565283]\n",
      "CD4Tcell-Th2-restimulated48hour-1 [HG-U133A] [IRIS_GSE22886|GSM565284]\n",
      "CD4Tcell-Th2-restimulated48hour-2 [HG-U133A] [IRIS_GSE22886|GSM565285]\n",
      "CD4Tcell-Th2-restimulated48hour-3 [HG-U133A] [IRIS_GSE22886|GSM565286]\n",
      "Monocyte-Day1-1 [HG-U133A] [IRIS_GSE22886|GSM565342]\n",
      "Monocyte-Day1-2 [HG-U133A] [IRIS_GSE22886|GSM565343]\n",
      "Monocyte-Day1-3 [HG-U133A] [IRIS_GSE22886|GSM565344]\n",
      "Monocyte-Day1-4 [HG-U133A] [IRIS_GSE22886|GSM565345]\n",
      "Monocyte-Day1-5 [HG-U133A] [IRIS_GSE22886|GSM565346]\n",
      "Monocyte-Day1-6 [HG-U133A] [IRIS_GSE22886|GSM565347]\n",
      "Monocyte-Day1-7 [HG-U133A] [IRIS_GSE22886|GSM565348]\n",
      "Monocyte-Day1-8 [HG-U133A] [IRIS_GSE22886|GSM565349]\n",
      "Monocyte-Day1-9 [HG-U133A] [IRIS_GSE22886|GSM565350]\n",
      "Monocyte-Day1-10 [HG-U133A] [IRIS_GSE22886|GSM565351]\n",
      "Monocyte-Day1-11 [HG-U133A] [IRIS_GSE22886|GSM565352]\n",
      "Monocyte-Day1-12 [HG-U133A] [IRIS_GSE22886|GSM565353]\n",
      "CXCR5-ICOS-lo_U133A_1 [TFH_E-MEXP-750|CXCR5-ICOS-lo_U133A_1]\n",
      "CXCR5-ICOS-lo_U133A_2 [TFH_E-MEXP-750|CXCR5-ICOS-lo_U133A_2]\n",
      "CXCR5-ICOS-lo_U133A_3 [TFH_E-MEXP-750|CXCR5-ICOS-lo_U133A_3]\n",
      "CXCR5loICOSint_U133A_1 [TFH_E-MEXP-750|CXCR5loICOSint_U133A_1]\n",
      "CXCR5loICOSint_U133A_2 [TFH_E-MEXP-750|CXCR5loICOSint_U133A_2]\n",
      "CXCR5loICOSint_U133A_3 [TFH_E-MEXP-750|CXCR5loICOSint_U133A_3]\n",
      "TCM1_U133A_1 [TFH_E-MEXP-750|TCM1_U133A_1]\n",
      "TCM1_U133A_2 [TFH_E-MEXP-750|TCM1_U133A_2]\n",
      "TCM1_U133A_3 [TFH_E-MEXP-750|TCM1_U133A_3]\n",
      "TCM_U133A_1 [TFH_E-MEXP-750|TCM_U133A_1]\n",
      "TCM_U133A_2 [TFH_E-MEXP-750|TCM_U133A_2]\n",
      "TCM_U133A_3 [TFH_E-MEXP-750|TCM_U133A_3]\n",
      "TEM_U133A_1 [TFH_E-MEXP-750|TEM_U133A_1]\n",
      "TEM_U133A_2 [TFH_E-MEXP-750|TEM_U133A_2]\n",
      "TEM_U133A_3 [TFH_E-MEXP-750|TEM_U133A_3]\n",
      "TH_1 [TREGs_GSE4527|GSM101518]\n",
      "TH_2 [TREGs_GSE4527|GSM101520]\n",
      "\n",
      "columns that have some 0s, 1s, and 2s\n",
      "\n",
      "columns that are all 0s and 1s\n",
      "\n",
      "columns that are all 1s and 2s\n",
      "A_LW_mastcellctrl_U133A [Chtanova_immune|A_LW_mastcellctrl_U133A]\n",
      "A_LW_mastcellIgE_U133A [Chtanova_immune|A_LW_mastcellIgE_U133A]\n",
      "A_LW_neutrophil_U133A [Chtanova_immune|A_LW_neutrophil_U133A]\n",
      "A_MF_2hrEosinophils_U133A [Chtanova_immune|A_MF_2hrEosinophils_U133A]\n",
      "A_MF_ControlEosinophil [Chtanova_immune|A_MF_ControlEosinophil]\n",
      "A_MF_ControlMASTCELL_U133A [Chtanova_immune|A_MF_ControlMASTCELL_U133A]\n",
      "A_MF_IgEMASTCELL_U133A [Chtanova_immune|A_MF_IgEMASTCELL_U133A]\n",
      "A_MF_neutrophils_U133A [Chtanova_immune|A_MF_neutrophils_U133A]\n",
      "A_TS_MSNeutroLPS_U133A [Chtanova_immune|A_TS_MSNeutroLPS_U133A]\n",
      "A_TS_RN_gdTcells_U133A [Chtanova_immune|A_TS_RN_gdTcells_U133A]\n",
      "A_TS_RN_gdTcellsREP_A [Chtanova_immune|A_TS_RN_gdTcellsREP_A]\n",
      "CD8Tcell-N0-1 [HG-U133A] [IRIS_GSE22886|GSM565269]\n",
      "CD8Tcell-N0-2 [HG-U133A] [IRIS_GSE22886|GSM565270]\n",
      "CD8Tcell-N0-3 [HG-U133A] [IRIS_GSE22886|GSM565271]\n",
      "CD8Tcell-N0-4 [HG-U133A] [IRIS_GSE22886|GSM565272]\n",
      "MemoryTcell-RO-unactivated-1 [HG-U133A] [IRIS_GSE22886|GSM565287]\n",
      "MemoryTcell-RO-unactivated-2 [HG-U133A] [IRIS_GSE22886|GSM565288]\n",
      "MemoryTcell-RO-unactivated-3 [HG-U133A] [IRIS_GSE22886|GSM565289]\n",
      "MemoryTcell-RO-activated-1 [HG-U133A] [IRIS_GSE22886|GSM565290]\n",
      "MemoryTcell-RO-activated-2 [HG-U133A] [IRIS_GSE22886|GSM565291]\n",
      "MemoryTcell-RO-activated-3 [HG-U133A] [IRIS_GSE22886|GSM565292]\n",
      "NKcell-control-1 [HG-U133A] [IRIS_GSE22886|GSM565293]\n",
      "NKcell-control-2 [HG-U133A] [IRIS_GSE22886|GSM565294]\n",
      "NKcell-control-3 [HG-U133A] [IRIS_GSE22886|GSM565295]\n",
      "NKcell-control-4 [HG-U133A] [IRIS_GSE22886|GSM565296]\n",
      "NKcell-IL2stimulated-1 [HG-U133A] [IRIS_GSE22886|GSM565297]\n",
      "NKcell-IL2stimulated-2 [HG-U133A] [IRIS_GSE22886|GSM565298]\n",
      "NKcell-IL2stimulated-3 [HG-U133A] [IRIS_GSE22886|GSM565299]\n",
      "NKcell-IL2stimulated-4 [HG-U133A] [IRIS_GSE22886|GSM565300]\n",
      "NKcell-IL2stimulated-5 [HG-U133A] [IRIS_GSE22886|GSM565301]\n",
      "NKcell-IL15stimulated-1 [HG-U133A] [IRIS_GSE22886|GSM565302]\n",
      "NKcell-IL15stimulated-2 [HG-U133A] [IRIS_GSE22886|GSM565303]\n",
      "NKcell-IL15stimulated-3 [HG-U133A] [IRIS_GSE22886|GSM565304]\n",
      "NKcell-IL15stimulated-4 [HG-U133A] [IRIS_GSE22886|GSM565305]\n",
      "NKcell-IL15stimulated-5 [HG-U133A] [IRIS_GSE22886|GSM565306]\n",
      "NKcell-IL15stimulated-6 [HG-U133A] [IRIS_GSE22886|GSM565307]\n",
      "Bcell-naive-1 [HG-U133A] [IRIS_GSE22886|GSM565308]\n",
      "Bcell-naive-2 [HG-U133A] [IRIS_GSE22886|GSM565309]\n",
      "Bcell-naive-3 [HG-U133A] [IRIS_GSE22886|GSM565310]\n",
      "Bcell-naive-4 [HG-U133A] [IRIS_GSE22886|GSM565311]\n",
      "Bcell-naive-5 [HG-U133A] [IRIS_GSE22886|GSM565312]\n",
      "Bcell-naive-6 [HG-U133A] [IRIS_GSE22886|GSM565313]\n",
      "Bcell-naive-7 [HG-U133A] [IRIS_GSE22886|GSM565314]\n",
      "Bcell-Memory_IgG_IgA-1 [HG-U133A] [IRIS_GSE22886|GSM565315]\n",
      "Bcell-Memory_IgG_IgA-2 [HG-U133A] [IRIS_GSE22886|GSM565316]\n",
      "Bcell-Memory_IgG_IgA-3 [HG-U133A] [IRIS_GSE22886|GSM565317]\n",
      "Bcell-Memory_IgG_IgA-4 [HG-U133A] [IRIS_GSE22886|GSM565318]\n",
      "Bcell-Memory_IgM-1 [HG-U133A] [IRIS_GSE22886|GSM565319]\n",
      "Bcell-Memory_IgM-2 [HG-U133A] [IRIS_GSE22886|GSM565320]\n",
      "Bcell-Memory_IgM-3 [HG-U133A] [IRIS_GSE22886|GSM565321]\n",
      "Bcell-Memory_IgM-4 [HG-U133A] [IRIS_GSE22886|GSM565322]\n",
      "PlasmaCell-FromPBMC-1 [HG-U133A] [IRIS_GSE22886|GSM565323]\n",
      "PlasmaCell-FromPBMC-2 [HG-U133A] [IRIS_GSE22886|GSM565324]\n",
      "PlasmaCell-FromPBMC-3 [HG-U133A] [IRIS_GSE22886|GSM565325]\n",
      "PlasmaCell-FromBoneMarrow-1 [HG-U133A] [IRIS_GSE22886|GSM565326]\n",
      "PlasmaCell-FromBoneMarrow-2 [HG-U133A] [IRIS_GSE22886|GSM565327]\n",
      "PlasmaCell-FromBoneMarrow-3 [HG-U133A] [IRIS_GSE22886|GSM565328]\n",
      "PlasmaCell-FromBoneMarrow-4 [HG-U133A] [IRIS_GSE22886|GSM565329]\n",
      "Monocyte-Day0-1 [HG-U133A] [IRIS_GSE22886|GSM565330]\n",
      "Monocyte-Day0-2 [HG-U133A] [IRIS_GSE22886|GSM565331]\n",
      "Monocyte-Day0-3 [HG-U133A] [IRIS_GSE22886|GSM565332]\n",
      "Monocyte-Day0-4 [HG-U133A] [IRIS_GSE22886|GSM565333]\n",
      "Monocyte-Day0-5 [HG-U133A] [IRIS_GSE22886|GSM565334]\n",
      "Monocyte-Day0-6 [HG-U133A] [IRIS_GSE22886|GSM565335]\n",
      "Monocyte-Day0-7 [HG-U133A] [IRIS_GSE22886|GSM565336]\n",
      "Monocyte-Day0-8 [HG-U133A] [IRIS_GSE22886|GSM565337]\n",
      "Monocyte-Day0-9 [HG-U133A] [IRIS_GSE22886|GSM565338]\n",
      "Monocyte-Day0-10 [HG-U133A] [IRIS_GSE22886|GSM565339]\n",
      "Monocyte-Day0-11 [HG-U133A] [IRIS_GSE22886|GSM565340]\n",
      "Monocyte-Day0-12 [HG-U133A] [IRIS_GSE22886|GSM565341]\n",
      "Monocyte-Day7-1 [HG-U133A] [IRIS_GSE22886|GSM565354]\n",
      "Monocyte-Day7-2 [HG-U133A] [IRIS_GSE22886|GSM565355]\n",
      "Monocyte-Day7-3 [HG-U133A] [IRIS_GSE22886|GSM565356]\n",
      "Monocyte-Day7-4 [HG-U133A] [IRIS_GSE22886|GSM565357]\n",
      "Monocyte-Day7-5 [HG-U133A] [IRIS_GSE22886|GSM565358]\n",
      "Monocyte-Day7-6 [HG-U133A] [IRIS_GSE22886|GSM565359]\n",
      "Monocyte-Day7-7 [HG-U133A] [IRIS_GSE22886|GSM565360]\n",
      "Monocyte-Day7-8 [HG-U133A] [IRIS_GSE22886|GSM565361]\n",
      "Monocyte-Day7-9 [HG-U133A] [IRIS_GSE22886|GSM565362]\n",
      "Monocyte-Day7-10 [HG-U133A] [IRIS_GSE22886|GSM565363]\n",
      "Monocyte-Day7-11 [HG-U133A] [IRIS_GSE22886|GSM565364]\n",
      "Monocyte-Day7-12 [HG-U133A] [IRIS_GSE22886|GSM565365]\n",
      "DendriticCell-Control-1 [HG-U133A] [IRIS_GSE22886|GSM565366]\n",
      "DendriticCell-Control-2 [HG-U133A] [IRIS_GSE22886|GSM565367]\n",
      "DendriticCell-Control-3 [HG-U133A] [IRIS_GSE22886|GSM565368]\n",
      "DendriticCell-Control-4 [HG-U133A] [IRIS_GSE22886|GSM565369]\n",
      "DendriticCell-Control-5 [HG-U133A] [IRIS_GSE22886|GSM565370]\n",
      "DendriticCell-Control-6 [HG-U133A] [IRIS_GSE22886|GSM565371]\n",
      "DendriticCell-LPSstimulated-1 [HG-U133A] [IRIS_GSE22886|GSM565372]\n",
      "DendriticCell-LPSstimulated-2 [HG-U133A] [IRIS_GSE22886|GSM565373]\n",
      "DendriticCell-LPSstimulated-3 [HG-U133A] [IRIS_GSE22886|GSM565374]\n",
      "DendriticCell-LPSstimulated-4 [HG-U133A] [IRIS_GSE22886|GSM565375]\n",
      "DendriticCell-LPSstimulated-5 [HG-U133A] [IRIS_GSE22886|GSM565376]\n",
      "DendriticCell-LPSstimulated-6 [HG-U133A] [IRIS_GSE22886|GSM565377]\n",
      "Neutrophil-Resting-1 [HG-U133A] [IRIS_GSE22886|GSM565378]\n",
      "Neutrophil-Resting-2 [HG-U133A] [IRIS_GSE22886|GSM565379]\n",
      "Neutrophil-Resting-3 [HG-U133A] [IRIS_GSE22886|GSM565380]\n",
      "Neutrophil-Resting-4 [HG-U133A] [IRIS_GSE22886|GSM565381]\n",
      "Neutrophil-Resting-5 [HG-U133A] [IRIS_GSE22886|GSM565382]\n",
      "classical or M1 activated macrophages, biological rep1 HG-U133A [M1_M2_GSE7138|GSM115055]\n",
      "classical or M1 activated macrophages, biological rep2 HG-U133A [M1_M2_GSE7138|GSM115056]\n",
      "classical or M1 activated macrophages, biological rep3 HG-U133A [M1_M2_GSE7138|GSM115057]\n",
      "Alternative or M2 activated macrophages, biological rep1 HG-U133A [M1_M2_GSE7138|GSM115058]\n",
      "Alternative or M2 activated macrophages, biological rep2 HG-U133A [M1_M2_GSE7138|GSM115059]\n",
      "Alternative or M2 activated macrophages, biological rep3 HG-U133A [M1_M2_GSE7138|GSM115060]\n",
      "CXCR5hiICOShi_U133A_1 [TFH_E-MEXP-750|CXCR5hiICOShi_U133A_1]\n",
      "CXCR5hiICOShi_U133A_2 [TFH_E-MEXP-750|CXCR5hiICOShi_U133A_2]\n",
      "CXCR5hiICOShi_U133A_3 [TFH_E-MEXP-750|CXCR5hiICOShi_U133A_3]\n",
      "TN_U133A_1 [TFH_E-MEXP-750|TN_U133A_1]\n",
      "TN_U133A_2 [TFH_E-MEXP-750|TN_U133A_2]\n",
      "TN_U133A_3 [TFH_E-MEXP-750|TN_U133A_3]\n",
      "Treg_1 [TREGs_GSE4527|GSM101519]\n",
      "Treg_2 [TREGs_GSE4527|GSM101521]\n"
     ]
    }
   ],
   "source": [
    "def test_f(col):\n",
    "    if all(col == 0):\n",
    "        print sample_names[col.name]\n",
    "print 'columns that are all 0'\n",
    "_ = lm22_orig_classes.apply(test_f)\n",
    "\n",
    "print\n",
    "\n",
    "def test_f2(col):\n",
    "    if len(col.unique()) == 3:\n",
    "        print sample_names[col.name]\n",
    "print 'columns that have some 0s, 1s, and 2s'\n",
    "_ = lm22_orig_classes.apply(test_f2)\n",
    "\n",
    "print\n",
    "\n",
    "def test_f3(col):\n",
    "    if len(col.unique()) == 2 and not any(col==2):\n",
    "        print sample_names[col.name]\n",
    "print 'columns that are all 0s and 1s'\n",
    "_ = lm22_orig_classes.apply(test_f3)\n",
    "\n",
    "print\n",
    "\n",
    "def test_f4(col):\n",
    "    if len(col.unique()) == 2 and not any(col==0):\n",
    "        print sample_names[col.name]\n",
    "print 'columns that are all 1s and 2s'\n",
    "_ = lm22_orig_classes.apply(test_f4)\n"
   ]
  },
  {
   "cell_type": "markdown",
   "metadata": {},
   "source": [
    "\n",
    "What do 0,1,2 mean? No columns have all three and no columns have only 0s and 1s. All columns either have all 1s and 2s or all 0s. Columns with all 0s are never compared against.\n",
    "\n",
    "So to form our own classes we want to keep columns that are all 0s as all 0s, put 1s for columns we care about, and 2s for everything else."
   ]
  },
  {
   "cell_type": "code",
   "execution_count": 51,
   "metadata": {
    "ExecuteTime": {
     "end_time": "2016-07-05T14:49:16.815975",
     "start_time": "2016-07-05T14:49:16.789249"
    },
    "collapsed": false,
    "run_control": {
     "frozen": false,
     "read_only": false
    }
   },
   "outputs": [
    {
     "data": {
      "text/plain": [
       "array([0, 2, 1])"
      ]
     },
     "execution_count": 51,
     "metadata": {},
     "output_type": "execute_result"
    }
   ],
   "source": [
    "def combine_rows(col):\n",
    "    # if we have at least 1 zero in this filtered list, then it's a column of all 0s \n",
    "    # keep it that way\n",
    "    if 0 in col.unique():\n",
    "        return 0\n",
    "    if 1 in col.unique():\n",
    "        return 1\n",
    "    return 2\n",
    "bcells.apply(combine_rows).unique()"
   ]
  },
  {
   "cell_type": "code",
   "execution_count": 57,
   "metadata": {
    "ExecuteTime": {
     "end_time": "2016-07-05T14:53:50.561970",
     "start_time": "2016-07-05T14:53:50.552534"
    },
    "collapsed": false,
    "run_control": {
     "frozen": false,
     "read_only": false
    }
   },
   "outputs": [
    {
     "name": "stdout",
     "output_type": "stream",
     "text": [
      "T cells CD8\n",
      "T cells CD4 naive\n",
      "T cells CD4 memory resting\n",
      "T cells CD4 memory activated\n",
      "T cells follicular helper\n",
      "T cells gamma delta\n",
      "T cells regulatory (Tregs)\n"
     ]
    }
   ],
   "source": [
    "for c in lm22_orig_classes.index:\n",
    "    if 'T cell' in c:\n",
    "        print c"
   ]
  },
  {
   "cell_type": "code",
   "execution_count": 58,
   "metadata": {
    "ExecuteTime": {
     "end_time": "2016-07-05T14:55:01.407732",
     "start_time": "2016-07-05T14:55:01.319239"
    },
    "collapsed": false,
    "run_control": {
     "frozen": false,
     "read_only": false
    }
   },
   "outputs": [
    {
     "data": {
      "text/html": [
       "<div>\n",
       "<table border=\"1\" class=\"dataframe\">\n",
       "  <thead>\n",
       "    <tr style=\"text-align: right;\">\n",
       "      <th></th>\n",
       "      <th>1</th>\n",
       "      <th>2</th>\n",
       "      <th>3</th>\n",
       "      <th>4</th>\n",
       "      <th>5</th>\n",
       "      <th>6</th>\n",
       "      <th>7</th>\n",
       "      <th>8</th>\n",
       "      <th>9</th>\n",
       "      <th>10</th>\n",
       "      <th>...</th>\n",
       "      <th>185</th>\n",
       "      <th>186</th>\n",
       "      <th>187</th>\n",
       "      <th>188</th>\n",
       "      <th>189</th>\n",
       "      <th>190</th>\n",
       "      <th>191</th>\n",
       "      <th>192</th>\n",
       "      <th>193</th>\n",
       "      <th>194</th>\n",
       "    </tr>\n",
       "    <tr>\n",
       "      <th>0</th>\n",
       "      <th></th>\n",
       "      <th></th>\n",
       "      <th></th>\n",
       "      <th></th>\n",
       "      <th></th>\n",
       "      <th></th>\n",
       "      <th></th>\n",
       "      <th></th>\n",
       "      <th></th>\n",
       "      <th></th>\n",
       "      <th></th>\n",
       "      <th></th>\n",
       "      <th></th>\n",
       "      <th></th>\n",
       "      <th></th>\n",
       "      <th></th>\n",
       "      <th></th>\n",
       "      <th></th>\n",
       "      <th></th>\n",
       "      <th></th>\n",
       "      <th></th>\n",
       "    </tr>\n",
       "  </thead>\n",
       "  <tbody>\n",
       "    <tr>\n",
       "      <th>T cells CD8</th>\n",
       "      <td>0</td>\n",
       "      <td>0</td>\n",
       "      <td>0</td>\n",
       "      <td>0</td>\n",
       "      <td>0</td>\n",
       "      <td>0</td>\n",
       "      <td>0</td>\n",
       "      <td>0</td>\n",
       "      <td>0</td>\n",
       "      <td>0</td>\n",
       "      <td>...</td>\n",
       "      <td>0</td>\n",
       "      <td>0</td>\n",
       "      <td>0</td>\n",
       "      <td>2</td>\n",
       "      <td>2</td>\n",
       "      <td>2</td>\n",
       "      <td>0</td>\n",
       "      <td>2</td>\n",
       "      <td>0</td>\n",
       "      <td>2</td>\n",
       "    </tr>\n",
       "    <tr>\n",
       "      <th>T cells CD4 naive</th>\n",
       "      <td>0</td>\n",
       "      <td>0</td>\n",
       "      <td>0</td>\n",
       "      <td>0</td>\n",
       "      <td>0</td>\n",
       "      <td>0</td>\n",
       "      <td>0</td>\n",
       "      <td>0</td>\n",
       "      <td>0</td>\n",
       "      <td>0</td>\n",
       "      <td>...</td>\n",
       "      <td>0</td>\n",
       "      <td>0</td>\n",
       "      <td>0</td>\n",
       "      <td>1</td>\n",
       "      <td>1</td>\n",
       "      <td>1</td>\n",
       "      <td>0</td>\n",
       "      <td>2</td>\n",
       "      <td>0</td>\n",
       "      <td>2</td>\n",
       "    </tr>\n",
       "    <tr>\n",
       "      <th>T cells CD4 memory resting</th>\n",
       "      <td>0</td>\n",
       "      <td>0</td>\n",
       "      <td>0</td>\n",
       "      <td>0</td>\n",
       "      <td>0</td>\n",
       "      <td>0</td>\n",
       "      <td>0</td>\n",
       "      <td>0</td>\n",
       "      <td>0</td>\n",
       "      <td>0</td>\n",
       "      <td>...</td>\n",
       "      <td>0</td>\n",
       "      <td>0</td>\n",
       "      <td>0</td>\n",
       "      <td>2</td>\n",
       "      <td>2</td>\n",
       "      <td>2</td>\n",
       "      <td>0</td>\n",
       "      <td>2</td>\n",
       "      <td>0</td>\n",
       "      <td>2</td>\n",
       "    </tr>\n",
       "    <tr>\n",
       "      <th>T cells CD4 memory activated</th>\n",
       "      <td>0</td>\n",
       "      <td>0</td>\n",
       "      <td>0</td>\n",
       "      <td>0</td>\n",
       "      <td>0</td>\n",
       "      <td>0</td>\n",
       "      <td>0</td>\n",
       "      <td>0</td>\n",
       "      <td>0</td>\n",
       "      <td>0</td>\n",
       "      <td>...</td>\n",
       "      <td>0</td>\n",
       "      <td>0</td>\n",
       "      <td>0</td>\n",
       "      <td>2</td>\n",
       "      <td>2</td>\n",
       "      <td>2</td>\n",
       "      <td>0</td>\n",
       "      <td>2</td>\n",
       "      <td>0</td>\n",
       "      <td>2</td>\n",
       "    </tr>\n",
       "    <tr>\n",
       "      <th>T cells follicular helper</th>\n",
       "      <td>0</td>\n",
       "      <td>0</td>\n",
       "      <td>0</td>\n",
       "      <td>0</td>\n",
       "      <td>0</td>\n",
       "      <td>0</td>\n",
       "      <td>0</td>\n",
       "      <td>0</td>\n",
       "      <td>0</td>\n",
       "      <td>0</td>\n",
       "      <td>...</td>\n",
       "      <td>0</td>\n",
       "      <td>0</td>\n",
       "      <td>0</td>\n",
       "      <td>2</td>\n",
       "      <td>2</td>\n",
       "      <td>2</td>\n",
       "      <td>0</td>\n",
       "      <td>2</td>\n",
       "      <td>0</td>\n",
       "      <td>2</td>\n",
       "    </tr>\n",
       "  </tbody>\n",
       "</table>\n",
       "<p>5 rows × 194 columns</p>\n",
       "</div>"
      ],
      "text/plain": [
       "                              1    2    3    4    5    6    7    8    9    \\\n",
       "0                                                                           \n",
       "T cells CD8                     0    0    0    0    0    0    0    0    0   \n",
       "T cells CD4 naive               0    0    0    0    0    0    0    0    0   \n",
       "T cells CD4 memory resting      0    0    0    0    0    0    0    0    0   \n",
       "T cells CD4 memory activated    0    0    0    0    0    0    0    0    0   \n",
       "T cells follicular helper       0    0    0    0    0    0    0    0    0   \n",
       "\n",
       "                              10  ...   185  186  187  188  189  190  191  \\\n",
       "0                                 ...                                       \n",
       "T cells CD8                     0 ...     0    0    0    2    2    2    0   \n",
       "T cells CD4 naive               0 ...     0    0    0    1    1    1    0   \n",
       "T cells CD4 memory resting      0 ...     0    0    0    2    2    2    0   \n",
       "T cells CD4 memory activated    0 ...     0    0    0    2    2    2    0   \n",
       "T cells follicular helper       0 ...     0    0    0    2    2    2    0   \n",
       "\n",
       "                              192  193  194  \n",
       "0                                            \n",
       "T cells CD8                     2    0    2  \n",
       "T cells CD4 naive               2    0    2  \n",
       "T cells CD4 memory resting      2    0    2  \n",
       "T cells CD4 memory activated    2    0    2  \n",
       "T cells follicular helper       2    0    2  \n",
       "\n",
       "[5 rows x 194 columns]"
      ]
     },
     "execution_count": 58,
     "metadata": {},
     "output_type": "execute_result"
    }
   ],
   "source": [
    "tcells = lm22_orig_classes.loc[[\n",
    "        'T cells CD8',\n",
    "        'T cells CD4 naive',\n",
    "        'T cells CD4 memory resting',\n",
    "        'T cells CD4 memory activated',\n",
    "        'T cells follicular helper',\n",
    "        #'T cells gamma delta', # exclude because these are weird\n",
    "        'T cells regulatory (Tregs)'\n",
    "                               ], :]\n",
    "tcells.head()"
   ]
  },
  {
   "cell_type": "code",
   "execution_count": 60,
   "metadata": {
    "ExecuteTime": {
     "end_time": "2016-07-05T14:55:48.094268",
     "start_time": "2016-07-05T14:55:48.079684"
    },
    "collapsed": false,
    "run_control": {
     "frozen": false,
     "read_only": false
    }
   },
   "outputs": [
    {
     "name": "stdout",
     "output_type": "stream",
     "text": [
      "Index([u'B cells naive', u'B cells memory', u'Plasma cells', u'T cells CD8',\n",
      "       u'T cells CD4 naive', u'T cells CD4 memory resting',\n",
      "       u'T cells CD4 memory activated', u'T cells follicular helper',\n",
      "       u'T cells gamma delta', u'T cells regulatory (Tregs)',\n",
      "       u'NK cells resting', u'NK cells activated', u'Monocytes',\n",
      "       u'Macrophages M0', u'Macrophages M1', u'Macrophages M2',\n",
      "       u'Dendritic cells resting', u'Dendritic cells activated',\n",
      "       u'Mast cells resting', u'Mast cells activated', u'Eosinophils',\n",
      "       u'Neutrophils'],\n",
      "      dtype='object', name=0)\n"
     ]
    }
   ],
   "source": [
    "print lm22_orig_classes.index"
   ]
  },
  {
   "cell_type": "code",
   "execution_count": 61,
   "metadata": {
    "ExecuteTime": {
     "end_time": "2016-07-05T14:56:59.302883",
     "start_time": "2016-07-05T14:56:59.207142"
    },
    "collapsed": false,
    "run_control": {
     "frozen": false,
     "read_only": false
    }
   },
   "outputs": [
    {
     "data": {
      "text/html": [
       "<div>\n",
       "<table border=\"1\" class=\"dataframe\">\n",
       "  <thead>\n",
       "    <tr style=\"text-align: right;\">\n",
       "      <th></th>\n",
       "      <th>1</th>\n",
       "      <th>2</th>\n",
       "      <th>3</th>\n",
       "      <th>4</th>\n",
       "      <th>5</th>\n",
       "      <th>6</th>\n",
       "      <th>7</th>\n",
       "      <th>8</th>\n",
       "      <th>9</th>\n",
       "      <th>10</th>\n",
       "      <th>...</th>\n",
       "      <th>185</th>\n",
       "      <th>186</th>\n",
       "      <th>187</th>\n",
       "      <th>188</th>\n",
       "      <th>189</th>\n",
       "      <th>190</th>\n",
       "      <th>191</th>\n",
       "      <th>192</th>\n",
       "      <th>193</th>\n",
       "      <th>194</th>\n",
       "    </tr>\n",
       "    <tr>\n",
       "      <th>0</th>\n",
       "      <th></th>\n",
       "      <th></th>\n",
       "      <th></th>\n",
       "      <th></th>\n",
       "      <th></th>\n",
       "      <th></th>\n",
       "      <th></th>\n",
       "      <th></th>\n",
       "      <th></th>\n",
       "      <th></th>\n",
       "      <th></th>\n",
       "      <th></th>\n",
       "      <th></th>\n",
       "      <th></th>\n",
       "      <th></th>\n",
       "      <th></th>\n",
       "      <th></th>\n",
       "      <th></th>\n",
       "      <th></th>\n",
       "      <th></th>\n",
       "      <th></th>\n",
       "    </tr>\n",
       "  </thead>\n",
       "  <tbody>\n",
       "    <tr>\n",
       "      <th>Monocytes</th>\n",
       "      <td>0</td>\n",
       "      <td>0</td>\n",
       "      <td>0</td>\n",
       "      <td>0</td>\n",
       "      <td>0</td>\n",
       "      <td>0</td>\n",
       "      <td>0</td>\n",
       "      <td>0</td>\n",
       "      <td>0</td>\n",
       "      <td>0</td>\n",
       "      <td>...</td>\n",
       "      <td>0</td>\n",
       "      <td>0</td>\n",
       "      <td>0</td>\n",
       "      <td>2</td>\n",
       "      <td>2</td>\n",
       "      <td>2</td>\n",
       "      <td>0</td>\n",
       "      <td>2</td>\n",
       "      <td>0</td>\n",
       "      <td>2</td>\n",
       "    </tr>\n",
       "    <tr>\n",
       "      <th>Macrophages M0</th>\n",
       "      <td>0</td>\n",
       "      <td>0</td>\n",
       "      <td>0</td>\n",
       "      <td>0</td>\n",
       "      <td>0</td>\n",
       "      <td>0</td>\n",
       "      <td>0</td>\n",
       "      <td>0</td>\n",
       "      <td>0</td>\n",
       "      <td>0</td>\n",
       "      <td>...</td>\n",
       "      <td>0</td>\n",
       "      <td>0</td>\n",
       "      <td>0</td>\n",
       "      <td>2</td>\n",
       "      <td>2</td>\n",
       "      <td>2</td>\n",
       "      <td>0</td>\n",
       "      <td>2</td>\n",
       "      <td>0</td>\n",
       "      <td>2</td>\n",
       "    </tr>\n",
       "    <tr>\n",
       "      <th>Eosinophils</th>\n",
       "      <td>0</td>\n",
       "      <td>0</td>\n",
       "      <td>0</td>\n",
       "      <td>0</td>\n",
       "      <td>0</td>\n",
       "      <td>0</td>\n",
       "      <td>0</td>\n",
       "      <td>0</td>\n",
       "      <td>0</td>\n",
       "      <td>0</td>\n",
       "      <td>...</td>\n",
       "      <td>0</td>\n",
       "      <td>0</td>\n",
       "      <td>0</td>\n",
       "      <td>2</td>\n",
       "      <td>2</td>\n",
       "      <td>2</td>\n",
       "      <td>0</td>\n",
       "      <td>2</td>\n",
       "      <td>0</td>\n",
       "      <td>2</td>\n",
       "    </tr>\n",
       "    <tr>\n",
       "      <th>Neutrophils</th>\n",
       "      <td>0</td>\n",
       "      <td>0</td>\n",
       "      <td>0</td>\n",
       "      <td>0</td>\n",
       "      <td>0</td>\n",
       "      <td>0</td>\n",
       "      <td>0</td>\n",
       "      <td>0</td>\n",
       "      <td>0</td>\n",
       "      <td>0</td>\n",
       "      <td>...</td>\n",
       "      <td>0</td>\n",
       "      <td>0</td>\n",
       "      <td>0</td>\n",
       "      <td>2</td>\n",
       "      <td>2</td>\n",
       "      <td>2</td>\n",
       "      <td>0</td>\n",
       "      <td>2</td>\n",
       "      <td>0</td>\n",
       "      <td>2</td>\n",
       "    </tr>\n",
       "  </tbody>\n",
       "</table>\n",
       "<p>4 rows × 194 columns</p>\n",
       "</div>"
      ],
      "text/plain": [
       "                1    2    3    4    5    6    7    8    9    10  ...   185  \\\n",
       "0                                                                ...         \n",
       "Monocytes         0    0    0    0    0    0    0    0    0    0 ...     0   \n",
       "Macrophages M0    0    0    0    0    0    0    0    0    0    0 ...     0   \n",
       "Eosinophils       0    0    0    0    0    0    0    0    0    0 ...     0   \n",
       "Neutrophils       0    0    0    0    0    0    0    0    0    0 ...     0   \n",
       "\n",
       "                186  187  188  189  190  191  192  193  194  \n",
       "0                                                            \n",
       "Monocytes         0    0    2    2    2    0    2    0    2  \n",
       "Macrophages M0    0    0    2    2    2    0    2    0    2  \n",
       "Eosinophils       0    0    2    2    2    0    2    0    2  \n",
       "Neutrophils       0    0    2    2    2    0    2    0    2  \n",
       "\n",
       "[4 rows x 194 columns]"
      ]
     },
     "execution_count": 61,
     "metadata": {},
     "output_type": "execute_result"
    }
   ],
   "source": [
    "myeloblasts = lm22_orig_classes.loc[['Monocytes',\n",
    "                                     'Macrophages M0',\n",
    "                                     'Eosinophils',\n",
    "                                     'Neutrophils'\n",
    "                                    ], :]\n",
    "myeloblasts.head()"
   ]
  },
  {
   "cell_type": "code",
   "execution_count": 64,
   "metadata": {
    "ExecuteTime": {
     "end_time": "2016-07-05T14:58:21.851762",
     "start_time": "2016-07-05T14:58:21.767859"
    },
    "collapsed": false,
    "run_control": {
     "frozen": false,
     "read_only": false
    }
   },
   "outputs": [
    {
     "data": {
      "text/html": [
       "<div>\n",
       "<table border=\"1\" class=\"dataframe\">\n",
       "  <thead>\n",
       "    <tr style=\"text-align: right;\">\n",
       "      <th></th>\n",
       "      <th>1</th>\n",
       "      <th>2</th>\n",
       "      <th>3</th>\n",
       "      <th>4</th>\n",
       "      <th>5</th>\n",
       "      <th>6</th>\n",
       "      <th>7</th>\n",
       "      <th>8</th>\n",
       "      <th>9</th>\n",
       "      <th>10</th>\n",
       "      <th>...</th>\n",
       "      <th>185</th>\n",
       "      <th>186</th>\n",
       "      <th>187</th>\n",
       "      <th>188</th>\n",
       "      <th>189</th>\n",
       "      <th>190</th>\n",
       "      <th>191</th>\n",
       "      <th>192</th>\n",
       "      <th>193</th>\n",
       "      <th>194</th>\n",
       "    </tr>\n",
       "  </thead>\n",
       "  <tbody>\n",
       "    <tr>\n",
       "      <th>B cells</th>\n",
       "      <td>0</td>\n",
       "      <td>0</td>\n",
       "      <td>0</td>\n",
       "      <td>0</td>\n",
       "      <td>0</td>\n",
       "      <td>0</td>\n",
       "      <td>0</td>\n",
       "      <td>0</td>\n",
       "      <td>0</td>\n",
       "      <td>0</td>\n",
       "      <td>...</td>\n",
       "      <td>0</td>\n",
       "      <td>0</td>\n",
       "      <td>0</td>\n",
       "      <td>2</td>\n",
       "      <td>2</td>\n",
       "      <td>2</td>\n",
       "      <td>0</td>\n",
       "      <td>2</td>\n",
       "      <td>0</td>\n",
       "      <td>2</td>\n",
       "    </tr>\n",
       "    <tr>\n",
       "      <th>Myeloblasts</th>\n",
       "      <td>0</td>\n",
       "      <td>0</td>\n",
       "      <td>0</td>\n",
       "      <td>0</td>\n",
       "      <td>0</td>\n",
       "      <td>0</td>\n",
       "      <td>0</td>\n",
       "      <td>0</td>\n",
       "      <td>0</td>\n",
       "      <td>0</td>\n",
       "      <td>...</td>\n",
       "      <td>0</td>\n",
       "      <td>0</td>\n",
       "      <td>0</td>\n",
       "      <td>2</td>\n",
       "      <td>2</td>\n",
       "      <td>2</td>\n",
       "      <td>0</td>\n",
       "      <td>2</td>\n",
       "      <td>0</td>\n",
       "      <td>2</td>\n",
       "    </tr>\n",
       "    <tr>\n",
       "      <th>T cells</th>\n",
       "      <td>0</td>\n",
       "      <td>0</td>\n",
       "      <td>0</td>\n",
       "      <td>0</td>\n",
       "      <td>0</td>\n",
       "      <td>0</td>\n",
       "      <td>0</td>\n",
       "      <td>0</td>\n",
       "      <td>0</td>\n",
       "      <td>0</td>\n",
       "      <td>...</td>\n",
       "      <td>0</td>\n",
       "      <td>0</td>\n",
       "      <td>0</td>\n",
       "      <td>1</td>\n",
       "      <td>1</td>\n",
       "      <td>1</td>\n",
       "      <td>0</td>\n",
       "      <td>1</td>\n",
       "      <td>0</td>\n",
       "      <td>1</td>\n",
       "    </tr>\n",
       "  </tbody>\n",
       "</table>\n",
       "<p>3 rows × 194 columns</p>\n",
       "</div>"
      ],
      "text/plain": [
       "             1    2    3    4    5    6    7    8    9    10  ...   185  186  \\\n",
       "B cells        0    0    0    0    0    0    0    0    0    0 ...     0    0   \n",
       "Myeloblasts    0    0    0    0    0    0    0    0    0    0 ...     0    0   \n",
       "T cells        0    0    0    0    0    0    0    0    0    0 ...     0    0   \n",
       "\n",
       "             187  188  189  190  191  192  193  194  \n",
       "B cells        0    2    2    2    0    2    0    2  \n",
       "Myeloblasts    0    2    2    2    0    2    0    2  \n",
       "T cells        0    1    1    1    0    1    0    1  \n",
       "\n",
       "[3 rows x 194 columns]"
      ]
     },
     "execution_count": 64,
     "metadata": {},
     "output_type": "execute_result"
    }
   ],
   "source": [
    "new_classes = pd.DataFrame({'B cells': bcells.apply(combine_rows),\n",
    "             'T cells': tcells.apply(combine_rows),\n",
    "             'Myeloblasts': myeloblasts.apply(combine_rows)}).T\n",
    "new_classes"
   ]
  },
  {
   "cell_type": "code",
   "execution_count": 65,
   "metadata": {
    "ExecuteTime": {
     "end_time": "2016-07-05T14:58:59.110546",
     "start_time": "2016-07-05T14:58:59.100262"
    },
    "collapsed": true,
    "run_control": {
     "frozen": false,
     "read_only": false
    }
   },
   "outputs": [],
   "source": [
    "new_classes.to_csv('test_mixtures/newclasses.txt', sep='\\t', header=None)"
   ]
  },
  {
   "cell_type": "markdown",
   "metadata": {
    "collapsed": true,
    "run_control": {
     "frozen": false,
     "read_only": false
    }
   },
   "source": [
    "\n",
    "## run through cibersort\n",
    "\n",
    "we keep the option to do post-processing of genes enabled\n",
    "\n",
    "first, make the signature matrix (specify any mixture). then, run through the following mixtures:\n",
    "\n",
    "* B cell naive, Treg\n",
    "\t* test_mixtures/reference_profile_mixtures.txt\n",
    "\t* test_mixtures/raw_line_mixtures.txt\n",
    "* B cell naive, B cell memory\n",
    "\t* test_mixtures/hard_reference_profile_mixtures.txt\n",
    "\t* test_mixtures/hard_rawline_mixtures.txt"
   ]
  },
  {
   "cell_type": "code",
   "execution_count": 191,
   "metadata": {
    "ExecuteTime": {
     "end_time": "2016-07-06T14:09:43.577021",
     "start_time": "2016-07-06T14:09:35.027821"
    },
    "collapsed": false,
    "run_control": {
     "frozen": false,
     "read_only": false
    }
   },
   "outputs": [
    {
     "name": "stdout",
     "output_type": "stream",
     "text": [
      ">===================Settings====================\n",
      ">Mixture file: test_mixtures/reference_profile_mixtures.txt\n",
      ">Pure samples file: curated_data/pure_samples/cibersort/LM22-ref-sample.txt\n",
      ">Phenotype classes file: test_mixtures/newclasses.txt\n",
      ">Number of permutations set to: 100\n",
      ">Enable verbose output\n",
      ">Q-value for signature matrix construction set to: 0.3\n",
      ">Maximum kappa set to: 999.0\n",
      ">Minimum number of DEGs to consider from each phenotype for signature matrix set to: 50\n",
      ">Maximum number of DEGs to consider from each phenotype for signature matrix set to: 150\n",
      ">Enable signature matrix filtration (non-hematopoietic genes will be removed)\n",
      ">===============================================\n",
      ">R version 3.2.3 (2015-12-10)\n",
      ">Loaded 194 columns and 11845 rows\n",
      "^C\n"
     ]
    }
   ],
   "source": [
    "!java -Xmx3g -Xms3g -jar ~/CIBERSORT_package/CIBERSORT.jar -M test_mixtures/reference_profile_mixtures.txt -P curated_data/pure_samples/cibersort/LM22-ref-sample.txt -c test_mixtures/newclasses.txt -n 100 -v -q 0.3 -k 999 -m 50 -x 150 -f True"
   ]
  },
  {
   "cell_type": "code",
   "execution_count": 7,
   "metadata": {
    "ExecuteTime": {
     "end_time": "2016-07-05T15:37:43.906184",
     "start_time": "2016-07-05T15:37:43.784131"
    },
    "collapsed": false,
    "run_control": {
     "frozen": false,
     "read_only": false
    }
   },
   "outputs": [],
   "source": [
    "!mv \"curated_data/pure_samples/cibersort/newclasses.LM22-ref-sample.bm.K999.0.txt\" test_mixtures/"
   ]
  },
  {
   "cell_type": "code",
   "execution_count": 8,
   "metadata": {
    "ExecuteTime": {
     "end_time": "2016-07-05T15:37:54.098149",
     "start_time": "2016-07-05T15:37:53.977405"
    },
    "collapsed": true,
    "run_control": {
     "frozen": false,
     "read_only": false
    }
   },
   "outputs": [],
   "source": [
    "!mv \"curated_data/pure_samples/cibersort/newclasses.LM22-ref-sample.bm.heatmap.K999.0.pdf\" test_mixtures/"
   ]
  },
  {
   "cell_type": "code",
   "execution_count": 10,
   "metadata": {
    "ExecuteTime": {
     "end_time": "2016-07-05T15:39:17.541023",
     "start_time": "2016-07-05T15:39:17.415801"
    },
    "collapsed": true,
    "run_control": {
     "frozen": false,
     "read_only": false
    }
   },
   "outputs": [],
   "source": [
    "!mkdir -p test_mixtures/out"
   ]
  },
  {
   "cell_type": "code",
   "execution_count": 192,
   "metadata": {
    "ExecuteTime": {
     "end_time": "2016-07-06T14:09:57.374662",
     "start_time": "2016-07-06T14:09:53.147077"
    },
    "collapsed": false,
    "run_control": {
     "frozen": false,
     "read_only": false
    }
   },
   "outputs": [],
   "source": [
    "!java -Xmx3g -Xms3g -jar ~/CIBERSORT_package/CIBERSORT.jar -M test_mixtures/reference_profile_mixtures.txt -B test_mixtures/newclasses.LM22-ref-sample.bm.K999.0.txt > test_mixtures/out/NC1"
   ]
  },
  {
   "cell_type": "code",
   "execution_count": 193,
   "metadata": {
    "ExecuteTime": {
     "end_time": "2016-07-06T14:10:02.302213",
     "start_time": "2016-07-06T14:09:57.377067"
    },
    "collapsed": true,
    "run_control": {
     "frozen": false,
     "read_only": false
    }
   },
   "outputs": [],
   "source": [
    "!java -Xmx3g -Xms3g -jar ~/CIBERSORT_package/CIBERSORT.jar -M test_mixtures/raw_line_mixtures.txt -B test_mixtures/newclasses.LM22-ref-sample.bm.K999.0.txt > test_mixtures/out/NC2"
   ]
  },
  {
   "cell_type": "code",
   "execution_count": 194,
   "metadata": {
    "ExecuteTime": {
     "end_time": "2016-07-06T14:10:06.418967",
     "start_time": "2016-07-06T14:10:02.308509"
    },
    "collapsed": true,
    "run_control": {
     "frozen": false,
     "read_only": false
    }
   },
   "outputs": [],
   "source": [
    "!java -Xmx3g -Xms3g -jar ~/CIBERSORT_package/CIBERSORT.jar -M test_mixtures/hard_reference_profile_mixtures.txt -B test_mixtures/newclasses.LM22-ref-sample.bm.K999.0.txt > test_mixtures/out/NC3"
   ]
  },
  {
   "cell_type": "code",
   "execution_count": 195,
   "metadata": {
    "ExecuteTime": {
     "end_time": "2016-07-06T14:10:11.011755",
     "start_time": "2016-07-06T14:10:06.424047"
    },
    "collapsed": true,
    "run_control": {
     "frozen": false,
     "read_only": false
    }
   },
   "outputs": [],
   "source": [
    "!java -Xmx3g -Xms3g -jar ~/CIBERSORT_package/CIBERSORT.jar -M test_mixtures/hard_rawline_mixtures.txt -B test_mixtures/newclasses.LM22-ref-sample.bm.K999.0.txt > test_mixtures/out/NC4"
   ]
  },
  {
   "cell_type": "code",
   "execution_count": 196,
   "metadata": {
    "ExecuteTime": {
     "end_time": "2016-07-06T14:11:34.309132",
     "start_time": "2016-07-06T14:11:34.183661"
    },
    "collapsed": false,
    "run_control": {
     "frozen": false,
     "read_only": false
    }
   },
   "outputs": [
    {
     "name": "stdout",
     "output_type": "stream",
     "text": [
      ">===================Settings====================\r\n",
      ">Mixture file: test_mixtures/hard_rawline_mixtures.txt\r\n",
      ">Signature matrix file: test_mixtures/newclasses.LM22-ref-sample.bm.K999.0.txt\r\n",
      ">===============================================\r\n",
      ">R version 3.2.3 (2015-12-10)\r\n",
      ">==================CIBERSORT====================\r\n",
      "Column\tB cells\tMyeloblasts\tT cells\tP-value\tPearson Correlation\tRMSE\t\r\n",
      "0\t0.9654110306870105\t0.020131155134812014\t0.014457814178177491\t0.0\t0.9624429898696041\t0.3925547691360565\r\n",
      "1\t0.9656096410966829\t0.020135681992628388\t0.014254676910688675\t0.0\t0.9624487592440291\t0.3927097171474575\r\n",
      "2\t0.9744789639479781\t0.02552103605202189\t0\t0.0\t0.9617012824677748\t0.40233635268131984\r\n"
     ]
    }
   ],
   "source": [
    "!cat test_mixtures/out/NC4"
   ]
  },
  {
   "cell_type": "code",
   "execution_count": 197,
   "metadata": {
    "ExecuteTime": {
     "end_time": "2016-07-06T14:11:36.850967",
     "start_time": "2016-07-06T14:11:36.814725"
    },
    "collapsed": false,
    "run_control": {
     "frozen": false,
     "read_only": false
    }
   },
   "outputs": [],
   "source": [
    "results = []\n",
    "results_dats=[]\n",
    "for i in range(1,5):\n",
    "    dftmp = pd.read_csv('test_mixtures/out/NC%d' % i, skiprows=range(6), sep='\\t')\n",
    "    del dftmp['Unnamed: 7']\n",
    "    results.append(dftmp)\n",
    "    results_dats.append(dftmp[dftmp.columns[1:-3]])"
   ]
  },
  {
   "cell_type": "code",
   "execution_count": 198,
   "metadata": {
    "ExecuteTime": {
     "end_time": "2016-07-06T14:11:37.492232",
     "start_time": "2016-07-06T14:11:37.487942"
    },
    "collapsed": false,
    "run_control": {
     "frozen": false,
     "read_only": false
    }
   },
   "outputs": [],
   "source": [
    "assert len(results) == len(results_dats) == 4"
   ]
  },
  {
   "cell_type": "markdown",
   "metadata": {},
   "source": [
    "\n",
    "## analyze as above\n",
    "\n",
    "NC1,NC2 have weights .2,.6 for B cell naive, Treg. NC3, NC4 have weights .5, .5 for B cell naive, memory."
   ]
  },
  {
   "cell_type": "code",
   "execution_count": 199,
   "metadata": {
    "ExecuteTime": {
     "end_time": "2016-07-06T14:11:44.118514",
     "start_time": "2016-07-06T14:11:44.087837"
    },
    "collapsed": false,
    "run_control": {
     "frozen": false,
     "read_only": false
    }
   },
   "outputs": [
    {
     "data": {
      "text/html": [
       "<div>\n",
       "<table border=\"1\" class=\"dataframe\">\n",
       "  <thead>\n",
       "    <tr style=\"text-align: right;\">\n",
       "      <th></th>\n",
       "      <th>B cells</th>\n",
       "      <th>Myeloblasts</th>\n",
       "      <th>T cells</th>\n",
       "    </tr>\n",
       "  </thead>\n",
       "  <tbody>\n",
       "    <tr>\n",
       "      <th>0</th>\n",
       "      <td>0.25</td>\n",
       "      <td>0.0</td>\n",
       "      <td>0.75</td>\n",
       "    </tr>\n",
       "    <tr>\n",
       "      <th>1</th>\n",
       "      <td>0.25</td>\n",
       "      <td>0.0</td>\n",
       "      <td>0.75</td>\n",
       "    </tr>\n",
       "    <tr>\n",
       "      <th>2</th>\n",
       "      <td>0.25</td>\n",
       "      <td>0.0</td>\n",
       "      <td>0.75</td>\n",
       "    </tr>\n",
       "  </tbody>\n",
       "</table>\n",
       "</div>"
      ],
      "text/plain": [
       "   B cells  Myeloblasts  T cells\n",
       "0     0.25          0.0     0.75\n",
       "1     0.25          0.0     0.75\n",
       "2     0.25          0.0     0.75"
      ]
     },
     "execution_count": 199,
     "metadata": {},
     "output_type": "execute_result"
    }
   ],
   "source": [
    "ref_1 = pd.DataFrame(np.zeros(results_dats[0].shape), columns=results_dats[0].columns)\n",
    "ref_1.loc[:, ['B cells', 'T cells']] = [.25, .75]\n",
    "ref_1.head()"
   ]
  },
  {
   "cell_type": "code",
   "execution_count": 200,
   "metadata": {
    "ExecuteTime": {
     "end_time": "2016-07-06T14:11:48.357643",
     "start_time": "2016-07-06T14:11:48.334736"
    },
    "collapsed": false,
    "run_control": {
     "frozen": false,
     "read_only": false
    }
   },
   "outputs": [
    {
     "data": {
      "text/html": [
       "<div>\n",
       "<table border=\"1\" class=\"dataframe\">\n",
       "  <thead>\n",
       "    <tr style=\"text-align: right;\">\n",
       "      <th></th>\n",
       "      <th>B cells</th>\n",
       "      <th>Myeloblasts</th>\n",
       "      <th>T cells</th>\n",
       "    </tr>\n",
       "  </thead>\n",
       "  <tbody>\n",
       "    <tr>\n",
       "      <th>0</th>\n",
       "      <td>1.0</td>\n",
       "      <td>0.0</td>\n",
       "      <td>0.0</td>\n",
       "    </tr>\n",
       "    <tr>\n",
       "      <th>1</th>\n",
       "      <td>1.0</td>\n",
       "      <td>0.0</td>\n",
       "      <td>0.0</td>\n",
       "    </tr>\n",
       "    <tr>\n",
       "      <th>2</th>\n",
       "      <td>1.0</td>\n",
       "      <td>0.0</td>\n",
       "      <td>0.0</td>\n",
       "    </tr>\n",
       "  </tbody>\n",
       "</table>\n",
       "</div>"
      ],
      "text/plain": [
       "   B cells  Myeloblasts  T cells\n",
       "0      1.0          0.0      0.0\n",
       "1      1.0          0.0      0.0\n",
       "2      1.0          0.0      0.0"
      ]
     },
     "execution_count": 200,
     "metadata": {},
     "output_type": "execute_result"
    }
   ],
   "source": [
    "ref_2 = pd.DataFrame(np.zeros(results_dats[2].shape), columns=results_dats[2].columns)\n",
    "ref_2.loc[:, ['B cells']] = 1.0\n",
    "ref_2.head()"
   ]
  },
  {
   "cell_type": "code",
   "execution_count": 201,
   "metadata": {
    "ExecuteTime": {
     "end_time": "2016-07-06T14:11:51.288571",
     "start_time": "2016-07-06T14:11:51.280121"
    },
    "collapsed": true,
    "run_control": {
     "frozen": false,
     "read_only": false
    }
   },
   "outputs": [],
   "source": [
    "experiment_names = [\n",
    "    'B vs T: reference profiles',\n",
    "    'B vs T: raw lines',\n",
    "    'B vs B: reference profiles',\n",
    "    'B vs B: raw lines'\n",
    "]"
   ]
  },
  {
   "cell_type": "code",
   "execution_count": 202,
   "metadata": {
    "ExecuteTime": {
     "end_time": "2016-07-06T14:11:52.194973",
     "start_time": "2016-07-06T14:11:52.191752"
    },
    "collapsed": true,
    "run_control": {
     "frozen": false,
     "read_only": false
    }
   },
   "outputs": [],
   "source": [
    "reference_dats = [ref_1, ref_1, ref_2, ref_2]"
   ]
  },
  {
   "cell_type": "code",
   "execution_count": 203,
   "metadata": {
    "ExecuteTime": {
     "end_time": "2016-07-06T14:11:54.190302",
     "start_time": "2016-07-06T14:11:54.102563"
    },
    "collapsed": false,
    "run_control": {
     "frozen": false,
     "read_only": false
    },
    "scrolled": true
   },
   "outputs": [
    {
     "name": "stdout",
     "output_type": "stream",
     "text": [
      "B vs T: reference profiles\n",
      "p values: 0    0.0\n",
      "1    0.0\n",
      "2    0.0\n",
      "Name: P-value, dtype: float64\n",
      "RMSE \t R^2 \t per mixture\n",
      "0.0071 \t 0.9995\n",
      "0.0071 \t 0.9995\n",
      "0.0237 \t 0.9942\n",
      "absolute difference from ground truth\n",
      "    B cells  Myeloblasts   T cells\n",
      "0 -0.008683          0.0  0.008683\n",
      "1 -0.008703          0.0  0.008703\n",
      "2  0.029078          0.0 -0.029078\n",
      "\n",
      "B vs T: raw lines\n",
      "p values: 0    0.0\n",
      "1    0.0\n",
      "2    0.0\n",
      "Name: P-value, dtype: float64\n",
      "RMSE \t R^2 \t per mixture\n",
      "0.0380 \t 0.9851\n",
      "0.0379 \t 0.9853\n",
      "0.0164 \t 0.9972\n",
      "absolute difference from ground truth\n",
      "    B cells  Myeloblasts   T cells\n",
      "0 -0.046572          0.0  0.046572\n",
      "1 -0.046369          0.0  0.046369\n",
      "2 -0.020146          0.0  0.020146\n",
      "\n",
      "B vs B: reference profiles\n",
      "p values: 0    0.0\n",
      "1    0.0\n",
      "2    0.0\n",
      "Name: P-value, dtype: float64\n",
      "RMSE \t R^2 \t per mixture\n",
      "0.0044 \t 0.9999\n",
      "0.0043 \t 0.9999\n",
      "0.0078 \t 0.9997\n",
      "absolute difference from ground truth\n",
      "    B cells  Myeloblasts   T cells\n",
      "0 -0.005344          0.0  0.005344\n",
      "1 -0.005314          0.0  0.005314\n",
      "2 -0.009587          0.0  0.009587\n",
      "\n",
      "B vs B: raw lines\n",
      "p values: 0    0.0\n",
      "1    0.0\n",
      "2    0.0\n",
      "Name: P-value, dtype: float64\n",
      "RMSE \t R^2 \t per mixture\n",
      "0.0246 \t 0.9973\n",
      "0.0244 \t 0.9973\n",
      "0.0208 \t 0.9980\n",
      "absolute difference from ground truth\n",
      "    B cells  Myeloblasts   T cells\n",
      "0 -0.034589     0.020131  0.014458\n",
      "1 -0.034390     0.020136  0.014255\n",
      "2 -0.025521     0.025521  0.000000\n",
      "\n"
     ]
    }
   ],
   "source": [
    "for experiment_name, result, resultdat, groundtruth in zip(\\\n",
    "        experiment_names, results, results_dats, reference_dats):\n",
    "    print experiment_name\n",
    "    \n",
    "    #print 'absolute difference from ground truth, summarized by column:'\n",
    "    #print (resultdat - groundtruth).describe()\n",
    "\n",
    "#     correct_cols = groundtruth.apply(lambda col: not all(col==0))\n",
    "#     correct_cols = correct_cols[correct_cols==True].index.tolist()\n",
    "    \n",
    "#     fig, axarr = plt.subplots(3, 3, figsize=(20,20))\n",
    "\n",
    "#     for (_, row), ax in zip((resultdat - groundtruth).iterrows(), axarr[0,:]):\n",
    "#         row.hist(ax=ax)\n",
    "#         ax.set_title('mixture %d absolute differences' % row.name)\n",
    "\n",
    "\n",
    "#     for (_, row), ax in zip((resultdat - groundtruth).iterrows(), axarr[1,:]):\n",
    "#         row[correct_cols].hist(ax=ax)\n",
    "#         ax.set_title('mixture %d absolute differences -- correct cell types only' % row.name)\n",
    "\n",
    "\n",
    "\n",
    "#     other_cols = set(resultdat.columns) - set(correct_cols)\n",
    "#     for (_, row), ax in zip((resultdat - groundtruth).iterrows(), axarr[2,:]):\n",
    "#         row[other_cols].hist(ax=ax)\n",
    "#         ax.set_title('mixture %d absolute differences -- incorrect cell types only' % row.name)\n",
    "    \n",
    "#     fig.suptitle(experiment_name)\n",
    "\n",
    "    print 'p values:', result['P-value']\n",
    "\n",
    "    print 'RMSE \\t R^2 \\t per mixture'\n",
    "    from sklearn.metrics import mean_squared_error as mse, r2_score\n",
    "    for (_, y_true),(_, y_pred) in zip(groundtruth.iterrows(), resultdat.iterrows()):\n",
    "        print '%0.4f \\t %0.4f' % (np.sqrt(mse(y_true, y_pred)), r2_score(y_true, y_pred))\n",
    "\n",
    "    print 'absolute difference from ground truth'\n",
    "    print (resultdat - groundtruth)\n",
    "    \n",
    "    print"
   ]
  },
  {
   "cell_type": "code",
   "execution_count": 204,
   "metadata": {
    "ExecuteTime": {
     "end_time": "2016-07-06T14:11:55.392740",
     "start_time": "2016-07-06T14:11:55.329627"
    },
    "collapsed": false,
    "run_control": {
     "frozen": false,
     "read_only": false
    },
    "scrolled": true
   },
   "outputs": [
    {
     "name": "stdout",
     "output_type": "stream",
     "text": [
      "B vs T: reference profiles\n",
      "B vs T: raw lines\n",
      "B vs B: reference profiles\n",
      "B vs B: raw lines\n"
     ]
    },
    {
     "data": {
      "text/html": [
       "<div>\n",
       "<table border=\"1\" class=\"dataframe\">\n",
       "  <thead>\n",
       "    <tr style=\"text-align: right;\">\n",
       "      <th></th>\n",
       "      <th>noise_level</th>\n",
       "      <th>cell_type</th>\n",
       "      <th>error</th>\n",
       "      <th>experiment</th>\n",
       "    </tr>\n",
       "  </thead>\n",
       "  <tbody>\n",
       "    <tr>\n",
       "      <th>0</th>\n",
       "      <td>0</td>\n",
       "      <td>B cells</td>\n",
       "      <td>-0.008683</td>\n",
       "      <td>B vs T: reference profiles</td>\n",
       "    </tr>\n",
       "    <tr>\n",
       "      <th>1</th>\n",
       "      <td>1</td>\n",
       "      <td>B cells</td>\n",
       "      <td>-0.008703</td>\n",
       "      <td>B vs T: reference profiles</td>\n",
       "    </tr>\n",
       "    <tr>\n",
       "      <th>2</th>\n",
       "      <td>2</td>\n",
       "      <td>B cells</td>\n",
       "      <td>0.029078</td>\n",
       "      <td>B vs T: reference profiles</td>\n",
       "    </tr>\n",
       "    <tr>\n",
       "      <th>3</th>\n",
       "      <td>0</td>\n",
       "      <td>Myeloblasts</td>\n",
       "      <td>0.000000</td>\n",
       "      <td>B vs T: reference profiles</td>\n",
       "    </tr>\n",
       "    <tr>\n",
       "      <th>4</th>\n",
       "      <td>1</td>\n",
       "      <td>Myeloblasts</td>\n",
       "      <td>0.000000</td>\n",
       "      <td>B vs T: reference profiles</td>\n",
       "    </tr>\n",
       "    <tr>\n",
       "      <th>5</th>\n",
       "      <td>2</td>\n",
       "      <td>Myeloblasts</td>\n",
       "      <td>0.000000</td>\n",
       "      <td>B vs T: reference profiles</td>\n",
       "    </tr>\n",
       "    <tr>\n",
       "      <th>6</th>\n",
       "      <td>0</td>\n",
       "      <td>T cells</td>\n",
       "      <td>0.008683</td>\n",
       "      <td>B vs T: reference profiles</td>\n",
       "    </tr>\n",
       "    <tr>\n",
       "      <th>7</th>\n",
       "      <td>1</td>\n",
       "      <td>T cells</td>\n",
       "      <td>0.008703</td>\n",
       "      <td>B vs T: reference profiles</td>\n",
       "    </tr>\n",
       "    <tr>\n",
       "      <th>8</th>\n",
       "      <td>2</td>\n",
       "      <td>T cells</td>\n",
       "      <td>-0.029078</td>\n",
       "      <td>B vs T: reference profiles</td>\n",
       "    </tr>\n",
       "    <tr>\n",
       "      <th>0</th>\n",
       "      <td>0</td>\n",
       "      <td>B cells</td>\n",
       "      <td>-0.046572</td>\n",
       "      <td>B vs T: raw lines</td>\n",
       "    </tr>\n",
       "    <tr>\n",
       "      <th>1</th>\n",
       "      <td>1</td>\n",
       "      <td>B cells</td>\n",
       "      <td>-0.046369</td>\n",
       "      <td>B vs T: raw lines</td>\n",
       "    </tr>\n",
       "    <tr>\n",
       "      <th>2</th>\n",
       "      <td>2</td>\n",
       "      <td>B cells</td>\n",
       "      <td>-0.020146</td>\n",
       "      <td>B vs T: raw lines</td>\n",
       "    </tr>\n",
       "    <tr>\n",
       "      <th>3</th>\n",
       "      <td>0</td>\n",
       "      <td>Myeloblasts</td>\n",
       "      <td>0.000000</td>\n",
       "      <td>B vs T: raw lines</td>\n",
       "    </tr>\n",
       "    <tr>\n",
       "      <th>4</th>\n",
       "      <td>1</td>\n",
       "      <td>Myeloblasts</td>\n",
       "      <td>0.000000</td>\n",
       "      <td>B vs T: raw lines</td>\n",
       "    </tr>\n",
       "    <tr>\n",
       "      <th>5</th>\n",
       "      <td>2</td>\n",
       "      <td>Myeloblasts</td>\n",
       "      <td>0.000000</td>\n",
       "      <td>B vs T: raw lines</td>\n",
       "    </tr>\n",
       "    <tr>\n",
       "      <th>6</th>\n",
       "      <td>0</td>\n",
       "      <td>T cells</td>\n",
       "      <td>0.046572</td>\n",
       "      <td>B vs T: raw lines</td>\n",
       "    </tr>\n",
       "    <tr>\n",
       "      <th>7</th>\n",
       "      <td>1</td>\n",
       "      <td>T cells</td>\n",
       "      <td>0.046369</td>\n",
       "      <td>B vs T: raw lines</td>\n",
       "    </tr>\n",
       "    <tr>\n",
       "      <th>8</th>\n",
       "      <td>2</td>\n",
       "      <td>T cells</td>\n",
       "      <td>0.020146</td>\n",
       "      <td>B vs T: raw lines</td>\n",
       "    </tr>\n",
       "    <tr>\n",
       "      <th>0</th>\n",
       "      <td>0</td>\n",
       "      <td>B cells</td>\n",
       "      <td>-0.005344</td>\n",
       "      <td>B vs B: reference profiles</td>\n",
       "    </tr>\n",
       "    <tr>\n",
       "      <th>1</th>\n",
       "      <td>1</td>\n",
       "      <td>B cells</td>\n",
       "      <td>-0.005314</td>\n",
       "      <td>B vs B: reference profiles</td>\n",
       "    </tr>\n",
       "    <tr>\n",
       "      <th>2</th>\n",
       "      <td>2</td>\n",
       "      <td>B cells</td>\n",
       "      <td>-0.009587</td>\n",
       "      <td>B vs B: reference profiles</td>\n",
       "    </tr>\n",
       "    <tr>\n",
       "      <th>3</th>\n",
       "      <td>0</td>\n",
       "      <td>Myeloblasts</td>\n",
       "      <td>0.000000</td>\n",
       "      <td>B vs B: reference profiles</td>\n",
       "    </tr>\n",
       "    <tr>\n",
       "      <th>4</th>\n",
       "      <td>1</td>\n",
       "      <td>Myeloblasts</td>\n",
       "      <td>0.000000</td>\n",
       "      <td>B vs B: reference profiles</td>\n",
       "    </tr>\n",
       "    <tr>\n",
       "      <th>5</th>\n",
       "      <td>2</td>\n",
       "      <td>Myeloblasts</td>\n",
       "      <td>0.000000</td>\n",
       "      <td>B vs B: reference profiles</td>\n",
       "    </tr>\n",
       "    <tr>\n",
       "      <th>6</th>\n",
       "      <td>0</td>\n",
       "      <td>T cells</td>\n",
       "      <td>0.005344</td>\n",
       "      <td>B vs B: reference profiles</td>\n",
       "    </tr>\n",
       "    <tr>\n",
       "      <th>7</th>\n",
       "      <td>1</td>\n",
       "      <td>T cells</td>\n",
       "      <td>0.005314</td>\n",
       "      <td>B vs B: reference profiles</td>\n",
       "    </tr>\n",
       "    <tr>\n",
       "      <th>8</th>\n",
       "      <td>2</td>\n",
       "      <td>T cells</td>\n",
       "      <td>0.009587</td>\n",
       "      <td>B vs B: reference profiles</td>\n",
       "    </tr>\n",
       "    <tr>\n",
       "      <th>0</th>\n",
       "      <td>0</td>\n",
       "      <td>B cells</td>\n",
       "      <td>-0.034589</td>\n",
       "      <td>B vs B: raw lines</td>\n",
       "    </tr>\n",
       "    <tr>\n",
       "      <th>1</th>\n",
       "      <td>1</td>\n",
       "      <td>B cells</td>\n",
       "      <td>-0.034390</td>\n",
       "      <td>B vs B: raw lines</td>\n",
       "    </tr>\n",
       "    <tr>\n",
       "      <th>2</th>\n",
       "      <td>2</td>\n",
       "      <td>B cells</td>\n",
       "      <td>-0.025521</td>\n",
       "      <td>B vs B: raw lines</td>\n",
       "    </tr>\n",
       "    <tr>\n",
       "      <th>3</th>\n",
       "      <td>0</td>\n",
       "      <td>Myeloblasts</td>\n",
       "      <td>0.020131</td>\n",
       "      <td>B vs B: raw lines</td>\n",
       "    </tr>\n",
       "    <tr>\n",
       "      <th>4</th>\n",
       "      <td>1</td>\n",
       "      <td>Myeloblasts</td>\n",
       "      <td>0.020136</td>\n",
       "      <td>B vs B: raw lines</td>\n",
       "    </tr>\n",
       "    <tr>\n",
       "      <th>5</th>\n",
       "      <td>2</td>\n",
       "      <td>Myeloblasts</td>\n",
       "      <td>0.025521</td>\n",
       "      <td>B vs B: raw lines</td>\n",
       "    </tr>\n",
       "    <tr>\n",
       "      <th>6</th>\n",
       "      <td>0</td>\n",
       "      <td>T cells</td>\n",
       "      <td>0.014458</td>\n",
       "      <td>B vs B: raw lines</td>\n",
       "    </tr>\n",
       "    <tr>\n",
       "      <th>7</th>\n",
       "      <td>1</td>\n",
       "      <td>T cells</td>\n",
       "      <td>0.014255</td>\n",
       "      <td>B vs B: raw lines</td>\n",
       "    </tr>\n",
       "    <tr>\n",
       "      <th>8</th>\n",
       "      <td>2</td>\n",
       "      <td>T cells</td>\n",
       "      <td>0.000000</td>\n",
       "      <td>B vs B: raw lines</td>\n",
       "    </tr>\n",
       "  </tbody>\n",
       "</table>\n",
       "</div>"
      ],
      "text/plain": [
       "   noise_level    cell_type     error                  experiment\n",
       "0            0      B cells -0.008683  B vs T: reference profiles\n",
       "1            1      B cells -0.008703  B vs T: reference profiles\n",
       "2            2      B cells  0.029078  B vs T: reference profiles\n",
       "3            0  Myeloblasts  0.000000  B vs T: reference profiles\n",
       "4            1  Myeloblasts  0.000000  B vs T: reference profiles\n",
       "5            2  Myeloblasts  0.000000  B vs T: reference profiles\n",
       "6            0      T cells  0.008683  B vs T: reference profiles\n",
       "7            1      T cells  0.008703  B vs T: reference profiles\n",
       "8            2      T cells -0.029078  B vs T: reference profiles\n",
       "0            0      B cells -0.046572           B vs T: raw lines\n",
       "1            1      B cells -0.046369           B vs T: raw lines\n",
       "2            2      B cells -0.020146           B vs T: raw lines\n",
       "3            0  Myeloblasts  0.000000           B vs T: raw lines\n",
       "4            1  Myeloblasts  0.000000           B vs T: raw lines\n",
       "5            2  Myeloblasts  0.000000           B vs T: raw lines\n",
       "6            0      T cells  0.046572           B vs T: raw lines\n",
       "7            1      T cells  0.046369           B vs T: raw lines\n",
       "8            2      T cells  0.020146           B vs T: raw lines\n",
       "0            0      B cells -0.005344  B vs B: reference profiles\n",
       "1            1      B cells -0.005314  B vs B: reference profiles\n",
       "2            2      B cells -0.009587  B vs B: reference profiles\n",
       "3            0  Myeloblasts  0.000000  B vs B: reference profiles\n",
       "4            1  Myeloblasts  0.000000  B vs B: reference profiles\n",
       "5            2  Myeloblasts  0.000000  B vs B: reference profiles\n",
       "6            0      T cells  0.005344  B vs B: reference profiles\n",
       "7            1      T cells  0.005314  B vs B: reference profiles\n",
       "8            2      T cells  0.009587  B vs B: reference profiles\n",
       "0            0      B cells -0.034589           B vs B: raw lines\n",
       "1            1      B cells -0.034390           B vs B: raw lines\n",
       "2            2      B cells -0.025521           B vs B: raw lines\n",
       "3            0  Myeloblasts  0.020131           B vs B: raw lines\n",
       "4            1  Myeloblasts  0.020136           B vs B: raw lines\n",
       "5            2  Myeloblasts  0.025521           B vs B: raw lines\n",
       "6            0      T cells  0.014458           B vs B: raw lines\n",
       "7            1      T cells  0.014255           B vs B: raw lines\n",
       "8            2      T cells  0.000000           B vs B: raw lines"
      ]
     },
     "execution_count": 204,
     "metadata": {},
     "output_type": "execute_result"
    }
   ],
   "source": [
    "dfs = []\n",
    "for experiment_name, result, resultdat, groundtruth in zip(\\\n",
    "        experiment_names, results, results_dats, reference_dats):\n",
    "    print experiment_name\n",
    "    \n",
    "    tmp=(resultdat - groundtruth)\n",
    "    tmp['noise_level'] = tmp.index\n",
    "    tmp = pd.melt(tmp, id_vars=['noise_level'], var_name='cell_type', value_name='error')\n",
    "    tmp['experiment'] = experiment_name\n",
    "    dfs.append(tmp)\n",
    "\n",
    "dfs = pd.concat(dfs)\n",
    "dfs"
   ]
  },
  {
   "cell_type": "code",
   "execution_count": 206,
   "metadata": {
    "ExecuteTime": {
     "end_time": "2016-07-06T14:40:44.854923",
     "start_time": "2016-07-06T14:40:41.613289"
    },
    "collapsed": false,
    "run_control": {
     "frozen": false,
     "read_only": false
    }
   },
   "outputs": [
    {
     "name": "stdout",
     "output_type": "stream",
     "text": [
      "Error plot\n"
     ]
    },
    {
     "data": {
      "image/png": "[encoded data removed]",
      "text/plain": [
       "<matplotlib.figure.Figure at 0x7fa3d213e150>"
      ]
     },
     "metadata": {},
     "output_type": "display_data"
    }
   ],
   "source": [
    "print 'Error plot'\n",
    "g = sns.factorplot(data=dfs, x=\"noise_level\", y=\"error\", hue=\"cell_type\", col=\"experiment\")\n",
    "g.savefig('plots/superclass_error.png', dpi=300)"
   ]
  },
  {
   "cell_type": "markdown",
   "metadata": {},
   "source": [
    "(Note that \"reference profiles\" means of subtypes)\n",
    "\n",
    "\n",
    "### Observations:\n",
    "\n",
    "We are doing a very simple B vs T and B vs B superclass classification. Threw in myeloblasts in training data as well to measure hallucination of related types.\n",
    "\n",
    "In general we do superclass classification fairly well -- see the scale (max error is 5-6%).\n",
    "This motivates the hierarchy approach. (The remaining question there is whether we have enough confidence to jump one level down -- a Bayesian approach can answer that)\n",
    "\n",
    "In some cases the noise helps, in others it hurts. Still doesn't affect that much -- just 5%.\n",
    "\n",
    "Rightmost plot: some hallucination of myeloblasts.\n",
    "\n",
    "* B vs T when using reference profile: very little error, a little more with noise.\n",
    "* B vs T raw lines: the proportion of T cells is overestimated while B cells underestimated. Why is that? Is that because of the relative weights $(.25,.75)$?\n",
    "* B vs B when using reference profile: very little error, as expected.\n",
    "* B vs B when using a raw line: have some hallucination of myeloblasts especially, but also of T cells. The proportion of B cells is slightly underestimated unfortunately, but still very close to 100%.\n",
    "* Why is noise almost always good at reducing error?\n",
    "\n",
    "Looks like we are doing superclass classification well!"
   ]
  },
  {
   "cell_type": "code",
   "execution_count": null,
   "metadata": {
    "collapsed": true,
    "run_control": {
     "frozen": false,
     "read_only": false
    }
   },
   "outputs": [],
   "source": [
    "|"
   ]
  }
 ],
 "metadata": {
  "celltoolbar": "Initialisation Cell",
  "kernelspec": {
   "display_name": "Python 2",
   "language": "python",
   "name": "python2"
  },
  "language_info": {
   "codemirror_mode": {
    "name": "ipython",
    "version": 2
   },
   "file_extension": ".py",
   "mimetype": "text/x-python",
   "name": "python",
   "nbconvert_exporter": "python",
   "pygments_lexer": "ipython2",
   "version": "2.7.11"
  },
  "nav_menu": {},
  "toc": {
   "navigate_menu": true,
   "number_sections": true,
   "sideBar": false,
   "threshold": 6,
   "toc_cell": true,
   "toc_section_display": "none",
   "toc_window_display": true
  },
  "toc_position": {
   "height": "612px",
   "left": "1px",
   "right": "20px",
   "top": "103px",
   "width": "212px"
  }
 },
 "nbformat": 4,
 "nbformat_minor": 0
}
