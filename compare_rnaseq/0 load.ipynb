{
 "cells": [
  {
   "cell_type": "code",
   "execution_count": 3,
   "metadata": {
    "ExecuteTime": {
     "end_time": "2016-08-02T11:18:42.624835",
     "start_time": "2016-08-02T11:18:41.518829"
    },
    "collapsed": false,
    "run_control": {
     "frozen": false,
     "read_only": false
    }
   },
   "outputs": [],
   "source": [
    "# %load ~/ipyhead\n",
    "import numpy as np\n",
    "import matplotlib.pyplot as plt\n",
    "import pandas as pd\n",
    "%matplotlib inline\n",
    "import seaborn as sns"
   ]
  },
  {
   "cell_type": "markdown",
   "metadata": {},
   "source": [
    "\n",
    "We're going to load quantification data from Kallisto. We used the index: `Homo_sapiens.GRCh38.cdna.all.kallisto.idx`\n",
    "\n",
    "Per http://f1000research.com/articles/4-1521/v2 (https://github.com/mikelove/tximport), we should use TPM (not estimated counts, which are sensitive to transcript length) and aggregate to gene level.\n",
    "\n",
    "Here is how to annotate with gene names in Python: https://github.com/hammerlab/cohorts/blob/master/cohorts/load.py#L797-L801\n",
    "\n",
    "We made the index by downloading from http://ftp.ensembl.org/pub/release-79/fasta/homo_sapiens/cdna/Homo_sapiens.GRCh38.cdna.all.fa.gz , which is the same as what's suggested on kallisto website. So use release 79.\n",
    "\n",
    "Though note that the newest release is release 85, from ftp://ftp.ncbi.nlm.nih.gov/gene/DATA/README_ensembl:\n",
    "\n",
    "```\n",
    "#tax_id\tncbi_release\tncbi_assembly\tensembl_release\tensembl_assembly\tdate_compared\n",
    "9606\tHomo sapiens Annotation Release 108\tGRCh38.p7\t85\tGRCh38.p7\t20160801\n",
    "```\n",
    "\n",
    "And http://ftp.ensembl.org/pub/release-85/fasta/homo_sapiens/cdna/ has different files."
   ]
  },
  {
   "cell_type": "code",
   "execution_count": 6,
   "metadata": {
    "ExecuteTime": {
     "end_time": "2016-08-02T11:32:11.617279",
     "start_time": "2016-08-02T11:32:11.360058"
    },
    "collapsed": false
   },
   "outputs": [
    {
     "data": {
      "text/html": [
       "<div>\n",
       "<table border=\"1\" class=\"dataframe\">\n",
       "  <thead>\n",
       "    <tr style=\"text-align: right;\">\n",
       "      <th></th>\n",
       "      <th>target_id</th>\n",
       "      <th>length</th>\n",
       "      <th>eff_length</th>\n",
       "      <th>est_counts</th>\n",
       "      <th>tpm</th>\n",
       "    </tr>\n",
       "  </thead>\n",
       "  <tbody>\n",
       "    <tr>\n",
       "      <th>0</th>\n",
       "      <td>ENST00000415118</td>\n",
       "      <td>8</td>\n",
       "      <td>5.08333</td>\n",
       "      <td>0.0</td>\n",
       "      <td>0.00000</td>\n",
       "    </tr>\n",
       "    <tr>\n",
       "      <th>1</th>\n",
       "      <td>ENST00000448914</td>\n",
       "      <td>13</td>\n",
       "      <td>8.66667</td>\n",
       "      <td>0.0</td>\n",
       "      <td>0.00000</td>\n",
       "    </tr>\n",
       "    <tr>\n",
       "      <th>2</th>\n",
       "      <td>ENST00000434970</td>\n",
       "      <td>9</td>\n",
       "      <td>5.69231</td>\n",
       "      <td>0.0</td>\n",
       "      <td>0.00000</td>\n",
       "    </tr>\n",
       "    <tr>\n",
       "      <th>3</th>\n",
       "      <td>ENST00000390577</td>\n",
       "      <td>37</td>\n",
       "      <td>21.37140</td>\n",
       "      <td>1.0</td>\n",
       "      <td>6.44565</td>\n",
       "    </tr>\n",
       "    <tr>\n",
       "      <th>4</th>\n",
       "      <td>ENST00000437320</td>\n",
       "      <td>19</td>\n",
       "      <td>11.90480</td>\n",
       "      <td>0.0</td>\n",
       "      <td>0.00000</td>\n",
       "    </tr>\n",
       "  </tbody>\n",
       "</table>\n",
       "</div>"
      ],
      "text/plain": [
       "         target_id  length  eff_length  est_counts      tpm\n",
       "0  ENST00000415118       8     5.08333         0.0  0.00000\n",
       "1  ENST00000448914      13     8.66667         0.0  0.00000\n",
       "2  ENST00000434970       9     5.69231         0.0  0.00000\n",
       "3  ENST00000390577      37    21.37140         1.0  6.44565\n",
       "4  ENST00000437320      19    11.90480         0.0  0.00000"
      ]
     },
     "execution_count": 6,
     "metadata": {},
     "output_type": "execute_result"
    }
   ],
   "source": [
    "df = pd.read_csv('output/ERR431617/abundance.tsv', sep='\\t')\n",
    "df.head()"
   ]
  },
  {
   "cell_type": "code",
   "execution_count": 5,
   "metadata": {
    "ExecuteTime": {
     "end_time": "2016-08-02T11:23:43.586269",
     "start_time": "2016-08-02T11:23:19.746249"
    },
    "collapsed": false
   },
   "outputs": [
    {
     "name": "stdout",
     "output_type": "stream",
     "text": [
      "Collecting pyensembl\n",
      "  Downloading pyensembl-0.9.5.tar.gz (60kB)\n",
      "\u001b[K    100% |████████████████████████████████| 61kB 1.8MB/s \n",
      "\u001b[?25hRequirement already satisfied (use --upgrade to upgrade): typechecks>=0.0.2 in /home/maxim/anaconda2/lib/python2.7/site-packages (from pyensembl)\n",
      "Requirement already satisfied (use --upgrade to upgrade): numpy>=1.7 in /home/maxim/anaconda2/lib/python2.7/site-packages (from pyensembl)\n",
      "Requirement already satisfied (use --upgrade to upgrade): pandas>=0.15 in /home/maxim/anaconda2/lib/python2.7/site-packages (from pyensembl)\n",
      "Collecting datacache>=0.4.16 (from pyensembl)\n",
      "  Downloading datacache-0.4.17.tar.gz\n",
      "Collecting memoized-property>=1.0.2 (from pyensembl)\n",
      "  Downloading memoized-property-1.0.2.tar.gz\n",
      "Requirement already satisfied (use --upgrade to upgrade): six>=1.9.0 in /home/maxim/anaconda2/lib/python2.7/site-packages (from pyensembl)\n",
      "Collecting gtfparse>=0.0.3 (from pyensembl)\n",
      "  Downloading gtfparse-0.0.6.tar.gz\n",
      "Collecting serializable (from pyensembl)\n",
      "  Downloading serializable-0.0.6.tar.gz\n",
      "Requirement already satisfied (use --upgrade to upgrade): python-dateutil in /home/maxim/anaconda2/lib/python2.7/site-packages (from pandas>=0.15->pyensembl)\n",
      "Requirement already satisfied (use --upgrade to upgrade): pytz>=2011k in /home/maxim/anaconda2/lib/python2.7/site-packages (from pandas>=0.15->pyensembl)\n",
      "Requirement already satisfied (use --upgrade to upgrade): appdirs>=1.4.0 in /home/maxim/anaconda2/lib/python2.7/site-packages (from datacache>=0.4.16->pyensembl)\n",
      "Collecting progressbar33>=2.4 (from datacache>=0.4.16->pyensembl)\n",
      "  Downloading progressbar33-2.4.tar.gz\n",
      "Collecting biopython>=1.65 (from datacache>=0.4.16->pyensembl)\n",
      "  Downloading biopython-1.67.tar.gz (14.3MB)\n",
      "\u001b[K    100% |████████████████████████████████| 14.3MB 68kB/s \n",
      "\u001b[?25hRequirement already satisfied (use --upgrade to upgrade): requests>=2.5.1 in /home/maxim/anaconda2/lib/python2.7/site-packages (from datacache>=0.4.16->pyensembl)\n",
      "Collecting simplejson (from serializable->pyensembl)\n",
      "  Downloading simplejson-3.8.2.tar.gz (76kB)\n",
      "\u001b[K    100% |████████████████████████████████| 81kB 4.6MB/s \n",
      "\u001b[?25hBuilding wheels for collected packages: pyensembl, datacache, memoized-property, gtfparse, serializable, progressbar33, biopython, simplejson\n",
      "  Running setup.py bdist_wheel for pyensembl ... \u001b[?25l-\b \b\\\b \bdone\n",
      "\u001b[?25h  Stored in directory: /home/maxim/.cache/pip/wheels/04/69/38/f675315f843ae0d30475fbbdd865622995dc64ae7adee83a3f\n",
      "  Running setup.py bdist_wheel for datacache ... \u001b[?25l-\b \b\\\b \bdone\n",
      "\u001b[?25h  Stored in directory: /home/maxim/.cache/pip/wheels/f6/37/55/ba59c1f1e2c7df84eca3df207aba1f9ed385bc4d2f674db8d2\n",
      "  Running setup.py bdist_wheel for memoized-property ... \u001b[?25l-\b \bdone\n",
      "\u001b[?25h  Stored in directory: /home/maxim/.cache/pip/wheels/09/42/c6/fa081008bb537f37b06168cb296c94d70f836c49d1f52c78ba\n",
      "  Running setup.py bdist_wheel for gtfparse ... \u001b[?25l-\b \b\\\b \bdone\n",
      "\u001b[?25h  Stored in directory: /home/maxim/.cache/pip/wheels/ed/90/50/007c4aa4ae0e50fffec744aa3357566eb834fae066651737b9\n",
      "  Running setup.py bdist_wheel for serializable ... \u001b[?25l-\b \bdone\n",
      "\u001b[?25h  Stored in directory: /home/maxim/.cache/pip/wheels/24/e1/e2/3e3ee08809d1b6fc3d76584641477be0090b1ca4ddaa150ecf\n",
      "  Running setup.py bdist_wheel for progressbar33 ... \u001b[?25l-\b \bdone\n",
      "\u001b[?25h  Stored in directory: /home/maxim/.cache/pip/wheels/4d/72/a3/a74877f299ef2e9bed86e29ab723bd5adfe7cef6f1d0cfa986\n",
      "  Running setup.py bdist_wheel for biopython ... \u001b[?25l-\b \b\\\b \b|\b \b/\b \b-\b \b\\\b \b|\b \b/\b \b-\b \b\\\b \b|\b \b/\b \b-\b \bdone\n",
      "\u001b[?25h  Stored in directory: /home/maxim/.cache/pip/wheels/5a/7f/ff/5e827f85f9647a1cb459b917e4e48044abda908077fc6f8240\n",
      "  Running setup.py bdist_wheel for simplejson ... \u001b[?25l-\b \b\\\b \bdone\n",
      "\u001b[?25h  Stored in directory: /home/maxim/.cache/pip/wheels/e4/32/71/60b361b0d05433eb9d1dd3d47619931c08cc4e387dc494ad3c\n",
      "Successfully built pyensembl datacache memoized-property gtfparse serializable progressbar33 biopython simplejson\n",
      "Installing collected packages: progressbar33, biopython, datacache, memoized-property, gtfparse, simplejson, serializable, pyensembl\n",
      "Successfully installed biopython-1.67 datacache-0.4.17 gtfparse-0.0.6 memoized-property-1.0.2 progressbar33-2.4 pyensembl-0.9.5 serializable-0.0.6 simplejson-3.8.2\n",
      "\u001b[33mYou are using pip version 8.1.1, however version 8.1.2 is available.\n",
      "You should consider upgrading via the 'pip install --upgrade pip' command.\u001b[0m\n"
     ]
    }
   ],
   "source": [
    "!pip install pyensembl"
   ]
  },
  {
   "cell_type": "code",
   "execution_count": 7,
   "metadata": {
    "ExecuteTime": {
     "end_time": "2016-08-02T11:36:53.549840",
     "start_time": "2016-08-02T11:32:37.034383"
    },
    "collapsed": false
   },
   "outputs": [
    {
     "name": "stdout",
     "output_type": "stream",
     "text": [
      "-- Running 'install' for EnsemblRelease(release=79, species='homo_sapiens')\n",
      "INFO:root:Fetching /home/maxim/.cache/pyensembl/GRCh38/ensembl79/Homo_sapiens.GRCh38.79.gtf.gz from URL ftp://ftp.ensembl.org/pub/release-79/gtf/homo_sapiens/Homo_sapiens.GRCh38.79.gtf.gz\n",
      "Downloading ftp://ftp.ensembl.org/pub/release-79/gtf/homo_sapiens/Homo_sapiens.GRCh38.79.gtf.gz to /home/maxim/.cache/pyensembl/GRCh38/ensembl79/Homo_sapiens.GRCh38.79.gtf.gz\n",
      "INFO:root:Fetching /home/maxim/.cache/pyensembl/GRCh38/ensembl79/Homo_sapiens.GRCh38.cdna.all.fa.gz from URL ftp://ftp.ensembl.org/pub/release-79/fasta/homo_sapiens/cdna/Homo_sapiens.GRCh38.cdna.all.fa.gz\n",
      "Downloading ftp://ftp.ensembl.org/pub/release-79/fasta/homo_sapiens/cdna/Homo_sapiens.GRCh38.cdna.all.fa.gz to /home/maxim/.cache/pyensembl/GRCh38/ensembl79/Homo_sapiens.GRCh38.cdna.all.fa.gz\n",
      "INFO:root:Fetching /home/maxim/.cache/pyensembl/GRCh38/ensembl79/Homo_sapiens.GRCh38.pep.all.fa.gz from URL ftp://ftp.ensembl.org/pub/release-79/fasta/homo_sapiens/pep/Homo_sapiens.GRCh38.pep.all.fa.gz\n",
      "Downloading ftp://ftp.ensembl.org/pub/release-79/fasta/homo_sapiens/pep/Homo_sapiens.GRCh38.pep.all.fa.gz to /home/maxim/.cache/pyensembl/GRCh38/ensembl79/Homo_sapiens.GRCh38.pep.all.fa.gz\n",
      "Creating database: /home/maxim/.cache/pyensembl/GRCh38/ensembl79/Homo_sapiens.GRCh38.79.gtf.db\n",
      "Reading GTF from /home/maxim/.cache/pyensembl/GRCh38/ensembl79/Homo_sapiens.GRCh38.79.gtf.gz\n",
      "INFO:root:Extracted GTF attributes: ['gene_id', 'gene_version', 'gene_name', 'gene_source', 'gene_biotype', 'transcript_id', 'transcript_version', 'transcript_name', 'transcript_source', 'transcript_biotype', 'tag', 'transcript_support_level', 'exon_number', 'exon_id', 'exon_version', 'ccds_id', 'protein_id', 'protein_version']\n",
      "Saving DataFrame to /home/maxim/.cache/pyensembl/GRCh38/ensembl79/Homo_sapiens.GRCh38.79.gtf.expanded.csv\n",
      "INFO:root:Creating database /home/maxim/.cache/pyensembl/GRCh38/ensembl79/Homo_sapiens.GRCh38.79.gtf.db containing: gene, Selenocysteine, UTR, exon, stop_codon, CDS, start_codon, transcript\n",
      "INFO:root:Running sqlite query: \"CREATE TABLE gene (seqname TEXT NOT NULL, source TEXT NOT NULL, feature TEXT NOT NULL, start INT NOT NULL, end INT NOT NULL, score FLOAT, strand TEXT NOT NULL, frame TEXT NOT NULL, gene_id TEXT UNIQUE PRIMARY KEY NOT NULL, gene_version TEXT NOT NULL, gene_name TEXT NOT NULL, gene_source TEXT NOT NULL, gene_biotype TEXT NOT NULL, transcript_id TEXT NOT NULL, transcript_version TEXT NOT NULL, transcript_name TEXT NOT NULL, transcript_source TEXT NOT NULL, transcript_biotype TEXT NOT NULL, tag TEXT NOT NULL, transcript_support_level TEXT NOT NULL, exon_number TEXT NOT NULL, exon_id TEXT NOT NULL, exon_version TEXT NOT NULL, ccds_id TEXT NOT NULL, protein_id TEXT NOT NULL, protein_version TEXT NOT NULL)\"\n",
      "INFO:root:Inserting 65217 rows into table gene\n",
      "INFO:root:Creating index on gene (seqname, start, end)\n",
      "INFO:root:Creating index on gene (seqname, start, end, strand)\n",
      "INFO:root:Creating index on gene (gene_name)\n",
      "INFO:root:Creating index on gene (transcript_id)\n",
      "INFO:root:Creating index on gene (transcript_name)\n",
      "INFO:root:Creating index on gene (exon_id)\n",
      "INFO:root:Creating index on gene (protein_id)\n",
      "INFO:root:Creating index on gene (ccds_id)\n",
      "INFO:root:Running sqlite query: \"CREATE TABLE Selenocysteine (seqname TEXT NOT NULL, source TEXT NOT NULL, feature TEXT NOT NULL, start INT NOT NULL, end INT NOT NULL, score FLOAT, strand TEXT NOT NULL, frame TEXT NOT NULL, gene_id TEXT NOT NULL, gene_version TEXT NOT NULL, gene_name TEXT NOT NULL, gene_source TEXT NOT NULL, gene_biotype TEXT NOT NULL, transcript_id TEXT NOT NULL, transcript_version TEXT NOT NULL, transcript_name TEXT NOT NULL, transcript_source TEXT NOT NULL, transcript_biotype TEXT NOT NULL, tag TEXT NOT NULL, transcript_support_level TEXT NOT NULL, exon_number TEXT NOT NULL, exon_id TEXT NOT NULL, exon_version TEXT NOT NULL, ccds_id TEXT NOT NULL, protein_id TEXT NOT NULL, protein_version TEXT NOT NULL)\"\n",
      "INFO:root:Inserting 114 rows into table Selenocysteine\n",
      "INFO:root:Creating index on Selenocysteine (seqname, start, end)\n",
      "INFO:root:Creating index on Selenocysteine (seqname, start, end, strand)\n",
      "INFO:root:Creating index on Selenocysteine (gene_name)\n",
      "INFO:root:Creating index on Selenocysteine (gene_id)\n",
      "INFO:root:Creating index on Selenocysteine (transcript_id)\n",
      "INFO:root:Creating index on Selenocysteine (transcript_name)\n",
      "INFO:root:Creating index on Selenocysteine (exon_id)\n",
      "INFO:root:Creating index on Selenocysteine (protein_id)\n",
      "INFO:root:Creating index on Selenocysteine (ccds_id)\n",
      "INFO:root:Running sqlite query: \"CREATE TABLE UTR (seqname TEXT NOT NULL, source TEXT NOT NULL, feature TEXT NOT NULL, start INT NOT NULL, end INT NOT NULL, score FLOAT, strand TEXT NOT NULL, frame TEXT NOT NULL, gene_id TEXT NOT NULL, gene_version TEXT NOT NULL, gene_name TEXT NOT NULL, gene_source TEXT NOT NULL, gene_biotype TEXT NOT NULL, transcript_id TEXT NOT NULL, transcript_version TEXT NOT NULL, transcript_name TEXT NOT NULL, transcript_source TEXT NOT NULL, transcript_biotype TEXT NOT NULL, tag TEXT NOT NULL, transcript_support_level TEXT NOT NULL, exon_number TEXT NOT NULL, exon_id TEXT NOT NULL, exon_version TEXT NOT NULL, ccds_id TEXT NOT NULL, protein_id TEXT NOT NULL, protein_version TEXT NOT NULL)\"\n",
      "INFO:root:Inserting 290327 rows into table UTR\n",
      "INFO:root:Creating index on UTR (seqname, start, end)\n",
      "INFO:root:Creating index on UTR (seqname, start, end, strand)\n",
      "INFO:root:Creating index on UTR (gene_name)\n",
      "INFO:root:Creating index on UTR (gene_id)\n",
      "INFO:root:Creating index on UTR (transcript_id)\n",
      "INFO:root:Creating index on UTR (transcript_name)\n",
      "INFO:root:Creating index on UTR (exon_id)\n",
      "INFO:root:Creating index on UTR (protein_id)\n",
      "INFO:root:Creating index on UTR (ccds_id)\n",
      "INFO:root:Running sqlite query: \"CREATE TABLE exon (seqname TEXT NOT NULL, source TEXT NOT NULL, feature TEXT NOT NULL, start INT NOT NULL, end INT NOT NULL, score FLOAT, strand TEXT NOT NULL, frame TEXT NOT NULL, gene_id TEXT NOT NULL, gene_version TEXT NOT NULL, gene_name TEXT NOT NULL, gene_source TEXT NOT NULL, gene_biotype TEXT NOT NULL, transcript_id TEXT NOT NULL, transcript_version TEXT NOT NULL, transcript_name TEXT NOT NULL, transcript_source TEXT NOT NULL, transcript_biotype TEXT NOT NULL, tag TEXT NOT NULL, transcript_support_level TEXT NOT NULL, exon_number TEXT NOT NULL, exon_id TEXT NOT NULL, exon_version TEXT NOT NULL, ccds_id TEXT NOT NULL, protein_id TEXT NOT NULL, protein_version TEXT NOT NULL)\"\n",
      "INFO:root:Inserting 1259629 rows into table exon\n",
      "INFO:root:Creating index on exon (seqname, start, end)\n",
      "INFO:root:Creating index on exon (seqname, start, end, strand)\n",
      "INFO:root:Creating index on exon (gene_name)\n",
      "INFO:root:Creating index on exon (gene_id)\n",
      "INFO:root:Creating index on exon (transcript_id)\n",
      "INFO:root:Creating index on exon (transcript_name)\n",
      "INFO:root:Creating index on exon (exon_id)\n",
      "INFO:root:Creating index on exon (protein_id)\n",
      "INFO:root:Creating index on exon (ccds_id)\n",
      "INFO:root:Running sqlite query: \"CREATE TABLE stop_codon (seqname TEXT NOT NULL, source TEXT NOT NULL, feature TEXT NOT NULL, start INT NOT NULL, end INT NOT NULL, score FLOAT, strand TEXT NOT NULL, frame TEXT NOT NULL, gene_id TEXT NOT NULL, gene_version TEXT NOT NULL, gene_name TEXT NOT NULL, gene_source TEXT NOT NULL, gene_biotype TEXT NOT NULL, transcript_id TEXT NOT NULL, transcript_version TEXT NOT NULL, transcript_name TEXT NOT NULL, transcript_source TEXT NOT NULL, transcript_biotype TEXT NOT NULL, tag TEXT NOT NULL, transcript_support_level TEXT NOT NULL, exon_number TEXT NOT NULL, exon_id TEXT NOT NULL, exon_version TEXT NOT NULL, ccds_id TEXT NOT NULL, protein_id TEXT NOT NULL, protein_version TEXT NOT NULL)\"\n",
      "INFO:root:Inserting 69998 rows into table stop_codon\n",
      "INFO:root:Creating index on stop_codon (seqname, start, end)\n",
      "INFO:root:Creating index on stop_codon (seqname, start, end, strand)\n",
      "INFO:root:Creating index on stop_codon (gene_name)\n",
      "INFO:root:Creating index on stop_codon (gene_id)\n",
      "INFO:root:Creating index on stop_codon (transcript_id)\n",
      "INFO:root:Creating index on stop_codon (transcript_name)\n",
      "INFO:root:Creating index on stop_codon (exon_id)\n",
      "INFO:root:Creating index on stop_codon (protein_id)\n",
      "INFO:root:Creating index on stop_codon (ccds_id)\n",
      "INFO:root:Running sqlite query: \"CREATE TABLE CDS (seqname TEXT NOT NULL, source TEXT NOT NULL, feature TEXT NOT NULL, start INT NOT NULL, end INT NOT NULL, score FLOAT, strand TEXT NOT NULL, frame TEXT NOT NULL, gene_id TEXT NOT NULL, gene_version TEXT NOT NULL, gene_name TEXT NOT NULL, gene_source TEXT NOT NULL, gene_biotype TEXT NOT NULL, transcript_id TEXT NOT NULL, transcript_version TEXT NOT NULL, transcript_name TEXT NOT NULL, transcript_source TEXT NOT NULL, transcript_biotype TEXT NOT NULL, tag TEXT NOT NULL, transcript_support_level TEXT NOT NULL, exon_number TEXT NOT NULL, exon_id TEXT NOT NULL, exon_version TEXT NOT NULL, ccds_id TEXT NOT NULL, protein_id TEXT NOT NULL, protein_version TEXT NOT NULL)\"\n",
      "INFO:root:Inserting 751742 rows into table CDS\n",
      "INFO:root:Creating index on CDS (seqname, start, end)\n",
      "INFO:root:Creating index on CDS (seqname, start, end, strand)\n",
      "INFO:root:Creating index on CDS (gene_name)\n",
      "INFO:root:Creating index on CDS (gene_id)\n",
      "INFO:root:Creating index on CDS (transcript_id)\n",
      "INFO:root:Creating index on CDS (transcript_name)\n",
      "INFO:root:Creating index on CDS (exon_id)\n",
      "INFO:root:Creating index on CDS (protein_id)\n",
      "INFO:root:Creating index on CDS (ccds_id)\n",
      "INFO:root:Running sqlite query: \"CREATE TABLE start_codon (seqname TEXT NOT NULL, source TEXT NOT NULL, feature TEXT NOT NULL, start INT NOT NULL, end INT NOT NULL, score FLOAT, strand TEXT NOT NULL, frame TEXT NOT NULL, gene_id TEXT NOT NULL, gene_version TEXT NOT NULL, gene_name TEXT NOT NULL, gene_source TEXT NOT NULL, gene_biotype TEXT NOT NULL, transcript_id TEXT NOT NULL, transcript_version TEXT NOT NULL, transcript_name TEXT NOT NULL, transcript_source TEXT NOT NULL, transcript_biotype TEXT NOT NULL, tag TEXT NOT NULL, transcript_support_level TEXT NOT NULL, exon_number TEXT NOT NULL, exon_id TEXT NOT NULL, exon_version TEXT NOT NULL, ccds_id TEXT NOT NULL, protein_id TEXT NOT NULL, protein_version TEXT NOT NULL)\"\n",
      "INFO:root:Inserting 69881 rows into table start_codon\n",
      "INFO:root:Creating index on start_codon (seqname, start, end)\n",
      "INFO:root:Creating index on start_codon (seqname, start, end, strand)\n",
      "INFO:root:Creating index on start_codon (gene_name)\n",
      "INFO:root:Creating index on start_codon (gene_id)\n",
      "INFO:root:Creating index on start_codon (transcript_id)\n",
      "INFO:root:Creating index on start_codon (transcript_name)\n",
      "INFO:root:Creating index on start_codon (exon_id)\n",
      "INFO:root:Creating index on start_codon (protein_id)\n",
      "INFO:root:Creating index on start_codon (ccds_id)\n",
      "INFO:root:Running sqlite query: \"CREATE TABLE transcript (seqname TEXT NOT NULL, source TEXT NOT NULL, feature TEXT NOT NULL, start INT NOT NULL, end INT NOT NULL, score FLOAT, strand TEXT NOT NULL, frame TEXT NOT NULL, gene_id TEXT NOT NULL, gene_version TEXT NOT NULL, gene_name TEXT NOT NULL, gene_source TEXT NOT NULL, gene_biotype TEXT NOT NULL, transcript_id TEXT UNIQUE PRIMARY KEY NOT NULL, transcript_version TEXT NOT NULL, transcript_name TEXT NOT NULL, transcript_source TEXT NOT NULL, transcript_biotype TEXT NOT NULL, tag TEXT NOT NULL, transcript_support_level TEXT NOT NULL, exon_number TEXT NOT NULL, exon_id TEXT NOT NULL, exon_version TEXT NOT NULL, ccds_id TEXT NOT NULL, protein_id TEXT NOT NULL, protein_version TEXT NOT NULL)\"\n",
      "INFO:root:Inserting 213622 rows into table transcript\n",
      "INFO:root:Creating index on transcript (seqname, start, end)\n",
      "INFO:root:Creating index on transcript (seqname, start, end, strand)\n",
      "INFO:root:Creating index on transcript (gene_name)\n",
      "INFO:root:Creating index on transcript (gene_id)\n",
      "INFO:root:Creating index on transcript (transcript_name)\n",
      "INFO:root:Creating index on transcript (exon_id)\n",
      "INFO:root:Creating index on transcript (protein_id)\n",
      "INFO:root:Creating index on transcript (ccds_id)\n",
      "INFO:root:Running sqlite query: \"CREATE TABLE _datacache_metadata (version INT)\"\n",
      "INFO:root:Running sqlite query: \"INSERT INTO _datacache_metadata VALUES (2)\"\n",
      "INFO:root:Parsing sequences from FASTA file at /home/maxim/.cache/pyensembl/GRCh38/ensembl79/Homo_sapiens.GRCh38.cdna.all.fa.gz\n",
      "^C\n",
      "Traceback (most recent call last):\n",
      "  File \"/home/maxim/anaconda2/bin/pyensembl\", line 11, in <module>\n",
      "    sys.exit(run())\n",
      "  File \"/home/maxim/anaconda2/lib/python2.7/site-packages/pyensembl/shell.py\", line 148, in run\n",
      "    genome.index(overwrite=args.overwrite)\n",
      "  File \"/home/maxim/anaconda2/lib/python2.7/site-packages/pyensembl/genome.py\", line 236, in index\n",
      "    self.transcript_sequences.index(overwrite=overwrite)\n",
      "  File \"/home/maxim/anaconda2/lib/python2.7/site-packages/pyensembl/sequence_data.py\", line 108, in index\n",
      "    self._load_or_create_fasta_dictionary_pickle()\n",
      "  File \"/home/maxim/anaconda2/lib/python2.7/site-packages/pyensembl/sequence_data.py\", line 101, in _load_or_create_fasta_dictionary_pickle\n",
      "    self._fasta_dictionary = parse_fasta_dictionary(self.fasta_path)\n",
      "  File \"/home/maxim/anaconda2/lib/python2.7/site-packages/pyensembl/fasta.py\", line 155, in parse_fasta_dictionary\n",
      "    return parser.read_file(fasta_path)\n",
      "  File \"/home/maxim/anaconda2/lib/python2.7/site-packages/pyensembl/fasta.py\", line 72, in read_file\n",
      "    for (identifier, sequence) in self.iterate_over_file(fasta_path):\n",
      "  File \"/home/maxim/anaconda2/lib/python2.7/site-packages/pyensembl/fasta.py\", line 81, in iterate_over_file\n",
      "    for line in f:\n",
      "  File \"/home/maxim/anaconda2/lib/python2.7/gzip.py\", line 451, in readline\n",
      "    offset = self.offset - self.extrastart\n",
      "KeyboardInterrupt\n"
     ]
    }
   ],
   "source": [
    "!pyensembl install --release 79 --species human"
   ]
  },
  {
   "cell_type": "code",
   "execution_count": null,
   "metadata": {
    "collapsed": true
   },
   "outputs": [],
   "source": [
    "from pyensembl import cached_release"
   ]
  },
  {
   "cell_type": "code",
   "execution_count": null,
   "metadata": {
    "collapsed": true
   },
   "outputs": [],
   "source": [
    "ensembl_release = cached_release(79)\n",
    "df['sample_id'] = 1\n",
    "df['gene_name'] = df['target_id'].map(lambda t: ensembl_release.gene_name_of_transcript_id(t))"
   ]
  },
  {
   "cell_type": "code",
   "execution_count": null,
   "metadata": {
    "collapsed": true
   },
   "outputs": [],
   "source": [
    "# sum counts across genes\n",
    "df = df.groupby(['sample_id', 'gene_name'])[['est_counts']].sum().reset_index()\n",
    "# can we just sum() tpm? look at the other github."
   ]
  }
 ],
 "metadata": {
  "kernelspec": {
   "display_name": "Python 2",
   "language": "python",
   "name": "python2"
  },
  "language_info": {
   "codemirror_mode": {
    "name": "ipython",
    "version": 2
   },
   "file_extension": ".py",
   "mimetype": "text/x-python",
   "name": "python",
   "nbconvert_exporter": "python",
   "pygments_lexer": "ipython2",
   "version": "2.7.11"
  },
  "nav_menu": {},
  "toc": {
   "navigate_menu": true,
   "number_sections": true,
   "sideBar": true,
   "threshold": 6,
   "toc_cell": false,
   "toc_section_display": "block",
   "toc_window_display": false
  }
 },
 "nbformat": 4,
 "nbformat_minor": 0
}
