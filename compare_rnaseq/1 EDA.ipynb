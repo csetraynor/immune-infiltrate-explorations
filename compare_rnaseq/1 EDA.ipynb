{
 "cells": [
  {
   "cell_type": "code",
   "execution_count": 2,
   "metadata": {
    "collapsed": true
   },
   "outputs": [],
   "source": [
    "# %load ~/ipyhead\n",
    "import numpy as np\n",
    "import matplotlib.pyplot as plt\n",
    "import pandas as pd\n",
    "%matplotlib inline\n",
    "import seaborn as sns"
   ]
  },
  {
   "cell_type": "markdown",
   "metadata": {},
   "source": [
    "Using:\n",
    "\n",
    "* <strike>ERR431617: B cell memory</strike>\n",
    "* ERR431572: B cell naive\n",
    "* Microarray data: use one same cell type, one other distant cell type. Can we see the difference?"
   ]
  },
  {
   "cell_type": "code",
   "execution_count": 156,
   "metadata": {
    "collapsed": false
   },
   "outputs": [
    {
     "data": {
      "text/html": [
       "<div>\n",
       "<table border=\"1\" class=\"dataframe\">\n",
       "  <thead>\n",
       "    <tr style=\"text-align: right;\">\n",
       "      <th></th>\n",
       "      <th>sample_id</th>\n",
       "      <th>gene_name</th>\n",
       "      <th>est_counts</th>\n",
       "      <th>tpm</th>\n",
       "    </tr>\n",
       "  </thead>\n",
       "  <tbody>\n",
       "    <tr>\n",
       "      <th>0</th>\n",
       "      <td>1</td>\n",
       "      <td>A1BG</td>\n",
       "      <td>80.232280</td>\n",
       "      <td>11.155641</td>\n",
       "    </tr>\n",
       "    <tr>\n",
       "      <th>1</th>\n",
       "      <td>1</td>\n",
       "      <td>A1CF</td>\n",
       "      <td>18.042401</td>\n",
       "      <td>0.382263</td>\n",
       "    </tr>\n",
       "    <tr>\n",
       "      <th>2</th>\n",
       "      <td>1</td>\n",
       "      <td>A2M</td>\n",
       "      <td>3.000000</td>\n",
       "      <td>1.226161</td>\n",
       "    </tr>\n",
       "    <tr>\n",
       "      <th>3</th>\n",
       "      <td>1</td>\n",
       "      <td>A2ML1</td>\n",
       "      <td>21.912401</td>\n",
       "      <td>2.756862</td>\n",
       "    </tr>\n",
       "    <tr>\n",
       "      <th>4</th>\n",
       "      <td>1</td>\n",
       "      <td>A2MP1</td>\n",
       "      <td>2.000000</td>\n",
       "      <td>0.092441</td>\n",
       "    </tr>\n",
       "  </tbody>\n",
       "</table>\n",
       "</div>"
      ],
      "text/plain": [
       "   sample_id gene_name  est_counts        tpm\n",
       "0          1      A1BG   80.232280  11.155641\n",
       "1          1      A1CF   18.042401   0.382263\n",
       "2          1       A2M    3.000000   1.226161\n",
       "3          1     A2ML1   21.912401   2.756862\n",
       "4          1     A2MP1    2.000000   0.092441"
      ]
     },
     "execution_count": 156,
     "metadata": {},
     "output_type": "execute_result"
    }
   ],
   "source": [
    "df = pd.read_csv('summary.simple.tsv', sep='\\t')\n",
    "df.head()"
   ]
  },
  {
   "cell_type": "code",
   "execution_count": 157,
   "metadata": {
    "collapsed": false
   },
   "outputs": [
    {
     "data": {
      "text/plain": [
       "count    34832.000000\n",
       "mean        28.709233\n",
       "std        291.816455\n",
       "min          0.000000\n",
       "25%          0.000000\n",
       "50%          0.515240\n",
       "75%          6.705417\n",
       "max      22917.900000\n",
       "Name: tpm, dtype: float64"
      ]
     },
     "execution_count": 157,
     "metadata": {},
     "output_type": "execute_result"
    },
    {
     "data": {
      "image/png": "[encoded data removed]",
      "text/plain": [
       "<matplotlib.figure.Figure at 0x7feac15cb310>"
      ]
     },
     "metadata": {},
     "output_type": "display_data"
    }
   ],
   "source": [
    "df.tpm.hist()\n",
    "df.tpm.describe()"
   ]
  },
  {
   "cell_type": "code",
   "execution_count": 158,
   "metadata": {
    "collapsed": false,
    "scrolled": true
   },
   "outputs": [
    {
     "data": {
      "text/html": [
       "<div>\n",
       "<table border=\"1\" class=\"dataframe\">\n",
       "  <thead>\n",
       "    <tr style=\"text-align: right;\">\n",
       "      <th></th>\n",
       "      <th>sample_id</th>\n",
       "      <th>gene_name</th>\n",
       "      <th>est_counts</th>\n",
       "      <th>tpm</th>\n",
       "    </tr>\n",
       "  </thead>\n",
       "  <tbody>\n",
       "    <tr>\n",
       "      <th>652</th>\n",
       "      <td>1</td>\n",
       "      <td>AC010970.2</td>\n",
       "      <td>24263.000000</td>\n",
       "      <td>2478.540000</td>\n",
       "    </tr>\n",
       "    <tr>\n",
       "      <th>1481</th>\n",
       "      <td>1</td>\n",
       "      <td>AC246787.8</td>\n",
       "      <td>13601.133660</td>\n",
       "      <td>1630.865846</td>\n",
       "    </tr>\n",
       "    <tr>\n",
       "      <th>3263</th>\n",
       "      <td>1</td>\n",
       "      <td>B2M</td>\n",
       "      <td>18599.995760</td>\n",
       "      <td>5728.604670</td>\n",
       "    </tr>\n",
       "    <tr>\n",
       "      <th>4830</th>\n",
       "      <td>1</td>\n",
       "      <td>CCNL1</td>\n",
       "      <td>12811.258600</td>\n",
       "      <td>1282.913390</td>\n",
       "    </tr>\n",
       "    <tr>\n",
       "      <th>4933</th>\n",
       "      <td>1</td>\n",
       "      <td>CD37</td>\n",
       "      <td>8314.153390</td>\n",
       "      <td>1529.731931</td>\n",
       "    </tr>\n",
       "    <tr>\n",
       "      <th>4957</th>\n",
       "      <td>1</td>\n",
       "      <td>CD69</td>\n",
       "      <td>5977.999000</td>\n",
       "      <td>970.521000</td>\n",
       "    </tr>\n",
       "    <tr>\n",
       "      <th>4961</th>\n",
       "      <td>1</td>\n",
       "      <td>CD74</td>\n",
       "      <td>39999.546260</td>\n",
       "      <td>6523.488970</td>\n",
       "    </tr>\n",
       "    <tr>\n",
       "      <th>4962</th>\n",
       "      <td>1</td>\n",
       "      <td>CD79A</td>\n",
       "      <td>6328.999000</td>\n",
       "      <td>1099.270000</td>\n",
       "    </tr>\n",
       "    <tr>\n",
       "      <th>5767</th>\n",
       "      <td>1</td>\n",
       "      <td>CLK1</td>\n",
       "      <td>6342.336148</td>\n",
       "      <td>990.738248</td>\n",
       "    </tr>\n",
       "    <tr>\n",
       "      <th>6067</th>\n",
       "      <td>1</td>\n",
       "      <td>COX4I1</td>\n",
       "      <td>6154.036060</td>\n",
       "      <td>1206.193410</td>\n",
       "    </tr>\n",
       "    <tr>\n",
       "      <th>6902</th>\n",
       "      <td>1</td>\n",
       "      <td>CTD-2328D6.1</td>\n",
       "      <td>34229.000000</td>\n",
       "      <td>22917.900000</td>\n",
       "    </tr>\n",
       "    <tr>\n",
       "      <th>7213</th>\n",
       "      <td>1</td>\n",
       "      <td>CXCR4</td>\n",
       "      <td>9615.004000</td>\n",
       "      <td>1152.769000</td>\n",
       "    </tr>\n",
       "    <tr>\n",
       "      <th>7623</th>\n",
       "      <td>1</td>\n",
       "      <td>DDX5</td>\n",
       "      <td>16163.780810</td>\n",
       "      <td>1949.643510</td>\n",
       "    </tr>\n",
       "    <tr>\n",
       "      <th>8395</th>\n",
       "      <td>1</td>\n",
       "      <td>EEF1A1</td>\n",
       "      <td>122418.722590</td>\n",
       "      <td>11527.508390</td>\n",
       "    </tr>\n",
       "    <tr>\n",
       "      <th>8436</th>\n",
       "      <td>1</td>\n",
       "      <td>EEF1B2</td>\n",
       "      <td>4042.919209</td>\n",
       "      <td>1009.985312</td>\n",
       "    </tr>\n",
       "    <tr>\n",
       "      <th>8445</th>\n",
       "      <td>1</td>\n",
       "      <td>EEF1D</td>\n",
       "      <td>5190.624760</td>\n",
       "      <td>1112.533759</td>\n",
       "    </tr>\n",
       "    <tr>\n",
       "      <th>8457</th>\n",
       "      <td>1</td>\n",
       "      <td>EEF1G</td>\n",
       "      <td>15359.587300</td>\n",
       "      <td>1871.892340</td>\n",
       "    </tr>\n",
       "    <tr>\n",
       "      <th>8466</th>\n",
       "      <td>1</td>\n",
       "      <td>EEF2</td>\n",
       "      <td>17709.038530</td>\n",
       "      <td>1063.324490</td>\n",
       "    </tr>\n",
       "    <tr>\n",
       "      <th>8543</th>\n",
       "      <td>1</td>\n",
       "      <td>EIF1</td>\n",
       "      <td>12382.338000</td>\n",
       "      <td>2025.544200</td>\n",
       "    </tr>\n",
       "    <tr>\n",
       "      <th>8616</th>\n",
       "      <td>1</td>\n",
       "      <td>EIF4A2</td>\n",
       "      <td>10044.995600</td>\n",
       "      <td>1130.536190</td>\n",
       "    </tr>\n",
       "    <tr>\n",
       "      <th>9054</th>\n",
       "      <td>1</td>\n",
       "      <td>EZR</td>\n",
       "      <td>27765.762000</td>\n",
       "      <td>1605.697100</td>\n",
       "    </tr>\n",
       "    <tr>\n",
       "      <th>9556</th>\n",
       "      <td>1</td>\n",
       "      <td>FAU</td>\n",
       "      <td>5366.933640</td>\n",
       "      <td>1975.273720</td>\n",
       "    </tr>\n",
       "    <tr>\n",
       "      <th>9881</th>\n",
       "      <td>1</td>\n",
       "      <td>FMNL1</td>\n",
       "      <td>9722.652700</td>\n",
       "      <td>911.484200</td>\n",
       "    </tr>\n",
       "    <tr>\n",
       "      <th>10057</th>\n",
       "      <td>1</td>\n",
       "      <td>FTH1</td>\n",
       "      <td>14102.770400</td>\n",
       "      <td>3692.606400</td>\n",
       "    </tr>\n",
       "    <tr>\n",
       "      <th>10623</th>\n",
       "      <td>1</td>\n",
       "      <td>GLTSCR2</td>\n",
       "      <td>7888.750510</td>\n",
       "      <td>1024.288520</td>\n",
       "    </tr>\n",
       "    <tr>\n",
       "      <th>10683</th>\n",
       "      <td>1</td>\n",
       "      <td>GNAS</td>\n",
       "      <td>8236.593723</td>\n",
       "      <td>1323.455017</td>\n",
       "    </tr>\n",
       "    <tr>\n",
       "      <th>10691</th>\n",
       "      <td>1</td>\n",
       "      <td>GNB2L1</td>\n",
       "      <td>8317.947070</td>\n",
       "      <td>2069.267000</td>\n",
       "    </tr>\n",
       "    <tr>\n",
       "      <th>11008</th>\n",
       "      <td>1</td>\n",
       "      <td>GRASP</td>\n",
       "      <td>6219.006200</td>\n",
       "      <td>1406.452300</td>\n",
       "    </tr>\n",
       "    <tr>\n",
       "      <th>11332</th>\n",
       "      <td>1</td>\n",
       "      <td>H3F3B</td>\n",
       "      <td>22242.952380</td>\n",
       "      <td>3172.993304</td>\n",
       "    </tr>\n",
       "    <tr>\n",
       "      <th>11690</th>\n",
       "      <td>1</td>\n",
       "      <td>HLA-A</td>\n",
       "      <td>23548.641068</td>\n",
       "      <td>2526.748119</td>\n",
       "    </tr>\n",
       "    <tr>\n",
       "      <th>...</th>\n",
       "      <td>...</td>\n",
       "      <td>...</td>\n",
       "      <td>...</td>\n",
       "      <td>...</td>\n",
       "    </tr>\n",
       "    <tr>\n",
       "      <th>27871</th>\n",
       "      <td>1</td>\n",
       "      <td>RPS20</td>\n",
       "      <td>10592.459710</td>\n",
       "      <td>4462.236500</td>\n",
       "    </tr>\n",
       "    <tr>\n",
       "      <th>27889</th>\n",
       "      <td>1</td>\n",
       "      <td>RPS21</td>\n",
       "      <td>3543.997000</td>\n",
       "      <td>3691.974290</td>\n",
       "    </tr>\n",
       "    <tr>\n",
       "      <th>27893</th>\n",
       "      <td>1</td>\n",
       "      <td>RPS23</td>\n",
       "      <td>10612.878110</td>\n",
       "      <td>6416.408318</td>\n",
       "    </tr>\n",
       "    <tr>\n",
       "      <th>27904</th>\n",
       "      <td>1</td>\n",
       "      <td>RPS24</td>\n",
       "      <td>4385.271750</td>\n",
       "      <td>2629.936484</td>\n",
       "    </tr>\n",
       "    <tr>\n",
       "      <th>27915</th>\n",
       "      <td>1</td>\n",
       "      <td>RPS25</td>\n",
       "      <td>8066.967180</td>\n",
       "      <td>2155.741820</td>\n",
       "    </tr>\n",
       "    <tr>\n",
       "      <th>27939</th>\n",
       "      <td>1</td>\n",
       "      <td>RPS27</td>\n",
       "      <td>18364.232400</td>\n",
       "      <td>18297.406600</td>\n",
       "    </tr>\n",
       "    <tr>\n",
       "      <th>27940</th>\n",
       "      <td>1</td>\n",
       "      <td>RPS27A</td>\n",
       "      <td>9154.930860</td>\n",
       "      <td>3272.508080</td>\n",
       "    </tr>\n",
       "    <tr>\n",
       "      <th>27960</th>\n",
       "      <td>1</td>\n",
       "      <td>RPS28</td>\n",
       "      <td>3405.481400</td>\n",
       "      <td>943.174500</td>\n",
       "    </tr>\n",
       "    <tr>\n",
       "      <th>27962</th>\n",
       "      <td>1</td>\n",
       "      <td>RPS28P7</td>\n",
       "      <td>496.361000</td>\n",
       "      <td>1419.800000</td>\n",
       "    </tr>\n",
       "    <tr>\n",
       "      <th>27964</th>\n",
       "      <td>1</td>\n",
       "      <td>RPS29</td>\n",
       "      <td>6309.554312</td>\n",
       "      <td>8519.849954</td>\n",
       "    </tr>\n",
       "    <tr>\n",
       "      <th>27994</th>\n",
       "      <td>1</td>\n",
       "      <td>RPS3</td>\n",
       "      <td>10531.656580</td>\n",
       "      <td>3286.459810</td>\n",
       "    </tr>\n",
       "    <tr>\n",
       "      <th>27995</th>\n",
       "      <td>1</td>\n",
       "      <td>RPS3A</td>\n",
       "      <td>14109.841720</td>\n",
       "      <td>3478.380620</td>\n",
       "    </tr>\n",
       "    <tr>\n",
       "      <th>28035</th>\n",
       "      <td>1</td>\n",
       "      <td>RPS4X</td>\n",
       "      <td>7474.992020</td>\n",
       "      <td>1812.682506</td>\n",
       "    </tr>\n",
       "    <tr>\n",
       "      <th>28061</th>\n",
       "      <td>1</td>\n",
       "      <td>RPS5</td>\n",
       "      <td>6171.101740</td>\n",
       "      <td>1823.324043</td>\n",
       "    </tr>\n",
       "    <tr>\n",
       "      <th>28065</th>\n",
       "      <td>1</td>\n",
       "      <td>RPS6</td>\n",
       "      <td>17155.002000</td>\n",
       "      <td>3373.415500</td>\n",
       "    </tr>\n",
       "    <tr>\n",
       "      <th>28085</th>\n",
       "      <td>1</td>\n",
       "      <td>RPS7</td>\n",
       "      <td>5922.375480</td>\n",
       "      <td>1568.880210</td>\n",
       "    </tr>\n",
       "    <tr>\n",
       "      <th>28101</th>\n",
       "      <td>1</td>\n",
       "      <td>RPS8</td>\n",
       "      <td>8798.955710</td>\n",
       "      <td>2108.161580</td>\n",
       "    </tr>\n",
       "    <tr>\n",
       "      <th>28104</th>\n",
       "      <td>1</td>\n",
       "      <td>RPS9</td>\n",
       "      <td>7959.277988</td>\n",
       "      <td>2919.663396</td>\n",
       "    </tr>\n",
       "    <tr>\n",
       "      <th>28106</th>\n",
       "      <td>1</td>\n",
       "      <td>RPSA</td>\n",
       "      <td>8841.671800</td>\n",
       "      <td>1644.032810</td>\n",
       "    </tr>\n",
       "    <tr>\n",
       "      <th>28778</th>\n",
       "      <td>1</td>\n",
       "      <td>SF1</td>\n",
       "      <td>8186.004270</td>\n",
       "      <td>1326.085863</td>\n",
       "    </tr>\n",
       "    <tr>\n",
       "      <th>28794</th>\n",
       "      <td>1</td>\n",
       "      <td>SFPQ</td>\n",
       "      <td>8307.925700</td>\n",
       "      <td>954.542500</td>\n",
       "    </tr>\n",
       "    <tr>\n",
       "      <th>29530</th>\n",
       "      <td>1</td>\n",
       "      <td>SMAP2</td>\n",
       "      <td>9471.998000</td>\n",
       "      <td>1268.576000</td>\n",
       "    </tr>\n",
       "    <tr>\n",
       "      <th>29558</th>\n",
       "      <td>1</td>\n",
       "      <td>SMCHD1</td>\n",
       "      <td>13840.057710</td>\n",
       "      <td>918.705490</td>\n",
       "    </tr>\n",
       "    <tr>\n",
       "      <th>30700</th>\n",
       "      <td>1</td>\n",
       "      <td>TAGLN2</td>\n",
       "      <td>6846.842000</td>\n",
       "      <td>921.281400</td>\n",
       "    </tr>\n",
       "    <tr>\n",
       "      <th>31664</th>\n",
       "      <td>1</td>\n",
       "      <td>TMSB4X</td>\n",
       "      <td>4792.985650</td>\n",
       "      <td>1804.718500</td>\n",
       "    </tr>\n",
       "    <tr>\n",
       "      <th>31795</th>\n",
       "      <td>1</td>\n",
       "      <td>TOMM7</td>\n",
       "      <td>1372.178380</td>\n",
       "      <td>922.921900</td>\n",
       "    </tr>\n",
       "    <tr>\n",
       "      <th>31901</th>\n",
       "      <td>1</td>\n",
       "      <td>TPT1</td>\n",
       "      <td>26359.576610</td>\n",
       "      <td>6385.755490</td>\n",
       "    </tr>\n",
       "    <tr>\n",
       "      <th>32405</th>\n",
       "      <td>1</td>\n",
       "      <td>TSC22D3</td>\n",
       "      <td>27901.028420</td>\n",
       "      <td>3378.124772</td>\n",
       "    </tr>\n",
       "    <tr>\n",
       "      <th>32738</th>\n",
       "      <td>1</td>\n",
       "      <td>UBA52</td>\n",
       "      <td>5074.589600</td>\n",
       "      <td>1886.715760</td>\n",
       "    </tr>\n",
       "    <tr>\n",
       "      <th>32763</th>\n",
       "      <td>1</td>\n",
       "      <td>UBC</td>\n",
       "      <td>19564.956990</td>\n",
       "      <td>1554.879578</td>\n",
       "    </tr>\n",
       "  </tbody>\n",
       "</table>\n",
       "<p>152 rows × 4 columns</p>\n",
       "</div>"
      ],
      "text/plain": [
       "       sample_id     gene_name     est_counts           tpm\n",
       "652            1    AC010970.2   24263.000000   2478.540000\n",
       "1481           1    AC246787.8   13601.133660   1630.865846\n",
       "3263           1           B2M   18599.995760   5728.604670\n",
       "4830           1         CCNL1   12811.258600   1282.913390\n",
       "4933           1          CD37    8314.153390   1529.731931\n",
       "4957           1          CD69    5977.999000    970.521000\n",
       "4961           1          CD74   39999.546260   6523.488970\n",
       "4962           1         CD79A    6328.999000   1099.270000\n",
       "5767           1          CLK1    6342.336148    990.738248\n",
       "6067           1        COX4I1    6154.036060   1206.193410\n",
       "6902           1  CTD-2328D6.1   34229.000000  22917.900000\n",
       "7213           1         CXCR4    9615.004000   1152.769000\n",
       "7623           1          DDX5   16163.780810   1949.643510\n",
       "8395           1        EEF1A1  122418.722590  11527.508390\n",
       "8436           1        EEF1B2    4042.919209   1009.985312\n",
       "8445           1         EEF1D    5190.624760   1112.533759\n",
       "8457           1         EEF1G   15359.587300   1871.892340\n",
       "8466           1          EEF2   17709.038530   1063.324490\n",
       "8543           1          EIF1   12382.338000   2025.544200\n",
       "8616           1        EIF4A2   10044.995600   1130.536190\n",
       "9054           1           EZR   27765.762000   1605.697100\n",
       "9556           1           FAU    5366.933640   1975.273720\n",
       "9881           1         FMNL1    9722.652700    911.484200\n",
       "10057          1          FTH1   14102.770400   3692.606400\n",
       "10623          1       GLTSCR2    7888.750510   1024.288520\n",
       "10683          1          GNAS    8236.593723   1323.455017\n",
       "10691          1        GNB2L1    8317.947070   2069.267000\n",
       "11008          1         GRASP    6219.006200   1406.452300\n",
       "11332          1         H3F3B   22242.952380   3172.993304\n",
       "11690          1         HLA-A   23548.641068   2526.748119\n",
       "...          ...           ...            ...           ...\n",
       "27871          1         RPS20   10592.459710   4462.236500\n",
       "27889          1         RPS21    3543.997000   3691.974290\n",
       "27893          1         RPS23   10612.878110   6416.408318\n",
       "27904          1         RPS24    4385.271750   2629.936484\n",
       "27915          1         RPS25    8066.967180   2155.741820\n",
       "27939          1         RPS27   18364.232400  18297.406600\n",
       "27940          1        RPS27A    9154.930860   3272.508080\n",
       "27960          1         RPS28    3405.481400    943.174500\n",
       "27962          1       RPS28P7     496.361000   1419.800000\n",
       "27964          1         RPS29    6309.554312   8519.849954\n",
       "27994          1          RPS3   10531.656580   3286.459810\n",
       "27995          1         RPS3A   14109.841720   3478.380620\n",
       "28035          1         RPS4X    7474.992020   1812.682506\n",
       "28061          1          RPS5    6171.101740   1823.324043\n",
       "28065          1          RPS6   17155.002000   3373.415500\n",
       "28085          1          RPS7    5922.375480   1568.880210\n",
       "28101          1          RPS8    8798.955710   2108.161580\n",
       "28104          1          RPS9    7959.277988   2919.663396\n",
       "28106          1          RPSA    8841.671800   1644.032810\n",
       "28778          1           SF1    8186.004270   1326.085863\n",
       "28794          1          SFPQ    8307.925700    954.542500\n",
       "29530          1         SMAP2    9471.998000   1268.576000\n",
       "29558          1        SMCHD1   13840.057710    918.705490\n",
       "30700          1        TAGLN2    6846.842000    921.281400\n",
       "31664          1        TMSB4X    4792.985650   1804.718500\n",
       "31795          1         TOMM7    1372.178380    922.921900\n",
       "31901          1          TPT1   26359.576610   6385.755490\n",
       "32405          1       TSC22D3   27901.028420   3378.124772\n",
       "32738          1         UBA52    5074.589600   1886.715760\n",
       "32763          1           UBC   19564.956990   1554.879578\n",
       "\n",
       "[152 rows x 4 columns]"
      ]
     },
     "execution_count": 158,
     "metadata": {},
     "output_type": "execute_result"
    }
   ],
   "source": [
    "# get outliers (http://stackoverflow.com/a/31502974/130164)\n",
    "df[((df.tpm - df.tpm.mean()) / df.tpm.std()).abs() > 3]"
   ]
  },
  {
   "cell_type": "code",
   "execution_count": 159,
   "metadata": {
    "collapsed": true
   },
   "outputs": [],
   "source": [
    "df=df[df['tpm']!=0]"
   ]
  },
  {
   "cell_type": "code",
   "execution_count": 160,
   "metadata": {
    "collapsed": false
   },
   "outputs": [],
   "source": [
    "df['logtpm'] = df.tpm.apply(np.log2)\n",
    "df['logcnt'] = df.est_counts.apply(np.log2)"
   ]
  },
  {
   "cell_type": "code",
   "execution_count": 161,
   "metadata": {
    "collapsed": false
   },
   "outputs": [
    {
     "data": {
      "text/plain": [
       "count    21822.000000\n",
       "mean         1.876540\n",
       "std          3.187812\n",
       "min        -25.593901\n",
       "25%         -0.525184\n",
       "50%          1.747749\n",
       "75%          4.235832\n",
       "max         14.484187\n",
       "Name: logtpm, dtype: float64"
      ]
     },
     "execution_count": 161,
     "metadata": {},
     "output_type": "execute_result"
    },
    {
     "data": {
      "image/png": "[encoded data removed]",
      "text/plain": [
       "<matplotlib.figure.Figure at 0x7feac1114f50>"
      ]
     },
     "metadata": {},
     "output_type": "display_data"
    }
   ],
   "source": [
    "df.logtpm.hist()\n",
    "df.logtpm.describe()"
   ]
  },
  {
   "cell_type": "markdown",
   "metadata": {},
   "source": [
    "What we want to do:\n",
    "Treat microarray and rnaseq data as two samples. How much does it look like they're the same phenotype?\n",
    "\n",
    "* Compare diffs\n",
    "* Do hierarchical clustering and see how it looks. Are patterns the same?\n",
    "* Look for differentially expressed genes, see how many are different (shouldn't be many)\n",
    "* Sort by most highly expressed transcripts in each sample. Compare ratio between expression of top two.\n",
    "\n",
    "\n",
    "Apparently running voom transformation on RNAseq data enables treating it like microarray data, i.e. doing linear modeling and GSEA."
   ]
  },
  {
   "cell_type": "code",
   "execution_count": 162,
   "metadata": {
    "collapsed": false
   },
   "outputs": [],
   "source": [
    "# get microarray data\n",
    "ma = pd.read_csv('../all_expressions.tsv', sep='\\t')"
   ]
  },
  {
   "cell_type": "code",
   "execution_count": 163,
   "metadata": {
    "collapsed": true
   },
   "outputs": [],
   "source": [
    "del ma['Unnamed: 0']\n",
    "del ma['ACCNUM']\n",
    "del ma['Relabel']\n",
    "del ma['DESC']"
   ]
  },
  {
   "cell_type": "code",
   "execution_count": 164,
   "metadata": {
    "collapsed": false
   },
   "outputs": [
    {
     "data": {
      "text/html": [
       "<div>\n",
       "<table border=\"1\" class=\"dataframe\">\n",
       "  <thead>\n",
       "    <tr style=\"text-align: right;\">\n",
       "      <th></th>\n",
       "      <th>geneid</th>\n",
       "      <th>probeid</th>\n",
       "      <th>PRB12534.Jurkat</th>\n",
       "      <th>PRB12535.Jurkat</th>\n",
       "      <th>PRB12536.Jurkat</th>\n",
       "      <th>PRB12537.IM.9</th>\n",
       "      <th>PRB12538.IM.9</th>\n",
       "      <th>PRB12539.IM.9</th>\n",
       "      <th>PRB12540.Raji</th>\n",
       "      <th>PRB12541.Raji</th>\n",
       "      <th>...</th>\n",
       "      <th>TEM_U133A_1 [TFH_E-MEXP-750|TEM_U133A_1]</th>\n",
       "      <th>TEM_U133A_2 [TFH_E-MEXP-750|TEM_U133A_2]</th>\n",
       "      <th>TEM_U133A_3 [TFH_E-MEXP-750|TEM_U133A_3]</th>\n",
       "      <th>TN_U133A_1 [TFH_E-MEXP-750|TN_U133A_1]</th>\n",
       "      <th>TN_U133A_2 [TFH_E-MEXP-750|TN_U133A_2]</th>\n",
       "      <th>TN_U133A_3 [TFH_E-MEXP-750|TN_U133A_3]</th>\n",
       "      <th>TH_1 [TREGs_GSE4527|GSM101518]</th>\n",
       "      <th>Treg_1 [TREGs_GSE4527|GSM101519]</th>\n",
       "      <th>TH_2 [TREGs_GSE4527|GSM101520]</th>\n",
       "      <th>Treg_2 [TREGs_GSE4527|GSM101521]</th>\n",
       "    </tr>\n",
       "  </thead>\n",
       "  <tbody>\n",
       "    <tr>\n",
       "      <th>0</th>\n",
       "      <td>RFC2</td>\n",
       "      <td>1053_at</td>\n",
       "      <td>2104.464</td>\n",
       "      <td>1913.695</td>\n",
       "      <td>1974.465</td>\n",
       "      <td>2428.428</td>\n",
       "      <td>2232.343</td>\n",
       "      <td>2470.156</td>\n",
       "      <td>831.009</td>\n",
       "      <td>713.614</td>\n",
       "      <td>...</td>\n",
       "      <td>278.508206</td>\n",
       "      <td>315.680926</td>\n",
       "      <td>325.445350</td>\n",
       "      <td>227.014010</td>\n",
       "      <td>298.255643</td>\n",
       "      <td>246.440867</td>\n",
       "      <td>317.871923</td>\n",
       "      <td>182.444126</td>\n",
       "      <td>481.930051</td>\n",
       "      <td>125.805188</td>\n",
       "    </tr>\n",
       "    <tr>\n",
       "      <th>1</th>\n",
       "      <td>RFC2</td>\n",
       "      <td>203696_s_at</td>\n",
       "      <td>2858.885</td>\n",
       "      <td>3889.223</td>\n",
       "      <td>2887.030</td>\n",
       "      <td>4171.271</td>\n",
       "      <td>4308.615</td>\n",
       "      <td>3523.738</td>\n",
       "      <td>1085.860</td>\n",
       "      <td>1109.435</td>\n",
       "      <td>...</td>\n",
       "      <td>278.508206</td>\n",
       "      <td>315.680926</td>\n",
       "      <td>325.445350</td>\n",
       "      <td>227.014010</td>\n",
       "      <td>298.255643</td>\n",
       "      <td>246.440867</td>\n",
       "      <td>317.871923</td>\n",
       "      <td>182.444126</td>\n",
       "      <td>481.930051</td>\n",
       "      <td>125.805188</td>\n",
       "    </tr>\n",
       "    <tr>\n",
       "      <th>2</th>\n",
       "      <td>HSPA6</td>\n",
       "      <td>117_at</td>\n",
       "      <td>189.528</td>\n",
       "      <td>110.972</td>\n",
       "      <td>160.200</td>\n",
       "      <td>432.932</td>\n",
       "      <td>261.238</td>\n",
       "      <td>280.899</td>\n",
       "      <td>184.187</td>\n",
       "      <td>178.548</td>\n",
       "      <td>...</td>\n",
       "      <td>12.987326</td>\n",
       "      <td>74.128591</td>\n",
       "      <td>141.683528</td>\n",
       "      <td>145.506877</td>\n",
       "      <td>21.656093</td>\n",
       "      <td>77.518896</td>\n",
       "      <td>82.051115</td>\n",
       "      <td>703.693696</td>\n",
       "      <td>194.230338</td>\n",
       "      <td>97.987345</td>\n",
       "    </tr>\n",
       "    <tr>\n",
       "      <th>3</th>\n",
       "      <td>HSPA6</td>\n",
       "      <td>213418_at</td>\n",
       "      <td>76.702</td>\n",
       "      <td>85.718</td>\n",
       "      <td>168.155</td>\n",
       "      <td>706.366</td>\n",
       "      <td>463.835</td>\n",
       "      <td>427.057</td>\n",
       "      <td>27.579</td>\n",
       "      <td>119.920</td>\n",
       "      <td>...</td>\n",
       "      <td>12.987326</td>\n",
       "      <td>74.128591</td>\n",
       "      <td>141.683528</td>\n",
       "      <td>145.506877</td>\n",
       "      <td>21.656093</td>\n",
       "      <td>77.518896</td>\n",
       "      <td>82.051115</td>\n",
       "      <td>703.693696</td>\n",
       "      <td>194.230338</td>\n",
       "      <td>97.987345</td>\n",
       "    </tr>\n",
       "    <tr>\n",
       "      <th>4</th>\n",
       "      <td>PAX8</td>\n",
       "      <td>121_at</td>\n",
       "      <td>1753.889</td>\n",
       "      <td>1291.766</td>\n",
       "      <td>1885.517</td>\n",
       "      <td>1561.437</td>\n",
       "      <td>1534.517</td>\n",
       "      <td>1540.394</td>\n",
       "      <td>1666.894</td>\n",
       "      <td>1625.360</td>\n",
       "      <td>...</td>\n",
       "      <td>26.766424</td>\n",
       "      <td>117.425553</td>\n",
       "      <td>58.012974</td>\n",
       "      <td>31.797787</td>\n",
       "      <td>102.044136</td>\n",
       "      <td>99.058819</td>\n",
       "      <td>147.641189</td>\n",
       "      <td>135.526908</td>\n",
       "      <td>38.741434</td>\n",
       "      <td>157.813189</td>\n",
       "    </tr>\n",
       "  </tbody>\n",
       "</table>\n",
       "<p>5 rows × 389 columns</p>\n",
       "</div>"
      ],
      "text/plain": [
       "  geneid      probeid  PRB12534.Jurkat  PRB12535.Jurkat  PRB12536.Jurkat  \\\n",
       "0   RFC2      1053_at         2104.464         1913.695         1974.465   \n",
       "1   RFC2  203696_s_at         2858.885         3889.223         2887.030   \n",
       "2  HSPA6       117_at          189.528          110.972          160.200   \n",
       "3  HSPA6    213418_at           76.702           85.718          168.155   \n",
       "4   PAX8       121_at         1753.889         1291.766         1885.517   \n",
       "\n",
       "   PRB12537.IM.9  PRB12538.IM.9  PRB12539.IM.9  PRB12540.Raji  PRB12541.Raji  \\\n",
       "0       2428.428       2232.343       2470.156        831.009        713.614   \n",
       "1       4171.271       4308.615       3523.738       1085.860       1109.435   \n",
       "2        432.932        261.238        280.899        184.187        178.548   \n",
       "3        706.366        463.835        427.057         27.579        119.920   \n",
       "4       1561.437       1534.517       1540.394       1666.894       1625.360   \n",
       "\n",
       "                 ...                 TEM_U133A_1 [TFH_E-MEXP-750|TEM_U133A_1]  \\\n",
       "0                ...                                               278.508206   \n",
       "1                ...                                               278.508206   \n",
       "2                ...                                                12.987326   \n",
       "3                ...                                                12.987326   \n",
       "4                ...                                                26.766424   \n",
       "\n",
       "   TEM_U133A_2 [TFH_E-MEXP-750|TEM_U133A_2]  \\\n",
       "0                                315.680926   \n",
       "1                                315.680926   \n",
       "2                                 74.128591   \n",
       "3                                 74.128591   \n",
       "4                                117.425553   \n",
       "\n",
       "   TEM_U133A_3 [TFH_E-MEXP-750|TEM_U133A_3]  \\\n",
       "0                                325.445350   \n",
       "1                                325.445350   \n",
       "2                                141.683528   \n",
       "3                                141.683528   \n",
       "4                                 58.012974   \n",
       "\n",
       "   TN_U133A_1 [TFH_E-MEXP-750|TN_U133A_1]  \\\n",
       "0                              227.014010   \n",
       "1                              227.014010   \n",
       "2                              145.506877   \n",
       "3                              145.506877   \n",
       "4                               31.797787   \n",
       "\n",
       "   TN_U133A_2 [TFH_E-MEXP-750|TN_U133A_2]  \\\n",
       "0                              298.255643   \n",
       "1                              298.255643   \n",
       "2                               21.656093   \n",
       "3                               21.656093   \n",
       "4                              102.044136   \n",
       "\n",
       "   TN_U133A_3 [TFH_E-MEXP-750|TN_U133A_3]  TH_1 [TREGs_GSE4527|GSM101518]  \\\n",
       "0                              246.440867                      317.871923   \n",
       "1                              246.440867                      317.871923   \n",
       "2                               77.518896                       82.051115   \n",
       "3                               77.518896                       82.051115   \n",
       "4                               99.058819                      147.641189   \n",
       "\n",
       "   Treg_1 [TREGs_GSE4527|GSM101519]  TH_2 [TREGs_GSE4527|GSM101520]  \\\n",
       "0                        182.444126                      481.930051   \n",
       "1                        182.444126                      481.930051   \n",
       "2                        703.693696                      194.230338   \n",
       "3                        703.693696                      194.230338   \n",
       "4                        135.526908                       38.741434   \n",
       "\n",
       "   Treg_2 [TREGs_GSE4527|GSM101521]  \n",
       "0                        125.805188  \n",
       "1                        125.805188  \n",
       "2                         97.987345  \n",
       "3                         97.987345  \n",
       "4                        157.813189  \n",
       "\n",
       "[5 rows x 389 columns]"
      ]
     },
     "execution_count": 164,
     "metadata": {},
     "output_type": "execute_result"
    }
   ],
   "source": [
    "ma.head()"
   ]
  },
  {
   "cell_type": "code",
   "execution_count": 165,
   "metadata": {
    "collapsed": false
   },
   "outputs": [
    {
     "name": "stdout",
     "output_type": "stream",
     "text": [
      "Bcell-naive-1 [HG-U133A] [IRIS_GSE22886|GSM565308]\n",
      "Bcell-naive-2 [HG-U133A] [IRIS_GSE22886|GSM565309]\n",
      "Bcell-naive-3 [HG-U133A] [IRIS_GSE22886|GSM565310]\n",
      "Bcell-naive-4 [HG-U133A] [IRIS_GSE22886|GSM565311]\n",
      "Bcell-naive-5 [HG-U133A] [IRIS_GSE22886|GSM565312]\n",
      "Bcell-naive-6 [HG-U133A] [IRIS_GSE22886|GSM565313]\n",
      "Bcell-naive-7 [HG-U133A] [IRIS_GSE22886|GSM565314]\n"
     ]
    }
   ],
   "source": [
    "for c in ma.columns:\n",
    "    if 'naive' in c.lower():\n",
    "        print c"
   ]
  },
  {
   "cell_type": "code",
   "execution_count": 166,
   "metadata": {
    "collapsed": false
   },
   "outputs": [
    {
     "name": "stdout",
     "output_type": "stream",
     "text": [
      "A_LW_neutrophil_U133A.CEL\n",
      "A_MF_neutrophils_U133A.CEL\n",
      "A_LW_neutrophil_U133A [Chtanova_immune|A_LW_neutrophil_U133A]\n",
      "A_MF_neutrophils_U133A [Chtanova_immune|A_MF_neutrophils_U133A]\n",
      "Neutrophil-Resting-1 [HG-U133A] [IRIS_GSE22886|GSM565378]\n",
      "Neutrophil-Resting-2 [HG-U133A] [IRIS_GSE22886|GSM565379]\n",
      "Neutrophil-Resting-3 [HG-U133A] [IRIS_GSE22886|GSM565380]\n",
      "Neutrophil-Resting-4 [HG-U133A] [IRIS_GSE22886|GSM565381]\n",
      "Neutrophil-Resting-5 [HG-U133A] [IRIS_GSE22886|GSM565382]\n"
     ]
    }
   ],
   "source": [
    "for c in ma.columns:\n",
    "    if 'neutrophil' in c.lower():\n",
    "        print c"
   ]
  },
  {
   "cell_type": "code",
   "execution_count": 167,
   "metadata": {
    "collapsed": false
   },
   "outputs": [],
   "source": [
    "ma = ma.set_index('geneid')[[\n",
    "        'Bcell-naive-1 [HG-U133A] [IRIS_GSE22886|GSM565308]',\n",
    "        'Bcell-naive-2 [HG-U133A] [IRIS_GSE22886|GSM565309]',\n",
    "        'Neutrophil-Resting-1 [HG-U133A] [IRIS_GSE22886|GSM565378]'\n",
    "    ]]"
   ]
  },
  {
   "cell_type": "code",
   "execution_count": 168,
   "metadata": {
    "collapsed": false
   },
   "outputs": [
    {
     "data": {
      "text/html": [
       "<div>\n",
       "<table border=\"1\" class=\"dataframe\">\n",
       "  <thead>\n",
       "    <tr style=\"text-align: right;\">\n",
       "      <th></th>\n",
       "      <th>Bcell</th>\n",
       "      <th>Bcell2</th>\n",
       "      <th>Neutrophil</th>\n",
       "    </tr>\n",
       "    <tr>\n",
       "      <th>geneid</th>\n",
       "      <th></th>\n",
       "      <th></th>\n",
       "      <th></th>\n",
       "    </tr>\n",
       "  </thead>\n",
       "  <tbody>\n",
       "    <tr>\n",
       "      <th>RFC2</th>\n",
       "      <td>178.716943</td>\n",
       "      <td>374.972101</td>\n",
       "      <td>177.474794</td>\n",
       "    </tr>\n",
       "    <tr>\n",
       "      <th>RFC2</th>\n",
       "      <td>178.716943</td>\n",
       "      <td>374.972101</td>\n",
       "      <td>177.474794</td>\n",
       "    </tr>\n",
       "    <tr>\n",
       "      <th>HSPA6</th>\n",
       "      <td>56.191778</td>\n",
       "      <td>150.986117</td>\n",
       "      <td>3185.117837</td>\n",
       "    </tr>\n",
       "    <tr>\n",
       "      <th>HSPA6</th>\n",
       "      <td>56.191778</td>\n",
       "      <td>150.986117</td>\n",
       "      <td>3185.117837</td>\n",
       "    </tr>\n",
       "    <tr>\n",
       "      <th>PAX8</th>\n",
       "      <td>339.781267</td>\n",
       "      <td>298.001814</td>\n",
       "      <td>278.156498</td>\n",
       "    </tr>\n",
       "  </tbody>\n",
       "</table>\n",
       "</div>"
      ],
      "text/plain": [
       "             Bcell      Bcell2   Neutrophil\n",
       "geneid                                     \n",
       "RFC2    178.716943  374.972101   177.474794\n",
       "RFC2    178.716943  374.972101   177.474794\n",
       "HSPA6    56.191778  150.986117  3185.117837\n",
       "HSPA6    56.191778  150.986117  3185.117837\n",
       "PAX8    339.781267  298.001814   278.156498"
      ]
     },
     "execution_count": 168,
     "metadata": {},
     "output_type": "execute_result"
    }
   ],
   "source": [
    "ma.columns = ['Bcell', 'Bcell2', 'Neutrophil'] # related, unrelated\n",
    "ma.head()"
   ]
  },
  {
   "cell_type": "code",
   "execution_count": 169,
   "metadata": {
    "collapsed": false
   },
   "outputs": [
    {
     "data": {
      "text/html": [
       "<div>\n",
       "<table border=\"1\" class=\"dataframe\">\n",
       "  <thead>\n",
       "    <tr style=\"text-align: right;\">\n",
       "      <th></th>\n",
       "      <th>logtpm</th>\n",
       "      <th>logcnt</th>\n",
       "    </tr>\n",
       "    <tr>\n",
       "      <th>gene_name</th>\n",
       "      <th></th>\n",
       "      <th></th>\n",
       "    </tr>\n",
       "  </thead>\n",
       "  <tbody>\n",
       "    <tr>\n",
       "      <th>A1BG</th>\n",
       "      <td>3.479702</td>\n",
       "      <td>6.326111</td>\n",
       "    </tr>\n",
       "    <tr>\n",
       "      <th>A1CF</th>\n",
       "      <td>-1.387362</td>\n",
       "      <td>4.173319</td>\n",
       "    </tr>\n",
       "    <tr>\n",
       "      <th>A2M</th>\n",
       "      <td>0.294148</td>\n",
       "      <td>1.584963</td>\n",
       "    </tr>\n",
       "    <tr>\n",
       "      <th>A2ML1</th>\n",
       "      <td>1.463027</td>\n",
       "      <td>4.453676</td>\n",
       "    </tr>\n",
       "    <tr>\n",
       "      <th>A2MP1</th>\n",
       "      <td>-3.435319</td>\n",
       "      <td>1.000000</td>\n",
       "    </tr>\n",
       "  </tbody>\n",
       "</table>\n",
       "</div>"
      ],
      "text/plain": [
       "             logtpm    logcnt\n",
       "gene_name                    \n",
       "A1BG       3.479702  6.326111\n",
       "A1CF      -1.387362  4.173319\n",
       "A2M        0.294148  1.584963\n",
       "A2ML1      1.463027  4.453676\n",
       "A2MP1     -3.435319  1.000000"
      ]
     },
     "execution_count": 169,
     "metadata": {},
     "output_type": "execute_result"
    }
   ],
   "source": [
    "rna = df.set_index('gene_name')[['logtpm', 'logcnt']]\n",
    "rna.head()"
   ]
  },
  {
   "cell_type": "code",
   "execution_count": 170,
   "metadata": {
    "collapsed": false
   },
   "outputs": [
    {
     "data": {
      "text/plain": [
       "(Index([u'RFC2', u'RFC2', u'HSPA6', u'HSPA6', u'PAX8', u'PAX8', u'PAX8',\n",
       "        u'PAX8', u'PAX8', u'PAX8',\n",
       "        ...\n",
       "        u'SCAF4', u'SCAF4', u'ZNF324B', u'ALS2CL', u'RNF126P1', u'TUBBP5',\n",
       "        u'KCNE4', u'GALR3', u'TMEM231', u'NPEPL1'],\n",
       "       dtype='object', name=u'geneid', length=17918),\n",
       " Index([u'A1BG', u'A1CF', u'A2M', u'A2ML1', u'A2MP1', u'A3GALT2', u'A4GALT',\n",
       "        u'AAAS', u'AACS', u'AACSP1',\n",
       "        ...\n",
       "        u'ZZZ3', u'bP-21201H5.1', u'bP-21264C1.3', u'bP-2171C21.4',\n",
       "        u'bP-2171C21.6', u'bP-2189O9.1', u'bP-2189O9.2', u'bP-2189O9.4', u'pk',\n",
       "        u'yR211F11.2'],\n",
       "       dtype='object', name=u'gene_name', length=21822))"
      ]
     },
     "execution_count": 170,
     "metadata": {},
     "output_type": "execute_result"
    }
   ],
   "source": [
    "ma.index, rna.index"
   ]
  },
  {
   "cell_type": "code",
   "execution_count": 171,
   "metadata": {
    "collapsed": false
   },
   "outputs": [],
   "source": [
    "assert len(rna.index) == len(rna.index.unique())"
   ]
  },
  {
   "cell_type": "code",
   "execution_count": 172,
   "metadata": {
    "collapsed": false
   },
   "outputs": [],
   "source": [
    "ma = ma.reset_index().groupby(\"geneid\").agg('mean')\n"
   ]
  },
  {
   "cell_type": "code",
   "execution_count": 173,
   "metadata": {
    "collapsed": false
   },
   "outputs": [
    {
     "data": {
      "text/html": [
       "<div>\n",
       "<table border=\"1\" class=\"dataframe\">\n",
       "  <thead>\n",
       "    <tr style=\"text-align: right;\">\n",
       "      <th></th>\n",
       "      <th>Bcell</th>\n",
       "      <th>Bcell2</th>\n",
       "      <th>Neutrophil</th>\n",
       "    </tr>\n",
       "    <tr>\n",
       "      <th>geneid</th>\n",
       "      <th></th>\n",
       "      <th></th>\n",
       "      <th></th>\n",
       "    </tr>\n",
       "  </thead>\n",
       "  <tbody>\n",
       "    <tr>\n",
       "      <th>A1CF</th>\n",
       "      <td>592.243979</td>\n",
       "      <td>430.408190</td>\n",
       "      <td>469.842065</td>\n",
       "    </tr>\n",
       "    <tr>\n",
       "      <th>A2M</th>\n",
       "      <td>49.771470</td>\n",
       "      <td>142.655380</td>\n",
       "      <td>144.998331</td>\n",
       "    </tr>\n",
       "    <tr>\n",
       "      <th>A4GALT</th>\n",
       "      <td>81.824334</td>\n",
       "      <td>37.759109</td>\n",
       "      <td>17.479528</td>\n",
       "    </tr>\n",
       "    <tr>\n",
       "      <th>A4GNT</th>\n",
       "      <td>595.486500</td>\n",
       "      <td>404.809564</td>\n",
       "      <td>421.491447</td>\n",
       "    </tr>\n",
       "    <tr>\n",
       "      <th>AAAS</th>\n",
       "      <td>39.527998</td>\n",
       "      <td>38.934873</td>\n",
       "      <td>56.803877</td>\n",
       "    </tr>\n",
       "  </tbody>\n",
       "</table>\n",
       "</div>"
      ],
      "text/plain": [
       "             Bcell      Bcell2  Neutrophil\n",
       "geneid                                    \n",
       "A1CF    592.243979  430.408190  469.842065\n",
       "A2M      49.771470  142.655380  144.998331\n",
       "A4GALT   81.824334   37.759109   17.479528\n",
       "A4GNT   595.486500  404.809564  421.491447\n",
       "AAAS     39.527998   38.934873   56.803877"
      ]
     },
     "execution_count": 173,
     "metadata": {},
     "output_type": "execute_result"
    }
   ],
   "source": [
    "ma.head()"
   ]
  },
  {
   "cell_type": "code",
   "execution_count": 174,
   "metadata": {
    "collapsed": false
   },
   "outputs": [],
   "source": [
    "assert len(ma.index) == len(ma.index.unique())"
   ]
  },
  {
   "cell_type": "code",
   "execution_count": 175,
   "metadata": {
    "collapsed": false
   },
   "outputs": [
    {
     "name": "stdout",
     "output_type": "stream",
     "text": [
      "compare microarray (left), rna (right) gene names\n",
      "uniques:\n",
      "intersect:  10087\n",
      "in left ONLY : not in right: 890\n",
      "in right ONLY : not in left: 11735\n"
     ]
    }
   ],
   "source": [
    "def compare_two_lists(a,b):\n",
    "    x,y = set(a), set(b)\n",
    "    print 'uniques:'\n",
    "    print 'intersect: ', len(x&y)\n",
    "    print 'in left ONLY : not in right:', len(x-y)\n",
    "    print 'in right ONLY : not in left:', len(y-x)\n",
    "print 'compare microarray (left), rna (right) gene names'\n",
    "compare_two_lists(ma.index, rna.index)"
   ]
  },
  {
   "cell_type": "markdown",
   "metadata": {},
   "source": [
    "Why are there so many new genes in RNA?"
   ]
  },
  {
   "cell_type": "code",
   "execution_count": 176,
   "metadata": {
    "collapsed": false
   },
   "outputs": [
    {
     "data": {
      "text/html": [
       "<div>\n",
       "<table border=\"1\" class=\"dataframe\">\n",
       "  <thead>\n",
       "    <tr style=\"text-align: right;\">\n",
       "      <th></th>\n",
       "      <th>Bcell</th>\n",
       "      <th>Bcell2</th>\n",
       "      <th>Neutrophil</th>\n",
       "      <th>logtpm</th>\n",
       "      <th>logcnt</th>\n",
       "    </tr>\n",
       "  </thead>\n",
       "  <tbody>\n",
       "    <tr>\n",
       "      <th>A1CF</th>\n",
       "      <td>592.243979</td>\n",
       "      <td>430.408190</td>\n",
       "      <td>469.842065</td>\n",
       "      <td>-1.387362</td>\n",
       "      <td>4.173319</td>\n",
       "    </tr>\n",
       "    <tr>\n",
       "      <th>A2M</th>\n",
       "      <td>49.771470</td>\n",
       "      <td>142.655380</td>\n",
       "      <td>144.998331</td>\n",
       "      <td>0.294148</td>\n",
       "      <td>1.584963</td>\n",
       "    </tr>\n",
       "    <tr>\n",
       "      <th>A4GALT</th>\n",
       "      <td>81.824334</td>\n",
       "      <td>37.759109</td>\n",
       "      <td>17.479528</td>\n",
       "      <td>-0.765860</td>\n",
       "      <td>1.000000</td>\n",
       "    </tr>\n",
       "    <tr>\n",
       "      <th>AAAS</th>\n",
       "      <td>39.527998</td>\n",
       "      <td>38.934873</td>\n",
       "      <td>56.803877</td>\n",
       "      <td>3.380071</td>\n",
       "      <td>5.807354</td>\n",
       "    </tr>\n",
       "    <tr>\n",
       "      <th>AACS</th>\n",
       "      <td>618.230944</td>\n",
       "      <td>495.105056</td>\n",
       "      <td>297.532754</td>\n",
       "      <td>4.844738</td>\n",
       "      <td>7.170448</td>\n",
       "    </tr>\n",
       "  </tbody>\n",
       "</table>\n",
       "</div>"
      ],
      "text/plain": [
       "             Bcell      Bcell2  Neutrophil    logtpm    logcnt\n",
       "A1CF    592.243979  430.408190  469.842065 -1.387362  4.173319\n",
       "A2M      49.771470  142.655380  144.998331  0.294148  1.584963\n",
       "A4GALT   81.824334   37.759109   17.479528 -0.765860  1.000000\n",
       "AAAS     39.527998   38.934873   56.803877  3.380071  5.807354\n",
       "AACS    618.230944  495.105056  297.532754  4.844738  7.170448"
      ]
     },
     "execution_count": 176,
     "metadata": {},
     "output_type": "execute_result"
    }
   ],
   "source": [
    "intersect= pd.merge(ma, rna, left_index=True,right_index=True, how='inner')\n",
    "assert intersect.shape[0] == len(set(ma.index) & set(rna.index))\n",
    "intersect.head()"
   ]
  },
  {
   "cell_type": "code",
   "execution_count": 177,
   "metadata": {
    "collapsed": true
   },
   "outputs": [],
   "source": [
    "# apply log2 to all microarray columns\n",
    "intersect['Bcell'] = intersect.Bcell.apply(np.log2)\n",
    "intersect['Bcell2'] = intersect.Bcell2.apply(np.log2)\n",
    "intersect['Neutrophil'] = intersect.Neutrophil.apply(np.log2)"
   ]
  },
  {
   "cell_type": "code",
   "execution_count": 178,
   "metadata": {
    "collapsed": false
   },
   "outputs": [],
   "source": [
    "from sklearn.preprocessing import scale\n",
    "intersect = intersect.apply(lambda col: scale(col))"
   ]
  },
  {
   "cell_type": "code",
   "execution_count": 179,
   "metadata": {
    "collapsed": false
   },
   "outputs": [
    {
     "data": {
      "text/html": [
       "<div>\n",
       "<table border=\"1\" class=\"dataframe\">\n",
       "  <thead>\n",
       "    <tr style=\"text-align: right;\">\n",
       "      <th></th>\n",
       "      <th>Bcell</th>\n",
       "      <th>Bcell2</th>\n",
       "      <th>Neutrophil</th>\n",
       "      <th>logtpm</th>\n",
       "      <th>logcnt</th>\n",
       "    </tr>\n",
       "  </thead>\n",
       "  <tbody>\n",
       "    <tr>\n",
       "      <th>A1CF</th>\n",
       "      <td>0.508270</td>\n",
       "      <td>0.270443</td>\n",
       "      <td>0.434754</td>\n",
       "      <td>-1.334856</td>\n",
       "      <td>-0.617159</td>\n",
       "    </tr>\n",
       "    <tr>\n",
       "      <th>A2M</th>\n",
       "      <td>-1.484971</td>\n",
       "      <td>-0.583638</td>\n",
       "      <td>-0.376874</td>\n",
       "      <td>-0.800836</td>\n",
       "      <td>-1.436423</td>\n",
       "    </tr>\n",
       "    <tr>\n",
       "      <th>A4GALT</th>\n",
       "      <td>-1.084844</td>\n",
       "      <td>-1.611662</td>\n",
       "      <td>-1.837445</td>\n",
       "      <td>-1.137477</td>\n",
       "      <td>-1.621574</td>\n",
       "    </tr>\n",
       "    <tr>\n",
       "      <th>AAAS</th>\n",
       "      <td>-1.670439</td>\n",
       "      <td>-1.587946</td>\n",
       "      <td>-1.023814</td>\n",
       "      <td>0.179201</td>\n",
       "      <td>-0.099956</td>\n",
       "    </tr>\n",
       "    <tr>\n",
       "      <th>AACS</th>\n",
       "      <td>0.542834</td>\n",
       "      <td>0.378749</td>\n",
       "      <td>0.119352</td>\n",
       "      <td>0.644354</td>\n",
       "      <td>0.331490</td>\n",
       "    </tr>\n",
       "  </tbody>\n",
       "</table>\n",
       "</div>"
      ],
      "text/plain": [
       "           Bcell    Bcell2  Neutrophil    logtpm    logcnt\n",
       "A1CF    0.508270  0.270443    0.434754 -1.334856 -0.617159\n",
       "A2M    -1.484971 -0.583638   -0.376874 -0.800836 -1.436423\n",
       "A4GALT -1.084844 -1.611662   -1.837445 -1.137477 -1.621574\n",
       "AAAS   -1.670439 -1.587946   -1.023814  0.179201 -0.099956\n",
       "AACS    0.542834  0.378749    0.119352  0.644354  0.331490"
      ]
     },
     "execution_count": 179,
     "metadata": {},
     "output_type": "execute_result"
    }
   ],
   "source": [
    "intersect.head()"
   ]
  },
  {
   "cell_type": "code",
   "execution_count": 180,
   "metadata": {
    "collapsed": false,
    "scrolled": true
   },
   "outputs": [
    {
     "data": {
      "text/html": [
       "<div>\n",
       "<table border=\"1\" class=\"dataframe\">\n",
       "  <thead>\n",
       "    <tr style=\"text-align: right;\">\n",
       "      <th></th>\n",
       "      <th>Bcell</th>\n",
       "      <th>Bcell2</th>\n",
       "      <th>Neutrophil</th>\n",
       "      <th>logtpm</th>\n",
       "      <th>logcnt</th>\n",
       "    </tr>\n",
       "  </thead>\n",
       "  <tbody>\n",
       "    <tr>\n",
       "      <th>count</th>\n",
       "      <td>1.008700e+04</td>\n",
       "      <td>1.008700e+04</td>\n",
       "      <td>1.008700e+04</td>\n",
       "      <td>1.008700e+04</td>\n",
       "      <td>1.008700e+04</td>\n",
       "    </tr>\n",
       "    <tr>\n",
       "      <th>mean</th>\n",
       "      <td>-2.947644e-16</td>\n",
       "      <td>6.110794e-16</td>\n",
       "      <td>2.445391e-16</td>\n",
       "      <td>1.388907e-16</td>\n",
       "      <td>1.349394e-17</td>\n",
       "    </tr>\n",
       "    <tr>\n",
       "      <th>std</th>\n",
       "      <td>1.000050e+00</td>\n",
       "      <td>1.000050e+00</td>\n",
       "      <td>1.000050e+00</td>\n",
       "      <td>1.000050e+00</td>\n",
       "      <td>1.000050e+00</td>\n",
       "    </tr>\n",
       "    <tr>\n",
       "      <th>min</th>\n",
       "      <td>-5.441249e+00</td>\n",
       "      <td>-4.036565e+00</td>\n",
       "      <td>-4.265533e+00</td>\n",
       "      <td>-7.151585e+00</td>\n",
       "      <td>-7.615738e+00</td>\n",
       "    </tr>\n",
       "    <tr>\n",
       "      <th>25%</th>\n",
       "      <td>-5.947529e-01</td>\n",
       "      <td>-5.979671e-01</td>\n",
       "      <td>-6.360745e-01</td>\n",
       "      <td>-7.153545e-01</td>\n",
       "      <td>-7.631880e-01</td>\n",
       "    </tr>\n",
       "    <tr>\n",
       "      <th>50%</th>\n",
       "      <td>1.945839e-01</td>\n",
       "      <td>1.660480e-01</td>\n",
       "      <td>7.681134e-02</td>\n",
       "      <td>1.052155e-01</td>\n",
       "      <td>9.060059e-02</td>\n",
       "    </tr>\n",
       "    <tr>\n",
       "      <th>75%</th>\n",
       "      <td>6.704161e-01</td>\n",
       "      <td>6.562683e-01</td>\n",
       "      <td>5.979585e-01</td>\n",
       "      <td>7.502315e-01</td>\n",
       "      <td>7.661762e-01</td>\n",
       "    </tr>\n",
       "    <tr>\n",
       "      <th>max</th>\n",
       "      <td>4.236374e+00</td>\n",
       "      <td>4.130513e+00</td>\n",
       "      <td>4.015373e+00</td>\n",
       "      <td>3.210740e+00</td>\n",
       "      <td>2.900753e+00</td>\n",
       "    </tr>\n",
       "  </tbody>\n",
       "</table>\n",
       "</div>"
      ],
      "text/plain": [
       "              Bcell        Bcell2    Neutrophil        logtpm        logcnt\n",
       "count  1.008700e+04  1.008700e+04  1.008700e+04  1.008700e+04  1.008700e+04\n",
       "mean  -2.947644e-16  6.110794e-16  2.445391e-16  1.388907e-16  1.349394e-17\n",
       "std    1.000050e+00  1.000050e+00  1.000050e+00  1.000050e+00  1.000050e+00\n",
       "min   -5.441249e+00 -4.036565e+00 -4.265533e+00 -7.151585e+00 -7.615738e+00\n",
       "25%   -5.947529e-01 -5.979671e-01 -6.360745e-01 -7.153545e-01 -7.631880e-01\n",
       "50%    1.945839e-01  1.660480e-01  7.681134e-02  1.052155e-01  9.060059e-02\n",
       "75%    6.704161e-01  6.562683e-01  5.979585e-01  7.502315e-01  7.661762e-01\n",
       "max    4.236374e+00  4.130513e+00  4.015373e+00  3.210740e+00  2.900753e+00"
      ]
     },
     "execution_count": 180,
     "metadata": {},
     "output_type": "execute_result"
    }
   ],
   "source": [
    "intersect.describe()"
   ]
  },
  {
   "cell_type": "code",
   "execution_count": 181,
   "metadata": {
    "collapsed": false
   },
   "outputs": [
    {
     "data": {
      "text/plain": [
       "<matplotlib.axes._subplots.AxesSubplot at 0x7feac0f5ed10>"
      ]
     },
     "execution_count": 181,
     "metadata": {},
     "output_type": "execute_result"
    },
    {
     "data": {
      "image/png": "[encoded data removed]",
      "text/plain": [
       "<matplotlib.figure.Figure at 0x7feac0f645d0>"
      ]
     },
     "metadata": {},
     "output_type": "display_data"
    }
   ],
   "source": [
    "(intersect.Bcell - intersect.logtpm).hist()"
   ]
  },
  {
   "cell_type": "code",
   "execution_count": 182,
   "metadata": {
    "collapsed": false
   },
   "outputs": [
    {
     "data": {
      "text/plain": [
       "<matplotlib.axes._subplots.AxesSubplot at 0x7feac0dc8790>"
      ]
     },
     "execution_count": 182,
     "metadata": {},
     "output_type": "execute_result"
    },
    {
     "data": {
      "image/png": "[encoded data removed]",
      "text/plain": [
       "<matplotlib.figure.Figure at 0x7feac0dc2d10>"
      ]
     },
     "metadata": {},
     "output_type": "display_data"
    }
   ],
   "source": [
    "(intersect.Bcell - intersect.logtpm).abs().hist()"
   ]
  },
  {
   "cell_type": "code",
   "execution_count": 183,
   "metadata": {
    "collapsed": false
   },
   "outputs": [
    {
     "data": {
      "text/plain": [
       "<matplotlib.axes._subplots.AxesSubplot at 0x7feac0b1b510>"
      ]
     },
     "execution_count": 183,
     "metadata": {},
     "output_type": "execute_result"
    },
    {
     "data": {
      "image/png": "[encoded data removed]",
      "text/plain": [
       "<matplotlib.figure.Figure at 0x7feac1628850>"
      ]
     },
     "metadata": {},
     "output_type": "display_data"
    }
   ],
   "source": [
    "(intersect.Bcell - intersect.logcnt).hist()"
   ]
  },
  {
   "cell_type": "code",
   "execution_count": 184,
   "metadata": {
    "collapsed": false
   },
   "outputs": [
    {
     "data": {
      "text/plain": [
       "<matplotlib.axes._subplots.AxesSubplot at 0x7feac0abc710>"
      ]
     },
     "execution_count": 184,
     "metadata": {},
     "output_type": "execute_result"
    },
    {
     "data": {
      "image/png": "[encoded data removed]",
      "text/plain": [
       "<matplotlib.figure.Figure at 0x7feac0a43c90>"
      ]
     },
     "metadata": {},
     "output_type": "display_data"
    }
   ],
   "source": [
    "(intersect.Bcell - intersect.logcnt).abs().hist()"
   ]
  },
  {
   "cell_type": "markdown",
   "metadata": {},
   "source": [
    "other cell type"
   ]
  },
  {
   "cell_type": "code",
   "execution_count": 185,
   "metadata": {
    "collapsed": false
   },
   "outputs": [
    {
     "data": {
      "text/plain": [
       "<matplotlib.axes._subplots.AxesSubplot at 0x7feac09b9210>"
      ]
     },
     "execution_count": 185,
     "metadata": {},
     "output_type": "execute_result"
    },
    {
     "data": {
      "image/png": "[encoded data removed]",
      "text/plain": [
       "<matplotlib.figure.Figure at 0x7feac09450d0>"
      ]
     },
     "metadata": {},
     "output_type": "display_data"
    }
   ],
   "source": [
    "(intersect.Neutrophil - intersect.logcnt).hist()"
   ]
  },
  {
   "cell_type": "code",
   "execution_count": 186,
   "metadata": {
    "collapsed": false
   },
   "outputs": [
    {
     "data": {
      "text/plain": [
       "<matplotlib.axes._subplots.AxesSubplot at 0x7feac0926650>"
      ]
     },
     "execution_count": 186,
     "metadata": {},
     "output_type": "execute_result"
    },
    {
     "data": {
      "image/png": "[encoded data removed]",
      "text/plain": [
       "<matplotlib.figure.Figure at 0x7feac0a5eb10>"
      ]
     },
     "metadata": {},
     "output_type": "display_data"
    }
   ],
   "source": [
    "(intersect.Neutrophil - intersect.logcnt).abs().hist()"
   ]
  },
  {
   "cell_type": "code",
   "execution_count": 187,
   "metadata": {
    "collapsed": false
   },
   "outputs": [
    {
     "data": {
      "text/plain": [
       "<matplotlib.axes._subplots.AxesSubplot at 0x7feac0968110>"
      ]
     },
     "execution_count": 187,
     "metadata": {},
     "output_type": "execute_result"
    },
    {
     "data": {
      "image/png": "[encoded data removed]",
      "text/plain": [
       "<matplotlib.figure.Figure at 0x7feac084ab90>"
      ]
     },
     "metadata": {},
     "output_type": "display_data"
    }
   ],
   "source": [
    "(intersect.Neutrophil - intersect.logtpm).hist()"
   ]
  },
  {
   "cell_type": "code",
   "execution_count": 188,
   "metadata": {
    "collapsed": false
   },
   "outputs": [
    {
     "data": {
      "text/plain": [
       "<matplotlib.axes._subplots.AxesSubplot at 0x7feac0712590>"
      ]
     },
     "execution_count": 188,
     "metadata": {},
     "output_type": "execute_result"
    },
    {
     "data": {
      "image/png": "[encoded data removed]",
      "text/plain": [
       "<matplotlib.figure.Figure at 0x7feac0853610>"
      ]
     },
     "metadata": {},
     "output_type": "display_data"
    }
   ],
   "source": [
    "(intersect.Neutrophil - intersect.logtpm).abs().hist()"
   ]
  },
  {
   "cell_type": "markdown",
   "metadata": {},
   "source": [
    "Difference plots between RNA-seq, microarray versions of B-cells naive look exactly like difference plots between RNA-seq B-cells naive and microarray neutrophil. Even when you normalize to 0 mean, unit variance first. Bad!"
   ]
  },
  {
   "cell_type": "markdown",
   "metadata": {
    "collapsed": true
   },
   "source": [
    "# Difference between 2 microarray lines that should be different.\n",
    "\n",
    "* What's the baseline difference we expect?\n",
    "* Is filtering to marker genes helpful in seeing the difference? Is there a lot of noise otherwise?\n",
    "\n",
    "Here's the baseline difference, without filtering to marker genes. Looks pretty similar overall."
   ]
  },
  {
   "cell_type": "code",
   "execution_count": 189,
   "metadata": {
    "collapsed": false
   },
   "outputs": [
    {
     "data": {
      "text/plain": [
       "<matplotlib.axes._subplots.AxesSubplot at 0x7feac059fe10>"
      ]
     },
     "execution_count": 189,
     "metadata": {},
     "output_type": "execute_result"
    },
    {
     "data": {
      "image/png": "[encoded data removed]",
      "text/plain": [
       "<matplotlib.figure.Figure at 0x7feac071c1d0>"
      ]
     },
     "metadata": {},
     "output_type": "display_data"
    }
   ],
   "source": [
    "(intersect.Neutrophil - intersect.Bcell).abs().hist()"
   ]
  },
  {
   "cell_type": "markdown",
   "metadata": {},
   "source": [
    "Let's load up marker genes from Bindea, since we saw that there was not much noise there."
   ]
  },
  {
   "cell_type": "code",
   "execution_count": 190,
   "metadata": {
    "collapsed": false
   },
   "outputs": [
    {
     "data": {
      "text/html": [
       "<div>\n",
       "<table border=\"1\" class=\"dataframe\">\n",
       "  <thead>\n",
       "    <tr style=\"text-align: right;\">\n",
       "      <th></th>\n",
       "      <th>B cells</th>\n",
       "      <th>Blood vessels</th>\n",
       "      <th>CD8 T cells</th>\n",
       "      <th>Cytotoxic cells</th>\n",
       "      <th>DC</th>\n",
       "      <th>Eosinophils</th>\n",
       "      <th>Lymph vessels</th>\n",
       "      <th>Macrophages</th>\n",
       "      <th>Mast cells</th>\n",
       "      <th>NK CD56bright cells</th>\n",
       "      <th>...</th>\n",
       "      <th>TReg</th>\n",
       "      <th>Tcm</th>\n",
       "      <th>Tem</th>\n",
       "      <th>Tgd</th>\n",
       "      <th>Th1 cells</th>\n",
       "      <th>Th17 cells</th>\n",
       "      <th>Th2 cells</th>\n",
       "      <th>aDC</th>\n",
       "      <th>iDC</th>\n",
       "      <th>pDC</th>\n",
       "    </tr>\n",
       "  </thead>\n",
       "  <tbody>\n",
       "    <tr>\n",
       "      <th>0</th>\n",
       "      <td>207819_s_at</td>\n",
       "      <td>204677_at</td>\n",
       "      <td>218405_at</td>\n",
       "      <td>209870_s_at</td>\n",
       "      <td>206407_s_at</td>\n",
       "      <td>205566_at</td>\n",
       "      <td>206742_at</td>\n",
       "      <td>203381_s_at</td>\n",
       "      <td>203196_at</td>\n",
       "      <td>215908_at</td>\n",
       "      <td>...</td>\n",
       "      <td>221333_at</td>\n",
       "      <td>203747_at</td>\n",
       "      <td>212609_s_at</td>\n",
       "      <td>205103_at</td>\n",
       "      <td>213419_at</td>\n",
       "      <td>208402_at</td>\n",
       "      <td>213245_at</td>\n",
       "      <td>207533_at</td>\n",
       "      <td>209735_at</td>\n",
       "      <td>206148_at</td>\n",
       "    </tr>\n",
       "    <tr>\n",
       "      <th>1</th>\n",
       "      <td>221234_s_at</td>\n",
       "      <td>NaN</td>\n",
       "      <td>217729_s_at</td>\n",
       "      <td>221087_s_at</td>\n",
       "      <td>207900_at</td>\n",
       "      <td>49452_at</td>\n",
       "      <td>204879_at</td>\n",
       "      <td>218673_s_at</td>\n",
       "      <td>206281_at</td>\n",
       "      <td>215409_at</td>\n",
       "      <td>...</td>\n",
       "      <td>221334_s_at</td>\n",
       "      <td>216197_at</td>\n",
       "      <td>210109_at</td>\n",
       "      <td>207840_at</td>\n",
       "      <td>40148_at</td>\n",
       "      <td>216876_s_at</td>\n",
       "      <td>220841_s_at</td>\n",
       "      <td>219424_at</td>\n",
       "      <td>202201_at</td>\n",
       "      <td>NaN</td>\n",
       "    </tr>\n",
       "    <tr>\n",
       "      <th>2</th>\n",
       "      <td>219497_s_at</td>\n",
       "      <td>NaN</td>\n",
       "      <td>209871_s_at</td>\n",
       "      <td>214450_at</td>\n",
       "      <td>207861_at</td>\n",
       "      <td>43427_at</td>\n",
       "      <td>209946_at</td>\n",
       "      <td>214452_at</td>\n",
       "      <td>205428_s_at</td>\n",
       "      <td>204014_at</td>\n",
       "      <td>...</td>\n",
       "      <td>NaN</td>\n",
       "      <td>208442_s_at</td>\n",
       "      <td>206978_at</td>\n",
       "      <td>203562_at</td>\n",
       "      <td>201525_at</td>\n",
       "      <td>205707_at</td>\n",
       "      <td>220842_at</td>\n",
       "      <td>210029_at</td>\n",
       "      <td>220162_s_at</td>\n",
       "      <td>NaN</td>\n",
       "    </tr>\n",
       "    <tr>\n",
       "      <th>3</th>\n",
       "      <td>210347_s_at</td>\n",
       "      <td>NaN</td>\n",
       "      <td>219168_s_at</td>\n",
       "      <td>204794_at</td>\n",
       "      <td>207277_at</td>\n",
       "      <td>221928_at</td>\n",
       "      <td>NaN</td>\n",
       "      <td>214390_s_at</td>\n",
       "      <td>206676_at</td>\n",
       "      <td>204015_s_at</td>\n",
       "      <td>...</td>\n",
       "      <td>NaN</td>\n",
       "      <td>210858_x_at</td>\n",
       "      <td>207794_at</td>\n",
       "      <td>211144_x_at</td>\n",
       "      <td>212062_at</td>\n",
       "      <td>206419_at</td>\n",
       "      <td>221569_at</td>\n",
       "      <td>205569_at</td>\n",
       "      <td>210325_at</td>\n",
       "      <td>NaN</td>\n",
       "    </tr>\n",
       "    <tr>\n",
       "      <th>4</th>\n",
       "      <td>206255_at</td>\n",
       "      <td>NaN</td>\n",
       "      <td>64432_at</td>\n",
       "      <td>37145_at</td>\n",
       "      <td>205404_at</td>\n",
       "      <td>222195_s_at</td>\n",
       "      <td>NaN</td>\n",
       "      <td>208075_s_at</td>\n",
       "      <td>214533_at</td>\n",
       "      <td>205906_at</td>\n",
       "      <td>...</td>\n",
       "      <td>NaN</td>\n",
       "      <td>207686_s_at</td>\n",
       "      <td>208719_s_at</td>\n",
       "      <td>216920_s_at</td>\n",
       "      <td>201641_at</td>\n",
       "      <td>NaN</td>\n",
       "      <td>214373_at</td>\n",
       "      <td>218400_at</td>\n",
       "      <td>206749_at</td>\n",
       "      <td>NaN</td>\n",
       "    </tr>\n",
       "  </tbody>\n",
       "</table>\n",
       "<p>5 rows × 28 columns</p>\n",
       "</div>"
      ],
      "text/plain": [
       "       B cells Blood vessels  CD8 T cells Cytotoxic cells           DC  \\\n",
       "0  207819_s_at     204677_at    218405_at     209870_s_at  206407_s_at   \n",
       "1  221234_s_at           NaN  217729_s_at     221087_s_at    207900_at   \n",
       "2  219497_s_at           NaN  209871_s_at       214450_at    207861_at   \n",
       "3  210347_s_at           NaN  219168_s_at       204794_at    207277_at   \n",
       "4    206255_at           NaN     64432_at        37145_at    205404_at   \n",
       "\n",
       "   Eosinophils Lymph vessels  Macrophages   Mast cells NK CD56bright cells  \\\n",
       "0    205566_at     206742_at  203381_s_at    203196_at           215908_at   \n",
       "1     49452_at     204879_at  218673_s_at    206281_at           215409_at   \n",
       "2     43427_at     209946_at    214452_at  205428_s_at           204014_at   \n",
       "3    221928_at           NaN  214390_s_at    206676_at         204015_s_at   \n",
       "4  222195_s_at           NaN  208075_s_at    214533_at           205906_at   \n",
       "\n",
       "     ...             TReg          Tcm          Tem          Tgd  Th1 cells  \\\n",
       "0    ...        221333_at    203747_at  212609_s_at    205103_at  213419_at   \n",
       "1    ...      221334_s_at    216197_at    210109_at    207840_at   40148_at   \n",
       "2    ...              NaN  208442_s_at    206978_at    203562_at  201525_at   \n",
       "3    ...              NaN  210858_x_at    207794_at  211144_x_at  212062_at   \n",
       "4    ...              NaN  207686_s_at  208719_s_at  216920_s_at  201641_at   \n",
       "\n",
       "    Th17 cells    Th2 cells        aDC          iDC        pDC  \n",
       "0    208402_at    213245_at  207533_at    209735_at  206148_at  \n",
       "1  216876_s_at  220841_s_at  219424_at    202201_at        NaN  \n",
       "2    205707_at    220842_at  210029_at  220162_s_at        NaN  \n",
       "3    206419_at    221569_at  205569_at    210325_at        NaN  \n",
       "4          NaN    214373_at  218400_at    206749_at        NaN  \n",
       "\n",
       "[5 rows x 28 columns]"
      ]
     },
     "execution_count": 190,
     "metadata": {},
     "output_type": "execute_result"
    }
   ],
   "source": [
    "bindea = pd.read_csv('../bindea_by_category.csv')\n",
    "bindea.head()"
   ]
  },
  {
   "cell_type": "code",
   "execution_count": 191,
   "metadata": {
    "collapsed": false
   },
   "outputs": [
    {
     "name": "stdout",
     "output_type": "stream",
     "text": [
      "Index([u'B cells', u'Blood vessels', u'CD8 T cells', u'Cytotoxic cells', u'DC',\n",
      "       u'Eosinophils', u'Lymph vessels', u'Macrophages', u'Mast cells',\n",
      "       u'NK CD56bright cells', u'NK CD56dim cells', u'NK cells',\n",
      "       u'Neutrophils', u'Normal mucosa', u'SW480 cancer cells', u'T cells',\n",
      "       u'T helper cells', u'TFH', u'TReg', u'Tcm', u'Tem', u'Tgd',\n",
      "       u'Th1 cells', u'Th17 cells', u'Th2 cells', u'aDC', u'iDC', u'pDC'],\n",
      "      dtype='object')\n"
     ]
    }
   ],
   "source": [
    "print bindea.columns"
   ]
  },
  {
   "cell_type": "code",
   "execution_count": 192,
   "metadata": {
    "collapsed": false
   },
   "outputs": [
    {
     "data": {
      "text/html": [
       "<div>\n",
       "<table border=\"1\" class=\"dataframe\">\n",
       "  <thead>\n",
       "    <tr style=\"text-align: right;\">\n",
       "      <th></th>\n",
       "      <th>probe</th>\n",
       "      <th>accession</th>\n",
       "      <th>symbol</th>\n",
       "      <th>desc</th>\n",
       "    </tr>\n",
       "  </thead>\n",
       "  <tbody>\n",
       "    <tr>\n",
       "      <th>0</th>\n",
       "      <td>1007_s_at</td>\n",
       "      <td>U48705</td>\n",
       "      <td>NaN</td>\n",
       "      <td>NaN</td>\n",
       "    </tr>\n",
       "    <tr>\n",
       "      <th>1</th>\n",
       "      <td>1053_at</td>\n",
       "      <td>M87338</td>\n",
       "      <td>RFC2</td>\n",
       "      <td>replication factor C (activator 1) 2, 40kDa</td>\n",
       "    </tr>\n",
       "    <tr>\n",
       "      <th>2</th>\n",
       "      <td>117_at</td>\n",
       "      <td>X51757</td>\n",
       "      <td>HSPA6</td>\n",
       "      <td>heat shock 70kDa protein 6 (HSP70B')</td>\n",
       "    </tr>\n",
       "    <tr>\n",
       "      <th>3</th>\n",
       "      <td>121_at</td>\n",
       "      <td>X69699</td>\n",
       "      <td>PAX8</td>\n",
       "      <td>paired box 8</td>\n",
       "    </tr>\n",
       "    <tr>\n",
       "      <th>4</th>\n",
       "      <td>1255_g_at</td>\n",
       "      <td>L36861</td>\n",
       "      <td>GUCA1A</td>\n",
       "      <td>guanylate cyclase activator 1A (retina)</td>\n",
       "    </tr>\n",
       "  </tbody>\n",
       "</table>\n",
       "</div>"
      ],
      "text/plain": [
       "       probe accession  symbol                                         desc\n",
       "0  1007_s_at    U48705     NaN                                          NaN\n",
       "1    1053_at    M87338    RFC2  replication factor C (activator 1) 2, 40kDa\n",
       "2     117_at    X51757   HSPA6         heat shock 70kDa protein 6 (HSP70B')\n",
       "3     121_at    X69699    PAX8                                 paired box 8\n",
       "4  1255_g_at    L36861  GUCA1A      guanylate cyclase activator 1A (retina)"
      ]
     },
     "execution_count": 192,
     "metadata": {},
     "output_type": "execute_result"
    }
   ],
   "source": [
    "# match by gene ids instead of probe ids\n",
    "# see extractHumanAnnotations.R\n",
    "annotations = pd.read_csv('../annot.tsv', sep='\\t')\n",
    "annotations = annotations.reset_index()\n",
    "annotations.columns = ['probe', 'accession', 'symbol', 'desc']\n",
    "annotations.head()"
   ]
  },
  {
   "cell_type": "code",
   "execution_count": 193,
   "metadata": {
    "collapsed": false
   },
   "outputs": [
    {
     "data": {
      "text/html": [
       "<div>\n",
       "<table border=\"1\" class=\"dataframe\">\n",
       "  <thead>\n",
       "    <tr style=\"text-align: right;\">\n",
       "      <th></th>\n",
       "      <th>probe</th>\n",
       "    </tr>\n",
       "  </thead>\n",
       "  <tbody>\n",
       "    <tr>\n",
       "      <th>0</th>\n",
       "      <td>207819_s_at</td>\n",
       "    </tr>\n",
       "    <tr>\n",
       "      <th>1</th>\n",
       "      <td>221234_s_at</td>\n",
       "    </tr>\n",
       "    <tr>\n",
       "      <th>2</th>\n",
       "      <td>219497_s_at</td>\n",
       "    </tr>\n",
       "    <tr>\n",
       "      <th>3</th>\n",
       "      <td>210347_s_at</td>\n",
       "    </tr>\n",
       "    <tr>\n",
       "      <th>4</th>\n",
       "      <td>206255_at</td>\n",
       "    </tr>\n",
       "  </tbody>\n",
       "</table>\n",
       "</div>"
      ],
      "text/plain": [
       "         probe\n",
       "0  207819_s_at\n",
       "1  221234_s_at\n",
       "2  219497_s_at\n",
       "3  210347_s_at\n",
       "4    206255_at"
      ]
     },
     "execution_count": 193,
     "metadata": {},
     "output_type": "execute_result"
    }
   ],
   "source": [
    "markers = pd.DataFrame({'probe': bindea['B cells'].dropna().unique()})\n",
    "markers.head()"
   ]
  },
  {
   "cell_type": "code",
   "execution_count": 194,
   "metadata": {
    "collapsed": false
   },
   "outputs": [
    {
     "name": "stdout",
     "output_type": "stream",
     "text": [
      "(40, 4)\n"
     ]
    },
    {
     "data": {
      "text/html": [
       "<div>\n",
       "<table border=\"1\" class=\"dataframe\">\n",
       "  <thead>\n",
       "    <tr style=\"text-align: right;\">\n",
       "      <th></th>\n",
       "      <th>probe</th>\n",
       "      <th>accession</th>\n",
       "      <th>symbol</th>\n",
       "      <th>desc</th>\n",
       "    </tr>\n",
       "  </thead>\n",
       "  <tbody>\n",
       "    <tr>\n",
       "      <th>0</th>\n",
       "      <td>207819_s_at</td>\n",
       "      <td>NM_000443</td>\n",
       "      <td>ABCB4</td>\n",
       "      <td>ATP-binding cassette, sub-family B (MDR/TAP), ...</td>\n",
       "    </tr>\n",
       "    <tr>\n",
       "      <th>1</th>\n",
       "      <td>221234_s_at</td>\n",
       "      <td>NM_021813</td>\n",
       "      <td>BACH2</td>\n",
       "      <td>BTB and CNC homology 1, basic leucine zipper t...</td>\n",
       "    </tr>\n",
       "    <tr>\n",
       "      <th>2</th>\n",
       "      <td>219497_s_at</td>\n",
       "      <td>NM_022893</td>\n",
       "      <td>BCL11A</td>\n",
       "      <td>B-cell CLL/lymphoma 11A (zinc finger protein)</td>\n",
       "    </tr>\n",
       "    <tr>\n",
       "      <th>3</th>\n",
       "      <td>210347_s_at</td>\n",
       "      <td>AF080216</td>\n",
       "      <td>BCL11A</td>\n",
       "      <td>B-cell CLL/lymphoma 11A (zinc finger protein)</td>\n",
       "    </tr>\n",
       "    <tr>\n",
       "      <th>4</th>\n",
       "      <td>206255_at</td>\n",
       "      <td>NM_001715</td>\n",
       "      <td>BLK</td>\n",
       "      <td>BLK proto-oncogene, Src family tyrosine kinase</td>\n",
       "    </tr>\n",
       "  </tbody>\n",
       "</table>\n",
       "</div>"
      ],
      "text/plain": [
       "         probe  accession  symbol  \\\n",
       "0  207819_s_at  NM_000443   ABCB4   \n",
       "1  221234_s_at  NM_021813   BACH2   \n",
       "2  219497_s_at  NM_022893  BCL11A   \n",
       "3  210347_s_at   AF080216  BCL11A   \n",
       "4    206255_at  NM_001715     BLK   \n",
       "\n",
       "                                                desc  \n",
       "0  ATP-binding cassette, sub-family B (MDR/TAP), ...  \n",
       "1  BTB and CNC homology 1, basic leucine zipper t...  \n",
       "2      B-cell CLL/lymphoma 11A (zinc finger protein)  \n",
       "3      B-cell CLL/lymphoma 11A (zinc finger protein)  \n",
       "4     BLK proto-oncogene, Src family tyrosine kinase  "
      ]
     },
     "execution_count": 194,
     "metadata": {},
     "output_type": "execute_result"
    }
   ],
   "source": [
    "markers = pd.merge(markers, annotations, how='left', on='probe')\n",
    "print markers.shape\n",
    "markers.head()"
   ]
  },
  {
   "cell_type": "code",
   "execution_count": 195,
   "metadata": {
    "collapsed": false
   },
   "outputs": [
    {
     "data": {
      "text/plain": [
       "array(['ABCB4', 'BACH2', 'BCL11A', 'BLK', 'BLNK', 'CCR9', 'CD19', 'CD72',\n",
       "       'COCH', 'CR2', 'LOC101929272', 'KIAA0125', 'FCRL2', 'GLDC', 'GNG7',\n",
       "       'HLA-DOB', 'IGH', 'IGHM', 'IGKC', 'IGLC1', 'MEF2C', 'MICAL3',\n",
       "       'MS4A1', 'OSBPL10', 'PNOC', 'QRSL1', 'SCN3A', 'SLC15A2', 'SPIB',\n",
       "       'TCL1A', 'TNFRSF17'], dtype=object)"
      ]
     },
     "execution_count": 195,
     "metadata": {},
     "output_type": "execute_result"
    }
   ],
   "source": [
    "markers = markers.symbol.dropna().unique()\n",
    "markers"
   ]
  },
  {
   "cell_type": "code",
   "execution_count": 196,
   "metadata": {
    "collapsed": false
   },
   "outputs": [
    {
     "data": {
      "text/plain": [
       "(31, 27)"
      ]
     },
     "execution_count": 196,
     "metadata": {},
     "output_type": "execute_result"
    }
   ],
   "source": [
    "len(markers), len(set(markers) & set(intersect.index))"
   ]
  },
  {
   "cell_type": "code",
   "execution_count": 197,
   "metadata": {
    "collapsed": false
   },
   "outputs": [
    {
     "data": {
      "text/plain": [
       "27"
      ]
     },
     "execution_count": 197,
     "metadata": {},
     "output_type": "execute_result"
    }
   ],
   "source": [
    "markers = list(set(markers) & set(intersect.index))\n",
    "len(markers)"
   ]
  },
  {
   "cell_type": "code",
   "execution_count": 198,
   "metadata": {
    "collapsed": false
   },
   "outputs": [
    {
     "name": "stdout",
     "output_type": "stream",
     "text": [
      "(10087, 5)  -->  (27, 5)\n"
     ]
    },
    {
     "data": {
      "text/html": [
       "<div>\n",
       "<table border=\"1\" class=\"dataframe\">\n",
       "  <thead>\n",
       "    <tr style=\"text-align: right;\">\n",
       "      <th></th>\n",
       "      <th>Bcell</th>\n",
       "      <th>Bcell2</th>\n",
       "      <th>Neutrophil</th>\n",
       "      <th>logtpm</th>\n",
       "      <th>logcnt</th>\n",
       "    </tr>\n",
       "  </thead>\n",
       "  <tbody>\n",
       "    <tr>\n",
       "      <th>CD72</th>\n",
       "      <td>1.003344</td>\n",
       "      <td>1.058231</td>\n",
       "      <td>-2.084457</td>\n",
       "      <td>0.880437</td>\n",
       "      <td>0.674031</td>\n",
       "    </tr>\n",
       "    <tr>\n",
       "      <th>BCL11A</th>\n",
       "      <td>1.400041</td>\n",
       "      <td>1.498193</td>\n",
       "      <td>0.404274</td>\n",
       "      <td>1.108631</td>\n",
       "      <td>0.969878</td>\n",
       "    </tr>\n",
       "    <tr>\n",
       "      <th>TNFRSF17</th>\n",
       "      <td>-2.152636</td>\n",
       "      <td>-1.346814</td>\n",
       "      <td>-2.315418</td>\n",
       "      <td>-1.316788</td>\n",
       "      <td>-1.938093</td>\n",
       "    </tr>\n",
       "    <tr>\n",
       "      <th>CCR9</th>\n",
       "      <td>0.933813</td>\n",
       "      <td>0.566842</td>\n",
       "      <td>0.403184</td>\n",
       "      <td>-1.580231</td>\n",
       "      <td>-1.436423</td>\n",
       "    </tr>\n",
       "    <tr>\n",
       "      <th>IGKC</th>\n",
       "      <td>3.484040</td>\n",
       "      <td>3.586234</td>\n",
       "      <td>-0.243298</td>\n",
       "      <td>2.436912</td>\n",
       "      <td>1.799233</td>\n",
       "    </tr>\n",
       "  </tbody>\n",
       "</table>\n",
       "</div>"
      ],
      "text/plain": [
       "             Bcell    Bcell2  Neutrophil    logtpm    logcnt\n",
       "CD72      1.003344  1.058231   -2.084457  0.880437  0.674031\n",
       "BCL11A    1.400041  1.498193    0.404274  1.108631  0.969878\n",
       "TNFRSF17 -2.152636 -1.346814   -2.315418 -1.316788 -1.938093\n",
       "CCR9      0.933813  0.566842    0.403184 -1.580231 -1.436423\n",
       "IGKC      3.484040  3.586234   -0.243298  2.436912  1.799233"
      ]
     },
     "execution_count": 198,
     "metadata": {},
     "output_type": "execute_result"
    }
   ],
   "source": [
    "# filter down\n",
    "df_filter = intersect.loc[markers].copy()\n",
    "print intersect.shape, ' --> ', df_filter.shape\n",
    "df_filter.head()"
   ]
  },
  {
   "cell_type": "code",
   "execution_count": 199,
   "metadata": {
    "collapsed": false
   },
   "outputs": [
    {
     "data": {
      "text/html": [
       "<div>\n",
       "<table border=\"1\" class=\"dataframe\">\n",
       "  <thead>\n",
       "    <tr style=\"text-align: right;\">\n",
       "      <th></th>\n",
       "      <th>Bcell</th>\n",
       "      <th>Bcell2</th>\n",
       "      <th>Neutrophil</th>\n",
       "      <th>logtpm</th>\n",
       "      <th>logcnt</th>\n",
       "    </tr>\n",
       "  </thead>\n",
       "  <tbody>\n",
       "    <tr>\n",
       "      <th>count</th>\n",
       "      <td>1.008700e+04</td>\n",
       "      <td>1.008700e+04</td>\n",
       "      <td>1.008700e+04</td>\n",
       "      <td>1.008700e+04</td>\n",
       "      <td>1.008700e+04</td>\n",
       "    </tr>\n",
       "    <tr>\n",
       "      <th>mean</th>\n",
       "      <td>-2.947644e-16</td>\n",
       "      <td>6.110794e-16</td>\n",
       "      <td>2.445391e-16</td>\n",
       "      <td>1.388907e-16</td>\n",
       "      <td>1.349394e-17</td>\n",
       "    </tr>\n",
       "    <tr>\n",
       "      <th>std</th>\n",
       "      <td>1.000050e+00</td>\n",
       "      <td>1.000050e+00</td>\n",
       "      <td>1.000050e+00</td>\n",
       "      <td>1.000050e+00</td>\n",
       "      <td>1.000050e+00</td>\n",
       "    </tr>\n",
       "    <tr>\n",
       "      <th>min</th>\n",
       "      <td>-5.441249e+00</td>\n",
       "      <td>-4.036565e+00</td>\n",
       "      <td>-4.265533e+00</td>\n",
       "      <td>-7.151585e+00</td>\n",
       "      <td>-7.615738e+00</td>\n",
       "    </tr>\n",
       "    <tr>\n",
       "      <th>25%</th>\n",
       "      <td>-5.947529e-01</td>\n",
       "      <td>-5.979671e-01</td>\n",
       "      <td>-6.360745e-01</td>\n",
       "      <td>-7.153545e-01</td>\n",
       "      <td>-7.631880e-01</td>\n",
       "    </tr>\n",
       "    <tr>\n",
       "      <th>50%</th>\n",
       "      <td>1.945839e-01</td>\n",
       "      <td>1.660480e-01</td>\n",
       "      <td>7.681134e-02</td>\n",
       "      <td>1.052155e-01</td>\n",
       "      <td>9.060059e-02</td>\n",
       "    </tr>\n",
       "    <tr>\n",
       "      <th>75%</th>\n",
       "      <td>6.704161e-01</td>\n",
       "      <td>6.562683e-01</td>\n",
       "      <td>5.979585e-01</td>\n",
       "      <td>7.502315e-01</td>\n",
       "      <td>7.661762e-01</td>\n",
       "    </tr>\n",
       "    <tr>\n",
       "      <th>max</th>\n",
       "      <td>4.236374e+00</td>\n",
       "      <td>4.130513e+00</td>\n",
       "      <td>4.015373e+00</td>\n",
       "      <td>3.210740e+00</td>\n",
       "      <td>2.900753e+00</td>\n",
       "    </tr>\n",
       "  </tbody>\n",
       "</table>\n",
       "</div>"
      ],
      "text/plain": [
       "              Bcell        Bcell2    Neutrophil        logtpm        logcnt\n",
       "count  1.008700e+04  1.008700e+04  1.008700e+04  1.008700e+04  1.008700e+04\n",
       "mean  -2.947644e-16  6.110794e-16  2.445391e-16  1.388907e-16  1.349394e-17\n",
       "std    1.000050e+00  1.000050e+00  1.000050e+00  1.000050e+00  1.000050e+00\n",
       "min   -5.441249e+00 -4.036565e+00 -4.265533e+00 -7.151585e+00 -7.615738e+00\n",
       "25%   -5.947529e-01 -5.979671e-01 -6.360745e-01 -7.153545e-01 -7.631880e-01\n",
       "50%    1.945839e-01  1.660480e-01  7.681134e-02  1.052155e-01  9.060059e-02\n",
       "75%    6.704161e-01  6.562683e-01  5.979585e-01  7.502315e-01  7.661762e-01\n",
       "max    4.236374e+00  4.130513e+00  4.015373e+00  3.210740e+00  2.900753e+00"
      ]
     },
     "execution_count": 199,
     "metadata": {},
     "output_type": "execute_result"
    }
   ],
   "source": [
    "# before filtering\n",
    "intersect.describe()"
   ]
  },
  {
   "cell_type": "code",
   "execution_count": 200,
   "metadata": {
    "collapsed": false
   },
   "outputs": [
    {
     "data": {
      "text/html": [
       "<div>\n",
       "<table border=\"1\" class=\"dataframe\">\n",
       "  <thead>\n",
       "    <tr style=\"text-align: right;\">\n",
       "      <th></th>\n",
       "      <th>Bcell</th>\n",
       "      <th>Bcell2</th>\n",
       "      <th>Neutrophil</th>\n",
       "      <th>logtpm</th>\n",
       "      <th>logcnt</th>\n",
       "    </tr>\n",
       "  </thead>\n",
       "  <tbody>\n",
       "    <tr>\n",
       "      <th>count</th>\n",
       "      <td>27.000000</td>\n",
       "      <td>27.000000</td>\n",
       "      <td>27.000000</td>\n",
       "      <td>27.000000</td>\n",
       "      <td>27.000000</td>\n",
       "    </tr>\n",
       "    <tr>\n",
       "      <th>mean</th>\n",
       "      <td>1.300198</td>\n",
       "      <td>1.419888</td>\n",
       "      <td>-0.361038</td>\n",
       "      <td>0.683104</td>\n",
       "      <td>0.650168</td>\n",
       "    </tr>\n",
       "    <tr>\n",
       "      <th>std</th>\n",
       "      <td>1.135567</td>\n",
       "      <td>1.070697</td>\n",
       "      <td>0.915243</td>\n",
       "      <td>0.971486</td>\n",
       "      <td>1.007498</td>\n",
       "    </tr>\n",
       "    <tr>\n",
       "      <th>min</th>\n",
       "      <td>-2.152636</td>\n",
       "      <td>-1.346814</td>\n",
       "      <td>-2.315418</td>\n",
       "      <td>-1.580231</td>\n",
       "      <td>-1.938093</td>\n",
       "    </tr>\n",
       "    <tr>\n",
       "      <th>25%</th>\n",
       "      <td>0.848612</td>\n",
       "      <td>0.791890</td>\n",
       "      <td>-1.088278</td>\n",
       "      <td>0.382612</td>\n",
       "      <td>0.282734</td>\n",
       "    </tr>\n",
       "    <tr>\n",
       "      <th>50%</th>\n",
       "      <td>1.112349</td>\n",
       "      <td>1.357287</td>\n",
       "      <td>-0.187642</td>\n",
       "      <td>0.899279</td>\n",
       "      <td>0.767310</td>\n",
       "    </tr>\n",
       "    <tr>\n",
       "      <th>75%</th>\n",
       "      <td>1.794873</td>\n",
       "      <td>1.949141</td>\n",
       "      <td>0.277624</td>\n",
       "      <td>1.138691</td>\n",
       "      <td>1.137885</td>\n",
       "    </tr>\n",
       "    <tr>\n",
       "      <th>max</th>\n",
       "      <td>3.484040</td>\n",
       "      <td>3.586234</td>\n",
       "      <td>0.934708</td>\n",
       "      <td>2.466813</td>\n",
       "      <td>2.262438</td>\n",
       "    </tr>\n",
       "  </tbody>\n",
       "</table>\n",
       "</div>"
      ],
      "text/plain": [
       "           Bcell     Bcell2  Neutrophil     logtpm     logcnt\n",
       "count  27.000000  27.000000   27.000000  27.000000  27.000000\n",
       "mean    1.300198   1.419888   -0.361038   0.683104   0.650168\n",
       "std     1.135567   1.070697    0.915243   0.971486   1.007498\n",
       "min    -2.152636  -1.346814   -2.315418  -1.580231  -1.938093\n",
       "25%     0.848612   0.791890   -1.088278   0.382612   0.282734\n",
       "50%     1.112349   1.357287   -0.187642   0.899279   0.767310\n",
       "75%     1.794873   1.949141    0.277624   1.138691   1.137885\n",
       "max     3.484040   3.586234    0.934708   2.466813   2.262438"
      ]
     },
     "execution_count": 200,
     "metadata": {},
     "output_type": "execute_result"
    }
   ],
   "source": [
    "# after filtering\n",
    "df_filter.describe()"
   ]
  },
  {
   "cell_type": "markdown",
   "metadata": {},
   "source": [
    "Can already see the difference in means!!!\n",
    "\n",
    "* Filtered: means are 1.3, -0.36\n",
    "* Unfiltered: means are 0,0"
   ]
  },
  {
   "cell_type": "code",
   "execution_count": 201,
   "metadata": {
    "collapsed": false
   },
   "outputs": [
    {
     "data": {
      "text/plain": [
       "<matplotlib.axes._subplots.AxesSubplot at 0x7feac0d3d4d0>"
      ]
     },
     "execution_count": 201,
     "metadata": {},
     "output_type": "execute_result"
    },
    {
     "data": {
      "image/png": "[encoded data removed]",
      "text/plain": [
       "<matplotlib.figure.Figure at 0x7feac01703d0>"
      ]
     },
     "metadata": {},
     "output_type": "display_data"
    }
   ],
   "source": [
    "(df_filter.Neutrophil - df_filter.Bcell).abs().hist()"
   ]
  },
  {
   "cell_type": "markdown",
   "metadata": {},
   "source": [
    "Now that's a noticeable difference. (Note however that sample size is significantly smaller.)"
   ]
  },
  {
   "cell_type": "markdown",
   "metadata": {},
   "source": [
    "# Difference between 2 microarray lines that should be same"
   ]
  },
  {
   "cell_type": "code",
   "execution_count": 202,
   "metadata": {
    "collapsed": false
   },
   "outputs": [
    {
     "data": {
      "text/plain": [
       "<matplotlib.axes._subplots.AxesSubplot at 0x7feac011d610>"
      ]
     },
     "execution_count": 202,
     "metadata": {},
     "output_type": "execute_result"
    },
    {
     "data": {
      "image/png": "[encoded data removed]",
      "text/plain": [
       "<matplotlib.figure.Figure at 0x7feac0170350>"
      ]
     },
     "metadata": {},
     "output_type": "display_data"
    }
   ],
   "source": [
    "(intersect.Bcell2 - intersect.Bcell).abs().hist()"
   ]
  },
  {
   "cell_type": "code",
   "execution_count": 203,
   "metadata": {
    "collapsed": false
   },
   "outputs": [
    {
     "data": {
      "text/plain": [
       "<matplotlib.axes._subplots.AxesSubplot at 0x7fea9ec28e50>"
      ]
     },
     "execution_count": 203,
     "metadata": {},
     "output_type": "execute_result"
    },
    {
     "data": {
      "image/png": "[encoded data removed]",
      "text/plain": [
       "<matplotlib.figure.Figure at 0x7fea9ec57fd0>"
      ]
     },
     "metadata": {},
     "output_type": "display_data"
    }
   ],
   "source": [
    "(df_filter.Bcell2 - df_filter.Bcell).abs().hist()"
   ]
  },
  {
   "cell_type": "markdown",
   "metadata": {},
   "source": [
    "Much less difference. These comparisons are working. Now let's compare microarray and RNAseq."
   ]
  },
  {
   "cell_type": "markdown",
   "metadata": {},
   "source": [
    "# Difference between two RNA raw lines that should be different"
   ]
  },
  {
   "cell_type": "code",
   "execution_count": null,
   "metadata": {
    "collapsed": true
   },
   "outputs": [],
   "source": []
  }
 ],
 "metadata": {
  "kernelspec": {
   "display_name": "Python 2",
   "language": "python",
   "name": "python2"
  },
  "language_info": {
   "codemirror_mode": {
    "name": "ipython",
    "version": 2
   },
   "file_extension": ".py",
   "mimetype": "text/x-python",
   "name": "python",
   "nbconvert_exporter": "python",
   "pygments_lexer": "ipython2",
   "version": "2.7.11"
  }
 },
 "nbformat": 4,
 "nbformat_minor": 0
}
