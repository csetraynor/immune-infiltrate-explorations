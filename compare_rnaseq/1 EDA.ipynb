{
 "cells": [
  {
   "cell_type": "code",
   "execution_count": 388,
   "metadata": {
    "collapsed": true
   },
   "outputs": [],
   "source": [
    "# %load ~/ipyhead\n",
    "import numpy as np\n",
    "import matplotlib.pyplot as plt\n",
    "import pandas as pd\n",
    "%matplotlib inline\n",
    "import seaborn as sns"
   ]
  },
  {
   "cell_type": "markdown",
   "metadata": {},
   "source": [
    "Using:\n",
    "\n",
    "* <strike>ERR431617: B cell memory</strike>\n",
    "* ERR431572: B cell naive\n",
    "* ERR431624: B cell naive\n",
    "* ERR431583: Treg\n",
    "* Microarray data: use one same cell type, one other distant cell type. Can we see the difference?"
   ]
  },
  {
   "cell_type": "code",
   "execution_count": 389,
   "metadata": {
    "collapsed": false
   },
   "outputs": [
    {
     "data": {
      "text/html": [
       "<div>\n",
       "<table border=\"1\" class=\"dataframe\">\n",
       "  <thead>\n",
       "    <tr style=\"text-align: right;\">\n",
       "      <th></th>\n",
       "      <th>sample_id</th>\n",
       "      <th>gene_name</th>\n",
       "      <th>est_counts</th>\n",
       "      <th>tpm</th>\n",
       "    </tr>\n",
       "  </thead>\n",
       "  <tbody>\n",
       "    <tr>\n",
       "      <th>0</th>\n",
       "      <td>1</td>\n",
       "      <td>A1BG</td>\n",
       "      <td>80.232280</td>\n",
       "      <td>11.155641</td>\n",
       "    </tr>\n",
       "    <tr>\n",
       "      <th>1</th>\n",
       "      <td>1</td>\n",
       "      <td>A1CF</td>\n",
       "      <td>18.042401</td>\n",
       "      <td>0.382263</td>\n",
       "    </tr>\n",
       "    <tr>\n",
       "      <th>2</th>\n",
       "      <td>1</td>\n",
       "      <td>A2M</td>\n",
       "      <td>3.000000</td>\n",
       "      <td>1.226161</td>\n",
       "    </tr>\n",
       "    <tr>\n",
       "      <th>3</th>\n",
       "      <td>1</td>\n",
       "      <td>A2ML1</td>\n",
       "      <td>21.912401</td>\n",
       "      <td>2.756862</td>\n",
       "    </tr>\n",
       "    <tr>\n",
       "      <th>4</th>\n",
       "      <td>1</td>\n",
       "      <td>A2MP1</td>\n",
       "      <td>2.000000</td>\n",
       "      <td>0.092441</td>\n",
       "    </tr>\n",
       "  </tbody>\n",
       "</table>\n",
       "</div>"
      ],
      "text/plain": [
       "   sample_id gene_name  est_counts        tpm\n",
       "0          1      A1BG   80.232280  11.155641\n",
       "1          1      A1CF   18.042401   0.382263\n",
       "2          1       A2M    3.000000   1.226161\n",
       "3          1     A2ML1   21.912401   2.756862\n",
       "4          1     A2MP1    2.000000   0.092441"
      ]
     },
     "execution_count": 389,
     "metadata": {},
     "output_type": "execute_result"
    }
   ],
   "source": [
    "rna = pd.read_csv('summary.simple.tsv', sep='\\t')\n",
    "rna.head()"
   ]
  },
  {
   "cell_type": "code",
   "execution_count": 390,
   "metadata": {
    "collapsed": true
   },
   "outputs": [],
   "source": [
    "df = rna[rna['sample_id']==1].copy()"
   ]
  },
  {
   "cell_type": "code",
   "execution_count": 391,
   "metadata": {
    "collapsed": false
   },
   "outputs": [
    {
     "data": {
      "text/plain": [
       "((104496, 4), (34832, 4))"
      ]
     },
     "execution_count": 391,
     "metadata": {},
     "output_type": "execute_result"
    }
   ],
   "source": [
    "rna.shape, df.shape"
   ]
  },
  {
   "cell_type": "code",
   "execution_count": 392,
   "metadata": {
    "collapsed": false
   },
   "outputs": [
    {
     "data": {
      "text/plain": [
       "count    34832.000000\n",
       "mean        28.709233\n",
       "std        291.816455\n",
       "min          0.000000\n",
       "25%          0.000000\n",
       "50%          0.515240\n",
       "75%          6.705417\n",
       "max      22917.900000\n",
       "Name: tpm, dtype: float64"
      ]
     },
     "execution_count": 392,
     "metadata": {},
     "output_type": "execute_result"
    },
    {
     "data": {
      "image/png": "[encoded data removed]",
      "text/plain": [
       "<matplotlib.figure.Figure at 0x7fea8afc0450>"
      ]
     },
     "metadata": {},
     "output_type": "display_data"
    }
   ],
   "source": [
    "df.tpm.hist()\n",
    "df.tpm.describe()"
   ]
  },
  {
   "cell_type": "code",
   "execution_count": 393,
   "metadata": {
    "collapsed": false,
    "scrolled": true
   },
   "outputs": [
    {
     "data": {
      "text/html": [
       "<div>\n",
       "<table border=\"1\" class=\"dataframe\">\n",
       "  <thead>\n",
       "    <tr style=\"text-align: right;\">\n",
       "      <th></th>\n",
       "      <th>sample_id</th>\n",
       "      <th>gene_name</th>\n",
       "      <th>est_counts</th>\n",
       "      <th>tpm</th>\n",
       "    </tr>\n",
       "  </thead>\n",
       "  <tbody>\n",
       "    <tr>\n",
       "      <th>652</th>\n",
       "      <td>1</td>\n",
       "      <td>AC010970.2</td>\n",
       "      <td>24263.000000</td>\n",
       "      <td>2478.540000</td>\n",
       "    </tr>\n",
       "    <tr>\n",
       "      <th>1481</th>\n",
       "      <td>1</td>\n",
       "      <td>AC246787.8</td>\n",
       "      <td>13601.133660</td>\n",
       "      <td>1630.865846</td>\n",
       "    </tr>\n",
       "    <tr>\n",
       "      <th>3263</th>\n",
       "      <td>1</td>\n",
       "      <td>B2M</td>\n",
       "      <td>18599.995760</td>\n",
       "      <td>5728.604670</td>\n",
       "    </tr>\n",
       "    <tr>\n",
       "      <th>4830</th>\n",
       "      <td>1</td>\n",
       "      <td>CCNL1</td>\n",
       "      <td>12811.258600</td>\n",
       "      <td>1282.913390</td>\n",
       "    </tr>\n",
       "    <tr>\n",
       "      <th>4933</th>\n",
       "      <td>1</td>\n",
       "      <td>CD37</td>\n",
       "      <td>8314.153390</td>\n",
       "      <td>1529.731931</td>\n",
       "    </tr>\n",
       "    <tr>\n",
       "      <th>4957</th>\n",
       "      <td>1</td>\n",
       "      <td>CD69</td>\n",
       "      <td>5977.999000</td>\n",
       "      <td>970.521000</td>\n",
       "    </tr>\n",
       "    <tr>\n",
       "      <th>4961</th>\n",
       "      <td>1</td>\n",
       "      <td>CD74</td>\n",
       "      <td>39999.546260</td>\n",
       "      <td>6523.488970</td>\n",
       "    </tr>\n",
       "    <tr>\n",
       "      <th>4962</th>\n",
       "      <td>1</td>\n",
       "      <td>CD79A</td>\n",
       "      <td>6328.999000</td>\n",
       "      <td>1099.270000</td>\n",
       "    </tr>\n",
       "    <tr>\n",
       "      <th>5767</th>\n",
       "      <td>1</td>\n",
       "      <td>CLK1</td>\n",
       "      <td>6342.336148</td>\n",
       "      <td>990.738248</td>\n",
       "    </tr>\n",
       "    <tr>\n",
       "      <th>6067</th>\n",
       "      <td>1</td>\n",
       "      <td>COX4I1</td>\n",
       "      <td>6154.036060</td>\n",
       "      <td>1206.193410</td>\n",
       "    </tr>\n",
       "    <tr>\n",
       "      <th>6902</th>\n",
       "      <td>1</td>\n",
       "      <td>CTD-2328D6.1</td>\n",
       "      <td>34229.000000</td>\n",
       "      <td>22917.900000</td>\n",
       "    </tr>\n",
       "    <tr>\n",
       "      <th>7213</th>\n",
       "      <td>1</td>\n",
       "      <td>CXCR4</td>\n",
       "      <td>9615.004000</td>\n",
       "      <td>1152.769000</td>\n",
       "    </tr>\n",
       "    <tr>\n",
       "      <th>7623</th>\n",
       "      <td>1</td>\n",
       "      <td>DDX5</td>\n",
       "      <td>16163.780810</td>\n",
       "      <td>1949.643510</td>\n",
       "    </tr>\n",
       "    <tr>\n",
       "      <th>8395</th>\n",
       "      <td>1</td>\n",
       "      <td>EEF1A1</td>\n",
       "      <td>122418.722590</td>\n",
       "      <td>11527.508390</td>\n",
       "    </tr>\n",
       "    <tr>\n",
       "      <th>8436</th>\n",
       "      <td>1</td>\n",
       "      <td>EEF1B2</td>\n",
       "      <td>4042.919209</td>\n",
       "      <td>1009.985312</td>\n",
       "    </tr>\n",
       "    <tr>\n",
       "      <th>8445</th>\n",
       "      <td>1</td>\n",
       "      <td>EEF1D</td>\n",
       "      <td>5190.624760</td>\n",
       "      <td>1112.533759</td>\n",
       "    </tr>\n",
       "    <tr>\n",
       "      <th>8457</th>\n",
       "      <td>1</td>\n",
       "      <td>EEF1G</td>\n",
       "      <td>15359.587300</td>\n",
       "      <td>1871.892340</td>\n",
       "    </tr>\n",
       "    <tr>\n",
       "      <th>8466</th>\n",
       "      <td>1</td>\n",
       "      <td>EEF2</td>\n",
       "      <td>17709.038530</td>\n",
       "      <td>1063.324490</td>\n",
       "    </tr>\n",
       "    <tr>\n",
       "      <th>8543</th>\n",
       "      <td>1</td>\n",
       "      <td>EIF1</td>\n",
       "      <td>12382.338000</td>\n",
       "      <td>2025.544200</td>\n",
       "    </tr>\n",
       "    <tr>\n",
       "      <th>8616</th>\n",
       "      <td>1</td>\n",
       "      <td>EIF4A2</td>\n",
       "      <td>10044.995600</td>\n",
       "      <td>1130.536190</td>\n",
       "    </tr>\n",
       "    <tr>\n",
       "      <th>9054</th>\n",
       "      <td>1</td>\n",
       "      <td>EZR</td>\n",
       "      <td>27765.762000</td>\n",
       "      <td>1605.697100</td>\n",
       "    </tr>\n",
       "    <tr>\n",
       "      <th>9556</th>\n",
       "      <td>1</td>\n",
       "      <td>FAU</td>\n",
       "      <td>5366.933640</td>\n",
       "      <td>1975.273720</td>\n",
       "    </tr>\n",
       "    <tr>\n",
       "      <th>9881</th>\n",
       "      <td>1</td>\n",
       "      <td>FMNL1</td>\n",
       "      <td>9722.652700</td>\n",
       "      <td>911.484200</td>\n",
       "    </tr>\n",
       "    <tr>\n",
       "      <th>10057</th>\n",
       "      <td>1</td>\n",
       "      <td>FTH1</td>\n",
       "      <td>14102.770400</td>\n",
       "      <td>3692.606400</td>\n",
       "    </tr>\n",
       "    <tr>\n",
       "      <th>10623</th>\n",
       "      <td>1</td>\n",
       "      <td>GLTSCR2</td>\n",
       "      <td>7888.750510</td>\n",
       "      <td>1024.288520</td>\n",
       "    </tr>\n",
       "    <tr>\n",
       "      <th>10683</th>\n",
       "      <td>1</td>\n",
       "      <td>GNAS</td>\n",
       "      <td>8236.593723</td>\n",
       "      <td>1323.455017</td>\n",
       "    </tr>\n",
       "    <tr>\n",
       "      <th>10691</th>\n",
       "      <td>1</td>\n",
       "      <td>GNB2L1</td>\n",
       "      <td>8317.947070</td>\n",
       "      <td>2069.267000</td>\n",
       "    </tr>\n",
       "    <tr>\n",
       "      <th>11008</th>\n",
       "      <td>1</td>\n",
       "      <td>GRASP</td>\n",
       "      <td>6219.006200</td>\n",
       "      <td>1406.452300</td>\n",
       "    </tr>\n",
       "    <tr>\n",
       "      <th>11332</th>\n",
       "      <td>1</td>\n",
       "      <td>H3F3B</td>\n",
       "      <td>22242.952380</td>\n",
       "      <td>3172.993304</td>\n",
       "    </tr>\n",
       "    <tr>\n",
       "      <th>11690</th>\n",
       "      <td>1</td>\n",
       "      <td>HLA-A</td>\n",
       "      <td>23548.641068</td>\n",
       "      <td>2526.748119</td>\n",
       "    </tr>\n",
       "    <tr>\n",
       "      <th>...</th>\n",
       "      <td>...</td>\n",
       "      <td>...</td>\n",
       "      <td>...</td>\n",
       "      <td>...</td>\n",
       "    </tr>\n",
       "    <tr>\n",
       "      <th>27871</th>\n",
       "      <td>1</td>\n",
       "      <td>RPS20</td>\n",
       "      <td>10592.459710</td>\n",
       "      <td>4462.236500</td>\n",
       "    </tr>\n",
       "    <tr>\n",
       "      <th>27889</th>\n",
       "      <td>1</td>\n",
       "      <td>RPS21</td>\n",
       "      <td>3543.997000</td>\n",
       "      <td>3691.974290</td>\n",
       "    </tr>\n",
       "    <tr>\n",
       "      <th>27893</th>\n",
       "      <td>1</td>\n",
       "      <td>RPS23</td>\n",
       "      <td>10612.878110</td>\n",
       "      <td>6416.408318</td>\n",
       "    </tr>\n",
       "    <tr>\n",
       "      <th>27904</th>\n",
       "      <td>1</td>\n",
       "      <td>RPS24</td>\n",
       "      <td>4385.271750</td>\n",
       "      <td>2629.936484</td>\n",
       "    </tr>\n",
       "    <tr>\n",
       "      <th>27915</th>\n",
       "      <td>1</td>\n",
       "      <td>RPS25</td>\n",
       "      <td>8066.967180</td>\n",
       "      <td>2155.741820</td>\n",
       "    </tr>\n",
       "    <tr>\n",
       "      <th>27939</th>\n",
       "      <td>1</td>\n",
       "      <td>RPS27</td>\n",
       "      <td>18364.232400</td>\n",
       "      <td>18297.406600</td>\n",
       "    </tr>\n",
       "    <tr>\n",
       "      <th>27940</th>\n",
       "      <td>1</td>\n",
       "      <td>RPS27A</td>\n",
       "      <td>9154.930860</td>\n",
       "      <td>3272.508080</td>\n",
       "    </tr>\n",
       "    <tr>\n",
       "      <th>27960</th>\n",
       "      <td>1</td>\n",
       "      <td>RPS28</td>\n",
       "      <td>3405.481400</td>\n",
       "      <td>943.174500</td>\n",
       "    </tr>\n",
       "    <tr>\n",
       "      <th>27962</th>\n",
       "      <td>1</td>\n",
       "      <td>RPS28P7</td>\n",
       "      <td>496.361000</td>\n",
       "      <td>1419.800000</td>\n",
       "    </tr>\n",
       "    <tr>\n",
       "      <th>27964</th>\n",
       "      <td>1</td>\n",
       "      <td>RPS29</td>\n",
       "      <td>6309.554312</td>\n",
       "      <td>8519.849954</td>\n",
       "    </tr>\n",
       "    <tr>\n",
       "      <th>27994</th>\n",
       "      <td>1</td>\n",
       "      <td>RPS3</td>\n",
       "      <td>10531.656580</td>\n",
       "      <td>3286.459810</td>\n",
       "    </tr>\n",
       "    <tr>\n",
       "      <th>27995</th>\n",
       "      <td>1</td>\n",
       "      <td>RPS3A</td>\n",
       "      <td>14109.841720</td>\n",
       "      <td>3478.380620</td>\n",
       "    </tr>\n",
       "    <tr>\n",
       "      <th>28035</th>\n",
       "      <td>1</td>\n",
       "      <td>RPS4X</td>\n",
       "      <td>7474.992020</td>\n",
       "      <td>1812.682506</td>\n",
       "    </tr>\n",
       "    <tr>\n",
       "      <th>28061</th>\n",
       "      <td>1</td>\n",
       "      <td>RPS5</td>\n",
       "      <td>6171.101740</td>\n",
       "      <td>1823.324043</td>\n",
       "    </tr>\n",
       "    <tr>\n",
       "      <th>28065</th>\n",
       "      <td>1</td>\n",
       "      <td>RPS6</td>\n",
       "      <td>17155.002000</td>\n",
       "      <td>3373.415500</td>\n",
       "    </tr>\n",
       "    <tr>\n",
       "      <th>28085</th>\n",
       "      <td>1</td>\n",
       "      <td>RPS7</td>\n",
       "      <td>5922.375480</td>\n",
       "      <td>1568.880210</td>\n",
       "    </tr>\n",
       "    <tr>\n",
       "      <th>28101</th>\n",
       "      <td>1</td>\n",
       "      <td>RPS8</td>\n",
       "      <td>8798.955710</td>\n",
       "      <td>2108.161580</td>\n",
       "    </tr>\n",
       "    <tr>\n",
       "      <th>28104</th>\n",
       "      <td>1</td>\n",
       "      <td>RPS9</td>\n",
       "      <td>7959.277988</td>\n",
       "      <td>2919.663396</td>\n",
       "    </tr>\n",
       "    <tr>\n",
       "      <th>28106</th>\n",
       "      <td>1</td>\n",
       "      <td>RPSA</td>\n",
       "      <td>8841.671800</td>\n",
       "      <td>1644.032810</td>\n",
       "    </tr>\n",
       "    <tr>\n",
       "      <th>28778</th>\n",
       "      <td>1</td>\n",
       "      <td>SF1</td>\n",
       "      <td>8186.004270</td>\n",
       "      <td>1326.085863</td>\n",
       "    </tr>\n",
       "    <tr>\n",
       "      <th>28794</th>\n",
       "      <td>1</td>\n",
       "      <td>SFPQ</td>\n",
       "      <td>8307.925700</td>\n",
       "      <td>954.542500</td>\n",
       "    </tr>\n",
       "    <tr>\n",
       "      <th>29530</th>\n",
       "      <td>1</td>\n",
       "      <td>SMAP2</td>\n",
       "      <td>9471.998000</td>\n",
       "      <td>1268.576000</td>\n",
       "    </tr>\n",
       "    <tr>\n",
       "      <th>29558</th>\n",
       "      <td>1</td>\n",
       "      <td>SMCHD1</td>\n",
       "      <td>13840.057710</td>\n",
       "      <td>918.705490</td>\n",
       "    </tr>\n",
       "    <tr>\n",
       "      <th>30700</th>\n",
       "      <td>1</td>\n",
       "      <td>TAGLN2</td>\n",
       "      <td>6846.842000</td>\n",
       "      <td>921.281400</td>\n",
       "    </tr>\n",
       "    <tr>\n",
       "      <th>31664</th>\n",
       "      <td>1</td>\n",
       "      <td>TMSB4X</td>\n",
       "      <td>4792.985650</td>\n",
       "      <td>1804.718500</td>\n",
       "    </tr>\n",
       "    <tr>\n",
       "      <th>31795</th>\n",
       "      <td>1</td>\n",
       "      <td>TOMM7</td>\n",
       "      <td>1372.178380</td>\n",
       "      <td>922.921900</td>\n",
       "    </tr>\n",
       "    <tr>\n",
       "      <th>31901</th>\n",
       "      <td>1</td>\n",
       "      <td>TPT1</td>\n",
       "      <td>26359.576610</td>\n",
       "      <td>6385.755490</td>\n",
       "    </tr>\n",
       "    <tr>\n",
       "      <th>32405</th>\n",
       "      <td>1</td>\n",
       "      <td>TSC22D3</td>\n",
       "      <td>27901.028420</td>\n",
       "      <td>3378.124772</td>\n",
       "    </tr>\n",
       "    <tr>\n",
       "      <th>32738</th>\n",
       "      <td>1</td>\n",
       "      <td>UBA52</td>\n",
       "      <td>5074.589600</td>\n",
       "      <td>1886.715760</td>\n",
       "    </tr>\n",
       "    <tr>\n",
       "      <th>32763</th>\n",
       "      <td>1</td>\n",
       "      <td>UBC</td>\n",
       "      <td>19564.956990</td>\n",
       "      <td>1554.879578</td>\n",
       "    </tr>\n",
       "  </tbody>\n",
       "</table>\n",
       "<p>152 rows × 4 columns</p>\n",
       "</div>"
      ],
      "text/plain": [
       "       sample_id     gene_name     est_counts           tpm\n",
       "652            1    AC010970.2   24263.000000   2478.540000\n",
       "1481           1    AC246787.8   13601.133660   1630.865846\n",
       "3263           1           B2M   18599.995760   5728.604670\n",
       "4830           1         CCNL1   12811.258600   1282.913390\n",
       "4933           1          CD37    8314.153390   1529.731931\n",
       "4957           1          CD69    5977.999000    970.521000\n",
       "4961           1          CD74   39999.546260   6523.488970\n",
       "4962           1         CD79A    6328.999000   1099.270000\n",
       "5767           1          CLK1    6342.336148    990.738248\n",
       "6067           1        COX4I1    6154.036060   1206.193410\n",
       "6902           1  CTD-2328D6.1   34229.000000  22917.900000\n",
       "7213           1         CXCR4    9615.004000   1152.769000\n",
       "7623           1          DDX5   16163.780810   1949.643510\n",
       "8395           1        EEF1A1  122418.722590  11527.508390\n",
       "8436           1        EEF1B2    4042.919209   1009.985312\n",
       "8445           1         EEF1D    5190.624760   1112.533759\n",
       "8457           1         EEF1G   15359.587300   1871.892340\n",
       "8466           1          EEF2   17709.038530   1063.324490\n",
       "8543           1          EIF1   12382.338000   2025.544200\n",
       "8616           1        EIF4A2   10044.995600   1130.536190\n",
       "9054           1           EZR   27765.762000   1605.697100\n",
       "9556           1           FAU    5366.933640   1975.273720\n",
       "9881           1         FMNL1    9722.652700    911.484200\n",
       "10057          1          FTH1   14102.770400   3692.606400\n",
       "10623          1       GLTSCR2    7888.750510   1024.288520\n",
       "10683          1          GNAS    8236.593723   1323.455017\n",
       "10691          1        GNB2L1    8317.947070   2069.267000\n",
       "11008          1         GRASP    6219.006200   1406.452300\n",
       "11332          1         H3F3B   22242.952380   3172.993304\n",
       "11690          1         HLA-A   23548.641068   2526.748119\n",
       "...          ...           ...            ...           ...\n",
       "27871          1         RPS20   10592.459710   4462.236500\n",
       "27889          1         RPS21    3543.997000   3691.974290\n",
       "27893          1         RPS23   10612.878110   6416.408318\n",
       "27904          1         RPS24    4385.271750   2629.936484\n",
       "27915          1         RPS25    8066.967180   2155.741820\n",
       "27939          1         RPS27   18364.232400  18297.406600\n",
       "27940          1        RPS27A    9154.930860   3272.508080\n",
       "27960          1         RPS28    3405.481400    943.174500\n",
       "27962          1       RPS28P7     496.361000   1419.800000\n",
       "27964          1         RPS29    6309.554312   8519.849954\n",
       "27994          1          RPS3   10531.656580   3286.459810\n",
       "27995          1         RPS3A   14109.841720   3478.380620\n",
       "28035          1         RPS4X    7474.992020   1812.682506\n",
       "28061          1          RPS5    6171.101740   1823.324043\n",
       "28065          1          RPS6   17155.002000   3373.415500\n",
       "28085          1          RPS7    5922.375480   1568.880210\n",
       "28101          1          RPS8    8798.955710   2108.161580\n",
       "28104          1          RPS9    7959.277988   2919.663396\n",
       "28106          1          RPSA    8841.671800   1644.032810\n",
       "28778          1           SF1    8186.004270   1326.085863\n",
       "28794          1          SFPQ    8307.925700    954.542500\n",
       "29530          1         SMAP2    9471.998000   1268.576000\n",
       "29558          1        SMCHD1   13840.057710    918.705490\n",
       "30700          1        TAGLN2    6846.842000    921.281400\n",
       "31664          1        TMSB4X    4792.985650   1804.718500\n",
       "31795          1         TOMM7    1372.178380    922.921900\n",
       "31901          1          TPT1   26359.576610   6385.755490\n",
       "32405          1       TSC22D3   27901.028420   3378.124772\n",
       "32738          1         UBA52    5074.589600   1886.715760\n",
       "32763          1           UBC   19564.956990   1554.879578\n",
       "\n",
       "[152 rows x 4 columns]"
      ]
     },
     "execution_count": 393,
     "metadata": {},
     "output_type": "execute_result"
    }
   ],
   "source": [
    "# get outliers (http://stackoverflow.com/a/31502974/130164)\n",
    "df[((df.tpm - df.tpm.mean()) / df.tpm.std()).abs() > 3]"
   ]
  },
  {
   "cell_type": "code",
   "execution_count": 394,
   "metadata": {
    "collapsed": true
   },
   "outputs": [],
   "source": [
    "df=df[df['tpm']!=0]"
   ]
  },
  {
   "cell_type": "code",
   "execution_count": 395,
   "metadata": {
    "collapsed": false
   },
   "outputs": [],
   "source": [
    "df['logtpm'] = df.tpm.apply(np.log2)\n",
    "df['logcnt'] = df.est_counts.apply(np.log2)"
   ]
  },
  {
   "cell_type": "code",
   "execution_count": 396,
   "metadata": {
    "collapsed": false
   },
   "outputs": [
    {
     "data": {
      "text/plain": [
       "count    21822.000000\n",
       "mean         1.876540\n",
       "std          3.187812\n",
       "min        -25.593901\n",
       "25%         -0.525184\n",
       "50%          1.747749\n",
       "75%          4.235832\n",
       "max         14.484187\n",
       "Name: logtpm, dtype: float64"
      ]
     },
     "execution_count": 396,
     "metadata": {},
     "output_type": "execute_result"
    },
    {
     "data": {
      "image/png": "[encoded data removed]",
      "text/plain": [
       "<matplotlib.figure.Figure at 0x7fea8c3a3650>"
      ]
     },
     "metadata": {},
     "output_type": "display_data"
    }
   ],
   "source": [
    "df.logtpm.hist()\n",
    "df.logtpm.describe()"
   ]
  },
  {
   "cell_type": "code",
   "execution_count": 397,
   "metadata": {
    "collapsed": false
   },
   "outputs": [
    {
     "data": {
      "text/html": [
       "<div>\n",
       "<table border=\"1\" class=\"dataframe\">\n",
       "  <thead>\n",
       "    <tr style=\"text-align: right;\">\n",
       "      <th></th>\n",
       "      <th>sample_id</th>\n",
       "      <th>gene_name</th>\n",
       "      <th>est_counts</th>\n",
       "      <th>tpm</th>\n",
       "      <th>logtpm</th>\n",
       "      <th>logcnt</th>\n",
       "    </tr>\n",
       "  </thead>\n",
       "  <tbody>\n",
       "    <tr>\n",
       "      <th>0</th>\n",
       "      <td>1</td>\n",
       "      <td>A1BG</td>\n",
       "      <td>80.232280</td>\n",
       "      <td>11.155641</td>\n",
       "      <td>3.479702</td>\n",
       "      <td>6.326111</td>\n",
       "    </tr>\n",
       "    <tr>\n",
       "      <th>1</th>\n",
       "      <td>1</td>\n",
       "      <td>A1CF</td>\n",
       "      <td>18.042401</td>\n",
       "      <td>0.382263</td>\n",
       "      <td>-1.387362</td>\n",
       "      <td>4.173319</td>\n",
       "    </tr>\n",
       "    <tr>\n",
       "      <th>2</th>\n",
       "      <td>1</td>\n",
       "      <td>A2M</td>\n",
       "      <td>3.000000</td>\n",
       "      <td>1.226161</td>\n",
       "      <td>0.294148</td>\n",
       "      <td>1.584963</td>\n",
       "    </tr>\n",
       "    <tr>\n",
       "      <th>3</th>\n",
       "      <td>1</td>\n",
       "      <td>A2ML1</td>\n",
       "      <td>21.912401</td>\n",
       "      <td>2.756862</td>\n",
       "      <td>1.463027</td>\n",
       "      <td>4.453676</td>\n",
       "    </tr>\n",
       "    <tr>\n",
       "      <th>4</th>\n",
       "      <td>1</td>\n",
       "      <td>A2MP1</td>\n",
       "      <td>2.000000</td>\n",
       "      <td>0.092441</td>\n",
       "      <td>-3.435319</td>\n",
       "      <td>1.000000</td>\n",
       "    </tr>\n",
       "  </tbody>\n",
       "</table>\n",
       "</div>"
      ],
      "text/plain": [
       "   sample_id gene_name  est_counts        tpm    logtpm    logcnt\n",
       "0          1      A1BG   80.232280  11.155641  3.479702  6.326111\n",
       "1          1      A1CF   18.042401   0.382263 -1.387362  4.173319\n",
       "2          1       A2M    3.000000   1.226161  0.294148  1.584963\n",
       "3          1     A2ML1   21.912401   2.756862  1.463027  4.453676\n",
       "4          1     A2MP1    2.000000   0.092441 -3.435319  1.000000"
      ]
     },
     "execution_count": 397,
     "metadata": {},
     "output_type": "execute_result"
    }
   ],
   "source": [
    "rna=rna[rna['tpm']!=0]\n",
    "rna['logtpm'] = rna.tpm.apply(np.log2)\n",
    "rna['logcnt'] = rna.est_counts.apply(np.log2)\n",
    "rna.head()"
   ]
  },
  {
   "cell_type": "code",
   "execution_count": 398,
   "metadata": {
    "collapsed": false
   },
   "outputs": [
    {
     "data": {
      "text/html": [
       "<div>\n",
       "<table border=\"1\" class=\"dataframe\">\n",
       "  <thead>\n",
       "    <tr style=\"text-align: right;\">\n",
       "      <th></th>\n",
       "      <th></th>\n",
       "      <th>est_counts</th>\n",
       "      <th>tpm</th>\n",
       "      <th>logtpm</th>\n",
       "      <th>logcnt</th>\n",
       "    </tr>\n",
       "    <tr>\n",
       "      <th>sample_id</th>\n",
       "      <th>gene_name</th>\n",
       "      <th></th>\n",
       "      <th></th>\n",
       "      <th></th>\n",
       "      <th></th>\n",
       "    </tr>\n",
       "  </thead>\n",
       "  <tbody>\n",
       "    <tr>\n",
       "      <th rowspan=\"5\" valign=\"top\">1</th>\n",
       "      <th>A1BG</th>\n",
       "      <td>80.232280</td>\n",
       "      <td>11.155641</td>\n",
       "      <td>3.479702</td>\n",
       "      <td>6.326111</td>\n",
       "    </tr>\n",
       "    <tr>\n",
       "      <th>A1CF</th>\n",
       "      <td>18.042401</td>\n",
       "      <td>0.382263</td>\n",
       "      <td>-1.387362</td>\n",
       "      <td>4.173319</td>\n",
       "    </tr>\n",
       "    <tr>\n",
       "      <th>A2M</th>\n",
       "      <td>3.000000</td>\n",
       "      <td>1.226161</td>\n",
       "      <td>0.294148</td>\n",
       "      <td>1.584963</td>\n",
       "    </tr>\n",
       "    <tr>\n",
       "      <th>A2ML1</th>\n",
       "      <td>21.912401</td>\n",
       "      <td>2.756862</td>\n",
       "      <td>1.463027</td>\n",
       "      <td>4.453676</td>\n",
       "    </tr>\n",
       "    <tr>\n",
       "      <th>A2MP1</th>\n",
       "      <td>2.000000</td>\n",
       "      <td>0.092441</td>\n",
       "      <td>-3.435319</td>\n",
       "      <td>1.000000</td>\n",
       "    </tr>\n",
       "  </tbody>\n",
       "</table>\n",
       "</div>"
      ],
      "text/plain": [
       "                     est_counts        tpm    logtpm    logcnt\n",
       "sample_id gene_name                                           \n",
       "1         A1BG        80.232280  11.155641  3.479702  6.326111\n",
       "          A1CF        18.042401   0.382263 -1.387362  4.173319\n",
       "          A2M          3.000000   1.226161  0.294148  1.584963\n",
       "          A2ML1       21.912401   2.756862  1.463027  4.453676\n",
       "          A2MP1        2.000000   0.092441 -3.435319  1.000000"
      ]
     },
     "execution_count": 398,
     "metadata": {},
     "output_type": "execute_result"
    }
   ],
   "source": [
    "rna.set_index(['sample_id', 'gene_name']).head()"
   ]
  },
  {
   "cell_type": "code",
   "execution_count": 399,
   "metadata": {
    "collapsed": false
   },
   "outputs": [
    {
     "data": {
      "text/html": [
       "<div>\n",
       "<table border=\"1\" class=\"dataframe\">\n",
       "  <thead>\n",
       "    <tr style=\"text-align: right;\">\n",
       "      <th>sample_id</th>\n",
       "      <th>1</th>\n",
       "      <th>2</th>\n",
       "      <th>3</th>\n",
       "    </tr>\n",
       "    <tr>\n",
       "      <th>gene_name</th>\n",
       "      <th></th>\n",
       "      <th></th>\n",
       "      <th></th>\n",
       "    </tr>\n",
       "  </thead>\n",
       "  <tbody>\n",
       "    <tr>\n",
       "      <th>A1BG</th>\n",
       "      <td>3.479702</td>\n",
       "      <td>3.348695</td>\n",
       "      <td>4.042671</td>\n",
       "    </tr>\n",
       "    <tr>\n",
       "      <th>A1CF</th>\n",
       "      <td>-1.387362</td>\n",
       "      <td>-2.531273</td>\n",
       "      <td>-1.741175</td>\n",
       "    </tr>\n",
       "    <tr>\n",
       "      <th>A2M</th>\n",
       "      <td>0.294148</td>\n",
       "      <td>0.678451</td>\n",
       "      <td>0.176290</td>\n",
       "    </tr>\n",
       "    <tr>\n",
       "      <th>A2ML1</th>\n",
       "      <td>1.463027</td>\n",
       "      <td>-0.434278</td>\n",
       "      <td>0.834535</td>\n",
       "    </tr>\n",
       "    <tr>\n",
       "      <th>A2MP1</th>\n",
       "      <td>-3.435319</td>\n",
       "      <td>-3.710894</td>\n",
       "      <td>-2.707625</td>\n",
       "    </tr>\n",
       "  </tbody>\n",
       "</table>\n",
       "</div>"
      ],
      "text/plain": [
       "sample_id         1         2         3\n",
       "gene_name                              \n",
       "A1BG       3.479702  3.348695  4.042671\n",
       "A1CF      -1.387362 -2.531273 -1.741175\n",
       "A2M        0.294148  0.678451  0.176290\n",
       "A2ML1      1.463027 -0.434278  0.834535\n",
       "A2MP1     -3.435319 -3.710894 -2.707625"
      ]
     },
     "execution_count": 399,
     "metadata": {},
     "output_type": "execute_result"
    }
   ],
   "source": [
    "two_samples_logtpm = rna.reset_index().pivot(index='gene_name', columns='sample_id',values='logtpm')\n",
    "two_samples_logcnt = rna.reset_index().pivot(index='gene_name', columns='sample_id',values='logcnt')\n",
    "two_samples_logtpm.head()\n"
   ]
  },
  {
   "cell_type": "code",
   "execution_count": 400,
   "metadata": {
    "collapsed": false
   },
   "outputs": [
    {
     "data": {
      "text/html": [
       "<div>\n",
       "<table border=\"1\" class=\"dataframe\">\n",
       "  <thead>\n",
       "    <tr style=\"text-align: right;\">\n",
       "      <th>sample_id</th>\n",
       "      <th>1</th>\n",
       "      <th>2</th>\n",
       "      <th>3</th>\n",
       "    </tr>\n",
       "    <tr>\n",
       "      <th>gene_name</th>\n",
       "      <th></th>\n",
       "      <th></th>\n",
       "      <th></th>\n",
       "    </tr>\n",
       "  </thead>\n",
       "  <tbody>\n",
       "    <tr>\n",
       "      <th>A1BG</th>\n",
       "      <td>6.326111</td>\n",
       "      <td>6.369809</td>\n",
       "      <td>6.735786</td>\n",
       "    </tr>\n",
       "    <tr>\n",
       "      <th>A1CF</th>\n",
       "      <td>4.173319</td>\n",
       "      <td>3.327486</td>\n",
       "      <td>4.104387</td>\n",
       "    </tr>\n",
       "    <tr>\n",
       "      <th>A2M</th>\n",
       "      <td>1.584963</td>\n",
       "      <td>2.000000</td>\n",
       "      <td>2.616178</td>\n",
       "    </tr>\n",
       "    <tr>\n",
       "      <th>A2ML1</th>\n",
       "      <td>4.453676</td>\n",
       "      <td>3.769132</td>\n",
       "      <td>4.416446</td>\n",
       "    </tr>\n",
       "    <tr>\n",
       "      <th>A2MP1</th>\n",
       "      <td>1.000000</td>\n",
       "      <td>1.000000</td>\n",
       "      <td>2.000001</td>\n",
       "    </tr>\n",
       "  </tbody>\n",
       "</table>\n",
       "</div>"
      ],
      "text/plain": [
       "sample_id         1         2         3\n",
       "gene_name                              \n",
       "A1BG       6.326111  6.369809  6.735786\n",
       "A1CF       4.173319  3.327486  4.104387\n",
       "A2M        1.584963  2.000000  2.616178\n",
       "A2ML1      4.453676  3.769132  4.416446\n",
       "A2MP1      1.000000  1.000000  2.000001"
      ]
     },
     "execution_count": 400,
     "metadata": {},
     "output_type": "execute_result"
    }
   ],
   "source": [
    "two_samples_logcnt.head()"
   ]
  },
  {
   "cell_type": "code",
   "execution_count": 401,
   "metadata": {
    "collapsed": false
   },
   "outputs": [
    {
     "data": {
      "text/plain": [
       "(26717, 6)"
      ]
     },
     "execution_count": 401,
     "metadata": {},
     "output_type": "execute_result"
    }
   ],
   "source": [
    "two_samples = pd.merge(two_samples_logtpm, two_samples_logcnt, how='inner', left_index=True, right_index=True)\n",
    "two_samples.shape"
   ]
  },
  {
   "cell_type": "code",
   "execution_count": 402,
   "metadata": {
    "collapsed": false
   },
   "outputs": [
    {
     "name": "stdout",
     "output_type": "stream",
     "text": [
      "(26717, 6)\n",
      "(18352, 6)\n"
     ]
    }
   ],
   "source": [
    "print two_samples.shape\n",
    "print two_samples.dropna(how='any').shape"
   ]
  },
  {
   "cell_type": "code",
   "execution_count": 403,
   "metadata": {
    "collapsed": true
   },
   "outputs": [],
   "source": [
    "two_samples = two_samples.dropna(how='any')"
   ]
  },
  {
   "cell_type": "code",
   "execution_count": 404,
   "metadata": {
    "collapsed": false
   },
   "outputs": [
    {
     "data": {
      "text/html": [
       "<div>\n",
       "<table border=\"1\" class=\"dataframe\">\n",
       "  <thead>\n",
       "    <tr style=\"text-align: right;\">\n",
       "      <th>sample_id</th>\n",
       "      <th>1_x</th>\n",
       "      <th>2_x</th>\n",
       "      <th>3_x</th>\n",
       "      <th>1_y</th>\n",
       "      <th>2_y</th>\n",
       "      <th>3_y</th>\n",
       "    </tr>\n",
       "    <tr>\n",
       "      <th>gene_name</th>\n",
       "      <th></th>\n",
       "      <th></th>\n",
       "      <th></th>\n",
       "      <th></th>\n",
       "      <th></th>\n",
       "      <th></th>\n",
       "    </tr>\n",
       "  </thead>\n",
       "  <tbody>\n",
       "    <tr>\n",
       "      <th>A1BG</th>\n",
       "      <td>3.479702</td>\n",
       "      <td>3.348695</td>\n",
       "      <td>4.042671</td>\n",
       "      <td>6.326111</td>\n",
       "      <td>6.369809</td>\n",
       "      <td>6.735786</td>\n",
       "    </tr>\n",
       "    <tr>\n",
       "      <th>A1CF</th>\n",
       "      <td>-1.387362</td>\n",
       "      <td>-2.531273</td>\n",
       "      <td>-1.741175</td>\n",
       "      <td>4.173319</td>\n",
       "      <td>3.327486</td>\n",
       "      <td>4.104387</td>\n",
       "    </tr>\n",
       "    <tr>\n",
       "      <th>A2M</th>\n",
       "      <td>0.294148</td>\n",
       "      <td>0.678451</td>\n",
       "      <td>0.176290</td>\n",
       "      <td>1.584963</td>\n",
       "      <td>2.000000</td>\n",
       "      <td>2.616178</td>\n",
       "    </tr>\n",
       "    <tr>\n",
       "      <th>A2ML1</th>\n",
       "      <td>1.463027</td>\n",
       "      <td>-0.434278</td>\n",
       "      <td>0.834535</td>\n",
       "      <td>4.453676</td>\n",
       "      <td>3.769132</td>\n",
       "      <td>4.416446</td>\n",
       "    </tr>\n",
       "    <tr>\n",
       "      <th>A2MP1</th>\n",
       "      <td>-3.435319</td>\n",
       "      <td>-3.710894</td>\n",
       "      <td>-2.707625</td>\n",
       "      <td>1.000000</td>\n",
       "      <td>1.000000</td>\n",
       "      <td>2.000001</td>\n",
       "    </tr>\n",
       "  </tbody>\n",
       "</table>\n",
       "</div>"
      ],
      "text/plain": [
       "sample_id       1_x       2_x       3_x       1_y       2_y       3_y\n",
       "gene_name                                                            \n",
       "A1BG       3.479702  3.348695  4.042671  6.326111  6.369809  6.735786\n",
       "A1CF      -1.387362 -2.531273 -1.741175  4.173319  3.327486  4.104387\n",
       "A2M        0.294148  0.678451  0.176290  1.584963  2.000000  2.616178\n",
       "A2ML1      1.463027 -0.434278  0.834535  4.453676  3.769132  4.416446\n",
       "A2MP1     -3.435319 -3.710894 -2.707625  1.000000  1.000000  2.000001"
      ]
     },
     "execution_count": 404,
     "metadata": {},
     "output_type": "execute_result"
    }
   ],
   "source": [
    "two_samples.head()"
   ]
  },
  {
   "cell_type": "code",
   "execution_count": 405,
   "metadata": {
    "collapsed": false
   },
   "outputs": [
    {
     "data": {
      "text/html": [
       "<div>\n",
       "<table border=\"1\" class=\"dataframe\">\n",
       "  <thead>\n",
       "    <tr style=\"text-align: right;\">\n",
       "      <th></th>\n",
       "      <th>1_logtpm</th>\n",
       "      <th>2_logtpm</th>\n",
       "      <th>3_logtpm</th>\n",
       "      <th>1_logcnt</th>\n",
       "      <th>2_logcnt</th>\n",
       "      <th>3_logcnt</th>\n",
       "    </tr>\n",
       "    <tr>\n",
       "      <th>gene_name</th>\n",
       "      <th></th>\n",
       "      <th></th>\n",
       "      <th></th>\n",
       "      <th></th>\n",
       "      <th></th>\n",
       "      <th></th>\n",
       "    </tr>\n",
       "  </thead>\n",
       "  <tbody>\n",
       "    <tr>\n",
       "      <th>A1BG</th>\n",
       "      <td>3.479702</td>\n",
       "      <td>3.348695</td>\n",
       "      <td>4.042671</td>\n",
       "      <td>6.326111</td>\n",
       "      <td>6.369809</td>\n",
       "      <td>6.735786</td>\n",
       "    </tr>\n",
       "    <tr>\n",
       "      <th>A1CF</th>\n",
       "      <td>-1.387362</td>\n",
       "      <td>-2.531273</td>\n",
       "      <td>-1.741175</td>\n",
       "      <td>4.173319</td>\n",
       "      <td>3.327486</td>\n",
       "      <td>4.104387</td>\n",
       "    </tr>\n",
       "    <tr>\n",
       "      <th>A2M</th>\n",
       "      <td>0.294148</td>\n",
       "      <td>0.678451</td>\n",
       "      <td>0.176290</td>\n",
       "      <td>1.584963</td>\n",
       "      <td>2.000000</td>\n",
       "      <td>2.616178</td>\n",
       "    </tr>\n",
       "    <tr>\n",
       "      <th>A2ML1</th>\n",
       "      <td>1.463027</td>\n",
       "      <td>-0.434278</td>\n",
       "      <td>0.834535</td>\n",
       "      <td>4.453676</td>\n",
       "      <td>3.769132</td>\n",
       "      <td>4.416446</td>\n",
       "    </tr>\n",
       "    <tr>\n",
       "      <th>A2MP1</th>\n",
       "      <td>-3.435319</td>\n",
       "      <td>-3.710894</td>\n",
       "      <td>-2.707625</td>\n",
       "      <td>1.000000</td>\n",
       "      <td>1.000000</td>\n",
       "      <td>2.000001</td>\n",
       "    </tr>\n",
       "  </tbody>\n",
       "</table>\n",
       "</div>"
      ],
      "text/plain": [
       "           1_logtpm  2_logtpm  3_logtpm  1_logcnt  2_logcnt  3_logcnt\n",
       "gene_name                                                            \n",
       "A1BG       3.479702  3.348695  4.042671  6.326111  6.369809  6.735786\n",
       "A1CF      -1.387362 -2.531273 -1.741175  4.173319  3.327486  4.104387\n",
       "A2M        0.294148  0.678451  0.176290  1.584963  2.000000  2.616178\n",
       "A2ML1      1.463027 -0.434278  0.834535  4.453676  3.769132  4.416446\n",
       "A2MP1     -3.435319 -3.710894 -2.707625  1.000000  1.000000  2.000001"
      ]
     },
     "execution_count": 405,
     "metadata": {},
     "output_type": "execute_result"
    }
   ],
   "source": [
    "cols_1=['%d_logtpm' % i for i in range(1, len(two_samples.columns) / 2 + 1)]\n",
    "cols_2=['%d_logcnt' % i for i in range(1, len(two_samples.columns) / 2 + 1)]\n",
    "two_samples.columns = cols_1+cols_2\n",
    "two_samples.head()"
   ]
  },
  {
   "cell_type": "markdown",
   "metadata": {},
   "source": [
    "What we want to do:\n",
    "Treat microarray and rnaseq data as two samples. How much does it look like they're the same phenotype?\n",
    "\n",
    "* Compare diffs\n",
    "* Do hierarchical clustering and see how it looks. Are patterns the same?\n",
    "* Look for differentially expressed genes, see how many are different (shouldn't be many)\n",
    "* Sort by most highly expressed transcripts in each sample. Compare ratio between expression of top two.\n",
    "\n",
    "\n",
    "Apparently running voom transformation on RNAseq data enables treating it like microarray data, i.e. doing linear modeling and GSEA."
   ]
  },
  {
   "cell_type": "code",
   "execution_count": 406,
   "metadata": {
    "collapsed": false
   },
   "outputs": [],
   "source": [
    "# get microarray data\n",
    "ma = pd.read_csv('../all_expressions.tsv', sep='\\t')"
   ]
  },
  {
   "cell_type": "code",
   "execution_count": 407,
   "metadata": {
    "collapsed": true
   },
   "outputs": [],
   "source": [
    "del ma['Unnamed: 0']\n",
    "del ma['ACCNUM']\n",
    "del ma['Relabel']\n",
    "del ma['DESC']"
   ]
  },
  {
   "cell_type": "code",
   "execution_count": 408,
   "metadata": {
    "collapsed": false
   },
   "outputs": [
    {
     "data": {
      "text/html": [
       "<div>\n",
       "<table border=\"1\" class=\"dataframe\">\n",
       "  <thead>\n",
       "    <tr style=\"text-align: right;\">\n",
       "      <th></th>\n",
       "      <th>geneid</th>\n",
       "      <th>probeid</th>\n",
       "      <th>PRB12534.Jurkat</th>\n",
       "      <th>PRB12535.Jurkat</th>\n",
       "      <th>PRB12536.Jurkat</th>\n",
       "      <th>PRB12537.IM.9</th>\n",
       "      <th>PRB12538.IM.9</th>\n",
       "      <th>PRB12539.IM.9</th>\n",
       "      <th>PRB12540.Raji</th>\n",
       "      <th>PRB12541.Raji</th>\n",
       "      <th>...</th>\n",
       "      <th>TEM_U133A_1 [TFH_E-MEXP-750|TEM_U133A_1]</th>\n",
       "      <th>TEM_U133A_2 [TFH_E-MEXP-750|TEM_U133A_2]</th>\n",
       "      <th>TEM_U133A_3 [TFH_E-MEXP-750|TEM_U133A_3]</th>\n",
       "      <th>TN_U133A_1 [TFH_E-MEXP-750|TN_U133A_1]</th>\n",
       "      <th>TN_U133A_2 [TFH_E-MEXP-750|TN_U133A_2]</th>\n",
       "      <th>TN_U133A_3 [TFH_E-MEXP-750|TN_U133A_3]</th>\n",
       "      <th>TH_1 [TREGs_GSE4527|GSM101518]</th>\n",
       "      <th>Treg_1 [TREGs_GSE4527|GSM101519]</th>\n",
       "      <th>TH_2 [TREGs_GSE4527|GSM101520]</th>\n",
       "      <th>Treg_2 [TREGs_GSE4527|GSM101521]</th>\n",
       "    </tr>\n",
       "  </thead>\n",
       "  <tbody>\n",
       "    <tr>\n",
       "      <th>0</th>\n",
       "      <td>RFC2</td>\n",
       "      <td>1053_at</td>\n",
       "      <td>2104.464</td>\n",
       "      <td>1913.695</td>\n",
       "      <td>1974.465</td>\n",
       "      <td>2428.428</td>\n",
       "      <td>2232.343</td>\n",
       "      <td>2470.156</td>\n",
       "      <td>831.009</td>\n",
       "      <td>713.614</td>\n",
       "      <td>...</td>\n",
       "      <td>278.508206</td>\n",
       "      <td>315.680926</td>\n",
       "      <td>325.445350</td>\n",
       "      <td>227.014010</td>\n",
       "      <td>298.255643</td>\n",
       "      <td>246.440867</td>\n",
       "      <td>317.871923</td>\n",
       "      <td>182.444126</td>\n",
       "      <td>481.930051</td>\n",
       "      <td>125.805188</td>\n",
       "    </tr>\n",
       "    <tr>\n",
       "      <th>1</th>\n",
       "      <td>RFC2</td>\n",
       "      <td>203696_s_at</td>\n",
       "      <td>2858.885</td>\n",
       "      <td>3889.223</td>\n",
       "      <td>2887.030</td>\n",
       "      <td>4171.271</td>\n",
       "      <td>4308.615</td>\n",
       "      <td>3523.738</td>\n",
       "      <td>1085.860</td>\n",
       "      <td>1109.435</td>\n",
       "      <td>...</td>\n",
       "      <td>278.508206</td>\n",
       "      <td>315.680926</td>\n",
       "      <td>325.445350</td>\n",
       "      <td>227.014010</td>\n",
       "      <td>298.255643</td>\n",
       "      <td>246.440867</td>\n",
       "      <td>317.871923</td>\n",
       "      <td>182.444126</td>\n",
       "      <td>481.930051</td>\n",
       "      <td>125.805188</td>\n",
       "    </tr>\n",
       "    <tr>\n",
       "      <th>2</th>\n",
       "      <td>HSPA6</td>\n",
       "      <td>117_at</td>\n",
       "      <td>189.528</td>\n",
       "      <td>110.972</td>\n",
       "      <td>160.200</td>\n",
       "      <td>432.932</td>\n",
       "      <td>261.238</td>\n",
       "      <td>280.899</td>\n",
       "      <td>184.187</td>\n",
       "      <td>178.548</td>\n",
       "      <td>...</td>\n",
       "      <td>12.987326</td>\n",
       "      <td>74.128591</td>\n",
       "      <td>141.683528</td>\n",
       "      <td>145.506877</td>\n",
       "      <td>21.656093</td>\n",
       "      <td>77.518896</td>\n",
       "      <td>82.051115</td>\n",
       "      <td>703.693696</td>\n",
       "      <td>194.230338</td>\n",
       "      <td>97.987345</td>\n",
       "    </tr>\n",
       "    <tr>\n",
       "      <th>3</th>\n",
       "      <td>HSPA6</td>\n",
       "      <td>213418_at</td>\n",
       "      <td>76.702</td>\n",
       "      <td>85.718</td>\n",
       "      <td>168.155</td>\n",
       "      <td>706.366</td>\n",
       "      <td>463.835</td>\n",
       "      <td>427.057</td>\n",
       "      <td>27.579</td>\n",
       "      <td>119.920</td>\n",
       "      <td>...</td>\n",
       "      <td>12.987326</td>\n",
       "      <td>74.128591</td>\n",
       "      <td>141.683528</td>\n",
       "      <td>145.506877</td>\n",
       "      <td>21.656093</td>\n",
       "      <td>77.518896</td>\n",
       "      <td>82.051115</td>\n",
       "      <td>703.693696</td>\n",
       "      <td>194.230338</td>\n",
       "      <td>97.987345</td>\n",
       "    </tr>\n",
       "    <tr>\n",
       "      <th>4</th>\n",
       "      <td>PAX8</td>\n",
       "      <td>121_at</td>\n",
       "      <td>1753.889</td>\n",
       "      <td>1291.766</td>\n",
       "      <td>1885.517</td>\n",
       "      <td>1561.437</td>\n",
       "      <td>1534.517</td>\n",
       "      <td>1540.394</td>\n",
       "      <td>1666.894</td>\n",
       "      <td>1625.360</td>\n",
       "      <td>...</td>\n",
       "      <td>26.766424</td>\n",
       "      <td>117.425553</td>\n",
       "      <td>58.012974</td>\n",
       "      <td>31.797787</td>\n",
       "      <td>102.044136</td>\n",
       "      <td>99.058819</td>\n",
       "      <td>147.641189</td>\n",
       "      <td>135.526908</td>\n",
       "      <td>38.741434</td>\n",
       "      <td>157.813189</td>\n",
       "    </tr>\n",
       "  </tbody>\n",
       "</table>\n",
       "<p>5 rows × 389 columns</p>\n",
       "</div>"
      ],
      "text/plain": [
       "  geneid      probeid  PRB12534.Jurkat  PRB12535.Jurkat  PRB12536.Jurkat  \\\n",
       "0   RFC2      1053_at         2104.464         1913.695         1974.465   \n",
       "1   RFC2  203696_s_at         2858.885         3889.223         2887.030   \n",
       "2  HSPA6       117_at          189.528          110.972          160.200   \n",
       "3  HSPA6    213418_at           76.702           85.718          168.155   \n",
       "4   PAX8       121_at         1753.889         1291.766         1885.517   \n",
       "\n",
       "   PRB12537.IM.9  PRB12538.IM.9  PRB12539.IM.9  PRB12540.Raji  PRB12541.Raji  \\\n",
       "0       2428.428       2232.343       2470.156        831.009        713.614   \n",
       "1       4171.271       4308.615       3523.738       1085.860       1109.435   \n",
       "2        432.932        261.238        280.899        184.187        178.548   \n",
       "3        706.366        463.835        427.057         27.579        119.920   \n",
       "4       1561.437       1534.517       1540.394       1666.894       1625.360   \n",
       "\n",
       "                 ...                 TEM_U133A_1 [TFH_E-MEXP-750|TEM_U133A_1]  \\\n",
       "0                ...                                               278.508206   \n",
       "1                ...                                               278.508206   \n",
       "2                ...                                                12.987326   \n",
       "3                ...                                                12.987326   \n",
       "4                ...                                                26.766424   \n",
       "\n",
       "   TEM_U133A_2 [TFH_E-MEXP-750|TEM_U133A_2]  \\\n",
       "0                                315.680926   \n",
       "1                                315.680926   \n",
       "2                                 74.128591   \n",
       "3                                 74.128591   \n",
       "4                                117.425553   \n",
       "\n",
       "   TEM_U133A_3 [TFH_E-MEXP-750|TEM_U133A_3]  \\\n",
       "0                                325.445350   \n",
       "1                                325.445350   \n",
       "2                                141.683528   \n",
       "3                                141.683528   \n",
       "4                                 58.012974   \n",
       "\n",
       "   TN_U133A_1 [TFH_E-MEXP-750|TN_U133A_1]  \\\n",
       "0                              227.014010   \n",
       "1                              227.014010   \n",
       "2                              145.506877   \n",
       "3                              145.506877   \n",
       "4                               31.797787   \n",
       "\n",
       "   TN_U133A_2 [TFH_E-MEXP-750|TN_U133A_2]  \\\n",
       "0                              298.255643   \n",
       "1                              298.255643   \n",
       "2                               21.656093   \n",
       "3                               21.656093   \n",
       "4                              102.044136   \n",
       "\n",
       "   TN_U133A_3 [TFH_E-MEXP-750|TN_U133A_3]  TH_1 [TREGs_GSE4527|GSM101518]  \\\n",
       "0                              246.440867                      317.871923   \n",
       "1                              246.440867                      317.871923   \n",
       "2                               77.518896                       82.051115   \n",
       "3                               77.518896                       82.051115   \n",
       "4                               99.058819                      147.641189   \n",
       "\n",
       "   Treg_1 [TREGs_GSE4527|GSM101519]  TH_2 [TREGs_GSE4527|GSM101520]  \\\n",
       "0                        182.444126                      481.930051   \n",
       "1                        182.444126                      481.930051   \n",
       "2                        703.693696                      194.230338   \n",
       "3                        703.693696                      194.230338   \n",
       "4                        135.526908                       38.741434   \n",
       "\n",
       "   Treg_2 [TREGs_GSE4527|GSM101521]  \n",
       "0                        125.805188  \n",
       "1                        125.805188  \n",
       "2                         97.987345  \n",
       "3                         97.987345  \n",
       "4                        157.813189  \n",
       "\n",
       "[5 rows x 389 columns]"
      ]
     },
     "execution_count": 408,
     "metadata": {},
     "output_type": "execute_result"
    }
   ],
   "source": [
    "ma.head()"
   ]
  },
  {
   "cell_type": "code",
   "execution_count": 409,
   "metadata": {
    "collapsed": false
   },
   "outputs": [
    {
     "name": "stdout",
     "output_type": "stream",
     "text": [
      "Bcell-naive-1 [HG-U133A] [IRIS_GSE22886|GSM565308]\n",
      "Bcell-naive-2 [HG-U133A] [IRIS_GSE22886|GSM565309]\n",
      "Bcell-naive-3 [HG-U133A] [IRIS_GSE22886|GSM565310]\n",
      "Bcell-naive-4 [HG-U133A] [IRIS_GSE22886|GSM565311]\n",
      "Bcell-naive-5 [HG-U133A] [IRIS_GSE22886|GSM565312]\n",
      "Bcell-naive-6 [HG-U133A] [IRIS_GSE22886|GSM565313]\n",
      "Bcell-naive-7 [HG-U133A] [IRIS_GSE22886|GSM565314]\n"
     ]
    }
   ],
   "source": [
    "for c in ma.columns:\n",
    "    if 'naive' in c.lower():\n",
    "        print c"
   ]
  },
  {
   "cell_type": "code",
   "execution_count": 410,
   "metadata": {
    "collapsed": false
   },
   "outputs": [
    {
     "name": "stdout",
     "output_type": "stream",
     "text": [
      "A_LW_neutrophil_U133A.CEL\n",
      "A_MF_neutrophils_U133A.CEL\n",
      "A_LW_neutrophil_U133A [Chtanova_immune|A_LW_neutrophil_U133A]\n",
      "A_MF_neutrophils_U133A [Chtanova_immune|A_MF_neutrophils_U133A]\n",
      "Neutrophil-Resting-1 [HG-U133A] [IRIS_GSE22886|GSM565378]\n",
      "Neutrophil-Resting-2 [HG-U133A] [IRIS_GSE22886|GSM565379]\n",
      "Neutrophil-Resting-3 [HG-U133A] [IRIS_GSE22886|GSM565380]\n",
      "Neutrophil-Resting-4 [HG-U133A] [IRIS_GSE22886|GSM565381]\n",
      "Neutrophil-Resting-5 [HG-U133A] [IRIS_GSE22886|GSM565382]\n"
     ]
    }
   ],
   "source": [
    "for c in ma.columns:\n",
    "    if 'neutrophil' in c.lower():\n",
    "        print c"
   ]
  },
  {
   "cell_type": "code",
   "execution_count": 411,
   "metadata": {
    "collapsed": false
   },
   "outputs": [],
   "source": [
    "ma = ma.set_index('geneid')[[\n",
    "        'Bcell-naive-1 [HG-U133A] [IRIS_GSE22886|GSM565308]',\n",
    "        'Bcell-naive-2 [HG-U133A] [IRIS_GSE22886|GSM565309]',\n",
    "        'Neutrophil-Resting-1 [HG-U133A] [IRIS_GSE22886|GSM565378]'\n",
    "    ]]"
   ]
  },
  {
   "cell_type": "code",
   "execution_count": 412,
   "metadata": {
    "collapsed": false
   },
   "outputs": [
    {
     "data": {
      "text/html": [
       "<div>\n",
       "<table border=\"1\" class=\"dataframe\">\n",
       "  <thead>\n",
       "    <tr style=\"text-align: right;\">\n",
       "      <th></th>\n",
       "      <th>Bcell</th>\n",
       "      <th>Bcell2</th>\n",
       "      <th>Neutrophil</th>\n",
       "    </tr>\n",
       "    <tr>\n",
       "      <th>geneid</th>\n",
       "      <th></th>\n",
       "      <th></th>\n",
       "      <th></th>\n",
       "    </tr>\n",
       "  </thead>\n",
       "  <tbody>\n",
       "    <tr>\n",
       "      <th>RFC2</th>\n",
       "      <td>178.716943</td>\n",
       "      <td>374.972101</td>\n",
       "      <td>177.474794</td>\n",
       "    </tr>\n",
       "    <tr>\n",
       "      <th>RFC2</th>\n",
       "      <td>178.716943</td>\n",
       "      <td>374.972101</td>\n",
       "      <td>177.474794</td>\n",
       "    </tr>\n",
       "    <tr>\n",
       "      <th>HSPA6</th>\n",
       "      <td>56.191778</td>\n",
       "      <td>150.986117</td>\n",
       "      <td>3185.117837</td>\n",
       "    </tr>\n",
       "    <tr>\n",
       "      <th>HSPA6</th>\n",
       "      <td>56.191778</td>\n",
       "      <td>150.986117</td>\n",
       "      <td>3185.117837</td>\n",
       "    </tr>\n",
       "    <tr>\n",
       "      <th>PAX8</th>\n",
       "      <td>339.781267</td>\n",
       "      <td>298.001814</td>\n",
       "      <td>278.156498</td>\n",
       "    </tr>\n",
       "  </tbody>\n",
       "</table>\n",
       "</div>"
      ],
      "text/plain": [
       "             Bcell      Bcell2   Neutrophil\n",
       "geneid                                     \n",
       "RFC2    178.716943  374.972101   177.474794\n",
       "RFC2    178.716943  374.972101   177.474794\n",
       "HSPA6    56.191778  150.986117  3185.117837\n",
       "HSPA6    56.191778  150.986117  3185.117837\n",
       "PAX8    339.781267  298.001814   278.156498"
      ]
     },
     "execution_count": 412,
     "metadata": {},
     "output_type": "execute_result"
    }
   ],
   "source": [
    "ma.columns = ['Bcell', 'Bcell2', 'Neutrophil'] # related, unrelated\n",
    "ma.head()"
   ]
  },
  {
   "cell_type": "code",
   "execution_count": 413,
   "metadata": {
    "collapsed": false
   },
   "outputs": [
    {
     "data": {
      "text/html": [
       "<div>\n",
       "<table border=\"1\" class=\"dataframe\">\n",
       "  <thead>\n",
       "    <tr style=\"text-align: right;\">\n",
       "      <th></th>\n",
       "      <th>logtpm</th>\n",
       "      <th>logcnt</th>\n",
       "    </tr>\n",
       "    <tr>\n",
       "      <th>gene_name</th>\n",
       "      <th></th>\n",
       "      <th></th>\n",
       "    </tr>\n",
       "  </thead>\n",
       "  <tbody>\n",
       "    <tr>\n",
       "      <th>A1BG</th>\n",
       "      <td>3.479702</td>\n",
       "      <td>6.326111</td>\n",
       "    </tr>\n",
       "    <tr>\n",
       "      <th>A1CF</th>\n",
       "      <td>-1.387362</td>\n",
       "      <td>4.173319</td>\n",
       "    </tr>\n",
       "    <tr>\n",
       "      <th>A2M</th>\n",
       "      <td>0.294148</td>\n",
       "      <td>1.584963</td>\n",
       "    </tr>\n",
       "    <tr>\n",
       "      <th>A2ML1</th>\n",
       "      <td>1.463027</td>\n",
       "      <td>4.453676</td>\n",
       "    </tr>\n",
       "    <tr>\n",
       "      <th>A2MP1</th>\n",
       "      <td>-3.435319</td>\n",
       "      <td>1.000000</td>\n",
       "    </tr>\n",
       "  </tbody>\n",
       "</table>\n",
       "</div>"
      ],
      "text/plain": [
       "             logtpm    logcnt\n",
       "gene_name                    \n",
       "A1BG       3.479702  6.326111\n",
       "A1CF      -1.387362  4.173319\n",
       "A2M        0.294148  1.584963\n",
       "A2ML1      1.463027  4.453676\n",
       "A2MP1     -3.435319  1.000000"
      ]
     },
     "execution_count": 413,
     "metadata": {},
     "output_type": "execute_result"
    }
   ],
   "source": [
    "rna_1 = df.set_index('gene_name')[['logtpm', 'logcnt']]\n",
    "rna_1.head()"
   ]
  },
  {
   "cell_type": "code",
   "execution_count": 414,
   "metadata": {
    "collapsed": false
   },
   "outputs": [
    {
     "data": {
      "text/plain": [
       "(Index([u'RFC2', u'RFC2', u'HSPA6', u'HSPA6', u'PAX8', u'PAX8', u'PAX8',\n",
       "        u'PAX8', u'PAX8', u'PAX8',\n",
       "        ...\n",
       "        u'SCAF4', u'SCAF4', u'ZNF324B', u'ALS2CL', u'RNF126P1', u'TUBBP5',\n",
       "        u'KCNE4', u'GALR3', u'TMEM231', u'NPEPL1'],\n",
       "       dtype='object', name=u'geneid', length=17918),\n",
       " Index([u'A1BG', u'A1CF', u'A2M', u'A2ML1', u'A2MP1', u'A3GALT2', u'A4GALT',\n",
       "        u'AAAS', u'AACS', u'AACSP1',\n",
       "        ...\n",
       "        u'ZXDB', u'ZXDC', u'ZYG11A', u'ZYG11B', u'ZYX', u'ZZEF1', u'ZZZ3',\n",
       "        u'bP-21201H5.1', u'bP-2189O9.2', u'pk'],\n",
       "       dtype='object', name=u'gene_name', length=18352))"
      ]
     },
     "execution_count": 414,
     "metadata": {},
     "output_type": "execute_result"
    }
   ],
   "source": [
    "ma.index, two_samples.index"
   ]
  },
  {
   "cell_type": "code",
   "execution_count": 415,
   "metadata": {
    "collapsed": false
   },
   "outputs": [],
   "source": [
    "assert len(two_samples.index) == len(two_samples.index.unique())"
   ]
  },
  {
   "cell_type": "code",
   "execution_count": 416,
   "metadata": {
    "collapsed": false
   },
   "outputs": [],
   "source": [
    "ma = ma.reset_index().groupby(\"geneid\").agg('mean')\n"
   ]
  },
  {
   "cell_type": "code",
   "execution_count": 417,
   "metadata": {
    "collapsed": false
   },
   "outputs": [
    {
     "data": {
      "text/html": [
       "<div>\n",
       "<table border=\"1\" class=\"dataframe\">\n",
       "  <thead>\n",
       "    <tr style=\"text-align: right;\">\n",
       "      <th></th>\n",
       "      <th>Bcell</th>\n",
       "      <th>Bcell2</th>\n",
       "      <th>Neutrophil</th>\n",
       "    </tr>\n",
       "    <tr>\n",
       "      <th>geneid</th>\n",
       "      <th></th>\n",
       "      <th></th>\n",
       "      <th></th>\n",
       "    </tr>\n",
       "  </thead>\n",
       "  <tbody>\n",
       "    <tr>\n",
       "      <th>A1CF</th>\n",
       "      <td>592.243979</td>\n",
       "      <td>430.408190</td>\n",
       "      <td>469.842065</td>\n",
       "    </tr>\n",
       "    <tr>\n",
       "      <th>A2M</th>\n",
       "      <td>49.771470</td>\n",
       "      <td>142.655380</td>\n",
       "      <td>144.998331</td>\n",
       "    </tr>\n",
       "    <tr>\n",
       "      <th>A4GALT</th>\n",
       "      <td>81.824334</td>\n",
       "      <td>37.759109</td>\n",
       "      <td>17.479528</td>\n",
       "    </tr>\n",
       "    <tr>\n",
       "      <th>A4GNT</th>\n",
       "      <td>595.486500</td>\n",
       "      <td>404.809564</td>\n",
       "      <td>421.491447</td>\n",
       "    </tr>\n",
       "    <tr>\n",
       "      <th>AAAS</th>\n",
       "      <td>39.527998</td>\n",
       "      <td>38.934873</td>\n",
       "      <td>56.803877</td>\n",
       "    </tr>\n",
       "  </tbody>\n",
       "</table>\n",
       "</div>"
      ],
      "text/plain": [
       "             Bcell      Bcell2  Neutrophil\n",
       "geneid                                    \n",
       "A1CF    592.243979  430.408190  469.842065\n",
       "A2M      49.771470  142.655380  144.998331\n",
       "A4GALT   81.824334   37.759109   17.479528\n",
       "A4GNT   595.486500  404.809564  421.491447\n",
       "AAAS     39.527998   38.934873   56.803877"
      ]
     },
     "execution_count": 417,
     "metadata": {},
     "output_type": "execute_result"
    }
   ],
   "source": [
    "ma.head()"
   ]
  },
  {
   "cell_type": "code",
   "execution_count": 418,
   "metadata": {
    "collapsed": false
   },
   "outputs": [],
   "source": [
    "assert len(ma.index) == len(ma.index.unique())"
   ]
  },
  {
   "cell_type": "code",
   "execution_count": 419,
   "metadata": {
    "collapsed": false
   },
   "outputs": [
    {
     "name": "stdout",
     "output_type": "stream",
     "text": [
      "compare microarray (left), rna (right) gene names\n",
      "uniques:\n",
      "intersect:  9533\n",
      "in left ONLY : not in right: 1444\n",
      "in right ONLY : not in left: 8819\n"
     ]
    }
   ],
   "source": [
    "def compare_two_lists(a,b):\n",
    "    x,y = set(a), set(b)\n",
    "    print 'uniques:'\n",
    "    print 'intersect: ', len(x&y)\n",
    "    print 'in left ONLY : not in right:', len(x-y)\n",
    "    print 'in right ONLY : not in left:', len(y-x)\n",
    "print 'compare microarray (left), rna (right) gene names'\n",
    "compare_two_lists(ma.index, two_samples.index)"
   ]
  },
  {
   "cell_type": "markdown",
   "metadata": {},
   "source": [
    "Why are there so many new genes in RNAseq? Is the platform just that much better?"
   ]
  },
  {
   "cell_type": "code",
   "execution_count": 420,
   "metadata": {
    "collapsed": false
   },
   "outputs": [
    {
     "data": {
      "text/html": [
       "<div>\n",
       "<table border=\"1\" class=\"dataframe\">\n",
       "  <thead>\n",
       "    <tr style=\"text-align: right;\">\n",
       "      <th></th>\n",
       "      <th>Bcell</th>\n",
       "      <th>Bcell2</th>\n",
       "      <th>Neutrophil</th>\n",
       "      <th>1_logtpm</th>\n",
       "      <th>2_logtpm</th>\n",
       "      <th>3_logtpm</th>\n",
       "      <th>1_logcnt</th>\n",
       "      <th>2_logcnt</th>\n",
       "      <th>3_logcnt</th>\n",
       "    </tr>\n",
       "  </thead>\n",
       "  <tbody>\n",
       "    <tr>\n",
       "      <th>A1CF</th>\n",
       "      <td>592.243979</td>\n",
       "      <td>430.408190</td>\n",
       "      <td>469.842065</td>\n",
       "      <td>-1.387362</td>\n",
       "      <td>-2.531273</td>\n",
       "      <td>-1.741175</td>\n",
       "      <td>4.173319</td>\n",
       "      <td>3.327486</td>\n",
       "      <td>4.104387</td>\n",
       "    </tr>\n",
       "    <tr>\n",
       "      <th>A2M</th>\n",
       "      <td>49.771470</td>\n",
       "      <td>142.655380</td>\n",
       "      <td>144.998331</td>\n",
       "      <td>0.294148</td>\n",
       "      <td>0.678451</td>\n",
       "      <td>0.176290</td>\n",
       "      <td>1.584963</td>\n",
       "      <td>2.000000</td>\n",
       "      <td>2.616178</td>\n",
       "    </tr>\n",
       "    <tr>\n",
       "      <th>A4GALT</th>\n",
       "      <td>81.824334</td>\n",
       "      <td>37.759109</td>\n",
       "      <td>17.479528</td>\n",
       "      <td>-0.765860</td>\n",
       "      <td>0.866269</td>\n",
       "      <td>0.147569</td>\n",
       "      <td>1.000000</td>\n",
       "      <td>2.584963</td>\n",
       "      <td>3.169925</td>\n",
       "    </tr>\n",
       "    <tr>\n",
       "      <th>AAAS</th>\n",
       "      <td>39.527998</td>\n",
       "      <td>38.934873</td>\n",
       "      <td>56.803877</td>\n",
       "      <td>3.380071</td>\n",
       "      <td>3.864414</td>\n",
       "      <td>4.216052</td>\n",
       "      <td>5.807354</td>\n",
       "      <td>6.539159</td>\n",
       "      <td>6.894818</td>\n",
       "    </tr>\n",
       "    <tr>\n",
       "      <th>AACS</th>\n",
       "      <td>618.230944</td>\n",
       "      <td>495.105056</td>\n",
       "      <td>297.532754</td>\n",
       "      <td>4.844738</td>\n",
       "      <td>4.968377</td>\n",
       "      <td>4.205646</td>\n",
       "      <td>7.170448</td>\n",
       "      <td>7.816959</td>\n",
       "      <td>7.771140</td>\n",
       "    </tr>\n",
       "  </tbody>\n",
       "</table>\n",
       "</div>"
      ],
      "text/plain": [
       "             Bcell      Bcell2  Neutrophil  1_logtpm  2_logtpm  3_logtpm  \\\n",
       "A1CF    592.243979  430.408190  469.842065 -1.387362 -2.531273 -1.741175   \n",
       "A2M      49.771470  142.655380  144.998331  0.294148  0.678451  0.176290   \n",
       "A4GALT   81.824334   37.759109   17.479528 -0.765860  0.866269  0.147569   \n",
       "AAAS     39.527998   38.934873   56.803877  3.380071  3.864414  4.216052   \n",
       "AACS    618.230944  495.105056  297.532754  4.844738  4.968377  4.205646   \n",
       "\n",
       "        1_logcnt  2_logcnt  3_logcnt  \n",
       "A1CF    4.173319  3.327486  4.104387  \n",
       "A2M     1.584963  2.000000  2.616178  \n",
       "A4GALT  1.000000  2.584963  3.169925  \n",
       "AAAS    5.807354  6.539159  6.894818  \n",
       "AACS    7.170448  7.816959  7.771140  "
      ]
     },
     "execution_count": 420,
     "metadata": {},
     "output_type": "execute_result"
    }
   ],
   "source": [
    "intersect= pd.merge(ma, two_samples, left_index=True,right_index=True, how='inner')\n",
    "assert intersect.shape[0] == len(set(ma.index) & set(two_samples.index))\n",
    "intersect.head()"
   ]
  },
  {
   "cell_type": "code",
   "execution_count": 421,
   "metadata": {
    "collapsed": true
   },
   "outputs": [],
   "source": [
    "# apply log2 to all microarray columns\n",
    "intersect['Bcell'] = intersect.Bcell.apply(np.log2)\n",
    "intersect['Bcell2'] = intersect.Bcell2.apply(np.log2)\n",
    "intersect['Neutrophil'] = intersect.Neutrophil.apply(np.log2)"
   ]
  },
  {
   "cell_type": "code",
   "execution_count": 422,
   "metadata": {
    "collapsed": true
   },
   "outputs": [],
   "source": [
    "intersect.columns=['Bcell', 'Bcell2', 'Neutrophil'] + list(intersect.columns[3:])"
   ]
  },
  {
   "cell_type": "code",
   "execution_count": 423,
   "metadata": {
    "collapsed": false
   },
   "outputs": [],
   "source": [
    "from sklearn.preprocessing import scale\n",
    "intersect = intersect.apply(lambda col: scale(col))"
   ]
  },
  {
   "cell_type": "code",
   "execution_count": 424,
   "metadata": {
    "collapsed": false
   },
   "outputs": [
    {
     "data": {
      "text/html": [
       "<div>\n",
       "<table border=\"1\" class=\"dataframe\">\n",
       "  <thead>\n",
       "    <tr style=\"text-align: right;\">\n",
       "      <th></th>\n",
       "      <th>Bcell</th>\n",
       "      <th>Bcell2</th>\n",
       "      <th>Neutrophil</th>\n",
       "      <th>1_logtpm</th>\n",
       "      <th>2_logtpm</th>\n",
       "      <th>3_logtpm</th>\n",
       "      <th>1_logcnt</th>\n",
       "      <th>2_logcnt</th>\n",
       "      <th>3_logcnt</th>\n",
       "    </tr>\n",
       "  </thead>\n",
       "  <tbody>\n",
       "    <tr>\n",
       "      <th>A1CF</th>\n",
       "      <td>0.485152</td>\n",
       "      <td>0.241549</td>\n",
       "      <td>0.411619</td>\n",
       "      <td>-1.487375</td>\n",
       "      <td>-1.763726</td>\n",
       "      <td>-1.810785</td>\n",
       "      <td>-0.751092</td>\n",
       "      <td>-1.047314</td>\n",
       "      <td>-1.062309</td>\n",
       "    </tr>\n",
       "    <tr>\n",
       "      <th>A2M</th>\n",
       "      <td>-1.520556</td>\n",
       "      <td>-0.616007</td>\n",
       "      <td>-0.402589</td>\n",
       "      <td>-0.927031</td>\n",
       "      <td>-0.742316</td>\n",
       "      <td>-1.146449</td>\n",
       "      <td>-1.619699</td>\n",
       "      <td>-1.471759</td>\n",
       "      <td>-1.572045</td>\n",
       "    </tr>\n",
       "    <tr>\n",
       "      <th>A4GALT</th>\n",
       "      <td>-1.117926</td>\n",
       "      <td>-1.648213</td>\n",
       "      <td>-1.867803</td>\n",
       "      <td>-1.280267</td>\n",
       "      <td>-0.682548</td>\n",
       "      <td>-1.156400</td>\n",
       "      <td>-1.816002</td>\n",
       "      <td>-1.284726</td>\n",
       "      <td>-1.382377</td>\n",
       "    </tr>\n",
       "    <tr>\n",
       "      <th>AAAS</th>\n",
       "      <td>-1.707185</td>\n",
       "      <td>-1.624401</td>\n",
       "      <td>-1.051586</td>\n",
       "      <td>0.101318</td>\n",
       "      <td>0.271533</td>\n",
       "      <td>0.253190</td>\n",
       "      <td>-0.202739</td>\n",
       "      <td>-0.020428</td>\n",
       "      <td>-0.106540</td>\n",
       "    </tr>\n",
       "    <tr>\n",
       "      <th>AACS</th>\n",
       "      <td>0.519932</td>\n",
       "      <td>0.350295</td>\n",
       "      <td>0.095214</td>\n",
       "      <td>0.589402</td>\n",
       "      <td>0.622840</td>\n",
       "      <td>0.249585</td>\n",
       "      <td>0.254691</td>\n",
       "      <td>0.388130</td>\n",
       "      <td>0.193615</td>\n",
       "    </tr>\n",
       "  </tbody>\n",
       "</table>\n",
       "</div>"
      ],
      "text/plain": [
       "           Bcell    Bcell2  Neutrophil  1_logtpm  2_logtpm  3_logtpm  \\\n",
       "A1CF    0.485152  0.241549    0.411619 -1.487375 -1.763726 -1.810785   \n",
       "A2M    -1.520556 -0.616007   -0.402589 -0.927031 -0.742316 -1.146449   \n",
       "A4GALT -1.117926 -1.648213   -1.867803 -1.280267 -0.682548 -1.156400   \n",
       "AAAS   -1.707185 -1.624401   -1.051586  0.101318  0.271533  0.253190   \n",
       "AACS    0.519932  0.350295    0.095214  0.589402  0.622840  0.249585   \n",
       "\n",
       "        1_logcnt  2_logcnt  3_logcnt  \n",
       "A1CF   -0.751092 -1.047314 -1.062309  \n",
       "A2M    -1.619699 -1.471759 -1.572045  \n",
       "A4GALT -1.816002 -1.284726 -1.382377  \n",
       "AAAS   -0.202739 -0.020428 -0.106540  \n",
       "AACS    0.254691  0.388130  0.193615  "
      ]
     },
     "execution_count": 424,
     "metadata": {},
     "output_type": "execute_result"
    }
   ],
   "source": [
    "intersect.head()"
   ]
  },
  {
   "cell_type": "code",
   "execution_count": 425,
   "metadata": {
    "collapsed": false,
    "scrolled": true
   },
   "outputs": [
    {
     "data": {
      "text/html": [
       "<div>\n",
       "<table border=\"1\" class=\"dataframe\">\n",
       "  <thead>\n",
       "    <tr style=\"text-align: right;\">\n",
       "      <th></th>\n",
       "      <th>Bcell</th>\n",
       "      <th>Bcell2</th>\n",
       "      <th>Neutrophil</th>\n",
       "      <th>1_logtpm</th>\n",
       "      <th>2_logtpm</th>\n",
       "      <th>3_logtpm</th>\n",
       "      <th>1_logcnt</th>\n",
       "      <th>2_logcnt</th>\n",
       "      <th>3_logcnt</th>\n",
       "    </tr>\n",
       "  </thead>\n",
       "  <tbody>\n",
       "    <tr>\n",
       "      <th>count</th>\n",
       "      <td>9.533000e+03</td>\n",
       "      <td>9.533000e+03</td>\n",
       "      <td>9.533000e+03</td>\n",
       "      <td>9.533000e+03</td>\n",
       "      <td>9.533000e+03</td>\n",
       "      <td>9.533000e+03</td>\n",
       "      <td>9.533000e+03</td>\n",
       "      <td>9.533000e+03</td>\n",
       "      <td>9.533000e+03</td>\n",
       "    </tr>\n",
       "    <tr>\n",
       "      <th>mean</th>\n",
       "      <td>-3.020650e-16</td>\n",
       "      <td>6.334316e-16</td>\n",
       "      <td>9.282947e-16</td>\n",
       "      <td>1.576533e-16</td>\n",
       "      <td>-2.215671e-16</td>\n",
       "      <td>2.158023e-17</td>\n",
       "      <td>-4.037122e-17</td>\n",
       "      <td>5.150489e-16</td>\n",
       "      <td>-9.732649e-17</td>\n",
       "    </tr>\n",
       "    <tr>\n",
       "      <th>std</th>\n",
       "      <td>1.000052e+00</td>\n",
       "      <td>1.000052e+00</td>\n",
       "      <td>1.000052e+00</td>\n",
       "      <td>1.000052e+00</td>\n",
       "      <td>1.000052e+00</td>\n",
       "      <td>1.000052e+00</td>\n",
       "      <td>1.000052e+00</td>\n",
       "      <td>1.000052e+00</td>\n",
       "      <td>1.000052e+00</td>\n",
       "    </tr>\n",
       "    <tr>\n",
       "      <th>min</th>\n",
       "      <td>-4.466778e+00</td>\n",
       "      <td>-4.082982e+00</td>\n",
       "      <td>-4.303610e+00</td>\n",
       "      <td>-3.218461e+00</td>\n",
       "      <td>-4.026241e+00</td>\n",
       "      <td>-3.480728e+00</td>\n",
       "      <td>-2.243622e+00</td>\n",
       "      <td>-4.789863e+00</td>\n",
       "      <td>-2.975183e+00</td>\n",
       "    </tr>\n",
       "    <tr>\n",
       "      <th>25%</th>\n",
       "      <td>-5.844549e-01</td>\n",
       "      <td>-5.839616e-01</td>\n",
       "      <td>-6.302179e-01</td>\n",
       "      <td>-6.917596e-01</td>\n",
       "      <td>-7.066070e-01</td>\n",
       "      <td>-6.921298e-01</td>\n",
       "      <td>-7.507423e-01</td>\n",
       "      <td>-7.628939e-01</td>\n",
       "      <td>-7.403406e-01</td>\n",
       "    </tr>\n",
       "    <tr>\n",
       "      <th>50%</th>\n",
       "      <td>1.912735e-01</td>\n",
       "      <td>1.669573e-01</td>\n",
       "      <td>7.292924e-02</td>\n",
       "      <td>1.027741e-01</td>\n",
       "      <td>1.313769e-01</td>\n",
       "      <td>1.716883e-01</td>\n",
       "      <td>7.856621e-02</td>\n",
       "      <td>1.085385e-01</td>\n",
       "      <td>1.447152e-01</td>\n",
       "    </tr>\n",
       "    <tr>\n",
       "      <th>75%</th>\n",
       "      <td>6.698421e-01</td>\n",
       "      <td>6.523575e-01</td>\n",
       "      <td>5.987231e-01</td>\n",
       "      <td>7.354498e-01</td>\n",
       "      <td>7.521345e-01</td>\n",
       "      <td>7.329170e-01</td>\n",
       "      <td>7.502113e-01</td>\n",
       "      <td>7.677622e-01</td>\n",
       "      <td>7.641014e-01</td>\n",
       "    </tr>\n",
       "    <tr>\n",
       "      <th>max</th>\n",
       "      <td>4.236574e+00</td>\n",
       "      <td>4.117322e+00</td>\n",
       "      <td>4.003621e+00</td>\n",
       "      <td>3.282300e+00</td>\n",
       "      <td>3.072973e+00</td>\n",
       "      <td>3.521413e+00</td>\n",
       "      <td>2.978695e+00</td>\n",
       "      <td>2.870392e+00</td>\n",
       "      <td>2.923703e+00</td>\n",
       "    </tr>\n",
       "  </tbody>\n",
       "</table>\n",
       "</div>"
      ],
      "text/plain": [
       "              Bcell        Bcell2    Neutrophil      1_logtpm      2_logtpm  \\\n",
       "count  9.533000e+03  9.533000e+03  9.533000e+03  9.533000e+03  9.533000e+03   \n",
       "mean  -3.020650e-16  6.334316e-16  9.282947e-16  1.576533e-16 -2.215671e-16   \n",
       "std    1.000052e+00  1.000052e+00  1.000052e+00  1.000052e+00  1.000052e+00   \n",
       "min   -4.466778e+00 -4.082982e+00 -4.303610e+00 -3.218461e+00 -4.026241e+00   \n",
       "25%   -5.844549e-01 -5.839616e-01 -6.302179e-01 -6.917596e-01 -7.066070e-01   \n",
       "50%    1.912735e-01  1.669573e-01  7.292924e-02  1.027741e-01  1.313769e-01   \n",
       "75%    6.698421e-01  6.523575e-01  5.987231e-01  7.354498e-01  7.521345e-01   \n",
       "max    4.236574e+00  4.117322e+00  4.003621e+00  3.282300e+00  3.072973e+00   \n",
       "\n",
       "           3_logtpm      1_logcnt      2_logcnt      3_logcnt  \n",
       "count  9.533000e+03  9.533000e+03  9.533000e+03  9.533000e+03  \n",
       "mean   2.158023e-17 -4.037122e-17  5.150489e-16 -9.732649e-17  \n",
       "std    1.000052e+00  1.000052e+00  1.000052e+00  1.000052e+00  \n",
       "min   -3.480728e+00 -2.243622e+00 -4.789863e+00 -2.975183e+00  \n",
       "25%   -6.921298e-01 -7.507423e-01 -7.628939e-01 -7.403406e-01  \n",
       "50%    1.716883e-01  7.856621e-02  1.085385e-01  1.447152e-01  \n",
       "75%    7.329170e-01  7.502113e-01  7.677622e-01  7.641014e-01  \n",
       "max    3.521413e+00  2.978695e+00  2.870392e+00  2.923703e+00  "
      ]
     },
     "execution_count": 425,
     "metadata": {},
     "output_type": "execute_result"
    }
   ],
   "source": [
    "intersect.describe()"
   ]
  },
  {
   "cell_type": "code",
   "execution_count": 426,
   "metadata": {
    "collapsed": false
   },
   "outputs": [
    {
     "data": {
      "text/plain": [
       "<matplotlib.axes._subplots.AxesSubplot at 0x7fea8c15cd90>"
      ]
     },
     "execution_count": 426,
     "metadata": {},
     "output_type": "execute_result"
    },
    {
     "data": {
      "image/png": "[encoded data removed]",
      "text/plain": [
       "<matplotlib.figure.Figure at 0x7fea8bfd3210>"
      ]
     },
     "metadata": {},
     "output_type": "display_data"
    }
   ],
   "source": [
    "(intersect.Bcell - intersect['1_logtpm']).hist()"
   ]
  },
  {
   "cell_type": "code",
   "execution_count": 427,
   "metadata": {
    "collapsed": false
   },
   "outputs": [
    {
     "data": {
      "text/plain": [
       "<matplotlib.axes._subplots.AxesSubplot at 0x7fea8c17e590>"
      ]
     },
     "execution_count": 427,
     "metadata": {},
     "output_type": "execute_result"
    },
    {
     "data": {
      "image/png": "[encoded data removed]",
      "text/plain": [
       "<matplotlib.figure.Figure at 0x7fea8c122050>"
      ]
     },
     "metadata": {},
     "output_type": "display_data"
    }
   ],
   "source": [
    "(intersect.Bcell - intersect['1_logtpm']).abs().hist()"
   ]
  },
  {
   "cell_type": "code",
   "execution_count": 428,
   "metadata": {
    "collapsed": false
   },
   "outputs": [
    {
     "data": {
      "text/plain": [
       "<matplotlib.axes._subplots.AxesSubplot at 0x7fea8bfb4ed0>"
      ]
     },
     "execution_count": 428,
     "metadata": {},
     "output_type": "execute_result"
    },
    {
     "data": {
      "image/png": "[encoded data removed]",
      "text/plain": [
       "<matplotlib.figure.Figure at 0x7fea8c0c6790>"
      ]
     },
     "metadata": {},
     "output_type": "display_data"
    }
   ],
   "source": [
    "(intersect.Bcell - intersect['1_logcnt']).hist()"
   ]
  },
  {
   "cell_type": "code",
   "execution_count": 429,
   "metadata": {
    "collapsed": false
   },
   "outputs": [
    {
     "data": {
      "text/plain": [
       "<matplotlib.axes._subplots.AxesSubplot at 0x7fea8bea9b90>"
      ]
     },
     "execution_count": 429,
     "metadata": {},
     "output_type": "execute_result"
    },
    {
     "data": {
      "image/png": "[encoded data removed]",
      "text/plain": [
       "<matplotlib.figure.Figure at 0x7fea8be37950>"
      ]
     },
     "metadata": {},
     "output_type": "display_data"
    }
   ],
   "source": [
    "(intersect.Bcell - intersect['1_logcnt']).abs().hist()"
   ]
  },
  {
   "cell_type": "markdown",
   "metadata": {},
   "source": [
    "other cell type"
   ]
  },
  {
   "cell_type": "code",
   "execution_count": 430,
   "metadata": {
    "collapsed": false
   },
   "outputs": [
    {
     "data": {
      "text/plain": [
       "<matplotlib.axes._subplots.AxesSubplot at 0x7fea8bd36110>"
      ]
     },
     "execution_count": 430,
     "metadata": {},
     "output_type": "execute_result"
    },
    {
     "data": {
      "image/png": "[encoded data removed]",
      "text/plain": [
       "<matplotlib.figure.Figure at 0x7fea8bd41390>"
      ]
     },
     "metadata": {},
     "output_type": "display_data"
    }
   ],
   "source": [
    "(intersect.Neutrophil - intersect['1_logcnt']).hist()"
   ]
  },
  {
   "cell_type": "code",
   "execution_count": 431,
   "metadata": {
    "collapsed": false
   },
   "outputs": [
    {
     "data": {
      "text/plain": [
       "<matplotlib.axes._subplots.AxesSubplot at 0x7fea8bff2cd0>"
      ]
     },
     "execution_count": 431,
     "metadata": {},
     "output_type": "execute_result"
    },
    {
     "data": {
      "image/png": "[encoded data removed]",
      "text/plain": [
       "<matplotlib.figure.Figure at 0x7fea8bc52810>"
      ]
     },
     "metadata": {},
     "output_type": "display_data"
    }
   ],
   "source": [
    "(intersect.Neutrophil - intersect['1_logcnt']).abs().hist()"
   ]
  },
  {
   "cell_type": "code",
   "execution_count": 432,
   "metadata": {
    "collapsed": false
   },
   "outputs": [
    {
     "data": {
      "text/plain": [
       "<matplotlib.axes._subplots.AxesSubplot at 0x7fea8bb990d0>"
      ]
     },
     "execution_count": 432,
     "metadata": {},
     "output_type": "execute_result"
    },
    {
     "data": {
      "image/png": "[encoded data removed]",
      "text/plain": [
       "<matplotlib.figure.Figure at 0x7fea8bb42d10>"
      ]
     },
     "metadata": {},
     "output_type": "display_data"
    }
   ],
   "source": [
    "(intersect.Neutrophil - intersect['1_logtpm']).hist()"
   ]
  },
  {
   "cell_type": "code",
   "execution_count": 433,
   "metadata": {
    "collapsed": false
   },
   "outputs": [
    {
     "data": {
      "text/plain": [
       "<matplotlib.axes._subplots.AxesSubplot at 0x7fea8bb08090>"
      ]
     },
     "execution_count": 433,
     "metadata": {},
     "output_type": "execute_result"
    },
    {
     "data": {
      "image/png": "[encoded data removed]",
      "text/plain": [
       "<matplotlib.figure.Figure at 0x7fea8ba1d590>"
      ]
     },
     "metadata": {},
     "output_type": "display_data"
    }
   ],
   "source": [
    "(intersect.Neutrophil - intersect['1_logtpm']).abs().hist()"
   ]
  },
  {
   "cell_type": "markdown",
   "metadata": {},
   "source": [
    "Difference plots between RNA-seq, microarray versions of B-cells naive look exactly like difference plots between RNA-seq B-cells naive and microarray neutrophil. Even when you normalize to 0 mean, unit variance first. Bad!"
   ]
  },
  {
   "cell_type": "markdown",
   "metadata": {
    "collapsed": true
   },
   "source": [
    "# Difference between 2 microarray lines that should be different.\n",
    "\n",
    "* What's the baseline difference we expect?\n",
    "* Is filtering to marker genes helpful in seeing the difference? Is there a lot of noise otherwise?\n",
    "\n",
    "Here's the baseline difference, without filtering to marker genes. Looks pretty similar overall."
   ]
  },
  {
   "cell_type": "code",
   "execution_count": 434,
   "metadata": {
    "collapsed": false
   },
   "outputs": [
    {
     "data": {
      "text/plain": [
       "<matplotlib.axes._subplots.AxesSubplot at 0x7fea8ba90d90>"
      ]
     },
     "execution_count": 434,
     "metadata": {},
     "output_type": "execute_result"
    },
    {
     "data": {
      "image/png": "[encoded data removed]",
      "text/plain": [
       "<matplotlib.figure.Figure at 0x7fea8ba13050>"
      ]
     },
     "metadata": {},
     "output_type": "display_data"
    }
   ],
   "source": [
    "(intersect.Neutrophil - intersect.Bcell).abs().hist()"
   ]
  },
  {
   "cell_type": "markdown",
   "metadata": {},
   "source": [
    "Let's load up marker genes from Bindea, since we saw that there was not much noise there."
   ]
  },
  {
   "cell_type": "code",
   "execution_count": 435,
   "metadata": {
    "collapsed": false
   },
   "outputs": [
    {
     "data": {
      "text/html": [
       "<div>\n",
       "<table border=\"1\" class=\"dataframe\">\n",
       "  <thead>\n",
       "    <tr style=\"text-align: right;\">\n",
       "      <th></th>\n",
       "      <th>B cells</th>\n",
       "      <th>Blood vessels</th>\n",
       "      <th>CD8 T cells</th>\n",
       "      <th>Cytotoxic cells</th>\n",
       "      <th>DC</th>\n",
       "      <th>Eosinophils</th>\n",
       "      <th>Lymph vessels</th>\n",
       "      <th>Macrophages</th>\n",
       "      <th>Mast cells</th>\n",
       "      <th>NK CD56bright cells</th>\n",
       "      <th>...</th>\n",
       "      <th>TReg</th>\n",
       "      <th>Tcm</th>\n",
       "      <th>Tem</th>\n",
       "      <th>Tgd</th>\n",
       "      <th>Th1 cells</th>\n",
       "      <th>Th17 cells</th>\n",
       "      <th>Th2 cells</th>\n",
       "      <th>aDC</th>\n",
       "      <th>iDC</th>\n",
       "      <th>pDC</th>\n",
       "    </tr>\n",
       "  </thead>\n",
       "  <tbody>\n",
       "    <tr>\n",
       "      <th>0</th>\n",
       "      <td>207819_s_at</td>\n",
       "      <td>204677_at</td>\n",
       "      <td>218405_at</td>\n",
       "      <td>209870_s_at</td>\n",
       "      <td>206407_s_at</td>\n",
       "      <td>205566_at</td>\n",
       "      <td>206742_at</td>\n",
       "      <td>203381_s_at</td>\n",
       "      <td>203196_at</td>\n",
       "      <td>215908_at</td>\n",
       "      <td>...</td>\n",
       "      <td>221333_at</td>\n",
       "      <td>203747_at</td>\n",
       "      <td>212609_s_at</td>\n",
       "      <td>205103_at</td>\n",
       "      <td>213419_at</td>\n",
       "      <td>208402_at</td>\n",
       "      <td>213245_at</td>\n",
       "      <td>207533_at</td>\n",
       "      <td>209735_at</td>\n",
       "      <td>206148_at</td>\n",
       "    </tr>\n",
       "    <tr>\n",
       "      <th>1</th>\n",
       "      <td>221234_s_at</td>\n",
       "      <td>NaN</td>\n",
       "      <td>217729_s_at</td>\n",
       "      <td>221087_s_at</td>\n",
       "      <td>207900_at</td>\n",
       "      <td>49452_at</td>\n",
       "      <td>204879_at</td>\n",
       "      <td>218673_s_at</td>\n",
       "      <td>206281_at</td>\n",
       "      <td>215409_at</td>\n",
       "      <td>...</td>\n",
       "      <td>221334_s_at</td>\n",
       "      <td>216197_at</td>\n",
       "      <td>210109_at</td>\n",
       "      <td>207840_at</td>\n",
       "      <td>40148_at</td>\n",
       "      <td>216876_s_at</td>\n",
       "      <td>220841_s_at</td>\n",
       "      <td>219424_at</td>\n",
       "      <td>202201_at</td>\n",
       "      <td>NaN</td>\n",
       "    </tr>\n",
       "    <tr>\n",
       "      <th>2</th>\n",
       "      <td>219497_s_at</td>\n",
       "      <td>NaN</td>\n",
       "      <td>209871_s_at</td>\n",
       "      <td>214450_at</td>\n",
       "      <td>207861_at</td>\n",
       "      <td>43427_at</td>\n",
       "      <td>209946_at</td>\n",
       "      <td>214452_at</td>\n",
       "      <td>205428_s_at</td>\n",
       "      <td>204014_at</td>\n",
       "      <td>...</td>\n",
       "      <td>NaN</td>\n",
       "      <td>208442_s_at</td>\n",
       "      <td>206978_at</td>\n",
       "      <td>203562_at</td>\n",
       "      <td>201525_at</td>\n",
       "      <td>205707_at</td>\n",
       "      <td>220842_at</td>\n",
       "      <td>210029_at</td>\n",
       "      <td>220162_s_at</td>\n",
       "      <td>NaN</td>\n",
       "    </tr>\n",
       "    <tr>\n",
       "      <th>3</th>\n",
       "      <td>210347_s_at</td>\n",
       "      <td>NaN</td>\n",
       "      <td>219168_s_at</td>\n",
       "      <td>204794_at</td>\n",
       "      <td>207277_at</td>\n",
       "      <td>221928_at</td>\n",
       "      <td>NaN</td>\n",
       "      <td>214390_s_at</td>\n",
       "      <td>206676_at</td>\n",
       "      <td>204015_s_at</td>\n",
       "      <td>...</td>\n",
       "      <td>NaN</td>\n",
       "      <td>210858_x_at</td>\n",
       "      <td>207794_at</td>\n",
       "      <td>211144_x_at</td>\n",
       "      <td>212062_at</td>\n",
       "      <td>206419_at</td>\n",
       "      <td>221569_at</td>\n",
       "      <td>205569_at</td>\n",
       "      <td>210325_at</td>\n",
       "      <td>NaN</td>\n",
       "    </tr>\n",
       "    <tr>\n",
       "      <th>4</th>\n",
       "      <td>206255_at</td>\n",
       "      <td>NaN</td>\n",
       "      <td>64432_at</td>\n",
       "      <td>37145_at</td>\n",
       "      <td>205404_at</td>\n",
       "      <td>222195_s_at</td>\n",
       "      <td>NaN</td>\n",
       "      <td>208075_s_at</td>\n",
       "      <td>214533_at</td>\n",
       "      <td>205906_at</td>\n",
       "      <td>...</td>\n",
       "      <td>NaN</td>\n",
       "      <td>207686_s_at</td>\n",
       "      <td>208719_s_at</td>\n",
       "      <td>216920_s_at</td>\n",
       "      <td>201641_at</td>\n",
       "      <td>NaN</td>\n",
       "      <td>214373_at</td>\n",
       "      <td>218400_at</td>\n",
       "      <td>206749_at</td>\n",
       "      <td>NaN</td>\n",
       "    </tr>\n",
       "  </tbody>\n",
       "</table>\n",
       "<p>5 rows × 28 columns</p>\n",
       "</div>"
      ],
      "text/plain": [
       "       B cells Blood vessels  CD8 T cells Cytotoxic cells           DC  \\\n",
       "0  207819_s_at     204677_at    218405_at     209870_s_at  206407_s_at   \n",
       "1  221234_s_at           NaN  217729_s_at     221087_s_at    207900_at   \n",
       "2  219497_s_at           NaN  209871_s_at       214450_at    207861_at   \n",
       "3  210347_s_at           NaN  219168_s_at       204794_at    207277_at   \n",
       "4    206255_at           NaN     64432_at        37145_at    205404_at   \n",
       "\n",
       "   Eosinophils Lymph vessels  Macrophages   Mast cells NK CD56bright cells  \\\n",
       "0    205566_at     206742_at  203381_s_at    203196_at           215908_at   \n",
       "1     49452_at     204879_at  218673_s_at    206281_at           215409_at   \n",
       "2     43427_at     209946_at    214452_at  205428_s_at           204014_at   \n",
       "3    221928_at           NaN  214390_s_at    206676_at         204015_s_at   \n",
       "4  222195_s_at           NaN  208075_s_at    214533_at           205906_at   \n",
       "\n",
       "     ...             TReg          Tcm          Tem          Tgd  Th1 cells  \\\n",
       "0    ...        221333_at    203747_at  212609_s_at    205103_at  213419_at   \n",
       "1    ...      221334_s_at    216197_at    210109_at    207840_at   40148_at   \n",
       "2    ...              NaN  208442_s_at    206978_at    203562_at  201525_at   \n",
       "3    ...              NaN  210858_x_at    207794_at  211144_x_at  212062_at   \n",
       "4    ...              NaN  207686_s_at  208719_s_at  216920_s_at  201641_at   \n",
       "\n",
       "    Th17 cells    Th2 cells        aDC          iDC        pDC  \n",
       "0    208402_at    213245_at  207533_at    209735_at  206148_at  \n",
       "1  216876_s_at  220841_s_at  219424_at    202201_at        NaN  \n",
       "2    205707_at    220842_at  210029_at  220162_s_at        NaN  \n",
       "3    206419_at    221569_at  205569_at    210325_at        NaN  \n",
       "4          NaN    214373_at  218400_at    206749_at        NaN  \n",
       "\n",
       "[5 rows x 28 columns]"
      ]
     },
     "execution_count": 435,
     "metadata": {},
     "output_type": "execute_result"
    }
   ],
   "source": [
    "bindea = pd.read_csv('../bindea_by_category.csv')\n",
    "bindea.head()"
   ]
  },
  {
   "cell_type": "code",
   "execution_count": 436,
   "metadata": {
    "collapsed": false
   },
   "outputs": [
    {
     "name": "stdout",
     "output_type": "stream",
     "text": [
      "Index([u'B cells', u'Blood vessels', u'CD8 T cells', u'Cytotoxic cells', u'DC',\n",
      "       u'Eosinophils', u'Lymph vessels', u'Macrophages', u'Mast cells',\n",
      "       u'NK CD56bright cells', u'NK CD56dim cells', u'NK cells',\n",
      "       u'Neutrophils', u'Normal mucosa', u'SW480 cancer cells', u'T cells',\n",
      "       u'T helper cells', u'TFH', u'TReg', u'Tcm', u'Tem', u'Tgd',\n",
      "       u'Th1 cells', u'Th17 cells', u'Th2 cells', u'aDC', u'iDC', u'pDC'],\n",
      "      dtype='object')\n"
     ]
    }
   ],
   "source": [
    "print bindea.columns"
   ]
  },
  {
   "cell_type": "code",
   "execution_count": 437,
   "metadata": {
    "collapsed": false
   },
   "outputs": [
    {
     "data": {
      "text/html": [
       "<div>\n",
       "<table border=\"1\" class=\"dataframe\">\n",
       "  <thead>\n",
       "    <tr style=\"text-align: right;\">\n",
       "      <th></th>\n",
       "      <th>probe</th>\n",
       "      <th>accession</th>\n",
       "      <th>symbol</th>\n",
       "      <th>desc</th>\n",
       "    </tr>\n",
       "  </thead>\n",
       "  <tbody>\n",
       "    <tr>\n",
       "      <th>0</th>\n",
       "      <td>1007_s_at</td>\n",
       "      <td>U48705</td>\n",
       "      <td>NaN</td>\n",
       "      <td>NaN</td>\n",
       "    </tr>\n",
       "    <tr>\n",
       "      <th>1</th>\n",
       "      <td>1053_at</td>\n",
       "      <td>M87338</td>\n",
       "      <td>RFC2</td>\n",
       "      <td>replication factor C (activator 1) 2, 40kDa</td>\n",
       "    </tr>\n",
       "    <tr>\n",
       "      <th>2</th>\n",
       "      <td>117_at</td>\n",
       "      <td>X51757</td>\n",
       "      <td>HSPA6</td>\n",
       "      <td>heat shock 70kDa protein 6 (HSP70B')</td>\n",
       "    </tr>\n",
       "    <tr>\n",
       "      <th>3</th>\n",
       "      <td>121_at</td>\n",
       "      <td>X69699</td>\n",
       "      <td>PAX8</td>\n",
       "      <td>paired box 8</td>\n",
       "    </tr>\n",
       "    <tr>\n",
       "      <th>4</th>\n",
       "      <td>1255_g_at</td>\n",
       "      <td>L36861</td>\n",
       "      <td>GUCA1A</td>\n",
       "      <td>guanylate cyclase activator 1A (retina)</td>\n",
       "    </tr>\n",
       "  </tbody>\n",
       "</table>\n",
       "</div>"
      ],
      "text/plain": [
       "       probe accession  symbol                                         desc\n",
       "0  1007_s_at    U48705     NaN                                          NaN\n",
       "1    1053_at    M87338    RFC2  replication factor C (activator 1) 2, 40kDa\n",
       "2     117_at    X51757   HSPA6         heat shock 70kDa protein 6 (HSP70B')\n",
       "3     121_at    X69699    PAX8                                 paired box 8\n",
       "4  1255_g_at    L36861  GUCA1A      guanylate cyclase activator 1A (retina)"
      ]
     },
     "execution_count": 437,
     "metadata": {},
     "output_type": "execute_result"
    }
   ],
   "source": [
    "# match by gene ids instead of probe ids\n",
    "# see extractHumanAnnotations.R\n",
    "annotations = pd.read_csv('../annot.tsv', sep='\\t')\n",
    "annotations = annotations.reset_index()\n",
    "annotations.columns = ['probe', 'accession', 'symbol', 'desc']\n",
    "annotations.head()"
   ]
  },
  {
   "cell_type": "code",
   "execution_count": 438,
   "metadata": {
    "collapsed": false
   },
   "outputs": [
    {
     "data": {
      "text/html": [
       "<div>\n",
       "<table border=\"1\" class=\"dataframe\">\n",
       "  <thead>\n",
       "    <tr style=\"text-align: right;\">\n",
       "      <th></th>\n",
       "      <th>probe</th>\n",
       "    </tr>\n",
       "  </thead>\n",
       "  <tbody>\n",
       "    <tr>\n",
       "      <th>0</th>\n",
       "      <td>207819_s_at</td>\n",
       "    </tr>\n",
       "    <tr>\n",
       "      <th>1</th>\n",
       "      <td>221234_s_at</td>\n",
       "    </tr>\n",
       "    <tr>\n",
       "      <th>2</th>\n",
       "      <td>219497_s_at</td>\n",
       "    </tr>\n",
       "    <tr>\n",
       "      <th>3</th>\n",
       "      <td>210347_s_at</td>\n",
       "    </tr>\n",
       "    <tr>\n",
       "      <th>4</th>\n",
       "      <td>206255_at</td>\n",
       "    </tr>\n",
       "  </tbody>\n",
       "</table>\n",
       "</div>"
      ],
      "text/plain": [
       "         probe\n",
       "0  207819_s_at\n",
       "1  221234_s_at\n",
       "2  219497_s_at\n",
       "3  210347_s_at\n",
       "4    206255_at"
      ]
     },
     "execution_count": 438,
     "metadata": {},
     "output_type": "execute_result"
    }
   ],
   "source": [
    "markers = pd.DataFrame({'probe': bindea['B cells'].dropna().unique()})\n",
    "markers.head()"
   ]
  },
  {
   "cell_type": "code",
   "execution_count": 439,
   "metadata": {
    "collapsed": false
   },
   "outputs": [
    {
     "name": "stdout",
     "output_type": "stream",
     "text": [
      "(40, 4)\n"
     ]
    },
    {
     "data": {
      "text/html": [
       "<div>\n",
       "<table border=\"1\" class=\"dataframe\">\n",
       "  <thead>\n",
       "    <tr style=\"text-align: right;\">\n",
       "      <th></th>\n",
       "      <th>probe</th>\n",
       "      <th>accession</th>\n",
       "      <th>symbol</th>\n",
       "      <th>desc</th>\n",
       "    </tr>\n",
       "  </thead>\n",
       "  <tbody>\n",
       "    <tr>\n",
       "      <th>0</th>\n",
       "      <td>207819_s_at</td>\n",
       "      <td>NM_000443</td>\n",
       "      <td>ABCB4</td>\n",
       "      <td>ATP-binding cassette, sub-family B (MDR/TAP), ...</td>\n",
       "    </tr>\n",
       "    <tr>\n",
       "      <th>1</th>\n",
       "      <td>221234_s_at</td>\n",
       "      <td>NM_021813</td>\n",
       "      <td>BACH2</td>\n",
       "      <td>BTB and CNC homology 1, basic leucine zipper t...</td>\n",
       "    </tr>\n",
       "    <tr>\n",
       "      <th>2</th>\n",
       "      <td>219497_s_at</td>\n",
       "      <td>NM_022893</td>\n",
       "      <td>BCL11A</td>\n",
       "      <td>B-cell CLL/lymphoma 11A (zinc finger protein)</td>\n",
       "    </tr>\n",
       "    <tr>\n",
       "      <th>3</th>\n",
       "      <td>210347_s_at</td>\n",
       "      <td>AF080216</td>\n",
       "      <td>BCL11A</td>\n",
       "      <td>B-cell CLL/lymphoma 11A (zinc finger protein)</td>\n",
       "    </tr>\n",
       "    <tr>\n",
       "      <th>4</th>\n",
       "      <td>206255_at</td>\n",
       "      <td>NM_001715</td>\n",
       "      <td>BLK</td>\n",
       "      <td>BLK proto-oncogene, Src family tyrosine kinase</td>\n",
       "    </tr>\n",
       "  </tbody>\n",
       "</table>\n",
       "</div>"
      ],
      "text/plain": [
       "         probe  accession  symbol  \\\n",
       "0  207819_s_at  NM_000443   ABCB4   \n",
       "1  221234_s_at  NM_021813   BACH2   \n",
       "2  219497_s_at  NM_022893  BCL11A   \n",
       "3  210347_s_at   AF080216  BCL11A   \n",
       "4    206255_at  NM_001715     BLK   \n",
       "\n",
       "                                                desc  \n",
       "0  ATP-binding cassette, sub-family B (MDR/TAP), ...  \n",
       "1  BTB and CNC homology 1, basic leucine zipper t...  \n",
       "2      B-cell CLL/lymphoma 11A (zinc finger protein)  \n",
       "3      B-cell CLL/lymphoma 11A (zinc finger protein)  \n",
       "4     BLK proto-oncogene, Src family tyrosine kinase  "
      ]
     },
     "execution_count": 439,
     "metadata": {},
     "output_type": "execute_result"
    }
   ],
   "source": [
    "markers = pd.merge(markers, annotations, how='left', on='probe')\n",
    "print markers.shape\n",
    "markers.head()"
   ]
  },
  {
   "cell_type": "code",
   "execution_count": 440,
   "metadata": {
    "collapsed": false
   },
   "outputs": [
    {
     "data": {
      "text/plain": [
       "array(['ABCB4', 'BACH2', 'BCL11A', 'BLK', 'BLNK', 'CCR9', 'CD19', 'CD72',\n",
       "       'COCH', 'CR2', 'LOC101929272', 'KIAA0125', 'FCRL2', 'GLDC', 'GNG7',\n",
       "       'HLA-DOB', 'IGH', 'IGHM', 'IGKC', 'IGLC1', 'MEF2C', 'MICAL3',\n",
       "       'MS4A1', 'OSBPL10', 'PNOC', 'QRSL1', 'SCN3A', 'SLC15A2', 'SPIB',\n",
       "       'TCL1A', 'TNFRSF17'], dtype=object)"
      ]
     },
     "execution_count": 440,
     "metadata": {},
     "output_type": "execute_result"
    }
   ],
   "source": [
    "markers = markers.symbol.dropna().unique()\n",
    "markers"
   ]
  },
  {
   "cell_type": "code",
   "execution_count": 441,
   "metadata": {
    "collapsed": false
   },
   "outputs": [
    {
     "data": {
      "text/plain": [
       "(31, 25)"
      ]
     },
     "execution_count": 441,
     "metadata": {},
     "output_type": "execute_result"
    }
   ],
   "source": [
    "len(markers), len(set(markers) & set(intersect.index))"
   ]
  },
  {
   "cell_type": "code",
   "execution_count": 442,
   "metadata": {
    "collapsed": false
   },
   "outputs": [
    {
     "data": {
      "text/plain": [
       "25"
      ]
     },
     "execution_count": 442,
     "metadata": {},
     "output_type": "execute_result"
    }
   ],
   "source": [
    "markers = list(set(markers) & set(intersect.index))\n",
    "len(markers)"
   ]
  },
  {
   "cell_type": "code",
   "execution_count": 443,
   "metadata": {
    "collapsed": false
   },
   "outputs": [
    {
     "name": "stdout",
     "output_type": "stream",
     "text": [
      "(9533, 9)  -->  (25, 9)\n"
     ]
    },
    {
     "data": {
      "text/html": [
       "<div>\n",
       "<table border=\"1\" class=\"dataframe\">\n",
       "  <thead>\n",
       "    <tr style=\"text-align: right;\">\n",
       "      <th></th>\n",
       "      <th>Bcell</th>\n",
       "      <th>Bcell2</th>\n",
       "      <th>Neutrophil</th>\n",
       "      <th>1_logtpm</th>\n",
       "      <th>2_logtpm</th>\n",
       "      <th>3_logtpm</th>\n",
       "      <th>1_logcnt</th>\n",
       "      <th>2_logcnt</th>\n",
       "      <th>3_logcnt</th>\n",
       "    </tr>\n",
       "  </thead>\n",
       "  <tbody>\n",
       "    <tr>\n",
       "      <th>CD72</th>\n",
       "      <td>0.983322</td>\n",
       "      <td>1.032542</td>\n",
       "      <td>-2.115601</td>\n",
       "      <td>0.837122</td>\n",
       "      <td>0.736294</td>\n",
       "      <td>-0.054686</td>\n",
       "      <td>0.617863</td>\n",
       "      <td>0.498313</td>\n",
       "      <td>-0.427174</td>\n",
       "    </tr>\n",
       "    <tr>\n",
       "      <th>BCL11A</th>\n",
       "      <td>1.382500</td>\n",
       "      <td>1.474293</td>\n",
       "      <td>0.381042</td>\n",
       "      <td>1.076565</td>\n",
       "      <td>1.004027</td>\n",
       "      <td>-1.301200</td>\n",
       "      <td>0.931528</td>\n",
       "      <td>0.774448</td>\n",
       "      <td>-1.174610</td>\n",
       "    </tr>\n",
       "    <tr>\n",
       "      <th>SLC15A2</th>\n",
       "      <td>0.557017</td>\n",
       "      <td>0.501420</td>\n",
       "      <td>-0.212756</td>\n",
       "      <td>0.038338</td>\n",
       "      <td>0.116155</td>\n",
       "      <td>-1.633529</td>\n",
       "      <td>-0.113149</td>\n",
       "      <td>0.243952</td>\n",
       "      <td>-1.119449</td>\n",
       "    </tr>\n",
       "    <tr>\n",
       "      <th>CCR9</th>\n",
       "      <td>0.913356</td>\n",
       "      <td>0.539153</td>\n",
       "      <td>0.379948</td>\n",
       "      <td>-1.744846</td>\n",
       "      <td>-0.555985</td>\n",
       "      <td>-0.336995</td>\n",
       "      <td>-1.619699</td>\n",
       "      <td>-1.049091</td>\n",
       "      <td>-0.383072</td>\n",
       "    </tr>\n",
       "    <tr>\n",
       "      <th>IGKC</th>\n",
       "      <td>3.479534</td>\n",
       "      <td>3.570829</td>\n",
       "      <td>-0.268589</td>\n",
       "      <td>2.470326</td>\n",
       "      <td>2.059956</td>\n",
       "      <td>-1.980835</td>\n",
       "      <td>1.810834</td>\n",
       "      <td>1.427123</td>\n",
       "      <td>-2.468129</td>\n",
       "    </tr>\n",
       "  </tbody>\n",
       "</table>\n",
       "</div>"
      ],
      "text/plain": [
       "            Bcell    Bcell2  Neutrophil  1_logtpm  2_logtpm  3_logtpm  \\\n",
       "CD72     0.983322  1.032542   -2.115601  0.837122  0.736294 -0.054686   \n",
       "BCL11A   1.382500  1.474293    0.381042  1.076565  1.004027 -1.301200   \n",
       "SLC15A2  0.557017  0.501420   -0.212756  0.038338  0.116155 -1.633529   \n",
       "CCR9     0.913356  0.539153    0.379948 -1.744846 -0.555985 -0.336995   \n",
       "IGKC     3.479534  3.570829   -0.268589  2.470326  2.059956 -1.980835   \n",
       "\n",
       "         1_logcnt  2_logcnt  3_logcnt  \n",
       "CD72     0.617863  0.498313 -0.427174  \n",
       "BCL11A   0.931528  0.774448 -1.174610  \n",
       "SLC15A2 -0.113149  0.243952 -1.119449  \n",
       "CCR9    -1.619699 -1.049091 -0.383072  \n",
       "IGKC     1.810834  1.427123 -2.468129  "
      ]
     },
     "execution_count": 443,
     "metadata": {},
     "output_type": "execute_result"
    }
   ],
   "source": [
    "# filter down\n",
    "df_filter = intersect.loc[markers].copy()\n",
    "print intersect.shape, ' --> ', df_filter.shape\n",
    "df_filter.head()"
   ]
  },
  {
   "cell_type": "code",
   "execution_count": 444,
   "metadata": {
    "collapsed": false
   },
   "outputs": [
    {
     "data": {
      "text/html": [
       "<div>\n",
       "<table border=\"1\" class=\"dataframe\">\n",
       "  <thead>\n",
       "    <tr style=\"text-align: right;\">\n",
       "      <th></th>\n",
       "      <th>Bcell</th>\n",
       "      <th>Bcell2</th>\n",
       "      <th>Neutrophil</th>\n",
       "      <th>1_logtpm</th>\n",
       "      <th>2_logtpm</th>\n",
       "      <th>3_logtpm</th>\n",
       "      <th>1_logcnt</th>\n",
       "      <th>2_logcnt</th>\n",
       "      <th>3_logcnt</th>\n",
       "    </tr>\n",
       "  </thead>\n",
       "  <tbody>\n",
       "    <tr>\n",
       "      <th>count</th>\n",
       "      <td>9.533000e+03</td>\n",
       "      <td>9.533000e+03</td>\n",
       "      <td>9.533000e+03</td>\n",
       "      <td>9.533000e+03</td>\n",
       "      <td>9.533000e+03</td>\n",
       "      <td>9.533000e+03</td>\n",
       "      <td>9.533000e+03</td>\n",
       "      <td>9.533000e+03</td>\n",
       "      <td>9.533000e+03</td>\n",
       "    </tr>\n",
       "    <tr>\n",
       "      <th>mean</th>\n",
       "      <td>-3.020650e-16</td>\n",
       "      <td>6.334316e-16</td>\n",
       "      <td>9.282947e-16</td>\n",
       "      <td>1.576533e-16</td>\n",
       "      <td>-2.215671e-16</td>\n",
       "      <td>2.158023e-17</td>\n",
       "      <td>-4.037122e-17</td>\n",
       "      <td>5.150489e-16</td>\n",
       "      <td>-9.732649e-17</td>\n",
       "    </tr>\n",
       "    <tr>\n",
       "      <th>std</th>\n",
       "      <td>1.000052e+00</td>\n",
       "      <td>1.000052e+00</td>\n",
       "      <td>1.000052e+00</td>\n",
       "      <td>1.000052e+00</td>\n",
       "      <td>1.000052e+00</td>\n",
       "      <td>1.000052e+00</td>\n",
       "      <td>1.000052e+00</td>\n",
       "      <td>1.000052e+00</td>\n",
       "      <td>1.000052e+00</td>\n",
       "    </tr>\n",
       "    <tr>\n",
       "      <th>min</th>\n",
       "      <td>-4.466778e+00</td>\n",
       "      <td>-4.082982e+00</td>\n",
       "      <td>-4.303610e+00</td>\n",
       "      <td>-3.218461e+00</td>\n",
       "      <td>-4.026241e+00</td>\n",
       "      <td>-3.480728e+00</td>\n",
       "      <td>-2.243622e+00</td>\n",
       "      <td>-4.789863e+00</td>\n",
       "      <td>-2.975183e+00</td>\n",
       "    </tr>\n",
       "    <tr>\n",
       "      <th>25%</th>\n",
       "      <td>-5.844549e-01</td>\n",
       "      <td>-5.839616e-01</td>\n",
       "      <td>-6.302179e-01</td>\n",
       "      <td>-6.917596e-01</td>\n",
       "      <td>-7.066070e-01</td>\n",
       "      <td>-6.921298e-01</td>\n",
       "      <td>-7.507423e-01</td>\n",
       "      <td>-7.628939e-01</td>\n",
       "      <td>-7.403406e-01</td>\n",
       "    </tr>\n",
       "    <tr>\n",
       "      <th>50%</th>\n",
       "      <td>1.912735e-01</td>\n",
       "      <td>1.669573e-01</td>\n",
       "      <td>7.292924e-02</td>\n",
       "      <td>1.027741e-01</td>\n",
       "      <td>1.313769e-01</td>\n",
       "      <td>1.716883e-01</td>\n",
       "      <td>7.856621e-02</td>\n",
       "      <td>1.085385e-01</td>\n",
       "      <td>1.447152e-01</td>\n",
       "    </tr>\n",
       "    <tr>\n",
       "      <th>75%</th>\n",
       "      <td>6.698421e-01</td>\n",
       "      <td>6.523575e-01</td>\n",
       "      <td>5.987231e-01</td>\n",
       "      <td>7.354498e-01</td>\n",
       "      <td>7.521345e-01</td>\n",
       "      <td>7.329170e-01</td>\n",
       "      <td>7.502113e-01</td>\n",
       "      <td>7.677622e-01</td>\n",
       "      <td>7.641014e-01</td>\n",
       "    </tr>\n",
       "    <tr>\n",
       "      <th>max</th>\n",
       "      <td>4.236574e+00</td>\n",
       "      <td>4.117322e+00</td>\n",
       "      <td>4.003621e+00</td>\n",
       "      <td>3.282300e+00</td>\n",
       "      <td>3.072973e+00</td>\n",
       "      <td>3.521413e+00</td>\n",
       "      <td>2.978695e+00</td>\n",
       "      <td>2.870392e+00</td>\n",
       "      <td>2.923703e+00</td>\n",
       "    </tr>\n",
       "  </tbody>\n",
       "</table>\n",
       "</div>"
      ],
      "text/plain": [
       "              Bcell        Bcell2    Neutrophil      1_logtpm      2_logtpm  \\\n",
       "count  9.533000e+03  9.533000e+03  9.533000e+03  9.533000e+03  9.533000e+03   \n",
       "mean  -3.020650e-16  6.334316e-16  9.282947e-16  1.576533e-16 -2.215671e-16   \n",
       "std    1.000052e+00  1.000052e+00  1.000052e+00  1.000052e+00  1.000052e+00   \n",
       "min   -4.466778e+00 -4.082982e+00 -4.303610e+00 -3.218461e+00 -4.026241e+00   \n",
       "25%   -5.844549e-01 -5.839616e-01 -6.302179e-01 -6.917596e-01 -7.066070e-01   \n",
       "50%    1.912735e-01  1.669573e-01  7.292924e-02  1.027741e-01  1.313769e-01   \n",
       "75%    6.698421e-01  6.523575e-01  5.987231e-01  7.354498e-01  7.521345e-01   \n",
       "max    4.236574e+00  4.117322e+00  4.003621e+00  3.282300e+00  3.072973e+00   \n",
       "\n",
       "           3_logtpm      1_logcnt      2_logcnt      3_logcnt  \n",
       "count  9.533000e+03  9.533000e+03  9.533000e+03  9.533000e+03  \n",
       "mean   2.158023e-17 -4.037122e-17  5.150489e-16 -9.732649e-17  \n",
       "std    1.000052e+00  1.000052e+00  1.000052e+00  1.000052e+00  \n",
       "min   -3.480728e+00 -2.243622e+00 -4.789863e+00 -2.975183e+00  \n",
       "25%   -6.921298e-01 -7.507423e-01 -7.628939e-01 -7.403406e-01  \n",
       "50%    1.716883e-01  7.856621e-02  1.085385e-01  1.447152e-01  \n",
       "75%    7.329170e-01  7.502113e-01  7.677622e-01  7.641014e-01  \n",
       "max    3.521413e+00  2.978695e+00  2.870392e+00  2.923703e+00  "
      ]
     },
     "execution_count": 444,
     "metadata": {},
     "output_type": "execute_result"
    }
   ],
   "source": [
    "# before filtering\n",
    "intersect.describe()"
   ]
  },
  {
   "cell_type": "code",
   "execution_count": 445,
   "metadata": {
    "collapsed": false
   },
   "outputs": [
    {
     "data": {
      "text/html": [
       "<div>\n",
       "<table border=\"1\" class=\"dataframe\">\n",
       "  <thead>\n",
       "    <tr style=\"text-align: right;\">\n",
       "      <th></th>\n",
       "      <th>Bcell</th>\n",
       "      <th>Bcell2</th>\n",
       "      <th>Neutrophil</th>\n",
       "      <th>1_logtpm</th>\n",
       "      <th>2_logtpm</th>\n",
       "      <th>3_logtpm</th>\n",
       "      <th>1_logcnt</th>\n",
       "      <th>2_logcnt</th>\n",
       "      <th>3_logcnt</th>\n",
       "    </tr>\n",
       "  </thead>\n",
       "  <tbody>\n",
       "    <tr>\n",
       "      <th>count</th>\n",
       "      <td>25.000000</td>\n",
       "      <td>25.000000</td>\n",
       "      <td>25.000000</td>\n",
       "      <td>25.000000</td>\n",
       "      <td>25.000000</td>\n",
       "      <td>25.000000</td>\n",
       "      <td>25.000000</td>\n",
       "      <td>25.000000</td>\n",
       "      <td>25.000000</td>\n",
       "    </tr>\n",
       "    <tr>\n",
       "      <th>mean</th>\n",
       "      <td>1.345793</td>\n",
       "      <td>1.427893</td>\n",
       "      <td>-0.295742</td>\n",
       "      <td>0.664565</td>\n",
       "      <td>0.705594</td>\n",
       "      <td>-0.866049</td>\n",
       "      <td>0.652972</td>\n",
       "      <td>0.666555</td>\n",
       "      <td>-0.898570</td>\n",
       "    </tr>\n",
       "    <tr>\n",
       "      <th>std</th>\n",
       "      <td>0.871750</td>\n",
       "      <td>0.875976</td>\n",
       "      <td>0.860453</td>\n",
       "      <td>0.936672</td>\n",
       "      <td>0.809542</td>\n",
       "      <td>0.726853</td>\n",
       "      <td>0.924706</td>\n",
       "      <td>0.851994</td>\n",
       "      <td>0.853841</td>\n",
       "    </tr>\n",
       "    <tr>\n",
       "      <th>min</th>\n",
       "      <td>-0.394706</td>\n",
       "      <td>-0.149359</td>\n",
       "      <td>-2.247710</td>\n",
       "      <td>-1.744846</td>\n",
       "      <td>-1.115261</td>\n",
       "      <td>-2.158526</td>\n",
       "      <td>-1.619699</td>\n",
       "      <td>-1.057160</td>\n",
       "      <td>-2.468129</td>\n",
       "    </tr>\n",
       "    <tr>\n",
       "      <th>25%</th>\n",
       "      <td>0.913356</td>\n",
       "      <td>0.836902</td>\n",
       "      <td>-1.079924</td>\n",
       "      <td>0.333474</td>\n",
       "      <td>0.318041</td>\n",
       "      <td>-1.522723</td>\n",
       "      <td>0.277496</td>\n",
       "      <td>0.243952</td>\n",
       "      <td>-1.506563</td>\n",
       "    </tr>\n",
       "    <tr>\n",
       "      <th>50%</th>\n",
       "      <td>1.093010</td>\n",
       "      <td>1.332814</td>\n",
       "      <td>0.023958</td>\n",
       "      <td>0.856893</td>\n",
       "      <td>0.745268</td>\n",
       "      <td>-0.816695</td>\n",
       "      <td>0.716760</td>\n",
       "      <td>0.774448</td>\n",
       "      <td>-0.771234</td>\n",
       "    </tr>\n",
       "    <tr>\n",
       "      <th>75%</th>\n",
       "      <td>1.754715</td>\n",
       "      <td>1.800412</td>\n",
       "      <td>0.264952</td>\n",
       "      <td>1.076565</td>\n",
       "      <td>1.109950</td>\n",
       "      <td>-0.425272</td>\n",
       "      <td>1.064959</td>\n",
       "      <td>1.117163</td>\n",
       "      <td>-0.405369</td>\n",
       "    </tr>\n",
       "    <tr>\n",
       "      <th>max</th>\n",
       "      <td>3.479534</td>\n",
       "      <td>3.570829</td>\n",
       "      <td>0.913162</td>\n",
       "      <td>2.501701</td>\n",
       "      <td>2.400513</td>\n",
       "      <td>0.383452</td>\n",
       "      <td>2.301936</td>\n",
       "      <td>2.191614</td>\n",
       "      <td>0.907712</td>\n",
       "    </tr>\n",
       "  </tbody>\n",
       "</table>\n",
       "</div>"
      ],
      "text/plain": [
       "           Bcell     Bcell2  Neutrophil   1_logtpm   2_logtpm   3_logtpm  \\\n",
       "count  25.000000  25.000000   25.000000  25.000000  25.000000  25.000000   \n",
       "mean    1.345793   1.427893   -0.295742   0.664565   0.705594  -0.866049   \n",
       "std     0.871750   0.875976    0.860453   0.936672   0.809542   0.726853   \n",
       "min    -0.394706  -0.149359   -2.247710  -1.744846  -1.115261  -2.158526   \n",
       "25%     0.913356   0.836902   -1.079924   0.333474   0.318041  -1.522723   \n",
       "50%     1.093010   1.332814    0.023958   0.856893   0.745268  -0.816695   \n",
       "75%     1.754715   1.800412    0.264952   1.076565   1.109950  -0.425272   \n",
       "max     3.479534   3.570829    0.913162   2.501701   2.400513   0.383452   \n",
       "\n",
       "        1_logcnt   2_logcnt   3_logcnt  \n",
       "count  25.000000  25.000000  25.000000  \n",
       "mean    0.652972   0.666555  -0.898570  \n",
       "std     0.924706   0.851994   0.853841  \n",
       "min    -1.619699  -1.057160  -2.468129  \n",
       "25%     0.277496   0.243952  -1.506563  \n",
       "50%     0.716760   0.774448  -0.771234  \n",
       "75%     1.064959   1.117163  -0.405369  \n",
       "max     2.301936   2.191614   0.907712  "
      ]
     },
     "execution_count": 445,
     "metadata": {},
     "output_type": "execute_result"
    }
   ],
   "source": [
    "# after filtering\n",
    "df_filter.describe()"
   ]
  },
  {
   "cell_type": "markdown",
   "metadata": {},
   "source": [
    "Can already see the difference in means!!!\n",
    "\n",
    "* Filtered: means are 1.3, -0.36\n",
    "* Unfiltered: means are 0,0\n"
   ]
  },
  {
   "cell_type": "code",
   "execution_count": 446,
   "metadata": {
    "collapsed": false
   },
   "outputs": [
    {
     "data": {
      "text/plain": [
       "<matplotlib.axes._subplots.AxesSubplot at 0x7fea8b4703d0>"
      ]
     },
     "execution_count": 446,
     "metadata": {},
     "output_type": "execute_result"
    },
    {
     "data": {
      "image/png": "[encoded data removed]",
      "text/plain": [
       "<matplotlib.figure.Figure at 0x7fea8b468b50>"
      ]
     },
     "metadata": {},
     "output_type": "display_data"
    }
   ],
   "source": [
    "(df_filter.Neutrophil - df_filter.Bcell).abs().hist()"
   ]
  },
  {
   "cell_type": "markdown",
   "metadata": {},
   "source": [
    "Now that's a noticeable difference. (Note however that sample size is significantly smaller.)"
   ]
  },
  {
   "cell_type": "markdown",
   "metadata": {},
   "source": [
    "# Difference between 2 microarray lines that should be same"
   ]
  },
  {
   "cell_type": "code",
   "execution_count": 447,
   "metadata": {
    "collapsed": false
   },
   "outputs": [
    {
     "data": {
      "text/plain": [
       "<matplotlib.axes._subplots.AxesSubplot at 0x7fea8b468dd0>"
      ]
     },
     "execution_count": 447,
     "metadata": {},
     "output_type": "execute_result"
    },
    {
     "data": {
      "image/png": "[encoded data removed]",
      "text/plain": [
       "<matplotlib.figure.Figure at 0x7fea8b3abf50>"
      ]
     },
     "metadata": {},
     "output_type": "display_data"
    }
   ],
   "source": [
    "(intersect.Bcell2 - intersect.Bcell).abs().hist()"
   ]
  },
  {
   "cell_type": "code",
   "execution_count": 448,
   "metadata": {
    "collapsed": false
   },
   "outputs": [
    {
     "data": {
      "text/plain": [
       "<matplotlib.axes._subplots.AxesSubplot at 0x7fea8b298810>"
      ]
     },
     "execution_count": 448,
     "metadata": {},
     "output_type": "execute_result"
    },
    {
     "data": {
      "image/png": "[encoded data removed]",
      "text/plain": [
       "<matplotlib.figure.Figure at 0x7fea8b2a3ed0>"
      ]
     },
     "metadata": {},
     "output_type": "display_data"
    }
   ],
   "source": [
    "(df_filter.Bcell2 - df_filter.Bcell).abs().hist()"
   ]
  },
  {
   "cell_type": "markdown",
   "metadata": {},
   "source": [
    "Much less difference. These comparisons are working. Now let's compare microarray and RNAseq."
   ]
  },
  {
   "cell_type": "markdown",
   "metadata": {},
   "source": [
    "# Difference between two RNA raw lines that should be same\n",
    "\n",
    "First, without filtering:"
   ]
  },
  {
   "cell_type": "code",
   "execution_count": 449,
   "metadata": {
    "collapsed": false
   },
   "outputs": [
    {
     "data": {
      "text/plain": [
       "<matplotlib.axes._subplots.AxesSubplot at 0x7fea8b2831d0>"
      ]
     },
     "execution_count": 449,
     "metadata": {},
     "output_type": "execute_result"
    },
    {
     "data": {
      "image/png": "[encoded data removed]",
      "text/plain": [
       "<matplotlib.figure.Figure at 0x7fea8b2b3090>"
      ]
     },
     "metadata": {},
     "output_type": "display_data"
    }
   ],
   "source": [
    "(intersect['2_logtpm'] - intersect['1_logtpm']).abs().hist()"
   ]
  },
  {
   "cell_type": "code",
   "execution_count": 450,
   "metadata": {
    "collapsed": false
   },
   "outputs": [
    {
     "data": {
      "text/plain": [
       "<matplotlib.axes._subplots.AxesSubplot at 0x7fea843bf490>"
      ]
     },
     "execution_count": 450,
     "metadata": {},
     "output_type": "execute_result"
    },
    {
     "data": {
      "image/png": "[encoded data removed]",
      "text/plain": [
       "<matplotlib.figure.Figure at 0x7fea8434ad50>"
      ]
     },
     "metadata": {},
     "output_type": "display_data"
    }
   ],
   "source": [
    "(intersect['2_logcnt'] - intersect['1_logcnt']).abs().hist()"
   ]
  },
  {
   "cell_type": "markdown",
   "metadata": {},
   "source": [
    "Next, with filtering:"
   ]
  },
  {
   "cell_type": "code",
   "execution_count": 451,
   "metadata": {
    "collapsed": false
   },
   "outputs": [
    {
     "data": {
      "text/plain": [
       "<matplotlib.axes._subplots.AxesSubplot at 0x7fea842c4810>"
      ]
     },
     "execution_count": 451,
     "metadata": {},
     "output_type": "execute_result"
    },
    {
     "data": {
      "image/png": "[encoded data removed]",
      "text/plain": [
       "<matplotlib.figure.Figure at 0x7fea8435c0d0>"
      ]
     },
     "metadata": {},
     "output_type": "display_data"
    }
   ],
   "source": [
    "(df_filter['2_logtpm'] - df_filter['1_logtpm']).abs().hist()"
   ]
  },
  {
   "cell_type": "code",
   "execution_count": 452,
   "metadata": {
    "collapsed": false
   },
   "outputs": [
    {
     "data": {
      "text/plain": [
       "<matplotlib.axes._subplots.AxesSubplot at 0x7fea84150b10>"
      ]
     },
     "execution_count": 452,
     "metadata": {},
     "output_type": "execute_result"
    },
    {
     "data": {
      "image/png": "[encoded data removed]",
      "text/plain": [
       "<matplotlib.figure.Figure at 0x7fea8415bd50>"
      ]
     },
     "metadata": {},
     "output_type": "display_data"
    }
   ],
   "source": [
    "(df_filter['2_logcnt'] - df_filter['1_logcnt']).abs().hist()"
   ]
  },
  {
   "cell_type": "markdown",
   "metadata": {},
   "source": [
    "Here, even without filtering, you can tell that they're pretty similar. Again, filtering helps throw out the noise."
   ]
  },
  {
   "cell_type": "markdown",
   "metadata": {},
   "source": [
    "# Difference between two RNA raw lines that should be different"
   ]
  },
  {
   "cell_type": "markdown",
   "metadata": {},
   "source": [
    "First, without filtering:"
   ]
  },
  {
   "cell_type": "code",
   "execution_count": 454,
   "metadata": {
    "collapsed": false
   },
   "outputs": [
    {
     "data": {
      "text/plain": [
       "<matplotlib.axes._subplots.AxesSubplot at 0x7fea841328d0>"
      ]
     },
     "execution_count": 454,
     "metadata": {},
     "output_type": "execute_result"
    },
    {
     "data": {
      "image/png": "[encoded data removed]",
      "text/plain": [
       "<matplotlib.figure.Figure at 0x7fea840beb50>"
      ]
     },
     "metadata": {},
     "output_type": "display_data"
    }
   ],
   "source": [
    "(intersect['3_logtpm'] - intersect['1_logtpm']).abs().hist()"
   ]
  },
  {
   "cell_type": "code",
   "execution_count": 455,
   "metadata": {
    "collapsed": false
   },
   "outputs": [
    {
     "data": {
      "text/plain": [
       "<matplotlib.axes._subplots.AxesSubplot at 0x7fea83fbf850>"
      ]
     },
     "execution_count": 455,
     "metadata": {},
     "output_type": "execute_result"
    },
    {
     "data": {
      "image/png": "[encoded data removed]",
      "text/plain": [
       "<matplotlib.figure.Figure at 0x7fea83f805d0>"
      ]
     },
     "metadata": {},
     "output_type": "display_data"
    }
   ],
   "source": [
    "(intersect['3_logcnt'] - intersect['1_logcnt']).abs().hist()"
   ]
  },
  {
   "cell_type": "markdown",
   "metadata": {},
   "source": [
    "Second, with filtering:"
   ]
  },
  {
   "cell_type": "code",
   "execution_count": 458,
   "metadata": {
    "collapsed": false
   },
   "outputs": [
    {
     "data": {
      "text/plain": [
       "<matplotlib.axes._subplots.AxesSubplot at 0x7fea99e8bd10>"
      ]
     },
     "execution_count": 458,
     "metadata": {},
     "output_type": "execute_result"
    },
    {
     "data": {
      "image/png": "[encoded data removed]",
      "text/plain": [
       "<matplotlib.figure.Figure at 0x7fea9a0a5190>"
      ]
     },
     "metadata": {},
     "output_type": "display_data"
    }
   ],
   "source": [
    "(df_filter['3_logtpm'] - df_filter['1_logtpm']).abs().hist()"
   ]
  },
  {
   "cell_type": "code",
   "execution_count": 457,
   "metadata": {
    "collapsed": false
   },
   "outputs": [
    {
     "data": {
      "text/plain": [
       "<matplotlib.axes._subplots.AxesSubplot at 0x7fea99fa6750>"
      ]
     },
     "execution_count": 457,
     "metadata": {},
     "output_type": "execute_result"
    },
    {
     "data": {
      "image/png": "[encoded data removed]",
      "text/plain": [
       "<matplotlib.figure.Figure at 0x7fea99f93b50>"
      ]
     },
     "metadata": {},
     "output_type": "display_data"
    }
   ],
   "source": [
    "(df_filter['3_logcnt'] - df_filter['1_logcnt']).abs().hist()"
   ]
  },
  {
   "cell_type": "markdown",
   "metadata": {},
   "source": [
    "Without filtering, hard to tell that there's a difference.\n",
    "\n",
    "With filtering, you can tell by the scale!\n",
    "\n",
    "**We've demonstrated that you can tell apart RNAseq lines from different cell types, but not from the same cell type. Phenotype distinctions exist and are readily visible if you filter to the right genes!**\n",
    "The same is known to be true about microarray data, and we saw it above."
   ]
  },
  {
   "cell_type": "markdown",
   "metadata": {},
   "source": [
    "# Difference between 1 microarray, 1 rnaseq line that should be same\n",
    "\n",
    "First, without filtering"
   ]
  },
  {
   "cell_type": "code",
   "execution_count": 460,
   "metadata": {
    "collapsed": false
   },
   "outputs": [
    {
     "data": {
      "text/plain": [
       "<matplotlib.axes._subplots.AxesSubplot at 0x7fea99edaa10>"
      ]
     },
     "execution_count": 460,
     "metadata": {},
     "output_type": "execute_result"
    },
    {
     "data": {
      "image/png": "[encoded data removed]",
      "text/plain": [
       "<matplotlib.figure.Figure at 0x7fea9a0e2250>"
      ]
     },
     "metadata": {},
     "output_type": "display_data"
    }
   ],
   "source": [
    "(intersect['Bcell'] - intersect['1_logtpm']).abs().hist()"
   ]
  },
  {
   "cell_type": "code",
   "execution_count": 461,
   "metadata": {
    "collapsed": false
   },
   "outputs": [
    {
     "data": {
      "text/plain": [
       "<matplotlib.axes._subplots.AxesSubplot at 0x7fea83de1390>"
      ]
     },
     "execution_count": 461,
     "metadata": {},
     "output_type": "execute_result"
    },
    {
     "data": {
      "image/png": "[encoded data removed]",
      "text/plain": [
       "<matplotlib.figure.Figure at 0x7fea83ded7d0>"
      ]
     },
     "metadata": {},
     "output_type": "display_data"
    }
   ],
   "source": [
    "(intersect['Bcell'] - intersect['1_logcnt']).abs().hist()"
   ]
  },
  {
   "cell_type": "markdown",
   "metadata": {},
   "source": [
    "Second, with filtering"
   ]
  },
  {
   "cell_type": "code",
   "execution_count": 462,
   "metadata": {
    "collapsed": false
   },
   "outputs": [
    {
     "data": {
      "text/plain": [
       "<matplotlib.axes._subplots.AxesSubplot at 0x7fea9a0e2290>"
      ]
     },
     "execution_count": 462,
     "metadata": {},
     "output_type": "execute_result"
    },
    {
     "data": {
      "image/png": "[encoded data removed]",
      "text/plain": [
       "<matplotlib.figure.Figure at 0x7fea83cec450>"
      ]
     },
     "metadata": {},
     "output_type": "display_data"
    }
   ],
   "source": [
    "(df_filter['Bcell'] - df_filter['1_logtpm']).abs().hist()"
   ]
  },
  {
   "cell_type": "code",
   "execution_count": 463,
   "metadata": {
    "collapsed": false
   },
   "outputs": [
    {
     "data": {
      "text/plain": [
       "<matplotlib.axes._subplots.AxesSubplot at 0x7fea83cc1a50>"
      ]
     },
     "execution_count": 463,
     "metadata": {},
     "output_type": "execute_result"
    },
    {
     "data": {
      "image/png": "[encoded data removed]",
      "text/plain": [
       "<matplotlib.figure.Figure at 0x7fea83c55550>"
      ]
     },
     "metadata": {},
     "output_type": "display_data"
    }
   ],
   "source": [
    "(df_filter['Bcell'] - df_filter['1_logcnt']).abs().hist()"
   ]
  },
  {
   "cell_type": "markdown",
   "metadata": {},
   "source": [
    "Some but not much difference. Filtering helps slightly, but even without filtering looks like that.\n",
    "\n",
    "tpm and count seem to look similar. Maybe scaling TPM will help. TODO: scale TPM and try this again."
   ]
  },
  {
   "cell_type": "markdown",
   "metadata": {},
   "source": [
    "# Difference between 1 microarray, 1 rnaseq line that should be diff\n",
    "\n",
    "First, without filtering:"
   ]
  },
  {
   "cell_type": "code",
   "execution_count": 464,
   "metadata": {
    "collapsed": false
   },
   "outputs": [
    {
     "data": {
      "text/plain": [
       "<matplotlib.axes._subplots.AxesSubplot at 0x7fea83cd5750>"
      ]
     },
     "execution_count": 464,
     "metadata": {},
     "output_type": "execute_result"
    },
    {
     "data": {
      "image/png": "[encoded data removed]",
      "text/plain": [
       "<matplotlib.figure.Figure at 0x7fea83af6210>"
      ]
     },
     "metadata": {},
     "output_type": "display_data"
    }
   ],
   "source": [
    "(intersect['Neutrophil'] - intersect['1_logtpm']).abs().hist()"
   ]
  },
  {
   "cell_type": "code",
   "execution_count": 465,
   "metadata": {
    "collapsed": false
   },
   "outputs": [
    {
     "data": {
      "text/plain": [
       "<matplotlib.axes._subplots.AxesSubplot at 0x7fea83ab3550>"
      ]
     },
     "execution_count": 465,
     "metadata": {},
     "output_type": "execute_result"
    },
    {
     "data": {
      "image/png": "[encoded data removed]",
      "text/plain": [
       "<matplotlib.figure.Figure at 0x7fea83cc1750>"
      ]
     },
     "metadata": {},
     "output_type": "display_data"
    }
   ],
   "source": [
    "(intersect['Neutrophil'] - intersect['1_logcnt']).abs().hist()"
   ]
  },
  {
   "cell_type": "markdown",
   "metadata": {},
   "source": [
    "Second, with filtering:"
   ]
  },
  {
   "cell_type": "code",
   "execution_count": 466,
   "metadata": {
    "collapsed": false
   },
   "outputs": [
    {
     "data": {
      "text/plain": [
       "<matplotlib.axes._subplots.AxesSubplot at 0x7fea839a3310>"
      ]
     },
     "execution_count": 466,
     "metadata": {},
     "output_type": "execute_result"
    },
    {
     "data": {
      "image/png": "[encoded data removed]",
      "text/plain": [
       "<matplotlib.figure.Figure at 0x7fea838cae10>"
      ]
     },
     "metadata": {},
     "output_type": "display_data"
    }
   ],
   "source": [
    "(df_filter['Neutrophil'] - df_filter['1_logtpm']).abs().hist()"
   ]
  },
  {
   "cell_type": "code",
   "execution_count": 467,
   "metadata": {
    "collapsed": false
   },
   "outputs": [
    {
     "data": {
      "text/plain": [
       "<matplotlib.axes._subplots.AxesSubplot at 0x7fea839e5ed0>"
      ]
     },
     "execution_count": 467,
     "metadata": {},
     "output_type": "execute_result"
    },
    {
     "data": {
      "image/png": "[encoded data removed]",
      "text/plain": [
       "<matplotlib.figure.Figure at 0x7fea83827290>"
      ]
     },
     "metadata": {},
     "output_type": "display_data"
    }
   ],
   "source": [
    "(df_filter['Neutrophil'] - df_filter['1_logcnt']).abs().hist()"
   ]
  },
  {
   "cell_type": "markdown",
   "metadata": {},
   "source": [
    "In these comparisons, it's much less clear whether different or same. The max mark on the scale is the only giveaway, and it's a change of ~ 1; in microarray vs. microarray or RNAseq vs RNAseq, the difference was around 3. This is all on the log scale though, so there's some signal there, but RNAseq vs microarray seems a little more unruly."
   ]
  },
  {
   "cell_type": "markdown",
   "metadata": {},
   "source": [
    "## Look at whether highly (differentially?) expressed genes follow same pattern amongst themselves\n",
    "\n",
    "Filtered to marker genes."
   ]
  },
  {
   "cell_type": "code",
   "execution_count": 486,
   "metadata": {
    "collapsed": false
   },
   "outputs": [
    {
     "data": {
      "text/plain": [
       "<matplotlib.legend.Legend at 0x7fea82e833d0>"
      ]
     },
     "execution_count": 486,
     "metadata": {},
     "output_type": "execute_result"
    },
    {
     "data": {
      "image/png": "[encoded data removed]",
      "text/plain": [
       "<matplotlib.figure.Figure at 0x7fea82f7a650>"
      ]
     },
     "metadata": {},
     "output_type": "display_data"
    }
   ],
   "source": [
    "n=10\n",
    "rna_top = df_filter['1_logcnt'].sort_values(inplace=False, ascending=False).head(n=n).values\n",
    "ma_top = df_filter['Bcell'].sort_values(inplace=False, ascending=False).head(n=n).values\n",
    "xs = np.arange(1,n+1)\n",
    "plt.plot(xs,rna_top, label='rna log-tpm rescaled')\n",
    "plt.plot(xs,ma_top, label='microarray log2-intensity rescaled')\n",
    "plt.xticks(xs)\n",
    "plt.title('most highly expressed genes')\n",
    "plt.xlabel('reverse sorted')\n",
    "plt.ylabel('log expression')\n",
    "plt.legend(loc='best')"
   ]
  },
  {
   "cell_type": "code",
   "execution_count": 487,
   "metadata": {
    "collapsed": false
   },
   "outputs": [
    {
     "data": {
      "text/plain": [
       "<matplotlib.legend.Legend at 0x7fea82d5bb10>"
      ]
     },
     "execution_count": 487,
     "metadata": {},
     "output_type": "execute_result"
    },
    {
     "data": {
      "image/png": "[encoded data removed]",
      "text/plain": [
       "<matplotlib.figure.Figure at 0x7fea82e707d0>"
      ]
     },
     "metadata": {},
     "output_type": "display_data"
    }
   ],
   "source": [
    "n=10\n",
    "rna_bot = df_filter['1_logcnt'].sort_values(inplace=False, ascending=False).tail(n=n).values\n",
    "ma_bot = df_filter['Bcell'].sort_values(inplace=False, ascending=False).tail(n=n).values\n",
    "xs = np.arange(1,n+1)\n",
    "plt.plot(xs,rna_bot, label='rna log-tpm rescaled')\n",
    "plt.plot(xs,ma_bot, label='microarray log2-intensity rescaled')\n",
    "plt.xticks(xs)\n",
    "plt.title('LEAST highly expressed genes')\n",
    "plt.xlabel('reverse sorted')\n",
    "plt.ylabel('log expression')\n",
    "plt.legend(loc='best')"
   ]
  },
  {
   "cell_type": "markdown",
   "metadata": {},
   "source": [
    "Looks like there's a constant offset, but otherwise tracks quite well.\n",
    "\n",
    "Ratio between most highly and least highly expressed genes tracks very well! :"
   ]
  },
  {
   "cell_type": "code",
   "execution_count": 489,
   "metadata": {
    "collapsed": false
   },
   "outputs": [
    {
     "data": {
      "text/plain": [
       "3.7573531364764374"
      ]
     },
     "execution_count": 489,
     "metadata": {},
     "output_type": "execute_result"
    }
   ],
   "source": [
    "rna_top[0] / rna_bot[0]"
   ]
  },
  {
   "cell_type": "code",
   "execution_count": 490,
   "metadata": {
    "collapsed": false
   },
   "outputs": [
    {
     "data": {
      "text/plain": [
       "3.4634560955351739"
      ]
     },
     "execution_count": 490,
     "metadata": {},
     "output_type": "execute_result"
    }
   ],
   "source": [
    "ma_top[0] / ma_bot[0]"
   ]
  },
  {
   "cell_type": "markdown",
   "metadata": {},
   "source": [
    "Plot more genes:\n",
    "\n",
    "* in filtered list, we see the constant difference\n",
    "* in nonfiltered list, there's a bizarre intersection, but overall constant absolute difference"
   ]
  },
  {
   "cell_type": "code",
   "execution_count": 497,
   "metadata": {
    "collapsed": false
   },
   "outputs": [
    {
     "data": {
      "text/plain": [
       "<matplotlib.legend.Legend at 0x7fea813fe410>"
      ]
     },
     "execution_count": 497,
     "metadata": {},
     "output_type": "execute_result"
    },
    {
     "data": {
      "image/png": "[encoded data removed]",
      "text/plain": [
       "<matplotlib.figure.Figure at 0x7fea816e4690>"
      ]
     },
     "metadata": {},
     "output_type": "display_data"
    }
   ],
   "source": [
    "n=1000\n",
    "rna_top = df_filter['1_logcnt'].sort_values(inplace=False, ascending=False).head(n=n).values\n",
    "ma_top = df_filter['Bcell'].sort_values(inplace=False, ascending=False).head(n=n).values\n",
    "xs = np.arange(1,len(rna_top)+1)\n",
    "plt.plot(xs,rna_top, label='rna log-tpm rescaled')\n",
    "plt.plot(xs,ma_top, label='microarray log2-intensity rescaled')\n",
    "plt.xticks(xs)\n",
    "plt.title('most highly expressed MARKER genes')\n",
    "plt.xlabel('genes sorted: high to low expression')\n",
    "plt.ylabel('log expression')\n",
    "plt.legend(loc='best')"
   ]
  },
  {
   "cell_type": "code",
   "execution_count": 496,
   "metadata": {
    "collapsed": false
   },
   "outputs": [
    {
     "data": {
      "text/plain": [
       "<matplotlib.legend.Legend at 0x7fea81690850>"
      ]
     },
     "execution_count": 496,
     "metadata": {},
     "output_type": "execute_result"
    },
    {
     "data": {
      "image/png": "[encoded data removed]",
      "text/plain": [
       "<matplotlib.figure.Figure at 0x7fea82d40250>"
      ]
     },
     "metadata": {},
     "output_type": "display_data"
    }
   ],
   "source": [
    "n=1000\n",
    "rna_top = intersect['1_logcnt'].sort_values(inplace=False, ascending=False).head(n=n).values\n",
    "ma_top = intersect['Bcell'].sort_values(inplace=False, ascending=False).head(n=n).values\n",
    "xs = np.arange(1,len(rna_top)+1)\n",
    "plt.plot(xs,rna_top, label='rna log-tpm rescaled')\n",
    "plt.plot(xs,ma_top, label='microarray log2-intensity rescaled')\n",
    "plt.title('most highly expressed ALL genes, first 1k')\n",
    "plt.xlabel('genes sorted: high to low expression')\n",
    "plt.ylabel('log expression')\n",
    "plt.legend(loc='best')"
   ]
  },
  {
   "cell_type": "code",
   "execution_count": null,
   "metadata": {
    "collapsed": true
   },
   "outputs": [],
   "source": []
  }
 ],
 "metadata": {
  "kernelspec": {
   "display_name": "Python 2",
   "language": "python",
   "name": "python2"
  },
  "language_info": {
   "codemirror_mode": {
    "name": "ipython",
    "version": 2
   },
   "file_extension": ".py",
   "mimetype": "text/x-python",
   "name": "python",
   "nbconvert_exporter": "python",
   "pygments_lexer": "ipython2",
   "version": "2.7.11"
  }
 },
 "nbformat": 4,
 "nbformat_minor": 0
}
