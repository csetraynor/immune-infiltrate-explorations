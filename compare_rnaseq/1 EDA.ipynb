{
 "cells": [
  {
   "cell_type": "code",
   "execution_count": 2,
   "metadata": {
    "collapsed": true
   },
   "outputs": [],
   "source": [
    "# %load ~/ipyhead\n",
    "import numpy as np\n",
    "import matplotlib.pyplot as plt\n",
    "import pandas as pd\n",
    "%matplotlib inline\n",
    "import seaborn as sns"
   ]
  },
  {
   "cell_type": "markdown",
   "metadata": {},
   "source": [
    "Using:\n",
    "\n",
    "* <strike>ERR431617: B cell memory</strike>\n",
    "* Microarray data: use one same cell type, one other distant cell type. Can we see the difference?"
   ]
  },
  {
   "cell_type": "code",
   "execution_count": 4,
   "metadata": {
    "collapsed": false
   },
   "outputs": [
    {
     "data": {
      "text/html": [
       "<div>\n",
       "<table border=\"1\" class=\"dataframe\">\n",
       "  <thead>\n",
       "    <tr style=\"text-align: right;\">\n",
       "      <th></th>\n",
       "      <th>sample_id</th>\n",
       "      <th>gene_name</th>\n",
       "      <th>est_counts</th>\n",
       "      <th>tpm</th>\n",
       "    </tr>\n",
       "  </thead>\n",
       "  <tbody>\n",
       "    <tr>\n",
       "      <th>0</th>\n",
       "      <td>1</td>\n",
       "      <td>A1BG</td>\n",
       "      <td>89.513800</td>\n",
       "      <td>14.958630</td>\n",
       "    </tr>\n",
       "    <tr>\n",
       "      <th>1</th>\n",
       "      <td>1</td>\n",
       "      <td>A1CF</td>\n",
       "      <td>14.071500</td>\n",
       "      <td>0.249757</td>\n",
       "    </tr>\n",
       "    <tr>\n",
       "      <th>2</th>\n",
       "      <td>1</td>\n",
       "      <td>A2M</td>\n",
       "      <td>0.000000</td>\n",
       "      <td>0.000000</td>\n",
       "    </tr>\n",
       "    <tr>\n",
       "      <th>3</th>\n",
       "      <td>1</td>\n",
       "      <td>A2ML1</td>\n",
       "      <td>16.530498</td>\n",
       "      <td>1.209676</td>\n",
       "    </tr>\n",
       "    <tr>\n",
       "      <th>4</th>\n",
       "      <td>1</td>\n",
       "      <td>A2MP1</td>\n",
       "      <td>2.000000</td>\n",
       "      <td>0.076626</td>\n",
       "    </tr>\n",
       "  </tbody>\n",
       "</table>\n",
       "</div>"
      ],
      "text/plain": [
       "   sample_id gene_name  est_counts        tpm\n",
       "0          1      A1BG   89.513800  14.958630\n",
       "1          1      A1CF   14.071500   0.249757\n",
       "2          1       A2M    0.000000   0.000000\n",
       "3          1     A2ML1   16.530498   1.209676\n",
       "4          1     A2MP1    2.000000   0.076626"
      ]
     },
     "execution_count": 4,
     "metadata": {},
     "output_type": "execute_result"
    }
   ],
   "source": [
    "df = pd.read_csv('summary.simple.tsv', sep='\\t')\n",
    "df.head()"
   ]
  },
  {
   "cell_type": "code",
   "execution_count": 6,
   "metadata": {
    "collapsed": false
   },
   "outputs": [
    {
     "data": {
      "text/plain": [
       "count    34832.000000\n",
       "mean        28.709234\n",
       "std        322.317076\n",
       "min          0.000000\n",
       "25%          0.000000\n",
       "50%          0.351292\n",
       "75%          6.132022\n",
       "max      34001.600000\n",
       "Name: tpm, dtype: float64"
      ]
     },
     "execution_count": 6,
     "metadata": {},
     "output_type": "execute_result"
    },
    {
     "data": {
      "image/png": "[encoded data removed]",
      "text/plain": [
       "<matplotlib.figure.Figure at 0x7feaccffcfd0>"
      ]
     },
     "metadata": {},
     "output_type": "display_data"
    }
   ],
   "source": [
    "df.tpm.hist()\n",
    "df.tpm.describe()"
   ]
  },
  {
   "cell_type": "code",
   "execution_count": 10,
   "metadata": {
    "collapsed": false
   },
   "outputs": [
    {
     "data": {
      "text/html": [
       "<div>\n",
       "<table border=\"1\" class=\"dataframe\">\n",
       "  <thead>\n",
       "    <tr style=\"text-align: right;\">\n",
       "      <th></th>\n",
       "      <th>sample_id</th>\n",
       "      <th>gene_name</th>\n",
       "      <th>est_counts</th>\n",
       "      <th>tpm</th>\n",
       "    </tr>\n",
       "  </thead>\n",
       "  <tbody>\n",
       "    <tr>\n",
       "      <th>652</th>\n",
       "      <td>1</td>\n",
       "      <td>AC010970.2</td>\n",
       "      <td>57739.000000</td>\n",
       "      <td>4941.560000</td>\n",
       "    </tr>\n",
       "    <tr>\n",
       "      <th>3263</th>\n",
       "      <td>1</td>\n",
       "      <td>B2M</td>\n",
       "      <td>21168.996440</td>\n",
       "      <td>5608.715540</td>\n",
       "    </tr>\n",
       "    <tr>\n",
       "      <th>4933</th>\n",
       "      <td>1</td>\n",
       "      <td>CD37</td>\n",
       "      <td>6330.585960</td>\n",
       "      <td>1026.220960</td>\n",
       "    </tr>\n",
       "    <tr>\n",
       "      <th>4961</th>\n",
       "      <td>1</td>\n",
       "      <td>CD74</td>\n",
       "      <td>30023.531000</td>\n",
       "      <td>3931.504500</td>\n",
       "    </tr>\n",
       "    <tr>\n",
       "      <th>6902</th>\n",
       "      <td>1</td>\n",
       "      <td>CTD-2328D6.1</td>\n",
       "      <td>57188.000000</td>\n",
       "      <td>34001.600000</td>\n",
       "    </tr>\n",
       "    <tr>\n",
       "      <th>7623</th>\n",
       "      <td>1</td>\n",
       "      <td>DDX5</td>\n",
       "      <td>17003.512046</td>\n",
       "      <td>1783.898592</td>\n",
       "    </tr>\n",
       "    <tr>\n",
       "      <th>8395</th>\n",
       "      <td>1</td>\n",
       "      <td>EEF1A1</td>\n",
       "      <td>168208.951750</td>\n",
       "      <td>13238.381360</td>\n",
       "    </tr>\n",
       "    <tr>\n",
       "      <th>8436</th>\n",
       "      <td>1</td>\n",
       "      <td>EEF1B2</td>\n",
       "      <td>5446.606590</td>\n",
       "      <td>1159.599120</td>\n",
       "    </tr>\n",
       "    <tr>\n",
       "      <th>8445</th>\n",
       "      <td>1</td>\n",
       "      <td>EEF1D</td>\n",
       "      <td>5850.008080</td>\n",
       "      <td>1029.788427</td>\n",
       "    </tr>\n",
       "    <tr>\n",
       "      <th>8457</th>\n",
       "      <td>1</td>\n",
       "      <td>EEF1G</td>\n",
       "      <td>20726.848300</td>\n",
       "      <td>2088.411560</td>\n",
       "    </tr>\n",
       "    <tr>\n",
       "      <th>8466</th>\n",
       "      <td>1</td>\n",
       "      <td>EEF2</td>\n",
       "      <td>31985.983400</td>\n",
       "      <td>1556.558220</td>\n",
       "    </tr>\n",
       "    <tr>\n",
       "      <th>8543</th>\n",
       "      <td>1</td>\n",
       "      <td>EIF1</td>\n",
       "      <td>13079.589000</td>\n",
       "      <td>1829.736300</td>\n",
       "    </tr>\n",
       "    <tr>\n",
       "      <th>9054</th>\n",
       "      <td>1</td>\n",
       "      <td>EZR</td>\n",
       "      <td>36651.886500</td>\n",
       "      <td>1758.677160</td>\n",
       "    </tr>\n",
       "    <tr>\n",
       "      <th>9556</th>\n",
       "      <td>1</td>\n",
       "      <td>FAU</td>\n",
       "      <td>5861.952360</td>\n",
       "      <td>1754.895720</td>\n",
       "    </tr>\n",
       "    <tr>\n",
       "      <th>9881</th>\n",
       "      <td>1</td>\n",
       "      <td>FMNL1</td>\n",
       "      <td>14833.331600</td>\n",
       "      <td>1146.662600</td>\n",
       "    </tr>\n",
       "    <tr>\n",
       "      <th>10057</th>\n",
       "      <td>1</td>\n",
       "      <td>FTH1</td>\n",
       "      <td>17683.815230</td>\n",
       "      <td>3903.881160</td>\n",
       "    </tr>\n",
       "    <tr>\n",
       "      <th>10084</th>\n",
       "      <td>1</td>\n",
       "      <td>FTL</td>\n",
       "      <td>6167.000000</td>\n",
       "      <td>1182.820000</td>\n",
       "    </tr>\n",
       "    <tr>\n",
       "      <th>10683</th>\n",
       "      <td>1</td>\n",
       "      <td>GNAS</td>\n",
       "      <td>8991.302310</td>\n",
       "      <td>1197.198701</td>\n",
       "    </tr>\n",
       "    <tr>\n",
       "      <th>10691</th>\n",
       "      <td>1</td>\n",
       "      <td>GNB2L1</td>\n",
       "      <td>10356.648300</td>\n",
       "      <td>2245.423120</td>\n",
       "    </tr>\n",
       "    <tr>\n",
       "      <th>11008</th>\n",
       "      <td>1</td>\n",
       "      <td>GRASP</td>\n",
       "      <td>5157.999100</td>\n",
       "      <td>1011.433530</td>\n",
       "    </tr>\n",
       "    <tr>\n",
       "      <th>11332</th>\n",
       "      <td>1</td>\n",
       "      <td>H3F3B</td>\n",
       "      <td>26390.215500</td>\n",
       "      <td>3305.720173</td>\n",
       "    </tr>\n",
       "    <tr>\n",
       "      <th>11690</th>\n",
       "      <td>1</td>\n",
       "      <td>HLA-A</td>\n",
       "      <td>27852.849828</td>\n",
       "      <td>2483.752827</td>\n",
       "    </tr>\n",
       "    <tr>\n",
       "      <th>11691</th>\n",
       "      <td>1</td>\n",
       "      <td>HLA-B</td>\n",
       "      <td>42349.049250</td>\n",
       "      <td>5235.797093</td>\n",
       "    </tr>\n",
       "    <tr>\n",
       "      <th>11692</th>\n",
       "      <td>1</td>\n",
       "      <td>HLA-C</td>\n",
       "      <td>16135.706322</td>\n",
       "      <td>2188.364803</td>\n",
       "    </tr>\n",
       "    <tr>\n",
       "      <th>11700</th>\n",
       "      <td>1</td>\n",
       "      <td>HLA-DPB1</td>\n",
       "      <td>8894.806298</td>\n",
       "      <td>1115.904287</td>\n",
       "    </tr>\n",
       "    <tr>\n",
       "      <th>11707</th>\n",
       "      <td>1</td>\n",
       "      <td>HLA-DRA</td>\n",
       "      <td>16067.992170</td>\n",
       "      <td>2178.187941</td>\n",
       "    </tr>\n",
       "    <tr>\n",
       "      <th>11708</th>\n",
       "      <td>1</td>\n",
       "      <td>HLA-DRB1</td>\n",
       "      <td>12135.462647</td>\n",
       "      <td>1630.870927</td>\n",
       "    </tr>\n",
       "    <tr>\n",
       "      <th>11927</th>\n",
       "      <td>1</td>\n",
       "      <td>HNRNPA1</td>\n",
       "      <td>12914.455800</td>\n",
       "      <td>1976.878530</td>\n",
       "    </tr>\n",
       "    <tr>\n",
       "      <th>12048</th>\n",
       "      <td>1</td>\n",
       "      <td>HNRNPH1</td>\n",
       "      <td>21390.812430</td>\n",
       "      <td>2917.000094</td>\n",
       "    </tr>\n",
       "    <tr>\n",
       "      <th>12748</th>\n",
       "      <td>1</td>\n",
       "      <td>IGKC</td>\n",
       "      <td>3097.036000</td>\n",
       "      <td>1018.604800</td>\n",
       "    </tr>\n",
       "    <tr>\n",
       "      <th>...</th>\n",
       "      <td>...</td>\n",
       "      <td>...</td>\n",
       "      <td>...</td>\n",
       "      <td>...</td>\n",
       "    </tr>\n",
       "    <tr>\n",
       "      <th>27859</th>\n",
       "      <td>1</td>\n",
       "      <td>RPS18</td>\n",
       "      <td>23469.318340</td>\n",
       "      <td>8385.919590</td>\n",
       "    </tr>\n",
       "    <tr>\n",
       "      <th>27865</th>\n",
       "      <td>1</td>\n",
       "      <td>RPS19</td>\n",
       "      <td>8965.017120</td>\n",
       "      <td>3662.462560</td>\n",
       "    </tr>\n",
       "    <tr>\n",
       "      <th>27870</th>\n",
       "      <td>1</td>\n",
       "      <td>RPS2</td>\n",
       "      <td>15140.386950</td>\n",
       "      <td>2407.534720</td>\n",
       "    </tr>\n",
       "    <tr>\n",
       "      <th>27871</th>\n",
       "      <td>1</td>\n",
       "      <td>RPS20</td>\n",
       "      <td>13924.732630</td>\n",
       "      <td>5084.990240</td>\n",
       "    </tr>\n",
       "    <tr>\n",
       "      <th>27889</th>\n",
       "      <td>1</td>\n",
       "      <td>RPS21</td>\n",
       "      <td>4359.996510</td>\n",
       "      <td>3949.794440</td>\n",
       "    </tr>\n",
       "    <tr>\n",
       "      <th>27893</th>\n",
       "      <td>1</td>\n",
       "      <td>RPS23</td>\n",
       "      <td>12053.462420</td>\n",
       "      <td>6184.840242</td>\n",
       "    </tr>\n",
       "    <tr>\n",
       "      <th>27904</th>\n",
       "      <td>1</td>\n",
       "      <td>RPS24</td>\n",
       "      <td>5306.468540</td>\n",
       "      <td>2762.197220</td>\n",
       "    </tr>\n",
       "    <tr>\n",
       "      <th>27915</th>\n",
       "      <td>1</td>\n",
       "      <td>RPS25</td>\n",
       "      <td>10330.001848</td>\n",
       "      <td>2475.248940</td>\n",
       "    </tr>\n",
       "    <tr>\n",
       "      <th>27939</th>\n",
       "      <td>1</td>\n",
       "      <td>RPS27</td>\n",
       "      <td>19865.845500</td>\n",
       "      <td>17164.056700</td>\n",
       "    </tr>\n",
       "    <tr>\n",
       "      <th>27940</th>\n",
       "      <td>1</td>\n",
       "      <td>RPS27A</td>\n",
       "      <td>10442.935860</td>\n",
       "      <td>3105.472370</td>\n",
       "    </tr>\n",
       "    <tr>\n",
       "      <th>27960</th>\n",
       "      <td>1</td>\n",
       "      <td>RPS28</td>\n",
       "      <td>4703.196000</td>\n",
       "      <td>1017.601880</td>\n",
       "    </tr>\n",
       "    <tr>\n",
       "      <th>27962</th>\n",
       "      <td>1</td>\n",
       "      <td>RPS28P7</td>\n",
       "      <td>540.770000</td>\n",
       "      <td>1299.970000</td>\n",
       "    </tr>\n",
       "    <tr>\n",
       "      <th>27964</th>\n",
       "      <td>1</td>\n",
       "      <td>RPS29</td>\n",
       "      <td>7710.979282</td>\n",
       "      <td>9057.375826</td>\n",
       "    </tr>\n",
       "    <tr>\n",
       "      <th>27994</th>\n",
       "      <td>1</td>\n",
       "      <td>RPS3</td>\n",
       "      <td>14324.715120</td>\n",
       "      <td>3773.344150</td>\n",
       "    </tr>\n",
       "    <tr>\n",
       "      <th>27995</th>\n",
       "      <td>1</td>\n",
       "      <td>RPS3A</td>\n",
       "      <td>17701.268850</td>\n",
       "      <td>3707.032800</td>\n",
       "    </tr>\n",
       "    <tr>\n",
       "      <th>28035</th>\n",
       "      <td>1</td>\n",
       "      <td>RPS4X</td>\n",
       "      <td>9083.996680</td>\n",
       "      <td>1845.266312</td>\n",
       "    </tr>\n",
       "    <tr>\n",
       "      <th>28061</th>\n",
       "      <td>1</td>\n",
       "      <td>RPS5</td>\n",
       "      <td>6730.893120</td>\n",
       "      <td>1669.445071</td>\n",
       "    </tr>\n",
       "    <tr>\n",
       "      <th>28065</th>\n",
       "      <td>1</td>\n",
       "      <td>RPS6</td>\n",
       "      <td>22593.965400</td>\n",
       "      <td>3661.729900</td>\n",
       "    </tr>\n",
       "    <tr>\n",
       "      <th>28085</th>\n",
       "      <td>1</td>\n",
       "      <td>RPS7</td>\n",
       "      <td>7947.659270</td>\n",
       "      <td>1815.812690</td>\n",
       "    </tr>\n",
       "    <tr>\n",
       "      <th>28101</th>\n",
       "      <td>1</td>\n",
       "      <td>RPS8</td>\n",
       "      <td>12190.089700</td>\n",
       "      <td>2473.023390</td>\n",
       "    </tr>\n",
       "    <tr>\n",
       "      <th>28104</th>\n",
       "      <td>1</td>\n",
       "      <td>RPS9</td>\n",
       "      <td>9293.676760</td>\n",
       "      <td>2849.238677</td>\n",
       "    </tr>\n",
       "    <tr>\n",
       "      <th>28106</th>\n",
       "      <td>1</td>\n",
       "      <td>RPSA</td>\n",
       "      <td>11793.304440</td>\n",
       "      <td>1793.672211</td>\n",
       "    </tr>\n",
       "    <tr>\n",
       "      <th>28377</th>\n",
       "      <td>1</td>\n",
       "      <td>SAT1</td>\n",
       "      <td>5868.998470</td>\n",
       "      <td>1149.498770</td>\n",
       "    </tr>\n",
       "    <tr>\n",
       "      <th>28778</th>\n",
       "      <td>1</td>\n",
       "      <td>SF1</td>\n",
       "      <td>8034.006382</td>\n",
       "      <td>1079.441920</td>\n",
       "    </tr>\n",
       "    <tr>\n",
       "      <th>28794</th>\n",
       "      <td>1</td>\n",
       "      <td>SFPQ</td>\n",
       "      <td>10769.976570</td>\n",
       "      <td>1024.093010</td>\n",
       "    </tr>\n",
       "    <tr>\n",
       "      <th>31664</th>\n",
       "      <td>1</td>\n",
       "      <td>TMSB4X</td>\n",
       "      <td>7368.981850</td>\n",
       "      <td>2455.728600</td>\n",
       "    </tr>\n",
       "    <tr>\n",
       "      <th>31901</th>\n",
       "      <td>1</td>\n",
       "      <td>TPT1</td>\n",
       "      <td>34627.007420</td>\n",
       "      <td>6930.825290</td>\n",
       "    </tr>\n",
       "    <tr>\n",
       "      <th>32405</th>\n",
       "      <td>1</td>\n",
       "      <td>TSC22D3</td>\n",
       "      <td>22708.984600</td>\n",
       "      <td>2270.715565</td>\n",
       "    </tr>\n",
       "    <tr>\n",
       "      <th>32738</th>\n",
       "      <td>1</td>\n",
       "      <td>UBA52</td>\n",
       "      <td>5844.918800</td>\n",
       "      <td>1827.606511</td>\n",
       "    </tr>\n",
       "    <tr>\n",
       "      <th>32763</th>\n",
       "      <td>1</td>\n",
       "      <td>UBC</td>\n",
       "      <td>33889.980650</td>\n",
       "      <td>2174.109638</td>\n",
       "    </tr>\n",
       "  </tbody>\n",
       "</table>\n",
       "<p>140 rows × 4 columns</p>\n",
       "</div>"
      ],
      "text/plain": [
       "       sample_id     gene_name     est_counts           tpm\n",
       "652            1    AC010970.2   57739.000000   4941.560000\n",
       "3263           1           B2M   21168.996440   5608.715540\n",
       "4933           1          CD37    6330.585960   1026.220960\n",
       "4961           1          CD74   30023.531000   3931.504500\n",
       "6902           1  CTD-2328D6.1   57188.000000  34001.600000\n",
       "7623           1          DDX5   17003.512046   1783.898592\n",
       "8395           1        EEF1A1  168208.951750  13238.381360\n",
       "8436           1        EEF1B2    5446.606590   1159.599120\n",
       "8445           1         EEF1D    5850.008080   1029.788427\n",
       "8457           1         EEF1G   20726.848300   2088.411560\n",
       "8466           1          EEF2   31985.983400   1556.558220\n",
       "8543           1          EIF1   13079.589000   1829.736300\n",
       "9054           1           EZR   36651.886500   1758.677160\n",
       "9556           1           FAU    5861.952360   1754.895720\n",
       "9881           1         FMNL1   14833.331600   1146.662600\n",
       "10057          1          FTH1   17683.815230   3903.881160\n",
       "10084          1           FTL    6167.000000   1182.820000\n",
       "10683          1          GNAS    8991.302310   1197.198701\n",
       "10691          1        GNB2L1   10356.648300   2245.423120\n",
       "11008          1         GRASP    5157.999100   1011.433530\n",
       "11332          1         H3F3B   26390.215500   3305.720173\n",
       "11690          1         HLA-A   27852.849828   2483.752827\n",
       "11691          1         HLA-B   42349.049250   5235.797093\n",
       "11692          1         HLA-C   16135.706322   2188.364803\n",
       "11700          1      HLA-DPB1    8894.806298   1115.904287\n",
       "11707          1       HLA-DRA   16067.992170   2178.187941\n",
       "11708          1      HLA-DRB1   12135.462647   1630.870927\n",
       "11927          1       HNRNPA1   12914.455800   1976.878530\n",
       "12048          1       HNRNPH1   21390.812430   2917.000094\n",
       "12748          1          IGKC    3097.036000   1018.604800\n",
       "...          ...           ...            ...           ...\n",
       "27859          1         RPS18   23469.318340   8385.919590\n",
       "27865          1         RPS19    8965.017120   3662.462560\n",
       "27870          1          RPS2   15140.386950   2407.534720\n",
       "27871          1         RPS20   13924.732630   5084.990240\n",
       "27889          1         RPS21    4359.996510   3949.794440\n",
       "27893          1         RPS23   12053.462420   6184.840242\n",
       "27904          1         RPS24    5306.468540   2762.197220\n",
       "27915          1         RPS25   10330.001848   2475.248940\n",
       "27939          1         RPS27   19865.845500  17164.056700\n",
       "27940          1        RPS27A   10442.935860   3105.472370\n",
       "27960          1         RPS28    4703.196000   1017.601880\n",
       "27962          1       RPS28P7     540.770000   1299.970000\n",
       "27964          1         RPS29    7710.979282   9057.375826\n",
       "27994          1          RPS3   14324.715120   3773.344150\n",
       "27995          1         RPS3A   17701.268850   3707.032800\n",
       "28035          1         RPS4X    9083.996680   1845.266312\n",
       "28061          1          RPS5    6730.893120   1669.445071\n",
       "28065          1          RPS6   22593.965400   3661.729900\n",
       "28085          1          RPS7    7947.659270   1815.812690\n",
       "28101          1          RPS8   12190.089700   2473.023390\n",
       "28104          1          RPS9    9293.676760   2849.238677\n",
       "28106          1          RPSA   11793.304440   1793.672211\n",
       "28377          1          SAT1    5868.998470   1149.498770\n",
       "28778          1           SF1    8034.006382   1079.441920\n",
       "28794          1          SFPQ   10769.976570   1024.093010\n",
       "31664          1        TMSB4X    7368.981850   2455.728600\n",
       "31901          1          TPT1   34627.007420   6930.825290\n",
       "32405          1       TSC22D3   22708.984600   2270.715565\n",
       "32738          1         UBA52    5844.918800   1827.606511\n",
       "32763          1           UBC   33889.980650   2174.109638\n",
       "\n",
       "[140 rows x 4 columns]"
      ]
     },
     "execution_count": 10,
     "metadata": {},
     "output_type": "execute_result"
    }
   ],
   "source": [
    "# get outliers (http://stackoverflow.com/a/31502974/130164)\n",
    "df[((df.tpm - df.tpm.mean()) / df.tpm.std()).abs() > 3]"
   ]
  },
  {
   "cell_type": "code",
   "execution_count": 17,
   "metadata": {
    "collapsed": true
   },
   "outputs": [],
   "source": [
    "df=df[df['tpm']!=0]"
   ]
  },
  {
   "cell_type": "code",
   "execution_count": 69,
   "metadata": {
    "collapsed": false
   },
   "outputs": [],
   "source": [
    "df['logtpm'] = df.tpm.apply(np.log2)\n",
    "df['logcnt'] = df.est_counts.apply(np.log2)"
   ]
  },
  {
   "cell_type": "code",
   "execution_count": 22,
   "metadata": {
    "collapsed": false
   },
   "outputs": [
    {
     "data": {
      "text/plain": [
       "count    20803.000000\n",
       "mean         1.842364\n",
       "std          3.299392\n",
       "min        -26.707316\n",
       "25%         -0.617152\n",
       "50%          1.804184\n",
       "75%          4.267305\n",
       "max         15.053315\n",
       "Name: logtpm, dtype: float64"
      ]
     },
     "execution_count": 22,
     "metadata": {},
     "output_type": "execute_result"
    },
    {
     "data": {
      "image/png": "[encoded data removed]",
      "text/plain": [
       "<matplotlib.figure.Figure at 0x7feac859ce10>"
      ]
     },
     "metadata": {},
     "output_type": "display_data"
    }
   ],
   "source": [
    "df.logtpm.hist()\n",
    "df.logtpm.describe()"
   ]
  },
  {
   "cell_type": "markdown",
   "metadata": {},
   "source": [
    "What we want to do:\n",
    "Treat microarray and rnaseq data as two samples. How much does it look like they're the same phenotype?\n",
    "\n",
    "* Compare diffs\n",
    "* Do hierarchical clustering and see how it looks. Are patterns the same?\n",
    "* Look for differentially expressed genes, see how many are different (shouldn't be many)\n",
    "* Sort by most highly expressed transcripts in each sample. Compare ratio between expression of top two.\n",
    "\n",
    "\n",
    "Apparently running voom transformation on RNAseq data enables treating it like microarray data, i.e. doing linear modeling and GSEA."
   ]
  },
  {
   "cell_type": "code",
   "execution_count": 24,
   "metadata": {
    "collapsed": false
   },
   "outputs": [],
   "source": [
    "# get microarray data\n",
    "ma = pd.read_csv('../all_expressions.tsv', sep='\\t')"
   ]
  },
  {
   "cell_type": "code",
   "execution_count": 25,
   "metadata": {
    "collapsed": true
   },
   "outputs": [],
   "source": [
    "del ma['Unnamed: 0']\n",
    "del ma['ACCNUM']\n",
    "del ma['Relabel']\n",
    "del ma['DESC']"
   ]
  },
  {
   "cell_type": "code",
   "execution_count": 26,
   "metadata": {
    "collapsed": false
   },
   "outputs": [
    {
     "data": {
      "text/html": [
       "<div>\n",
       "<table border=\"1\" class=\"dataframe\">\n",
       "  <thead>\n",
       "    <tr style=\"text-align: right;\">\n",
       "      <th></th>\n",
       "      <th>geneid</th>\n",
       "      <th>probeid</th>\n",
       "      <th>PRB12534.Jurkat</th>\n",
       "      <th>PRB12535.Jurkat</th>\n",
       "      <th>PRB12536.Jurkat</th>\n",
       "      <th>PRB12537.IM.9</th>\n",
       "      <th>PRB12538.IM.9</th>\n",
       "      <th>PRB12539.IM.9</th>\n",
       "      <th>PRB12540.Raji</th>\n",
       "      <th>PRB12541.Raji</th>\n",
       "      <th>...</th>\n",
       "      <th>TEM_U133A_1 [TFH_E-MEXP-750|TEM_U133A_1]</th>\n",
       "      <th>TEM_U133A_2 [TFH_E-MEXP-750|TEM_U133A_2]</th>\n",
       "      <th>TEM_U133A_3 [TFH_E-MEXP-750|TEM_U133A_3]</th>\n",
       "      <th>TN_U133A_1 [TFH_E-MEXP-750|TN_U133A_1]</th>\n",
       "      <th>TN_U133A_2 [TFH_E-MEXP-750|TN_U133A_2]</th>\n",
       "      <th>TN_U133A_3 [TFH_E-MEXP-750|TN_U133A_3]</th>\n",
       "      <th>TH_1 [TREGs_GSE4527|GSM101518]</th>\n",
       "      <th>Treg_1 [TREGs_GSE4527|GSM101519]</th>\n",
       "      <th>TH_2 [TREGs_GSE4527|GSM101520]</th>\n",
       "      <th>Treg_2 [TREGs_GSE4527|GSM101521]</th>\n",
       "    </tr>\n",
       "  </thead>\n",
       "  <tbody>\n",
       "    <tr>\n",
       "      <th>0</th>\n",
       "      <td>RFC2</td>\n",
       "      <td>1053_at</td>\n",
       "      <td>2104.464</td>\n",
       "      <td>1913.695</td>\n",
       "      <td>1974.465</td>\n",
       "      <td>2428.428</td>\n",
       "      <td>2232.343</td>\n",
       "      <td>2470.156</td>\n",
       "      <td>831.009</td>\n",
       "      <td>713.614</td>\n",
       "      <td>...</td>\n",
       "      <td>278.508206</td>\n",
       "      <td>315.680926</td>\n",
       "      <td>325.445350</td>\n",
       "      <td>227.014010</td>\n",
       "      <td>298.255643</td>\n",
       "      <td>246.440867</td>\n",
       "      <td>317.871923</td>\n",
       "      <td>182.444126</td>\n",
       "      <td>481.930051</td>\n",
       "      <td>125.805188</td>\n",
       "    </tr>\n",
       "    <tr>\n",
       "      <th>1</th>\n",
       "      <td>RFC2</td>\n",
       "      <td>203696_s_at</td>\n",
       "      <td>2858.885</td>\n",
       "      <td>3889.223</td>\n",
       "      <td>2887.030</td>\n",
       "      <td>4171.271</td>\n",
       "      <td>4308.615</td>\n",
       "      <td>3523.738</td>\n",
       "      <td>1085.860</td>\n",
       "      <td>1109.435</td>\n",
       "      <td>...</td>\n",
       "      <td>278.508206</td>\n",
       "      <td>315.680926</td>\n",
       "      <td>325.445350</td>\n",
       "      <td>227.014010</td>\n",
       "      <td>298.255643</td>\n",
       "      <td>246.440867</td>\n",
       "      <td>317.871923</td>\n",
       "      <td>182.444126</td>\n",
       "      <td>481.930051</td>\n",
       "      <td>125.805188</td>\n",
       "    </tr>\n",
       "    <tr>\n",
       "      <th>2</th>\n",
       "      <td>HSPA6</td>\n",
       "      <td>117_at</td>\n",
       "      <td>189.528</td>\n",
       "      <td>110.972</td>\n",
       "      <td>160.200</td>\n",
       "      <td>432.932</td>\n",
       "      <td>261.238</td>\n",
       "      <td>280.899</td>\n",
       "      <td>184.187</td>\n",
       "      <td>178.548</td>\n",
       "      <td>...</td>\n",
       "      <td>12.987326</td>\n",
       "      <td>74.128591</td>\n",
       "      <td>141.683528</td>\n",
       "      <td>145.506877</td>\n",
       "      <td>21.656093</td>\n",
       "      <td>77.518896</td>\n",
       "      <td>82.051115</td>\n",
       "      <td>703.693696</td>\n",
       "      <td>194.230338</td>\n",
       "      <td>97.987345</td>\n",
       "    </tr>\n",
       "    <tr>\n",
       "      <th>3</th>\n",
       "      <td>HSPA6</td>\n",
       "      <td>213418_at</td>\n",
       "      <td>76.702</td>\n",
       "      <td>85.718</td>\n",
       "      <td>168.155</td>\n",
       "      <td>706.366</td>\n",
       "      <td>463.835</td>\n",
       "      <td>427.057</td>\n",
       "      <td>27.579</td>\n",
       "      <td>119.920</td>\n",
       "      <td>...</td>\n",
       "      <td>12.987326</td>\n",
       "      <td>74.128591</td>\n",
       "      <td>141.683528</td>\n",
       "      <td>145.506877</td>\n",
       "      <td>21.656093</td>\n",
       "      <td>77.518896</td>\n",
       "      <td>82.051115</td>\n",
       "      <td>703.693696</td>\n",
       "      <td>194.230338</td>\n",
       "      <td>97.987345</td>\n",
       "    </tr>\n",
       "    <tr>\n",
       "      <th>4</th>\n",
       "      <td>PAX8</td>\n",
       "      <td>121_at</td>\n",
       "      <td>1753.889</td>\n",
       "      <td>1291.766</td>\n",
       "      <td>1885.517</td>\n",
       "      <td>1561.437</td>\n",
       "      <td>1534.517</td>\n",
       "      <td>1540.394</td>\n",
       "      <td>1666.894</td>\n",
       "      <td>1625.360</td>\n",
       "      <td>...</td>\n",
       "      <td>26.766424</td>\n",
       "      <td>117.425553</td>\n",
       "      <td>58.012974</td>\n",
       "      <td>31.797787</td>\n",
       "      <td>102.044136</td>\n",
       "      <td>99.058819</td>\n",
       "      <td>147.641189</td>\n",
       "      <td>135.526908</td>\n",
       "      <td>38.741434</td>\n",
       "      <td>157.813189</td>\n",
       "    </tr>\n",
       "  </tbody>\n",
       "</table>\n",
       "<p>5 rows × 389 columns</p>\n",
       "</div>"
      ],
      "text/plain": [
       "  geneid      probeid  PRB12534.Jurkat  PRB12535.Jurkat  PRB12536.Jurkat  \\\n",
       "0   RFC2      1053_at         2104.464         1913.695         1974.465   \n",
       "1   RFC2  203696_s_at         2858.885         3889.223         2887.030   \n",
       "2  HSPA6       117_at          189.528          110.972          160.200   \n",
       "3  HSPA6    213418_at           76.702           85.718          168.155   \n",
       "4   PAX8       121_at         1753.889         1291.766         1885.517   \n",
       "\n",
       "   PRB12537.IM.9  PRB12538.IM.9  PRB12539.IM.9  PRB12540.Raji  PRB12541.Raji  \\\n",
       "0       2428.428       2232.343       2470.156        831.009        713.614   \n",
       "1       4171.271       4308.615       3523.738       1085.860       1109.435   \n",
       "2        432.932        261.238        280.899        184.187        178.548   \n",
       "3        706.366        463.835        427.057         27.579        119.920   \n",
       "4       1561.437       1534.517       1540.394       1666.894       1625.360   \n",
       "\n",
       "                 ...                 TEM_U133A_1 [TFH_E-MEXP-750|TEM_U133A_1]  \\\n",
       "0                ...                                               278.508206   \n",
       "1                ...                                               278.508206   \n",
       "2                ...                                                12.987326   \n",
       "3                ...                                                12.987326   \n",
       "4                ...                                                26.766424   \n",
       "\n",
       "   TEM_U133A_2 [TFH_E-MEXP-750|TEM_U133A_2]  \\\n",
       "0                                315.680926   \n",
       "1                                315.680926   \n",
       "2                                 74.128591   \n",
       "3                                 74.128591   \n",
       "4                                117.425553   \n",
       "\n",
       "   TEM_U133A_3 [TFH_E-MEXP-750|TEM_U133A_3]  \\\n",
       "0                                325.445350   \n",
       "1                                325.445350   \n",
       "2                                141.683528   \n",
       "3                                141.683528   \n",
       "4                                 58.012974   \n",
       "\n",
       "   TN_U133A_1 [TFH_E-MEXP-750|TN_U133A_1]  \\\n",
       "0                              227.014010   \n",
       "1                              227.014010   \n",
       "2                              145.506877   \n",
       "3                              145.506877   \n",
       "4                               31.797787   \n",
       "\n",
       "   TN_U133A_2 [TFH_E-MEXP-750|TN_U133A_2]  \\\n",
       "0                              298.255643   \n",
       "1                              298.255643   \n",
       "2                               21.656093   \n",
       "3                               21.656093   \n",
       "4                              102.044136   \n",
       "\n",
       "   TN_U133A_3 [TFH_E-MEXP-750|TN_U133A_3]  TH_1 [TREGs_GSE4527|GSM101518]  \\\n",
       "0                              246.440867                      317.871923   \n",
       "1                              246.440867                      317.871923   \n",
       "2                               77.518896                       82.051115   \n",
       "3                               77.518896                       82.051115   \n",
       "4                               99.058819                      147.641189   \n",
       "\n",
       "   Treg_1 [TREGs_GSE4527|GSM101519]  TH_2 [TREGs_GSE4527|GSM101520]  \\\n",
       "0                        182.444126                      481.930051   \n",
       "1                        182.444126                      481.930051   \n",
       "2                        703.693696                      194.230338   \n",
       "3                        703.693696                      194.230338   \n",
       "4                        135.526908                       38.741434   \n",
       "\n",
       "   Treg_2 [TREGs_GSE4527|GSM101521]  \n",
       "0                        125.805188  \n",
       "1                        125.805188  \n",
       "2                         97.987345  \n",
       "3                         97.987345  \n",
       "4                        157.813189  \n",
       "\n",
       "[5 rows x 389 columns]"
      ]
     },
     "execution_count": 26,
     "metadata": {},
     "output_type": "execute_result"
    }
   ],
   "source": [
    "ma.head()"
   ]
  },
  {
   "cell_type": "code",
   "execution_count": 32,
   "metadata": {
    "collapsed": false
   },
   "outputs": [
    {
     "name": "stdout",
     "output_type": "stream",
     "text": [
      "Bcell-naive-1 [HG-U133A] [IRIS_GSE22886|GSM565308]\n",
      "Bcell-naive-2 [HG-U133A] [IRIS_GSE22886|GSM565309]\n",
      "Bcell-naive-3 [HG-U133A] [IRIS_GSE22886|GSM565310]\n",
      "Bcell-naive-4 [HG-U133A] [IRIS_GSE22886|GSM565311]\n",
      "Bcell-naive-5 [HG-U133A] [IRIS_GSE22886|GSM565312]\n",
      "Bcell-naive-6 [HG-U133A] [IRIS_GSE22886|GSM565313]\n",
      "Bcell-naive-7 [HG-U133A] [IRIS_GSE22886|GSM565314]\n"
     ]
    }
   ],
   "source": [
    "for c in ma.columns:\n",
    "    if 'naive' in c.lower():\n",
    "        print c"
   ]
  },
  {
   "cell_type": "code",
   "execution_count": 34,
   "metadata": {
    "collapsed": false
   },
   "outputs": [],
   "source": [
    "ma = ma.set_index('geneid')['Bcell-naive-1 [HG-U133A] [IRIS_GSE22886|GSM565308]']"
   ]
  },
  {
   "cell_type": "code",
   "execution_count": 35,
   "metadata": {
    "collapsed": false
   },
   "outputs": [
    {
     "data": {
      "text/plain": [
       "geneid\n",
       "RFC2     178.716943\n",
       "RFC2     178.716943\n",
       "HSPA6     56.191778\n",
       "HSPA6     56.191778\n",
       "PAX8     339.781267\n",
       "Name: Bcell-naive-1 [HG-U133A] [IRIS_GSE22886|GSM565308], dtype: float64"
      ]
     },
     "execution_count": 35,
     "metadata": {},
     "output_type": "execute_result"
    }
   ],
   "source": [
    "ma.head()"
   ]
  },
  {
   "cell_type": "code",
   "execution_count": 70,
   "metadata": {
    "collapsed": false
   },
   "outputs": [
    {
     "data": {
      "text/html": [
       "<div>\n",
       "<table border=\"1\" class=\"dataframe\">\n",
       "  <thead>\n",
       "    <tr style=\"text-align: right;\">\n",
       "      <th></th>\n",
       "      <th>logtpm</th>\n",
       "      <th>logcnt</th>\n",
       "    </tr>\n",
       "    <tr>\n",
       "      <th>gene_name</th>\n",
       "      <th></th>\n",
       "      <th></th>\n",
       "    </tr>\n",
       "  </thead>\n",
       "  <tbody>\n",
       "    <tr>\n",
       "      <th>A1BG</th>\n",
       "      <td>3.902906</td>\n",
       "      <td>6.484038</td>\n",
       "    </tr>\n",
       "    <tr>\n",
       "      <th>A1CF</th>\n",
       "      <td>-2.001403</td>\n",
       "      <td>3.814704</td>\n",
       "    </tr>\n",
       "    <tr>\n",
       "      <th>A2ML1</th>\n",
       "      <td>0.274621</td>\n",
       "      <td>4.047058</td>\n",
       "    </tr>\n",
       "    <tr>\n",
       "      <th>A2MP1</th>\n",
       "      <td>-3.706022</td>\n",
       "      <td>1.000000</td>\n",
       "    </tr>\n",
       "    <tr>\n",
       "      <th>A3GALT2</th>\n",
       "      <td>-1.286677</td>\n",
       "      <td>1.584963</td>\n",
       "    </tr>\n",
       "  </tbody>\n",
       "</table>\n",
       "</div>"
      ],
      "text/plain": [
       "             logtpm    logcnt\n",
       "gene_name                    \n",
       "A1BG       3.902906  6.484038\n",
       "A1CF      -2.001403  3.814704\n",
       "A2ML1      0.274621  4.047058\n",
       "A2MP1     -3.706022  1.000000\n",
       "A3GALT2   -1.286677  1.584963"
      ]
     },
     "execution_count": 70,
     "metadata": {},
     "output_type": "execute_result"
    }
   ],
   "source": [
    "rna = df.set_index('gene_name')[['logtpm', 'logcnt']]\n",
    "rna.head()"
   ]
  },
  {
   "cell_type": "code",
   "execution_count": 71,
   "metadata": {
    "collapsed": false
   },
   "outputs": [
    {
     "data": {
      "text/plain": [
       "(Index([u'A1CF', u'A2M', u'A4GALT', u'A4GNT', u'AAAS', u'AACS', u'AADAC',\n",
       "        u'AAGAB', u'AAK1', u'AAMP',\n",
       "        ...\n",
       "        u'ZSCAN2', u'ZSCAN5A', u'ZW10', u'ZWILCH', u'ZWINT', u'ZXDB', u'ZXDC',\n",
       "        u'ZYX', u'ZZEF1', u'ZZZ3'],\n",
       "       dtype='object', name=u'geneid', length=10977),\n",
       " Index([u'A1BG', u'A1CF', u'A2ML1', u'A2MP1', u'A3GALT2', u'A4GALT', u'AAAS',\n",
       "        u'AACS', u'AACSP1', u'AADACL3',\n",
       "        ...\n",
       "        u'ZYX', u'ZZEF1', u'ZZZ3', u'bP-21201H5.1', u'bP-21264C1.1',\n",
       "        u'bP-2171C21.5', u'bP-2189O9.1', u'bP-2189O9.2', u'bP-2189O9.4', u'pk'],\n",
       "       dtype='object', name=u'gene_name', length=20803))"
      ]
     },
     "execution_count": 71,
     "metadata": {},
     "output_type": "execute_result"
    }
   ],
   "source": [
    "ma.index, rna.index"
   ]
  },
  {
   "cell_type": "code",
   "execution_count": 72,
   "metadata": {
    "collapsed": false
   },
   "outputs": [],
   "source": [
    "assert len(rna.index) == len(rna.index.unique())"
   ]
  },
  {
   "cell_type": "code",
   "execution_count": 73,
   "metadata": {
    "collapsed": false
   },
   "outputs": [],
   "source": [
    "ma = ma.reset_index().groupby(\"geneid\").agg('mean')"
   ]
  },
  {
   "cell_type": "code",
   "execution_count": 74,
   "metadata": {
    "collapsed": false
   },
   "outputs": [],
   "source": [
    "\n",
    "assert len(ma.index) == len(ma.index.unique())"
   ]
  },
  {
   "cell_type": "code",
   "execution_count": 75,
   "metadata": {
    "collapsed": false
   },
   "outputs": [
    {
     "name": "stdout",
     "output_type": "stream",
     "text": [
      "compare microarray (left), rna (right) gene names\n",
      "uniques:\n",
      "intersect:  9815\n",
      "in left ONLY : not in right: 1162\n",
      "in right ONLY : not in left: 10988\n"
     ]
    }
   ],
   "source": [
    "def compare_two_lists(a,b):\n",
    "    x,y = set(a), set(b)\n",
    "    print 'uniques:'\n",
    "    print 'intersect: ', len(x&y)\n",
    "    print 'in left ONLY : not in right:', len(x-y)\n",
    "    print 'in right ONLY : not in left:', len(y-x)\n",
    "print 'compare microarray (left), rna (right) gene names'\n",
    "compare_two_lists(ma.index, rna.index)"
   ]
  },
  {
   "cell_type": "markdown",
   "metadata": {},
   "source": [
    "Why are there so many new genes in RNA?"
   ]
  },
  {
   "cell_type": "code",
   "execution_count": 81,
   "metadata": {
    "collapsed": false
   },
   "outputs": [],
   "source": [
    "intersect= pd.merge(pd.DataFrame(ma), rna, left_index=True,right_index=True, how='inner')\n",
    "assert intersect.shape[0] == len(set(ma.index) & set(rna.index))\n",
    "intersect.columns = ['ma'] + list(intersect.columns[1:])"
   ]
  },
  {
   "cell_type": "code",
   "execution_count": 82,
   "metadata": {
    "collapsed": true
   },
   "outputs": [],
   "source": [
    "intersect['ma'] = intersect.ma.apply(np.log2)"
   ]
  },
  {
   "cell_type": "code",
   "execution_count": 83,
   "metadata": {
    "collapsed": false
   },
   "outputs": [
    {
     "data": {
      "text/html": [
       "<div>\n",
       "<table border=\"1\" class=\"dataframe\">\n",
       "  <thead>\n",
       "    <tr style=\"text-align: right;\">\n",
       "      <th></th>\n",
       "      <th>ma</th>\n",
       "      <th>logtpm</th>\n",
       "      <th>logcnt</th>\n",
       "    </tr>\n",
       "  </thead>\n",
       "  <tbody>\n",
       "    <tr>\n",
       "      <th>A1CF</th>\n",
       "      <td>9.210048</td>\n",
       "      <td>-2.001403</td>\n",
       "      <td>3.814704</td>\n",
       "    </tr>\n",
       "    <tr>\n",
       "      <th>A4GALT</th>\n",
       "      <td>6.354458</td>\n",
       "      <td>-0.534494</td>\n",
       "      <td>2.321928</td>\n",
       "    </tr>\n",
       "    <tr>\n",
       "      <th>AAAS</th>\n",
       "      <td>5.304803</td>\n",
       "      <td>2.315618</td>\n",
       "      <td>5.087464</td>\n",
       "    </tr>\n",
       "    <tr>\n",
       "      <th>AACS</th>\n",
       "      <td>9.272002</td>\n",
       "      <td>4.399062</td>\n",
       "      <td>7.342010</td>\n",
       "    </tr>\n",
       "    <tr>\n",
       "      <th>AAGAB</th>\n",
       "      <td>6.413183</td>\n",
       "      <td>5.132148</td>\n",
       "      <td>8.861085</td>\n",
       "    </tr>\n",
       "  </tbody>\n",
       "</table>\n",
       "</div>"
      ],
      "text/plain": [
       "              ma    logtpm    logcnt\n",
       "A1CF    9.210048 -2.001403  3.814704\n",
       "A4GALT  6.354458 -0.534494  2.321928\n",
       "AAAS    5.304803  2.315618  5.087464\n",
       "AACS    9.272002  4.399062  7.342010\n",
       "AAGAB   6.413183  5.132148  8.861085"
      ]
     },
     "execution_count": 83,
     "metadata": {},
     "output_type": "execute_result"
    }
   ],
   "source": [
    "intersect.head()"
   ]
  },
  {
   "cell_type": "code",
   "execution_count": 84,
   "metadata": {
    "collapsed": false,
    "scrolled": true
   },
   "outputs": [
    {
     "data": {
      "text/html": [
       "<div>\n",
       "<table border=\"1\" class=\"dataframe\">\n",
       "  <thead>\n",
       "    <tr style=\"text-align: right;\">\n",
       "      <th></th>\n",
       "      <th>ma</th>\n",
       "      <th>logtpm</th>\n",
       "      <th>logcnt</th>\n",
       "    </tr>\n",
       "  </thead>\n",
       "  <tbody>\n",
       "    <tr>\n",
       "      <th>count</th>\n",
       "      <td>9815.000000</td>\n",
       "      <td>9815.000000</td>\n",
       "      <td>9815.000000</td>\n",
       "    </tr>\n",
       "    <tr>\n",
       "      <th>mean</th>\n",
       "      <td>8.317130</td>\n",
       "      <td>2.796491</td>\n",
       "      <td>6.392952</td>\n",
       "    </tr>\n",
       "    <tr>\n",
       "      <th>std</th>\n",
       "      <td>1.786400</td>\n",
       "      <td>3.224489</td>\n",
       "      <td>3.211388</td>\n",
       "    </tr>\n",
       "    <tr>\n",
       "      <th>min</th>\n",
       "      <td>0.389095</td>\n",
       "      <td>-22.191617</td>\n",
       "      <td>-20.035438</td>\n",
       "    </tr>\n",
       "    <tr>\n",
       "      <th>25%</th>\n",
       "      <td>7.246970</td>\n",
       "      <td>0.509596</td>\n",
       "      <td>4.002512</td>\n",
       "    </tr>\n",
       "    <tr>\n",
       "      <th>50%</th>\n",
       "      <td>8.658692</td>\n",
       "      <td>3.201146</td>\n",
       "      <td>6.732228</td>\n",
       "    </tr>\n",
       "    <tr>\n",
       "      <th>75%</th>\n",
       "      <td>9.516601</td>\n",
       "      <td>5.224166</td>\n",
       "      <td>8.861085</td>\n",
       "    </tr>\n",
       "    <tr>\n",
       "      <th>max</th>\n",
       "      <td>15.892516</td>\n",
       "      <td>12.902617</td>\n",
       "      <td>15.370042</td>\n",
       "    </tr>\n",
       "  </tbody>\n",
       "</table>\n",
       "</div>"
      ],
      "text/plain": [
       "                ma       logtpm       logcnt\n",
       "count  9815.000000  9815.000000  9815.000000\n",
       "mean      8.317130     2.796491     6.392952\n",
       "std       1.786400     3.224489     3.211388\n",
       "min       0.389095   -22.191617   -20.035438\n",
       "25%       7.246970     0.509596     4.002512\n",
       "50%       8.658692     3.201146     6.732228\n",
       "75%       9.516601     5.224166     8.861085\n",
       "max      15.892516    12.902617    15.370042"
      ]
     },
     "execution_count": 84,
     "metadata": {},
     "output_type": "execute_result"
    }
   ],
   "source": [
    "intersect.describe()"
   ]
  },
  {
   "cell_type": "code",
   "execution_count": 86,
   "metadata": {
    "collapsed": false
   },
   "outputs": [
    {
     "data": {
      "text/plain": [
       "<matplotlib.axes._subplots.AxesSubplot at 0x7feac82e1e50>"
      ]
     },
     "execution_count": 86,
     "metadata": {},
     "output_type": "execute_result"
    },
    {
     "data": {
      "image/png": "[encoded data removed]",
      "text/plain": [
       "<matplotlib.figure.Figure at 0x7feac8070590>"
      ]
     },
     "metadata": {},
     "output_type": "display_data"
    }
   ],
   "source": [
    "(intersect.ma - intersect.logtpm).hist()"
   ]
  },
  {
   "cell_type": "code",
   "execution_count": 87,
   "metadata": {
    "collapsed": false
   },
   "outputs": [
    {
     "data": {
      "text/plain": [
       "<matplotlib.axes._subplots.AxesSubplot at 0x7feac36bd610>"
      ]
     },
     "execution_count": 87,
     "metadata": {},
     "output_type": "execute_result"
    },
    {
     "data": {
      "image/png": "[encoded data removed]",
      "text/plain": [
       "<matplotlib.figure.Figure at 0x7feac37bdb50>"
      ]
     },
     "metadata": {},
     "output_type": "display_data"
    }
   ],
   "source": [
    "(intersect.ma - intersect.logtpm).abs().hist()"
   ]
  },
  {
   "cell_type": "code",
   "execution_count": 88,
   "metadata": {
    "collapsed": false
   },
   "outputs": [
    {
     "data": {
      "text/plain": [
       "<matplotlib.axes._subplots.AxesSubplot at 0x7feac3659a90>"
      ]
     },
     "execution_count": 88,
     "metadata": {},
     "output_type": "execute_result"
    },
    {
     "data": {
      "image/png": "[encoded data removed]",
      "text/plain": [
       "<matplotlib.figure.Figure at 0x7feac358a310>"
      ]
     },
     "metadata": {},
     "output_type": "display_data"
    }
   ],
   "source": [
    "(intersect.ma - intersect.logcnt).hist()"
   ]
  },
  {
   "cell_type": "code",
   "execution_count": 89,
   "metadata": {
    "collapsed": false
   },
   "outputs": [
    {
     "data": {
      "text/plain": [
       "<matplotlib.axes._subplots.AxesSubplot at 0x7feac3550210>"
      ]
     },
     "execution_count": 89,
     "metadata": {},
     "output_type": "execute_result"
    },
    {
     "data": {
      "image/png": "[encoded data removed]",
      "text/plain": [
       "<matplotlib.figure.Figure at 0x7feac34e4350>"
      ]
     },
     "metadata": {},
     "output_type": "display_data"
    }
   ],
   "source": [
    "(intersect.ma - intersect.logcnt).abs().hist()"
   ]
  },
  {
   "cell_type": "code",
   "execution_count": null,
   "metadata": {
    "collapsed": true
   },
   "outputs": [],
   "source": []
  }
 ],
 "metadata": {
  "kernelspec": {
   "display_name": "Python 2",
   "language": "python",
   "name": "python2"
  },
  "language_info": {
   "codemirror_mode": {
    "name": "ipython",
    "version": 2
   },
   "file_extension": ".py",
   "mimetype": "text/x-python",
   "name": "python",
   "nbconvert_exporter": "python",
   "pygments_lexer": "ipython2",
   "version": "2.7.11"
  }
 },
 "nbformat": 4,
 "nbformat_minor": 0
}
